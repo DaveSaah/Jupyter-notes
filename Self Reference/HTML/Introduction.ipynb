{
 "cells": [
  {
   "cell_type": "markdown",
   "id": "surgical-senate",
   "metadata": {},
   "source": [
    "## HyperText Markup Language - HTML\n",
    "- HTML works by surrounding text and graphics content appearing on the page with special codes instructing the browser on how to arrange and display this content.\n",
    "- Markup codes, also called html tags or elements, are always enclosed inside \"<\" and \">\" symbols to set them apart from the text content to which they apply.\n",
    "- Normally, an \"opening\" tag indicates the beginning form of formatting( e.g. ```<h2>```) an a separate \"closing\" tag indicates the ending point of formatting (e.g. ```</h2>```) <br/><br/>\n",
    "<bold style=\"align:center; text-decoration:underline;\">Classes Of HTML Tags</bold>\n",
    "1. __Document layout tags:__ These tags are used to structure the html document. They organize the information content on a page so that text and graphical elements appear where you want them to appear. e.g. ```<p> <div> <span>```)\n",
    "2. __Text formatting tags:__ These tags are used to apply font faces, styles and sizes and colors to text appearing on the page. e.g. ```<font> <bold> <center>```)\n",
    "3. __List formatting tags:__ They are used to organize text information into lists. These include bulleted lists, numbers and others. e.g. ```<ol> <ul> <li>```)\n",
    "4. __Linking tags:__ They set up linkages between pages or different sections of the same page. e.g. ```<a>```)\n",
    "5. __Table tags:__ They organize data in a tabular form, into rows and columns, for better presentation, readability and understanding.\n",
    "6. __Form tags:__ They are used to collect information from visitors inoder to capture data for processing or to solicit user preferences about displays.\n",
    "7. __Multimedia tags:__ They are used to link audio, videos, images and other media content on a webpage."
   ]
  }
 ],
 "metadata": {
  "kernelspec": {
   "display_name": "Python 3",
   "language": "python",
   "name": "python3"
  },
  "language_info": {
   "codemirror_mode": {
    "name": "ipython",
    "version": 3
   },
   "file_extension": ".py",
   "mimetype": "text/x-python",
   "name": "python",
   "nbconvert_exporter": "python",
   "pygments_lexer": "ipython3",
   "version": "3.8.5"
  }
 },
 "nbformat": 4,
 "nbformat_minor": 5
}
