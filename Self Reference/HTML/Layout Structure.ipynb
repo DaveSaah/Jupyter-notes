{
 "cells": [
  {
   "cell_type": "markdown",
   "id": "thousand-thinking",
   "metadata": {},
   "source": [
    "```html\n",
    "<!DOCTYPE html>\n",
    "<html lang=\"en\">\n",
    "    <head>\n",
    "        <title><!-- Page Title --></title>\n",
    "        <meta charset=\"utf-8\">\n",
    "        <meta name=\"viewport\" content=\"width=device-width, initial-scale=1, shrink-to-fit=no\">\n",
    "        <meta name=\"description\" content=\"{{description}}\">\n",
    "        <!-- JavaScript and CSS files can be linked here -->\n",
    "    </head>\n",
    "    <body>\n",
    "        <!-- Page Content-->\n",
    "    </body>\n",
    "</html>\n",
    "```"
   ]
  }
 ],
 "metadata": {
  "kernelspec": {
   "display_name": "Python 3",
   "language": "python",
   "name": "python3"
  },
  "language_info": {
   "codemirror_mode": {
    "name": "ipython",
    "version": 3
   },
   "file_extension": ".py",
   "mimetype": "text/x-python",
   "name": "python",
   "nbconvert_exporter": "python",
   "pygments_lexer": "ipython3",
   "version": "3.8.5"
  }
 },
 "nbformat": 4,
 "nbformat_minor": 5
}
