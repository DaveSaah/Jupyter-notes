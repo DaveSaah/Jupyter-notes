{
 "cells": [
  {
   "cell_type": "markdown",
   "id": "perceived-remains",
   "metadata": {},
   "source": [
    "```html\n",
    "<!-- basic mailto -->\n",
    "<a href=\"mailto:sales@gmail.com\">Contact sales</a>\n",
    "<!-- add name, notice email is wrapped with &lt; and &gt; -->\n",
    "<a href=\"mailto:Joe&lt;sales@gmail.com&gt;\">Contact Joe in sales</a>\n",
    "\n",
    "```"
   ]
  }
 ],
 "metadata": {
  "kernelspec": {
   "display_name": "Python 3",
   "language": "python",
   "name": "python3"
  },
  "language_info": {
   "codemirror_mode": {
    "name": "ipython",
    "version": 3
   },
   "file_extension": ".py",
   "mimetype": "text/x-python",
   "name": "python",
   "nbconvert_exporter": "python",
   "pygments_lexer": "ipython3",
   "version": "3.8.5"
  }
 },
 "nbformat": 4,
 "nbformat_minor": 5
}
