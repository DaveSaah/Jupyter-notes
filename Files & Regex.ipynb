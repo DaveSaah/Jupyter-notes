{
 "cells": [
  {
   "cell_type": "markdown",
   "metadata": {},
   "source": [
    "# File operations"
   ]
  },
  {
   "cell_type": "code",
   "execution_count": 16,
   "metadata": {},
   "outputs": [],
   "source": [
    "#Searching through a file\n",
    "\n",
    "fhand = open('Test-Copy1.txt')\n",
    "count = 0\n",
    "for line in fhand:\n",
    "    if line.startswith('From:'):\n",
    "        print(line)"
   ]
  },
  {
   "cell_type": "markdown",
   "metadata": {},
   "source": [
    "We can use the find string method to simulate a text editor search that finds lines where the search string is anywhere in the line. Since find looks for an occurrence of a string within another string and either returns the position of the string or -1 if the string was not found. E.g.<br/>\n",
    "```python\n",
    "fhand = open('mbox-short.txt')\n",
    "for line in fhand:\n",
    "    line = line.rstrip()\n",
    "    if line.find('@uct.ac.za') == -1: continue\n",
    "    print(line)\n",
    "```"
   ]
  },
  {
   "cell_type": "code",
   "execution_count": 6,
   "metadata": {},
   "outputs": [
    {
     "name": "stdout",
     "output_type": "stream",
     "text": [
      "\n",
      "\n",
      "\n",
      "\n",
      "\n",
      "\n",
      "            November 17, 2020   12:14:31\n",
      "\n",
      "\n",
      "                SUMMARY                 \n",
      "________________________________________\n",
      "Items     Price       Quantity    Amount\n",
      "________________________________________\n",
      "coke      1.0               89      89.0\n",
      "fanta     3.0               32      96.0\n",
      "sprite    4.0               87     348.0\n",
      "________________________________________\n",
      "                  Total Amount     896.0\n",
      "________________________________________\n",
      "\n",
      "Paid: 1000.0\n",
      "Balance: 104.0\n",
      "\n"
     ]
    }
   ],
   "source": [
    "with open('Test-Copy1.txt') as f:\n",
    "    print(f.read())"
   ]
  },
  {
   "cell_type": "code",
   "execution_count": 17,
   "metadata": {},
   "outputs": [
    {
     "name": "stdout",
     "output_type": "stream",
     "text": [
      "fanta     3.0               32      96.0\n"
     ]
    }
   ],
   "source": [
    "import re\n",
    "\n",
    "hand = open('Test-Copy1.txt')\n",
    "for line in hand:\n",
    "    line = line.rstrip()\n",
    "    if re.search('fanta', line):\n",
    "        print(line)"
   ]
  },
  {
   "cell_type": "markdown",
   "metadata": {},
   "source": [
    "# Regular Expressions"
   ]
  },
  {
   "cell_type": "markdown",
   "metadata": {},
   "source": [
    "The regular expression library **re** must be imported into your program before you can use it. The simplest use of the regular expression library is the **search()** function. The following program demonstrates a trivial use of the search function.\n",
    "```python\n",
    "# Search for lines that contain 'From'\n",
    "import re\n",
    "hand = open('mbox-short.txt')\n",
    "for line in hand:\n",
    "    line = line.rstrip()\n",
    "    if re.search('From:', line):\n",
    "        print(line)\n",
    "```"
   ]
  },
  {
   "cell_type": "markdown",
   "metadata": {},
   "source": [
    "### Character Matching"
   ]
  },
  {
   "cell_type": "markdown",
   "metadata": {},
   "source": [
    "In the following example, the regular expression F..m: would match any of the strings “From:”, “Fxxm:”, “F12m:”, or “F!@m:” since the period characters in the regular expression match any character.\n",
    "\n",
    "```python\n",
    "# Search for lines that start with 'F', followed by any 2 characters, followed by 'm:'\n",
    "import re\n",
    "hand = open('mbox-short.txt')\n",
    "for line in hand:\n",
    "    line = line.rstrip()\n",
    "    if re.search('^F..m:', line):\n",
    "        print(line)\n",
    "```\n",
    "\n"
   ]
  },
  {
   "cell_type": "markdown",
   "metadata": {},
   "source": [
    "```python\n",
    "# Search for lines that start with From and have an at sign\n",
    "import re\n",
    "hand = open('mbox-short.txt')\n",
    "for line in hand:\n",
    "    line = line.rstrip()\n",
    "    if re.search('^From:.+@', line):\n",
    "        print(line)\n",
    "```\n",
    "\n",
    "The search string **^From:.+@** will successfully match lines that start with **“From:”**, followed by one or more characters **(.+)**, followed by an at-sign **(@)**. So this will match the following line:\n",
    "<blockquote>From: stephen.marquard@uct.ac.za\n",
    "</blockquote>\n",
    "You can think of the **.+** wildcard as expanding to match all the characters between the colon character and the at-sign."
   ]
  },
  {
   "cell_type": "markdown",
   "metadata": {},
   "source": [
    "```python\n",
    "import re\n",
    "s = 'A message from csev@umich.edu to cwen@iupui.edu about meeting @2PM'\n",
    "lst = re.findall('\\S+@\\S+', s)\n",
    "print(lst)\n",
    "```\n",
    "\n",
    "The **findall()** method searches the string and returns a list of all of the strings that look like *email addresses*. We are using a two-character sequence that matches a non-whitespace character **(\\S)**.\n",
    "```python\n",
    "Output: ['csev@umich.edu', 'cwen@iupui.edu']\n",
    "```"
   ]
  },
  {
   "cell_type": "markdown",
   "metadata": {},
   "source": [
    "```python\n",
    "# Search for lines that have an at sign between characters\n",
    "import re\n",
    "hand = open('mbox-short.txt')\n",
    "for line in hand:\n",
    "    line = line.rstrip()\n",
    "    x = re.findall('\\S+@\\S+', line)\n",
    "    if len(x) > 0:\n",
    "        print(x)\n",
    "```\n",
    "We read each line and then extract all the substrings that match our regular expression. Since **findall()** returns a list, we simply check if the number of elements in our returned list is more than zero to print only lines where we found at least one substring that looks like an email address.\n",
    "```python\n",
    "output:\n",
    "\n",
    "['wagnermr@iupui.edu']\n",
    "['cwen@iupui.edu']\n",
    "['<postmaster@collab.sakaiproject.org>']\n",
    "['<200801032122.m03LMFo4005148@nakamura.uits.iupui.edu>']\n",
    "['<source@collab.sakaiproject.org>;']\n",
    "['<source@collab.sakaiproject.org>;']\n",
    "['<source@collab.sakaiproject.org>;']\n",
    "['apache@localhost)']\n",
    "['source@collab.sakaiproject.org;']\n",
    "```"
   ]
  },
  {
   "cell_type": "markdown",
   "metadata": {},
   "source": [
    "```python\n",
    "# Search for lines that have an at sign between characters\n",
    "# The characters must be a letter or number\n",
    "import re\n",
    "hand = open('mbox-short.txt')\n",
    "for line in hand:\n",
    "    line = line.rstrip()\n",
    "    x = re.findall('[a-zA-Z0-9]\\S+@\\S+[a-zA-Z]', line)\n",
    "    if len(x) > 0:\n",
    "        print(x)\n",
    "\n",
    "...\n",
    "Output:\n",
    "['wagnermr@iupui.edu']\n",
    "['cwen@iupui.edu']\n",
    "['postmaster@collab.sakaiproject.org']\n",
    "['200801032122.m03LMFo4005148@nakamura.uits.iupui.edu']\n",
    "['source@collab.sakaiproject.org']\n",
    "['source@collab.sakaiproject.org']\n",
    "['source@collab.sakaiproject.org']\n",
    "['apache@localhost']\n",
    "```\n",
    "Notice that on the *source@collab.sakaiproject.org* lines, our regular expression eliminated two letters at the end of the string (“>;”). This is because, we are looking for substrings that start with a single lowercase letter, uppercase letter, or number “**[a-zA-Z0-9]”**, followed by zero or more non-blank characters (**\\S\\***), followed by an at-sign, followed by zero or more non-blank characters (**\\S\\***), followed by an uppercase or lowercase letter. Note that we switched from **+** to **\\*** to indicate zero or more non-blank characters since **[a-zA-Z0-9]** is already one non-blank character. Remember that the * or + applies to the single character immediately to the left of the plus or asterisk."
   ]
  },
  {
   "cell_type": "code",
   "execution_count": null,
   "metadata": {},
   "outputs": [],
   "source": []
  },
  {
   "cell_type": "code",
   "execution_count": null,
   "metadata": {},
   "outputs": [],
   "source": [
    "import re\n",
    "dir()"
   ]
  },
  {
   "cell_type": "markdown",
   "metadata": {},
   "source": [
    "### Python Regular Expression Quick Guide\n",
    "```basic\n",
    "^        Matches the beginning of a line\n",
    "$        Matches the end of the line\n",
    ".        Matches any character\n",
    "\\s       Matches whitespace\n",
    "\\S       Matches any non-whitespace character\n",
    "*        Repeats a character zero or more times\n",
    "*?       Repeats a character zero or more times \n",
    "         (non-greedy)\n",
    "+        Repeats a character one or more times\n",
    "+?       Repeats a character one or more times \n",
    "         (non-greedy)\n",
    "[aeiou]  Matches a single character in the listed set\n",
    "[^XYZ]   Matches a single character not in the listed set\n",
    "[a-z0-9] The set of characters can include a range\n",
    "(        Indicates where string extraction is to start\n",
    ")        Indicates where string extraction is to end\n",
    "```"
   ]
  }
 ],
 "metadata": {
  "kernelspec": {
   "display_name": "Python 3",
   "language": "python",
   "name": "python3"
  },
  "language_info": {
   "codemirror_mode": {
    "name": "ipython",
    "version": 3
   },
   "file_extension": ".py",
   "mimetype": "text/x-python",
   "name": "python",
   "nbconvert_exporter": "python",
   "pygments_lexer": "ipython3",
   "version": "3.8.3"
  }
 },
 "nbformat": 4,
 "nbformat_minor": 4
}
