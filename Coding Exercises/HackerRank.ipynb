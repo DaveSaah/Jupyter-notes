{
 "cells": [
  {
   "cell_type": "markdown",
   "id": "0c901e1a",
   "metadata": {},
   "source": [
    "Given a number n, for each integer i in the range from 1 to n inclusive, print one value per line as follows:\n",
    "\n",
    " \n",
    "\n",
    "If i is a multiple of both 3 and 5, print FizzBuzz.\n",
    "If i is a multiple of 3 (but not 5), print Fizz.\n",
    "If i is a multiple of 5 (but not 3), print Buzz.\n",
    "If i is not a multiple of 3 or 5, print the value of i.\n",
    " \n",
    "\n",
    "Function Description\n",
    "\n",
    "Complete the function fizzBuzz in the editor below.\n",
    "\n",
    " \n",
    "\n",
    "fizzBuzz has the following parameter(s):\n",
    "\n",
    "    int n:  upper limit of values to test (inclusive)\n",
    "\n",
    "Returns:    NONE\n",
    "\n",
    "Prints:\n",
    "\n",
    "    The function must print the appropriate response for each value i in the set {1, 2, ... n} in ascending order, each on a separate line.\n",
    "\n",
    " \n",
    "\n",
    "Constraints\n",
    "\n",
    "0 < n < 2 × 105\n",
    "\n",
    "\n",
    "```\n",
    "Sample Input\n",
    "\n",
    "STDIN    Function\n",
    "-----    --------\n",
    "15    →  n = 15\n",
    " \n",
    "\n",
    "Sample Output\n",
    "\n",
    "1     \n",
    "2\n",
    "Fizz\n",
    "4\n",
    "Buzz\n",
    "Fizz\n",
    "7\n",
    "8\n",
    "Fizz\n",
    "Buzz\n",
    "11\n",
    "Fizz\n",
    "13\n",
    "14\n",
    "FizzBuzz\n",
    "```"
   ]
  },
  {
   "cell_type": "code",
   "execution_count": 7,
   "id": "f142ee43",
   "metadata": {},
   "outputs": [],
   "source": [
    "def fizzbuzz(n):\n",
    "    for i in range(1, n+1):\n",
    "        if i % 3 == 0 and i % 5 == 0:\n",
    "            print('FizzBuzz')\n",
    "        elif i % 3 == 0 and i % 5 != 0:\n",
    "            print('Fizz')\n",
    "        elif i % 3 != 0 and i % 5 == 0:\n",
    "            print('Buzz')\n",
    "        else:\n",
    "            print(i)"
   ]
  },
  {
   "cell_type": "code",
   "execution_count": 8,
   "id": "a4111aeb",
   "metadata": {},
   "outputs": [
    {
     "name": "stdout",
     "output_type": "stream",
     "text": [
      "1\n",
      "2\n",
      "Fizz\n",
      "4\n",
      "Buzz\n",
      "Fizz\n",
      "7\n",
      "8\n",
      "Fizz\n",
      "Buzz\n",
      "11\n",
      "Fizz\n",
      "13\n",
      "14\n",
      "FizzBuzz\n"
     ]
    }
   ],
   "source": [
    "fizzbuzz(15)"
   ]
  },
  {
   "cell_type": "code",
   "execution_count": null,
   "id": "d774e5db",
   "metadata": {},
   "outputs": [],
   "source": []
  },
  {
   "cell_type": "markdown",
   "id": "0f317326",
   "metadata": {},
   "source": [
    "Implement two classes:\n",
    "\n",
    " \n",
    "\n",
    "Rectangle:\n",
    "\n",
    "The constructor for Rectangle must take two arguments that denote the lengths of the rectangle's sides.\n",
    "\n",
    "The class must have an area method that returns the area of the rectangle.\n",
    "\n",
    " \n",
    "\n",
    "Circle:\n",
    "\n",
    "The constructor for Circle must take one argument that denotes the radius of the circle.\n",
    "\n",
    "The Circle class must have an area method that returns the area of the circle. To implement the area method, use a precise Pi value, preferably the constant math.pi.\n",
    "\n",
    " \n",
    "\n",
    "Your implementation of all the classes will be tested by a provided code stub on several input files. Each input file contains several queries, and each query constructs an object of one of the classes and prints the area of this object to the standard output with exactly 2 decimal points.\n",
    "\n",
    " \n",
    "\n",
    "Constraints\n",
    "\n",
    "1 ≤ the number of queries in one test file ≤ 105\n",
    "\n",
    "1 ≤  the value of all parameters passed to construct the objects ≤ 103\n",
    "\n",
    "\n",
    "\n",
    "```\n",
    "Sample Input\n",
    "\n",
    "STDIN             Function\n",
    "-----             --------\n",
    "2              →  number of queries, q = 2\n",
    "circle 1       →  query parameters = [\"circle 1\", \"rectangle 2 3\"]\n",
    "rectangle 2 3\n",
    "Sample Output\n",
    "\n",
    "3.14\n",
    "6.00\n",
    "```"
   ]
  },
  {
   "cell_type": "code",
   "execution_count": 30,
   "id": "5aa6b56f",
   "metadata": {},
   "outputs": [],
   "source": [
    "import math\n",
    "\n",
    "class Rectangle:\n",
    "    def __init__(self, l, w):\n",
    "        self.l = l\n",
    "        self.w = w\n",
    "        \n",
    "    def area(self):\n",
    "        a = self.l * self.w\n",
    "        return round(a,2)\n",
    "\n",
    "\n",
    "class Circle:\n",
    "    def __init__(self, r):\n",
    "        self.r = r\n",
    "        \n",
    "    def area(self):\n",
    "        a = math.pi * self.r ** 2\n",
    "        return round(a,2)\n",
    "    \n"
   ]
  },
  {
   "cell_type": "code",
   "execution_count": 32,
   "id": "ee0e9500",
   "metadata": {},
   "outputs": [
    {
     "name": "stdout",
     "output_type": "stream",
     "text": [
      "3.14\n",
      "6\n"
     ]
    }
   ],
   "source": [
    "b = Circle(1)\n",
    "print(b.area())\n",
    "\n",
    "a = Rectangle(2,3)\n",
    "print(a.area())"
   ]
  },
  {
   "cell_type": "code",
   "execution_count": null,
   "id": "a41ab72f",
   "metadata": {},
   "outputs": [],
   "source": []
  },
  {
   "cell_type": "markdown",
   "id": "0134ddce",
   "metadata": {},
   "source": [
    "There is a sentence that consists of space-separated strings of upper and lower case English letters. Transform each string according to the given algorithm and return the new sentence.\n",
    "\n",
    " \n",
    "\n",
    "Each string should be modified as follows:\n",
    "\n",
    "The first character of the string remains unchanged\n",
    "For each subsequent character, say x, consider a letter preceding it, say y:\n",
    "If y precedes x in the English alphabet, transform x to uppercase\n",
    "If x precedes y in the English alphabet, transform x to lowercase\n",
    "If x and y are equal, the letter remains unchanged\n",
    " \n",
    "\n",
    "Example\n",
    "\n",
    "sentence = \"coOL dog\"\n",
    "\n",
    " \n",
    "\n",
    "The first letters of both words remain unchanged. Then, for the word \"coOL\" the first \"o\" is made uppercase because the letter preceding it, \"c\", comes earlier in the alphabet. Next, the case of the second \"O\" is unchanged because the letter preceding is also \"o\", and finally the \"L\" is made lowercase because the letter preceding it, \"O\", comes later in the alphabet. The second word, \"dOg\", is transformed according to the same rules. Return the resulting sentence 'cOOl dOg'.\n",
    "\n",
    " \n",
    "\n",
    "Function Description \n",
    "\n",
    "Complete the function transformSentence in the editor below. The function must return a string representing the resulting sentence.\n",
    "\n",
    " \n",
    "\n",
    "transformSentence has the following parameter(s):\n",
    "\n",
    "    string sentence: the input sentence\n",
    "\n",
    " \n",
    "\n",
    "Constraints\n",
    "\n",
    "1 ≤  length of sentence  ≤ 100\n",
    "It is guaranteed that the sentence consists of upper and lower case English letters and spaces.\n",
    "Each sentence starts with a letter, ends with a letter, and no two consecutive characters are spaces.\n",
    "\n",
    "\n",
    "```\n",
    "Sample Input 0\n",
    "\n",
    "a Blue MOON\n",
    " \n",
    "\n",
    "Sample Output 0\n",
    "\n",
    "a BLUe MOOn\n",
    "```\n"
   ]
  },
  {
   "cell_type": "code",
   "execution_count": 181,
   "id": "a3209f5a",
   "metadata": {},
   "outputs": [],
   "source": [
    "# def transformSentence(sentence):\n",
    "#     cut = sentence.split()\n",
    "#     num = len(cut)\n",
    "#     full = cut\n",
    "#     ans = ''\n",
    "#     for i in range(1, num):\n",
    "#         for x in cut[i]:\n",
    "#             if x.islower():\n",
    "#                 # 'a' < 'b': no change ? change\n",
    "#                 pass\n",
    "#                 # if ==\n",
    "#             else:\n",
    "#                 # 'A' < 'B': no change ? change\n",
    "#                 pass\n",
    "#                 # if ==\n",
    "#     for x in full:\n",
    "#         ans += x\n",
    "#     return ans"
   ]
  },
  {
   "cell_type": "code",
   "execution_count": 195,
   "id": "251dc0cc",
   "metadata": {},
   "outputs": [],
   "source": [
    "# print(transformSentence('ab cB GG'))\n",
    "# print('aB cb GG')"
   ]
  },
  {
   "cell_type": "code",
   "execution_count": 196,
   "id": "75dedce5",
   "metadata": {},
   "outputs": [],
   "source": [
    "# a = 'sdUI'\n",
    "# b = a[1:]\n",
    "# print(a[0] + b.swapcase())"
   ]
  },
  {
   "cell_type": "code",
   "execution_count": 197,
   "id": "1d1d0d7e",
   "metadata": {},
   "outputs": [],
   "source": [
    "# 'A' < 'B'"
   ]
  },
  {
   "cell_type": "code",
   "execution_count": 198,
   "id": "4e037eb7",
   "metadata": {},
   "outputs": [],
   "source": [
    "# 'a' < 'b'"
   ]
  },
  {
   "cell_type": "code",
   "execution_count": null,
   "id": "9068457a",
   "metadata": {},
   "outputs": [],
   "source": []
  },
  {
   "cell_type": "code",
   "execution_count": null,
   "id": "6c4a9bfc",
   "metadata": {},
   "outputs": [],
   "source": []
  },
  {
   "cell_type": "code",
   "execution_count": null,
   "id": "993646ac",
   "metadata": {},
   "outputs": [],
   "source": []
  }
 ],
 "metadata": {
  "kernelspec": {
   "display_name": "Python 3 (ipykernel)",
   "language": "python",
   "name": "python3"
  },
  "language_info": {
   "codemirror_mode": {
    "name": "ipython",
    "version": 3
   },
   "file_extension": ".py",
   "mimetype": "text/x-python",
   "name": "python",
   "nbconvert_exporter": "python",
   "pygments_lexer": "ipython3",
   "version": "3.8.10"
  }
 },
 "nbformat": 4,
 "nbformat_minor": 5
}
