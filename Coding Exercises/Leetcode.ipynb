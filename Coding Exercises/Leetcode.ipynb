{
 "cells": [
  {
   "cell_type": "markdown",
   "id": "cca43719",
   "metadata": {},
   "source": [
    "# Palindrome Number\n",
    "\n",
    "Given an integer x, return true if x is palindrome integer.\n",
    "\n",
    "An integer is a palindrome when it reads the same backward as forward. For example, 121 is palindrome while 123 is not.\n",
    "\n",
    "\n",
    "#### Example 1:\n",
    "```\n",
    "Input: x = 121\n",
    "Output: true\n",
    "```\n",
    "\n",
    "#### Example 2:\n",
    "```\n",
    "Input: x = -121\n",
    "Output: false\n",
    "```\n",
    "Explanation: From left to right, it reads -121. From right to left, it becomes 121-. Therefore it is not a palindrome.\n",
    "\n",
    "#### Example 3:\n",
    "```\n",
    "Input: x = 10\n",
    "Output: false\n",
    "```\n",
    "Explanation: Reads 01 from right to left. Therefore it is not a palindrome.\n",
    "\n",
    "#### Example 4:\n",
    "```\n",
    "Input: x = -101\n",
    "Output: false\n",
    "```\n",
    "\n",
    "#### Constraints:\n",
    "```\n",
    "-231 <= x <= 231 - 1\n",
    "```"
   ]
  },
  {
   "cell_type": "code",
   "execution_count": 53,
   "id": "d9825d8c",
   "metadata": {},
   "outputs": [],
   "source": [
    "def isPalindrome(x):\n",
    "#     y = str(x)\n",
    "#     xs = y[::-1]\n",
    "    y, xs = str(x), str(x)[::-1]\n",
    "    if y == xs:\n",
    "        return True\n",
    "    else:\n",
    "        return False"
   ]
  },
  {
   "cell_type": "code",
   "execution_count": 36,
   "id": "deb5a51e",
   "metadata": {},
   "outputs": [
    {
     "name": "stdout",
     "output_type": "stream",
     "text": [
      "122\n",
      "221\n"
     ]
    }
   ],
   "source": [
    "x = 122\n",
    "y = str(x)\n",
    "xs = y[::-1]\n",
    "print(y)\n",
    "print(xs)"
   ]
  },
  {
   "cell_type": "code",
   "execution_count": 15,
   "id": "94d3d286",
   "metadata": {},
   "outputs": [
    {
     "name": "stdout",
     "output_type": "stream",
     "text": [
      "122\n"
     ]
    }
   ],
   "source": [
    "x = str(y)\n",
    "print(x)"
   ]
  },
  {
   "cell_type": "code",
   "execution_count": 16,
   "id": "846ff4e6",
   "metadata": {},
   "outputs": [
    {
     "name": "stdout",
     "output_type": "stream",
     "text": [
      "221\n"
     ]
    }
   ],
   "source": [
    "xs = x[::-1]\n",
    "print(xs)"
   ]
  },
  {
   "cell_type": "code",
   "execution_count": 57,
   "id": "fa959e22",
   "metadata": {},
   "outputs": [
    {
     "data": {
      "text/plain": [
       "False"
      ]
     },
     "execution_count": 57,
     "metadata": {},
     "output_type": "execute_result"
    }
   ],
   "source": [
    "isPalindrome(-121)"
   ]
  },
  {
   "cell_type": "code",
   "execution_count": null,
   "id": "58a5d58d",
   "metadata": {},
   "outputs": [],
   "source": []
  },
  {
   "cell_type": "code",
   "execution_count": null,
   "id": "0ba12da8",
   "metadata": {},
   "outputs": [],
   "source": []
  }
 ],
 "metadata": {
  "kernelspec": {
   "display_name": "Python 3 (ipykernel)",
   "language": "python",
   "name": "python3"
  },
  "language_info": {
   "codemirror_mode": {
    "name": "ipython",
    "version": 3
   },
   "file_extension": ".py",
   "mimetype": "text/x-python",
   "name": "python",
   "nbconvert_exporter": "python",
   "pygments_lexer": "ipython3",
   "version": "3.8.10"
  }
 },
 "nbformat": 4,
 "nbformat_minor": 5
}
