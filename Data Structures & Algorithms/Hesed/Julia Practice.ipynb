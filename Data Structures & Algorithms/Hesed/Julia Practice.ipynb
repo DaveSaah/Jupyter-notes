{
 "cells": [
  {
   "cell_type": "code",
   "execution_count": 23,
   "id": "254652c3",
   "metadata": {},
   "outputs": [
    {
     "data": {
      "text/plain": [
       "6-element Vector{Int64}:\n",
       " 1\n",
       " 4\n",
       " 2\n",
       " 5\n",
       " 3\n",
       " 6"
      ]
     },
     "execution_count": 23,
     "metadata": {},
     "output_type": "execute_result"
    }
   ],
   "source": [
    "nums = [1, 4, 2, 5, 3, 6]"
   ]
  },
  {
   "cell_type": "code",
   "execution_count": 6,
   "id": "90aa8da9",
   "metadata": {},
   "outputs": [
    {
     "name": "stdout",
     "output_type": "stream",
     "text": [
      "  0.000009 seconds (1 allocation: 112 bytes)\n"
     ]
    },
    {
     "data": {
      "text/plain": [
       "6-element Vector{Int64}:\n",
       " 1\n",
       " 2\n",
       " 3\n",
       " 4\n",
       " 5\n",
       " 6"
      ]
     },
     "execution_count": 6,
     "metadata": {},
     "output_type": "execute_result"
    }
   ],
   "source": [
    "@time sort(nums)"
   ]
  },
  {
   "cell_type": "code",
   "execution_count": 14,
   "id": "b47dbd2c",
   "metadata": {},
   "outputs": [],
   "source": [
    "# take the first element and compare it to the rest of the elements\n",
    "# Create a new list to store the minimum\n",
    "# Do the same for all values"
   ]
  },
  {
   "cell_type": "code",
   "execution_count": 19,
   "id": "6379194e",
   "metadata": {},
   "outputs": [
    {
     "name": "stdout",
     "output_type": "stream",
     "text": [
      "  0.000003 seconds (1 allocation: 112 bytes)\n"
     ]
    },
    {
     "data": {
      "text/plain": [
       "6-element Vector{Int64}:\n",
       "  1\n",
       "  2\n",
       "  3\n",
       "  4\n",
       " -1\n",
       " -1"
      ]
     },
     "execution_count": 19,
     "metadata": {},
     "output_type": "execute_result"
    }
   ],
   "source": [
    "@time sorted = Vector{Int64}(undef, 6)"
   ]
  },
  {
   "cell_type": "code",
   "execution_count": 21,
   "id": "471725fa",
   "metadata": {},
   "outputs": [
    {
     "ename": "LoadError",
     "evalue": "BoundsError: attempt to access 5-element Vector{Int64} at index [6]",
     "output_type": "error",
     "traceback": [
      "BoundsError: attempt to access 5-element Vector{Int64} at index [6]",
      "",
      "Stacktrace:",
      " [1] getindex(A::Vector{Int64}, i1::Int64)",
      "   @ Base ./array.jl:924",
      " [2] top-level scope",
      "   @ ./In[21]:4",
      " [3] eval",
      "   @ ./boot.jl:368 [inlined]",
      " [4] include_string(mapexpr::typeof(REPL.softscope), mod::Module, code::String, filename::String)",
      "   @ Base ./loading.jl:1428"
     ]
    }
   ],
   "source": [
    "for x in nums\n",
    "    min = x\n",
    "    for y = 1:length(nums)\n",
    "        if min > nums[y]\n",
    "            min = nums[y]\n",
    "    popat!(nums, min)\n",
    "        end\n",
    "    end\n",
    "end"
   ]
  },
  {
   "cell_type": "code",
   "execution_count": 24,
   "id": "bc31e569",
   "metadata": {},
   "outputs": [
    {
     "data": {
      "text/plain": [
       "6-element Vector{Int64}:\n",
       " 1\n",
       " 4\n",
       " 2\n",
       " 5\n",
       " 3\n",
       " 6"
      ]
     },
     "execution_count": 24,
     "metadata": {},
     "output_type": "execute_result"
    }
   ],
   "source": [
    "some = nums"
   ]
  },
  {
   "cell_type": "code",
   "execution_count": 25,
   "id": "2d84a2e6",
   "metadata": {},
   "outputs": [
    {
     "data": {
      "text/plain": [
       "3"
      ]
     },
     "execution_count": 25,
     "metadata": {},
     "output_type": "execute_result"
    }
   ],
   "source": [
    "popat!(some, 5)"
   ]
  },
  {
   "cell_type": "code",
   "execution_count": 26,
   "id": "635af6d8",
   "metadata": {},
   "outputs": [
    {
     "ename": "LoadError",
     "evalue": "MethodError: no method matching pop!(::Vector{Int64}, ::Int64)\n\u001b[0mClosest candidates are:\n\u001b[0m  pop!(\u001b[91m::WeakKeyDict{K}\u001b[39m, ::Any) where K at weakkeydict.jl:154\n\u001b[0m  pop!(\u001b[91m::WeakKeyDict{K}\u001b[39m, ::Any, \u001b[91m::Any\u001b[39m) where K at weakkeydict.jl:160\n\u001b[0m  pop!(\u001b[91m::Set\u001b[39m, ::Any) at set.jl:68\n\u001b[0m  ...",
     "output_type": "error",
     "traceback": [
      "MethodError: no method matching pop!(::Vector{Int64}, ::Int64)\n\u001b[0mClosest candidates are:\n\u001b[0m  pop!(\u001b[91m::WeakKeyDict{K}\u001b[39m, ::Any) where K at weakkeydict.jl:154\n\u001b[0m  pop!(\u001b[91m::WeakKeyDict{K}\u001b[39m, ::Any, \u001b[91m::Any\u001b[39m) where K at weakkeydict.jl:160\n\u001b[0m  pop!(\u001b[91m::Set\u001b[39m, ::Any) at set.jl:68\n\u001b[0m  ...",
      "",
      "Stacktrace:",
      " [1] top-level scope",
      "   @ In[26]:1",
      " [2] eval",
      "   @ ./boot.jl:368 [inlined]",
      " [3] include_string(mapexpr::typeof(REPL.softscope), mod::Module, code::String, filename::String)",
      "   @ Base ./loading.jl:1428"
     ]
    }
   ],
   "source": []
  },
  {
   "cell_type": "code",
   "execution_count": null,
   "id": "5b69db5c",
   "metadata": {},
   "outputs": [],
   "source": []
  }
 ],
 "metadata": {
  "kernelspec": {
   "display_name": "Julia 1.8.1",
   "language": "julia",
   "name": "julia-1.8"
  },
  "language_info": {
   "file_extension": ".jl",
   "mimetype": "application/julia",
   "name": "julia",
   "version": "1.8.1"
  }
 },
 "nbformat": 4,
 "nbformat_minor": 5
}
