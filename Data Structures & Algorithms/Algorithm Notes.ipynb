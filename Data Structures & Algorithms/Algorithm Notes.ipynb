{
 "cells": [
  {
   "cell_type": "markdown",
   "metadata": {},
   "source": [
    "**ALGORITHM CLASSES**\n",
    "\n",
    "1.Divide & Conquer: Divides the problem into sub-parts and solves each one separately. \n",
    "\n",
    "2.Dynamic Programming: Divides the problem into sub-parts, remembers the results of the sub-parts and applies it to similar ones. \n",
    "\n",
    "3.Greedy Algorithms: Involves taking the easiest step while solving a problem without worrying about the complexity of the future steps. "
   ]
  },
  {
   "cell_type": "markdown",
   "metadata": {},
   "source": [
    "**SEARCHING ALGORITHMS**\n",
    "\n",
    "1.Linear Search: It takes the requested element and compares each element in the required list.\n",
    "\n",
    "2.Binary Seach: It first finds the middle of the sorted list and compares the requested element with it. If the pair is greater, it divides to the right and compares again, else it divides till the left and compares again. The process is repeated till the requested element is found."
   ]
  }
 ],
 "metadata": {
  "kernelspec": {
   "display_name": "Python 3",
   "language": "python",
   "name": "python3"
  },
  "language_info": {
   "codemirror_mode": {
    "name": "ipython",
    "version": 3
   },
   "file_extension": ".py",
   "mimetype": "text/x-python",
   "name": "python",
   "nbconvert_exporter": "python",
   "pygments_lexer": "ipython3",
   "version": "3.8.3"
  }
 },
 "nbformat": 4,
 "nbformat_minor": 4
}
