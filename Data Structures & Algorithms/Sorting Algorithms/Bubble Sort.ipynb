{
 "cells": [
  {
   "cell_type": "markdown",
   "metadata": {},
   "source": [
    "**Bubble sort** is a comparison algorithm that first compares and then sorts adjacent elements if they are not in a specified order. "
   ]
  },
  {
   "cell_type": "code",
   "execution_count": 2,
   "metadata": {},
   "outputs": [
    {
     "name": "stdout",
     "output_type": "stream",
     "text": [
      "Enter a sequence of numbers: 1 2 -3 -4 0 4 2 -3\n",
      "[-4, -3, -3, 0, 1, 2, 2, 4]\n",
      "\n",
      " 0.0004\n"
     ]
    }
   ],
   "source": [
    "import time\n",
    "\n",
    "def bubblesort(a):\n",
    "    #a is the list\n",
    "    b = len(a) - 1\n",
    "    for x in range(b):\n",
    "        for y in range(b-x):\n",
    "            if a[y] > a[y+1]:\n",
    "                a[y], a[y+1] = a[y+1], a[y]\n",
    "    return a\n",
    "\n",
    "lst1 = input(\"Enter a sequence of numbers: \").split()\n",
    "lst = [int(x) for x in lst1]\n",
    " \n",
    "\n",
    "toc = time.perf_counter()\n",
    "print(bubblesort(lst))\n",
    "tic = time.perf_counter()\n",
    "\n",
    "#check and print runtime\n",
    "print('\\n', f\"{tic-toc:0.4f}\")"
   ]
  }
 ],
 "metadata": {
  "kernelspec": {
   "display_name": "Python 3 (ipykernel)",
   "language": "python",
   "name": "python3"
  },
  "language_info": {
   "codemirror_mode": {
    "name": "ipython",
    "version": 3
   },
   "file_extension": ".py",
   "mimetype": "text/x-python",
   "name": "python",
   "nbconvert_exporter": "python",
   "pygments_lexer": "ipython3",
   "version": "3.10.5"
  }
 },
 "nbformat": 4,
 "nbformat_minor": 4
}
