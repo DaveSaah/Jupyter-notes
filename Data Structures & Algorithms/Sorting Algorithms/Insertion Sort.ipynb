{
 "cells": [
  {
   "cell_type": "markdown",
   "metadata": {},
   "source": [
    "**Insertion sort** picks one element of a given list at a time and places it at the exact spot where it is to be placed."
   ]
  },
  {
   "cell_type": "code",
   "execution_count": 1,
   "metadata": {
    "scrolled": true
   },
   "outputs": [
    {
     "name": "stdin",
     "output_type": "stream",
     "text": [
      "Enter a list of values:  1 2 55 48 658 21 58 3 1 0 25 4 8 9\n"
     ]
    },
    {
     "name": "stdout",
     "output_type": "stream",
     "text": [
      "[0, 1, 1, 2, 3, 4, 8, 9, 21, 25, 48, 55, 58, 658]\n",
      "\n",
      " 0.0009\n"
     ]
    }
   ],
   "source": [
    "import time\n",
    "\n",
    "#where a is our list of values\n",
    "def isort(a):\n",
    "    for x in range(1, len(a)):\n",
    "        k = a[x]\n",
    "        j = x - 1\n",
    "        while j >= 0 and k < a[j]:\n",
    "            a[j+1] = a[j]\n",
    "            j -= 1\n",
    "        a[j+1] = k\n",
    "    \n",
    "    return a\n",
    "        \n",
    "lst1 = input('Enter a list of values: ').split()\n",
    "lst = [int(x) for x in lst1]\n",
    "\n",
    "tic = time.perf_counter()\n",
    "print(isort(lst))\n",
    "toc = time.perf_counter()\n",
    "\n",
    "#check and print runtime\n",
    "print('\\n', f'{toc-tic:0.4f}')"
   ]
  }
 ],
 "metadata": {
  "kernelspec": {
   "display_name": "Python 3",
   "language": "python",
   "name": "python3"
  },
  "language_info": {
   "codemirror_mode": {
    "name": "ipython",
    "version": 3
   },
   "file_extension": ".py",
   "mimetype": "text/x-python",
   "name": "python",
   "nbconvert_exporter": "python",
   "pygments_lexer": "ipython3",
   "version": "3.8.5"
  }
 },
 "nbformat": 4,
 "nbformat_minor": 4
}
