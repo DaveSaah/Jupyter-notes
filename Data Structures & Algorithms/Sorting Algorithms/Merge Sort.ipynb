{
 "cells": [
  {
   "cell_type": "markdown",
   "metadata": {},
   "source": [
    "**Merge sort** follows the *divide and conquer* rule. The given list is first divided into smaller lists and compares adjacent lists and then, reorders them in a desired sequence."
   ]
  },
  {
   "cell_type": "code",
   "execution_count": 1,
   "metadata": {
    "scrolled": false
   },
   "outputs": [
    {
     "name": "stdout",
     "output_type": "stream",
     "text": [
      "Enter sequence of numbers: 3 2 1 5 43 2 1 5 43 2 1 5 43 2 1 5 43 2 1 5 43 2 1 5 43 2 1 5 43 2 1 5 43 2 1 5 43 2 1 5 43 2 1 5 43 2 1 5 43 2 1 5 43 2 1 5 43 2 1 5 43 2 1 5 43 2 1 5 43 2 1 5 43 2 1 5 43 2 1 5 43 2 1 5 43 2 1 5 43 2 1 5 43 2 1 5 43 2 1 5 43 2 1 5 43 2 1 5 43 2 1 5 43 2 1 5 43 2 1 5 43 2 1 5 43 2 1 5 43 2 1 5 43 2 1 5 43 2 1 5 43 2 1 5 4\n",
      "[1, 1, 1, 1, 1, 1, 1, 1, 1, 1, 1, 1, 1, 1, 1, 1, 1, 1, 1, 1, 1, 1, 1, 1, 1, 1, 1, 1, 1, 1, 1, 1, 1, 1, 1, 1, 2, 2, 2, 2, 2, 2, 2, 2, 2, 2, 2, 2, 2, 2, 2, 2, 2, 2, 2, 2, 2, 2, 2, 2, 2, 2, 2, 2, 2, 2, 2, 2, 2, 2, 2, 2, 3, 4, 5, 5, 5, 5, 5, 5, 5, 5, 5, 5, 5, 5, 5, 5, 5, 5, 5, 5, 5, 5, 5, 5, 5, 5, 5, 5, 5, 5, 5, 5, 5, 5, 5, 5, 5, 5, 43, 43, 43, 43, 43, 43, 43, 43, 43, 43, 43, 43, 43, 43, 43, 43, 43, 43, 43, 43, 43, 43, 43, 43, 43, 43, 43, 43, 43, 43, 43, 43, 43, 43, 43]\n",
      "\n",
      " 0.0104\n"
     ]
    }
   ],
   "source": [
    "import time\n",
    "\n",
    "def merge(left, right):\n",
    "    result = []\n",
    "    i=j=0\n",
    "    while i<len(left) and j<len(right):\n",
    "        if left[i] <= right[j]:\n",
    "            #if it is ascending order, use(<=) else use(>=)\n",
    "            result.append(left[i])\n",
    "            i+=1\n",
    "        else:\n",
    "            result.append(right[j])\n",
    "            j+=1\n",
    "            \n",
    "    result += left[i:]\n",
    "    result += right[j:]\n",
    "    return result\n",
    "\n",
    "\n",
    "def mergesort(lst):\n",
    "    if len(lst) <= 1:\n",
    "        return lst\n",
    "    mid = int(len(lst)/2)\n",
    "    left = mergesort(lst[:mid])\n",
    "    right = mergesort(lst[mid:])\n",
    "    return merge(left, right)\n",
    "\n",
    "lst1 = input(\"Enter sequence of numbers: \").split()\n",
    "lst = [int(x) for x in lst1]\n",
    "\n",
    "tic = time.perf_counter()\n",
    "print(mergesort(lst))\n",
    "toc = time.perf_counter()\n",
    "\n",
    "#check and print runtime\n",
    "print('\\n', f\"{toc-tic:0.4f}\")"
   ]
  }
 ],
 "metadata": {
  "kernelspec": {
   "display_name": "Python 3",
   "language": "python",
   "name": "python3"
  },
  "language_info": {
   "codemirror_mode": {
    "name": "ipython",
    "version": 3
   },
   "file_extension": ".py",
   "mimetype": "text/x-python",
   "name": "python",
   "nbconvert_exporter": "python",
   "pygments_lexer": "ipython3",
   "version": "3.8.3"
  }
 },
 "nbformat": 4,
 "nbformat_minor": 4
}
