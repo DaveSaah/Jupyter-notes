{
 "cells": [
  {
   "cell_type": "markdown",
   "metadata": {},
   "source": [
    "**Selection sort** divides a given list into 2 halves where the first half is the sorted list and the second half is the unsorted list.\n",
    "At first, the sorted lost is empty and all elements to be sorted are in the unsorted list. \n",
    "The algorithm looks at all the items in the unsorted list, picks up the item that comes first and repeats the process and places the element of the new item to the right of the sorted list."
   ]
  },
  {
   "cell_type": "code",
   "execution_count": 3,
   "metadata": {},
   "outputs": [
    {
     "name": "stdout",
     "output_type": "stream",
     "text": [
      "Enter a list of values: 3 2 1 5 43 2 1 5 43 2 1 5 43 2 1 5 43 2 1 5 43 2 1 5 43 2 1 5 43 2 1 5 43 2 1 5 43 2 1 5 43 2 1 5 43 2 1 5 43 2 1 5 43 2 1 5 43 2 1 5 43 2 1 5 43 2 1 5 43 2 1 5 43 2 1 5 43 2 1 5 43 2 1 5 43 2 1 5 43 2 1 5 43 2 1 5 43 2 1 5 43 2 1 5 43 2 1 5 43 2 1 5 43 2 1 5 43 2 1 5 43 2 1 5 43 2 1 5 43 2 1 5 43 2 1 5 43 2 1 5 43 2 1 5 4\n",
      "[1, 1, 1, 1, 1, 1, 1, 1, 1, 1, 1, 1, 1, 1, 1, 1, 1, 1, 1, 1, 1, 1, 1, 1, 1, 1, 1, 1, 1, 1, 1, 1, 1, 1, 1, 1, 2, 2, 2, 2, 2, 2, 2, 2, 2, 2, 2, 2, 2, 2, 2, 2, 2, 2, 2, 2, 2, 2, 2, 2, 2, 2, 2, 2, 2, 2, 2, 2, 2, 2, 2, 2, 3, 4, 5, 5, 5, 5, 5, 5, 5, 5, 5, 5, 5, 5, 5, 5, 5, 5, 5, 5, 5, 5, 5, 5, 5, 5, 5, 5, 5, 5, 5, 5, 5, 5, 5, 5, 5, 5, 43, 43, 43, 43, 43, 43, 43, 43, 43, 43, 43, 43, 43, 43, 43, 43, 43, 43, 43, 43, 43, 43, 43, 43, 43, 43, 43, 43, 43, 43, 43, 43, 43, 43, 43]\n",
      "\n",
      " 0.0140\n"
     ]
    }
   ],
   "source": [
    "import time\n",
    "\n",
    "def selsort(lst, r):\n",
    "    for x in range(r):\n",
    "        min = x\n",
    "        for y in range(x+1, r):\n",
    "            if lst[y] < lst[min]:\n",
    "                min = y\n",
    "        lst[x], lst[min] = lst[min], lst[x]\n",
    "    \n",
    "    return lst\n",
    "\n",
    "lst1 = input('Enter a list of values: ').split()\n",
    "lst = [int(x) for x in lst1]\n",
    "r = len(lst)\n",
    "\n",
    "tic = time.perf_counter()\n",
    "print(selsort(lst, r))\n",
    "toc = time.perf_counter()\n",
    "\n",
    "#checks and print runtime\n",
    "print('\\n', f'{toc-tic:0.4f}')"
   ]
  }
 ],
 "metadata": {
  "kernelspec": {
   "display_name": "Python 3",
   "language": "python",
   "name": "python3"
  },
  "language_info": {
   "codemirror_mode": {
    "name": "ipython",
    "version": 3
   },
   "file_extension": ".py",
   "mimetype": "text/x-python",
   "name": "python",
   "nbconvert_exporter": "python",
   "pygments_lexer": "ipython3",
   "version": "3.8.5"
  }
 },
 "nbformat": 4,
 "nbformat_minor": 4
}
