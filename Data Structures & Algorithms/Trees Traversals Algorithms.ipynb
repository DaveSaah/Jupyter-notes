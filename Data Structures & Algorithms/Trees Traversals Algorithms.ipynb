{
 "cells": [
  {
   "cell_type": "markdown",
   "metadata": {},
   "source": [
    "## Trees"
   ]
  },
  {
   "cell_type": "markdown",
   "metadata": {},
   "source": [
    "Trees in Python are non-linear data structures having a root and nodes. Tree traversals refers to visiting each node present in a tree exactly once in order to update or check them."
   ]
  },
  {
   "cell_type": "markdown",
   "metadata": {},
   "source": [
    "         1\n",
    "        /  \\\n",
    "       2    3\n",
    "      /  \\\n",
    "     4    5       A tree."
   ]
  },
  {
   "cell_type": "markdown",
   "metadata": {},
   "source": [
    "Based on the order of visiting nodes in a tree, there are 3 types of tree traversals.Namely: In-Order Traversal, Pre-Order Traversal & Post-Order Traversal."
   ]
  },
  {
   "cell_type": "code",
   "execution_count": 7,
   "metadata": {},
   "outputs": [],
   "source": [
    "#code example\n",
    "\n",
    "#creating a node class\n",
    "\n",
    "class Node:\n",
    "    def __init__(self, val):\n",
    "        self.childleft = None\n",
    "        self.childright = None\n",
    "        self.nodedata = val\n",
    "        \n",
    "#creating an instance of the Node class and converting it to a tree\n",
    "root = Node(1)\n",
    "root.childleft = Node(2)\n",
    "root.childright = Node(3)\n",
    "root.childleft.childleft = Node(4)\n",
    "root.childleft.childright = Node(5)"
   ]
  },
  {
   "cell_type": "markdown",
   "metadata": {},
   "source": [
    "### Types of Tree Traversals"
   ]
  },
  {
   "cell_type": "markdown",
   "metadata": {},
   "source": [
    "**In-Order traversal** refers to visiting the *left nodes* followed by the *root* and then the *right nodes*."
   ]
  },
  {
   "cell_type": "code",
   "execution_count": 8,
   "metadata": {
    "scrolled": true
   },
   "outputs": [
    {
     "name": "stdout",
     "output_type": "stream",
     "text": [
      "4\n",
      "2\n",
      "5\n",
      "1\n",
      "3\n"
     ]
    }
   ],
   "source": [
    "#An In-Order Traversal function\n",
    "def InOrd(root):\n",
    "    if root:\n",
    "        InOrd(root.childleft)\n",
    "        print(root.nodedata)\n",
    "        InOrd(root.childright)\n",
    "        \n",
    "InOrd(root)"
   ]
  },
  {
   "cell_type": "markdown",
   "metadata": {},
   "source": [
    "**Pre-Order Traversal** refers to visiting the *root nodes* followed by the *left nodes* and then the *right nodes*"
   ]
  },
  {
   "cell_type": "code",
   "execution_count": 11,
   "metadata": {},
   "outputs": [
    {
     "name": "stdout",
     "output_type": "stream",
     "text": [
      "1\n",
      "2\n",
      "4\n",
      "5\n",
      "3\n"
     ]
    }
   ],
   "source": [
    "#A pre-order traversal fuction\n",
    "def PreOrd(root):\n",
    "    if root:\n",
    "        print(root.nodedata)\n",
    "        PreOrd(root.childleft)\n",
    "        PreOrd(root.childright)\n",
    "        \n",
    "PreOrd(root)"
   ]
  },
  {
   "cell_type": "markdown",
   "metadata": {},
   "source": [
    "**Post-Order Traversal** refers to visiting the *left nodes* followed by the *right-nodes* then the *root nodes*"
   ]
  },
  {
   "cell_type": "code",
   "execution_count": 10,
   "metadata": {},
   "outputs": [
    {
     "name": "stdout",
     "output_type": "stream",
     "text": [
      "4\n",
      "5\n",
      "2\n",
      "3\n",
      "1\n"
     ]
    }
   ],
   "source": [
    "#A post-ord traversal function\n",
    "def PostOrd(root):\n",
    "    if root:\n",
    "        PostOrd(root.childleft)\n",
    "        PostOrd(root.childright)\n",
    "        print(root.nodedata)\n",
    "        \n",
    "PostOrd(root)"
   ]
  }
 ],
 "metadata": {
  "kernelspec": {
   "display_name": "Python 3",
   "language": "python",
   "name": "python3"
  },
  "language_info": {
   "codemirror_mode": {
    "name": "ipython",
    "version": 3
   },
   "file_extension": ".py",
   "mimetype": "text/x-python",
   "name": "python",
   "nbconvert_exporter": "python",
   "pygments_lexer": "ipython3",
   "version": "3.8.3"
  }
 },
 "nbformat": 4,
 "nbformat_minor": 4
}
