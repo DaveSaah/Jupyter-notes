{
 "cells": [
  {
   "cell_type": "markdown",
   "id": "b3624f1a",
   "metadata": {},
   "source": [
    "# Problem Solving\n",
    "\n",
    "We can build the skill of problem solving by referencing the program development life cycle.\n",
    "\n",
    "### Program development life cycle: <br/>\n",
    "1. Problem Definition \n",
    "2. Problem Analysis\n",
    "3. Algorithm Design and Representation\n",
    "4. Actual Coding \n",
    "5. Testing and Debugging \n",
    "6. Complete Documentation and Operator Procedures Ready for Documentation"
   ]
  },
  {
   "cell_type": "markdown",
   "id": "7d7e5a8f",
   "metadata": {},
   "source": [
    "## Problem Definition \n",
    "\n",
    "At this stage you define the problem statement(That could be a question too). Then you need to understand the following:\n",
    "- Problem statement.\n",
    "- The requirements.\n",
    "- The boundaries of the problem.\n",
    "- The output of the problem situation."
   ]
  },
  {
   "cell_type": "markdown",
   "id": "f70c3a8d",
   "metadata": {},
   "source": [
    "## Solving Problems (Steps 1)\n",
    "\n",
    "**Analyse these problems using the first and second steps of the program development life cycle.**\n",
    "1. Write a program that converts celsius temperature to fahrenheit."
   ]
  },
  {
   "cell_type": "markdown",
   "id": "9868b4cc",
   "metadata": {},
   "source": [
    "## Problem Analysis\n",
    "\n",
    "You determine requirements like:\n",
    "- Variables\n",
    "- Functions, etc to solve the problem."
   ]
  },
  {
   "cell_type": "markdown",
   "id": "857c6e6b",
   "metadata": {},
   "source": [
    "### Example\n",
    "\n",
    "Refering to problem 1 (celsuis to fahrenheit), let's try to analyse our findings."
   ]
  },
  {
   "cell_type": "markdown",
   "id": "85cced64",
   "metadata": {},
   "source": [
    "**What we'll need:**\n",
    "- Variables for celsius & fahrenheit.\n",
    "- Need to get input from the user.\n",
    "- Need to display fahrenheit."
   ]
  },
  {
   "cell_type": "markdown",
   "id": "19737413",
   "metadata": {},
   "source": [
    "## Algorithm Design\n",
    "\n",
    "Develop a step by step procedure to solve the problem using the specifications in the previous phases."
   ]
  },
  {
   "cell_type": "markdown",
   "id": "c6ca6870",
   "metadata": {},
   "source": [
    "# Algorithms\n",
    "\n",
    "## What are algorithms?\n",
    "\n",
    "Algorithms are step by step procedures to solve a problem. They can be represented in 3 different ways: flowcharts, pseudocode and actual code.<br/><br/>"
   ]
  },
  {
   "cell_type": "markdown",
   "id": "4c5317a9",
   "metadata": {},
   "source": [
    "## Flowcharts\n",
    "\n",
    "- A flowchart is a diagrammatic representation of an algorithm. A flowchart can be helpful for both writing programs and explaining the program to others. \n",
    "- A flowchart is the pictorial depiction / illustration of algorithms using various symbols, shapes, and connectors (arrows), signifying the process of a program.\n",
    "\n",
    "\n",
    "### Advantages of Flowcharts\n",
    "\n",
    "- Since flowcharts are a pictorial representation of the steps of an algorithm, they help to streamline and make it easier to understand the logic and the following steps / stages.\n",
    "- They enhance the efficiency of the coding process – providing clear instructions, thereby making the job of programming personnel easier. In addition, since the steps are clearly and visually illustrated, it becomes a lot simpler and efficient to find defects / errors in the program, aiding in the process of testing."
   ]
  },
  {
   "cell_type": "markdown",
   "id": "433b094a",
   "metadata": {},
   "source": [
    "Link to flowchart diagrams example: https://www.programiz.com/article/flowchart-programming"
   ]
  },
  {
   "cell_type": "markdown",
   "id": "f068655f",
   "metadata": {},
   "source": [
    "\n",
    "Let me teach you my favorite technique: pseudocode.<br/><br/>\n",
    "**Pseudocode** is an algorithm design written in free English text and brevity of language without considering any syntax of programming language. <br/>\n",
    "They can be expressed in different ways or a combination of them. It's building blocks include: Sequences, Conditionals and Iterations. <br/>"
   ]
  },
  {
   "cell_type": "markdown",
   "id": "c10ee361",
   "metadata": {},
   "source": [
    "### Sequences \n",
    "\n",
    "They are a set of instructions executed in a precise order they are written in.<br/>\n",
    "**Syntax:**<br/> \n",
    "Statement block1<br/>\n",
    "Statement block2<br/>\n",
    "Statement block3<br/>\n",
    "<br/>\n",
    "**Example:**<br/>\n",
    "1. Write a code to accept two number input from a user and output the sum.<br/>\n",
    "<u>Soln</u><br/>\n",
    "The pseudocode will look like this.<br/>\n",
    "- Begin\n",
    "- Sum = 0\n",
    "- Input num1 and num2\n",
    "- Sum = num1 + num2\n",
    "- Print Sum\n",
    "- End<br/><br/>\n",
    "See, it's very simple. You just express your idea on how to solve the problem in plain English. "
   ]
  },
  {
   "cell_type": "markdown",
   "id": "35fe9ac5",
   "metadata": {},
   "source": [
    "### Conditionals\n",
    "\n",
    "The instructions are executed based on the conditions specified. Normally, we used if-statements to express them.<br/>\n",
    "**Syntax:**<br/>\n",
    "```basic\n",
    "if (condition = True)\n",
    "    statement block1\n",
    "else\n",
    "    statement block2\n",
    "endif\n",
    "```\n",
    "<br/>\n",
    "**Example:**<br/>\n",
    "1. Write a code that accepts age as input and outputs whether the person is legible to vote or not.<br/>\n",
    "<u>Soln</u><br/>\n",
    "The pseudocode will look like this.<br/>\n",
    "\n",
    "* Input age\n",
    "* if age > 18, print 'you are legible to vote'\n",
    "* else print 'you cannot vote'\n",
    "* endif <br/>"
   ]
  },
  {
   "cell_type": "markdown",
   "id": "8b47b48e",
   "metadata": {},
   "source": [
    "### Iterations\n",
    "\n",
    "It is used when a particular step in solving a problem is to be repeated. It is also called repetition and it is implemented using **repeat until loop**, **while loop** and a **for loop**.<br/>\n",
    "N.B. Any program instruction thay repeats some statements or sequence of statements. <br/><br/>\n",
    "**Repeat until loop:** Runs a block of code repeatedly until condition is false.<br/>\n",
    "<u>Syntax:</u><br/>\n",
    "```basic\n",
    "repeat\n",
    "    statement\n",
    "until (condition = true)\n",
    "```\n",
    "<br/>\n",
    "\n",
    "**While Loop:** Runs a block until a condition is false. The main difference between while loop and repeat until loop is that, in while loop no statement is executed if the condition is false but in repeat until loop, the statement is executed at least once even if the condition is false.<br/>\n",
    "<u>Syntax:</u><br/>\n",
    "```basic\n",
    "while (condition = true)\n",
    "    statement\n",
    "endwhile\n",
    "```\n",
    "<br/>\n",
    "\n",
    "**For Loop:** Used when the number of iterations are known in advance. In it's simplest form, it uses an initialization of the variable as a starting point, a stop condition depending on the value of the variable. The variable is incremented on each iteration until it reaches the required value. <br/>\n",
    "<u>Syntax:</u><br/>\n",
    "```basic\n",
    "for (starting_value, stopping_condition, increment)\n",
    "    statements\n",
    "endfor\n",
    "```\n",
    "<br/>"
   ]
  },
  {
   "cell_type": "markdown",
   "id": "9fb7733a",
   "metadata": {},
   "source": [
    "## Actual Code\n",
    "\n",
    "Now you write the code."
   ]
  },
  {
   "cell_type": "markdown",
   "id": "b81d464f",
   "metadata": {},
   "source": [
    "<br/>\n",
    "End of lesson.\n",
    "<br/>\n",
    "&copy; David Saah"
   ]
  }
 ],
 "metadata": {
  "kernelspec": {
   "display_name": "Python 3 (ipykernel)",
   "language": "python",
   "name": "python3"
  },
  "language_info": {
   "codemirror_mode": {
    "name": "ipython",
    "version": 3
   },
   "file_extension": ".py",
   "mimetype": "text/x-python",
   "name": "python",
   "nbconvert_exporter": "python",
   "pygments_lexer": "ipython3",
   "version": "3.11.0"
  }
 },
 "nbformat": 4,
 "nbformat_minor": 5
}
