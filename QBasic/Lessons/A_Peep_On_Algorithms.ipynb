{
 "cells": [
  {
   "cell_type": "markdown",
   "metadata": {},
   "source": [
    "# A Peep On Algorithms"
   ]
  },
  {
   "cell_type": "markdown",
   "metadata": {
    "tags": []
   },
   "source": [
    "### Program development life cycle: <br/>\n",
    "1. Problem Definition \n",
    "2. Problem Analysis\n",
    "3. Algorithm Design and Representation\n",
    "4. Actual Coding \n",
    "5. Testing and Debugging\n",
    "6. Complete Documentation and Operator Procedures Ready for Documentation"
   ]
  },
  {
   "cell_type": "markdown",
   "metadata": {},
   "source": [
    "Here, we'll  look at the first 4 steps in the program development life cycle, particularly at algorithms."
   ]
  },
  {
   "cell_type": "markdown",
   "metadata": {},
   "source": [
    "1. **Problem Definition:** At this stage you define the problem statement(That could be a question too). Then you need to understand the problem statement, the requirements, the boundaries of the problem and the output of the problem situation.\n",
    "2. **Problem Analysis:** You determine requirements like variables, functions, etc to solve the problem.\n",
    "3. **Algorithm Design:** Develop a step by step procedure to solve the problem using the specifications in the previous phases.\n",
    "4. **Actual Code:** Now you write the code. "
   ]
  },
  {
   "cell_type": "markdown",
   "metadata": {
    "tags": []
   },
   "source": [
    "## Solving Problems (Steps 1)"
   ]
  },
  {
   "cell_type": "markdown",
   "metadata": {},
   "source": [
    "**Analyse these problems using the first and second steps of the program development life cycle.**\n",
    "1. Write a program that converts celsius temperature to fahrenheit."
   ]
  },
  {
   "cell_type": "markdown",
   "metadata": {},
   "source": [
    "### What are Algorithms? "
   ]
  },
  {
   "cell_type": "markdown",
   "metadata": {},
   "source": [
    "Algorithms are step by step procedures to solve a problem. They can be represented in 3 different ways: flowcharts, pseudocode and actual code.<br/><br/>"
   ]
  },
  {
   "cell_type": "markdown",
   "metadata": {},
   "source": [
    "Let me teach you my favorite technique: pseudocode.<br/><br/>\n",
    "**Pseudocode** is an algorithm design written in free English text and brevity of language without considering any syntax of programming language. <br/>\n",
    "They can be expressed in different ways or a combination of them. It's building blocks include: Sequences, Conditionals and Iterations. <br/>"
   ]
  },
  {
   "cell_type": "markdown",
   "metadata": {},
   "source": [
    "### Sequences "
   ]
  },
  {
   "cell_type": "markdown",
   "metadata": {},
   "source": [
    "They are a set of instructions executed in a precise order they are written in.<br/>\n",
    "**Syntax:**<br/> \n",
    "Statement block1<br/>\n",
    "Statement block2<br/>\n",
    "Statement block3<br/>\n",
    "<br/>\n",
    "**Example:**<br/>\n",
    "1. Write a code to accept two number input from a user and output the sum.<br/>\n",
    "<u>Soln</u><br/>\n",
    "The pseudocode will look like this.<br/>\n",
    "- Begin\n",
    "- Sum = 0\n",
    "- Input num1 and num2\n",
    "- Sum = num1 + num2\n",
    "- Print Sum\n",
    "- End<br/><br/>\n",
    "See, it's very simple. You just express your idea on how to solve the problem in plain English. "
   ]
  },
  {
   "cell_type": "markdown",
   "metadata": {},
   "source": [
    "### Conditionals"
   ]
  },
  {
   "cell_type": "markdown",
   "metadata": {},
   "source": [
    "The instructions are executed based on the conditions specified. Normally, we used if-statements to express them.<br/>\n",
    "**Syntax:**<br/>\n",
    "```basic\n",
    "if (condition = True)\n",
    "    statement block1\n",
    "else\n",
    "    statement block2\n",
    "endif\n",
    "```\n",
    "<br/>\n",
    "**Example:**<br/>\n",
    "1. Write a code that accepts age as input and outputs whether the person is legible to vote or not.<br/>\n",
    "<u>Soln</u><br/>\n",
    "The pseudocode will look like this.<br/>\n",
    "\n",
    "* Input age\n",
    "* if age > 18, print 'you are legible to vote'\n",
    "* else print 'you cannot vote'\n",
    "* endif <br/>"
   ]
  },
  {
   "cell_type": "markdown",
   "metadata": {},
   "source": [
    "### Iterations"
   ]
  },
  {
   "cell_type": "markdown",
   "metadata": {},
   "source": [
    "It is used when a particular step in solving a problem is to be repeated. It is also called repetition and it is implemented using **repeat until loop**, **while loop** and a **for loop**.<br/>\n",
    "N.B. Any program instruction thay repeats some statements or sequence of statements. <br/><br/>\n",
    "**Repeat until loop:** Runs a block of code repeatedly until condition is false.<br/>\n",
    "<u>Syntax:</u><br/>\n",
    "```basic\n",
    "repeat\n",
    "    statement\n",
    "until (condition = true)\n",
    "```\n",
    "<br/>\n",
    "\n",
    "**While Loop:** Runs a block until a condition is false. The main difference between while loop and repeat until loop is that, in while loop no statement is executed if the condition is false but in repeat until loop, the statement is executed at least once even if the condition is false.<br/>\n",
    "<u>Syntax:</u><br/>\n",
    "```basic\n",
    "while (condition = true)\n",
    "    statement\n",
    "endwhile\n",
    "```\n",
    "<br/>\n",
    "\n",
    "**For Loop:** Used when the number of iterations are known in advance. In it's simplest form, it uses an initialization of the variable as a starting point, a stop condition depending on the value of the variable. The variable is incremented on each iteration until it reaches the required value. <br/>\n",
    "<u>Syntax:</u><br/>\n",
    "```basic\n",
    "for (starting_value, stopping_condition, increment)\n",
    "    statements\n",
    "endfor\n",
    "```\n",
    "<br/>"
   ]
  },
  {
   "cell_type": "markdown",
   "metadata": {},
   "source": [
    "<br/>\n",
    "End of lesson.\n",
    "<br/>\n",
    "&copy; David Saah"
   ]
  }
 ],
 "metadata": {
  "kernelspec": {
   "display_name": "Python 3 (ipykernel)",
   "language": "python",
   "name": "python3"
  },
  "language_info": {
   "codemirror_mode": {
    "name": "ipython",
    "version": 3
   },
   "file_extension": ".py",
   "mimetype": "text/x-python",
   "name": "python",
   "nbconvert_exporter": "python",
   "pygments_lexer": "ipython3",
   "version": "3.11.0"
  },
  "vscode": {
   "interpreter": {
    "hash": "e7370f93d1d0cde622a1f8e1c04877d8463912d04d973331ad4851f04de6915a"
   }
  }
 },
 "nbformat": 4,
 "nbformat_minor": 4
}
