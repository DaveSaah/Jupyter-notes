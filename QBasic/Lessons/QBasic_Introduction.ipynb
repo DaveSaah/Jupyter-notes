{
 "cells": [
  {
   "cell_type": "markdown",
   "metadata": {},
   "source": [
    "<div style='font-family:serif; font-size:16pt; color:blue;'>QBasic Introduction</div>"
   ]
  },
  {
   "cell_type": "markdown",
   "metadata": {},
   "source": [
    "## Introduction To Programming<br/>\n",
    "- Programming is the process of using programming language to write instructions for a computer to carry out in order to achieve a task. \n",
    "- A programming language is a software that is used to write instructions for the computer to achieve a task. E.g. Fortran(Formula Translator), LISP(List processing), COBOL(Common Oriented Business Programming Language), Java, C/C++, Python, QBasic, etc."
   ]
  },
  {
   "cell_type": "markdown",
   "metadata": {},
   "source": [
    "### Categories Of Programming Languages<br/>\n",
    "- <u>Low Level Programming Language</u>: It is a language that is closer to computer hardware. E.g. Machine Language and Assembly Language.\n",
    "- <u>High Level Language</u>: It is a language that is closer to human language. There are 3 main types: **Procedural**(E.g. Pascal, Fortran, COBOL, C, etc.); **Declarative**(E.g. Prolog, etc) and **Object-Oriented**(E.g. Java, C++, Python, etc)\n",
    "<br/><br/>\n",
    "P.S. I don't want to bore you with much talk, you'll learn the details in class. "
   ]
  },
  {
   "cell_type": "markdown",
   "metadata": {},
   "source": [
    "**Criteria for selecting a programming language:**<br/>\n",
    "- The nature of the application. \n",
    "- The availability of the facilities within the language for implementing the software design\n",
    "- The availability of a suitable compiler/interpreter for the hardware \n",
    "- The expertise of programmers "
   ]
  },
  {
   "cell_type": "markdown",
   "metadata": {},
   "source": [
    "### N.B. <br/>\n",
    "**Before we go into the QBasic, there's is something you need to know. As a programmer you don't start to code when you come up with an idea when solving a problem. It may work initially but as the problems get more complex, you'll run into trouble and get stuck.<br/>\n",
    "It is something you'll probably learn but I want to brief you first: on the program development life cycle.**\n",
    "### Program development life cycle: <br/>\n",
    "1. Problem Definition \n",
    "2. Problem Analysis\n",
    "3. Algorithm Design and Representation\n",
    "4. Actual Coding \n",
    "5. Testing and Debugging \n",
    "6. Complete Documentation and Operator Procedures Ready for Documentation \n",
    "<br/><br/> At your current stage we'll look at the first 4 later in these notes .<br/>"
   ]
  },
  {
   "cell_type": "markdown",
   "metadata": {},
   "source": [
    "# QBasic <br/>\n",
    "> Beginners All Purpose Symbolic Instructional Code"
   ]
  },
  {
   "cell_type": "markdown",
   "metadata": {},
   "source": [
    "### Features:<br/>\n",
    "- Data type\n",
    "- Constant and variables\n",
    "- Expressions and assignments\n",
    "- I/O (Input/Output) statement \n",
    "- Built-in functions \n",
    "- Sequential and conditional statements \n",
    "- Loops construct\n",
    "- Nested loops\n",
    "- Single dimensional arrays\n",
    "<br/><br/>\n",
    "<b>Data types:</b><br/>\n",
    "1. Numbers:\n",
    "            - Double Floats\n",
    "            - Integers\n",
    "            - Floats \n",
    "            - Whole Number\n",
    "2. Strings: \n",
    "            - Characters\n",
    "3. Boolean: \n",
    "            - Yes/No\n",
    "            - True/False\n",
    "<br/><br/> **N.B.** Floats are numbers with decimal points.<br/><br/>\n",
    "<b>Variables:</b><br/>\n",
    "A variable is a memory space created to accept a data type.\n",
    "**Rules For Naming Variables:**\n",
    "* A variable must always start with an alphabet  and the subsequent, an alphabet or a number.\n",
    "* A variable must not contain space.\n",
    "* A variable name must not be a keyword of the language used."
   ]
  },
  {
   "cell_type": "markdown",
   "metadata": {},
   "source": [
    "End of lesson.<br/>\n",
    "&copy; David Saah"
   ]
  }
 ],
 "metadata": {
  "kernelspec": {
   "display_name": "Python 3 (ipykernel)",
   "language": "python",
   "name": "python3"
  },
  "language_info": {
   "codemirror_mode": {
    "name": "ipython",
    "version": 3
   },
   "file_extension": ".py",
   "mimetype": "text/x-python",
   "name": "python",
   "nbconvert_exporter": "python",
   "pygments_lexer": "ipython3",
   "version": "3.11.5"
  }
 },
 "nbformat": 4,
 "nbformat_minor": 4
}
