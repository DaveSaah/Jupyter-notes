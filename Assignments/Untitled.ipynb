{
 "cells": [
  {
   "cell_type": "markdown",
   "id": "29647f40",
   "metadata": {},
   "source": [
    "# Questions To Try\n",
    "\n",
    "1. Python program to check whether the given number is even or not.\n",
    "2. Python program to find the area of a triangle whose sides are given.\n",
    "3. Python program to find out the average of a set of integers.\n",
    "4. Python program to find the circumference and area of a circle with a given radius."
   ]
  },
  {
   "cell_type": "markdown",
   "id": "1911d090",
   "metadata": {},
   "source": [
    "--------------------------------------------"
   ]
  },
  {
   "cell_type": "markdown",
   "id": "16f2736f",
   "metadata": {},
   "source": [
    "\n",
    "5. Python program to check whether the given integer is a multiple of 5.\n",
    "6. Python program to check whether the given integer is a multiple of both 5 and 7.\n",
    "7. Ask for two numbers. If the first one is larger than the second, display the second number first and then the first number, otherwise show the first number first and then the second.\n",
    "8. Check of a number is prime or not. Display a message telling whether the input is a prime number or not."
   ]
  },
  {
   "cell_type": "code",
   "execution_count": null,
   "id": "7c4a7cef",
   "metadata": {},
   "outputs": [],
   "source": []
  }
 ],
 "metadata": {
  "kernelspec": {
   "display_name": "Python 3 (ipykernel)",
   "language": "python",
   "name": "python3"
  },
  "language_info": {
   "codemirror_mode": {
    "name": "ipython",
    "version": 3
   },
   "file_extension": ".py",
   "mimetype": "text/x-python",
   "name": "python",
   "nbconvert_exporter": "python",
   "pygments_lexer": "ipython3",
   "version": "3.10.7"
  }
 },
 "nbformat": 4,
 "nbformat_minor": 5
}
