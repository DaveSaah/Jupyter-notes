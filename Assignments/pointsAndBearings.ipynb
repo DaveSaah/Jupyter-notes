{
 "cells": [
  {
   "cell_type": "code",
   "execution_count": 48,
   "metadata": {},
   "outputs": [
    {
     "name": "stdout",
     "output_type": "stream",
     "text": [
      "Points for processing\n",
      "p0: (2, 3)\n",
      "p1: (4, 7)\n",
      "p2: (-7, 5)\n",
      "p3: (-5, -6)\n",
      "p4: (5, -10)\n",
      "\n",
      "\n",
      "\n",
      "\n",
      "The distance between p0 and p1 is 4.4721\n",
      "The distance between p1 and p2 is 11.1803\n",
      "The distance between p2 and p3 is 11.1803\n",
      "The distance between p3 and p4 is 10.7703\n",
      "\n",
      "\n",
      "\n",
      "\n",
      "The bearing between p0 and p1 is 63.4349\n",
      "The bearing between p1 and p2 is 10.3048\n",
      "The bearing between p2 and p3 is -79.6952\n",
      "The bearing between p3 and p4 is -21.8014\n",
      "\n",
      "\n",
      "\n",
      "\n"
     ]
    }
   ],
   "source": [
    "from math import atan, degrees\n",
    "\n",
    "\n",
    "#initialising points variables\n",
    "points = {\n",
    "    'p0':(2,3), 'p1':(4, 7), 'p2':(-7, 5), 'p3':(-5, -6), 'p4':(5, -10)\n",
    "         }\n",
    "\n",
    "\n",
    "class Process:\n",
    "    '''Runs computation on points declared'''\n",
    "    \n",
    "    def __init__(self, points):\n",
    "        '''Initialising variables to p0, p1, p2, p3 and p4 respectively'''\n",
    "        self.p0, self.p1, self.p2, self.p3, self.p4 = points.values()\n",
    "    \n",
    "    def data(self):\n",
    "        '''Outputs the data used'''\n",
    "        print('Points for processing')\n",
    "        for p in points:\n",
    "            print(p + ':', points[p])\n",
    "        print('\\n\\n\\n')\n",
    "        #print(self.p0)\n",
    "        \n",
    "    def distance(self, a1, a2):\n",
    "        '''Defining general formula for distance'''\n",
    "        self.dist = ((a1[0] - a2[0])**2 + (a1[1] - a2[1])**2)**(1/2)\n",
    "        return self.dist\n",
    "    \n",
    "    def bearing(self, a1, a2):\n",
    "        '''Defines general formula for calculating bearing in degrees'''\n",
    "        y = a2[1] - a1[1]\n",
    "        x = a2[0] - a1[0]\n",
    "        self.bear = degrees(atan(y/x))\n",
    "        return self.bear\n",
    "    \n",
    "    def consecutive_distance(self):\n",
    "        '''Calculates the distance between consecutive points'''\n",
    "        dist1 = self.distance(self.p0, self.p1)\n",
    "        dist2 = self.distance(self.p1, self.p2)\n",
    "        dist3 = self.distance(self.p2, self.p3)\n",
    "        dist4 = self.distance(self.p3, self.p4)\n",
    "        print(f'The distance between p0 and p1 is {round(dist1, 4)}')\n",
    "        print(f'The distance between p1 and p2 is {round(dist2, 4)}')\n",
    "        print(f'The distance between p2 and p3 is {round(dist3, 4)}')\n",
    "        print(f'The distance between p3 and p4 is {round(dist4, 4)}')\n",
    "        print('\\n\\n\\n')\n",
    "    \n",
    "    def consecutive_bearing(self):\n",
    "        '''Calculates the bearing of consecutive points'''\n",
    "        bear1 = self.bearing(self.p0, self.p1)\n",
    "        bear2 = self.bearing(self.p1, self.p2)\n",
    "        bear3 = self.bearing(self.p2, self.p3)\n",
    "        bear4 = self.bearing(self.p3, self.p4)\n",
    "        print(f'The bearing between p0 and p1 is {round(bear1, 4)}')\n",
    "        print(f'The bearing between p1 and p2 is {round(bear2, 4)}')\n",
    "        print(f'The bearing between p2 and p3 is {round(bear3, 4)}')\n",
    "        print(f'The bearing between p3 and p4 is {round(bear4, 4)}')\n",
    "        print('\\n\\n\\n')\n",
    "\n",
    "\n",
    "\n",
    "        \n",
    "        \n",
    "var = Process(points)\n",
    "var.data()\n",
    "var.consecutive_distance()\n",
    "var.consecutive_bearing()\n",
    "#Accessing class objects and printing output\n",
    "#Process.data()\n",
    "#Process.consecutive_distance()\n",
    "#Process.consecutive_bearing()"
   ]
  },
  {
   "cell_type": "code",
   "execution_count": 45,
   "metadata": {},
   "outputs": [
    {
     "name": "stdout",
     "output_type": "stream",
     "text": [
      "(2, 4)\n",
      "(-11, -2)\n",
      "(2, -11)\n",
      "(10, -4)\n"
     ]
    }
   ],
   "source": [
    "p0 = (2, 3)\n",
    "p1 = (4, 7)\n",
    "p2 = (-7, 5)\n",
    "p3 = (-5, -6)\n",
    "p4 = (5, -10)\n",
    "\n",
    "def change(p1, p2):\n",
    "    x = p2[0] - p1[0]\n",
    "    y = p2[1] - p1[1]\n",
    "    return (x, y)\n",
    "\n",
    "s1 = change(p0, p1)\n",
    "print(s1)\n",
    "\n",
    "s2 = change(p1, p2)\n",
    "print(s2)\n",
    "\n",
    "s3 = change(p2, p3)\n",
    "print(s3)\n",
    "\n",
    "s4 = change(p3, p4)\n",
    "print(s4)"
   ]
  },
  {
   "cell_type": "code",
   "execution_count": 4,
   "metadata": {},
   "outputs": [
    {
     "name": "stdout",
     "output_type": "stream",
     "text": [
      "p0: (2, 3)\n",
      "p1: (4, 7)\n",
      "p2: (-7, 5)\n",
      "p3: (-5, -6)\n",
      "p4: (5, -10)\n"
     ]
    }
   ],
   "source": [
    "points = {\n",
    "    'p0':(2,3), 'p1':(4, 7), 'p2':(-7, 5), 'p3':(-5, -6), 'p4':(5, -10)\n",
    "         }\n",
    "\n",
    "\n",
    "for p in points:print(p + ':', points[p])"
   ]
  },
  {
   "cell_type": "code",
   "execution_count": 1,
   "metadata": {},
   "outputs": [
    {
     "name": "stdout",
     "output_type": "stream",
     "text": [
      "3.141592653589793\n"
     ]
    }
   ],
   "source": [
    "import math\n",
    "print(math.pi)"
   ]
  }
 ],
 "metadata": {
  "kernelspec": {
   "display_name": "Python 3 (ipykernel)",
   "language": "python",
   "name": "python3"
  },
  "language_info": {
   "codemirror_mode": {
    "name": "ipython",
    "version": 3
   },
   "file_extension": ".py",
   "mimetype": "text/x-python",
   "name": "python",
   "nbconvert_exporter": "python",
   "pygments_lexer": "ipython3",
   "version": "3.8.12"
  }
 },
 "nbformat": 4,
 "nbformat_minor": 4
}
