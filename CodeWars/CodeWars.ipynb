{
 "cells": [
  {
   "cell_type": "markdown",
   "metadata": {},
   "source": [
    "### Question 1"
   ]
  },
  {
   "cell_type": "markdown",
   "metadata": {},
   "source": [
    "Complementary DNA\n",
    "Deoxyribonucleic acid (DNA) is a chemical found in the nucleus of cells and carries the \"instructions\" for the development and functioning of living organisms.\n",
    "\n",
    "If you want to know more http://en.wikipedia.org/wiki/DNA\n",
    "\n",
    "In DNA strings, symbols \"A\" and \"T\" are complements of each other, as \"C\" and \"G\". You have function with one side of the DNA (string, except for Haskell); you need to get the other complementary side. DNA strand is never empty or there is no DNA at all (again, except for Haskell).\n",
    "\n",
    "Write a code with function DNA_strand() that performs complementary DNA.<br/>\n",
    "\n",
    "Sample input and output<br/>\n",
    "DNA_strand (\"ATTGC\") # return \"TAACG\"<br/>\n",
    "\n",
    "DNA_strand (\"GTAT\") # return \"CATA\"<br/>"
   ]
  },
  {
   "cell_type": "code",
   "execution_count": 1,
   "metadata": {},
   "outputs": [
    {
     "data": {
      "text/plain": [
       "'TGACT'"
      ]
     },
     "execution_count": 1,
     "metadata": {},
     "output_type": "execute_result"
    }
   ],
   "source": [
    "dna = 'ACTGA'\n",
    "\n",
    "def DNA_strand(dna):\n",
    "    complement = \"\"\n",
    "    ef = []\n",
    "    \n",
    "    for x in dna:\n",
    "        ef.append(x)\n",
    "    \n",
    "    for a in range(len(ef)):\n",
    "        if ef[a] == \"A\":\n",
    "            ef[a] = \"T\"\n",
    "        elif ef[a] == \"T\":\n",
    "            ef[a] = \"A\"\n",
    "        elif ef[a] == \"G\":\n",
    "            ef[a] = \"C\"\n",
    "        elif ef[a] == \"C\":\n",
    "            ef[a] = \"G\"\n",
    "    \n",
    "    for y in ef:\n",
    "        complement += y\n",
    "        \n",
    "    return complement\n",
    "\n",
    "    \n",
    "DNA_strand(dna)"
   ]
  },
  {
   "cell_type": "code",
   "execution_count": 1,
   "metadata": {},
   "outputs": [
    {
     "data": {
      "text/plain": [
       "'TGACT'"
      ]
     },
     "execution_count": 1,
     "metadata": {},
     "output_type": "execute_result"
    }
   ],
   "source": [
    "dna = 'ACTGA'\n",
    "\n",
    "def DNA_strand(dna):\n",
    "    return dna.translate(str.maketrans(\"ATCG\",\"TAGC\"))\n",
    "\n",
    "DNA_strand(dna)"
   ]
  },
  {
   "cell_type": "code",
   "execution_count": null,
   "metadata": {},
   "outputs": [],
   "source": [
    "#Gaducks\n",
    "\n",
    "def is_seq_valid(seq):\n",
    "    \"\"\"Returns True if sequence is DNA otherwise False\"\"\"\n",
    "    valid_bases = ['A', 'T', 'G', 'C']\n",
    "    for base in seq:\n",
    "        if base not in valid_bases:\n",
    "            return False\n",
    "    return True\n",
    "\n",
    "\n",
    "def reverse(seq):\n",
    "    \"\"\"Returns a reversed string\"\"\"\n",
    "    return seq[::-1]\n",
    "\n",
    "\n",
    "def complement(seq):\n",
    "    \"\"\"Returns a complement DNA sequence\"\"\"\n",
    "    complement_dict = {'A': 'T', 'C': 'G', 'T': 'A', 'G': 'C'}\n",
    "    seq_list = list(seq)\n",
    "    seq_list = [complement_dict[base] for base in seq_list]\n",
    "    return ''.join(seq_list)\n",
    "def reverse_complement(seq):\n",
    "    \"\"\"\"Returns a reverse complement DNA sequence\"\"\"\n",
    "    seq = reverse(seq)\n",
    "    seq = complement(seq)\n",
    "    return seq\n",
    "\n",
    "# Main starts here\n",
    "\n",
    "\n",
    "def main():\n",
    "    print('**********************Reverse Complement Program**********************')\n",
    "    # Prompt user here\n",
    "    sequence = input(\"Please enter an oligonucleotide sequence: \").upper()\n",
    "\n",
    "    # Loop until invalid char\n",
    "    while (is_seq_valid(sequence)):\n",
    "        print('Original sequence: ' + sequence)\n",
    "        print('Reverse complement sequence: ' + reverse_complement(sequence))\n",
    "        sequence = input(\"Please enter an oligonucleotide sequence: \").upper()\n",
    "    print('######################################################################')\n",
    "\n",
    "\n",
    "if __name__ == '__main__':\n",
    "    main()"
   ]
  },
  {
   "cell_type": "markdown",
   "metadata": {},
   "source": [
    "### Question 2"
   ]
  },
  {
   "cell_type": "markdown",
   "metadata": {},
   "source": [
    "FizzBuzz is a well known programming assignment, asked during interviews.<br/>\n",
    "\n",
    "- The given code solves the FizzBuzz problem and uses the words \"Gadukes\" and \"Gaducks\" instead of \"Fizz\" and \"Buzz\". \n",
    "- It takes an input n and outputs the numbers from 1 to n.\n",
    "- For each multiple of 3, print \"Gadukes\" instead of the number. \n",
    "- For each multiple of 5, prints \"Gaducks\" instead of the number. \n",
    "- For numbers which are multiples of both 3 and 5, output \"GadukesGaducks\". <br/>\n",
    "\n",
    "You need to skip the even numbers, so that the logic only applies to odd numbers in the range."
   ]
  },
  {
   "cell_type": "code",
   "execution_count": 14,
   "metadata": {},
   "outputs": [
    {
     "name": "stdout",
     "output_type": "stream",
     "text": [
      "Enter a number: 20\n",
      "1\n",
      "2\n",
      "Gadukes\n",
      "4\n",
      "Gaducks\n",
      "6\n",
      "7\n",
      "8\n",
      "Gadukes\n",
      "10\n",
      "11\n",
      "12\n",
      "13\n",
      "14\n",
      "GadukesGaducks\n",
      "16\n",
      "17\n",
      "18\n",
      "19\n",
      "20\n"
     ]
    }
   ],
   "source": [
    "num = int(input('Enter a number: '))\n",
    "\n",
    "for x in range(1, num+1, 2):\n",
    "    if x % 5 == 0 and x % 3 == 0:\n",
    "        print('GadukesGaducks')\n",
    "    elif x % 3 == 0:\n",
    "        print('Gadukes')\n",
    "    elif x % 5 == 0:\n",
    "        print('Gaducks')\n",
    "    else:\n",
    "        print(x)"
   ]
  }
 ],
 "metadata": {
  "kernelspec": {
   "display_name": "Python 3",
   "language": "python",
   "name": "python3"
  },
  "language_info": {
   "codemirror_mode": {
    "name": "ipython",
    "version": 3
   },
   "file_extension": ".py",
   "mimetype": "text/x-python",
   "name": "python",
   "nbconvert_exporter": "python",
   "pygments_lexer": "ipython3",
   "version": "3.8.5"
  }
 },
 "nbformat": 4,
 "nbformat_minor": 4
}
