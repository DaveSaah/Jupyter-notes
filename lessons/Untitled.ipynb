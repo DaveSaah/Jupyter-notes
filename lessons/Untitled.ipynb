{
 "cells": [
  {
   "cell_type": "markdown",
   "id": "cbd75716-e48e-47e8-b490-35715ae36e6c",
   "metadata": {},
   "source": [
    "1. Identify the problem. \n",
    "2. Identify the variables or the things needed. \n",
    "3. Which data type or structure is best for the variable. \n",
    "4. Which processes or operations should the variable go through.\n",
    "5. Write a pseudo code to test your solution. \n",
    "6. Coding."
   ]
  },
  {
   "cell_type": "markdown",
   "id": "1cf4bc6e-75e1-4382-b703-d49ba850536f",
   "metadata": {},
   "source": [
    "Complementary DNA\n",
    "Deoxyribonucleic acid (DNA) is a chemical found in the nucleus of cells and carries the \"instructions\" for the development and functioning of living organisms.\n",
    "\n",
    "If you want to know more http://en.wikipedia.org/wiki/DNA\n",
    "\n",
    "In DNA strings, symbols \"A\" and \"T\" are complements of each other, as \"C\" and \"G\". You have function with one side of the DNA; you need to get the other complementary side. DNA strand is never empty or there is no DNA at all.\n",
    "\n",
    "Write a code with function DNA_strand() that performs complementary DNA.<br/>\n",
    "\n",
    "Sample input and output<br/>\n",
    "DNA_strand (\"ATTGC\") # return \"TAACG\"<br/>\n",
    "\n",
    "DNA_strand (\"GTAT\") # return \"CATA\"<br/>"
   ]
  },
  {
   "cell_type": "code",
   "execution_count": null,
   "id": "8aef63b6-0948-454b-802d-04ab12854c30",
   "metadata": {},
   "outputs": [],
   "source": []
  },
  {
   "cell_type": "code",
   "execution_count": null,
   "id": "d444f34f-5fe2-4e45-a58d-eb7dc67c23ec",
   "metadata": {},
   "outputs": [],
   "source": []
  }
 ],
 "metadata": {
  "kernelspec": {
   "display_name": "Python 3",
   "language": "python",
   "name": "python3"
  },
  "language_info": {
   "codemirror_mode": {
    "name": "ipython",
    "version": 3
   },
   "file_extension": ".py",
   "mimetype": "text/x-python",
   "name": "python",
   "nbconvert_exporter": "python",
   "pygments_lexer": "ipython3",
   "version": "3.8.5"
  }
 },
 "nbformat": 4,
 "nbformat_minor": 5
}
