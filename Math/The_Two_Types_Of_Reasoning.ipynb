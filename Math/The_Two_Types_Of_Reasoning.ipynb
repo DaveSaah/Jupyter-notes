{
 "cells": [
  {
   "cell_type": "markdown",
   "metadata": {},
   "source": [
    "<font style='font-family:serif; font-weight: bold; font-size:18pt; color: blue;'>Inductive And Deductive Reasoning</font>"
   ]
  },
  {
   "cell_type": "markdown",
   "metadata": {},
   "source": [
    "- <u><b>Inductive Reasoning:</b></u> By observing a specific outcome of the experiment, a conclusion is drawn from the observation in a generalized form. <br/>That is:  <i>specific ---> general</i> <br/>\n",
    "It is logically true but may or may not be realistically true.<br/>\n",
    "E.g.<br/>p: Mango is a fruit <i>(specific)</i><br/>q: The box is full of fruits <i>(specific)</i><br/>conclusion: The box is full of mangoes <i>(general)</i><br/><hr/>\n",
    "The conclusion is logically true but not realistically true; since some of the fruits may not be mangoes.\n",
    "<br/><br/>\n",
    "- <u><b>Deductive Reasoning:</b></u> By observing a general arguement, a specific conclusion is drawn. <br/>That is:  <i>general --> specific</i><br/>\n",
    "It is always true, both logically and realistically. <br/>\n",
    "E.g.<br/>p: All mangoes are fruits <i>(general)</i><br/>q: All fruits have seeds <i>(general)</i><br/>\n",
    "conclusion: Mangoes have seeds <i>(specific)</i><br/><hr/>The conclusion is both logically and realistically true; since all mangoes have seeds.<br/><br/>\n",
    "Inductive resoning is applied in mathematics as the <b>Principle Of Mathematical Induction.</b>"
   ]
  },
  {
   "cell_type": "markdown",
   "metadata": {},
   "source": [
    "<br/>&copy; David Saah"
   ]
  }
 ],
 "metadata": {
  "kernelspec": {
   "display_name": "Python 3",
   "language": "python",
   "name": "python3"
  },
  "language_info": {
   "codemirror_mode": {
    "name": "ipython",
    "version": 3
   },
   "file_extension": ".py",
   "mimetype": "text/x-python",
   "name": "python",
   "nbconvert_exporter": "python",
   "pygments_lexer": "ipython3",
   "version": "3.8.3"
  }
 },
 "nbformat": 4,
 "nbformat_minor": 4
}
