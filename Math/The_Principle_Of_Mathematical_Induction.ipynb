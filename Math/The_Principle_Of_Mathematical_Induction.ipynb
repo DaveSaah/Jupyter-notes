{
 "cells": [
  {
   "cell_type": "markdown",
   "metadata": {},
   "source": [
    "<font style='font-family:serif; font-weight: bold; font-size:16pt; color: blue;'>The Principle Of Mathematical Induction</font>"
   ]
  },
  {
   "cell_type": "markdown",
   "metadata": {},
   "source": [
    "In the principle of mathematical induction, a particular case is observed to see if a pattern exists in order to deduce a general conclusion from that outcome. The conclusion arrived at during inductive reasoning is called a ***conjecture.*** <br/>\n",
    "> Conjecture is a hypothesis that has not been proven. <br/>\n",
    "Conjectures must be proven using the principle of mathematical induction."
   ]
  },
  {
   "cell_type": "markdown",
   "metadata": {},
   "source": [
    "Let's explain it by an example <br/>\n",
    "**Question:** Prove that 2 + 4 + 6 + ... + 2n  =  n (n + 1)"
   ]
  },
  {
   "cell_type": "markdown",
   "metadata": {},
   "source": [
    "### Solution <br/>\n",
    "**Explaining step by step:** <br/>\n",
    "- By induction, we can introduce something called a dominos effect. \n",
    "> A dominos effect is the cumulative effect produced when one event sets off a chain of similar events. For example, a stack of sticks are placed near each other such that when the first one falls, it hit the other and the other hits the next till all falls down."
   ]
  },
  {
   "cell_type": "markdown",
   "metadata": {},
   "source": [
    "##### <u>Below is an illustration of the dominos effect</u>"
   ]
  },
  {
   "cell_type": "markdown",
   "metadata": {},
   "source": [
    "<th>Before</th>\n",
    "<td><div style='height:100px; width:20px; border: 1px solid black'></div></td>\n",
    "<td><div style='height:100px; width:20px; border: 1px solid black'></div></td>\n",
    "<td><div style='height:100px; width:20px; border: 1px solid black'></div></td>\n",
    "<td><div style='height:100px; width:20px; border: 1px solid black'></div></td>\n",
    "<td><div style='height:100px; width:20px; border: 1px solid black'></div></td>"
   ]
  },
  {
   "cell_type": "markdown",
   "metadata": {},
   "source": [
    "<th>After pushing the first</th>\n",
    "<td><div style='height:100px; width:20px; border: 1px solid black; transform:rotate(60deg);'></div></td>\n",
    "<td><div style='height:100px; width:20px; border: 1px solid black; transform:rotate(60deg);'></div></td>\n",
    "<td><div style='height:100px; width:20px; border: 1px solid black; transform:rotate(60deg);'></div></td>\n",
    "<td><div style='height:100px; width:20px; border: 1px solid black; transform:rotate(60deg);'></div></td>\n",
    "<td><div style='height:100px; width:20px; border: 1px solid black; transform:rotate(60deg);'></div></td>"
   ]
  },
  {
   "cell_type": "markdown",
   "metadata": {},
   "source": [
    "* So in applying the dominos effect, we assume that where a formula is true for one term, it is also true for the next; and so on.<br/><br/>\n",
    "* To prove a formula is true, it needs to fulfill two conditions. <hr/>"
   ]
  },
  {
   "cell_type": "markdown",
   "metadata": {},
   "source": [
    "<u><b>Condition 1:</b></u> The base case or the fact. <br/>Where P(1) is true for n = 1 (in reference to the question given) <br/>\n",
    "n = 1 -----> 1st term. <br/>\n",
    "What is P(x)? (note the P(1) above): **:  P(x)** is called the propositional statement that has a definite value, either *True* or *False*. The value of *P* depends on *x*.\n",
    "<blockquote>E.g.<br/>\n",
    "P(x): x is cold.<br/>\n",
    "if x is ice, then P(x) is True<br/>\n",
    "if x is fire, then P(x) is False <br/>\n",
    "</blockquote>\n",
    "<u><b>Condition 2:</b></u> It is a conditional property or the inductive case. <br/>\n",
    "Assume that P(n) is true for n = k, then P(n) is true for n = k + 1. This creates a dominos effect. {P(k) true ----> P(k + 1) true}<br/>\n",
    "The formula where we use n = k is called inductive hypothesis."
   ]
  },
  {
   "cell_type": "markdown",
   "metadata": {},
   "source": [
    "### Solving the question"
   ]
  },
  {
   "cell_type": "markdown",
   "metadata": {},
   "source": [
    "Let P(n) be the propositional statement. <br/>\n",
    "P(n): 2 + 4 + 6 + ... + 2n = n (n + 1)<br/>\n",
    "Base case: Assume P(1) is True for n = 1<br/><br/>\n",
    "n = 1 -----> first term\n",
    "P(1)<sub>LHS</sub> = 2<br/>\n",
    "P(1)<sub>RHS</sub> = 1(1 + 1) = 2<br/>\n",
    "Hence, base case is True (proved)<br/><br/>\n",
    "Hypothesis: Assume if P(k) is True, then P(k + 1) is also true.<br/><br/>\n",
    "n = k <br/>\n",
    "P(k): 2 + 4 + 6 + ... + 2k = k(k + 1)<br/>\n",
    "P(k + 1): 2 + 4 + 6 + ... + 2k + 2(k + 1) = k(k + 1)<br/><br/>\n",
    "P(k + 1)<sub>LHS</sub> = 2 + 4 + 6 + ... + 2k + 2(k + 1)<br/>\n",
    "<blockquote>Since 2 + 4 + 6 + ... + 2k = k(k + 1)</blockquote><br/>\n",
    "P(k + 1)<sub>LHS</sub> = k(k + 1) + 2(k +1)<br/>\n",
    "P(k + 1)<sub>LHS</sub> = (k + 1)(k + 2)<br/><br/>\n",
    "P(k + 1)<sub>RHS</sub> = k(k + 1)<br/>\n",
    "<blockquote>but k = k + 1, for P(k + 1)</blockquote><br/>\n",
    "P(k + 1)<sub>RHS</sub> = (k + 1)(k + 1 + 1)<br/>\n",
    "P(k + 1)<sub>RHS</sub> = (k + 1)(k + 2)<br/><br/>\n",
    "Since P(k + 1)<sub>LHS</sub> = P(k + 1)<sub>RHS</sub>, by the principle of mathematical induction, the equation <b>2 + 4 + 6 + ... + 2n = n (n + 1)</b> is true"
   ]
  },
  {
   "cell_type": "markdown",
   "metadata": {},
   "source": [
    "<br/><br/>&copy; David Saah"
   ]
  }
 ],
 "metadata": {
  "kernelspec": {
   "display_name": "Python 3",
   "language": "python",
   "name": "python3"
  },
  "language_info": {
   "codemirror_mode": {
    "name": "ipython",
    "version": 3
   },
   "file_extension": ".py",
   "mimetype": "text/x-python",
   "name": "python",
   "nbconvert_exporter": "python",
   "pygments_lexer": "ipython3",
   "version": "3.8.3"
  }
 },
 "nbformat": 4,
 "nbformat_minor": 4
}
