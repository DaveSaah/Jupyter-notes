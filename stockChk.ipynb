{
 "cells": [
  {
   "cell_type": "code",
   "execution_count": null,
   "metadata": {},
   "outputs": [],
   "source": [
    "items = {\n",
    "    'coke': 34,\n",
    "    'fanta': 45,\n",
    "    'sprite': 82,\n",
    "}"
   ]
  },
  {
   "cell_type": "code",
   "execution_count": null,
   "metadata": {},
   "outputs": [],
   "source": [
    "def update(item, qty):\n",
    "    items[item] = qty\n",
    "    \n",
    "def add_item(item, qty):\n",
    "    items[item] = qty\n",
    "    \n",
    "def itemChk():\n",
    "        print('\\n')\n",
    "        print('list of items'.upper())\n",
    "        print('{0:^33}'.format('_'*33))\n",
    "        print('{0:^15}{1:^18}'.format('Items', 'Stock Available'))\n",
    "        print('{0:^33}'.format('_'*33))\n",
    "\n",
    "        for x in items.keys():\n",
    "                print('{0:^15}{1:^18}'.format(x, items[x]))\n",
    "\n",
    "        print('{0:^33}'.format('_'*33))\n",
    "        print('\\n')"
   ]
  },
  {
   "cell_type": "code",
   "execution_count": null,
   "metadata": {},
   "outputs": [],
   "source": [
    "update('coke', 34)"
   ]
  },
  {
   "cell_type": "code",
   "execution_count": null,
   "metadata": {},
   "outputs": [],
   "source": [
    "add_item('malt', 45)"
   ]
  }
 ],
 "metadata": {
  "kernelspec": {
   "display_name": "Python 3",
   "language": "python",
   "name": "python3"
  },
  "language_info": {
   "codemirror_mode": {
    "name": "ipython",
    "version": 3
   },
   "file_extension": ".py",
   "mimetype": "text/x-python",
   "name": "python",
   "nbconvert_exporter": "python",
   "pygments_lexer": "ipython3",
   "version": "3.8.3"
  }
 },
 "nbformat": 4,
 "nbformat_minor": 4
}
