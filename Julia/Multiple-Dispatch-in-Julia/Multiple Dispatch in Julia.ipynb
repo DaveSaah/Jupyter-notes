{
 "cells": [
  {
   "cell_type": "markdown",
   "metadata": {},
   "source": [
    "# Multiple Dispatch in Julia\n",
    "\n",
    "----\n",
    "\n",
    "*From Wikipedia*\n",
    "\n",
    "*Multiple Dispatch is a feature of programming language where function or method can be dynamically dispatched based on the run time type or in, the more general case, some other attribute of more than one of its arguments.*"
   ]
  },
  {
   "cell_type": "markdown",
   "metadata": {},
   "source": [
    "Let's define an example function"
   ]
  },
  {
   "cell_type": "code",
   "execution_count": 1,
   "metadata": {},
   "outputs": [
    {
     "data": {
      "text/plain": [
       "f (generic function with 1 method)"
      ]
     },
     "execution_count": 1,
     "metadata": {},
     "output_type": "execute_result"
    }
   ],
   "source": [
    "f(x) = x^2 + 2*x + 3"
   ]
  },
  {
   "cell_type": "markdown",
   "metadata": {},
   "source": [
    "We compute an **integer** as an input."
   ]
  },
  {
   "cell_type": "code",
   "execution_count": 2,
   "metadata": {},
   "outputs": [
    {
     "data": {
      "text/plain": [
       "11"
      ]
     },
     "execution_count": 2,
     "metadata": {},
     "output_type": "execute_result"
    }
   ],
   "source": [
    "f(2)"
   ]
  },
  {
   "cell_type": "markdown",
   "metadata": {},
   "source": [
    "What happens if we compute an **array** as an input?"
   ]
  },
  {
   "cell_type": "code",
   "execution_count": 8,
   "metadata": {},
   "outputs": [
    {
     "ename": "LoadError",
     "evalue": "MethodError: no method matching ^(::Vector{Int64}, ::Int64)\n\u001b[0mClosest candidates are:\n\u001b[0m  ^(\u001b[91m::Union{AbstractChar, AbstractString}\u001b[39m, ::Integer) at ~/julia-1.7.2/share/julia/base/strings/basic.jl:721\n\u001b[0m  ^(\u001b[91m::Rational\u001b[39m, ::Integer) at ~/julia-1.7.2/share/julia/base/rational.jl:475\n\u001b[0m  ^(\u001b[91m::LinearAlgebra.Diagonal\u001b[39m, ::Integer) at ~/julia-1.7.2/share/julia/stdlib/v1.7/LinearAlgebra/src/diagonal.jl:196\n\u001b[0m  ...",
     "output_type": "error",
     "traceback": [
      "MethodError: no method matching ^(::Vector{Int64}, ::Int64)\n\u001b[0mClosest candidates are:\n\u001b[0m  ^(\u001b[91m::Union{AbstractChar, AbstractString}\u001b[39m, ::Integer) at ~/julia-1.7.2/share/julia/base/strings/basic.jl:721\n\u001b[0m  ^(\u001b[91m::Rational\u001b[39m, ::Integer) at ~/julia-1.7.2/share/julia/base/rational.jl:475\n\u001b[0m  ^(\u001b[91m::LinearAlgebra.Diagonal\u001b[39m, ::Integer) at ~/julia-1.7.2/share/julia/stdlib/v1.7/LinearAlgebra/src/diagonal.jl:196\n\u001b[0m  ...",
      "",
      "Stacktrace:",
      " [1] literal_pow",
      "   @ ./intfuncs.jl:325 [inlined]",
      " [2] f(x::Vector{Int64})",
      "   @ Main ./In[1]:1",
      " [3] top-level scope",
      "   @ In[8]:1",
      " [4] eval",
      "   @ ./boot.jl:373 [inlined]",
      " [5] include_string(mapexpr::typeof(REPL.softscope), mod::Module, code::String, filename::String)",
      "   @ Base ./loading.jl:1196"
     ]
    }
   ],
   "source": [
    "f([1, 2, 3])"
   ]
  },
  {
   "cell_type": "markdown",
   "metadata": {},
   "source": [
    "We will get a *MethodError* because the function `^` operation cannot be done on an array.\n",
    "\n",
    "Let's now define a function with some types."
   ]
  },
  {
   "cell_type": "code",
   "execution_count": 4,
   "metadata": {},
   "outputs": [
    {
     "data": {
      "text/plain": [
       "foo (generic function with 1 method)"
      ]
     },
     "execution_count": 4,
     "metadata": {},
     "output_type": "execute_result"
    }
   ],
   "source": [
    "foo(x::String, y::String) = println(\"Inputs are: $x and $y and both are strings.\")"
   ]
  },
  {
   "cell_type": "code",
   "execution_count": 5,
   "metadata": {},
   "outputs": [
    {
     "name": "stdout",
     "output_type": "stream",
     "text": [
      "Inputs are: String A and String B and both are strings.\n"
     ]
    }
   ],
   "source": [
    "foo(\"String A\", \"String B\")"
   ]
  },
  {
   "cell_type": "markdown",
   "metadata": {},
   "source": [
    "Now, if we input an integers:"
   ]
  },
  {
   "cell_type": "code",
   "execution_count": 11,
   "metadata": {},
   "outputs": [
    {
     "ename": "LoadError",
     "evalue": "MethodError: no method matching foo(::Int64, ::Int64)",
     "output_type": "error",
     "traceback": [
      "MethodError: no method matching foo(::Int64, ::Int64)",
      "",
      "Stacktrace:",
      " [1] top-level scope",
      "   @ In[11]:1",
      " [2] eval",
      "   @ ./boot.jl:373 [inlined]",
      " [3] include_string(mapexpr::typeof(REPL.softscope), mod::Module, code::String, filename::String)",
      "   @ Base ./loading.jl:1196"
     ]
    }
   ],
   "source": [
    "foo(5, 10)"
   ]
  },
  {
   "cell_type": "markdown",
   "metadata": {},
   "source": [
    "There is no matching method for `Int64` because the function `foo()` only accepts strings.\n",
    "\n",
    "So now, let's try modify the function `foo()` to take integers."
   ]
  },
  {
   "cell_type": "code",
   "execution_count": 6,
   "metadata": {},
   "outputs": [
    {
     "data": {
      "text/plain": [
       "foo (generic function with 2 methods)"
      ]
     },
     "execution_count": 6,
     "metadata": {},
     "output_type": "execute_result"
    }
   ],
   "source": [
    "foo(x::Int, y::Int) = println(\"Inputs are: $x and $y and both are integers.\")"
   ]
  },
  {
   "cell_type": "code",
   "execution_count": 7,
   "metadata": {},
   "outputs": [
    {
     "name": "stdout",
     "output_type": "stream",
     "text": [
      "Inputs are: 3 and 4 and both are integers.\n"
     ]
    }
   ],
   "source": [
    "foo(3, 4)"
   ]
  },
  {
   "cell_type": "markdown",
   "metadata": {},
   "source": [
    "What happened above?\n",
    "\n",
    "Well, when we defined `foo(x::Int, y::Int)`, we didn't replace / override the original `foo()`'s definition. Instead, we added 2nd definition. Julia is fine with this. \n",
    "\n",
    "We just added an additional ***method*** to the ***generic function*** called `foo`. A generic function is the abstract concept associated with a particular operation. For example, the generic function `+` represents the concept of addition. A method is a specific implementation of a generic function for particular argument types. For example `+` has methods that accept floating points, integers, matrices etc. We can use `methods` to see how many methods are associated with `foo`."
   ]
  },
  {
   "cell_type": "code",
   "execution_count": 15,
   "metadata": {},
   "outputs": [
    {
     "data": {
      "text/html": [
       "# 2 methods for generic function <b>foo</b>:<ul><li> foo(x::<b>String</b>, y::<b>String</b>) in Main at In[9]:1</li> <li> foo(x::<b>Int64</b>, y::<b>Int64</b>) in Main at In[12]:1</li> </ul>"
      ],
      "text/plain": [
       "# 2 methods for generic function \"foo\":\n",
       "[1] foo(x::String, y::String) in Main at In[9]:1\n",
       "[2] foo(x::Int64, y::Int64) in Main at In[12]:1"
      ]
     },
     "execution_count": 15,
     "metadata": {},
     "output_type": "execute_result"
    }
   ],
   "source": [
    "methods(foo)"
   ]
  },
  {
   "cell_type": "markdown",
   "metadata": {},
   "source": [
    "We can also look at methods associated with `+`"
   ]
  },
  {
   "cell_type": "code",
   "execution_count": 16,
   "metadata": {},
   "outputs": [
    {
     "data": {
      "text/html": [
       "# 208 methods for generic function <b>+</b>:<ul><li> +(x::<b>T</b>, y::<b>T</b>)<i> where T<:Union{Int128, Int16, Int32, Int64, Int8, UInt128, UInt16, UInt32, UInt64, UInt8}</i> in Base at <a href=\"https://github.com/JuliaLang/julia/tree/bf534986350a991e4a1b29126de0342ffd76205e/base/int.jl#L87\" target=\"_blank\">int.jl:87</a></li> <li> +(c::<b>Union{UInt16, UInt32, UInt64, UInt8}</b>, x::<b>BigInt</b>) in Base.GMP at <a href=\"https://github.com/JuliaLang/julia/tree/bf534986350a991e4a1b29126de0342ffd76205e/base/gmp.jl#L529\" target=\"_blank\">gmp.jl:529</a></li> <li> +(c::<b>Union{Int16, Int32, Int64, Int8}</b>, x::<b>BigInt</b>) in Base.GMP at <a href=\"https://github.com/JuliaLang/julia/tree/bf534986350a991e4a1b29126de0342ffd76205e/base/gmp.jl#L535\" target=\"_blank\">gmp.jl:535</a></li> <li> +(c::<b>Union{UInt16, UInt32, UInt64, UInt8}</b>, x::<b>BigFloat</b>) in Base.MPFR at <a href=\"https://github.com/JuliaLang/julia/tree/bf534986350a991e4a1b29126de0342ffd76205e/base/mpfr.jl#L390\" target=\"_blank\">mpfr.jl:390</a></li> <li> +(c::<b>Union{Int16, Int32, Int64, Int8}</b>, x::<b>BigFloat</b>) in Base.MPFR at <a href=\"https://github.com/JuliaLang/julia/tree/bf534986350a991e4a1b29126de0342ffd76205e/base/mpfr.jl#L398\" target=\"_blank\">mpfr.jl:398</a></li> <li> +(c::<b>Union{Float16, Float32, Float64}</b>, x::<b>BigFloat</b>) in Base.MPFR at <a href=\"https://github.com/JuliaLang/julia/tree/bf534986350a991e4a1b29126de0342ffd76205e/base/mpfr.jl#L406\" target=\"_blank\">mpfr.jl:406</a></li> <li> +(x::<b>Union{Dates.CompoundPeriod, Dates.Period}</b>) in Dates at <a href=\"file:///buildworker/worker/package_linux64/build/usr/share/julia/stdlib/v1.7/Dates/src/periods.jl\" target=\"_blank\">/home/hesed/julia-1.7.2/share/julia/stdlib/v1.7/Dates/src/periods.jl:372</a></li> <li> +(x::<b>P</b>, y::<b>P</b>)<i> where P<:Dates.Period</i> in Dates at <a href=\"file:///buildworker/worker/package_linux64/build/usr/share/julia/stdlib/v1.7/Dates/src/periods.jl\" target=\"_blank\">/home/hesed/julia-1.7.2/share/julia/stdlib/v1.7/Dates/src/periods.jl:79</a></li> <li> +(x::<b>Dates.Period</b>, y::<b>Dates.Period</b>) in Dates at <a href=\"file:///buildworker/worker/package_linux64/build/usr/share/julia/stdlib/v1.7/Dates/src/periods.jl\" target=\"_blank\">/home/hesed/julia-1.7.2/share/julia/stdlib/v1.7/Dates/src/periods.jl:361</a></li> <li> +(y::<b>Dates.Period</b>, x::<b>Dates.CompoundPeriod</b>) in Dates at <a href=\"file:///buildworker/worker/package_linux64/build/usr/share/julia/stdlib/v1.7/Dates/src/periods.jl\" target=\"_blank\">/home/hesed/julia-1.7.2/share/julia/stdlib/v1.7/Dates/src/periods.jl:363</a></li> <li> +(y::<b>Dates.Period</b>, x::<b>Dates.TimeType</b>) in Dates at <a href=\"file:///buildworker/worker/package_linux64/build/usr/share/julia/stdlib/v1.7/Dates/src/arithmetic.jl\" target=\"_blank\">/home/hesed/julia-1.7.2/share/julia/stdlib/v1.7/Dates/src/arithmetic.jl:85</a></li> <li> +(x::<b>Dates.Period</b>, r::<b>AbstractRange{<:Dates.TimeType}</b>) in Dates at <a href=\"file:///buildworker/worker/package_linux64/build/usr/share/julia/stdlib/v1.7/Dates/src/ranges.jl\" target=\"_blank\">/home/hesed/julia-1.7.2/share/julia/stdlib/v1.7/Dates/src/ranges.jl:62</a></li> <li> +(y::<b>Union{Dates.CompoundPeriod, Dates.Period}</b>, x::<b>AbstractArray{<:Dates.TimeType}</b>) in Dates at <a href=\"file:///buildworker/worker/package_linux64/build/usr/share/julia/stdlib/v1.7/Dates/src/deprecated.jl\" target=\"_blank\">/home/hesed/julia-1.7.2/share/julia/stdlib/v1.7/Dates/src/deprecated.jl:14</a></li> <li> +(A::<b>LinearAlgebra.UnitLowerTriangular</b>, B::<b>LinearAlgebra.LowerTriangular</b>) in LinearAlgebra at <a href=\"file:///buildworker/worker/package_linux64/build/usr/share/julia/stdlib/v1.7/LinearAlgebra/src/triangular.jl\" target=\"_blank\">/home/hesed/julia-1.7.2/share/julia/stdlib/v1.7/LinearAlgebra/src/triangular.jl:641</a></li> <li> +(A::<b>LinearAlgebra.UnitLowerTriangular</b>, B::<b>LinearAlgebra.UnitLowerTriangular</b>) in LinearAlgebra at <a href=\"file:///buildworker/worker/package_linux64/build/usr/share/julia/stdlib/v1.7/LinearAlgebra/src/triangular.jl\" target=\"_blank\">/home/hesed/julia-1.7.2/share/julia/stdlib/v1.7/LinearAlgebra/src/triangular.jl:643</a></li> <li> +(UL::<b>LinearAlgebra.UnitLowerTriangular</b>, J::<b>LinearAlgebra.UniformScaling</b>) in LinearAlgebra at <a href=\"file:///buildworker/worker/package_linux64/build/usr/share/julia/stdlib/v1.7/LinearAlgebra/src/uniformscaling.jl\" target=\"_blank\">/home/hesed/julia-1.7.2/share/julia/stdlib/v1.7/LinearAlgebra/src/uniformscaling.jl:182</a></li> <li> +(A::<b>LinearAlgebra.UnitLowerTriangular</b>, B::<b>LinearAlgebra.Bidiagonal</b>) in LinearAlgebra at <a href=\"file:///buildworker/worker/package_linux64/build/usr/share/julia/stdlib/v1.7/LinearAlgebra/src/special.jl\" target=\"_blank\">/home/hesed/julia-1.7.2/share/julia/stdlib/v1.7/LinearAlgebra/src/special.jl:86</a></li> <li> +(F::<b>LinearAlgebra.Hessenberg</b>, J::<b>LinearAlgebra.UniformScaling</b>) in LinearAlgebra at <a href=\"file:///buildworker/worker/package_linux64/build/usr/share/julia/stdlib/v1.7/LinearAlgebra/src/hessenberg.jl\" target=\"_blank\">/home/hesed/julia-1.7.2/share/julia/stdlib/v1.7/LinearAlgebra/src/hessenberg.jl:640</a></li> <li> +(r::<b>AbstractRange{<:Dates.TimeType}</b>, x::<b>Dates.Period</b>) in Dates at <a href=\"file:///buildworker/worker/package_linux64/build/usr/share/julia/stdlib/v1.7/Dates/src/ranges.jl\" target=\"_blank\">/home/hesed/julia-1.7.2/share/julia/stdlib/v1.7/Dates/src/ranges.jl:63</a></li> <li> +(x::<b>AbstractArray{<:Dates.TimeType}</b>, y::<b>Union{Dates.CompoundPeriod, Dates.Period}</b>) in Dates at <a href=\"file:///buildworker/worker/package_linux64/build/usr/share/julia/stdlib/v1.7/Dates/src/deprecated.jl\" target=\"_blank\">/home/hesed/julia-1.7.2/share/julia/stdlib/v1.7/Dates/src/deprecated.jl:6</a></li> <li> +(A::<b>LinearAlgebra.SymTridiagonal</b>, B::<b>LinearAlgebra.SymTridiagonal</b>) in LinearAlgebra at <a href=\"file:///buildworker/worker/package_linux64/build/usr/share/julia/stdlib/v1.7/LinearAlgebra/src/tridiag.jl\" target=\"_blank\">/home/hesed/julia-1.7.2/share/julia/stdlib/v1.7/LinearAlgebra/src/tridiag.jl:208</a></li> <li> +(A::<b>LinearAlgebra.SymTridiagonal</b>, B::<b>LinearAlgebra.Symmetric</b>) in LinearAlgebra at <a href=\"file:///buildworker/worker/package_linux64/build/usr/share/julia/stdlib/v1.7/LinearAlgebra/src/symmetric.jl\" target=\"_blank\">/home/hesed/julia-1.7.2/share/julia/stdlib/v1.7/LinearAlgebra/src/symmetric.jl:485</a></li> <li> +(A::<b>LinearAlgebra.SymTridiagonal{var\"#s857\", V} where {var\"#s857\"<:Real, V<:AbstractVector{var\"#s857\"}}</b>, B::<b>LinearAlgebra.Hermitian</b>) in LinearAlgebra at <a href=\"file:///buildworker/worker/package_linux64/build/usr/share/julia/stdlib/v1.7/LinearAlgebra/src/symmetric.jl\" target=\"_blank\">/home/hesed/julia-1.7.2/share/julia/stdlib/v1.7/LinearAlgebra/src/symmetric.jl:487</a></li> <li> +(x::<b>LinearAlgebra.SymTridiagonal</b>, H::<b>LinearAlgebra.UpperHessenberg</b>) in LinearAlgebra at <a href=\"file:///buildworker/worker/package_linux64/build/usr/share/julia/stdlib/v1.7/LinearAlgebra/src/hessenberg.jl\" target=\"_blank\">/home/hesed/julia-1.7.2/share/julia/stdlib/v1.7/LinearAlgebra/src/hessenberg.jl:107</a></li> <li> +(A::<b>LinearAlgebra.SymTridiagonal</b>, B::<b>LinearAlgebra.Diagonal</b>) in LinearAlgebra at <a href=\"file:///buildworker/worker/package_linux64/build/usr/share/julia/stdlib/v1.7/LinearAlgebra/src/special.jl\" target=\"_blank\">/home/hesed/julia-1.7.2/share/julia/stdlib/v1.7/LinearAlgebra/src/special.jl:145</a></li> <li> +(A::<b>LinearAlgebra.SymTridiagonal</b>, B::<b>LinearAlgebra.Tridiagonal</b>) in LinearAlgebra at <a href=\"file:///buildworker/worker/package_linux64/build/usr/share/julia/stdlib/v1.7/LinearAlgebra/src/special.jl\" target=\"_blank\">/home/hesed/julia-1.7.2/share/julia/stdlib/v1.7/LinearAlgebra/src/special.jl:159</a></li> <li> +(A::<b>LinearAlgebra.SymTridiagonal</b>, B::<b>LinearAlgebra.Bidiagonal</b>) in LinearAlgebra at <a href=\"file:///buildworker/worker/package_linux64/build/usr/share/julia/stdlib/v1.7/LinearAlgebra/src/special.jl\" target=\"_blank\">/home/hesed/julia-1.7.2/share/julia/stdlib/v1.7/LinearAlgebra/src/special.jl:213</a></li> <li> +(A::<b>LinearAlgebra.SymTridiagonal{var\"#s859\", V} where {var\"#s859\"<:Number, V<:AbstractVector{var\"#s859\"}}</b>, B::<b>LinearAlgebra.UniformScaling</b>) in LinearAlgebra at <a href=\"file:///buildworker/worker/package_linux64/build/usr/share/julia/stdlib/v1.7/LinearAlgebra/src/special.jl\" target=\"_blank\">/home/hesed/julia-1.7.2/share/julia/stdlib/v1.7/LinearAlgebra/src/special.jl:231</a></li> <li> +(x::<b>Dates.Instant</b>) in Dates at <a href=\"file:///buildworker/worker/package_linux64/build/usr/share/julia/stdlib/v1.7/Dates/src/arithmetic.jl\" target=\"_blank\">/home/hesed/julia-1.7.2/share/julia/stdlib/v1.7/Dates/src/arithmetic.jl:4</a></li> <li> +(A::<b>LinearAlgebra.Bidiagonal</b>, B::<b>LinearAlgebra.Bidiagonal</b>) in LinearAlgebra at <a href=\"file:///buildworker/worker/package_linux64/build/usr/share/julia/stdlib/v1.7/LinearAlgebra/src/bidiag.jl\" target=\"_blank\">/home/hesed/julia-1.7.2/share/julia/stdlib/v1.7/LinearAlgebra/src/bidiag.jl:354</a></li> <li> +(x::<b>LinearAlgebra.Bidiagonal</b>, H::<b>LinearAlgebra.UpperHessenberg</b>) in LinearAlgebra at <a href=\"file:///buildworker/worker/package_linux64/build/usr/share/julia/stdlib/v1.7/LinearAlgebra/src/hessenberg.jl\" target=\"_blank\">/home/hesed/julia-1.7.2/share/julia/stdlib/v1.7/LinearAlgebra/src/hessenberg.jl:107</a></li> <li> +(A::<b>LinearAlgebra.Bidiagonal</b>, B::<b>LinearAlgebra.UpperTriangular</b>) in LinearAlgebra at <a href=\"file:///buildworker/worker/package_linux64/build/usr/share/julia/stdlib/v1.7/LinearAlgebra/src/special.jl\" target=\"_blank\">/home/hesed/julia-1.7.2/share/julia/stdlib/v1.7/LinearAlgebra/src/special.jl:94</a></li> <li> +(A::<b>LinearAlgebra.Bidiagonal</b>, B::<b>LinearAlgebra.UnitUpperTriangular</b>) in LinearAlgebra at <a href=\"file:///buildworker/worker/package_linux64/build/usr/share/julia/stdlib/v1.7/LinearAlgebra/src/special.jl\" target=\"_blank\">/home/hesed/julia-1.7.2/share/julia/stdlib/v1.7/LinearAlgebra/src/special.jl:94</a></li> <li> +(A::<b>LinearAlgebra.Bidiagonal</b>, B::<b>LinearAlgebra.LowerTriangular</b>) in LinearAlgebra at <a href=\"file:///buildworker/worker/package_linux64/build/usr/share/julia/stdlib/v1.7/LinearAlgebra/src/special.jl\" target=\"_blank\">/home/hesed/julia-1.7.2/share/julia/stdlib/v1.7/LinearAlgebra/src/special.jl:94</a></li> <li> +(A::<b>LinearAlgebra.Bidiagonal</b>, B::<b>LinearAlgebra.UnitLowerTriangular</b>) in LinearAlgebra at <a href=\"file:///buildworker/worker/package_linux64/build/usr/share/julia/stdlib/v1.7/LinearAlgebra/src/special.jl\" target=\"_blank\">/home/hesed/julia-1.7.2/share/julia/stdlib/v1.7/LinearAlgebra/src/special.jl:94</a></li> <li> +(A::<b>LinearAlgebra.Bidiagonal</b>, B::<b>LinearAlgebra.Diagonal</b>) in LinearAlgebra at <a href=\"file:///buildworker/worker/package_linux64/build/usr/share/julia/stdlib/v1.7/LinearAlgebra/src/special.jl\" target=\"_blank\">/home/hesed/julia-1.7.2/share/julia/stdlib/v1.7/LinearAlgebra/src/special.jl:115</a></li> <li> +(A::<b>LinearAlgebra.Bidiagonal</b>, B::<b>LinearAlgebra.Tridiagonal</b>) in LinearAlgebra at <a href=\"file:///buildworker/worker/package_linux64/build/usr/share/julia/stdlib/v1.7/LinearAlgebra/src/special.jl\" target=\"_blank\">/home/hesed/julia-1.7.2/share/julia/stdlib/v1.7/LinearAlgebra/src/special.jl:183</a></li> <li> +(A::<b>LinearAlgebra.Bidiagonal</b>, B::<b>LinearAlgebra.SymTridiagonal</b>) in LinearAlgebra at <a href=\"file:///buildworker/worker/package_linux64/build/usr/share/julia/stdlib/v1.7/LinearAlgebra/src/special.jl\" target=\"_blank\">/home/hesed/julia-1.7.2/share/julia/stdlib/v1.7/LinearAlgebra/src/special.jl:203</a></li> <li> +(A::<b>LinearAlgebra.Bidiagonal{var\"#s859\", V} where {var\"#s859\"<:Number, V<:AbstractVector{var\"#s859\"}}</b>, B::<b>LinearAlgebra.UniformScaling</b>) in LinearAlgebra at <a href=\"file:///buildworker/worker/package_linux64/build/usr/share/julia/stdlib/v1.7/LinearAlgebra/src/special.jl\" target=\"_blank\">/home/hesed/julia-1.7.2/share/julia/stdlib/v1.7/LinearAlgebra/src/special.jl:236</a></li> <li> +(z::<b>Complex</b>, w::<b>Complex</b>) in Base at <a href=\"https://github.com/JuliaLang/julia/tree/bf534986350a991e4a1b29126de0342ffd76205e/base/complex.jl#L288\" target=\"_blank\">complex.jl:288</a></li> <li> +(A::<b>LinearAlgebra.UpperHessenberg</b>, B::<b>LinearAlgebra.UpperHessenberg</b>) in LinearAlgebra at <a href=\"file:///buildworker/worker/package_linux64/build/usr/share/julia/stdlib/v1.7/LinearAlgebra/src/hessenberg.jl\" target=\"_blank\">/home/hesed/julia-1.7.2/share/julia/stdlib/v1.7/LinearAlgebra/src/hessenberg.jl:99</a></li> <li> +(H::<b>LinearAlgebra.UpperHessenberg</b>, x::<b>LinearAlgebra.UniformScaling</b>) in LinearAlgebra at <a href=\"file:///buildworker/worker/package_linux64/build/usr/share/julia/stdlib/v1.7/LinearAlgebra/src/hessenberg.jl\" target=\"_blank\">/home/hesed/julia-1.7.2/share/julia/stdlib/v1.7/LinearAlgebra/src/hessenberg.jl:106</a></li> <li> +(H::<b>LinearAlgebra.UpperHessenberg</b>, x::<b>LinearAlgebra.Diagonal</b>) in LinearAlgebra at <a href=\"file:///buildworker/worker/package_linux64/build/usr/share/julia/stdlib/v1.7/LinearAlgebra/src/hessenberg.jl\" target=\"_blank\">/home/hesed/julia-1.7.2/share/julia/stdlib/v1.7/LinearAlgebra/src/hessenberg.jl:106</a></li> <li> +(H::<b>LinearAlgebra.UpperHessenberg</b>, x::<b>LinearAlgebra.Bidiagonal</b>) in LinearAlgebra at <a href=\"file:///buildworker/worker/package_linux64/build/usr/share/julia/stdlib/v1.7/LinearAlgebra/src/hessenberg.jl\" target=\"_blank\">/home/hesed/julia-1.7.2/share/julia/stdlib/v1.7/LinearAlgebra/src/hessenberg.jl:106</a></li> <li> +(H::<b>LinearAlgebra.UpperHessenberg</b>, x::<b>LinearAlgebra.Tridiagonal</b>) in LinearAlgebra at <a href=\"file:///buildworker/worker/package_linux64/build/usr/share/julia/stdlib/v1.7/LinearAlgebra/src/hessenberg.jl\" target=\"_blank\">/home/hesed/julia-1.7.2/share/julia/stdlib/v1.7/LinearAlgebra/src/hessenberg.jl:106</a></li> <li> +(H::<b>LinearAlgebra.UpperHessenberg</b>, x::<b>LinearAlgebra.SymTridiagonal</b>) in LinearAlgebra at <a href=\"file:///buildworker/worker/package_linux64/build/usr/share/julia/stdlib/v1.7/LinearAlgebra/src/hessenberg.jl\" target=\"_blank\">/home/hesed/julia-1.7.2/share/julia/stdlib/v1.7/LinearAlgebra/src/hessenberg.jl:106</a></li> <li> +(H::<b>LinearAlgebra.UpperHessenberg</b>, x::<b>LinearAlgebra.UpperTriangular</b>) in LinearAlgebra at <a href=\"file:///buildworker/worker/package_linux64/build/usr/share/julia/stdlib/v1.7/LinearAlgebra/src/hessenberg.jl\" target=\"_blank\">/home/hesed/julia-1.7.2/share/julia/stdlib/v1.7/LinearAlgebra/src/hessenberg.jl:106</a></li> <li> +(H::<b>LinearAlgebra.UpperHessenberg</b>, x::<b>LinearAlgebra.UnitUpperTriangular</b>) in LinearAlgebra at <a href=\"file:///buildworker/worker/package_linux64/build/usr/share/julia/stdlib/v1.7/LinearAlgebra/src/hessenberg.jl\" target=\"_blank\">/home/hesed/julia-1.7.2/share/julia/stdlib/v1.7/LinearAlgebra/src/hessenberg.jl:106</a></li> <li> +(x::<b>Base.TwicePrecision</b>, y::<b>Number</b>) in Base at <a href=\"https://github.com/JuliaLang/julia/tree/bf534986350a991e4a1b29126de0342ffd76205e/base/twiceprecision.jl#L279\" target=\"_blank\">twiceprecision.jl:279</a></li> <li> +(x::<b>Base.TwicePrecision{T}</b>, y::<b>Base.TwicePrecision{T}</b>)<i> where T</i> in Base at <a href=\"https://github.com/JuliaLang/julia/tree/bf534986350a991e4a1b29126de0342ffd76205e/base/twiceprecision.jl#L285\" target=\"_blank\">twiceprecision.jl:285</a></li> <li> +(x::<b>Base.TwicePrecision</b>, y::<b>Base.TwicePrecision</b>) in Base at <a href=\"https://github.com/JuliaLang/julia/tree/bf534986350a991e4a1b29126de0342ffd76205e/base/twiceprecision.jl#L290\" target=\"_blank\">twiceprecision.jl:290</a></li> <li> +(A::<b>LinearAlgebra.UnitUpperTriangular</b>, B::<b>LinearAlgebra.UpperTriangular</b>) in LinearAlgebra at <a href=\"file:///buildworker/worker/package_linux64/build/usr/share/julia/stdlib/v1.7/LinearAlgebra/src/triangular.jl\" target=\"_blank\">/home/hesed/julia-1.7.2/share/julia/stdlib/v1.7/LinearAlgebra/src/triangular.jl:640</a></li> <li> +(A::<b>LinearAlgebra.UnitUpperTriangular</b>, B::<b>LinearAlgebra.UnitUpperTriangular</b>) in LinearAlgebra at <a href=\"file:///buildworker/worker/package_linux64/build/usr/share/julia/stdlib/v1.7/LinearAlgebra/src/triangular.jl\" target=\"_blank\">/home/hesed/julia-1.7.2/share/julia/stdlib/v1.7/LinearAlgebra/src/triangular.jl:642</a></li> <li> +(UL::<b>LinearAlgebra.UnitUpperTriangular</b>, J::<b>LinearAlgebra.UniformScaling</b>) in LinearAlgebra at <a href=\"file:///buildworker/worker/package_linux64/build/usr/share/julia/stdlib/v1.7/LinearAlgebra/src/uniformscaling.jl\" target=\"_blank\">/home/hesed/julia-1.7.2/share/julia/stdlib/v1.7/LinearAlgebra/src/uniformscaling.jl:182</a></li> <li> +(x::<b>LinearAlgebra.UnitUpperTriangular</b>, H::<b>LinearAlgebra.UpperHessenberg</b>) in LinearAlgebra at <a href=\"file:///buildworker/worker/package_linux64/build/usr/share/julia/stdlib/v1.7/LinearAlgebra/src/hessenberg.jl\" target=\"_blank\">/home/hesed/julia-1.7.2/share/julia/stdlib/v1.7/LinearAlgebra/src/hessenberg.jl:107</a></li> <li> +(A::<b>LinearAlgebra.UnitUpperTriangular</b>, B::<b>LinearAlgebra.Bidiagonal</b>) in LinearAlgebra at <a href=\"file:///buildworker/worker/package_linux64/build/usr/share/julia/stdlib/v1.7/LinearAlgebra/src/special.jl\" target=\"_blank\">/home/hesed/julia-1.7.2/share/julia/stdlib/v1.7/LinearAlgebra/src/special.jl:86</a></li> <li> +(Da::<b>LinearAlgebra.Diagonal</b>, Db::<b>LinearAlgebra.Diagonal</b>) in LinearAlgebra at <a href=\"file:///buildworker/worker/package_linux64/build/usr/share/julia/stdlib/v1.7/LinearAlgebra/src/diagonal.jl\" target=\"_blank\">/home/hesed/julia-1.7.2/share/julia/stdlib/v1.7/LinearAlgebra/src/diagonal.jl:172</a></li> <li> +(D::<b>LinearAlgebra.Diagonal</b>, S::<b>LinearAlgebra.Symmetric</b>) in LinearAlgebra at <a href=\"file:///buildworker/worker/package_linux64/build/usr/share/julia/stdlib/v1.7/LinearAlgebra/src/diagonal.jl\" target=\"_blank\">/home/hesed/julia-1.7.2/share/julia/stdlib/v1.7/LinearAlgebra/src/diagonal.jl:176</a></li> <li> +(D::<b>LinearAlgebra.Diagonal{var\"#s859\", V} where {var\"#s859\"<:Real, V<:AbstractVector{var\"#s859\"}}</b>, H::<b>LinearAlgebra.Hermitian</b>) in LinearAlgebra at <a href=\"file:///buildworker/worker/package_linux64/build/usr/share/julia/stdlib/v1.7/LinearAlgebra/src/diagonal.jl\" target=\"_blank\">/home/hesed/julia-1.7.2/share/julia/stdlib/v1.7/LinearAlgebra/src/diagonal.jl:182</a></li> <li> +(x::<b>LinearAlgebra.Diagonal</b>, H::<b>LinearAlgebra.UpperHessenberg</b>) in LinearAlgebra at <a href=\"file:///buildworker/worker/package_linux64/build/usr/share/julia/stdlib/v1.7/LinearAlgebra/src/hessenberg.jl\" target=\"_blank\">/home/hesed/julia-1.7.2/share/julia/stdlib/v1.7/LinearAlgebra/src/hessenberg.jl:107</a></li> <li> +(A::<b>LinearAlgebra.Diagonal</b>, B::<b>LinearAlgebra.Bidiagonal</b>) in LinearAlgebra at <a href=\"file:///buildworker/worker/package_linux64/build/usr/share/julia/stdlib/v1.7/LinearAlgebra/src/special.jl\" target=\"_blank\">/home/hesed/julia-1.7.2/share/julia/stdlib/v1.7/LinearAlgebra/src/special.jl:125</a></li> <li> +(A::<b>LinearAlgebra.Diagonal</b>, B::<b>LinearAlgebra.SymTridiagonal</b>) in LinearAlgebra at <a href=\"file:///buildworker/worker/package_linux64/build/usr/share/julia/stdlib/v1.7/LinearAlgebra/src/special.jl\" target=\"_blank\">/home/hesed/julia-1.7.2/share/julia/stdlib/v1.7/LinearAlgebra/src/special.jl:135</a></li> <li> +(A::<b>LinearAlgebra.Diagonal</b>, B::<b>LinearAlgebra.Tridiagonal</b>) in LinearAlgebra at <a href=\"file:///buildworker/worker/package_linux64/build/usr/share/julia/stdlib/v1.7/LinearAlgebra/src/special.jl\" target=\"_blank\">/home/hesed/julia-1.7.2/share/julia/stdlib/v1.7/LinearAlgebra/src/special.jl:163</a></li> <li> +(A::<b>LinearAlgebra.Diagonal{var\"#s859\", V} where {var\"#s859\"<:Number, V<:AbstractVector{var\"#s859\"}}</b>, B::<b>LinearAlgebra.UniformScaling</b>) in LinearAlgebra at <a href=\"file:///buildworker/worker/package_linux64/build/usr/share/julia/stdlib/v1.7/LinearAlgebra/src/special.jl\" target=\"_blank\">/home/hesed/julia-1.7.2/share/julia/stdlib/v1.7/LinearAlgebra/src/special.jl:241</a></li> <li> +(J::<b>LinearAlgebra.UniformScaling</b>) in LinearAlgebra at <a href=\"file:///buildworker/worker/package_linux64/build/usr/share/julia/stdlib/v1.7/LinearAlgebra/src/uniformscaling.jl\" target=\"_blank\">/home/hesed/julia-1.7.2/share/julia/stdlib/v1.7/LinearAlgebra/src/uniformscaling.jl:150</a></li> <li> +(J::<b>LinearAlgebra.UniformScaling</b>, x::<b>Number</b>) in LinearAlgebra at <a href=\"file:///buildworker/worker/package_linux64/build/usr/share/julia/stdlib/v1.7/LinearAlgebra/src/uniformscaling.jl\" target=\"_blank\">/home/hesed/julia-1.7.2/share/julia/stdlib/v1.7/LinearAlgebra/src/uniformscaling.jl:145</a></li> <li> +(J1::<b>LinearAlgebra.UniformScaling</b>, J2::<b>LinearAlgebra.UniformScaling</b>) in LinearAlgebra at <a href=\"file:///buildworker/worker/package_linux64/build/usr/share/julia/stdlib/v1.7/LinearAlgebra/src/uniformscaling.jl\" target=\"_blank\">/home/hesed/julia-1.7.2/share/julia/stdlib/v1.7/LinearAlgebra/src/uniformscaling.jl:151</a></li> <li> +(J::<b>LinearAlgebra.UniformScaling</b>, B::<b>BitMatrix</b>) in LinearAlgebra at <a href=\"file:///buildworker/worker/package_linux64/build/usr/share/julia/stdlib/v1.7/LinearAlgebra/src/uniformscaling.jl\" target=\"_blank\">/home/hesed/julia-1.7.2/share/julia/stdlib/v1.7/LinearAlgebra/src/uniformscaling.jl:153</a></li> <li> +(x::<b>LinearAlgebra.UniformScaling</b>, H::<b>LinearAlgebra.UpperHessenberg</b>) in LinearAlgebra at <a href=\"file:///buildworker/worker/package_linux64/build/usr/share/julia/stdlib/v1.7/LinearAlgebra/src/hessenberg.jl\" target=\"_blank\">/home/hesed/julia-1.7.2/share/julia/stdlib/v1.7/LinearAlgebra/src/hessenberg.jl:107</a></li> <li> +(J::<b>LinearAlgebra.UniformScaling</b>, F::<b>LinearAlgebra.Hessenberg</b>) in LinearAlgebra at <a href=\"file:///buildworker/worker/package_linux64/build/usr/share/julia/stdlib/v1.7/LinearAlgebra/src/hessenberg.jl\" target=\"_blank\">/home/hesed/julia-1.7.2/share/julia/stdlib/v1.7/LinearAlgebra/src/hessenberg.jl:641</a></li> <li> +(A::<b>LinearAlgebra.UniformScaling</b>, B::<b>LinearAlgebra.Tridiagonal{var\"#s859\", V} where {var\"#s859\"<:Number, V<:AbstractVector{var\"#s859\"}}</b>) in LinearAlgebra at <a href=\"file:///buildworker/worker/package_linux64/build/usr/share/julia/stdlib/v1.7/LinearAlgebra/src/special.jl\" target=\"_blank\">/home/hesed/julia-1.7.2/share/julia/stdlib/v1.7/LinearAlgebra/src/special.jl:245</a></li> <li> +(A::<b>LinearAlgebra.UniformScaling</b>, B::<b>LinearAlgebra.SymTridiagonal{var\"#s859\", V} where {var\"#s859\"<:Number, V<:AbstractVector{var\"#s859\"}}</b>) in LinearAlgebra at <a href=\"file:///buildworker/worker/package_linux64/build/usr/share/julia/stdlib/v1.7/LinearAlgebra/src/special.jl\" target=\"_blank\">/home/hesed/julia-1.7.2/share/julia/stdlib/v1.7/LinearAlgebra/src/special.jl:250</a></li> <li> +(A::<b>LinearAlgebra.UniformScaling</b>, B::<b>LinearAlgebra.Bidiagonal{var\"#s859\", V} where {var\"#s859\"<:Number, V<:AbstractVector{var\"#s859\"}}</b>) in LinearAlgebra at <a href=\"file:///buildworker/worker/package_linux64/build/usr/share/julia/stdlib/v1.7/LinearAlgebra/src/special.jl\" target=\"_blank\">/home/hesed/julia-1.7.2/share/julia/stdlib/v1.7/LinearAlgebra/src/special.jl:255</a></li> <li> +(A::<b>LinearAlgebra.UniformScaling</b>, B::<b>LinearAlgebra.Diagonal{var\"#s859\", V} where {var\"#s859\"<:Number, V<:AbstractVector{var\"#s859\"}}</b>) in LinearAlgebra at <a href=\"file:///buildworker/worker/package_linux64/build/usr/share/julia/stdlib/v1.7/LinearAlgebra/src/special.jl\" target=\"_blank\">/home/hesed/julia-1.7.2/share/julia/stdlib/v1.7/LinearAlgebra/src/special.jl:260</a></li> <li> +(J::<b>LinearAlgebra.UniformScaling</b>, A::<b>AbstractMatrix</b>) in LinearAlgebra at <a href=\"file:///buildworker/worker/package_linux64/build/usr/share/julia/stdlib/v1.7/LinearAlgebra/src/uniformscaling.jl\" target=\"_blank\">/home/hesed/julia-1.7.2/share/julia/stdlib/v1.7/LinearAlgebra/src/uniformscaling.jl:154</a></li> <li> +(x::<b>T</b>, y::<b>Integer</b>)<i> where T<:AbstractChar</i> in Base at <a href=\"https://github.com/JuliaLang/julia/tree/bf534986350a991e4a1b29126de0342ffd76205e/base/char.jl#L237\" target=\"_blank\">char.jl:237</a></li> <li> +(index1::<b>CartesianIndex{N}</b>, index2::<b>CartesianIndex{N}</b>)<i> where N</i> in Base.IteratorsMD at <a href=\"https://github.com/JuliaLang/julia/tree/bf534986350a991e4a1b29126de0342ffd76205e/base/multidimensional.jl#L114\" target=\"_blank\">multidimensional.jl:114</a></li> <li> +(A::<b>LinearAlgebra.Tridiagonal</b>, B::<b>LinearAlgebra.Tridiagonal</b>) in LinearAlgebra at <a href=\"file:///buildworker/worker/package_linux64/build/usr/share/julia/stdlib/v1.7/LinearAlgebra/src/tridiag.jl\" target=\"_blank\">/home/hesed/julia-1.7.2/share/julia/stdlib/v1.7/LinearAlgebra/src/tridiag.jl:740</a></li> <li> +(x::<b>LinearAlgebra.Tridiagonal</b>, H::<b>LinearAlgebra.UpperHessenberg</b>) in LinearAlgebra at <a href=\"file:///buildworker/worker/package_linux64/build/usr/share/julia/stdlib/v1.7/LinearAlgebra/src/hessenberg.jl\" target=\"_blank\">/home/hesed/julia-1.7.2/share/julia/stdlib/v1.7/LinearAlgebra/src/hessenberg.jl:107</a></li> <li> +(A::<b>LinearAlgebra.Tridiagonal</b>, B::<b>LinearAlgebra.SymTridiagonal</b>) in LinearAlgebra at <a href=\"file:///buildworker/worker/package_linux64/build/usr/share/julia/stdlib/v1.7/LinearAlgebra/src/special.jl\" target=\"_blank\">/home/hesed/julia-1.7.2/share/julia/stdlib/v1.7/LinearAlgebra/src/special.jl:157</a></li> <li> +(A::<b>LinearAlgebra.Tridiagonal</b>, B::<b>LinearAlgebra.Diagonal</b>) in LinearAlgebra at <a href=\"file:///buildworker/worker/package_linux64/build/usr/share/julia/stdlib/v1.7/LinearAlgebra/src/special.jl\" target=\"_blank\">/home/hesed/julia-1.7.2/share/julia/stdlib/v1.7/LinearAlgebra/src/special.jl:173</a></li> <li> +(A::<b>LinearAlgebra.Tridiagonal</b>, B::<b>LinearAlgebra.Bidiagonal</b>) in LinearAlgebra at <a href=\"file:///buildworker/worker/package_linux64/build/usr/share/julia/stdlib/v1.7/LinearAlgebra/src/special.jl\" target=\"_blank\">/home/hesed/julia-1.7.2/share/julia/stdlib/v1.7/LinearAlgebra/src/special.jl:193</a></li> <li> +(A::<b>LinearAlgebra.Tridiagonal{var\"#s859\", V} where {var\"#s859\"<:Number, V<:AbstractVector{var\"#s859\"}}</b>, B::<b>LinearAlgebra.UniformScaling</b>) in LinearAlgebra at <a href=\"file:///buildworker/worker/package_linux64/build/usr/share/julia/stdlib/v1.7/LinearAlgebra/src/special.jl\" target=\"_blank\">/home/hesed/julia-1.7.2/share/julia/stdlib/v1.7/LinearAlgebra/src/special.jl:226</a></li> <li> +(A::<b>SparseArrays.AbstractSparseMatrixCSC</b>, B::<b>SparseArrays.AbstractSparseMatrixCSC</b>) in SparseArrays at <a href=\"file:///buildworker/worker/package_linux64/build/usr/share/julia/stdlib/v1.7/SparseArrays/src/sparsematrix.jl\" target=\"_blank\">/home/hesed/julia-1.7.2/share/julia/stdlib/v1.7/SparseArrays/src/sparsematrix.jl:1771</a></li> <li> +(A::<b>SparseArrays.AbstractSparseMatrixCSC</b>, B::<b>Array</b>) in SparseArrays at <a href=\"file:///buildworker/worker/package_linux64/build/usr/share/julia/stdlib/v1.7/SparseArrays/src/sparsematrix.jl\" target=\"_blank\">/home/hesed/julia-1.7.2/share/julia/stdlib/v1.7/SparseArrays/src/sparsematrix.jl:1774</a></li> <li> +(A::<b>SparseArrays.AbstractSparseMatrixCSC</b>, J::<b>LinearAlgebra.UniformScaling</b>) in SparseArrays at <a href=\"file:///buildworker/worker/package_linux64/build/usr/share/julia/stdlib/v1.7/SparseArrays/src/sparsematrix.jl\" target=\"_blank\">/home/hesed/julia-1.7.2/share/julia/stdlib/v1.7/SparseArrays/src/sparsematrix.jl:3754</a></li> <li> +(y::<b>Dates.TimeType</b>, x::<b>StridedArray{<:Union{Dates.CompoundPeriod, Dates.Period}}</b>) in Dates at <a href=\"file:///buildworker/worker/package_linux64/build/usr/share/julia/stdlib/v1.7/Dates/src/deprecated.jl\" target=\"_blank\">/home/hesed/julia-1.7.2/share/julia/stdlib/v1.7/Dates/src/deprecated.jl:18</a></li> <li> +(r1::<b>OrdinalRange</b>, r2::<b>OrdinalRange</b>) in Base at <a href=\"https://github.com/JuliaLang/julia/tree/bf534986350a991e4a1b29126de0342ffd76205e/base/range.jl#L1347\" target=\"_blank\">range.jl:1347</a></li> <li> +(x::<b>Rational</b>, y::<b>Integer</b>) in Base at <a href=\"https://github.com/JuliaLang/julia/tree/bf534986350a991e4a1b29126de0342ffd76205e/base/rational.jl#L311\" target=\"_blank\">rational.jl:311</a></li> <li> +(A::<b>LinearAlgebra.UpperTriangular</b>, B::<b>LinearAlgebra.UpperTriangular</b>) in LinearAlgebra at <a href=\"file:///buildworker/worker/package_linux64/build/usr/share/julia/stdlib/v1.7/LinearAlgebra/src/triangular.jl\" target=\"_blank\">/home/hesed/julia-1.7.2/share/julia/stdlib/v1.7/LinearAlgebra/src/triangular.jl:636</a></li> <li> +(A::<b>LinearAlgebra.UpperTriangular</b>, B::<b>LinearAlgebra.UnitUpperTriangular</b>) in LinearAlgebra at <a href=\"file:///buildworker/worker/package_linux64/build/usr/share/julia/stdlib/v1.7/LinearAlgebra/src/triangular.jl\" target=\"_blank\">/home/hesed/julia-1.7.2/share/julia/stdlib/v1.7/LinearAlgebra/src/triangular.jl:638</a></li> <li> +(x::<b>LinearAlgebra.UpperTriangular</b>, H::<b>LinearAlgebra.UpperHessenberg</b>) in LinearAlgebra at <a href=\"file:///buildworker/worker/package_linux64/build/usr/share/julia/stdlib/v1.7/LinearAlgebra/src/hessenberg.jl\" target=\"_blank\">/home/hesed/julia-1.7.2/share/julia/stdlib/v1.7/LinearAlgebra/src/hessenberg.jl:107</a></li> <li> +(A::<b>LinearAlgebra.UpperTriangular</b>, B::<b>LinearAlgebra.Bidiagonal</b>) in LinearAlgebra at <a href=\"file:///buildworker/worker/package_linux64/build/usr/share/julia/stdlib/v1.7/LinearAlgebra/src/special.jl\" target=\"_blank\">/home/hesed/julia-1.7.2/share/julia/stdlib/v1.7/LinearAlgebra/src/special.jl:86</a></li> <li> +(x::<b>SparseArrays.AbstractSparseVector</b>, y::<b>SparseArrays.AbstractSparseVector</b>) in SparseArrays at <a href=\"file:///buildworker/worker/package_linux64/build/usr/share/julia/stdlib/v1.7/SparseArrays/src/sparsevector.jl\" target=\"_blank\">/home/hesed/julia-1.7.2/share/julia/stdlib/v1.7/SparseArrays/src/sparsevector.jl:1355</a></li> <li> +(A::<b>SparseArrays.AbstractSparseMatrix</b>, B::<b>LinearAlgebra.Hermitian{<:Any, <:SparseArrays.AbstractSparseMatrix}</b>) in SparseArrays at <a href=\"file:///buildworker/worker/package_linux64/build/usr/share/julia/stdlib/v1.7/SparseArrays/src/linalg.jl\" target=\"_blank\">/home/hesed/julia-1.7.2/share/julia/stdlib/v1.7/SparseArrays/src/linalg.jl:14</a></li> <li> +(A::<b>SparseArrays.AbstractSparseMatrix</b>, B::<b>LinearAlgebra.Hermitian</b>) in SparseArrays at <a href=\"file:///buildworker/worker/package_linux64/build/usr/share/julia/stdlib/v1.7/SparseArrays/src/linalg.jl\" target=\"_blank\">/home/hesed/julia-1.7.2/share/julia/stdlib/v1.7/SparseArrays/src/linalg.jl:17</a></li> <li> +(A::<b>SparseArrays.AbstractSparseMatrix</b>, B::<b>LinearAlgebra.Symmetric{<:Any, <:SparseArrays.AbstractSparseMatrix}</b>) in SparseArrays at <a href=\"file:///buildworker/worker/package_linux64/build/usr/share/julia/stdlib/v1.7/SparseArrays/src/linalg.jl\" target=\"_blank\">/home/hesed/julia-1.7.2/share/julia/stdlib/v1.7/SparseArrays/src/linalg.jl:14</a></li> <li> +(A::<b>SparseArrays.AbstractSparseMatrix</b>, B::<b>LinearAlgebra.Symmetric</b>) in SparseArrays at <a href=\"file:///buildworker/worker/package_linux64/build/usr/share/julia/stdlib/v1.7/SparseArrays/src/linalg.jl\" target=\"_blank\">/home/hesed/julia-1.7.2/share/julia/stdlib/v1.7/SparseArrays/src/linalg.jl:17</a></li> <li> +(A::<b>LinearAlgebra.Symmetric</b>, B::<b>LinearAlgebra.Symmetric</b>) in LinearAlgebra at <a href=\"file:///buildworker/worker/package_linux64/build/usr/share/julia/stdlib/v1.7/LinearAlgebra/src/symmetric.jl\" target=\"_blank\">/home/hesed/julia-1.7.2/share/julia/stdlib/v1.7/LinearAlgebra/src/symmetric.jl:469</a></li> <li> +(A::<b>LinearAlgebra.Symmetric</b>, B::<b>LinearAlgebra.SymTridiagonal</b>) in LinearAlgebra at <a href=\"file:///buildworker/worker/package_linux64/build/usr/share/julia/stdlib/v1.7/LinearAlgebra/src/symmetric.jl\" target=\"_blank\">/home/hesed/julia-1.7.2/share/julia/stdlib/v1.7/LinearAlgebra/src/symmetric.jl:486</a></li> <li> +(S::<b>LinearAlgebra.Symmetric</b>, D::<b>LinearAlgebra.Diagonal</b>) in LinearAlgebra at <a href=\"file:///buildworker/worker/package_linux64/build/usr/share/julia/stdlib/v1.7/LinearAlgebra/src/diagonal.jl\" target=\"_blank\">/home/hesed/julia-1.7.2/share/julia/stdlib/v1.7/LinearAlgebra/src/diagonal.jl:179</a></li> <li> +(A::<b>LinearAlgebra.Symmetric{<:Any, <:SparseArrays.AbstractSparseMatrix}</b>, B::<b>SparseArrays.AbstractSparseMatrix</b>) in SparseArrays at <a href=\"file:///buildworker/worker/package_linux64/build/usr/share/julia/stdlib/v1.7/SparseArrays/src/linalg.jl\" target=\"_blank\">/home/hesed/julia-1.7.2/share/julia/stdlib/v1.7/SparseArrays/src/linalg.jl:15</a></li> <li> +(A::<b>LinearAlgebra.Symmetric</b>, B::<b>SparseArrays.AbstractSparseMatrix</b>) in SparseArrays at <a href=\"file:///buildworker/worker/package_linux64/build/usr/share/julia/stdlib/v1.7/SparseArrays/src/linalg.jl\" target=\"_blank\">/home/hesed/julia-1.7.2/share/julia/stdlib/v1.7/SparseArrays/src/linalg.jl:18</a></li> <li> +(A::<b>LinearAlgebra.Symmetric{<:Real, <:SparseArrays.AbstractSparseMatrix}</b>, B::<b>LinearAlgebra.Hermitian{<:Any, <:SparseArrays.AbstractSparseMatrix}</b>) in SparseArrays at <a href=\"file:///buildworker/worker/package_linux64/build/usr/share/julia/stdlib/v1.7/SparseArrays/src/linalg.jl\" target=\"_blank\">/home/hesed/julia-1.7.2/share/julia/stdlib/v1.7/SparseArrays/src/linalg.jl:25</a></li> <li> +(A::<b>LinearAlgebra.Symmetric{var\"#s858\", S} where {var\"#s858\"<:Real, S<:(AbstractMatrix{<:var\"#s858\"})}</b>, B::<b>LinearAlgebra.Hermitian</b>) in LinearAlgebra at <a href=\"file:///buildworker/worker/package_linux64/build/usr/share/julia/stdlib/v1.7/LinearAlgebra/src/symmetric.jl\" target=\"_blank\">/home/hesed/julia-1.7.2/share/julia/stdlib/v1.7/LinearAlgebra/src/symmetric.jl:484</a></li> <li> +(A::<b>LinearAlgebra.Symmetric{<:Any, <:SparseArrays.AbstractSparseMatrix}</b>, B::<b>LinearAlgebra.Hermitian{<:Any, <:SparseArrays.AbstractSparseMatrix}</b>) in SparseArrays at <a href=\"file:///buildworker/worker/package_linux64/build/usr/share/julia/stdlib/v1.7/SparseArrays/src/linalg.jl\" target=\"_blank\">/home/hesed/julia-1.7.2/share/julia/stdlib/v1.7/SparseArrays/src/linalg.jl:23</a></li> <li> +(A::<b>LinearAlgebra.LowerTriangular</b>, B::<b>LinearAlgebra.LowerTriangular</b>) in LinearAlgebra at <a href=\"file:///buildworker/worker/package_linux64/build/usr/share/julia/stdlib/v1.7/LinearAlgebra/src/triangular.jl\" target=\"_blank\">/home/hesed/julia-1.7.2/share/julia/stdlib/v1.7/LinearAlgebra/src/triangular.jl:637</a></li> <li> +(A::<b>LinearAlgebra.LowerTriangular</b>, B::<b>LinearAlgebra.UnitLowerTriangular</b>) in LinearAlgebra at <a href=\"file:///buildworker/worker/package_linux64/build/usr/share/julia/stdlib/v1.7/LinearAlgebra/src/triangular.jl\" target=\"_blank\">/home/hesed/julia-1.7.2/share/julia/stdlib/v1.7/LinearAlgebra/src/triangular.jl:639</a></li> <li> +(A::<b>LinearAlgebra.AbstractTriangular</b>, B::<b>LinearAlgebra.AbstractTriangular</b>) in LinearAlgebra at <a href=\"file:///buildworker/worker/package_linux64/build/usr/share/julia/stdlib/v1.7/LinearAlgebra/src/triangular.jl\" target=\"_blank\">/home/hesed/julia-1.7.2/share/julia/stdlib/v1.7/LinearAlgebra/src/triangular.jl:644</a></li> <li> +(A::<b>LinearAlgebra.LowerTriangular</b>, B::<b>LinearAlgebra.Bidiagonal</b>) in LinearAlgebra at <a href=\"file:///buildworker/worker/package_linux64/build/usr/share/julia/stdlib/v1.7/LinearAlgebra/src/special.jl\" target=\"_blank\">/home/hesed/julia-1.7.2/share/julia/stdlib/v1.7/LinearAlgebra/src/special.jl:86</a></li> <li> +(A::<b>LinearAlgebra.Hermitian</b>, B::<b>LinearAlgebra.Hermitian</b>) in LinearAlgebra at <a href=\"file:///buildworker/worker/package_linux64/build/usr/share/julia/stdlib/v1.7/LinearAlgebra/src/symmetric.jl\" target=\"_blank\">/home/hesed/julia-1.7.2/share/julia/stdlib/v1.7/LinearAlgebra/src/symmetric.jl:469</a></li> <li> +(A::<b>LinearAlgebra.Hermitian</b>, B::<b>LinearAlgebra.SymTridiagonal{var\"#s856\", V} where {var\"#s856\"<:Real, V<:AbstractVector{var\"#s856\"}}</b>) in LinearAlgebra at <a href=\"file:///buildworker/worker/package_linux64/build/usr/share/julia/stdlib/v1.7/LinearAlgebra/src/symmetric.jl\" target=\"_blank\">/home/hesed/julia-1.7.2/share/julia/stdlib/v1.7/LinearAlgebra/src/symmetric.jl:488</a></li> <li> +(H::<b>LinearAlgebra.Hermitian</b>, D::<b>LinearAlgebra.Diagonal{var\"#s859\", V} where {var\"#s859\"<:Real, V<:AbstractVector{var\"#s859\"}}</b>) in LinearAlgebra at <a href=\"file:///buildworker/worker/package_linux64/build/usr/share/julia/stdlib/v1.7/LinearAlgebra/src/diagonal.jl\" target=\"_blank\">/home/hesed/julia-1.7.2/share/julia/stdlib/v1.7/LinearAlgebra/src/diagonal.jl:185</a></li> <li> +(A::<b>LinearAlgebra.Hermitian</b>, J::<b>LinearAlgebra.UniformScaling{<:Complex}</b>) in LinearAlgebra at <a href=\"file:///buildworker/worker/package_linux64/build/usr/share/julia/stdlib/v1.7/LinearAlgebra/src/uniformscaling.jl\" target=\"_blank\">/home/hesed/julia-1.7.2/share/julia/stdlib/v1.7/LinearAlgebra/src/uniformscaling.jl:196</a></li> <li> +(A::<b>LinearAlgebra.Hermitian{<:Any, <:SparseArrays.AbstractSparseMatrix}</b>, B::<b>SparseArrays.AbstractSparseMatrix</b>) in SparseArrays at <a href=\"file:///buildworker/worker/package_linux64/build/usr/share/julia/stdlib/v1.7/SparseArrays/src/linalg.jl\" target=\"_blank\">/home/hesed/julia-1.7.2/share/julia/stdlib/v1.7/SparseArrays/src/linalg.jl:15</a></li> <li> +(A::<b>LinearAlgebra.Hermitian</b>, B::<b>SparseArrays.AbstractSparseMatrix</b>) in SparseArrays at <a href=\"file:///buildworker/worker/package_linux64/build/usr/share/julia/stdlib/v1.7/SparseArrays/src/linalg.jl\" target=\"_blank\">/home/hesed/julia-1.7.2/share/julia/stdlib/v1.7/SparseArrays/src/linalg.jl:18</a></li> <li> +(A::<b>LinearAlgebra.Hermitian{<:Any, <:SparseArrays.AbstractSparseMatrix}</b>, B::<b>LinearAlgebra.Symmetric{<:Real, <:SparseArrays.AbstractSparseMatrix}</b>) in SparseArrays at <a href=\"file:///buildworker/worker/package_linux64/build/usr/share/julia/stdlib/v1.7/SparseArrays/src/linalg.jl\" target=\"_blank\">/home/hesed/julia-1.7.2/share/julia/stdlib/v1.7/SparseArrays/src/linalg.jl:26</a></li> <li> +(A::<b>LinearAlgebra.Hermitian</b>, B::<b>LinearAlgebra.Symmetric{var\"#s859\", S} where {var\"#s859\"<:Real, S<:(AbstractMatrix{<:var\"#s859\"})}</b>) in LinearAlgebra at <a href=\"file:///buildworker/worker/package_linux64/build/usr/share/julia/stdlib/v1.7/LinearAlgebra/src/symmetric.jl\" target=\"_blank\">/home/hesed/julia-1.7.2/share/julia/stdlib/v1.7/LinearAlgebra/src/symmetric.jl:483</a></li> <li> +(A::<b>LinearAlgebra.Hermitian{<:Any, <:SparseArrays.AbstractSparseMatrix}</b>, B::<b>LinearAlgebra.Symmetric{<:Any, <:SparseArrays.AbstractSparseMatrix}</b>) in SparseArrays at <a href=\"file:///buildworker/worker/package_linux64/build/usr/share/julia/stdlib/v1.7/SparseArrays/src/linalg.jl\" target=\"_blank\">/home/hesed/julia-1.7.2/share/julia/stdlib/v1.7/SparseArrays/src/linalg.jl:24</a></li> <li> +(x::<b>Ptr</b>, y::<b>Integer</b>) in Base at <a href=\"https://github.com/JuliaLang/julia/tree/bf534986350a991e4a1b29126de0342ffd76205e/base/pointer.jl#L159\" target=\"_blank\">pointer.jl:159</a></li> <li> +(x::<b>AbstractIrrational</b>, y::<b>AbstractIrrational</b>) in Base at <a href=\"https://github.com/JuliaLang/julia/tree/bf534986350a991e4a1b29126de0342ffd76205e/base/irrationals.jl#L158\" target=\"_blank\">irrationals.jl:158</a></li> <li> +(r1::<b>LinRange{T}</b>, r2::<b>LinRange{T}</b>)<i> where T</i> in Base at <a href=\"https://github.com/JuliaLang/julia/tree/bf534986350a991e4a1b29126de0342ffd76205e/base/range.jl#L1354\" target=\"_blank\">range.jl:1354</a></li> <li> +(A::<b>BitArray</b>, B::<b>BitArray</b>) in Base at <a href=\"https://github.com/JuliaLang/julia/tree/bf534986350a991e4a1b29126de0342ffd76205e/base/bitarray.jl#L1180\" target=\"_blank\">bitarray.jl:1180</a></li> <li> +(A::<b>Array</b>, Bs::<b>Array...</b>) in Base at <a href=\"https://github.com/JuliaLang/julia/tree/bf534986350a991e4a1b29126de0342ffd76205e/base/arraymath.jl#L43\" target=\"_blank\">arraymath.jl:43</a></li> <li> +(X::<b>StridedArray{<:Union{Dates.CompoundPeriod, Dates.Period}}</b>, Y::<b>StridedArray{<:Union{Dates.CompoundPeriod, Dates.Period}}</b>) in Dates at <a href=\"file:///buildworker/worker/package_linux64/build/usr/share/julia/stdlib/v1.7/Dates/src/deprecated.jl\" target=\"_blank\">/home/hesed/julia-1.7.2/share/julia/stdlib/v1.7/Dates/src/deprecated.jl:62</a></li> <li> +(A::<b>Array</b>, B::<b>SparseArrays.AbstractSparseMatrixCSC</b>) in SparseArrays at <a href=\"file:///buildworker/worker/package_linux64/build/usr/share/julia/stdlib/v1.7/SparseArrays/src/sparsematrix.jl\" target=\"_blank\">/home/hesed/julia-1.7.2/share/julia/stdlib/v1.7/SparseArrays/src/sparsematrix.jl:1775</a></li> <li> +(x::<b>StridedArray{<:Union{Dates.CompoundPeriod, Dates.Period}}</b>) in Dates at <a href=\"file:///buildworker/worker/package_linux64/build/usr/share/julia/stdlib/v1.7/Dates/src/deprecated.jl\" target=\"_blank\">/home/hesed/julia-1.7.2/share/julia/stdlib/v1.7/Dates/src/deprecated.jl:55</a></li> <li> +(x::<b>StridedArray{<:Union{Dates.CompoundPeriod, Dates.Period}}</b>, y::<b>Dates.TimeType</b>) in Dates at <a href=\"file:///buildworker/worker/package_linux64/build/usr/share/julia/stdlib/v1.7/Dates/src/deprecated.jl\" target=\"_blank\">/home/hesed/julia-1.7.2/share/julia/stdlib/v1.7/Dates/src/deprecated.jl:10</a></li> <li> +(y::<b>AbstractFloat</b>, x::<b>Bool</b>) in Base at <a href=\"https://github.com/JuliaLang/julia/tree/bf534986350a991e4a1b29126de0342ffd76205e/base/bool.jl#L172\" target=\"_blank\">bool.jl:172</a></li> <li> +(r1::<b>StepRangeLen{T, R}</b>, r2::<b>StepRangeLen{T, R}</b>)<i> where {R<:Base.TwicePrecision, T}</i> in Base at <a href=\"https://github.com/JuliaLang/julia/tree/bf534986350a991e4a1b29126de0342ffd76205e/base/twiceprecision.jl#L613\" target=\"_blank\">twiceprecision.jl:613</a></li> <li> +(r1::<b>StepRangeLen{T, S}</b>, r2::<b>StepRangeLen{T, S}</b>)<i> where {T, S}</i> in Base at <a href=\"https://github.com/JuliaLang/julia/tree/bf534986350a991e4a1b29126de0342ffd76205e/base/range.jl#L1370\" target=\"_blank\">range.jl:1370</a></li> <li> +(r1::<b>Union{LinRange, OrdinalRange, StepRangeLen}</b>, r2::<b>Union{LinRange, OrdinalRange, StepRangeLen}</b>) in Base at <a href=\"https://github.com/JuliaLang/julia/tree/bf534986350a991e4a1b29126de0342ffd76205e/base/range.jl#L1363\" target=\"_blank\">range.jl:1363</a></li> <li> +(A::<b>AbstractArray</b>, B::<b>AbstractArray</b>) in Base at <a href=\"https://github.com/JuliaLang/julia/tree/bf534986350a991e4a1b29126de0342ffd76205e/base/arraymath.jl#L37\" target=\"_blank\">arraymath.jl:37</a></li> <li> +(x::<b>Dates.Time</b>, y::<b>Dates.TimePeriod</b>) in Dates at <a href=\"file:///buildworker/worker/package_linux64/build/usr/share/julia/stdlib/v1.7/Dates/src/arithmetic.jl\" target=\"_blank\">/home/hesed/julia-1.7.2/share/julia/stdlib/v1.7/Dates/src/arithmetic.jl:83</a></li> <li> +(t::<b>Dates.Time</b>, dt::<b>Dates.Date</b>) in Dates at <a href=\"file:///buildworker/worker/package_linux64/build/usr/share/julia/stdlib/v1.7/Dates/src/arithmetic.jl\" target=\"_blank\">/home/hesed/julia-1.7.2/share/julia/stdlib/v1.7/Dates/src/arithmetic.jl:20</a></li> <li> +(x::<b>Dates.CompoundPeriod</b>, y::<b>Dates.Period</b>) in Dates at <a href=\"file:///buildworker/worker/package_linux64/build/usr/share/julia/stdlib/v1.7/Dates/src/periods.jl\" target=\"_blank\">/home/hesed/julia-1.7.2/share/julia/stdlib/v1.7/Dates/src/periods.jl:362</a></li> <li> +(x::<b>Dates.CompoundPeriod</b>, y::<b>Dates.TimeType</b>) in Dates at <a href=\"file:///buildworker/worker/package_linux64/build/usr/share/julia/stdlib/v1.7/Dates/src/periods.jl\" target=\"_blank\">/home/hesed/julia-1.7.2/share/julia/stdlib/v1.7/Dates/src/periods.jl:392</a></li> <li> +(x::<b>Dates.CompoundPeriod</b>, y::<b>Dates.CompoundPeriod</b>) in Dates at <a href=\"file:///buildworker/worker/package_linux64/build/usr/share/julia/stdlib/v1.7/Dates/src/periods.jl\" target=\"_blank\">/home/hesed/julia-1.7.2/share/julia/stdlib/v1.7/Dates/src/periods.jl:364</a></li> <li> +(x::<b>Bool</b>) in Base at <a href=\"https://github.com/JuliaLang/julia/tree/bf534986350a991e4a1b29126de0342ffd76205e/base/bool.jl#L159\" target=\"_blank\">bool.jl:159</a></li> <li> +(x::<b>Integer</b>, y::<b>Ptr</b>) in Base at <a href=\"https://github.com/JuliaLang/julia/tree/bf534986350a991e4a1b29126de0342ffd76205e/base/pointer.jl#L161\" target=\"_blank\">pointer.jl:161</a></li> <li> +(y::<b>Integer</b>, x::<b>Rational</b>) in Base at <a href=\"https://github.com/JuliaLang/julia/tree/bf534986350a991e4a1b29126de0342ffd76205e/base/rational.jl#L318\" target=\"_blank\">rational.jl:318</a></li> <li> +(x::<b>Integer</b>, y::<b>AbstractChar</b>) in Base at <a href=\"https://github.com/JuliaLang/julia/tree/bf534986350a991e4a1b29126de0342ffd76205e/base/char.jl#L247\" target=\"_blank\">char.jl:247</a></li> <li> +(x::<b>Bool</b>, y::<b>T</b>)<i> where T<:AbstractFloat</i> in Base at <a href=\"https://github.com/JuliaLang/julia/tree/bf534986350a991e4a1b29126de0342ffd76205e/base/bool.jl#L169\" target=\"_blank\">bool.jl:169</a></li> <li> +(x::<b>Bool</b>, y::<b>Bool</b>) in Base at <a href=\"https://github.com/JuliaLang/julia/tree/bf534986350a991e4a1b29126de0342ffd76205e/base/bool.jl#L162\" target=\"_blank\">bool.jl:162</a></li> <li> +(x::<b>Bool</b>, z::<b>Complex{Bool}</b>) in Base at <a href=\"https://github.com/JuliaLang/julia/tree/bf534986350a991e4a1b29126de0342ffd76205e/base/complex.jl#L299\" target=\"_blank\">complex.jl:299</a></li> <li> +(x::<b>Bool</b>, z::<b>Complex</b>) in Base at <a href=\"https://github.com/JuliaLang/julia/tree/bf534986350a991e4a1b29126de0342ffd76205e/base/complex.jl#L306\" target=\"_blank\">complex.jl:306</a></li> <li> +(z::<b>Complex{Bool}</b>, x::<b>Bool</b>) in Base at <a href=\"https://github.com/JuliaLang/julia/tree/bf534986350a991e4a1b29126de0342ffd76205e/base/complex.jl#L300\" target=\"_blank\">complex.jl:300</a></li> <li> +(z::<b>Complex</b>, x::<b>Bool</b>) in Base at <a href=\"https://github.com/JuliaLang/julia/tree/bf534986350a991e4a1b29126de0342ffd76205e/base/complex.jl#L307\" target=\"_blank\">complex.jl:307</a></li> <li> +(z::<b>Complex{Bool}</b>, x::<b>Real</b>) in Base at <a href=\"https://github.com/JuliaLang/julia/tree/bf534986350a991e4a1b29126de0342ffd76205e/base/complex.jl#L314\" target=\"_blank\">complex.jl:314</a></li> <li> +(z::<b>Complex</b>) in Base at <a href=\"https://github.com/JuliaLang/julia/tree/bf534986350a991e4a1b29126de0342ffd76205e/base/complex.jl#L286\" target=\"_blank\">complex.jl:286</a></li> <li> +(z::<b>Complex</b>, x::<b>Real</b>) in Base at <a href=\"https://github.com/JuliaLang/julia/tree/bf534986350a991e4a1b29126de0342ffd76205e/base/complex.jl#L326\" target=\"_blank\">complex.jl:326</a></li> <li> +(x::<b>Float32</b>, y::<b>Float32</b>) in Base at <a href=\"https://github.com/JuliaLang/julia/tree/bf534986350a991e4a1b29126de0342ffd76205e/base/float.jl#L398\" target=\"_blank\">float.jl:398</a></li> <li> +(B::<b>BitMatrix</b>, J::<b>LinearAlgebra.UniformScaling</b>) in LinearAlgebra at <a href=\"file:///buildworker/worker/package_linux64/build/usr/share/julia/stdlib/v1.7/LinearAlgebra/src/uniformscaling.jl\" target=\"_blank\">/home/hesed/julia-1.7.2/share/julia/stdlib/v1.7/LinearAlgebra/src/uniformscaling.jl:152</a></li> <li> +(A::<b>AbstractMatrix</b>, J::<b>LinearAlgebra.UniformScaling</b>) in LinearAlgebra at <a href=\"file:///buildworker/worker/package_linux64/build/usr/share/julia/stdlib/v1.7/LinearAlgebra/src/uniformscaling.jl\" target=\"_blank\">/home/hesed/julia-1.7.2/share/julia/stdlib/v1.7/LinearAlgebra/src/uniformscaling.jl:215</a></li> <li> +(x::<b>AbstractArray{<:Number}</b>) in Base at <a href=\"https://github.com/JuliaLang/julia/tree/bf534986350a991e4a1b29126de0342ffd76205e/base/abstractarraymath.jl#L104\" target=\"_blank\">abstractarraymath.jl:104</a></li> <li> +(x::<b>BigFloat</b>, c::<b>Union{UInt16, UInt32, UInt64, UInt8}</b>) in Base.MPFR at <a href=\"https://github.com/JuliaLang/julia/tree/bf534986350a991e4a1b29126de0342ffd76205e/base/mpfr.jl#L385\" target=\"_blank\">mpfr.jl:385</a></li> <li> +(x::<b>BigFloat</b>, c::<b>Union{Int16, Int32, Int64, Int8}</b>) in Base.MPFR at <a href=\"https://github.com/JuliaLang/julia/tree/bf534986350a991e4a1b29126de0342ffd76205e/base/mpfr.jl#L393\" target=\"_blank\">mpfr.jl:393</a></li> <li> +(x::<b>BigFloat</b>, c::<b>Union{Float16, Float32, Float64}</b>) in Base.MPFR at <a href=\"https://github.com/JuliaLang/julia/tree/bf534986350a991e4a1b29126de0342ffd76205e/base/mpfr.jl#L401\" target=\"_blank\">mpfr.jl:401</a></li> <li> +(x::<b>BigFloat</b>, y::<b>BigFloat</b>) in Base.MPFR at <a href=\"https://github.com/JuliaLang/julia/tree/bf534986350a991e4a1b29126de0342ffd76205e/base/mpfr.jl#L378\" target=\"_blank\">mpfr.jl:378</a></li> <li> +(x::<b>BigFloat</b>, c::<b>BigInt</b>) in Base.MPFR at <a href=\"https://github.com/JuliaLang/julia/tree/bf534986350a991e4a1b29126de0342ffd76205e/base/mpfr.jl#L409\" target=\"_blank\">mpfr.jl:409</a></li> <li> +(a::<b>BigFloat</b>, b::<b>BigFloat</b>, c::<b>BigFloat</b>) in Base.MPFR at <a href=\"https://github.com/JuliaLang/julia/tree/bf534986350a991e4a1b29126de0342ffd76205e/base/mpfr.jl#L550\" target=\"_blank\">mpfr.jl:550</a></li> <li> +(a::<b>BigFloat</b>, b::<b>BigFloat</b>, c::<b>BigFloat</b>, d::<b>BigFloat</b>) in Base.MPFR at <a href=\"https://github.com/JuliaLang/julia/tree/bf534986350a991e4a1b29126de0342ffd76205e/base/mpfr.jl#L556\" target=\"_blank\">mpfr.jl:556</a></li> <li> +(a::<b>BigFloat</b>, b::<b>BigFloat</b>, c::<b>BigFloat</b>, d::<b>BigFloat</b>, e::<b>BigFloat</b>) in Base.MPFR at <a href=\"https://github.com/JuliaLang/julia/tree/bf534986350a991e4a1b29126de0342ffd76205e/base/mpfr.jl#L563\" target=\"_blank\">mpfr.jl:563</a></li> <li> +(a::<b>Pkg.Resolve.FieldValue</b>, b::<b>Pkg.Resolve.FieldValue</b>) in Pkg.Resolve at <a href=\"file:///buildworker/worker/package_linux64/build/usr/share/julia/stdlib/v1.7/Pkg/src/Resolve/fieldvalues.jl\" target=\"_blank\">/home/hesed/julia-1.7.2/share/julia/stdlib/v1.7/Pkg/src/Resolve/fieldvalues.jl:43</a></li> <li> +(a::<b>Pkg.Resolve.VersionWeight</b>, b::<b>Pkg.Resolve.VersionWeight</b>) in Pkg.Resolve at <a href=\"file:///buildworker/worker/package_linux64/build/usr/share/julia/stdlib/v1.7/Pkg/src/Resolve/versionweights.jl\" target=\"_blank\">/home/hesed/julia-1.7.2/share/julia/stdlib/v1.7/Pkg/src/Resolve/versionweights.jl:22</a></li> <li> +(dt::<b>Dates.Date</b>, t::<b>Dates.Time</b>) in Dates at <a href=\"file:///buildworker/worker/package_linux64/build/usr/share/julia/stdlib/v1.7/Dates/src/arithmetic.jl\" target=\"_blank\">/home/hesed/julia-1.7.2/share/julia/stdlib/v1.7/Dates/src/arithmetic.jl:19</a></li> <li> +(dt::<b>Dates.Date</b>, y::<b>Dates.Year</b>) in Dates at <a href=\"file:///buildworker/worker/package_linux64/build/usr/share/julia/stdlib/v1.7/Dates/src/arithmetic.jl\" target=\"_blank\">/home/hesed/julia-1.7.2/share/julia/stdlib/v1.7/Dates/src/arithmetic.jl:27</a></li> <li> +(dt::<b>Dates.Date</b>, z::<b>Dates.Month</b>) in Dates at <a href=\"file:///buildworker/worker/package_linux64/build/usr/share/julia/stdlib/v1.7/Dates/src/arithmetic.jl\" target=\"_blank\">/home/hesed/julia-1.7.2/share/julia/stdlib/v1.7/Dates/src/arithmetic.jl:54</a></li> <li> +(x::<b>Dates.Date</b>, y::<b>Dates.Quarter</b>) in Dates at <a href=\"file:///buildworker/worker/package_linux64/build/usr/share/julia/stdlib/v1.7/Dates/src/arithmetic.jl\" target=\"_blank\">/home/hesed/julia-1.7.2/share/julia/stdlib/v1.7/Dates/src/arithmetic.jl:73</a></li> <li> +(x::<b>Dates.Date</b>, y::<b>Dates.Week</b>) in Dates at <a href=\"file:///buildworker/worker/package_linux64/build/usr/share/julia/stdlib/v1.7/Dates/src/arithmetic.jl\" target=\"_blank\">/home/hesed/julia-1.7.2/share/julia/stdlib/v1.7/Dates/src/arithmetic.jl:77</a></li> <li> +(x::<b>Dates.Date</b>, y::<b>Dates.Day</b>) in Dates at <a href=\"file:///buildworker/worker/package_linux64/build/usr/share/julia/stdlib/v1.7/Dates/src/arithmetic.jl\" target=\"_blank\">/home/hesed/julia-1.7.2/share/julia/stdlib/v1.7/Dates/src/arithmetic.jl:79</a></li> <li> +(x::<b>BigInt</b>, c::<b>Union{UInt16, UInt32, UInt64, UInt8}</b>) in Base.GMP at <a href=\"https://github.com/JuliaLang/julia/tree/bf534986350a991e4a1b29126de0342ffd76205e/base/gmp.jl#L528\" target=\"_blank\">gmp.jl:528</a></li> <li> +(x::<b>BigInt</b>, c::<b>Union{Int16, Int32, Int64, Int8}</b>) in Base.GMP at <a href=\"https://github.com/JuliaLang/julia/tree/bf534986350a991e4a1b29126de0342ffd76205e/base/gmp.jl#L534\" target=\"_blank\">gmp.jl:534</a></li> <li> +(x::<b>BigInt</b>, y::<b>BigInt</b>) in Base.GMP at <a href=\"https://github.com/JuliaLang/julia/tree/bf534986350a991e4a1b29126de0342ffd76205e/base/gmp.jl#L480\" target=\"_blank\">gmp.jl:480</a></li> <li> +(a::<b>BigInt</b>, b::<b>BigInt</b>, c::<b>BigInt</b>) in Base.GMP at <a href=\"https://github.com/JuliaLang/julia/tree/bf534986350a991e4a1b29126de0342ffd76205e/base/gmp.jl#L520\" target=\"_blank\">gmp.jl:520</a></li> <li> +(a::<b>BigInt</b>, b::<b>BigInt</b>, c::<b>BigInt</b>, d::<b>BigInt</b>) in Base.GMP at <a href=\"https://github.com/JuliaLang/julia/tree/bf534986350a991e4a1b29126de0342ffd76205e/base/gmp.jl#L521\" target=\"_blank\">gmp.jl:521</a></li> <li> +(a::<b>BigInt</b>, b::<b>BigInt</b>, c::<b>BigInt</b>, d::<b>BigInt</b>, e::<b>BigInt</b>) in Base.GMP at <a href=\"https://github.com/JuliaLang/julia/tree/bf534986350a991e4a1b29126de0342ffd76205e/base/gmp.jl#L522\" target=\"_blank\">gmp.jl:522</a></li> <li> +(x::<b>BigInt</b>, y::<b>BigInt</b>, rest::<b>BigInt...</b>) in Base.GMP at <a href=\"https://github.com/JuliaLang/julia/tree/bf534986350a991e4a1b29126de0342ffd76205e/base/gmp.jl#L635\" target=\"_blank\">gmp.jl:635</a></li> <li> +(a::<b>Integer</b>, b::<b>Integer</b>) in Base at <a href=\"https://github.com/JuliaLang/julia/tree/bf534986350a991e4a1b29126de0342ffd76205e/base/int.jl#L978\" target=\"_blank\">int.jl:978</a></li> <li> +(c::<b>BigInt</b>, x::<b>BigFloat</b>) in Base.MPFR at <a href=\"https://github.com/JuliaLang/julia/tree/bf534986350a991e4a1b29126de0342ffd76205e/base/mpfr.jl#L414\" target=\"_blank\">mpfr.jl:414</a></li> <li> +(::<b>Missing</b>) in Base at <a href=\"https://github.com/JuliaLang/julia/tree/bf534986350a991e4a1b29126de0342ffd76205e/base/missing.jl#L101\" target=\"_blank\">missing.jl:101</a></li> <li> +(::<b>Missing</b>, ::<b>Number</b>) in Base at <a href=\"https://github.com/JuliaLang/julia/tree/bf534986350a991e4a1b29126de0342ffd76205e/base/missing.jl#L123\" target=\"_blank\">missing.jl:123</a></li> <li> +(x::<b>Missing</b>, y::<b>Dates.AbstractTime</b>) in Dates at <a href=\"file:///buildworker/worker/package_linux64/build/usr/share/julia/stdlib/v1.7/Dates/src/arithmetic.jl\" target=\"_blank\">/home/hesed/julia-1.7.2/share/julia/stdlib/v1.7/Dates/src/arithmetic.jl:89</a></li> <li> +(::<b>Missing</b>, ::<b>Missing</b>) in Base at <a href=\"https://github.com/JuliaLang/julia/tree/bf534986350a991e4a1b29126de0342ffd76205e/base/missing.jl#L122\" target=\"_blank\">missing.jl:122</a></li> <li> +(dt::<b>Dates.DateTime</b>, y::<b>Dates.Year</b>) in Dates at <a href=\"file:///buildworker/worker/package_linux64/build/usr/share/julia/stdlib/v1.7/Dates/src/arithmetic.jl\" target=\"_blank\">/home/hesed/julia-1.7.2/share/julia/stdlib/v1.7/Dates/src/arithmetic.jl:23</a></li> <li> +(dt::<b>Dates.DateTime</b>, z::<b>Dates.Month</b>) in Dates at <a href=\"file:///buildworker/worker/package_linux64/build/usr/share/julia/stdlib/v1.7/Dates/src/arithmetic.jl\" target=\"_blank\">/home/hesed/julia-1.7.2/share/julia/stdlib/v1.7/Dates/src/arithmetic.jl:47</a></li> <li> +(x::<b>Dates.DateTime</b>, y::<b>Dates.Quarter</b>) in Dates at <a href=\"file:///buildworker/worker/package_linux64/build/usr/share/julia/stdlib/v1.7/Dates/src/arithmetic.jl\" target=\"_blank\">/home/hesed/julia-1.7.2/share/julia/stdlib/v1.7/Dates/src/arithmetic.jl:75</a></li> <li> +(x::<b>Dates.DateTime</b>, y::<b>Dates.Period</b>) in Dates at <a href=\"file:///buildworker/worker/package_linux64/build/usr/share/julia/stdlib/v1.7/Dates/src/arithmetic.jl\" target=\"_blank\">/home/hesed/julia-1.7.2/share/julia/stdlib/v1.7/Dates/src/arithmetic.jl:81</a></li> <li> +(x::<b>Dates.TimeType</b>) in Dates at <a href=\"file:///buildworker/worker/package_linux64/build/usr/share/julia/stdlib/v1.7/Dates/src/arithmetic.jl\" target=\"_blank\">/home/hesed/julia-1.7.2/share/julia/stdlib/v1.7/Dates/src/arithmetic.jl:8</a></li> <li> +(x::<b>Dates.AbstractTime</b>, y::<b>Missing</b>) in Dates at <a href=\"file:///buildworker/worker/package_linux64/build/usr/share/julia/stdlib/v1.7/Dates/src/arithmetic.jl\" target=\"_blank\">/home/hesed/julia-1.7.2/share/julia/stdlib/v1.7/Dates/src/arithmetic.jl:88</a></li> <li> +(a::<b>Dates.TimeType</b>, b::<b>Dates.Period</b>, c::<b>Dates.Period</b>) in Dates at <a href=\"file:///buildworker/worker/package_linux64/build/usr/share/julia/stdlib/v1.7/Dates/src/periods.jl\" target=\"_blank\">/home/hesed/julia-1.7.2/share/julia/stdlib/v1.7/Dates/src/periods.jl:383</a></li> <li> +(a::<b>Dates.TimeType</b>, b::<b>Dates.Period</b>, c::<b>Dates.Period</b>, d::<b>Dates.Period...</b>) in Dates at <a href=\"file:///buildworker/worker/package_linux64/build/usr/share/julia/stdlib/v1.7/Dates/src/periods.jl\" target=\"_blank\">/home/hesed/julia-1.7.2/share/julia/stdlib/v1.7/Dates/src/periods.jl:384</a></li> <li> +(x::<b>Dates.TimeType</b>, y::<b>Dates.CompoundPeriod</b>) in Dates at <a href=\"file:///buildworker/worker/package_linux64/build/usr/share/julia/stdlib/v1.7/Dates/src/periods.jl\" target=\"_blank\">/home/hesed/julia-1.7.2/share/julia/stdlib/v1.7/Dates/src/periods.jl:386</a></li> <li> +(level::<b>Base.CoreLogging.LogLevel</b>, inc::<b>Integer</b>) in Base.CoreLogging at <a href=\"https://github.com/JuliaLang/julia/tree/bf534986350a991e4a1b29126de0342ffd76205e/base/logging.jl#L131\" target=\"_blank\">logging.jl:131</a></li> <li> +(x::<b>Float16</b>, y::<b>Float16</b>) in Base at <a href=\"https://github.com/JuliaLang/julia/tree/bf534986350a991e4a1b29126de0342ffd76205e/base/float.jl#L397\" target=\"_blank\">float.jl:397</a></li> <li> +(x::<b>Rational{BigInt}</b>, y::<b>Rational{BigInt}</b>) in Base.GMP.MPQ at <a href=\"https://github.com/JuliaLang/julia/tree/bf534986350a991e4a1b29126de0342ffd76205e/base/gmp.jl#L885\" target=\"_blank\">gmp.jl:885</a></li> <li> +(x::<b>Rational</b>) in Base at <a href=\"https://github.com/JuliaLang/julia/tree/bf534986350a991e4a1b29126de0342ffd76205e/base/rational.jl#L268\" target=\"_blank\">rational.jl:268</a></li> <li> +(x::<b>Number</b>, y::<b>Base.TwicePrecision</b>) in Base at <a href=\"https://github.com/JuliaLang/julia/tree/bf534986350a991e4a1b29126de0342ffd76205e/base/twiceprecision.jl#L283\" target=\"_blank\">twiceprecision.jl:283</a></li> <li> +(::<b>Number</b>, ::<b>Missing</b>) in Base at <a href=\"https://github.com/JuliaLang/julia/tree/bf534986350a991e4a1b29126de0342ffd76205e/base/missing.jl#L124\" target=\"_blank\">missing.jl:124</a></li> <li> +(x::<b>Number</b>, J::<b>LinearAlgebra.UniformScaling</b>) in LinearAlgebra at <a href=\"file:///buildworker/worker/package_linux64/build/usr/share/julia/stdlib/v1.7/LinearAlgebra/src/uniformscaling.jl\" target=\"_blank\">/home/hesed/julia-1.7.2/share/julia/stdlib/v1.7/LinearAlgebra/src/uniformscaling.jl:146</a></li> <li> +(x::<b>Real</b>, z::<b>Complex{Bool}</b>) in Base at <a href=\"https://github.com/JuliaLang/julia/tree/bf534986350a991e4a1b29126de0342ffd76205e/base/complex.jl#L313\" target=\"_blank\">complex.jl:313</a></li> <li> +(x::<b>Real</b>, z::<b>Complex</b>) in Base at <a href=\"https://github.com/JuliaLang/julia/tree/bf534986350a991e4a1b29126de0342ffd76205e/base/complex.jl#L325\" target=\"_blank\">complex.jl:325</a></li> <li> +(x::<b>Rational</b>, y::<b>Rational</b>) in Base at <a href=\"https://github.com/JuliaLang/julia/tree/bf534986350a991e4a1b29126de0342ffd76205e/base/rational.jl#L282\" target=\"_blank\">rational.jl:282</a></li> <li> +(x::<b>Float64</b>, y::<b>Float64</b>) in Base at <a href=\"https://github.com/JuliaLang/julia/tree/bf534986350a991e4a1b29126de0342ffd76205e/base/float.jl#L399\" target=\"_blank\">float.jl:399</a></li> <li> +(x::<b>Number</b>) in Base at <a href=\"https://github.com/JuliaLang/julia/tree/bf534986350a991e4a1b29126de0342ffd76205e/base/operators.jl#L592\" target=\"_blank\">operators.jl:592</a></li> <li> +(x::<b>T</b>, y::<b>T</b>)<i> where T<:Number</i> in Base at <a href=\"https://github.com/JuliaLang/julia/tree/bf534986350a991e4a1b29126de0342ffd76205e/base/promotion.jl#L454\" target=\"_blank\">promotion.jl:454</a></li> <li> +(x::<b>Number</b>, y::<b>Number</b>) in Base at <a href=\"https://github.com/JuliaLang/julia/tree/bf534986350a991e4a1b29126de0342ffd76205e/base/promotion.jl#L379\" target=\"_blank\">promotion.jl:379</a></li> <li> +(a, b, c, xs...) in Base at <a href=\"https://github.com/JuliaLang/julia/tree/bf534986350a991e4a1b29126de0342ffd76205e/base/operators.jl#L655\" target=\"_blank\">operators.jl:655</a></li> </ul>"
      ],
      "text/plain": [
       "# 208 methods for generic function \"+\":\n",
       "[1] +(x::T, y::T) where T<:Union{Int128, Int16, Int32, Int64, Int8, UInt128, UInt16, UInt32, UInt64, UInt8} in Base at int.jl:87\n",
       "[2] +(c::Union{UInt16, UInt32, UInt64, UInt8}, x::BigInt) in Base.GMP at gmp.jl:529\n",
       "[3] +(c::Union{Int16, Int32, Int64, Int8}, x::BigInt) in Base.GMP at gmp.jl:535\n",
       "[4] +(c::Union{UInt16, UInt32, UInt64, UInt8}, x::BigFloat) in Base.MPFR at mpfr.jl:390\n",
       "[5] +(c::Union{Int16, Int32, Int64, Int8}, x::BigFloat) in Base.MPFR at mpfr.jl:398\n",
       "[6] +(c::Union{Float16, Float32, Float64}, x::BigFloat) in Base.MPFR at mpfr.jl:406\n",
       "[7] +(x::Union{Dates.CompoundPeriod, Dates.Period}) in Dates at /home/hesed/julia-1.7.2/share/julia/stdlib/v1.7/Dates/src/periods.jl:372\n",
       "[8] +(x::P, y::P) where P<:Dates.Period in Dates at /home/hesed/julia-1.7.2/share/julia/stdlib/v1.7/Dates/src/periods.jl:79\n",
       "[9] +(x::Dates.Period, y::Dates.Period) in Dates at /home/hesed/julia-1.7.2/share/julia/stdlib/v1.7/Dates/src/periods.jl:361\n",
       "[10] +(y::Dates.Period, x::Dates.CompoundPeriod) in Dates at /home/hesed/julia-1.7.2/share/julia/stdlib/v1.7/Dates/src/periods.jl:363\n",
       "[11] +(y::Dates.Period, x::Dates.TimeType) in Dates at /home/hesed/julia-1.7.2/share/julia/stdlib/v1.7/Dates/src/arithmetic.jl:85\n",
       "[12] +(x::Dates.Period, r::AbstractRange{<:Dates.TimeType}) in Dates at /home/hesed/julia-1.7.2/share/julia/stdlib/v1.7/Dates/src/ranges.jl:62\n",
       "[13] +(y::Union{Dates.CompoundPeriod, Dates.Period}, x::AbstractArray{<:Dates.TimeType}) in Dates at /home/hesed/julia-1.7.2/share/julia/stdlib/v1.7/Dates/src/deprecated.jl:14\n",
       "[14] +(A::LinearAlgebra.UnitLowerTriangular, B::LinearAlgebra.LowerTriangular) in LinearAlgebra at /home/hesed/julia-1.7.2/share/julia/stdlib/v1.7/LinearAlgebra/src/triangular.jl:641\n",
       "[15] +(A::LinearAlgebra.UnitLowerTriangular, B::LinearAlgebra.UnitLowerTriangular) in LinearAlgebra at /home/hesed/julia-1.7.2/share/julia/stdlib/v1.7/LinearAlgebra/src/triangular.jl:643\n",
       "[16] +(UL::LinearAlgebra.UnitLowerTriangular, J::LinearAlgebra.UniformScaling) in LinearAlgebra at /home/hesed/julia-1.7.2/share/julia/stdlib/v1.7/LinearAlgebra/src/uniformscaling.jl:182\n",
       "[17] +(A::LinearAlgebra.UnitLowerTriangular, B::LinearAlgebra.Bidiagonal) in LinearAlgebra at /home/hesed/julia-1.7.2/share/julia/stdlib/v1.7/LinearAlgebra/src/special.jl:86\n",
       "[18] +(F::LinearAlgebra.Hessenberg, J::LinearAlgebra.UniformScaling) in LinearAlgebra at /home/hesed/julia-1.7.2/share/julia/stdlib/v1.7/LinearAlgebra/src/hessenberg.jl:640\n",
       "[19] +(r::AbstractRange{<:Dates.TimeType}, x::Dates.Period) in Dates at /home/hesed/julia-1.7.2/share/julia/stdlib/v1.7/Dates/src/ranges.jl:63\n",
       "[20] +(x::AbstractArray{<:Dates.TimeType}, y::Union{Dates.CompoundPeriod, Dates.Period}) in Dates at /home/hesed/julia-1.7.2/share/julia/stdlib/v1.7/Dates/src/deprecated.jl:6\n",
       "[21] +(A::LinearAlgebra.SymTridiagonal, B::LinearAlgebra.SymTridiagonal) in LinearAlgebra at /home/hesed/julia-1.7.2/share/julia/stdlib/v1.7/LinearAlgebra/src/tridiag.jl:208\n",
       "[22] +(A::LinearAlgebra.SymTridiagonal, B::LinearAlgebra.Symmetric) in LinearAlgebra at /home/hesed/julia-1.7.2/share/julia/stdlib/v1.7/LinearAlgebra/src/symmetric.jl:485\n",
       "[23] +(A::LinearAlgebra.SymTridiagonal{var\"#s857\", V} where {var\"#s857\"<:Real, V<:AbstractVector{var\"#s857\"}}, B::LinearAlgebra.Hermitian) in LinearAlgebra at /home/hesed/julia-1.7.2/share/julia/stdlib/v1.7/LinearAlgebra/src/symmetric.jl:487\n",
       "[24] +(x::LinearAlgebra.SymTridiagonal, H::LinearAlgebra.UpperHessenberg) in LinearAlgebra at /home/hesed/julia-1.7.2/share/julia/stdlib/v1.7/LinearAlgebra/src/hessenberg.jl:107\n",
       "[25] +(A::LinearAlgebra.SymTridiagonal, B::LinearAlgebra.Diagonal) in LinearAlgebra at /home/hesed/julia-1.7.2/share/julia/stdlib/v1.7/LinearAlgebra/src/special.jl:145\n",
       "[26] +(A::LinearAlgebra.SymTridiagonal, B::LinearAlgebra.Tridiagonal) in LinearAlgebra at /home/hesed/julia-1.7.2/share/julia/stdlib/v1.7/LinearAlgebra/src/special.jl:159\n",
       "[27] +(A::LinearAlgebra.SymTridiagonal, B::LinearAlgebra.Bidiagonal) in LinearAlgebra at /home/hesed/julia-1.7.2/share/julia/stdlib/v1.7/LinearAlgebra/src/special.jl:213\n",
       "[28] +(A::LinearAlgebra.SymTridiagonal{var\"#s859\", V} where {var\"#s859\"<:Number, V<:AbstractVector{var\"#s859\"}}, B::LinearAlgebra.UniformScaling) in LinearAlgebra at /home/hesed/julia-1.7.2/share/julia/stdlib/v1.7/LinearAlgebra/src/special.jl:231\n",
       "[29] +(x::Dates.Instant) in Dates at /home/hesed/julia-1.7.2/share/julia/stdlib/v1.7/Dates/src/arithmetic.jl:4\n",
       "[30] +(A::LinearAlgebra.Bidiagonal, B::LinearAlgebra.Bidiagonal) in LinearAlgebra at /home/hesed/julia-1.7.2/share/julia/stdlib/v1.7/LinearAlgebra/src/bidiag.jl:354\n",
       "[31] +(x::LinearAlgebra.Bidiagonal, H::LinearAlgebra.UpperHessenberg) in LinearAlgebra at /home/hesed/julia-1.7.2/share/julia/stdlib/v1.7/LinearAlgebra/src/hessenberg.jl:107\n",
       "[32] +(A::LinearAlgebra.Bidiagonal, B::LinearAlgebra.UpperTriangular) in LinearAlgebra at /home/hesed/julia-1.7.2/share/julia/stdlib/v1.7/LinearAlgebra/src/special.jl:94\n",
       "[33] +(A::LinearAlgebra.Bidiagonal, B::LinearAlgebra.UnitUpperTriangular) in LinearAlgebra at /home/hesed/julia-1.7.2/share/julia/stdlib/v1.7/LinearAlgebra/src/special.jl:94\n",
       "[34] +(A::LinearAlgebra.Bidiagonal, B::LinearAlgebra.LowerTriangular) in LinearAlgebra at /home/hesed/julia-1.7.2/share/julia/stdlib/v1.7/LinearAlgebra/src/special.jl:94\n",
       "[35] +(A::LinearAlgebra.Bidiagonal, B::LinearAlgebra.UnitLowerTriangular) in LinearAlgebra at /home/hesed/julia-1.7.2/share/julia/stdlib/v1.7/LinearAlgebra/src/special.jl:94\n",
       "[36] +(A::LinearAlgebra.Bidiagonal, B::LinearAlgebra.Diagonal) in LinearAlgebra at /home/hesed/julia-1.7.2/share/julia/stdlib/v1.7/LinearAlgebra/src/special.jl:115\n",
       "[37] +(A::LinearAlgebra.Bidiagonal, B::LinearAlgebra.Tridiagonal) in LinearAlgebra at /home/hesed/julia-1.7.2/share/julia/stdlib/v1.7/LinearAlgebra/src/special.jl:183\n",
       "[38] +(A::LinearAlgebra.Bidiagonal, B::LinearAlgebra.SymTridiagonal) in LinearAlgebra at /home/hesed/julia-1.7.2/share/julia/stdlib/v1.7/LinearAlgebra/src/special.jl:203\n",
       "[39] +(A::LinearAlgebra.Bidiagonal{var\"#s859\", V} where {var\"#s859\"<:Number, V<:AbstractVector{var\"#s859\"}}, B::LinearAlgebra.UniformScaling) in LinearAlgebra at /home/hesed/julia-1.7.2/share/julia/stdlib/v1.7/LinearAlgebra/src/special.jl:236\n",
       "[40] +(z::Complex, w::Complex) in Base at complex.jl:288\n",
       "[41] +(A::LinearAlgebra.UpperHessenberg, B::LinearAlgebra.UpperHessenberg) in LinearAlgebra at /home/hesed/julia-1.7.2/share/julia/stdlib/v1.7/LinearAlgebra/src/hessenberg.jl:99\n",
       "[42] +(H::LinearAlgebra.UpperHessenberg, x::LinearAlgebra.UniformScaling) in LinearAlgebra at /home/hesed/julia-1.7.2/share/julia/stdlib/v1.7/LinearAlgebra/src/hessenberg.jl:106\n",
       "[43] +(H::LinearAlgebra.UpperHessenberg, x::LinearAlgebra.Diagonal) in LinearAlgebra at /home/hesed/julia-1.7.2/share/julia/stdlib/v1.7/LinearAlgebra/src/hessenberg.jl:106\n",
       "[44] +(H::LinearAlgebra.UpperHessenberg, x::LinearAlgebra.Bidiagonal) in LinearAlgebra at /home/hesed/julia-1.7.2/share/julia/stdlib/v1.7/LinearAlgebra/src/hessenberg.jl:106\n",
       "[45] +(H::LinearAlgebra.UpperHessenberg, x::LinearAlgebra.Tridiagonal) in LinearAlgebra at /home/hesed/julia-1.7.2/share/julia/stdlib/v1.7/LinearAlgebra/src/hessenberg.jl:106\n",
       "[46] +(H::LinearAlgebra.UpperHessenberg, x::LinearAlgebra.SymTridiagonal) in LinearAlgebra at /home/hesed/julia-1.7.2/share/julia/stdlib/v1.7/LinearAlgebra/src/hessenberg.jl:106\n",
       "[47] +(H::LinearAlgebra.UpperHessenberg, x::LinearAlgebra.UpperTriangular) in LinearAlgebra at /home/hesed/julia-1.7.2/share/julia/stdlib/v1.7/LinearAlgebra/src/hessenberg.jl:106\n",
       "[48] +(H::LinearAlgebra.UpperHessenberg, x::LinearAlgebra.UnitUpperTriangular) in LinearAlgebra at /home/hesed/julia-1.7.2/share/julia/stdlib/v1.7/LinearAlgebra/src/hessenberg.jl:106\n",
       "[49] +(x::Base.TwicePrecision, y::Number) in Base at twiceprecision.jl:279\n",
       "[50] +(x::Base.TwicePrecision{T}, y::Base.TwicePrecision{T}) where T in Base at twiceprecision.jl:285\n",
       "[51] +(x::Base.TwicePrecision, y::Base.TwicePrecision) in Base at twiceprecision.jl:290\n",
       "[52] +(A::LinearAlgebra.UnitUpperTriangular, B::LinearAlgebra.UpperTriangular) in LinearAlgebra at /home/hesed/julia-1.7.2/share/julia/stdlib/v1.7/LinearAlgebra/src/triangular.jl:640\n",
       "[53] +(A::LinearAlgebra.UnitUpperTriangular, B::LinearAlgebra.UnitUpperTriangular) in LinearAlgebra at /home/hesed/julia-1.7.2/share/julia/stdlib/v1.7/LinearAlgebra/src/triangular.jl:642\n",
       "[54] +(UL::LinearAlgebra.UnitUpperTriangular, J::LinearAlgebra.UniformScaling) in LinearAlgebra at /home/hesed/julia-1.7.2/share/julia/stdlib/v1.7/LinearAlgebra/src/uniformscaling.jl:182\n",
       "[55] +(x::LinearAlgebra.UnitUpperTriangular, H::LinearAlgebra.UpperHessenberg) in LinearAlgebra at /home/hesed/julia-1.7.2/share/julia/stdlib/v1.7/LinearAlgebra/src/hessenberg.jl:107\n",
       "[56] +(A::LinearAlgebra.UnitUpperTriangular, B::LinearAlgebra.Bidiagonal) in LinearAlgebra at /home/hesed/julia-1.7.2/share/julia/stdlib/v1.7/LinearAlgebra/src/special.jl:86\n",
       "[57] +(Da::LinearAlgebra.Diagonal, Db::LinearAlgebra.Diagonal) in LinearAlgebra at /home/hesed/julia-1.7.2/share/julia/stdlib/v1.7/LinearAlgebra/src/diagonal.jl:172\n",
       "[58] +(D::LinearAlgebra.Diagonal, S::LinearAlgebra.Symmetric) in LinearAlgebra at /home/hesed/julia-1.7.2/share/julia/stdlib/v1.7/LinearAlgebra/src/diagonal.jl:176\n",
       "[59] +(D::LinearAlgebra.Diagonal{var\"#s859\", V} where {var\"#s859\"<:Real, V<:AbstractVector{var\"#s859\"}}, H::LinearAlgebra.Hermitian) in LinearAlgebra at /home/hesed/julia-1.7.2/share/julia/stdlib/v1.7/LinearAlgebra/src/diagonal.jl:182\n",
       "[60] +(x::LinearAlgebra.Diagonal, H::LinearAlgebra.UpperHessenberg) in LinearAlgebra at /home/hesed/julia-1.7.2/share/julia/stdlib/v1.7/LinearAlgebra/src/hessenberg.jl:107\n",
       "[61] +(A::LinearAlgebra.Diagonal, B::LinearAlgebra.Bidiagonal) in LinearAlgebra at /home/hesed/julia-1.7.2/share/julia/stdlib/v1.7/LinearAlgebra/src/special.jl:125\n",
       "[62] +(A::LinearAlgebra.Diagonal, B::LinearAlgebra.SymTridiagonal) in LinearAlgebra at /home/hesed/julia-1.7.2/share/julia/stdlib/v1.7/LinearAlgebra/src/special.jl:135\n",
       "[63] +(A::LinearAlgebra.Diagonal, B::LinearAlgebra.Tridiagonal) in LinearAlgebra at /home/hesed/julia-1.7.2/share/julia/stdlib/v1.7/LinearAlgebra/src/special.jl:163\n",
       "[64] +(A::LinearAlgebra.Diagonal{var\"#s859\", V} where {var\"#s859\"<:Number, V<:AbstractVector{var\"#s859\"}}, B::LinearAlgebra.UniformScaling) in LinearAlgebra at /home/hesed/julia-1.7.2/share/julia/stdlib/v1.7/LinearAlgebra/src/special.jl:241\n",
       "[65] +(J::LinearAlgebra.UniformScaling) in LinearAlgebra at /home/hesed/julia-1.7.2/share/julia/stdlib/v1.7/LinearAlgebra/src/uniformscaling.jl:150\n",
       "[66] +(J::LinearAlgebra.UniformScaling, x::Number) in LinearAlgebra at /home/hesed/julia-1.7.2/share/julia/stdlib/v1.7/LinearAlgebra/src/uniformscaling.jl:145\n",
       "[67] +(J1::LinearAlgebra.UniformScaling, J2::LinearAlgebra.UniformScaling) in LinearAlgebra at /home/hesed/julia-1.7.2/share/julia/stdlib/v1.7/LinearAlgebra/src/uniformscaling.jl:151\n",
       "[68] +(J::LinearAlgebra.UniformScaling, B::BitMatrix) in LinearAlgebra at /home/hesed/julia-1.7.2/share/julia/stdlib/v1.7/LinearAlgebra/src/uniformscaling.jl:153\n",
       "[69] +(x::LinearAlgebra.UniformScaling, H::LinearAlgebra.UpperHessenberg) in LinearAlgebra at /home/hesed/julia-1.7.2/share/julia/stdlib/v1.7/LinearAlgebra/src/hessenberg.jl:107\n",
       "[70] +(J::LinearAlgebra.UniformScaling, F::LinearAlgebra.Hessenberg) in LinearAlgebra at /home/hesed/julia-1.7.2/share/julia/stdlib/v1.7/LinearAlgebra/src/hessenberg.jl:641\n",
       "[71] +(A::LinearAlgebra.UniformScaling, B::LinearAlgebra.Tridiagonal{var\"#s859\", V} where {var\"#s859\"<:Number, V<:AbstractVector{var\"#s859\"}}) in LinearAlgebra at /home/hesed/julia-1.7.2/share/julia/stdlib/v1.7/LinearAlgebra/src/special.jl:245\n",
       "[72] +(A::LinearAlgebra.UniformScaling, B::LinearAlgebra.SymTridiagonal{var\"#s859\", V} where {var\"#s859\"<:Number, V<:AbstractVector{var\"#s859\"}}) in LinearAlgebra at /home/hesed/julia-1.7.2/share/julia/stdlib/v1.7/LinearAlgebra/src/special.jl:250\n",
       "[73] +(A::LinearAlgebra.UniformScaling, B::LinearAlgebra.Bidiagonal{var\"#s859\", V} where {var\"#s859\"<:Number, V<:AbstractVector{var\"#s859\"}}) in LinearAlgebra at /home/hesed/julia-1.7.2/share/julia/stdlib/v1.7/LinearAlgebra/src/special.jl:255\n",
       "[74] +(A::LinearAlgebra.UniformScaling, B::LinearAlgebra.Diagonal{var\"#s859\", V} where {var\"#s859\"<:Number, V<:AbstractVector{var\"#s859\"}}) in LinearAlgebra at /home/hesed/julia-1.7.2/share/julia/stdlib/v1.7/LinearAlgebra/src/special.jl:260\n",
       "[75] +(J::LinearAlgebra.UniformScaling, A::AbstractMatrix) in LinearAlgebra at /home/hesed/julia-1.7.2/share/julia/stdlib/v1.7/LinearAlgebra/src/uniformscaling.jl:154\n",
       "[76] +(x::T, y::Integer) where T<:AbstractChar in Base at char.jl:237\n",
       "[77] +(index1::CartesianIndex{N}, index2::CartesianIndex{N}) where N in Base.IteratorsMD at multidimensional.jl:114\n",
       "[78] +(A::LinearAlgebra.Tridiagonal, B::LinearAlgebra.Tridiagonal) in LinearAlgebra at /home/hesed/julia-1.7.2/share/julia/stdlib/v1.7/LinearAlgebra/src/tridiag.jl:740\n",
       "[79] +(x::LinearAlgebra.Tridiagonal, H::LinearAlgebra.UpperHessenberg) in LinearAlgebra at /home/hesed/julia-1.7.2/share/julia/stdlib/v1.7/LinearAlgebra/src/hessenberg.jl:107\n",
       "[80] +(A::LinearAlgebra.Tridiagonal, B::LinearAlgebra.SymTridiagonal) in LinearAlgebra at /home/hesed/julia-1.7.2/share/julia/stdlib/v1.7/LinearAlgebra/src/special.jl:157\n",
       "[81] +(A::LinearAlgebra.Tridiagonal, B::LinearAlgebra.Diagonal) in LinearAlgebra at /home/hesed/julia-1.7.2/share/julia/stdlib/v1.7/LinearAlgebra/src/special.jl:173\n",
       "[82] +(A::LinearAlgebra.Tridiagonal, B::LinearAlgebra.Bidiagonal) in LinearAlgebra at /home/hesed/julia-1.7.2/share/julia/stdlib/v1.7/LinearAlgebra/src/special.jl:193\n",
       "[83] +(A::LinearAlgebra.Tridiagonal{var\"#s859\", V} where {var\"#s859\"<:Number, V<:AbstractVector{var\"#s859\"}}, B::LinearAlgebra.UniformScaling) in LinearAlgebra at /home/hesed/julia-1.7.2/share/julia/stdlib/v1.7/LinearAlgebra/src/special.jl:226\n",
       "[84] +(A::SparseArrays.AbstractSparseMatrixCSC, B::SparseArrays.AbstractSparseMatrixCSC) in SparseArrays at /home/hesed/julia-1.7.2/share/julia/stdlib/v1.7/SparseArrays/src/sparsematrix.jl:1771\n",
       "[85] +(A::SparseArrays.AbstractSparseMatrixCSC, B::Array) in SparseArrays at /home/hesed/julia-1.7.2/share/julia/stdlib/v1.7/SparseArrays/src/sparsematrix.jl:1774\n",
       "[86] +(A::SparseArrays.AbstractSparseMatrixCSC, J::LinearAlgebra.UniformScaling) in SparseArrays at /home/hesed/julia-1.7.2/share/julia/stdlib/v1.7/SparseArrays/src/sparsematrix.jl:3754\n",
       "[87] +(y::Dates.TimeType, x::StridedArray{<:Union{Dates.CompoundPeriod, Dates.Period}}) in Dates at /home/hesed/julia-1.7.2/share/julia/stdlib/v1.7/Dates/src/deprecated.jl:18\n",
       "[88] +(r1::OrdinalRange, r2::OrdinalRange) in Base at range.jl:1347\n",
       "[89] +(x::Rational, y::Integer) in Base at rational.jl:311\n",
       "[90] +(A::LinearAlgebra.UpperTriangular, B::LinearAlgebra.UpperTriangular) in LinearAlgebra at /home/hesed/julia-1.7.2/share/julia/stdlib/v1.7/LinearAlgebra/src/triangular.jl:636\n",
       "[91] +(A::LinearAlgebra.UpperTriangular, B::LinearAlgebra.UnitUpperTriangular) in LinearAlgebra at /home/hesed/julia-1.7.2/share/julia/stdlib/v1.7/LinearAlgebra/src/triangular.jl:638\n",
       "[92] +(x::LinearAlgebra.UpperTriangular, H::LinearAlgebra.UpperHessenberg) in LinearAlgebra at /home/hesed/julia-1.7.2/share/julia/stdlib/v1.7/LinearAlgebra/src/hessenberg.jl:107\n",
       "[93] +(A::LinearAlgebra.UpperTriangular, B::LinearAlgebra.Bidiagonal) in LinearAlgebra at /home/hesed/julia-1.7.2/share/julia/stdlib/v1.7/LinearAlgebra/src/special.jl:86\n",
       "[94] +(x::SparseArrays.AbstractSparseVector, y::SparseArrays.AbstractSparseVector) in SparseArrays at /home/hesed/julia-1.7.2/share/julia/stdlib/v1.7/SparseArrays/src/sparsevector.jl:1355\n",
       "[95] +(A::SparseArrays.AbstractSparseMatrix, B::LinearAlgebra.Hermitian{<:Any, <:SparseArrays.AbstractSparseMatrix}) in SparseArrays at /home/hesed/julia-1.7.2/share/julia/stdlib/v1.7/SparseArrays/src/linalg.jl:14\n",
       "[96] +(A::SparseArrays.AbstractSparseMatrix, B::LinearAlgebra.Hermitian) in SparseArrays at /home/hesed/julia-1.7.2/share/julia/stdlib/v1.7/SparseArrays/src/linalg.jl:17\n",
       "[97] +(A::SparseArrays.AbstractSparseMatrix, B::LinearAlgebra.Symmetric{<:Any, <:SparseArrays.AbstractSparseMatrix}) in SparseArrays at /home/hesed/julia-1.7.2/share/julia/stdlib/v1.7/SparseArrays/src/linalg.jl:14\n",
       "[98] +(A::SparseArrays.AbstractSparseMatrix, B::LinearAlgebra.Symmetric) in SparseArrays at /home/hesed/julia-1.7.2/share/julia/stdlib/v1.7/SparseArrays/src/linalg.jl:17\n",
       "[99] +(A::LinearAlgebra.Symmetric, B::LinearAlgebra.Symmetric) in LinearAlgebra at /home/hesed/julia-1.7.2/share/julia/stdlib/v1.7/LinearAlgebra/src/symmetric.jl:469\n",
       "[100] +(A::LinearAlgebra.Symmetric, B::LinearAlgebra.SymTridiagonal) in LinearAlgebra at /home/hesed/julia-1.7.2/share/julia/stdlib/v1.7/LinearAlgebra/src/symmetric.jl:486\n",
       "[101] +(S::LinearAlgebra.Symmetric, D::LinearAlgebra.Diagonal) in LinearAlgebra at /home/hesed/julia-1.7.2/share/julia/stdlib/v1.7/LinearAlgebra/src/diagonal.jl:179\n",
       "[102] +(A::LinearAlgebra.Symmetric{<:Any, <:SparseArrays.AbstractSparseMatrix}, B::SparseArrays.AbstractSparseMatrix) in SparseArrays at /home/hesed/julia-1.7.2/share/julia/stdlib/v1.7/SparseArrays/src/linalg.jl:15\n",
       "[103] +(A::LinearAlgebra.Symmetric, B::SparseArrays.AbstractSparseMatrix) in SparseArrays at /home/hesed/julia-1.7.2/share/julia/stdlib/v1.7/SparseArrays/src/linalg.jl:18\n",
       "[104] +(A::LinearAlgebra.Symmetric{<:Real, <:SparseArrays.AbstractSparseMatrix}, B::LinearAlgebra.Hermitian{<:Any, <:SparseArrays.AbstractSparseMatrix}) in SparseArrays at /home/hesed/julia-1.7.2/share/julia/stdlib/v1.7/SparseArrays/src/linalg.jl:25\n",
       "[105] +(A::LinearAlgebra.Symmetric{var\"#s858\", S} where {var\"#s858\"<:Real, S<:(AbstractMatrix{<:var\"#s858\"})}, B::LinearAlgebra.Hermitian) in LinearAlgebra at /home/hesed/julia-1.7.2/share/julia/stdlib/v1.7/LinearAlgebra/src/symmetric.jl:484\n",
       "[106] +(A::LinearAlgebra.Symmetric{<:Any, <:SparseArrays.AbstractSparseMatrix}, B::LinearAlgebra.Hermitian{<:Any, <:SparseArrays.AbstractSparseMatrix}) in SparseArrays at /home/hesed/julia-1.7.2/share/julia/stdlib/v1.7/SparseArrays/src/linalg.jl:23\n",
       "[107] +(A::LinearAlgebra.LowerTriangular, B::LinearAlgebra.LowerTriangular) in LinearAlgebra at /home/hesed/julia-1.7.2/share/julia/stdlib/v1.7/LinearAlgebra/src/triangular.jl:637\n",
       "[108] +(A::LinearAlgebra.LowerTriangular, B::LinearAlgebra.UnitLowerTriangular) in LinearAlgebra at /home/hesed/julia-1.7.2/share/julia/stdlib/v1.7/LinearAlgebra/src/triangular.jl:639\n",
       "[109] +(A::LinearAlgebra.AbstractTriangular, B::LinearAlgebra.AbstractTriangular) in LinearAlgebra at /home/hesed/julia-1.7.2/share/julia/stdlib/v1.7/LinearAlgebra/src/triangular.jl:644\n",
       "[110] +(A::LinearAlgebra.LowerTriangular, B::LinearAlgebra.Bidiagonal) in LinearAlgebra at /home/hesed/julia-1.7.2/share/julia/stdlib/v1.7/LinearAlgebra/src/special.jl:86\n",
       "[111] +(A::LinearAlgebra.Hermitian, B::LinearAlgebra.Hermitian) in LinearAlgebra at /home/hesed/julia-1.7.2/share/julia/stdlib/v1.7/LinearAlgebra/src/symmetric.jl:469\n",
       "[112] +(A::LinearAlgebra.Hermitian, B::LinearAlgebra.SymTridiagonal{var\"#s856\", V} where {var\"#s856\"<:Real, V<:AbstractVector{var\"#s856\"}}) in LinearAlgebra at /home/hesed/julia-1.7.2/share/julia/stdlib/v1.7/LinearAlgebra/src/symmetric.jl:488\n",
       "[113] +(H::LinearAlgebra.Hermitian, D::LinearAlgebra.Diagonal{var\"#s859\", V} where {var\"#s859\"<:Real, V<:AbstractVector{var\"#s859\"}}) in LinearAlgebra at /home/hesed/julia-1.7.2/share/julia/stdlib/v1.7/LinearAlgebra/src/diagonal.jl:185\n",
       "[114] +(A::LinearAlgebra.Hermitian, J::LinearAlgebra.UniformScaling{<:Complex}) in LinearAlgebra at /home/hesed/julia-1.7.2/share/julia/stdlib/v1.7/LinearAlgebra/src/uniformscaling.jl:196\n",
       "[115] +(A::LinearAlgebra.Hermitian{<:Any, <:SparseArrays.AbstractSparseMatrix}, B::SparseArrays.AbstractSparseMatrix) in SparseArrays at /home/hesed/julia-1.7.2/share/julia/stdlib/v1.7/SparseArrays/src/linalg.jl:15\n",
       "[116] +(A::LinearAlgebra.Hermitian, B::SparseArrays.AbstractSparseMatrix) in SparseArrays at /home/hesed/julia-1.7.2/share/julia/stdlib/v1.7/SparseArrays/src/linalg.jl:18\n",
       "[117] +(A::LinearAlgebra.Hermitian{<:Any, <:SparseArrays.AbstractSparseMatrix}, B::LinearAlgebra.Symmetric{<:Real, <:SparseArrays.AbstractSparseMatrix}) in SparseArrays at /home/hesed/julia-1.7.2/share/julia/stdlib/v1.7/SparseArrays/src/linalg.jl:26\n",
       "[118] +(A::LinearAlgebra.Hermitian, B::LinearAlgebra.Symmetric{var\"#s859\", S} where {var\"#s859\"<:Real, S<:(AbstractMatrix{<:var\"#s859\"})}) in LinearAlgebra at /home/hesed/julia-1.7.2/share/julia/stdlib/v1.7/LinearAlgebra/src/symmetric.jl:483\n",
       "[119] +(A::LinearAlgebra.Hermitian{<:Any, <:SparseArrays.AbstractSparseMatrix}, B::LinearAlgebra.Symmetric{<:Any, <:SparseArrays.AbstractSparseMatrix}) in SparseArrays at /home/hesed/julia-1.7.2/share/julia/stdlib/v1.7/SparseArrays/src/linalg.jl:24\n",
       "[120] +(x::Ptr, y::Integer) in Base at pointer.jl:159\n",
       "[121] +(x::AbstractIrrational, y::AbstractIrrational) in Base at irrationals.jl:158\n",
       "[122] +(r1::LinRange{T}, r2::LinRange{T}) where T in Base at range.jl:1354\n",
       "[123] +(A::BitArray, B::BitArray) in Base at bitarray.jl:1180\n",
       "[124] +(A::Array, Bs::Array...) in Base at arraymath.jl:43\n",
       "[125] +(X::StridedArray{<:Union{Dates.CompoundPeriod, Dates.Period}}, Y::StridedArray{<:Union{Dates.CompoundPeriod, Dates.Period}}) in Dates at /home/hesed/julia-1.7.2/share/julia/stdlib/v1.7/Dates/src/deprecated.jl:62\n",
       "[126] +(A::Array, B::SparseArrays.AbstractSparseMatrixCSC) in SparseArrays at /home/hesed/julia-1.7.2/share/julia/stdlib/v1.7/SparseArrays/src/sparsematrix.jl:1775\n",
       "[127] +(x::StridedArray{<:Union{Dates.CompoundPeriod, Dates.Period}}) in Dates at /home/hesed/julia-1.7.2/share/julia/stdlib/v1.7/Dates/src/deprecated.jl:55\n",
       "[128] +(x::StridedArray{<:Union{Dates.CompoundPeriod, Dates.Period}}, y::Dates.TimeType) in Dates at /home/hesed/julia-1.7.2/share/julia/stdlib/v1.7/Dates/src/deprecated.jl:10\n",
       "[129] +(y::AbstractFloat, x::Bool) in Base at bool.jl:172\n",
       "[130] +(r1::StepRangeLen{T, R}, r2::StepRangeLen{T, R}) where {R<:Base.TwicePrecision, T} in Base at twiceprecision.jl:613\n",
       "[131] +(r1::StepRangeLen{T, S}, r2::StepRangeLen{T, S}) where {T, S} in Base at range.jl:1370\n",
       "[132] +(r1::Union{LinRange, OrdinalRange, StepRangeLen}, r2::Union{LinRange, OrdinalRange, StepRangeLen}) in Base at range.jl:1363\n",
       "[133] +(A::AbstractArray, B::AbstractArray) in Base at arraymath.jl:37\n",
       "[134] +(x::Dates.Time, y::Dates.TimePeriod) in Dates at /home/hesed/julia-1.7.2/share/julia/stdlib/v1.7/Dates/src/arithmetic.jl:83\n",
       "[135] +(t::Dates.Time, dt::Dates.Date) in Dates at /home/hesed/julia-1.7.2/share/julia/stdlib/v1.7/Dates/src/arithmetic.jl:20\n",
       "[136] +(x::Dates.CompoundPeriod, y::Dates.Period) in Dates at /home/hesed/julia-1.7.2/share/julia/stdlib/v1.7/Dates/src/periods.jl:362\n",
       "[137] +(x::Dates.CompoundPeriod, y::Dates.TimeType) in Dates at /home/hesed/julia-1.7.2/share/julia/stdlib/v1.7/Dates/src/periods.jl:392\n",
       "[138] +(x::Dates.CompoundPeriod, y::Dates.CompoundPeriod) in Dates at /home/hesed/julia-1.7.2/share/julia/stdlib/v1.7/Dates/src/periods.jl:364\n",
       "[139] +(x::Bool) in Base at bool.jl:159\n",
       "[140] +(x::Integer, y::Ptr) in Base at pointer.jl:161\n",
       "[141] +(y::Integer, x::Rational) in Base at rational.jl:318\n",
       "[142] +(x::Integer, y::AbstractChar) in Base at char.jl:247\n",
       "[143] +(x::Bool, y::T) where T<:AbstractFloat in Base at bool.jl:169\n",
       "[144] +(x::Bool, y::Bool) in Base at bool.jl:162\n",
       "[145] +(x::Bool, z::Complex{Bool}) in Base at complex.jl:299\n",
       "[146] +(x::Bool, z::Complex) in Base at complex.jl:306\n",
       "[147] +(z::Complex{Bool}, x::Bool) in Base at complex.jl:300\n",
       "[148] +(z::Complex, x::Bool) in Base at complex.jl:307\n",
       "[149] +(z::Complex{Bool}, x::Real) in Base at complex.jl:314\n",
       "[150] +(z::Complex) in Base at complex.jl:286\n",
       "[151] +(z::Complex, x::Real) in Base at complex.jl:326\n",
       "[152] +(x::Float32, y::Float32) in Base at float.jl:398\n",
       "[153] +(B::BitMatrix, J::LinearAlgebra.UniformScaling) in LinearAlgebra at /home/hesed/julia-1.7.2/share/julia/stdlib/v1.7/LinearAlgebra/src/uniformscaling.jl:152\n",
       "[154] +(A::AbstractMatrix, J::LinearAlgebra.UniformScaling) in LinearAlgebra at /home/hesed/julia-1.7.2/share/julia/stdlib/v1.7/LinearAlgebra/src/uniformscaling.jl:215\n",
       "[155] +(x::AbstractArray{<:Number}) in Base at abstractarraymath.jl:104\n",
       "[156] +(x::BigFloat, c::Union{UInt16, UInt32, UInt64, UInt8}) in Base.MPFR at mpfr.jl:385\n",
       "[157] +(x::BigFloat, c::Union{Int16, Int32, Int64, Int8}) in Base.MPFR at mpfr.jl:393\n",
       "[158] +(x::BigFloat, c::Union{Float16, Float32, Float64}) in Base.MPFR at mpfr.jl:401\n",
       "[159] +(x::BigFloat, y::BigFloat) in Base.MPFR at mpfr.jl:378\n",
       "[160] +(x::BigFloat, c::BigInt) in Base.MPFR at mpfr.jl:409\n",
       "[161] +(a::BigFloat, b::BigFloat, c::BigFloat) in Base.MPFR at mpfr.jl:550\n",
       "[162] +(a::BigFloat, b::BigFloat, c::BigFloat, d::BigFloat) in Base.MPFR at mpfr.jl:556\n",
       "[163] +(a::BigFloat, b::BigFloat, c::BigFloat, d::BigFloat, e::BigFloat) in Base.MPFR at mpfr.jl:563\n",
       "[164] +(a::Pkg.Resolve.FieldValue, b::Pkg.Resolve.FieldValue) in Pkg.Resolve at /home/hesed/julia-1.7.2/share/julia/stdlib/v1.7/Pkg/src/Resolve/fieldvalues.jl:43\n",
       "[165] +(a::Pkg.Resolve.VersionWeight, b::Pkg.Resolve.VersionWeight) in Pkg.Resolve at /home/hesed/julia-1.7.2/share/julia/stdlib/v1.7/Pkg/src/Resolve/versionweights.jl:22\n",
       "[166] +(dt::Dates.Date, t::Dates.Time) in Dates at /home/hesed/julia-1.7.2/share/julia/stdlib/v1.7/Dates/src/arithmetic.jl:19\n",
       "[167] +(dt::Dates.Date, y::Dates.Year) in Dates at /home/hesed/julia-1.7.2/share/julia/stdlib/v1.7/Dates/src/arithmetic.jl:27\n",
       "[168] +(dt::Dates.Date, z::Dates.Month) in Dates at /home/hesed/julia-1.7.2/share/julia/stdlib/v1.7/Dates/src/arithmetic.jl:54\n",
       "[169] +(x::Dates.Date, y::Dates.Quarter) in Dates at /home/hesed/julia-1.7.2/share/julia/stdlib/v1.7/Dates/src/arithmetic.jl:73\n",
       "[170] +(x::Dates.Date, y::Dates.Week) in Dates at /home/hesed/julia-1.7.2/share/julia/stdlib/v1.7/Dates/src/arithmetic.jl:77\n",
       "[171] +(x::Dates.Date, y::Dates.Day) in Dates at /home/hesed/julia-1.7.2/share/julia/stdlib/v1.7/Dates/src/arithmetic.jl:79\n",
       "[172] +(x::BigInt, c::Union{UInt16, UInt32, UInt64, UInt8}) in Base.GMP at gmp.jl:528\n",
       "[173] +(x::BigInt, c::Union{Int16, Int32, Int64, Int8}) in Base.GMP at gmp.jl:534\n",
       "[174] +(x::BigInt, y::BigInt) in Base.GMP at gmp.jl:480\n",
       "[175] +(a::BigInt, b::BigInt, c::BigInt) in Base.GMP at gmp.jl:520\n",
       "[176] +(a::BigInt, b::BigInt, c::BigInt, d::BigInt) in Base.GMP at gmp.jl:521\n",
       "[177] +(a::BigInt, b::BigInt, c::BigInt, d::BigInt, e::BigInt) in Base.GMP at gmp.jl:522\n",
       "[178] +(x::BigInt, y::BigInt, rest::BigInt...) in Base.GMP at gmp.jl:635\n",
       "[179] +(a::Integer, b::Integer) in Base at int.jl:978\n",
       "[180] +(c::BigInt, x::BigFloat) in Base.MPFR at mpfr.jl:414\n",
       "[181] +(::Missing) in Base at missing.jl:101\n",
       "[182] +(::Missing, ::Number) in Base at missing.jl:123\n",
       "[183] +(x::Missing, y::Dates.AbstractTime) in Dates at /home/hesed/julia-1.7.2/share/julia/stdlib/v1.7/Dates/src/arithmetic.jl:89\n",
       "[184] +(::Missing, ::Missing) in Base at missing.jl:122\n",
       "[185] +(dt::Dates.DateTime, y::Dates.Year) in Dates at /home/hesed/julia-1.7.2/share/julia/stdlib/v1.7/Dates/src/arithmetic.jl:23\n",
       "[186] +(dt::Dates.DateTime, z::Dates.Month) in Dates at /home/hesed/julia-1.7.2/share/julia/stdlib/v1.7/Dates/src/arithmetic.jl:47\n",
       "[187] +(x::Dates.DateTime, y::Dates.Quarter) in Dates at /home/hesed/julia-1.7.2/share/julia/stdlib/v1.7/Dates/src/arithmetic.jl:75\n",
       "[188] +(x::Dates.DateTime, y::Dates.Period) in Dates at /home/hesed/julia-1.7.2/share/julia/stdlib/v1.7/Dates/src/arithmetic.jl:81\n",
       "[189] +(x::Dates.TimeType) in Dates at /home/hesed/julia-1.7.2/share/julia/stdlib/v1.7/Dates/src/arithmetic.jl:8\n",
       "[190] +(x::Dates.AbstractTime, y::Missing) in Dates at /home/hesed/julia-1.7.2/share/julia/stdlib/v1.7/Dates/src/arithmetic.jl:88\n",
       "[191] +(a::Dates.TimeType, b::Dates.Period, c::Dates.Period) in Dates at /home/hesed/julia-1.7.2/share/julia/stdlib/v1.7/Dates/src/periods.jl:383\n",
       "[192] +(a::Dates.TimeType, b::Dates.Period, c::Dates.Period, d::Dates.Period...) in Dates at /home/hesed/julia-1.7.2/share/julia/stdlib/v1.7/Dates/src/periods.jl:384\n",
       "[193] +(x::Dates.TimeType, y::Dates.CompoundPeriod) in Dates at /home/hesed/julia-1.7.2/share/julia/stdlib/v1.7/Dates/src/periods.jl:386\n",
       "[194] +(level::Base.CoreLogging.LogLevel, inc::Integer) in Base.CoreLogging at logging.jl:131\n",
       "[195] +(x::Float16, y::Float16) in Base at float.jl:397\n",
       "[196] +(x::Rational{BigInt}, y::Rational{BigInt}) in Base.GMP.MPQ at gmp.jl:885\n",
       "[197] +(x::Rational) in Base at rational.jl:268\n",
       "[198] +(x::Number, y::Base.TwicePrecision) in Base at twiceprecision.jl:283\n",
       "[199] +(::Number, ::Missing) in Base at missing.jl:124\n",
       "[200] +(x::Number, J::LinearAlgebra.UniformScaling) in LinearAlgebra at /home/hesed/julia-1.7.2/share/julia/stdlib/v1.7/LinearAlgebra/src/uniformscaling.jl:146\n",
       "[201] +(x::Real, z::Complex{Bool}) in Base at complex.jl:313\n",
       "[202] +(x::Real, z::Complex) in Base at complex.jl:325\n",
       "[203] +(x::Rational, y::Rational) in Base at rational.jl:282\n",
       "[204] +(x::Float64, y::Float64) in Base at float.jl:399\n",
       "[205] +(x::Number) in Base at operators.jl:592\n",
       "[206] +(x::T, y::T) where T<:Number in Base at promotion.jl:454\n",
       "[207] +(x::Number, y::Number) in Base at promotion.jl:379\n",
       "[208] +(a, b, c, xs...) in Base at operators.jl:655"
      ]
     },
     "execution_count": 16,
     "metadata": {},
     "output_type": "execute_result"
    }
   ],
   "source": [
    "methods(+)"
   ]
  },
  {
   "cell_type": "markdown",
   "metadata": {},
   "source": [
    "We can now use integer and string types on `foo()`"
   ]
  },
  {
   "cell_type": "code",
   "execution_count": 17,
   "metadata": {},
   "outputs": [
    {
     "name": "stdout",
     "output_type": "stream",
     "text": [
      "Inputs are: 1 and 2 and both are integers.\n",
      "Inputs are: Hello and World and both are strings.\n"
     ]
    }
   ],
   "source": [
    "foo(1, 2)\n",
    "foo(\"Hello\", \"World\")"
   ]
  },
  {
   "cell_type": "markdown",
   "metadata": {},
   "source": [
    "We've now used **Multiple Dispatch** feature of Julia to create a function that has multiple methods."
   ]
  },
  {
   "cell_type": "markdown",
   "metadata": {},
   "source": [
    "How do we tell which version of function is dispatched? I.e. which version/method of the `foo` function is associated with?\n",
    "\n",
    "We can use `@which` macro."
   ]
  },
  {
   "cell_type": "code",
   "execution_count": 18,
   "metadata": {},
   "outputs": [
    {
     "data": {
      "text/html": [
       "foo(x::<b>Int64</b>, y::<b>Int64</b>) in Main at In[12]:1"
      ],
      "text/plain": [
       "foo(x::Int64, y::Int64) in Main at In[12]:1"
      ]
     },
     "execution_count": 18,
     "metadata": {},
     "output_type": "execute_result"
    }
   ],
   "source": [
    "# What method is associated with foo when we input integers?\n",
    "@which foo(3, 4)"
   ]
  },
  {
   "cell_type": "code",
   "execution_count": 19,
   "metadata": {},
   "outputs": [
    {
     "data": {
      "text/html": [
       "foo(x::<b>String</b>, y::<b>String</b>) in Main at In[9]:1"
      ],
      "text/plain": [
       "foo(x::String, y::String) in Main at In[9]:1"
      ]
     },
     "execution_count": 19,
     "metadata": {},
     "output_type": "execute_result"
    }
   ],
   "source": [
    "# What method is associated with foo when we input strings?\n",
    "@which foo(\"Hello\", \"World\")"
   ]
  },
  {
   "cell_type": "code",
   "execution_count": 26,
   "metadata": {},
   "outputs": [
    {
     "data": {
      "text/html": [
       "+(x::<b>T</b>, y::<b>T</b>)<i> where T<:Union{Int128, Int16, Int32, Int64, Int8, UInt128, UInt16, UInt32, UInt64, UInt8}</i> in Base at <a href=\"https://github.com/JuliaLang/julia/tree/bf534986350a991e4a1b29126de0342ffd76205e/base/int.jl#L87\" target=\"_blank\">int.jl:87</a>"
      ],
      "text/plain": [
       "+(x::T, y::T) where T<:Union{Int128, Int16, Int32, Int64, Int8, UInt128, UInt16, UInt32, UInt64, UInt8} in Base at int.jl:87"
      ]
     },
     "execution_count": 26,
     "metadata": {},
     "output_type": "execute_result"
    }
   ],
   "source": [
    "# What method is associated with + when we input some values?\n",
    "@which 3 + 4"
   ]
  },
  {
   "cell_type": "markdown",
   "metadata": {},
   "source": [
    "We can also add a fallback (alternative), duck-type method for `foo` that take inputs of any type."
   ]
  },
  {
   "cell_type": "code",
   "execution_count": 27,
   "metadata": {},
   "outputs": [
    {
     "data": {
      "text/plain": [
       "foo (generic function with 3 methods)"
      ]
     },
     "execution_count": 27,
     "metadata": {},
     "output_type": "execute_result"
    }
   ],
   "source": [
    "foo(x, y) = println(\"This takes any inputs: $x, $y\")"
   ]
  },
  {
   "cell_type": "markdown",
   "metadata": {},
   "source": [
    "Given the methods we've defined for `foo()` so far, the above method will be called whenever we pass arguments that is not defined in the methods `foo()`."
   ]
  },
  {
   "cell_type": "code",
   "execution_count": 28,
   "metadata": {},
   "outputs": [
    {
     "name": "stdout",
     "output_type": "stream",
     "text": [
      "Inputs are: Hello and World and both are strings.\n"
     ]
    }
   ],
   "source": [
    "foo(\"Hello\", \"World\")"
   ]
  },
  {
   "cell_type": "code",
   "execution_count": 29,
   "metadata": {},
   "outputs": [
    {
     "name": "stdout",
     "output_type": "stream",
     "text": [
      "Inputs are: 1 and 2 and both are integers.\n"
     ]
    }
   ],
   "source": [
    "foo(1, 2)"
   ]
  },
  {
   "cell_type": "code",
   "execution_count": 31,
   "metadata": {},
   "outputs": [
    {
     "name": "stdout",
     "output_type": "stream",
     "text": [
      "This takes any inputs: [1, 2, 3], [4, 5, 6]\n"
     ]
    }
   ],
   "source": [
    "foo([1,2,3], [4,5,6])"
   ]
  },
  {
   "cell_type": "code",
   "execution_count": 32,
   "metadata": {
    "scrolled": true
   },
   "outputs": [
    {
     "data": {
      "text/html": [
       "foo(x, y) in Main at In[27]:1"
      ],
      "text/plain": [
       "foo(x, y) in Main at In[27]:1"
      ]
     },
     "execution_count": 32,
     "metadata": {},
     "output_type": "execute_result"
    }
   ],
   "source": [
    "@which foo([1,2,3], [4,5,6])"
   ]
  },
  {
   "cell_type": "markdown",
   "metadata": {},
   "source": [
    "Now you can check that the function will take in arrays as a fallback."
   ]
  },
  {
   "cell_type": "code",
   "execution_count": 34,
   "metadata": {},
   "outputs": [
    {
     "name": "stdout",
     "output_type": "stream",
     "text": [
      "This takes any inputs: [0.4143266138816708, 0.8188815845031586, 0.3893094154883707, 0.5771946769501893, 0.492235329759239], [0.4143266138816708, 0.8188815845031586, 0.3893094154883707, 0.5771946769501893, 0.492235329759239]\n"
     ]
    }
   ],
   "source": [
    "rv = rand(5)\n",
    "foo(rv, rv)"
   ]
  },
  {
   "cell_type": "code",
   "execution_count": 35,
   "metadata": {},
   "outputs": [
    {
     "data": {
      "text/plain": [
       "5-element Vector{Float64}:\n",
       " 0.4143266138816708\n",
       " 0.8188815845031586\n",
       " 0.3893094154883707\n",
       " 0.5771946769501893\n",
       " 0.492235329759239"
      ]
     },
     "execution_count": 35,
     "metadata": {},
     "output_type": "execute_result"
    }
   ],
   "source": [
    "rv"
   ]
  },
  {
   "cell_type": "code",
   "execution_count": 37,
   "metadata": {},
   "outputs": [
    {
     "name": "stdout",
     "output_type": "stream",
     "text": [
      "This takes any inputs: 3, 4.5\n"
     ]
    }
   ],
   "source": [
    "# What about mix of integer and float?\n",
    "foo(3, 4.5)"
   ]
  },
  {
   "cell_type": "markdown",
   "metadata": {},
   "source": [
    "*With reference to documentation from Julia Organization:*\n",
    "\n",
    "[Julia Methods](https://docs.julialang.org/en/v1/manual/methods/)"
   ]
  }
 ],
 "metadata": {
  "@webio": {
   "lastCommId": null,
   "lastKernelId": null
  },
  "kernelspec": {
   "display_name": "Julia 1.7.3",
   "language": "julia",
   "name": "julia-1.7"
  },
  "language_info": {
   "file_extension": ".jl",
   "mimetype": "application/julia",
   "name": "julia",
   "version": "1.7.3"
  }
 },
 "nbformat": 4,
 "nbformat_minor": 2
}
