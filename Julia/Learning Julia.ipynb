{
 "cells": [
  {
   "cell_type": "markdown",
   "id": "41e53864",
   "metadata": {},
   "source": [
    "Take small steps, leave no gaps, everything makes sense. "
   ]
  },
  {
   "cell_type": "code",
   "execution_count": 11,
   "id": "89d956ec",
   "metadata": {},
   "outputs": [
    {
     "data": {
      "text/plain": [
       "\"Hello World\""
      ]
     },
     "execution_count": 11,
     "metadata": {},
     "output_type": "execute_result"
    }
   ],
   "source": [
    "\"Hello World\""
   ]
  },
  {
   "cell_type": "code",
   "execution_count": 1,
   "id": "66e1361a",
   "metadata": {},
   "outputs": [
    {
     "data": {
      "text/plain": [
       "\"Hello World\""
      ]
     },
     "execution_count": 1,
     "metadata": {},
     "output_type": "execute_result"
    }
   ],
   "source": [
    "a_string = \"Hello World\""
   ]
  },
  {
   "cell_type": "code",
   "execution_count": 2,
   "id": "9ed55fcf",
   "metadata": {},
   "outputs": [
    {
     "name": "stdout",
     "output_type": "stream",
     "text": [
      "Hello World\n"
     ]
    }
   ],
   "source": [
    "println(a_string)"
   ]
  },
  {
   "cell_type": "markdown",
   "id": "93f2637a",
   "metadata": {},
   "source": [
    "### What is REPL?\n",
    "\n",
    "A Read-Eval-Print Loop, or REPL, is a computer environment where user inputs are read and evaluated, and then the results are returned to the user. REPLs provide an interactive environment to explore tools available in specific environments or programming languages. Some examples include the Node.js console, IPython, the Bash shell, and the developer console found in most web browsers. "
   ]
  },
  {
   "cell_type": "code",
   "execution_count": 14,
   "id": "dfaf8674",
   "metadata": {
    "scrolled": true
   },
   "outputs": [
    {
     "name": "stdout",
     "output_type": "stream",
     "text": [
      "Hello World\n",
      "Hello World\n"
     ]
    }
   ],
   "source": [
    "println(a_string)\n",
    "println(a_string)"
   ]
  },
  {
   "cell_type": "code",
   "execution_count": 15,
   "id": "86692dc0",
   "metadata": {},
   "outputs": [
    {
     "name": "stdout",
     "output_type": "stream",
     "text": [
      "Hello WorldHello World"
     ]
    }
   ],
   "source": [
    "print(a_string)\n",
    "print(a_string)"
   ]
  },
  {
   "cell_type": "code",
   "execution_count": 3,
   "id": "a54bbf28",
   "metadata": {},
   "outputs": [
    {
     "name": "stdout",
     "output_type": "stream",
     "text": [
      "/home/hesed/Codes/Jupyter-notes/Julia\n",
      "/home/hesed/Codes/Jupyter-notes\n",
      "/home/hesed/Codes/Jupyter-notes/Julia\n"
     ]
    }
   ],
   "source": [
    "# view current working directory\n",
    "println(pwd())\n",
    "\n",
    "# change current directory\n",
    "cd(\"..\")\n",
    "\n",
    "println(pwd())\n",
    "cd(\"Julia\")\n",
    "println(pwd())"
   ]
  },
  {
   "cell_type": "code",
   "execution_count": 17,
   "id": "c7f145a3",
   "metadata": {},
   "outputs": [
    {
     "name": "stdout",
     "output_type": "stream",
     "text": [
      "Hello World\n"
     ]
    }
   ],
   "source": [
    "# strings are added using *\n",
    "println(\"Hello \" * \"World\")"
   ]
  },
  {
   "cell_type": "code",
   "execution_count": 4,
   "id": "923dd136",
   "metadata": {},
   "outputs": [
    {
     "name": "stdout",
     "output_type": "stream",
     "text": [
      "Hello Hello Hello Hello Hello Hello Hello Hello Hello Hello Hello Hello "
     ]
    }
   ],
   "source": [
    "# strings are repeated using ^\n",
    "print(\"Hello \" ^ 12)"
   ]
  },
  {
   "cell_type": "code",
   "execution_count": 5,
   "id": "17d30433",
   "metadata": {},
   "outputs": [
    {
     "name": "stdout",
     "output_type": "stream",
     "text": [
      "search: \u001b[0m\u001b[1mp\u001b[22m\u001b[0m\u001b[1mr\u001b[22m\u001b[0m\u001b[1mi\u001b[22m\u001b[0m\u001b[1mn\u001b[22m\u001b[0m\u001b[1mt\u001b[22m \u001b[0m\u001b[1mp\u001b[22m\u001b[0m\u001b[1mr\u001b[22m\u001b[0m\u001b[1mi\u001b[22m\u001b[0m\u001b[1mn\u001b[22m\u001b[0m\u001b[1mt\u001b[22mln \u001b[0m\u001b[1mp\u001b[22m\u001b[0m\u001b[1mr\u001b[22m\u001b[0m\u001b[1mi\u001b[22m\u001b[0m\u001b[1mn\u001b[22m\u001b[0m\u001b[1mt\u001b[22mstyled s\u001b[0m\u001b[1mp\u001b[22m\u001b[0m\u001b[1mr\u001b[22m\u001b[0m\u001b[1mi\u001b[22m\u001b[0m\u001b[1mn\u001b[22m\u001b[0m\u001b[1mt\u001b[22m is\u001b[0m\u001b[1mp\u001b[22m\u001b[0m\u001b[1mr\u001b[22m\u001b[0m\u001b[1mi\u001b[22m\u001b[0m\u001b[1mn\u001b[22m\u001b[0m\u001b[1mt\u001b[22m \u001b[0m\u001b[1mp\u001b[22m\u001b[0m\u001b[1mr\u001b[22mev\u001b[0m\u001b[1mi\u001b[22m\u001b[0m\u001b[1mn\u001b[22md \u001b[0m\u001b[1mp\u001b[22ma\u001b[0m\u001b[1mr\u001b[22ment\u001b[0m\u001b[1mi\u001b[22m\u001b[0m\u001b[1mn\u001b[22mdices \u001b[0m\u001b[1mp\u001b[22m\u001b[0m\u001b[1mr\u001b[22mec\u001b[0m\u001b[1mi\u001b[22msio\u001b[0m\u001b[1mn\u001b[22m\n",
      "\n"
     ]
    },
    {
     "data": {
      "text/latex": [
       "\\begin{verbatim}\n",
       "print([io::IO], xs...)\n",
       "\\end{verbatim}\n",
       "Write to \\texttt{io} (or to the default output stream \\href{@ref}{\\texttt{stdout}} if \\texttt{io} is not given) a canonical (un-decorated) text representation. The representation used by \\texttt{print} includes minimal formatting and tries to avoid Julia-specific details.\n",
       "\n",
       "\\texttt{print} falls back to calling \\texttt{show}, so most types should just define \\texttt{show}. Define \\texttt{print} if your type has a separate \"plain\" representation. For example, \\texttt{show} displays strings with quotes, and \\texttt{print} displays strings without quotes.\n",
       "\n",
       "See also \\href{@ref}{\\texttt{println}}, \\href{@ref}{\\texttt{string}}, \\href{@ref}{\\texttt{printstyled}}.\n",
       "\n",
       "\\section{Examples}\n",
       "\\begin{verbatim}\n",
       "julia> print(\"Hello World!\")\n",
       "Hello World!\n",
       "julia> io = IOBuffer();\n",
       "\n",
       "julia> print(io, \"Hello\", ' ', :World!)\n",
       "\n",
       "julia> String(take!(io))\n",
       "\"Hello World!\"\n",
       "\\end{verbatim}\n"
      ],
      "text/markdown": [
       "```\n",
       "print([io::IO], xs...)\n",
       "```\n",
       "\n",
       "Write to `io` (or to the default output stream [`stdout`](@ref) if `io` is not given) a canonical (un-decorated) text representation. The representation used by `print` includes minimal formatting and tries to avoid Julia-specific details.\n",
       "\n",
       "`print` falls back to calling `show`, so most types should just define `show`. Define `print` if your type has a separate \"plain\" representation. For example, `show` displays strings with quotes, and `print` displays strings without quotes.\n",
       "\n",
       "See also [`println`](@ref), [`string`](@ref), [`printstyled`](@ref).\n",
       "\n",
       "# Examples\n",
       "\n",
       "```jldoctest\n",
       "julia> print(\"Hello World!\")\n",
       "Hello World!\n",
       "julia> io = IOBuffer();\n",
       "\n",
       "julia> print(io, \"Hello\", ' ', :World!)\n",
       "\n",
       "julia> String(take!(io))\n",
       "\"Hello World!\"\n",
       "```\n"
      ],
      "text/plain": [
       "\u001b[36m  print([io::IO], xs...)\u001b[39m\n",
       "\n",
       "  Write to \u001b[36mio\u001b[39m (or to the default output stream \u001b[36mstdout\u001b[39m if \u001b[36mio\u001b[39m is not given) a\n",
       "  canonical (un-decorated) text representation. The representation used by\n",
       "  \u001b[36mprint\u001b[39m includes minimal formatting and tries to avoid Julia-specific details.\n",
       "\n",
       "  \u001b[36mprint\u001b[39m falls back to calling \u001b[36mshow\u001b[39m, so most types should just define \u001b[36mshow\u001b[39m.\n",
       "  Define \u001b[36mprint\u001b[39m if your type has a separate \"plain\" representation. For\n",
       "  example, \u001b[36mshow\u001b[39m displays strings with quotes, and \u001b[36mprint\u001b[39m displays strings\n",
       "  without quotes.\n",
       "\n",
       "  See also \u001b[36mprintln\u001b[39m, \u001b[36mstring\u001b[39m, \u001b[36mprintstyled\u001b[39m.\n",
       "\n",
       "\u001b[1m  Examples\u001b[22m\n",
       "\u001b[1m  ≡≡≡≡≡≡≡≡≡≡\u001b[22m\n",
       "\n",
       "\u001b[36m  julia> print(\"Hello World!\")\u001b[39m\n",
       "\u001b[36m  Hello World!\u001b[39m\n",
       "\u001b[36m  julia> io = IOBuffer();\u001b[39m\n",
       "\u001b[36m  \u001b[39m\n",
       "\u001b[36m  julia> print(io, \"Hello\", ' ', :World!)\u001b[39m\n",
       "\u001b[36m  \u001b[39m\n",
       "\u001b[36m  julia> String(take!(io))\u001b[39m\n",
       "\u001b[36m  \"Hello World!\"\u001b[39m"
      ]
     },
     "execution_count": 5,
     "metadata": {},
     "output_type": "execute_result"
    }
   ],
   "source": [
    "?print"
   ]
  },
  {
   "cell_type": "markdown",
   "id": "17ad7376",
   "metadata": {},
   "source": [
    "Help can be gotten from the notebook by this syntax:\n",
    "```Ijulia\n",
    "?function_name #or keyword\n",
    "```"
   ]
  },
  {
   "cell_type": "code",
   "execution_count": 20,
   "id": "0089079c",
   "metadata": {},
   "outputs": [
    {
     "name": "stdout",
     "output_type": "stream",
     "text": [
      "1.25\n",
      "0.16666666666666666\n",
      "0.2222222222222222\n"
     ]
    }
   ],
   "source": [
    "a = 1/2\n",
    "b = 3/4\n",
    "println(a + b)\n",
    "println(1/2/3)\n",
    "println(2/9)"
   ]
  },
  {
   "cell_type": "markdown",
   "id": "a7b575fb",
   "metadata": {},
   "source": [
    "## Order of Operations in Julia\n",
    "1. Parenthesis\n",
    "2. Exponentiation\n",
    "3. Multiplication and division, from left to right\n",
    "4. Addition and subtraction, from left to right\n",
    "\n",
    "> Exponentiation is evaluated from right-to-left in Julia \\\n",
    "> Arithmetic operators have higher precedence than logical operators. \\\n",
    "> Logical operators are evaluated from left to right"
   ]
  },
  {
   "cell_type": "code",
   "execution_count": 21,
   "id": "a48acabb",
   "metadata": {},
   "outputs": [
    {
     "name": "stdout",
     "output_type": "stream",
     "text": [
      "64\n",
      "512\n"
     ]
    }
   ],
   "source": [
    "println((2^3)^2)\n",
    "println(2^3^2)"
   ]
  },
  {
   "cell_type": "code",
   "execution_count": 22,
   "id": "b8e8615d",
   "metadata": {},
   "outputs": [
    {
     "data": {
      "text/plain": [
       "1.0"
      ]
     },
     "execution_count": 22,
     "metadata": {},
     "output_type": "execute_result"
    }
   ],
   "source": [
    "2/2"
   ]
  },
  {
   "cell_type": "markdown",
   "id": "2ad35951",
   "metadata": {},
   "source": [
    "Operation | Symbol\n",
    "----- | -----\n",
    "Addition | +\n",
    "Subtraction | -\n",
    "Multiplication | *\n",
    "Exponent | ^\n",
    "Division | /\n",
    "Modulus | %\n",
    "Floor division | `\\div`  (÷)\n",
    "NOT | !\n",
    "AND | &&\n",
    "OR | \\|\\|\n",
    "Greater than | >\n",
    "Less than | <\n",
    "Equal to | ==\n",
    "Greater than or equal to | >=\n",
    "Less than or equal to | <=\n",
    "Not equal to | !=\n",
    "Bitwise AND | &\n",
    "Bitwise ORD | \\|\n",
    "Strict comparison operator | === "
   ]
  },
  {
   "cell_type": "code",
   "execution_count": 23,
   "id": "63dd3fc3",
   "metadata": {
    "scrolled": true
   },
   "outputs": [
    {
     "name": "stdout",
     "output_type": "stream",
     "text": [
      "2\n"
     ]
    }
   ],
   "source": [
    "# To perform floor division,\n",
    "# Use ÷\n",
    "# The character ÷ can be entered by typing \\div and pressing Tab.\n",
    "\n",
    "println(5 ÷ 2)"
   ]
  },
  {
   "cell_type": "markdown",
   "id": "8d16f10b",
   "metadata": {},
   "source": [
    "Julia makes use of short-circuit evaluation of logical expressions. This takes advantage of the fact that an expression starting with \"false&&\" can never be true, and likewise starting with \"true||\" can never be false."
   ]
  },
  {
   "cell_type": "code",
   "execution_count": 24,
   "id": "75854ea2",
   "metadata": {},
   "outputs": [
    {
     "data": {
      "text/plain": [
       "84.0"
      ]
     },
     "execution_count": 24,
     "metadata": {},
     "output_type": "execute_result"
    }
   ],
   "source": [
    "5040 / 60"
   ]
  },
  {
   "cell_type": "code",
   "execution_count": 25,
   "id": "fab0211b",
   "metadata": {},
   "outputs": [
    {
     "data": {
      "text/plain": [
       "4.0"
      ]
     },
     "execution_count": 25,
     "metadata": {},
     "output_type": "execute_result"
    }
   ],
   "source": [
    "2^2^1^1.3^1.5^1.7^20"
   ]
  },
  {
   "cell_type": "code",
   "execution_count": 26,
   "id": "390255f7",
   "metadata": {},
   "outputs": [
    {
     "data": {
      "text/plain": [
       "true"
      ]
     },
     "execution_count": 26,
     "metadata": {},
     "output_type": "execute_result"
    }
   ],
   "source": [
    "1+3<5 || 2+2<!"
   ]
  },
  {
   "cell_type": "code",
   "execution_count": 27,
   "id": "ceb737d6",
   "metadata": {},
   "outputs": [
    {
     "name": "stdout",
     "output_type": "stream",
     "text": [
      "true\n"
     ]
    }
   ],
   "source": [
    "a = true\n",
    "b = !!!!a\n",
    "println(b)"
   ]
  },
  {
   "cell_type": "code",
   "execution_count": 28,
   "id": "78cf977d",
   "metadata": {},
   "outputs": [
    {
     "data": {
      "text/plain": [
       "true"
      ]
     },
     "execution_count": 28,
     "metadata": {},
     "output_type": "execute_result"
    }
   ],
   "source": [
    "3 & 5 > 0"
   ]
  },
  {
   "cell_type": "code",
   "execution_count": 29,
   "id": "8d60e34d",
   "metadata": {},
   "outputs": [
    {
     "data": {
      "text/plain": [
       "false"
      ]
     },
     "execution_count": 29,
     "metadata": {},
     "output_type": "execute_result"
    }
   ],
   "source": [
    "8 & 5 > 0"
   ]
  },
  {
   "cell_type": "markdown",
   "id": "07cad996",
   "metadata": {},
   "source": [
    "## Type System\n",
    "* Types are formats for storing information. \n",
    "* In Julia, only values have types\n",
    "* "
   ]
  },
  {
   "cell_type": "code",
   "execution_count": 6,
   "id": "710ee076",
   "metadata": {},
   "outputs": [
    {
     "data": {
      "text/plain": [
       "2-element Vector{Vector{Int64}}:\n",
       " [1, 3, 4]\n",
       " [2, 3, 4]"
      ]
     },
     "execution_count": 6,
     "metadata": {},
     "output_type": "execute_result"
    }
   ],
   "source": [
    "b = [[1,3,4],[2,3,4]]"
   ]
  },
  {
   "cell_type": "code",
   "execution_count": 31,
   "id": "c9818dab",
   "metadata": {},
   "outputs": [
    {
     "data": {
      "text/plain": [
       "3-element Vector{Int64}:\n",
       " 1\n",
       " 2\n",
       " 3"
      ]
     },
     "execution_count": 31,
     "metadata": {},
     "output_type": "execute_result"
    }
   ],
   "source": [
    "a = [1,2,3]"
   ]
  },
  {
   "cell_type": "code",
   "execution_count": 32,
   "id": "b6d0b391",
   "metadata": {},
   "outputs": [
    {
     "data": {
      "text/plain": [
       "Vector{Int64} (alias for Array{Int64, 1})"
      ]
     },
     "execution_count": 32,
     "metadata": {},
     "output_type": "execute_result"
    }
   ],
   "source": [
    "typeof(a)"
   ]
  },
  {
   "cell_type": "code",
   "execution_count": 33,
   "id": "27faf487",
   "metadata": {},
   "outputs": [
    {
     "data": {
      "text/plain": [
       "Vector{Vector{Int64}} (alias for Array{Array{Int64, 1}, 1})"
      ]
     },
     "execution_count": 33,
     "metadata": {},
     "output_type": "execute_result"
    }
   ],
   "source": [
    "typeof(b)"
   ]
  },
  {
   "cell_type": "code",
   "execution_count": 34,
   "id": "e6f4e1c6",
   "metadata": {},
   "outputs": [
    {
     "name": "stdout",
     "output_type": "stream",
     "text": [
      "γα"
     ]
    }
   ],
   "source": [
    "# \\pm\n",
    "α = 3\n",
    "print(\"γα\")"
   ]
  },
  {
   "cell_type": "code",
   "execution_count": 35,
   "id": "e113525e",
   "metadata": {},
   "outputs": [
    {
     "name": "stdout",
     "output_type": "stream",
     "text": [
      "3\n"
     ]
    }
   ],
   "source": [
    "println(α)"
   ]
  },
  {
   "cell_type": "markdown",
   "id": "c07e90bd",
   "metadata": {},
   "source": [
    "* Julia follows latex hence characters supported in latex can be used in Julia. E.g. `α` can be obtained by typing `\\alpha`\n",
    "* Emojis can also be used in Julia by using `\\:emojiname:`"
   ]
  },
  {
   "cell_type": "code",
   "execution_count": 36,
   "id": "51fbb003",
   "metadata": {},
   "outputs": [
    {
     "name": "stdout",
     "output_type": "stream",
     "text": [
      "0\n"
     ]
    },
    {
     "ename": "LoadError",
     "evalue": "syntax: \"\\\" is not a unary operator",
     "output_type": "error",
     "traceback": [
      "syntax: \"\\\" is not a unary operator",
      "",
      "Stacktrace:",
      " [1] top-level scope",
      "   @ In[36]:4",
      " [2] eval",
      "   @ ./boot.jl:373 [inlined]",
      " [3] include_string(mapexpr::typeof(REPL.softscope), mod::Module, code::String, filename::String)",
      "   @ Base ./loading.jl:1196"
     ]
    }
   ],
   "source": [
    "# setting theta to 0\n",
    "θ = 0\n",
    "println(θ)\n",
    "\\:te"
   ]
  },
  {
   "cell_type": "code",
   "execution_count": 37,
   "id": "94c31cc6",
   "metadata": {},
   "outputs": [
    {
     "data": {
      "text/plain": [
       "Int64"
      ]
     },
     "execution_count": 37,
     "metadata": {},
     "output_type": "execute_result"
    }
   ],
   "source": [
    "typeof(α)"
   ]
  },
  {
   "cell_type": "code",
   "execution_count": 38,
   "id": "c02c11b7",
   "metadata": {},
   "outputs": [
    {
     "name": "stdout",
     "output_type": "stream",
     "text": [
      "Something\n"
     ]
    }
   ],
   "source": [
    "😊 = \"Something\"\n",
    "println(😊)"
   ]
  },
  {
   "cell_type": "code",
   "execution_count": 39,
   "id": "c6d5f09c",
   "metadata": {},
   "outputs": [
    {
     "data": {
      "text/plain": [
       "Bool"
      ]
     },
     "execution_count": 39,
     "metadata": {},
     "output_type": "execute_result"
    }
   ],
   "source": [
    "typeof(true)"
   ]
  },
  {
   "cell_type": "code",
   "execution_count": 40,
   "id": "31fcf5fc",
   "metadata": {},
   "outputs": [
    {
     "data": {
      "text/plain": [
       "1"
      ]
     },
     "execution_count": 40,
     "metadata": {},
     "output_type": "execute_result"
    }
   ],
   "source": [
    "sizeof(true)"
   ]
  },
  {
   "cell_type": "code",
   "execution_count": 41,
   "id": "6f2f1f47",
   "metadata": {},
   "outputs": [
    {
     "name": "stdout",
     "output_type": "stream",
     "text": [
      "false\n"
     ]
    }
   ],
   "source": [
    "println(2 < 1.5)"
   ]
  },
  {
   "cell_type": "markdown",
   "id": "7fdac1de",
   "metadata": {},
   "source": [
    "In Julia, where there is a mixture of Int64 and Float64, Int64 gets promoted to Float64 because any integer has a float value, the reverse is not true."
   ]
  },
  {
   "cell_type": "markdown",
   "id": "fde60450",
   "metadata": {},
   "source": [
    "There is a strict comparison operator `===` which takes into consideration the value types before evaluation"
   ]
  },
  {
   "cell_type": "code",
   "execution_count": 42,
   "id": "fa2f5217",
   "metadata": {},
   "outputs": [
    {
     "data": {
      "text/plain": [
       "true"
      ]
     },
     "execution_count": 42,
     "metadata": {},
     "output_type": "execute_result"
    }
   ],
   "source": [
    "2 == 2.0"
   ]
  },
  {
   "cell_type": "code",
   "execution_count": 43,
   "id": "b263d225",
   "metadata": {},
   "outputs": [
    {
     "data": {
      "text/plain": [
       "false"
      ]
     },
     "execution_count": 43,
     "metadata": {},
     "output_type": "execute_result"
    }
   ],
   "source": [
    "2 === 2.0"
   ]
  },
  {
   "cell_type": "markdown",
   "id": "f8634f04",
   "metadata": {},
   "source": [
    "## Concrete and abstract types\n",
    "* All the already mentioned types are concrete types. That is, they have no subtypes. \n",
    "* Julia defines a supertype for every type (except the type `Any` which is its own supertype).\n",
    "    * `Int64` has the supertype `Signed`, which has the supertype `Integer`, which has the supertype `Real`.\n",
    "\n",
    ">  `Real` contains both `Int64` and `Float64`.\n",
    "\n",
    "* Types with subtypes are called abstract types.\n",
    "* The most abstract of all is `Any` (Since it is the root of types in Julia).\n",
    "\n",
    "The actual type of a value in Julia must always be of a concrete type. Why?:\n",
    "* Some operations change the type of a value by promotion; abstract types help to guide this proccess.\n",
    "* Functions are written to operate on types. If you write your function to use an abstract type, it will work for all the types underneath that abstract type."
   ]
  },
  {
   "cell_type": "code",
   "execution_count": 44,
   "id": "956690a1",
   "metadata": {},
   "outputs": [
    {
     "data": {
      "text/plain": [
       "(Int64, Signed, Integer, Real, Number, Any)"
      ]
     },
     "execution_count": 44,
     "metadata": {},
     "output_type": "execute_result"
    }
   ],
   "source": [
    "supertypes(Int64)"
   ]
  },
  {
   "cell_type": "markdown",
   "id": "8da396cc",
   "metadata": {},
   "source": [
    "## Variables\n",
    "* Variables in julia have a name, a value and a type\n",
    "* A variable name can be almost any string that starts with a letter and continues with letters, numbers or a few other characters.\n",
    "\n",
    "\n",
    "### Variable Standards\n",
    "* Avoid the use of capital letters.\n",
    "* Avoid the use of underscores.\n",
    "* Avoid the use of exclamation mark. \n",
    "\n",
    "\n",
    "### Declaring Arrays\n",
    "```julia\n",
    "# Syntax\n",
    "Array{type}(undef, dimension)\n",
    "```"
   ]
  },
  {
   "cell_type": "code",
   "execution_count": 45,
   "id": "f9b6b5fe",
   "metadata": {},
   "outputs": [
    {
     "data": {
      "text/plain": [
       "2×3 Matrix{Float64}:\n",
       " 6.94628e-310  6.94628e-310  6.94628e-310\n",
       " 6.94628e-310  6.94628e-310  6.94621e-310"
      ]
     },
     "execution_count": 45,
     "metadata": {},
     "output_type": "execute_result"
    }
   ],
   "source": [
    "a = Array{Float64}(undef, 2, 3)"
   ]
  },
  {
   "cell_type": "code",
   "execution_count": 7,
   "id": "c410b88b",
   "metadata": {},
   "outputs": [
    {
     "name": "stdout",
     "output_type": "stream",
     "text": [
      "search: \u001b[0m\u001b[1ma\u001b[22mny \u001b[0m\u001b[1ma\u001b[22mll \u001b[0m\u001b[1ma\u001b[22mbs \u001b[0m\u001b[1ma\u001b[22mns \u001b[0m\u001b[1mA\u001b[22mny \u001b[0m\u001b[1ma\u001b[22mxes \u001b[0m\u001b[1ma\u001b[22mtan \u001b[0m\u001b[1ma\u001b[22msin \u001b[0m\u001b[1ma\u001b[22msec \u001b[0m\u001b[1ma\u001b[22mny! \u001b[0m\u001b[1ma\u001b[22mll! \u001b[0m\u001b[1ma\u001b[22mcsc \u001b[0m\u001b[1ma\u001b[22mcot \u001b[0m\u001b[1ma\u001b[22mcos \u001b[0m\u001b[1ma\u001b[22mbs2\n",
      "\n",
      "Couldn't find \u001b[36ma\u001b[39m\n",
      "Perhaps you meant b, !, %, &, ', *, +, -, /, :, <, >, \\, ^, |, ~, ÷, π, ℯ or ∈\n"
     ]
    },
    {
     "data": {
      "text/latex": [
       "No documentation found.\n",
       "\n",
       "Binding \\texttt{a} does not exist.\n",
       "\n"
      ],
      "text/markdown": [
       "No documentation found.\n",
       "\n",
       "Binding `a` does not exist.\n"
      ],
      "text/plain": [
       "  No documentation found.\n",
       "\n",
       "  Binding \u001b[36ma\u001b[39m does not exist."
      ]
     },
     "execution_count": 7,
     "metadata": {},
     "output_type": "execute_result"
    }
   ],
   "source": [
    "?a"
   ]
  },
  {
   "cell_type": "code",
   "execution_count": 8,
   "id": "6909f4bb",
   "metadata": {},
   "outputs": [
    {
     "name": "stdout",
     "output_type": "stream",
     "text": [
      "search: \u001b[0m\u001b[1mA\u001b[22m\u001b[0m\u001b[1mr\u001b[22m\u001b[0m\u001b[1mr\u001b[22m\u001b[0m\u001b[1ma\u001b[22m\u001b[0m\u001b[1my\u001b[22m Sub\u001b[0m\u001b[1mA\u001b[22m\u001b[0m\u001b[1mr\u001b[22m\u001b[0m\u001b[1mr\u001b[22m\u001b[0m\u001b[1ma\u001b[22m\u001b[0m\u001b[1my\u001b[22m Bit\u001b[0m\u001b[1mA\u001b[22m\u001b[0m\u001b[1mr\u001b[22m\u001b[0m\u001b[1mr\u001b[22m\u001b[0m\u001b[1ma\u001b[22m\u001b[0m\u001b[1my\u001b[22m Dense\u001b[0m\u001b[1mA\u001b[22m\u001b[0m\u001b[1mr\u001b[22m\u001b[0m\u001b[1mr\u001b[22m\u001b[0m\u001b[1ma\u001b[22m\u001b[0m\u001b[1my\u001b[22m Strided\u001b[0m\u001b[1mA\u001b[22m\u001b[0m\u001b[1mr\u001b[22m\u001b[0m\u001b[1mr\u001b[22m\u001b[0m\u001b[1ma\u001b[22m\u001b[0m\u001b[1my\u001b[22m PermutedDims\u001b[0m\u001b[1mA\u001b[22m\u001b[0m\u001b[1mr\u001b[22m\u001b[0m\u001b[1mr\u001b[22m\u001b[0m\u001b[1ma\u001b[22m\u001b[0m\u001b[1my\u001b[22m\n",
      "\n"
     ]
    },
    {
     "data": {
      "text/latex": [
       "\\begin{verbatim}\n",
       "Array{T,N} <: AbstractArray{T,N}\n",
       "\\end{verbatim}\n",
       "\\texttt{N}-dimensional dense array with elements of type \\texttt{T}.\n",
       "\n",
       "\\rule{\\textwidth}{1pt}\n",
       "\\begin{verbatim}\n",
       "Array{T}(undef, dims)\n",
       "Array{T,N}(undef, dims)\n",
       "\\end{verbatim}\n",
       "Construct an uninitialized \\texttt{N}-dimensional \\href{@ref}{\\texttt{Array}} containing elements of type \\texttt{T}. \\texttt{N} can either be supplied explicitly, as in \\texttt{Array\\{T,N\\}(undef, dims)}, or be determined by the length or number of \\texttt{dims}. \\texttt{dims} may be a tuple or a series of integer arguments corresponding to the lengths in each dimension. If the rank \\texttt{N} is supplied explicitly, then it must match the length or number of \\texttt{dims}. Here \\href{@ref}{\\texttt{undef}} is the \\href{@ref}{\\texttt{UndefInitializer}}.\n",
       "\n",
       "\\section{Examples}\n",
       "\\begin{verbatim}\n",
       "julia> A = Array{Float64, 2}(undef, 2, 3) # N given explicitly\n",
       "2×3 Matrix{Float64}:\n",
       " 6.90198e-310  6.90198e-310  6.90198e-310\n",
       " 6.90198e-310  6.90198e-310  0.0\n",
       "\n",
       "julia> B = Array{Float64}(undef, 4) # N determined by the input\n",
       "4-element Vector{Float64}:\n",
       "   2.360075077e-314\n",
       " NaN\n",
       "   2.2671131793e-314\n",
       "   2.299821756e-314\n",
       "\n",
       "julia> similar(B, 2, 4, 1) # use typeof(B), and the given size\n",
       "2×4×1 Array{Float64, 3}:\n",
       "[:, :, 1] =\n",
       " 2.26703e-314  2.26708e-314  0.0           2.80997e-314\n",
       " 0.0           2.26703e-314  2.26708e-314  0.0\n",
       "\\end{verbatim}\n",
       "\\rule{\\textwidth}{1pt}\n",
       "\\begin{verbatim}\n",
       "Array{T}(nothing, dims)\n",
       "Array{T,N}(nothing, dims)\n",
       "\\end{verbatim}\n",
       "Construct an \\texttt{N}-dimensional \\href{@ref}{\\texttt{Array}} containing elements of type \\texttt{T}, initialized with \\href{@ref}{\\texttt{nothing}} entries. Element type \\texttt{T} must be able to hold these values, i.e. \\texttt{Nothing <: T}.\n",
       "\n",
       "\\section{Examples}\n",
       "\\begin{verbatim}\n",
       "julia> Array{Union{Nothing, String}}(nothing, 2)\n",
       "2-element Vector{Union{Nothing, String}}:\n",
       " nothing\n",
       " nothing\n",
       "\n",
       "julia> Array{Union{Nothing, Int}}(nothing, 2, 3)\n",
       "2×3 Matrix{Union{Nothing, Int64}}:\n",
       " nothing  nothing  nothing\n",
       " nothing  nothing  nothing\n",
       "\\end{verbatim}\n",
       "\\rule{\\textwidth}{1pt}\n",
       "\\begin{verbatim}\n",
       "Array{T}(missing, dims)\n",
       "Array{T,N}(missing, dims)\n",
       "\\end{verbatim}\n",
       "Construct an \\texttt{N}-dimensional \\href{@ref}{\\texttt{Array}} containing elements of type \\texttt{T}, initialized with \\href{@ref}{\\texttt{missing}} entries. Element type \\texttt{T} must be able to hold these values, i.e. \\texttt{Missing <: T}.\n",
       "\n",
       "\\section{Examples}\n",
       "\\begin{verbatim}\n",
       "julia> Array{Union{Missing, String}}(missing, 2)\n",
       "2-element Vector{Union{Missing, String}}:\n",
       " missing\n",
       " missing\n",
       "\n",
       "julia> Array{Union{Missing, Int}}(missing, 2, 3)\n",
       "2×3 Matrix{Union{Missing, Int64}}:\n",
       " missing  missing  missing\n",
       " missing  missing  missing\n",
       "\\end{verbatim}\n"
      ],
      "text/markdown": [
       "```\n",
       "Array{T,N} <: AbstractArray{T,N}\n",
       "```\n",
       "\n",
       "`N`-dimensional dense array with elements of type `T`.\n",
       "\n",
       "---\n",
       "\n",
       "```\n",
       "Array{T}(undef, dims)\n",
       "Array{T,N}(undef, dims)\n",
       "```\n",
       "\n",
       "Construct an uninitialized `N`-dimensional [`Array`](@ref) containing elements of type `T`. `N` can either be supplied explicitly, as in `Array{T,N}(undef, dims)`, or be determined by the length or number of `dims`. `dims` may be a tuple or a series of integer arguments corresponding to the lengths in each dimension. If the rank `N` is supplied explicitly, then it must match the length or number of `dims`. Here [`undef`](@ref) is the [`UndefInitializer`](@ref).\n",
       "\n",
       "# Examples\n",
       "\n",
       "```julia-repl\n",
       "julia> A = Array{Float64, 2}(undef, 2, 3) # N given explicitly\n",
       "2×3 Matrix{Float64}:\n",
       " 6.90198e-310  6.90198e-310  6.90198e-310\n",
       " 6.90198e-310  6.90198e-310  0.0\n",
       "\n",
       "julia> B = Array{Float64}(undef, 4) # N determined by the input\n",
       "4-element Vector{Float64}:\n",
       "   2.360075077e-314\n",
       " NaN\n",
       "   2.2671131793e-314\n",
       "   2.299821756e-314\n",
       "\n",
       "julia> similar(B, 2, 4, 1) # use typeof(B), and the given size\n",
       "2×4×1 Array{Float64, 3}:\n",
       "[:, :, 1] =\n",
       " 2.26703e-314  2.26708e-314  0.0           2.80997e-314\n",
       " 0.0           2.26703e-314  2.26708e-314  0.0\n",
       "```\n",
       "\n",
       "---\n",
       "\n",
       "```\n",
       "Array{T}(nothing, dims)\n",
       "Array{T,N}(nothing, dims)\n",
       "```\n",
       "\n",
       "Construct an `N`-dimensional [`Array`](@ref) containing elements of type `T`, initialized with [`nothing`](@ref) entries. Element type `T` must be able to hold these values, i.e. `Nothing <: T`.\n",
       "\n",
       "# Examples\n",
       "\n",
       "```jldoctest\n",
       "julia> Array{Union{Nothing, String}}(nothing, 2)\n",
       "2-element Vector{Union{Nothing, String}}:\n",
       " nothing\n",
       " nothing\n",
       "\n",
       "julia> Array{Union{Nothing, Int}}(nothing, 2, 3)\n",
       "2×3 Matrix{Union{Nothing, Int64}}:\n",
       " nothing  nothing  nothing\n",
       " nothing  nothing  nothing\n",
       "```\n",
       "\n",
       "---\n",
       "\n",
       "```\n",
       "Array{T}(missing, dims)\n",
       "Array{T,N}(missing, dims)\n",
       "```\n",
       "\n",
       "Construct an `N`-dimensional [`Array`](@ref) containing elements of type `T`, initialized with [`missing`](@ref) entries. Element type `T` must be able to hold these values, i.e. `Missing <: T`.\n",
       "\n",
       "# Examples\n",
       "\n",
       "```jldoctest\n",
       "julia> Array{Union{Missing, String}}(missing, 2)\n",
       "2-element Vector{Union{Missing, String}}:\n",
       " missing\n",
       " missing\n",
       "\n",
       "julia> Array{Union{Missing, Int}}(missing, 2, 3)\n",
       "2×3 Matrix{Union{Missing, Int64}}:\n",
       " missing  missing  missing\n",
       " missing  missing  missing\n",
       "```\n"
      ],
      "text/plain": [
       "\u001b[36m  Array{T,N} <: AbstractArray{T,N}\u001b[39m\n",
       "\n",
       "  \u001b[36mN\u001b[39m-dimensional dense array with elements of type \u001b[36mT\u001b[39m.\n",
       "\n",
       "  ────────────────────────────────────────────────────────────────────────────\n",
       "\n",
       "\u001b[36m  Array{T}(undef, dims)\u001b[39m\n",
       "\u001b[36m  Array{T,N}(undef, dims)\u001b[39m\n",
       "\n",
       "  Construct an uninitialized \u001b[36mN\u001b[39m-dimensional \u001b[36mArray\u001b[39m containing elements of type\n",
       "  \u001b[36mT\u001b[39m. \u001b[36mN\u001b[39m can either be supplied explicitly, as in \u001b[36mArray{T,N}(undef, dims)\u001b[39m, or be\n",
       "  determined by the length or number of \u001b[36mdims\u001b[39m. \u001b[36mdims\u001b[39m may be a tuple or a series\n",
       "  of integer arguments corresponding to the lengths in each dimension. If the\n",
       "  rank \u001b[36mN\u001b[39m is supplied explicitly, then it must match the length or number of\n",
       "  \u001b[36mdims\u001b[39m. Here \u001b[36mundef\u001b[39m is the \u001b[36mUndefInitializer\u001b[39m.\n",
       "\n",
       "\u001b[1m  Examples\u001b[22m\n",
       "\u001b[1m  ≡≡≡≡≡≡≡≡≡≡\u001b[22m\n",
       "\n",
       "\u001b[36m  julia> A = Array{Float64, 2}(undef, 2, 3) # N given explicitly\u001b[39m\n",
       "\u001b[36m  2×3 Matrix{Float64}:\u001b[39m\n",
       "\u001b[36m   6.90198e-310  6.90198e-310  6.90198e-310\u001b[39m\n",
       "\u001b[36m   6.90198e-310  6.90198e-310  0.0\u001b[39m\n",
       "\u001b[36m  \u001b[39m\n",
       "\u001b[36m  julia> B = Array{Float64}(undef, 4) # N determined by the input\u001b[39m\n",
       "\u001b[36m  4-element Vector{Float64}:\u001b[39m\n",
       "\u001b[36m     2.360075077e-314\u001b[39m\n",
       "\u001b[36m   NaN\u001b[39m\n",
       "\u001b[36m     2.2671131793e-314\u001b[39m\n",
       "\u001b[36m     2.299821756e-314\u001b[39m\n",
       "\u001b[36m  \u001b[39m\n",
       "\u001b[36m  julia> similar(B, 2, 4, 1) # use typeof(B), and the given size\u001b[39m\n",
       "\u001b[36m  2×4×1 Array{Float64, 3}:\u001b[39m\n",
       "\u001b[36m  [:, :, 1] =\u001b[39m\n",
       "\u001b[36m   2.26703e-314  2.26708e-314  0.0           2.80997e-314\u001b[39m\n",
       "\u001b[36m   0.0           2.26703e-314  2.26708e-314  0.0\u001b[39m\n",
       "\n",
       "  ────────────────────────────────────────────────────────────────────────────\n",
       "\n",
       "\u001b[36m  Array{T}(nothing, dims)\u001b[39m\n",
       "\u001b[36m  Array{T,N}(nothing, dims)\u001b[39m\n",
       "\n",
       "  Construct an \u001b[36mN\u001b[39m-dimensional \u001b[36mArray\u001b[39m containing elements of type \u001b[36mT\u001b[39m, initialized\n",
       "  with \u001b[36mnothing\u001b[39m entries. Element type \u001b[36mT\u001b[39m must be able to hold these values, i.e.\n",
       "  \u001b[36mNothing <: T\u001b[39m.\n",
       "\n",
       "\u001b[1m  Examples\u001b[22m\n",
       "\u001b[1m  ≡≡≡≡≡≡≡≡≡≡\u001b[22m\n",
       "\n",
       "\u001b[36m  julia> Array{Union{Nothing, String}}(nothing, 2)\u001b[39m\n",
       "\u001b[36m  2-element Vector{Union{Nothing, String}}:\u001b[39m\n",
       "\u001b[36m   nothing\u001b[39m\n",
       "\u001b[36m   nothing\u001b[39m\n",
       "\u001b[36m  \u001b[39m\n",
       "\u001b[36m  julia> Array{Union{Nothing, Int}}(nothing, 2, 3)\u001b[39m\n",
       "\u001b[36m  2×3 Matrix{Union{Nothing, Int64}}:\u001b[39m\n",
       "\u001b[36m   nothing  nothing  nothing\u001b[39m\n",
       "\u001b[36m   nothing  nothing  nothing\u001b[39m\n",
       "\n",
       "  ────────────────────────────────────────────────────────────────────────────\n",
       "\n",
       "\u001b[36m  Array{T}(missing, dims)\u001b[39m\n",
       "\u001b[36m  Array{T,N}(missing, dims)\u001b[39m\n",
       "\n",
       "  Construct an \u001b[36mN\u001b[39m-dimensional \u001b[36mArray\u001b[39m containing elements of type \u001b[36mT\u001b[39m, initialized\n",
       "  with \u001b[36mmissing\u001b[39m entries. Element type \u001b[36mT\u001b[39m must be able to hold these values, i.e.\n",
       "  \u001b[36mMissing <: T\u001b[39m.\n",
       "\n",
       "\u001b[1m  Examples\u001b[22m\n",
       "\u001b[1m  ≡≡≡≡≡≡≡≡≡≡\u001b[22m\n",
       "\n",
       "\u001b[36m  julia> Array{Union{Missing, String}}(missing, 2)\u001b[39m\n",
       "\u001b[36m  2-element Vector{Union{Missing, String}}:\u001b[39m\n",
       "\u001b[36m   missing\u001b[39m\n",
       "\u001b[36m   missing\u001b[39m\n",
       "\u001b[36m  \u001b[39m\n",
       "\u001b[36m  julia> Array{Union{Missing, Int}}(missing, 2, 3)\u001b[39m\n",
       "\u001b[36m  2×3 Matrix{Union{Missing, Int64}}:\u001b[39m\n",
       "\u001b[36m   missing  missing  missing\u001b[39m\n",
       "\u001b[36m   missing  missing  missing\u001b[39m"
      ]
     },
     "execution_count": 8,
     "metadata": {},
     "output_type": "execute_result"
    }
   ],
   "source": [
    "?Array"
   ]
  },
  {
   "cell_type": "code",
   "execution_count": 48,
   "id": "f4739416",
   "metadata": {},
   "outputs": [
    {
     "data": {
      "text/plain": [
       "2×3 Matrix{Integer}:\n",
       " #undef  #undef  #undef\n",
       " #undef  #undef  #undef"
      ]
     },
     "execution_count": 48,
     "metadata": {},
     "output_type": "execute_result"
    }
   ],
   "source": [
    "abstypevariable = Array{Integer}(undef, 2,3) # A two-dimensional array with 2 rows and 3 columns"
   ]
  },
  {
   "cell_type": "code",
   "execution_count": 49,
   "id": "916185a6",
   "metadata": {},
   "outputs": [
    {
     "data": {
      "text/plain": [
       "Matrix{Integer} (alias for Array{Integer, 2})"
      ]
     },
     "execution_count": 49,
     "metadata": {},
     "output_type": "execute_result"
    }
   ],
   "source": [
    "typeof(abstypevariable)"
   ]
  },
  {
   "cell_type": "code",
   "execution_count": 50,
   "id": "6d8593d7",
   "metadata": {},
   "outputs": [
    {
     "ename": "LoadError",
     "evalue": "UndefRefError: access to undefined reference",
     "output_type": "error",
     "traceback": [
      "UndefRefError: access to undefined reference",
      "",
      "Stacktrace:",
      " [1] getindex(::Matrix{Integer}, ::Int64, ::Int64)",
      "   @ Base ./array.jl:862",
      " [2] top-level scope",
      "   @ In[50]:1",
      " [3] eval",
      "   @ ./boot.jl:373 [inlined]",
      " [4] include_string(mapexpr::typeof(REPL.softscope), mod::Module, code::String, filename::String)",
      "   @ Base ./loading.jl:1196"
     ]
    }
   ],
   "source": [
    "abstypevariable[2,1]    #NB --- note the brackets, that's how to access elements of an array"
   ]
  },
  {
   "cell_type": "code",
   "execution_count": 51,
   "id": "5ba2d538",
   "metadata": {},
   "outputs": [
    {
     "data": {
      "text/plain": [
       "1"
      ]
     },
     "execution_count": 51,
     "metadata": {},
     "output_type": "execute_result"
    }
   ],
   "source": [
    "abstypevariable[1,1] = 1    # Int64 is a subtype of Integer"
   ]
  },
  {
   "cell_type": "code",
   "execution_count": 52,
   "id": "04bbce2b",
   "metadata": {},
   "outputs": [
    {
     "data": {
      "text/plain": [
       "2×3 Matrix{Integer}:\n",
       "   1     #undef  #undef\n",
       " #undef  #undef  #undef"
      ]
     },
     "execution_count": 52,
     "metadata": {},
     "output_type": "execute_result"
    }
   ],
   "source": [
    "abstypevariable"
   ]
  },
  {
   "cell_type": "code",
   "execution_count": 53,
   "id": "881d2c46",
   "metadata": {},
   "outputs": [
    {
     "data": {
      "text/plain": [
       "5.0"
      ]
     },
     "execution_count": 53,
     "metadata": {},
     "output_type": "execute_result"
    }
   ],
   "source": [
    "abstypevariable[1,2] = 5.0  # given value is of type Float64"
   ]
  },
  {
   "cell_type": "code",
   "execution_count": 54,
   "id": "1a8b2d23",
   "metadata": {},
   "outputs": [
    {
     "data": {
      "text/plain": [
       "2×3 Matrix{Integer}:\n",
       "   1       5     #undef\n",
       " #undef  #undef  #undef"
      ]
     },
     "execution_count": 54,
     "metadata": {},
     "output_type": "execute_result"
    }
   ],
   "source": [
    "abstypevariable"
   ]
  },
  {
   "cell_type": "code",
   "execution_count": 55,
   "id": "f35888f8",
   "metadata": {},
   "outputs": [
    {
     "ename": "LoadError",
     "evalue": "MethodError: \u001b[0mCannot `convert` an object of type \u001b[92mString\u001b[39m\u001b[0m to an object of type \u001b[91mInteger\u001b[39m\n\u001b[0mClosest candidates are:\n\u001b[0m  convert(::Type{T}, \u001b[91m::T\u001b[39m) where T<:Number at ~/julia-1.7.2/share/julia/base/number.jl:6\n\u001b[0m  convert(::Type{T}, \u001b[91m::Number\u001b[39m) where T<:Number at ~/julia-1.7.2/share/julia/base/number.jl:7\n\u001b[0m  convert(::Type{T}, \u001b[91m::Base.TwicePrecision\u001b[39m) where T<:Number at ~/julia-1.7.2/share/julia/base/twiceprecision.jl:262\n\u001b[0m  ...",
     "output_type": "error",
     "traceback": [
      "MethodError: \u001b[0mCannot `convert` an object of type \u001b[92mString\u001b[39m\u001b[0m to an object of type \u001b[91mInteger\u001b[39m\n\u001b[0mClosest candidates are:\n\u001b[0m  convert(::Type{T}, \u001b[91m::T\u001b[39m) where T<:Number at ~/julia-1.7.2/share/julia/base/number.jl:6\n\u001b[0m  convert(::Type{T}, \u001b[91m::Number\u001b[39m) where T<:Number at ~/julia-1.7.2/share/julia/base/number.jl:7\n\u001b[0m  convert(::Type{T}, \u001b[91m::Base.TwicePrecision\u001b[39m) where T<:Number at ~/julia-1.7.2/share/julia/base/twiceprecision.jl:262\n\u001b[0m  ...",
      "",
      "Stacktrace:",
      " [1] setindex!(::Matrix{Integer}, ::String, ::Int64, ::Int64)",
      "   @ Base ./array.jl:905",
      " [2] top-level scope",
      "   @ In[55]:1",
      " [3] eval",
      "   @ ./boot.jl:373 [inlined]",
      " [4] include_string(mapexpr::typeof(REPL.softscope), mod::Module, code::String, filename::String)",
      "   @ Base ./loading.jl:1196"
     ]
    }
   ],
   "source": [
    "abstypevariable[2,2] = \"stringystringstr\"  # strings cannot be converted to any Integer type"
   ]
  },
  {
   "cell_type": "code",
   "execution_count": 56,
   "id": "a92db4c5",
   "metadata": {},
   "outputs": [
    {
     "data": {
      "text/plain": [
       "2×2 Matrix{Float64}:\n",
       " 1.0  3.0\n",
       " 3.0  4.0"
      ]
     },
     "execution_count": 56,
     "metadata": {},
     "output_type": "execute_result"
    }
   ],
   "source": [
    "some = Array{Float64}([[1,3] [3,4]])"
   ]
  },
  {
   "cell_type": "code",
   "execution_count": 57,
   "id": "ca6d83c8",
   "metadata": {},
   "outputs": [
    {
     "data": {
      "text/plain": [
       "\"Hello\""
      ]
     },
     "execution_count": 57,
     "metadata": {},
     "output_type": "execute_result"
    }
   ],
   "source": [
    "thing = \"Hello\""
   ]
  },
  {
   "cell_type": "code",
   "execution_count": 58,
   "id": "30dc172c",
   "metadata": {},
   "outputs": [
    {
     "data": {
      "text/plain": [
       "11×12 Matrix{Int64}:\n",
       "               4  140594329478928  …               19  140594329482640\n",
       " 140594329478608                5     140594329482320               22\n",
       "               3  140594329478992                  20  140594329482704\n",
       " 140594329478672                6     140594329482384               22\n",
       "               4  140594329479056                  21  140594329482768\n",
       " 140594329478736                6  …  140594329482448               23\n",
       "               3  140594329479120                  21  140594329482832\n",
       " 140594329478800                5     140594329482512               20\n",
       "               4  140594329479184                  21  140594329482896\n",
       " 140594329478864                6     140594329482576                4\n",
       "               4  140594329479248  …               22  140594329482960"
      ]
     },
     "execution_count": 58,
     "metadata": {},
     "output_type": "execute_result"
    }
   ],
   "source": [
    "x = Array{Int64}(undef,11, 12)"
   ]
  },
  {
   "cell_type": "code",
   "execution_count": 59,
   "id": "08c6a3d8",
   "metadata": {},
   "outputs": [
    {
     "data": {
      "text/plain": [
       "Matrix{Int64} (alias for Array{Int64, 2})"
      ]
     },
     "execution_count": 59,
     "metadata": {},
     "output_type": "execute_result"
    }
   ],
   "source": [
    "typeof(x)"
   ]
  },
  {
   "cell_type": "code",
   "execution_count": 60,
   "id": "9d820b06",
   "metadata": {},
   "outputs": [
    {
     "data": {
      "text/plain": [
       "\"Some\""
      ]
     },
     "execution_count": 60,
     "metadata": {},
     "output_type": "execute_result"
    }
   ],
   "source": [
    "thing = \"Some\"::String"
   ]
  },
  {
   "cell_type": "code",
   "execution_count": 61,
   "id": "42bf0a3d",
   "metadata": {},
   "outputs": [
    {
     "name": "stdout",
     "output_type": "stream",
     "text": [
      "Hello, World\n"
     ]
    }
   ],
   "source": [
    "greeting = \"Hello, World\"\n",
    "println(greeting)"
   ]
  },
  {
   "cell_type": "code",
   "execution_count": 62,
   "id": "a888cbb5",
   "metadata": {},
   "outputs": [
    {
     "data": {
      "text/plain": [
       "(1, 2, 3)"
      ]
     },
     "execution_count": 62,
     "metadata": {},
     "output_type": "execute_result"
    }
   ],
   "source": [
    "a, b, c = 1, 2, 3"
   ]
  },
  {
   "cell_type": "code",
   "execution_count": 63,
   "id": "1b2b8534",
   "metadata": {},
   "outputs": [
    {
     "name": "stdout",
     "output_type": "stream",
     "text": [
      "1\n",
      "2\n",
      "3\n"
     ]
    }
   ],
   "source": [
    "println(a)\n",
    "println(b)\n",
    "println(c)"
   ]
  },
  {
   "cell_type": "code",
   "execution_count": 64,
   "id": "ecd89183",
   "metadata": {},
   "outputs": [
    {
     "data": {
      "text/plain": [
       "Int64"
      ]
     },
     "execution_count": 64,
     "metadata": {},
     "output_type": "execute_result"
    }
   ],
   "source": [
    "typeof(a)"
   ]
  },
  {
   "cell_type": "code",
   "execution_count": 65,
   "id": "bbf20f3e",
   "metadata": {},
   "outputs": [
    {
     "name": "stdout",
     "output_type": "stream",
     "text": [
      "search: \u001b[0m\u001b[1mc\u001b[22m\u001b[0m\u001b[1mo\u001b[22m\u001b[0m\u001b[1ms\u001b[22m \u001b[0m\u001b[1mc\u001b[22m\u001b[0m\u001b[1mo\u001b[22m\u001b[0m\u001b[1ms\u001b[22mh \u001b[0m\u001b[1mc\u001b[22m\u001b[0m\u001b[1mo\u001b[22m\u001b[0m\u001b[1ms\u001b[22md \u001b[0m\u001b[1mc\u001b[22m\u001b[0m\u001b[1mo\u001b[22m\u001b[0m\u001b[1ms\u001b[22mc \u001b[0m\u001b[1mc\u001b[22m\u001b[0m\u001b[1mo\u001b[22m\u001b[0m\u001b[1ms\u001b[22mpi a\u001b[0m\u001b[1mc\u001b[22m\u001b[0m\u001b[1mo\u001b[22m\u001b[0m\u001b[1ms\u001b[22m a\u001b[0m\u001b[1mc\u001b[22m\u001b[0m\u001b[1mo\u001b[22m\u001b[0m\u001b[1ms\u001b[22mh a\u001b[0m\u001b[1mc\u001b[22m\u001b[0m\u001b[1mo\u001b[22m\u001b[0m\u001b[1ms\u001b[22md sin\u001b[0m\u001b[1mc\u001b[22m\u001b[0m\u001b[1mo\u001b[22m\u001b[0m\u001b[1ms\u001b[22m sin\u001b[0m\u001b[1mc\u001b[22m\u001b[0m\u001b[1mo\u001b[22m\u001b[0m\u001b[1ms\u001b[22md sin\u001b[0m\u001b[1mc\u001b[22m\u001b[0m\u001b[1mo\u001b[22m\u001b[0m\u001b[1ms\u001b[22mpi \u001b[0m\u001b[1mc\u001b[22m\u001b[0m\u001b[1mo\u001b[22mn\u001b[0m\u001b[1ms\u001b[22mt\n",
      "\n"
     ]
    },
    {
     "data": {
      "text/latex": [
       "\\begin{verbatim}\n",
       "cos(x)\n",
       "\\end{verbatim}\n",
       "Compute cosine of \\texttt{x}, where \\texttt{x} is in radians.\n",
       "\n",
       "See also [\\texttt{cosd}], [\\texttt{cospi}], [\\texttt{sincos}], [\\texttt{cis}].\n",
       "\n",
       "\\rule{\\textwidth}{1pt}\n",
       "\\begin{verbatim}\n",
       "cos(A::AbstractMatrix)\n",
       "\\end{verbatim}\n",
       "Compute the matrix cosine of a square matrix \\texttt{A}.\n",
       "\n",
       "If \\texttt{A} is symmetric or Hermitian, its eigendecomposition (\\href{@ref}{\\texttt{eigen}}) is used to compute the cosine. Otherwise, the cosine is determined by calling \\href{@ref}{\\texttt{exp}}.\n",
       "\n",
       "\\section{Examples}\n",
       "\\begin{verbatim}\n",
       "julia> cos(fill(1.0, (2,2)))\n",
       "2×2 Matrix{Float64}:\n",
       "  0.291927  -0.708073\n",
       " -0.708073   0.291927\n",
       "\\end{verbatim}\n"
      ],
      "text/markdown": [
       "```\n",
       "cos(x)\n",
       "```\n",
       "\n",
       "Compute cosine of `x`, where `x` is in radians.\n",
       "\n",
       "See also [`cosd`], [`cospi`], [`sincos`], [`cis`].\n",
       "\n",
       "---\n",
       "\n",
       "```\n",
       "cos(A::AbstractMatrix)\n",
       "```\n",
       "\n",
       "Compute the matrix cosine of a square matrix `A`.\n",
       "\n",
       "If `A` is symmetric or Hermitian, its eigendecomposition ([`eigen`](@ref)) is used to compute the cosine. Otherwise, the cosine is determined by calling [`exp`](@ref).\n",
       "\n",
       "# Examples\n",
       "\n",
       "```jldoctest\n",
       "julia> cos(fill(1.0, (2,2)))\n",
       "2×2 Matrix{Float64}:\n",
       "  0.291927  -0.708073\n",
       " -0.708073   0.291927\n",
       "```\n"
      ],
      "text/plain": [
       "\u001b[36m  cos(x)\u001b[39m\n",
       "\n",
       "  Compute cosine of \u001b[36mx\u001b[39m, where \u001b[36mx\u001b[39m is in radians.\n",
       "\n",
       "  See also [\u001b[36mcosd\u001b[39m], [\u001b[36mcospi\u001b[39m], [\u001b[36msincos\u001b[39m], [\u001b[36mcis\u001b[39m].\n",
       "\n",
       "  ────────────────────────────────────────────────────────────────────────────\n",
       "\n",
       "\u001b[36m  cos(A::AbstractMatrix)\u001b[39m\n",
       "\n",
       "  Compute the matrix cosine of a square matrix \u001b[36mA\u001b[39m.\n",
       "\n",
       "  If \u001b[36mA\u001b[39m is symmetric or Hermitian, its eigendecomposition (\u001b[36meigen\u001b[39m) is used to\n",
       "  compute the cosine. Otherwise, the cosine is determined by calling \u001b[36mexp\u001b[39m.\n",
       "\n",
       "\u001b[1m  Examples\u001b[22m\n",
       "\u001b[1m  ≡≡≡≡≡≡≡≡≡≡\u001b[22m\n",
       "\n",
       "\u001b[36m  julia> cos(fill(1.0, (2,2)))\u001b[39m\n",
       "\u001b[36m  2×2 Matrix{Float64}:\u001b[39m\n",
       "\u001b[36m    0.291927  -0.708073\u001b[39m\n",
       "\u001b[36m   -0.708073   0.291927\u001b[39m"
      ]
     },
     "execution_count": 65,
     "metadata": {},
     "output_type": "execute_result"
    }
   ],
   "source": [
    "?cos"
   ]
  },
  {
   "cell_type": "code",
   "execution_count": 69,
   "id": "861faf85",
   "metadata": {},
   "outputs": [
    {
     "name": "stdout",
     "output_type": "stream",
     "text": [
      "search: \u001b[0m\u001b[1mh\u001b[22m\u001b[0m\u001b[1me\u001b[22m\u001b[0m\u001b[1ml\u001b[22m\u001b[0m\u001b[1mp\u001b[22m sc\u001b[0m\u001b[1mh\u001b[22m\u001b[0m\u001b[1me\u001b[22mdu\u001b[0m\u001b[1ml\u001b[22me C\u001b[0m\u001b[1mh\u001b[22mann\u001b[0m\u001b[1me\u001b[22m\u001b[0m\u001b[1ml\u001b[22m \u001b[0m\u001b[1mh\u001b[22masfi\u001b[0m\u001b[1me\u001b[22m\u001b[0m\u001b[1ml\u001b[22md @t\u001b[0m\u001b[1mh\u001b[22mr\u001b[0m\u001b[1me\u001b[22madca\u001b[0m\u001b[1ml\u001b[22ml AbstractC\u001b[0m\u001b[1mh\u001b[22mann\u001b[0m\u001b[1me\u001b[22m\u001b[0m\u001b[1ml\u001b[22m\n",
      "\n"
     ]
    },
    {
     "data": {
      "text/latex": [
       "\\textbf{Welcome to Julia 1.7.2.} The full manual is available at\n",
       "\n",
       "\\begin{verbatim}\n",
       "https://docs.julialang.org\n",
       "\\end{verbatim}\n",
       "as well as many great tutorials and learning resources:\n",
       "\n",
       "\\begin{verbatim}\n",
       "https://julialang.org/learning/\n",
       "\\end{verbatim}\n",
       "For help on a specific function or macro, type \\texttt{?} followed by its name, e.g. \\texttt{?cos}, or \\texttt{?@time}, and press enter. Type \\texttt{;} to enter shell mode, \\texttt{]} to enter package mode.\n",
       "\n"
      ],
      "text/markdown": [
       "**Welcome to Julia 1.7.2.** The full manual is available at\n",
       "\n",
       "```\n",
       "https://docs.julialang.org\n",
       "```\n",
       "\n",
       "as well as many great tutorials and learning resources:\n",
       "\n",
       "```\n",
       "https://julialang.org/learning/\n",
       "```\n",
       "\n",
       "For help on a specific function or macro, type `?` followed by its name, e.g. `?cos`, or `?@time`, and press enter. Type `;` to enter shell mode, `]` to enter package mode.\n"
      ],
      "text/plain": [
       "  \u001b[1mWelcome to Julia 1.7.2.\u001b[22m The full manual is available at\n",
       "\n",
       "\u001b[36m  https://docs.julialang.org\u001b[39m\n",
       "\n",
       "  as well as many great tutorials and learning resources:\n",
       "\n",
       "\u001b[36m  https://julialang.org/learning/\u001b[39m\n",
       "\n",
       "  For help on a specific function or macro, type \u001b[36m?\u001b[39m followed by its name, e.g.\n",
       "  \u001b[36m?cos\u001b[39m, or \u001b[36m?@time\u001b[39m, and press enter. Type \u001b[36m;\u001b[39m to enter shell mode, \u001b[36m]\u001b[39m to enter\n",
       "  package mode."
      ]
     },
     "execution_count": 69,
     "metadata": {},
     "output_type": "execute_result"
    }
   ],
   "source": [
    "?help"
   ]
  },
  {
   "cell_type": "code",
   "execution_count": 72,
   "id": "f4f54213",
   "metadata": {},
   "outputs": [
    {
     "data": {
      "text/latex": [
       "\\begin{verbatim}\n",
       "exp(x)\n",
       "\\end{verbatim}\n",
       "Compute the natural base exponential of \\texttt{x}, in other words $ℯ^x$.\n",
       "\n",
       "See also \\href{@ref}{\\texttt{exp2}}, \\href{@ref}{\\texttt{exp10}} and \\href{@ref}{\\texttt{cis}}.\n",
       "\n",
       "\\section{Examples}\n",
       "\\begin{verbatim}\n",
       "julia> exp(1.0)\n",
       "2.718281828459045\n",
       "\n",
       "julia> exp(im * pi) == cis(pi)\n",
       "true\n",
       "\\end{verbatim}\n"
      ],
      "text/markdown": [
       "```\n",
       "exp(x)\n",
       "```\n",
       "\n",
       "Compute the natural base exponential of `x`, in other words $ℯ^x$.\n",
       "\n",
       "See also [`exp2`](@ref), [`exp10`](@ref) and [`cis`](@ref).\n",
       "\n",
       "# Examples\n",
       "\n",
       "```jldoctest\n",
       "julia> exp(1.0)\n",
       "2.718281828459045\n",
       "\n",
       "julia> exp(im * pi) == cis(pi)\n",
       "true\n",
       "```\n"
      ],
      "text/plain": [
       "\u001b[36m  exp(x)\u001b[39m\n",
       "\n",
       "  Compute the natural base exponential of \u001b[36mx\u001b[39m, in other words \u001b[35mℯ^x\u001b[39m.\n",
       "\n",
       "  See also \u001b[36mexp2\u001b[39m, \u001b[36mexp10\u001b[39m and \u001b[36mcis\u001b[39m.\n",
       "\n",
       "\u001b[1m  Examples\u001b[22m\n",
       "\u001b[1m  ≡≡≡≡≡≡≡≡≡≡\u001b[22m\n",
       "\n",
       "\u001b[36m  julia> exp(1.0)\u001b[39m\n",
       "\u001b[36m  2.718281828459045\u001b[39m\n",
       "\u001b[36m  \u001b[39m\n",
       "\u001b[36m  julia> exp(im * pi) == cis(pi)\u001b[39m\n",
       "\u001b[36m  true\u001b[39m"
      ]
     },
     "execution_count": 72,
     "metadata": {},
     "output_type": "execute_result"
    }
   ],
   "source": [
    "?exp(3)"
   ]
  },
  {
   "cell_type": "code",
   "execution_count": 76,
   "id": "a99afc93",
   "metadata": {},
   "outputs": [
    {
     "name": "stdout",
     "output_type": "stream",
     "text": [
      "search: \u001b[0m\u001b[1mb\u001b[22m\u001b[0m\u001b[1mi\u001b[22m\u001b[0m\u001b[1mn\u001b[22m\u001b[0m\u001b[1mo\u001b[22m\u001b[0m\u001b[1mm\u001b[22m\u001b[0m\u001b[1mi\u001b[22m\u001b[0m\u001b[1ma\u001b[22m\u001b[0m\u001b[1ml\u001b[22m\n",
      "\n"
     ]
    },
    {
     "data": {
      "text/latex": [
       "\\begin{verbatim}\n",
       "binomial(n::Integer, k::Integer)\n",
       "\\end{verbatim}\n",
       "The \\emph{binomial coefficient} $\\binom{n}{k}$, being the coefficient of the $k$th term in the polynomial expansion of $(1+x)^n$.\n",
       "\n",
       "If $n$ is non-negative, then it is the number of ways to choose \\texttt{k} out of \\texttt{n} items:\n",
       "\n",
       "$$\\binom{n}{k} = \\frac{n!}{k! (n-k)!}$$\n",
       "where $n!$ is the \\href{@ref}{\\texttt{factorial}} function.\n",
       "\n",
       "If $n$ is negative, then it is defined in terms of the identity\n",
       "\n",
       "$$\\binom{n}{k} = (-1)^k \\binom{k-n-1}{k}$$\n",
       "See also \\href{@ref}{\\texttt{factorial}}.\n",
       "\n",
       "\\section{Examples}\n",
       "\\begin{verbatim}\n",
       "julia> binomial(5, 3)\n",
       "10\n",
       "\n",
       "julia> factorial(5) ÷ (factorial(5-3) * factorial(3))\n",
       "10\n",
       "\n",
       "julia> binomial(-5, 3)\n",
       "-35\n",
       "\\end{verbatim}\n",
       "\\section{External links}\n",
       "\\begin{itemize}\n",
       "\\item \\href{https://en.wikipedia.org/wiki/Binomial_coefficient}{Binomial coefficient} on Wikipedia.\n",
       "\n",
       "\\end{itemize}\n"
      ],
      "text/markdown": [
       "```\n",
       "binomial(n::Integer, k::Integer)\n",
       "```\n",
       "\n",
       "The *binomial coefficient* $\\binom{n}{k}$, being the coefficient of the $k$th term in the polynomial expansion of $(1+x)^n$.\n",
       "\n",
       "If $n$ is non-negative, then it is the number of ways to choose `k` out of `n` items:\n",
       "\n",
       "$$\n",
       "\\binom{n}{k} = \\frac{n!}{k! (n-k)!}\n",
       "$$\n",
       "\n",
       "where $n!$ is the [`factorial`](@ref) function.\n",
       "\n",
       "If $n$ is negative, then it is defined in terms of the identity\n",
       "\n",
       "$$\n",
       "\\binom{n}{k} = (-1)^k \\binom{k-n-1}{k}\n",
       "$$\n",
       "\n",
       "See also [`factorial`](@ref).\n",
       "\n",
       "# Examples\n",
       "\n",
       "```jldoctest\n",
       "julia> binomial(5, 3)\n",
       "10\n",
       "\n",
       "julia> factorial(5) ÷ (factorial(5-3) * factorial(3))\n",
       "10\n",
       "\n",
       "julia> binomial(-5, 3)\n",
       "-35\n",
       "```\n",
       "\n",
       "# External links\n",
       "\n",
       "  * [Binomial coefficient](https://en.wikipedia.org/wiki/Binomial_coefficient) on Wikipedia.\n"
      ],
      "text/plain": [
       "\u001b[36m  binomial(n::Integer, k::Integer)\u001b[39m\n",
       "\n",
       "  The \u001b[4mbinomial coefficient\u001b[24m \u001b[35m\\binom{n}{k}\u001b[39m, being the coefficient of the \u001b[35mk\u001b[39mth term\n",
       "  in the polynomial expansion of \u001b[35m(1+x)^n\u001b[39m.\n",
       "\n",
       "  If \u001b[35mn\u001b[39m is non-negative, then it is the number of ways to choose \u001b[36mk\u001b[39m out of \u001b[36mn\u001b[39m\n",
       "  items:\n",
       "\n",
       "\u001b[35m  \\binom{n}{k} = \\frac{n!}{k! (n-k)!}\u001b[39m\n",
       "\n",
       "  where \u001b[35mn!\u001b[39m is the \u001b[36mfactorial\u001b[39m function.\n",
       "\n",
       "  If \u001b[35mn\u001b[39m is negative, then it is defined in terms of the identity\n",
       "\n",
       "\u001b[35m  \\binom{n}{k} = (-1)^k \\binom{k-n-1}{k}\u001b[39m\n",
       "\n",
       "  See also \u001b[36mfactorial\u001b[39m.\n",
       "\n",
       "\u001b[1m  Examples\u001b[22m\n",
       "\u001b[1m  ≡≡≡≡≡≡≡≡≡≡\u001b[22m\n",
       "\n",
       "\u001b[36m  julia> binomial(5, 3)\u001b[39m\n",
       "\u001b[36m  10\u001b[39m\n",
       "\u001b[36m  \u001b[39m\n",
       "\u001b[36m  julia> factorial(5) ÷ (factorial(5-3) * factorial(3))\u001b[39m\n",
       "\u001b[36m  10\u001b[39m\n",
       "\u001b[36m  \u001b[39m\n",
       "\u001b[36m  julia> binomial(-5, 3)\u001b[39m\n",
       "\u001b[36m  -35\u001b[39m\n",
       "\n",
       "\u001b[1m  External links\u001b[22m\n",
       "\u001b[1m  ≡≡≡≡≡≡≡≡≡≡≡≡≡≡≡≡\u001b[22m\n",
       "\n",
       "    •  Binomial coefficient\n",
       "       (https://en.wikipedia.org/wiki/Binomial_coefficient) on Wikipedia."
      ]
     },
     "execution_count": 76,
     "metadata": {},
     "output_type": "execute_result"
    }
   ],
   "source": [
    "?binomial"
   ]
  },
  {
   "cell_type": "markdown",
   "id": "3aa98683",
   "metadata": {},
   "source": [
    "The binomial coefficient $\\binom{n}{k}$, being the coefficient of the $k$th term in the polynomial expansion of $(1+x)^n$.\n",
    "\n",
    "If $n$ is non-negative, then it is the number of ways to choose k out of n items:\n",
    "\n",
    "$$ \\binom{n}{k} = \\frac{n!}{k! (n-k)!} $$\n",
    "\n",
    "where $n!$ is the factorial function.\n",
    "\n",
    "If $n$ is negative, then it is defined in terms of the identity\n",
    "\n",
    "$$ \\binom{n}{k} = (-1)^k \\binom{k-n-1}{k} $$"
   ]
  },
  {
   "cell_type": "code",
   "execution_count": 77,
   "id": "983b1745",
   "metadata": {},
   "outputs": [
    {
     "name": "stdout",
     "output_type": "stream",
     "text": [
      "search: \u001b[0m\u001b[1mm\u001b[22m\u001b[0m\u001b[1mu\u001b[22m\u001b[0m\u001b[1ml\u001b[22m\u001b[0m\u001b[1ma\u001b[22m\u001b[0m\u001b[1md\u001b[22m\u001b[0m\u001b[1md\u001b[22m\n",
      "\n"
     ]
    },
    {
     "data": {
      "text/latex": [
       "\\begin{verbatim}\n",
       "muladd(x, y, z)\n",
       "\\end{verbatim}\n",
       "Combined multiply-add: computes \\texttt{x*y+z}, but allowing the add and multiply to be merged with each other or with surrounding operations for performance. For example, this may be implemented as an \\href{@ref}{\\texttt{fma}} if the hardware supports it efficiently. The result can be different on different machines and can also be different on the same machine due to constant propagation or other optimizations. See \\href{@ref}{\\texttt{fma}}.\n",
       "\n",
       "\\section{Examples}\n",
       "\\begin{verbatim}\n",
       "julia> muladd(3, 2, 1)\n",
       "7\n",
       "\n",
       "julia> 3 * 2 + 1\n",
       "7\n",
       "\\end{verbatim}\n",
       "\\rule{\\textwidth}{1pt}\n",
       "\\begin{verbatim}\n",
       "muladd(A, y, z)\n",
       "\\end{verbatim}\n",
       "Combined multiply-add, \\texttt{A*y .+ z}, for matrix-matrix or matrix-vector multiplication. The result is always the same size as \\texttt{A*y}, but \\texttt{z} may be smaller, or a scalar.\n",
       "\n",
       "\\begin{quote}\n",
       "\\textbf{compat}\n",
       "\n",
       "Julia 1.6\n",
       "\n",
       "These methods require Julia 1.6 or later.\n",
       "\n",
       "\\end{quote}\n",
       "\\section{Examples}\n",
       "\\begin{verbatim}\n",
       "julia> A=[1.0 2.0; 3.0 4.0]; B=[1.0 1.0; 1.0 1.0]; z=[0, 100];\n",
       "\n",
       "julia> muladd(A, B, z)\n",
       "2×2 Matrix{Float64}:\n",
       "   3.0    3.0\n",
       " 107.0  107.0\n",
       "\\end{verbatim}\n"
      ],
      "text/markdown": [
       "```\n",
       "muladd(x, y, z)\n",
       "```\n",
       "\n",
       "Combined multiply-add: computes `x*y+z`, but allowing the add and multiply to be merged with each other or with surrounding operations for performance. For example, this may be implemented as an [`fma`](@ref) if the hardware supports it efficiently. The result can be different on different machines and can also be different on the same machine due to constant propagation or other optimizations. See [`fma`](@ref).\n",
       "\n",
       "# Examples\n",
       "\n",
       "```jldoctest\n",
       "julia> muladd(3, 2, 1)\n",
       "7\n",
       "\n",
       "julia> 3 * 2 + 1\n",
       "7\n",
       "```\n",
       "\n",
       "---\n",
       "\n",
       "```\n",
       "muladd(A, y, z)\n",
       "```\n",
       "\n",
       "Combined multiply-add, `A*y .+ z`, for matrix-matrix or matrix-vector multiplication. The result is always the same size as `A*y`, but `z` may be smaller, or a scalar.\n",
       "\n",
       "!!! compat \"Julia 1.6\"\n",
       "    These methods require Julia 1.6 or later.\n",
       "\n",
       "\n",
       "# Examples\n",
       "\n",
       "```jldoctest\n",
       "julia> A=[1.0 2.0; 3.0 4.0]; B=[1.0 1.0; 1.0 1.0]; z=[0, 100];\n",
       "\n",
       "julia> muladd(A, B, z)\n",
       "2×2 Matrix{Float64}:\n",
       "   3.0    3.0\n",
       " 107.0  107.0\n",
       "```\n"
      ],
      "text/plain": [
       "\u001b[36m  muladd(x, y, z)\u001b[39m\n",
       "\n",
       "  Combined multiply-add: computes \u001b[36mx*y+z\u001b[39m, but allowing the add and multiply to\n",
       "  be merged with each other or with surrounding operations for performance.\n",
       "  For example, this may be implemented as an \u001b[36mfma\u001b[39m if the hardware supports it\n",
       "  efficiently. The result can be different on different machines and can also\n",
       "  be different on the same machine due to constant propagation or other\n",
       "  optimizations. See \u001b[36mfma\u001b[39m.\n",
       "\n",
       "\u001b[1m  Examples\u001b[22m\n",
       "\u001b[1m  ≡≡≡≡≡≡≡≡≡≡\u001b[22m\n",
       "\n",
       "\u001b[36m  julia> muladd(3, 2, 1)\u001b[39m\n",
       "\u001b[36m  7\u001b[39m\n",
       "\u001b[36m  \u001b[39m\n",
       "\u001b[36m  julia> 3 * 2 + 1\u001b[39m\n",
       "\u001b[36m  7\u001b[39m\n",
       "\n",
       "  ────────────────────────────────────────────────────────────────────────────\n",
       "\n",
       "\u001b[36m  muladd(A, y, z)\u001b[39m\n",
       "\n",
       "  Combined multiply-add, \u001b[36mA*y .+ z\u001b[39m, for matrix-matrix or matrix-vector\n",
       "  multiplication. The result is always the same size as \u001b[36mA*y\u001b[39m, but \u001b[36mz\u001b[39m may be\n",
       "  smaller, or a scalar.\n",
       "\n",
       "\u001b[39m\u001b[1m  │ \u001b[22m\u001b[39m\u001b[1mJulia 1.6\u001b[22m\n",
       "\u001b[39m\u001b[1m  │\u001b[22m\n",
       "\u001b[39m\u001b[1m  │\u001b[22m  These methods require Julia 1.6 or later.\n",
       "\n",
       "\u001b[1m  Examples\u001b[22m\n",
       "\u001b[1m  ≡≡≡≡≡≡≡≡≡≡\u001b[22m\n",
       "\n",
       "\u001b[36m  julia> A=[1.0 2.0; 3.0 4.0]; B=[1.0 1.0; 1.0 1.0]; z=[0, 100];\u001b[39m\n",
       "\u001b[36m  \u001b[39m\n",
       "\u001b[36m  julia> muladd(A, B, z)\u001b[39m\n",
       "\u001b[36m  2×2 Matrix{Float64}:\u001b[39m\n",
       "\u001b[36m     3.0    3.0\u001b[39m\n",
       "\u001b[36m   107.0  107.0\u001b[39m"
      ]
     },
     "execution_count": 77,
     "metadata": {},
     "output_type": "execute_result"
    }
   ],
   "source": [
    "?muladd"
   ]
  },
  {
   "cell_type": "code",
   "execution_count": 78,
   "id": "7b3482b8",
   "metadata": {},
   "outputs": [
    {
     "data": {
      "text/plain": [
       "10"
      ]
     },
     "execution_count": 78,
     "metadata": {},
     "output_type": "execute_result"
    }
   ],
   "source": [
    "muladd(2,3,4)"
   ]
  },
  {
   "cell_type": "code",
   "execution_count": 79,
   "id": "d11cba88",
   "metadata": {},
   "outputs": [
    {
     "data": {
      "text/plain": [
       "10"
      ]
     },
     "execution_count": 79,
     "metadata": {},
     "output_type": "execute_result"
    }
   ],
   "source": [
    "2*3+4"
   ]
  },
  {
   "cell_type": "code",
   "execution_count": 80,
   "id": "f27a015c",
   "metadata": {},
   "outputs": [
    {
     "data": {
      "text/plain": [
       "0.5403023058681398"
      ]
     },
     "execution_count": 80,
     "metadata": {},
     "output_type": "execute_result"
    }
   ],
   "source": [
    "cos(1)"
   ]
  },
  {
   "cell_type": "code",
   "execution_count": 81,
   "id": "7d7ae4a1",
   "metadata": {},
   "outputs": [
    {
     "data": {
      "text/html": [
       "# 21 methods for generic function <b>muladd</b>:<ul><li> muladd(A::<b>Union{LinearAlgebra.Adjoint{var\"#s859\", <:StridedMatrix{T} where T}, LinearAlgebra.Transpose{var\"#s859\", <:StridedMatrix{T} where T}, StridedMatrix{var\"#s859\"}} where var\"#s859\"<:Number</b>, y::<b>AbstractVector{<:Number}</b>, z::<b>Union{Number, AbstractVector}</b>) in LinearAlgebra at <a href=\"file:///buildworker/worker/package_linux64/build/usr/share/julia/stdlib/v1.7/LinearAlgebra/src/matmul.jl\" target=\"_blank\">/home/hesed/julia-1.7.2/share/julia/stdlib/v1.7/LinearAlgebra/src/matmul.jl:238</a></li> <li> muladd(A::<b>Union{LinearAlgebra.Adjoint{var\"#s859\", <:StridedMatrix{T} where T}, LinearAlgebra.Transpose{var\"#s859\", <:StridedMatrix{T} where T}, StridedMatrix{var\"#s859\"}} where var\"#s859\"<:Number</b>, B::<b>Union{LinearAlgebra.Adjoint{var\"#s858\", <:StridedMatrix{T} where T}, LinearAlgebra.Transpose{var\"#s858\", <:StridedMatrix{T} where T}, StridedMatrix{var\"#s858\"}} where var\"#s858\"<:Number</b>, z::<b>Union{Number, AbstractVecOrMat}</b>) in LinearAlgebra at <a href=\"file:///buildworker/worker/package_linux64/build/usr/share/julia/stdlib/v1.7/LinearAlgebra/src/matmul.jl\" target=\"_blank\">/home/hesed/julia-1.7.2/share/julia/stdlib/v1.7/LinearAlgebra/src/matmul.jl:245</a></li> <li> muladd(x::<b>LinearAlgebra.Transpose{T, <:AbstractVector} where T</b>, A::<b>AbstractMatrix</b>, z::<b>Union{Number, AbstractVecOrMat}</b>) in LinearAlgebra at <a href=\"file:///buildworker/worker/package_linux64/build/usr/share/julia/stdlib/v1.7/LinearAlgebra/src/matmul.jl\" target=\"_blank\">/home/hesed/julia-1.7.2/share/julia/stdlib/v1.7/LinearAlgebra/src/matmul.jl:233</a></li> <li> muladd(x::<b>LinearAlgebra.Adjoint{T, <:AbstractVector} where T</b>, A::<b>AbstractMatrix</b>, z::<b>Union{Number, AbstractVecOrMat}</b>) in LinearAlgebra at <a href=\"file:///buildworker/worker/package_linux64/build/usr/share/julia/stdlib/v1.7/LinearAlgebra/src/matmul.jl\" target=\"_blank\">/home/hesed/julia-1.7.2/share/julia/stdlib/v1.7/LinearAlgebra/src/matmul.jl:231</a></li> <li> muladd(u::<b>AbstractVector</b>, v::<b>Union{LinearAlgebra.Adjoint{T, var\"#s859\"}, LinearAlgebra.Transpose{T, var\"#s859\"}} where {T, var\"#s859\"<:(AbstractVector)}</b>, z::<b>Union{Number, AbstractArray}</b>) in LinearAlgebra at <a href=\"file:///buildworker/worker/package_linux64/build/usr/share/julia/stdlib/v1.7/LinearAlgebra/src/matmul.jl\" target=\"_blank\">/home/hesed/julia-1.7.2/share/julia/stdlib/v1.7/LinearAlgebra/src/matmul.jl:218</a></li> <li> muladd(z::<b>Complex</b>, w::<b>Complex</b>, x::<b>Complex</b>) in Base at <a href=\"https://github.com/JuliaLang/julia/tree/bf534986350a991e4a1b29126de0342ffd76205e/base/complex.jl#L293\" target=\"_blank\">complex.jl:293</a></li> <li> muladd(z::<b>Complex</b>, x::<b>Real</b>, y::<b>Real</b>) in Base at <a href=\"https://github.com/JuliaLang/julia/tree/bf534986350a991e4a1b29126de0342ffd76205e/base/complex.jl#L337\" target=\"_blank\">complex.jl:337</a></li> <li> muladd(z::<b>Complex</b>, x::<b>Real</b>, w::<b>Complex</b>) in Base at <a href=\"https://github.com/JuliaLang/julia/tree/bf534986350a991e4a1b29126de0342ffd76205e/base/complex.jl#L338\" target=\"_blank\">complex.jl:338</a></li> <li> muladd(z::<b>Complex</b>, w::<b>Complex</b>, x::<b>Real</b>) in Base at <a href=\"https://github.com/JuliaLang/julia/tree/bf534986350a991e4a1b29126de0342ffd76205e/base/complex.jl#L341\" target=\"_blank\">complex.jl:341</a></li> <li> muladd(x::<b>Real</b>, z::<b>Complex</b>, y::<b>Number</b>) in Base at <a href=\"https://github.com/JuliaLang/julia/tree/bf534986350a991e4a1b29126de0342ffd76205e/base/complex.jl#L336\" target=\"_blank\">complex.jl:336</a></li> <li> muladd(x::<b>Real</b>, y::<b>Real</b>, z::<b>Complex</b>) in Base at <a href=\"https://github.com/JuliaLang/julia/tree/bf534986350a991e4a1b29126de0342ffd76205e/base/complex.jl#L340\" target=\"_blank\">complex.jl:340</a></li> <li> muladd(A::<b>LinearAlgebra.UniformScaling</b>, B::<b>LinearAlgebra.UniformScaling</b>, z::<b>LinearAlgebra.UniformScaling</b>) in LinearAlgebra at <a href=\"file:///buildworker/worker/package_linux64/build/usr/share/julia/stdlib/v1.7/LinearAlgebra/src/uniformscaling.jl\" target=\"_blank\">/home/hesed/julia-1.7.2/share/julia/stdlib/v1.7/LinearAlgebra/src/uniformscaling.jl:511</a></li> <li> muladd(A::<b>LinearAlgebra.Diagonal</b>, B::<b>LinearAlgebra.Diagonal</b>, z::<b>LinearAlgebra.Diagonal</b>) in LinearAlgebra at <a href=\"file:///buildworker/worker/package_linux64/build/usr/share/julia/stdlib/v1.7/LinearAlgebra/src/diagonal.jl\" target=\"_blank\">/home/hesed/julia-1.7.2/share/julia/stdlib/v1.7/LinearAlgebra/src/diagonal.jl:746</a></li> <li> muladd(A::<b>Union{LinearAlgebra.Diagonal, LinearAlgebra.UniformScaling}</b>, B::<b>Union{LinearAlgebra.Diagonal, LinearAlgebra.UniformScaling}</b>, z::<b>Union{LinearAlgebra.Diagonal, LinearAlgebra.UniformScaling}</b>) in LinearAlgebra at <a href=\"file:///buildworker/worker/package_linux64/build/usr/share/julia/stdlib/v1.7/LinearAlgebra/src/uniformscaling.jl\" target=\"_blank\">/home/hesed/julia-1.7.2/share/julia/stdlib/v1.7/LinearAlgebra/src/uniformscaling.jl:513</a></li> <li> muladd(A::<b>AbstractMatrix</b>, y::<b>AbstractVecOrMat</b>, z::<b>Union{Number, AbstractArray}</b>) in LinearAlgebra at <a href=\"file:///buildworker/worker/package_linux64/build/usr/share/julia/stdlib/v1.7/LinearAlgebra/src/matmul.jl\" target=\"_blank\">/home/hesed/julia-1.7.2/share/julia/stdlib/v1.7/LinearAlgebra/src/matmul.jl:204</a></li> <li> muladd(x::<b>Float16</b>, y::<b>Float16</b>, z::<b>Float16</b>) in Base at <a href=\"https://github.com/JuliaLang/julia/tree/bf534986350a991e4a1b29126de0342ffd76205e/base/float.jl#L410\" target=\"_blank\">float.jl:410</a></li> <li> muladd(x::<b>Float64</b>, y::<b>Float64</b>, z::<b>Float64</b>) in Base at <a href=\"https://github.com/JuliaLang/julia/tree/bf534986350a991e4a1b29126de0342ffd76205e/base/float.jl#L412\" target=\"_blank\">float.jl:412</a></li> <li> muladd(x::<b>Float32</b>, y::<b>Float32</b>, z::<b>Float32</b>) in Base at <a href=\"https://github.com/JuliaLang/julia/tree/bf534986350a991e4a1b29126de0342ffd76205e/base/float.jl#L411\" target=\"_blank\">float.jl:411</a></li> <li> muladd(x::<b>T</b>, y::<b>T</b>, z::<b>T</b>)<i> where T<:Number</i> in Base at <a href=\"https://github.com/JuliaLang/julia/tree/bf534986350a991e4a1b29126de0342ffd76205e/base/promotion.jl#L462\" target=\"_blank\">promotion.jl:462</a></li> <li> muladd(x::<b>Number</b>, y::<b>Number</b>, z::<b>Number</b>) in Base at <a href=\"https://github.com/JuliaLang/julia/tree/bf534986350a991e4a1b29126de0342ffd76205e/base/promotion.jl#L416\" target=\"_blank\">promotion.jl:416</a></li> <li> muladd(x, y, z) in Base.Math at <a href=\"https://github.com/JuliaLang/julia/tree/bf534986350a991e4a1b29126de0342ffd76205e/base/math.jl#L1160\" target=\"_blank\">math.jl:1160</a></li> </ul>"
      ],
      "text/plain": [
       "# 21 methods for generic function \"muladd\":\n",
       "[1] muladd(A::Union{LinearAlgebra.Adjoint{var\"#s859\", <:StridedMatrix{T} where T}, LinearAlgebra.Transpose{var\"#s859\", <:StridedMatrix{T} where T}, StridedMatrix{var\"#s859\"}} where var\"#s859\"<:Number, y::AbstractVector{<:Number}, z::Union{Number, AbstractVector}) in LinearAlgebra at /home/hesed/julia-1.7.2/share/julia/stdlib/v1.7/LinearAlgebra/src/matmul.jl:238\n",
       "[2] muladd(A::Union{LinearAlgebra.Adjoint{var\"#s859\", <:StridedMatrix{T} where T}, LinearAlgebra.Transpose{var\"#s859\", <:StridedMatrix{T} where T}, StridedMatrix{var\"#s859\"}} where var\"#s859\"<:Number, B::Union{LinearAlgebra.Adjoint{var\"#s858\", <:StridedMatrix{T} where T}, LinearAlgebra.Transpose{var\"#s858\", <:StridedMatrix{T} where T}, StridedMatrix{var\"#s858\"}} where var\"#s858\"<:Number, z::Union{Number, AbstractVecOrMat}) in LinearAlgebra at /home/hesed/julia-1.7.2/share/julia/stdlib/v1.7/LinearAlgebra/src/matmul.jl:245\n",
       "[3] muladd(x::LinearAlgebra.Transpose{T, <:AbstractVector} where T, A::AbstractMatrix, z::Union{Number, AbstractVecOrMat}) in LinearAlgebra at /home/hesed/julia-1.7.2/share/julia/stdlib/v1.7/LinearAlgebra/src/matmul.jl:233\n",
       "[4] muladd(x::LinearAlgebra.Adjoint{T, <:AbstractVector} where T, A::AbstractMatrix, z::Union{Number, AbstractVecOrMat}) in LinearAlgebra at /home/hesed/julia-1.7.2/share/julia/stdlib/v1.7/LinearAlgebra/src/matmul.jl:231\n",
       "[5] muladd(u::AbstractVector, v::Union{LinearAlgebra.Adjoint{T, var\"#s859\"}, LinearAlgebra.Transpose{T, var\"#s859\"}} where {T, var\"#s859\"<:(AbstractVector)}, z::Union{Number, AbstractArray}) in LinearAlgebra at /home/hesed/julia-1.7.2/share/julia/stdlib/v1.7/LinearAlgebra/src/matmul.jl:218\n",
       "[6] muladd(z::Complex, w::Complex, x::Complex) in Base at complex.jl:293\n",
       "[7] muladd(z::Complex, x::Real, y::Real) in Base at complex.jl:337\n",
       "[8] muladd(z::Complex, x::Real, w::Complex) in Base at complex.jl:338\n",
       "[9] muladd(z::Complex, w::Complex, x::Real) in Base at complex.jl:341\n",
       "[10] muladd(x::Real, z::Complex, y::Number) in Base at complex.jl:336\n",
       "[11] muladd(x::Real, y::Real, z::Complex) in Base at complex.jl:340\n",
       "[12] muladd(A::LinearAlgebra.UniformScaling, B::LinearAlgebra.UniformScaling, z::LinearAlgebra.UniformScaling) in LinearAlgebra at /home/hesed/julia-1.7.2/share/julia/stdlib/v1.7/LinearAlgebra/src/uniformscaling.jl:511\n",
       "[13] muladd(A::LinearAlgebra.Diagonal, B::LinearAlgebra.Diagonal, z::LinearAlgebra.Diagonal) in LinearAlgebra at /home/hesed/julia-1.7.2/share/julia/stdlib/v1.7/LinearAlgebra/src/diagonal.jl:746\n",
       "[14] muladd(A::Union{LinearAlgebra.Diagonal, LinearAlgebra.UniformScaling}, B::Union{LinearAlgebra.Diagonal, LinearAlgebra.UniformScaling}, z::Union{LinearAlgebra.Diagonal, LinearAlgebra.UniformScaling}) in LinearAlgebra at /home/hesed/julia-1.7.2/share/julia/stdlib/v1.7/LinearAlgebra/src/uniformscaling.jl:513\n",
       "[15] muladd(A::AbstractMatrix, y::AbstractVecOrMat, z::Union{Number, AbstractArray}) in LinearAlgebra at /home/hesed/julia-1.7.2/share/julia/stdlib/v1.7/LinearAlgebra/src/matmul.jl:204\n",
       "[16] muladd(x::Float16, y::Float16, z::Float16) in Base at float.jl:410\n",
       "[17] muladd(x::Float64, y::Float64, z::Float64) in Base at float.jl:412\n",
       "[18] muladd(x::Float32, y::Float32, z::Float32) in Base at float.jl:411\n",
       "[19] muladd(x::T, y::T, z::T) where T<:Number in Base at promotion.jl:462\n",
       "[20] muladd(x::Number, y::Number, z::Number) in Base at promotion.jl:416\n",
       "[21] muladd(x, y, z) in Base.Math at math.jl:1160"
      ]
     },
     "execution_count": 81,
     "metadata": {},
     "output_type": "execute_result"
    }
   ],
   "source": [
    "methods(muladd)"
   ]
  },
  {
   "cell_type": "markdown",
   "id": "212bf9e6",
   "metadata": {},
   "source": [
    "## Defining Functions"
   ]
  },
  {
   "cell_type": "code",
   "execution_count": 82,
   "id": "cf41428a",
   "metadata": {},
   "outputs": [
    {
     "data": {
      "text/plain": [
       "myfunc (generic function with 1 method)"
      ]
     },
     "execution_count": 82,
     "metadata": {},
     "output_type": "execute_result"
    }
   ],
   "source": [
    "myfunc(x) = 20 * x"
   ]
  },
  {
   "cell_type": "code",
   "execution_count": 98,
   "id": "f3ff58a6",
   "metadata": {},
   "outputs": [
    {
     "name": "stdout",
     "output_type": "stream",
     "text": [
      "180\n",
      "0.0005309581756591797\n"
     ]
    }
   ],
   "source": [
    "a = time()\n",
    "println(myfunc(9))\n",
    "b = time()\n",
    "println(b-a)"
   ]
  },
  {
   "cell_type": "code",
   "execution_count": 84,
   "id": "464afeaf",
   "metadata": {},
   "outputs": [
    {
     "name": "stdout",
     "output_type": "stream",
     "text": [
      "search: \u001b[0m\u001b[1mt\u001b[22m\u001b[0m\u001b[1mi\u001b[22m\u001b[0m\u001b[1mm\u001b[22m\u001b[0m\u001b[1me\u001b[22m \u001b[0m\u001b[1mT\u001b[22m\u001b[0m\u001b[1mi\u001b[22m\u001b[0m\u001b[1mm\u001b[22m\u001b[0m\u001b[1me\u001b[22mr \u001b[0m\u001b[1mt\u001b[22m\u001b[0m\u001b[1mi\u001b[22m\u001b[0m\u001b[1mm\u001b[22m\u001b[0m\u001b[1me\u001b[22m_ns \u001b[0m\u001b[1mt\u001b[22m\u001b[0m\u001b[1mi\u001b[22m\u001b[0m\u001b[1mm\u001b[22m\u001b[0m\u001b[1me\u001b[22mdwait m\u001b[0m\u001b[1mt\u001b[22m\u001b[0m\u001b[1mi\u001b[22m\u001b[0m\u001b[1mm\u001b[22m\u001b[0m\u001b[1me\u001b[22m c\u001b[0m\u001b[1mt\u001b[22m\u001b[0m\u001b[1mi\u001b[22m\u001b[0m\u001b[1mm\u001b[22m\u001b[0m\u001b[1me\u001b[22m @\u001b[0m\u001b[1mt\u001b[22m\u001b[0m\u001b[1mi\u001b[22m\u001b[0m\u001b[1mm\u001b[22m\u001b[0m\u001b[1me\u001b[22m @\u001b[0m\u001b[1mt\u001b[22m\u001b[0m\u001b[1mi\u001b[22m\u001b[0m\u001b[1mm\u001b[22m\u001b[0m\u001b[1me\u001b[22mv @\u001b[0m\u001b[1mt\u001b[22m\u001b[0m\u001b[1mi\u001b[22m\u001b[0m\u001b[1mm\u001b[22m\u001b[0m\u001b[1me\u001b[22md is\u001b[0m\u001b[1mt\u001b[22mextm\u001b[0m\u001b[1mi\u001b[22m\u001b[0m\u001b[1mm\u001b[22m\u001b[0m\u001b[1me\u001b[22m\n",
      "\n"
     ]
    },
    {
     "data": {
      "text/latex": [
       "\\begin{verbatim}\n",
       "time(t::TmStruct)\n",
       "\\end{verbatim}\n",
       "Converts a \\texttt{TmStruct} struct to a number of seconds since the epoch.\n",
       "\n",
       "\\rule{\\textwidth}{1pt}\n",
       "\\begin{verbatim}\n",
       "time()\n",
       "\\end{verbatim}\n",
       "Get the system time in seconds since the epoch, with fairly high (typically, microsecond) resolution.\n",
       "\n"
      ],
      "text/markdown": [
       "```\n",
       "time(t::TmStruct)\n",
       "```\n",
       "\n",
       "Converts a `TmStruct` struct to a number of seconds since the epoch.\n",
       "\n",
       "---\n",
       "\n",
       "```\n",
       "time()\n",
       "```\n",
       "\n",
       "Get the system time in seconds since the epoch, with fairly high (typically, microsecond) resolution.\n"
      ],
      "text/plain": [
       "\u001b[36m  time(t::TmStruct)\u001b[39m\n",
       "\n",
       "  Converts a \u001b[36mTmStruct\u001b[39m struct to a number of seconds since the epoch.\n",
       "\n",
       "  ────────────────────────────────────────────────────────────────────────────\n",
       "\n",
       "\u001b[36m  time()\u001b[39m\n",
       "\n",
       "  Get the system time in seconds since the epoch, with fairly high (typically,\n",
       "  microsecond) resolution."
      ]
     },
     "execution_count": 84,
     "metadata": {},
     "output_type": "execute_result"
    }
   ],
   "source": [
    "?time"
   ]
  },
  {
   "cell_type": "code",
   "execution_count": 96,
   "id": "195d3e8e",
   "metadata": {},
   "outputs": [
    {
     "name": "stdout",
     "output_type": "stream",
     "text": [
      "0.00022602081298828125\n"
     ]
    }
   ],
   "source": [
    "a = time()\n",
    "b = time()\n",
    "println(b-a)"
   ]
  },
  {
   "cell_type": "code",
   "execution_count": 100,
   "id": "8d2c8d43",
   "metadata": {},
   "outputs": [
    {
     "data": {
      "text/plain": [
       "addxtoy (generic function with 1 method)"
      ]
     },
     "execution_count": 100,
     "metadata": {},
     "output_type": "execute_result"
    }
   ],
   "source": [
    "addxtoy(x, y) = x + y"
   ]
  },
  {
   "cell_type": "code",
   "execution_count": 108,
   "id": "e1300a6a",
   "metadata": {},
   "outputs": [
    {
     "data": {
      "text/html": [
       "addxtoy(x, y) in Main at In[100]:1"
      ],
      "text/plain": [
       "addxtoy(x, y) in Main at In[100]:1"
      ]
     },
     "execution_count": 108,
     "metadata": {},
     "output_type": "execute_result"
    }
   ],
   "source": [
    "# a = time()\n",
    "@which addxtoy(33, 23.5)\n",
    "# b = time()\n",
    "# println(b-a)"
   ]
  },
  {
   "cell_type": "code",
   "execution_count": 107,
   "id": "3ecafa66",
   "metadata": {},
   "outputs": [
    {
     "data": {
      "text/html": [
       "+(x::<b>Number</b>, y::<b>Number</b>) in Base at <a href=\"https://github.com/JuliaLang/julia/tree/bf534986350a991e4a1b29126de0342ffd76205e/base/promotion.jl#L379\" target=\"_blank\">promotion.jl:379</a>"
      ],
      "text/plain": [
       "+(x::Number, y::Number) in Base at promotion.jl:379"
      ]
     },
     "execution_count": 107,
     "metadata": {},
     "output_type": "execute_result"
    }
   ],
   "source": [
    "# a = time()\n",
    "@which 33 + 23.5\n",
    "# b = time()\n",
    "# println(b-a)"
   ]
  },
  {
   "cell_type": "code",
   "execution_count": 141,
   "id": "e445b64a",
   "metadata": {},
   "outputs": [
    {
     "data": {
      "text/plain": [
       "factorialx (generic function with 2 methods)"
      ]
     },
     "execution_count": 141,
     "metadata": {},
     "output_type": "execute_result"
    }
   ],
   "source": [
    "function factorialx(x::Int64)\n",
    "    if x == 1 || x == 0\n",
    "        return 1\n",
    "    else\n",
    "        return x * factorialx(x-1)\n",
    "    end\n",
    "end"
   ]
  },
  {
   "cell_type": "code",
   "execution_count": 177,
   "id": "e3c7070c",
   "metadata": {},
   "outputs": [
    {
     "name": "stdout",
     "output_type": "stream",
     "text": [
      "0.00039196014404296875"
     ]
    }
   ],
   "source": [
    "a = time()\n",
    "factorialx(3)\n",
    "b = time()\n",
    "\n",
    "print(b-a)"
   ]
  },
  {
   "cell_type": "code",
   "execution_count": 201,
   "id": "cb6af5cc",
   "metadata": {},
   "outputs": [
    {
     "name": "stdout",
     "output_type": "stream",
     "text": [
      "0.00019693374633789062"
     ]
    }
   ],
   "source": [
    "a = time()\n",
    "factorial(3)\n",
    "b = time()\n",
    "\n",
    "print(b-a)"
   ]
  },
  {
   "cell_type": "code",
   "execution_count": 118,
   "id": "e643ee3b",
   "metadata": {},
   "outputs": [
    {
     "name": "stdout",
     "output_type": "stream",
     "text": [
      "search: \u001b[0m\u001b[1mi\u001b[22m\u001b[0m\u001b[1mf\u001b[22m \u001b[0m\u001b[1mi\u001b[22m\u001b[0m\u001b[1mf\u001b[22melse d\u001b[0m\u001b[1mi\u001b[22m\u001b[0m\u001b[1mf\u001b[22mf not\u001b[0m\u001b[1mi\u001b[22m\u001b[0m\u001b[1mf\u001b[22my mod\u001b[0m\u001b[1mi\u001b[22m\u001b[0m\u001b[1mf\u001b[22myfield! mod\u001b[0m\u001b[1mi\u001b[22m\u001b[0m\u001b[1mf\u001b[22myproperty! else\u001b[0m\u001b[1mi\u001b[22m\u001b[0m\u001b[1mf\u001b[22m symd\u001b[0m\u001b[1mi\u001b[22m\u001b[0m\u001b[1mf\u001b[22mf\n",
      "\n"
     ]
    },
    {
     "data": {
      "text/latex": [
       "\\begin{verbatim}\n",
       "if/elseif/else\n",
       "\\end{verbatim}\n",
       "\\texttt{if}/\\texttt{elseif}/\\texttt{else} performs conditional evaluation, which allows portions of code to be evaluated or not evaluated depending on the value of a boolean expression. Here is the anatomy of the \\texttt{if}/\\texttt{elseif}/\\texttt{else} conditional syntax:\n",
       "\n",
       "\\begin{verbatim}\n",
       "if x < y\n",
       "    println(\"x is less than y\")\n",
       "elseif x > y\n",
       "    println(\"x is greater than y\")\n",
       "else\n",
       "    println(\"x is equal to y\")\n",
       "end\n",
       "\\end{verbatim}\n",
       "If the condition expression \\texttt{x < y} is true, then the corresponding block is evaluated; otherwise the condition expression \\texttt{x > y} is evaluated, and if it is true, the corresponding block is evaluated; if neither expression is true, the \\texttt{else} block is evaluated. The \\texttt{elseif} and \\texttt{else} blocks are optional, and as many \\texttt{elseif} blocks as desired can be used.\n",
       "\n",
       "In contrast to some other languages conditions must be of type \\texttt{Bool}. It does not suffice for conditions to be convertible to \\texttt{Bool}.\n",
       "\n",
       "\\begin{verbatim}\n",
       "julia> if 1 end\n",
       "ERROR: TypeError: non-boolean (Int64) used in boolean context\n",
       "\\end{verbatim}\n"
      ],
      "text/markdown": [
       "```\n",
       "if/elseif/else\n",
       "```\n",
       "\n",
       "`if`/`elseif`/`else` performs conditional evaluation, which allows portions of code to be evaluated or not evaluated depending on the value of a boolean expression. Here is the anatomy of the `if`/`elseif`/`else` conditional syntax:\n",
       "\n",
       "```julia\n",
       "if x < y\n",
       "    println(\"x is less than y\")\n",
       "elseif x > y\n",
       "    println(\"x is greater than y\")\n",
       "else\n",
       "    println(\"x is equal to y\")\n",
       "end\n",
       "```\n",
       "\n",
       "If the condition expression `x < y` is true, then the corresponding block is evaluated; otherwise the condition expression `x > y` is evaluated, and if it is true, the corresponding block is evaluated; if neither expression is true, the `else` block is evaluated. The `elseif` and `else` blocks are optional, and as many `elseif` blocks as desired can be used.\n",
       "\n",
       "In contrast to some other languages conditions must be of type `Bool`. It does not suffice for conditions to be convertible to `Bool`.\n",
       "\n",
       "```jldoctest\n",
       "julia> if 1 end\n",
       "ERROR: TypeError: non-boolean (Int64) used in boolean context\n",
       "```\n"
      ],
      "text/plain": [
       "\u001b[36m  if/elseif/else\u001b[39m\n",
       "\n",
       "  \u001b[36mif\u001b[39m/\u001b[36melseif\u001b[39m/\u001b[36melse\u001b[39m performs conditional evaluation, which allows portions of\n",
       "  code to be evaluated or not evaluated depending on the value of a boolean\n",
       "  expression. Here is the anatomy of the \u001b[36mif\u001b[39m/\u001b[36melseif\u001b[39m/\u001b[36melse\u001b[39m conditional syntax:\n",
       "\n",
       "\u001b[36m  if x < y\u001b[39m\n",
       "\u001b[36m      println(\"x is less than y\")\u001b[39m\n",
       "\u001b[36m  elseif x > y\u001b[39m\n",
       "\u001b[36m      println(\"x is greater than y\")\u001b[39m\n",
       "\u001b[36m  else\u001b[39m\n",
       "\u001b[36m      println(\"x is equal to y\")\u001b[39m\n",
       "\u001b[36m  end\u001b[39m\n",
       "\n",
       "  If the condition expression \u001b[36mx < y\u001b[39m is true, then the corresponding block is\n",
       "  evaluated; otherwise the condition expression \u001b[36mx > y\u001b[39m is evaluated, and if it\n",
       "  is true, the corresponding block is evaluated; if neither expression is\n",
       "  true, the \u001b[36melse\u001b[39m block is evaluated. The \u001b[36melseif\u001b[39m and \u001b[36melse\u001b[39m blocks are optional,\n",
       "  and as many \u001b[36melseif\u001b[39m blocks as desired can be used.\n",
       "\n",
       "  In contrast to some other languages conditions must be of type \u001b[36mBool\u001b[39m. It does\n",
       "  not suffice for conditions to be convertible to \u001b[36mBool\u001b[39m.\n",
       "\n",
       "\u001b[36m  julia> if 1 end\u001b[39m\n",
       "\u001b[36m  ERROR: TypeError: non-boolean (Int64) used in boolean context\u001b[39m"
      ]
     },
     "execution_count": 118,
     "metadata": {},
     "output_type": "execute_result"
    }
   ],
   "source": [
    "?if"
   ]
  },
  {
   "cell_type": "code",
   "execution_count": 131,
   "id": "9b93007f",
   "metadata": {},
   "outputs": [
    {
     "data": {
      "text/plain": [
       "somew (generic function with 1 method)"
      ]
     },
     "execution_count": 131,
     "metadata": {},
     "output_type": "execute_result"
    }
   ],
   "source": [
    "function somew(x)\n",
    "    if x == 2\n",
    "        return 1\n",
    "    end\n",
    "end"
   ]
  },
  {
   "cell_type": "code",
   "execution_count": 134,
   "id": "b40a186f",
   "metadata": {},
   "outputs": [
    {
     "data": {
      "text/plain": [
       "1"
      ]
     },
     "execution_count": 134,
     "metadata": {},
     "output_type": "execute_result"
    }
   ],
   "source": [
    "somew(2)"
   ]
  },
  {
   "cell_type": "code",
   "execution_count": 140,
   "id": "bb2a3540",
   "metadata": {},
   "outputs": [
    {
     "data": {
      "text/plain": [
       "true"
      ]
     },
     "execution_count": 140,
     "metadata": {},
     "output_type": "execute_result"
    }
   ],
   "source": [
    "true || false"
   ]
  },
  {
   "cell_type": "code",
   "execution_count": 202,
   "id": "3bda44e4",
   "metadata": {},
   "outputs": [
    {
     "name": "stdout",
     "output_type": "stream",
     "text": [
      "search: \u001b[0m\u001b[1m/\u001b[22m \u001b[0m\u001b[1m/\u001b[22m/\n",
      "\n"
     ]
    },
    {
     "data": {
      "text/latex": [
       "\\begin{verbatim}\n",
       "/(x, y)\n",
       "\\end{verbatim}\n",
       "Right division operator: multiplication of \\texttt{x} by the inverse of \\texttt{y} on the right. Gives floating-point results for integer arguments.\n",
       "\n",
       "\\section{Examples}\n",
       "\\begin{verbatim}\n",
       "julia> 1/2\n",
       "0.5\n",
       "\n",
       "julia> 4/2\n",
       "2.0\n",
       "\n",
       "julia> 4.5/2\n",
       "2.25\n",
       "\\end{verbatim}\n"
      ],
      "text/markdown": [
       "```\n",
       "/(x, y)\n",
       "```\n",
       "\n",
       "Right division operator: multiplication of `x` by the inverse of `y` on the right. Gives floating-point results for integer arguments.\n",
       "\n",
       "# Examples\n",
       "\n",
       "```jldoctest\n",
       "julia> 1/2\n",
       "0.5\n",
       "\n",
       "julia> 4/2\n",
       "2.0\n",
       "\n",
       "julia> 4.5/2\n",
       "2.25\n",
       "```\n"
      ],
      "text/plain": [
       "\u001b[36m  /(x, y)\u001b[39m\n",
       "\n",
       "  Right division operator: multiplication of \u001b[36mx\u001b[39m by the inverse of \u001b[36my\u001b[39m on the\n",
       "  right. Gives floating-point results for integer arguments.\n",
       "\n",
       "\u001b[1m  Examples\u001b[22m\n",
       "\u001b[1m  ≡≡≡≡≡≡≡≡≡≡\u001b[22m\n",
       "\n",
       "\u001b[36m  julia> 1/2\u001b[39m\n",
       "\u001b[36m  0.5\u001b[39m\n",
       "\u001b[36m  \u001b[39m\n",
       "\u001b[36m  julia> 4/2\u001b[39m\n",
       "\u001b[36m  2.0\u001b[39m\n",
       "\u001b[36m  \u001b[39m\n",
       "\u001b[36m  julia> 4.5/2\u001b[39m\n",
       "\u001b[36m  2.25\u001b[39m"
      ]
     },
     "execution_count": 202,
     "metadata": {},
     "output_type": "execute_result"
    }
   ],
   "source": [
    "?/"
   ]
  },
  {
   "cell_type": "code",
   "execution_count": 203,
   "id": "42c853d8",
   "metadata": {},
   "outputs": [
    {
     "data": {
      "text/html": [
       "# 111 methods for generic function <b>/</b>:<ul><li> /(x::<b>Union{Int128, Int16, Int32, Int64, Int8, UInt128, UInt16, UInt32, UInt64, UInt8}</b>, y::<b>Union{Int128, Int16, Int32, Int64, Int8, UInt128, UInt16, UInt32, UInt64, UInt8}</b>) in Base at <a href=\"https://github.com/JuliaLang/julia/tree/bf534986350a991e4a1b29126de0342ffd76205e/base/int.jl#L93\" target=\"_blank\">int.jl:93</a></li> <li> /(x::<b>Union{Integer, Complex{<:Union{Integer, Rational}}}</b>, y::<b>Rational</b>) in Base at <a href=\"https://github.com/JuliaLang/julia/tree/bf534986350a991e4a1b29126de0342ffd76205e/base/rational.jl#L345\" target=\"_blank\">rational.jl:345</a></li> <li> /(x::<b>Union{Int16, Int32, Int64, Int8, UInt16, UInt32, UInt64, UInt8}</b>, y::<b>BigInt</b>) in Base.GMP at <a href=\"https://github.com/JuliaLang/julia/tree/bf534986350a991e4a1b29126de0342ffd76205e/base/gmp.jl#L545\" target=\"_blank\">gmp.jl:545</a></li> <li> /(c::<b>Union{UInt16, UInt32, UInt64, UInt8}</b>, x::<b>BigFloat</b>) in Base.MPFR at <a href=\"https://github.com/JuliaLang/julia/tree/bf534986350a991e4a1b29126de0342ffd76205e/base/mpfr.jl#L433\" target=\"_blank\">mpfr.jl:433</a></li> <li> /(c::<b>Union{Int16, Int32, Int64, Int8}</b>, x::<b>BigFloat</b>) in Base.MPFR at <a href=\"https://github.com/JuliaLang/julia/tree/bf534986350a991e4a1b29126de0342ffd76205e/base/mpfr.jl#L445\" target=\"_blank\">mpfr.jl:445</a></li> <li> /(c::<b>Union{Float16, Float32, Float64}</b>, x::<b>BigFloat</b>) in Base.MPFR at <a href=\"https://github.com/JuliaLang/julia/tree/bf534986350a991e4a1b29126de0342ffd76205e/base/mpfr.jl#L457\" target=\"_blank\">mpfr.jl:457</a></li> <li> /(A::<b>Union{LinearAlgebra.AbstractTriangular, StridedMatrix}</b>, D::<b>LinearAlgebra.Diagonal</b>) in LinearAlgebra at <a href=\"file:///buildworker/worker/package_linux64/build/usr/share/julia/stdlib/v1.7/LinearAlgebra/src/diagonal.jl\" target=\"_blank\">/home/hesed/julia-1.7.2/share/julia/stdlib/v1.7/LinearAlgebra/src/diagonal.jl:494</a></li> <li> /(X::<b>StridedArray{P}</b>, y::<b>P</b>)<i> where P<:Dates.Period</i> in Dates at <a href=\"file:///buildworker/worker/package_linux64/build/usr/share/julia/stdlib/v1.7/Dates/src/deprecated.jl\" target=\"_blank\">/home/hesed/julia-1.7.2/share/julia/stdlib/v1.7/Dates/src/deprecated.jl:44</a></li> <li> /(X::<b>StridedArray{P}</b>, y::<b>Real</b>)<i> where P<:Dates.Period</i> in Dates at <a href=\"file:///buildworker/worker/package_linux64/build/usr/share/julia/stdlib/v1.7/Dates/src/deprecated.jl\" target=\"_blank\">/home/hesed/julia-1.7.2/share/julia/stdlib/v1.7/Dates/src/deprecated.jl:44</a></li> <li> /(x::<b>Union{SparseArrays.SparseVector{Tv, Ti}, SubArray{Tv, 1, <:SparseArrays.AbstractSparseMatrixCSC{Tv, Ti}, Tuple{Base.Slice{Base.OneTo{Int64}}, Int64}, false}, SubArray{Tv, 1, <:SparseArrays.AbstractSparseVector{Tv, Ti}, Tuple{Base.Slice{Base.OneTo{Int64}}}, false}} where {Tv, Ti}</b>, a::<b>Number</b>) in SparseArrays at <a href=\"file:///buildworker/worker/package_linux64/build/usr/share/julia/stdlib/v1.7/SparseArrays/src/sparsevector.jl\" target=\"_blank\">/home/hesed/julia-1.7.2/share/julia/stdlib/v1.7/SparseArrays/src/sparsevector.jl:1476</a></li> <li> /(A::<b>LinearAlgebra.Bidiagonal</b>, B::<b>Number</b>) in LinearAlgebra at <a href=\"file:///buildworker/worker/package_linux64/build/usr/share/julia/stdlib/v1.7/LinearAlgebra/src/bidiag.jl\" target=\"_blank\">/home/hesed/julia-1.7.2/share/julia/stdlib/v1.7/LinearAlgebra/src/bidiag.jl:375</a></li> <li> /(A::<b>LinearAlgebra.UnitLowerTriangular</b>, x::<b>Number</b>) in LinearAlgebra at <a href=\"file:///buildworker/worker/package_linux64/build/usr/share/julia/stdlib/v1.7/LinearAlgebra/src/triangular.jl\" target=\"_blank\">/home/hesed/julia-1.7.2/share/julia/stdlib/v1.7/LinearAlgebra/src/triangular.jl:871</a></li> <li> /(A::<b>LinearAlgebra.UnitLowerTriangular</b>, B::<b>LinearAlgebra.LowerTriangular</b>) in LinearAlgebra at <a href=\"file:///buildworker/worker/package_linux64/build/usr/share/julia/stdlib/v1.7/LinearAlgebra/src/triangular.jl\" target=\"_blank\">/home/hesed/julia-1.7.2/share/julia/stdlib/v1.7/LinearAlgebra/src/triangular.jl:1579</a></li> <li> /(A::<b>LinearAlgebra.UnitLowerTriangular</b>, B::<b>LinearAlgebra.UnitLowerTriangular</b>) in LinearAlgebra at <a href=\"file:///buildworker/worker/package_linux64/build/usr/share/julia/stdlib/v1.7/LinearAlgebra/src/triangular.jl\" target=\"_blank\">/home/hesed/julia-1.7.2/share/julia/stdlib/v1.7/LinearAlgebra/src/triangular.jl:1593</a></li> <li> /(x::<b>Rational</b>, y::<b>Union{Integer, Complex{<:Union{Integer, Rational}}, Rational}</b>) in Base at <a href=\"https://github.com/JuliaLang/julia/tree/bf534986350a991e4a1b29126de0342ffd76205e/base/rational.jl#L344\" target=\"_blank\">rational.jl:344</a></li> <li> /(x::<b>Number</b>, B::<b>BitArray</b>) in Base at <a href=\"https://github.com/JuliaLang/julia/tree/bf534986350a991e4a1b29126de0342ffd76205e/base/bitarray.jl#L1201\" target=\"_blank\">bitarray.jl:1201</a></li> <li> /(::<b>Number</b>, ::<b>Missing</b>) in Base at <a href=\"https://github.com/JuliaLang/julia/tree/bf534986350a991e4a1b29126de0342ffd76205e/base/missing.jl#L124\" target=\"_blank\">missing.jl:124</a></li> <li> /(x::<b>Number</b>, v::<b>AbstractVector</b>) in LinearAlgebra at <a href=\"file:///buildworker/worker/package_linux64/build/usr/share/julia/stdlib/v1.7/LinearAlgebra/src/generic.jl\" target=\"_blank\">/home/hesed/julia-1.7.2/share/julia/stdlib/v1.7/LinearAlgebra/src/generic.jl:1154</a></li> <li> /(a::<b>R</b>, z::<b>S</b>)<i> where {R<:Real, S<:Complex}</i> in Base at <a href=\"https://github.com/JuliaLang/julia/tree/bf534986350a991e4a1b29126de0342ffd76205e/base/complex.jl#L345\" target=\"_blank\">complex.jl:345</a></li> <li> /(A::<b>LinearAlgebra.UpperTriangular</b>, x::<b>Number</b>) in LinearAlgebra at <a href=\"file:///buildworker/worker/package_linux64/build/usr/share/julia/stdlib/v1.7/LinearAlgebra/src/triangular.jl\" target=\"_blank\">/home/hesed/julia-1.7.2/share/julia/stdlib/v1.7/LinearAlgebra/src/triangular.jl:869</a></li> <li> /(A::<b>LinearAlgebra.UpperTriangular</b>, B::<b>LinearAlgebra.UpperTriangular</b>) in LinearAlgebra at <a href=\"file:///buildworker/worker/package_linux64/build/usr/share/julia/stdlib/v1.7/LinearAlgebra/src/triangular.jl\" target=\"_blank\">/home/hesed/julia-1.7.2/share/julia/stdlib/v1.7/LinearAlgebra/src/triangular.jl:1600</a></li> <li> /(A::<b>LinearAlgebra.UpperTriangular</b>, B::<b>LinearAlgebra.UnitUpperTriangular</b>) in LinearAlgebra at <a href=\"file:///buildworker/worker/package_linux64/build/usr/share/julia/stdlib/v1.7/LinearAlgebra/src/triangular.jl\" target=\"_blank\">/home/hesed/julia-1.7.2/share/julia/stdlib/v1.7/LinearAlgebra/src/triangular.jl:1614</a></li> <li> /(A::<b>LinearAlgebra.SymTridiagonal</b>, B::<b>Number</b>) in LinearAlgebra at <a href=\"file:///buildworker/worker/package_linux64/build/usr/share/julia/stdlib/v1.7/LinearAlgebra/src/tridiag.jl\" target=\"_blank\">/home/hesed/julia-1.7.2/share/julia/stdlib/v1.7/LinearAlgebra/src/tridiag.jl:213</a></li> <li> /(A::<b>LinearAlgebra.Symmetric</b>, x::<b>Number</b>) in LinearAlgebra at <a href=\"file:///buildworker/worker/package_linux64/build/usr/share/julia/stdlib/v1.7/LinearAlgebra/src/symmetric.jl\" target=\"_blank\">/home/hesed/julia-1.7.2/share/julia/stdlib/v1.7/LinearAlgebra/src/symmetric.jl:638</a></li> <li> /(B::<b>LinearAlgebra.Transpose{T, <:AbstractVector} where T</b>, F::<b>LinearAlgebra.Transpose{<:Any, <:LinearAlgebra.Factorization{<:Real}}</b>) in LinearAlgebra at <a href=\"file:///buildworker/worker/package_linux64/build/usr/share/julia/stdlib/v1.7/LinearAlgebra/src/factorization.jl\" target=\"_blank\">/home/hesed/julia-1.7.2/share/julia/stdlib/v1.7/LinearAlgebra/src/factorization.jl:141</a></li> <li> /(B::<b>LinearAlgebra.Transpose{T, <:AbstractVector} where T</b>, F::<b>LinearAlgebra.Transpose{<:Any, <:LinearAlgebra.Factorization}</b>) in LinearAlgebra at <a href=\"file:///buildworker/worker/package_linux64/build/usr/share/julia/stdlib/v1.7/LinearAlgebra/src/factorization.jl\" target=\"_blank\">/home/hesed/julia-1.7.2/share/julia/stdlib/v1.7/LinearAlgebra/src/factorization.jl:143</a></li> <li> /(u::<b>LinearAlgebra.Transpose{T, <:AbstractVector} where T</b>, A::<b>LinearAlgebra.Adjoint{<:Any, <:AbstractMatrix}</b>) in LinearAlgebra at <a href=\"file:///buildworker/worker/package_linux64/build/usr/share/julia/stdlib/v1.7/LinearAlgebra/src/adjtrans.jl\" target=\"_blank\">/home/hesed/julia-1.7.2/share/julia/stdlib/v1.7/LinearAlgebra/src/adjtrans.jl:323</a></li> <li> /(trA::<b>LinearAlgebra.Transpose{<:Any, <:AbstractVector}</b>, F::<b>LinearAlgebra.Adjoint{<:Any, <:LinearAlgebra.LU}</b>) in LinearAlgebra at <a href=\"file:///buildworker/worker/package_linux64/build/usr/share/julia/stdlib/v1.7/LinearAlgebra/src/lu.jl\" target=\"_blank\">/home/hesed/julia-1.7.2/share/julia/stdlib/v1.7/LinearAlgebra/src/lu.jl:443</a></li> <li> /(B::<b>LinearAlgebra.Transpose{T, <:AbstractVector} where T</b>, adjF::<b>LinearAlgebra.Adjoint{<:Any, <:LinearAlgebra.Factorization}</b>) in LinearAlgebra at <a href=\"file:///buildworker/worker/package_linux64/build/usr/share/julia/stdlib/v1.7/LinearAlgebra/src/factorization.jl\" target=\"_blank\">/home/hesed/julia-1.7.2/share/julia/stdlib/v1.7/LinearAlgebra/src/factorization.jl:118</a></li> <li> /(trA::<b>LinearAlgebra.Transpose{<:Any, <:AbstractMatrix}</b>, F::<b>LinearAlgebra.Adjoint{<:Any, <:LinearAlgebra.LU}</b>) in LinearAlgebra at <a href=\"file:///buildworker/worker/package_linux64/build/usr/share/julia/stdlib/v1.7/LinearAlgebra/src/lu.jl\" target=\"_blank\">/home/hesed/julia-1.7.2/share/julia/stdlib/v1.7/LinearAlgebra/src/lu.jl:447</a></li> <li> /(u::<b>LinearAlgebra.Transpose{T, <:AbstractVector} where T</b>, A::<b>LinearAlgebra.LowerTriangular{<:Any, <:LinearAlgebra.Transpose}</b>) in LinearAlgebra at <a href=\"file:///buildworker/worker/package_linux64/build/usr/share/julia/stdlib/v1.7/LinearAlgebra/src/triangular.jl\" target=\"_blank\">/home/hesed/julia-1.7.2/share/julia/stdlib/v1.7/LinearAlgebra/src/triangular.jl:2587</a></li> <li> /(u::<b>LinearAlgebra.Transpose{T, <:AbstractVector} where T</b>, A::<b>LinearAlgebra.LowerTriangular{<:Any, <:LinearAlgebra.Adjoint}</b>) in LinearAlgebra at <a href=\"file:///buildworker/worker/package_linux64/build/usr/share/julia/stdlib/v1.7/LinearAlgebra/src/triangular.jl\" target=\"_blank\">/home/hesed/julia-1.7.2/share/julia/stdlib/v1.7/LinearAlgebra/src/triangular.jl:2586</a></li> <li> /(u::<b>LinearAlgebra.Transpose{T, <:AbstractVector} where T</b>, A::<b>LinearAlgebra.UnitLowerTriangular{<:Any, <:LinearAlgebra.Transpose}</b>) in LinearAlgebra at <a href=\"file:///buildworker/worker/package_linux64/build/usr/share/julia/stdlib/v1.7/LinearAlgebra/src/triangular.jl\" target=\"_blank\">/home/hesed/julia-1.7.2/share/julia/stdlib/v1.7/LinearAlgebra/src/triangular.jl:2587</a></li> <li> /(u::<b>LinearAlgebra.Transpose{T, <:AbstractVector} where T</b>, A::<b>LinearAlgebra.UnitLowerTriangular{<:Any, <:LinearAlgebra.Adjoint}</b>) in LinearAlgebra at <a href=\"file:///buildworker/worker/package_linux64/build/usr/share/julia/stdlib/v1.7/LinearAlgebra/src/triangular.jl\" target=\"_blank\">/home/hesed/julia-1.7.2/share/julia/stdlib/v1.7/LinearAlgebra/src/triangular.jl:2586</a></li> <li> /(u::<b>LinearAlgebra.Transpose{T, <:AbstractVector} where T</b>, A::<b>LinearAlgebra.UnitUpperTriangular{<:Any, <:LinearAlgebra.Transpose}</b>) in LinearAlgebra at <a href=\"file:///buildworker/worker/package_linux64/build/usr/share/julia/stdlib/v1.7/LinearAlgebra/src/triangular.jl\" target=\"_blank\">/home/hesed/julia-1.7.2/share/julia/stdlib/v1.7/LinearAlgebra/src/triangular.jl:2587</a></li> <li> /(u::<b>LinearAlgebra.Transpose{T, <:AbstractVector} where T</b>, A::<b>LinearAlgebra.UnitUpperTriangular{<:Any, <:LinearAlgebra.Adjoint}</b>) in LinearAlgebra at <a href=\"file:///buildworker/worker/package_linux64/build/usr/share/julia/stdlib/v1.7/LinearAlgebra/src/triangular.jl\" target=\"_blank\">/home/hesed/julia-1.7.2/share/julia/stdlib/v1.7/LinearAlgebra/src/triangular.jl:2586</a></li> <li> /(u::<b>LinearAlgebra.Transpose{T, <:AbstractVector} where T</b>, A::<b>Union{LinearAlgebra.UnitLowerTriangular, LinearAlgebra.UnitUpperTriangular}</b>) in LinearAlgebra at <a href=\"file:///buildworker/worker/package_linux64/build/usr/share/julia/stdlib/v1.7/LinearAlgebra/src/triangular.jl\" target=\"_blank\">/home/hesed/julia-1.7.2/share/julia/stdlib/v1.7/LinearAlgebra/src/triangular.jl:2580</a></li> <li> /(u::<b>LinearAlgebra.Transpose{T, <:AbstractVector} where T</b>, A::<b>LinearAlgebra.UpperTriangular{<:Any, <:LinearAlgebra.Transpose}</b>) in LinearAlgebra at <a href=\"file:///buildworker/worker/package_linux64/build/usr/share/julia/stdlib/v1.7/LinearAlgebra/src/triangular.jl\" target=\"_blank\">/home/hesed/julia-1.7.2/share/julia/stdlib/v1.7/LinearAlgebra/src/triangular.jl:2587</a></li> <li> /(u::<b>LinearAlgebra.Transpose{T, <:AbstractVector} where T</b>, A::<b>LinearAlgebra.UpperTriangular{<:Any, <:LinearAlgebra.Adjoint}</b>) in LinearAlgebra at <a href=\"file:///buildworker/worker/package_linux64/build/usr/share/julia/stdlib/v1.7/LinearAlgebra/src/triangular.jl\" target=\"_blank\">/home/hesed/julia-1.7.2/share/julia/stdlib/v1.7/LinearAlgebra/src/triangular.jl:2586</a></li> <li> /(u::<b>LinearAlgebra.Transpose{T, <:AbstractVector} where T</b>, A::<b>Union{LinearAlgebra.LowerTriangular, LinearAlgebra.UpperTriangular}</b>) in LinearAlgebra at <a href=\"file:///buildworker/worker/package_linux64/build/usr/share/julia/stdlib/v1.7/LinearAlgebra/src/triangular.jl\" target=\"_blank\">/home/hesed/julia-1.7.2/share/julia/stdlib/v1.7/LinearAlgebra/src/triangular.jl:2579</a></li> <li> /(u::<b>LinearAlgebra.Transpose{T, <:AbstractVector} where T</b>, A::<b>AbstractMatrix</b>) in LinearAlgebra at <a href=\"file:///buildworker/worker/package_linux64/build/usr/share/julia/stdlib/v1.7/LinearAlgebra/src/adjtrans.jl\" target=\"_blank\">/home/hesed/julia-1.7.2/share/julia/stdlib/v1.7/LinearAlgebra/src/adjtrans.jl:321</a></li> <li> /(z::<b>Complex</b>, x::<b>Real</b>) in Base at <a href=\"https://github.com/JuliaLang/julia/tree/bf534986350a991e4a1b29126de0342ffd76205e/base/complex.jl#L346\" target=\"_blank\">complex.jl:346</a></li> <li> /(A::<b>LinearAlgebra.LowerTriangular</b>, x::<b>Number</b>) in LinearAlgebra at <a href=\"file:///buildworker/worker/package_linux64/build/usr/share/julia/stdlib/v1.7/LinearAlgebra/src/triangular.jl\" target=\"_blank\">/home/hesed/julia-1.7.2/share/julia/stdlib/v1.7/LinearAlgebra/src/triangular.jl:869</a></li> <li> /(A::<b>LinearAlgebra.LowerTriangular</b>, B::<b>LinearAlgebra.LowerTriangular</b>) in LinearAlgebra at <a href=\"file:///buildworker/worker/package_linux64/build/usr/share/julia/stdlib/v1.7/LinearAlgebra/src/triangular.jl\" target=\"_blank\">/home/hesed/julia-1.7.2/share/julia/stdlib/v1.7/LinearAlgebra/src/triangular.jl:1572</a></li> <li> /(A::<b>LinearAlgebra.LowerTriangular</b>, B::<b>LinearAlgebra.UnitLowerTriangular</b>) in LinearAlgebra at <a href=\"file:///buildworker/worker/package_linux64/build/usr/share/julia/stdlib/v1.7/LinearAlgebra/src/triangular.jl\" target=\"_blank\">/home/hesed/julia-1.7.2/share/julia/stdlib/v1.7/LinearAlgebra/src/triangular.jl:1586</a></li> <li> /(A::<b>LinearAlgebra.Hermitian</b>, x::<b>Real</b>) in LinearAlgebra at <a href=\"file:///buildworker/worker/package_linux64/build/usr/share/julia/stdlib/v1.7/LinearAlgebra/src/symmetric.jl\" target=\"_blank\">/home/hesed/julia-1.7.2/share/julia/stdlib/v1.7/LinearAlgebra/src/symmetric.jl:639</a></li> <li> /(H::<b>LinearAlgebra.UpperHessenberg</b>, x::<b>Number</b>) in LinearAlgebra at <a href=\"file:///buildworker/worker/package_linux64/build/usr/share/julia/stdlib/v1.7/LinearAlgebra/src/hessenberg.jl\" target=\"_blank\">/home/hesed/julia-1.7.2/share/julia/stdlib/v1.7/LinearAlgebra/src/hessenberg.jl:116</a></li> <li> /(H::<b>LinearAlgebra.UpperHessenberg</b>, x::<b>LinearAlgebra.UniformScaling</b>) in LinearAlgebra at <a href=\"file:///buildworker/worker/package_linux64/build/usr/share/julia/stdlib/v1.7/LinearAlgebra/src/hessenberg.jl\" target=\"_blank\">/home/hesed/julia-1.7.2/share/julia/stdlib/v1.7/LinearAlgebra/src/hessenberg.jl:116</a></li> <li> /(A::<b>AbstractMatrix</b>, J::<b>LinearAlgebra.UniformScaling</b>) in LinearAlgebra at <a href=\"file:///buildworker/worker/package_linux64/build/usr/share/julia/stdlib/v1.7/LinearAlgebra/src/uniformscaling.jl\" target=\"_blank\">/home/hesed/julia-1.7.2/share/julia/stdlib/v1.7/LinearAlgebra/src/uniformscaling.jl:270</a></li> <li> /(v::<b>AbstractVector</b>, J::<b>LinearAlgebra.UniformScaling</b>) in LinearAlgebra at <a href=\"file:///buildworker/worker/package_linux64/build/usr/share/julia/stdlib/v1.7/LinearAlgebra/src/uniformscaling.jl\" target=\"_blank\">/home/hesed/julia-1.7.2/share/julia/stdlib/v1.7/LinearAlgebra/src/uniformscaling.jl:271</a></li> <li> /(H::<b>LinearAlgebra.UpperHessenberg</b>, x::<b>LinearAlgebra.Diagonal</b>) in LinearAlgebra at <a href=\"file:///buildworker/worker/package_linux64/build/usr/share/julia/stdlib/v1.7/LinearAlgebra/src/hessenberg.jl\" target=\"_blank\">/home/hesed/julia-1.7.2/share/julia/stdlib/v1.7/LinearAlgebra/src/hessenberg.jl:116</a></li> <li> /(H::<b>LinearAlgebra.UpperHessenberg</b>, U::<b>LinearAlgebra.UpperTriangular</b>) in LinearAlgebra at <a href=\"file:///buildworker/worker/package_linux64/build/usr/share/julia/stdlib/v1.7/LinearAlgebra/src/hessenberg.jl\" target=\"_blank\">/home/hesed/julia-1.7.2/share/julia/stdlib/v1.7/LinearAlgebra/src/hessenberg.jl:136</a></li> <li> /(H::<b>LinearAlgebra.UpperHessenberg</b>, U::<b>LinearAlgebra.UnitUpperTriangular</b>) in LinearAlgebra at <a href=\"file:///buildworker/worker/package_linux64/build/usr/share/julia/stdlib/v1.7/LinearAlgebra/src/hessenberg.jl\" target=\"_blank\">/home/hesed/julia-1.7.2/share/julia/stdlib/v1.7/LinearAlgebra/src/hessenberg.jl:143</a></li> <li> /(H::<b>LinearAlgebra.UpperHessenberg</b>, B::<b>LinearAlgebra.Bidiagonal</b>) in LinearAlgebra at <a href=\"file:///buildworker/worker/package_linux64/build/usr/share/julia/stdlib/v1.7/LinearAlgebra/src/hessenberg.jl\" target=\"_blank\">/home/hesed/julia-1.7.2/share/julia/stdlib/v1.7/LinearAlgebra/src/hessenberg.jl:183</a></li> <li> /(x::<b>AbstractIrrational</b>, y::<b>AbstractIrrational</b>) in Base at <a href=\"https://github.com/JuliaLang/julia/tree/bf534986350a991e4a1b29126de0342ffd76205e/base/irrationals.jl#L158\" target=\"_blank\">irrationals.jl:158</a></li> <li> /(x::<b>Base.TwicePrecision</b>, v::<b>Number</b>) in Base at <a href=\"https://github.com/JuliaLang/julia/tree/bf534986350a991e4a1b29126de0342ffd76205e/base/twiceprecision.jl#L315\" target=\"_blank\">twiceprecision.jl:315</a></li> <li> /(x::<b>Base.TwicePrecision</b>, y::<b>Base.TwicePrecision</b>) in Base at <a href=\"https://github.com/JuliaLang/julia/tree/bf534986350a991e4a1b29126de0342ffd76205e/base/twiceprecision.jl#L319\" target=\"_blank\">twiceprecision.jl:319</a></li> <li> /(u::<b>LinearAlgebra.Adjoint{T, <:AbstractVector} where T</b>, A::<b>LinearAlgebra.Transpose{<:Any, <:AbstractMatrix}</b>) in LinearAlgebra at <a href=\"file:///buildworker/worker/package_linux64/build/usr/share/julia/stdlib/v1.7/LinearAlgebra/src/adjtrans.jl\" target=\"_blank\">/home/hesed/julia-1.7.2/share/julia/stdlib/v1.7/LinearAlgebra/src/adjtrans.jl:322</a></li> <li> /(u::<b>LinearAlgebra.Adjoint{T, <:AbstractVector} where T</b>, A::<b>Union{LinearAlgebra.LowerTriangular, LinearAlgebra.UpperTriangular}</b>) in LinearAlgebra at <a href=\"file:///buildworker/worker/package_linux64/build/usr/share/julia/stdlib/v1.7/LinearAlgebra/src/triangular.jl\" target=\"_blank\">/home/hesed/julia-1.7.2/share/julia/stdlib/v1.7/LinearAlgebra/src/triangular.jl:2576</a></li> <li> /(u::<b>LinearAlgebra.Adjoint{T, <:AbstractVector} where T</b>, A::<b>Union{LinearAlgebra.UnitLowerTriangular, LinearAlgebra.UnitUpperTriangular}</b>) in LinearAlgebra at <a href=\"file:///buildworker/worker/package_linux64/build/usr/share/julia/stdlib/v1.7/LinearAlgebra/src/triangular.jl\" target=\"_blank\">/home/hesed/julia-1.7.2/share/julia/stdlib/v1.7/LinearAlgebra/src/triangular.jl:2577</a></li> <li> /(B::<b>LinearAlgebra.Adjoint{T, <:AbstractVector} where T</b>, F::<b>LinearAlgebra.Transpose{<:Any, <:LinearAlgebra.Factorization{<:Real}}</b>) in LinearAlgebra at <a href=\"file:///buildworker/worker/package_linux64/build/usr/share/julia/stdlib/v1.7/LinearAlgebra/src/factorization.jl\" target=\"_blank\">/home/hesed/julia-1.7.2/share/julia/stdlib/v1.7/LinearAlgebra/src/factorization.jl:140</a></li> <li> /(B::<b>AbstractMatrix</b>, F::<b>LinearAlgebra.Transpose{<:Any, <:LinearAlgebra.Factorization{<:Real}}</b>) in LinearAlgebra at <a href=\"file:///buildworker/worker/package_linux64/build/usr/share/julia/stdlib/v1.7/LinearAlgebra/src/factorization.jl\" target=\"_blank\">/home/hesed/julia-1.7.2/share/julia/stdlib/v1.7/LinearAlgebra/src/factorization.jl:138</a></li> <li> /(B::<b>LinearAlgebra.Adjoint{T, <:AbstractVector} where T</b>, F::<b>LinearAlgebra.Transpose{<:Any, <:LinearAlgebra.Factorization}</b>) in LinearAlgebra at <a href=\"file:///buildworker/worker/package_linux64/build/usr/share/julia/stdlib/v1.7/LinearAlgebra/src/factorization.jl\" target=\"_blank\">/home/hesed/julia-1.7.2/share/julia/stdlib/v1.7/LinearAlgebra/src/factorization.jl:142</a></li> <li> /(B::<b>AbstractMatrix</b>, F::<b>LinearAlgebra.Transpose{<:Any, <:LinearAlgebra.Factorization}</b>) in LinearAlgebra at <a href=\"file:///buildworker/worker/package_linux64/build/usr/share/julia/stdlib/v1.7/LinearAlgebra/src/factorization.jl\" target=\"_blank\">/home/hesed/julia-1.7.2/share/julia/stdlib/v1.7/LinearAlgebra/src/factorization.jl:139</a></li> <li> /(adjA::<b>LinearAlgebra.Adjoint{<:Any, <:AbstractVector}</b>, F::<b>LinearAlgebra.Adjoint{<:Any, <:LinearAlgebra.LU}</b>) in LinearAlgebra at <a href=\"file:///buildworker/worker/package_linux64/build/usr/share/julia/stdlib/v1.7/LinearAlgebra/src/lu.jl\" target=\"_blank\">/home/hesed/julia-1.7.2/share/julia/stdlib/v1.7/LinearAlgebra/src/lu.jl:441</a></li> <li> /(adjB::<b>LinearAlgebra.Adjoint{T, <:AbstractVector} where T</b>, adjF::<b>LinearAlgebra.Adjoint{<:Any, <:LinearAlgebra.Factorization}</b>) in LinearAlgebra at <a href=\"file:///buildworker/worker/package_linux64/build/usr/share/julia/stdlib/v1.7/LinearAlgebra/src/factorization.jl\" target=\"_blank\">/home/hesed/julia-1.7.2/share/julia/stdlib/v1.7/LinearAlgebra/src/factorization.jl:117</a></li> <li> /(u::<b>LinearAlgebra.Adjoint{T, <:AbstractVector} where T</b>, A::<b>AbstractMatrix</b>) in LinearAlgebra at <a href=\"file:///buildworker/worker/package_linux64/build/usr/share/julia/stdlib/v1.7/LinearAlgebra/src/adjtrans.jl\" target=\"_blank\">/home/hesed/julia-1.7.2/share/julia/stdlib/v1.7/LinearAlgebra/src/adjtrans.jl:320</a></li> <li> /(adjA::<b>LinearAlgebra.Adjoint{<:Any, <:AbstractMatrix}</b>, F::<b>LinearAlgebra.Adjoint{<:Any, <:LinearAlgebra.LU}</b>) in LinearAlgebra at <a href=\"file:///buildworker/worker/package_linux64/build/usr/share/julia/stdlib/v1.7/LinearAlgebra/src/lu.jl\" target=\"_blank\">/home/hesed/julia-1.7.2/share/julia/stdlib/v1.7/LinearAlgebra/src/lu.jl:442</a></li> <li> /(A::<b>AbstractMatrix</b>, F::<b>LinearAlgebra.Adjoint{<:Any, <:LinearAlgebra.LU}</b>) in LinearAlgebra at <a href=\"file:///buildworker/worker/package_linux64/build/usr/share/julia/stdlib/v1.7/LinearAlgebra/src/lu.jl\" target=\"_blank\">/home/hesed/julia-1.7.2/share/julia/stdlib/v1.7/LinearAlgebra/src/lu.jl:436</a></li> <li> /(A::<b>LinearAlgebra.UnitUpperTriangular</b>, x::<b>Number</b>) in LinearAlgebra at <a href=\"file:///buildworker/worker/package_linux64/build/usr/share/julia/stdlib/v1.7/LinearAlgebra/src/triangular.jl\" target=\"_blank\">/home/hesed/julia-1.7.2/share/julia/stdlib/v1.7/LinearAlgebra/src/triangular.jl:871</a></li> <li> /(A::<b>LinearAlgebra.UnitUpperTriangular</b>, B::<b>LinearAlgebra.UpperTriangular</b>) in LinearAlgebra at <a href=\"file:///buildworker/worker/package_linux64/build/usr/share/julia/stdlib/v1.7/LinearAlgebra/src/triangular.jl\" target=\"_blank\">/home/hesed/julia-1.7.2/share/julia/stdlib/v1.7/LinearAlgebra/src/triangular.jl:1607</a></li> <li> /(A::<b>AbstractVector</b>, B::<b>Union{LinearAlgebra.LowerTriangular, LinearAlgebra.UpperTriangular}</b>) in LinearAlgebra at <a href=\"file:///buildworker/worker/package_linux64/build/usr/share/julia/stdlib/v1.7/LinearAlgebra/src/triangular.jl\" target=\"_blank\">/home/hesed/julia-1.7.2/share/julia/stdlib/v1.7/LinearAlgebra/src/triangular.jl:1672</a></li> <li> /(A::<b>AbstractMatrix</b>, B::<b>Union{LinearAlgebra.LowerTriangular, LinearAlgebra.UpperTriangular}</b>) in LinearAlgebra at <a href=\"file:///buildworker/worker/package_linux64/build/usr/share/julia/stdlib/v1.7/LinearAlgebra/src/triangular.jl\" target=\"_blank\">/home/hesed/julia-1.7.2/share/julia/stdlib/v1.7/LinearAlgebra/src/triangular.jl:1672</a></li> <li> /(A::<b>LinearAlgebra.UnitUpperTriangular</b>, B::<b>LinearAlgebra.UnitUpperTriangular</b>) in LinearAlgebra at <a href=\"file:///buildworker/worker/package_linux64/build/usr/share/julia/stdlib/v1.7/LinearAlgebra/src/triangular.jl\" target=\"_blank\">/home/hesed/julia-1.7.2/share/julia/stdlib/v1.7/LinearAlgebra/src/triangular.jl:1621</a></li> <li> /(A::<b>AbstractVector</b>, B::<b>Union{LinearAlgebra.UnitLowerTriangular, LinearAlgebra.UnitUpperTriangular}</b>) in LinearAlgebra at <a href=\"file:///buildworker/worker/package_linux64/build/usr/share/julia/stdlib/v1.7/LinearAlgebra/src/triangular.jl\" target=\"_blank\">/home/hesed/julia-1.7.2/share/julia/stdlib/v1.7/LinearAlgebra/src/triangular.jl:1664</a></li> <li> /(A::<b>AbstractMatrix</b>, B::<b>Union{LinearAlgebra.UnitLowerTriangular, LinearAlgebra.UnitUpperTriangular}</b>) in LinearAlgebra at <a href=\"file:///buildworker/worker/package_linux64/build/usr/share/julia/stdlib/v1.7/LinearAlgebra/src/triangular.jl\" target=\"_blank\">/home/hesed/julia-1.7.2/share/julia/stdlib/v1.7/LinearAlgebra/src/triangular.jl:1664</a></li> <li> /(A::<b>SparseArrays.AbstractSparseMatrixCSC</b>, D::<b>LinearAlgebra.Diagonal</b>) in SparseArrays at <a href=\"file:///buildworker/worker/package_linux64/build/usr/share/julia/stdlib/v1.7/SparseArrays/src/linalg.jl\" target=\"_blank\">/home/hesed/julia-1.7.2/share/julia/stdlib/v1.7/SparseArrays/src/linalg.jl:152</a></li> <li> /(D::<b>LinearAlgebra.Diagonal</b>, x::<b>Number</b>) in LinearAlgebra at <a href=\"file:///buildworker/worker/package_linux64/build/usr/share/julia/stdlib/v1.7/LinearAlgebra/src/diagonal.jl\" target=\"_blank\">/home/hesed/julia-1.7.2/share/julia/stdlib/v1.7/LinearAlgebra/src/diagonal.jl:192</a></li> <li> /(Da::<b>LinearAlgebra.Diagonal</b>, Db::<b>LinearAlgebra.Diagonal</b>) in LinearAlgebra at <a href=\"file:///buildworker/worker/package_linux64/build/usr/share/julia/stdlib/v1.7/LinearAlgebra/src/diagonal.jl\" target=\"_blank\">/home/hesed/julia-1.7.2/share/julia/stdlib/v1.7/LinearAlgebra/src/diagonal.jl:451</a></li> <li> /(J1::<b>LinearAlgebra.UniformScaling</b>, J2::<b>LinearAlgebra.UniformScaling</b>) in LinearAlgebra at <a href=\"file:///buildworker/worker/package_linux64/build/usr/share/julia/stdlib/v1.7/LinearAlgebra/src/uniformscaling.jl\" target=\"_blank\">/home/hesed/julia-1.7.2/share/julia/stdlib/v1.7/LinearAlgebra/src/uniformscaling.jl:267</a></li> <li> /(J::<b>LinearAlgebra.UniformScaling</b>, A::<b>AbstractMatrix</b>) in LinearAlgebra at <a href=\"file:///buildworker/worker/package_linux64/build/usr/share/julia/stdlib/v1.7/LinearAlgebra/src/uniformscaling.jl\" target=\"_blank\">/home/hesed/julia-1.7.2/share/julia/stdlib/v1.7/LinearAlgebra/src/uniformscaling.jl:268</a></li> <li> /(J::<b>LinearAlgebra.UniformScaling</b>, x::<b>Number</b>) in LinearAlgebra at <a href=\"file:///buildworker/worker/package_linux64/build/usr/share/julia/stdlib/v1.7/LinearAlgebra/src/uniformscaling.jl\" target=\"_blank\">/home/hesed/julia-1.7.2/share/julia/stdlib/v1.7/LinearAlgebra/src/uniformscaling.jl:273</a></li> <li> /(r::<b>AbstractRange{<:P}</b>, x::<b>P</b>)<i> where P<:Dates.Period</i> in Dates at <a href=\"file:///buildworker/worker/package_linux64/build/usr/share/julia/stdlib/v1.7/Dates/src/ranges.jl\" target=\"_blank\">/home/hesed/julia-1.7.2/share/julia/stdlib/v1.7/Dates/src/ranges.jl:67</a></li> <li> /(B::<b>Union{Array{Complex{T}, 1}, Array{Complex{T}, 2}}</b>, F::<b>LinearAlgebra.Factorization{T}</b>)<i> where T<:Union{Float32, Float64}</i> in LinearAlgebra at <a href=\"file:///buildworker/worker/package_linux64/build/usr/share/julia/stdlib/v1.7/LinearAlgebra/src/factorization.jl\" target=\"_blank\">/home/hesed/julia-1.7.2/share/julia/stdlib/v1.7/LinearAlgebra/src/factorization.jl:96</a></li> <li> /(B::<b>AbstractMatrix</b>, F::<b>Union{LinearAlgebra.Adjoint{<:Any, <:LinearAlgebra.Factorization}, LinearAlgebra.Factorization}</b>) in LinearAlgebra at <a href=\"file:///buildworker/worker/package_linux64/build/usr/share/julia/stdlib/v1.7/LinearAlgebra/src/factorization.jl\" target=\"_blank\">/home/hesed/julia-1.7.2/share/julia/stdlib/v1.7/LinearAlgebra/src/factorization.jl:110</a></li> <li> /(A::<b>LinearAlgebra.Tridiagonal</b>, B::<b>Number</b>) in LinearAlgebra at <a href=\"file:///buildworker/worker/package_linux64/build/usr/share/julia/stdlib/v1.7/LinearAlgebra/src/tridiag.jl\" target=\"_blank\">/home/hesed/julia-1.7.2/share/julia/stdlib/v1.7/LinearAlgebra/src/tridiag.jl:744</a></li> <li> /(A::<b>Union{BitMatrix, BitVector}</b>, B::<b>Union{BitMatrix, BitVector}</b>) in Base at <a href=\"https://github.com/JuliaLang/julia/tree/bf534986350a991e4a1b29126de0342ffd76205e/base/bitarray.jl#L1197\" target=\"_blank\">bitarray.jl:1197</a></li> <li> /(A::<b>AbstractVecOrMat</b>, B::<b>AbstractVecOrMat</b>) in LinearAlgebra at <a href=\"file:///buildworker/worker/package_linux64/build/usr/share/julia/stdlib/v1.7/LinearAlgebra/src/generic.jl\" target=\"_blank\">/home/hesed/julia-1.7.2/share/julia/stdlib/v1.7/LinearAlgebra/src/generic.jl:1148</a></li> <li> /(B::<b>BitArray</b>, x::<b>Number</b>) in Base at <a href=\"https://github.com/JuliaLang/julia/tree/bf534986350a991e4a1b29126de0342ffd76205e/base/bitarray.jl#L1200\" target=\"_blank\">bitarray.jl:1200</a></li> <li> /(r::<b>StepRangeLen{<:Real, <:Base.TwicePrecision}</b>, x::<b>Real</b>) in Base at <a href=\"https://github.com/JuliaLang/julia/tree/bf534986350a991e4a1b29126de0342ffd76205e/base/twiceprecision.jl#L524\" target=\"_blank\">twiceprecision.jl:524</a></li> <li> /(A::<b>AbstractArray</b>, B::<b>Number</b>) in Base at <a href=\"https://github.com/JuliaLang/julia/tree/bf534986350a991e4a1b29126de0342ffd76205e/base/arraymath.jl#L55\" target=\"_blank\">arraymath.jl:55</a></li> <li> /(x::<b>P</b>, y::<b>P</b>)<i> where P<:Dates.Period</i> in Dates at <a href=\"file:///buildworker/worker/package_linux64/build/usr/share/julia/stdlib/v1.7/Dates/src/periods.jl\" target=\"_blank\">/home/hesed/julia-1.7.2/share/julia/stdlib/v1.7/Dates/src/periods.jl:82</a></li> <li> /(x::<b>P</b>, y::<b>Real</b>)<i> where P<:Dates.Period</i> in Dates at <a href=\"file:///buildworker/worker/package_linux64/build/usr/share/julia/stdlib/v1.7/Dates/src/periods.jl\" target=\"_blank\">/home/hesed/julia-1.7.2/share/julia/stdlib/v1.7/Dates/src/periods.jl:83</a></li> <li> /(x::<b>BigFloat</b>, c::<b>Union{UInt16, UInt32, UInt64, UInt8}</b>) in Base.MPFR at <a href=\"https://github.com/JuliaLang/julia/tree/bf534986350a991e4a1b29126de0342ffd76205e/base/mpfr.jl#L428\" target=\"_blank\">mpfr.jl:428</a></li> <li> /(x::<b>BigFloat</b>, c::<b>Union{Int16, Int32, Int64, Int8}</b>) in Base.MPFR at <a href=\"https://github.com/JuliaLang/julia/tree/bf534986350a991e4a1b29126de0342ffd76205e/base/mpfr.jl#L440\" target=\"_blank\">mpfr.jl:440</a></li> <li> /(x::<b>BigFloat</b>, c::<b>Union{Float16, Float32, Float64}</b>) in Base.MPFR at <a href=\"https://github.com/JuliaLang/julia/tree/bf534986350a991e4a1b29126de0342ffd76205e/base/mpfr.jl#L452\" target=\"_blank\">mpfr.jl:452</a></li> <li> /(x::<b>BigFloat</b>, y::<b>BigFloat</b>) in Base.MPFR at <a href=\"https://github.com/JuliaLang/julia/tree/bf534986350a991e4a1b29126de0342ffd76205e/base/mpfr.jl#L421\" target=\"_blank\">mpfr.jl:421</a></li> <li> /(x::<b>BigFloat</b>, c::<b>BigInt</b>) in Base.MPFR at <a href=\"https://github.com/JuliaLang/julia/tree/bf534986350a991e4a1b29126de0342ffd76205e/base/mpfr.jl#L464\" target=\"_blank\">mpfr.jl:464</a></li> <li> /(x::<b>BigInt</b>, y::<b>Union{Int16, Int32, Int64, Int8, UInt16, UInt32, UInt64, UInt8}</b>) in Base.GMP at <a href=\"https://github.com/JuliaLang/julia/tree/bf534986350a991e4a1b29126de0342ffd76205e/base/gmp.jl#L544\" target=\"_blank\">gmp.jl:544</a></li> <li> /(x::<b>BigInt</b>, y::<b>BigInt</b>) in Base.GMP at <a href=\"https://github.com/JuliaLang/julia/tree/bf534986350a991e4a1b29126de0342ffd76205e/base/gmp.jl#L495\" target=\"_blank\">gmp.jl:495</a></li> <li> /(x::<b>T</b>, y::<b>T</b>)<i> where T<:Integer</i> in Base at <a href=\"https://github.com/JuliaLang/julia/tree/bf534986350a991e4a1b29126de0342ffd76205e/base/int.jl#L91\" target=\"_blank\">int.jl:91</a></li> <li> /(z::<b>ComplexF64</b>, w::<b>ComplexF64</b>) in Base at <a href=\"https://github.com/JuliaLang/julia/tree/bf534986350a991e4a1b29126de0342ffd76205e/base/complex.jl#L381\" target=\"_blank\">complex.jl:381</a></li> <li> /(z::<b>Complex{T}</b>, w::<b>Complex{T}</b>)<i> where T<:Union{Float16, Float32}</i> in Base at <a href=\"https://github.com/JuliaLang/julia/tree/bf534986350a991e4a1b29126de0342ffd76205e/base/complex.jl#L372\" target=\"_blank\">complex.jl:372</a></li> <li> /(a::<b>Complex{T}</b>, b::<b>Complex{T}</b>)<i> where T<:Real</i> in Base at <a href=\"https://github.com/JuliaLang/julia/tree/bf534986350a991e4a1b29126de0342ffd76205e/base/complex.jl#L348\" target=\"_blank\">complex.jl:348</a></li> <li> /(x::<b>Float16</b>, y::<b>Float16</b>) in Base at <a href=\"https://github.com/JuliaLang/julia/tree/bf534986350a991e4a1b29126de0342ffd76205e/base/float.jl#L406\" target=\"_blank\">float.jl:406</a></li> <li> /(::<b>Missing</b>, ::<b>Number</b>) in Base at <a href=\"https://github.com/JuliaLang/julia/tree/bf534986350a991e4a1b29126de0342ffd76205e/base/missing.jl#L123\" target=\"_blank\">missing.jl:123</a></li> <li> /(::<b>Missing</b>, ::<b>Missing</b>) in Base at <a href=\"https://github.com/JuliaLang/julia/tree/bf534986350a991e4a1b29126de0342ffd76205e/base/missing.jl#L122\" target=\"_blank\">missing.jl:122</a></li> <li> /(x::<b>Float64</b>, y::<b>Float64</b>) in Base at <a href=\"https://github.com/JuliaLang/julia/tree/bf534986350a991e4a1b29126de0342ffd76205e/base/float.jl#L408\" target=\"_blank\">float.jl:408</a></li> <li> /(x::<b>Float32</b>, y::<b>Float32</b>) in Base at <a href=\"https://github.com/JuliaLang/julia/tree/bf534986350a991e4a1b29126de0342ffd76205e/base/float.jl#L407\" target=\"_blank\">float.jl:407</a></li> <li> /(x::<b>T</b>, y::<b>T</b>)<i> where T<:Number</i> in Base at <a href=\"https://github.com/JuliaLang/julia/tree/bf534986350a991e4a1b29126de0342ffd76205e/base/promotion.jl#L457\" target=\"_blank\">promotion.jl:457</a></li> <li> /(x::<b>Number</b>, y::<b>Number</b>) in Base at <a href=\"https://github.com/JuliaLang/julia/tree/bf534986350a991e4a1b29126de0342ffd76205e/base/promotion.jl#L382\" target=\"_blank\">promotion.jl:382</a></li> </ul>"
      ],
      "text/plain": [
       "# 111 methods for generic function \"/\":\n",
       "[1] /(x::Union{Int128, Int16, Int32, Int64, Int8, UInt128, UInt16, UInt32, UInt64, UInt8}, y::Union{Int128, Int16, Int32, Int64, Int8, UInt128, UInt16, UInt32, UInt64, UInt8}) in Base at int.jl:93\n",
       "[2] /(x::Union{Integer, Complex{<:Union{Integer, Rational}}}, y::Rational) in Base at rational.jl:345\n",
       "[3] /(x::Union{Int16, Int32, Int64, Int8, UInt16, UInt32, UInt64, UInt8}, y::BigInt) in Base.GMP at gmp.jl:545\n",
       "[4] /(c::Union{UInt16, UInt32, UInt64, UInt8}, x::BigFloat) in Base.MPFR at mpfr.jl:433\n",
       "[5] /(c::Union{Int16, Int32, Int64, Int8}, x::BigFloat) in Base.MPFR at mpfr.jl:445\n",
       "[6] /(c::Union{Float16, Float32, Float64}, x::BigFloat) in Base.MPFR at mpfr.jl:457\n",
       "[7] /(A::Union{LinearAlgebra.AbstractTriangular, StridedMatrix}, D::LinearAlgebra.Diagonal) in LinearAlgebra at /home/hesed/julia-1.7.2/share/julia/stdlib/v1.7/LinearAlgebra/src/diagonal.jl:494\n",
       "[8] /(X::StridedArray{P}, y::P) where P<:Dates.Period in Dates at /home/hesed/julia-1.7.2/share/julia/stdlib/v1.7/Dates/src/deprecated.jl:44\n",
       "[9] /(X::StridedArray{P}, y::Real) where P<:Dates.Period in Dates at /home/hesed/julia-1.7.2/share/julia/stdlib/v1.7/Dates/src/deprecated.jl:44\n",
       "[10] /(x::Union{SparseArrays.SparseVector{Tv, Ti}, SubArray{Tv, 1, <:SparseArrays.AbstractSparseMatrixCSC{Tv, Ti}, Tuple{Base.Slice{Base.OneTo{Int64}}, Int64}, false}, SubArray{Tv, 1, <:SparseArrays.AbstractSparseVector{Tv, Ti}, Tuple{Base.Slice{Base.OneTo{Int64}}}, false}} where {Tv, Ti}, a::Number) in SparseArrays at /home/hesed/julia-1.7.2/share/julia/stdlib/v1.7/SparseArrays/src/sparsevector.jl:1476\n",
       "[11] /(A::LinearAlgebra.Bidiagonal, B::Number) in LinearAlgebra at /home/hesed/julia-1.7.2/share/julia/stdlib/v1.7/LinearAlgebra/src/bidiag.jl:375\n",
       "[12] /(A::LinearAlgebra.UnitLowerTriangular, x::Number) in LinearAlgebra at /home/hesed/julia-1.7.2/share/julia/stdlib/v1.7/LinearAlgebra/src/triangular.jl:871\n",
       "[13] /(A::LinearAlgebra.UnitLowerTriangular, B::LinearAlgebra.LowerTriangular) in LinearAlgebra at /home/hesed/julia-1.7.2/share/julia/stdlib/v1.7/LinearAlgebra/src/triangular.jl:1579\n",
       "[14] /(A::LinearAlgebra.UnitLowerTriangular, B::LinearAlgebra.UnitLowerTriangular) in LinearAlgebra at /home/hesed/julia-1.7.2/share/julia/stdlib/v1.7/LinearAlgebra/src/triangular.jl:1593\n",
       "[15] /(x::Rational, y::Union{Integer, Complex{<:Union{Integer, Rational}}, Rational}) in Base at rational.jl:344\n",
       "[16] /(x::Number, B::BitArray) in Base at bitarray.jl:1201\n",
       "[17] /(::Number, ::Missing) in Base at missing.jl:124\n",
       "[18] /(x::Number, v::AbstractVector) in LinearAlgebra at /home/hesed/julia-1.7.2/share/julia/stdlib/v1.7/LinearAlgebra/src/generic.jl:1154\n",
       "[19] /(a::R, z::S) where {R<:Real, S<:Complex} in Base at complex.jl:345\n",
       "[20] /(A::LinearAlgebra.UpperTriangular, x::Number) in LinearAlgebra at /home/hesed/julia-1.7.2/share/julia/stdlib/v1.7/LinearAlgebra/src/triangular.jl:869\n",
       "[21] /(A::LinearAlgebra.UpperTriangular, B::LinearAlgebra.UpperTriangular) in LinearAlgebra at /home/hesed/julia-1.7.2/share/julia/stdlib/v1.7/LinearAlgebra/src/triangular.jl:1600\n",
       "[22] /(A::LinearAlgebra.UpperTriangular, B::LinearAlgebra.UnitUpperTriangular) in LinearAlgebra at /home/hesed/julia-1.7.2/share/julia/stdlib/v1.7/LinearAlgebra/src/triangular.jl:1614\n",
       "[23] /(A::LinearAlgebra.SymTridiagonal, B::Number) in LinearAlgebra at /home/hesed/julia-1.7.2/share/julia/stdlib/v1.7/LinearAlgebra/src/tridiag.jl:213\n",
       "[24] /(A::LinearAlgebra.Symmetric, x::Number) in LinearAlgebra at /home/hesed/julia-1.7.2/share/julia/stdlib/v1.7/LinearAlgebra/src/symmetric.jl:638\n",
       "[25] /(B::LinearAlgebra.Transpose{T, <:AbstractVector} where T, F::LinearAlgebra.Transpose{<:Any, <:LinearAlgebra.Factorization{<:Real}}) in LinearAlgebra at /home/hesed/julia-1.7.2/share/julia/stdlib/v1.7/LinearAlgebra/src/factorization.jl:141\n",
       "[26] /(B::LinearAlgebra.Transpose{T, <:AbstractVector} where T, F::LinearAlgebra.Transpose{<:Any, <:LinearAlgebra.Factorization}) in LinearAlgebra at /home/hesed/julia-1.7.2/share/julia/stdlib/v1.7/LinearAlgebra/src/factorization.jl:143\n",
       "[27] /(u::LinearAlgebra.Transpose{T, <:AbstractVector} where T, A::LinearAlgebra.Adjoint{<:Any, <:AbstractMatrix}) in LinearAlgebra at /home/hesed/julia-1.7.2/share/julia/stdlib/v1.7/LinearAlgebra/src/adjtrans.jl:323\n",
       "[28] /(trA::LinearAlgebra.Transpose{<:Any, <:AbstractVector}, F::LinearAlgebra.Adjoint{<:Any, <:LinearAlgebra.LU}) in LinearAlgebra at /home/hesed/julia-1.7.2/share/julia/stdlib/v1.7/LinearAlgebra/src/lu.jl:443\n",
       "[29] /(B::LinearAlgebra.Transpose{T, <:AbstractVector} where T, adjF::LinearAlgebra.Adjoint{<:Any, <:LinearAlgebra.Factorization}) in LinearAlgebra at /home/hesed/julia-1.7.2/share/julia/stdlib/v1.7/LinearAlgebra/src/factorization.jl:118\n",
       "[30] /(trA::LinearAlgebra.Transpose{<:Any, <:AbstractMatrix}, F::LinearAlgebra.Adjoint{<:Any, <:LinearAlgebra.LU}) in LinearAlgebra at /home/hesed/julia-1.7.2/share/julia/stdlib/v1.7/LinearAlgebra/src/lu.jl:447\n",
       "[31] /(u::LinearAlgebra.Transpose{T, <:AbstractVector} where T, A::LinearAlgebra.LowerTriangular{<:Any, <:LinearAlgebra.Transpose}) in LinearAlgebra at /home/hesed/julia-1.7.2/share/julia/stdlib/v1.7/LinearAlgebra/src/triangular.jl:2587\n",
       "[32] /(u::LinearAlgebra.Transpose{T, <:AbstractVector} where T, A::LinearAlgebra.LowerTriangular{<:Any, <:LinearAlgebra.Adjoint}) in LinearAlgebra at /home/hesed/julia-1.7.2/share/julia/stdlib/v1.7/LinearAlgebra/src/triangular.jl:2586\n",
       "[33] /(u::LinearAlgebra.Transpose{T, <:AbstractVector} where T, A::LinearAlgebra.UnitLowerTriangular{<:Any, <:LinearAlgebra.Transpose}) in LinearAlgebra at /home/hesed/julia-1.7.2/share/julia/stdlib/v1.7/LinearAlgebra/src/triangular.jl:2587\n",
       "[34] /(u::LinearAlgebra.Transpose{T, <:AbstractVector} where T, A::LinearAlgebra.UnitLowerTriangular{<:Any, <:LinearAlgebra.Adjoint}) in LinearAlgebra at /home/hesed/julia-1.7.2/share/julia/stdlib/v1.7/LinearAlgebra/src/triangular.jl:2586\n",
       "[35] /(u::LinearAlgebra.Transpose{T, <:AbstractVector} where T, A::LinearAlgebra.UnitUpperTriangular{<:Any, <:LinearAlgebra.Transpose}) in LinearAlgebra at /home/hesed/julia-1.7.2/share/julia/stdlib/v1.7/LinearAlgebra/src/triangular.jl:2587\n",
       "[36] /(u::LinearAlgebra.Transpose{T, <:AbstractVector} where T, A::LinearAlgebra.UnitUpperTriangular{<:Any, <:LinearAlgebra.Adjoint}) in LinearAlgebra at /home/hesed/julia-1.7.2/share/julia/stdlib/v1.7/LinearAlgebra/src/triangular.jl:2586\n",
       "[37] /(u::LinearAlgebra.Transpose{T, <:AbstractVector} where T, A::Union{LinearAlgebra.UnitLowerTriangular, LinearAlgebra.UnitUpperTriangular}) in LinearAlgebra at /home/hesed/julia-1.7.2/share/julia/stdlib/v1.7/LinearAlgebra/src/triangular.jl:2580\n",
       "[38] /(u::LinearAlgebra.Transpose{T, <:AbstractVector} where T, A::LinearAlgebra.UpperTriangular{<:Any, <:LinearAlgebra.Transpose}) in LinearAlgebra at /home/hesed/julia-1.7.2/share/julia/stdlib/v1.7/LinearAlgebra/src/triangular.jl:2587\n",
       "[39] /(u::LinearAlgebra.Transpose{T, <:AbstractVector} where T, A::LinearAlgebra.UpperTriangular{<:Any, <:LinearAlgebra.Adjoint}) in LinearAlgebra at /home/hesed/julia-1.7.2/share/julia/stdlib/v1.7/LinearAlgebra/src/triangular.jl:2586\n",
       "[40] /(u::LinearAlgebra.Transpose{T, <:AbstractVector} where T, A::Union{LinearAlgebra.LowerTriangular, LinearAlgebra.UpperTriangular}) in LinearAlgebra at /home/hesed/julia-1.7.2/share/julia/stdlib/v1.7/LinearAlgebra/src/triangular.jl:2579\n",
       "[41] /(u::LinearAlgebra.Transpose{T, <:AbstractVector} where T, A::AbstractMatrix) in LinearAlgebra at /home/hesed/julia-1.7.2/share/julia/stdlib/v1.7/LinearAlgebra/src/adjtrans.jl:321\n",
       "[42] /(z::Complex, x::Real) in Base at complex.jl:346\n",
       "[43] /(A::LinearAlgebra.LowerTriangular, x::Number) in LinearAlgebra at /home/hesed/julia-1.7.2/share/julia/stdlib/v1.7/LinearAlgebra/src/triangular.jl:869\n",
       "[44] /(A::LinearAlgebra.LowerTriangular, B::LinearAlgebra.LowerTriangular) in LinearAlgebra at /home/hesed/julia-1.7.2/share/julia/stdlib/v1.7/LinearAlgebra/src/triangular.jl:1572\n",
       "[45] /(A::LinearAlgebra.LowerTriangular, B::LinearAlgebra.UnitLowerTriangular) in LinearAlgebra at /home/hesed/julia-1.7.2/share/julia/stdlib/v1.7/LinearAlgebra/src/triangular.jl:1586\n",
       "[46] /(A::LinearAlgebra.Hermitian, x::Real) in LinearAlgebra at /home/hesed/julia-1.7.2/share/julia/stdlib/v1.7/LinearAlgebra/src/symmetric.jl:639\n",
       "[47] /(H::LinearAlgebra.UpperHessenberg, x::Number) in LinearAlgebra at /home/hesed/julia-1.7.2/share/julia/stdlib/v1.7/LinearAlgebra/src/hessenberg.jl:116\n",
       "[48] /(H::LinearAlgebra.UpperHessenberg, x::LinearAlgebra.UniformScaling) in LinearAlgebra at /home/hesed/julia-1.7.2/share/julia/stdlib/v1.7/LinearAlgebra/src/hessenberg.jl:116\n",
       "[49] /(A::AbstractMatrix, J::LinearAlgebra.UniformScaling) in LinearAlgebra at /home/hesed/julia-1.7.2/share/julia/stdlib/v1.7/LinearAlgebra/src/uniformscaling.jl:270\n",
       "[50] /(v::AbstractVector, J::LinearAlgebra.UniformScaling) in LinearAlgebra at /home/hesed/julia-1.7.2/share/julia/stdlib/v1.7/LinearAlgebra/src/uniformscaling.jl:271\n",
       "[51] /(H::LinearAlgebra.UpperHessenberg, x::LinearAlgebra.Diagonal) in LinearAlgebra at /home/hesed/julia-1.7.2/share/julia/stdlib/v1.7/LinearAlgebra/src/hessenberg.jl:116\n",
       "[52] /(H::LinearAlgebra.UpperHessenberg, U::LinearAlgebra.UpperTriangular) in LinearAlgebra at /home/hesed/julia-1.7.2/share/julia/stdlib/v1.7/LinearAlgebra/src/hessenberg.jl:136\n",
       "[53] /(H::LinearAlgebra.UpperHessenberg, U::LinearAlgebra.UnitUpperTriangular) in LinearAlgebra at /home/hesed/julia-1.7.2/share/julia/stdlib/v1.7/LinearAlgebra/src/hessenberg.jl:143\n",
       "[54] /(H::LinearAlgebra.UpperHessenberg, B::LinearAlgebra.Bidiagonal) in LinearAlgebra at /home/hesed/julia-1.7.2/share/julia/stdlib/v1.7/LinearAlgebra/src/hessenberg.jl:183\n",
       "[55] /(x::AbstractIrrational, y::AbstractIrrational) in Base at irrationals.jl:158\n",
       "[56] /(x::Base.TwicePrecision, v::Number) in Base at twiceprecision.jl:315\n",
       "[57] /(x::Base.TwicePrecision, y::Base.TwicePrecision) in Base at twiceprecision.jl:319\n",
       "[58] /(u::LinearAlgebra.Adjoint{T, <:AbstractVector} where T, A::LinearAlgebra.Transpose{<:Any, <:AbstractMatrix}) in LinearAlgebra at /home/hesed/julia-1.7.2/share/julia/stdlib/v1.7/LinearAlgebra/src/adjtrans.jl:322\n",
       "[59] /(u::LinearAlgebra.Adjoint{T, <:AbstractVector} where T, A::Union{LinearAlgebra.LowerTriangular, LinearAlgebra.UpperTriangular}) in LinearAlgebra at /home/hesed/julia-1.7.2/share/julia/stdlib/v1.7/LinearAlgebra/src/triangular.jl:2576\n",
       "[60] /(u::LinearAlgebra.Adjoint{T, <:AbstractVector} where T, A::Union{LinearAlgebra.UnitLowerTriangular, LinearAlgebra.UnitUpperTriangular}) in LinearAlgebra at /home/hesed/julia-1.7.2/share/julia/stdlib/v1.7/LinearAlgebra/src/triangular.jl:2577\n",
       "[61] /(B::LinearAlgebra.Adjoint{T, <:AbstractVector} where T, F::LinearAlgebra.Transpose{<:Any, <:LinearAlgebra.Factorization{<:Real}}) in LinearAlgebra at /home/hesed/julia-1.7.2/share/julia/stdlib/v1.7/LinearAlgebra/src/factorization.jl:140\n",
       "[62] /(B::AbstractMatrix, F::LinearAlgebra.Transpose{<:Any, <:LinearAlgebra.Factorization{<:Real}}) in LinearAlgebra at /home/hesed/julia-1.7.2/share/julia/stdlib/v1.7/LinearAlgebra/src/factorization.jl:138\n",
       "[63] /(B::LinearAlgebra.Adjoint{T, <:AbstractVector} where T, F::LinearAlgebra.Transpose{<:Any, <:LinearAlgebra.Factorization}) in LinearAlgebra at /home/hesed/julia-1.7.2/share/julia/stdlib/v1.7/LinearAlgebra/src/factorization.jl:142\n",
       "[64] /(B::AbstractMatrix, F::LinearAlgebra.Transpose{<:Any, <:LinearAlgebra.Factorization}) in LinearAlgebra at /home/hesed/julia-1.7.2/share/julia/stdlib/v1.7/LinearAlgebra/src/factorization.jl:139\n",
       "[65] /(adjA::LinearAlgebra.Adjoint{<:Any, <:AbstractVector}, F::LinearAlgebra.Adjoint{<:Any, <:LinearAlgebra.LU}) in LinearAlgebra at /home/hesed/julia-1.7.2/share/julia/stdlib/v1.7/LinearAlgebra/src/lu.jl:441\n",
       "[66] /(adjB::LinearAlgebra.Adjoint{T, <:AbstractVector} where T, adjF::LinearAlgebra.Adjoint{<:Any, <:LinearAlgebra.Factorization}) in LinearAlgebra at /home/hesed/julia-1.7.2/share/julia/stdlib/v1.7/LinearAlgebra/src/factorization.jl:117\n",
       "[67] /(u::LinearAlgebra.Adjoint{T, <:AbstractVector} where T, A::AbstractMatrix) in LinearAlgebra at /home/hesed/julia-1.7.2/share/julia/stdlib/v1.7/LinearAlgebra/src/adjtrans.jl:320\n",
       "[68] /(adjA::LinearAlgebra.Adjoint{<:Any, <:AbstractMatrix}, F::LinearAlgebra.Adjoint{<:Any, <:LinearAlgebra.LU}) in LinearAlgebra at /home/hesed/julia-1.7.2/share/julia/stdlib/v1.7/LinearAlgebra/src/lu.jl:442\n",
       "[69] /(A::AbstractMatrix, F::LinearAlgebra.Adjoint{<:Any, <:LinearAlgebra.LU}) in LinearAlgebra at /home/hesed/julia-1.7.2/share/julia/stdlib/v1.7/LinearAlgebra/src/lu.jl:436\n",
       "[70] /(A::LinearAlgebra.UnitUpperTriangular, x::Number) in LinearAlgebra at /home/hesed/julia-1.7.2/share/julia/stdlib/v1.7/LinearAlgebra/src/triangular.jl:871\n",
       "[71] /(A::LinearAlgebra.UnitUpperTriangular, B::LinearAlgebra.UpperTriangular) in LinearAlgebra at /home/hesed/julia-1.7.2/share/julia/stdlib/v1.7/LinearAlgebra/src/triangular.jl:1607\n",
       "[72] /(A::AbstractVector, B::Union{LinearAlgebra.LowerTriangular, LinearAlgebra.UpperTriangular}) in LinearAlgebra at /home/hesed/julia-1.7.2/share/julia/stdlib/v1.7/LinearAlgebra/src/triangular.jl:1672\n",
       "[73] /(A::AbstractMatrix, B::Union{LinearAlgebra.LowerTriangular, LinearAlgebra.UpperTriangular}) in LinearAlgebra at /home/hesed/julia-1.7.2/share/julia/stdlib/v1.7/LinearAlgebra/src/triangular.jl:1672\n",
       "[74] /(A::LinearAlgebra.UnitUpperTriangular, B::LinearAlgebra.UnitUpperTriangular) in LinearAlgebra at /home/hesed/julia-1.7.2/share/julia/stdlib/v1.7/LinearAlgebra/src/triangular.jl:1621\n",
       "[75] /(A::AbstractVector, B::Union{LinearAlgebra.UnitLowerTriangular, LinearAlgebra.UnitUpperTriangular}) in LinearAlgebra at /home/hesed/julia-1.7.2/share/julia/stdlib/v1.7/LinearAlgebra/src/triangular.jl:1664\n",
       "[76] /(A::AbstractMatrix, B::Union{LinearAlgebra.UnitLowerTriangular, LinearAlgebra.UnitUpperTriangular}) in LinearAlgebra at /home/hesed/julia-1.7.2/share/julia/stdlib/v1.7/LinearAlgebra/src/triangular.jl:1664\n",
       "[77] /(A::SparseArrays.AbstractSparseMatrixCSC, D::LinearAlgebra.Diagonal) in SparseArrays at /home/hesed/julia-1.7.2/share/julia/stdlib/v1.7/SparseArrays/src/linalg.jl:152\n",
       "[78] /(D::LinearAlgebra.Diagonal, x::Number) in LinearAlgebra at /home/hesed/julia-1.7.2/share/julia/stdlib/v1.7/LinearAlgebra/src/diagonal.jl:192\n",
       "[79] /(Da::LinearAlgebra.Diagonal, Db::LinearAlgebra.Diagonal) in LinearAlgebra at /home/hesed/julia-1.7.2/share/julia/stdlib/v1.7/LinearAlgebra/src/diagonal.jl:451\n",
       "[80] /(J1::LinearAlgebra.UniformScaling, J2::LinearAlgebra.UniformScaling) in LinearAlgebra at /home/hesed/julia-1.7.2/share/julia/stdlib/v1.7/LinearAlgebra/src/uniformscaling.jl:267\n",
       "[81] /(J::LinearAlgebra.UniformScaling, A::AbstractMatrix) in LinearAlgebra at /home/hesed/julia-1.7.2/share/julia/stdlib/v1.7/LinearAlgebra/src/uniformscaling.jl:268\n",
       "[82] /(J::LinearAlgebra.UniformScaling, x::Number) in LinearAlgebra at /home/hesed/julia-1.7.2/share/julia/stdlib/v1.7/LinearAlgebra/src/uniformscaling.jl:273\n",
       "[83] /(r::AbstractRange{<:P}, x::P) where P<:Dates.Period in Dates at /home/hesed/julia-1.7.2/share/julia/stdlib/v1.7/Dates/src/ranges.jl:67\n",
       "[84] /(B::Union{Array{Complex{T}, 1}, Array{Complex{T}, 2}}, F::LinearAlgebra.Factorization{T}) where T<:Union{Float32, Float64} in LinearAlgebra at /home/hesed/julia-1.7.2/share/julia/stdlib/v1.7/LinearAlgebra/src/factorization.jl:96\n",
       "[85] /(B::AbstractMatrix, F::Union{LinearAlgebra.Adjoint{<:Any, <:LinearAlgebra.Factorization}, LinearAlgebra.Factorization}) in LinearAlgebra at /home/hesed/julia-1.7.2/share/julia/stdlib/v1.7/LinearAlgebra/src/factorization.jl:110\n",
       "[86] /(A::LinearAlgebra.Tridiagonal, B::Number) in LinearAlgebra at /home/hesed/julia-1.7.2/share/julia/stdlib/v1.7/LinearAlgebra/src/tridiag.jl:744\n",
       "[87] /(A::Union{BitMatrix, BitVector}, B::Union{BitMatrix, BitVector}) in Base at bitarray.jl:1197\n",
       "[88] /(A::AbstractVecOrMat, B::AbstractVecOrMat) in LinearAlgebra at /home/hesed/julia-1.7.2/share/julia/stdlib/v1.7/LinearAlgebra/src/generic.jl:1148\n",
       "[89] /(B::BitArray, x::Number) in Base at bitarray.jl:1200\n",
       "[90] /(r::StepRangeLen{<:Real, <:Base.TwicePrecision}, x::Real) in Base at twiceprecision.jl:524\n",
       "[91] /(A::AbstractArray, B::Number) in Base at arraymath.jl:55\n",
       "[92] /(x::P, y::P) where P<:Dates.Period in Dates at /home/hesed/julia-1.7.2/share/julia/stdlib/v1.7/Dates/src/periods.jl:82\n",
       "[93] /(x::P, y::Real) where P<:Dates.Period in Dates at /home/hesed/julia-1.7.2/share/julia/stdlib/v1.7/Dates/src/periods.jl:83\n",
       "[94] /(x::BigFloat, c::Union{UInt16, UInt32, UInt64, UInt8}) in Base.MPFR at mpfr.jl:428\n",
       "[95] /(x::BigFloat, c::Union{Int16, Int32, Int64, Int8}) in Base.MPFR at mpfr.jl:440\n",
       "[96] /(x::BigFloat, c::Union{Float16, Float32, Float64}) in Base.MPFR at mpfr.jl:452\n",
       "[97] /(x::BigFloat, y::BigFloat) in Base.MPFR at mpfr.jl:421\n",
       "[98] /(x::BigFloat, c::BigInt) in Base.MPFR at mpfr.jl:464\n",
       "[99] /(x::BigInt, y::Union{Int16, Int32, Int64, Int8, UInt16, UInt32, UInt64, UInt8}) in Base.GMP at gmp.jl:544\n",
       "[100] /(x::BigInt, y::BigInt) in Base.GMP at gmp.jl:495\n",
       "[101] /(x::T, y::T) where T<:Integer in Base at int.jl:91\n",
       "[102] /(z::ComplexF64, w::ComplexF64) in Base at complex.jl:381\n",
       "[103] /(z::Complex{T}, w::Complex{T}) where T<:Union{Float16, Float32} in Base at complex.jl:372\n",
       "[104] /(a::Complex{T}, b::Complex{T}) where T<:Real in Base at complex.jl:348\n",
       "[105] /(x::Float16, y::Float16) in Base at float.jl:406\n",
       "[106] /(::Missing, ::Number) in Base at missing.jl:123\n",
       "[107] /(::Missing, ::Missing) in Base at missing.jl:122\n",
       "[108] /(x::Float64, y::Float64) in Base at float.jl:408\n",
       "[109] /(x::Float32, y::Float32) in Base at float.jl:407\n",
       "[110] /(x::T, y::T) where T<:Number in Base at promotion.jl:457\n",
       "[111] /(x::Number, y::Number) in Base at promotion.jl:382"
      ]
     },
     "execution_count": 203,
     "metadata": {},
     "output_type": "execute_result"
    }
   ],
   "source": [
    "methods(/)"
   ]
  },
  {
   "cell_type": "code",
   "execution_count": 208,
   "id": "67562021",
   "metadata": {},
   "outputs": [
    {
     "data": {
      "text/plain": [
       "true"
      ]
     },
     "execution_count": 208,
     "metadata": {},
     "output_type": "execute_result"
    }
   ],
   "source": [
    "60 \\ 5040 == 5040 / 60"
   ]
  },
  {
   "cell_type": "code",
   "execution_count": 206,
   "id": "fbac4a1a",
   "metadata": {},
   "outputs": [
    {
     "data": {
      "text/html": [
       "# 135 methods for generic function <b>\\</b>:<ul><li> \\(A::<b>Union{LinearAlgebra.QR{T, S} where S<:AbstractMatrix{T}, LinearAlgebra.QRCompactWY{T, M} where M<:AbstractMatrix{T}, LinearAlgebra.QRPivoted{T, S} where S<:AbstractMatrix{T}}</b>, BIn::<b>Union{Array{Complex{T}, 1}, Array{Complex{T}, 2}}</b>)<i> where T<:Union{Float32, Float64}</i> in LinearAlgebra at <a href=\"file:///buildworker/worker/package_linux64/build/usr/share/julia/stdlib/v1.7/LinearAlgebra/src/qr.jl\" target=\"_blank\">/home/hesed/julia-1.7.2/share/julia/stdlib/v1.7/LinearAlgebra/src/qr.jl:1016</a></li> <li> \\(L::<b>Union{LinearAlgebra.Adjoint{T, <:LinearAlgebra.UpperTriangular{T, <:Union{SparseArrays.AbstractSparseMatrixCSC{T, Ti}, SubArray{T, 2, <:SparseArrays.AbstractSparseMatrixCSC{T, Ti}, Tuple{Base.Slice{Base.OneTo{Int64}}, I}} where I<:AbstractUnitRange} where Ti}}, LinearAlgebra.Adjoint{T, <:LinearAlgebra.UnitUpperTriangular{T, <:Union{SparseArrays.AbstractSparseMatrixCSC{T, Ti}, SubArray{T, 2, <:SparseArrays.AbstractSparseMatrixCSC{T, Ti}, Tuple{Base.Slice{Base.OneTo{Int64}}, I}} where I<:AbstractUnitRange} where Ti}}, LinearAlgebra.Adjoint{T, <:LinearAlgebra.LowerTriangular{T, <:Union{SparseArrays.AbstractSparseMatrixCSC{T, Ti}, SubArray{T, 2, <:SparseArrays.AbstractSparseMatrixCSC{T, Ti}, Tuple{Base.Slice{Base.OneTo{Int64}}, I}} where I<:AbstractUnitRange} where Ti}}, LinearAlgebra.Adjoint{T, <:LinearAlgebra.UnitLowerTriangular{T, <:Union{SparseArrays.AbstractSparseMatrixCSC{T, Ti}, SubArray{T, 2, <:SparseArrays.AbstractSparseMatrixCSC{T, Ti}, Tuple{Base.Slice{Base.OneTo{Int64}}, I}} where I<:AbstractUnitRange} where Ti}}, LinearAlgebra.LowerTriangular{T, <:Union{SparseArrays.AbstractSparseMatrixCSC{T, Ti}, SubArray{T, 2, <:SparseArrays.AbstractSparseMatrixCSC{T, Ti}, Tuple{Base.Slice{Base.OneTo{Int64}}, I}} where I<:AbstractUnitRange} where Ti}, LinearAlgebra.Transpose{T, <:LinearAlgebra.UpperTriangular{T, <:Union{SparseArrays.AbstractSparseMatrixCSC{T, Ti}, SubArray{T, 2, <:SparseArrays.AbstractSparseMatrixCSC{T, Ti}, Tuple{Base.Slice{Base.OneTo{Int64}}, I}} where I<:AbstractUnitRange} where Ti}}, LinearAlgebra.Transpose{T, <:LinearAlgebra.UnitUpperTriangular{T, <:Union{SparseArrays.AbstractSparseMatrixCSC{T, Ti}, SubArray{T, 2, <:SparseArrays.AbstractSparseMatrixCSC{T, Ti}, Tuple{Base.Slice{Base.OneTo{Int64}}, I}} where I<:AbstractUnitRange} where Ti}}, LinearAlgebra.Transpose{T, <:LinearAlgebra.LowerTriangular{T, <:Union{SparseArrays.AbstractSparseMatrixCSC{T, Ti}, SubArray{T, 2, <:SparseArrays.AbstractSparseMatrixCSC{T, Ti}, Tuple{Base.Slice{Base.OneTo{Int64}}, I}} where I<:AbstractUnitRange} where Ti}}, LinearAlgebra.Transpose{T, <:LinearAlgebra.UnitLowerTriangular{T, <:Union{SparseArrays.AbstractSparseMatrixCSC{T, Ti}, SubArray{T, 2, <:SparseArrays.AbstractSparseMatrixCSC{T, Ti}, Tuple{Base.Slice{Base.OneTo{Int64}}, I}} where I<:AbstractUnitRange} where Ti}}, LinearAlgebra.UnitLowerTriangular{T, <:Union{SparseArrays.AbstractSparseMatrixCSC{T, Ti}, SubArray{T, 2, <:SparseArrays.AbstractSparseMatrixCSC{T, Ti}, Tuple{Base.Slice{Base.OneTo{Int64}}, I}} where I<:AbstractUnitRange} where Ti}, LinearAlgebra.UnitUpperTriangular{T, <:Union{SparseArrays.AbstractSparseMatrixCSC{T, Ti}, SubArray{T, 2, <:SparseArrays.AbstractSparseMatrixCSC{T, Ti}, Tuple{Base.Slice{Base.OneTo{Int64}}, I}} where I<:AbstractUnitRange} where Ti}, LinearAlgebra.UpperTriangular{T, <:Union{SparseArrays.AbstractSparseMatrixCSC{T, Ti}, SubArray{T, 2, <:SparseArrays.AbstractSparseMatrixCSC{T, Ti}, Tuple{Base.Slice{Base.OneTo{Int64}}, I}} where I<:AbstractUnitRange} where Ti}} where T</b>, B::<b>SparseArrays.AbstractSparseMatrixCSC</b>) in SparseArrays at <a href=\"file:///buildworker/worker/package_linux64/build/usr/share/julia/stdlib/v1.7/SparseArrays/src/linalg.jl\" target=\"_blank\">/home/hesed/julia-1.7.2/share/julia/stdlib/v1.7/SparseArrays/src/linalg.jl:811</a></li> <li> \\(A::<b>Union{LinearAlgebra.Hermitian{ComplexF64, SparseArrays.SparseMatrixCSC{ComplexF64, Int64}}, LinearAlgebra.Hermitian{Float64, SparseArrays.SparseMatrixCSC{Float64, Int64}}, LinearAlgebra.Symmetric{Float64, SparseArrays.SparseMatrixCSC{Float64, Int64}}}</b>, B::<b>Union{LinearAlgebra.Adjoint{<:Any, <:StridedVecOrMat}, LinearAlgebra.Transpose{<:Any, <:StridedVecOrMat}, StridedVecOrMat}</b>) in SuiteSparse.CHOLMOD at <a href=\"file:///buildworker/worker/package_linux64/build/usr/share/julia/stdlib/v1.7/SuiteSparse/src/cholmod.jl\" target=\"_blank\">/home/hesed/julia-1.7.2/share/julia/stdlib/v1.7/SuiteSparse/src/cholmod.jl:1573</a></li> <li> \\(A::<b>Union{LinearAlgebra.Hermitian{var\"#s859\", var\"#s858\"}, LinearAlgebra.Symmetric{var\"#s859\", var\"#s858\"}} where {var\"#s859\", var\"#s858\"<:(StridedMatrix{T} where T)}</b>, B::<b>AbstractVector</b>) in LinearAlgebra at <a href=\"file:///buildworker/worker/package_linux64/build/usr/share/julia/stdlib/v1.7/LinearAlgebra/src/symmetric.jl\" target=\"_blank\">/home/hesed/julia-1.7.2/share/julia/stdlib/v1.7/LinearAlgebra/src/symmetric.jl:655</a></li> <li> \\(A::<b>Union{LinearAlgebra.Hermitian{var\"#s859\", var\"#s858\"}, LinearAlgebra.Symmetric{var\"#s859\", var\"#s858\"}} where {var\"#s859\", var\"#s858\"<:(StridedMatrix{T} where T)}</b>, B::<b>AbstractMatrix</b>) in LinearAlgebra at <a href=\"file:///buildworker/worker/package_linux64/build/usr/share/julia/stdlib/v1.7/LinearAlgebra/src/symmetric.jl\" target=\"_blank\">/home/hesed/julia-1.7.2/share/julia/stdlib/v1.7/LinearAlgebra/src/symmetric.jl:658</a></li> <li> \\(A::<b>AbstractMatrix</b>, J::<b>LinearAlgebra.UniformScaling</b>) in LinearAlgebra at <a href=\"file:///buildworker/worker/package_linux64/build/usr/share/julia/stdlib/v1.7/LinearAlgebra/src/uniformscaling.jl\" target=\"_blank\">/home/hesed/julia-1.7.2/share/julia/stdlib/v1.7/LinearAlgebra/src/uniformscaling.jl:277</a></li> <li> \\(A::<b>SparseArrays.AbstractSparseMatrixCSC</b>, B::<b>AbstractVecOrMat</b>) in SparseArrays at <a href=\"file:///buildworker/worker/package_linux64/build/usr/share/julia/stdlib/v1.7/SparseArrays/src/linalg.jl\" target=\"_blank\">/home/hesed/julia-1.7.2/share/julia/stdlib/v1.7/SparseArrays/src/linalg.jl:1538</a></li> <li> \\(B::<b>Number</b>, A::<b>LinearAlgebra.SymTridiagonal</b>) in LinearAlgebra at <a href=\"file:///buildworker/worker/package_linux64/build/usr/share/julia/stdlib/v1.7/LinearAlgebra/src/tridiag.jl\" target=\"_blank\">/home/hesed/julia-1.7.2/share/julia/stdlib/v1.7/LinearAlgebra/src/tridiag.jl:214</a></li> <li> \\(B::<b>Number</b>, A::<b>LinearAlgebra.Tridiagonal</b>) in LinearAlgebra at <a href=\"file:///buildworker/worker/package_linux64/build/usr/share/julia/stdlib/v1.7/LinearAlgebra/src/tridiag.jl\" target=\"_blank\">/home/hesed/julia-1.7.2/share/julia/stdlib/v1.7/LinearAlgebra/src/tridiag.jl:745</a></li> <li> \\(x::<b>Number</b>, A::<b>LinearAlgebra.UpperTriangular</b>) in LinearAlgebra at <a href=\"file:///buildworker/worker/package_linux64/build/usr/share/julia/stdlib/v1.7/LinearAlgebra/src/triangular.jl\" target=\"_blank\">/home/hesed/julia-1.7.2/share/julia/stdlib/v1.7/LinearAlgebra/src/triangular.jl:880</a></li> <li> \\(x::<b>Number</b>, A::<b>LinearAlgebra.UnitUpperTriangular</b>) in LinearAlgebra at <a href=\"file:///buildworker/worker/package_linux64/build/usr/share/julia/stdlib/v1.7/LinearAlgebra/src/triangular.jl\" target=\"_blank\">/home/hesed/julia-1.7.2/share/julia/stdlib/v1.7/LinearAlgebra/src/triangular.jl:882</a></li> <li> \\(x::<b>Number</b>, A::<b>LinearAlgebra.LowerTriangular</b>) in LinearAlgebra at <a href=\"file:///buildworker/worker/package_linux64/build/usr/share/julia/stdlib/v1.7/LinearAlgebra/src/triangular.jl\" target=\"_blank\">/home/hesed/julia-1.7.2/share/julia/stdlib/v1.7/LinearAlgebra/src/triangular.jl:880</a></li> <li> \\(x::<b>Number</b>, A::<b>LinearAlgebra.UnitLowerTriangular</b>) in LinearAlgebra at <a href=\"file:///buildworker/worker/package_linux64/build/usr/share/julia/stdlib/v1.7/LinearAlgebra/src/triangular.jl\" target=\"_blank\">/home/hesed/julia-1.7.2/share/julia/stdlib/v1.7/LinearAlgebra/src/triangular.jl:882</a></li> <li> \\(x::<b>Number</b>, D::<b>LinearAlgebra.Diagonal</b>) in LinearAlgebra at <a href=\"file:///buildworker/worker/package_linux64/build/usr/share/julia/stdlib/v1.7/LinearAlgebra/src/diagonal.jl\" target=\"_blank\">/home/hesed/julia-1.7.2/share/julia/stdlib/v1.7/LinearAlgebra/src/diagonal.jl:193</a></li> <li> \\(B::<b>Number</b>, A::<b>LinearAlgebra.Bidiagonal</b>) in LinearAlgebra at <a href=\"file:///buildworker/worker/package_linux64/build/usr/share/julia/stdlib/v1.7/LinearAlgebra/src/bidiag.jl\" target=\"_blank\">/home/hesed/julia-1.7.2/share/julia/stdlib/v1.7/LinearAlgebra/src/bidiag.jl:376</a></li> <li> \\(x::<b>Number</b>, J::<b>LinearAlgebra.UniformScaling</b>) in LinearAlgebra at <a href=\"file:///buildworker/worker/package_linux64/build/usr/share/julia/stdlib/v1.7/LinearAlgebra/src/uniformscaling.jl\" target=\"_blank\">/home/hesed/julia-1.7.2/share/julia/stdlib/v1.7/LinearAlgebra/src/uniformscaling.jl:281</a></li> <li> \\(x::<b>Number</b>, H::<b>LinearAlgebra.UpperHessenberg</b>) in LinearAlgebra at <a href=\"file:///buildworker/worker/package_linux64/build/usr/share/julia/stdlib/v1.7/LinearAlgebra/src/hessenberg.jl\" target=\"_blank\">/home/hesed/julia-1.7.2/share/julia/stdlib/v1.7/LinearAlgebra/src/hessenberg.jl:117</a></li> <li> \\(A::<b>Number</b>, B::<b>AbstractArray</b>) in Base at <a href=\"https://github.com/JuliaLang/julia/tree/bf534986350a991e4a1b29126de0342ffd76205e/base/arraymath.jl#L52\" target=\"_blank\">arraymath.jl:52</a></li> <li> \\(A::<b>LinearAlgebra.UnitLowerTriangular</b>, B::<b>LinearAlgebra.LowerTriangular</b>) in LinearAlgebra at <a href=\"file:///buildworker/worker/package_linux64/build/usr/share/julia/stdlib/v1.7/LinearAlgebra/src/triangular.jl\" target=\"_blank\">/home/hesed/julia-1.7.2/share/julia/stdlib/v1.7/LinearAlgebra/src/triangular.jl:1514</a></li> <li> \\(A::<b>LinearAlgebra.UnitLowerTriangular</b>, B::<b>LinearAlgebra.UnitLowerTriangular</b>) in LinearAlgebra at <a href=\"file:///buildworker/worker/package_linux64/build/usr/share/julia/stdlib/v1.7/LinearAlgebra/src/triangular.jl\" target=\"_blank\">/home/hesed/julia-1.7.2/share/julia/stdlib/v1.7/LinearAlgebra/src/triangular.jl:1530</a></li> <li> \\(xA::<b>LinearAlgebra.UnitLowerTriangular{<:TA, <:StridedMatrix{T} where T}</b>, b::<b>SparseArrays.SparseVector{Tb}</b>)<i> where {TA<:Number, Tb<:Number}</i> in SparseArrays at <a href=\"file:///buildworker/worker/package_linux64/build/usr/share/julia/stdlib/v1.7/SparseArrays/src/sparsevector.jl\" target=\"_blank\">/home/hesed/julia-1.7.2/share/julia/stdlib/v1.7/SparseArrays/src/sparsevector.jl:1866</a></li> <li> \\(xA::<b>LinearAlgebra.UnitLowerTriangular{<:TA, <:LinearAlgebra.Transpose{<:Any, <:StridedMatrix{T} where T}}</b>, b::<b>SparseArrays.SparseVector{Tb}</b>)<i> where {TA<:Number, Tb<:Number}</i> in SparseArrays at <a href=\"file:///buildworker/worker/package_linux64/build/usr/share/julia/stdlib/v1.7/SparseArrays/src/sparsevector.jl\" target=\"_blank\">/home/hesed/julia-1.7.2/share/julia/stdlib/v1.7/SparseArrays/src/sparsevector.jl:1866</a></li> <li> \\(xA::<b>LinearAlgebra.UnitLowerTriangular{<:TA, <:LinearAlgebra.Adjoint{<:Any, <:StridedMatrix{T} where T}}</b>, b::<b>SparseArrays.SparseVector{Tb}</b>)<i> where {TA<:Number, Tb<:Number}</i> in SparseArrays at <a href=\"file:///buildworker/worker/package_linux64/build/usr/share/julia/stdlib/v1.7/SparseArrays/src/sparsevector.jl\" target=\"_blank\">/home/hesed/julia-1.7.2/share/julia/stdlib/v1.7/SparseArrays/src/sparsevector.jl:1866</a></li> <li> \\(A::<b>LinearAlgebra.UnitLowerTriangular{<:TA, <:AbstractMatrix}</b>, b::<b>SparseArrays.SparseVector{Tb}</b>)<i> where {TA<:Number, Tb<:Number}</i> in SparseArrays at <a href=\"file:///buildworker/worker/package_linux64/build/usr/share/julia/stdlib/v1.7/SparseArrays/src/sparsevector.jl\" target=\"_blank\">/home/hesed/julia-1.7.2/share/julia/stdlib/v1.7/SparseArrays/src/sparsevector.jl:1846</a></li> <li> \\(A::<b>LinearAlgebra.UnitLowerTriangular</b>, b::<b>SparseArrays.SparseVector</b>) in SparseArrays at <a href=\"file:///buildworker/worker/package_linux64/build/usr/share/julia/stdlib/v1.7/SparseArrays/src/sparsevector.jl\" target=\"_blank\">/home/hesed/julia-1.7.2/share/julia/stdlib/v1.7/SparseArrays/src/sparsevector.jl:1853</a></li> <li> \\(F::<b>LinearAlgebra.Factorization</b>, J::<b>LinearAlgebra.UniformScaling</b>) in LinearAlgebra at <a href=\"file:///buildworker/worker/package_linux64/build/usr/share/julia/stdlib/v1.7/LinearAlgebra/src/uniformscaling.jl\" target=\"_blank\">/home/hesed/julia-1.7.2/share/julia/stdlib/v1.7/LinearAlgebra/src/uniformscaling.jl:279</a></li> <li> \\(L::<b>SuiteSparse.CHOLMOD.FactorComponent</b>, B::<b>Union{SparseArrays.SparseMatrixCSC{Tv, Ti}, SparseArrays.SparseVector{Tv, Ti}} where {Tv, Ti}</b>) in SuiteSparse.CHOLMOD at <a href=\"file:///buildworker/worker/package_linux64/build/usr/share/julia/stdlib/v1.7/SuiteSparse/src/cholmod.jl\" target=\"_blank\">/home/hesed/julia-1.7.2/share/julia/stdlib/v1.7/SuiteSparse/src/cholmod.jl:1527</a></li> <li> \\(L::<b>SuiteSparse.CHOLMOD.FactorComponent</b>, B::<b>LinearAlgebra.Transpose{<:Any, <:SparseArrays.SparseMatrixCSC}</b>) in SuiteSparse.CHOLMOD at <a href=\"file:///buildworker/worker/package_linux64/build/usr/share/julia/stdlib/v1.7/SuiteSparse/src/cholmod.jl\" target=\"_blank\">/home/hesed/julia-1.7.2/share/julia/stdlib/v1.7/SuiteSparse/src/cholmod.jl:1531</a></li> <li> \\(L::<b>SuiteSparse.CHOLMOD.FactorComponent</b>, B::<b>LinearAlgebra.Adjoint{<:Any, <:SparseArrays.SparseMatrixCSC}</b>) in SuiteSparse.CHOLMOD at <a href=\"file:///buildworker/worker/package_linux64/build/usr/share/julia/stdlib/v1.7/SuiteSparse/src/cholmod.jl\" target=\"_blank\">/home/hesed/julia-1.7.2/share/julia/stdlib/v1.7/SuiteSparse/src/cholmod.jl:1530</a></li> <li> \\(L::<b>SuiteSparse.CHOLMOD.FactorComponent{T, :DUP}</b>, B::<b>SuiteSparse.CHOLMOD.Dense</b>)<i> where T</i> in SuiteSparse.CHOLMOD at <a href=\"file:///buildworker/worker/package_linux64/build/usr/share/julia/stdlib/v1.7/SuiteSparse/src/cholmod.jl\" target=\"_blank\">/home/hesed/julia-1.7.2/share/julia/stdlib/v1.7/SuiteSparse/src/cholmod.jl:1512</a></li> <li> \\(L::<b>SuiteSparse.CHOLMOD.FactorComponent{T, :PtLD}</b>, B::<b>SuiteSparse.CHOLMOD.Dense</b>)<i> where T</i> in SuiteSparse.CHOLMOD at <a href=\"file:///buildworker/worker/package_linux64/build/usr/share/julia/stdlib/v1.7/SuiteSparse/src/cholmod.jl\" target=\"_blank\">/home/hesed/julia-1.7.2/share/julia/stdlib/v1.7/SuiteSparse/src/cholmod.jl:1508</a></li> <li> \\(L::<b>SuiteSparse.CHOLMOD.FactorComponent{T, :DU}</b>, B::<b>SuiteSparse.CHOLMOD.Dense</b>)<i> where T</i> in SuiteSparse.CHOLMOD at <a href=\"file:///buildworker/worker/package_linux64/build/usr/share/julia/stdlib/v1.7/SuiteSparse/src/cholmod.jl\" target=\"_blank\">/home/hesed/julia-1.7.2/share/julia/stdlib/v1.7/SuiteSparse/src/cholmod.jl:1505</a></li> <li> \\(L::<b>SuiteSparse.CHOLMOD.FactorComponent{T, :LD}</b>, B::<b>SuiteSparse.CHOLMOD.Dense</b>)<i> where T</i> in SuiteSparse.CHOLMOD at <a href=\"file:///buildworker/worker/package_linux64/build/usr/share/julia/stdlib/v1.7/SuiteSparse/src/cholmod.jl\" target=\"_blank\">/home/hesed/julia-1.7.2/share/julia/stdlib/v1.7/SuiteSparse/src/cholmod.jl:1502</a></li> <li> \\(L::<b>SuiteSparse.CHOLMOD.FactorComponent{T, :D}</b>, B::<b>SuiteSparse.CHOLMOD.Dense</b>)<i> where T</i> in SuiteSparse.CHOLMOD at <a href=\"file:///buildworker/worker/package_linux64/build/usr/share/julia/stdlib/v1.7/SuiteSparse/src/cholmod.jl\" target=\"_blank\">/home/hesed/julia-1.7.2/share/julia/stdlib/v1.7/SuiteSparse/src/cholmod.jl:1499</a></li> <li> \\(L::<b>SuiteSparse.CHOLMOD.FactorComponent{T, :UP}</b>, B::<b>SuiteSparse.CHOLMOD.Dense</b>)<i> where T</i> in SuiteSparse.CHOLMOD at <a href=\"file:///buildworker/worker/package_linux64/build/usr/share/julia/stdlib/v1.7/SuiteSparse/src/cholmod.jl\" target=\"_blank\">/home/hesed/julia-1.7.2/share/julia/stdlib/v1.7/SuiteSparse/src/cholmod.jl:1494</a></li> <li> \\(L::<b>SuiteSparse.CHOLMOD.FactorComponent{T, :PtL}</b>, B::<b>SuiteSparse.CHOLMOD.Dense</b>)<i> where T</i> in SuiteSparse.CHOLMOD at <a href=\"file:///buildworker/worker/package_linux64/build/usr/share/julia/stdlib/v1.7/SuiteSparse/src/cholmod.jl\" target=\"_blank\">/home/hesed/julia-1.7.2/share/julia/stdlib/v1.7/SuiteSparse/src/cholmod.jl:1490</a></li> <li> \\(L::<b>SuiteSparse.CHOLMOD.FactorComponent{T, :U}</b>, B::<b>SuiteSparse.CHOLMOD.Dense</b>)<i> where T</i> in SuiteSparse.CHOLMOD at <a href=\"file:///buildworker/worker/package_linux64/build/usr/share/julia/stdlib/v1.7/SuiteSparse/src/cholmod.jl\" target=\"_blank\">/home/hesed/julia-1.7.2/share/julia/stdlib/v1.7/SuiteSparse/src/cholmod.jl:1486</a></li> <li> \\(L::<b>SuiteSparse.CHOLMOD.FactorComponent{T, :L}</b>, B::<b>SuiteSparse.CHOLMOD.Dense</b>)<i> where T</i> in SuiteSparse.CHOLMOD at <a href=\"file:///buildworker/worker/package_linux64/build/usr/share/julia/stdlib/v1.7/SuiteSparse/src/cholmod.jl\" target=\"_blank\">/home/hesed/julia-1.7.2/share/julia/stdlib/v1.7/SuiteSparse/src/cholmod.jl:1483</a></li> <li> \\(L::<b>SuiteSparse.CHOLMOD.FactorComponent{T, :UP}</b>, B::<b>SuiteSparse.CHOLMOD.Sparse</b>)<i> where T</i> in SuiteSparse.CHOLMOD at <a href=\"file:///buildworker/worker/package_linux64/build/usr/share/julia/stdlib/v1.7/SuiteSparse/src/cholmod.jl\" target=\"_blank\">/home/hesed/julia-1.7.2/share/julia/stdlib/v1.7/SuiteSparse/src/cholmod.jl:1494</a></li> <li> \\(L::<b>SuiteSparse.CHOLMOD.FactorComponent{T, :PtL}</b>, B::<b>SuiteSparse.CHOLMOD.Sparse</b>)<i> where T</i> in SuiteSparse.CHOLMOD at <a href=\"file:///buildworker/worker/package_linux64/build/usr/share/julia/stdlib/v1.7/SuiteSparse/src/cholmod.jl\" target=\"_blank\">/home/hesed/julia-1.7.2/share/julia/stdlib/v1.7/SuiteSparse/src/cholmod.jl:1490</a></li> <li> \\(L::<b>SuiteSparse.CHOLMOD.FactorComponent{T, :U}</b>, B::<b>SuiteSparse.CHOLMOD.Sparse</b>)<i> where T</i> in SuiteSparse.CHOLMOD at <a href=\"file:///buildworker/worker/package_linux64/build/usr/share/julia/stdlib/v1.7/SuiteSparse/src/cholmod.jl\" target=\"_blank\">/home/hesed/julia-1.7.2/share/julia/stdlib/v1.7/SuiteSparse/src/cholmod.jl:1486</a></li> <li> \\(L::<b>SuiteSparse.CHOLMOD.FactorComponent{T, :L}</b>, B::<b>SuiteSparse.CHOLMOD.Sparse</b>)<i> where T</i> in SuiteSparse.CHOLMOD at <a href=\"file:///buildworker/worker/package_linux64/build/usr/share/julia/stdlib/v1.7/SuiteSparse/src/cholmod.jl\" target=\"_blank\">/home/hesed/julia-1.7.2/share/julia/stdlib/v1.7/SuiteSparse/src/cholmod.jl:1483</a></li> <li> \\(L::<b>SuiteSparse.CHOLMOD.FactorComponent{T, :D}</b>, B::<b>SuiteSparse.CHOLMOD.Sparse</b>)<i> where T</i> in SuiteSparse.CHOLMOD at <a href=\"file:///buildworker/worker/package_linux64/build/usr/share/julia/stdlib/v1.7/SuiteSparse/src/cholmod.jl\" target=\"_blank\">/home/hesed/julia-1.7.2/share/julia/stdlib/v1.7/SuiteSparse/src/cholmod.jl:1499</a></li> <li> \\(L::<b>SuiteSparse.CHOLMOD.FactorComponent{T, :LD}</b>, B::<b>SuiteSparse.CHOLMOD.Sparse</b>)<i> where T</i> in SuiteSparse.CHOLMOD at <a href=\"file:///buildworker/worker/package_linux64/build/usr/share/julia/stdlib/v1.7/SuiteSparse/src/cholmod.jl\" target=\"_blank\">/home/hesed/julia-1.7.2/share/julia/stdlib/v1.7/SuiteSparse/src/cholmod.jl:1502</a></li> <li> \\(L::<b>SuiteSparse.CHOLMOD.FactorComponent{T, :DU}</b>, B::<b>SuiteSparse.CHOLMOD.Sparse</b>)<i> where T</i> in SuiteSparse.CHOLMOD at <a href=\"file:///buildworker/worker/package_linux64/build/usr/share/julia/stdlib/v1.7/SuiteSparse/src/cholmod.jl\" target=\"_blank\">/home/hesed/julia-1.7.2/share/julia/stdlib/v1.7/SuiteSparse/src/cholmod.jl:1505</a></li> <li> \\(L::<b>SuiteSparse.CHOLMOD.FactorComponent{T, :PtLD}</b>, B::<b>SuiteSparse.CHOLMOD.Sparse</b>)<i> where T</i> in SuiteSparse.CHOLMOD at <a href=\"file:///buildworker/worker/package_linux64/build/usr/share/julia/stdlib/v1.7/SuiteSparse/src/cholmod.jl\" target=\"_blank\">/home/hesed/julia-1.7.2/share/julia/stdlib/v1.7/SuiteSparse/src/cholmod.jl:1508</a></li> <li> \\(L::<b>SuiteSparse.CHOLMOD.FactorComponent{T, :DUP}</b>, B::<b>SuiteSparse.CHOLMOD.Sparse</b>)<i> where T</i> in SuiteSparse.CHOLMOD at <a href=\"file:///buildworker/worker/package_linux64/build/usr/share/julia/stdlib/v1.7/SuiteSparse/src/cholmod.jl\" target=\"_blank\">/home/hesed/julia-1.7.2/share/julia/stdlib/v1.7/SuiteSparse/src/cholmod.jl:1512</a></li> <li> \\(L::<b>SuiteSparse.CHOLMOD.FactorComponent</b>, b::<b>Vector</b>) in SuiteSparse.CHOLMOD at <a href=\"file:///buildworker/worker/package_linux64/build/usr/share/julia/stdlib/v1.7/SuiteSparse/src/cholmod.jl\" target=\"_blank\">/home/hesed/julia-1.7.2/share/julia/stdlib/v1.7/SuiteSparse/src/cholmod.jl:1521</a></li> <li> \\(L::<b>SuiteSparse.CHOLMOD.FactorComponent</b>, B::<b>Matrix</b>) in SuiteSparse.CHOLMOD at <a href=\"file:///buildworker/worker/package_linux64/build/usr/share/julia/stdlib/v1.7/SuiteSparse/src/cholmod.jl\" target=\"_blank\">/home/hesed/julia-1.7.2/share/julia/stdlib/v1.7/SuiteSparse/src/cholmod.jl:1524</a></li> <li> \\(A::<b>LinearAlgebra.UpperTriangular</b>, B::<b>LinearAlgebra.UpperTriangular</b>) in LinearAlgebra at <a href=\"file:///buildworker/worker/package_linux64/build/usr/share/julia/stdlib/v1.7/LinearAlgebra/src/triangular.jl\" target=\"_blank\">/home/hesed/julia-1.7.2/share/julia/stdlib/v1.7/LinearAlgebra/src/triangular.jl:1538</a></li> <li> \\(A::<b>LinearAlgebra.UpperTriangular</b>, B::<b>LinearAlgebra.UnitUpperTriangular</b>) in LinearAlgebra at <a href=\"file:///buildworker/worker/package_linux64/build/usr/share/julia/stdlib/v1.7/LinearAlgebra/src/triangular.jl\" target=\"_blank\">/home/hesed/julia-1.7.2/share/julia/stdlib/v1.7/LinearAlgebra/src/triangular.jl:1554</a></li> <li> \\(U::<b>LinearAlgebra.UpperTriangular</b>, H::<b>LinearAlgebra.UpperHessenberg</b>) in LinearAlgebra at <a href=\"file:///buildworker/worker/package_linux64/build/usr/share/julia/stdlib/v1.7/LinearAlgebra/src/hessenberg.jl\" target=\"_blank\">/home/hesed/julia-1.7.2/share/julia/stdlib/v1.7/LinearAlgebra/src/hessenberg.jl:151</a></li> <li> \\(xA::<b>LinearAlgebra.UpperTriangular{<:TA, <:StridedMatrix{T} where T}</b>, b::<b>SparseArrays.SparseVector{Tb}</b>)<i> where {TA<:Number, Tb<:Number}</i> in SparseArrays at <a href=\"file:///buildworker/worker/package_linux64/build/usr/share/julia/stdlib/v1.7/SparseArrays/src/sparsevector.jl\" target=\"_blank\">/home/hesed/julia-1.7.2/share/julia/stdlib/v1.7/SparseArrays/src/sparsevector.jl:1866</a></li> <li> \\(xA::<b>LinearAlgebra.UpperTriangular{<:TA, <:LinearAlgebra.Transpose{<:Any, <:StridedMatrix{T} where T}}</b>, b::<b>SparseArrays.SparseVector{Tb}</b>)<i> where {TA<:Number, Tb<:Number}</i> in SparseArrays at <a href=\"file:///buildworker/worker/package_linux64/build/usr/share/julia/stdlib/v1.7/SparseArrays/src/sparsevector.jl\" target=\"_blank\">/home/hesed/julia-1.7.2/share/julia/stdlib/v1.7/SparseArrays/src/sparsevector.jl:1866</a></li> <li> \\(xA::<b>LinearAlgebra.UpperTriangular{<:TA, <:LinearAlgebra.Adjoint{<:Any, <:StridedMatrix{T} where T}}</b>, b::<b>SparseArrays.SparseVector{Tb}</b>)<i> where {TA<:Number, Tb<:Number}</i> in SparseArrays at <a href=\"file:///buildworker/worker/package_linux64/build/usr/share/julia/stdlib/v1.7/SparseArrays/src/sparsevector.jl\" target=\"_blank\">/home/hesed/julia-1.7.2/share/julia/stdlib/v1.7/SparseArrays/src/sparsevector.jl:1866</a></li> <li> \\(A::<b>LinearAlgebra.UpperTriangular{<:TA, <:AbstractMatrix}</b>, b::<b>SparseArrays.SparseVector{Tb}</b>)<i> where {TA<:Number, Tb<:Number}</i> in SparseArrays at <a href=\"file:///buildworker/worker/package_linux64/build/usr/share/julia/stdlib/v1.7/SparseArrays/src/sparsevector.jl\" target=\"_blank\">/home/hesed/julia-1.7.2/share/julia/stdlib/v1.7/SparseArrays/src/sparsevector.jl:1846</a></li> <li> \\(A::<b>LinearAlgebra.UpperTriangular</b>, b::<b>SparseArrays.SparseVector</b>) in SparseArrays at <a href=\"file:///buildworker/worker/package_linux64/build/usr/share/julia/stdlib/v1.7/SparseArrays/src/sparsevector.jl\" target=\"_blank\">/home/hesed/julia-1.7.2/share/julia/stdlib/v1.7/SparseArrays/src/sparsevector.jl:1853</a></li> <li> \\(T::<b>LinearAlgebra.SymTridiagonal</b>, B::<b>StridedVecOrMat</b>) in LinearAlgebra at <a href=\"file:///buildworker/worker/package_linux64/build/usr/share/julia/stdlib/v1.7/LinearAlgebra/src/tridiag.jl\" target=\"_blank\">/home/hesed/julia-1.7.2/share/julia/stdlib/v1.7/LinearAlgebra/src/tridiag.jl:278</a></li> <li> \\(A::<b>LinearAlgebra.Bidiagonal{var\"#s859\", V} where {var\"#s859\"<:Number, V<:AbstractVector{var\"#s859\"}}</b>, B::<b>AbstractVecOrMat{<:Number}</b>) in LinearAlgebra at <a href=\"file:///buildworker/worker/package_linux64/build/usr/share/julia/stdlib/v1.7/LinearAlgebra/src/bidiag.jl\" target=\"_blank\">/home/hesed/julia-1.7.2/share/julia/stdlib/v1.7/LinearAlgebra/src/bidiag.jl:824</a></li> <li> \\(A::<b>LinearAlgebra.Bidiagonal</b>, B::<b>AbstractVecOrMat</b>) in LinearAlgebra at <a href=\"file:///buildworker/worker/package_linux64/build/usr/share/julia/stdlib/v1.7/LinearAlgebra/src/bidiag.jl\" target=\"_blank\">/home/hesed/julia-1.7.2/share/julia/stdlib/v1.7/LinearAlgebra/src/bidiag.jl:829</a></li> <li> \\(A::<b>LinearAlgebra.Transpose{T, <:LinearAlgebra.LU{T, <:StridedMatrix{T} where T}}</b>, B::<b>LinearAlgebra.Transpose{T, <:StridedVecOrMat{T}}</b>)<i> where T<:Union{Float32, Float64, ComplexF32, ComplexF64}</i> in LinearAlgebra at <a href=\"file:///buildworker/worker/package_linux64/build/usr/share/julia/stdlib/v1.7/LinearAlgebra/src/lu.jl\" target=\"_blank\">/home/hesed/julia-1.7.2/share/julia/stdlib/v1.7/LinearAlgebra/src/lu.jl:433</a></li> <li> \\(A::<b>LinearAlgebra.Transpose{<:Any, <:LinearAlgebra.LU}</b>, B::<b>LinearAlgebra.Transpose{<:Any, <:StridedVecOrMat}</b>) in LinearAlgebra at <a href=\"file:///buildworker/worker/package_linux64/build/usr/share/julia/stdlib/v1.7/LinearAlgebra/src/lu.jl\" target=\"_blank\">/home/hesed/julia-1.7.2/share/julia/stdlib/v1.7/LinearAlgebra/src/lu.jl:430</a></li> <li> \\(A::<b>LinearAlgebra.Transpose{<:Real, <:LinearAlgebra.Hermitian{<:Real, <:SparseArrays.AbstractSparseMatrixCSC}}</b>, B::<b>Vector</b>) in SparseArrays at <a href=\"file:///buildworker/worker/package_linux64/build/usr/share/julia/stdlib/v1.7/SparseArrays/src/linalg.jl\" target=\"_blank\">/home/hesed/julia-1.7.2/share/julia/stdlib/v1.7/SparseArrays/src/linalg.jl:872</a></li> <li> \\(A::<b>LinearAlgebra.Transpose{<:Complex, <:LinearAlgebra.Hermitian{<:Complex, <:SparseArrays.AbstractSparseMatrixCSC}}</b>, B::<b>Vector</b>) in SparseArrays at <a href=\"file:///buildworker/worker/package_linux64/build/usr/share/julia/stdlib/v1.7/SparseArrays/src/linalg.jl\" target=\"_blank\">/home/hesed/julia-1.7.2/share/julia/stdlib/v1.7/SparseArrays/src/linalg.jl:873</a></li> <li> \\(transA::<b>LinearAlgebra.Transpose{<:Number, <:LinearAlgebra.Bidiagonal{var\"#s857\", V} where {var\"#s857\"<:Number, V<:AbstractVector{var\"#s857\"}}}</b>, B::<b>AbstractVecOrMat{<:Number}</b>) in LinearAlgebra at <a href=\"file:///buildworker/worker/package_linux64/build/usr/share/julia/stdlib/v1.7/LinearAlgebra/src/bidiag.jl\" target=\"_blank\">/home/hesed/julia-1.7.2/share/julia/stdlib/v1.7/LinearAlgebra/src/bidiag.jl:830</a></li> <li> \\(A::<b>LinearAlgebra.Transpose{<:Number, <:LinearAlgebra.Symmetric{<:Number, <:SparseArrays.AbstractSparseMatrixCSC}}</b>, B::<b>Vector</b>) in SparseArrays at <a href=\"file:///buildworker/worker/package_linux64/build/usr/share/julia/stdlib/v1.7/SparseArrays/src/linalg.jl\" target=\"_blank\">/home/hesed/julia-1.7.2/share/julia/stdlib/v1.7/SparseArrays/src/linalg.jl:874</a></li> <li> \\(F::<b>LinearAlgebra.Transpose{<:Any, <:LinearAlgebra.Factorization{<:Real}}</b>, B::<b>AbstractVecOrMat</b>) in LinearAlgebra at <a href=\"file:///buildworker/worker/package_linux64/build/usr/share/julia/stdlib/v1.7/LinearAlgebra/src/factorization.jl\" target=\"_blank\">/home/hesed/julia-1.7.2/share/julia/stdlib/v1.7/LinearAlgebra/src/factorization.jl:135</a></li> <li> \\(F::<b>LinearAlgebra.Transpose{<:Any, <:LinearAlgebra.Factorization}</b>, B::<b>AbstractVecOrMat</b>) in LinearAlgebra at <a href=\"file:///buildworker/worker/package_linux64/build/usr/share/julia/stdlib/v1.7/LinearAlgebra/src/factorization.jl\" target=\"_blank\">/home/hesed/julia-1.7.2/share/julia/stdlib/v1.7/LinearAlgebra/src/factorization.jl:136</a></li> <li> \\(transA::<b>LinearAlgebra.Transpose{<:Any, <:LinearAlgebra.Bidiagonal}</b>, B::<b>AbstractVecOrMat</b>) in LinearAlgebra at <a href=\"file:///buildworker/worker/package_linux64/build/usr/share/julia/stdlib/v1.7/LinearAlgebra/src/bidiag.jl\" target=\"_blank\">/home/hesed/julia-1.7.2/share/julia/stdlib/v1.7/LinearAlgebra/src/bidiag.jl:836</a></li> <li> \\(xformA::<b>LinearAlgebra.Transpose{<:Any, <:SparseArrays.AbstractSparseMatrixCSC}</b>, B::<b>AbstractVecOrMat</b>) in SparseArrays at <a href=\"file:///buildworker/worker/package_linux64/build/usr/share/julia/stdlib/v1.7/SparseArrays/src/linalg.jl\" target=\"_blank\">/home/hesed/julia-1.7.2/share/julia/stdlib/v1.7/SparseArrays/src/linalg.jl:1561</a></li> <li> \\(A::<b>LinearAlgebra.LowerTriangular</b>, B::<b>LinearAlgebra.LowerTriangular</b>) in LinearAlgebra at <a href=\"file:///buildworker/worker/package_linux64/build/usr/share/julia/stdlib/v1.7/LinearAlgebra/src/triangular.jl\" target=\"_blank\">/home/hesed/julia-1.7.2/share/julia/stdlib/v1.7/LinearAlgebra/src/triangular.jl:1506</a></li> <li> \\(A::<b>LinearAlgebra.LowerTriangular</b>, B::<b>LinearAlgebra.UnitLowerTriangular</b>) in LinearAlgebra at <a href=\"file:///buildworker/worker/package_linux64/build/usr/share/julia/stdlib/v1.7/LinearAlgebra/src/triangular.jl\" target=\"_blank\">/home/hesed/julia-1.7.2/share/julia/stdlib/v1.7/LinearAlgebra/src/triangular.jl:1522</a></li> <li> \\(xA::<b>LinearAlgebra.LowerTriangular{<:TA, <:StridedMatrix{T} where T}</b>, b::<b>SparseArrays.SparseVector{Tb}</b>)<i> where {TA<:Number, Tb<:Number}</i> in SparseArrays at <a href=\"file:///buildworker/worker/package_linux64/build/usr/share/julia/stdlib/v1.7/SparseArrays/src/sparsevector.jl\" target=\"_blank\">/home/hesed/julia-1.7.2/share/julia/stdlib/v1.7/SparseArrays/src/sparsevector.jl:1866</a></li> <li> \\(xA::<b>LinearAlgebra.LowerTriangular{<:TA, <:LinearAlgebra.Transpose{<:Any, <:StridedMatrix{T} where T}}</b>, b::<b>SparseArrays.SparseVector{Tb}</b>)<i> where {TA<:Number, Tb<:Number}</i> in SparseArrays at <a href=\"file:///buildworker/worker/package_linux64/build/usr/share/julia/stdlib/v1.7/SparseArrays/src/sparsevector.jl\" target=\"_blank\">/home/hesed/julia-1.7.2/share/julia/stdlib/v1.7/SparseArrays/src/sparsevector.jl:1866</a></li> <li> \\(xA::<b>LinearAlgebra.LowerTriangular{<:TA, <:LinearAlgebra.Adjoint{<:Any, <:StridedMatrix{T} where T}}</b>, b::<b>SparseArrays.SparseVector{Tb}</b>)<i> where {TA<:Number, Tb<:Number}</i> in SparseArrays at <a href=\"file:///buildworker/worker/package_linux64/build/usr/share/julia/stdlib/v1.7/SparseArrays/src/sparsevector.jl\" target=\"_blank\">/home/hesed/julia-1.7.2/share/julia/stdlib/v1.7/SparseArrays/src/sparsevector.jl:1866</a></li> <li> \\(A::<b>LinearAlgebra.LowerTriangular{<:TA, <:AbstractMatrix}</b>, b::<b>SparseArrays.SparseVector{Tb}</b>)<i> where {TA<:Number, Tb<:Number}</i> in SparseArrays at <a href=\"file:///buildworker/worker/package_linux64/build/usr/share/julia/stdlib/v1.7/SparseArrays/src/sparsevector.jl\" target=\"_blank\">/home/hesed/julia-1.7.2/share/julia/stdlib/v1.7/SparseArrays/src/sparsevector.jl:1846</a></li> <li> \\(A::<b>LinearAlgebra.LowerTriangular</b>, b::<b>SparseArrays.SparseVector</b>) in SparseArrays at <a href=\"file:///buildworker/worker/package_linux64/build/usr/share/julia/stdlib/v1.7/SparseArrays/src/sparsevector.jl\" target=\"_blank\">/home/hesed/julia-1.7.2/share/julia/stdlib/v1.7/SparseArrays/src/sparsevector.jl:1853</a></li> <li> \\(A::<b>Union{LinearAlgebra.LowerTriangular, LinearAlgebra.UpperTriangular}</b>, B::<b>AbstractVector</b>) in LinearAlgebra at <a href=\"file:///buildworker/worker/package_linux64/build/usr/share/julia/stdlib/v1.7/LinearAlgebra/src/triangular.jl\" target=\"_blank\">/home/hesed/julia-1.7.2/share/julia/stdlib/v1.7/LinearAlgebra/src/triangular.jl:1656</a></li> <li> \\(A::<b>Union{LinearAlgebra.LowerTriangular, LinearAlgebra.UpperTriangular}</b>, B::<b>AbstractMatrix</b>) in LinearAlgebra at <a href=\"file:///buildworker/worker/package_linux64/build/usr/share/julia/stdlib/v1.7/LinearAlgebra/src/triangular.jl\" target=\"_blank\">/home/hesed/julia-1.7.2/share/julia/stdlib/v1.7/LinearAlgebra/src/triangular.jl:1656</a></li> <li> \\(A::<b>LinearAlgebra.Adjoint{T, <:LinearAlgebra.LU{T, <:StridedMatrix{T} where T}}</b>, B::<b>LinearAlgebra.Adjoint{T, <:StridedVecOrMat{T}}</b>)<i> where T<:Union{ComplexF32, ComplexF64}</i> in LinearAlgebra at <a href=\"file:///buildworker/worker/package_linux64/build/usr/share/julia/stdlib/v1.7/LinearAlgebra/src/lu.jl\" target=\"_blank\">/home/hesed/julia-1.7.2/share/julia/stdlib/v1.7/LinearAlgebra/src/lu.jl:431</a></li> <li> \\(A::<b>LinearAlgebra.Adjoint{<:Any, <:LinearAlgebra.Tridiagonal}</b>, B::<b>LinearAlgebra.Adjoint{<:Any, <:StridedVecOrMat}</b>) in LinearAlgebra at <a href=\"file:///buildworker/worker/package_linux64/build/usr/share/julia/stdlib/v1.7/LinearAlgebra/src/tridiag.jl\" target=\"_blank\">/home/hesed/julia-1.7.2/share/julia/stdlib/v1.7/LinearAlgebra/src/tridiag.jl:617</a></li> <li> \\(u::<b>Union{LinearAlgebra.Adjoint{T, var\"#s859\"}, LinearAlgebra.Transpose{T, var\"#s859\"}} where {T, var\"#s859\"<:(AbstractVector)}</b>, v::<b>Union{LinearAlgebra.Adjoint{T, var\"#s859\"}, LinearAlgebra.Transpose{T, var\"#s859\"}} where {T, var\"#s859\"<:(AbstractVector)}</b>) in LinearAlgebra at <a href=\"file:///buildworker/worker/package_linux64/build/usr/share/julia/stdlib/v1.7/LinearAlgebra/src/adjtrans.jl\" target=\"_blank\">/home/hesed/julia-1.7.2/share/julia/stdlib/v1.7/LinearAlgebra/src/adjtrans.jl:316</a></li> <li> \\(A::<b>LinearAlgebra.Adjoint{<:Any, <:LinearAlgebra.LU}</b>, B::<b>LinearAlgebra.Adjoint{<:Any, <:StridedVecOrMat}</b>) in LinearAlgebra at <a href=\"file:///buildworker/worker/package_linux64/build/usr/share/julia/stdlib/v1.7/LinearAlgebra/src/lu.jl\" target=\"_blank\">/home/hesed/julia-1.7.2/share/julia/stdlib/v1.7/LinearAlgebra/src/lu.jl:429</a></li> <li> \\(adjA::<b>LinearAlgebra.Adjoint{<:Number, <:LinearAlgebra.Bidiagonal{var\"#s857\", V} where {var\"#s857\"<:Number, V<:AbstractVector{var\"#s857\"}}}</b>, B::<b>AbstractVecOrMat{<:Number}</b>) in LinearAlgebra at <a href=\"file:///buildworker/worker/package_linux64/build/usr/share/julia/stdlib/v1.7/LinearAlgebra/src/bidiag.jl\" target=\"_blank\">/home/hesed/julia-1.7.2/share/julia/stdlib/v1.7/LinearAlgebra/src/bidiag.jl:837</a></li> <li> \\(adjA::<b>LinearAlgebra.Adjoint{<:Any, <:LinearAlgebra.Bidiagonal}</b>, B::<b>AbstractVecOrMat</b>) in LinearAlgebra at <a href=\"file:///buildworker/worker/package_linux64/build/usr/share/julia/stdlib/v1.7/LinearAlgebra/src/bidiag.jl\" target=\"_blank\">/home/hesed/julia-1.7.2/share/julia/stdlib/v1.7/LinearAlgebra/src/bidiag.jl:843</a></li> <li> \\(xformA::<b>LinearAlgebra.Adjoint{<:Any, <:SparseArrays.AbstractSparseMatrixCSC}</b>, B::<b>AbstractVecOrMat</b>) in SparseArrays at <a href=\"file:///buildworker/worker/package_linux64/build/usr/share/julia/stdlib/v1.7/SparseArrays/src/linalg.jl\" target=\"_blank\">/home/hesed/julia-1.7.2/share/julia/stdlib/v1.7/SparseArrays/src/linalg.jl:1561</a></li> <li> \\(adjL::<b>LinearAlgebra.Adjoint{<:Any, <:SuiteSparse.CHOLMOD.FactorComponent}</b>, B::<b>Union{Union{SparseArrays.SparseMatrixCSC{Tv, Ti}, SparseArrays.SparseVector{Tv, Ti}} where {Tv, Ti}, VecOrMat}</b>) in SuiteSparse.CHOLMOD at <a href=\"file:///buildworker/worker/package_linux64/build/usr/share/julia/stdlib/v1.7/SuiteSparse/src/cholmod.jl\" target=\"_blank\">/home/hesed/julia-1.7.2/share/julia/stdlib/v1.7/SuiteSparse/src/cholmod.jl:1533</a></li> <li> \\(adjL::<b>LinearAlgebra.Adjoint{<:Any, <:SuiteSparse.CHOLMOD.Factor}</b>, B::<b>SuiteSparse.CHOLMOD.Dense</b>) in SuiteSparse.CHOLMOD at <a href=\"file:///buildworker/worker/package_linux64/build/usr/share/julia/stdlib/v1.7/SuiteSparse/src/cholmod.jl\" target=\"_blank\">/home/hesed/julia-1.7.2/share/julia/stdlib/v1.7/SuiteSparse/src/cholmod.jl:1555</a></li> <li> \\(adjL::<b>LinearAlgebra.Adjoint{<:Any, <:SuiteSparse.CHOLMOD.Factor}</b>, B::<b>SuiteSparse.CHOLMOD.Sparse</b>) in SuiteSparse.CHOLMOD at <a href=\"file:///buildworker/worker/package_linux64/build/usr/share/julia/stdlib/v1.7/SuiteSparse/src/cholmod.jl\" target=\"_blank\">/home/hesed/julia-1.7.2/share/julia/stdlib/v1.7/SuiteSparse/src/cholmod.jl:1556</a></li> <li> \\(adjL::<b>LinearAlgebra.Adjoint{<:Any, <:SuiteSparse.CHOLMOD.Factor}</b>, B::<b>Union{SparseArrays.SparseMatrixCSC{Tv, Ti}, SparseArrays.SparseVector{Tv, Ti}} where {Tv, Ti}</b>) in SuiteSparse.CHOLMOD at <a href=\"file:///buildworker/worker/package_linux64/build/usr/share/julia/stdlib/v1.7/SuiteSparse/src/cholmod.jl\" target=\"_blank\">/home/hesed/julia-1.7.2/share/julia/stdlib/v1.7/SuiteSparse/src/cholmod.jl:1557</a></li> <li> \\(adjL::<b>LinearAlgebra.Adjoint{<:Any, <:SuiteSparse.CHOLMOD.Factor}</b>, b::<b>StridedVector{T} where T</b>) in SuiteSparse.CHOLMOD at <a href=\"file:///buildworker/worker/package_linux64/build/usr/share/julia/stdlib/v1.7/SuiteSparse/src/cholmod.jl\" target=\"_blank\">/home/hesed/julia-1.7.2/share/julia/stdlib/v1.7/SuiteSparse/src/cholmod.jl:1559</a></li> <li> \\(adjL::<b>LinearAlgebra.Adjoint{<:Any, <:SuiteSparse.CHOLMOD.Factor}</b>, B::<b>StridedMatrix{T} where T</b>) in SuiteSparse.CHOLMOD at <a href=\"file:///buildworker/worker/package_linux64/build/usr/share/julia/stdlib/v1.7/SuiteSparse/src/cholmod.jl\" target=\"_blank\">/home/hesed/julia-1.7.2/share/julia/stdlib/v1.7/SuiteSparse/src/cholmod.jl:1563</a></li> <li> \\(A::<b>LinearAlgebra.UnitUpperTriangular</b>, B::<b>LinearAlgebra.UpperTriangular</b>) in LinearAlgebra at <a href=\"file:///buildworker/worker/package_linux64/build/usr/share/julia/stdlib/v1.7/LinearAlgebra/src/triangular.jl\" target=\"_blank\">/home/hesed/julia-1.7.2/share/julia/stdlib/v1.7/LinearAlgebra/src/triangular.jl:1546</a></li> <li> \\(A::<b>LinearAlgebra.UnitUpperTriangular</b>, B::<b>LinearAlgebra.UnitUpperTriangular</b>) in LinearAlgebra at <a href=\"file:///buildworker/worker/package_linux64/build/usr/share/julia/stdlib/v1.7/LinearAlgebra/src/triangular.jl\" target=\"_blank\">/home/hesed/julia-1.7.2/share/julia/stdlib/v1.7/LinearAlgebra/src/triangular.jl:1562</a></li> <li> \\(U::<b>LinearAlgebra.UnitUpperTriangular</b>, H::<b>LinearAlgebra.UpperHessenberg</b>) in LinearAlgebra at <a href=\"file:///buildworker/worker/package_linux64/build/usr/share/julia/stdlib/v1.7/LinearAlgebra/src/hessenberg.jl\" target=\"_blank\">/home/hesed/julia-1.7.2/share/julia/stdlib/v1.7/LinearAlgebra/src/hessenberg.jl:158</a></li> <li> \\(xA::<b>LinearAlgebra.UnitUpperTriangular{<:TA, <:StridedMatrix{T} where T}</b>, b::<b>SparseArrays.SparseVector{Tb}</b>)<i> where {TA<:Number, Tb<:Number}</i> in SparseArrays at <a href=\"file:///buildworker/worker/package_linux64/build/usr/share/julia/stdlib/v1.7/SparseArrays/src/sparsevector.jl\" target=\"_blank\">/home/hesed/julia-1.7.2/share/julia/stdlib/v1.7/SparseArrays/src/sparsevector.jl:1866</a></li> <li> \\(xA::<b>LinearAlgebra.UnitUpperTriangular{<:TA, <:LinearAlgebra.Transpose{<:Any, <:StridedMatrix{T} where T}}</b>, b::<b>SparseArrays.SparseVector{Tb}</b>)<i> where {TA<:Number, Tb<:Number}</i> in SparseArrays at <a href=\"file:///buildworker/worker/package_linux64/build/usr/share/julia/stdlib/v1.7/SparseArrays/src/sparsevector.jl\" target=\"_blank\">/home/hesed/julia-1.7.2/share/julia/stdlib/v1.7/SparseArrays/src/sparsevector.jl:1866</a></li> <li> \\(xA::<b>LinearAlgebra.UnitUpperTriangular{<:TA, <:LinearAlgebra.Adjoint{<:Any, <:StridedMatrix{T} where T}}</b>, b::<b>SparseArrays.SparseVector{Tb}</b>)<i> where {TA<:Number, Tb<:Number}</i> in SparseArrays at <a href=\"file:///buildworker/worker/package_linux64/build/usr/share/julia/stdlib/v1.7/SparseArrays/src/sparsevector.jl\" target=\"_blank\">/home/hesed/julia-1.7.2/share/julia/stdlib/v1.7/SparseArrays/src/sparsevector.jl:1866</a></li> <li> \\(A::<b>LinearAlgebra.UnitUpperTriangular{<:TA, <:AbstractMatrix}</b>, b::<b>SparseArrays.SparseVector{Tb}</b>)<i> where {TA<:Number, Tb<:Number}</i> in SparseArrays at <a href=\"file:///buildworker/worker/package_linux64/build/usr/share/julia/stdlib/v1.7/SparseArrays/src/sparsevector.jl\" target=\"_blank\">/home/hesed/julia-1.7.2/share/julia/stdlib/v1.7/SparseArrays/src/sparsevector.jl:1846</a></li> <li> \\(A::<b>LinearAlgebra.UnitUpperTriangular</b>, b::<b>SparseArrays.SparseVector</b>) in SparseArrays at <a href=\"file:///buildworker/worker/package_linux64/build/usr/share/julia/stdlib/v1.7/SparseArrays/src/sparsevector.jl\" target=\"_blank\">/home/hesed/julia-1.7.2/share/julia/stdlib/v1.7/SparseArrays/src/sparsevector.jl:1853</a></li> <li> \\(A::<b>Union{LinearAlgebra.UnitLowerTriangular, LinearAlgebra.UnitUpperTriangular}</b>, B::<b>AbstractVector</b>) in LinearAlgebra at <a href=\"file:///buildworker/worker/package_linux64/build/usr/share/julia/stdlib/v1.7/LinearAlgebra/src/triangular.jl\" target=\"_blank\">/home/hesed/julia-1.7.2/share/julia/stdlib/v1.7/LinearAlgebra/src/triangular.jl:1648</a></li> <li> \\(A::<b>Union{LinearAlgebra.UnitLowerTriangular, LinearAlgebra.UnitUpperTriangular}</b>, B::<b>AbstractMatrix</b>) in LinearAlgebra at <a href=\"file:///buildworker/worker/package_linux64/build/usr/share/julia/stdlib/v1.7/LinearAlgebra/src/triangular.jl\" target=\"_blank\">/home/hesed/julia-1.7.2/share/julia/stdlib/v1.7/LinearAlgebra/src/triangular.jl:1648</a></li> <li> \\(F::<b>LinearAlgebra.LQ{T, S} where S<:AbstractMatrix{T}</b>, B::<b>Union{Array{Complex{T}, 1}, Array{Complex{T}, 2}}</b>)<i> where T<:Union{Float32, Float64}</i> in LinearAlgebra at <a href=\"file:///buildworker/worker/package_linux64/build/usr/share/julia/stdlib/v1.7/LinearAlgebra/src/lq.jl\" target=\"_blank\">/home/hesed/julia-1.7.2/share/julia/stdlib/v1.7/LinearAlgebra/src/lq.jl:323</a></li> <li> \\(F::<b>Union{LinearAlgebra.BunchKaufman{T, S}, LinearAlgebra.Cholesky{T, S}, LinearAlgebra.LQ{T, S}, LinearAlgebra.LU{T, S}, LinearAlgebra.QR{T, S}, LinearAlgebra.QRCompactWY{T, S}, LinearAlgebra.QRPivoted{T, S}, LinearAlgebra.SVD{T, <:Real, S}} where S</b>, B::<b>Union{Array{Complex{T}, 1}, Array{Complex{T}, 2}}</b>)<i> where T<:Union{Float32, Float64}</i> in LinearAlgebra at <a href=\"file:///buildworker/worker/package_linux64/build/usr/share/julia/stdlib/v1.7/LinearAlgebra/src/LinearAlgebra.jl\" target=\"_blank\">/home/hesed/julia-1.7.2/share/julia/stdlib/v1.7/LinearAlgebra/src/LinearAlgebra.jl:455</a></li> <li> \\(F::<b>Union{LinearAlgebra.Adjoint{<:Any, <:Union{LinearAlgebra.BunchKaufman{T, S}, LinearAlgebra.Cholesky{T, S}, LinearAlgebra.LQ{T, S}, LinearAlgebra.LU{T, S}, LinearAlgebra.QR{T, S}, LinearAlgebra.QRCompactWY{T, S}, LinearAlgebra.QRPivoted{T, S}, LinearAlgebra.SVD{T, <:Real, S}} where {T, S}}, Union{LinearAlgebra.BunchKaufman{T, S}, LinearAlgebra.Cholesky{T, S}, LinearAlgebra.LQ{T, S}, LinearAlgebra.LU{T, S}, LinearAlgebra.QR{T, S}, LinearAlgebra.QRCompactWY{T, S}, LinearAlgebra.QRPivoted{T, S}, LinearAlgebra.SVD{T, <:Real, S}} where {T, S}}</b>, B::<b>AbstractVecOrMat</b>) in LinearAlgebra at <a href=\"file:///buildworker/worker/package_linux64/build/usr/share/julia/stdlib/v1.7/LinearAlgebra/src/LinearAlgebra.jl\" target=\"_blank\">/home/hesed/julia-1.7.2/share/julia/stdlib/v1.7/LinearAlgebra/src/LinearAlgebra.jl:426</a></li> <li> \\(F::<b>SuiteSparse.SPQR.QRSparse{T}</b>, B::<b>Union{Array{Complex{T}, 1}, Array{Complex{T}, 2}}</b>)<i> where T<:Union{Float32, Float64}</i> in SuiteSparse.SPQR at <a href=\"file:///buildworker/worker/package_linux64/build/usr/share/julia/stdlib/v1.7/SuiteSparse/src/spqr.jl\" target=\"_blank\">/home/hesed/julia-1.7.2/share/julia/stdlib/v1.7/SuiteSparse/src/spqr.jl:327</a></li> <li> \\(F::<b>SuiteSparse.SPQR.QRSparse{T}</b>, B::<b>StridedVecOrMat{T}</b>)<i> where T</i> in SuiteSparse.SPQR at <a href=\"file:///buildworker/worker/package_linux64/build/usr/share/julia/stdlib/v1.7/SuiteSparse/src/spqr.jl\" target=\"_blank\">/home/hesed/julia-1.7.2/share/julia/stdlib/v1.7/SuiteSparse/src/spqr.jl:385</a></li> <li> \\(F::<b>SuiteSparse.SPQR.QRSparse</b>, B::<b>StridedVecOrMat</b>) in SuiteSparse.SPQR at <a href=\"file:///buildworker/worker/package_linux64/build/usr/share/julia/stdlib/v1.7/SuiteSparse/src/spqr.jl\" target=\"_blank\">/home/hesed/julia-1.7.2/share/julia/stdlib/v1.7/SuiteSparse/src/spqr.jl:408</a></li> <li> \\(Da::<b>LinearAlgebra.Diagonal</b>, Db::<b>LinearAlgebra.Diagonal</b>) in LinearAlgebra at <a href=\"file:///buildworker/worker/package_linux64/build/usr/share/julia/stdlib/v1.7/LinearAlgebra/src/diagonal.jl\" target=\"_blank\">/home/hesed/julia-1.7.2/share/julia/stdlib/v1.7/LinearAlgebra/src/diagonal.jl:599</a></li> <li> \\(x::<b>LinearAlgebra.Diagonal</b>, H::<b>LinearAlgebra.UpperHessenberg</b>) in LinearAlgebra at <a href=\"file:///buildworker/worker/package_linux64/build/usr/share/julia/stdlib/v1.7/LinearAlgebra/src/hessenberg.jl\" target=\"_blank\">/home/hesed/julia-1.7.2/share/julia/stdlib/v1.7/LinearAlgebra/src/hessenberg.jl:117</a></li> <li> \\(D::<b>LinearAlgebra.Diagonal</b>, A::<b>AbstractMatrix</b>) in LinearAlgebra at <a href=\"file:///buildworker/worker/package_linux64/build/usr/share/julia/stdlib/v1.7/LinearAlgebra/src/diagonal.jl\" target=\"_blank\">/home/hesed/julia-1.7.2/share/julia/stdlib/v1.7/LinearAlgebra/src/diagonal.jl:595</a></li> <li> \\(D::<b>LinearAlgebra.Diagonal</b>, b::<b>AbstractVector</b>) in LinearAlgebra at <a href=\"file:///buildworker/worker/package_linux64/build/usr/share/julia/stdlib/v1.7/LinearAlgebra/src/diagonal.jl\" target=\"_blank\">/home/hesed/julia-1.7.2/share/julia/stdlib/v1.7/LinearAlgebra/src/diagonal.jl:598</a></li> <li> \\(J1::<b>LinearAlgebra.UniformScaling</b>, J2::<b>LinearAlgebra.UniformScaling</b>) in LinearAlgebra at <a href=\"file:///buildworker/worker/package_linux64/build/usr/share/julia/stdlib/v1.7/LinearAlgebra/src/uniformscaling.jl\" target=\"_blank\">/home/hesed/julia-1.7.2/share/julia/stdlib/v1.7/LinearAlgebra/src/uniformscaling.jl:275</a></li> <li> \\(x::<b>LinearAlgebra.UniformScaling</b>, H::<b>LinearAlgebra.UpperHessenberg</b>) in LinearAlgebra at <a href=\"file:///buildworker/worker/package_linux64/build/usr/share/julia/stdlib/v1.7/LinearAlgebra/src/hessenberg.jl\" target=\"_blank\">/home/hesed/julia-1.7.2/share/julia/stdlib/v1.7/LinearAlgebra/src/hessenberg.jl:117</a></li> <li> \\(J::<b>LinearAlgebra.UniformScaling</b>, A::<b>AbstractVecOrMat</b>) in LinearAlgebra at <a href=\"file:///buildworker/worker/package_linux64/build/usr/share/julia/stdlib/v1.7/LinearAlgebra/src/uniformscaling.jl\" target=\"_blank\">/home/hesed/julia-1.7.2/share/julia/stdlib/v1.7/LinearAlgebra/src/uniformscaling.jl:276</a></li> <li> \\(L::<b>SuiteSparse.CHOLMOD.Factor</b>, B::<b>SparseArrays.SparseMatrixCSC</b>) in SuiteSparse.CHOLMOD at <a href=\"file:///buildworker/worker/package_linux64/build/usr/share/julia/stdlib/v1.7/SuiteSparse/src/cholmod.jl\" target=\"_blank\">/home/hesed/julia-1.7.2/share/julia/stdlib/v1.7/SuiteSparse/src/cholmod.jl:1550</a></li> <li> \\(L::<b>SuiteSparse.CHOLMOD.Factor</b>, B::<b>LinearAlgebra.Adjoint{<:Any, <:SparseArrays.SparseMatrixCSC}</b>) in SuiteSparse.CHOLMOD at <a href=\"file:///buildworker/worker/package_linux64/build/usr/share/julia/stdlib/v1.7/SuiteSparse/src/cholmod.jl\" target=\"_blank\">/home/hesed/julia-1.7.2/share/julia/stdlib/v1.7/SuiteSparse/src/cholmod.jl:1551</a></li> <li> \\(L::<b>SuiteSparse.CHOLMOD.Factor{T}</b>, B::<b>LinearAlgebra.Adjoint{<:Any, <:Array{Complex{T}, 2}}</b>)<i> where T<:Float64</i> in SuiteSparse.CHOLMOD at <a href=\"file:///buildworker/worker/package_linux64/build/usr/share/julia/stdlib/v1.7/SuiteSparse/src/cholmod.jl\" target=\"_blank\">/home/hesed/julia-1.7.2/share/julia/stdlib/v1.7/SuiteSparse/src/cholmod.jl:1540</a></li> <li> \\(L::<b>SuiteSparse.CHOLMOD.Factor{T}</b>, B::<b>LinearAlgebra.Adjoint{<:Any, <:StridedMatrix{T} where T}</b>)<i> where T<:Union{Float64, ComplexF64}</i> in SuiteSparse.CHOLMOD at <a href=\"file:///buildworker/worker/package_linux64/build/usr/share/julia/stdlib/v1.7/SuiteSparse/src/cholmod.jl\" target=\"_blank\">/home/hesed/julia-1.7.2/share/julia/stdlib/v1.7/SuiteSparse/src/cholmod.jl:1545</a></li> <li> \\(L::<b>SuiteSparse.CHOLMOD.Factor</b>, B::<b>LinearAlgebra.Transpose{<:Any, <:SparseArrays.SparseMatrixCSC}</b>) in SuiteSparse.CHOLMOD at <a href=\"file:///buildworker/worker/package_linux64/build/usr/share/julia/stdlib/v1.7/SuiteSparse/src/cholmod.jl\" target=\"_blank\">/home/hesed/julia-1.7.2/share/julia/stdlib/v1.7/SuiteSparse/src/cholmod.jl:1552</a></li> <li> \\(L::<b>SuiteSparse.CHOLMOD.Factor{T}</b>, B::<b>LinearAlgebra.Transpose{<:Any, <:Array{Complex{T}, 2}}</b>)<i> where T<:Float64</i> in SuiteSparse.CHOLMOD at <a href=\"file:///buildworker/worker/package_linux64/build/usr/share/julia/stdlib/v1.7/SuiteSparse/src/cholmod.jl\" target=\"_blank\">/home/hesed/julia-1.7.2/share/julia/stdlib/v1.7/SuiteSparse/src/cholmod.jl:1541</a></li> <li> \\(L::<b>SuiteSparse.CHOLMOD.Factor{T}</b>, B::<b>LinearAlgebra.Transpose{<:Any, <:StridedMatrix{T} where T}</b>)<i> where T<:Union{Float64, ComplexF64}</i> in SuiteSparse.CHOLMOD at <a href=\"file:///buildworker/worker/package_linux64/build/usr/share/julia/stdlib/v1.7/SuiteSparse/src/cholmod.jl\" target=\"_blank\">/home/hesed/julia-1.7.2/share/julia/stdlib/v1.7/SuiteSparse/src/cholmod.jl:1546</a></li> <li> \\(L::<b>SuiteSparse.CHOLMOD.Factor</b>, B::<b>SuiteSparse.CHOLMOD.Sparse</b>) in SuiteSparse.CHOLMOD at <a href=\"file:///buildworker/worker/package_linux64/build/usr/share/julia/stdlib/v1.7/SuiteSparse/src/cholmod.jl\" target=\"_blank\">/home/hesed/julia-1.7.2/share/julia/stdlib/v1.7/SuiteSparse/src/cholmod.jl:1548</a></li> <li> \\(L::<b>SuiteSparse.CHOLMOD.Factor</b>, B::<b>SparseArrays.SparseVector</b>) in SuiteSparse.CHOLMOD at <a href=\"file:///buildworker/worker/package_linux64/build/usr/share/julia/stdlib/v1.7/SuiteSparse/src/cholmod.jl\" target=\"_blank\">/home/hesed/julia-1.7.2/share/julia/stdlib/v1.7/SuiteSparse/src/cholmod.jl:1553</a></li> <li> \\(L::<b>SuiteSparse.CHOLMOD.Factor{T}</b>, B::<b>Array{Complex{T}, 2}</b>)<i> where T<:Float64</i> in SuiteSparse.CHOLMOD at <a href=\"file:///buildworker/worker/package_linux64/build/usr/share/julia/stdlib/v1.7/SuiteSparse/src/cholmod.jl\" target=\"_blank\">/home/hesed/julia-1.7.2/share/julia/stdlib/v1.7/SuiteSparse/src/cholmod.jl:1539</a></li> <li> \\(L::<b>SuiteSparse.CHOLMOD.Factor{T}</b>, B::<b>Array{Complex{T}, 1}</b>)<i> where T<:Float64</i> in SuiteSparse.CHOLMOD at <a href=\"file:///buildworker/worker/package_linux64/build/usr/share/julia/stdlib/v1.7/SuiteSparse/src/cholmod.jl\" target=\"_blank\">/home/hesed/julia-1.7.2/share/julia/stdlib/v1.7/SuiteSparse/src/cholmod.jl:1538</a></li> <li> \\(F::<b>LinearAlgebra.Factorization{T}</b>, B::<b>Union{Array{Complex{T}, 1}, Array{Complex{T}, 2}}</b>)<i> where T<:Union{Float32, Float64}</i> in LinearAlgebra at <a href=\"file:///buildworker/worker/package_linux64/build/usr/share/julia/stdlib/v1.7/LinearAlgebra/src/factorization.jl\" target=\"_blank\">/home/hesed/julia-1.7.2/share/julia/stdlib/v1.7/LinearAlgebra/src/factorization.jl:90</a></li> <li> \\(L::<b>SuiteSparse.CHOLMOD.Factor{T}</b>, B::<b>SuiteSparse.CHOLMOD.Dense{T}</b>)<i> where T<:Union{Float64, ComplexF64}</i> in SuiteSparse.CHOLMOD at <a href=\"file:///buildworker/worker/package_linux64/build/usr/share/julia/stdlib/v1.7/SuiteSparse/src/cholmod.jl\" target=\"_blank\">/home/hesed/julia-1.7.2/share/julia/stdlib/v1.7/SuiteSparse/src/cholmod.jl:1535</a></li> <li> \\(L::<b>SuiteSparse.CHOLMOD.Factor{T}</b>, B::<b>StridedMatrix{T} where T</b>)<i> where T<:Union{Float64, ComplexF64}</i> in SuiteSparse.CHOLMOD at <a href=\"file:///buildworker/worker/package_linux64/build/usr/share/julia/stdlib/v1.7/SuiteSparse/src/cholmod.jl\" target=\"_blank\">/home/hesed/julia-1.7.2/share/julia/stdlib/v1.7/SuiteSparse/src/cholmod.jl:1544</a></li> <li> \\(L::<b>SuiteSparse.CHOLMOD.Factor{T}</b>, b::<b>StridedVector{T} where T</b>)<i> where T<:Union{Float64, ComplexF64}</i> in SuiteSparse.CHOLMOD at <a href=\"file:///buildworker/worker/package_linux64/build/usr/share/julia/stdlib/v1.7/SuiteSparse/src/cholmod.jl\" target=\"_blank\">/home/hesed/julia-1.7.2/share/julia/stdlib/v1.7/SuiteSparse/src/cholmod.jl:1543</a></li> <li> \\(F::<b>Union{LinearAlgebra.Adjoint{<:Any, <:LinearAlgebra.Factorization}, LinearAlgebra.Factorization}</b>, B::<b>AbstractVecOrMat</b>) in LinearAlgebra at <a href=\"file:///buildworker/worker/package_linux64/build/usr/share/julia/stdlib/v1.7/LinearAlgebra/src/factorization.jl\" target=\"_blank\">/home/hesed/julia-1.7.2/share/julia/stdlib/v1.7/LinearAlgebra/src/factorization.jl:102</a></li> <li> \\(A::<b>Union{BitMatrix, BitVector}</b>, B::<b>Union{BitMatrix, BitVector}</b>) in Base at <a href=\"https://github.com/JuliaLang/julia/tree/bf534986350a991e4a1b29126de0342ffd76205e/base/bitarray.jl#L1197\" target=\"_blank\">bitarray.jl:1197</a></li> <li> \\(A::<b>AbstractMatrix</b>, B::<b>AbstractVecOrMat</b>) in LinearAlgebra at <a href=\"file:///buildworker/worker/package_linux64/build/usr/share/julia/stdlib/v1.7/LinearAlgebra/src/generic.jl\" target=\"_blank\">/home/hesed/julia-1.7.2/share/julia/stdlib/v1.7/LinearAlgebra/src/generic.jl:1128</a></li> <li> \\(a::<b>AbstractVector</b>, b::<b>AbstractArray</b>) in LinearAlgebra at <a href=\"file:///buildworker/worker/package_linux64/build/usr/share/julia/stdlib/v1.7/LinearAlgebra/src/generic.jl\" target=\"_blank\">/home/hesed/julia-1.7.2/share/julia/stdlib/v1.7/LinearAlgebra/src/generic.jl:1147</a></li> <li> \\(x, y) in Base at <a href=\"https://github.com/JuliaLang/julia/tree/bf534986350a991e4a1b29126de0342ffd76205e/base/operators.jl#L693\" target=\"_blank\">operators.jl:693</a></li> </ul>"
      ],
      "text/plain": [
       "# 135 methods for generic function \"\\\":\n",
       "[1] \\(A::Union{LinearAlgebra.QR{T, S} where S<:AbstractMatrix{T}, LinearAlgebra.QRCompactWY{T, M} where M<:AbstractMatrix{T}, LinearAlgebra.QRPivoted{T, S} where S<:AbstractMatrix{T}}, BIn::Union{Array{Complex{T}, 1}, Array{Complex{T}, 2}}) where T<:Union{Float32, Float64} in LinearAlgebra at /home/hesed/julia-1.7.2/share/julia/stdlib/v1.7/LinearAlgebra/src/qr.jl:1016\n",
       "[2] \\(L::Union{LinearAlgebra.Adjoint{T, <:LinearAlgebra.UpperTriangular{T, <:Union{SparseArrays.AbstractSparseMatrixCSC{T, Ti}, SubArray{T, 2, <:SparseArrays.AbstractSparseMatrixCSC{T, Ti}, Tuple{Base.Slice{Base.OneTo{Int64}}, I}} where I<:AbstractUnitRange} where Ti}}, LinearAlgebra.Adjoint{T, <:LinearAlgebra.UnitUpperTriangular{T, <:Union{SparseArrays.AbstractSparseMatrixCSC{T, Ti}, SubArray{T, 2, <:SparseArrays.AbstractSparseMatrixCSC{T, Ti}, Tuple{Base.Slice{Base.OneTo{Int64}}, I}} where I<:AbstractUnitRange} where Ti}}, LinearAlgebra.Adjoint{T, <:LinearAlgebra.LowerTriangular{T, <:Union{SparseArrays.AbstractSparseMatrixCSC{T, Ti}, SubArray{T, 2, <:SparseArrays.AbstractSparseMatrixCSC{T, Ti}, Tuple{Base.Slice{Base.OneTo{Int64}}, I}} where I<:AbstractUnitRange} where Ti}}, LinearAlgebra.Adjoint{T, <:LinearAlgebra.UnitLowerTriangular{T, <:Union{SparseArrays.AbstractSparseMatrixCSC{T, Ti}, SubArray{T, 2, <:SparseArrays.AbstractSparseMatrixCSC{T, Ti}, Tuple{Base.Slice{Base.OneTo{Int64}}, I}} where I<:AbstractUnitRange} where Ti}}, LinearAlgebra.LowerTriangular{T, <:Union{SparseArrays.AbstractSparseMatrixCSC{T, Ti}, SubArray{T, 2, <:SparseArrays.AbstractSparseMatrixCSC{T, Ti}, Tuple{Base.Slice{Base.OneTo{Int64}}, I}} where I<:AbstractUnitRange} where Ti}, LinearAlgebra.Transpose{T, <:LinearAlgebra.UpperTriangular{T, <:Union{SparseArrays.AbstractSparseMatrixCSC{T, Ti}, SubArray{T, 2, <:SparseArrays.AbstractSparseMatrixCSC{T, Ti}, Tuple{Base.Slice{Base.OneTo{Int64}}, I}} where I<:AbstractUnitRange} where Ti}}, LinearAlgebra.Transpose{T, <:LinearAlgebra.UnitUpperTriangular{T, <:Union{SparseArrays.AbstractSparseMatrixCSC{T, Ti}, SubArray{T, 2, <:SparseArrays.AbstractSparseMatrixCSC{T, Ti}, Tuple{Base.Slice{Base.OneTo{Int64}}, I}} where I<:AbstractUnitRange} where Ti}}, LinearAlgebra.Transpose{T, <:LinearAlgebra.LowerTriangular{T, <:Union{SparseArrays.AbstractSparseMatrixCSC{T, Ti}, SubArray{T, 2, <:SparseArrays.AbstractSparseMatrixCSC{T, Ti}, Tuple{Base.Slice{Base.OneTo{Int64}}, I}} where I<:AbstractUnitRange} where Ti}}, LinearAlgebra.Transpose{T, <:LinearAlgebra.UnitLowerTriangular{T, <:Union{SparseArrays.AbstractSparseMatrixCSC{T, Ti}, SubArray{T, 2, <:SparseArrays.AbstractSparseMatrixCSC{T, Ti}, Tuple{Base.Slice{Base.OneTo{Int64}}, I}} where I<:AbstractUnitRange} where Ti}}, LinearAlgebra.UnitLowerTriangular{T, <:Union{SparseArrays.AbstractSparseMatrixCSC{T, Ti}, SubArray{T, 2, <:SparseArrays.AbstractSparseMatrixCSC{T, Ti}, Tuple{Base.Slice{Base.OneTo{Int64}}, I}} where I<:AbstractUnitRange} where Ti}, LinearAlgebra.UnitUpperTriangular{T, <:Union{SparseArrays.AbstractSparseMatrixCSC{T, Ti}, SubArray{T, 2, <:SparseArrays.AbstractSparseMatrixCSC{T, Ti}, Tuple{Base.Slice{Base.OneTo{Int64}}, I}} where I<:AbstractUnitRange} where Ti}, LinearAlgebra.UpperTriangular{T, <:Union{SparseArrays.AbstractSparseMatrixCSC{T, Ti}, SubArray{T, 2, <:SparseArrays.AbstractSparseMatrixCSC{T, Ti}, Tuple{Base.Slice{Base.OneTo{Int64}}, I}} where I<:AbstractUnitRange} where Ti}} where T, B::SparseArrays.AbstractSparseMatrixCSC) in SparseArrays at /home/hesed/julia-1.7.2/share/julia/stdlib/v1.7/SparseArrays/src/linalg.jl:811\n",
       "[3] \\(A::Union{LinearAlgebra.Hermitian{ComplexF64, SparseArrays.SparseMatrixCSC{ComplexF64, Int64}}, LinearAlgebra.Hermitian{Float64, SparseArrays.SparseMatrixCSC{Float64, Int64}}, LinearAlgebra.Symmetric{Float64, SparseArrays.SparseMatrixCSC{Float64, Int64}}}, B::Union{LinearAlgebra.Adjoint{<:Any, <:StridedVecOrMat}, LinearAlgebra.Transpose{<:Any, <:StridedVecOrMat}, StridedVecOrMat}) in SuiteSparse.CHOLMOD at /home/hesed/julia-1.7.2/share/julia/stdlib/v1.7/SuiteSparse/src/cholmod.jl:1573\n",
       "[4] \\(A::Union{LinearAlgebra.Hermitian{var\"#s859\", var\"#s858\"}, LinearAlgebra.Symmetric{var\"#s859\", var\"#s858\"}} where {var\"#s859\", var\"#s858\"<:(StridedMatrix{T} where T)}, B::AbstractVector) in LinearAlgebra at /home/hesed/julia-1.7.2/share/julia/stdlib/v1.7/LinearAlgebra/src/symmetric.jl:655\n",
       "[5] \\(A::Union{LinearAlgebra.Hermitian{var\"#s859\", var\"#s858\"}, LinearAlgebra.Symmetric{var\"#s859\", var\"#s858\"}} where {var\"#s859\", var\"#s858\"<:(StridedMatrix{T} where T)}, B::AbstractMatrix) in LinearAlgebra at /home/hesed/julia-1.7.2/share/julia/stdlib/v1.7/LinearAlgebra/src/symmetric.jl:658\n",
       "[6] \\(A::AbstractMatrix, J::LinearAlgebra.UniformScaling) in LinearAlgebra at /home/hesed/julia-1.7.2/share/julia/stdlib/v1.7/LinearAlgebra/src/uniformscaling.jl:277\n",
       "[7] \\(A::SparseArrays.AbstractSparseMatrixCSC, B::AbstractVecOrMat) in SparseArrays at /home/hesed/julia-1.7.2/share/julia/stdlib/v1.7/SparseArrays/src/linalg.jl:1538\n",
       "[8] \\(B::Number, A::LinearAlgebra.SymTridiagonal) in LinearAlgebra at /home/hesed/julia-1.7.2/share/julia/stdlib/v1.7/LinearAlgebra/src/tridiag.jl:214\n",
       "[9] \\(B::Number, A::LinearAlgebra.Tridiagonal) in LinearAlgebra at /home/hesed/julia-1.7.2/share/julia/stdlib/v1.7/LinearAlgebra/src/tridiag.jl:745\n",
       "[10] \\(x::Number, A::LinearAlgebra.UpperTriangular) in LinearAlgebra at /home/hesed/julia-1.7.2/share/julia/stdlib/v1.7/LinearAlgebra/src/triangular.jl:880\n",
       "[11] \\(x::Number, A::LinearAlgebra.UnitUpperTriangular) in LinearAlgebra at /home/hesed/julia-1.7.2/share/julia/stdlib/v1.7/LinearAlgebra/src/triangular.jl:882\n",
       "[12] \\(x::Number, A::LinearAlgebra.LowerTriangular) in LinearAlgebra at /home/hesed/julia-1.7.2/share/julia/stdlib/v1.7/LinearAlgebra/src/triangular.jl:880\n",
       "[13] \\(x::Number, A::LinearAlgebra.UnitLowerTriangular) in LinearAlgebra at /home/hesed/julia-1.7.2/share/julia/stdlib/v1.7/LinearAlgebra/src/triangular.jl:882\n",
       "[14] \\(x::Number, D::LinearAlgebra.Diagonal) in LinearAlgebra at /home/hesed/julia-1.7.2/share/julia/stdlib/v1.7/LinearAlgebra/src/diagonal.jl:193\n",
       "[15] \\(B::Number, A::LinearAlgebra.Bidiagonal) in LinearAlgebra at /home/hesed/julia-1.7.2/share/julia/stdlib/v1.7/LinearAlgebra/src/bidiag.jl:376\n",
       "[16] \\(x::Number, J::LinearAlgebra.UniformScaling) in LinearAlgebra at /home/hesed/julia-1.7.2/share/julia/stdlib/v1.7/LinearAlgebra/src/uniformscaling.jl:281\n",
       "[17] \\(x::Number, H::LinearAlgebra.UpperHessenberg) in LinearAlgebra at /home/hesed/julia-1.7.2/share/julia/stdlib/v1.7/LinearAlgebra/src/hessenberg.jl:117\n",
       "[18] \\(A::Number, B::AbstractArray) in Base at arraymath.jl:52\n",
       "[19] \\(A::LinearAlgebra.UnitLowerTriangular, B::LinearAlgebra.LowerTriangular) in LinearAlgebra at /home/hesed/julia-1.7.2/share/julia/stdlib/v1.7/LinearAlgebra/src/triangular.jl:1514\n",
       "[20] \\(A::LinearAlgebra.UnitLowerTriangular, B::LinearAlgebra.UnitLowerTriangular) in LinearAlgebra at /home/hesed/julia-1.7.2/share/julia/stdlib/v1.7/LinearAlgebra/src/triangular.jl:1530\n",
       "[21] \\(xA::LinearAlgebra.UnitLowerTriangular{<:TA, <:StridedMatrix{T} where T}, b::SparseArrays.SparseVector{Tb}) where {TA<:Number, Tb<:Number} in SparseArrays at /home/hesed/julia-1.7.2/share/julia/stdlib/v1.7/SparseArrays/src/sparsevector.jl:1866\n",
       "[22] \\(xA::LinearAlgebra.UnitLowerTriangular{<:TA, <:LinearAlgebra.Transpose{<:Any, <:StridedMatrix{T} where T}}, b::SparseArrays.SparseVector{Tb}) where {TA<:Number, Tb<:Number} in SparseArrays at /home/hesed/julia-1.7.2/share/julia/stdlib/v1.7/SparseArrays/src/sparsevector.jl:1866\n",
       "[23] \\(xA::LinearAlgebra.UnitLowerTriangular{<:TA, <:LinearAlgebra.Adjoint{<:Any, <:StridedMatrix{T} where T}}, b::SparseArrays.SparseVector{Tb}) where {TA<:Number, Tb<:Number} in SparseArrays at /home/hesed/julia-1.7.2/share/julia/stdlib/v1.7/SparseArrays/src/sparsevector.jl:1866\n",
       "[24] \\(A::LinearAlgebra.UnitLowerTriangular{<:TA, <:AbstractMatrix}, b::SparseArrays.SparseVector{Tb}) where {TA<:Number, Tb<:Number} in SparseArrays at /home/hesed/julia-1.7.2/share/julia/stdlib/v1.7/SparseArrays/src/sparsevector.jl:1846\n",
       "[25] \\(A::LinearAlgebra.UnitLowerTriangular, b::SparseArrays.SparseVector) in SparseArrays at /home/hesed/julia-1.7.2/share/julia/stdlib/v1.7/SparseArrays/src/sparsevector.jl:1853\n",
       "[26] \\(F::LinearAlgebra.Factorization, J::LinearAlgebra.UniformScaling) in LinearAlgebra at /home/hesed/julia-1.7.2/share/julia/stdlib/v1.7/LinearAlgebra/src/uniformscaling.jl:279\n",
       "[27] \\(L::SuiteSparse.CHOLMOD.FactorComponent, B::Union{SparseArrays.SparseMatrixCSC{Tv, Ti}, SparseArrays.SparseVector{Tv, Ti}} where {Tv, Ti}) in SuiteSparse.CHOLMOD at /home/hesed/julia-1.7.2/share/julia/stdlib/v1.7/SuiteSparse/src/cholmod.jl:1527\n",
       "[28] \\(L::SuiteSparse.CHOLMOD.FactorComponent, B::LinearAlgebra.Transpose{<:Any, <:SparseArrays.SparseMatrixCSC}) in SuiteSparse.CHOLMOD at /home/hesed/julia-1.7.2/share/julia/stdlib/v1.7/SuiteSparse/src/cholmod.jl:1531\n",
       "[29] \\(L::SuiteSparse.CHOLMOD.FactorComponent, B::LinearAlgebra.Adjoint{<:Any, <:SparseArrays.SparseMatrixCSC}) in SuiteSparse.CHOLMOD at /home/hesed/julia-1.7.2/share/julia/stdlib/v1.7/SuiteSparse/src/cholmod.jl:1530\n",
       "[30] \\(L::SuiteSparse.CHOLMOD.FactorComponent{T, :DUP}, B::SuiteSparse.CHOLMOD.Dense) where T in SuiteSparse.CHOLMOD at /home/hesed/julia-1.7.2/share/julia/stdlib/v1.7/SuiteSparse/src/cholmod.jl:1512\n",
       "[31] \\(L::SuiteSparse.CHOLMOD.FactorComponent{T, :PtLD}, B::SuiteSparse.CHOLMOD.Dense) where T in SuiteSparse.CHOLMOD at /home/hesed/julia-1.7.2/share/julia/stdlib/v1.7/SuiteSparse/src/cholmod.jl:1508\n",
       "[32] \\(L::SuiteSparse.CHOLMOD.FactorComponent{T, :DU}, B::SuiteSparse.CHOLMOD.Dense) where T in SuiteSparse.CHOLMOD at /home/hesed/julia-1.7.2/share/julia/stdlib/v1.7/SuiteSparse/src/cholmod.jl:1505\n",
       "[33] \\(L::SuiteSparse.CHOLMOD.FactorComponent{T, :LD}, B::SuiteSparse.CHOLMOD.Dense) where T in SuiteSparse.CHOLMOD at /home/hesed/julia-1.7.2/share/julia/stdlib/v1.7/SuiteSparse/src/cholmod.jl:1502\n",
       "[34] \\(L::SuiteSparse.CHOLMOD.FactorComponent{T, :D}, B::SuiteSparse.CHOLMOD.Dense) where T in SuiteSparse.CHOLMOD at /home/hesed/julia-1.7.2/share/julia/stdlib/v1.7/SuiteSparse/src/cholmod.jl:1499\n",
       "[35] \\(L::SuiteSparse.CHOLMOD.FactorComponent{T, :UP}, B::SuiteSparse.CHOLMOD.Dense) where T in SuiteSparse.CHOLMOD at /home/hesed/julia-1.7.2/share/julia/stdlib/v1.7/SuiteSparse/src/cholmod.jl:1494\n",
       "[36] \\(L::SuiteSparse.CHOLMOD.FactorComponent{T, :PtL}, B::SuiteSparse.CHOLMOD.Dense) where T in SuiteSparse.CHOLMOD at /home/hesed/julia-1.7.2/share/julia/stdlib/v1.7/SuiteSparse/src/cholmod.jl:1490\n",
       "[37] \\(L::SuiteSparse.CHOLMOD.FactorComponent{T, :U}, B::SuiteSparse.CHOLMOD.Dense) where T in SuiteSparse.CHOLMOD at /home/hesed/julia-1.7.2/share/julia/stdlib/v1.7/SuiteSparse/src/cholmod.jl:1486\n",
       "[38] \\(L::SuiteSparse.CHOLMOD.FactorComponent{T, :L}, B::SuiteSparse.CHOLMOD.Dense) where T in SuiteSparse.CHOLMOD at /home/hesed/julia-1.7.2/share/julia/stdlib/v1.7/SuiteSparse/src/cholmod.jl:1483\n",
       "[39] \\(L::SuiteSparse.CHOLMOD.FactorComponent{T, :UP}, B::SuiteSparse.CHOLMOD.Sparse) where T in SuiteSparse.CHOLMOD at /home/hesed/julia-1.7.2/share/julia/stdlib/v1.7/SuiteSparse/src/cholmod.jl:1494\n",
       "[40] \\(L::SuiteSparse.CHOLMOD.FactorComponent{T, :PtL}, B::SuiteSparse.CHOLMOD.Sparse) where T in SuiteSparse.CHOLMOD at /home/hesed/julia-1.7.2/share/julia/stdlib/v1.7/SuiteSparse/src/cholmod.jl:1490\n",
       "[41] \\(L::SuiteSparse.CHOLMOD.FactorComponent{T, :U}, B::SuiteSparse.CHOLMOD.Sparse) where T in SuiteSparse.CHOLMOD at /home/hesed/julia-1.7.2/share/julia/stdlib/v1.7/SuiteSparse/src/cholmod.jl:1486\n",
       "[42] \\(L::SuiteSparse.CHOLMOD.FactorComponent{T, :L}, B::SuiteSparse.CHOLMOD.Sparse) where T in SuiteSparse.CHOLMOD at /home/hesed/julia-1.7.2/share/julia/stdlib/v1.7/SuiteSparse/src/cholmod.jl:1483\n",
       "[43] \\(L::SuiteSparse.CHOLMOD.FactorComponent{T, :D}, B::SuiteSparse.CHOLMOD.Sparse) where T in SuiteSparse.CHOLMOD at /home/hesed/julia-1.7.2/share/julia/stdlib/v1.7/SuiteSparse/src/cholmod.jl:1499\n",
       "[44] \\(L::SuiteSparse.CHOLMOD.FactorComponent{T, :LD}, B::SuiteSparse.CHOLMOD.Sparse) where T in SuiteSparse.CHOLMOD at /home/hesed/julia-1.7.2/share/julia/stdlib/v1.7/SuiteSparse/src/cholmod.jl:1502\n",
       "[45] \\(L::SuiteSparse.CHOLMOD.FactorComponent{T, :DU}, B::SuiteSparse.CHOLMOD.Sparse) where T in SuiteSparse.CHOLMOD at /home/hesed/julia-1.7.2/share/julia/stdlib/v1.7/SuiteSparse/src/cholmod.jl:1505\n",
       "[46] \\(L::SuiteSparse.CHOLMOD.FactorComponent{T, :PtLD}, B::SuiteSparse.CHOLMOD.Sparse) where T in SuiteSparse.CHOLMOD at /home/hesed/julia-1.7.2/share/julia/stdlib/v1.7/SuiteSparse/src/cholmod.jl:1508\n",
       "[47] \\(L::SuiteSparse.CHOLMOD.FactorComponent{T, :DUP}, B::SuiteSparse.CHOLMOD.Sparse) where T in SuiteSparse.CHOLMOD at /home/hesed/julia-1.7.2/share/julia/stdlib/v1.7/SuiteSparse/src/cholmod.jl:1512\n",
       "[48] \\(L::SuiteSparse.CHOLMOD.FactorComponent, b::Vector) in SuiteSparse.CHOLMOD at /home/hesed/julia-1.7.2/share/julia/stdlib/v1.7/SuiteSparse/src/cholmod.jl:1521\n",
       "[49] \\(L::SuiteSparse.CHOLMOD.FactorComponent, B::Matrix) in SuiteSparse.CHOLMOD at /home/hesed/julia-1.7.2/share/julia/stdlib/v1.7/SuiteSparse/src/cholmod.jl:1524\n",
       "[50] \\(A::LinearAlgebra.UpperTriangular, B::LinearAlgebra.UpperTriangular) in LinearAlgebra at /home/hesed/julia-1.7.2/share/julia/stdlib/v1.7/LinearAlgebra/src/triangular.jl:1538\n",
       "[51] \\(A::LinearAlgebra.UpperTriangular, B::LinearAlgebra.UnitUpperTriangular) in LinearAlgebra at /home/hesed/julia-1.7.2/share/julia/stdlib/v1.7/LinearAlgebra/src/triangular.jl:1554\n",
       "[52] \\(U::LinearAlgebra.UpperTriangular, H::LinearAlgebra.UpperHessenberg) in LinearAlgebra at /home/hesed/julia-1.7.2/share/julia/stdlib/v1.7/LinearAlgebra/src/hessenberg.jl:151\n",
       "[53] \\(xA::LinearAlgebra.UpperTriangular{<:TA, <:StridedMatrix{T} where T}, b::SparseArrays.SparseVector{Tb}) where {TA<:Number, Tb<:Number} in SparseArrays at /home/hesed/julia-1.7.2/share/julia/stdlib/v1.7/SparseArrays/src/sparsevector.jl:1866\n",
       "[54] \\(xA::LinearAlgebra.UpperTriangular{<:TA, <:LinearAlgebra.Transpose{<:Any, <:StridedMatrix{T} where T}}, b::SparseArrays.SparseVector{Tb}) where {TA<:Number, Tb<:Number} in SparseArrays at /home/hesed/julia-1.7.2/share/julia/stdlib/v1.7/SparseArrays/src/sparsevector.jl:1866\n",
       "[55] \\(xA::LinearAlgebra.UpperTriangular{<:TA, <:LinearAlgebra.Adjoint{<:Any, <:StridedMatrix{T} where T}}, b::SparseArrays.SparseVector{Tb}) where {TA<:Number, Tb<:Number} in SparseArrays at /home/hesed/julia-1.7.2/share/julia/stdlib/v1.7/SparseArrays/src/sparsevector.jl:1866\n",
       "[56] \\(A::LinearAlgebra.UpperTriangular{<:TA, <:AbstractMatrix}, b::SparseArrays.SparseVector{Tb}) where {TA<:Number, Tb<:Number} in SparseArrays at /home/hesed/julia-1.7.2/share/julia/stdlib/v1.7/SparseArrays/src/sparsevector.jl:1846\n",
       "[57] \\(A::LinearAlgebra.UpperTriangular, b::SparseArrays.SparseVector) in SparseArrays at /home/hesed/julia-1.7.2/share/julia/stdlib/v1.7/SparseArrays/src/sparsevector.jl:1853\n",
       "[58] \\(T::LinearAlgebra.SymTridiagonal, B::StridedVecOrMat) in LinearAlgebra at /home/hesed/julia-1.7.2/share/julia/stdlib/v1.7/LinearAlgebra/src/tridiag.jl:278\n",
       "[59] \\(A::LinearAlgebra.Bidiagonal{var\"#s859\", V} where {var\"#s859\"<:Number, V<:AbstractVector{var\"#s859\"}}, B::AbstractVecOrMat{<:Number}) in LinearAlgebra at /home/hesed/julia-1.7.2/share/julia/stdlib/v1.7/LinearAlgebra/src/bidiag.jl:824\n",
       "[60] \\(A::LinearAlgebra.Bidiagonal, B::AbstractVecOrMat) in LinearAlgebra at /home/hesed/julia-1.7.2/share/julia/stdlib/v1.7/LinearAlgebra/src/bidiag.jl:829\n",
       "[61] \\(A::LinearAlgebra.Transpose{T, <:LinearAlgebra.LU{T, <:StridedMatrix{T} where T}}, B::LinearAlgebra.Transpose{T, <:StridedVecOrMat{T}}) where T<:Union{Float32, Float64, ComplexF32, ComplexF64} in LinearAlgebra at /home/hesed/julia-1.7.2/share/julia/stdlib/v1.7/LinearAlgebra/src/lu.jl:433\n",
       "[62] \\(A::LinearAlgebra.Transpose{<:Any, <:LinearAlgebra.LU}, B::LinearAlgebra.Transpose{<:Any, <:StridedVecOrMat}) in LinearAlgebra at /home/hesed/julia-1.7.2/share/julia/stdlib/v1.7/LinearAlgebra/src/lu.jl:430\n",
       "[63] \\(A::LinearAlgebra.Transpose{<:Real, <:LinearAlgebra.Hermitian{<:Real, <:SparseArrays.AbstractSparseMatrixCSC}}, B::Vector) in SparseArrays at /home/hesed/julia-1.7.2/share/julia/stdlib/v1.7/SparseArrays/src/linalg.jl:872\n",
       "[64] \\(A::LinearAlgebra.Transpose{<:Complex, <:LinearAlgebra.Hermitian{<:Complex, <:SparseArrays.AbstractSparseMatrixCSC}}, B::Vector) in SparseArrays at /home/hesed/julia-1.7.2/share/julia/stdlib/v1.7/SparseArrays/src/linalg.jl:873\n",
       "[65] \\(transA::LinearAlgebra.Transpose{<:Number, <:LinearAlgebra.Bidiagonal{var\"#s857\", V} where {var\"#s857\"<:Number, V<:AbstractVector{var\"#s857\"}}}, B::AbstractVecOrMat{<:Number}) in LinearAlgebra at /home/hesed/julia-1.7.2/share/julia/stdlib/v1.7/LinearAlgebra/src/bidiag.jl:830\n",
       "[66] \\(A::LinearAlgebra.Transpose{<:Number, <:LinearAlgebra.Symmetric{<:Number, <:SparseArrays.AbstractSparseMatrixCSC}}, B::Vector) in SparseArrays at /home/hesed/julia-1.7.2/share/julia/stdlib/v1.7/SparseArrays/src/linalg.jl:874\n",
       "[67] \\(F::LinearAlgebra.Transpose{<:Any, <:LinearAlgebra.Factorization{<:Real}}, B::AbstractVecOrMat) in LinearAlgebra at /home/hesed/julia-1.7.2/share/julia/stdlib/v1.7/LinearAlgebra/src/factorization.jl:135\n",
       "[68] \\(F::LinearAlgebra.Transpose{<:Any, <:LinearAlgebra.Factorization}, B::AbstractVecOrMat) in LinearAlgebra at /home/hesed/julia-1.7.2/share/julia/stdlib/v1.7/LinearAlgebra/src/factorization.jl:136\n",
       "[69] \\(transA::LinearAlgebra.Transpose{<:Any, <:LinearAlgebra.Bidiagonal}, B::AbstractVecOrMat) in LinearAlgebra at /home/hesed/julia-1.7.2/share/julia/stdlib/v1.7/LinearAlgebra/src/bidiag.jl:836\n",
       "[70] \\(xformA::LinearAlgebra.Transpose{<:Any, <:SparseArrays.AbstractSparseMatrixCSC}, B::AbstractVecOrMat) in SparseArrays at /home/hesed/julia-1.7.2/share/julia/stdlib/v1.7/SparseArrays/src/linalg.jl:1561\n",
       "[71] \\(A::LinearAlgebra.LowerTriangular, B::LinearAlgebra.LowerTriangular) in LinearAlgebra at /home/hesed/julia-1.7.2/share/julia/stdlib/v1.7/LinearAlgebra/src/triangular.jl:1506\n",
       "[72] \\(A::LinearAlgebra.LowerTriangular, B::LinearAlgebra.UnitLowerTriangular) in LinearAlgebra at /home/hesed/julia-1.7.2/share/julia/stdlib/v1.7/LinearAlgebra/src/triangular.jl:1522\n",
       "[73] \\(xA::LinearAlgebra.LowerTriangular{<:TA, <:StridedMatrix{T} where T}, b::SparseArrays.SparseVector{Tb}) where {TA<:Number, Tb<:Number} in SparseArrays at /home/hesed/julia-1.7.2/share/julia/stdlib/v1.7/SparseArrays/src/sparsevector.jl:1866\n",
       "[74] \\(xA::LinearAlgebra.LowerTriangular{<:TA, <:LinearAlgebra.Transpose{<:Any, <:StridedMatrix{T} where T}}, b::SparseArrays.SparseVector{Tb}) where {TA<:Number, Tb<:Number} in SparseArrays at /home/hesed/julia-1.7.2/share/julia/stdlib/v1.7/SparseArrays/src/sparsevector.jl:1866\n",
       "[75] \\(xA::LinearAlgebra.LowerTriangular{<:TA, <:LinearAlgebra.Adjoint{<:Any, <:StridedMatrix{T} where T}}, b::SparseArrays.SparseVector{Tb}) where {TA<:Number, Tb<:Number} in SparseArrays at /home/hesed/julia-1.7.2/share/julia/stdlib/v1.7/SparseArrays/src/sparsevector.jl:1866\n",
       "[76] \\(A::LinearAlgebra.LowerTriangular{<:TA, <:AbstractMatrix}, b::SparseArrays.SparseVector{Tb}) where {TA<:Number, Tb<:Number} in SparseArrays at /home/hesed/julia-1.7.2/share/julia/stdlib/v1.7/SparseArrays/src/sparsevector.jl:1846\n",
       "[77] \\(A::LinearAlgebra.LowerTriangular, b::SparseArrays.SparseVector) in SparseArrays at /home/hesed/julia-1.7.2/share/julia/stdlib/v1.7/SparseArrays/src/sparsevector.jl:1853\n",
       "[78] \\(A::Union{LinearAlgebra.LowerTriangular, LinearAlgebra.UpperTriangular}, B::AbstractVector) in LinearAlgebra at /home/hesed/julia-1.7.2/share/julia/stdlib/v1.7/LinearAlgebra/src/triangular.jl:1656\n",
       "[79] \\(A::Union{LinearAlgebra.LowerTriangular, LinearAlgebra.UpperTriangular}, B::AbstractMatrix) in LinearAlgebra at /home/hesed/julia-1.7.2/share/julia/stdlib/v1.7/LinearAlgebra/src/triangular.jl:1656\n",
       "[80] \\(A::LinearAlgebra.Adjoint{T, <:LinearAlgebra.LU{T, <:StridedMatrix{T} where T}}, B::LinearAlgebra.Adjoint{T, <:StridedVecOrMat{T}}) where T<:Union{ComplexF32, ComplexF64} in LinearAlgebra at /home/hesed/julia-1.7.2/share/julia/stdlib/v1.7/LinearAlgebra/src/lu.jl:431\n",
       "[81] \\(A::LinearAlgebra.Adjoint{<:Any, <:LinearAlgebra.Tridiagonal}, B::LinearAlgebra.Adjoint{<:Any, <:StridedVecOrMat}) in LinearAlgebra at /home/hesed/julia-1.7.2/share/julia/stdlib/v1.7/LinearAlgebra/src/tridiag.jl:617\n",
       "[82] \\(u::Union{LinearAlgebra.Adjoint{T, var\"#s859\"}, LinearAlgebra.Transpose{T, var\"#s859\"}} where {T, var\"#s859\"<:(AbstractVector)}, v::Union{LinearAlgebra.Adjoint{T, var\"#s859\"}, LinearAlgebra.Transpose{T, var\"#s859\"}} where {T, var\"#s859\"<:(AbstractVector)}) in LinearAlgebra at /home/hesed/julia-1.7.2/share/julia/stdlib/v1.7/LinearAlgebra/src/adjtrans.jl:316\n",
       "[83] \\(A::LinearAlgebra.Adjoint{<:Any, <:LinearAlgebra.LU}, B::LinearAlgebra.Adjoint{<:Any, <:StridedVecOrMat}) in LinearAlgebra at /home/hesed/julia-1.7.2/share/julia/stdlib/v1.7/LinearAlgebra/src/lu.jl:429\n",
       "[84] \\(adjA::LinearAlgebra.Adjoint{<:Number, <:LinearAlgebra.Bidiagonal{var\"#s857\", V} where {var\"#s857\"<:Number, V<:AbstractVector{var\"#s857\"}}}, B::AbstractVecOrMat{<:Number}) in LinearAlgebra at /home/hesed/julia-1.7.2/share/julia/stdlib/v1.7/LinearAlgebra/src/bidiag.jl:837\n",
       "[85] \\(adjA::LinearAlgebra.Adjoint{<:Any, <:LinearAlgebra.Bidiagonal}, B::AbstractVecOrMat) in LinearAlgebra at /home/hesed/julia-1.7.2/share/julia/stdlib/v1.7/LinearAlgebra/src/bidiag.jl:843\n",
       "[86] \\(xformA::LinearAlgebra.Adjoint{<:Any, <:SparseArrays.AbstractSparseMatrixCSC}, B::AbstractVecOrMat) in SparseArrays at /home/hesed/julia-1.7.2/share/julia/stdlib/v1.7/SparseArrays/src/linalg.jl:1561\n",
       "[87] \\(adjL::LinearAlgebra.Adjoint{<:Any, <:SuiteSparse.CHOLMOD.FactorComponent}, B::Union{Union{SparseArrays.SparseMatrixCSC{Tv, Ti}, SparseArrays.SparseVector{Tv, Ti}} where {Tv, Ti}, VecOrMat}) in SuiteSparse.CHOLMOD at /home/hesed/julia-1.7.2/share/julia/stdlib/v1.7/SuiteSparse/src/cholmod.jl:1533\n",
       "[88] \\(adjL::LinearAlgebra.Adjoint{<:Any, <:SuiteSparse.CHOLMOD.Factor}, B::SuiteSparse.CHOLMOD.Dense) in SuiteSparse.CHOLMOD at /home/hesed/julia-1.7.2/share/julia/stdlib/v1.7/SuiteSparse/src/cholmod.jl:1555\n",
       "[89] \\(adjL::LinearAlgebra.Adjoint{<:Any, <:SuiteSparse.CHOLMOD.Factor}, B::SuiteSparse.CHOLMOD.Sparse) in SuiteSparse.CHOLMOD at /home/hesed/julia-1.7.2/share/julia/stdlib/v1.7/SuiteSparse/src/cholmod.jl:1556\n",
       "[90] \\(adjL::LinearAlgebra.Adjoint{<:Any, <:SuiteSparse.CHOLMOD.Factor}, B::Union{SparseArrays.SparseMatrixCSC{Tv, Ti}, SparseArrays.SparseVector{Tv, Ti}} where {Tv, Ti}) in SuiteSparse.CHOLMOD at /home/hesed/julia-1.7.2/share/julia/stdlib/v1.7/SuiteSparse/src/cholmod.jl:1557\n",
       "[91] \\(adjL::LinearAlgebra.Adjoint{<:Any, <:SuiteSparse.CHOLMOD.Factor}, b::StridedVector{T} where T) in SuiteSparse.CHOLMOD at /home/hesed/julia-1.7.2/share/julia/stdlib/v1.7/SuiteSparse/src/cholmod.jl:1559\n",
       "[92] \\(adjL::LinearAlgebra.Adjoint{<:Any, <:SuiteSparse.CHOLMOD.Factor}, B::StridedMatrix{T} where T) in SuiteSparse.CHOLMOD at /home/hesed/julia-1.7.2/share/julia/stdlib/v1.7/SuiteSparse/src/cholmod.jl:1563\n",
       "[93] \\(A::LinearAlgebra.UnitUpperTriangular, B::LinearAlgebra.UpperTriangular) in LinearAlgebra at /home/hesed/julia-1.7.2/share/julia/stdlib/v1.7/LinearAlgebra/src/triangular.jl:1546\n",
       "[94] \\(A::LinearAlgebra.UnitUpperTriangular, B::LinearAlgebra.UnitUpperTriangular) in LinearAlgebra at /home/hesed/julia-1.7.2/share/julia/stdlib/v1.7/LinearAlgebra/src/triangular.jl:1562\n",
       "[95] \\(U::LinearAlgebra.UnitUpperTriangular, H::LinearAlgebra.UpperHessenberg) in LinearAlgebra at /home/hesed/julia-1.7.2/share/julia/stdlib/v1.7/LinearAlgebra/src/hessenberg.jl:158\n",
       "[96] \\(xA::LinearAlgebra.UnitUpperTriangular{<:TA, <:StridedMatrix{T} where T}, b::SparseArrays.SparseVector{Tb}) where {TA<:Number, Tb<:Number} in SparseArrays at /home/hesed/julia-1.7.2/share/julia/stdlib/v1.7/SparseArrays/src/sparsevector.jl:1866\n",
       "[97] \\(xA::LinearAlgebra.UnitUpperTriangular{<:TA, <:LinearAlgebra.Transpose{<:Any, <:StridedMatrix{T} where T}}, b::SparseArrays.SparseVector{Tb}) where {TA<:Number, Tb<:Number} in SparseArrays at /home/hesed/julia-1.7.2/share/julia/stdlib/v1.7/SparseArrays/src/sparsevector.jl:1866\n",
       "[98] \\(xA::LinearAlgebra.UnitUpperTriangular{<:TA, <:LinearAlgebra.Adjoint{<:Any, <:StridedMatrix{T} where T}}, b::SparseArrays.SparseVector{Tb}) where {TA<:Number, Tb<:Number} in SparseArrays at /home/hesed/julia-1.7.2/share/julia/stdlib/v1.7/SparseArrays/src/sparsevector.jl:1866\n",
       "[99] \\(A::LinearAlgebra.UnitUpperTriangular{<:TA, <:AbstractMatrix}, b::SparseArrays.SparseVector{Tb}) where {TA<:Number, Tb<:Number} in SparseArrays at /home/hesed/julia-1.7.2/share/julia/stdlib/v1.7/SparseArrays/src/sparsevector.jl:1846\n",
       "[100] \\(A::LinearAlgebra.UnitUpperTriangular, b::SparseArrays.SparseVector) in SparseArrays at /home/hesed/julia-1.7.2/share/julia/stdlib/v1.7/SparseArrays/src/sparsevector.jl:1853\n",
       "[101] \\(A::Union{LinearAlgebra.UnitLowerTriangular, LinearAlgebra.UnitUpperTriangular}, B::AbstractVector) in LinearAlgebra at /home/hesed/julia-1.7.2/share/julia/stdlib/v1.7/LinearAlgebra/src/triangular.jl:1648\n",
       "[102] \\(A::Union{LinearAlgebra.UnitLowerTriangular, LinearAlgebra.UnitUpperTriangular}, B::AbstractMatrix) in LinearAlgebra at /home/hesed/julia-1.7.2/share/julia/stdlib/v1.7/LinearAlgebra/src/triangular.jl:1648\n",
       "[103] \\(F::LinearAlgebra.LQ{T, S} where S<:AbstractMatrix{T}, B::Union{Array{Complex{T}, 1}, Array{Complex{T}, 2}}) where T<:Union{Float32, Float64} in LinearAlgebra at /home/hesed/julia-1.7.2/share/julia/stdlib/v1.7/LinearAlgebra/src/lq.jl:323\n",
       "[104] \\(F::Union{LinearAlgebra.BunchKaufman{T, S}, LinearAlgebra.Cholesky{T, S}, LinearAlgebra.LQ{T, S}, LinearAlgebra.LU{T, S}, LinearAlgebra.QR{T, S}, LinearAlgebra.QRCompactWY{T, S}, LinearAlgebra.QRPivoted{T, S}, LinearAlgebra.SVD{T, <:Real, S}} where S, B::Union{Array{Complex{T}, 1}, Array{Complex{T}, 2}}) where T<:Union{Float32, Float64} in LinearAlgebra at /home/hesed/julia-1.7.2/share/julia/stdlib/v1.7/LinearAlgebra/src/LinearAlgebra.jl:455\n",
       "[105] \\(F::Union{LinearAlgebra.Adjoint{<:Any, <:Union{LinearAlgebra.BunchKaufman{T, S}, LinearAlgebra.Cholesky{T, S}, LinearAlgebra.LQ{T, S}, LinearAlgebra.LU{T, S}, LinearAlgebra.QR{T, S}, LinearAlgebra.QRCompactWY{T, S}, LinearAlgebra.QRPivoted{T, S}, LinearAlgebra.SVD{T, <:Real, S}} where {T, S}}, Union{LinearAlgebra.BunchKaufman{T, S}, LinearAlgebra.Cholesky{T, S}, LinearAlgebra.LQ{T, S}, LinearAlgebra.LU{T, S}, LinearAlgebra.QR{T, S}, LinearAlgebra.QRCompactWY{T, S}, LinearAlgebra.QRPivoted{T, S}, LinearAlgebra.SVD{T, <:Real, S}} where {T, S}}, B::AbstractVecOrMat) in LinearAlgebra at /home/hesed/julia-1.7.2/share/julia/stdlib/v1.7/LinearAlgebra/src/LinearAlgebra.jl:426\n",
       "[106] \\(F::SuiteSparse.SPQR.QRSparse{T}, B::Union{Array{Complex{T}, 1}, Array{Complex{T}, 2}}) where T<:Union{Float32, Float64} in SuiteSparse.SPQR at /home/hesed/julia-1.7.2/share/julia/stdlib/v1.7/SuiteSparse/src/spqr.jl:327\n",
       "[107] \\(F::SuiteSparse.SPQR.QRSparse{T}, B::StridedVecOrMat{T}) where T in SuiteSparse.SPQR at /home/hesed/julia-1.7.2/share/julia/stdlib/v1.7/SuiteSparse/src/spqr.jl:385\n",
       "[108] \\(F::SuiteSparse.SPQR.QRSparse, B::StridedVecOrMat) in SuiteSparse.SPQR at /home/hesed/julia-1.7.2/share/julia/stdlib/v1.7/SuiteSparse/src/spqr.jl:408\n",
       "[109] \\(Da::LinearAlgebra.Diagonal, Db::LinearAlgebra.Diagonal) in LinearAlgebra at /home/hesed/julia-1.7.2/share/julia/stdlib/v1.7/LinearAlgebra/src/diagonal.jl:599\n",
       "[110] \\(x::LinearAlgebra.Diagonal, H::LinearAlgebra.UpperHessenberg) in LinearAlgebra at /home/hesed/julia-1.7.2/share/julia/stdlib/v1.7/LinearAlgebra/src/hessenberg.jl:117\n",
       "[111] \\(D::LinearAlgebra.Diagonal, A::AbstractMatrix) in LinearAlgebra at /home/hesed/julia-1.7.2/share/julia/stdlib/v1.7/LinearAlgebra/src/diagonal.jl:595\n",
       "[112] \\(D::LinearAlgebra.Diagonal, b::AbstractVector) in LinearAlgebra at /home/hesed/julia-1.7.2/share/julia/stdlib/v1.7/LinearAlgebra/src/diagonal.jl:598\n",
       "[113] \\(J1::LinearAlgebra.UniformScaling, J2::LinearAlgebra.UniformScaling) in LinearAlgebra at /home/hesed/julia-1.7.2/share/julia/stdlib/v1.7/LinearAlgebra/src/uniformscaling.jl:275\n",
       "[114] \\(x::LinearAlgebra.UniformScaling, H::LinearAlgebra.UpperHessenberg) in LinearAlgebra at /home/hesed/julia-1.7.2/share/julia/stdlib/v1.7/LinearAlgebra/src/hessenberg.jl:117\n",
       "[115] \\(J::LinearAlgebra.UniformScaling, A::AbstractVecOrMat) in LinearAlgebra at /home/hesed/julia-1.7.2/share/julia/stdlib/v1.7/LinearAlgebra/src/uniformscaling.jl:276\n",
       "[116] \\(L::SuiteSparse.CHOLMOD.Factor, B::SparseArrays.SparseMatrixCSC) in SuiteSparse.CHOLMOD at /home/hesed/julia-1.7.2/share/julia/stdlib/v1.7/SuiteSparse/src/cholmod.jl:1550\n",
       "[117] \\(L::SuiteSparse.CHOLMOD.Factor, B::LinearAlgebra.Adjoint{<:Any, <:SparseArrays.SparseMatrixCSC}) in SuiteSparse.CHOLMOD at /home/hesed/julia-1.7.2/share/julia/stdlib/v1.7/SuiteSparse/src/cholmod.jl:1551\n",
       "[118] \\(L::SuiteSparse.CHOLMOD.Factor{T}, B::LinearAlgebra.Adjoint{<:Any, <:Array{Complex{T}, 2}}) where T<:Float64 in SuiteSparse.CHOLMOD at /home/hesed/julia-1.7.2/share/julia/stdlib/v1.7/SuiteSparse/src/cholmod.jl:1540\n",
       "[119] \\(L::SuiteSparse.CHOLMOD.Factor{T}, B::LinearAlgebra.Adjoint{<:Any, <:StridedMatrix{T} where T}) where T<:Union{Float64, ComplexF64} in SuiteSparse.CHOLMOD at /home/hesed/julia-1.7.2/share/julia/stdlib/v1.7/SuiteSparse/src/cholmod.jl:1545\n",
       "[120] \\(L::SuiteSparse.CHOLMOD.Factor, B::LinearAlgebra.Transpose{<:Any, <:SparseArrays.SparseMatrixCSC}) in SuiteSparse.CHOLMOD at /home/hesed/julia-1.7.2/share/julia/stdlib/v1.7/SuiteSparse/src/cholmod.jl:1552\n",
       "[121] \\(L::SuiteSparse.CHOLMOD.Factor{T}, B::LinearAlgebra.Transpose{<:Any, <:Array{Complex{T}, 2}}) where T<:Float64 in SuiteSparse.CHOLMOD at /home/hesed/julia-1.7.2/share/julia/stdlib/v1.7/SuiteSparse/src/cholmod.jl:1541\n",
       "[122] \\(L::SuiteSparse.CHOLMOD.Factor{T}, B::LinearAlgebra.Transpose{<:Any, <:StridedMatrix{T} where T}) where T<:Union{Float64, ComplexF64} in SuiteSparse.CHOLMOD at /home/hesed/julia-1.7.2/share/julia/stdlib/v1.7/SuiteSparse/src/cholmod.jl:1546\n",
       "[123] \\(L::SuiteSparse.CHOLMOD.Factor, B::SuiteSparse.CHOLMOD.Sparse) in SuiteSparse.CHOLMOD at /home/hesed/julia-1.7.2/share/julia/stdlib/v1.7/SuiteSparse/src/cholmod.jl:1548\n",
       "[124] \\(L::SuiteSparse.CHOLMOD.Factor, B::SparseArrays.SparseVector) in SuiteSparse.CHOLMOD at /home/hesed/julia-1.7.2/share/julia/stdlib/v1.7/SuiteSparse/src/cholmod.jl:1553\n",
       "[125] \\(L::SuiteSparse.CHOLMOD.Factor{T}, B::Array{Complex{T}, 2}) where T<:Float64 in SuiteSparse.CHOLMOD at /home/hesed/julia-1.7.2/share/julia/stdlib/v1.7/SuiteSparse/src/cholmod.jl:1539\n",
       "[126] \\(L::SuiteSparse.CHOLMOD.Factor{T}, B::Array{Complex{T}, 1}) where T<:Float64 in SuiteSparse.CHOLMOD at /home/hesed/julia-1.7.2/share/julia/stdlib/v1.7/SuiteSparse/src/cholmod.jl:1538\n",
       "[127] \\(F::LinearAlgebra.Factorization{T}, B::Union{Array{Complex{T}, 1}, Array{Complex{T}, 2}}) where T<:Union{Float32, Float64} in LinearAlgebra at /home/hesed/julia-1.7.2/share/julia/stdlib/v1.7/LinearAlgebra/src/factorization.jl:90\n",
       "[128] \\(L::SuiteSparse.CHOLMOD.Factor{T}, B::SuiteSparse.CHOLMOD.Dense{T}) where T<:Union{Float64, ComplexF64} in SuiteSparse.CHOLMOD at /home/hesed/julia-1.7.2/share/julia/stdlib/v1.7/SuiteSparse/src/cholmod.jl:1535\n",
       "[129] \\(L::SuiteSparse.CHOLMOD.Factor{T}, B::StridedMatrix{T} where T) where T<:Union{Float64, ComplexF64} in SuiteSparse.CHOLMOD at /home/hesed/julia-1.7.2/share/julia/stdlib/v1.7/SuiteSparse/src/cholmod.jl:1544\n",
       "[130] \\(L::SuiteSparse.CHOLMOD.Factor{T}, b::StridedVector{T} where T) where T<:Union{Float64, ComplexF64} in SuiteSparse.CHOLMOD at /home/hesed/julia-1.7.2/share/julia/stdlib/v1.7/SuiteSparse/src/cholmod.jl:1543\n",
       "[131] \\(F::Union{LinearAlgebra.Adjoint{<:Any, <:LinearAlgebra.Factorization}, LinearAlgebra.Factorization}, B::AbstractVecOrMat) in LinearAlgebra at /home/hesed/julia-1.7.2/share/julia/stdlib/v1.7/LinearAlgebra/src/factorization.jl:102\n",
       "[132] \\(A::Union{BitMatrix, BitVector}, B::Union{BitMatrix, BitVector}) in Base at bitarray.jl:1197\n",
       "[133] \\(A::AbstractMatrix, B::AbstractVecOrMat) in LinearAlgebra at /home/hesed/julia-1.7.2/share/julia/stdlib/v1.7/LinearAlgebra/src/generic.jl:1128\n",
       "[134] \\(a::AbstractVector, b::AbstractArray) in LinearAlgebra at /home/hesed/julia-1.7.2/share/julia/stdlib/v1.7/LinearAlgebra/src/generic.jl:1147\n",
       "[135] \\(x, y) in Base at operators.jl:693"
      ]
     },
     "execution_count": 206,
     "metadata": {},
     "output_type": "execute_result"
    }
   ],
   "source": [
    "methods(\\)"
   ]
  },
  {
   "cell_type": "code",
   "execution_count": 207,
   "id": "f56be33a",
   "metadata": {},
   "outputs": [
    {
     "name": "stdout",
     "output_type": "stream",
     "text": [
      "search: \u001b[0m\u001b[1m\\\u001b[22m\n",
      "\n"
     ]
    },
    {
     "data": {
      "text/latex": [
       "\\begin{verbatim}\n",
       "\\(x, y)\n",
       "\\end{verbatim}\n",
       "Left division operator: multiplication of \\texttt{y} by the inverse of \\texttt{x} on the left. Gives floating-point results for integer arguments.\n",
       "\n",
       "\\section{Examples}\n",
       "\\begin{verbatim}\n",
       "julia> 3 \\ 6\n",
       "2.0\n",
       "\n",
       "julia> inv(3) * 6\n",
       "2.0\n",
       "\n",
       "julia> A = [4 3; 2 1]; x = [5, 6];\n",
       "\n",
       "julia> A \\ x\n",
       "2-element Vector{Float64}:\n",
       "  6.5\n",
       " -7.0\n",
       "\n",
       "julia> inv(A) * x\n",
       "2-element Vector{Float64}:\n",
       "  6.5\n",
       " -7.0\n",
       "\\end{verbatim}\n",
       "\\rule{\\textwidth}{1pt}\n",
       "\\begin{verbatim}\n",
       "\\(A, B)\n",
       "\\end{verbatim}\n",
       "Matrix division using a polyalgorithm. For input matrices \\texttt{A} and \\texttt{B}, the result \\texttt{X} is such that \\texttt{A*X == B} when \\texttt{A} is square. The solver that is used depends upon the structure of \\texttt{A}.  If \\texttt{A} is upper or lower triangular (or diagonal), no factorization of \\texttt{A} is required and the system is solved with either forward or backward substitution. For non-triangular square matrices, an LU factorization is used.\n",
       "\n",
       "For rectangular \\texttt{A} the result is the minimum-norm least squares solution computed by a pivoted QR factorization of \\texttt{A} and a rank estimate of \\texttt{A} based on the R factor.\n",
       "\n",
       "When \\texttt{A} is sparse, a similar polyalgorithm is used. For indefinite matrices, the \\texttt{LDLt} factorization does not use pivoting during the numerical factorization and therefore the procedure can fail even for invertible matrices.\n",
       "\n",
       "See also: \\href{@ref}{\\texttt{factorize}}, \\href{@ref}{\\texttt{pinv}}.\n",
       "\n",
       "\\section{Examples}\n",
       "\\begin{verbatim}\n",
       "julia> A = [1 0; 1 -2]; B = [32; -4];\n",
       "\n",
       "julia> X = A \\ B\n",
       "2-element Vector{Float64}:\n",
       " 32.0\n",
       " 18.0\n",
       "\n",
       "julia> A * X == B\n",
       "true\n",
       "\\end{verbatim}\n",
       "\\rule{\\textwidth}{1pt}\n",
       "\\begin{verbatim}\n",
       "(\\)(F::QRSparse, B::StridedVecOrMat)\n",
       "\\end{verbatim}\n",
       "Solve the least squares problem $\\min\\|Ax - b\\|^2$ or the linear system of equations $Ax=b$ when \\texttt{F} is the sparse QR factorization of $A$. A basic solution is returned when the problem is underdetermined.\n",
       "\n",
       "\\section{Examples}\n",
       "\\begin{verbatim}\n",
       "julia> A = sparse([1,2,4], [1,1,1], [1.0,1.0,1.0], 4, 2)\n",
       "4×2 SparseMatrixCSC{Float64, Int64} with 3 stored entries:\n",
       " 1.0   ⋅\n",
       " 1.0   ⋅\n",
       "  ⋅    ⋅\n",
       " 1.0   ⋅\n",
       "\n",
       "julia> qr(A)\\fill(1.0, 4)\n",
       "2-element Vector{Float64}:\n",
       " 1.0\n",
       " 0.0\n",
       "\\end{verbatim}\n"
      ],
      "text/markdown": [
       "```\n",
       "\\(x, y)\n",
       "```\n",
       "\n",
       "Left division operator: multiplication of `y` by the inverse of `x` on the left. Gives floating-point results for integer arguments.\n",
       "\n",
       "# Examples\n",
       "\n",
       "```jldoctest\n",
       "julia> 3 \\ 6\n",
       "2.0\n",
       "\n",
       "julia> inv(3) * 6\n",
       "2.0\n",
       "\n",
       "julia> A = [4 3; 2 1]; x = [5, 6];\n",
       "\n",
       "julia> A \\ x\n",
       "2-element Vector{Float64}:\n",
       "  6.5\n",
       " -7.0\n",
       "\n",
       "julia> inv(A) * x\n",
       "2-element Vector{Float64}:\n",
       "  6.5\n",
       " -7.0\n",
       "```\n",
       "\n",
       "---\n",
       "\n",
       "```\n",
       "\\(A, B)\n",
       "```\n",
       "\n",
       "Matrix division using a polyalgorithm. For input matrices `A` and `B`, the result `X` is such that `A*X == B` when `A` is square. The solver that is used depends upon the structure of `A`.  If `A` is upper or lower triangular (or diagonal), no factorization of `A` is required and the system is solved with either forward or backward substitution. For non-triangular square matrices, an LU factorization is used.\n",
       "\n",
       "For rectangular `A` the result is the minimum-norm least squares solution computed by a pivoted QR factorization of `A` and a rank estimate of `A` based on the R factor.\n",
       "\n",
       "When `A` is sparse, a similar polyalgorithm is used. For indefinite matrices, the `LDLt` factorization does not use pivoting during the numerical factorization and therefore the procedure can fail even for invertible matrices.\n",
       "\n",
       "See also: [`factorize`](@ref), [`pinv`](@ref).\n",
       "\n",
       "# Examples\n",
       "\n",
       "```jldoctest\n",
       "julia> A = [1 0; 1 -2]; B = [32; -4];\n",
       "\n",
       "julia> X = A \\ B\n",
       "2-element Vector{Float64}:\n",
       " 32.0\n",
       " 18.0\n",
       "\n",
       "julia> A * X == B\n",
       "true\n",
       "```\n",
       "\n",
       "---\n",
       "\n",
       "```\n",
       "(\\)(F::QRSparse, B::StridedVecOrMat)\n",
       "```\n",
       "\n",
       "Solve the least squares problem $\\min\\|Ax - b\\|^2$ or the linear system of equations $Ax=b$ when `F` is the sparse QR factorization of $A$. A basic solution is returned when the problem is underdetermined.\n",
       "\n",
       "# Examples\n",
       "\n",
       "```jldoctest\n",
       "julia> A = sparse([1,2,4], [1,1,1], [1.0,1.0,1.0], 4, 2)\n",
       "4×2 SparseMatrixCSC{Float64, Int64} with 3 stored entries:\n",
       " 1.0   ⋅\n",
       " 1.0   ⋅\n",
       "  ⋅    ⋅\n",
       " 1.0   ⋅\n",
       "\n",
       "julia> qr(A)\\fill(1.0, 4)\n",
       "2-element Vector{Float64}:\n",
       " 1.0\n",
       " 0.0\n",
       "```\n"
      ],
      "text/plain": [
       "\u001b[36m  \\(x, y)\u001b[39m\n",
       "\n",
       "  Left division operator: multiplication of \u001b[36my\u001b[39m by the inverse of \u001b[36mx\u001b[39m on the left.\n",
       "  Gives floating-point results for integer arguments.\n",
       "\n",
       "\u001b[1m  Examples\u001b[22m\n",
       "\u001b[1m  ≡≡≡≡≡≡≡≡≡≡\u001b[22m\n",
       "\n",
       "\u001b[36m  julia> 3 \\ 6\u001b[39m\n",
       "\u001b[36m  2.0\u001b[39m\n",
       "\u001b[36m  \u001b[39m\n",
       "\u001b[36m  julia> inv(3) * 6\u001b[39m\n",
       "\u001b[36m  2.0\u001b[39m\n",
       "\u001b[36m  \u001b[39m\n",
       "\u001b[36m  julia> A = [4 3; 2 1]; x = [5, 6];\u001b[39m\n",
       "\u001b[36m  \u001b[39m\n",
       "\u001b[36m  julia> A \\ x\u001b[39m\n",
       "\u001b[36m  2-element Vector{Float64}:\u001b[39m\n",
       "\u001b[36m    6.5\u001b[39m\n",
       "\u001b[36m   -7.0\u001b[39m\n",
       "\u001b[36m  \u001b[39m\n",
       "\u001b[36m  julia> inv(A) * x\u001b[39m\n",
       "\u001b[36m  2-element Vector{Float64}:\u001b[39m\n",
       "\u001b[36m    6.5\u001b[39m\n",
       "\u001b[36m   -7.0\u001b[39m\n",
       "\n",
       "  ────────────────────────────────────────────────────────────────────────────\n",
       "\n",
       "\u001b[36m  \\(A, B)\u001b[39m\n",
       "\n",
       "  Matrix division using a polyalgorithm. For input matrices \u001b[36mA\u001b[39m and \u001b[36mB\u001b[39m, the\n",
       "  result \u001b[36mX\u001b[39m is such that \u001b[36mA*X == B\u001b[39m when \u001b[36mA\u001b[39m is square. The solver that is used\n",
       "  depends upon the structure of \u001b[36mA\u001b[39m. If \u001b[36mA\u001b[39m is upper or lower triangular (or\n",
       "  diagonal), no factorization of \u001b[36mA\u001b[39m is required and the system is solved with\n",
       "  either forward or backward substitution. For non-triangular square matrices,\n",
       "  an LU factorization is used.\n",
       "\n",
       "  For rectangular \u001b[36mA\u001b[39m the result is the minimum-norm least squares solution\n",
       "  computed by a pivoted QR factorization of \u001b[36mA\u001b[39m and a rank estimate of \u001b[36mA\u001b[39m based\n",
       "  on the R factor.\n",
       "\n",
       "  When \u001b[36mA\u001b[39m is sparse, a similar polyalgorithm is used. For indefinite matrices,\n",
       "  the \u001b[36mLDLt\u001b[39m factorization does not use pivoting during the numerical\n",
       "  factorization and therefore the procedure can fail even for invertible\n",
       "  matrices.\n",
       "\n",
       "  See also: \u001b[36mfactorize\u001b[39m, \u001b[36mpinv\u001b[39m.\n",
       "\n",
       "\u001b[1m  Examples\u001b[22m\n",
       "\u001b[1m  ≡≡≡≡≡≡≡≡≡≡\u001b[22m\n",
       "\n",
       "\u001b[36m  julia> A = [1 0; 1 -2]; B = [32; -4];\u001b[39m\n",
       "\u001b[36m  \u001b[39m\n",
       "\u001b[36m  julia> X = A \\ B\u001b[39m\n",
       "\u001b[36m  2-element Vector{Float64}:\u001b[39m\n",
       "\u001b[36m   32.0\u001b[39m\n",
       "\u001b[36m   18.0\u001b[39m\n",
       "\u001b[36m  \u001b[39m\n",
       "\u001b[36m  julia> A * X == B\u001b[39m\n",
       "\u001b[36m  true\u001b[39m\n",
       "\n",
       "  ────────────────────────────────────────────────────────────────────────────\n",
       "\n",
       "\u001b[36m  (\\)(F::QRSparse, B::StridedVecOrMat)\u001b[39m\n",
       "\n",
       "  Solve the least squares problem \u001b[35m\\min\\|Ax - b\\|^2\u001b[39m or the linear system of\n",
       "  equations \u001b[35mAx=b\u001b[39m when \u001b[36mF\u001b[39m is the sparse QR factorization of \u001b[35mA\u001b[39m. A basic solution\n",
       "  is returned when the problem is underdetermined.\n",
       "\n",
       "\u001b[1m  Examples\u001b[22m\n",
       "\u001b[1m  ≡≡≡≡≡≡≡≡≡≡\u001b[22m\n",
       "\n",
       "\u001b[36m  julia> A = sparse([1,2,4], [1,1,1], [1.0,1.0,1.0], 4, 2)\u001b[39m\n",
       "\u001b[36m  4×2 SparseMatrixCSC{Float64, Int64} with 3 stored entries:\u001b[39m\n",
       "\u001b[36m   1.0   ⋅\u001b[39m\n",
       "\u001b[36m   1.0   ⋅\u001b[39m\n",
       "\u001b[36m    ⋅    ⋅\u001b[39m\n",
       "\u001b[36m   1.0   ⋅\u001b[39m\n",
       "\u001b[36m  \u001b[39m\n",
       "\u001b[36m  julia> qr(A)\\fill(1.0, 4)\u001b[39m\n",
       "\u001b[36m  2-element Vector{Float64}:\u001b[39m\n",
       "\u001b[36m   1.0\u001b[39m\n",
       "\u001b[36m   0.0\u001b[39m"
      ]
     },
     "execution_count": 207,
     "metadata": {},
     "output_type": "execute_result"
    }
   ],
   "source": [
    "?\\"
   ]
  },
  {
   "cell_type": "code",
   "execution_count": 209,
   "id": "371ec920",
   "metadata": {},
   "outputs": [
    {
     "data": {
      "text/plain": [
       "addone (generic function with 1 method)"
      ]
     },
     "execution_count": 209,
     "metadata": {},
     "output_type": "execute_result"
    }
   ],
   "source": [
    "addone(x::Int64) = x+1\n"
   ]
  },
  {
   "cell_type": "code",
   "execution_count": 214,
   "id": "5a4029ee",
   "metadata": {},
   "outputs": [
    {
     "ename": "LoadError",
     "evalue": "MethodError: no method matching addone(::Float64)\n\u001b[0mClosest candidates are:\n\u001b[0m  addone(\u001b[91m::Int64\u001b[39m) at In[209]:1",
     "output_type": "error",
     "traceback": [
      "MethodError: no method matching addone(::Float64)\n\u001b[0mClosest candidates are:\n\u001b[0m  addone(\u001b[91m::Int64\u001b[39m) at In[209]:1",
      "",
      "Stacktrace:",
      " [1] top-level scope",
      "   @ In[214]:1",
      " [2] eval",
      "   @ ./boot.jl:373 [inlined]",
      " [3] include_string(mapexpr::typeof(REPL.softscope), mod::Module, code::String, filename::String)",
      "   @ Base ./loading.jl:1196"
     ]
    }
   ],
   "source": [
    "addone(ceil(1.2)*10)"
   ]
  },
  {
   "cell_type": "code",
   "execution_count": 216,
   "id": "1f0dd3ec",
   "metadata": {},
   "outputs": [
    {
     "name": "stdout",
     "output_type": "stream",
     "text": [
      "2 1\n"
     ]
    }
   ],
   "source": [
    "a,b = 1,2\n",
    "a,b = b, a\n",
    "println(a, \" \", b)"
   ]
  },
  {
   "cell_type": "code",
   "execution_count": 217,
   "id": "39536f45",
   "metadata": {},
   "outputs": [
    {
     "name": "stdout",
     "output_type": "stream",
     "text": [
      "22\n"
     ]
    }
   ],
   "source": [
    "function test(input)\n",
    "  println(\"$input\"^2)\n",
    "end\n",
    "\n",
    "test(2)"
   ]
  },
  {
   "cell_type": "code",
   "execution_count": 219,
   "id": "da84b8be",
   "metadata": {},
   "outputs": [
    {
     "data": {
      "text/plain": [
       "\"HelloHelloHello\""
      ]
     },
     "execution_count": 219,
     "metadata": {},
     "output_type": "execute_result"
    }
   ],
   "source": [
    "\"Hello\"^3"
   ]
  },
  {
   "cell_type": "code",
   "execution_count": 221,
   "id": "72e5db68",
   "metadata": {},
   "outputs": [
    {
     "data": {
      "text/plain": [
       "add2 (generic function with 1 method)"
      ]
     },
     "execution_count": 221,
     "metadata": {},
     "output_type": "execute_result"
    }
   ],
   "source": [
    "add2(x, y) = return x + y"
   ]
  },
  {
   "cell_type": "code",
   "execution_count": 222,
   "id": "34842540",
   "metadata": {},
   "outputs": [
    {
     "data": {
      "text/plain": [
       "coordinates (generic function with 3 methods)"
      ]
     },
     "execution_count": 222,
     "metadata": {},
     "output_type": "execute_result"
    }
   ],
   "source": [
    "function coordinates(x, y=0, z=0)\n",
    "  println(\"($x, $y, $z)\")\n",
    "end"
   ]
  },
  {
   "cell_type": "code",
   "execution_count": 224,
   "id": "5cf6f6bf",
   "metadata": {},
   "outputs": [
    {
     "name": "stdout",
     "output_type": "stream",
     "text": [
      "(1, 0, 2)\n"
     ]
    }
   ],
   "source": [
    "coordinates(1,0,2)"
   ]
  },
  {
   "cell_type": "code",
   "execution_count": 241,
   "id": "191fbe33",
   "metadata": {},
   "outputs": [
    {
     "data": {
      "text/plain": [
       "-436"
      ]
     },
     "execution_count": 241,
     "metadata": {},
     "output_type": "execute_result"
    }
   ],
   "source": [
    "(2^3)^2-500"
   ]
  },
  {
   "cell_type": "code",
   "execution_count": 232,
   "id": "b8dd1b8c",
   "metadata": {},
   "outputs": [
    {
     "data": {
      "text/plain": [
       "12"
      ]
     },
     "execution_count": 232,
     "metadata": {},
     "output_type": "execute_result"
    }
   ],
   "source": [
    "2^2^1^5+2^3"
   ]
  },
  {
   "cell_type": "code",
   "execution_count": 242,
   "id": "c99e42c5",
   "metadata": {},
   "outputs": [
    {
     "name": "stdout",
     "output_type": "stream",
     "text": [
      "12\n"
     ]
    }
   ],
   "source": [
    "println(\"$(2*6)\")"
   ]
  },
  {
   "cell_type": "code",
   "execution_count": 243,
   "id": "26e00abe",
   "metadata": {},
   "outputs": [
    {
     "data": {
      "text/plain": [
       "String"
      ]
     },
     "execution_count": 243,
     "metadata": {},
     "output_type": "execute_result"
    }
   ],
   "source": [
    "typeof(\"$(2*6)\")"
   ]
  },
  {
   "cell_type": "code",
   "execution_count": 244,
   "id": "021e69af",
   "metadata": {},
   "outputs": [
    {
     "data": {
      "text/plain": [
       "-5"
      ]
     },
     "execution_count": 244,
     "metadata": {},
     "output_type": "execute_result"
    }
   ],
   "source": [
    "5 - 7 * 2 + 4"
   ]
  },
  {
   "cell_type": "code",
   "execution_count": 246,
   "id": "52b6cb60",
   "metadata": {},
   "outputs": [
    {
     "data": {
      "text/plain": [
       "0"
      ]
     },
     "execution_count": 246,
     "metadata": {},
     "output_type": "execute_result"
    }
   ],
   "source": [
    "(5-7)*2+4"
   ]
  },
  {
   "cell_type": "code",
   "execution_count": 247,
   "id": "e0d071e9",
   "metadata": {},
   "outputs": [
    {
     "data": {
      "text/plain": [
       "false"
      ]
     },
     "execution_count": 247,
     "metadata": {},
     "output_type": "execute_result"
    }
   ],
   "source": [
    "1 + 3 < 5 && 2^2 === 4.0"
   ]
  },
  {
   "cell_type": "code",
   "execution_count": 251,
   "id": "13dba690",
   "metadata": {},
   "outputs": [
    {
     "data": {
      "text/plain": [
       "true"
      ]
     },
     "execution_count": 251,
     "metadata": {},
     "output_type": "execute_result"
    }
   ],
   "source": [
    "true && ((false && false) || true)"
   ]
  },
  {
   "cell_type": "code",
   "execution_count": 252,
   "id": "5719db9f",
   "metadata": {},
   "outputs": [
    {
     "name": "stdout",
     "output_type": "stream",
     "text": [
      "search: \u001b[0m\u001b[1mA\u001b[22m\u001b[0m\u001b[1mr\u001b[22m\u001b[0m\u001b[1mr\u001b[22m\u001b[0m\u001b[1ma\u001b[22m\u001b[0m\u001b[1my\u001b[22m Sub\u001b[0m\u001b[1mA\u001b[22m\u001b[0m\u001b[1mr\u001b[22m\u001b[0m\u001b[1mr\u001b[22m\u001b[0m\u001b[1ma\u001b[22m\u001b[0m\u001b[1my\u001b[22m Bit\u001b[0m\u001b[1mA\u001b[22m\u001b[0m\u001b[1mr\u001b[22m\u001b[0m\u001b[1mr\u001b[22m\u001b[0m\u001b[1ma\u001b[22m\u001b[0m\u001b[1my\u001b[22m Dense\u001b[0m\u001b[1mA\u001b[22m\u001b[0m\u001b[1mr\u001b[22m\u001b[0m\u001b[1mr\u001b[22m\u001b[0m\u001b[1ma\u001b[22m\u001b[0m\u001b[1my\u001b[22m Strided\u001b[0m\u001b[1mA\u001b[22m\u001b[0m\u001b[1mr\u001b[22m\u001b[0m\u001b[1mr\u001b[22m\u001b[0m\u001b[1ma\u001b[22m\u001b[0m\u001b[1my\u001b[22m PermutedDims\u001b[0m\u001b[1mA\u001b[22m\u001b[0m\u001b[1mr\u001b[22m\u001b[0m\u001b[1mr\u001b[22m\u001b[0m\u001b[1ma\u001b[22m\u001b[0m\u001b[1my\u001b[22m\n",
      "\n"
     ]
    },
    {
     "data": {
      "text/latex": [
       "\\begin{verbatim}\n",
       "Array{T,N} <: AbstractArray{T,N}\n",
       "\\end{verbatim}\n",
       "\\texttt{N}-dimensional dense array with elements of type \\texttt{T}.\n",
       "\n",
       "\\rule{\\textwidth}{1pt}\n",
       "\\begin{verbatim}\n",
       "Array{T}(undef, dims)\n",
       "Array{T,N}(undef, dims)\n",
       "\\end{verbatim}\n",
       "Construct an uninitialized \\texttt{N}-dimensional \\href{@ref}{\\texttt{Array}} containing elements of type \\texttt{T}. \\texttt{N} can either be supplied explicitly, as in \\texttt{Array\\{T,N\\}(undef, dims)}, or be determined by the length or number of \\texttt{dims}. \\texttt{dims} may be a tuple or a series of integer arguments corresponding to the lengths in each dimension. If the rank \\texttt{N} is supplied explicitly, then it must match the length or number of \\texttt{dims}. Here \\href{@ref}{\\texttt{undef}} is the \\href{@ref}{\\texttt{UndefInitializer}}.\n",
       "\n",
       "\\section{Examples}\n",
       "\\begin{verbatim}\n",
       "julia> A = Array{Float64, 2}(undef, 2, 3) # N given explicitly\n",
       "2×3 Matrix{Float64}:\n",
       " 6.90198e-310  6.90198e-310  6.90198e-310\n",
       " 6.90198e-310  6.90198e-310  0.0\n",
       "\n",
       "julia> B = Array{Float64}(undef, 4) # N determined by the input\n",
       "4-element Vector{Float64}:\n",
       "   2.360075077e-314\n",
       " NaN\n",
       "   2.2671131793e-314\n",
       "   2.299821756e-314\n",
       "\n",
       "julia> similar(B, 2, 4, 1) # use typeof(B), and the given size\n",
       "2×4×1 Array{Float64, 3}:\n",
       "[:, :, 1] =\n",
       " 2.26703e-314  2.26708e-314  0.0           2.80997e-314\n",
       " 0.0           2.26703e-314  2.26708e-314  0.0\n",
       "\\end{verbatim}\n",
       "\\rule{\\textwidth}{1pt}\n",
       "\\begin{verbatim}\n",
       "Array{T}(nothing, dims)\n",
       "Array{T,N}(nothing, dims)\n",
       "\\end{verbatim}\n",
       "Construct an \\texttt{N}-dimensional \\href{@ref}{\\texttt{Array}} containing elements of type \\texttt{T}, initialized with \\href{@ref}{\\texttt{nothing}} entries. Element type \\texttt{T} must be able to hold these values, i.e. \\texttt{Nothing <: T}.\n",
       "\n",
       "\\section{Examples}\n",
       "\\begin{verbatim}\n",
       "julia> Array{Union{Nothing, String}}(nothing, 2)\n",
       "2-element Vector{Union{Nothing, String}}:\n",
       " nothing\n",
       " nothing\n",
       "\n",
       "julia> Array{Union{Nothing, Int}}(nothing, 2, 3)\n",
       "2×3 Matrix{Union{Nothing, Int64}}:\n",
       " nothing  nothing  nothing\n",
       " nothing  nothing  nothing\n",
       "\\end{verbatim}\n",
       "\\rule{\\textwidth}{1pt}\n",
       "\\begin{verbatim}\n",
       "Array{T}(missing, dims)\n",
       "Array{T,N}(missing, dims)\n",
       "\\end{verbatim}\n",
       "Construct an \\texttt{N}-dimensional \\href{@ref}{\\texttt{Array}} containing elements of type \\texttt{T}, initialized with \\href{@ref}{\\texttt{missing}} entries. Element type \\texttt{T} must be able to hold these values, i.e. \\texttt{Missing <: T}.\n",
       "\n",
       "\\section{Examples}\n",
       "\\begin{verbatim}\n",
       "julia> Array{Union{Missing, String}}(missing, 2)\n",
       "2-element Vector{Union{Missing, String}}:\n",
       " missing\n",
       " missing\n",
       "\n",
       "julia> Array{Union{Missing, Int}}(missing, 2, 3)\n",
       "2×3 Matrix{Union{Missing, Int64}}:\n",
       " missing  missing  missing\n",
       " missing  missing  missing\n",
       "\\end{verbatim}\n"
      ],
      "text/markdown": [
       "```\n",
       "Array{T,N} <: AbstractArray{T,N}\n",
       "```\n",
       "\n",
       "`N`-dimensional dense array with elements of type `T`.\n",
       "\n",
       "---\n",
       "\n",
       "```\n",
       "Array{T}(undef, dims)\n",
       "Array{T,N}(undef, dims)\n",
       "```\n",
       "\n",
       "Construct an uninitialized `N`-dimensional [`Array`](@ref) containing elements of type `T`. `N` can either be supplied explicitly, as in `Array{T,N}(undef, dims)`, or be determined by the length or number of `dims`. `dims` may be a tuple or a series of integer arguments corresponding to the lengths in each dimension. If the rank `N` is supplied explicitly, then it must match the length or number of `dims`. Here [`undef`](@ref) is the [`UndefInitializer`](@ref).\n",
       "\n",
       "# Examples\n",
       "\n",
       "```julia-repl\n",
       "julia> A = Array{Float64, 2}(undef, 2, 3) # N given explicitly\n",
       "2×3 Matrix{Float64}:\n",
       " 6.90198e-310  6.90198e-310  6.90198e-310\n",
       " 6.90198e-310  6.90198e-310  0.0\n",
       "\n",
       "julia> B = Array{Float64}(undef, 4) # N determined by the input\n",
       "4-element Vector{Float64}:\n",
       "   2.360075077e-314\n",
       " NaN\n",
       "   2.2671131793e-314\n",
       "   2.299821756e-314\n",
       "\n",
       "julia> similar(B, 2, 4, 1) # use typeof(B), and the given size\n",
       "2×4×1 Array{Float64, 3}:\n",
       "[:, :, 1] =\n",
       " 2.26703e-314  2.26708e-314  0.0           2.80997e-314\n",
       " 0.0           2.26703e-314  2.26708e-314  0.0\n",
       "```\n",
       "\n",
       "---\n",
       "\n",
       "```\n",
       "Array{T}(nothing, dims)\n",
       "Array{T,N}(nothing, dims)\n",
       "```\n",
       "\n",
       "Construct an `N`-dimensional [`Array`](@ref) containing elements of type `T`, initialized with [`nothing`](@ref) entries. Element type `T` must be able to hold these values, i.e. `Nothing <: T`.\n",
       "\n",
       "# Examples\n",
       "\n",
       "```jldoctest\n",
       "julia> Array{Union{Nothing, String}}(nothing, 2)\n",
       "2-element Vector{Union{Nothing, String}}:\n",
       " nothing\n",
       " nothing\n",
       "\n",
       "julia> Array{Union{Nothing, Int}}(nothing, 2, 3)\n",
       "2×3 Matrix{Union{Nothing, Int64}}:\n",
       " nothing  nothing  nothing\n",
       " nothing  nothing  nothing\n",
       "```\n",
       "\n",
       "---\n",
       "\n",
       "```\n",
       "Array{T}(missing, dims)\n",
       "Array{T,N}(missing, dims)\n",
       "```\n",
       "\n",
       "Construct an `N`-dimensional [`Array`](@ref) containing elements of type `T`, initialized with [`missing`](@ref) entries. Element type `T` must be able to hold these values, i.e. `Missing <: T`.\n",
       "\n",
       "# Examples\n",
       "\n",
       "```jldoctest\n",
       "julia> Array{Union{Missing, String}}(missing, 2)\n",
       "2-element Vector{Union{Missing, String}}:\n",
       " missing\n",
       " missing\n",
       "\n",
       "julia> Array{Union{Missing, Int}}(missing, 2, 3)\n",
       "2×3 Matrix{Union{Missing, Int64}}:\n",
       " missing  missing  missing\n",
       " missing  missing  missing\n",
       "```\n"
      ],
      "text/plain": [
       "\u001b[36m  Array{T,N} <: AbstractArray{T,N}\u001b[39m\n",
       "\n",
       "  \u001b[36mN\u001b[39m-dimensional dense array with elements of type \u001b[36mT\u001b[39m.\n",
       "\n",
       "  ────────────────────────────────────────────────────────────────────────────\n",
       "\n",
       "\u001b[36m  Array{T}(undef, dims)\u001b[39m\n",
       "\u001b[36m  Array{T,N}(undef, dims)\u001b[39m\n",
       "\n",
       "  Construct an uninitialized \u001b[36mN\u001b[39m-dimensional \u001b[36mArray\u001b[39m containing elements of type\n",
       "  \u001b[36mT\u001b[39m. \u001b[36mN\u001b[39m can either be supplied explicitly, as in \u001b[36mArray{T,N}(undef, dims)\u001b[39m, or be\n",
       "  determined by the length or number of \u001b[36mdims\u001b[39m. \u001b[36mdims\u001b[39m may be a tuple or a series\n",
       "  of integer arguments corresponding to the lengths in each dimension. If the\n",
       "  rank \u001b[36mN\u001b[39m is supplied explicitly, then it must match the length or number of\n",
       "  \u001b[36mdims\u001b[39m. Here \u001b[36mundef\u001b[39m is the \u001b[36mUndefInitializer\u001b[39m.\n",
       "\n",
       "\u001b[1m  Examples\u001b[22m\n",
       "\u001b[1m  ≡≡≡≡≡≡≡≡≡≡\u001b[22m\n",
       "\n",
       "\u001b[36m  julia> A = Array{Float64, 2}(undef, 2, 3) # N given explicitly\u001b[39m\n",
       "\u001b[36m  2×3 Matrix{Float64}:\u001b[39m\n",
       "\u001b[36m   6.90198e-310  6.90198e-310  6.90198e-310\u001b[39m\n",
       "\u001b[36m   6.90198e-310  6.90198e-310  0.0\u001b[39m\n",
       "\u001b[36m  \u001b[39m\n",
       "\u001b[36m  julia> B = Array{Float64}(undef, 4) # N determined by the input\u001b[39m\n",
       "\u001b[36m  4-element Vector{Float64}:\u001b[39m\n",
       "\u001b[36m     2.360075077e-314\u001b[39m\n",
       "\u001b[36m   NaN\u001b[39m\n",
       "\u001b[36m     2.2671131793e-314\u001b[39m\n",
       "\u001b[36m     2.299821756e-314\u001b[39m\n",
       "\u001b[36m  \u001b[39m\n",
       "\u001b[36m  julia> similar(B, 2, 4, 1) # use typeof(B), and the given size\u001b[39m\n",
       "\u001b[36m  2×4×1 Array{Float64, 3}:\u001b[39m\n",
       "\u001b[36m  [:, :, 1] =\u001b[39m\n",
       "\u001b[36m   2.26703e-314  2.26708e-314  0.0           2.80997e-314\u001b[39m\n",
       "\u001b[36m   0.0           2.26703e-314  2.26708e-314  0.0\u001b[39m\n",
       "\n",
       "  ────────────────────────────────────────────────────────────────────────────\n",
       "\n",
       "\u001b[36m  Array{T}(nothing, dims)\u001b[39m\n",
       "\u001b[36m  Array{T,N}(nothing, dims)\u001b[39m\n",
       "\n",
       "  Construct an \u001b[36mN\u001b[39m-dimensional \u001b[36mArray\u001b[39m containing elements of type \u001b[36mT\u001b[39m, initialized\n",
       "  with \u001b[36mnothing\u001b[39m entries. Element type \u001b[36mT\u001b[39m must be able to hold these values, i.e.\n",
       "  \u001b[36mNothing <: T\u001b[39m.\n",
       "\n",
       "\u001b[1m  Examples\u001b[22m\n",
       "\u001b[1m  ≡≡≡≡≡≡≡≡≡≡\u001b[22m\n",
       "\n",
       "\u001b[36m  julia> Array{Union{Nothing, String}}(nothing, 2)\u001b[39m\n",
       "\u001b[36m  2-element Vector{Union{Nothing, String}}:\u001b[39m\n",
       "\u001b[36m   nothing\u001b[39m\n",
       "\u001b[36m   nothing\u001b[39m\n",
       "\u001b[36m  \u001b[39m\n",
       "\u001b[36m  julia> Array{Union{Nothing, Int}}(nothing, 2, 3)\u001b[39m\n",
       "\u001b[36m  2×3 Matrix{Union{Nothing, Int64}}:\u001b[39m\n",
       "\u001b[36m   nothing  nothing  nothing\u001b[39m\n",
       "\u001b[36m   nothing  nothing  nothing\u001b[39m\n",
       "\n",
       "  ────────────────────────────────────────────────────────────────────────────\n",
       "\n",
       "\u001b[36m  Array{T}(missing, dims)\u001b[39m\n",
       "\u001b[36m  Array{T,N}(missing, dims)\u001b[39m\n",
       "\n",
       "  Construct an \u001b[36mN\u001b[39m-dimensional \u001b[36mArray\u001b[39m containing elements of type \u001b[36mT\u001b[39m, initialized\n",
       "  with \u001b[36mmissing\u001b[39m entries. Element type \u001b[36mT\u001b[39m must be able to hold these values, i.e.\n",
       "  \u001b[36mMissing <: T\u001b[39m.\n",
       "\n",
       "\u001b[1m  Examples\u001b[22m\n",
       "\u001b[1m  ≡≡≡≡≡≡≡≡≡≡\u001b[22m\n",
       "\n",
       "\u001b[36m  julia> Array{Union{Missing, String}}(missing, 2)\u001b[39m\n",
       "\u001b[36m  2-element Vector{Union{Missing, String}}:\u001b[39m\n",
       "\u001b[36m   missing\u001b[39m\n",
       "\u001b[36m   missing\u001b[39m\n",
       "\u001b[36m  \u001b[39m\n",
       "\u001b[36m  julia> Array{Union{Missing, Int}}(missing, 2, 3)\u001b[39m\n",
       "\u001b[36m  2×3 Matrix{Union{Missing, Int64}}:\u001b[39m\n",
       "\u001b[36m   missing  missing  missing\u001b[39m\n",
       "\u001b[36m   missing  missing  missing\u001b[39m"
      ]
     },
     "execution_count": 252,
     "metadata": {},
     "output_type": "execute_result"
    }
   ],
   "source": [
    "?Array"
   ]
  },
  {
   "cell_type": "code",
   "execution_count": 256,
   "id": "99e475f6",
   "metadata": {},
   "outputs": [
    {
     "data": {
      "text/plain": [
       "7×9 Matrix{Float64}:\n",
       " 1.0e-323   2.0e-322   2.77e-322  …  7.66e-322  8.2e-322   9.0e-322\n",
       " 4.0e-323   2.08e-322  3.36e-322     7.76e-322  8.3e-322   9.04e-322\n",
       " 8.4e-323   2.1e-322   3.46e-322     7.8e-322   8.45e-322  9.1e-322\n",
       " 9.0e-323   2.2e-322   3.5e-322      7.86e-322  8.7e-322   9.2e-322\n",
       " 1.0e-322   2.4e-322   3.6e-322      7.9e-322   8.8e-322   9.24e-322\n",
       " 1.24e-322  2.5e-322   3.7e-322   …  8.0e-322   8.84e-322  9.3e-322\n",
       " 1.33e-322  2.7e-322   3.8e-322      8.05e-322  8.94e-322  2.63563e92"
      ]
     },
     "execution_count": 256,
     "metadata": {},
     "output_type": "execute_result"
    }
   ],
   "source": [
    "matrix = Array{Float64, 2}(undef, 7, 9)"
   ]
  },
  {
   "cell_type": "code",
   "execution_count": 257,
   "id": "a3cf6a56",
   "metadata": {},
   "outputs": [
    {
     "data": {
      "text/plain": [
       "(7, 9)"
      ]
     },
     "execution_count": 257,
     "metadata": {},
     "output_type": "execute_result"
    }
   ],
   "source": [
    "size(matrix)"
   ]
  },
  {
   "cell_type": "code",
   "execution_count": 259,
   "id": "7efbb254",
   "metadata": {},
   "outputs": [
    {
     "name": "stdout",
     "output_type": "stream",
     "text": [
      "[1.0e-323 2.0e-322 2.77e-322 3.85e-322 5.0e-322 6.27e-322 7.66e-322 8.2e-322 9.0e-322; 4.0e-323 2.08e-322 3.36e-322 3.9e-322 5.5e-322 6.37e-322 7.76e-322 8.3e-322 9.04e-322; 8.4e-323 2.1e-322 3.46e-322 3.95e-322 5.6e-322 6.57e-322 7.8e-322 8.45e-322 9.1e-322; 9.0e-323 2.2e-322 3.5e-322 4.05e-322 5.83e-322 6.6e-322 7.86e-322 8.7e-322 9.2e-322; 1.0e-322 2.4e-322 3.6e-322 4.35e-322 5.93e-322 7.26e-322 7.9e-322 8.8e-322 9.24e-322; 1.24e-322 2.5e-322 3.7e-322 4.74e-322 6.0e-322 7.5e-322 8.0e-322 8.84e-322 9.3e-322; 1.33e-322 2.7e-322 3.8e-322 4.9e-322 6.1e-322 7.6e-322 8.05e-322 8.94e-322 2.635625366112606e92]"
     ]
    }
   ],
   "source": [
    "print(matrix)"
   ]
  },
  {
   "cell_type": "code",
   "execution_count": 264,
   "id": "1ad5c87d",
   "metadata": {},
   "outputs": [
    {
     "name": "stdout",
     "output_type": "stream",
     "text": [
      "[9.0e-322, 9.04e-322, 9.1e-322, 9.2e-322, 9.24e-322, 9.3e-322, 2.635625366112606e92]\n"
     ]
    }
   ],
   "source": [
    "println(matrix[:,9])"
   ]
  },
  {
   "cell_type": "code",
   "execution_count": 272,
   "id": "f93f0885",
   "metadata": {},
   "outputs": [
    {
     "name": "stdout",
     "output_type": "stream",
     "text": [
      "Hello"
     ]
    }
   ],
   "source": [
    "x = 0\n",
    "y = 0\n",
    "if x == 0 && x == y\n",
    "    print(\"Hello\")\n",
    "end"
   ]
  },
  {
   "cell_type": "code",
   "execution_count": 273,
   "id": "73b40522",
   "metadata": {},
   "outputs": [
    {
     "data": {
      "text/plain": [
       "(19, 3)"
      ]
     },
     "execution_count": 273,
     "metadata": {},
     "output_type": "execute_result"
    }
   ],
   "source": [
    "a, b = 2, 3           \n",
    "function f(x)  \n",
    "  b = 5 \n",
    "  a*x + b\n",
    "end\n",
    "f(7), b"
   ]
  },
  {
   "cell_type": "code",
   "execution_count": 2,
   "id": "42fd5d4c",
   "metadata": {},
   "outputs": [
    {
     "data": {
      "text/plain": [
       "f (generic function with 1 method)"
      ]
     },
     "execution_count": 2,
     "metadata": {},
     "output_type": "execute_result"
    }
   ],
   "source": [
    "function f(x)\n",
    "  return 2x\n",
    "  3x\n",
    "end"
   ]
  },
  {
   "cell_type": "code",
   "execution_count": 3,
   "id": "e989c0dd",
   "metadata": {},
   "outputs": [
    {
     "data": {
      "text/plain": [
       "10"
      ]
     },
     "execution_count": 3,
     "metadata": {},
     "output_type": "execute_result"
    }
   ],
   "source": [
    "f(5)"
   ]
  },
  {
   "cell_type": "markdown",
   "id": "554b3254",
   "metadata": {},
   "source": [
    "## How To Read csv files"
   ]
  },
  {
   "cell_type": "code",
   "execution_count": 1,
   "id": "5fd77ecd",
   "metadata": {},
   "outputs": [
    {
     "data": {
      "text/plain": [
       "54×9 Matrix{Any}:\n",
       " \"25 Nov 2015\"  28637  11314  3804  2536  …  4808     14122     3955\n",
       " \"18 Nov 2015\"  28634  11314  3804  2536     4808     14122     3955\n",
       " \"11 Nov 2015\"  28635  11314  3805  2536     4808     14122     3955\n",
       " \"4 Nov 2015\"   28607  11314  3810  2536     4808     14089     3955\n",
       " \"25 Oct 2015\"  28539  11298  3806  2535     4808     14061     3955\n",
       " \"18 Oct 2015\"  28476  11298  3803  2535  …  4808     14001     3955\n",
       " \"11 Oct 2015\"  28454  11297  3800  2534     4808     13982     3955\n",
       " \"27 Sep 2015\"  28388  11296  3805  2533     4808     13911     3955\n",
       " \"20 Sep 2015\"  28295  11295  3800  2532     4808     13823     3955\n",
       " \"13 Sep 2015\"  28220  11291  3792  2530     4808     13756     3953\n",
       " \"6 Sep 2015\"   28147  11291  3792  2530  …  4808     13683     3953\n",
       " \"30 Aug 2015\"  28073  11290  3792  2529     4808     13609     3953\n",
       " \"16 Aug 2015\"  27952  11284  3786  2524     4808     13494     3952\n",
       " ⋮                                        ⋱                     \n",
       " \"9 Aug 2014\"    1835   1011   506   373      323       730      315\n",
       " \"30 Jul 2014\"   1437    825   472   346      227       574      252\n",
       " \"23 Jul 2014\"   1201    672   427   319      129       525      224\n",
       " \"14 Jul 2014\"    982    613   411   310  …   106       397      197\n",
       " \"2 Jul 2014\"     779    481   412   305       75       252      101\n",
       " \"17 Jun 2014\"    528    337   398   264       24        97       49\n",
       " \"27 May 2014\"    309    202   281   186       11        16        5\n",
       " \"12 May 2014\"    260    182   248   171       11          \"–\"      \"–\"\n",
       " \"1 May 2014\"     239    160   226   149  …    11          \"-\"      \"-\"\n",
       " \"14 Apr 2014\"    176    110   168   108        2          \"–\"      \"–\"\n",
       " \"31 Mar 2014\"    130     82   122    80        2          \"–\"      \"–\"\n",
       " \"22 Mar 2014\"     49     29    49    29         \"–\"       \"–\"      \"–\""
      ]
     },
     "execution_count": 1,
     "metadata": {},
     "output_type": "execute_result"
    }
   ],
   "source": [
    "using DelimitedFiles\n",
    "wikiEVDraw = DelimitedFiles.readdlm(\"wikipediaEVDraw.csv\", ',')"
   ]
  },
  {
   "cell_type": "code",
   "execution_count": 2,
   "id": "8c3e7ec7",
   "metadata": {},
   "outputs": [
    {
     "data": {
      "text/latex": [
       "\\begin{verbatim}\n",
       "readdlm(source, T::Type; options...)\n",
       "\\end{verbatim}\n",
       "The columns are assumed to be separated by one or more whitespaces. The end of line delimiter is taken as \\texttt{{\\textbackslash}n}.\n",
       "\n",
       "\\section{Examples}\n",
       "\\begin{verbatim}\n",
       "julia> using DelimitedFiles\n",
       "\n",
       "julia> x = [1; 2; 3; 4];\n",
       "\n",
       "julia> y = [5; 6; 7; 8];\n",
       "\n",
       "julia> open(\"delim_file.txt\", \"w\") do io\n",
       "           writedlm(io, [x y])\n",
       "       end;\n",
       "\n",
       "julia> readdlm(\"delim_file.txt\", Int64)\n",
       "4×2 Matrix{Int64}:\n",
       " 1  5\n",
       " 2  6\n",
       " 3  7\n",
       " 4  8\n",
       "\n",
       "julia> readdlm(\"delim_file.txt\", Float64)\n",
       "4×2 Matrix{Float64}:\n",
       " 1.0  5.0\n",
       " 2.0  6.0\n",
       " 3.0  7.0\n",
       " 4.0  8.0\n",
       "\n",
       "julia> rm(\"delim_file.txt\")\n",
       "\\end{verbatim}\n",
       "\\rule{\\textwidth}{1pt}\n",
       "\\begin{verbatim}\n",
       "readdlm(source, delim::AbstractChar, T::Type; options...)\n",
       "\\end{verbatim}\n",
       "The end of line delimiter is taken as \\texttt{{\\textbackslash}n}.\n",
       "\n",
       "\\section{Examples}\n",
       "\\begin{verbatim}\n",
       "julia> using DelimitedFiles\n",
       "\n",
       "julia> x = [1; 2; 3; 4];\n",
       "\n",
       "julia> y = [1.1; 2.2; 3.3; 4.4];\n",
       "\n",
       "julia> open(\"delim_file.txt\", \"w\") do io\n",
       "           writedlm(io, [x y], ',')\n",
       "       end;\n",
       "\n",
       "julia> readdlm(\"delim_file.txt\", ',', Float64)\n",
       "4×2 Matrix{Float64}:\n",
       " 1.0  1.1\n",
       " 2.0  2.2\n",
       " 3.0  3.3\n",
       " 4.0  4.4\n",
       "\n",
       "julia> rm(\"delim_file.txt\")\n",
       "\\end{verbatim}\n",
       "\\rule{\\textwidth}{1pt}\n",
       "\\begin{verbatim}\n",
       "readdlm(source; options...)\n",
       "\\end{verbatim}\n",
       "The columns are assumed to be separated by one or more whitespaces. The end of line delimiter is taken as \\texttt{{\\textbackslash}n}. If all data is numeric, the result will be a numeric array. If some elements cannot be parsed as numbers, a heterogeneous array of numbers and strings is returned.\n",
       "\n",
       "\\section{Examples}\n",
       "\\begin{verbatim}\n",
       "julia> using DelimitedFiles\n",
       "\n",
       "julia> x = [1; 2; 3; 4];\n",
       "\n",
       "julia> y = [\"a\"; \"b\"; \"c\"; \"d\"];\n",
       "\n",
       "julia> open(\"delim_file.txt\", \"w\") do io\n",
       "           writedlm(io, [x y])\n",
       "       end;\n",
       "\n",
       "julia> readdlm(\"delim_file.txt\")\n",
       "4×2 Matrix{Any}:\n",
       " 1  \"a\"\n",
       " 2  \"b\"\n",
       " 3  \"c\"\n",
       " 4  \"d\"\n",
       "\n",
       "julia> rm(\"delim_file.txt\")\n",
       "\\end{verbatim}\n",
       "\\rule{\\textwidth}{1pt}\n",
       "\\begin{verbatim}\n",
       "readdlm(source, delim::AbstractChar; options...)\n",
       "\\end{verbatim}\n",
       "The end of line delimiter is taken as \\texttt{{\\textbackslash}n}. If all data is numeric, the result will be a numeric array. If some elements cannot be parsed as numbers, a heterogeneous array of numbers and strings is returned.\n",
       "\n",
       "\\section{Examples}\n",
       "\\begin{verbatim}\n",
       "julia> using DelimitedFiles\n",
       "\n",
       "julia> x = [1; 2; 3; 4];\n",
       "\n",
       "julia> y = [1.1; 2.2; 3.3; 4.4];\n",
       "\n",
       "julia> open(\"delim_file.txt\", \"w\") do io\n",
       "           writedlm(io, [x y], ',')\n",
       "       end;\n",
       "\n",
       "julia> readdlm(\"delim_file.txt\", ',')\n",
       "4×2 Matrix{Float64}:\n",
       " 1.0  1.1\n",
       " 2.0  2.2\n",
       " 3.0  3.3\n",
       " 4.0  4.4\n",
       "\n",
       "julia> z = [\"a\"; \"b\"; \"c\"; \"d\"];\n",
       "\n",
       "julia> open(\"delim_file.txt\", \"w\") do io\n",
       "           writedlm(io, [x z], ',')\n",
       "       end;\n",
       "\n",
       "julia> readdlm(\"delim_file.txt\", ',')\n",
       "4×2 Matrix{Any}:\n",
       " 1  \"a\"\n",
       " 2  \"b\"\n",
       " 3  \"c\"\n",
       " 4  \"d\"\n",
       "\n",
       "julia> rm(\"delim_file.txt\")\n",
       "\\end{verbatim}\n",
       "\\rule{\\textwidth}{1pt}\n",
       "\\begin{verbatim}\n",
       "readdlm(source, delim::AbstractChar, eol::AbstractChar; options...)\n",
       "\\end{verbatim}\n",
       "If all data is numeric, the result will be a numeric array. If some elements cannot be parsed as numbers, a heterogeneous array of numbers and strings is returned.\n",
       "\n",
       "\\rule{\\textwidth}{1pt}\n",
       "\\begin{verbatim}\n",
       "readdlm(source, delim::AbstractChar, T::Type, eol::AbstractChar; header=false, skipstart=0, skipblanks=true, use_mmap, quotes=true, dims, comments=false, comment_char='#')\n",
       "\\end{verbatim}\n",
       "Read a matrix from the source where each line (separated by \\texttt{eol}) gives one row, with elements separated by the given delimiter. The source can be a text file, stream or byte array. Memory mapped files can be used by passing the byte array representation of the mapped segment as source.\n",
       "\n",
       "If \\texttt{T} is a numeric type, the result is an array of that type, with any non-numeric elements as \\texttt{NaN} for floating-point types, or zero. Other useful values of \\texttt{T} include \\texttt{String}, \\texttt{AbstractString}, and \\texttt{Any}.\n",
       "\n",
       "If \\texttt{header} is \\texttt{true}, the first row of data will be read as header and the tuple \\texttt{(data\\_cells, header\\_cells)} is returned instead of only \\texttt{data\\_cells}.\n",
       "\n",
       "Specifying \\texttt{skipstart} will ignore the corresponding number of initial lines from the input.\n",
       "\n",
       "If \\texttt{skipblanks} is \\texttt{true}, blank lines in the input will be ignored.\n",
       "\n",
       "If \\texttt{use\\_mmap} is \\texttt{true}, the file specified by \\texttt{source} is memory mapped for potential speedups if the file is large. Default is \\texttt{false'. On a Windows filesystem,}use\\_mmap\\texttt{should not be set to}true` unless the file is only read once and is also not written to. Some edge cases exist where an OS is Unix-like but the filesystem is Windows-like.\n",
       "\n",
       "If \\texttt{quotes} is \\texttt{true}, columns enclosed within double-quote (\") characters are allowed to contain new lines and column delimiters. Double-quote characters within a quoted field must be escaped with another double-quote.  Specifying \\texttt{dims} as a tuple of the expected rows and columns (including header, if any) may speed up reading of large files.  If \\texttt{comments} is \\texttt{true}, lines beginning with \\texttt{comment\\_char} and text following \\texttt{comment\\_char} in any line are ignored.\n",
       "\n",
       "\\section{Examples}\n",
       "\\begin{verbatim}\n",
       "julia> using DelimitedFiles\n",
       "\n",
       "julia> x = [1; 2; 3; 4];\n",
       "\n",
       "julia> y = [5; 6; 7; 8];\n",
       "\n",
       "julia> open(\"delim_file.txt\", \"w\") do io\n",
       "           writedlm(io, [x y])\n",
       "       end\n",
       "\n",
       "julia> readdlm(\"delim_file.txt\", '\\t', Int, '\\n')\n",
       "4×2 Matrix{Int64}:\n",
       " 1  5\n",
       " 2  6\n",
       " 3  7\n",
       " 4  8\n",
       "\n",
       "julia> rm(\"delim_file.txt\")\n",
       "\\end{verbatim}\n"
      ],
      "text/markdown": [
       "```\n",
       "readdlm(source, T::Type; options...)\n",
       "```\n",
       "\n",
       "The columns are assumed to be separated by one or more whitespaces. The end of line delimiter is taken as `\\n`.\n",
       "\n",
       "# Examples\n",
       "\n",
       "```jldoctest\n",
       "julia> using DelimitedFiles\n",
       "\n",
       "julia> x = [1; 2; 3; 4];\n",
       "\n",
       "julia> y = [5; 6; 7; 8];\n",
       "\n",
       "julia> open(\"delim_file.txt\", \"w\") do io\n",
       "           writedlm(io, [x y])\n",
       "       end;\n",
       "\n",
       "julia> readdlm(\"delim_file.txt\", Int64)\n",
       "4×2 Matrix{Int64}:\n",
       " 1  5\n",
       " 2  6\n",
       " 3  7\n",
       " 4  8\n",
       "\n",
       "julia> readdlm(\"delim_file.txt\", Float64)\n",
       "4×2 Matrix{Float64}:\n",
       " 1.0  5.0\n",
       " 2.0  6.0\n",
       " 3.0  7.0\n",
       " 4.0  8.0\n",
       "\n",
       "julia> rm(\"delim_file.txt\")\n",
       "```\n",
       "\n",
       "---\n",
       "\n",
       "```\n",
       "readdlm(source, delim::AbstractChar, T::Type; options...)\n",
       "```\n",
       "\n",
       "The end of line delimiter is taken as `\\n`.\n",
       "\n",
       "# Examples\n",
       "\n",
       "```jldoctest\n",
       "julia> using DelimitedFiles\n",
       "\n",
       "julia> x = [1; 2; 3; 4];\n",
       "\n",
       "julia> y = [1.1; 2.2; 3.3; 4.4];\n",
       "\n",
       "julia> open(\"delim_file.txt\", \"w\") do io\n",
       "           writedlm(io, [x y], ',')\n",
       "       end;\n",
       "\n",
       "julia> readdlm(\"delim_file.txt\", ',', Float64)\n",
       "4×2 Matrix{Float64}:\n",
       " 1.0  1.1\n",
       " 2.0  2.2\n",
       " 3.0  3.3\n",
       " 4.0  4.4\n",
       "\n",
       "julia> rm(\"delim_file.txt\")\n",
       "```\n",
       "\n",
       "---\n",
       "\n",
       "```\n",
       "readdlm(source; options...)\n",
       "```\n",
       "\n",
       "The columns are assumed to be separated by one or more whitespaces. The end of line delimiter is taken as `\\n`. If all data is numeric, the result will be a numeric array. If some elements cannot be parsed as numbers, a heterogeneous array of numbers and strings is returned.\n",
       "\n",
       "# Examples\n",
       "\n",
       "```jldoctest\n",
       "julia> using DelimitedFiles\n",
       "\n",
       "julia> x = [1; 2; 3; 4];\n",
       "\n",
       "julia> y = [\"a\"; \"b\"; \"c\"; \"d\"];\n",
       "\n",
       "julia> open(\"delim_file.txt\", \"w\") do io\n",
       "           writedlm(io, [x y])\n",
       "       end;\n",
       "\n",
       "julia> readdlm(\"delim_file.txt\")\n",
       "4×2 Matrix{Any}:\n",
       " 1  \"a\"\n",
       " 2  \"b\"\n",
       " 3  \"c\"\n",
       " 4  \"d\"\n",
       "\n",
       "julia> rm(\"delim_file.txt\")\n",
       "```\n",
       "\n",
       "---\n",
       "\n",
       "```\n",
       "readdlm(source, delim::AbstractChar; options...)\n",
       "```\n",
       "\n",
       "The end of line delimiter is taken as `\\n`. If all data is numeric, the result will be a numeric array. If some elements cannot be parsed as numbers, a heterogeneous array of numbers and strings is returned.\n",
       "\n",
       "# Examples\n",
       "\n",
       "```jldoctest\n",
       "julia> using DelimitedFiles\n",
       "\n",
       "julia> x = [1; 2; 3; 4];\n",
       "\n",
       "julia> y = [1.1; 2.2; 3.3; 4.4];\n",
       "\n",
       "julia> open(\"delim_file.txt\", \"w\") do io\n",
       "           writedlm(io, [x y], ',')\n",
       "       end;\n",
       "\n",
       "julia> readdlm(\"delim_file.txt\", ',')\n",
       "4×2 Matrix{Float64}:\n",
       " 1.0  1.1\n",
       " 2.0  2.2\n",
       " 3.0  3.3\n",
       " 4.0  4.4\n",
       "\n",
       "julia> z = [\"a\"; \"b\"; \"c\"; \"d\"];\n",
       "\n",
       "julia> open(\"delim_file.txt\", \"w\") do io\n",
       "           writedlm(io, [x z], ',')\n",
       "       end;\n",
       "\n",
       "julia> readdlm(\"delim_file.txt\", ',')\n",
       "4×2 Matrix{Any}:\n",
       " 1  \"a\"\n",
       " 2  \"b\"\n",
       " 3  \"c\"\n",
       " 4  \"d\"\n",
       "\n",
       "julia> rm(\"delim_file.txt\")\n",
       "```\n",
       "\n",
       "---\n",
       "\n",
       "```\n",
       "readdlm(source, delim::AbstractChar, eol::AbstractChar; options...)\n",
       "```\n",
       "\n",
       "If all data is numeric, the result will be a numeric array. If some elements cannot be parsed as numbers, a heterogeneous array of numbers and strings is returned.\n",
       "\n",
       "---\n",
       "\n",
       "```\n",
       "readdlm(source, delim::AbstractChar, T::Type, eol::AbstractChar; header=false, skipstart=0, skipblanks=true, use_mmap, quotes=true, dims, comments=false, comment_char='#')\n",
       "```\n",
       "\n",
       "Read a matrix from the source where each line (separated by `eol`) gives one row, with elements separated by the given delimiter. The source can be a text file, stream or byte array. Memory mapped files can be used by passing the byte array representation of the mapped segment as source.\n",
       "\n",
       "If `T` is a numeric type, the result is an array of that type, with any non-numeric elements as `NaN` for floating-point types, or zero. Other useful values of `T` include `String`, `AbstractString`, and `Any`.\n",
       "\n",
       "If `header` is `true`, the first row of data will be read as header and the tuple `(data_cells, header_cells)` is returned instead of only `data_cells`.\n",
       "\n",
       "Specifying `skipstart` will ignore the corresponding number of initial lines from the input.\n",
       "\n",
       "If `skipblanks` is `true`, blank lines in the input will be ignored.\n",
       "\n",
       "If `use_mmap` is `true`, the file specified by `source` is memory mapped for potential speedups if the file is large. Default is `false'. On a Windows filesystem,`use_mmap`should not be set to`true` unless the file is only read once and is also not written to. Some edge cases exist where an OS is Unix-like but the filesystem is Windows-like.\n",
       "\n",
       "If `quotes` is `true`, columns enclosed within double-quote (\") characters are allowed to contain new lines and column delimiters. Double-quote characters within a quoted field must be escaped with another double-quote.  Specifying `dims` as a tuple of the expected rows and columns (including header, if any) may speed up reading of large files.  If `comments` is `true`, lines beginning with `comment_char` and text following `comment_char` in any line are ignored.\n",
       "\n",
       "# Examples\n",
       "\n",
       "```jldoctest\n",
       "julia> using DelimitedFiles\n",
       "\n",
       "julia> x = [1; 2; 3; 4];\n",
       "\n",
       "julia> y = [5; 6; 7; 8];\n",
       "\n",
       "julia> open(\"delim_file.txt\", \"w\") do io\n",
       "           writedlm(io, [x y])\n",
       "       end\n",
       "\n",
       "julia> readdlm(\"delim_file.txt\", '\\t', Int, '\\n')\n",
       "4×2 Matrix{Int64}:\n",
       " 1  5\n",
       " 2  6\n",
       " 3  7\n",
       " 4  8\n",
       "\n",
       "julia> rm(\"delim_file.txt\")\n",
       "```\n"
      ],
      "text/plain": [
       "\u001b[36m  readdlm(source, T::Type; options...)\u001b[39m\n",
       "\n",
       "  The columns are assumed to be separated by one or more whitespaces. The end\n",
       "  of line delimiter is taken as \u001b[36m\\n\u001b[39m.\n",
       "\n",
       "\u001b[1m  Examples\u001b[22m\n",
       "\u001b[1m  ≡≡≡≡≡≡≡≡≡≡\u001b[22m\n",
       "\n",
       "\u001b[36m  julia> using DelimitedFiles\u001b[39m\n",
       "\u001b[36m  \u001b[39m\n",
       "\u001b[36m  julia> x = [1; 2; 3; 4];\u001b[39m\n",
       "\u001b[36m  \u001b[39m\n",
       "\u001b[36m  julia> y = [5; 6; 7; 8];\u001b[39m\n",
       "\u001b[36m  \u001b[39m\n",
       "\u001b[36m  julia> open(\"delim_file.txt\", \"w\") do io\u001b[39m\n",
       "\u001b[36m             writedlm(io, [x y])\u001b[39m\n",
       "\u001b[36m         end;\u001b[39m\n",
       "\u001b[36m  \u001b[39m\n",
       "\u001b[36m  julia> readdlm(\"delim_file.txt\", Int64)\u001b[39m\n",
       "\u001b[36m  4×2 Matrix{Int64}:\u001b[39m\n",
       "\u001b[36m   1  5\u001b[39m\n",
       "\u001b[36m   2  6\u001b[39m\n",
       "\u001b[36m   3  7\u001b[39m\n",
       "\u001b[36m   4  8\u001b[39m\n",
       "\u001b[36m  \u001b[39m\n",
       "\u001b[36m  julia> readdlm(\"delim_file.txt\", Float64)\u001b[39m\n",
       "\u001b[36m  4×2 Matrix{Float64}:\u001b[39m\n",
       "\u001b[36m   1.0  5.0\u001b[39m\n",
       "\u001b[36m   2.0  6.0\u001b[39m\n",
       "\u001b[36m   3.0  7.0\u001b[39m\n",
       "\u001b[36m   4.0  8.0\u001b[39m\n",
       "\u001b[36m  \u001b[39m\n",
       "\u001b[36m  julia> rm(\"delim_file.txt\")\u001b[39m\n",
       "\n",
       "  ────────────────────────────────────────────────────────────────────────────\n",
       "\n",
       "\u001b[36m  readdlm(source, delim::AbstractChar, T::Type; options...)\u001b[39m\n",
       "\n",
       "  The end of line delimiter is taken as \u001b[36m\\n\u001b[39m.\n",
       "\n",
       "\u001b[1m  Examples\u001b[22m\n",
       "\u001b[1m  ≡≡≡≡≡≡≡≡≡≡\u001b[22m\n",
       "\n",
       "\u001b[36m  julia> using DelimitedFiles\u001b[39m\n",
       "\u001b[36m  \u001b[39m\n",
       "\u001b[36m  julia> x = [1; 2; 3; 4];\u001b[39m\n",
       "\u001b[36m  \u001b[39m\n",
       "\u001b[36m  julia> y = [1.1; 2.2; 3.3; 4.4];\u001b[39m\n",
       "\u001b[36m  \u001b[39m\n",
       "\u001b[36m  julia> open(\"delim_file.txt\", \"w\") do io\u001b[39m\n",
       "\u001b[36m             writedlm(io, [x y], ',')\u001b[39m\n",
       "\u001b[36m         end;\u001b[39m\n",
       "\u001b[36m  \u001b[39m\n",
       "\u001b[36m  julia> readdlm(\"delim_file.txt\", ',', Float64)\u001b[39m\n",
       "\u001b[36m  4×2 Matrix{Float64}:\u001b[39m\n",
       "\u001b[36m   1.0  1.1\u001b[39m\n",
       "\u001b[36m   2.0  2.2\u001b[39m\n",
       "\u001b[36m   3.0  3.3\u001b[39m\n",
       "\u001b[36m   4.0  4.4\u001b[39m\n",
       "\u001b[36m  \u001b[39m\n",
       "\u001b[36m  julia> rm(\"delim_file.txt\")\u001b[39m\n",
       "\n",
       "  ────────────────────────────────────────────────────────────────────────────\n",
       "\n",
       "\u001b[36m  readdlm(source; options...)\u001b[39m\n",
       "\n",
       "  The columns are assumed to be separated by one or more whitespaces. The end\n",
       "  of line delimiter is taken as \u001b[36m\\n\u001b[39m. If all data is numeric, the result will be\n",
       "  a numeric array. If some elements cannot be parsed as numbers, a\n",
       "  heterogeneous array of numbers and strings is returned.\n",
       "\n",
       "\u001b[1m  Examples\u001b[22m\n",
       "\u001b[1m  ≡≡≡≡≡≡≡≡≡≡\u001b[22m\n",
       "\n",
       "\u001b[36m  julia> using DelimitedFiles\u001b[39m\n",
       "\u001b[36m  \u001b[39m\n",
       "\u001b[36m  julia> x = [1; 2; 3; 4];\u001b[39m\n",
       "\u001b[36m  \u001b[39m\n",
       "\u001b[36m  julia> y = [\"a\"; \"b\"; \"c\"; \"d\"];\u001b[39m\n",
       "\u001b[36m  \u001b[39m\n",
       "\u001b[36m  julia> open(\"delim_file.txt\", \"w\") do io\u001b[39m\n",
       "\u001b[36m             writedlm(io, [x y])\u001b[39m\n",
       "\u001b[36m         end;\u001b[39m\n",
       "\u001b[36m  \u001b[39m\n",
       "\u001b[36m  julia> readdlm(\"delim_file.txt\")\u001b[39m\n",
       "\u001b[36m  4×2 Matrix{Any}:\u001b[39m\n",
       "\u001b[36m   1  \"a\"\u001b[39m\n",
       "\u001b[36m   2  \"b\"\u001b[39m\n",
       "\u001b[36m   3  \"c\"\u001b[39m\n",
       "\u001b[36m   4  \"d\"\u001b[39m\n",
       "\u001b[36m  \u001b[39m\n",
       "\u001b[36m  julia> rm(\"delim_file.txt\")\u001b[39m\n",
       "\n",
       "  ────────────────────────────────────────────────────────────────────────────\n",
       "\n",
       "\u001b[36m  readdlm(source, delim::AbstractChar; options...)\u001b[39m\n",
       "\n",
       "  The end of line delimiter is taken as \u001b[36m\\n\u001b[39m. If all data is numeric, the result\n",
       "  will be a numeric array. If some elements cannot be parsed as numbers, a\n",
       "  heterogeneous array of numbers and strings is returned.\n",
       "\n",
       "\u001b[1m  Examples\u001b[22m\n",
       "\u001b[1m  ≡≡≡≡≡≡≡≡≡≡\u001b[22m\n",
       "\n",
       "\u001b[36m  julia> using DelimitedFiles\u001b[39m\n",
       "\u001b[36m  \u001b[39m\n",
       "\u001b[36m  julia> x = [1; 2; 3; 4];\u001b[39m\n",
       "\u001b[36m  \u001b[39m\n",
       "\u001b[36m  julia> y = [1.1; 2.2; 3.3; 4.4];\u001b[39m\n",
       "\u001b[36m  \u001b[39m\n",
       "\u001b[36m  julia> open(\"delim_file.txt\", \"w\") do io\u001b[39m\n",
       "\u001b[36m             writedlm(io, [x y], ',')\u001b[39m\n",
       "\u001b[36m         end;\u001b[39m\n",
       "\u001b[36m  \u001b[39m\n",
       "\u001b[36m  julia> readdlm(\"delim_file.txt\", ',')\u001b[39m\n",
       "\u001b[36m  4×2 Matrix{Float64}:\u001b[39m\n",
       "\u001b[36m   1.0  1.1\u001b[39m\n",
       "\u001b[36m   2.0  2.2\u001b[39m\n",
       "\u001b[36m   3.0  3.3\u001b[39m\n",
       "\u001b[36m   4.0  4.4\u001b[39m\n",
       "\u001b[36m  \u001b[39m\n",
       "\u001b[36m  julia> z = [\"a\"; \"b\"; \"c\"; \"d\"];\u001b[39m\n",
       "\u001b[36m  \u001b[39m\n",
       "\u001b[36m  julia> open(\"delim_file.txt\", \"w\") do io\u001b[39m\n",
       "\u001b[36m             writedlm(io, [x z], ',')\u001b[39m\n",
       "\u001b[36m         end;\u001b[39m\n",
       "\u001b[36m  \u001b[39m\n",
       "\u001b[36m  julia> readdlm(\"delim_file.txt\", ',')\u001b[39m\n",
       "\u001b[36m  4×2 Matrix{Any}:\u001b[39m\n",
       "\u001b[36m   1  \"a\"\u001b[39m\n",
       "\u001b[36m   2  \"b\"\u001b[39m\n",
       "\u001b[36m   3  \"c\"\u001b[39m\n",
       "\u001b[36m   4  \"d\"\u001b[39m\n",
       "\u001b[36m  \u001b[39m\n",
       "\u001b[36m  julia> rm(\"delim_file.txt\")\u001b[39m\n",
       "\n",
       "  ────────────────────────────────────────────────────────────────────────────\n",
       "\n",
       "\u001b[36m  readdlm(source, delim::AbstractChar, eol::AbstractChar; options...)\u001b[39m\n",
       "\n",
       "  If all data is numeric, the result will be a numeric array. If some elements\n",
       "  cannot be parsed as numbers, a heterogeneous array of numbers and strings is\n",
       "  returned.\n",
       "\n",
       "  ────────────────────────────────────────────────────────────────────────────\n",
       "\n",
       "\u001b[36m  readdlm(source, delim::AbstractChar, T::Type, eol::AbstractChar; header=false, skipstart=0, skipblanks=true, use_mmap, quotes=true, dims, comments=false, comment_char='#')\u001b[39m\n",
       "\n",
       "  Read a matrix from the source where each line (separated by \u001b[36meol\u001b[39m) gives one\n",
       "  row, with elements separated by the given delimiter. The source can be a\n",
       "  text file, stream or byte array. Memory mapped files can be used by passing\n",
       "  the byte array representation of the mapped segment as source.\n",
       "\n",
       "  If \u001b[36mT\u001b[39m is a numeric type, the result is an array of that type, with any\n",
       "  non-numeric elements as \u001b[36mNaN\u001b[39m for floating-point types, or zero. Other useful\n",
       "  values of \u001b[36mT\u001b[39m include \u001b[36mString\u001b[39m, \u001b[36mAbstractString\u001b[39m, and \u001b[36mAny\u001b[39m.\n",
       "\n",
       "  If \u001b[36mheader\u001b[39m is \u001b[36mtrue\u001b[39m, the first row of data will be read as header and the\n",
       "  tuple \u001b[36m(data_cells, header_cells)\u001b[39m is returned instead of only \u001b[36mdata_cells\u001b[39m.\n",
       "\n",
       "  Specifying \u001b[36mskipstart\u001b[39m will ignore the corresponding number of initial lines\n",
       "  from the input.\n",
       "\n",
       "  If \u001b[36mskipblanks\u001b[39m is \u001b[36mtrue\u001b[39m, blank lines in the input will be ignored.\n",
       "\n",
       "  If \u001b[36muse_mmap\u001b[39m is \u001b[36mtrue\u001b[39m, the file specified by \u001b[36msource\u001b[39m is memory mapped for\n",
       "  potential speedups if the file is large. Default is \u001b[36mfalse'. On a Windows\n",
       "  filesystem,\u001b[39muse_mmap\u001b[36mshould not be set to\u001b[39mtrue` unless the file is only read\n",
       "  once and is also not written to. Some edge cases exist where an OS is\n",
       "  Unix-like but the filesystem is Windows-like.\n",
       "\n",
       "  If \u001b[36mquotes\u001b[39m is \u001b[36mtrue\u001b[39m, columns enclosed within double-quote (\") characters are\n",
       "  allowed to contain new lines and column delimiters. Double-quote characters\n",
       "  within a quoted field must be escaped with another double-quote. Specifying\n",
       "  \u001b[36mdims\u001b[39m as a tuple of the expected rows and columns (including header, if any)\n",
       "  may speed up reading of large files. If \u001b[36mcomments\u001b[39m is \u001b[36mtrue\u001b[39m, lines beginning\n",
       "  with \u001b[36mcomment_char\u001b[39m and text following \u001b[36mcomment_char\u001b[39m in any line are ignored.\n",
       "\n",
       "\u001b[1m  Examples\u001b[22m\n",
       "\u001b[1m  ≡≡≡≡≡≡≡≡≡≡\u001b[22m\n",
       "\n",
       "\u001b[36m  julia> using DelimitedFiles\u001b[39m\n",
       "\u001b[36m  \u001b[39m\n",
       "\u001b[36m  julia> x = [1; 2; 3; 4];\u001b[39m\n",
       "\u001b[36m  \u001b[39m\n",
       "\u001b[36m  julia> y = [5; 6; 7; 8];\u001b[39m\n",
       "\u001b[36m  \u001b[39m\n",
       "\u001b[36m  julia> open(\"delim_file.txt\", \"w\") do io\u001b[39m\n",
       "\u001b[36m             writedlm(io, [x y])\u001b[39m\n",
       "\u001b[36m         end\u001b[39m\n",
       "\u001b[36m  \u001b[39m\n",
       "\u001b[36m  julia> readdlm(\"delim_file.txt\", '\\t', Int, '\\n')\u001b[39m\n",
       "\u001b[36m  4×2 Matrix{Int64}:\u001b[39m\n",
       "\u001b[36m   1  5\u001b[39m\n",
       "\u001b[36m   2  6\u001b[39m\n",
       "\u001b[36m   3  7\u001b[39m\n",
       "\u001b[36m   4  8\u001b[39m\n",
       "\u001b[36m  \u001b[39m\n",
       "\u001b[36m  julia> rm(\"delim_file.txt\")\u001b[39m"
      ]
     },
     "execution_count": 2,
     "metadata": {},
     "output_type": "execute_result"
    }
   ],
   "source": [
    "?DelimitedFiles.readdlm"
   ]
  },
  {
   "cell_type": "markdown",
   "id": "56f77bf5",
   "metadata": {},
   "source": [
    "The readdlm() function is Julia's way to read any file that consists of lines separated into data items with a delimiter. "
   ]
  },
  {
   "cell_type": "markdown",
   "id": "c005a0b8",
   "metadata": {},
   "source": [
    "### Dealing With Dates\n",
    "* DateTime()\n",
    "* Dates.datetime2rata()"
   ]
  },
  {
   "cell_type": "code",
   "execution_count": 3,
   "id": "d2c473fa",
   "metadata": {},
   "outputs": [
    {
     "data": {
      "text/plain": [
       "2015-11-25T00:00:00"
      ]
     },
     "execution_count": 3,
     "metadata": {},
     "output_type": "execute_result"
    }
   ],
   "source": [
    "using Dates\n",
    "Dates.DateTime(wikiEVDraw[1,1], \"d u y\")"
   ]
  },
  {
   "cell_type": "markdown",
   "id": "3247a46b",
   "metadata": {},
   "source": [
    "### For Loops\n",
    "Syntax:\n",
    "\n",
    "```julia\n",
    "for variable = iterable\n",
    "    # code\n",
    "end\n",
    "```"
   ]
  },
  {
   "cell_type": "code",
   "execution_count": 4,
   "id": "ef7b55ee",
   "metadata": {},
   "outputs": [
    {
     "name": "stdout",
     "output_type": "stream",
     "text": [
      "1\n",
      "2\n",
      "3\n",
      "4\n",
      "5\n"
     ]
    }
   ],
   "source": [
    "for num = 1:5\n",
    "    println(num)\n",
    "end"
   ]
  },
  {
   "cell_type": "code",
   "execution_count": 7,
   "id": "3f87e4a2",
   "metadata": {},
   "outputs": [
    {
     "name": "stdout",
     "output_type": "stream",
     "text": [
      "search: \u001b[0m\u001b[1mp\u001b[22m\u001b[0m\u001b[1mr\u001b[22m\u001b[0m\u001b[1mi\u001b[22m\u001b[0m\u001b[1mn\u001b[22m\u001b[0m\u001b[1mt\u001b[22m\u001b[0m\u001b[1ms\u001b[22m\u001b[0m\u001b[1mt\u001b[22m\u001b[0m\u001b[1my\u001b[22m\u001b[0m\u001b[1ml\u001b[22m\u001b[0m\u001b[1me\u001b[22m\u001b[0m\u001b[1md\u001b[22m\n",
      "\n"
     ]
    },
    {
     "data": {
      "text/latex": [
       "\\begin{verbatim}\n",
       "printstyled([io], xs...; bold::Bool=false, underline::Bool=false, blink::Bool=false, reverse::Bool=false, hidden::Bool=false, color::Union{Symbol,Int}=:normal)\n",
       "\\end{verbatim}\n",
       "Print \\texttt{xs} in a color specified as a symbol or integer, optionally in bold.\n",
       "\n",
       "Keyword \\texttt{color} may take any of the values \\texttt{:normal}, \\texttt{:default}, \\texttt{:bold}, \\texttt{:black}, \\texttt{:blink}, \\texttt{:blue}, \\texttt{:cyan}, \\texttt{:green}, \\texttt{:hidden}, \\texttt{:light\\_black}, \\texttt{:light\\_blue}, \\texttt{:light\\_cyan}, \\texttt{:light\\_green}, \\texttt{:light\\_magenta}, \\texttt{:light\\_red}, \\texttt{:light\\_yellow}, \\texttt{:magenta}, \\texttt{:nothing}, \\texttt{:red}, \\texttt{:reverse}, \\texttt{:underline}, \\texttt{:white}, or  \\texttt{:yellow} or an integer between 0 and 255 inclusive. Note that not all terminals support 256 colors.\n",
       "\n",
       "Keywords \\texttt{bold=true}, \\texttt{underline=true}, \\texttt{blink=true} are self-explanatory. Keyword \\texttt{reverse=true} prints with foreground and background colors exchanged, and \\texttt{hidden=true} should be invisibe in the terminal but can still be copied. These properties can be used in any combination.\n",
       "\n",
       "See also \\href{@ref}{\\texttt{print}}, \\href{@ref}{\\texttt{println}}, \\href{@ref}{\\texttt{show}}.\n",
       "\n",
       "\\begin{quote}\n",
       "\\textbf{compat}\n",
       "\n",
       "Julia 1.7\n",
       "\n",
       "Keywords except \\texttt{color} and \\texttt{bold} were added in Julia 1.7.\n",
       "\n",
       "\\end{quote}\n"
      ],
      "text/markdown": [
       "```\n",
       "printstyled([io], xs...; bold::Bool=false, underline::Bool=false, blink::Bool=false, reverse::Bool=false, hidden::Bool=false, color::Union{Symbol,Int}=:normal)\n",
       "```\n",
       "\n",
       "Print `xs` in a color specified as a symbol or integer, optionally in bold.\n",
       "\n",
       "Keyword `color` may take any of the values `:normal`, `:default`, `:bold`, `:black`, `:blink`, `:blue`, `:cyan`, `:green`, `:hidden`, `:light_black`, `:light_blue`, `:light_cyan`, `:light_green`, `:light_magenta`, `:light_red`, `:light_yellow`, `:magenta`, `:nothing`, `:red`, `:reverse`, `:underline`, `:white`, or  `:yellow` or an integer between 0 and 255 inclusive. Note that not all terminals support 256 colors.\n",
       "\n",
       "Keywords `bold=true`, `underline=true`, `blink=true` are self-explanatory. Keyword `reverse=true` prints with foreground and background colors exchanged, and `hidden=true` should be invisibe in the terminal but can still be copied. These properties can be used in any combination.\n",
       "\n",
       "See also [`print`](@ref), [`println`](@ref), [`show`](@ref).\n",
       "\n",
       "!!! compat \"Julia 1.7\"\n",
       "    Keywords except `color` and `bold` were added in Julia 1.7.\n",
       "\n"
      ],
      "text/plain": [
       "\u001b[36m  printstyled([io], xs...; bold::Bool=false, underline::Bool=false, blink::Bool=false, reverse::Bool=false, hidden::Bool=false, color::Union{Symbol,Int}=:normal)\u001b[39m\n",
       "\n",
       "  Print \u001b[36mxs\u001b[39m in a color specified as a symbol or integer, optionally in bold.\n",
       "\n",
       "  Keyword \u001b[36mcolor\u001b[39m may take any of the values \u001b[36m:normal\u001b[39m, \u001b[36m:default\u001b[39m, \u001b[36m:bold\u001b[39m, \u001b[36m:black\u001b[39m,\n",
       "  \u001b[36m:blink\u001b[39m, \u001b[36m:blue\u001b[39m, \u001b[36m:cyan\u001b[39m, \u001b[36m:green\u001b[39m, \u001b[36m:hidden\u001b[39m, \u001b[36m:light_black\u001b[39m, \u001b[36m:light_blue\u001b[39m,\n",
       "  \u001b[36m:light_cyan\u001b[39m, \u001b[36m:light_green\u001b[39m, \u001b[36m:light_magenta\u001b[39m, \u001b[36m:light_red\u001b[39m, \u001b[36m:light_yellow\u001b[39m,\n",
       "  \u001b[36m:magenta\u001b[39m, \u001b[36m:nothing\u001b[39m, \u001b[36m:red\u001b[39m, \u001b[36m:reverse\u001b[39m, \u001b[36m:underline\u001b[39m, \u001b[36m:white\u001b[39m, or \u001b[36m:yellow\u001b[39m or an\n",
       "  integer between 0 and 255 inclusive. Note that not all terminals support 256\n",
       "  colors.\n",
       "\n",
       "  Keywords \u001b[36mbold=true\u001b[39m, \u001b[36munderline=true\u001b[39m, \u001b[36mblink=true\u001b[39m are self-explanatory. Keyword\n",
       "  \u001b[36mreverse=true\u001b[39m prints with foreground and background colors exchanged, and\n",
       "  \u001b[36mhidden=true\u001b[39m should be invisibe in the terminal but can still be copied.\n",
       "  These properties can be used in any combination.\n",
       "\n",
       "  See also \u001b[36mprint\u001b[39m, \u001b[36mprintln\u001b[39m, \u001b[36mshow\u001b[39m.\n",
       "\n",
       "\u001b[39m\u001b[1m  │ \u001b[22m\u001b[39m\u001b[1mJulia 1.7\u001b[22m\n",
       "\u001b[39m\u001b[1m  │\u001b[22m\n",
       "\u001b[39m\u001b[1m  │\u001b[22m  Keywords except \u001b[36mcolor\u001b[39m and \u001b[36mbold\u001b[39m were added in Julia 1.7."
      ]
     },
     "execution_count": 7,
     "metadata": {},
     "output_type": "execute_result"
    }
   ],
   "source": [
    "?printstyled"
   ]
  },
  {
   "cell_type": "code",
   "execution_count": 12,
   "id": "b4d40885-4676-463e-9747-af6fc961b13d",
   "metadata": {},
   "outputs": [
    {
     "name": "stdout",
     "output_type": "stream",
     "text": [
      "\u001b[34m\u001b[1mHello World\u001b[22m\u001b[39m"
     ]
    }
   ],
   "source": [
    "printstyled(\"Hello World\", bold=true, color=:blue)"
   ]
  },
  {
   "cell_type": "code",
   "execution_count": 14,
   "id": "acdd012d",
   "metadata": {},
   "outputs": [
    {
     "name": "stdout",
     "output_type": "stream",
     "text": [
      "x is 1\n",
      "x is 2\n",
      "x is 3\n",
      "x is 4\n",
      "x is 5\n",
      "x is 6\n",
      "x is 7\n",
      "x is 8\n",
      "x is 9\n",
      "x is 10\n"
     ]
    }
   ],
   "source": [
    "for x = 1:10\n",
    "    # $ - is used for string interpolation\n",
    "    println(\"x is $x\")\n",
    "end"
   ]
  },
  {
   "cell_type": "code",
   "execution_count": 15,
   "id": "86a5dc88",
   "metadata": {},
   "outputs": [
    {
     "data": {
      "text/plain": [
       "54-element Vector{Any}:\n",
       " \"25 Nov 2015\"\n",
       " \"18 Nov 2015\"\n",
       " \"11 Nov 2015\"\n",
       " \"4 Nov 2015\"\n",
       " \"25 Oct 2015\"\n",
       " \"18 Oct 2015\"\n",
       " \"11 Oct 2015\"\n",
       " \"27 Sep 2015\"\n",
       " \"20 Sep 2015\"\n",
       " \"13 Sep 2015\"\n",
       " \"6 Sep 2015\"\n",
       " \"30 Aug 2015\"\n",
       " \"16 Aug 2015\"\n",
       " ⋮\n",
       " \"9 Aug 2014\"\n",
       " \"30 Jul 2014\"\n",
       " \"23 Jul 2014\"\n",
       " \"14 Jul 2014\"\n",
       " \"2 Jul 2014\"\n",
       " \"17 Jun 2014\"\n",
       " \"27 May 2014\"\n",
       " \"12 May 2014\"\n",
       " \"1 May 2014\"\n",
       " \"14 Apr 2014\"\n",
       " \"31 Mar 2014\"\n",
       " \"22 Mar 2014\""
      ]
     },
     "execution_count": 15,
     "metadata": {},
     "output_type": "execute_result"
    }
   ],
   "source": [
    "col1 = wikiEVDraw[:, 1]"
   ]
  },
  {
   "cell_type": "code",
   "execution_count": 17,
   "id": "22f28fd8",
   "metadata": {},
   "outputs": [
    {
     "data": {
      "text/plain": [
       "54-element Vector{DateTime}:\n",
       " 2015-11-25T00:00:00\n",
       " 2015-11-18T00:00:00\n",
       " 2015-11-11T00:00:00\n",
       " 2015-11-04T00:00:00\n",
       " 2015-10-25T00:00:00\n",
       " 2015-10-18T00:00:00\n",
       " 2015-10-11T00:00:00\n",
       " 2015-09-27T00:00:00\n",
       " 2015-09-20T00:00:00\n",
       " 2015-09-13T00:00:00\n",
       " 2015-09-06T00:00:00\n",
       " 2015-08-30T00:00:00\n",
       " 2015-08-16T00:00:00\n",
       " ⋮\n",
       " 2014-08-09T00:00:00\n",
       " 2014-07-30T00:00:00\n",
       " 2014-07-23T00:00:00\n",
       " 2014-07-14T00:00:00\n",
       " 2014-07-02T00:00:00\n",
       " 2014-06-17T00:00:00\n",
       " 2014-05-27T00:00:00\n",
       " 2014-05-12T00:00:00\n",
       " 2014-05-01T00:00:00\n",
       " 2014-04-14T00:00:00\n",
       " 2014-03-31T00:00:00\n",
       " 2014-03-22T00:00:00"
      ]
     },
     "execution_count": 17,
     "metadata": {},
     "output_type": "execute_result"
    }
   ],
   "source": [
    "col1 = [Dates.DateTime(col, \"d u y\") for col in col1]"
   ]
  },
  {
   "cell_type": "markdown",
   "id": "c9d4b057",
   "metadata": {},
   "source": [
    "### What is rata die days?\n",
    "It is a system for assigning numbers to calendar days, independent of any calendar, for the purposes of any calendrical calculations. \n",
    "\n",
    "> The base date of 1 January 0001 is determined by extending the current Gregorian calendar backward (365 days each year, with an extra day every year that is divisible by 4 except century years that are not divisible by 400).\n",
    "\n"
   ]
  },
  {
   "cell_type": "code",
   "execution_count": 19,
   "id": "7f3b9bb7",
   "metadata": {},
   "outputs": [
    {
     "data": {
      "text/plain": [
       "daysSinceMar22 (generic function with 1 method)"
      ]
     },
     "execution_count": 19,
     "metadata": {},
     "output_type": "execute_result"
    }
   ],
   "source": [
    "daysSinceMar22(x) = Dates.datetime2rata(x) - Dates.datetime2rata(col1[54])"
   ]
  },
  {
   "cell_type": "code",
   "execution_count": 20,
   "id": "f29522b7",
   "metadata": {},
   "outputs": [
    {
     "data": {
      "text/plain": [
       "2014-03-22T00:00:00"
      ]
     },
     "execution_count": 20,
     "metadata": {},
     "output_type": "execute_result"
    }
   ],
   "source": [
    "col1[54]"
   ]
  },
  {
   "cell_type": "code",
   "execution_count": 22,
   "id": "a9dbafb0",
   "metadata": {},
   "outputs": [
    {
     "data": {
      "text/plain": [
       "54-element Vector{Int64}:\n",
       " 613\n",
       " 606\n",
       " 599\n",
       " 592\n",
       " 582\n",
       " 575\n",
       " 568\n",
       " 554\n",
       " 547\n",
       " 540\n",
       " 533\n",
       " 526\n",
       " 512\n",
       "   ⋮\n",
       " 140\n",
       " 130\n",
       " 123\n",
       " 114\n",
       " 102\n",
       "  87\n",
       "  66\n",
       "  51\n",
       "  40\n",
       "  23\n",
       "   9\n",
       "   0"
      ]
     },
     "execution_count": 22,
     "metadata": {},
     "output_type": "execute_result"
    }
   ],
   "source": [
    "epidays = [daysSinceMar22(x) for x in col1]"
   ]
  },
  {
   "cell_type": "markdown",
   "id": "a20a8000",
   "metadata": {},
   "source": [
    "### Exporting Data As csv files\n",
    "* writedlm()"
   ]
  },
  {
   "cell_type": "code",
   "execution_count": 23,
   "id": "85ae8ec4",
   "metadata": {},
   "outputs": [],
   "source": [
    "wikiEVDraw[:, 1] = epidays\n",
    "DelimitedFiles.writedlm(\"Ebola-data.csv\", wikiEVDraw, ',')"
   ]
  },
  {
   "cell_type": "code",
   "execution_count": null,
   "id": "386c0730",
   "metadata": {},
   "outputs": [],
   "source": []
  },
  {
   "cell_type": "markdown",
   "id": "8bf24f63",
   "metadata": {},
   "source": [
    "### Plots\n"
   ]
  },
  {
   "cell_type": "code",
   "execution_count": 24,
   "id": "6533e33a-d778-4485-9835-5a21866456e0",
   "metadata": {},
   "outputs": [
    {
     "data": {
      "text/plain": [
       "54-element Vector{Any}:\n",
       " 28637\n",
       " 28634\n",
       " 28635\n",
       " 28607\n",
       " 28539\n",
       " 28476\n",
       " 28454\n",
       " 28388\n",
       " 28295\n",
       " 28220\n",
       " 28147\n",
       " 28073\n",
       " 27952\n",
       "     ⋮\n",
       "  1835\n",
       "  1437\n",
       "  1201\n",
       "   982\n",
       "   779\n",
       "   528\n",
       "   309\n",
       "   260\n",
       "   239\n",
       "   176\n",
       "   130\n",
       "    49"
      ]
     },
     "execution_count": 24,
     "metadata": {},
     "output_type": "execute_result"
    }
   ],
   "source": [
    "EbolaData = DelimitedFiles.readdlm(\"Ebola-data.csv\", ',')\n",
    "epidays = EbolaData[:,1]\n",
    "allCases = EbolaData[:,2]"
   ]
  },
  {
   "cell_type": "code",
   "execution_count": 28,
   "id": "1376f7a3",
   "metadata": {},
   "outputs": [
    {
     "data": {
      "text/plain": [
       "Plots.GRBackend()"
      ]
     },
     "execution_count": 28,
     "metadata": {},
     "output_type": "execute_result"
    }
   ],
   "source": [
    "using Plots\n",
    "\n",
    "# activate gr backend for plots\n",
    "gr()"
   ]
  },
  {
   "cell_type": "code",
   "execution_count": 41,
   "id": "3599d280",
   "metadata": {},
   "outputs": [
    {
     "data": {
      "image/svg+xml": [
       "<?xml version=\"1.0\" encoding=\"utf-8\"?>\n",
       "<svg xmlns=\"http://www.w3.org/2000/svg\" xmlns:xlink=\"http://www.w3.org/1999/xlink\" width=\"600\" height=\"400\" viewBox=\"0 0 2400 1600\">\n",
       "<defs>\n",
       "  <clipPath id=\"clip430\">\n",
       "    <rect x=\"0\" y=\"0\" width=\"2400\" height=\"1600\"/>\n",
       "  </clipPath>\n",
       "</defs>\n",
       "<path clip-path=\"url(#clip430)\" d=\"\n",
       "M0 1600 L2400 1600 L2400 0 L0 0  Z\n",
       "  \" fill=\"#ffffff\" fill-rule=\"evenodd\" fill-opacity=\"1\"/>\n",
       "<defs>\n",
       "  <clipPath id=\"clip431\">\n",
       "    <rect x=\"480\" y=\"0\" width=\"1681\" height=\"1600\"/>\n",
       "  </clipPath>\n",
       "</defs>\n",
       "<path clip-path=\"url(#clip430)\" d=\"\n",
       "M306.435 1486.45 L2352.76 1486.45 L2352.76 47.2441 L306.435 47.2441  Z\n",
       "  \" fill=\"#ffffff\" fill-rule=\"evenodd\" fill-opacity=\"1\"/>\n",
       "<defs>\n",
       "  <clipPath id=\"clip432\">\n",
       "    <rect x=\"306\" y=\"47\" width=\"2047\" height=\"1440\"/>\n",
       "  </clipPath>\n",
       "</defs>\n",
       "<polyline clip-path=\"url(#clip432)\" style=\"stroke:#000000; stroke-linecap:butt; stroke-linejoin:round; stroke-width:2; stroke-opacity:0.1; fill:none\" points=\"\n",
       "  364.35,1486.45 364.35,47.2441 \n",
       "  \"/>\n",
       "<polyline clip-path=\"url(#clip432)\" style=\"stroke:#000000; stroke-linecap:butt; stroke-linejoin:round; stroke-width:2; stroke-opacity:0.1; fill:none\" points=\"\n",
       "  679.275,1486.45 679.275,47.2441 \n",
       "  \"/>\n",
       "<polyline clip-path=\"url(#clip432)\" style=\"stroke:#000000; stroke-linecap:butt; stroke-linejoin:round; stroke-width:2; stroke-opacity:0.1; fill:none\" points=\"\n",
       "  994.2,1486.45 994.2,47.2441 \n",
       "  \"/>\n",
       "<polyline clip-path=\"url(#clip432)\" style=\"stroke:#000000; stroke-linecap:butt; stroke-linejoin:round; stroke-width:2; stroke-opacity:0.1; fill:none\" points=\"\n",
       "  1309.13,1486.45 1309.13,47.2441 \n",
       "  \"/>\n",
       "<polyline clip-path=\"url(#clip432)\" style=\"stroke:#000000; stroke-linecap:butt; stroke-linejoin:round; stroke-width:2; stroke-opacity:0.1; fill:none\" points=\"\n",
       "  1624.05,1486.45 1624.05,47.2441 \n",
       "  \"/>\n",
       "<polyline clip-path=\"url(#clip432)\" style=\"stroke:#000000; stroke-linecap:butt; stroke-linejoin:round; stroke-width:2; stroke-opacity:0.1; fill:none\" points=\"\n",
       "  1938.98,1486.45 1938.98,47.2441 \n",
       "  \"/>\n",
       "<polyline clip-path=\"url(#clip432)\" style=\"stroke:#000000; stroke-linecap:butt; stroke-linejoin:round; stroke-width:2; stroke-opacity:0.1; fill:none\" points=\"\n",
       "  2253.9,1486.45 2253.9,47.2441 \n",
       "  \"/>\n",
       "<polyline clip-path=\"url(#clip430)\" style=\"stroke:#000000; stroke-linecap:butt; stroke-linejoin:round; stroke-width:4; stroke-opacity:1; fill:none\" points=\"\n",
       "  306.435,1486.45 2352.76,1486.45 \n",
       "  \"/>\n",
       "<polyline clip-path=\"url(#clip430)\" style=\"stroke:#000000; stroke-linecap:butt; stroke-linejoin:round; stroke-width:4; stroke-opacity:1; fill:none\" points=\"\n",
       "  364.35,1486.45 364.35,1467.55 \n",
       "  \"/>\n",
       "<polyline clip-path=\"url(#clip430)\" style=\"stroke:#000000; stroke-linecap:butt; stroke-linejoin:round; stroke-width:4; stroke-opacity:1; fill:none\" points=\"\n",
       "  679.275,1486.45 679.275,1467.55 \n",
       "  \"/>\n",
       "<polyline clip-path=\"url(#clip430)\" style=\"stroke:#000000; stroke-linecap:butt; stroke-linejoin:round; stroke-width:4; stroke-opacity:1; fill:none\" points=\"\n",
       "  994.2,1486.45 994.2,1467.55 \n",
       "  \"/>\n",
       "<polyline clip-path=\"url(#clip430)\" style=\"stroke:#000000; stroke-linecap:butt; stroke-linejoin:round; stroke-width:4; stroke-opacity:1; fill:none\" points=\"\n",
       "  1309.13,1486.45 1309.13,1467.55 \n",
       "  \"/>\n",
       "<polyline clip-path=\"url(#clip430)\" style=\"stroke:#000000; stroke-linecap:butt; stroke-linejoin:round; stroke-width:4; stroke-opacity:1; fill:none\" points=\"\n",
       "  1624.05,1486.45 1624.05,1467.55 \n",
       "  \"/>\n",
       "<polyline clip-path=\"url(#clip430)\" style=\"stroke:#000000; stroke-linecap:butt; stroke-linejoin:round; stroke-width:4; stroke-opacity:1; fill:none\" points=\"\n",
       "  1938.98,1486.45 1938.98,1467.55 \n",
       "  \"/>\n",
       "<polyline clip-path=\"url(#clip430)\" style=\"stroke:#000000; stroke-linecap:butt; stroke-linejoin:round; stroke-width:4; stroke-opacity:1; fill:none\" points=\"\n",
       "  2253.9,1486.45 2253.9,1467.55 \n",
       "  \"/>\n",
       "<path clip-path=\"url(#clip430)\" d=\"M364.35 1517.37 Q360.739 1517.37 358.91 1520.93 Q357.105 1524.47 357.105 1531.6 Q357.105 1538.71 358.91 1542.27 Q360.739 1545.82 364.35 1545.82 Q367.984 1545.82 369.79 1542.27 Q371.619 1538.71 371.619 1531.6 Q371.619 1524.47 369.79 1520.93 Q367.984 1517.37 364.35 1517.37 M364.35 1513.66 Q370.16 1513.66 373.216 1518.27 Q376.295 1522.85 376.295 1531.6 Q376.295 1540.33 373.216 1544.94 Q370.16 1549.52 364.35 1549.52 Q358.54 1549.52 355.461 1544.94 Q352.406 1540.33 352.406 1531.6 Q352.406 1522.85 355.461 1518.27 Q358.54 1513.66 364.35 1513.66 Z\" fill=\"#000000\" fill-rule=\"evenodd\" fill-opacity=\"1\" /><path clip-path=\"url(#clip430)\" d=\"M638.882 1544.91 L646.521 1544.91 L646.521 1518.55 L638.211 1520.21 L638.211 1515.95 L646.475 1514.29 L651.15 1514.29 L651.15 1544.91 L658.789 1544.91 L658.789 1548.85 L638.882 1548.85 L638.882 1544.91 Z\" fill=\"#000000\" fill-rule=\"evenodd\" fill-opacity=\"1\" /><path clip-path=\"url(#clip430)\" d=\"M678.234 1517.37 Q674.623 1517.37 672.794 1520.93 Q670.988 1524.47 670.988 1531.6 Q670.988 1538.71 672.794 1542.27 Q674.623 1545.82 678.234 1545.82 Q681.868 1545.82 683.673 1542.27 Q685.502 1538.71 685.502 1531.6 Q685.502 1524.47 683.673 1520.93 Q681.868 1517.37 678.234 1517.37 M678.234 1513.66 Q684.044 1513.66 687.099 1518.27 Q690.178 1522.85 690.178 1531.6 Q690.178 1540.33 687.099 1544.94 Q684.044 1549.52 678.234 1549.52 Q672.423 1549.52 669.345 1544.94 Q666.289 1540.33 666.289 1531.6 Q666.289 1522.85 669.345 1518.27 Q672.423 1513.66 678.234 1513.66 Z\" fill=\"#000000\" fill-rule=\"evenodd\" fill-opacity=\"1\" /><path clip-path=\"url(#clip430)\" d=\"M708.395 1517.37 Q704.784 1517.37 702.956 1520.93 Q701.15 1524.47 701.15 1531.6 Q701.15 1538.71 702.956 1542.27 Q704.784 1545.82 708.395 1545.82 Q712.03 1545.82 713.835 1542.27 Q715.664 1538.71 715.664 1531.6 Q715.664 1524.47 713.835 1520.93 Q712.03 1517.37 708.395 1517.37 M708.395 1513.66 Q714.206 1513.66 717.261 1518.27 Q720.34 1522.85 720.34 1531.6 Q720.34 1540.33 717.261 1544.94 Q714.206 1549.52 708.395 1549.52 Q702.585 1549.52 699.507 1544.94 Q696.451 1540.33 696.451 1531.6 Q696.451 1522.85 699.507 1518.27 Q702.585 1513.66 708.395 1513.66 Z\" fill=\"#000000\" fill-rule=\"evenodd\" fill-opacity=\"1\" /><path clip-path=\"url(#clip430)\" d=\"M957.893 1544.91 L974.212 1544.91 L974.212 1548.85 L952.268 1548.85 L952.268 1544.91 Q954.93 1542.16 959.513 1537.53 Q964.12 1532.88 965.3 1531.53 Q967.545 1529.01 968.425 1527.27 Q969.328 1525.51 969.328 1523.82 Q969.328 1521.07 967.383 1519.33 Q965.462 1517.6 962.36 1517.6 Q960.161 1517.6 957.708 1518.36 Q955.277 1519.13 952.499 1520.68 L952.499 1515.95 Q955.323 1514.82 957.777 1514.24 Q960.231 1513.66 962.268 1513.66 Q967.638 1513.66 970.832 1516.35 Q974.027 1519.03 974.027 1523.52 Q974.027 1525.65 973.217 1527.57 Q972.43 1529.47 970.323 1532.07 Q969.744 1532.74 966.643 1535.95 Q963.541 1539.15 957.893 1544.91 Z\" fill=\"#000000\" fill-rule=\"evenodd\" fill-opacity=\"1\" /><path clip-path=\"url(#clip430)\" d=\"M994.027 1517.37 Q990.416 1517.37 988.587 1520.93 Q986.781 1524.47 986.781 1531.6 Q986.781 1538.71 988.587 1542.27 Q990.416 1545.82 994.027 1545.82 Q997.661 1545.82 999.467 1542.27 Q1001.3 1538.71 1001.3 1531.6 Q1001.3 1524.47 999.467 1520.93 Q997.661 1517.37 994.027 1517.37 M994.027 1513.66 Q999.837 1513.66 1002.89 1518.27 Q1005.97 1522.85 1005.97 1531.6 Q1005.97 1540.33 1002.89 1544.94 Q999.837 1549.52 994.027 1549.52 Q988.217 1549.52 985.138 1544.94 Q982.082 1540.33 982.082 1531.6 Q982.082 1522.85 985.138 1518.27 Q988.217 1513.66 994.027 1513.66 Z\" fill=\"#000000\" fill-rule=\"evenodd\" fill-opacity=\"1\" /><path clip-path=\"url(#clip430)\" d=\"M1024.19 1517.37 Q1020.58 1517.37 1018.75 1520.93 Q1016.94 1524.47 1016.94 1531.6 Q1016.94 1538.71 1018.75 1542.27 Q1020.58 1545.82 1024.19 1545.82 Q1027.82 1545.82 1029.63 1542.27 Q1031.46 1538.71 1031.46 1531.6 Q1031.46 1524.47 1029.63 1520.93 Q1027.82 1517.37 1024.19 1517.37 M1024.19 1513.66 Q1030 1513.66 1033.05 1518.27 Q1036.13 1522.85 1036.13 1531.6 Q1036.13 1540.33 1033.05 1544.94 Q1030 1549.52 1024.19 1549.52 Q1018.38 1549.52 1015.3 1544.94 Q1012.24 1540.33 1012.24 1531.6 Q1012.24 1522.85 1015.3 1518.27 Q1018.38 1513.66 1024.19 1513.66 Z\" fill=\"#000000\" fill-rule=\"evenodd\" fill-opacity=\"1\" /><path clip-path=\"url(#clip430)\" d=\"M1282.89 1530.21 Q1286.24 1530.93 1288.12 1533.2 Q1290.02 1535.47 1290.02 1538.8 Q1290.02 1543.92 1286.5 1546.72 Q1282.98 1549.52 1276.5 1549.52 Q1274.32 1549.52 1272.01 1549.08 Q1269.72 1548.66 1267.26 1547.81 L1267.26 1543.29 Q1269.21 1544.43 1271.52 1545.01 Q1273.84 1545.58 1276.36 1545.58 Q1280.76 1545.58 1283.05 1543.85 Q1285.36 1542.11 1285.36 1538.8 Q1285.36 1535.75 1283.21 1534.03 Q1281.08 1532.3 1277.26 1532.3 L1273.23 1532.3 L1273.23 1528.45 L1277.45 1528.45 Q1280.9 1528.45 1282.73 1527.09 Q1284.55 1525.7 1284.55 1523.11 Q1284.55 1520.45 1282.66 1519.03 Q1280.78 1517.6 1277.26 1517.6 Q1275.34 1517.6 1273.14 1518.01 Q1270.94 1518.43 1268.3 1519.31 L1268.3 1515.14 Q1270.97 1514.4 1273.28 1514.03 Q1275.62 1513.66 1277.68 1513.66 Q1283 1513.66 1286.1 1516.09 Q1289.21 1518.5 1289.21 1522.62 Q1289.21 1525.49 1287.56 1527.48 Q1285.92 1529.45 1282.89 1530.21 Z\" fill=\"#000000\" fill-rule=\"evenodd\" fill-opacity=\"1\" /><path clip-path=\"url(#clip430)\" d=\"M1308.88 1517.37 Q1305.27 1517.37 1303.44 1520.93 Q1301.64 1524.47 1301.64 1531.6 Q1301.64 1538.71 1303.44 1542.27 Q1305.27 1545.82 1308.88 1545.82 Q1312.52 1545.82 1314.32 1542.27 Q1316.15 1538.71 1316.15 1531.6 Q1316.15 1524.47 1314.32 1520.93 Q1312.52 1517.37 1308.88 1517.37 M1308.88 1513.66 Q1314.69 1513.66 1317.75 1518.27 Q1320.83 1522.85 1320.83 1531.6 Q1320.83 1540.33 1317.75 1544.94 Q1314.69 1549.52 1308.88 1549.52 Q1303.07 1549.52 1299.99 1544.94 Q1296.94 1540.33 1296.94 1531.6 Q1296.94 1522.85 1299.99 1518.27 Q1303.07 1513.66 1308.88 1513.66 Z\" fill=\"#000000\" fill-rule=\"evenodd\" fill-opacity=\"1\" /><path clip-path=\"url(#clip430)\" d=\"M1339.04 1517.37 Q1335.43 1517.37 1333.6 1520.93 Q1331.8 1524.47 1331.8 1531.6 Q1331.8 1538.71 1333.6 1542.27 Q1335.43 1545.82 1339.04 1545.82 Q1342.68 1545.82 1344.48 1542.27 Q1346.31 1538.71 1346.31 1531.6 Q1346.31 1524.47 1344.48 1520.93 Q1342.68 1517.37 1339.04 1517.37 M1339.04 1513.66 Q1344.85 1513.66 1347.91 1518.27 Q1350.99 1522.85 1350.99 1531.6 Q1350.99 1540.33 1347.91 1544.94 Q1344.85 1549.52 1339.04 1549.52 Q1333.23 1549.52 1330.16 1544.94 Q1327.1 1540.33 1327.1 1531.6 Q1327.1 1522.85 1330.16 1518.27 Q1333.23 1513.66 1339.04 1513.66 Z\" fill=\"#000000\" fill-rule=\"evenodd\" fill-opacity=\"1\" /><path clip-path=\"url(#clip430)\" d=\"M1597.14 1518.36 L1585.34 1536.81 L1597.14 1536.81 L1597.14 1518.36 M1595.91 1514.29 L1601.79 1514.29 L1601.79 1536.81 L1606.72 1536.81 L1606.72 1540.7 L1601.79 1540.7 L1601.79 1548.85 L1597.14 1548.85 L1597.14 1540.7 L1581.54 1540.7 L1581.54 1536.19 L1595.91 1514.29 Z\" fill=\"#000000\" fill-rule=\"evenodd\" fill-opacity=\"1\" /><path clip-path=\"url(#clip430)\" d=\"M1624.46 1517.37 Q1620.84 1517.37 1619.02 1520.93 Q1617.21 1524.47 1617.21 1531.6 Q1617.21 1538.71 1619.02 1542.27 Q1620.84 1545.82 1624.46 1545.82 Q1628.09 1545.82 1629.9 1542.27 Q1631.72 1538.71 1631.72 1531.6 Q1631.72 1524.47 1629.9 1520.93 Q1628.09 1517.37 1624.46 1517.37 M1624.46 1513.66 Q1630.27 1513.66 1633.32 1518.27 Q1636.4 1522.85 1636.4 1531.6 Q1636.4 1540.33 1633.32 1544.94 Q1630.27 1549.52 1624.46 1549.52 Q1618.65 1549.52 1615.57 1544.94 Q1612.51 1540.33 1612.51 1531.6 Q1612.51 1522.85 1615.57 1518.27 Q1618.65 1513.66 1624.46 1513.66 Z\" fill=\"#000000\" fill-rule=\"evenodd\" fill-opacity=\"1\" /><path clip-path=\"url(#clip430)\" d=\"M1654.62 1517.37 Q1651.01 1517.37 1649.18 1520.93 Q1647.37 1524.47 1647.37 1531.6 Q1647.37 1538.71 1649.18 1542.27 Q1651.01 1545.82 1654.62 1545.82 Q1658.25 1545.82 1660.06 1542.27 Q1661.89 1538.71 1661.89 1531.6 Q1661.89 1524.47 1660.06 1520.93 Q1658.25 1517.37 1654.62 1517.37 M1654.62 1513.66 Q1660.43 1513.66 1663.48 1518.27 Q1666.56 1522.85 1666.56 1531.6 Q1666.56 1540.33 1663.48 1544.94 Q1660.43 1549.52 1654.62 1549.52 Q1648.81 1549.52 1645.73 1544.94 Q1642.67 1540.33 1642.67 1531.6 Q1642.67 1522.85 1645.73 1518.27 Q1648.81 1513.66 1654.62 1513.66 Z\" fill=\"#000000\" fill-rule=\"evenodd\" fill-opacity=\"1\" /><path clip-path=\"url(#clip430)\" d=\"M1898.59 1514.29 L1916.95 1514.29 L1916.95 1518.22 L1902.88 1518.22 L1902.88 1526.7 Q1903.89 1526.35 1904.91 1526.19 Q1905.93 1526 1906.95 1526 Q1912.74 1526 1916.12 1529.17 Q1919.5 1532.34 1919.5 1537.76 Q1919.5 1543.34 1916.02 1546.44 Q1912.55 1549.52 1906.23 1549.52 Q1904.06 1549.52 1901.79 1549.15 Q1899.54 1548.78 1897.14 1548.04 L1897.14 1543.34 Q1899.22 1544.47 1901.44 1545.03 Q1903.66 1545.58 1906.14 1545.58 Q1910.14 1545.58 1912.48 1543.48 Q1914.82 1541.37 1914.82 1537.76 Q1914.82 1534.15 1912.48 1532.04 Q1910.14 1529.94 1906.14 1529.94 Q1904.27 1529.94 1902.39 1530.35 Q1900.54 1530.77 1898.59 1531.65 L1898.59 1514.29 Z\" fill=\"#000000\" fill-rule=\"evenodd\" fill-opacity=\"1\" /><path clip-path=\"url(#clip430)\" d=\"M1938.71 1517.37 Q1935.1 1517.37 1933.27 1520.93 Q1931.46 1524.47 1931.46 1531.6 Q1931.46 1538.71 1933.27 1542.27 Q1935.1 1545.82 1938.71 1545.82 Q1942.34 1545.82 1944.15 1542.27 Q1945.98 1538.71 1945.98 1531.6 Q1945.98 1524.47 1944.15 1520.93 Q1942.34 1517.37 1938.71 1517.37 M1938.71 1513.66 Q1944.52 1513.66 1947.58 1518.27 Q1950.65 1522.85 1950.65 1531.6 Q1950.65 1540.33 1947.58 1544.94 Q1944.52 1549.52 1938.71 1549.52 Q1932.9 1549.52 1929.82 1544.94 Q1926.77 1540.33 1926.77 1531.6 Q1926.77 1522.85 1929.82 1518.27 Q1932.9 1513.66 1938.71 1513.66 Z\" fill=\"#000000\" fill-rule=\"evenodd\" fill-opacity=\"1\" /><path clip-path=\"url(#clip430)\" d=\"M1968.87 1517.37 Q1965.26 1517.37 1963.43 1520.93 Q1961.63 1524.47 1961.63 1531.6 Q1961.63 1538.71 1963.43 1542.27 Q1965.26 1545.82 1968.87 1545.82 Q1972.51 1545.82 1974.31 1542.27 Q1976.14 1538.71 1976.14 1531.6 Q1976.14 1524.47 1974.31 1520.93 Q1972.51 1517.37 1968.87 1517.37 M1968.87 1513.66 Q1974.68 1513.66 1977.74 1518.27 Q1980.82 1522.85 1980.82 1531.6 Q1980.82 1540.33 1977.74 1544.94 Q1974.68 1549.52 1968.87 1549.52 Q1963.06 1549.52 1959.98 1544.94 Q1956.93 1540.33 1956.93 1531.6 Q1956.93 1522.85 1959.98 1518.27 Q1963.06 1513.66 1968.87 1513.66 Z\" fill=\"#000000\" fill-rule=\"evenodd\" fill-opacity=\"1\" /><path clip-path=\"url(#clip430)\" d=\"M2224.23 1529.7 Q2221.08 1529.7 2219.23 1531.86 Q2217.4 1534.01 2217.4 1537.76 Q2217.4 1541.49 2219.23 1543.66 Q2221.08 1545.82 2224.23 1545.82 Q2227.37 1545.82 2229.2 1543.66 Q2231.05 1541.49 2231.05 1537.76 Q2231.05 1534.01 2229.2 1531.86 Q2227.37 1529.7 2224.23 1529.7 M2233.51 1515.05 L2233.51 1519.31 Q2231.75 1518.48 2229.94 1518.04 Q2228.16 1517.6 2226.4 1517.6 Q2221.77 1517.6 2219.32 1520.72 Q2216.89 1523.85 2216.54 1530.17 Q2217.91 1528.15 2219.97 1527.09 Q2222.03 1526 2224.5 1526 Q2229.71 1526 2232.72 1529.17 Q2235.75 1532.32 2235.75 1537.76 Q2235.75 1543.08 2232.6 1546.3 Q2229.46 1549.52 2224.23 1549.52 Q2218.23 1549.52 2215.06 1544.94 Q2211.89 1540.33 2211.89 1531.6 Q2211.89 1523.41 2215.78 1518.55 Q2219.66 1513.66 2226.22 1513.66 Q2227.98 1513.66 2229.76 1514.01 Q2231.56 1514.36 2233.51 1515.05 Z\" fill=\"#000000\" fill-rule=\"evenodd\" fill-opacity=\"1\" /><path clip-path=\"url(#clip430)\" d=\"M2253.81 1517.37 Q2250.2 1517.37 2248.37 1520.93 Q2246.56 1524.47 2246.56 1531.6 Q2246.56 1538.71 2248.37 1542.27 Q2250.2 1545.82 2253.81 1545.82 Q2257.44 1545.82 2259.25 1542.27 Q2261.08 1538.71 2261.08 1531.6 Q2261.08 1524.47 2259.25 1520.93 Q2257.44 1517.37 2253.81 1517.37 M2253.81 1513.66 Q2259.62 1513.66 2262.67 1518.27 Q2265.75 1522.85 2265.75 1531.6 Q2265.75 1540.33 2262.67 1544.94 Q2259.62 1549.52 2253.81 1549.52 Q2248 1549.52 2244.92 1544.94 Q2241.86 1540.33 2241.86 1531.6 Q2241.86 1522.85 2244.92 1518.27 Q2248 1513.66 2253.81 1513.66 Z\" fill=\"#000000\" fill-rule=\"evenodd\" fill-opacity=\"1\" /><path clip-path=\"url(#clip430)\" d=\"M2283.97 1517.37 Q2280.36 1517.37 2278.53 1520.93 Q2276.72 1524.47 2276.72 1531.6 Q2276.72 1538.71 2278.53 1542.27 Q2280.36 1545.82 2283.97 1545.82 Q2287.6 1545.82 2289.41 1542.27 Q2291.24 1538.71 2291.24 1531.6 Q2291.24 1524.47 2289.41 1520.93 Q2287.6 1517.37 2283.97 1517.37 M2283.97 1513.66 Q2289.78 1513.66 2292.84 1518.27 Q2295.91 1522.85 2295.91 1531.6 Q2295.91 1540.33 2292.84 1544.94 Q2289.78 1549.52 2283.97 1549.52 Q2278.16 1549.52 2275.08 1544.94 Q2272.03 1540.33 2272.03 1531.6 Q2272.03 1522.85 2275.08 1518.27 Q2278.16 1513.66 2283.97 1513.66 Z\" fill=\"#000000\" fill-rule=\"evenodd\" fill-opacity=\"1\" /><polyline clip-path=\"url(#clip432)\" style=\"stroke:#000000; stroke-linecap:butt; stroke-linejoin:round; stroke-width:2; stroke-opacity:0.1; fill:none\" points=\"\n",
       "  306.435,1448.04 2352.76,1448.04 \n",
       "  \"/>\n",
       "<polyline clip-path=\"url(#clip432)\" style=\"stroke:#000000; stroke-linecap:butt; stroke-linejoin:round; stroke-width:2; stroke-opacity:0.1; fill:none\" points=\"\n",
       "  306.435,1210.58 2352.76,1210.58 \n",
       "  \"/>\n",
       "<polyline clip-path=\"url(#clip432)\" style=\"stroke:#000000; stroke-linecap:butt; stroke-linejoin:round; stroke-width:2; stroke-opacity:0.1; fill:none\" points=\"\n",
       "  306.435,973.11 2352.76,973.11 \n",
       "  \"/>\n",
       "<polyline clip-path=\"url(#clip432)\" style=\"stroke:#000000; stroke-linecap:butt; stroke-linejoin:round; stroke-width:2; stroke-opacity:0.1; fill:none\" points=\"\n",
       "  306.435,735.643 2352.76,735.643 \n",
       "  \"/>\n",
       "<polyline clip-path=\"url(#clip432)\" style=\"stroke:#000000; stroke-linecap:butt; stroke-linejoin:round; stroke-width:2; stroke-opacity:0.1; fill:none\" points=\"\n",
       "  306.435,498.176 2352.76,498.176 \n",
       "  \"/>\n",
       "<polyline clip-path=\"url(#clip432)\" style=\"stroke:#000000; stroke-linecap:butt; stroke-linejoin:round; stroke-width:2; stroke-opacity:0.1; fill:none\" points=\"\n",
       "  306.435,260.71 2352.76,260.71 \n",
       "  \"/>\n",
       "<polyline clip-path=\"url(#clip430)\" style=\"stroke:#000000; stroke-linecap:butt; stroke-linejoin:round; stroke-width:4; stroke-opacity:1; fill:none\" points=\"\n",
       "  306.435,1486.45 306.435,47.2441 \n",
       "  \"/>\n",
       "<polyline clip-path=\"url(#clip430)\" style=\"stroke:#000000; stroke-linecap:butt; stroke-linejoin:round; stroke-width:4; stroke-opacity:1; fill:none\" points=\"\n",
       "  306.435,1448.04 325.333,1448.04 \n",
       "  \"/>\n",
       "<polyline clip-path=\"url(#clip430)\" style=\"stroke:#000000; stroke-linecap:butt; stroke-linejoin:round; stroke-width:4; stroke-opacity:1; fill:none\" points=\"\n",
       "  306.435,1210.58 325.333,1210.58 \n",
       "  \"/>\n",
       "<polyline clip-path=\"url(#clip430)\" style=\"stroke:#000000; stroke-linecap:butt; stroke-linejoin:round; stroke-width:4; stroke-opacity:1; fill:none\" points=\"\n",
       "  306.435,973.11 325.333,973.11 \n",
       "  \"/>\n",
       "<polyline clip-path=\"url(#clip430)\" style=\"stroke:#000000; stroke-linecap:butt; stroke-linejoin:round; stroke-width:4; stroke-opacity:1; fill:none\" points=\"\n",
       "  306.435,735.643 325.333,735.643 \n",
       "  \"/>\n",
       "<polyline clip-path=\"url(#clip430)\" style=\"stroke:#000000; stroke-linecap:butt; stroke-linejoin:round; stroke-width:4; stroke-opacity:1; fill:none\" points=\"\n",
       "  306.435,498.176 325.333,498.176 \n",
       "  \"/>\n",
       "<polyline clip-path=\"url(#clip430)\" style=\"stroke:#000000; stroke-linecap:butt; stroke-linejoin:round; stroke-width:4; stroke-opacity:1; fill:none\" points=\"\n",
       "  306.435,260.71 325.333,260.71 \n",
       "  \"/>\n",
       "<path clip-path=\"url(#clip430)\" d=\"M258.491 1433.84 Q254.88 1433.84 253.051 1437.41 Q251.246 1440.95 251.246 1448.08 Q251.246 1455.18 253.051 1458.75 Q254.88 1462.29 258.491 1462.29 Q262.125 1462.29 263.931 1458.75 Q265.759 1455.18 265.759 1448.08 Q265.759 1440.95 263.931 1437.41 Q262.125 1433.84 258.491 1433.84 M258.491 1430.14 Q264.301 1430.14 267.357 1434.74 Q270.435 1439.33 270.435 1448.08 Q270.435 1456.8 267.357 1461.41 Q264.301 1465.99 258.491 1465.99 Q252.681 1465.99 249.602 1461.41 Q246.547 1456.8 246.547 1448.08 Q246.547 1439.33 249.602 1434.74 Q252.681 1430.14 258.491 1430.14 Z\" fill=\"#000000\" fill-rule=\"evenodd\" fill-opacity=\"1\" /><path clip-path=\"url(#clip430)\" d=\"M54.6105 1199.74 L72.9668 1199.74 L72.9668 1203.68 L58.8928 1203.68 L58.8928 1212.15 Q59.9113 1211.8 60.9299 1211.64 Q61.9484 1211.46 62.9669 1211.46 Q68.7539 1211.46 72.1335 1214.63 Q75.5131 1217.8 75.5131 1223.22 Q75.5131 1228.79 72.0409 1231.9 Q68.5687 1234.98 62.2493 1234.98 Q60.0734 1234.98 57.8049 1234.6 Q55.5595 1234.23 53.1521 1233.49 L53.1521 1228.79 Q55.2354 1229.93 57.4577 1230.48 Q59.6799 1231.04 62.1567 1231.04 Q66.1613 1231.04 68.4993 1228.93 Q70.8372 1226.83 70.8372 1223.22 Q70.8372 1219.6 68.4993 1217.5 Q66.1613 1215.39 62.1567 1215.39 Q60.2817 1215.39 58.4067 1215.81 Q56.5549 1216.23 54.6105 1217.1 L54.6105 1199.74 Z\" fill=\"#000000\" fill-rule=\"evenodd\" fill-opacity=\"1\" /><path clip-path=\"url(#clip430)\" d=\"M84.726 1228.42 L89.6103 1228.42 L89.6103 1234.3 L84.726 1234.3 L84.726 1228.42 Z\" fill=\"#000000\" fill-rule=\"evenodd\" fill-opacity=\"1\" /><path clip-path=\"url(#clip430)\" d=\"M109.795 1202.82 Q106.184 1202.82 104.356 1206.39 Q102.55 1209.93 102.55 1217.06 Q102.55 1224.16 104.356 1227.73 Q106.184 1231.27 109.795 1231.27 Q113.43 1231.27 115.235 1227.73 Q117.064 1224.16 117.064 1217.06 Q117.064 1209.93 115.235 1206.39 Q113.43 1202.82 109.795 1202.82 M109.795 1199.12 Q115.605 1199.12 118.661 1203.73 Q121.74 1208.31 121.74 1217.06 Q121.74 1225.79 118.661 1230.39 Q115.605 1234.98 109.795 1234.98 Q103.985 1234.98 100.906 1230.39 Q97.851 1225.79 97.851 1217.06 Q97.851 1208.31 100.906 1203.73 Q103.985 1199.12 109.795 1199.12 Z\" fill=\"#000000\" fill-rule=\"evenodd\" fill-opacity=\"1\" /><path clip-path=\"url(#clip430)\" d=\"M139.957 1202.82 Q136.346 1202.82 134.517 1206.39 Q132.712 1209.93 132.712 1217.06 Q132.712 1224.16 134.517 1227.73 Q136.346 1231.27 139.957 1231.27 Q143.591 1231.27 145.397 1227.73 Q147.226 1224.16 147.226 1217.06 Q147.226 1209.93 145.397 1206.39 Q143.591 1202.82 139.957 1202.82 M139.957 1199.12 Q145.767 1199.12 148.823 1203.73 Q151.902 1208.31 151.902 1217.06 Q151.902 1225.79 148.823 1230.39 Q145.767 1234.98 139.957 1234.98 Q134.147 1234.98 131.068 1230.39 Q128.013 1225.79 128.013 1217.06 Q128.013 1208.31 131.068 1203.73 Q134.147 1199.12 139.957 1199.12 Z\" fill=\"#000000\" fill-rule=\"evenodd\" fill-opacity=\"1\" /><path clip-path=\"url(#clip430)\" d=\"M188.29 1208.84 L177.712 1219.47 L188.29 1230.04 L185.536 1232.85 L174.911 1222.22 L164.286 1232.85 L161.554 1230.04 L172.11 1219.47 L161.554 1208.84 L164.286 1206.04 L174.911 1216.67 L185.536 1206.04 L188.29 1208.84 Z\" fill=\"#000000\" fill-rule=\"evenodd\" fill-opacity=\"1\" /><path clip-path=\"url(#clip430)\" d=\"M200.651 1230.37 L208.29 1230.37 L208.29 1204 L199.98 1205.67 L199.98 1201.41 L208.244 1199.74 L212.92 1199.74 L212.92 1230.37 L220.559 1230.37 L220.559 1234.3 L200.651 1234.3 L200.651 1230.37 Z\" fill=\"#000000\" fill-rule=\"evenodd\" fill-opacity=\"1\" /><path clip-path=\"url(#clip430)\" d=\"M240.003 1202.82 Q236.392 1202.82 234.563 1206.39 Q232.758 1209.93 232.758 1217.06 Q232.758 1224.16 234.563 1227.73 Q236.392 1231.27 240.003 1231.27 Q243.637 1231.27 245.443 1227.73 Q247.271 1224.16 247.271 1217.06 Q247.271 1209.93 245.443 1206.39 Q243.637 1202.82 240.003 1202.82 M240.003 1199.12 Q245.813 1199.12 248.869 1203.73 Q251.947 1208.31 251.947 1217.06 Q251.947 1225.79 248.869 1230.39 Q245.813 1234.98 240.003 1234.98 Q234.193 1234.98 231.114 1230.39 Q228.059 1225.79 228.059 1217.06 Q228.059 1208.31 231.114 1203.73 Q234.193 1199.12 240.003 1199.12 Z\" fill=\"#000000\" fill-rule=\"evenodd\" fill-opacity=\"1\" /><path clip-path=\"url(#clip430)\" d=\"M264.643 1191.75 Q267.37 1192.34 268.893 1194.18 Q270.435 1196.02 270.435 1198.73 Q270.435 1202.89 267.577 1205.16 Q264.718 1207.44 259.452 1207.44 Q257.684 1207.44 255.803 1207.08 Q253.941 1206.74 251.947 1206.05 L251.947 1202.38 Q253.527 1203.3 255.408 1203.77 Q257.289 1204.24 259.339 1204.24 Q262.912 1204.24 264.774 1202.83 Q266.655 1201.42 266.655 1198.73 Q266.655 1196.25 264.906 1194.86 Q263.176 1193.45 260.072 1193.45 L256.8 1193.45 L256.8 1190.32 L260.223 1190.32 Q263.025 1190.32 264.511 1189.21 Q265.997 1188.09 265.997 1185.98 Q265.997 1183.82 264.455 1182.67 Q262.931 1181.5 260.072 1181.5 Q258.511 1181.5 256.725 1181.84 Q254.938 1182.18 252.794 1182.89 L252.794 1179.51 Q254.957 1178.91 256.837 1178.61 Q258.737 1178.31 260.411 1178.31 Q264.737 1178.31 267.257 1180.28 Q269.777 1182.24 269.777 1185.58 Q269.777 1187.92 268.442 1189.53 Q267.106 1191.13 264.643 1191.75 Z\" fill=\"#000000\" fill-rule=\"evenodd\" fill-opacity=\"1\" /><path clip-path=\"url(#clip430)\" d=\"M53.3995 992.902 L61.0384 992.902 L61.0384 966.536 L52.7282 968.203 L52.7282 963.944 L60.9921 962.277 L65.668 962.277 L65.668 992.902 L73.3068 992.902 L73.3068 996.837 L53.3995 996.837 L53.3995 992.902 Z\" fill=\"#000000\" fill-rule=\"evenodd\" fill-opacity=\"1\" /><path clip-path=\"url(#clip430)\" d=\"M82.7512 990.958 L87.6354 990.958 L87.6354 996.837 L82.7512 996.837 L82.7512 990.958 Z\" fill=\"#000000\" fill-rule=\"evenodd\" fill-opacity=\"1\" /><path clip-path=\"url(#clip430)\" d=\"M107.821 965.356 Q104.209 965.356 102.381 968.921 Q100.575 972.462 100.575 979.592 Q100.575 986.698 102.381 990.263 Q104.209 993.805 107.821 993.805 Q111.455 993.805 113.26 990.263 Q115.089 986.698 115.089 979.592 Q115.089 972.462 113.26 968.921 Q111.455 965.356 107.821 965.356 M107.821 961.652 Q113.631 961.652 116.686 966.259 Q119.765 970.842 119.765 979.592 Q119.765 988.319 116.686 992.925 Q113.631 997.508 107.821 997.508 Q102.01 997.508 98.9317 992.925 Q95.8761 988.319 95.8761 979.592 Q95.8761 970.842 98.9317 966.259 Q102.01 961.652 107.821 961.652 Z\" fill=\"#000000\" fill-rule=\"evenodd\" fill-opacity=\"1\" /><path clip-path=\"url(#clip430)\" d=\"M137.982 965.356 Q134.371 965.356 132.543 968.921 Q130.737 972.462 130.737 979.592 Q130.737 986.698 132.543 990.263 Q134.371 993.805 137.982 993.805 Q141.617 993.805 143.422 990.263 Q145.251 986.698 145.251 979.592 Q145.251 972.462 143.422 968.921 Q141.617 965.356 137.982 965.356 M137.982 961.652 Q143.793 961.652 146.848 966.259 Q149.927 970.842 149.927 979.592 Q149.927 988.319 146.848 992.925 Q143.793 997.508 137.982 997.508 Q132.172 997.508 129.094 992.925 Q126.038 988.319 126.038 979.592 Q126.038 970.842 129.094 966.259 Q132.172 961.652 137.982 961.652 Z\" fill=\"#000000\" fill-rule=\"evenodd\" fill-opacity=\"1\" /><path clip-path=\"url(#clip430)\" d=\"M186.315 971.374 L175.737 981.999 L186.315 992.578 L183.561 995.379 L172.936 984.754 L162.311 995.379 L159.58 992.578 L170.135 981.999 L159.58 971.374 L162.311 968.573 L172.936 979.198 L183.561 968.573 L186.315 971.374 Z\" fill=\"#000000\" fill-rule=\"evenodd\" fill-opacity=\"1\" /><path clip-path=\"url(#clip430)\" d=\"M198.677 992.902 L206.315 992.902 L206.315 966.536 L198.005 968.203 L198.005 963.944 L206.269 962.277 L210.945 962.277 L210.945 992.902 L218.584 992.902 L218.584 996.837 L198.677 996.837 L198.677 992.902 Z\" fill=\"#000000\" fill-rule=\"evenodd\" fill-opacity=\"1\" /><path clip-path=\"url(#clip430)\" d=\"M238.028 965.356 Q234.417 965.356 232.588 968.921 Q230.783 972.462 230.783 979.592 Q230.783 986.698 232.588 990.263 Q234.417 993.805 238.028 993.805 Q241.662 993.805 243.468 990.263 Q245.297 986.698 245.297 979.592 Q245.297 972.462 243.468 968.921 Q241.662 965.356 238.028 965.356 M238.028 961.652 Q243.838 961.652 246.894 966.259 Q249.973 970.842 249.973 979.592 Q249.973 988.319 246.894 992.925 Q243.838 997.508 238.028 997.508 Q232.218 997.508 229.139 992.925 Q226.084 988.319 226.084 979.592 Q226.084 970.842 229.139 966.259 Q232.218 961.652 238.028 961.652 Z\" fill=\"#000000\" fill-rule=\"evenodd\" fill-opacity=\"1\" /><path clip-path=\"url(#clip430)\" d=\"M262.649 944.657 L253.057 959.647 L262.649 959.647 L262.649 944.657 M261.652 941.347 L266.429 941.347 L266.429 959.647 L270.435 959.647 L270.435 962.806 L266.429 962.806 L266.429 969.427 L262.649 969.427 L262.649 962.806 L249.973 962.806 L249.973 959.139 L261.652 941.347 Z\" fill=\"#000000\" fill-rule=\"evenodd\" fill-opacity=\"1\" /><path clip-path=\"url(#clip430)\" d=\"M53.3995 755.435 L61.0384 755.435 L61.0384 729.07 L52.7282 730.736 L52.7282 726.477 L60.9921 724.81 L65.668 724.81 L65.668 755.435 L73.3068 755.435 L73.3068 759.37 L53.3995 759.37 L53.3995 755.435 Z\" fill=\"#000000\" fill-rule=\"evenodd\" fill-opacity=\"1\" /><path clip-path=\"url(#clip430)\" d=\"M82.7512 753.491 L87.6354 753.491 L87.6354 759.37 L82.7512 759.37 L82.7512 753.491 Z\" fill=\"#000000\" fill-rule=\"evenodd\" fill-opacity=\"1\" /><path clip-path=\"url(#clip430)\" d=\"M97.8669 724.81 L116.223 724.81 L116.223 728.746 L102.149 728.746 L102.149 737.218 Q103.168 736.871 104.186 736.709 Q105.205 736.523 106.223 736.523 Q112.01 736.523 115.39 739.695 Q118.77 742.866 118.77 748.283 Q118.77 753.861 115.297 756.963 Q111.825 760.042 105.506 760.042 Q103.33 760.042 101.061 759.671 Q98.8159 759.301 96.4085 758.56 L96.4085 753.861 Q98.4919 754.995 100.714 755.551 Q102.936 756.107 105.413 756.107 Q109.418 756.107 111.756 754 Q114.094 751.894 114.094 748.283 Q114.094 744.671 111.756 742.565 Q109.418 740.459 105.413 740.459 Q103.538 740.459 101.663 740.875 Q99.8113 741.292 97.8669 742.171 L97.8669 724.81 Z\" fill=\"#000000\" fill-rule=\"evenodd\" fill-opacity=\"1\" /><path clip-path=\"url(#clip430)\" d=\"M137.982 727.889 Q134.371 727.889 132.543 731.454 Q130.737 734.996 130.737 742.125 Q130.737 749.232 132.543 752.796 Q134.371 756.338 137.982 756.338 Q141.617 756.338 143.422 752.796 Q145.251 749.232 145.251 742.125 Q145.251 734.996 143.422 731.454 Q141.617 727.889 137.982 727.889 M137.982 724.185 Q143.793 724.185 146.848 728.792 Q149.927 733.375 149.927 742.125 Q149.927 750.852 146.848 755.458 Q143.793 760.042 137.982 760.042 Q132.172 760.042 129.094 755.458 Q126.038 750.852 126.038 742.125 Q126.038 733.375 129.094 728.792 Q132.172 724.185 137.982 724.185 Z\" fill=\"#000000\" fill-rule=\"evenodd\" fill-opacity=\"1\" /><path clip-path=\"url(#clip430)\" d=\"M186.315 733.908 L175.737 744.533 L186.315 755.111 L183.561 757.912 L172.936 747.287 L162.311 757.912 L159.58 755.111 L170.135 744.533 L159.58 733.908 L162.311 731.107 L172.936 741.732 L183.561 731.107 L186.315 733.908 Z\" fill=\"#000000\" fill-rule=\"evenodd\" fill-opacity=\"1\" /><path clip-path=\"url(#clip430)\" d=\"M198.677 755.435 L206.315 755.435 L206.315 729.07 L198.005 730.736 L198.005 726.477 L206.269 724.81 L210.945 724.81 L210.945 755.435 L218.584 755.435 L218.584 759.37 L198.677 759.37 L198.677 755.435 Z\" fill=\"#000000\" fill-rule=\"evenodd\" fill-opacity=\"1\" /><path clip-path=\"url(#clip430)\" d=\"M238.028 727.889 Q234.417 727.889 232.588 731.454 Q230.783 734.996 230.783 742.125 Q230.783 749.232 232.588 752.796 Q234.417 756.338 238.028 756.338 Q241.662 756.338 243.468 752.796 Q245.297 749.232 245.297 742.125 Q245.297 734.996 243.468 731.454 Q241.662 727.889 238.028 727.889 M238.028 724.185 Q243.838 724.185 246.894 728.792 Q249.973 733.375 249.973 742.125 Q249.973 750.852 246.894 755.458 Q243.838 760.042 238.028 760.042 Q232.218 760.042 229.139 755.458 Q226.084 750.852 226.084 742.125 Q226.084 733.375 229.139 728.792 Q232.218 724.185 238.028 724.185 Z\" fill=\"#000000\" fill-rule=\"evenodd\" fill-opacity=\"1\" /><path clip-path=\"url(#clip430)\" d=\"M262.649 707.19 L253.057 722.18 L262.649 722.18 L262.649 707.19 M261.652 703.88 L266.429 703.88 L266.429 722.18 L270.435 722.18 L270.435 725.34 L266.429 725.34 L266.429 731.96 L262.649 731.96 L262.649 725.34 L249.973 725.34 L249.973 721.672 L261.652 703.88 Z\" fill=\"#000000\" fill-rule=\"evenodd\" fill-opacity=\"1\" /><path clip-path=\"url(#clip430)\" d=\"M56.6171 517.969 L72.9365 517.969 L72.9365 521.904 L50.9921 521.904 L50.9921 517.969 Q53.6541 515.214 58.2375 510.584 Q62.8439 505.932 64.0245 504.589 Q66.2698 502.066 67.1494 500.33 Q68.0522 498.571 68.0522 496.881 Q68.0522 494.126 66.1078 492.39 Q64.1865 490.654 61.0847 490.654 Q58.8856 490.654 56.4319 491.418 Q54.0014 492.182 51.2236 493.733 L51.2236 489.01 Q54.0477 487.876 56.5014 487.298 Q58.955 486.719 60.9921 486.719 Q66.3624 486.719 69.5568 489.404 Q72.7513 492.089 72.7513 496.58 Q72.7513 498.709 71.9411 500.631 Q71.1541 502.529 69.0476 505.121 Q68.4689 505.793 65.367 509.01 Q62.2652 512.205 56.6171 517.969 Z\" fill=\"#000000\" fill-rule=\"evenodd\" fill-opacity=\"1\" /><path clip-path=\"url(#clip430)\" d=\"M82.7512 516.024 L87.6354 516.024 L87.6354 521.904 L82.7512 521.904 L82.7512 516.024 Z\" fill=\"#000000\" fill-rule=\"evenodd\" fill-opacity=\"1\" /><path clip-path=\"url(#clip430)\" d=\"M107.821 490.422 Q104.209 490.422 102.381 493.987 Q100.575 497.529 100.575 504.659 Q100.575 511.765 102.381 515.33 Q104.209 518.871 107.821 518.871 Q111.455 518.871 113.26 515.33 Q115.089 511.765 115.089 504.659 Q115.089 497.529 113.26 493.987 Q111.455 490.422 107.821 490.422 M107.821 486.719 Q113.631 486.719 116.686 491.325 Q119.765 495.909 119.765 504.659 Q119.765 513.385 116.686 517.992 Q113.631 522.575 107.821 522.575 Q102.01 522.575 98.9317 517.992 Q95.8761 513.385 95.8761 504.659 Q95.8761 495.909 98.9317 491.325 Q102.01 486.719 107.821 486.719 Z\" fill=\"#000000\" fill-rule=\"evenodd\" fill-opacity=\"1\" /><path clip-path=\"url(#clip430)\" d=\"M137.982 490.422 Q134.371 490.422 132.543 493.987 Q130.737 497.529 130.737 504.659 Q130.737 511.765 132.543 515.33 Q134.371 518.871 137.982 518.871 Q141.617 518.871 143.422 515.33 Q145.251 511.765 145.251 504.659 Q145.251 497.529 143.422 493.987 Q141.617 490.422 137.982 490.422 M137.982 486.719 Q143.793 486.719 146.848 491.325 Q149.927 495.909 149.927 504.659 Q149.927 513.385 146.848 517.992 Q143.793 522.575 137.982 522.575 Q132.172 522.575 129.094 517.992 Q126.038 513.385 126.038 504.659 Q126.038 495.909 129.094 491.325 Q132.172 486.719 137.982 486.719 Z\" fill=\"#000000\" fill-rule=\"evenodd\" fill-opacity=\"1\" /><path clip-path=\"url(#clip430)\" d=\"M186.315 496.441 L175.737 507.066 L186.315 517.645 L183.561 520.445 L172.936 509.821 L162.311 520.445 L159.58 517.645 L170.135 507.066 L159.58 496.441 L162.311 493.64 L172.936 504.265 L183.561 493.64 L186.315 496.441 Z\" fill=\"#000000\" fill-rule=\"evenodd\" fill-opacity=\"1\" /><path clip-path=\"url(#clip430)\" d=\"M198.677 517.969 L206.315 517.969 L206.315 491.603 L198.005 493.27 L198.005 489.01 L206.269 487.344 L210.945 487.344 L210.945 517.969 L218.584 517.969 L218.584 521.904 L198.677 521.904 L198.677 517.969 Z\" fill=\"#000000\" fill-rule=\"evenodd\" fill-opacity=\"1\" /><path clip-path=\"url(#clip430)\" d=\"M238.028 490.422 Q234.417 490.422 232.588 493.987 Q230.783 497.529 230.783 504.659 Q230.783 511.765 232.588 515.33 Q234.417 518.871 238.028 518.871 Q241.662 518.871 243.468 515.33 Q245.297 511.765 245.297 504.659 Q245.297 497.529 243.468 493.987 Q241.662 490.422 238.028 490.422 M238.028 486.719 Q243.838 486.719 246.894 491.325 Q249.973 495.909 249.973 504.659 Q249.973 513.385 246.894 517.992 Q243.838 522.575 238.028 522.575 Q232.218 522.575 229.139 517.992 Q226.084 513.385 226.084 504.659 Q226.084 495.909 229.139 491.325 Q232.218 486.719 238.028 486.719 Z\" fill=\"#000000\" fill-rule=\"evenodd\" fill-opacity=\"1\" /><path clip-path=\"url(#clip430)\" d=\"M262.649 469.724 L253.057 484.713 L262.649 484.713 L262.649 469.724 M261.652 466.413 L266.429 466.413 L266.429 484.713 L270.435 484.713 L270.435 487.873 L266.429 487.873 L266.429 494.493 L262.649 494.493 L262.649 487.873 L249.973 487.873 L249.973 484.206 L261.652 466.413 Z\" fill=\"#000000\" fill-rule=\"evenodd\" fill-opacity=\"1\" /><path clip-path=\"url(#clip430)\" d=\"M56.6171 280.502 L72.9365 280.502 L72.9365 284.437 L50.9921 284.437 L50.9921 280.502 Q53.6541 277.747 58.2375 273.118 Q62.8439 268.465 64.0245 267.122 Q66.2698 264.599 67.1494 262.863 Q68.0522 261.104 68.0522 259.414 Q68.0522 256.66 66.1078 254.923 Q64.1865 253.187 61.0847 253.187 Q58.8856 253.187 56.4319 253.951 Q54.0014 254.715 51.2236 256.266 L51.2236 251.544 Q54.0477 250.41 56.5014 249.831 Q58.955 249.252 60.9921 249.252 Q66.3624 249.252 69.5568 251.937 Q72.7513 254.622 72.7513 259.113 Q72.7513 261.243 71.9411 263.164 Q71.1541 265.062 69.0476 267.655 Q68.4689 268.326 65.367 271.544 Q62.2652 274.738 56.6171 280.502 Z\" fill=\"#000000\" fill-rule=\"evenodd\" fill-opacity=\"1\" /><path clip-path=\"url(#clip430)\" d=\"M82.7512 278.558 L87.6354 278.558 L87.6354 284.437 L82.7512 284.437 L82.7512 278.558 Z\" fill=\"#000000\" fill-rule=\"evenodd\" fill-opacity=\"1\" /><path clip-path=\"url(#clip430)\" d=\"M97.8669 249.877 L116.223 249.877 L116.223 253.812 L102.149 253.812 L102.149 262.284 Q103.168 261.937 104.186 261.775 Q105.205 261.59 106.223 261.59 Q112.01 261.59 115.39 264.761 Q118.77 267.933 118.77 273.349 Q118.77 278.928 115.297 282.03 Q111.825 285.108 105.506 285.108 Q103.33 285.108 101.061 284.738 Q98.8159 284.368 96.4085 283.627 L96.4085 278.928 Q98.4919 280.062 100.714 280.618 Q102.936 281.173 105.413 281.173 Q109.418 281.173 111.756 279.067 Q114.094 276.96 114.094 273.349 Q114.094 269.738 111.756 267.632 Q109.418 265.525 105.413 265.525 Q103.538 265.525 101.663 265.942 Q99.8113 266.359 97.8669 267.238 L97.8669 249.877 Z\" fill=\"#000000\" fill-rule=\"evenodd\" fill-opacity=\"1\" /><path clip-path=\"url(#clip430)\" d=\"M137.982 252.956 Q134.371 252.956 132.543 256.521 Q130.737 260.062 130.737 267.192 Q130.737 274.298 132.543 277.863 Q134.371 281.405 137.982 281.405 Q141.617 281.405 143.422 277.863 Q145.251 274.298 145.251 267.192 Q145.251 260.062 143.422 256.521 Q141.617 252.956 137.982 252.956 M137.982 249.252 Q143.793 249.252 146.848 253.859 Q149.927 258.442 149.927 267.192 Q149.927 275.919 146.848 280.525 Q143.793 285.108 137.982 285.108 Q132.172 285.108 129.094 280.525 Q126.038 275.919 126.038 267.192 Q126.038 258.442 129.094 253.859 Q132.172 249.252 137.982 249.252 Z\" fill=\"#000000\" fill-rule=\"evenodd\" fill-opacity=\"1\" /><path clip-path=\"url(#clip430)\" d=\"M186.315 258.974 L175.737 269.599 L186.315 280.178 L183.561 282.979 L172.936 272.354 L162.311 282.979 L159.58 280.178 L170.135 269.599 L159.58 258.974 L162.311 256.173 L172.936 266.798 L183.561 256.173 L186.315 258.974 Z\" fill=\"#000000\" fill-rule=\"evenodd\" fill-opacity=\"1\" /><path clip-path=\"url(#clip430)\" d=\"M198.677 280.502 L206.315 280.502 L206.315 254.136 L198.005 255.803 L198.005 251.544 L206.269 249.877 L210.945 249.877 L210.945 280.502 L218.584 280.502 L218.584 284.437 L198.677 284.437 L198.677 280.502 Z\" fill=\"#000000\" fill-rule=\"evenodd\" fill-opacity=\"1\" /><path clip-path=\"url(#clip430)\" d=\"M238.028 252.956 Q234.417 252.956 232.588 256.521 Q230.783 260.062 230.783 267.192 Q230.783 274.298 232.588 277.863 Q234.417 281.405 238.028 281.405 Q241.662 281.405 243.468 277.863 Q245.297 274.298 245.297 267.192 Q245.297 260.062 243.468 256.521 Q241.662 252.956 238.028 252.956 M238.028 249.252 Q243.838 249.252 246.894 253.859 Q249.973 258.442 249.973 267.192 Q249.973 275.919 246.894 280.525 Q243.838 285.108 238.028 285.108 Q232.218 285.108 229.139 280.525 Q226.084 275.919 226.084 267.192 Q226.084 258.442 229.139 253.859 Q232.218 249.252 238.028 249.252 Z\" fill=\"#000000\" fill-rule=\"evenodd\" fill-opacity=\"1\" /><path clip-path=\"url(#clip430)\" d=\"M262.649 232.257 L253.057 247.247 L262.649 247.247 L262.649 232.257 M261.652 228.947 L266.429 228.947 L266.429 247.247 L270.435 247.247 L270.435 250.406 L266.429 250.406 L266.429 257.027 L262.649 257.027 L262.649 250.406 L249.973 250.406 L249.973 246.739 L261.652 228.947 Z\" fill=\"#000000\" fill-rule=\"evenodd\" fill-opacity=\"1\" /><circle clip-path=\"url(#clip432)\" cx=\"2294.84\" cy=\"87.9763\" r=\"14\" fill=\"#009af9\" fill-rule=\"evenodd\" fill-opacity=\"1\" stroke=\"#000000\" stroke-opacity=\"1\" stroke-width=\"3.2\"/>\n",
       "<circle clip-path=\"url(#clip432)\" cx=\"2272.8\" cy=\"88.1188\" r=\"14\" fill=\"#009af9\" fill-rule=\"evenodd\" fill-opacity=\"1\" stroke=\"#000000\" stroke-opacity=\"1\" stroke-width=\"3.2\"/>\n",
       "<circle clip-path=\"url(#clip432)\" cx=\"2250.75\" cy=\"88.0713\" r=\"14\" fill=\"#009af9\" fill-rule=\"evenodd\" fill-opacity=\"1\" stroke=\"#000000\" stroke-opacity=\"1\" stroke-width=\"3.2\"/>\n",
       "<circle clip-path=\"url(#clip432)\" cx=\"2228.71\" cy=\"89.4011\" r=\"14\" fill=\"#009af9\" fill-rule=\"evenodd\" fill-opacity=\"1\" stroke=\"#000000\" stroke-opacity=\"1\" stroke-width=\"3.2\"/>\n",
       "<circle clip-path=\"url(#clip432)\" cx=\"2197.21\" cy=\"92.6306\" r=\"14\" fill=\"#009af9\" fill-rule=\"evenodd\" fill-opacity=\"1\" stroke=\"#000000\" stroke-opacity=\"1\" stroke-width=\"3.2\"/>\n",
       "<circle clip-path=\"url(#clip432)\" cx=\"2175.17\" cy=\"95.6227\" r=\"14\" fill=\"#009af9\" fill-rule=\"evenodd\" fill-opacity=\"1\" stroke=\"#000000\" stroke-opacity=\"1\" stroke-width=\"3.2\"/>\n",
       "<circle clip-path=\"url(#clip432)\" cx=\"2153.12\" cy=\"96.6676\" r=\"14\" fill=\"#009af9\" fill-rule=\"evenodd\" fill-opacity=\"1\" stroke=\"#000000\" stroke-opacity=\"1\" stroke-width=\"3.2\"/>\n",
       "<circle clip-path=\"url(#clip432)\" cx=\"2109.04\" cy=\"99.8021\" r=\"14\" fill=\"#009af9\" fill-rule=\"evenodd\" fill-opacity=\"1\" stroke=\"#000000\" stroke-opacity=\"1\" stroke-width=\"3.2\"/>\n",
       "<circle clip-path=\"url(#clip432)\" cx=\"2086.99\" cy=\"104.219\" r=\"14\" fill=\"#009af9\" fill-rule=\"evenodd\" fill-opacity=\"1\" stroke=\"#000000\" stroke-opacity=\"1\" stroke-width=\"3.2\"/>\n",
       "<circle clip-path=\"url(#clip432)\" cx=\"2064.95\" cy=\"107.781\" r=\"14\" fill=\"#009af9\" fill-rule=\"evenodd\" fill-opacity=\"1\" stroke=\"#000000\" stroke-opacity=\"1\" stroke-width=\"3.2\"/>\n",
       "<circle clip-path=\"url(#clip432)\" cx=\"2042.9\" cy=\"111.248\" r=\"14\" fill=\"#009af9\" fill-rule=\"evenodd\" fill-opacity=\"1\" stroke=\"#000000\" stroke-opacity=\"1\" stroke-width=\"3.2\"/>\n",
       "<circle clip-path=\"url(#clip432)\" cx=\"2020.86\" cy=\"114.763\" r=\"14\" fill=\"#009af9\" fill-rule=\"evenodd\" fill-opacity=\"1\" stroke=\"#000000\" stroke-opacity=\"1\" stroke-width=\"3.2\"/>\n",
       "<circle clip-path=\"url(#clip432)\" cx=\"1976.77\" cy=\"120.509\" r=\"14\" fill=\"#009af9\" fill-rule=\"evenodd\" fill-opacity=\"1\" stroke=\"#000000\" stroke-opacity=\"1\" stroke-width=\"3.2\"/>\n",
       "<circle clip-path=\"url(#clip432)\" cx=\"1954.72\" cy=\"121.602\" r=\"14\" fill=\"#009af9\" fill-rule=\"evenodd\" fill-opacity=\"1\" stroke=\"#000000\" stroke-opacity=\"1\" stroke-width=\"3.2\"/>\n",
       "<circle clip-path=\"url(#clip432)\" cx=\"1910.63\" cy=\"130.198\" r=\"14\" fill=\"#009af9\" fill-rule=\"evenodd\" fill-opacity=\"1\" stroke=\"#000000\" stroke-opacity=\"1\" stroke-width=\"3.2\"/>\n",
       "<circle clip-path=\"url(#clip432)\" cx=\"1866.54\" cy=\"135.232\" r=\"14\" fill=\"#009af9\" fill-rule=\"evenodd\" fill-opacity=\"1\" stroke=\"#000000\" stroke-opacity=\"1\" stroke-width=\"3.2\"/>\n",
       "<circle clip-path=\"url(#clip432)\" cx=\"1844.5\" cy=\"138.509\" r=\"14\" fill=\"#009af9\" fill-rule=\"evenodd\" fill-opacity=\"1\" stroke=\"#000000\" stroke-opacity=\"1\" stroke-width=\"3.2\"/>\n",
       "<circle clip-path=\"url(#clip432)\" cx=\"1822.45\" cy=\"141.311\" r=\"14\" fill=\"#009af9\" fill-rule=\"evenodd\" fill-opacity=\"1\" stroke=\"#000000\" stroke-opacity=\"1\" stroke-width=\"3.2\"/>\n",
       "<circle clip-path=\"url(#clip432)\" cx=\"1800.41\" cy=\"144.683\" r=\"14\" fill=\"#009af9\" fill-rule=\"evenodd\" fill-opacity=\"1\" stroke=\"#000000\" stroke-opacity=\"1\" stroke-width=\"3.2\"/>\n",
       "<circle clip-path=\"url(#clip432)\" cx=\"1778.36\" cy=\"151.237\" r=\"14\" fill=\"#009af9\" fill-rule=\"evenodd\" fill-opacity=\"1\" stroke=\"#000000\" stroke-opacity=\"1\" stroke-width=\"3.2\"/>\n",
       "<circle clip-path=\"url(#clip432)\" cx=\"1734.27\" cy=\"160.499\" r=\"14\" fill=\"#009af9\" fill-rule=\"evenodd\" fill-opacity=\"1\" stroke=\"#000000\" stroke-opacity=\"1\" stroke-width=\"3.2\"/>\n",
       "<circle clip-path=\"url(#clip432)\" cx=\"1690.18\" cy=\"170.567\" r=\"14\" fill=\"#009af9\" fill-rule=\"evenodd\" fill-opacity=\"1\" stroke=\"#000000\" stroke-opacity=\"1\" stroke-width=\"3.2\"/>\n",
       "<circle clip-path=\"url(#clip432)\" cx=\"1646.1\" cy=\"186.715\" r=\"14\" fill=\"#009af9\" fill-rule=\"evenodd\" fill-opacity=\"1\" stroke=\"#000000\" stroke-opacity=\"1\" stroke-width=\"3.2\"/>\n",
       "<circle clip-path=\"url(#clip432)\" cx=\"1602.01\" cy=\"212.789\" r=\"14\" fill=\"#009af9\" fill-rule=\"evenodd\" fill-opacity=\"1\" stroke=\"#000000\" stroke-opacity=\"1\" stroke-width=\"3.2\"/>\n",
       "<circle clip-path=\"url(#clip432)\" cx=\"1557.92\" cy=\"237.913\" r=\"14\" fill=\"#009af9\" fill-rule=\"evenodd\" fill-opacity=\"1\" stroke=\"#000000\" stroke-opacity=\"1\" stroke-width=\"3.2\"/>\n",
       "<circle clip-path=\"url(#clip432)\" cx=\"1513.83\" cy=\"268.451\" r=\"14\" fill=\"#009af9\" fill-rule=\"evenodd\" fill-opacity=\"1\" stroke=\"#000000\" stroke-opacity=\"1\" stroke-width=\"3.2\"/>\n",
       "<circle clip-path=\"url(#clip432)\" cx=\"1469.74\" cy=\"294.81\" r=\"14\" fill=\"#009af9\" fill-rule=\"evenodd\" fill-opacity=\"1\" stroke=\"#000000\" stroke-opacity=\"1\" stroke-width=\"3.2\"/>\n",
       "<circle clip-path=\"url(#clip432)\" cx=\"1425.65\" cy=\"324.398\" r=\"14\" fill=\"#009af9\" fill-rule=\"evenodd\" fill-opacity=\"1\" stroke=\"#000000\" stroke-opacity=\"1\" stroke-width=\"3.2\"/>\n",
       "<circle clip-path=\"url(#clip432)\" cx=\"1381.56\" cy=\"364.055\" r=\"14\" fill=\"#009af9\" fill-rule=\"evenodd\" fill-opacity=\"1\" stroke=\"#000000\" stroke-opacity=\"1\" stroke-width=\"3.2\"/>\n",
       "<circle clip-path=\"url(#clip432)\" cx=\"1337.47\" cy=\"402.145\" r=\"14\" fill=\"#009af9\" fill-rule=\"evenodd\" fill-opacity=\"1\" stroke=\"#000000\" stroke-opacity=\"1\" stroke-width=\"3.2\"/>\n",
       "<circle clip-path=\"url(#clip432)\" cx=\"1293.38\" cy=\"439.949\" r=\"14\" fill=\"#009af9\" fill-rule=\"evenodd\" fill-opacity=\"1\" stroke=\"#000000\" stroke-opacity=\"1\" stroke-width=\"3.2\"/>\n",
       "<circle clip-path=\"url(#clip432)\" cx=\"1249.29\" cy=\"490.055\" r=\"14\" fill=\"#009af9\" fill-rule=\"evenodd\" fill-opacity=\"1\" stroke=\"#000000\" stroke-opacity=\"1\" stroke-width=\"3.2\"/>\n",
       "<circle clip-path=\"url(#clip432)\" cx=\"1205.2\" cy=\"566.329\" r=\"14\" fill=\"#009af9\" fill-rule=\"evenodd\" fill-opacity=\"1\" stroke=\"#000000\" stroke-opacity=\"1\" stroke-width=\"3.2\"/>\n",
       "<circle clip-path=\"url(#clip432)\" cx=\"1161.11\" cy=\"635.432\" r=\"14\" fill=\"#009af9\" fill-rule=\"evenodd\" fill-opacity=\"1\" stroke=\"#000000\" stroke-opacity=\"1\" stroke-width=\"3.2\"/>\n",
       "<circle clip-path=\"url(#clip432)\" cx=\"1123.32\" cy=\"721.822\" r=\"14\" fill=\"#009af9\" fill-rule=\"evenodd\" fill-opacity=\"1\" stroke=\"#000000\" stroke-opacity=\"1\" stroke-width=\"3.2\"/>\n",
       "<circle clip-path=\"url(#clip432)\" cx=\"1072.93\" cy=\"829.917\" r=\"14\" fill=\"#009af9\" fill-rule=\"evenodd\" fill-opacity=\"1\" stroke=\"#000000\" stroke-opacity=\"1\" stroke-width=\"3.2\"/>\n",
       "<circle clip-path=\"url(#clip432)\" cx=\"1028.84\" cy=\"977.336\" r=\"14\" fill=\"#009af9\" fill-rule=\"evenodd\" fill-opacity=\"1\" stroke=\"#000000\" stroke-opacity=\"1\" stroke-width=\"3.2\"/>\n",
       "<circle clip-path=\"url(#clip432)\" cx=\"1006.8\" cy=\"1022.98\" r=\"14\" fill=\"#009af9\" fill-rule=\"evenodd\" fill-opacity=\"1\" stroke=\"#000000\" stroke-opacity=\"1\" stroke-width=\"3.2\"/>\n",
       "<circle clip-path=\"url(#clip432)\" cx=\"962.708\" cy=\"1107.56\" r=\"14\" fill=\"#009af9\" fill-rule=\"evenodd\" fill-opacity=\"1\" stroke=\"#000000\" stroke-opacity=\"1\" stroke-width=\"3.2\"/>\n",
       "<circle clip-path=\"url(#clip432)\" cx=\"918.618\" cy=\"1195.05\" r=\"14\" fill=\"#009af9\" fill-rule=\"evenodd\" fill-opacity=\"1\" stroke=\"#000000\" stroke-opacity=\"1\" stroke-width=\"3.2\"/>\n",
       "<circle clip-path=\"url(#clip432)\" cx=\"874.529\" cy=\"1274.03\" r=\"14\" fill=\"#009af9\" fill-rule=\"evenodd\" fill-opacity=\"1\" stroke=\"#000000\" stroke-opacity=\"1\" stroke-width=\"3.2\"/>\n",
       "<circle clip-path=\"url(#clip432)\" cx=\"827.29\" cy=\"1342.37\" r=\"14\" fill=\"#009af9\" fill-rule=\"evenodd\" fill-opacity=\"1\" stroke=\"#000000\" stroke-opacity=\"1\" stroke-width=\"3.2\"/>\n",
       "<circle clip-path=\"url(#clip432)\" cx=\"805.245\" cy=\"1360.89\" r=\"14\" fill=\"#009af9\" fill-rule=\"evenodd\" fill-opacity=\"1\" stroke=\"#000000\" stroke-opacity=\"1\" stroke-width=\"3.2\"/>\n",
       "<circle clip-path=\"url(#clip432)\" cx=\"773.753\" cy=\"1379.79\" r=\"14\" fill=\"#009af9\" fill-rule=\"evenodd\" fill-opacity=\"1\" stroke=\"#000000\" stroke-opacity=\"1\" stroke-width=\"3.2\"/>\n",
       "<circle clip-path=\"url(#clip432)\" cx=\"751.708\" cy=\"1391\" r=\"14\" fill=\"#009af9\" fill-rule=\"evenodd\" fill-opacity=\"1\" stroke=\"#000000\" stroke-opacity=\"1\" stroke-width=\"3.2\"/>\n",
       "<circle clip-path=\"url(#clip432)\" cx=\"723.365\" cy=\"1401.4\" r=\"14\" fill=\"#009af9\" fill-rule=\"evenodd\" fill-opacity=\"1\" stroke=\"#000000\" stroke-opacity=\"1\" stroke-width=\"3.2\"/>\n",
       "<circle clip-path=\"url(#clip432)\" cx=\"685.574\" cy=\"1411.05\" r=\"14\" fill=\"#009af9\" fill-rule=\"evenodd\" fill-opacity=\"1\" stroke=\"#000000\" stroke-opacity=\"1\" stroke-width=\"3.2\"/>\n",
       "<circle clip-path=\"url(#clip432)\" cx=\"638.335\" cy=\"1422.97\" r=\"14\" fill=\"#009af9\" fill-rule=\"evenodd\" fill-opacity=\"1\" stroke=\"#000000\" stroke-opacity=\"1\" stroke-width=\"3.2\"/>\n",
       "<circle clip-path=\"url(#clip432)\" cx=\"572.201\" cy=\"1433.37\" r=\"14\" fill=\"#009af9\" fill-rule=\"evenodd\" fill-opacity=\"1\" stroke=\"#000000\" stroke-opacity=\"1\" stroke-width=\"3.2\"/>\n",
       "<circle clip-path=\"url(#clip432)\" cx=\"524.962\" cy=\"1435.69\" r=\"14\" fill=\"#009af9\" fill-rule=\"evenodd\" fill-opacity=\"1\" stroke=\"#000000\" stroke-opacity=\"1\" stroke-width=\"3.2\"/>\n",
       "<circle clip-path=\"url(#clip432)\" cx=\"490.32\" cy=\"1436.69\" r=\"14\" fill=\"#009af9\" fill-rule=\"evenodd\" fill-opacity=\"1\" stroke=\"#000000\" stroke-opacity=\"1\" stroke-width=\"3.2\"/>\n",
       "<circle clip-path=\"url(#clip432)\" cx=\"436.783\" cy=\"1439.68\" r=\"14\" fill=\"#009af9\" fill-rule=\"evenodd\" fill-opacity=\"1\" stroke=\"#000000\" stroke-opacity=\"1\" stroke-width=\"3.2\"/>\n",
       "<circle clip-path=\"url(#clip432)\" cx=\"392.693\" cy=\"1441.87\" r=\"14\" fill=\"#009af9\" fill-rule=\"evenodd\" fill-opacity=\"1\" stroke=\"#000000\" stroke-opacity=\"1\" stroke-width=\"3.2\"/>\n",
       "<circle clip-path=\"url(#clip432)\" cx=\"364.35\" cy=\"1445.72\" r=\"14\" fill=\"#009af9\" fill-rule=\"evenodd\" fill-opacity=\"1\" stroke=\"#000000\" stroke-opacity=\"1\" stroke-width=\"3.2\"/>\n",
       "<path clip-path=\"url(#clip430)\" d=\"\n",
       "M2004.75 198.898 L2284.55 198.898 L2284.55 95.2176 L2004.75 95.2176  Z\n",
       "  \" fill=\"#ffffff\" fill-rule=\"evenodd\" fill-opacity=\"1\"/>\n",
       "<polyline clip-path=\"url(#clip430)\" style=\"stroke:#000000; stroke-linecap:butt; stroke-linejoin:round; stroke-width:4; stroke-opacity:1; fill:none\" points=\"\n",
       "  2004.75,198.898 2284.55,198.898 2284.55,95.2176 2004.75,95.2176 2004.75,198.898 \n",
       "  \"/>\n",
       "<circle clip-path=\"url(#clip430)\" cx=\"2095.69\" cy=\"147.058\" r=\"23\" fill=\"#009af9\" fill-rule=\"evenodd\" fill-opacity=\"1\" stroke=\"#000000\" stroke-opacity=\"1\" stroke-width=\"5.12\"/>\n",
       "<path clip-path=\"url(#clip430)\" d=\"M2200.48 166.745 Q2198.68 171.375 2196.97 172.787 Q2195.25 174.199 2192.38 174.199 L2188.98 174.199 L2188.98 170.634 L2191.48 170.634 Q2193.24 170.634 2194.21 169.8 Q2195.18 168.967 2196.36 165.865 L2197.13 163.921 L2186.64 138.412 L2191.16 138.412 L2199.26 158.689 L2207.36 138.412 L2211.87 138.412 L2200.48 166.745 Z\" fill=\"#000000\" fill-rule=\"evenodd\" fill-opacity=\"1\" /><path clip-path=\"url(#clip430)\" d=\"M2219.16 160.402 L2226.8 160.402 L2226.8 134.037 L2218.49 135.703 L2218.49 131.444 L2226.76 129.778 L2231.43 129.778 L2231.43 160.402 L2239.07 160.402 L2239.07 164.338 L2219.16 164.338 L2219.16 160.402 Z\" fill=\"#000000\" fill-rule=\"evenodd\" fill-opacity=\"1\" /></svg>\n"
      ]
     },
     "execution_count": 41,
     "metadata": {},
     "output_type": "execute_result"
    }
   ],
   "source": [
    "plot(epidays, allCases, linetype = :scatter)"
   ]
  },
  {
   "cell_type": "code",
   "execution_count": 68,
   "id": "0035bb69",
   "metadata": {},
   "outputs": [
    {
     "data": {
      "text/plain": [
       "0.0:0.06346651825433926:6.283185307179586"
      ]
     },
     "execution_count": 68,
     "metadata": {},
     "output_type": "execute_result"
    }
   ],
   "source": [
    "x = range(0, 2π, 100)"
   ]
  },
  {
   "cell_type": "code",
   "execution_count": 69,
   "id": "c5892333",
   "metadata": {},
   "outputs": [
    {
     "data": {
      "text/plain": [
       "sine (generic function with 1 method)"
      ]
     },
     "execution_count": 69,
     "metadata": {},
     "output_type": "execute_result"
    }
   ],
   "source": [
    "sine(x) = [sin(x) for x in x]"
   ]
  },
  {
   "cell_type": "code",
   "execution_count": 70,
   "id": "fca17b72",
   "metadata": {},
   "outputs": [
    {
     "data": {
      "text/plain": [
       "100-element Vector{Float64}:\n",
       "  0.0\n",
       "  0.0634239196565645\n",
       "  0.12659245357374926\n",
       "  0.1892512443604102\n",
       "  0.2511479871810792\n",
       "  0.31203344569848707\n",
       "  0.3716624556603275\n",
       "  0.4297949120891716\n",
       "  0.4861967361004687\n",
       "  0.5406408174555976\n",
       "  0.5929079290546404\n",
       "  0.6427876096865393\n",
       "  0.6900790114821119\n",
       "  ⋮\n",
       " -0.6427876096865396\n",
       " -0.5929079290546408\n",
       " -0.5406408174555974\n",
       " -0.4861967361004688\n",
       " -0.4297949120891719\n",
       " -0.3716624556603281\n",
       " -0.31203344569848707\n",
       " -0.2511479871810794\n",
       " -0.18925124436041063\n",
       " -0.12659245357374993\n",
       " -0.06342391965656452\n",
       " -2.4492935982947064e-16"
      ]
     },
     "execution_count": 70,
     "metadata": {},
     "output_type": "execute_result"
    }
   ],
   "source": [
    "y = sine(x)"
   ]
  },
  {
   "cell_type": "code",
   "execution_count": 71,
   "id": "42065083",
   "metadata": {},
   "outputs": [
    {
     "data": {
      "image/svg+xml": [
       "<?xml version=\"1.0\" encoding=\"utf-8\"?>\n",
       "<svg xmlns=\"http://www.w3.org/2000/svg\" xmlns:xlink=\"http://www.w3.org/1999/xlink\" width=\"600\" height=\"400\" viewBox=\"0 0 2400 1600\">\n",
       "<defs>\n",
       "  <clipPath id=\"clip550\">\n",
       "    <rect x=\"0\" y=\"0\" width=\"2400\" height=\"1600\"/>\n",
       "  </clipPath>\n",
       "</defs>\n",
       "<path clip-path=\"url(#clip550)\" d=\"\n",
       "M0 1600 L2400 1600 L2400 0 L0 0  Z\n",
       "  \" fill=\"#ffffff\" fill-rule=\"evenodd\" fill-opacity=\"1\"/>\n",
       "<defs>\n",
       "  <clipPath id=\"clip551\">\n",
       "    <rect x=\"480\" y=\"0\" width=\"1681\" height=\"1600\"/>\n",
       "  </clipPath>\n",
       "</defs>\n",
       "<path clip-path=\"url(#clip550)\" d=\"\n",
       "M193.936 1486.45 L2352.76 1486.45 L2352.76 47.2441 L193.936 47.2441  Z\n",
       "  \" fill=\"#ffffff\" fill-rule=\"evenodd\" fill-opacity=\"1\"/>\n",
       "<defs>\n",
       "  <clipPath id=\"clip552\">\n",
       "    <rect x=\"193\" y=\"47\" width=\"2160\" height=\"1440\"/>\n",
       "  </clipPath>\n",
       "</defs>\n",
       "<polyline clip-path=\"url(#clip552)\" style=\"stroke:#000000; stroke-linecap:butt; stroke-linejoin:round; stroke-width:2; stroke-opacity:0.1; fill:none\" points=\"\n",
       "  255.035,1486.45 255.035,47.2441 \n",
       "  \"/>\n",
       "<polyline clip-path=\"url(#clip552)\" style=\"stroke:#000000; stroke-linecap:butt; stroke-linejoin:round; stroke-width:2; stroke-opacity:0.1; fill:none\" points=\"\n",
       "  579.173,1486.45 579.173,47.2441 \n",
       "  \"/>\n",
       "<polyline clip-path=\"url(#clip552)\" style=\"stroke:#000000; stroke-linecap:butt; stroke-linejoin:round; stroke-width:2; stroke-opacity:0.1; fill:none\" points=\"\n",
       "  903.312,1486.45 903.312,47.2441 \n",
       "  \"/>\n",
       "<polyline clip-path=\"url(#clip552)\" style=\"stroke:#000000; stroke-linecap:butt; stroke-linejoin:round; stroke-width:2; stroke-opacity:0.1; fill:none\" points=\"\n",
       "  1227.45,1486.45 1227.45,47.2441 \n",
       "  \"/>\n",
       "<polyline clip-path=\"url(#clip552)\" style=\"stroke:#000000; stroke-linecap:butt; stroke-linejoin:round; stroke-width:2; stroke-opacity:0.1; fill:none\" points=\"\n",
       "  1551.59,1486.45 1551.59,47.2441 \n",
       "  \"/>\n",
       "<polyline clip-path=\"url(#clip552)\" style=\"stroke:#000000; stroke-linecap:butt; stroke-linejoin:round; stroke-width:2; stroke-opacity:0.1; fill:none\" points=\"\n",
       "  1875.73,1486.45 1875.73,47.2441 \n",
       "  \"/>\n",
       "<polyline clip-path=\"url(#clip552)\" style=\"stroke:#000000; stroke-linecap:butt; stroke-linejoin:round; stroke-width:2; stroke-opacity:0.1; fill:none\" points=\"\n",
       "  2199.87,1486.45 2199.87,47.2441 \n",
       "  \"/>\n",
       "<polyline clip-path=\"url(#clip550)\" style=\"stroke:#000000; stroke-linecap:butt; stroke-linejoin:round; stroke-width:4; stroke-opacity:1; fill:none\" points=\"\n",
       "  193.936,1486.45 2352.76,1486.45 \n",
       "  \"/>\n",
       "<polyline clip-path=\"url(#clip550)\" style=\"stroke:#000000; stroke-linecap:butt; stroke-linejoin:round; stroke-width:4; stroke-opacity:1; fill:none\" points=\"\n",
       "  255.035,1486.45 255.035,1467.55 \n",
       "  \"/>\n",
       "<polyline clip-path=\"url(#clip550)\" style=\"stroke:#000000; stroke-linecap:butt; stroke-linejoin:round; stroke-width:4; stroke-opacity:1; fill:none\" points=\"\n",
       "  579.173,1486.45 579.173,1467.55 \n",
       "  \"/>\n",
       "<polyline clip-path=\"url(#clip550)\" style=\"stroke:#000000; stroke-linecap:butt; stroke-linejoin:round; stroke-width:4; stroke-opacity:1; fill:none\" points=\"\n",
       "  903.312,1486.45 903.312,1467.55 \n",
       "  \"/>\n",
       "<polyline clip-path=\"url(#clip550)\" style=\"stroke:#000000; stroke-linecap:butt; stroke-linejoin:round; stroke-width:4; stroke-opacity:1; fill:none\" points=\"\n",
       "  1227.45,1486.45 1227.45,1467.55 \n",
       "  \"/>\n",
       "<polyline clip-path=\"url(#clip550)\" style=\"stroke:#000000; stroke-linecap:butt; stroke-linejoin:round; stroke-width:4; stroke-opacity:1; fill:none\" points=\"\n",
       "  1551.59,1486.45 1551.59,1467.55 \n",
       "  \"/>\n",
       "<polyline clip-path=\"url(#clip550)\" style=\"stroke:#000000; stroke-linecap:butt; stroke-linejoin:round; stroke-width:4; stroke-opacity:1; fill:none\" points=\"\n",
       "  1875.73,1486.45 1875.73,1467.55 \n",
       "  \"/>\n",
       "<polyline clip-path=\"url(#clip550)\" style=\"stroke:#000000; stroke-linecap:butt; stroke-linejoin:round; stroke-width:4; stroke-opacity:1; fill:none\" points=\"\n",
       "  2199.87,1486.45 2199.87,1467.55 \n",
       "  \"/>\n",
       "<path clip-path=\"url(#clip550)\" d=\"M255.035 1517.37 Q251.424 1517.37 249.595 1520.93 Q247.789 1524.47 247.789 1531.6 Q247.789 1538.71 249.595 1542.27 Q251.424 1545.82 255.035 1545.82 Q258.669 1545.82 260.474 1542.27 Q262.303 1538.71 262.303 1531.6 Q262.303 1524.47 260.474 1520.93 Q258.669 1517.37 255.035 1517.37 M255.035 1513.66 Q260.845 1513.66 263.9 1518.27 Q266.979 1522.85 266.979 1531.6 Q266.979 1540.33 263.9 1544.94 Q260.845 1549.52 255.035 1549.52 Q249.225 1549.52 246.146 1544.94 Q243.09 1540.33 243.09 1531.6 Q243.09 1522.85 246.146 1518.27 Q249.225 1513.66 255.035 1513.66 Z\" fill=\"#000000\" fill-rule=\"evenodd\" fill-opacity=\"1\" /><path clip-path=\"url(#clip550)\" d=\"M569.555 1544.91 L577.194 1544.91 L577.194 1518.55 L568.884 1520.21 L568.884 1515.95 L577.148 1514.29 L581.824 1514.29 L581.824 1544.91 L589.463 1544.91 L589.463 1548.85 L569.555 1548.85 L569.555 1544.91 Z\" fill=\"#000000\" fill-rule=\"evenodd\" fill-opacity=\"1\" /><path clip-path=\"url(#clip550)\" d=\"M897.965 1544.91 L914.284 1544.91 L914.284 1548.85 L892.34 1548.85 L892.34 1544.91 Q895.002 1542.16 899.585 1537.53 Q904.191 1532.88 905.372 1531.53 Q907.617 1529.01 908.497 1527.27 Q909.4 1525.51 909.4 1523.82 Q909.4 1521.07 907.455 1519.33 Q905.534 1517.6 902.432 1517.6 Q900.233 1517.6 897.779 1518.36 Q895.349 1519.13 892.571 1520.68 L892.571 1515.95 Q895.395 1514.82 897.849 1514.24 Q900.303 1513.66 902.34 1513.66 Q907.71 1513.66 910.904 1516.35 Q914.099 1519.03 914.099 1523.52 Q914.099 1525.65 913.289 1527.57 Q912.502 1529.47 910.395 1532.07 Q909.816 1532.74 906.715 1535.95 Q903.613 1539.15 897.965 1544.91 Z\" fill=\"#000000\" fill-rule=\"evenodd\" fill-opacity=\"1\" /><path clip-path=\"url(#clip550)\" d=\"M1231.7 1530.21 Q1235.05 1530.93 1236.93 1533.2 Q1238.83 1535.47 1238.83 1538.8 Q1238.83 1543.92 1235.31 1546.72 Q1231.79 1549.52 1225.31 1549.52 Q1223.13 1549.52 1220.82 1549.08 Q1218.53 1548.66 1216.07 1547.81 L1216.07 1543.29 Q1218.02 1544.43 1220.33 1545.01 Q1222.65 1545.58 1225.17 1545.58 Q1229.57 1545.58 1231.86 1543.85 Q1234.17 1542.11 1234.17 1538.8 Q1234.17 1535.75 1232.02 1534.03 Q1229.89 1532.3 1226.07 1532.3 L1222.05 1532.3 L1222.05 1528.45 L1226.26 1528.45 Q1229.71 1528.45 1231.54 1527.09 Q1233.36 1525.7 1233.36 1523.11 Q1233.36 1520.45 1231.47 1519.03 Q1229.59 1517.6 1226.07 1517.6 Q1224.15 1517.6 1221.95 1518.01 Q1219.75 1518.43 1217.11 1519.31 L1217.11 1515.14 Q1219.78 1514.4 1222.09 1514.03 Q1224.43 1513.66 1226.49 1513.66 Q1231.81 1513.66 1234.92 1516.09 Q1238.02 1518.5 1238.02 1522.62 Q1238.02 1525.49 1236.37 1527.48 Q1234.73 1529.45 1231.7 1530.21 Z\" fill=\"#000000\" fill-rule=\"evenodd\" fill-opacity=\"1\" /><path clip-path=\"url(#clip550)\" d=\"M1554.6 1518.36 L1542.79 1536.81 L1554.6 1536.81 L1554.6 1518.36 M1553.37 1514.29 L1559.25 1514.29 L1559.25 1536.81 L1564.18 1536.81 L1564.18 1540.7 L1559.25 1540.7 L1559.25 1548.85 L1554.6 1548.85 L1554.6 1540.7 L1539 1540.7 L1539 1536.19 L1553.37 1514.29 Z\" fill=\"#000000\" fill-rule=\"evenodd\" fill-opacity=\"1\" /><path clip-path=\"url(#clip550)\" d=\"M1866.01 1514.29 L1884.36 1514.29 L1884.36 1518.22 L1870.29 1518.22 L1870.29 1526.7 Q1871.31 1526.35 1872.32 1526.19 Q1873.34 1526 1874.36 1526 Q1880.15 1526 1883.53 1529.17 Q1886.91 1532.34 1886.91 1537.76 Q1886.91 1543.34 1883.44 1546.44 Q1879.96 1549.52 1873.64 1549.52 Q1871.47 1549.52 1869.2 1549.15 Q1866.95 1548.78 1864.55 1548.04 L1864.55 1543.34 Q1866.63 1544.47 1868.85 1545.03 Q1871.07 1545.58 1873.55 1545.58 Q1877.56 1545.58 1879.89 1543.48 Q1882.23 1541.37 1882.23 1537.76 Q1882.23 1534.15 1879.89 1532.04 Q1877.56 1529.94 1873.55 1529.94 Q1871.68 1529.94 1869.8 1530.35 Q1867.95 1530.77 1866.01 1531.65 L1866.01 1514.29 Z\" fill=\"#000000\" fill-rule=\"evenodd\" fill-opacity=\"1\" /><path clip-path=\"url(#clip550)\" d=\"M2200.27 1529.7 Q2197.12 1529.7 2195.27 1531.86 Q2193.44 1534.01 2193.44 1537.76 Q2193.44 1541.49 2195.27 1543.66 Q2197.12 1545.82 2200.27 1545.82 Q2203.42 1545.82 2205.25 1543.66 Q2207.1 1541.49 2207.1 1537.76 Q2207.1 1534.01 2205.25 1531.86 Q2203.42 1529.7 2200.27 1529.7 M2209.55 1515.05 L2209.55 1519.31 Q2207.79 1518.48 2205.99 1518.04 Q2204.21 1517.6 2202.45 1517.6 Q2197.82 1517.6 2195.36 1520.72 Q2192.93 1523.85 2192.59 1530.17 Q2193.95 1528.15 2196.01 1527.09 Q2198.07 1526 2200.55 1526 Q2205.76 1526 2208.77 1529.17 Q2211.8 1532.32 2211.8 1537.76 Q2211.8 1543.08 2208.65 1546.3 Q2205.5 1549.52 2200.27 1549.52 Q2194.28 1549.52 2191.1 1544.94 Q2187.93 1540.33 2187.93 1531.6 Q2187.93 1523.41 2191.82 1518.55 Q2195.71 1513.66 2202.26 1513.66 Q2204.02 1513.66 2205.8 1514.01 Q2207.61 1514.36 2209.55 1515.05 Z\" fill=\"#000000\" fill-rule=\"evenodd\" fill-opacity=\"1\" /><polyline clip-path=\"url(#clip552)\" style=\"stroke:#000000; stroke-linecap:butt; stroke-linejoin:round; stroke-width:2; stroke-opacity:0.1; fill:none\" points=\"\n",
       "  193.936,1445.8 2352.76,1445.8 \n",
       "  \"/>\n",
       "<polyline clip-path=\"url(#clip552)\" style=\"stroke:#000000; stroke-linecap:butt; stroke-linejoin:round; stroke-width:2; stroke-opacity:0.1; fill:none\" points=\"\n",
       "  193.936,1106.32 2352.76,1106.32 \n",
       "  \"/>\n",
       "<polyline clip-path=\"url(#clip552)\" style=\"stroke:#000000; stroke-linecap:butt; stroke-linejoin:round; stroke-width:2; stroke-opacity:0.1; fill:none\" points=\"\n",
       "  193.936,766.846 2352.76,766.846 \n",
       "  \"/>\n",
       "<polyline clip-path=\"url(#clip552)\" style=\"stroke:#000000; stroke-linecap:butt; stroke-linejoin:round; stroke-width:2; stroke-opacity:0.1; fill:none\" points=\"\n",
       "  193.936,427.368 2352.76,427.368 \n",
       "  \"/>\n",
       "<polyline clip-path=\"url(#clip552)\" style=\"stroke:#000000; stroke-linecap:butt; stroke-linejoin:round; stroke-width:2; stroke-opacity:0.1; fill:none\" points=\"\n",
       "  193.936,87.8908 2352.76,87.8908 \n",
       "  \"/>\n",
       "<polyline clip-path=\"url(#clip550)\" style=\"stroke:#000000; stroke-linecap:butt; stroke-linejoin:round; stroke-width:4; stroke-opacity:1; fill:none\" points=\"\n",
       "  193.936,1486.45 193.936,47.2441 \n",
       "  \"/>\n",
       "<polyline clip-path=\"url(#clip550)\" style=\"stroke:#000000; stroke-linecap:butt; stroke-linejoin:round; stroke-width:4; stroke-opacity:1; fill:none\" points=\"\n",
       "  193.936,1445.8 212.834,1445.8 \n",
       "  \"/>\n",
       "<polyline clip-path=\"url(#clip550)\" style=\"stroke:#000000; stroke-linecap:butt; stroke-linejoin:round; stroke-width:4; stroke-opacity:1; fill:none\" points=\"\n",
       "  193.936,1106.32 212.834,1106.32 \n",
       "  \"/>\n",
       "<polyline clip-path=\"url(#clip550)\" style=\"stroke:#000000; stroke-linecap:butt; stroke-linejoin:round; stroke-width:4; stroke-opacity:1; fill:none\" points=\"\n",
       "  193.936,766.846 212.834,766.846 \n",
       "  \"/>\n",
       "<polyline clip-path=\"url(#clip550)\" style=\"stroke:#000000; stroke-linecap:butt; stroke-linejoin:round; stroke-width:4; stroke-opacity:1; fill:none\" points=\"\n",
       "  193.936,427.368 212.834,427.368 \n",
       "  \"/>\n",
       "<polyline clip-path=\"url(#clip550)\" style=\"stroke:#000000; stroke-linecap:butt; stroke-linejoin:round; stroke-width:4; stroke-opacity:1; fill:none\" points=\"\n",
       "  193.936,87.8908 212.834,87.8908 \n",
       "  \"/>\n",
       "<path clip-path=\"url(#clip550)\" d=\"M50.9921 1446.25 L80.6679 1446.25 L80.6679 1450.19 L50.9921 1450.19 L50.9921 1446.25 Z\" fill=\"#000000\" fill-rule=\"evenodd\" fill-opacity=\"1\" /><path clip-path=\"url(#clip550)\" d=\"M91.5706 1459.15 L99.2095 1459.15 L99.2095 1432.78 L90.8993 1434.45 L90.8993 1430.19 L99.1632 1428.52 L103.839 1428.52 L103.839 1459.15 L111.478 1459.15 L111.478 1463.08 L91.5706 1463.08 L91.5706 1459.15 Z\" fill=\"#000000\" fill-rule=\"evenodd\" fill-opacity=\"1\" /><path clip-path=\"url(#clip550)\" d=\"M120.922 1457.2 L125.807 1457.2 L125.807 1463.08 L120.922 1463.08 L120.922 1457.2 Z\" fill=\"#000000\" fill-rule=\"evenodd\" fill-opacity=\"1\" /><path clip-path=\"url(#clip550)\" d=\"M145.992 1431.6 Q142.381 1431.6 140.552 1435.16 Q138.746 1438.71 138.746 1445.84 Q138.746 1452.94 140.552 1456.51 Q142.381 1460.05 145.992 1460.05 Q149.626 1460.05 151.431 1456.51 Q153.26 1452.94 153.26 1445.84 Q153.26 1438.71 151.431 1435.16 Q149.626 1431.6 145.992 1431.6 M145.992 1427.9 Q151.802 1427.9 154.857 1432.5 Q157.936 1437.09 157.936 1445.84 Q157.936 1454.56 154.857 1459.17 Q151.802 1463.75 145.992 1463.75 Q140.181 1463.75 137.103 1459.17 Q134.047 1454.56 134.047 1445.84 Q134.047 1437.09 137.103 1432.5 Q140.181 1427.9 145.992 1427.9 Z\" fill=\"#000000\" fill-rule=\"evenodd\" fill-opacity=\"1\" /><path clip-path=\"url(#clip550)\" d=\"M51.9875 1106.77 L81.6633 1106.77 L81.6633 1110.71 L51.9875 1110.71 L51.9875 1106.77 Z\" fill=\"#000000\" fill-rule=\"evenodd\" fill-opacity=\"1\" /><path clip-path=\"url(#clip550)\" d=\"M101.756 1092.12 Q98.1447 1092.12 96.316 1095.69 Q94.5104 1099.23 94.5104 1106.36 Q94.5104 1113.46 96.316 1117.03 Q98.1447 1120.57 101.756 1120.57 Q105.39 1120.57 107.196 1117.03 Q109.024 1113.46 109.024 1106.36 Q109.024 1099.23 107.196 1095.69 Q105.39 1092.12 101.756 1092.12 M101.756 1088.42 Q107.566 1088.42 110.621 1093.03 Q113.7 1097.61 113.7 1106.36 Q113.7 1115.09 110.621 1119.69 Q107.566 1124.27 101.756 1124.27 Q95.9456 1124.27 92.8669 1119.69 Q89.8114 1115.09 89.8114 1106.36 Q89.8114 1097.61 92.8669 1093.03 Q95.9456 1088.42 101.756 1088.42 Z\" fill=\"#000000\" fill-rule=\"evenodd\" fill-opacity=\"1\" /><path clip-path=\"url(#clip550)\" d=\"M121.918 1117.72 L126.802 1117.72 L126.802 1123.6 L121.918 1123.6 L121.918 1117.72 Z\" fill=\"#000000\" fill-rule=\"evenodd\" fill-opacity=\"1\" /><path clip-path=\"url(#clip550)\" d=\"M137.033 1089.04 L155.39 1089.04 L155.39 1092.98 L141.316 1092.98 L141.316 1101.45 Q142.334 1101.1 143.353 1100.94 Q144.371 1100.76 145.39 1100.76 Q151.177 1100.76 154.556 1103.93 Q157.936 1107.1 157.936 1112.52 Q157.936 1118.09 154.464 1121.2 Q150.992 1124.27 144.672 1124.27 Q142.496 1124.27 140.228 1123.9 Q137.982 1123.53 135.575 1122.79 L135.575 1118.09 Q137.658 1119.23 139.881 1119.78 Q142.103 1120.34 144.58 1120.34 Q148.584 1120.34 150.922 1118.23 Q153.26 1116.13 153.26 1112.52 Q153.26 1108.9 150.922 1106.8 Q148.584 1104.69 144.58 1104.69 Q142.705 1104.69 140.83 1105.11 Q138.978 1105.52 137.033 1106.4 L137.033 1089.04 Z\" fill=\"#000000\" fill-rule=\"evenodd\" fill-opacity=\"1\" /><path clip-path=\"url(#clip550)\" d=\"M100.76 752.645 Q97.1493 752.645 95.3206 756.209 Q93.515 759.751 93.515 766.881 Q93.515 773.987 95.3206 777.552 Q97.1493 781.094 100.76 781.094 Q104.395 781.094 106.2 777.552 Q108.029 773.987 108.029 766.881 Q108.029 759.751 106.2 756.209 Q104.395 752.645 100.76 752.645 M100.76 748.941 Q106.571 748.941 109.626 753.547 Q112.705 758.131 112.705 766.881 Q112.705 775.608 109.626 780.214 Q106.571 784.797 100.76 784.797 Q94.9502 784.797 91.8715 780.214 Q88.816 775.608 88.816 766.881 Q88.816 758.131 91.8715 753.547 Q94.9502 748.941 100.76 748.941 Z\" fill=\"#000000\" fill-rule=\"evenodd\" fill-opacity=\"1\" /><path clip-path=\"url(#clip550)\" d=\"M120.922 778.246 L125.807 778.246 L125.807 784.126 L120.922 784.126 L120.922 778.246 Z\" fill=\"#000000\" fill-rule=\"evenodd\" fill-opacity=\"1\" /><path clip-path=\"url(#clip550)\" d=\"M145.992 752.645 Q142.381 752.645 140.552 756.209 Q138.746 759.751 138.746 766.881 Q138.746 773.987 140.552 777.552 Q142.381 781.094 145.992 781.094 Q149.626 781.094 151.431 777.552 Q153.26 773.987 153.26 766.881 Q153.26 759.751 151.431 756.209 Q149.626 752.645 145.992 752.645 M145.992 748.941 Q151.802 748.941 154.857 753.547 Q157.936 758.131 157.936 766.881 Q157.936 775.608 154.857 780.214 Q151.802 784.797 145.992 784.797 Q140.181 784.797 137.103 780.214 Q134.047 775.608 134.047 766.881 Q134.047 758.131 137.103 753.547 Q140.181 748.941 145.992 748.941 Z\" fill=\"#000000\" fill-rule=\"evenodd\" fill-opacity=\"1\" /><path clip-path=\"url(#clip550)\" d=\"M101.756 413.167 Q98.1447 413.167 96.316 416.732 Q94.5104 420.274 94.5104 427.403 Q94.5104 434.51 96.316 438.074 Q98.1447 441.616 101.756 441.616 Q105.39 441.616 107.196 438.074 Q109.024 434.51 109.024 427.403 Q109.024 420.274 107.196 416.732 Q105.39 413.167 101.756 413.167 M101.756 409.463 Q107.566 409.463 110.621 414.07 Q113.7 418.653 113.7 427.403 Q113.7 436.13 110.621 440.736 Q107.566 445.32 101.756 445.32 Q95.9456 445.32 92.8669 440.736 Q89.8114 436.13 89.8114 427.403 Q89.8114 418.653 92.8669 414.07 Q95.9456 409.463 101.756 409.463 Z\" fill=\"#000000\" fill-rule=\"evenodd\" fill-opacity=\"1\" /><path clip-path=\"url(#clip550)\" d=\"M121.918 438.769 L126.802 438.769 L126.802 444.648 L121.918 444.648 L121.918 438.769 Z\" fill=\"#000000\" fill-rule=\"evenodd\" fill-opacity=\"1\" /><path clip-path=\"url(#clip550)\" d=\"M137.033 410.088 L155.39 410.088 L155.39 414.024 L141.316 414.024 L141.316 422.496 Q142.334 422.149 143.353 421.986 Q144.371 421.801 145.39 421.801 Q151.177 421.801 154.556 424.973 Q157.936 428.144 157.936 433.56 Q157.936 439.139 154.464 442.241 Q150.992 445.32 144.672 445.32 Q142.496 445.32 140.228 444.949 Q137.982 444.579 135.575 443.838 L135.575 439.139 Q137.658 440.273 139.881 440.829 Q142.103 441.385 144.58 441.385 Q148.584 441.385 150.922 439.278 Q153.26 437.172 153.26 433.56 Q153.26 429.949 150.922 427.843 Q148.584 425.736 144.58 425.736 Q142.705 425.736 140.83 426.153 Q138.978 426.57 137.033 427.449 L137.033 410.088 Z\" fill=\"#000000\" fill-rule=\"evenodd\" fill-opacity=\"1\" /><path clip-path=\"url(#clip550)\" d=\"M91.5706 101.236 L99.2095 101.236 L99.2095 74.8701 L90.8993 76.5367 L90.8993 72.2775 L99.1632 70.6108 L103.839 70.6108 L103.839 101.236 L111.478 101.236 L111.478 105.171 L91.5706 105.171 L91.5706 101.236 Z\" fill=\"#000000\" fill-rule=\"evenodd\" fill-opacity=\"1\" /><path clip-path=\"url(#clip550)\" d=\"M120.922 99.2912 L125.807 99.2912 L125.807 105.171 L120.922 105.171 L120.922 99.2912 Z\" fill=\"#000000\" fill-rule=\"evenodd\" fill-opacity=\"1\" /><path clip-path=\"url(#clip550)\" d=\"M145.992 73.6895 Q142.381 73.6895 140.552 77.2543 Q138.746 80.7959 138.746 87.9255 Q138.746 95.032 140.552 98.5968 Q142.381 102.138 145.992 102.138 Q149.626 102.138 151.431 98.5968 Q153.26 95.032 153.26 87.9255 Q153.26 80.7959 151.431 77.2543 Q149.626 73.6895 145.992 73.6895 M145.992 69.9858 Q151.802 69.9858 154.857 74.5923 Q157.936 79.1756 157.936 87.9255 Q157.936 96.6523 154.857 101.259 Q151.802 105.842 145.992 105.842 Q140.181 105.842 137.103 101.259 Q134.047 96.6523 134.047 87.9255 Q134.047 79.1756 137.103 74.5923 Q140.181 69.9858 145.992 69.9858 Z\" fill=\"#000000\" fill-rule=\"evenodd\" fill-opacity=\"1\" /><polyline clip-path=\"url(#clip552)\" style=\"stroke:#009af9; stroke-linecap:butt; stroke-linejoin:round; stroke-width:4; stroke-opacity:1; fill:none\" points=\"\n",
       "  255.035,766.846 275.607,723.784 296.179,680.895 316.751,638.353 337.322,596.328 357.894,554.989 378.466,514.504 399.038,475.035 419.61,436.74 440.182,399.775 \n",
       "  460.754,364.288 481.326,330.422 501.898,298.313 522.47,268.091 543.042,239.877 563.614,213.785 584.186,189.921 604.758,168.379 625.33,149.247 645.902,132.601 \n",
       "  666.474,118.51 687.046,107.029 707.617,98.2057 728.189,92.0742 748.761,88.6598 769.333,87.9763 789.905,90.0263 810.477,94.8016 831.049,102.283 851.621,112.44 \n",
       "  872.193,125.233 892.765,140.609 913.337,158.506 933.909,178.854 954.481,201.568 975.053,226.559 995.625,253.726 1016.2,282.959 1036.77,314.14 1057.34,347.144 \n",
       "  1077.91,381.838 1098.48,418.082 1119.06,455.731 1139.63,494.632 1160.2,534.63 1180.77,575.562 1201.34,617.265 1221.92,659.57 1242.49,702.307 1263.06,745.304 \n",
       "  1283.63,788.388 1304.2,831.385 1324.78,874.122 1345.35,916.427 1365.92,958.13 1386.49,999.062 1407.06,1039.06 1427.64,1077.96 1448.21,1115.61 1468.78,1151.85 \n",
       "  1489.35,1186.55 1509.92,1219.55 1530.5,1250.73 1551.07,1279.97 1571.64,1307.13 1592.21,1332.12 1612.78,1354.84 1633.35,1375.19 1653.93,1393.08 1674.5,1408.46 \n",
       "  1695.07,1421.25 1715.64,1431.41 1736.21,1438.89 1756.79,1443.67 1777.36,1445.72 1797.93,1445.03 1818.5,1441.62 1839.07,1435.49 1859.65,1426.66 1880.22,1415.18 \n",
       "  1900.79,1401.09 1921.36,1384.45 1941.93,1365.31 1962.51,1343.77 1983.08,1319.91 2003.65,1293.81 2024.22,1265.6 2044.79,1235.38 2065.37,1203.27 2085.94,1169.4 \n",
       "  2106.51,1133.92 2127.08,1096.95 2147.65,1058.66 2168.23,1019.19 2188.8,978.703 2209.37,937.364 2229.94,895.339 2250.51,852.797 2271.09,809.908 2291.66,766.846 \n",
       "  \n",
       "  \"/>\n",
       "<path clip-path=\"url(#clip550)\" d=\"\n",
       "M1988.5 198.898 L2280.8 198.898 L2280.8 95.2176 L1988.5 95.2176  Z\n",
       "  \" fill=\"#ffffff\" fill-rule=\"evenodd\" fill-opacity=\"1\"/>\n",
       "<polyline clip-path=\"url(#clip550)\" style=\"stroke:#000000; stroke-linecap:butt; stroke-linejoin:round; stroke-width:4; stroke-opacity:1; fill:none\" points=\"\n",
       "  1988.5,198.898 2280.8,198.898 2280.8,95.2176 1988.5,95.2176 1988.5,198.898 \n",
       "  \"/>\n",
       "<polyline clip-path=\"url(#clip550)\" style=\"stroke:#009af9; stroke-linecap:butt; stroke-linejoin:round; stroke-width:4; stroke-opacity:1; fill:none\" points=\"\n",
       "  2012.48,147.058 2156.4,147.058 \n",
       "  \"/>\n",
       "<path clip-path=\"url(#clip550)\" d=\"M2194.23 166.745 Q2192.43 171.375 2190.72 172.787 Q2189 174.199 2186.13 174.199 L2182.73 174.199 L2182.73 170.634 L2185.23 170.634 Q2186.99 170.634 2187.96 169.8 Q2188.93 168.967 2190.11 165.865 L2190.88 163.921 L2180.39 138.412 L2184.91 138.412 L2193.01 158.689 L2201.11 138.412 L2205.62 138.412 L2194.23 166.745 Z\" fill=\"#000000\" fill-rule=\"evenodd\" fill-opacity=\"1\" /><path clip-path=\"url(#clip550)\" d=\"M2212.91 160.402 L2220.55 160.402 L2220.55 134.037 L2212.24 135.703 L2212.24 131.444 L2220.51 129.778 L2225.18 129.778 L2225.18 160.402 L2232.82 160.402 L2232.82 164.338 L2212.91 164.338 L2212.91 160.402 Z\" fill=\"#000000\" fill-rule=\"evenodd\" fill-opacity=\"1\" /></svg>\n"
      ]
     },
     "execution_count": 71,
     "metadata": {},
     "output_type": "execute_result"
    }
   ],
   "source": [
    "plot(x, y)"
   ]
  },
  {
   "cell_type": "code",
   "execution_count": 80,
   "id": "e816e28c",
   "metadata": {},
   "outputs": [
    {
     "ename": "LoadError",
     "evalue": "syntax: \"for\" at In[80]:3 expected \"end\", got \"!\"",
     "output_type": "error",
     "traceback": [
      "syntax: \"for\" at In[80]:3 expected \"end\", got \"!\"",
      "",
      "Stacktrace:",
      " [1] top-level scope",
      "   @ In[80]:4",
      " [2] eval",
      "   @ ./boot.jl:373 [inlined]",
      " [3] include_string(mapexpr::typeof(REPL.softscope), mod::Module, code::String, filename::String)",
      "   @ Base ./loading.jl:1196"
     ]
    }
   ],
   "source": [
    "😅 = Array{}\n",
    "\n",
    "for i in x\n",
    "    push !(😅, i)\n",
    "end"
   ]
  },
  {
   "cell_type": "code",
   "execution_count": 116,
   "id": "d66941c4",
   "metadata": {},
   "outputs": [
    {
     "data": {
      "text/plain": [
       "Float64[]"
      ]
     },
     "execution_count": 116,
     "metadata": {},
     "output_type": "execute_result"
    }
   ],
   "source": [
    "xxy = Vector{Float64}()"
   ]
  },
  {
   "cell_type": "code",
   "execution_count": 117,
   "id": "c08eda98",
   "metadata": {},
   "outputs": [
    {
     "data": {
      "text/plain": [
       "Vector{Float64} (alias for Array{Float64, 1})"
      ]
     },
     "execution_count": 117,
     "metadata": {},
     "output_type": "execute_result"
    }
   ],
   "source": [
    "typeof(xxy)"
   ]
  },
  {
   "cell_type": "code",
   "execution_count": 118,
   "id": "572f9d97",
   "metadata": {},
   "outputs": [
    {
     "data": {
      "text/plain": [
       "1-element Vector{Float64}:\n",
       " 4.5"
      ]
     },
     "execution_count": 118,
     "metadata": {},
     "output_type": "execute_result"
    }
   ],
   "source": [
    "append!(xxy, 4.5)"
   ]
  },
  {
   "cell_type": "code",
   "execution_count": 97,
   "id": "a3138fc5",
   "metadata": {},
   "outputs": [
    {
     "data": {
      "text/plain": [
       "Vector{Float64} (alias for Array{Float64, 1})"
      ]
     },
     "execution_count": 97,
     "metadata": {},
     "output_type": "execute_result"
    }
   ],
   "source": [
    "xyy"
   ]
  },
  {
   "cell_type": "code",
   "execution_count": 119,
   "id": "fa8d93a6",
   "metadata": {},
   "outputs": [
    {
     "name": "stdout",
     "output_type": "stream",
     "text": [
      "search: \u001b[0m\u001b[1ma\u001b[22m\u001b[0m\u001b[1mp\u001b[22m\u001b[0m\u001b[1mp\u001b[22m\u001b[0m\u001b[1me\u001b[22m\u001b[0m\u001b[1mn\u001b[22m\u001b[0m\u001b[1md\u001b[22m\u001b[0m\u001b[1m!\u001b[22m\n",
      "\n"
     ]
    },
    {
     "data": {
      "text/latex": [
       "\\begin{verbatim}\n",
       "append!(collection, collections...) -> collection.\n",
       "\\end{verbatim}\n",
       "For an ordered container \\texttt{collection}, add the elements of each \\texttt{collections} to the end of it.\n",
       "\n",
       "\\begin{quote}\n",
       "\\textbf{compat}\n",
       "\n",
       "Julia 1.6\n",
       "\n",
       "Specifying multiple collections to be appended requires at least Julia 1.6.\n",
       "\n",
       "\\end{quote}\n",
       "\\section{Examples}\n",
       "\\begin{verbatim}\n",
       "julia> append!([1], [2, 3])\n",
       "3-element Vector{Int64}:\n",
       " 1\n",
       " 2\n",
       " 3\n",
       "\n",
       "julia> append!([1, 2, 3], [4, 5], [6])\n",
       "6-element Vector{Int64}:\n",
       " 1\n",
       " 2\n",
       " 3\n",
       " 4\n",
       " 5\n",
       " 6\n",
       "\\end{verbatim}\n",
       "Use \\href{@ref}{\\texttt{push!}} to add individual items to \\texttt{collection} which are not already themselves in another collection. The result of the preceding example is equivalent to \\texttt{push!([1, 2, 3], 4, 5, 6)}.\n",
       "\n",
       "See \\href{@ref}{\\texttt{sizehint!}} for notes about the performance model.\n",
       "\n",
       "See also \\href{@ref}{\\texttt{vcat}} for vectors, \\href{@ref}{\\texttt{union!}} for sets, and \\href{@ref}{\\texttt{prepend!}} and \\href{@ref}{\\texttt{pushfirst!}} for the opposite order.\n",
       "\n",
       "\\rule{\\textwidth}{1pt}\n",
       "\\begin{verbatim}\n",
       "append!(cb::CircularBuffer, datavec::AbstractVector)\n",
       "\\end{verbatim}\n",
       "Push at most last \\texttt{capacity} items.\n",
       "\n"
      ],
      "text/markdown": [
       "```\n",
       "append!(collection, collections...) -> collection.\n",
       "```\n",
       "\n",
       "For an ordered container `collection`, add the elements of each `collections` to the end of it.\n",
       "\n",
       "!!! compat \"Julia 1.6\"\n",
       "    Specifying multiple collections to be appended requires at least Julia 1.6.\n",
       "\n",
       "\n",
       "# Examples\n",
       "\n",
       "```jldoctest\n",
       "julia> append!([1], [2, 3])\n",
       "3-element Vector{Int64}:\n",
       " 1\n",
       " 2\n",
       " 3\n",
       "\n",
       "julia> append!([1, 2, 3], [4, 5], [6])\n",
       "6-element Vector{Int64}:\n",
       " 1\n",
       " 2\n",
       " 3\n",
       " 4\n",
       " 5\n",
       " 6\n",
       "```\n",
       "\n",
       "Use [`push!`](@ref) to add individual items to `collection` which are not already themselves in another collection. The result of the preceding example is equivalent to `push!([1, 2, 3], 4, 5, 6)`.\n",
       "\n",
       "See [`sizehint!`](@ref) for notes about the performance model.\n",
       "\n",
       "See also [`vcat`](@ref) for vectors, [`union!`](@ref) for sets, and [`prepend!`](@ref) and [`pushfirst!`](@ref) for the opposite order.\n",
       "\n",
       "---\n",
       "\n",
       "```\n",
       "append!(cb::CircularBuffer, datavec::AbstractVector)\n",
       "```\n",
       "\n",
       "Push at most last `capacity` items.\n"
      ],
      "text/plain": [
       "\u001b[36m  append!(collection, collections...) -> collection.\u001b[39m\n",
       "\n",
       "  For an ordered container \u001b[36mcollection\u001b[39m, add the elements of each \u001b[36mcollections\u001b[39m to\n",
       "  the end of it.\n",
       "\n",
       "\u001b[39m\u001b[1m  │ \u001b[22m\u001b[39m\u001b[1mJulia 1.6\u001b[22m\n",
       "\u001b[39m\u001b[1m  │\u001b[22m\n",
       "\u001b[39m\u001b[1m  │\u001b[22m  Specifying multiple collections to be appended requires at least\n",
       "\u001b[39m\u001b[1m  │\u001b[22m  Julia 1.6.\n",
       "\n",
       "\u001b[1m  Examples\u001b[22m\n",
       "\u001b[1m  ≡≡≡≡≡≡≡≡≡≡\u001b[22m\n",
       "\n",
       "\u001b[36m  julia> append!([1], [2, 3])\u001b[39m\n",
       "\u001b[36m  3-element Vector{Int64}:\u001b[39m\n",
       "\u001b[36m   1\u001b[39m\n",
       "\u001b[36m   2\u001b[39m\n",
       "\u001b[36m   3\u001b[39m\n",
       "\u001b[36m  \u001b[39m\n",
       "\u001b[36m  julia> append!([1, 2, 3], [4, 5], [6])\u001b[39m\n",
       "\u001b[36m  6-element Vector{Int64}:\u001b[39m\n",
       "\u001b[36m   1\u001b[39m\n",
       "\u001b[36m   2\u001b[39m\n",
       "\u001b[36m   3\u001b[39m\n",
       "\u001b[36m   4\u001b[39m\n",
       "\u001b[36m   5\u001b[39m\n",
       "\u001b[36m   6\u001b[39m\n",
       "\n",
       "  Use \u001b[36mpush!\u001b[39m to add individual items to \u001b[36mcollection\u001b[39m which are not already\n",
       "  themselves in another collection. The result of the preceding example is\n",
       "  equivalent to \u001b[36mpush!([1, 2, 3], 4, 5, 6)\u001b[39m.\n",
       "\n",
       "  See \u001b[36msizehint!\u001b[39m for notes about the performance model.\n",
       "\n",
       "  See also \u001b[36mvcat\u001b[39m for vectors, \u001b[36munion!\u001b[39m for sets, and \u001b[36mprepend!\u001b[39m and \u001b[36mpushfirst!\u001b[39m for\n",
       "  the opposite order.\n",
       "\n",
       "  ────────────────────────────────────────────────────────────────────────────\n",
       "\n",
       "\u001b[36m  append!(cb::CircularBuffer, datavec::AbstractVector)\u001b[39m\n",
       "\n",
       "  Push at most last \u001b[36mcapacity\u001b[39m items."
      ]
     },
     "execution_count": 119,
     "metadata": {},
     "output_type": "execute_result"
    }
   ],
   "source": [
    "?append!"
   ]
  },
  {
   "cell_type": "code",
   "execution_count": 129,
   "id": "5df0f185",
   "metadata": {},
   "outputs": [
    {
     "data": {
      "text/plain": [
       "Float64[]"
      ]
     },
     "execution_count": 129,
     "metadata": {},
     "output_type": "execute_result"
    }
   ],
   "source": [
    "y = Vector{Float64}()"
   ]
  },
  {
   "cell_type": "code",
   "execution_count": 131,
   "id": "17ccd21e",
   "metadata": {},
   "outputs": [],
   "source": [
    "for i in x\n",
    "    append!(y, i)\n",
    "end"
   ]
  },
  {
   "cell_type": "code",
   "execution_count": 127,
   "id": "e980b03f",
   "metadata": {},
   "outputs": [
    {
     "data": {
      "text/plain": [
       "100"
      ]
     },
     "execution_count": 127,
     "metadata": {},
     "output_type": "execute_result"
    }
   ],
   "source": [
    "length(x)"
   ]
  },
  {
   "cell_type": "code",
   "execution_count": 136,
   "id": "7635a2e0",
   "metadata": {},
   "outputs": [
    {
     "data": {
      "text/html": [
       "# 13 methods for generic function <b>sin</b>:<ul><li> sin(x::<b>T</b>)<i> where T<:Union{Float32, Float64}</i> in Base.Math at <a href=\"https://github.com/JuliaLang/julia/tree/bf534986350a991e4a1b29126de0342ffd76205e/base/special/trig.jl#L29\" target=\"_blank\">special/trig.jl:29</a></li> <li> sin(A::<b>LinearAlgebra.Hermitian{var\"#s858\", S} where {var\"#s858\"<:Complex, S<:(AbstractMatrix{<:var\"#s858\"})}</b>) in LinearAlgebra at <a href=\"file:///buildworker/worker/package_linux64/build/usr/share/julia/stdlib/v1.7/LinearAlgebra/src/symmetric.jl\" target=\"_blank\">/home/hesed/julia-1.7.2/share/julia/stdlib/v1.7/LinearAlgebra/src/symmetric.jl:761</a></li> <li> sin(A::<b>Union{LinearAlgebra.Hermitian{var\"#s859\", S}, LinearAlgebra.Symmetric{var\"#s859\", S}} where {var\"#s859\"<:Real, S}</b>) in LinearAlgebra at <a href=\"file:///buildworker/worker/package_linux64/build/usr/share/julia/stdlib/v1.7/LinearAlgebra/src/symmetric.jl\" target=\"_blank\">/home/hesed/julia-1.7.2/share/julia/stdlib/v1.7/LinearAlgebra/src/symmetric.jl:757</a></li> <li> sin(D::<b>LinearAlgebra.Diagonal</b>) in LinearAlgebra at <a href=\"file:///buildworker/worker/package_linux64/build/usr/share/julia/stdlib/v1.7/LinearAlgebra/src/diagonal.jl\" target=\"_blank\">/home/hesed/julia-1.7.2/share/julia/stdlib/v1.7/LinearAlgebra/src/diagonal.jl:592</a></li> <li> sin(A::<b>AbstractMatrix{<:Real}</b>) in LinearAlgebra at <a href=\"file:///buildworker/worker/package_linux64/build/usr/share/julia/stdlib/v1.7/LinearAlgebra/src/dense.jl\" target=\"_blank\">/home/hesed/julia-1.7.2/share/julia/stdlib/v1.7/LinearAlgebra/src/dense.jl:931</a></li> <li> sin(A::<b>AbstractMatrix{<:Complex}</b>) in LinearAlgebra at <a href=\"file:///buildworker/worker/package_linux64/build/usr/share/julia/stdlib/v1.7/LinearAlgebra/src/dense.jl\" target=\"_blank\">/home/hesed/julia-1.7.2/share/julia/stdlib/v1.7/LinearAlgebra/src/dense.jl:938</a></li> <li> sin(J::<b>LinearAlgebra.UniformScaling</b>) in LinearAlgebra at <a href=\"file:///buildworker/worker/package_linux64/build/usr/share/julia/stdlib/v1.7/LinearAlgebra/src/uniformscaling.jl\" target=\"_blank\">/home/hesed/julia-1.7.2/share/julia/stdlib/v1.7/LinearAlgebra/src/uniformscaling.jl:174</a></li> <li> sin(a::<b>Float16</b>) in Base.Math at <a href=\"https://github.com/JuliaLang/julia/tree/bf534986350a991e4a1b29126de0342ffd76205e/base/math.jl#L1201\" target=\"_blank\">math.jl:1201</a></li> <li> sin(a::<b>ComplexF16</b>) in Base.Math at <a href=\"https://github.com/JuliaLang/julia/tree/bf534986350a991e4a1b29126de0342ffd76205e/base/math.jl#L1202\" target=\"_blank\">math.jl:1202</a></li> <li> sin(z::<b>Complex{T}</b>)<i> where T</i> in Base at <a href=\"https://github.com/JuliaLang/julia/tree/bf534986350a991e4a1b29126de0342ffd76205e/base/complex.jl#L852\" target=\"_blank\">complex.jl:852</a></li> <li> sin(::<b>Missing</b>) in Base.Math at <a href=\"https://github.com/JuliaLang/julia/tree/bf534986350a991e4a1b29126de0342ffd76205e/base/math.jl#L1223\" target=\"_blank\">math.jl:1223</a></li> <li> sin(x::<b>BigFloat</b>) in Base.MPFR at <a href=\"https://github.com/JuliaLang/julia/tree/bf534986350a991e4a1b29126de0342ffd76205e/base/mpfr.jl#L742\" target=\"_blank\">mpfr.jl:742</a></li> <li> sin(x::<b>Real</b>) in Base.Math at <a href=\"https://github.com/JuliaLang/julia/tree/bf534986350a991e4a1b29126de0342ffd76205e/base/math.jl#L1218\" target=\"_blank\">math.jl:1218</a></li> </ul>"
      ],
      "text/plain": [
       "# 13 methods for generic function \"sin\":\n",
       "[1] sin(x::T) where T<:Union{Float32, Float64} in Base.Math at special/trig.jl:29\n",
       "[2] sin(A::LinearAlgebra.Hermitian{var\"#s858\", S} where {var\"#s858\"<:Complex, S<:(AbstractMatrix{<:var\"#s858\"})}) in LinearAlgebra at /home/hesed/julia-1.7.2/share/julia/stdlib/v1.7/LinearAlgebra/src/symmetric.jl:761\n",
       "[3] sin(A::Union{LinearAlgebra.Hermitian{var\"#s859\", S}, LinearAlgebra.Symmetric{var\"#s859\", S}} where {var\"#s859\"<:Real, S}) in LinearAlgebra at /home/hesed/julia-1.7.2/share/julia/stdlib/v1.7/LinearAlgebra/src/symmetric.jl:757\n",
       "[4] sin(D::LinearAlgebra.Diagonal) in LinearAlgebra at /home/hesed/julia-1.7.2/share/julia/stdlib/v1.7/LinearAlgebra/src/diagonal.jl:592\n",
       "[5] sin(A::AbstractMatrix{<:Real}) in LinearAlgebra at /home/hesed/julia-1.7.2/share/julia/stdlib/v1.7/LinearAlgebra/src/dense.jl:931\n",
       "[6] sin(A::AbstractMatrix{<:Complex}) in LinearAlgebra at /home/hesed/julia-1.7.2/share/julia/stdlib/v1.7/LinearAlgebra/src/dense.jl:938\n",
       "[7] sin(J::LinearAlgebra.UniformScaling) in LinearAlgebra at /home/hesed/julia-1.7.2/share/julia/stdlib/v1.7/LinearAlgebra/src/uniformscaling.jl:174\n",
       "[8] sin(a::Float16) in Base.Math at math.jl:1201\n",
       "[9] sin(a::ComplexF16) in Base.Math at math.jl:1202\n",
       "[10] sin(z::Complex{T}) where T in Base at complex.jl:852\n",
       "[11] sin(::Missing) in Base.Math at math.jl:1223\n",
       "[12] sin(x::BigFloat) in Base.MPFR at mpfr.jl:742\n",
       "[13] sin(x::Real) in Base.Math at math.jl:1218"
      ]
     },
     "execution_count": 136,
     "metadata": {},
     "output_type": "execute_result"
    }
   ],
   "source": [
    "methods(sin)"
   ]
  },
  {
   "cell_type": "code",
   "execution_count": 141,
   "id": "7802be97",
   "metadata": {},
   "outputs": [
    {
     "data": {
      "image/svg+xml": [
       "<?xml version=\"1.0\" encoding=\"utf-8\"?>\n",
       "<svg xmlns=\"http://www.w3.org/2000/svg\" xmlns:xlink=\"http://www.w3.org/1999/xlink\" width=\"600\" height=\"400\" viewBox=\"0 0 2400 1600\">\n",
       "<defs>\n",
       "  <clipPath id=\"clip590\">\n",
       "    <rect x=\"0\" y=\"0\" width=\"2400\" height=\"1600\"/>\n",
       "  </clipPath>\n",
       "</defs>\n",
       "<path clip-path=\"url(#clip590)\" d=\"\n",
       "M0 1600 L2400 1600 L2400 0 L0 0  Z\n",
       "  \" fill=\"#ffffff\" fill-rule=\"evenodd\" fill-opacity=\"1\"/>\n",
       "<defs>\n",
       "  <clipPath id=\"clip591\">\n",
       "    <rect x=\"480\" y=\"0\" width=\"1681\" height=\"1600\"/>\n",
       "  </clipPath>\n",
       "</defs>\n",
       "<path clip-path=\"url(#clip590)\" d=\"\n",
       "M193.936 1486.45 L2352.76 1486.45 L2352.76 47.2441 L193.936 47.2441  Z\n",
       "  \" fill=\"#ffffff\" fill-rule=\"evenodd\" fill-opacity=\"1\"/>\n",
       "<defs>\n",
       "  <clipPath id=\"clip592\">\n",
       "    <rect x=\"193\" y=\"47\" width=\"2160\" height=\"1440\"/>\n",
       "  </clipPath>\n",
       "</defs>\n",
       "<polyline clip-path=\"url(#clip592)\" style=\"stroke:#000000; stroke-linecap:butt; stroke-linejoin:round; stroke-width:2; stroke-opacity:0.1; fill:none\" points=\"\n",
       "  255.035,1486.45 255.035,47.2441 \n",
       "  \"/>\n",
       "<polyline clip-path=\"url(#clip592)\" style=\"stroke:#000000; stroke-linecap:butt; stroke-linejoin:round; stroke-width:2; stroke-opacity:0.1; fill:none\" points=\"\n",
       "  579.173,1486.45 579.173,47.2441 \n",
       "  \"/>\n",
       "<polyline clip-path=\"url(#clip592)\" style=\"stroke:#000000; stroke-linecap:butt; stroke-linejoin:round; stroke-width:2; stroke-opacity:0.1; fill:none\" points=\"\n",
       "  903.312,1486.45 903.312,47.2441 \n",
       "  \"/>\n",
       "<polyline clip-path=\"url(#clip592)\" style=\"stroke:#000000; stroke-linecap:butt; stroke-linejoin:round; stroke-width:2; stroke-opacity:0.1; fill:none\" points=\"\n",
       "  1227.45,1486.45 1227.45,47.2441 \n",
       "  \"/>\n",
       "<polyline clip-path=\"url(#clip592)\" style=\"stroke:#000000; stroke-linecap:butt; stroke-linejoin:round; stroke-width:2; stroke-opacity:0.1; fill:none\" points=\"\n",
       "  1551.59,1486.45 1551.59,47.2441 \n",
       "  \"/>\n",
       "<polyline clip-path=\"url(#clip592)\" style=\"stroke:#000000; stroke-linecap:butt; stroke-linejoin:round; stroke-width:2; stroke-opacity:0.1; fill:none\" points=\"\n",
       "  1875.73,1486.45 1875.73,47.2441 \n",
       "  \"/>\n",
       "<polyline clip-path=\"url(#clip592)\" style=\"stroke:#000000; stroke-linecap:butt; stroke-linejoin:round; stroke-width:2; stroke-opacity:0.1; fill:none\" points=\"\n",
       "  2199.87,1486.45 2199.87,47.2441 \n",
       "  \"/>\n",
       "<polyline clip-path=\"url(#clip590)\" style=\"stroke:#000000; stroke-linecap:butt; stroke-linejoin:round; stroke-width:4; stroke-opacity:1; fill:none\" points=\"\n",
       "  193.936,1486.45 2352.76,1486.45 \n",
       "  \"/>\n",
       "<polyline clip-path=\"url(#clip590)\" style=\"stroke:#000000; stroke-linecap:butt; stroke-linejoin:round; stroke-width:4; stroke-opacity:1; fill:none\" points=\"\n",
       "  255.035,1486.45 255.035,1467.55 \n",
       "  \"/>\n",
       "<polyline clip-path=\"url(#clip590)\" style=\"stroke:#000000; stroke-linecap:butt; stroke-linejoin:round; stroke-width:4; stroke-opacity:1; fill:none\" points=\"\n",
       "  579.173,1486.45 579.173,1467.55 \n",
       "  \"/>\n",
       "<polyline clip-path=\"url(#clip590)\" style=\"stroke:#000000; stroke-linecap:butt; stroke-linejoin:round; stroke-width:4; stroke-opacity:1; fill:none\" points=\"\n",
       "  903.312,1486.45 903.312,1467.55 \n",
       "  \"/>\n",
       "<polyline clip-path=\"url(#clip590)\" style=\"stroke:#000000; stroke-linecap:butt; stroke-linejoin:round; stroke-width:4; stroke-opacity:1; fill:none\" points=\"\n",
       "  1227.45,1486.45 1227.45,1467.55 \n",
       "  \"/>\n",
       "<polyline clip-path=\"url(#clip590)\" style=\"stroke:#000000; stroke-linecap:butt; stroke-linejoin:round; stroke-width:4; stroke-opacity:1; fill:none\" points=\"\n",
       "  1551.59,1486.45 1551.59,1467.55 \n",
       "  \"/>\n",
       "<polyline clip-path=\"url(#clip590)\" style=\"stroke:#000000; stroke-linecap:butt; stroke-linejoin:round; stroke-width:4; stroke-opacity:1; fill:none\" points=\"\n",
       "  1875.73,1486.45 1875.73,1467.55 \n",
       "  \"/>\n",
       "<polyline clip-path=\"url(#clip590)\" style=\"stroke:#000000; stroke-linecap:butt; stroke-linejoin:round; stroke-width:4; stroke-opacity:1; fill:none\" points=\"\n",
       "  2199.87,1486.45 2199.87,1467.55 \n",
       "  \"/>\n",
       "<path clip-path=\"url(#clip590)\" d=\"M255.035 1517.37 Q251.424 1517.37 249.595 1520.93 Q247.789 1524.47 247.789 1531.6 Q247.789 1538.71 249.595 1542.27 Q251.424 1545.82 255.035 1545.82 Q258.669 1545.82 260.474 1542.27 Q262.303 1538.71 262.303 1531.6 Q262.303 1524.47 260.474 1520.93 Q258.669 1517.37 255.035 1517.37 M255.035 1513.66 Q260.845 1513.66 263.9 1518.27 Q266.979 1522.85 266.979 1531.6 Q266.979 1540.33 263.9 1544.94 Q260.845 1549.52 255.035 1549.52 Q249.225 1549.52 246.146 1544.94 Q243.09 1540.33 243.09 1531.6 Q243.09 1522.85 246.146 1518.27 Q249.225 1513.66 255.035 1513.66 Z\" fill=\"#000000\" fill-rule=\"evenodd\" fill-opacity=\"1\" /><path clip-path=\"url(#clip590)\" d=\"M569.555 1544.91 L577.194 1544.91 L577.194 1518.55 L568.884 1520.21 L568.884 1515.95 L577.148 1514.29 L581.824 1514.29 L581.824 1544.91 L589.463 1544.91 L589.463 1548.85 L569.555 1548.85 L569.555 1544.91 Z\" fill=\"#000000\" fill-rule=\"evenodd\" fill-opacity=\"1\" /><path clip-path=\"url(#clip590)\" d=\"M897.965 1544.91 L914.284 1544.91 L914.284 1548.85 L892.34 1548.85 L892.34 1544.91 Q895.002 1542.16 899.585 1537.53 Q904.191 1532.88 905.372 1531.53 Q907.617 1529.01 908.497 1527.27 Q909.4 1525.51 909.4 1523.82 Q909.4 1521.07 907.455 1519.33 Q905.534 1517.6 902.432 1517.6 Q900.233 1517.6 897.779 1518.36 Q895.349 1519.13 892.571 1520.68 L892.571 1515.95 Q895.395 1514.82 897.849 1514.24 Q900.303 1513.66 902.34 1513.66 Q907.71 1513.66 910.904 1516.35 Q914.099 1519.03 914.099 1523.52 Q914.099 1525.65 913.289 1527.57 Q912.502 1529.47 910.395 1532.07 Q909.816 1532.74 906.715 1535.95 Q903.613 1539.15 897.965 1544.91 Z\" fill=\"#000000\" fill-rule=\"evenodd\" fill-opacity=\"1\" /><path clip-path=\"url(#clip590)\" d=\"M1231.7 1530.21 Q1235.05 1530.93 1236.93 1533.2 Q1238.83 1535.47 1238.83 1538.8 Q1238.83 1543.92 1235.31 1546.72 Q1231.79 1549.52 1225.31 1549.52 Q1223.13 1549.52 1220.82 1549.08 Q1218.53 1548.66 1216.07 1547.81 L1216.07 1543.29 Q1218.02 1544.43 1220.33 1545.01 Q1222.65 1545.58 1225.17 1545.58 Q1229.57 1545.58 1231.86 1543.85 Q1234.17 1542.11 1234.17 1538.8 Q1234.17 1535.75 1232.02 1534.03 Q1229.89 1532.3 1226.07 1532.3 L1222.05 1532.3 L1222.05 1528.45 L1226.26 1528.45 Q1229.71 1528.45 1231.54 1527.09 Q1233.36 1525.7 1233.36 1523.11 Q1233.36 1520.45 1231.47 1519.03 Q1229.59 1517.6 1226.07 1517.6 Q1224.15 1517.6 1221.95 1518.01 Q1219.75 1518.43 1217.11 1519.31 L1217.11 1515.14 Q1219.78 1514.4 1222.09 1514.03 Q1224.43 1513.66 1226.49 1513.66 Q1231.81 1513.66 1234.92 1516.09 Q1238.02 1518.5 1238.02 1522.62 Q1238.02 1525.49 1236.37 1527.48 Q1234.73 1529.45 1231.7 1530.21 Z\" fill=\"#000000\" fill-rule=\"evenodd\" fill-opacity=\"1\" /><path clip-path=\"url(#clip590)\" d=\"M1554.6 1518.36 L1542.79 1536.81 L1554.6 1536.81 L1554.6 1518.36 M1553.37 1514.29 L1559.25 1514.29 L1559.25 1536.81 L1564.18 1536.81 L1564.18 1540.7 L1559.25 1540.7 L1559.25 1548.85 L1554.6 1548.85 L1554.6 1540.7 L1539 1540.7 L1539 1536.19 L1553.37 1514.29 Z\" fill=\"#000000\" fill-rule=\"evenodd\" fill-opacity=\"1\" /><path clip-path=\"url(#clip590)\" d=\"M1866.01 1514.29 L1884.36 1514.29 L1884.36 1518.22 L1870.29 1518.22 L1870.29 1526.7 Q1871.31 1526.35 1872.32 1526.19 Q1873.34 1526 1874.36 1526 Q1880.15 1526 1883.53 1529.17 Q1886.91 1532.34 1886.91 1537.76 Q1886.91 1543.34 1883.44 1546.44 Q1879.96 1549.52 1873.64 1549.52 Q1871.47 1549.52 1869.2 1549.15 Q1866.95 1548.78 1864.55 1548.04 L1864.55 1543.34 Q1866.63 1544.47 1868.85 1545.03 Q1871.07 1545.58 1873.55 1545.58 Q1877.56 1545.58 1879.89 1543.48 Q1882.23 1541.37 1882.23 1537.76 Q1882.23 1534.15 1879.89 1532.04 Q1877.56 1529.94 1873.55 1529.94 Q1871.68 1529.94 1869.8 1530.35 Q1867.95 1530.77 1866.01 1531.65 L1866.01 1514.29 Z\" fill=\"#000000\" fill-rule=\"evenodd\" fill-opacity=\"1\" /><path clip-path=\"url(#clip590)\" d=\"M2200.27 1529.7 Q2197.12 1529.7 2195.27 1531.86 Q2193.44 1534.01 2193.44 1537.76 Q2193.44 1541.49 2195.27 1543.66 Q2197.12 1545.82 2200.27 1545.82 Q2203.42 1545.82 2205.25 1543.66 Q2207.1 1541.49 2207.1 1537.76 Q2207.1 1534.01 2205.25 1531.86 Q2203.42 1529.7 2200.27 1529.7 M2209.55 1515.05 L2209.55 1519.31 Q2207.79 1518.48 2205.99 1518.04 Q2204.21 1517.6 2202.45 1517.6 Q2197.82 1517.6 2195.36 1520.72 Q2192.93 1523.85 2192.59 1530.17 Q2193.95 1528.15 2196.01 1527.09 Q2198.07 1526 2200.55 1526 Q2205.76 1526 2208.77 1529.17 Q2211.8 1532.32 2211.8 1537.76 Q2211.8 1543.08 2208.65 1546.3 Q2205.5 1549.52 2200.27 1549.52 Q2194.28 1549.52 2191.1 1544.94 Q2187.93 1540.33 2187.93 1531.6 Q2187.93 1523.41 2191.82 1518.55 Q2195.71 1513.66 2202.26 1513.66 Q2204.02 1513.66 2205.8 1514.01 Q2207.61 1514.36 2209.55 1515.05 Z\" fill=\"#000000\" fill-rule=\"evenodd\" fill-opacity=\"1\" /><polyline clip-path=\"url(#clip592)\" style=\"stroke:#000000; stroke-linecap:butt; stroke-linejoin:round; stroke-width:2; stroke-opacity:0.1; fill:none\" points=\"\n",
       "  193.936,1445.8 2352.76,1445.8 \n",
       "  \"/>\n",
       "<polyline clip-path=\"url(#clip592)\" style=\"stroke:#000000; stroke-linecap:butt; stroke-linejoin:round; stroke-width:2; stroke-opacity:0.1; fill:none\" points=\"\n",
       "  193.936,1106.32 2352.76,1106.32 \n",
       "  \"/>\n",
       "<polyline clip-path=\"url(#clip592)\" style=\"stroke:#000000; stroke-linecap:butt; stroke-linejoin:round; stroke-width:2; stroke-opacity:0.1; fill:none\" points=\"\n",
       "  193.936,766.846 2352.76,766.846 \n",
       "  \"/>\n",
       "<polyline clip-path=\"url(#clip592)\" style=\"stroke:#000000; stroke-linecap:butt; stroke-linejoin:round; stroke-width:2; stroke-opacity:0.1; fill:none\" points=\"\n",
       "  193.936,427.368 2352.76,427.368 \n",
       "  \"/>\n",
       "<polyline clip-path=\"url(#clip592)\" style=\"stroke:#000000; stroke-linecap:butt; stroke-linejoin:round; stroke-width:2; stroke-opacity:0.1; fill:none\" points=\"\n",
       "  193.936,87.8908 2352.76,87.8908 \n",
       "  \"/>\n",
       "<polyline clip-path=\"url(#clip590)\" style=\"stroke:#000000; stroke-linecap:butt; stroke-linejoin:round; stroke-width:4; stroke-opacity:1; fill:none\" points=\"\n",
       "  193.936,1486.45 193.936,47.2441 \n",
       "  \"/>\n",
       "<polyline clip-path=\"url(#clip590)\" style=\"stroke:#000000; stroke-linecap:butt; stroke-linejoin:round; stroke-width:4; stroke-opacity:1; fill:none\" points=\"\n",
       "  193.936,1445.8 212.834,1445.8 \n",
       "  \"/>\n",
       "<polyline clip-path=\"url(#clip590)\" style=\"stroke:#000000; stroke-linecap:butt; stroke-linejoin:round; stroke-width:4; stroke-opacity:1; fill:none\" points=\"\n",
       "  193.936,1106.32 212.834,1106.32 \n",
       "  \"/>\n",
       "<polyline clip-path=\"url(#clip590)\" style=\"stroke:#000000; stroke-linecap:butt; stroke-linejoin:round; stroke-width:4; stroke-opacity:1; fill:none\" points=\"\n",
       "  193.936,766.846 212.834,766.846 \n",
       "  \"/>\n",
       "<polyline clip-path=\"url(#clip590)\" style=\"stroke:#000000; stroke-linecap:butt; stroke-linejoin:round; stroke-width:4; stroke-opacity:1; fill:none\" points=\"\n",
       "  193.936,427.368 212.834,427.368 \n",
       "  \"/>\n",
       "<polyline clip-path=\"url(#clip590)\" style=\"stroke:#000000; stroke-linecap:butt; stroke-linejoin:round; stroke-width:4; stroke-opacity:1; fill:none\" points=\"\n",
       "  193.936,87.8908 212.834,87.8908 \n",
       "  \"/>\n",
       "<path clip-path=\"url(#clip590)\" d=\"M50.9921 1446.25 L80.6679 1446.25 L80.6679 1450.19 L50.9921 1450.19 L50.9921 1446.25 Z\" fill=\"#000000\" fill-rule=\"evenodd\" fill-opacity=\"1\" /><path clip-path=\"url(#clip590)\" d=\"M91.5706 1459.15 L99.2095 1459.15 L99.2095 1432.78 L90.8993 1434.45 L90.8993 1430.19 L99.1632 1428.52 L103.839 1428.52 L103.839 1459.15 L111.478 1459.15 L111.478 1463.08 L91.5706 1463.08 L91.5706 1459.15 Z\" fill=\"#000000\" fill-rule=\"evenodd\" fill-opacity=\"1\" /><path clip-path=\"url(#clip590)\" d=\"M120.922 1457.2 L125.807 1457.2 L125.807 1463.08 L120.922 1463.08 L120.922 1457.2 Z\" fill=\"#000000\" fill-rule=\"evenodd\" fill-opacity=\"1\" /><path clip-path=\"url(#clip590)\" d=\"M145.992 1431.6 Q142.381 1431.6 140.552 1435.16 Q138.746 1438.71 138.746 1445.84 Q138.746 1452.94 140.552 1456.51 Q142.381 1460.05 145.992 1460.05 Q149.626 1460.05 151.431 1456.51 Q153.26 1452.94 153.26 1445.84 Q153.26 1438.71 151.431 1435.16 Q149.626 1431.6 145.992 1431.6 M145.992 1427.9 Q151.802 1427.9 154.857 1432.5 Q157.936 1437.09 157.936 1445.84 Q157.936 1454.56 154.857 1459.17 Q151.802 1463.75 145.992 1463.75 Q140.181 1463.75 137.103 1459.17 Q134.047 1454.56 134.047 1445.84 Q134.047 1437.09 137.103 1432.5 Q140.181 1427.9 145.992 1427.9 Z\" fill=\"#000000\" fill-rule=\"evenodd\" fill-opacity=\"1\" /><path clip-path=\"url(#clip590)\" d=\"M51.9875 1106.77 L81.6633 1106.77 L81.6633 1110.71 L51.9875 1110.71 L51.9875 1106.77 Z\" fill=\"#000000\" fill-rule=\"evenodd\" fill-opacity=\"1\" /><path clip-path=\"url(#clip590)\" d=\"M101.756 1092.12 Q98.1447 1092.12 96.316 1095.69 Q94.5104 1099.23 94.5104 1106.36 Q94.5104 1113.46 96.316 1117.03 Q98.1447 1120.57 101.756 1120.57 Q105.39 1120.57 107.196 1117.03 Q109.024 1113.46 109.024 1106.36 Q109.024 1099.23 107.196 1095.69 Q105.39 1092.12 101.756 1092.12 M101.756 1088.42 Q107.566 1088.42 110.621 1093.03 Q113.7 1097.61 113.7 1106.36 Q113.7 1115.09 110.621 1119.69 Q107.566 1124.27 101.756 1124.27 Q95.9456 1124.27 92.8669 1119.69 Q89.8114 1115.09 89.8114 1106.36 Q89.8114 1097.61 92.8669 1093.03 Q95.9456 1088.42 101.756 1088.42 Z\" fill=\"#000000\" fill-rule=\"evenodd\" fill-opacity=\"1\" /><path clip-path=\"url(#clip590)\" d=\"M121.918 1117.72 L126.802 1117.72 L126.802 1123.6 L121.918 1123.6 L121.918 1117.72 Z\" fill=\"#000000\" fill-rule=\"evenodd\" fill-opacity=\"1\" /><path clip-path=\"url(#clip590)\" d=\"M137.033 1089.04 L155.39 1089.04 L155.39 1092.98 L141.316 1092.98 L141.316 1101.45 Q142.334 1101.1 143.353 1100.94 Q144.371 1100.76 145.39 1100.76 Q151.177 1100.76 154.556 1103.93 Q157.936 1107.1 157.936 1112.52 Q157.936 1118.09 154.464 1121.2 Q150.992 1124.27 144.672 1124.27 Q142.496 1124.27 140.228 1123.9 Q137.982 1123.53 135.575 1122.79 L135.575 1118.09 Q137.658 1119.23 139.881 1119.78 Q142.103 1120.34 144.58 1120.34 Q148.584 1120.34 150.922 1118.23 Q153.26 1116.13 153.26 1112.52 Q153.26 1108.9 150.922 1106.8 Q148.584 1104.69 144.58 1104.69 Q142.705 1104.69 140.83 1105.11 Q138.978 1105.52 137.033 1106.4 L137.033 1089.04 Z\" fill=\"#000000\" fill-rule=\"evenodd\" fill-opacity=\"1\" /><path clip-path=\"url(#clip590)\" d=\"M100.76 752.645 Q97.1493 752.645 95.3206 756.209 Q93.515 759.751 93.515 766.881 Q93.515 773.987 95.3206 777.552 Q97.1493 781.094 100.76 781.094 Q104.395 781.094 106.2 777.552 Q108.029 773.987 108.029 766.881 Q108.029 759.751 106.2 756.209 Q104.395 752.645 100.76 752.645 M100.76 748.941 Q106.571 748.941 109.626 753.547 Q112.705 758.131 112.705 766.881 Q112.705 775.608 109.626 780.214 Q106.571 784.797 100.76 784.797 Q94.9502 784.797 91.8715 780.214 Q88.816 775.608 88.816 766.881 Q88.816 758.131 91.8715 753.547 Q94.9502 748.941 100.76 748.941 Z\" fill=\"#000000\" fill-rule=\"evenodd\" fill-opacity=\"1\" /><path clip-path=\"url(#clip590)\" d=\"M120.922 778.246 L125.807 778.246 L125.807 784.126 L120.922 784.126 L120.922 778.246 Z\" fill=\"#000000\" fill-rule=\"evenodd\" fill-opacity=\"1\" /><path clip-path=\"url(#clip590)\" d=\"M145.992 752.645 Q142.381 752.645 140.552 756.209 Q138.746 759.751 138.746 766.881 Q138.746 773.987 140.552 777.552 Q142.381 781.094 145.992 781.094 Q149.626 781.094 151.431 777.552 Q153.26 773.987 153.26 766.881 Q153.26 759.751 151.431 756.209 Q149.626 752.645 145.992 752.645 M145.992 748.941 Q151.802 748.941 154.857 753.547 Q157.936 758.131 157.936 766.881 Q157.936 775.608 154.857 780.214 Q151.802 784.797 145.992 784.797 Q140.181 784.797 137.103 780.214 Q134.047 775.608 134.047 766.881 Q134.047 758.131 137.103 753.547 Q140.181 748.941 145.992 748.941 Z\" fill=\"#000000\" fill-rule=\"evenodd\" fill-opacity=\"1\" /><path clip-path=\"url(#clip590)\" d=\"M101.756 413.167 Q98.1447 413.167 96.316 416.732 Q94.5104 420.274 94.5104 427.403 Q94.5104 434.51 96.316 438.074 Q98.1447 441.616 101.756 441.616 Q105.39 441.616 107.196 438.074 Q109.024 434.51 109.024 427.403 Q109.024 420.274 107.196 416.732 Q105.39 413.167 101.756 413.167 M101.756 409.463 Q107.566 409.463 110.621 414.07 Q113.7 418.653 113.7 427.403 Q113.7 436.13 110.621 440.736 Q107.566 445.32 101.756 445.32 Q95.9456 445.32 92.8669 440.736 Q89.8114 436.13 89.8114 427.403 Q89.8114 418.653 92.8669 414.07 Q95.9456 409.463 101.756 409.463 Z\" fill=\"#000000\" fill-rule=\"evenodd\" fill-opacity=\"1\" /><path clip-path=\"url(#clip590)\" d=\"M121.918 438.769 L126.802 438.769 L126.802 444.648 L121.918 444.648 L121.918 438.769 Z\" fill=\"#000000\" fill-rule=\"evenodd\" fill-opacity=\"1\" /><path clip-path=\"url(#clip590)\" d=\"M137.033 410.088 L155.39 410.088 L155.39 414.024 L141.316 414.024 L141.316 422.496 Q142.334 422.149 143.353 421.986 Q144.371 421.801 145.39 421.801 Q151.177 421.801 154.556 424.973 Q157.936 428.144 157.936 433.56 Q157.936 439.139 154.464 442.241 Q150.992 445.32 144.672 445.32 Q142.496 445.32 140.228 444.949 Q137.982 444.579 135.575 443.838 L135.575 439.139 Q137.658 440.273 139.881 440.829 Q142.103 441.385 144.58 441.385 Q148.584 441.385 150.922 439.278 Q153.26 437.172 153.26 433.56 Q153.26 429.949 150.922 427.843 Q148.584 425.736 144.58 425.736 Q142.705 425.736 140.83 426.153 Q138.978 426.57 137.033 427.449 L137.033 410.088 Z\" fill=\"#000000\" fill-rule=\"evenodd\" fill-opacity=\"1\" /><path clip-path=\"url(#clip590)\" d=\"M91.5706 101.236 L99.2095 101.236 L99.2095 74.8701 L90.8993 76.5367 L90.8993 72.2775 L99.1632 70.6108 L103.839 70.6108 L103.839 101.236 L111.478 101.236 L111.478 105.171 L91.5706 105.171 L91.5706 101.236 Z\" fill=\"#000000\" fill-rule=\"evenodd\" fill-opacity=\"1\" /><path clip-path=\"url(#clip590)\" d=\"M120.922 99.2912 L125.807 99.2912 L125.807 105.171 L120.922 105.171 L120.922 99.2912 Z\" fill=\"#000000\" fill-rule=\"evenodd\" fill-opacity=\"1\" /><path clip-path=\"url(#clip590)\" d=\"M145.992 73.6895 Q142.381 73.6895 140.552 77.2543 Q138.746 80.7959 138.746 87.9255 Q138.746 95.032 140.552 98.5968 Q142.381 102.138 145.992 102.138 Q149.626 102.138 151.431 98.5968 Q153.26 95.032 153.26 87.9255 Q153.26 80.7959 151.431 77.2543 Q149.626 73.6895 145.992 73.6895 M145.992 69.9858 Q151.802 69.9858 154.857 74.5923 Q157.936 79.1756 157.936 87.9255 Q157.936 96.6523 154.857 101.259 Q151.802 105.842 145.992 105.842 Q140.181 105.842 137.103 101.259 Q134.047 96.6523 134.047 87.9255 Q134.047 79.1756 137.103 74.5923 Q140.181 69.9858 145.992 69.9858 Z\" fill=\"#000000\" fill-rule=\"evenodd\" fill-opacity=\"1\" /><polyline clip-path=\"url(#clip592)\" style=\"stroke:#009af9; stroke-linecap:butt; stroke-linejoin:round; stroke-width:4; stroke-opacity:1; fill:none\" points=\"\n",
       "  255.035,766.846 275.607,723.784 296.179,680.895 316.751,638.353 337.322,596.328 357.894,554.989 378.466,514.504 399.038,475.035 419.61,436.74 440.182,399.775 \n",
       "  460.754,364.288 481.326,330.422 501.898,298.313 522.47,268.091 543.042,239.877 563.614,213.785 584.186,189.921 604.758,168.379 625.33,149.247 645.902,132.601 \n",
       "  666.474,118.51 687.046,107.029 707.617,98.2057 728.189,92.0742 748.761,88.6598 769.333,87.9763 789.905,90.0263 810.477,94.8016 831.049,102.283 851.621,112.44 \n",
       "  872.193,125.233 892.765,140.609 913.337,158.506 933.909,178.854 954.481,201.568 975.053,226.559 995.625,253.726 1016.2,282.959 1036.77,314.14 1057.34,347.144 \n",
       "  1077.91,381.838 1098.48,418.082 1119.06,455.731 1139.63,494.632 1160.2,534.63 1180.77,575.562 1201.34,617.265 1221.92,659.57 1242.49,702.307 1263.06,745.304 \n",
       "  1283.63,788.388 1304.2,831.385 1324.78,874.122 1345.35,916.427 1365.92,958.13 1386.49,999.062 1407.06,1039.06 1427.64,1077.96 1448.21,1115.61 1468.78,1151.85 \n",
       "  1489.35,1186.55 1509.92,1219.55 1530.5,1250.73 1551.07,1279.97 1571.64,1307.13 1592.21,1332.12 1612.78,1354.84 1633.35,1375.19 1653.93,1393.08 1674.5,1408.46 \n",
       "  1695.07,1421.25 1715.64,1431.41 1736.21,1438.89 1756.79,1443.67 1777.36,1445.72 1797.93,1445.03 1818.5,1441.62 1839.07,1435.49 1859.65,1426.66 1880.22,1415.18 \n",
       "  1900.79,1401.09 1921.36,1384.45 1941.93,1365.31 1962.51,1343.77 1983.08,1319.91 2003.65,1293.81 2024.22,1265.6 2044.79,1235.38 2065.37,1203.27 2085.94,1169.4 \n",
       "  2106.51,1133.92 2127.08,1096.95 2147.65,1058.66 2168.23,1019.19 2188.8,978.703 2209.37,937.364 2229.94,895.339 2250.51,852.797 2271.09,809.908 2291.66,766.846 \n",
       "  \n",
       "  \"/>\n",
       "<path clip-path=\"url(#clip590)\" d=\"\n",
       "M1988.5 198.898 L2280.8 198.898 L2280.8 95.2176 L1988.5 95.2176  Z\n",
       "  \" fill=\"#ffffff\" fill-rule=\"evenodd\" fill-opacity=\"1\"/>\n",
       "<polyline clip-path=\"url(#clip590)\" style=\"stroke:#000000; stroke-linecap:butt; stroke-linejoin:round; stroke-width:4; stroke-opacity:1; fill:none\" points=\"\n",
       "  1988.5,198.898 2280.8,198.898 2280.8,95.2176 1988.5,95.2176 1988.5,198.898 \n",
       "  \"/>\n",
       "<polyline clip-path=\"url(#clip590)\" style=\"stroke:#009af9; stroke-linecap:butt; stroke-linejoin:round; stroke-width:4; stroke-opacity:1; fill:none\" points=\"\n",
       "  2012.48,147.058 2156.4,147.058 \n",
       "  \"/>\n",
       "<path clip-path=\"url(#clip590)\" d=\"M2194.23 166.745 Q2192.43 171.375 2190.72 172.787 Q2189 174.199 2186.13 174.199 L2182.73 174.199 L2182.73 170.634 L2185.23 170.634 Q2186.99 170.634 2187.96 169.8 Q2188.93 168.967 2190.11 165.865 L2190.88 163.921 L2180.39 138.412 L2184.91 138.412 L2193.01 158.689 L2201.11 138.412 L2205.62 138.412 L2194.23 166.745 Z\" fill=\"#000000\" fill-rule=\"evenodd\" fill-opacity=\"1\" /><path clip-path=\"url(#clip590)\" d=\"M2212.91 160.402 L2220.55 160.402 L2220.55 134.037 L2212.24 135.703 L2212.24 131.444 L2220.51 129.778 L2225.18 129.778 L2225.18 160.402 L2232.82 160.402 L2232.82 164.338 L2212.91 164.338 L2212.91 160.402 Z\" fill=\"#000000\" fill-rule=\"evenodd\" fill-opacity=\"1\" /></svg>\n"
      ]
     },
     "execution_count": 141,
     "metadata": {},
     "output_type": "execute_result"
    }
   ],
   "source": [
    "plot(x, sin.(y))"
   ]
  },
  {
   "cell_type": "code",
   "execution_count": null,
   "id": "45ef4da3",
   "metadata": {},
   "outputs": [],
   "source": []
  },
  {
   "cell_type": "code",
   "execution_count": 142,
   "id": "56e6d5fd",
   "metadata": {},
   "outputs": [
    {
     "data": {
      "image/svg+xml": [
       "<?xml version=\"1.0\" encoding=\"utf-8\"?>\n",
       "<svg xmlns=\"http://www.w3.org/2000/svg\" xmlns:xlink=\"http://www.w3.org/1999/xlink\" width=\"600\" height=\"400\" viewBox=\"0 0 2400 1600\">\n",
       "<defs>\n",
       "  <clipPath id=\"clip630\">\n",
       "    <rect x=\"0\" y=\"0\" width=\"2400\" height=\"1600\"/>\n",
       "  </clipPath>\n",
       "</defs>\n",
       "<path clip-path=\"url(#clip630)\" d=\"\n",
       "M0 1600 L2400 1600 L2400 0 L0 0  Z\n",
       "  \" fill=\"#ffffff\" fill-rule=\"evenodd\" fill-opacity=\"1\"/>\n",
       "<defs>\n",
       "  <clipPath id=\"clip631\">\n",
       "    <rect x=\"480\" y=\"0\" width=\"1681\" height=\"1600\"/>\n",
       "  </clipPath>\n",
       "</defs>\n",
       "<path clip-path=\"url(#clip630)\" d=\"\n",
       "M369.703 1423.18 L2352.76 1423.18 L2352.76 123.472 L369.703 123.472  Z\n",
       "  \" fill=\"#ffffff\" fill-rule=\"evenodd\" fill-opacity=\"1\"/>\n",
       "<defs>\n",
       "  <clipPath id=\"clip632\">\n",
       "    <rect x=\"369\" y=\"123\" width=\"1984\" height=\"1301\"/>\n",
       "  </clipPath>\n",
       "</defs>\n",
       "<polyline clip-path=\"url(#clip630)\" style=\"stroke:#000000; stroke-linecap:butt; stroke-linejoin:round; stroke-width:4; stroke-opacity:1; fill:none\" points=\"\n",
       "  369.703,1423.18 2352.76,1423.18 \n",
       "  \"/>\n",
       "<polyline clip-path=\"url(#clip630)\" style=\"stroke:#000000; stroke-linecap:butt; stroke-linejoin:round; stroke-width:4; stroke-opacity:1; fill:none\" points=\"\n",
       "  425.828,1423.18 425.828,1404.28 \n",
       "  \"/>\n",
       "<polyline clip-path=\"url(#clip630)\" style=\"stroke:#000000; stroke-linecap:butt; stroke-linejoin:round; stroke-width:4; stroke-opacity:1; fill:none\" points=\"\n",
       "  731.016,1423.18 731.016,1404.28 \n",
       "  \"/>\n",
       "<polyline clip-path=\"url(#clip630)\" style=\"stroke:#000000; stroke-linecap:butt; stroke-linejoin:round; stroke-width:4; stroke-opacity:1; fill:none\" points=\"\n",
       "  1036.2,1423.18 1036.2,1404.28 \n",
       "  \"/>\n",
       "<polyline clip-path=\"url(#clip630)\" style=\"stroke:#000000; stroke-linecap:butt; stroke-linejoin:round; stroke-width:4; stroke-opacity:1; fill:none\" points=\"\n",
       "  1341.39,1423.18 1341.39,1404.28 \n",
       "  \"/>\n",
       "<polyline clip-path=\"url(#clip630)\" style=\"stroke:#000000; stroke-linecap:butt; stroke-linejoin:round; stroke-width:4; stroke-opacity:1; fill:none\" points=\"\n",
       "  1646.58,1423.18 1646.58,1404.28 \n",
       "  \"/>\n",
       "<polyline clip-path=\"url(#clip630)\" style=\"stroke:#000000; stroke-linecap:butt; stroke-linejoin:round; stroke-width:4; stroke-opacity:1; fill:none\" points=\"\n",
       "  1951.77,1423.18 1951.77,1404.28 \n",
       "  \"/>\n",
       "<polyline clip-path=\"url(#clip630)\" style=\"stroke:#000000; stroke-linecap:butt; stroke-linejoin:round; stroke-width:4; stroke-opacity:1; fill:none\" points=\"\n",
       "  2256.96,1423.18 2256.96,1404.28 \n",
       "  \"/>\n",
       "<path clip-path=\"url(#clip630)\" d=\"M425.828 1454.1 Q422.216 1454.1 420.388 1457.66 Q418.582 1461.2 418.582 1468.33 Q418.582 1475.44 420.388 1479.01 Q422.216 1482.55 425.828 1482.55 Q429.462 1482.55 431.267 1479.01 Q433.096 1475.44 433.096 1468.33 Q433.096 1461.2 431.267 1457.66 Q429.462 1454.1 425.828 1454.1 M425.828 1450.39 Q431.638 1450.39 434.693 1455 Q437.772 1459.58 437.772 1468.33 Q437.772 1477.06 434.693 1481.67 Q431.638 1486.25 425.828 1486.25 Q420.017 1486.25 416.939 1481.67 Q413.883 1477.06 413.883 1468.33 Q413.883 1459.58 416.939 1455 Q420.017 1450.39 425.828 1450.39 Z\" fill=\"#000000\" fill-rule=\"evenodd\" fill-opacity=\"1\" /><path clip-path=\"url(#clip630)\" d=\"M690.623 1481.64 L698.261 1481.64 L698.261 1455.28 L689.951 1456.95 L689.951 1452.69 L698.215 1451.02 L702.891 1451.02 L702.891 1481.64 L710.53 1481.64 L710.53 1485.58 L690.623 1485.58 L690.623 1481.64 Z\" fill=\"#000000\" fill-rule=\"evenodd\" fill-opacity=\"1\" /><path clip-path=\"url(#clip630)\" d=\"M729.974 1454.1 Q726.363 1454.1 724.534 1457.66 Q722.729 1461.2 722.729 1468.33 Q722.729 1475.44 724.534 1479.01 Q726.363 1482.55 729.974 1482.55 Q733.608 1482.55 735.414 1479.01 Q737.243 1475.44 737.243 1468.33 Q737.243 1461.2 735.414 1457.66 Q733.608 1454.1 729.974 1454.1 M729.974 1450.39 Q735.784 1450.39 738.84 1455 Q741.919 1459.58 741.919 1468.33 Q741.919 1477.06 738.84 1481.67 Q735.784 1486.25 729.974 1486.25 Q724.164 1486.25 721.085 1481.67 Q718.03 1477.06 718.03 1468.33 Q718.03 1459.58 721.085 1455 Q724.164 1450.39 729.974 1450.39 Z\" fill=\"#000000\" fill-rule=\"evenodd\" fill-opacity=\"1\" /><path clip-path=\"url(#clip630)\" d=\"M760.136 1454.1 Q756.525 1454.1 754.696 1457.66 Q752.891 1461.2 752.891 1468.33 Q752.891 1475.44 754.696 1479.01 Q756.525 1482.55 760.136 1482.55 Q763.77 1482.55 765.576 1479.01 Q767.405 1475.44 767.405 1468.33 Q767.405 1461.2 765.576 1457.66 Q763.77 1454.1 760.136 1454.1 M760.136 1450.39 Q765.946 1450.39 769.002 1455 Q772.08 1459.58 772.08 1468.33 Q772.08 1477.06 769.002 1481.67 Q765.946 1486.25 760.136 1486.25 Q754.326 1486.25 751.247 1481.67 Q748.192 1477.06 748.192 1468.33 Q748.192 1459.58 751.247 1455 Q754.326 1450.39 760.136 1450.39 Z\" fill=\"#000000\" fill-rule=\"evenodd\" fill-opacity=\"1\" /><path clip-path=\"url(#clip630)\" d=\"M999.896 1481.64 L1016.22 1481.64 L1016.22 1485.58 L994.271 1485.58 L994.271 1481.64 Q996.934 1478.89 1001.52 1474.26 Q1006.12 1469.61 1007.3 1468.27 Q1009.55 1465.74 1010.43 1464.01 Q1011.33 1462.25 1011.33 1460.56 Q1011.33 1457.8 1009.39 1456.07 Q1007.47 1454.33 1004.36 1454.33 Q1002.16 1454.33 999.711 1455.09 Q997.281 1455.86 994.503 1457.41 L994.503 1452.69 Q997.327 1451.55 999.781 1450.97 Q1002.23 1450.39 1004.27 1450.39 Q1009.64 1450.39 1012.84 1453.08 Q1016.03 1455.77 1016.03 1460.26 Q1016.03 1462.39 1015.22 1464.31 Q1014.43 1466.2 1012.33 1468.8 Q1011.75 1469.47 1008.65 1472.69 Q1005.54 1475.88 999.896 1481.64 Z\" fill=\"#000000\" fill-rule=\"evenodd\" fill-opacity=\"1\" /><path clip-path=\"url(#clip630)\" d=\"M1036.03 1454.1 Q1032.42 1454.1 1030.59 1457.66 Q1028.79 1461.2 1028.79 1468.33 Q1028.79 1475.44 1030.59 1479.01 Q1032.42 1482.55 1036.03 1482.55 Q1039.66 1482.55 1041.47 1479.01 Q1043.3 1475.44 1043.3 1468.33 Q1043.3 1461.2 1041.47 1457.66 Q1039.66 1454.1 1036.03 1454.1 M1036.03 1450.39 Q1041.84 1450.39 1044.9 1455 Q1047.97 1459.58 1047.97 1468.33 Q1047.97 1477.06 1044.9 1481.67 Q1041.84 1486.25 1036.03 1486.25 Q1030.22 1486.25 1027.14 1481.67 Q1024.09 1477.06 1024.09 1468.33 Q1024.09 1459.58 1027.14 1455 Q1030.22 1450.39 1036.03 1450.39 Z\" fill=\"#000000\" fill-rule=\"evenodd\" fill-opacity=\"1\" /><path clip-path=\"url(#clip630)\" d=\"M1066.19 1454.1 Q1062.58 1454.1 1060.75 1457.66 Q1058.95 1461.2 1058.95 1468.33 Q1058.95 1475.44 1060.75 1479.01 Q1062.58 1482.55 1066.19 1482.55 Q1069.83 1482.55 1071.63 1479.01 Q1073.46 1475.44 1073.46 1468.33 Q1073.46 1461.2 1071.63 1457.66 Q1069.83 1454.1 1066.19 1454.1 M1066.19 1450.39 Q1072 1450.39 1075.06 1455 Q1078.14 1459.58 1078.14 1468.33 Q1078.14 1477.06 1075.06 1481.67 Q1072 1486.25 1066.19 1486.25 Q1060.38 1486.25 1057.3 1481.67 Q1054.25 1477.06 1054.25 1468.33 Q1054.25 1459.58 1057.3 1455 Q1060.38 1450.39 1066.19 1450.39 Z\" fill=\"#000000\" fill-rule=\"evenodd\" fill-opacity=\"1\" /><path clip-path=\"url(#clip630)\" d=\"M1315.15 1466.95 Q1318.51 1467.66 1320.39 1469.93 Q1322.28 1472.2 1322.28 1475.53 Q1322.28 1480.65 1318.77 1483.45 Q1315.25 1486.25 1308.77 1486.25 Q1306.59 1486.25 1304.27 1485.81 Q1301.98 1485.39 1299.53 1484.54 L1299.53 1480.02 Q1301.47 1481.16 1303.79 1481.74 Q1306.1 1482.32 1308.63 1482.32 Q1313.02 1482.32 1315.32 1480.58 Q1317.63 1478.84 1317.63 1475.53 Q1317.63 1472.48 1315.48 1470.77 Q1313.35 1469.03 1309.53 1469.03 L1305.5 1469.03 L1305.5 1465.19 L1309.71 1465.19 Q1313.16 1465.19 1314.99 1463.82 Q1316.82 1462.43 1316.82 1459.84 Q1316.82 1457.18 1314.92 1455.77 Q1313.05 1454.33 1309.53 1454.33 Q1307.61 1454.33 1305.41 1454.75 Q1303.21 1455.16 1300.57 1456.04 L1300.57 1451.88 Q1303.23 1451.14 1305.55 1450.77 Q1307.89 1450.39 1309.95 1450.39 Q1315.27 1450.39 1318.37 1452.83 Q1321.47 1455.23 1321.47 1459.35 Q1321.47 1462.22 1319.83 1464.21 Q1318.19 1466.18 1315.15 1466.95 Z\" fill=\"#000000\" fill-rule=\"evenodd\" fill-opacity=\"1\" /><path clip-path=\"url(#clip630)\" d=\"M1341.15 1454.1 Q1337.54 1454.1 1335.71 1457.66 Q1333.9 1461.2 1333.9 1468.33 Q1333.9 1475.44 1335.71 1479.01 Q1337.54 1482.55 1341.15 1482.55 Q1344.78 1482.55 1346.59 1479.01 Q1348.42 1475.44 1348.42 1468.33 Q1348.42 1461.2 1346.59 1457.66 Q1344.78 1454.1 1341.15 1454.1 M1341.15 1450.39 Q1346.96 1450.39 1350.02 1455 Q1353.09 1459.58 1353.09 1468.33 Q1353.09 1477.06 1350.02 1481.67 Q1346.96 1486.25 1341.15 1486.25 Q1335.34 1486.25 1332.26 1481.67 Q1329.2 1477.06 1329.2 1468.33 Q1329.2 1459.58 1332.26 1455 Q1335.34 1450.39 1341.15 1450.39 Z\" fill=\"#000000\" fill-rule=\"evenodd\" fill-opacity=\"1\" /><path clip-path=\"url(#clip630)\" d=\"M1371.31 1454.1 Q1367.7 1454.1 1365.87 1457.66 Q1364.07 1461.2 1364.07 1468.33 Q1364.07 1475.44 1365.87 1479.01 Q1367.7 1482.55 1371.31 1482.55 Q1374.95 1482.55 1376.75 1479.01 Q1378.58 1475.44 1378.58 1468.33 Q1378.58 1461.2 1376.75 1457.66 Q1374.95 1454.1 1371.31 1454.1 M1371.31 1450.39 Q1377.12 1450.39 1380.18 1455 Q1383.26 1459.58 1383.26 1468.33 Q1383.26 1477.06 1380.18 1481.67 Q1377.12 1486.25 1371.31 1486.25 Q1365.5 1486.25 1362.42 1481.67 Q1359.37 1477.06 1359.37 1468.33 Q1359.37 1459.58 1362.42 1455 Q1365.5 1450.39 1371.31 1450.39 Z\" fill=\"#000000\" fill-rule=\"evenodd\" fill-opacity=\"1\" /><path clip-path=\"url(#clip630)\" d=\"M1619.67 1455.09 L1607.87 1473.54 L1619.67 1473.54 L1619.67 1455.09 M1618.44 1451.02 L1624.32 1451.02 L1624.32 1473.54 L1629.25 1473.54 L1629.25 1477.43 L1624.32 1477.43 L1624.32 1485.58 L1619.67 1485.58 L1619.67 1477.43 L1604.07 1477.43 L1604.07 1472.92 L1618.44 1451.02 Z\" fill=\"#000000\" fill-rule=\"evenodd\" fill-opacity=\"1\" /><path clip-path=\"url(#clip630)\" d=\"M1646.99 1454.1 Q1643.37 1454.1 1641.55 1457.66 Q1639.74 1461.2 1639.74 1468.33 Q1639.74 1475.44 1641.55 1479.01 Q1643.37 1482.55 1646.99 1482.55 Q1650.62 1482.55 1652.43 1479.01 Q1654.25 1475.44 1654.25 1468.33 Q1654.25 1461.2 1652.43 1457.66 Q1650.62 1454.1 1646.99 1454.1 M1646.99 1450.39 Q1652.8 1450.39 1655.85 1455 Q1658.93 1459.58 1658.93 1468.33 Q1658.93 1477.06 1655.85 1481.67 Q1652.8 1486.25 1646.99 1486.25 Q1641.18 1486.25 1638.1 1481.67 Q1635.04 1477.06 1635.04 1468.33 Q1635.04 1459.58 1638.1 1455 Q1641.18 1450.39 1646.99 1450.39 Z\" fill=\"#000000\" fill-rule=\"evenodd\" fill-opacity=\"1\" /><path clip-path=\"url(#clip630)\" d=\"M1677.15 1454.1 Q1673.54 1454.1 1671.71 1457.66 Q1669.9 1461.2 1669.9 1468.33 Q1669.9 1475.44 1671.71 1479.01 Q1673.54 1482.55 1677.15 1482.55 Q1680.78 1482.55 1682.59 1479.01 Q1684.42 1475.44 1684.42 1468.33 Q1684.42 1461.2 1682.59 1457.66 Q1680.78 1454.1 1677.15 1454.1 M1677.15 1450.39 Q1682.96 1450.39 1686.01 1455 Q1689.09 1459.58 1689.09 1468.33 Q1689.09 1477.06 1686.01 1481.67 Q1682.96 1486.25 1677.15 1486.25 Q1671.34 1486.25 1668.26 1481.67 Q1665.2 1477.06 1665.2 1468.33 Q1665.2 1459.58 1668.26 1455 Q1671.34 1450.39 1677.15 1450.39 Z\" fill=\"#000000\" fill-rule=\"evenodd\" fill-opacity=\"1\" /><path clip-path=\"url(#clip630)\" d=\"M1911.39 1451.02 L1929.74 1451.02 L1929.74 1454.96 L1915.67 1454.96 L1915.67 1463.43 Q1916.69 1463.08 1917.71 1462.92 Q1918.73 1462.73 1919.74 1462.73 Q1925.53 1462.73 1928.91 1465.9 Q1932.29 1469.08 1932.29 1474.49 Q1932.29 1480.07 1928.82 1483.17 Q1925.35 1486.25 1919.03 1486.25 Q1916.85 1486.25 1914.58 1485.88 Q1912.34 1485.51 1909.93 1484.77 L1909.93 1480.07 Q1912.01 1481.2 1914.23 1481.76 Q1916.46 1482.32 1918.93 1482.32 Q1922.94 1482.32 1925.28 1480.21 Q1927.61 1478.1 1927.61 1474.49 Q1927.61 1470.88 1925.28 1468.77 Q1922.94 1466.67 1918.93 1466.67 Q1917.06 1466.67 1915.18 1467.08 Q1913.33 1467.5 1911.39 1468.38 L1911.39 1451.02 Z\" fill=\"#000000\" fill-rule=\"evenodd\" fill-opacity=\"1\" /><path clip-path=\"url(#clip630)\" d=\"M1951.5 1454.1 Q1947.89 1454.1 1946.06 1457.66 Q1944.26 1461.2 1944.26 1468.33 Q1944.26 1475.44 1946.06 1479.01 Q1947.89 1482.55 1951.5 1482.55 Q1955.14 1482.55 1956.94 1479.01 Q1958.77 1475.44 1958.77 1468.33 Q1958.77 1461.2 1956.94 1457.66 Q1955.14 1454.1 1951.5 1454.1 M1951.5 1450.39 Q1957.31 1450.39 1960.37 1455 Q1963.45 1459.58 1963.45 1468.33 Q1963.45 1477.06 1960.37 1481.67 Q1957.31 1486.25 1951.5 1486.25 Q1945.69 1486.25 1942.61 1481.67 Q1939.56 1477.06 1939.56 1468.33 Q1939.56 1459.58 1942.61 1455 Q1945.69 1450.39 1951.5 1450.39 Z\" fill=\"#000000\" fill-rule=\"evenodd\" fill-opacity=\"1\" /><path clip-path=\"url(#clip630)\" d=\"M1981.66 1454.1 Q1978.05 1454.1 1976.22 1457.66 Q1974.42 1461.2 1974.42 1468.33 Q1974.42 1475.44 1976.22 1479.01 Q1978.05 1482.55 1981.66 1482.55 Q1985.3 1482.55 1987.1 1479.01 Q1988.93 1475.44 1988.93 1468.33 Q1988.93 1461.2 1987.1 1457.66 Q1985.3 1454.1 1981.66 1454.1 M1981.66 1450.39 Q1987.47 1450.39 1990.53 1455 Q1993.61 1459.58 1993.61 1468.33 Q1993.61 1477.06 1990.53 1481.67 Q1987.47 1486.25 1981.66 1486.25 Q1975.85 1486.25 1972.78 1481.67 Q1969.72 1477.06 1969.72 1468.33 Q1969.72 1459.58 1972.78 1455 Q1975.85 1450.39 1981.66 1450.39 Z\" fill=\"#000000\" fill-rule=\"evenodd\" fill-opacity=\"1\" /><path clip-path=\"url(#clip630)\" d=\"M2227.28 1466.44 Q2224.13 1466.44 2222.28 1468.59 Q2220.45 1470.74 2220.45 1474.49 Q2220.45 1478.22 2222.28 1480.39 Q2224.13 1482.55 2227.28 1482.55 Q2230.43 1482.55 2232.26 1480.39 Q2234.11 1478.22 2234.11 1474.49 Q2234.11 1470.74 2232.26 1468.59 Q2230.43 1466.44 2227.28 1466.44 M2236.56 1451.78 L2236.56 1456.04 Q2234.8 1455.21 2233 1454.77 Q2231.22 1454.33 2229.46 1454.33 Q2224.83 1454.33 2222.37 1457.45 Q2219.94 1460.58 2219.6 1466.9 Q2220.96 1464.89 2223.02 1463.82 Q2225.08 1462.73 2227.56 1462.73 Q2232.77 1462.73 2235.78 1465.9 Q2238.81 1469.05 2238.81 1474.49 Q2238.81 1479.82 2235.66 1483.03 Q2232.51 1486.25 2227.28 1486.25 Q2221.29 1486.25 2218.11 1481.67 Q2214.94 1477.06 2214.94 1468.33 Q2214.94 1460.14 2218.83 1455.28 Q2222.72 1450.39 2229.27 1450.39 Q2231.03 1450.39 2232.81 1450.74 Q2234.62 1451.09 2236.56 1451.78 Z\" fill=\"#000000\" fill-rule=\"evenodd\" fill-opacity=\"1\" /><path clip-path=\"url(#clip630)\" d=\"M2256.86 1454.1 Q2253.25 1454.1 2251.42 1457.66 Q2249.62 1461.2 2249.62 1468.33 Q2249.62 1475.44 2251.42 1479.01 Q2253.25 1482.55 2256.86 1482.55 Q2260.5 1482.55 2262.3 1479.01 Q2264.13 1475.44 2264.13 1468.33 Q2264.13 1461.2 2262.3 1457.66 Q2260.5 1454.1 2256.86 1454.1 M2256.86 1450.39 Q2262.67 1450.39 2265.73 1455 Q2268.81 1459.58 2268.81 1468.33 Q2268.81 1477.06 2265.73 1481.67 Q2262.67 1486.25 2256.86 1486.25 Q2251.05 1486.25 2247.98 1481.67 Q2244.92 1477.06 2244.92 1468.33 Q2244.92 1459.58 2247.98 1455 Q2251.05 1450.39 2256.86 1450.39 Z\" fill=\"#000000\" fill-rule=\"evenodd\" fill-opacity=\"1\" /><path clip-path=\"url(#clip630)\" d=\"M2287.03 1454.1 Q2283.42 1454.1 2281.59 1457.66 Q2279.78 1461.2 2279.78 1468.33 Q2279.78 1475.44 2281.59 1479.01 Q2283.42 1482.55 2287.03 1482.55 Q2290.66 1482.55 2292.47 1479.01 Q2294.3 1475.44 2294.3 1468.33 Q2294.3 1461.2 2292.47 1457.66 Q2290.66 1454.1 2287.03 1454.1 M2287.03 1450.39 Q2292.84 1450.39 2295.89 1455 Q2298.97 1459.58 2298.97 1468.33 Q2298.97 1477.06 2295.89 1481.67 Q2292.84 1486.25 2287.03 1486.25 Q2281.22 1486.25 2278.14 1481.67 Q2275.08 1477.06 2275.08 1468.33 Q2275.08 1459.58 2278.14 1455 Q2281.22 1450.39 2287.03 1450.39 Z\" fill=\"#000000\" fill-rule=\"evenodd\" fill-opacity=\"1\" /><path clip-path=\"url(#clip630)\" d=\"M941.475 1525.81 L941.475 1562.76 L949.241 1562.76 Q959.076 1562.76 963.628 1558.3 Q968.211 1553.85 968.211 1544.24 Q968.211 1534.69 963.628 1530.26 Q959.076 1525.81 949.241 1525.81 L941.475 1525.81 M935.046 1520.52 L948.254 1520.52 Q962.068 1520.52 968.529 1526.28 Q974.99 1532.01 974.99 1544.24 Q974.99 1556.52 968.497 1562.28 Q962.004 1568.04 948.254 1568.04 L935.046 1568.04 L935.046 1520.52 Z\" fill=\"#000000\" fill-rule=\"evenodd\" fill-opacity=\"1\" /><path clip-path=\"url(#clip630)\" d=\"M1001.19 1550.12 Q994.088 1550.12 991.35 1551.75 Q988.613 1553.37 988.613 1557.29 Q988.613 1560.4 990.65 1562.25 Q992.719 1564.07 996.252 1564.07 Q1001.12 1564.07 1004.05 1560.63 Q1007.01 1557.16 1007.01 1551.43 L1007.01 1550.12 L1001.19 1550.12 M1012.87 1547.71 L1012.87 1568.04 L1007.01 1568.04 L1007.01 1562.63 Q1005 1565.88 1002.01 1567.44 Q999.021 1568.97 994.692 1568.97 Q989.218 1568.97 985.971 1565.91 Q982.757 1562.82 982.757 1557.67 Q982.757 1551.65 986.767 1548.6 Q990.809 1545.54 998.798 1545.54 L1007.01 1545.54 L1007.01 1544.97 Q1007.01 1540.93 1004.34 1538.73 Q1001.69 1536.5 996.888 1536.5 Q993.833 1536.5 990.937 1537.23 Q988.04 1537.97 985.367 1539.43 L985.367 1534.02 Q988.581 1532.78 991.605 1532.17 Q994.629 1531.54 997.493 1531.54 Q1005.23 1531.54 1009.05 1535.55 Q1012.87 1539.56 1012.87 1547.71 Z\" fill=\"#000000\" fill-rule=\"evenodd\" fill-opacity=\"1\" /><path clip-path=\"url(#clip630)\" d=\"M1039.76 1571.35 Q1037.28 1577.72 1034.92 1579.66 Q1032.57 1581.6 1028.62 1581.6 L1023.94 1581.6 L1023.94 1576.7 L1027.38 1576.7 Q1029.8 1576.7 1031.14 1575.56 Q1032.47 1574.41 1034.1 1570.14 L1035.15 1567.47 L1020.73 1532.4 L1026.93 1532.4 L1038.07 1560.28 L1049.21 1532.4 L1055.42 1532.4 L1039.76 1571.35 Z\" fill=\"#000000\" fill-rule=\"evenodd\" fill-opacity=\"1\" /><path clip-path=\"url(#clip630)\" d=\"M1086.23 1533.45 L1086.23 1538.98 Q1083.75 1537.71 1081.07 1537.07 Q1078.4 1536.44 1075.54 1536.44 Q1071.18 1536.44 1068.98 1537.77 Q1066.82 1539.11 1066.82 1541.79 Q1066.82 1543.82 1068.38 1545 Q1069.93 1546.15 1074.65 1547.2 L1076.65 1547.64 Q1082.89 1548.98 1085.5 1551.43 Q1088.14 1553.85 1088.14 1558.21 Q1088.14 1563.17 1084.19 1566.07 Q1080.28 1568.97 1073.4 1568.97 Q1070.54 1568.97 1067.42 1568.39 Q1064.33 1567.85 1060.9 1566.74 L1060.9 1560.69 Q1064.14 1562.38 1067.29 1563.24 Q1070.44 1564.07 1073.53 1564.07 Q1077.67 1564.07 1079.9 1562.66 Q1082.13 1561.23 1082.13 1558.65 Q1082.13 1556.27 1080.5 1554.99 Q1078.91 1553.72 1073.47 1552.54 L1071.43 1552.07 Q1065.99 1550.92 1063.57 1548.56 Q1061.15 1546.18 1061.15 1542.04 Q1061.15 1537.01 1064.72 1534.27 Q1068.28 1531.54 1074.84 1531.54 Q1078.08 1531.54 1080.95 1532.01 Q1083.81 1532.49 1086.23 1533.45 Z\" fill=\"#000000\" fill-rule=\"evenodd\" fill-opacity=\"1\" /><path clip-path=\"url(#clip630)\" d=\"M1140.91 1533.45 L1140.91 1538.98 Q1138.43 1537.71 1135.76 1537.07 Q1133.08 1536.44 1130.22 1536.44 Q1125.86 1536.44 1123.66 1537.77 Q1121.5 1539.11 1121.5 1541.79 Q1121.5 1543.82 1123.06 1545 Q1124.62 1546.15 1129.33 1547.2 L1131.33 1547.64 Q1137.57 1548.98 1140.18 1551.43 Q1142.82 1553.85 1142.82 1558.21 Q1142.82 1563.17 1138.88 1566.07 Q1134.96 1568.97 1128.09 1568.97 Q1125.22 1568.97 1122.1 1568.39 Q1119.01 1567.85 1115.58 1566.74 L1115.58 1560.69 Q1118.82 1562.38 1121.97 1563.24 Q1125.13 1564.07 1128.21 1564.07 Q1132.35 1564.07 1134.58 1562.66 Q1136.81 1561.23 1136.81 1558.65 Q1136.81 1556.27 1135.18 1554.99 Q1133.59 1553.72 1128.15 1552.54 L1126.11 1552.07 Q1120.67 1550.92 1118.25 1548.56 Q1115.83 1546.18 1115.83 1542.04 Q1115.83 1537.01 1119.4 1534.27 Q1122.96 1531.54 1129.52 1531.54 Q1132.76 1531.54 1135.63 1532.01 Q1138.49 1532.49 1140.91 1533.45 Z\" fill=\"#000000\" fill-rule=\"evenodd\" fill-opacity=\"1\" /><path clip-path=\"url(#clip630)\" d=\"M1152.15 1532.4 L1158 1532.4 L1158 1568.04 L1152.15 1568.04 L1152.15 1532.4 M1152.15 1518.52 L1158 1518.52 L1158 1525.93 L1152.15 1525.93 L1152.15 1518.52 Z\" fill=\"#000000\" fill-rule=\"evenodd\" fill-opacity=\"1\" /><path clip-path=\"url(#clip630)\" d=\"M1199.89 1546.53 L1199.89 1568.04 L1194.03 1568.04 L1194.03 1546.72 Q1194.03 1541.66 1192.06 1539.14 Q1190.09 1536.63 1186.14 1536.63 Q1181.4 1536.63 1178.66 1539.65 Q1175.92 1542.68 1175.92 1547.9 L1175.92 1568.04 L1170.04 1568.04 L1170.04 1532.4 L1175.92 1532.4 L1175.92 1537.93 Q1178.02 1534.72 1180.86 1533.13 Q1183.72 1531.54 1187.45 1531.54 Q1193.59 1531.54 1196.74 1535.36 Q1199.89 1539.14 1199.89 1546.53 Z\" fill=\"#000000\" fill-rule=\"evenodd\" fill-opacity=\"1\" /><path clip-path=\"url(#clip630)\" d=\"M1237.23 1533.76 L1237.23 1539.24 Q1234.74 1537.87 1232.23 1537.2 Q1229.75 1536.5 1227.2 1536.5 Q1221.5 1536.5 1218.35 1540.13 Q1215.2 1543.73 1215.2 1550.25 Q1215.2 1556.78 1218.35 1560.4 Q1221.5 1564 1227.2 1564 Q1229.75 1564 1232.23 1563.33 Q1234.74 1562.63 1237.23 1561.26 L1237.23 1566.68 Q1234.77 1567.82 1232.13 1568.39 Q1229.52 1568.97 1226.56 1568.97 Q1218.51 1568.97 1213.77 1563.91 Q1209.03 1558.85 1209.03 1550.25 Q1209.03 1541.53 1213.8 1536.53 Q1218.61 1531.54 1226.95 1531.54 Q1229.65 1531.54 1232.23 1532.11 Q1234.81 1532.65 1237.23 1533.76 Z\" fill=\"#000000\" fill-rule=\"evenodd\" fill-opacity=\"1\" /><path clip-path=\"url(#clip630)\" d=\"M1277.9 1548.76 L1277.9 1551.62 L1250.98 1551.62 Q1251.36 1557.67 1254.6 1560.85 Q1257.88 1564 1263.71 1564 Q1267.08 1564 1270.23 1563.17 Q1273.41 1562.35 1276.53 1560.69 L1276.53 1566.23 Q1273.38 1567.57 1270.07 1568.27 Q1266.76 1568.97 1263.36 1568.97 Q1254.83 1568.97 1249.83 1564 Q1244.86 1559.04 1244.86 1550.57 Q1244.86 1541.82 1249.58 1536.69 Q1254.32 1531.54 1262.34 1531.54 Q1269.53 1531.54 1273.7 1536.18 Q1277.9 1540.8 1277.9 1548.76 M1272.05 1547.04 Q1271.98 1542.23 1269.34 1539.37 Q1266.73 1536.5 1262.4 1536.5 Q1257.5 1536.5 1254.54 1539.27 Q1251.61 1542.04 1251.17 1547.07 L1272.05 1547.04 Z\" fill=\"#000000\" fill-rule=\"evenodd\" fill-opacity=\"1\" /><path clip-path=\"url(#clip630)\" d=\"M1314.6 1562.63 L1337.04 1562.63 L1337.04 1568.04 L1306.87 1568.04 L1306.87 1562.63 Q1310.53 1558.85 1316.83 1552.48 Q1323.16 1546.08 1324.79 1544.24 Q1327.87 1540.77 1329.08 1538.38 Q1330.32 1535.96 1330.32 1533.64 Q1330.32 1529.85 1327.65 1527.46 Q1325.01 1525.08 1320.74 1525.08 Q1317.72 1525.08 1314.35 1526.13 Q1311 1527.18 1307.18 1529.31 L1307.18 1522.82 Q1311.07 1521.26 1314.44 1520.46 Q1317.82 1519.66 1320.62 1519.66 Q1328 1519.66 1332.39 1523.36 Q1336.79 1527.05 1336.79 1533.22 Q1336.79 1536.15 1335.67 1538.79 Q1334.59 1541.4 1331.69 1544.97 Q1330.9 1545.89 1326.63 1550.32 Q1322.37 1554.71 1314.6 1562.63 Z\" fill=\"#000000\" fill-rule=\"evenodd\" fill-opacity=\"1\" /><path clip-path=\"url(#clip630)\" d=\"M1356.07 1562.63 L1378.51 1562.63 L1378.51 1568.04 L1348.34 1568.04 L1348.34 1562.63 Q1352 1558.85 1358.3 1552.48 Q1364.64 1546.08 1366.26 1544.24 Q1369.35 1540.77 1370.56 1538.38 Q1371.8 1535.96 1371.8 1533.64 Q1371.8 1529.85 1369.12 1527.46 Q1366.48 1525.08 1362.22 1525.08 Q1359.19 1525.08 1355.82 1526.13 Q1352.48 1527.18 1348.66 1529.31 L1348.66 1522.82 Q1352.54 1521.26 1355.91 1520.46 Q1359.29 1519.66 1362.09 1519.66 Q1369.47 1519.66 1373.87 1523.36 Q1378.26 1527.05 1378.26 1533.22 Q1378.26 1536.15 1377.14 1538.79 Q1376.06 1541.4 1373.17 1544.97 Q1372.37 1545.89 1368.1 1550.32 Q1363.84 1554.71 1356.07 1562.63 Z\" fill=\"#000000\" fill-rule=\"evenodd\" fill-opacity=\"1\" /><path clip-path=\"url(#clip630)\" d=\"M1412.16 1520.52 L1421.74 1520.52 L1433.86 1552.86 L1446.05 1520.52 L1455.63 1520.52 L1455.63 1568.04 L1449.36 1568.04 L1449.36 1526.32 L1437.11 1558.91 L1430.65 1558.91 L1418.39 1526.32 L1418.39 1568.04 L1412.16 1568.04 L1412.16 1520.52 Z\" fill=\"#000000\" fill-rule=\"evenodd\" fill-opacity=\"1\" /><path clip-path=\"url(#clip630)\" d=\"M1484.34 1550.12 Q1477.24 1550.12 1474.51 1551.75 Q1471.77 1553.37 1471.77 1557.29 Q1471.77 1560.4 1473.81 1562.25 Q1475.88 1564.07 1479.41 1564.07 Q1484.28 1564.07 1487.21 1560.63 Q1490.17 1557.16 1490.17 1551.43 L1490.17 1550.12 L1484.34 1550.12 M1496.02 1547.71 L1496.02 1568.04 L1490.17 1568.04 L1490.17 1562.63 Q1488.16 1565.88 1485.17 1567.44 Q1482.18 1568.97 1477.85 1568.97 Q1472.37 1568.97 1469.13 1565.91 Q1465.91 1562.82 1465.91 1557.67 Q1465.91 1551.65 1469.92 1548.6 Q1473.97 1545.54 1481.96 1545.54 L1490.17 1545.54 L1490.17 1544.97 Q1490.17 1540.93 1487.49 1538.73 Q1484.85 1536.5 1480.05 1536.5 Q1476.99 1536.5 1474.09 1537.23 Q1471.2 1537.97 1468.52 1539.43 L1468.52 1534.02 Q1471.74 1532.78 1474.76 1532.17 Q1477.79 1531.54 1480.65 1531.54 Q1488.38 1531.54 1492.2 1535.55 Q1496.02 1539.56 1496.02 1547.71 Z\" fill=\"#000000\" fill-rule=\"evenodd\" fill-opacity=\"1\" /><path clip-path=\"url(#clip630)\" d=\"M1528.74 1537.87 Q1527.76 1537.3 1526.58 1537.04 Q1525.43 1536.76 1524.03 1536.76 Q1519.07 1536.76 1516.39 1540 Q1513.75 1543.22 1513.75 1549.27 L1513.75 1568.04 L1507.86 1568.04 L1507.86 1532.4 L1513.75 1532.4 L1513.75 1537.93 Q1515.6 1534.69 1518.56 1533.13 Q1521.52 1531.54 1525.75 1531.54 Q1526.36 1531.54 1527.09 1531.63 Q1527.82 1531.7 1528.71 1531.85 L1528.74 1537.87 Z\" fill=\"#000000\" fill-rule=\"evenodd\" fill-opacity=\"1\" /><path clip-path=\"url(#clip630)\" d=\"M1559.11 1533.76 L1559.11 1539.24 Q1556.63 1537.87 1554.11 1537.2 Q1551.63 1536.5 1549.08 1536.5 Q1543.38 1536.5 1540.23 1540.13 Q1537.08 1543.73 1537.08 1550.25 Q1537.08 1556.78 1540.23 1560.4 Q1543.38 1564 1549.08 1564 Q1551.63 1564 1554.11 1563.33 Q1556.63 1562.63 1559.11 1561.26 L1559.11 1566.68 Q1556.66 1567.82 1554.02 1568.39 Q1551.41 1568.97 1548.45 1568.97 Q1540.39 1568.97 1535.65 1563.91 Q1530.91 1558.85 1530.91 1550.25 Q1530.91 1541.53 1535.68 1536.53 Q1540.49 1531.54 1548.83 1531.54 Q1551.53 1531.54 1554.11 1532.11 Q1556.69 1532.65 1559.11 1533.76 Z\" fill=\"#000000\" fill-rule=\"evenodd\" fill-opacity=\"1\" /><path clip-path=\"url(#clip630)\" d=\"M1598.93 1546.53 L1598.93 1568.04 L1593.07 1568.04 L1593.07 1546.72 Q1593.07 1541.66 1591.1 1539.14 Q1589.12 1536.63 1585.18 1536.63 Q1580.43 1536.63 1577.7 1539.65 Q1574.96 1542.68 1574.96 1547.9 L1574.96 1568.04 L1569.07 1568.04 L1569.07 1518.52 L1574.96 1518.52 L1574.96 1537.93 Q1577.06 1534.72 1579.89 1533.13 Q1582.76 1531.54 1586.48 1531.54 Q1592.62 1531.54 1595.77 1535.36 Q1598.93 1539.14 1598.93 1546.53 Z\" fill=\"#000000\" fill-rule=\"evenodd\" fill-opacity=\"1\" /><path clip-path=\"url(#clip630)\" d=\"M1637.69 1562.63 L1660.13 1562.63 L1660.13 1568.04 L1629.96 1568.04 L1629.96 1562.63 Q1633.62 1558.85 1639.92 1552.48 Q1646.25 1546.08 1647.88 1544.24 Q1650.96 1540.77 1652.17 1538.38 Q1653.42 1535.96 1653.42 1533.64 Q1653.42 1529.85 1650.74 1527.46 Q1648.1 1525.08 1643.84 1525.08 Q1640.81 1525.08 1637.44 1526.13 Q1634.1 1527.18 1630.28 1529.31 L1630.28 1522.82 Q1634.16 1521.26 1637.53 1520.46 Q1640.91 1519.66 1643.71 1519.66 Q1651.09 1519.66 1655.48 1523.36 Q1659.88 1527.05 1659.88 1533.22 Q1659.88 1536.15 1658.76 1538.79 Q1657.68 1541.4 1654.78 1544.97 Q1653.99 1545.89 1649.72 1550.32 Q1645.46 1554.71 1637.69 1562.63 Z\" fill=\"#000000\" fill-rule=\"evenodd\" fill-opacity=\"1\" /><path clip-path=\"url(#clip630)\" d=\"M1687.38 1524.76 Q1682.41 1524.76 1679.9 1529.66 Q1677.41 1534.53 1677.41 1544.33 Q1677.41 1554.1 1679.9 1559 Q1682.41 1563.87 1687.38 1563.87 Q1692.37 1563.87 1694.86 1559 Q1697.37 1554.1 1697.37 1544.33 Q1697.37 1534.53 1694.86 1529.66 Q1692.37 1524.76 1687.38 1524.76 M1687.38 1519.66 Q1695.37 1519.66 1699.57 1526 Q1703.8 1532.3 1703.8 1544.33 Q1703.8 1556.33 1699.57 1562.66 Q1695.37 1568.97 1687.38 1568.97 Q1679.39 1568.97 1675.15 1562.66 Q1670.95 1556.33 1670.95 1544.33 Q1670.95 1532.3 1675.15 1526 Q1679.39 1519.66 1687.38 1519.66 Z\" fill=\"#000000\" fill-rule=\"evenodd\" fill-opacity=\"1\" /><path clip-path=\"url(#clip630)\" d=\"M1716.21 1562.63 L1726.72 1562.63 L1726.72 1526.38 L1715.29 1528.67 L1715.29 1522.82 L1726.65 1520.52 L1733.08 1520.52 L1733.08 1562.63 L1743.59 1562.63 L1743.59 1568.04 L1716.21 1568.04 L1716.21 1562.63 Z\" fill=\"#000000\" fill-rule=\"evenodd\" fill-opacity=\"1\" /><path clip-path=\"url(#clip630)\" d=\"M1774.24 1526.13 L1758 1551.49 L1774.24 1551.49 L1774.24 1526.13 M1772.55 1520.52 L1780.63 1520.52 L1780.63 1551.49 L1787.41 1551.49 L1787.41 1556.84 L1780.63 1556.84 L1780.63 1568.04 L1774.24 1568.04 L1774.24 1556.84 L1752.78 1556.84 L1752.78 1550.63 L1772.55 1520.52 Z\" fill=\"#000000\" fill-rule=\"evenodd\" fill-opacity=\"1\" /><polyline clip-path=\"url(#clip630)\" style=\"stroke:#000000; stroke-linecap:butt; stroke-linejoin:round; stroke-width:4; stroke-opacity:1; fill:none\" points=\"\n",
       "  369.703,1423.18 369.703,123.472 \n",
       "  \"/>\n",
       "<polyline clip-path=\"url(#clip630)\" style=\"stroke:#000000; stroke-linecap:butt; stroke-linejoin:round; stroke-width:4; stroke-opacity:1; fill:none\" points=\"\n",
       "  369.703,1388.5 388.601,1388.5 \n",
       "  \"/>\n",
       "<polyline clip-path=\"url(#clip630)\" style=\"stroke:#000000; stroke-linecap:butt; stroke-linejoin:round; stroke-width:4; stroke-opacity:1; fill:none\" points=\"\n",
       "  369.703,1174.05 388.601,1174.05 \n",
       "  \"/>\n",
       "<polyline clip-path=\"url(#clip630)\" style=\"stroke:#000000; stroke-linecap:butt; stroke-linejoin:round; stroke-width:4; stroke-opacity:1; fill:none\" points=\"\n",
       "  369.703,959.597 388.601,959.597 \n",
       "  \"/>\n",
       "<polyline clip-path=\"url(#clip630)\" style=\"stroke:#000000; stroke-linecap:butt; stroke-linejoin:round; stroke-width:4; stroke-opacity:1; fill:none\" points=\"\n",
       "  369.703,745.147 388.601,745.147 \n",
       "  \"/>\n",
       "<polyline clip-path=\"url(#clip630)\" style=\"stroke:#000000; stroke-linecap:butt; stroke-linejoin:round; stroke-width:4; stroke-opacity:1; fill:none\" points=\"\n",
       "  369.703,530.697 388.601,530.697 \n",
       "  \"/>\n",
       "<polyline clip-path=\"url(#clip630)\" style=\"stroke:#000000; stroke-linecap:butt; stroke-linejoin:round; stroke-width:4; stroke-opacity:1; fill:none\" points=\"\n",
       "  369.703,316.247 388.601,316.247 \n",
       "  \"/>\n",
       "<path clip-path=\"url(#clip630)\" d=\"M321.759 1374.3 Q318.148 1374.3 316.319 1377.86 Q314.514 1381.4 314.514 1388.53 Q314.514 1395.64 316.319 1399.2 Q318.148 1402.74 321.759 1402.74 Q325.393 1402.74 327.199 1399.2 Q329.028 1395.64 329.028 1388.53 Q329.028 1381.4 327.199 1377.86 Q325.393 1374.3 321.759 1374.3 M321.759 1370.59 Q327.569 1370.59 330.625 1375.2 Q333.703 1379.78 333.703 1388.53 Q333.703 1397.26 330.625 1401.87 Q327.569 1406.45 321.759 1406.45 Q315.949 1406.45 312.87 1401.87 Q309.815 1397.26 309.815 1388.53 Q309.815 1379.78 312.87 1375.2 Q315.949 1370.59 321.759 1370.59 Z\" fill=\"#000000\" fill-rule=\"evenodd\" fill-opacity=\"1\" /><path clip-path=\"url(#clip630)\" d=\"M117.878 1163.21 L136.235 1163.21 L136.235 1167.15 L122.161 1167.15 L122.161 1175.62 Q123.179 1175.27 124.198 1175.11 Q125.216 1174.93 126.235 1174.93 Q132.022 1174.93 135.402 1178.1 Q138.781 1181.27 138.781 1186.69 Q138.781 1192.27 135.309 1195.37 Q131.837 1198.45 125.517 1198.45 Q123.341 1198.45 121.073 1198.08 Q118.828 1197.71 116.42 1196.96 L116.42 1192.27 Q118.503 1193.4 120.726 1193.96 Q122.948 1194.51 125.425 1194.51 Q129.429 1194.51 131.767 1192.4 Q134.105 1190.3 134.105 1186.69 Q134.105 1183.08 131.767 1180.97 Q129.429 1178.86 125.425 1178.86 Q123.55 1178.86 121.675 1179.28 Q119.823 1179.7 117.878 1180.58 L117.878 1163.21 Z\" fill=\"#000000\" fill-rule=\"evenodd\" fill-opacity=\"1\" /><path clip-path=\"url(#clip630)\" d=\"M147.994 1191.9 L152.878 1191.9 L152.878 1197.77 L147.994 1197.77 L147.994 1191.9 Z\" fill=\"#000000\" fill-rule=\"evenodd\" fill-opacity=\"1\" /><path clip-path=\"url(#clip630)\" d=\"M173.063 1166.29 Q169.452 1166.29 167.624 1169.86 Q165.818 1173.4 165.818 1180.53 Q165.818 1187.64 167.624 1191.2 Q169.452 1194.74 173.063 1194.74 Q176.698 1194.74 178.503 1191.2 Q180.332 1187.64 180.332 1180.53 Q180.332 1173.4 178.503 1169.86 Q176.698 1166.29 173.063 1166.29 M173.063 1162.59 Q178.874 1162.59 181.929 1167.2 Q185.008 1171.78 185.008 1180.53 Q185.008 1189.26 181.929 1193.86 Q178.874 1198.45 173.063 1198.45 Q167.253 1198.45 164.175 1193.86 Q161.119 1189.26 161.119 1180.53 Q161.119 1171.78 164.175 1167.2 Q167.253 1162.59 173.063 1162.59 Z\" fill=\"#000000\" fill-rule=\"evenodd\" fill-opacity=\"1\" /><path clip-path=\"url(#clip630)\" d=\"M203.225 1166.29 Q199.614 1166.29 197.785 1169.86 Q195.98 1173.4 195.98 1180.53 Q195.98 1187.64 197.785 1191.2 Q199.614 1194.74 203.225 1194.74 Q206.859 1194.74 208.665 1191.2 Q210.494 1187.64 210.494 1180.53 Q210.494 1173.4 208.665 1169.86 Q206.859 1166.29 203.225 1166.29 M203.225 1162.59 Q209.035 1162.59 212.091 1167.2 Q215.17 1171.78 215.17 1180.53 Q215.17 1189.26 212.091 1193.86 Q209.035 1198.45 203.225 1198.45 Q197.415 1198.45 194.336 1193.86 Q191.281 1189.26 191.281 1180.53 Q191.281 1171.78 194.336 1167.2 Q197.415 1162.59 203.225 1162.59 Z\" fill=\"#000000\" fill-rule=\"evenodd\" fill-opacity=\"1\" /><path clip-path=\"url(#clip630)\" d=\"M251.558 1172.31 L240.98 1182.94 L251.558 1193.52 L248.804 1196.32 L238.179 1185.69 L227.554 1196.32 L224.822 1193.52 L235.378 1182.94 L224.822 1172.31 L227.554 1169.51 L238.179 1180.14 L248.804 1169.51 L251.558 1172.31 Z\" fill=\"#000000\" fill-rule=\"evenodd\" fill-opacity=\"1\" /><path clip-path=\"url(#clip630)\" d=\"M263.919 1193.84 L271.558 1193.84 L271.558 1167.47 L263.248 1169.14 L263.248 1164.88 L271.512 1163.21 L276.188 1163.21 L276.188 1193.84 L283.827 1193.84 L283.827 1197.77 L263.919 1197.77 L263.919 1193.84 Z\" fill=\"#000000\" fill-rule=\"evenodd\" fill-opacity=\"1\" /><path clip-path=\"url(#clip630)\" d=\"M303.271 1166.29 Q299.66 1166.29 297.831 1169.86 Q296.026 1173.4 296.026 1180.53 Q296.026 1187.64 297.831 1191.2 Q299.66 1194.74 303.271 1194.74 Q306.905 1194.74 308.711 1191.2 Q310.539 1187.64 310.539 1180.53 Q310.539 1173.4 308.711 1169.86 Q306.905 1166.29 303.271 1166.29 M303.271 1162.59 Q309.081 1162.59 312.137 1167.2 Q315.215 1171.78 315.215 1180.53 Q315.215 1189.26 312.137 1193.86 Q309.081 1198.45 303.271 1198.45 Q297.461 1198.45 294.382 1193.86 Q291.327 1189.26 291.327 1180.53 Q291.327 1171.78 294.382 1167.2 Q297.461 1162.59 303.271 1162.59 Z\" fill=\"#000000\" fill-rule=\"evenodd\" fill-opacity=\"1\" /><path clip-path=\"url(#clip630)\" d=\"M327.911 1155.22 Q330.638 1155.81 332.161 1157.65 Q333.703 1159.49 333.703 1162.2 Q333.703 1166.36 330.845 1168.63 Q327.986 1170.91 322.72 1170.91 Q320.952 1170.91 319.071 1170.55 Q317.209 1170.21 315.215 1169.52 L315.215 1165.85 Q316.795 1166.77 318.676 1167.24 Q320.557 1167.71 322.607 1167.71 Q326.18 1167.71 328.042 1166.3 Q329.923 1164.89 329.923 1162.2 Q329.923 1159.72 328.174 1158.33 Q326.444 1156.92 323.34 1156.92 L320.068 1156.92 L320.068 1153.79 L323.491 1153.79 Q326.293 1153.79 327.779 1152.69 Q329.265 1151.56 329.265 1149.45 Q329.265 1147.29 327.723 1146.14 Q326.199 1144.97 323.34 1144.97 Q321.779 1144.97 319.993 1145.31 Q318.206 1145.65 316.062 1146.37 L316.062 1142.98 Q318.225 1142.38 320.105 1142.08 Q322.005 1141.78 323.679 1141.78 Q328.005 1141.78 330.525 1143.75 Q333.045 1145.71 333.045 1149.06 Q333.045 1151.39 331.71 1153 Q330.374 1154.6 327.911 1155.22 Z\" fill=\"#000000\" fill-rule=\"evenodd\" fill-opacity=\"1\" /><path clip-path=\"url(#clip630)\" d=\"M116.668 979.39 L124.306 979.39 L124.306 953.024 L115.996 954.691 L115.996 950.432 L124.26 948.765 L128.936 948.765 L128.936 979.39 L136.575 979.39 L136.575 983.325 L116.668 983.325 L116.668 979.39 Z\" fill=\"#000000\" fill-rule=\"evenodd\" fill-opacity=\"1\" /><path clip-path=\"url(#clip630)\" d=\"M146.019 977.445 L150.903 977.445 L150.903 983.325 L146.019 983.325 L146.019 977.445 Z\" fill=\"#000000\" fill-rule=\"evenodd\" fill-opacity=\"1\" /><path clip-path=\"url(#clip630)\" d=\"M171.089 951.844 Q167.477 951.844 165.649 955.408 Q163.843 958.95 163.843 966.08 Q163.843 973.186 165.649 976.751 Q167.477 980.292 171.089 980.292 Q174.723 980.292 176.528 976.751 Q178.357 973.186 178.357 966.08 Q178.357 958.95 176.528 955.408 Q174.723 951.844 171.089 951.844 M171.089 948.14 Q176.899 948.14 179.954 952.746 Q183.033 957.33 183.033 966.08 Q183.033 974.806 179.954 979.413 Q176.899 983.996 171.089 983.996 Q165.278 983.996 162.2 979.413 Q159.144 974.806 159.144 966.08 Q159.144 957.33 162.2 952.746 Q165.278 948.14 171.089 948.14 Z\" fill=\"#000000\" fill-rule=\"evenodd\" fill-opacity=\"1\" /><path clip-path=\"url(#clip630)\" d=\"M201.25 951.844 Q197.639 951.844 195.811 955.408 Q194.005 958.95 194.005 966.08 Q194.005 973.186 195.811 976.751 Q197.639 980.292 201.25 980.292 Q204.885 980.292 206.69 976.751 Q208.519 973.186 208.519 966.08 Q208.519 958.95 206.69 955.408 Q204.885 951.844 201.25 951.844 M201.25 948.14 Q207.061 948.14 210.116 952.746 Q213.195 957.33 213.195 966.08 Q213.195 974.806 210.116 979.413 Q207.061 983.996 201.25 983.996 Q195.44 983.996 192.362 979.413 Q189.306 974.806 189.306 966.08 Q189.306 957.33 192.362 952.746 Q195.44 948.14 201.25 948.14 Z\" fill=\"#000000\" fill-rule=\"evenodd\" fill-opacity=\"1\" /><path clip-path=\"url(#clip630)\" d=\"M249.584 957.862 L239.005 968.487 L249.584 979.066 L246.829 981.867 L236.204 971.242 L225.579 981.867 L222.848 979.066 L233.403 968.487 L222.848 957.862 L225.579 955.061 L236.204 965.686 L246.829 955.061 L249.584 957.862 Z\" fill=\"#000000\" fill-rule=\"evenodd\" fill-opacity=\"1\" /><path clip-path=\"url(#clip630)\" d=\"M261.945 979.39 L269.583 979.39 L269.583 953.024 L261.273 954.691 L261.273 950.432 L269.537 948.765 L274.213 948.765 L274.213 979.39 L281.852 979.39 L281.852 983.325 L261.945 983.325 L261.945 979.39 Z\" fill=\"#000000\" fill-rule=\"evenodd\" fill-opacity=\"1\" /><path clip-path=\"url(#clip630)\" d=\"M301.296 951.844 Q297.685 951.844 295.856 955.408 Q294.051 958.95 294.051 966.08 Q294.051 973.186 295.856 976.751 Q297.685 980.292 301.296 980.292 Q304.93 980.292 306.736 976.751 Q308.565 973.186 308.565 966.08 Q308.565 958.95 306.736 955.408 Q304.93 951.844 301.296 951.844 M301.296 948.14 Q307.106 948.14 310.162 952.746 Q313.241 957.33 313.241 966.08 Q313.241 974.806 310.162 979.413 Q307.106 983.996 301.296 983.996 Q295.486 983.996 292.407 979.413 Q289.352 974.806 289.352 966.08 Q289.352 957.33 292.407 952.746 Q295.486 948.14 301.296 948.14 Z\" fill=\"#000000\" fill-rule=\"evenodd\" fill-opacity=\"1\" /><path clip-path=\"url(#clip630)\" d=\"M325.917 931.145 L316.325 946.134 L325.917 946.134 L325.917 931.145 M324.92 927.834 L329.697 927.834 L329.697 946.134 L333.703 946.134 L333.703 949.294 L329.697 949.294 L329.697 955.914 L325.917 955.914 L325.917 949.294 L313.241 949.294 L313.241 945.627 L324.92 927.834 Z\" fill=\"#000000\" fill-rule=\"evenodd\" fill-opacity=\"1\" /><path clip-path=\"url(#clip630)\" d=\"M116.668 764.94 L124.306 764.94 L124.306 738.574 L115.996 740.241 L115.996 735.982 L124.26 734.315 L128.936 734.315 L128.936 764.94 L136.575 764.94 L136.575 768.875 L116.668 768.875 L116.668 764.94 Z\" fill=\"#000000\" fill-rule=\"evenodd\" fill-opacity=\"1\" /><path clip-path=\"url(#clip630)\" d=\"M146.019 762.995 L150.903 762.995 L150.903 768.875 L146.019 768.875 L146.019 762.995 Z\" fill=\"#000000\" fill-rule=\"evenodd\" fill-opacity=\"1\" /><path clip-path=\"url(#clip630)\" d=\"M161.135 734.315 L179.491 734.315 L179.491 738.25 L165.417 738.25 L165.417 746.722 Q166.436 746.375 167.454 746.213 Q168.473 746.028 169.491 746.028 Q175.278 746.028 178.658 749.199 Q182.038 752.37 182.038 757.787 Q182.038 763.366 178.565 766.467 Q175.093 769.546 168.774 769.546 Q166.598 769.546 164.329 769.176 Q162.084 768.805 159.677 768.065 L159.677 763.366 Q161.76 764.5 163.982 765.055 Q166.204 765.611 168.681 765.611 Q172.686 765.611 175.024 763.505 Q177.362 761.398 177.362 757.787 Q177.362 754.176 175.024 752.069 Q172.686 749.963 168.681 749.963 Q166.806 749.963 164.931 750.38 Q163.079 750.796 161.135 751.676 L161.135 734.315 Z\" fill=\"#000000\" fill-rule=\"evenodd\" fill-opacity=\"1\" /><path clip-path=\"url(#clip630)\" d=\"M201.25 737.394 Q197.639 737.394 195.811 740.958 Q194.005 744.5 194.005 751.63 Q194.005 758.736 195.811 762.301 Q197.639 765.842 201.25 765.842 Q204.885 765.842 206.69 762.301 Q208.519 758.736 208.519 751.63 Q208.519 744.5 206.69 740.958 Q204.885 737.394 201.25 737.394 M201.25 733.69 Q207.061 733.69 210.116 738.296 Q213.195 742.88 213.195 751.63 Q213.195 760.356 210.116 764.963 Q207.061 769.546 201.25 769.546 Q195.44 769.546 192.362 764.963 Q189.306 760.356 189.306 751.63 Q189.306 742.88 192.362 738.296 Q195.44 733.69 201.25 733.69 Z\" fill=\"#000000\" fill-rule=\"evenodd\" fill-opacity=\"1\" /><path clip-path=\"url(#clip630)\" d=\"M249.584 743.412 L239.005 754.037 L249.584 764.616 L246.829 767.417 L236.204 756.792 L225.579 767.417 L222.848 764.616 L233.403 754.037 L222.848 743.412 L225.579 740.611 L236.204 751.236 L246.829 740.611 L249.584 743.412 Z\" fill=\"#000000\" fill-rule=\"evenodd\" fill-opacity=\"1\" /><path clip-path=\"url(#clip630)\" d=\"M261.945 764.94 L269.583 764.94 L269.583 738.574 L261.273 740.241 L261.273 735.982 L269.537 734.315 L274.213 734.315 L274.213 764.94 L281.852 764.94 L281.852 768.875 L261.945 768.875 L261.945 764.94 Z\" fill=\"#000000\" fill-rule=\"evenodd\" fill-opacity=\"1\" /><path clip-path=\"url(#clip630)\" d=\"M301.296 737.394 Q297.685 737.394 295.856 740.958 Q294.051 744.5 294.051 751.63 Q294.051 758.736 295.856 762.301 Q297.685 765.842 301.296 765.842 Q304.93 765.842 306.736 762.301 Q308.565 758.736 308.565 751.63 Q308.565 744.5 306.736 740.958 Q304.93 737.394 301.296 737.394 M301.296 733.69 Q307.106 733.69 310.162 738.296 Q313.241 742.88 313.241 751.63 Q313.241 760.356 310.162 764.963 Q307.106 769.546 301.296 769.546 Q295.486 769.546 292.407 764.963 Q289.352 760.356 289.352 751.63 Q289.352 742.88 292.407 738.296 Q295.486 733.69 301.296 733.69 Z\" fill=\"#000000\" fill-rule=\"evenodd\" fill-opacity=\"1\" /><path clip-path=\"url(#clip630)\" d=\"M325.917 716.695 L316.325 731.684 L325.917 731.684 L325.917 716.695 M324.92 713.384 L329.697 713.384 L329.697 731.684 L333.703 731.684 L333.703 734.844 L329.697 734.844 L329.697 741.464 L325.917 741.464 L325.917 734.844 L313.241 734.844 L313.241 731.177 L324.92 713.384 Z\" fill=\"#000000\" fill-rule=\"evenodd\" fill-opacity=\"1\" /><path clip-path=\"url(#clip630)\" d=\"M119.885 550.49 L136.204 550.49 L136.204 554.425 L114.26 554.425 L114.26 550.49 Q116.922 547.735 121.505 543.105 Q126.112 538.453 127.292 537.11 Q129.538 534.587 130.417 532.851 Q131.32 531.092 131.32 529.402 Q131.32 526.647 129.376 524.911 Q127.455 523.175 124.353 523.175 Q122.154 523.175 119.7 523.939 Q117.269 524.703 114.492 526.254 L114.492 521.532 Q117.316 520.397 119.769 519.819 Q122.223 519.24 124.26 519.24 Q129.63 519.24 132.825 521.925 Q136.019 524.61 136.019 529.101 Q136.019 531.231 135.209 533.152 Q134.422 535.05 132.316 537.643 Q131.737 538.314 128.635 541.531 Q125.533 544.726 119.885 550.49 Z\" fill=\"#000000\" fill-rule=\"evenodd\" fill-opacity=\"1\" /><path clip-path=\"url(#clip630)\" d=\"M146.019 548.545 L150.903 548.545 L150.903 554.425 L146.019 554.425 L146.019 548.545 Z\" fill=\"#000000\" fill-rule=\"evenodd\" fill-opacity=\"1\" /><path clip-path=\"url(#clip630)\" d=\"M171.089 522.944 Q167.477 522.944 165.649 526.508 Q163.843 530.05 163.843 537.18 Q163.843 544.286 165.649 547.851 Q167.477 551.392 171.089 551.392 Q174.723 551.392 176.528 547.851 Q178.357 544.286 178.357 537.18 Q178.357 530.05 176.528 526.508 Q174.723 522.944 171.089 522.944 M171.089 519.24 Q176.899 519.24 179.954 523.846 Q183.033 528.43 183.033 537.18 Q183.033 545.906 179.954 550.513 Q176.899 555.096 171.089 555.096 Q165.278 555.096 162.2 550.513 Q159.144 545.906 159.144 537.18 Q159.144 528.43 162.2 523.846 Q165.278 519.24 171.089 519.24 Z\" fill=\"#000000\" fill-rule=\"evenodd\" fill-opacity=\"1\" /><path clip-path=\"url(#clip630)\" d=\"M201.25 522.944 Q197.639 522.944 195.811 526.508 Q194.005 530.05 194.005 537.18 Q194.005 544.286 195.811 547.851 Q197.639 551.392 201.25 551.392 Q204.885 551.392 206.69 547.851 Q208.519 544.286 208.519 537.18 Q208.519 530.05 206.69 526.508 Q204.885 522.944 201.25 522.944 M201.25 519.24 Q207.061 519.24 210.116 523.846 Q213.195 528.43 213.195 537.18 Q213.195 545.906 210.116 550.513 Q207.061 555.096 201.25 555.096 Q195.44 555.096 192.362 550.513 Q189.306 545.906 189.306 537.18 Q189.306 528.43 192.362 523.846 Q195.44 519.24 201.25 519.24 Z\" fill=\"#000000\" fill-rule=\"evenodd\" fill-opacity=\"1\" /><path clip-path=\"url(#clip630)\" d=\"M249.584 528.962 L239.005 539.587 L249.584 550.166 L246.829 552.967 L236.204 542.342 L225.579 552.967 L222.848 550.166 L233.403 539.587 L222.848 528.962 L225.579 526.161 L236.204 536.786 L246.829 526.161 L249.584 528.962 Z\" fill=\"#000000\" fill-rule=\"evenodd\" fill-opacity=\"1\" /><path clip-path=\"url(#clip630)\" d=\"M261.945 550.49 L269.583 550.49 L269.583 524.124 L261.273 525.791 L261.273 521.532 L269.537 519.865 L274.213 519.865 L274.213 550.49 L281.852 550.49 L281.852 554.425 L261.945 554.425 L261.945 550.49 Z\" fill=\"#000000\" fill-rule=\"evenodd\" fill-opacity=\"1\" /><path clip-path=\"url(#clip630)\" d=\"M301.296 522.944 Q297.685 522.944 295.856 526.508 Q294.051 530.05 294.051 537.18 Q294.051 544.286 295.856 547.851 Q297.685 551.392 301.296 551.392 Q304.93 551.392 306.736 547.851 Q308.565 544.286 308.565 537.18 Q308.565 530.05 306.736 526.508 Q304.93 522.944 301.296 522.944 M301.296 519.24 Q307.106 519.24 310.162 523.846 Q313.241 528.43 313.241 537.18 Q313.241 545.906 310.162 550.513 Q307.106 555.096 301.296 555.096 Q295.486 555.096 292.407 550.513 Q289.352 545.906 289.352 537.18 Q289.352 528.43 292.407 523.846 Q295.486 519.24 301.296 519.24 Z\" fill=\"#000000\" fill-rule=\"evenodd\" fill-opacity=\"1\" /><path clip-path=\"url(#clip630)\" d=\"M325.917 502.245 L316.325 517.234 L325.917 517.234 L325.917 502.245 M324.92 498.934 L329.697 498.934 L329.697 517.234 L333.703 517.234 L333.703 520.394 L329.697 520.394 L329.697 527.014 L325.917 527.014 L325.917 520.394 L313.241 520.394 L313.241 516.727 L324.92 498.934 Z\" fill=\"#000000\" fill-rule=\"evenodd\" fill-opacity=\"1\" /><path clip-path=\"url(#clip630)\" d=\"M119.885 336.04 L136.204 336.04 L136.204 339.975 L114.26 339.975 L114.26 336.04 Q116.922 333.285 121.505 328.655 Q126.112 324.003 127.292 322.66 Q129.538 320.137 130.417 318.401 Q131.32 316.642 131.32 314.952 Q131.32 312.197 129.376 310.461 Q127.455 308.725 124.353 308.725 Q122.154 308.725 119.7 309.489 Q117.269 310.253 114.492 311.804 L114.492 307.081 Q117.316 305.947 119.769 305.369 Q122.223 304.79 124.26 304.79 Q129.63 304.79 132.825 307.475 Q136.019 310.16 136.019 314.651 Q136.019 316.781 135.209 318.702 Q134.422 320.6 132.316 323.193 Q131.737 323.864 128.635 327.081 Q125.533 330.276 119.885 336.04 Z\" fill=\"#000000\" fill-rule=\"evenodd\" fill-opacity=\"1\" /><path clip-path=\"url(#clip630)\" d=\"M146.019 334.095 L150.903 334.095 L150.903 339.975 L146.019 339.975 L146.019 334.095 Z\" fill=\"#000000\" fill-rule=\"evenodd\" fill-opacity=\"1\" /><path clip-path=\"url(#clip630)\" d=\"M161.135 305.415 L179.491 305.415 L179.491 309.35 L165.417 309.35 L165.417 317.822 Q166.436 317.475 167.454 317.313 Q168.473 317.128 169.491 317.128 Q175.278 317.128 178.658 320.299 Q182.038 323.47 182.038 328.887 Q182.038 334.466 178.565 337.567 Q175.093 340.646 168.774 340.646 Q166.598 340.646 164.329 340.276 Q162.084 339.905 159.677 339.165 L159.677 334.466 Q161.76 335.6 163.982 336.155 Q166.204 336.711 168.681 336.711 Q172.686 336.711 175.024 334.604 Q177.362 332.498 177.362 328.887 Q177.362 325.276 175.024 323.169 Q172.686 321.063 168.681 321.063 Q166.806 321.063 164.931 321.48 Q163.079 321.896 161.135 322.776 L161.135 305.415 Z\" fill=\"#000000\" fill-rule=\"evenodd\" fill-opacity=\"1\" /><path clip-path=\"url(#clip630)\" d=\"M201.25 308.494 Q197.639 308.494 195.811 312.058 Q194.005 315.6 194.005 322.73 Q194.005 329.836 195.811 333.401 Q197.639 336.942 201.25 336.942 Q204.885 336.942 206.69 333.401 Q208.519 329.836 208.519 322.73 Q208.519 315.6 206.69 312.058 Q204.885 308.494 201.25 308.494 M201.25 304.79 Q207.061 304.79 210.116 309.396 Q213.195 313.98 213.195 322.73 Q213.195 331.456 210.116 336.063 Q207.061 340.646 201.25 340.646 Q195.44 340.646 192.362 336.063 Q189.306 331.456 189.306 322.73 Q189.306 313.98 192.362 309.396 Q195.44 304.79 201.25 304.79 Z\" fill=\"#000000\" fill-rule=\"evenodd\" fill-opacity=\"1\" /><path clip-path=\"url(#clip630)\" d=\"M249.584 314.512 L239.005 325.137 L249.584 335.716 L246.829 338.517 L236.204 327.892 L225.579 338.517 L222.848 335.716 L233.403 325.137 L222.848 314.512 L225.579 311.711 L236.204 322.336 L246.829 311.711 L249.584 314.512 Z\" fill=\"#000000\" fill-rule=\"evenodd\" fill-opacity=\"1\" /><path clip-path=\"url(#clip630)\" d=\"M261.945 336.04 L269.583 336.04 L269.583 309.674 L261.273 311.341 L261.273 307.081 L269.537 305.415 L274.213 305.415 L274.213 336.04 L281.852 336.04 L281.852 339.975 L261.945 339.975 L261.945 336.04 Z\" fill=\"#000000\" fill-rule=\"evenodd\" fill-opacity=\"1\" /><path clip-path=\"url(#clip630)\" d=\"M301.296 308.494 Q297.685 308.494 295.856 312.058 Q294.051 315.6 294.051 322.73 Q294.051 329.836 295.856 333.401 Q297.685 336.942 301.296 336.942 Q304.93 336.942 306.736 333.401 Q308.565 329.836 308.565 322.73 Q308.565 315.6 306.736 312.058 Q304.93 308.494 301.296 308.494 M301.296 304.79 Q307.106 304.79 310.162 309.396 Q313.241 313.98 313.241 322.73 Q313.241 331.456 310.162 336.063 Q307.106 340.646 301.296 340.646 Q295.486 340.646 292.407 336.063 Q289.352 331.456 289.352 322.73 Q289.352 313.98 292.407 309.396 Q295.486 304.79 301.296 304.79 Z\" fill=\"#000000\" fill-rule=\"evenodd\" fill-opacity=\"1\" /><path clip-path=\"url(#clip630)\" d=\"M325.917 287.795 L316.325 302.784 L325.917 302.784 L325.917 287.795 M324.92 284.484 L329.697 284.484 L329.697 302.784 L333.703 302.784 L333.703 305.944 L329.697 305.944 L329.697 312.564 L325.917 312.564 L325.917 305.944 L313.241 305.944 L313.241 302.277 L324.92 284.484 Z\" fill=\"#000000\" fill-rule=\"evenodd\" fill-opacity=\"1\" /><path clip-path=\"url(#clip630)\" d=\"M16.4842 1359.75 L16.4842 1319.55 L21.895 1319.55 L21.895 1336.42 L64.0042 1336.42 L64.0042 1342.88 L21.895 1342.88 L21.895 1359.75 L16.4842 1359.75 Z\" fill=\"#000000\" fill-rule=\"evenodd\" fill-opacity=\"1\" /><path clip-path=\"url(#clip630)\" d=\"M32.4621 1310.86 Q32.4621 1315.57 36.1542 1318.31 Q39.8145 1321.05 46.212 1321.05 Q52.6095 1321.05 56.3017 1318.34 Q59.9619 1315.6 59.9619 1310.86 Q59.9619 1306.18 56.2698 1303.45 Q52.5777 1300.71 46.212 1300.71 Q39.8781 1300.71 36.186 1303.45 Q32.4621 1306.18 32.4621 1310.86 M27.4968 1310.86 Q27.4968 1303.22 32.4621 1298.86 Q37.4273 1294.5 46.212 1294.5 Q54.9649 1294.5 59.9619 1298.86 Q64.9272 1303.22 64.9272 1310.86 Q64.9272 1318.53 59.9619 1322.89 Q54.9649 1327.22 46.212 1327.22 Q37.4273 1327.22 32.4621 1322.89 Q27.4968 1318.53 27.4968 1310.86 Z\" fill=\"#000000\" fill-rule=\"evenodd\" fill-opacity=\"1\" /><path clip-path=\"url(#clip630)\" d=\"M18.2347 1279 L28.3562 1279 L28.3562 1266.94 L32.9077 1266.94 L32.9077 1279 L52.2594 1279 Q56.6199 1279 57.8613 1277.82 Q59.1026 1276.61 59.1026 1272.95 L59.1026 1266.94 L64.0042 1266.94 L64.0042 1272.95 Q64.0042 1279.73 61.4897 1282.31 Q58.9434 1284.89 52.2594 1284.89 L32.9077 1284.89 L32.9077 1289.19 L28.3562 1289.19 L28.3562 1284.89 L18.2347 1284.89 L18.2347 1279 Z\" fill=\"#000000\" fill-rule=\"evenodd\" fill-opacity=\"1\" /><path clip-path=\"url(#clip630)\" d=\"M46.0847 1243.04 Q46.0847 1250.13 47.7079 1252.87 Q49.3312 1255.61 53.2461 1255.61 Q56.3653 1255.61 58.2114 1253.57 Q60.0256 1251.5 60.0256 1247.97 Q60.0256 1243.1 56.5881 1240.17 Q53.1188 1237.21 47.3897 1237.21 L46.0847 1237.21 L46.0847 1243.04 M43.6657 1231.35 L64.0042 1231.35 L64.0042 1237.21 L58.5933 1237.21 Q61.8398 1239.22 63.3994 1242.21 Q64.9272 1245.2 64.9272 1249.53 Q64.9272 1255 61.8716 1258.25 Q58.7843 1261.46 53.6281 1261.46 Q47.6125 1261.46 44.5569 1257.45 Q41.5014 1253.41 41.5014 1245.42 L41.5014 1237.21 L40.9285 1237.21 Q36.8862 1237.21 34.6901 1239.88 Q32.4621 1242.53 32.4621 1247.33 Q32.4621 1250.39 33.1941 1253.28 Q33.9262 1256.18 35.3903 1258.85 L29.9795 1258.85 Q28.7381 1255.64 28.1334 1252.62 Q27.4968 1249.59 27.4968 1246.73 Q27.4968 1238.99 31.5072 1235.17 Q35.5176 1231.35 43.6657 1231.35 Z\" fill=\"#000000\" fill-rule=\"evenodd\" fill-opacity=\"1\" /><path clip-path=\"url(#clip630)\" d=\"M14.479 1219.29 L14.479 1213.44 L64.0042 1213.44 L64.0042 1219.29 L14.479 1219.29 Z\" fill=\"#000000\" fill-rule=\"evenodd\" fill-opacity=\"1\" /><path clip-path=\"url(#clip630)\" d=\"M29.7248 1154.81 L35.1993 1154.81 Q33.8307 1157.29 33.1623 1159.8 Q32.4621 1162.29 32.4621 1164.83 Q32.4621 1170.53 36.0905 1173.68 Q39.6872 1176.83 46.212 1176.83 Q52.7369 1176.83 56.3653 1173.68 Q59.9619 1170.53 59.9619 1164.83 Q59.9619 1162.29 59.2935 1159.8 Q58.5933 1157.29 57.2247 1154.81 L62.6355 1154.81 Q63.7814 1157.26 64.3543 1159.9 Q64.9272 1162.51 64.9272 1165.47 Q64.9272 1173.52 59.8664 1178.26 Q54.8057 1183.01 46.212 1183.01 Q37.491 1183.01 32.4939 1178.23 Q27.4968 1173.43 27.4968 1165.09 Q27.4968 1162.38 28.0697 1159.8 Q28.6108 1157.23 29.7248 1154.81 Z\" fill=\"#000000\" fill-rule=\"evenodd\" fill-opacity=\"1\" /><path clip-path=\"url(#clip630)\" d=\"M46.0847 1128.42 Q46.0847 1135.52 47.7079 1138.26 Q49.3312 1140.99 53.2461 1140.99 Q56.3653 1140.99 58.2114 1138.96 Q60.0256 1136.89 60.0256 1133.35 Q60.0256 1128.48 56.5881 1125.56 Q53.1188 1122.6 47.3897 1122.6 L46.0847 1122.6 L46.0847 1128.42 M43.6657 1116.74 L64.0042 1116.74 L64.0042 1122.6 L58.5933 1122.6 Q61.8398 1124.6 63.3994 1127.59 Q64.9272 1130.59 64.9272 1134.91 Q64.9272 1140.39 61.8716 1143.64 Q58.7843 1146.85 53.6281 1146.85 Q47.6125 1146.85 44.5569 1142.84 Q41.5014 1138.8 41.5014 1130.81 L41.5014 1122.6 L40.9285 1122.6 Q36.8862 1122.6 34.6901 1125.27 Q32.4621 1127.91 32.4621 1132.72 Q32.4621 1135.77 33.1941 1138.67 Q33.9262 1141.57 35.3903 1144.24 L29.9795 1144.24 Q28.7381 1141.03 28.1334 1138 Q27.4968 1134.98 27.4968 1132.11 Q27.4968 1124.38 31.5072 1120.56 Q35.5176 1116.74 43.6657 1116.74 Z\" fill=\"#000000\" fill-rule=\"evenodd\" fill-opacity=\"1\" /><path clip-path=\"url(#clip630)\" d=\"M29.4065 1081.95 L34.9447 1081.95 Q33.6716 1084.43 33.035 1087.11 Q32.3984 1089.78 32.3984 1092.65 Q32.3984 1097.01 33.7352 1099.2 Q35.072 1101.37 37.7456 1101.37 Q39.7826 1101.37 40.9603 1099.81 Q42.1061 1098.25 43.1565 1093.54 L43.6021 1091.53 Q44.9389 1085.29 47.3897 1082.68 Q49.8086 1080.04 54.1691 1080.04 Q59.1344 1080.04 62.0308 1083.99 Q64.9272 1087.9 64.9272 1094.78 Q64.9272 1097.64 64.3543 1100.76 Q63.8132 1103.85 62.6992 1107.29 L56.6518 1107.29 Q58.3387 1104.04 59.198 1100.89 Q60.0256 1097.74 60.0256 1094.65 Q60.0256 1090.51 58.6251 1088.29 Q57.1929 1086.06 54.6147 1086.06 Q52.2276 1086.06 50.9545 1087.68 Q49.6813 1089.27 48.5037 1094.71 L48.0262 1096.75 Q46.8804 1102.19 44.5251 1104.61 Q42.138 1107.03 38.0002 1107.03 Q32.9713 1107.03 30.2341 1103.47 Q27.4968 1099.9 27.4968 1093.35 Q27.4968 1090.1 27.9743 1087.23 Q28.4517 1084.37 29.4065 1081.95 Z\" fill=\"#000000\" fill-rule=\"evenodd\" fill-opacity=\"1\" /><path clip-path=\"url(#clip630)\" d=\"M44.7161 1040.22 L47.5806 1040.22 L47.5806 1067.15 Q53.6281 1066.77 56.8109 1063.52 Q59.9619 1060.24 59.9619 1054.42 Q59.9619 1051.05 59.1344 1047.89 Q58.3069 1044.71 56.6518 1041.59 L62.1899 1041.59 Q63.5267 1044.74 64.227 1048.05 Q64.9272 1051.36 64.9272 1054.77 Q64.9272 1063.3 59.9619 1068.3 Q54.9967 1073.26 46.5303 1073.26 Q37.7774 1073.26 32.6531 1068.55 Q27.4968 1063.81 27.4968 1055.79 Q27.4968 1048.6 32.1438 1044.43 Q36.7589 1040.22 44.7161 1040.22 M42.9973 1046.08 Q38.1912 1046.14 35.3266 1048.79 Q32.4621 1051.4 32.4621 1055.72 Q32.4621 1060.63 35.2312 1063.59 Q38.0002 1066.51 43.0292 1066.96 L42.9973 1046.08 Z\" fill=\"#000000\" fill-rule=\"evenodd\" fill-opacity=\"1\" /><path clip-path=\"url(#clip630)\" d=\"M29.4065 1007.89 L34.9447 1007.89 Q33.6716 1010.37 33.035 1013.04 Q32.3984 1015.72 32.3984 1018.58 Q32.3984 1022.94 33.7352 1025.14 Q35.072 1027.3 37.7456 1027.3 Q39.7826 1027.3 40.9603 1025.74 Q42.1061 1024.18 43.1565 1019.47 L43.6021 1017.47 Q44.9389 1011.23 47.3897 1008.62 Q49.8086 1005.98 54.1691 1005.98 Q59.1344 1005.98 62.0308 1009.92 Q64.9272 1013.84 64.9272 1020.71 Q64.9272 1023.58 64.3543 1026.7 Q63.8132 1029.78 62.6992 1033.22 L56.6518 1033.22 Q58.3387 1029.98 59.198 1026.82 Q60.0256 1023.67 60.0256 1020.59 Q60.0256 1016.45 58.6251 1014.22 Q57.1929 1011.99 54.6147 1011.99 Q52.2276 1011.99 50.9545 1013.62 Q49.6813 1015.21 48.5037 1020.65 L48.0262 1022.69 Q46.8804 1028.13 44.5251 1030.55 Q42.138 1032.97 38.0002 1032.97 Q32.9713 1032.97 30.2341 1029.4 Q27.4968 1025.84 27.4968 1019.28 Q27.4968 1016.03 27.9743 1013.17 Q28.4517 1010.31 29.4065 1007.89 Z\" fill=\"#000000\" fill-rule=\"evenodd\" fill-opacity=\"1\" /><path clip-path=\"url(#clip630)\" d=\"M18.2347 970.138 L28.3562 970.138 L28.3562 958.075 L32.9077 958.075 L32.9077 970.138 L52.2594 970.138 Q56.6199 970.138 57.8613 968.96 Q59.1026 967.751 59.1026 964.09 L59.1026 958.075 L64.0042 958.075 L64.0042 964.09 Q64.0042 970.87 61.4897 973.448 Q58.9434 976.026 52.2594 976.026 L32.9077 976.026 L32.9077 980.323 L28.3562 980.323 L28.3562 976.026 L18.2347 976.026 L18.2347 970.138 Z\" fill=\"#000000\" fill-rule=\"evenodd\" fill-opacity=\"1\" /><path clip-path=\"url(#clip630)\" d=\"M32.4621 936.559 Q32.4621 941.269 36.1542 944.006 Q39.8145 946.744 46.212 946.744 Q52.6095 946.744 56.3017 944.038 Q59.9619 941.301 59.9619 936.559 Q59.9619 931.88 56.2698 929.143 Q52.5777 926.405 46.212 926.405 Q39.8781 926.405 36.186 929.143 Q32.4621 931.88 32.4621 936.559 M27.4968 936.559 Q27.4968 928.92 32.4621 924.559 Q37.4273 920.199 46.212 920.199 Q54.9649 920.199 59.9619 924.559 Q64.9272 928.92 64.9272 936.559 Q64.9272 944.229 59.9619 948.59 Q54.9649 952.918 46.212 952.918 Q37.4273 952.918 32.4621 948.59 Q27.4968 944.229 27.4968 936.559 Z\" fill=\"#000000\" fill-rule=\"evenodd\" fill-opacity=\"1\" /><path clip-path=\"url(#clip630)\" d=\"M33.7671 866.313 L14.479 866.313 L14.479 860.457 L64.0042 860.457 L64.0042 866.313 L58.657 866.313 Q61.8398 868.159 63.3994 870.992 Q64.9272 873.793 64.9272 877.739 Q64.9272 884.201 59.771 888.275 Q54.6147 892.317 46.212 892.317 Q37.8093 892.317 32.6531 888.275 Q27.4968 884.201 27.4968 877.739 Q27.4968 873.793 29.0564 870.992 Q30.5842 868.159 33.7671 866.313 M46.212 886.27 Q52.6732 886.27 56.3653 883.628 Q60.0256 880.954 60.0256 876.307 Q60.0256 871.66 56.3653 868.987 Q52.6732 866.313 46.212 866.313 Q39.7508 866.313 36.0905 868.987 Q32.3984 871.66 32.3984 876.307 Q32.3984 880.954 36.0905 883.628 Q39.7508 886.27 46.212 886.27 Z\" fill=\"#000000\" fill-rule=\"evenodd\" fill-opacity=\"1\" /><path clip-path=\"url(#clip630)\" d=\"M46.0847 832.193 Q46.0847 839.291 47.7079 842.028 Q49.3312 844.765 53.2461 844.765 Q56.3653 844.765 58.2114 842.728 Q60.0256 840.659 60.0256 837.126 Q60.0256 832.257 56.5881 829.328 Q53.1188 826.368 47.3897 826.368 L46.0847 826.368 L46.0847 832.193 M43.6657 820.512 L64.0042 820.512 L64.0042 826.368 L58.5933 826.368 Q61.8398 828.373 63.3994 831.365 Q64.9272 834.357 64.9272 838.686 Q64.9272 844.16 61.8716 847.407 Q58.7843 850.622 53.6281 850.622 Q47.6125 850.622 44.5569 846.611 Q41.5014 842.569 41.5014 834.58 L41.5014 826.368 L40.9285 826.368 Q36.8862 826.368 34.6901 829.042 Q32.4621 831.684 32.4621 836.49 Q32.4621 839.545 33.1941 842.442 Q33.9262 845.338 35.3903 848.012 L29.9795 848.012 Q28.7381 844.797 28.1334 841.773 Q27.4968 838.75 27.4968 835.885 Q27.4968 828.151 31.5072 824.331 Q35.5176 820.512 43.6657 820.512 Z\" fill=\"#000000\" fill-rule=\"evenodd\" fill-opacity=\"1\" /><path clip-path=\"url(#clip630)\" d=\"M18.2347 802.656 L28.3562 802.656 L28.3562 790.593 L32.9077 790.593 L32.9077 802.656 L52.2594 802.656 Q56.6199 802.656 57.8613 801.478 Q59.1026 800.269 59.1026 796.609 L59.1026 790.593 L64.0042 790.593 L64.0042 796.609 Q64.0042 803.388 61.4897 805.966 Q58.9434 808.544 52.2594 808.544 L32.9077 808.544 L32.9077 812.841 L28.3562 812.841 L28.3562 808.544 L18.2347 808.544 L18.2347 802.656 Z\" fill=\"#000000\" fill-rule=\"evenodd\" fill-opacity=\"1\" /><path clip-path=\"url(#clip630)\" d=\"M44.7161 752.399 L47.5806 752.399 L47.5806 779.326 Q53.6281 778.944 56.8109 775.697 Q59.9619 772.419 59.9619 766.594 Q59.9619 763.22 59.1344 760.069 Q58.3069 756.887 56.6518 753.767 L62.1899 753.767 Q63.5267 756.918 64.227 760.229 Q64.9272 763.539 64.9272 766.944 Q64.9272 775.474 59.9619 780.471 Q54.9967 785.437 46.5303 785.437 Q37.7774 785.437 32.6531 780.726 Q27.4968 775.984 27.4968 767.963 Q27.4968 760.77 32.1438 756.6 Q36.7589 752.399 44.7161 752.399 M42.9973 758.255 Q38.1912 758.319 35.3266 760.961 Q32.4621 763.571 32.4621 767.899 Q32.4621 772.801 35.2312 775.761 Q38.0002 778.689 43.0292 779.135 L42.9973 758.255 Z\" fill=\"#000000\" fill-rule=\"evenodd\" fill-opacity=\"1\" /><path clip-path=\"url(#clip630)\" d=\"M14.5426 707.998 Q21.8632 712.263 29.0246 714.332 Q36.186 716.401 43.5384 716.401 Q50.8908 716.401 58.1159 714.332 Q65.3091 712.231 72.5979 707.998 L72.5979 713.09 Q65.1182 717.865 57.8931 720.252 Q50.668 722.607 43.5384 722.607 Q36.4406 722.607 29.2474 720.252 Q22.0542 717.897 14.5426 713.09 L14.5426 707.998 Z\" fill=\"#000000\" fill-rule=\"evenodd\" fill-opacity=\"1\" /><path clip-path=\"url(#clip630)\" d=\"M18.2347 690.842 L28.3562 690.842 L28.3562 678.779 L32.9077 678.779 L32.9077 690.842 L52.2594 690.842 Q56.6199 690.842 57.8613 689.665 Q59.1026 688.455 59.1026 684.795 L59.1026 678.779 L64.0042 678.779 L64.0042 684.795 Q64.0042 691.574 61.4897 694.153 Q58.9434 696.731 52.2594 696.731 L32.9077 696.731 L32.9077 701.027 L28.3562 701.027 L28.3562 696.731 L18.2347 696.731 L18.2347 690.842 Z\" fill=\"#000000\" fill-rule=\"evenodd\" fill-opacity=\"1\" /><path clip-path=\"url(#clip630)\" d=\"M42.4881 641.444 L64.0042 641.444 L64.0042 647.301 L42.679 647.301 Q37.6183 647.301 35.1038 649.274 Q32.5894 651.248 32.5894 655.194 Q32.5894 659.937 35.6131 662.674 Q38.6368 665.411 43.8567 665.411 L64.0042 665.411 L64.0042 671.3 L14.479 671.3 L14.479 665.411 L33.8944 665.411 Q30.6797 663.311 29.0883 660.478 Q27.4968 657.613 27.4968 653.889 Q27.4968 647.747 31.3163 644.595 Q35.1038 641.444 42.4881 641.444 Z\" fill=\"#000000\" fill-rule=\"evenodd\" fill-opacity=\"1\" /><path clip-path=\"url(#clip630)\" d=\"M33.8307 609.107 Q33.2578 610.093 33.0032 611.271 Q32.7167 612.417 32.7167 613.817 Q32.7167 618.783 35.9632 621.456 Q39.1779 624.098 45.2253 624.098 L64.0042 624.098 L64.0042 629.986 L28.3562 629.986 L28.3562 624.098 L33.8944 624.098 Q30.6479 622.252 29.0883 619.292 Q27.4968 616.332 27.4968 612.099 Q27.4968 611.494 27.5923 610.762 Q27.656 610.03 27.8151 609.138 L33.8307 609.107 Z\" fill=\"#000000\" fill-rule=\"evenodd\" fill-opacity=\"1\" /><path clip-path=\"url(#clip630)\" d=\"M44.7161 573.904 L47.5806 573.904 L47.5806 600.831 Q53.6281 600.449 56.8109 597.203 Q59.9619 593.924 59.9619 588.1 Q59.9619 584.726 59.1344 581.575 Q58.3069 578.392 56.6518 575.273 L62.1899 575.273 Q63.5267 578.424 64.227 581.734 Q64.9272 585.044 64.9272 588.45 Q64.9272 596.98 59.9619 601.977 Q54.9967 606.942 46.5303 606.942 Q37.7774 606.942 32.6531 602.232 Q27.4968 597.489 27.4968 589.468 Q27.4968 582.275 32.1438 578.106 Q36.7589 573.904 44.7161 573.904 M42.9973 579.761 Q38.1912 579.824 35.3266 582.466 Q32.4621 585.076 32.4621 589.405 Q32.4621 594.306 35.2312 597.266 Q38.0002 600.195 43.0292 600.64 L42.9973 579.761 Z\" fill=\"#000000\" fill-rule=\"evenodd\" fill-opacity=\"1\" /><path clip-path=\"url(#clip630)\" d=\"M44.7161 533.8 L47.5806 533.8 L47.5806 560.727 Q53.6281 560.345 56.8109 557.099 Q59.9619 553.821 59.9619 547.996 Q59.9619 544.622 59.1344 541.471 Q58.3069 538.288 56.6518 535.169 L62.1899 535.169 Q63.5267 538.32 64.227 541.63 Q64.9272 544.94 64.9272 548.346 Q64.9272 556.876 59.9619 561.873 Q54.9967 566.838 46.5303 566.838 Q37.7774 566.838 32.6531 562.128 Q27.4968 557.385 27.4968 549.365 Q27.4968 542.171 32.1438 538.002 Q36.7589 533.8 44.7161 533.8 M42.9973 539.657 Q38.1912 539.72 35.3266 542.362 Q32.4621 544.972 32.4621 549.301 Q32.4621 554.202 35.2312 557.163 Q38.0002 560.091 43.0292 560.536 L42.9973 539.657 Z\" fill=\"#000000\" fill-rule=\"evenodd\" fill-opacity=\"1\" /><path clip-path=\"url(#clip630)\" d=\"M29.7248 477.814 L35.1993 477.814 Q33.8307 480.297 33.1623 482.811 Q32.4621 485.294 32.4621 487.84 Q32.4621 493.537 36.0905 496.688 Q39.6872 499.839 46.212 499.839 Q52.7369 499.839 56.3653 496.688 Q59.9619 493.537 59.9619 487.84 Q59.9619 485.294 59.2935 482.811 Q58.5933 480.297 57.2247 477.814 L62.6355 477.814 Q63.7814 480.265 64.3543 482.907 Q64.9272 485.516 64.9272 488.477 Q64.9272 496.529 59.8664 501.272 Q54.8057 506.014 46.212 506.014 Q37.491 506.014 32.4939 501.24 Q27.4968 496.434 27.4968 488.095 Q27.4968 485.389 28.0697 482.811 Q28.6108 480.233 29.7248 477.814 Z\" fill=\"#000000\" fill-rule=\"evenodd\" fill-opacity=\"1\" /><path clip-path=\"url(#clip630)\" d=\"M32.4621 453.815 Q32.4621 458.526 36.1542 461.263 Q39.8145 464 46.212 464 Q52.6095 464 56.3017 461.295 Q59.9619 458.558 59.9619 453.815 Q59.9619 449.136 56.2698 446.399 Q52.5777 443.662 46.212 443.662 Q39.8781 443.662 36.186 446.399 Q32.4621 449.136 32.4621 453.815 M27.4968 453.815 Q27.4968 446.176 32.4621 441.816 Q37.4273 437.455 46.212 437.455 Q54.9649 437.455 59.9619 441.816 Q64.9272 446.176 64.9272 453.815 Q64.9272 461.486 59.9619 465.846 Q54.9649 470.175 46.212 470.175 Q37.4273 470.175 32.4621 465.846 Q27.4968 461.486 27.4968 453.815 Z\" fill=\"#000000\" fill-rule=\"evenodd\" fill-opacity=\"1\" /><path clip-path=\"url(#clip630)\" d=\"M49.9359 428.352 L28.3562 428.352 L28.3562 422.496 L49.7131 422.496 Q54.7739 422.496 57.3202 420.523 Q59.8346 418.549 59.8346 414.603 Q59.8346 409.86 56.8109 407.123 Q53.7872 404.354 48.5673 404.354 L28.3562 404.354 L28.3562 398.497 L64.0042 398.497 L64.0042 404.354 L58.5296 404.354 Q61.7762 406.486 63.3676 409.319 Q64.9272 412.12 64.9272 415.844 Q64.9272 421.987 61.1078 425.17 Q57.2883 428.352 49.9359 428.352 M27.4968 413.616 L27.4968 413.616 Z\" fill=\"#000000\" fill-rule=\"evenodd\" fill-opacity=\"1\" /><path clip-path=\"url(#clip630)\" d=\"M42.4881 356.802 L64.0042 356.802 L64.0042 362.658 L42.679 362.658 Q37.6183 362.658 35.1038 364.632 Q32.5894 366.605 32.5894 370.552 Q32.5894 375.294 35.6131 378.032 Q38.6368 380.769 43.8567 380.769 L64.0042 380.769 L64.0042 386.657 L28.3562 386.657 L28.3562 380.769 L33.8944 380.769 Q30.6797 378.668 29.0883 375.835 Q27.4968 372.971 27.4968 369.247 Q27.4968 363.104 31.3163 359.953 Q35.1038 356.802 42.4881 356.802 Z\" fill=\"#000000\" fill-rule=\"evenodd\" fill-opacity=\"1\" /><path clip-path=\"url(#clip630)\" d=\"M18.2347 339.328 L28.3562 339.328 L28.3562 327.265 L32.9077 327.265 L32.9077 339.328 L52.2594 339.328 Q56.6199 339.328 57.8613 338.15 Q59.1026 336.941 59.1026 333.281 L59.1026 327.265 L64.0042 327.265 L64.0042 333.281 Q64.0042 340.06 61.4897 342.638 Q58.9434 345.216 52.2594 345.216 L32.9077 345.216 L32.9077 349.513 L28.3562 349.513 L28.3562 345.216 L18.2347 345.216 L18.2347 339.328 Z\" fill=\"#000000\" fill-rule=\"evenodd\" fill-opacity=\"1\" /><path clip-path=\"url(#clip630)\" d=\"M33.8307 298.906 Q33.2578 299.892 33.0032 301.07 Q32.7167 302.216 32.7167 303.616 Q32.7167 308.582 35.9632 311.255 Q39.1779 313.897 45.2253 313.897 L64.0042 313.897 L64.0042 319.785 L28.3562 319.785 L28.3562 313.897 L33.8944 313.897 Q30.6479 312.051 29.0883 309.091 Q27.4968 306.131 27.4968 301.898 Q27.4968 301.293 27.5923 300.561 Q27.656 299.829 27.8151 298.938 L33.8307 298.906 Z\" fill=\"#000000\" fill-rule=\"evenodd\" fill-opacity=\"1\" /><path clip-path=\"url(#clip630)\" d=\"M28.3562 292.763 L28.3562 286.906 L64.0042 286.906 L64.0042 292.763 L28.3562 292.763 M14.479 292.763 L14.479 286.906 L21.895 286.906 L21.895 292.763 L14.479 292.763 Z\" fill=\"#000000\" fill-rule=\"evenodd\" fill-opacity=\"1\" /><path clip-path=\"url(#clip630)\" d=\"M44.7161 244.161 L47.5806 244.161 L47.5806 271.088 Q53.6281 270.706 56.8109 267.459 Q59.9619 264.181 59.9619 258.356 Q59.9619 254.982 59.1344 251.831 Q58.3069 248.649 56.6518 245.529 L62.1899 245.529 Q63.5267 248.68 64.227 251.991 Q64.9272 255.301 64.9272 258.706 Q64.9272 267.236 59.9619 272.233 Q54.9967 277.199 46.5303 277.199 Q37.7774 277.199 32.6531 272.488 Q27.4968 267.746 27.4968 259.725 Q27.4968 252.532 32.1438 248.362 Q36.7589 244.161 44.7161 244.161 M42.9973 250.017 Q38.1912 250.081 35.3266 252.723 Q32.4621 255.333 32.4621 259.661 Q32.4621 264.563 35.2312 267.523 Q38.0002 270.451 43.0292 270.897 L42.9973 250.017 Z\" fill=\"#000000\" fill-rule=\"evenodd\" fill-opacity=\"1\" /><path clip-path=\"url(#clip630)\" d=\"M29.4065 211.823 L34.9447 211.823 Q33.6716 214.306 33.035 216.979 Q32.3984 219.653 32.3984 222.517 Q32.3984 226.878 33.7352 229.074 Q35.072 231.238 37.7456 231.238 Q39.7826 231.238 40.9603 229.679 Q42.1061 228.119 43.1565 223.409 L43.6021 221.403 Q44.9389 215.165 47.3897 212.555 Q49.8086 209.913 54.1691 209.913 Q59.1344 209.913 62.0308 213.86 Q64.9272 217.775 64.9272 224.65 Q64.9272 227.514 64.3543 230.634 Q63.8132 233.721 62.6992 237.158 L56.6518 237.158 Q58.3387 233.912 59.198 230.761 Q60.0256 227.61 60.0256 224.523 Q60.0256 220.385 58.6251 218.157 Q57.1929 215.929 54.6147 215.929 Q52.2276 215.929 50.9545 217.552 Q49.6813 219.143 48.5037 224.586 L48.0262 226.623 Q46.8804 232.066 44.5251 234.485 Q42.138 236.904 38.0002 236.904 Q32.9713 236.904 30.2341 233.339 Q27.4968 229.774 27.4968 223.218 Q27.4968 219.971 27.9743 217.106 Q28.4517 214.242 29.4065 211.823 Z\" fill=\"#000000\" fill-rule=\"evenodd\" fill-opacity=\"1\" /><path clip-path=\"url(#clip630)\" d=\"M14.5426 201.51 L14.5426 196.418 Q22.0542 191.644 29.2474 189.288 Q36.4406 186.901 43.5384 186.901 Q50.668 186.901 57.8931 189.288 Q65.1182 191.644 72.5979 196.418 L72.5979 201.51 Q65.3091 197.277 58.1159 195.208 Q50.8908 193.108 43.5384 193.108 Q36.186 193.108 29.0246 195.208 Q21.8632 197.277 14.5426 201.51 Z\" fill=\"#000000\" fill-rule=\"evenodd\" fill-opacity=\"1\" /><path clip-path=\"url(#clip630)\" d=\"M550.623 12.096 L558.887 12.096 L571.607 63.2184 L584.286 12.096 L593.482 12.096 L606.202 63.2184 L618.881 12.096 L627.186 12.096 L611.995 72.576 L601.705 72.576 L588.945 20.0763 L576.063 72.576 L565.774 72.576 L550.623 12.096 Z\" fill=\"#000000\" fill-rule=\"evenodd\" fill-opacity=\"1\" /><path clip-path=\"url(#clip630)\" d=\"M671.664 48.0275 L671.664 51.6733 L637.394 51.6733 Q637.88 59.3701 642.012 63.421 Q646.184 67.4314 653.597 67.4314 Q657.891 67.4314 661.902 66.3781 Q665.953 65.3249 669.923 63.2184 L669.923 70.267 Q665.912 71.9684 661.699 72.8596 Q657.486 73.7508 653.152 73.7508 Q642.295 73.7508 635.936 67.4314 Q629.616 61.1119 629.616 50.3365 Q629.616 39.1965 635.611 32.6746 Q641.647 26.1121 651.856 26.1121 Q661.011 26.1121 666.317 32.0264 Q671.664 37.9003 671.664 48.0275 M664.211 45.84 Q664.13 39.7232 660.768 36.0774 Q657.446 32.4315 651.937 32.4315 Q645.698 32.4315 641.931 35.9558 Q638.204 39.4801 637.637 45.8805 L664.211 45.84 Z\" fill=\"#000000\" fill-rule=\"evenodd\" fill-opacity=\"1\" /><path clip-path=\"url(#clip630)\" d=\"M712.822 28.5427 L712.822 35.5912 Q709.662 33.9709 706.259 33.1607 Q702.856 32.3505 699.211 32.3505 Q693.661 32.3505 690.866 34.0519 Q688.111 35.7533 688.111 39.156 Q688.111 41.7486 690.096 43.2475 Q692.081 44.7058 698.076 46.0426 L700.628 46.6097 Q708.568 48.3111 711.89 51.4303 Q715.252 54.509 715.252 60.0587 Q715.252 66.3781 710.229 70.0644 Q705.246 73.7508 696.497 73.7508 Q692.851 73.7508 688.881 73.0216 Q684.951 72.3329 680.576 70.9151 L680.576 63.2184 Q684.708 65.3654 688.719 66.4591 Q692.729 67.5124 696.659 67.5124 Q701.925 67.5124 704.76 65.73 Q707.596 63.9071 707.596 60.6258 Q707.596 57.5877 705.53 55.9673 Q703.505 54.3469 696.578 52.8481 L693.985 52.2405 Q687.058 50.7821 683.979 47.7845 Q680.901 44.7463 680.901 39.4801 Q680.901 33.0797 685.438 29.5959 Q689.975 26.1121 698.319 26.1121 Q702.451 26.1121 706.097 26.7198 Q709.743 27.3274 712.822 28.5427 Z\" fill=\"#000000\" fill-rule=\"evenodd\" fill-opacity=\"1\" /><path clip-path=\"url(#clip630)\" d=\"M734.494 14.324 L734.494 27.2059 L749.847 27.2059 L749.847 32.9987 L734.494 32.9987 L734.494 57.6282 Q734.494 63.1779 735.993 64.7578 Q737.532 66.3376 742.191 66.3376 L749.847 66.3376 L749.847 72.576 L742.191 72.576 Q733.562 72.576 730.281 69.3758 Q727 66.1351 727 57.6282 L727 32.9987 L721.531 32.9987 L721.531 27.2059 L727 27.2059 L727 14.324 L734.494 14.324 Z\" fill=\"#000000\" fill-rule=\"evenodd\" fill-opacity=\"1\" /><path clip-path=\"url(#clip630)\" d=\"M806.56 20.1573 L795.46 50.2555 L817.7 50.2555 L806.56 20.1573 M801.942 12.096 L811.218 12.096 L834.268 72.576 L825.761 72.576 L820.252 57.061 L792.989 57.061 L787.48 72.576 L778.851 72.576 L801.942 12.096 Z\" fill=\"#000000\" fill-rule=\"evenodd\" fill-opacity=\"1\" /><path clip-path=\"url(#clip630)\" d=\"M862.786 9.54393 L862.786 15.7418 L855.657 15.7418 Q851.646 15.7418 850.066 17.3622 Q848.527 18.9825 848.527 23.1955 L848.527 27.2059 L860.801 27.2059 L860.801 32.9987 L848.527 32.9987 L848.527 72.576 L841.033 72.576 L841.033 32.9987 L833.903 32.9987 L833.903 27.2059 L841.033 27.2059 L841.033 24.0462 Q841.033 16.471 844.557 13.0277 Q848.081 9.54393 855.738 9.54393 L862.786 9.54393 Z\" fill=\"#000000\" fill-rule=\"evenodd\" fill-opacity=\"1\" /><path clip-path=\"url(#clip630)\" d=\"M895.315 34.1734 Q894.059 33.4443 892.56 33.1202 Q891.102 32.7556 889.32 32.7556 Q883 32.7556 879.597 36.8875 Q876.235 40.9789 876.235 48.6757 L876.235 72.576 L868.741 72.576 L868.741 27.2059 L876.235 27.2059 L876.235 34.2544 Q878.585 30.1225 882.352 28.1376 Q886.119 26.1121 891.507 26.1121 Q892.277 26.1121 893.208 26.2337 Q894.14 26.3147 895.274 26.5172 L895.315 34.1734 Z\" fill=\"#000000\" fill-rule=\"evenodd\" fill-opacity=\"1\" /><path clip-path=\"url(#clip630)\" d=\"M903.133 27.2059 L910.587 27.2059 L910.587 72.576 L903.133 72.576 L903.133 27.2059 M903.133 9.54393 L910.587 9.54393 L910.587 18.9825 L903.133 18.9825 L903.133 9.54393 Z\" fill=\"#000000\" fill-rule=\"evenodd\" fill-opacity=\"1\" /><path clip-path=\"url(#clip630)\" d=\"M958.833 28.9478 L958.833 35.9153 Q955.673 34.1734 952.473 33.3227 Q949.313 32.4315 946.073 32.4315 Q938.822 32.4315 934.811 37.0496 Q930.801 41.6271 930.801 49.9314 Q930.801 58.2358 934.811 62.8538 Q938.822 67.4314 946.073 67.4314 Q949.313 67.4314 952.473 66.5807 Q955.673 65.6895 958.833 63.9476 L958.833 70.8341 Q955.714 72.2924 952.352 73.0216 Q949.03 73.7508 945.263 73.7508 Q935.014 73.7508 928.978 67.3098 Q922.942 60.8689 922.942 49.9314 Q922.942 38.832 929.018 32.472 Q935.135 26.1121 945.749 26.1121 Q949.192 26.1121 952.473 26.8413 Q955.754 27.5299 958.833 28.9478 Z\" fill=\"#000000\" fill-rule=\"evenodd\" fill-opacity=\"1\" /><path clip-path=\"url(#clip630)\" d=\"M992.415 49.7694 Q983.382 49.7694 979.898 51.8354 Q976.414 53.9013 976.414 58.8839 Q976.414 62.8538 979.007 65.2034 Q981.64 67.5124 986.136 67.5124 Q992.334 67.5124 996.061 63.1374 Q999.828 58.7219 999.828 51.4303 L999.828 49.7694 L992.415 49.7694 M1007.28 46.6907 L1007.28 72.576 L999.828 72.576 L999.828 65.6895 Q997.276 69.8214 993.468 71.8063 Q989.66 73.7508 984.151 73.7508 Q977.184 73.7508 973.052 69.8619 Q968.96 65.9325 968.96 59.3701 Q968.96 51.7138 974.064 47.825 Q979.209 43.9361 989.377 43.9361 L999.828 43.9361 L999.828 43.2069 Q999.828 38.0623 996.425 35.2672 Q993.063 32.4315 986.946 32.4315 Q983.058 32.4315 979.371 33.3632 Q975.685 34.295 972.282 36.1584 L972.282 29.2718 Q976.374 27.692 980.222 26.9223 Q984.07 26.1121 987.716 26.1121 Q997.56 26.1121 1002.42 31.2163 Q1007.28 36.3204 1007.28 46.6907 Z\" fill=\"#000000\" fill-rule=\"evenodd\" fill-opacity=\"1\" /><path clip-path=\"url(#clip630)\" d=\"M1060.35 45.1919 L1060.35 72.576 L1052.9 72.576 L1052.9 45.4349 Q1052.9 38.994 1050.38 35.7938 Q1047.87 32.5936 1042.85 32.5936 Q1036.81 32.5936 1033.33 36.4419 Q1029.85 40.2903 1029.85 46.9338 L1029.85 72.576 L1022.35 72.576 L1022.35 27.2059 L1029.85 27.2059 L1029.85 34.2544 Q1032.52 30.163 1036.12 28.1376 Q1039.77 26.1121 1044.51 26.1121 Q1052.33 26.1121 1056.34 30.9732 Q1060.35 35.7938 1060.35 45.1919 Z\" fill=\"#000000\" fill-rule=\"evenodd\" fill-opacity=\"1\" /><path clip-path=\"url(#clip630)\" d=\"M1101.91 12.096 L1140.15 12.096 L1140.15 18.9825 L1110.09 18.9825 L1110.09 36.8875 L1138.9 36.8875 L1138.9 43.7741 L1110.09 43.7741 L1110.09 65.6895 L1140.88 65.6895 L1140.88 72.576 L1101.91 72.576 L1101.91 12.096 Z\" fill=\"#000000\" fill-rule=\"evenodd\" fill-opacity=\"1\" /><path clip-path=\"url(#clip630)\" d=\"M1169.93 72.576 L1146.84 12.096 L1155.38 12.096 L1174.54 63.0159 L1193.75 12.096 L1202.25 12.096 L1179.2 72.576 L1169.93 72.576 Z\" fill=\"#000000\" fill-rule=\"evenodd\" fill-opacity=\"1\" /><path clip-path=\"url(#clip630)\" d=\"M1219.27 18.8205 L1219.27 65.8515 L1229.15 65.8515 Q1241.67 65.8515 1247.46 60.1802 Q1253.29 54.509 1253.29 42.2752 Q1253.29 30.1225 1247.46 24.4918 Q1241.67 18.8205 1229.15 18.8205 L1219.27 18.8205 M1211.08 12.096 L1227.89 12.096 Q1245.48 12.096 1253.7 19.4281 Q1261.92 26.7198 1261.92 42.2752 Q1261.92 57.9117 1253.66 65.2439 Q1245.39 72.576 1227.89 72.576 L1211.08 72.576 L1211.08 12.096 Z\" fill=\"#000000\" fill-rule=\"evenodd\" fill-opacity=\"1\" /><path clip-path=\"url(#clip630)\" d=\"M1339.82 48.0275 L1339.82 51.6733 L1305.55 51.6733 Q1306.04 59.3701 1310.17 63.421 Q1314.34 67.4314 1321.75 67.4314 Q1326.05 67.4314 1330.06 66.3781 Q1334.11 65.3249 1338.08 63.2184 L1338.08 70.267 Q1334.07 71.9684 1329.86 72.8596 Q1325.64 73.7508 1321.31 73.7508 Q1310.45 73.7508 1304.09 67.4314 Q1297.77 61.1119 1297.77 50.3365 Q1297.77 39.1965 1303.77 32.6746 Q1309.8 26.1121 1320.01 26.1121 Q1329.17 26.1121 1334.47 32.0264 Q1339.82 37.9003 1339.82 48.0275 M1332.37 45.84 Q1332.29 39.7232 1328.92 36.0774 Q1325.6 32.4315 1320.09 32.4315 Q1313.85 32.4315 1310.09 35.9558 Q1306.36 39.4801 1305.79 45.8805 L1332.37 45.84 Z\" fill=\"#000000\" fill-rule=\"evenodd\" fill-opacity=\"1\" /><path clip-path=\"url(#clip630)\" d=\"M1359.26 65.7705 L1359.26 89.8329 L1351.77 89.8329 L1351.77 27.2059 L1359.26 27.2059 L1359.26 34.0924 Q1361.61 30.0415 1365.18 28.0971 Q1368.78 26.1121 1373.77 26.1121 Q1382.03 26.1121 1387.18 32.6746 Q1392.36 39.2371 1392.36 49.9314 Q1392.36 60.6258 1387.18 67.1883 Q1382.03 73.7508 1373.77 73.7508 Q1368.78 73.7508 1365.18 71.8063 Q1361.61 69.8214 1359.26 65.7705 M1384.62 49.9314 Q1384.62 41.7081 1381.22 37.0496 Q1377.86 32.3505 1371.94 32.3505 Q1366.03 32.3505 1362.63 37.0496 Q1359.26 41.7081 1359.26 49.9314 Q1359.26 58.1548 1362.63 62.8538 Q1366.03 67.5124 1371.94 67.5124 Q1377.86 67.5124 1381.22 62.8538 Q1384.62 58.1548 1384.62 49.9314 Z\" fill=\"#000000\" fill-rule=\"evenodd\" fill-opacity=\"1\" /><path clip-path=\"url(#clip630)\" d=\"M1404.72 27.2059 L1412.17 27.2059 L1412.17 72.576 L1404.72 72.576 L1404.72 27.2059 M1404.72 9.54393 L1412.17 9.54393 L1412.17 18.9825 L1404.72 18.9825 L1404.72 9.54393 Z\" fill=\"#000000\" fill-rule=\"evenodd\" fill-opacity=\"1\" /><path clip-path=\"url(#clip630)\" d=\"M1457.62 34.0924 L1457.62 9.54393 L1465.07 9.54393 L1465.07 72.576 L1457.62 72.576 L1457.62 65.7705 Q1455.27 69.8214 1451.67 71.8063 Q1448.1 73.7508 1443.08 73.7508 Q1434.85 73.7508 1429.67 67.1883 Q1424.53 60.6258 1424.53 49.9314 Q1424.53 39.2371 1429.67 32.6746 Q1434.85 26.1121 1443.08 26.1121 Q1448.1 26.1121 1451.67 28.0971 Q1455.27 30.0415 1457.62 34.0924 M1432.22 49.9314 Q1432.22 58.1548 1435.58 62.8538 Q1438.99 67.5124 1444.9 67.5124 Q1450.82 67.5124 1454.22 62.8538 Q1457.62 58.1548 1457.62 49.9314 Q1457.62 41.7081 1454.22 37.0496 Q1450.82 32.3505 1444.9 32.3505 Q1438.99 32.3505 1435.58 37.0496 Q1432.22 41.7081 1432.22 49.9314 Z\" fill=\"#000000\" fill-rule=\"evenodd\" fill-opacity=\"1\" /><path clip-path=\"url(#clip630)\" d=\"M1519.24 48.0275 L1519.24 51.6733 L1484.96 51.6733 Q1485.45 59.3701 1489.58 63.421 Q1493.75 67.4314 1501.17 67.4314 Q1505.46 67.4314 1509.47 66.3781 Q1513.52 65.3249 1517.49 63.2184 L1517.49 70.267 Q1513.48 71.9684 1509.27 72.8596 Q1505.06 73.7508 1500.72 73.7508 Q1489.87 73.7508 1483.51 67.4314 Q1477.19 61.1119 1477.19 50.3365 Q1477.19 39.1965 1483.18 32.6746 Q1489.22 26.1121 1499.43 26.1121 Q1508.58 26.1121 1513.89 32.0264 Q1519.24 37.9003 1519.24 48.0275 M1511.78 45.84 Q1511.7 39.7232 1508.34 36.0774 Q1505.02 32.4315 1499.51 32.4315 Q1493.27 32.4315 1489.5 35.9558 Q1485.77 39.4801 1485.21 45.8805 L1511.78 45.84 Z\" fill=\"#000000\" fill-rule=\"evenodd\" fill-opacity=\"1\" /><path clip-path=\"url(#clip630)\" d=\"M1566.79 35.9153 Q1569.59 30.8922 1573.48 28.5022 Q1577.37 26.1121 1582.63 26.1121 Q1589.72 26.1121 1593.57 31.0947 Q1597.42 36.0368 1597.42 45.1919 L1597.42 72.576 L1589.92 72.576 L1589.92 45.4349 Q1589.92 38.913 1587.61 35.7533 Q1585.31 32.5936 1580.57 32.5936 Q1574.77 32.5936 1571.41 36.4419 Q1568.05 40.2903 1568.05 46.9338 L1568.05 72.576 L1560.55 72.576 L1560.55 45.4349 Q1560.55 38.8725 1558.25 35.7533 Q1555.94 32.5936 1551.12 32.5936 Q1545.4 32.5936 1542.04 36.4824 Q1538.68 40.3308 1538.68 46.9338 L1538.68 72.576 L1531.19 72.576 L1531.19 27.2059 L1538.68 27.2059 L1538.68 34.2544 Q1541.23 30.082 1544.8 28.0971 Q1548.36 26.1121 1553.26 26.1121 Q1558.2 26.1121 1561.65 28.6237 Q1565.13 31.1352 1566.79 35.9153 Z\" fill=\"#000000\" fill-rule=\"evenodd\" fill-opacity=\"1\" /><path clip-path=\"url(#clip630)\" d=\"M1612.28 27.2059 L1619.74 27.2059 L1619.74 72.576 L1612.28 72.576 L1612.28 27.2059 M1612.28 9.54393 L1619.74 9.54393 L1619.74 18.9825 L1612.28 18.9825 L1612.28 9.54393 Z\" fill=\"#000000\" fill-rule=\"evenodd\" fill-opacity=\"1\" /><path clip-path=\"url(#clip630)\" d=\"M1667.98 28.9478 L1667.98 35.9153 Q1664.82 34.1734 1661.62 33.3227 Q1658.46 32.4315 1655.22 32.4315 Q1647.97 32.4315 1643.96 37.0496 Q1639.95 41.6271 1639.95 49.9314 Q1639.95 58.2358 1643.96 62.8538 Q1647.97 67.4314 1655.22 67.4314 Q1658.46 67.4314 1661.62 66.5807 Q1664.82 65.6895 1667.98 63.9476 L1667.98 70.8341 Q1664.87 72.2924 1661.5 73.0216 Q1658.18 73.7508 1654.41 73.7508 Q1644.17 73.7508 1638.13 67.3098 Q1632.09 60.8689 1632.09 49.9314 Q1632.09 38.832 1638.17 32.472 Q1644.29 26.1121 1654.9 26.1121 Q1658.34 26.1121 1661.62 26.8413 Q1664.91 27.5299 1667.98 28.9478 Z\" fill=\"#000000\" fill-rule=\"evenodd\" fill-opacity=\"1\" /><path clip-path=\"url(#clip630)\" d=\"M1682.85 62.2867 L1691.4 62.2867 L1691.4 69.2543 L1684.76 82.2172 L1679.53 82.2172 L1682.85 69.2543 L1682.85 62.2867 Z\" fill=\"#000000\" fill-rule=\"evenodd\" fill-opacity=\"1\" /><path clip-path=\"url(#clip630)\" d=\"M1741.06 14.324 L1741.06 27.2059 L1756.42 27.2059 L1756.42 32.9987 L1741.06 32.9987 L1741.06 57.6282 Q1741.06 63.1779 1742.56 64.7578 Q1744.1 66.3376 1748.76 66.3376 L1756.42 66.3376 L1756.42 72.576 L1748.76 72.576 Q1740.13 72.576 1736.85 69.3758 Q1733.57 66.1351 1733.57 57.6282 L1733.57 32.9987 L1728.1 32.9987 L1728.1 27.2059 L1733.57 27.2059 L1733.57 14.324 L1741.06 14.324 Z\" fill=\"#000000\" fill-rule=\"evenodd\" fill-opacity=\"1\" /><path clip-path=\"url(#clip630)\" d=\"M1783.8 32.4315 Q1777.8 32.4315 1774.32 37.1306 Q1770.84 41.7891 1770.84 49.9314 Q1770.84 58.0738 1774.28 62.7728 Q1777.76 67.4314 1783.8 67.4314 Q1789.75 67.4314 1793.24 62.7323 Q1796.72 58.0333 1796.72 49.9314 Q1796.72 41.8701 1793.24 37.1711 Q1789.75 32.4315 1783.8 32.4315 M1783.8 26.1121 Q1793.52 26.1121 1799.07 32.4315 Q1804.62 38.7509 1804.62 49.9314 Q1804.62 61.0714 1799.07 67.4314 Q1793.52 73.7508 1783.8 73.7508 Q1774.04 73.7508 1768.49 67.4314 Q1762.98 61.0714 1762.98 49.9314 Q1762.98 38.7509 1768.49 32.4315 Q1774.04 26.1121 1783.8 26.1121 Z\" fill=\"#000000\" fill-rule=\"evenodd\" fill-opacity=\"1\" /><path clip-path=\"url(#clip630)\" d=\"M1824.35 14.324 L1824.35 27.2059 L1839.7 27.2059 L1839.7 32.9987 L1824.35 32.9987 L1824.35 57.6282 Q1824.35 63.1779 1825.85 64.7578 Q1827.39 66.3376 1832.05 66.3376 L1839.7 66.3376 L1839.7 72.576 L1832.05 72.576 Q1823.42 72.576 1820.14 69.3758 Q1816.86 66.1351 1816.86 57.6282 L1816.86 32.9987 L1811.39 32.9987 L1811.39 27.2059 L1816.86 27.2059 L1816.86 14.324 L1824.35 14.324 Z\" fill=\"#000000\" fill-rule=\"evenodd\" fill-opacity=\"1\" /><path clip-path=\"url(#clip630)\" d=\"M1870.12 49.7694 Q1861.09 49.7694 1857.61 51.8354 Q1854.12 53.9013 1854.12 58.8839 Q1854.12 62.8538 1856.72 65.2034 Q1859.35 67.5124 1863.85 67.5124 Q1870.04 67.5124 1873.77 63.1374 Q1877.54 58.7219 1877.54 51.4303 L1877.54 49.7694 L1870.12 49.7694 M1884.99 46.6907 L1884.99 72.576 L1877.54 72.576 L1877.54 65.6895 Q1874.99 69.8214 1871.18 71.8063 Q1867.37 73.7508 1861.86 73.7508 Q1854.89 73.7508 1850.76 69.8619 Q1846.67 65.9325 1846.67 59.3701 Q1846.67 51.7138 1851.77 47.825 Q1856.92 43.9361 1867.09 43.9361 L1877.54 43.9361 L1877.54 43.2069 Q1877.54 38.0623 1874.13 35.2672 Q1870.77 32.4315 1864.66 32.4315 Q1860.77 32.4315 1857.08 33.3632 Q1853.39 34.295 1849.99 36.1584 L1849.99 29.2718 Q1854.08 27.692 1857.93 26.9223 Q1861.78 26.1121 1865.43 26.1121 Q1875.27 26.1121 1880.13 31.2163 Q1884.99 36.3204 1884.99 46.6907 Z\" fill=\"#000000\" fill-rule=\"evenodd\" fill-opacity=\"1\" /><path clip-path=\"url(#clip630)\" d=\"M1900.34 9.54393 L1907.8 9.54393 L1907.8 72.576 L1900.34 72.576 L1900.34 9.54393 Z\" fill=\"#000000\" fill-rule=\"evenodd\" fill-opacity=\"1\" /><path clip-path=\"url(#clip630)\" d=\"M1982.42 28.9478 L1982.42 35.9153 Q1979.26 34.1734 1976.06 33.3227 Q1972.9 32.4315 1969.66 32.4315 Q1962.4 32.4315 1958.39 37.0496 Q1954.38 41.6271 1954.38 49.9314 Q1954.38 58.2358 1958.39 62.8538 Q1962.4 67.4314 1969.66 67.4314 Q1972.9 67.4314 1976.06 66.5807 Q1979.26 65.6895 1982.42 63.9476 L1982.42 70.8341 Q1979.3 72.2924 1975.93 73.0216 Q1972.61 73.7508 1968.85 73.7508 Q1958.6 73.7508 1952.56 67.3098 Q1946.52 60.8689 1946.52 49.9314 Q1946.52 38.832 1952.6 32.472 Q1958.72 26.1121 1969.33 26.1121 Q1972.77 26.1121 1976.06 26.8413 Q1979.34 27.5299 1982.42 28.9478 Z\" fill=\"#000000\" fill-rule=\"evenodd\" fill-opacity=\"1\" /><path clip-path=\"url(#clip630)\" d=\"M2016 49.7694 Q2006.96 49.7694 2003.48 51.8354 Q2000 53.9013 2000 58.8839 Q2000 62.8538 2002.59 65.2034 Q2005.22 67.5124 2009.72 67.5124 Q2015.92 67.5124 2019.64 63.1374 Q2023.41 58.7219 2023.41 51.4303 L2023.41 49.7694 L2016 49.7694 M2030.86 46.6907 L2030.86 72.576 L2023.41 72.576 L2023.41 65.6895 Q2020.86 69.8214 2017.05 71.8063 Q2013.24 73.7508 2007.73 73.7508 Q2000.77 73.7508 1996.63 69.8619 Q1992.54 65.9325 1992.54 59.3701 Q1992.54 51.7138 1997.65 47.825 Q2002.79 43.9361 2012.96 43.9361 L2023.41 43.9361 L2023.41 43.2069 Q2023.41 38.0623 2020.01 35.2672 Q2016.65 32.4315 2010.53 32.4315 Q2006.64 32.4315 2002.95 33.3632 Q1999.27 34.295 1995.86 36.1584 L1995.86 29.2718 Q1999.96 27.692 2003.8 26.9223 Q2007.65 26.1121 2011.3 26.1121 Q2021.14 26.1121 2026 31.2163 Q2030.86 36.3204 2030.86 46.6907 Z\" fill=\"#000000\" fill-rule=\"evenodd\" fill-opacity=\"1\" /><path clip-path=\"url(#clip630)\" d=\"M2075.14 28.5427 L2075.14 35.5912 Q2071.98 33.9709 2068.58 33.1607 Q2065.18 32.3505 2061.53 32.3505 Q2055.98 32.3505 2053.18 34.0519 Q2050.43 35.7533 2050.43 39.156 Q2050.43 41.7486 2052.42 43.2475 Q2054.4 44.7058 2060.4 46.0426 L2062.95 46.6097 Q2070.89 48.3111 2074.21 51.4303 Q2077.57 54.509 2077.57 60.0587 Q2077.57 66.3781 2072.55 70.0644 Q2067.57 73.7508 2058.82 73.7508 Q2055.17 73.7508 2051.2 73.0216 Q2047.27 72.3329 2042.9 70.9151 L2042.9 63.2184 Q2047.03 65.3654 2051.04 66.4591 Q2055.05 67.5124 2058.98 67.5124 Q2064.24 67.5124 2067.08 65.73 Q2069.92 63.9071 2069.92 60.6258 Q2069.92 57.5877 2067.85 55.9673 Q2065.82 54.3469 2058.9 52.8481 L2056.3 52.2405 Q2049.38 50.7821 2046.3 47.7845 Q2043.22 44.7463 2043.22 39.4801 Q2043.22 33.0797 2047.76 29.5959 Q2052.29 26.1121 2060.64 26.1121 Q2064.77 26.1121 2068.42 26.7198 Q2072.06 27.3274 2075.14 28.5427 Z\" fill=\"#000000\" fill-rule=\"evenodd\" fill-opacity=\"1\" /><path clip-path=\"url(#clip630)\" d=\"M2128.25 48.0275 L2128.25 51.6733 L2093.98 51.6733 Q2094.46 59.3701 2098.6 63.421 Q2102.77 67.4314 2110.18 67.4314 Q2114.48 67.4314 2118.49 66.3781 Q2122.54 65.3249 2126.51 63.2184 L2126.51 70.267 Q2122.5 71.9684 2118.28 72.8596 Q2114.07 73.7508 2109.74 73.7508 Q2098.88 73.7508 2092.52 67.4314 Q2086.2 61.1119 2086.2 50.3365 Q2086.2 39.1965 2092.2 32.6746 Q2098.23 26.1121 2108.44 26.1121 Q2117.59 26.1121 2122.9 32.0264 Q2128.25 37.9003 2128.25 48.0275 M2120.79 45.84 Q2120.71 39.7232 2117.35 36.0774 Q2114.03 32.4315 2108.52 32.4315 Q2102.28 32.4315 2098.51 35.9558 Q2094.79 39.4801 2094.22 45.8805 L2120.79 45.84 Z\" fill=\"#000000\" fill-rule=\"evenodd\" fill-opacity=\"1\" /><path clip-path=\"url(#clip630)\" d=\"M2169.41 28.5427 L2169.41 35.5912 Q2166.25 33.9709 2162.84 33.1607 Q2159.44 32.3505 2155.79 32.3505 Q2150.24 32.3505 2147.45 34.0519 Q2144.69 35.7533 2144.69 39.156 Q2144.69 41.7486 2146.68 43.2475 Q2148.66 44.7058 2154.66 46.0426 L2157.21 46.6097 Q2165.15 48.3111 2168.47 51.4303 Q2171.84 54.509 2171.84 60.0587 Q2171.84 66.3781 2166.81 70.0644 Q2161.83 73.7508 2153.08 73.7508 Q2149.43 73.7508 2145.46 73.0216 Q2141.54 72.3329 2137.16 70.9151 L2137.16 63.2184 Q2141.29 65.3654 2145.3 66.4591 Q2149.31 67.5124 2153.24 67.5124 Q2158.51 67.5124 2161.34 65.73 Q2164.18 63.9071 2164.18 60.6258 Q2164.18 57.5877 2162.11 55.9673 Q2160.09 54.3469 2153.16 52.8481 L2150.57 52.2405 Q2143.64 50.7821 2140.56 47.7845 Q2137.48 44.7463 2137.48 39.4801 Q2137.48 33.0797 2142.02 29.5959 Q2146.56 26.1121 2154.9 26.1121 Q2159.03 26.1121 2162.68 26.7198 Q2166.33 27.3274 2169.41 28.5427 Z\" fill=\"#000000\" fill-rule=\"evenodd\" fill-opacity=\"1\" /><polyline clip-path=\"url(#clip632)\" style=\"stroke:#808080; stroke-linecap:butt; stroke-linejoin:round; stroke-width:4; stroke-opacity:1; fill:none\" points=\"\n",
       "  2296.63,160.256 2275.27,160.385 2253.91,160.342 2232.54,161.543 2202.02,164.46 2180.66,167.162 2159.3,168.105 2116.57,170.936 2095.21,174.925 2073.84,178.141 \n",
       "  2052.48,181.272 2031.12,184.446 1988.39,189.636 1967.03,190.622 1924.3,198.386 1881.58,202.932 1860.21,205.891 1838.85,208.422 1817.49,211.467 1796.12,217.386 \n",
       "  1753.4,225.749 1710.67,234.842 1667.94,249.425 1625.22,272.971 1582.49,295.66 1539.76,323.238 1497.04,347.042 1454.31,373.763 1411.59,409.576 1368.86,443.974 \n",
       "  1326.13,478.114 1283.41,523.363 1240.68,592.244 1197.95,654.649 1161.33,732.666 1112.5,830.284 1069.77,963.414 1048.41,1004.63 1005.69,1081.02 962.959,1160.02 \n",
       "  920.233,1231.35 874.454,1293.07 853.091,1309.79 822.572,1326.86 801.209,1336.99 773.742,1346.38 737.12,1355.09 691.341,1365.85 627.252,1375.24 581.474,1377.35 \n",
       "  547.903,1378.25 496.021,1380.95 453.294,1382.92 425.828,1386.4 \n",
       "  \"/>\n",
       "<circle clip-path=\"url(#clip632)\" cx=\"2296.63\" cy=\"160.256\" r=\"10\" fill=\"#009af9\" fill-rule=\"evenodd\" fill-opacity=\"1\" stroke=\"#000000\" stroke-opacity=\"1\" stroke-width=\"3.2\"/>\n",
       "<circle clip-path=\"url(#clip632)\" cx=\"2275.27\" cy=\"160.385\" r=\"10\" fill=\"#009af9\" fill-rule=\"evenodd\" fill-opacity=\"1\" stroke=\"#000000\" stroke-opacity=\"1\" stroke-width=\"3.2\"/>\n",
       "<circle clip-path=\"url(#clip632)\" cx=\"2253.91\" cy=\"160.342\" r=\"10\" fill=\"#009af9\" fill-rule=\"evenodd\" fill-opacity=\"1\" stroke=\"#000000\" stroke-opacity=\"1\" stroke-width=\"3.2\"/>\n",
       "<circle clip-path=\"url(#clip632)\" cx=\"2232.54\" cy=\"161.543\" r=\"10\" fill=\"#009af9\" fill-rule=\"evenodd\" fill-opacity=\"1\" stroke=\"#000000\" stroke-opacity=\"1\" stroke-width=\"3.2\"/>\n",
       "<circle clip-path=\"url(#clip632)\" cx=\"2202.02\" cy=\"164.46\" r=\"10\" fill=\"#009af9\" fill-rule=\"evenodd\" fill-opacity=\"1\" stroke=\"#000000\" stroke-opacity=\"1\" stroke-width=\"3.2\"/>\n",
       "<circle clip-path=\"url(#clip632)\" cx=\"2180.66\" cy=\"167.162\" r=\"10\" fill=\"#009af9\" fill-rule=\"evenodd\" fill-opacity=\"1\" stroke=\"#000000\" stroke-opacity=\"1\" stroke-width=\"3.2\"/>\n",
       "<circle clip-path=\"url(#clip632)\" cx=\"2159.3\" cy=\"168.105\" r=\"10\" fill=\"#009af9\" fill-rule=\"evenodd\" fill-opacity=\"1\" stroke=\"#000000\" stroke-opacity=\"1\" stroke-width=\"3.2\"/>\n",
       "<circle clip-path=\"url(#clip632)\" cx=\"2116.57\" cy=\"170.936\" r=\"10\" fill=\"#009af9\" fill-rule=\"evenodd\" fill-opacity=\"1\" stroke=\"#000000\" stroke-opacity=\"1\" stroke-width=\"3.2\"/>\n",
       "<circle clip-path=\"url(#clip632)\" cx=\"2095.21\" cy=\"174.925\" r=\"10\" fill=\"#009af9\" fill-rule=\"evenodd\" fill-opacity=\"1\" stroke=\"#000000\" stroke-opacity=\"1\" stroke-width=\"3.2\"/>\n",
       "<circle clip-path=\"url(#clip632)\" cx=\"2073.84\" cy=\"178.141\" r=\"10\" fill=\"#009af9\" fill-rule=\"evenodd\" fill-opacity=\"1\" stroke=\"#000000\" stroke-opacity=\"1\" stroke-width=\"3.2\"/>\n",
       "<circle clip-path=\"url(#clip632)\" cx=\"2052.48\" cy=\"181.272\" r=\"10\" fill=\"#009af9\" fill-rule=\"evenodd\" fill-opacity=\"1\" stroke=\"#000000\" stroke-opacity=\"1\" stroke-width=\"3.2\"/>\n",
       "<circle clip-path=\"url(#clip632)\" cx=\"2031.12\" cy=\"184.446\" r=\"10\" fill=\"#009af9\" fill-rule=\"evenodd\" fill-opacity=\"1\" stroke=\"#000000\" stroke-opacity=\"1\" stroke-width=\"3.2\"/>\n",
       "<circle clip-path=\"url(#clip632)\" cx=\"1988.39\" cy=\"189.636\" r=\"10\" fill=\"#009af9\" fill-rule=\"evenodd\" fill-opacity=\"1\" stroke=\"#000000\" stroke-opacity=\"1\" stroke-width=\"3.2\"/>\n",
       "<circle clip-path=\"url(#clip632)\" cx=\"1967.03\" cy=\"190.622\" r=\"10\" fill=\"#009af9\" fill-rule=\"evenodd\" fill-opacity=\"1\" stroke=\"#000000\" stroke-opacity=\"1\" stroke-width=\"3.2\"/>\n",
       "<circle clip-path=\"url(#clip632)\" cx=\"1924.3\" cy=\"198.386\" r=\"10\" fill=\"#009af9\" fill-rule=\"evenodd\" fill-opacity=\"1\" stroke=\"#000000\" stroke-opacity=\"1\" stroke-width=\"3.2\"/>\n",
       "<circle clip-path=\"url(#clip632)\" cx=\"1881.58\" cy=\"202.932\" r=\"10\" fill=\"#009af9\" fill-rule=\"evenodd\" fill-opacity=\"1\" stroke=\"#000000\" stroke-opacity=\"1\" stroke-width=\"3.2\"/>\n",
       "<circle clip-path=\"url(#clip632)\" cx=\"1860.21\" cy=\"205.891\" r=\"10\" fill=\"#009af9\" fill-rule=\"evenodd\" fill-opacity=\"1\" stroke=\"#000000\" stroke-opacity=\"1\" stroke-width=\"3.2\"/>\n",
       "<circle clip-path=\"url(#clip632)\" cx=\"1838.85\" cy=\"208.422\" r=\"10\" fill=\"#009af9\" fill-rule=\"evenodd\" fill-opacity=\"1\" stroke=\"#000000\" stroke-opacity=\"1\" stroke-width=\"3.2\"/>\n",
       "<circle clip-path=\"url(#clip632)\" cx=\"1817.49\" cy=\"211.467\" r=\"10\" fill=\"#009af9\" fill-rule=\"evenodd\" fill-opacity=\"1\" stroke=\"#000000\" stroke-opacity=\"1\" stroke-width=\"3.2\"/>\n",
       "<circle clip-path=\"url(#clip632)\" cx=\"1796.12\" cy=\"217.386\" r=\"10\" fill=\"#009af9\" fill-rule=\"evenodd\" fill-opacity=\"1\" stroke=\"#000000\" stroke-opacity=\"1\" stroke-width=\"3.2\"/>\n",
       "<circle clip-path=\"url(#clip632)\" cx=\"1753.4\" cy=\"225.749\" r=\"10\" fill=\"#009af9\" fill-rule=\"evenodd\" fill-opacity=\"1\" stroke=\"#000000\" stroke-opacity=\"1\" stroke-width=\"3.2\"/>\n",
       "<circle clip-path=\"url(#clip632)\" cx=\"1710.67\" cy=\"234.842\" r=\"10\" fill=\"#009af9\" fill-rule=\"evenodd\" fill-opacity=\"1\" stroke=\"#000000\" stroke-opacity=\"1\" stroke-width=\"3.2\"/>\n",
       "<circle clip-path=\"url(#clip632)\" cx=\"1667.94\" cy=\"249.425\" r=\"10\" fill=\"#009af9\" fill-rule=\"evenodd\" fill-opacity=\"1\" stroke=\"#000000\" stroke-opacity=\"1\" stroke-width=\"3.2\"/>\n",
       "<circle clip-path=\"url(#clip632)\" cx=\"1625.22\" cy=\"272.971\" r=\"10\" fill=\"#009af9\" fill-rule=\"evenodd\" fill-opacity=\"1\" stroke=\"#000000\" stroke-opacity=\"1\" stroke-width=\"3.2\"/>\n",
       "<circle clip-path=\"url(#clip632)\" cx=\"1582.49\" cy=\"295.66\" r=\"10\" fill=\"#009af9\" fill-rule=\"evenodd\" fill-opacity=\"1\" stroke=\"#000000\" stroke-opacity=\"1\" stroke-width=\"3.2\"/>\n",
       "<circle clip-path=\"url(#clip632)\" cx=\"1539.76\" cy=\"323.238\" r=\"10\" fill=\"#009af9\" fill-rule=\"evenodd\" fill-opacity=\"1\" stroke=\"#000000\" stroke-opacity=\"1\" stroke-width=\"3.2\"/>\n",
       "<circle clip-path=\"url(#clip632)\" cx=\"1497.04\" cy=\"347.042\" r=\"10\" fill=\"#009af9\" fill-rule=\"evenodd\" fill-opacity=\"1\" stroke=\"#000000\" stroke-opacity=\"1\" stroke-width=\"3.2\"/>\n",
       "<circle clip-path=\"url(#clip632)\" cx=\"1454.31\" cy=\"373.763\" r=\"10\" fill=\"#009af9\" fill-rule=\"evenodd\" fill-opacity=\"1\" stroke=\"#000000\" stroke-opacity=\"1\" stroke-width=\"3.2\"/>\n",
       "<circle clip-path=\"url(#clip632)\" cx=\"1411.59\" cy=\"409.576\" r=\"10\" fill=\"#009af9\" fill-rule=\"evenodd\" fill-opacity=\"1\" stroke=\"#000000\" stroke-opacity=\"1\" stroke-width=\"3.2\"/>\n",
       "<circle clip-path=\"url(#clip632)\" cx=\"1368.86\" cy=\"443.974\" r=\"10\" fill=\"#009af9\" fill-rule=\"evenodd\" fill-opacity=\"1\" stroke=\"#000000\" stroke-opacity=\"1\" stroke-width=\"3.2\"/>\n",
       "<circle clip-path=\"url(#clip632)\" cx=\"1326.13\" cy=\"478.114\" r=\"10\" fill=\"#009af9\" fill-rule=\"evenodd\" fill-opacity=\"1\" stroke=\"#000000\" stroke-opacity=\"1\" stroke-width=\"3.2\"/>\n",
       "<circle clip-path=\"url(#clip632)\" cx=\"1283.41\" cy=\"523.363\" r=\"10\" fill=\"#009af9\" fill-rule=\"evenodd\" fill-opacity=\"1\" stroke=\"#000000\" stroke-opacity=\"1\" stroke-width=\"3.2\"/>\n",
       "<circle clip-path=\"url(#clip632)\" cx=\"1240.68\" cy=\"592.244\" r=\"10\" fill=\"#009af9\" fill-rule=\"evenodd\" fill-opacity=\"1\" stroke=\"#000000\" stroke-opacity=\"1\" stroke-width=\"3.2\"/>\n",
       "<circle clip-path=\"url(#clip632)\" cx=\"1197.95\" cy=\"654.649\" r=\"10\" fill=\"#009af9\" fill-rule=\"evenodd\" fill-opacity=\"1\" stroke=\"#000000\" stroke-opacity=\"1\" stroke-width=\"3.2\"/>\n",
       "<circle clip-path=\"url(#clip632)\" cx=\"1161.33\" cy=\"732.666\" r=\"10\" fill=\"#009af9\" fill-rule=\"evenodd\" fill-opacity=\"1\" stroke=\"#000000\" stroke-opacity=\"1\" stroke-width=\"3.2\"/>\n",
       "<circle clip-path=\"url(#clip632)\" cx=\"1112.5\" cy=\"830.284\" r=\"10\" fill=\"#009af9\" fill-rule=\"evenodd\" fill-opacity=\"1\" stroke=\"#000000\" stroke-opacity=\"1\" stroke-width=\"3.2\"/>\n",
       "<circle clip-path=\"url(#clip632)\" cx=\"1069.77\" cy=\"963.414\" r=\"10\" fill=\"#009af9\" fill-rule=\"evenodd\" fill-opacity=\"1\" stroke=\"#000000\" stroke-opacity=\"1\" stroke-width=\"3.2\"/>\n",
       "<circle clip-path=\"url(#clip632)\" cx=\"1048.41\" cy=\"1004.63\" r=\"10\" fill=\"#009af9\" fill-rule=\"evenodd\" fill-opacity=\"1\" stroke=\"#000000\" stroke-opacity=\"1\" stroke-width=\"3.2\"/>\n",
       "<circle clip-path=\"url(#clip632)\" cx=\"1005.69\" cy=\"1081.02\" r=\"10\" fill=\"#009af9\" fill-rule=\"evenodd\" fill-opacity=\"1\" stroke=\"#000000\" stroke-opacity=\"1\" stroke-width=\"3.2\"/>\n",
       "<circle clip-path=\"url(#clip632)\" cx=\"962.959\" cy=\"1160.02\" r=\"10\" fill=\"#009af9\" fill-rule=\"evenodd\" fill-opacity=\"1\" stroke=\"#000000\" stroke-opacity=\"1\" stroke-width=\"3.2\"/>\n",
       "<circle clip-path=\"url(#clip632)\" cx=\"920.233\" cy=\"1231.35\" r=\"10\" fill=\"#009af9\" fill-rule=\"evenodd\" fill-opacity=\"1\" stroke=\"#000000\" stroke-opacity=\"1\" stroke-width=\"3.2\"/>\n",
       "<circle clip-path=\"url(#clip632)\" cx=\"874.454\" cy=\"1293.07\" r=\"10\" fill=\"#009af9\" fill-rule=\"evenodd\" fill-opacity=\"1\" stroke=\"#000000\" stroke-opacity=\"1\" stroke-width=\"3.2\"/>\n",
       "<circle clip-path=\"url(#clip632)\" cx=\"853.091\" cy=\"1309.79\" r=\"10\" fill=\"#009af9\" fill-rule=\"evenodd\" fill-opacity=\"1\" stroke=\"#000000\" stroke-opacity=\"1\" stroke-width=\"3.2\"/>\n",
       "<circle clip-path=\"url(#clip632)\" cx=\"822.572\" cy=\"1326.86\" r=\"10\" fill=\"#009af9\" fill-rule=\"evenodd\" fill-opacity=\"1\" stroke=\"#000000\" stroke-opacity=\"1\" stroke-width=\"3.2\"/>\n",
       "<circle clip-path=\"url(#clip632)\" cx=\"801.209\" cy=\"1336.99\" r=\"10\" fill=\"#009af9\" fill-rule=\"evenodd\" fill-opacity=\"1\" stroke=\"#000000\" stroke-opacity=\"1\" stroke-width=\"3.2\"/>\n",
       "<circle clip-path=\"url(#clip632)\" cx=\"773.742\" cy=\"1346.38\" r=\"10\" fill=\"#009af9\" fill-rule=\"evenodd\" fill-opacity=\"1\" stroke=\"#000000\" stroke-opacity=\"1\" stroke-width=\"3.2\"/>\n",
       "<circle clip-path=\"url(#clip632)\" cx=\"737.12\" cy=\"1355.09\" r=\"10\" fill=\"#009af9\" fill-rule=\"evenodd\" fill-opacity=\"1\" stroke=\"#000000\" stroke-opacity=\"1\" stroke-width=\"3.2\"/>\n",
       "<circle clip-path=\"url(#clip632)\" cx=\"691.341\" cy=\"1365.85\" r=\"10\" fill=\"#009af9\" fill-rule=\"evenodd\" fill-opacity=\"1\" stroke=\"#000000\" stroke-opacity=\"1\" stroke-width=\"3.2\"/>\n",
       "<circle clip-path=\"url(#clip632)\" cx=\"627.252\" cy=\"1375.24\" r=\"10\" fill=\"#009af9\" fill-rule=\"evenodd\" fill-opacity=\"1\" stroke=\"#000000\" stroke-opacity=\"1\" stroke-width=\"3.2\"/>\n",
       "<circle clip-path=\"url(#clip632)\" cx=\"581.474\" cy=\"1377.35\" r=\"10\" fill=\"#009af9\" fill-rule=\"evenodd\" fill-opacity=\"1\" stroke=\"#000000\" stroke-opacity=\"1\" stroke-width=\"3.2\"/>\n",
       "<circle clip-path=\"url(#clip632)\" cx=\"547.903\" cy=\"1378.25\" r=\"10\" fill=\"#009af9\" fill-rule=\"evenodd\" fill-opacity=\"1\" stroke=\"#000000\" stroke-opacity=\"1\" stroke-width=\"3.2\"/>\n",
       "<circle clip-path=\"url(#clip632)\" cx=\"496.021\" cy=\"1380.95\" r=\"10\" fill=\"#009af9\" fill-rule=\"evenodd\" fill-opacity=\"1\" stroke=\"#000000\" stroke-opacity=\"1\" stroke-width=\"3.2\"/>\n",
       "<circle clip-path=\"url(#clip632)\" cx=\"453.294\" cy=\"1382.92\" r=\"10\" fill=\"#009af9\" fill-rule=\"evenodd\" fill-opacity=\"1\" stroke=\"#000000\" stroke-opacity=\"1\" stroke-width=\"3.2\"/>\n",
       "<circle clip-path=\"url(#clip632)\" cx=\"425.828\" cy=\"1386.4\" r=\"10\" fill=\"#009af9\" fill-rule=\"evenodd\" fill-opacity=\"1\" stroke=\"#000000\" stroke-opacity=\"1\" stroke-width=\"3.2\"/>\n",
       "</svg>\n"
      ]
     },
     "execution_count": 142,
     "metadata": {},
     "output_type": "execute_result"
    }
   ],
   "source": [
    "plot(\n",
    "    epidays,\n",
    "    allCases,\n",
    "    title = \"West African EVD epidemic, total cases\",\n",
    "    xlabel = \"Days since 22 March 2014\",\n",
    "    ylabel = \"Total cases to date (three countries)\",\n",
    "    marker = (:circle, 3),\n",
    "    line = (:path, \"gray\"),\n",
    "    legend = false,\n",
    "    grid = false\n",
    ")"
   ]
  },
  {
   "cell_type": "markdown",
   "id": "848b0d13",
   "metadata": {},
   "source": [
    "## Saving a plot\n",
    "* Use savefig()\n"
   ]
  },
  {
   "cell_type": "code",
   "execution_count": 145,
   "id": "36473879",
   "metadata": {},
   "outputs": [],
   "source": [
    "# no extension, so plot saves it as .png\n",
    "#savefig(\"WAfricanEVD_noformatspecified\")\n",
    "\n",
    "#savefig(\"WAfricanEVD.pdf\")\n",
    "savefig(\"WAfricanEVD.svg\")"
   ]
  },
  {
   "cell_type": "code",
   "execution_count": 148,
   "id": "f95a661e",
   "metadata": {},
   "outputs": [],
   "source": [
    "using Calculus"
   ]
  },
  {
   "cell_type": "code",
   "execution_count": 149,
   "id": "6b07acf7",
   "metadata": {},
   "outputs": [
    {
     "name": "stdout",
     "output_type": "stream",
     "text": [
      "search: \u001b[0m\u001b[1md\u001b[22m\u001b[0m\u001b[1me\u001b[22m\u001b[0m\u001b[1mr\u001b[22m\u001b[0m\u001b[1mi\u001b[22m\u001b[0m\u001b[1mv\u001b[22m\u001b[0m\u001b[1ma\u001b[22m\u001b[0m\u001b[1mt\u001b[22m\u001b[0m\u001b[1mi\u001b[22m\u001b[0m\u001b[1mv\u001b[22m\u001b[0m\u001b[1me\u001b[22m check_\u001b[0m\u001b[1md\u001b[22m\u001b[0m\u001b[1me\u001b[22m\u001b[0m\u001b[1mr\u001b[22m\u001b[0m\u001b[1mi\u001b[22m\u001b[0m\u001b[1mv\u001b[22m\u001b[0m\u001b[1ma\u001b[22m\u001b[0m\u001b[1mt\u001b[22m\u001b[0m\u001b[1mi\u001b[22m\u001b[0m\u001b[1mv\u001b[22m\u001b[0m\u001b[1me\u001b[22m secon\u001b[0m\u001b[1md\u001b[22m_d\u001b[0m\u001b[1me\u001b[22m\u001b[0m\u001b[1mr\u001b[22m\u001b[0m\u001b[1mi\u001b[22m\u001b[0m\u001b[1mv\u001b[22m\u001b[0m\u001b[1ma\u001b[22m\u001b[0m\u001b[1mt\u001b[22m\u001b[0m\u001b[1mi\u001b[22m\u001b[0m\u001b[1mv\u001b[22m\u001b[0m\u001b[1me\u001b[22m symbolic_\u001b[0m\u001b[1md\u001b[22m\u001b[0m\u001b[1me\u001b[22m\u001b[0m\u001b[1mr\u001b[22m\u001b[0m\u001b[1mi\u001b[22m\u001b[0m\u001b[1mv\u001b[22m\u001b[0m\u001b[1ma\u001b[22m\u001b[0m\u001b[1mt\u001b[22m\u001b[0m\u001b[1mi\u001b[22m\u001b[0m\u001b[1mv\u001b[22m\u001b[0m\u001b[1me\u001b[22ms_1arg\n",
      "\n"
     ]
    },
    {
     "data": {
      "text/latex": [
       "No documentation found.\n",
       "\n",
       "\\texttt{Calculus.derivative} is a \\texttt{Function}.\n",
       "\n",
       "\\begin{verbatim}\n",
       "# 5 methods for generic function \"derivative\":\n",
       "[1] derivative(f) in Calculus at /home/hesed/.julia/packages/Calculus/mbqhh/src/derivative.jl:11\n",
       "[2] derivative(f, x::Union{Vector{T}, T}) where T<:Number in Calculus at /home/hesed/.julia/packages/Calculus/mbqhh/src/derivative.jl:10\n",
       "[3] derivative(f, x::Union{Vector{T}, T}, dtype::Symbol) where T<:Number in Calculus at /home/hesed/.julia/packages/Calculus/mbqhh/src/derivative.jl:10\n",
       "[4] derivative(f, dtype::Symbol) in Calculus at /home/hesed/.julia/packages/Calculus/mbqhh/src/derivative.jl:11\n",
       "[5] derivative(f, ftype::Symbol, dtype::Symbol) in Calculus at /home/hesed/.julia/packages/Calculus/mbqhh/src/derivative.jl:1\n",
       "\\end{verbatim}\n"
      ],
      "text/markdown": [
       "No documentation found.\n",
       "\n",
       "`Calculus.derivative` is a `Function`.\n",
       "\n",
       "```\n",
       "# 5 methods for generic function \"derivative\":\n",
       "[1] derivative(f) in Calculus at /home/hesed/.julia/packages/Calculus/mbqhh/src/derivative.jl:11\n",
       "[2] derivative(f, x::Union{Vector{T}, T}) where T<:Number in Calculus at /home/hesed/.julia/packages/Calculus/mbqhh/src/derivative.jl:10\n",
       "[3] derivative(f, x::Union{Vector{T}, T}, dtype::Symbol) where T<:Number in Calculus at /home/hesed/.julia/packages/Calculus/mbqhh/src/derivative.jl:10\n",
       "[4] derivative(f, dtype::Symbol) in Calculus at /home/hesed/.julia/packages/Calculus/mbqhh/src/derivative.jl:11\n",
       "[5] derivative(f, ftype::Symbol, dtype::Symbol) in Calculus at /home/hesed/.julia/packages/Calculus/mbqhh/src/derivative.jl:1\n",
       "```\n"
      ],
      "text/plain": [
       "  No documentation found.\n",
       "\n",
       "  \u001b[36mCalculus.derivative\u001b[39m is a \u001b[36mFunction\u001b[39m.\n",
       "\n",
       "\u001b[36m  # 5 methods for generic function \"derivative\":\u001b[39m\n",
       "\u001b[36m  [1] derivative(f) in Calculus at /home/hesed/.julia/packages/Calculus/mbqhh/src/derivative.jl:11\u001b[39m\n",
       "\u001b[36m  [2] derivative(f, x::Union{Vector{T}, T}) where T<:Number in Calculus at /home/hesed/.julia/packages/Calculus/mbqhh/src/derivative.jl:10\u001b[39m\n",
       "\u001b[36m  [3] derivative(f, x::Union{Vector{T}, T}, dtype::Symbol) where T<:Number in Calculus at /home/hesed/.julia/packages/Calculus/mbqhh/src/derivative.jl:10\u001b[39m\n",
       "\u001b[36m  [4] derivative(f, dtype::Symbol) in Calculus at /home/hesed/.julia/packages/Calculus/mbqhh/src/derivative.jl:11\u001b[39m\n",
       "\u001b[36m  [5] derivative(f, ftype::Symbol, dtype::Symbol) in Calculus at /home/hesed/.julia/packages/Calculus/mbqhh/src/derivative.jl:1\u001b[39m"
      ]
     },
     "execution_count": 149,
     "metadata": {},
     "output_type": "execute_result"
    }
   ],
   "source": [
    "?derivative"
   ]
  },
  {
   "cell_type": "code",
   "execution_count": 150,
   "id": "0832bdad",
   "metadata": {},
   "outputs": [
    {
     "data": {
      "text/plain": [
       "f (generic function with 1 method)"
      ]
     },
     "execution_count": 150,
     "metadata": {},
     "output_type": "execute_result"
    }
   ],
   "source": [
    "f(x) = 2x^2 + 3"
   ]
  },
  {
   "cell_type": "code",
   "execution_count": 158,
   "id": "47810cba",
   "metadata": {},
   "outputs": [
    {
     "name": "stdout",
     "output_type": "stream",
     "text": [
      "search: De\u001b[0m\u001b[1ml\u001b[22m\u001b[0m\u001b[1mi\u001b[22m\u001b[0m\u001b[1mm\u001b[22m\u001b[0m\u001b[1mi\u001b[22m\u001b[0m\u001b[1mt\u001b[22medFiles portfo\u001b[0m\u001b[1ml\u001b[22m\u001b[0m\u001b[1mi\u001b[22moco\u001b[0m\u001b[1mm\u001b[22mpos\u001b[0m\u001b[1mi\u001b[22m\u001b[0m\u001b[1mt\u001b[22mion portfo\u001b[0m\u001b[1ml\u001b[22m\u001b[0m\u001b[1mi\u001b[22moco\u001b[0m\u001b[1mm\u001b[22mpos\u001b[0m\u001b[1mi\u001b[22m\u001b[0m\u001b[1mt\u001b[22mion!\n",
      "\n",
      "Couldn't find \u001b[36mlimit\u001b[39m\n",
      "Perhaps you meant xlims, xlims!, ylims, ylims!, zlims, zlims!, split or last\n"
     ]
    },
    {
     "data": {
      "text/latex": [
       "No documentation found.\n",
       "\n",
       "Binding \\texttt{limit} does not exist.\n",
       "\n"
      ],
      "text/markdown": [
       "No documentation found.\n",
       "\n",
       "Binding `limit` does not exist.\n"
      ],
      "text/plain": [
       "  No documentation found.\n",
       "\n",
       "  Binding \u001b[36mlimit\u001b[39m does not exist."
      ]
     },
     "execution_count": 158,
     "metadata": {},
     "output_type": "execute_result"
    }
   ],
   "source": [
    "?limit"
   ]
  },
  {
   "cell_type": "code",
   "execution_count": 159,
   "id": "17fe49be",
   "metadata": {
    "scrolled": true
   },
   "outputs": [
    {
     "name": "stdout",
     "output_type": "stream",
     "text": [
      "search: \u001b[0m\u001b[1mi\u001b[22m\u001b[0m\u001b[1mn\u001b[22m\u001b[0m\u001b[1mv\u001b[22m \u001b[0m\u001b[1mi\u001b[22m\u001b[0m\u001b[1mn\u001b[22m\u001b[0m\u001b[1mv\u001b[22moke \u001b[0m\u001b[1mi\u001b[22m\u001b[0m\u001b[1mn\u001b[22m\u001b[0m\u001b[1mv\u001b[22mmod \u001b[0m\u001b[1mi\u001b[22m\u001b[0m\u001b[1mn\u001b[22m\u001b[0m\u001b[1mv\u001b[22mperm \u001b[0m\u001b[1mi\u001b[22m\u001b[0m\u001b[1mn\u001b[22m\u001b[0m\u001b[1mv\u001b[22misible \u001b[0m\u001b[1mi\u001b[22m\u001b[0m\u001b[1mn\u001b[22m\u001b[0m\u001b[1mv\u001b[22mpermute! \u001b[0m\u001b[1mI\u001b[22m\u001b[0m\u001b[1mn\u001b[22m\u001b[0m\u001b[1mv\u001b[22malidStateException\n",
      "\n"
     ]
    },
    {
     "data": {
      "text/latex": [
       "\\begin{verbatim}\n",
       "inv(x)\n",
       "\\end{verbatim}\n",
       "Return the multiplicative inverse of \\texttt{x}, such that \\texttt{x*inv(x)} or \\texttt{inv(x)*x} yields \\href{@ref}{\\texttt{one(x)}} (the multiplicative identity) up to roundoff errors.\n",
       "\n",
       "If \\texttt{x} is a number, this is essentially the same as \\texttt{one(x)/x}, but for some types \\texttt{inv(x)} may be slightly more efficient.\n",
       "\n",
       "\\section{Examples}\n",
       "\\begin{verbatim}\n",
       "julia> inv(2)\n",
       "0.5\n",
       "\n",
       "julia> inv(1 + 2im)\n",
       "0.2 - 0.4im\n",
       "\n",
       "julia> inv(1 + 2im) * (1 + 2im)\n",
       "1.0 + 0.0im\n",
       "\n",
       "julia> inv(2//3)\n",
       "3//2\n",
       "\\end{verbatim}\n",
       "\\begin{quote}\n",
       "\\textbf{compat}\n",
       "\n",
       "Julia 1.2\n",
       "\n",
       "\\texttt{inv(::Missing)} requires at least Julia 1.2.\n",
       "\n",
       "\\end{quote}\n",
       "\\rule{\\textwidth}{1pt}\n",
       "\\begin{verbatim}\n",
       "inv(M)\n",
       "\\end{verbatim}\n",
       "Matrix inverse. Computes matrix \\texttt{N} such that \\texttt{M * N = I}, where \\texttt{I} is the identity matrix. Computed by solving the left-division \\texttt{N = M {\\textbackslash} I}.\n",
       "\n",
       "\\section{Examples}\n",
       "\\begin{verbatim}\n",
       "julia> M = [2 5; 1 3]\n",
       "2×2 Matrix{Int64}:\n",
       " 2  5\n",
       " 1  3\n",
       "\n",
       "julia> N = inv(M)\n",
       "2×2 Matrix{Float64}:\n",
       "  3.0  -5.0\n",
       " -1.0   2.0\n",
       "\n",
       "julia> M*N == N*M == Matrix(I, 2, 2)\n",
       "true\n",
       "\\end{verbatim}\n"
      ],
      "text/markdown": [
       "```\n",
       "inv(x)\n",
       "```\n",
       "\n",
       "Return the multiplicative inverse of `x`, such that `x*inv(x)` or `inv(x)*x` yields [`one(x)`](@ref) (the multiplicative identity) up to roundoff errors.\n",
       "\n",
       "If `x` is a number, this is essentially the same as `one(x)/x`, but for some types `inv(x)` may be slightly more efficient.\n",
       "\n",
       "# Examples\n",
       "\n",
       "```jldoctest\n",
       "julia> inv(2)\n",
       "0.5\n",
       "\n",
       "julia> inv(1 + 2im)\n",
       "0.2 - 0.4im\n",
       "\n",
       "julia> inv(1 + 2im) * (1 + 2im)\n",
       "1.0 + 0.0im\n",
       "\n",
       "julia> inv(2//3)\n",
       "3//2\n",
       "```\n",
       "\n",
       "!!! compat \"Julia 1.2\"\n",
       "    `inv(::Missing)` requires at least Julia 1.2.\n",
       "\n",
       "\n",
       "---\n",
       "\n",
       "```\n",
       "inv(M)\n",
       "```\n",
       "\n",
       "Matrix inverse. Computes matrix `N` such that `M * N = I`, where `I` is the identity matrix. Computed by solving the left-division `N = M \\ I`.\n",
       "\n",
       "# Examples\n",
       "\n",
       "```jldoctest\n",
       "julia> M = [2 5; 1 3]\n",
       "2×2 Matrix{Int64}:\n",
       " 2  5\n",
       " 1  3\n",
       "\n",
       "julia> N = inv(M)\n",
       "2×2 Matrix{Float64}:\n",
       "  3.0  -5.0\n",
       " -1.0   2.0\n",
       "\n",
       "julia> M*N == N*M == Matrix(I, 2, 2)\n",
       "true\n",
       "```\n"
      ],
      "text/plain": [
       "\u001b[36m  inv(x)\u001b[39m\n",
       "\n",
       "  Return the multiplicative inverse of \u001b[36mx\u001b[39m, such that \u001b[36mx*inv(x)\u001b[39m or \u001b[36minv(x)*x\u001b[39m\n",
       "  yields \u001b[36mone(x)\u001b[39m (the multiplicative identity) up to roundoff errors.\n",
       "\n",
       "  If \u001b[36mx\u001b[39m is a number, this is essentially the same as \u001b[36mone(x)/x\u001b[39m, but for some\n",
       "  types \u001b[36minv(x)\u001b[39m may be slightly more efficient.\n",
       "\n",
       "\u001b[1m  Examples\u001b[22m\n",
       "\u001b[1m  ≡≡≡≡≡≡≡≡≡≡\u001b[22m\n",
       "\n",
       "\u001b[36m  julia> inv(2)\u001b[39m\n",
       "\u001b[36m  0.5\u001b[39m\n",
       "\u001b[36m  \u001b[39m\n",
       "\u001b[36m  julia> inv(1 + 2im)\u001b[39m\n",
       "\u001b[36m  0.2 - 0.4im\u001b[39m\n",
       "\u001b[36m  \u001b[39m\n",
       "\u001b[36m  julia> inv(1 + 2im) * (1 + 2im)\u001b[39m\n",
       "\u001b[36m  1.0 + 0.0im\u001b[39m\n",
       "\u001b[36m  \u001b[39m\n",
       "\u001b[36m  julia> inv(2//3)\u001b[39m\n",
       "\u001b[36m  3//2\u001b[39m\n",
       "\n",
       "\u001b[39m\u001b[1m  │ \u001b[22m\u001b[39m\u001b[1mJulia 1.2\u001b[22m\n",
       "\u001b[39m\u001b[1m  │\u001b[22m\n",
       "\u001b[39m\u001b[1m  │\u001b[22m  \u001b[36minv(::Missing)\u001b[39m requires at least Julia 1.2.\n",
       "\n",
       "  ────────────────────────────────────────────────────────────────────────────\n",
       "\n",
       "\u001b[36m  inv(M)\u001b[39m\n",
       "\n",
       "  Matrix inverse. Computes matrix \u001b[36mN\u001b[39m such that \u001b[36mM * N = I\u001b[39m, where \u001b[36mI\u001b[39m is the\n",
       "  identity matrix. Computed by solving the left-division \u001b[36mN = M \\ I\u001b[39m.\n",
       "\n",
       "\u001b[1m  Examples\u001b[22m\n",
       "\u001b[1m  ≡≡≡≡≡≡≡≡≡≡\u001b[22m\n",
       "\n",
       "\u001b[36m  julia> M = [2 5; 1 3]\u001b[39m\n",
       "\u001b[36m  2×2 Matrix{Int64}:\u001b[39m\n",
       "\u001b[36m   2  5\u001b[39m\n",
       "\u001b[36m   1  3\u001b[39m\n",
       "\u001b[36m  \u001b[39m\n",
       "\u001b[36m  julia> N = inv(M)\u001b[39m\n",
       "\u001b[36m  2×2 Matrix{Float64}:\u001b[39m\n",
       "\u001b[36m    3.0  -5.0\u001b[39m\n",
       "\u001b[36m   -1.0   2.0\u001b[39m\n",
       "\u001b[36m  \u001b[39m\n",
       "\u001b[36m  julia> M*N == N*M == Matrix(I, 2, 2)\u001b[39m\n",
       "\u001b[36m  true\u001b[39m"
      ]
     },
     "execution_count": 159,
     "metadata": {},
     "output_type": "execute_result"
    }
   ],
   "source": [
    "?inv"
   ]
  },
  {
   "cell_type": "code",
   "execution_count": 161,
   "id": "d100a19e",
   "metadata": {},
   "outputs": [
    {
     "data": {
      "text/plain": [
       "2.0"
      ]
     },
     "execution_count": 161,
     "metadata": {},
     "output_type": "execute_result"
    }
   ],
   "source": [
    "inv(0.5)"
   ]
  }
 ],
 "metadata": {
  "kernelspec": {
   "display_name": "Julia 1.7.3",
   "language": "julia",
   "name": "julia-1.7"
  },
  "language_info": {
   "file_extension": ".jl",
   "mimetype": "application/julia",
   "name": "julia",
   "version": "1.7.3"
  },
  "widgets": {
   "application/vnd.jupyter.widget-state+json": {
    "state": {},
    "version_major": 2,
    "version_minor": 0
   }
  }
 },
 "nbformat": 4,
 "nbformat_minor": 5
}
