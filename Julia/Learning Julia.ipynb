{
 "cells": [
  {
   "cell_type": "markdown",
   "id": "41e53864",
   "metadata": {},
   "source": [
    "Take small steps, leave no gaps, everything makes sense. "
   ]
  },
  {
   "cell_type": "code",
   "execution_count": 11,
   "id": "89d956ec",
   "metadata": {},
   "outputs": [
    {
     "data": {
      "text/plain": [
       "\"Hello World\""
      ]
     },
     "execution_count": 11,
     "metadata": {},
     "output_type": "execute_result"
    }
   ],
   "source": [
    "\"Hello World\""
   ]
  },
  {
   "cell_type": "code",
   "execution_count": 12,
   "id": "66e1361a",
   "metadata": {},
   "outputs": [
    {
     "data": {
      "text/plain": [
       "\"Hello World\""
      ]
     },
     "execution_count": 12,
     "metadata": {},
     "output_type": "execute_result"
    }
   ],
   "source": [
    "a_string = \"Hello World\""
   ]
  },
  {
   "cell_type": "code",
   "execution_count": 13,
   "id": "9ed55fcf",
   "metadata": {},
   "outputs": [
    {
     "name": "stdout",
     "output_type": "stream",
     "text": [
      "Hello World\n"
     ]
    }
   ],
   "source": [
    "println(a_string)"
   ]
  },
  {
   "cell_type": "markdown",
   "id": "93f2637a",
   "metadata": {},
   "source": [
    "### What is REPL?\n",
    "\n",
    "A Read-Eval-Print Loop, or REPL, is a computer environment where user inputs are read and evaluated, and then the results are returned to the user. REPLs provide an interactive environment to explore tools available in specific environments or programming languages. Some examples include the Node.js console, IPython, the Bash shell, and the developer console found in most web browsers. "
   ]
  },
  {
   "cell_type": "code",
   "execution_count": 14,
   "id": "dfaf8674",
   "metadata": {
    "scrolled": true
   },
   "outputs": [
    {
     "name": "stdout",
     "output_type": "stream",
     "text": [
      "Hello World\n",
      "Hello World\n"
     ]
    }
   ],
   "source": [
    "println(a_string)\n",
    "println(a_string)"
   ]
  },
  {
   "cell_type": "code",
   "execution_count": 15,
   "id": "86692dc0",
   "metadata": {},
   "outputs": [
    {
     "name": "stdout",
     "output_type": "stream",
     "text": [
      "Hello WorldHello World"
     ]
    }
   ],
   "source": [
    "print(a_string)\n",
    "print(a_string)"
   ]
  },
  {
   "cell_type": "code",
   "execution_count": 16,
   "id": "a54bbf28",
   "metadata": {},
   "outputs": [
    {
     "name": "stdout",
     "output_type": "stream",
     "text": [
      "/home/hesed/Codes/Jupyter-notes/Julia\n",
      "/home/hesed/Codes/Jupyter-notes\n",
      "/home/hesed/Codes/Jupyter-notes/Julia\n"
     ]
    }
   ],
   "source": [
    "# view current working directory\n",
    "println(pwd())\n",
    "\n",
    "# change current directory\n",
    "cd(\"..\")\n",
    "\n",
    "println(pwd())\n",
    "cd(\"Julia\")\n",
    "println(pwd())"
   ]
  },
  {
   "cell_type": "code",
   "execution_count": 17,
   "id": "c7f145a3",
   "metadata": {},
   "outputs": [
    {
     "name": "stdout",
     "output_type": "stream",
     "text": [
      "Hello World\n"
     ]
    }
   ],
   "source": [
    "# strings are added using *\n",
    "println(\"Hello \" * \"World\")"
   ]
  },
  {
   "cell_type": "code",
   "execution_count": 18,
   "id": "923dd136",
   "metadata": {},
   "outputs": [
    {
     "name": "stdout",
     "output_type": "stream",
     "text": [
      "Hello Hello Hello Hello Hello Hello Hello Hello Hello Hello Hello Hello "
     ]
    }
   ],
   "source": [
    "# strings are repeated using ^\n",
    "print(\"Hello \" ^ 12)"
   ]
  },
  {
   "cell_type": "code",
   "execution_count": 19,
   "id": "17d30433",
   "metadata": {},
   "outputs": [
    {
     "name": "stdout",
     "output_type": "stream",
     "text": [
      "search: \u001b[0m\u001b[1mp\u001b[22m\u001b[0m\u001b[1mr\u001b[22m\u001b[0m\u001b[1mi\u001b[22m\u001b[0m\u001b[1mn\u001b[22m\u001b[0m\u001b[1mt\u001b[22m \u001b[0m\u001b[1mp\u001b[22m\u001b[0m\u001b[1mr\u001b[22m\u001b[0m\u001b[1mi\u001b[22m\u001b[0m\u001b[1mn\u001b[22m\u001b[0m\u001b[1mt\u001b[22mln \u001b[0m\u001b[1mp\u001b[22m\u001b[0m\u001b[1mr\u001b[22m\u001b[0m\u001b[1mi\u001b[22m\u001b[0m\u001b[1mn\u001b[22m\u001b[0m\u001b[1mt\u001b[22mstyled s\u001b[0m\u001b[1mp\u001b[22m\u001b[0m\u001b[1mr\u001b[22m\u001b[0m\u001b[1mi\u001b[22m\u001b[0m\u001b[1mn\u001b[22m\u001b[0m\u001b[1mt\u001b[22m is\u001b[0m\u001b[1mp\u001b[22m\u001b[0m\u001b[1mr\u001b[22m\u001b[0m\u001b[1mi\u001b[22m\u001b[0m\u001b[1mn\u001b[22m\u001b[0m\u001b[1mt\u001b[22m \u001b[0m\u001b[1mp\u001b[22m\u001b[0m\u001b[1mr\u001b[22mev\u001b[0m\u001b[1mi\u001b[22m\u001b[0m\u001b[1mn\u001b[22md \u001b[0m\u001b[1mp\u001b[22ma\u001b[0m\u001b[1mr\u001b[22ment\u001b[0m\u001b[1mi\u001b[22m\u001b[0m\u001b[1mn\u001b[22mdices \u001b[0m\u001b[1mp\u001b[22m\u001b[0m\u001b[1mr\u001b[22mec\u001b[0m\u001b[1mi\u001b[22msio\u001b[0m\u001b[1mn\u001b[22m\n",
      "\n"
     ]
    },
    {
     "data": {
      "text/latex": [
       "\\begin{verbatim}\n",
       "print([io::IO], xs...)\n",
       "\\end{verbatim}\n",
       "Write to \\texttt{io} (or to the default output stream \\href{@ref}{\\texttt{stdout}} if \\texttt{io} is not given) a canonical (un-decorated) text representation. The representation used by \\texttt{print} includes minimal formatting and tries to avoid Julia-specific details.\n",
       "\n",
       "\\texttt{print} falls back to calling \\texttt{show}, so most types should just define \\texttt{show}. Define \\texttt{print} if your type has a separate \"plain\" representation. For example, \\texttt{show} displays strings with quotes, and \\texttt{print} displays strings without quotes.\n",
       "\n",
       "See also \\href{@ref}{\\texttt{println}}, \\href{@ref}{\\texttt{string}}, \\href{@ref}{\\texttt{printstyled}}.\n",
       "\n",
       "\\section{Examples}\n",
       "\\begin{verbatim}\n",
       "julia> print(\"Hello World!\")\n",
       "Hello World!\n",
       "julia> io = IOBuffer();\n",
       "\n",
       "julia> print(io, \"Hello\", ' ', :World!)\n",
       "\n",
       "julia> String(take!(io))\n",
       "\"Hello World!\"\n",
       "\\end{verbatim}\n"
      ],
      "text/markdown": [
       "```\n",
       "print([io::IO], xs...)\n",
       "```\n",
       "\n",
       "Write to `io` (or to the default output stream [`stdout`](@ref) if `io` is not given) a canonical (un-decorated) text representation. The representation used by `print` includes minimal formatting and tries to avoid Julia-specific details.\n",
       "\n",
       "`print` falls back to calling `show`, so most types should just define `show`. Define `print` if your type has a separate \"plain\" representation. For example, `show` displays strings with quotes, and `print` displays strings without quotes.\n",
       "\n",
       "See also [`println`](@ref), [`string`](@ref), [`printstyled`](@ref).\n",
       "\n",
       "# Examples\n",
       "\n",
       "```jldoctest\n",
       "julia> print(\"Hello World!\")\n",
       "Hello World!\n",
       "julia> io = IOBuffer();\n",
       "\n",
       "julia> print(io, \"Hello\", ' ', :World!)\n",
       "\n",
       "julia> String(take!(io))\n",
       "\"Hello World!\"\n",
       "```\n"
      ],
      "text/plain": [
       "\u001b[36m  print([io::IO], xs...)\u001b[39m\n",
       "\n",
       "  Write to \u001b[36mio\u001b[39m (or to the default output stream \u001b[36mstdout\u001b[39m if \u001b[36mio\u001b[39m is not given) a\n",
       "  canonical (un-decorated) text representation. The representation used by\n",
       "  \u001b[36mprint\u001b[39m includes minimal formatting and tries to avoid Julia-specific details.\n",
       "\n",
       "  \u001b[36mprint\u001b[39m falls back to calling \u001b[36mshow\u001b[39m, so most types should just define \u001b[36mshow\u001b[39m.\n",
       "  Define \u001b[36mprint\u001b[39m if your type has a separate \"plain\" representation. For\n",
       "  example, \u001b[36mshow\u001b[39m displays strings with quotes, and \u001b[36mprint\u001b[39m displays strings\n",
       "  without quotes.\n",
       "\n",
       "  See also \u001b[36mprintln\u001b[39m, \u001b[36mstring\u001b[39m, \u001b[36mprintstyled\u001b[39m.\n",
       "\n",
       "\u001b[1m  Examples\u001b[22m\n",
       "\u001b[1m  ≡≡≡≡≡≡≡≡≡≡\u001b[22m\n",
       "\n",
       "\u001b[36m  julia> print(\"Hello World!\")\u001b[39m\n",
       "\u001b[36m  Hello World!\u001b[39m\n",
       "\u001b[36m  julia> io = IOBuffer();\u001b[39m\n",
       "\u001b[36m  \u001b[39m\n",
       "\u001b[36m  julia> print(io, \"Hello\", ' ', :World!)\u001b[39m\n",
       "\u001b[36m  \u001b[39m\n",
       "\u001b[36m  julia> String(take!(io))\u001b[39m\n",
       "\u001b[36m  \"Hello World!\"\u001b[39m"
      ]
     },
     "execution_count": 19,
     "metadata": {},
     "output_type": "execute_result"
    }
   ],
   "source": [
    "?print"
   ]
  },
  {
   "cell_type": "markdown",
   "id": "17ad7376",
   "metadata": {},
   "source": [
    "Help can be gotten from the notebook by this syntax:\n",
    "```Ijulia\n",
    "?function_name #or keyword\n",
    "```"
   ]
  },
  {
   "cell_type": "code",
   "execution_count": 20,
   "id": "0089079c",
   "metadata": {},
   "outputs": [
    {
     "name": "stdout",
     "output_type": "stream",
     "text": [
      "1.25\n",
      "0.16666666666666666\n",
      "0.2222222222222222\n"
     ]
    }
   ],
   "source": [
    "a = 1/2\n",
    "b = 3/4\n",
    "println(a + b)\n",
    "println(1/2/3)\n",
    "println(2/9)"
   ]
  },
  {
   "cell_type": "markdown",
   "id": "a7b575fb",
   "metadata": {},
   "source": [
    "## Order of Operations in Julia\n",
    "1. Parenthesis\n",
    "2. Exponentiation\n",
    "3. Multiplication and division, from left to right\n",
    "4. Addition and subtraction, from left to right\n",
    "\n",
    "> Exponentiation is evaluated from right-to-left in Julia \\\n",
    "> Arithmetic operators have higher precedence than logical operators. \\\n",
    "> Logical operators are evaluated from left to right"
   ]
  },
  {
   "cell_type": "code",
   "execution_count": 21,
   "id": "a48acabb",
   "metadata": {},
   "outputs": [
    {
     "name": "stdout",
     "output_type": "stream",
     "text": [
      "64\n",
      "512\n"
     ]
    }
   ],
   "source": [
    "println((2^3)^2)\n",
    "println(2^3^2)"
   ]
  },
  {
   "cell_type": "code",
   "execution_count": 22,
   "id": "b8e8615d",
   "metadata": {},
   "outputs": [
    {
     "data": {
      "text/plain": [
       "1.0"
      ]
     },
     "execution_count": 22,
     "metadata": {},
     "output_type": "execute_result"
    }
   ],
   "source": [
    "2/2"
   ]
  },
  {
   "cell_type": "markdown",
   "id": "2ad35951",
   "metadata": {},
   "source": [
    "Operation | Symbol\n",
    "----- | -----\n",
    "Addition | +\n",
    "Subtraction | -\n",
    "Multiplication | *\n",
    "Exponent | ^\n",
    "Division | /\n",
    "Modulus | %\n",
    "Floor division | `\\div`  (÷)\n",
    "NOT | !\n",
    "AND | &&\n",
    "OR | \\|\\|\n",
    "Greater than | >\n",
    "Less than | <\n",
    "Equal to | ==\n",
    "Greater than or equal to | >=\n",
    "Less than or equal to | <=\n",
    "Not equal to | !=\n",
    "Bitwise AND | &\n",
    "Bitwise ORD | \\|\n",
    "Strict comparison operator | === "
   ]
  },
  {
   "cell_type": "code",
   "execution_count": 23,
   "id": "63dd3fc3",
   "metadata": {
    "scrolled": true
   },
   "outputs": [
    {
     "name": "stdout",
     "output_type": "stream",
     "text": [
      "2\n"
     ]
    }
   ],
   "source": [
    "# To perform floor division,\n",
    "# Use ÷\n",
    "# The character ÷ can be entered by typing \\div and pressing Tab.\n",
    "\n",
    "println(5 ÷ 2)"
   ]
  },
  {
   "cell_type": "markdown",
   "id": "8d16f10b",
   "metadata": {},
   "source": [
    "Julia makes use of short-circuit evaluation of logical expressions. This takes advantage of the fact that an expression starting with \"false&&\" can never be true, and likewise starting with \"true||\" can never be false."
   ]
  },
  {
   "cell_type": "code",
   "execution_count": 24,
   "id": "75854ea2",
   "metadata": {},
   "outputs": [
    {
     "data": {
      "text/plain": [
       "84.0"
      ]
     },
     "execution_count": 24,
     "metadata": {},
     "output_type": "execute_result"
    }
   ],
   "source": [
    "5040 / 60"
   ]
  },
  {
   "cell_type": "code",
   "execution_count": 25,
   "id": "fab0211b",
   "metadata": {},
   "outputs": [
    {
     "data": {
      "text/plain": [
       "4.0"
      ]
     },
     "execution_count": 25,
     "metadata": {},
     "output_type": "execute_result"
    }
   ],
   "source": [
    "2^2^1^1.3^1.5^1.7^20"
   ]
  },
  {
   "cell_type": "code",
   "execution_count": 26,
   "id": "390255f7",
   "metadata": {},
   "outputs": [
    {
     "data": {
      "text/plain": [
       "true"
      ]
     },
     "execution_count": 26,
     "metadata": {},
     "output_type": "execute_result"
    }
   ],
   "source": [
    "1+3<5 || 2+2<!"
   ]
  },
  {
   "cell_type": "code",
   "execution_count": 27,
   "id": "ceb737d6",
   "metadata": {},
   "outputs": [
    {
     "name": "stdout",
     "output_type": "stream",
     "text": [
      "true\n"
     ]
    }
   ],
   "source": [
    "a = true\n",
    "b = !!!!a\n",
    "println(b)"
   ]
  },
  {
   "cell_type": "code",
   "execution_count": 28,
   "id": "78cf977d",
   "metadata": {},
   "outputs": [
    {
     "data": {
      "text/plain": [
       "true"
      ]
     },
     "execution_count": 28,
     "metadata": {},
     "output_type": "execute_result"
    }
   ],
   "source": [
    "3 & 5 > 0"
   ]
  },
  {
   "cell_type": "code",
   "execution_count": 29,
   "id": "8d60e34d",
   "metadata": {},
   "outputs": [
    {
     "data": {
      "text/plain": [
       "false"
      ]
     },
     "execution_count": 29,
     "metadata": {},
     "output_type": "execute_result"
    }
   ],
   "source": [
    "8 & 5 > 0"
   ]
  },
  {
   "cell_type": "markdown",
   "id": "07cad996",
   "metadata": {},
   "source": [
    "## Type System\n",
    "* Types are formats for storing information. \n",
    "* In Julia, only values have types\n",
    "* "
   ]
  },
  {
   "cell_type": "code",
   "execution_count": 30,
   "id": "710ee076",
   "metadata": {},
   "outputs": [
    {
     "data": {
      "text/plain": [
       "2-element Vector{Vector{Int64}}:\n",
       " [1, 3, 4]\n",
       " [2, 3, 4]"
      ]
     },
     "execution_count": 30,
     "metadata": {},
     "output_type": "execute_result"
    }
   ],
   "source": [
    "b = [[1,3,4],[2,3,4]]"
   ]
  },
  {
   "cell_type": "code",
   "execution_count": 31,
   "id": "c9818dab",
   "metadata": {},
   "outputs": [
    {
     "data": {
      "text/plain": [
       "3-element Vector{Int64}:\n",
       " 1\n",
       " 2\n",
       " 3"
      ]
     },
     "execution_count": 31,
     "metadata": {},
     "output_type": "execute_result"
    }
   ],
   "source": [
    "a = [1,2,3]"
   ]
  },
  {
   "cell_type": "code",
   "execution_count": 32,
   "id": "b6d0b391",
   "metadata": {},
   "outputs": [
    {
     "data": {
      "text/plain": [
       "Vector{Int64} (alias for Array{Int64, 1})"
      ]
     },
     "execution_count": 32,
     "metadata": {},
     "output_type": "execute_result"
    }
   ],
   "source": [
    "typeof(a)"
   ]
  },
  {
   "cell_type": "code",
   "execution_count": 33,
   "id": "27faf487",
   "metadata": {},
   "outputs": [
    {
     "data": {
      "text/plain": [
       "Vector{Vector{Int64}} (alias for Array{Array{Int64, 1}, 1})"
      ]
     },
     "execution_count": 33,
     "metadata": {},
     "output_type": "execute_result"
    }
   ],
   "source": [
    "typeof(b)"
   ]
  },
  {
   "cell_type": "code",
   "execution_count": 34,
   "id": "e6f4e1c6",
   "metadata": {},
   "outputs": [
    {
     "name": "stdout",
     "output_type": "stream",
     "text": [
      "γα"
     ]
    }
   ],
   "source": [
    "# \\pm\n",
    "α = 3\n",
    "print(\"γα\")"
   ]
  },
  {
   "cell_type": "code",
   "execution_count": 35,
   "id": "e113525e",
   "metadata": {},
   "outputs": [
    {
     "name": "stdout",
     "output_type": "stream",
     "text": [
      "3\n"
     ]
    }
   ],
   "source": [
    "println(α)"
   ]
  },
  {
   "cell_type": "markdown",
   "id": "c07e90bd",
   "metadata": {},
   "source": [
    "* Julia follows latex hence characters supported in latex can be used in Julia. E.g. `α` can be obtained by typing `\\alpha`\n",
    "* Emojis can also be used in Julia by using `\\:emojiname:`"
   ]
  },
  {
   "cell_type": "code",
   "execution_count": 36,
   "id": "51fbb003",
   "metadata": {},
   "outputs": [
    {
     "name": "stdout",
     "output_type": "stream",
     "text": [
      "0\n"
     ]
    },
    {
     "ename": "LoadError",
     "evalue": "syntax: \"\\\" is not a unary operator",
     "output_type": "error",
     "traceback": [
      "syntax: \"\\\" is not a unary operator",
      "",
      "Stacktrace:",
      " [1] top-level scope",
      "   @ In[36]:4",
      " [2] eval",
      "   @ ./boot.jl:373 [inlined]",
      " [3] include_string(mapexpr::typeof(REPL.softscope), mod::Module, code::String, filename::String)",
      "   @ Base ./loading.jl:1196"
     ]
    }
   ],
   "source": [
    "# setting theta to 0\n",
    "θ = 0\n",
    "println(θ)\n",
    "\\:te"
   ]
  },
  {
   "cell_type": "code",
   "execution_count": 37,
   "id": "94c31cc6",
   "metadata": {},
   "outputs": [
    {
     "data": {
      "text/plain": [
       "Int64"
      ]
     },
     "execution_count": 37,
     "metadata": {},
     "output_type": "execute_result"
    }
   ],
   "source": [
    "typeof(α)"
   ]
  },
  {
   "cell_type": "code",
   "execution_count": 38,
   "id": "c02c11b7",
   "metadata": {},
   "outputs": [
    {
     "name": "stdout",
     "output_type": "stream",
     "text": [
      "Something\n"
     ]
    }
   ],
   "source": [
    "😊 = \"Something\"\n",
    "println(😊)"
   ]
  },
  {
   "cell_type": "code",
   "execution_count": 39,
   "id": "c6d5f09c",
   "metadata": {},
   "outputs": [
    {
     "data": {
      "text/plain": [
       "Bool"
      ]
     },
     "execution_count": 39,
     "metadata": {},
     "output_type": "execute_result"
    }
   ],
   "source": [
    "typeof(true)"
   ]
  },
  {
   "cell_type": "code",
   "execution_count": 40,
   "id": "31fcf5fc",
   "metadata": {},
   "outputs": [
    {
     "data": {
      "text/plain": [
       "1"
      ]
     },
     "execution_count": 40,
     "metadata": {},
     "output_type": "execute_result"
    }
   ],
   "source": [
    "sizeof(true)"
   ]
  },
  {
   "cell_type": "code",
   "execution_count": 41,
   "id": "6f2f1f47",
   "metadata": {},
   "outputs": [
    {
     "name": "stdout",
     "output_type": "stream",
     "text": [
      "false\n"
     ]
    }
   ],
   "source": [
    "println(2 < 1.5)"
   ]
  },
  {
   "cell_type": "markdown",
   "id": "7fdac1de",
   "metadata": {},
   "source": [
    "In Julia, where there is a mixture of Int64 and Float64, Int64 gets promoted to Float64 because any integer has a float value, the reverse is not true."
   ]
  },
  {
   "cell_type": "markdown",
   "id": "fde60450",
   "metadata": {},
   "source": [
    "There is a strict comparison operator `===` which takes into consideration the value types before evaluation"
   ]
  },
  {
   "cell_type": "code",
   "execution_count": 42,
   "id": "fa2f5217",
   "metadata": {},
   "outputs": [
    {
     "data": {
      "text/plain": [
       "true"
      ]
     },
     "execution_count": 42,
     "metadata": {},
     "output_type": "execute_result"
    }
   ],
   "source": [
    "2 == 2.0"
   ]
  },
  {
   "cell_type": "code",
   "execution_count": 43,
   "id": "b263d225",
   "metadata": {},
   "outputs": [
    {
     "data": {
      "text/plain": [
       "false"
      ]
     },
     "execution_count": 43,
     "metadata": {},
     "output_type": "execute_result"
    }
   ],
   "source": [
    "2 === 2.0"
   ]
  },
  {
   "cell_type": "markdown",
   "id": "f8634f04",
   "metadata": {},
   "source": [
    "## Concrete and abstract types\n",
    "* All the already mentioned types are concrete types. That is, they have no subtypes. \n",
    "* Julia defines a supertype for every type (except the type `Any` which is its own supertype).\n",
    "    * `Int64` has the supertype `Signed`, which has the supertype `Integer`, which has the supertype `Real`.\n",
    "\n",
    ">  `Real` contains both `Int64` and `Float64`.\n",
    "\n",
    "* Types with subtypes are called abstract types.\n",
    "* The most abstract of all is `Any` (Since it is the root of types in Julia).\n",
    "\n",
    "The actual type of a value in Julia must always be of a concrete type. Why?:\n",
    "* Some operations change the type of a value by promotion; abstract types help to guide this proccess.\n",
    "* Functions are written to operate on types. If you write your function to use an abstract type, it will work for all the types underneath that abstract type."
   ]
  },
  {
   "cell_type": "code",
   "execution_count": 44,
   "id": "956690a1",
   "metadata": {},
   "outputs": [
    {
     "data": {
      "text/plain": [
       "(Int64, Signed, Integer, Real, Number, Any)"
      ]
     },
     "execution_count": 44,
     "metadata": {},
     "output_type": "execute_result"
    }
   ],
   "source": [
    "supertypes(Int64)"
   ]
  },
  {
   "cell_type": "markdown",
   "id": "8da396cc",
   "metadata": {},
   "source": [
    "## Variables\n",
    "* Variables in julia have a name, a value and a type\n",
    "* A variable name can be almost any string that starts with a letter and continues with letters, numbers or a few other characters.\n",
    "\n",
    "\n",
    "### Variable Standards\n",
    "* Avoid the use of capital letters.\n",
    "* Avoid the use of underscores.\n",
    "* Avoid the use of exclamation mark. \n",
    "\n",
    "\n",
    "### Declaring Arrays\n",
    "```julia\n",
    "# Syntax\n",
    "Array{type}(undef, dimension)\n",
    "```"
   ]
  },
  {
   "cell_type": "code",
   "execution_count": 45,
   "id": "f9b6b5fe",
   "metadata": {},
   "outputs": [
    {
     "data": {
      "text/plain": [
       "2×3 Matrix{Float64}:\n",
       " 6.94628e-310  6.94628e-310  6.94628e-310\n",
       " 6.94628e-310  6.94628e-310  6.94621e-310"
      ]
     },
     "execution_count": 45,
     "metadata": {},
     "output_type": "execute_result"
    }
   ],
   "source": [
    "a = Array{Float64}(undef, 2, 3)"
   ]
  },
  {
   "cell_type": "code",
   "execution_count": 46,
   "id": "c410b88b",
   "metadata": {},
   "outputs": [
    {
     "name": "stdout",
     "output_type": "stream",
     "text": [
      "search: \u001b[0m\u001b[1ma\u001b[22m \u001b[0m\u001b[1ma\u001b[22mny \u001b[0m\u001b[1ma\u001b[22mll \u001b[0m\u001b[1ma\u001b[22mbs \u001b[0m\u001b[1ma\u001b[22mns \u001b[0m\u001b[1mA\u001b[22mny \u001b[0m\u001b[1ma\u001b[22mxes \u001b[0m\u001b[1ma\u001b[22mtan \u001b[0m\u001b[1ma\u001b[22msin \u001b[0m\u001b[1ma\u001b[22msec \u001b[0m\u001b[1ma\u001b[22mny! \u001b[0m\u001b[1ma\u001b[22mll! \u001b[0m\u001b[1ma\u001b[22mcsc \u001b[0m\u001b[1ma\u001b[22mcot \u001b[0m\u001b[1ma\u001b[22mcos \u001b[0m\u001b[1ma\u001b[22mbs2\n",
      "\n"
     ]
    },
    {
     "data": {
      "text/latex": [
       "No documentation found.\n",
       "\n",
       "\\texttt{a} is of type \\texttt{Matrix\\{Float64\\}}.\n",
       "\n",
       "\\section{Summary}\n",
       "\\begin{verbatim}\n",
       "mutable struct Matrix{Float64}\n",
       "\\end{verbatim}\n",
       "\\section{Supertype Hierarchy}\n",
       "\\begin{verbatim}\n",
       "Matrix{Float64} <: DenseMatrix{Float64} <: AbstractMatrix{Float64} <: Any\n",
       "\\end{verbatim}\n"
      ],
      "text/markdown": [
       "No documentation found.\n",
       "\n",
       "`a` is of type `Matrix{Float64}`.\n",
       "\n",
       "# Summary\n",
       "\n",
       "```\n",
       "mutable struct Matrix{Float64}\n",
       "```\n",
       "\n",
       "# Supertype Hierarchy\n",
       "\n",
       "```\n",
       "Matrix{Float64} <: DenseMatrix{Float64} <: AbstractMatrix{Float64} <: Any\n",
       "```\n"
      ],
      "text/plain": [
       "  No documentation found.\n",
       "\n",
       "  \u001b[36ma\u001b[39m is of type \u001b[36mMatrix{Float64}\u001b[39m.\n",
       "\n",
       "\u001b[1m  Summary\u001b[22m\n",
       "\u001b[1m  ≡≡≡≡≡≡≡≡≡\u001b[22m\n",
       "\n",
       "\u001b[36m  mutable struct Matrix{Float64}\u001b[39m\n",
       "\n",
       "\u001b[1m  Supertype Hierarchy\u001b[22m\n",
       "\u001b[1m  ≡≡≡≡≡≡≡≡≡≡≡≡≡≡≡≡≡≡≡≡≡\u001b[22m\n",
       "\n",
       "\u001b[36m  Matrix{Float64} <: DenseMatrix{Float64} <: AbstractMatrix{Float64} <: Any\u001b[39m"
      ]
     },
     "execution_count": 46,
     "metadata": {},
     "output_type": "execute_result"
    }
   ],
   "source": [
    "?a"
   ]
  },
  {
   "cell_type": "code",
   "execution_count": 47,
   "id": "6909f4bb",
   "metadata": {},
   "outputs": [
    {
     "name": "stdout",
     "output_type": "stream",
     "text": [
      "search: \u001b[0m\u001b[1mA\u001b[22m\u001b[0m\u001b[1mr\u001b[22m\u001b[0m\u001b[1mr\u001b[22m\u001b[0m\u001b[1ma\u001b[22m\u001b[0m\u001b[1my\u001b[22m Sub\u001b[0m\u001b[1mA\u001b[22m\u001b[0m\u001b[1mr\u001b[22m\u001b[0m\u001b[1mr\u001b[22m\u001b[0m\u001b[1ma\u001b[22m\u001b[0m\u001b[1my\u001b[22m Bit\u001b[0m\u001b[1mA\u001b[22m\u001b[0m\u001b[1mr\u001b[22m\u001b[0m\u001b[1mr\u001b[22m\u001b[0m\u001b[1ma\u001b[22m\u001b[0m\u001b[1my\u001b[22m Dense\u001b[0m\u001b[1mA\u001b[22m\u001b[0m\u001b[1mr\u001b[22m\u001b[0m\u001b[1mr\u001b[22m\u001b[0m\u001b[1ma\u001b[22m\u001b[0m\u001b[1my\u001b[22m Strided\u001b[0m\u001b[1mA\u001b[22m\u001b[0m\u001b[1mr\u001b[22m\u001b[0m\u001b[1mr\u001b[22m\u001b[0m\u001b[1ma\u001b[22m\u001b[0m\u001b[1my\u001b[22m PermutedDims\u001b[0m\u001b[1mA\u001b[22m\u001b[0m\u001b[1mr\u001b[22m\u001b[0m\u001b[1mr\u001b[22m\u001b[0m\u001b[1ma\u001b[22m\u001b[0m\u001b[1my\u001b[22m\n",
      "\n"
     ]
    },
    {
     "data": {
      "text/latex": [
       "\\begin{verbatim}\n",
       "Array{T,N} <: AbstractArray{T,N}\n",
       "\\end{verbatim}\n",
       "\\texttt{N}-dimensional dense array with elements of type \\texttt{T}.\n",
       "\n",
       "\\rule{\\textwidth}{1pt}\n",
       "\\begin{verbatim}\n",
       "Array{T}(undef, dims)\n",
       "Array{T,N}(undef, dims)\n",
       "\\end{verbatim}\n",
       "Construct an uninitialized \\texttt{N}-dimensional \\href{@ref}{\\texttt{Array}} containing elements of type \\texttt{T}. \\texttt{N} can either be supplied explicitly, as in \\texttt{Array\\{T,N\\}(undef, dims)}, or be determined by the length or number of \\texttt{dims}. \\texttt{dims} may be a tuple or a series of integer arguments corresponding to the lengths in each dimension. If the rank \\texttt{N} is supplied explicitly, then it must match the length or number of \\texttt{dims}. Here \\href{@ref}{\\texttt{undef}} is the \\href{@ref}{\\texttt{UndefInitializer}}.\n",
       "\n",
       "\\section{Examples}\n",
       "\\begin{verbatim}\n",
       "julia> A = Array{Float64, 2}(undef, 2, 3) # N given explicitly\n",
       "2×3 Matrix{Float64}:\n",
       " 6.90198e-310  6.90198e-310  6.90198e-310\n",
       " 6.90198e-310  6.90198e-310  0.0\n",
       "\n",
       "julia> B = Array{Float64}(undef, 4) # N determined by the input\n",
       "4-element Vector{Float64}:\n",
       "   2.360075077e-314\n",
       " NaN\n",
       "   2.2671131793e-314\n",
       "   2.299821756e-314\n",
       "\n",
       "julia> similar(B, 2, 4, 1) # use typeof(B), and the given size\n",
       "2×4×1 Array{Float64, 3}:\n",
       "[:, :, 1] =\n",
       " 2.26703e-314  2.26708e-314  0.0           2.80997e-314\n",
       " 0.0           2.26703e-314  2.26708e-314  0.0\n",
       "\\end{verbatim}\n",
       "\\rule{\\textwidth}{1pt}\n",
       "\\begin{verbatim}\n",
       "Array{T}(nothing, dims)\n",
       "Array{T,N}(nothing, dims)\n",
       "\\end{verbatim}\n",
       "Construct an \\texttt{N}-dimensional \\href{@ref}{\\texttt{Array}} containing elements of type \\texttt{T}, initialized with \\href{@ref}{\\texttt{nothing}} entries. Element type \\texttt{T} must be able to hold these values, i.e. \\texttt{Nothing <: T}.\n",
       "\n",
       "\\section{Examples}\n",
       "\\begin{verbatim}\n",
       "julia> Array{Union{Nothing, String}}(nothing, 2)\n",
       "2-element Vector{Union{Nothing, String}}:\n",
       " nothing\n",
       " nothing\n",
       "\n",
       "julia> Array{Union{Nothing, Int}}(nothing, 2, 3)\n",
       "2×3 Matrix{Union{Nothing, Int64}}:\n",
       " nothing  nothing  nothing\n",
       " nothing  nothing  nothing\n",
       "\\end{verbatim}\n",
       "\\rule{\\textwidth}{1pt}\n",
       "\\begin{verbatim}\n",
       "Array{T}(missing, dims)\n",
       "Array{T,N}(missing, dims)\n",
       "\\end{verbatim}\n",
       "Construct an \\texttt{N}-dimensional \\href{@ref}{\\texttt{Array}} containing elements of type \\texttt{T}, initialized with \\href{@ref}{\\texttt{missing}} entries. Element type \\texttt{T} must be able to hold these values, i.e. \\texttt{Missing <: T}.\n",
       "\n",
       "\\section{Examples}\n",
       "\\begin{verbatim}\n",
       "julia> Array{Union{Missing, String}}(missing, 2)\n",
       "2-element Vector{Union{Missing, String}}:\n",
       " missing\n",
       " missing\n",
       "\n",
       "julia> Array{Union{Missing, Int}}(missing, 2, 3)\n",
       "2×3 Matrix{Union{Missing, Int64}}:\n",
       " missing  missing  missing\n",
       " missing  missing  missing\n",
       "\\end{verbatim}\n"
      ],
      "text/markdown": [
       "```\n",
       "Array{T,N} <: AbstractArray{T,N}\n",
       "```\n",
       "\n",
       "`N`-dimensional dense array with elements of type `T`.\n",
       "\n",
       "---\n",
       "\n",
       "```\n",
       "Array{T}(undef, dims)\n",
       "Array{T,N}(undef, dims)\n",
       "```\n",
       "\n",
       "Construct an uninitialized `N`-dimensional [`Array`](@ref) containing elements of type `T`. `N` can either be supplied explicitly, as in `Array{T,N}(undef, dims)`, or be determined by the length or number of `dims`. `dims` may be a tuple or a series of integer arguments corresponding to the lengths in each dimension. If the rank `N` is supplied explicitly, then it must match the length or number of `dims`. Here [`undef`](@ref) is the [`UndefInitializer`](@ref).\n",
       "\n",
       "# Examples\n",
       "\n",
       "```julia-repl\n",
       "julia> A = Array{Float64, 2}(undef, 2, 3) # N given explicitly\n",
       "2×3 Matrix{Float64}:\n",
       " 6.90198e-310  6.90198e-310  6.90198e-310\n",
       " 6.90198e-310  6.90198e-310  0.0\n",
       "\n",
       "julia> B = Array{Float64}(undef, 4) # N determined by the input\n",
       "4-element Vector{Float64}:\n",
       "   2.360075077e-314\n",
       " NaN\n",
       "   2.2671131793e-314\n",
       "   2.299821756e-314\n",
       "\n",
       "julia> similar(B, 2, 4, 1) # use typeof(B), and the given size\n",
       "2×4×1 Array{Float64, 3}:\n",
       "[:, :, 1] =\n",
       " 2.26703e-314  2.26708e-314  0.0           2.80997e-314\n",
       " 0.0           2.26703e-314  2.26708e-314  0.0\n",
       "```\n",
       "\n",
       "---\n",
       "\n",
       "```\n",
       "Array{T}(nothing, dims)\n",
       "Array{T,N}(nothing, dims)\n",
       "```\n",
       "\n",
       "Construct an `N`-dimensional [`Array`](@ref) containing elements of type `T`, initialized with [`nothing`](@ref) entries. Element type `T` must be able to hold these values, i.e. `Nothing <: T`.\n",
       "\n",
       "# Examples\n",
       "\n",
       "```jldoctest\n",
       "julia> Array{Union{Nothing, String}}(nothing, 2)\n",
       "2-element Vector{Union{Nothing, String}}:\n",
       " nothing\n",
       " nothing\n",
       "\n",
       "julia> Array{Union{Nothing, Int}}(nothing, 2, 3)\n",
       "2×3 Matrix{Union{Nothing, Int64}}:\n",
       " nothing  nothing  nothing\n",
       " nothing  nothing  nothing\n",
       "```\n",
       "\n",
       "---\n",
       "\n",
       "```\n",
       "Array{T}(missing, dims)\n",
       "Array{T,N}(missing, dims)\n",
       "```\n",
       "\n",
       "Construct an `N`-dimensional [`Array`](@ref) containing elements of type `T`, initialized with [`missing`](@ref) entries. Element type `T` must be able to hold these values, i.e. `Missing <: T`.\n",
       "\n",
       "# Examples\n",
       "\n",
       "```jldoctest\n",
       "julia> Array{Union{Missing, String}}(missing, 2)\n",
       "2-element Vector{Union{Missing, String}}:\n",
       " missing\n",
       " missing\n",
       "\n",
       "julia> Array{Union{Missing, Int}}(missing, 2, 3)\n",
       "2×3 Matrix{Union{Missing, Int64}}:\n",
       " missing  missing  missing\n",
       " missing  missing  missing\n",
       "```\n"
      ],
      "text/plain": [
       "\u001b[36m  Array{T,N} <: AbstractArray{T,N}\u001b[39m\n",
       "\n",
       "  \u001b[36mN\u001b[39m-dimensional dense array with elements of type \u001b[36mT\u001b[39m.\n",
       "\n",
       "  ────────────────────────────────────────────────────────────────────────────\n",
       "\n",
       "\u001b[36m  Array{T}(undef, dims)\u001b[39m\n",
       "\u001b[36m  Array{T,N}(undef, dims)\u001b[39m\n",
       "\n",
       "  Construct an uninitialized \u001b[36mN\u001b[39m-dimensional \u001b[36mArray\u001b[39m containing elements of type\n",
       "  \u001b[36mT\u001b[39m. \u001b[36mN\u001b[39m can either be supplied explicitly, as in \u001b[36mArray{T,N}(undef, dims)\u001b[39m, or be\n",
       "  determined by the length or number of \u001b[36mdims\u001b[39m. \u001b[36mdims\u001b[39m may be a tuple or a series\n",
       "  of integer arguments corresponding to the lengths in each dimension. If the\n",
       "  rank \u001b[36mN\u001b[39m is supplied explicitly, then it must match the length or number of\n",
       "  \u001b[36mdims\u001b[39m. Here \u001b[36mundef\u001b[39m is the \u001b[36mUndefInitializer\u001b[39m.\n",
       "\n",
       "\u001b[1m  Examples\u001b[22m\n",
       "\u001b[1m  ≡≡≡≡≡≡≡≡≡≡\u001b[22m\n",
       "\n",
       "\u001b[36m  julia> A = Array{Float64, 2}(undef, 2, 3) # N given explicitly\u001b[39m\n",
       "\u001b[36m  2×3 Matrix{Float64}:\u001b[39m\n",
       "\u001b[36m   6.90198e-310  6.90198e-310  6.90198e-310\u001b[39m\n",
       "\u001b[36m   6.90198e-310  6.90198e-310  0.0\u001b[39m\n",
       "\u001b[36m  \u001b[39m\n",
       "\u001b[36m  julia> B = Array{Float64}(undef, 4) # N determined by the input\u001b[39m\n",
       "\u001b[36m  4-element Vector{Float64}:\u001b[39m\n",
       "\u001b[36m     2.360075077e-314\u001b[39m\n",
       "\u001b[36m   NaN\u001b[39m\n",
       "\u001b[36m     2.2671131793e-314\u001b[39m\n",
       "\u001b[36m     2.299821756e-314\u001b[39m\n",
       "\u001b[36m  \u001b[39m\n",
       "\u001b[36m  julia> similar(B, 2, 4, 1) # use typeof(B), and the given size\u001b[39m\n",
       "\u001b[36m  2×4×1 Array{Float64, 3}:\u001b[39m\n",
       "\u001b[36m  [:, :, 1] =\u001b[39m\n",
       "\u001b[36m   2.26703e-314  2.26708e-314  0.0           2.80997e-314\u001b[39m\n",
       "\u001b[36m   0.0           2.26703e-314  2.26708e-314  0.0\u001b[39m\n",
       "\n",
       "  ────────────────────────────────────────────────────────────────────────────\n",
       "\n",
       "\u001b[36m  Array{T}(nothing, dims)\u001b[39m\n",
       "\u001b[36m  Array{T,N}(nothing, dims)\u001b[39m\n",
       "\n",
       "  Construct an \u001b[36mN\u001b[39m-dimensional \u001b[36mArray\u001b[39m containing elements of type \u001b[36mT\u001b[39m, initialized\n",
       "  with \u001b[36mnothing\u001b[39m entries. Element type \u001b[36mT\u001b[39m must be able to hold these values, i.e.\n",
       "  \u001b[36mNothing <: T\u001b[39m.\n",
       "\n",
       "\u001b[1m  Examples\u001b[22m\n",
       "\u001b[1m  ≡≡≡≡≡≡≡≡≡≡\u001b[22m\n",
       "\n",
       "\u001b[36m  julia> Array{Union{Nothing, String}}(nothing, 2)\u001b[39m\n",
       "\u001b[36m  2-element Vector{Union{Nothing, String}}:\u001b[39m\n",
       "\u001b[36m   nothing\u001b[39m\n",
       "\u001b[36m   nothing\u001b[39m\n",
       "\u001b[36m  \u001b[39m\n",
       "\u001b[36m  julia> Array{Union{Nothing, Int}}(nothing, 2, 3)\u001b[39m\n",
       "\u001b[36m  2×3 Matrix{Union{Nothing, Int64}}:\u001b[39m\n",
       "\u001b[36m   nothing  nothing  nothing\u001b[39m\n",
       "\u001b[36m   nothing  nothing  nothing\u001b[39m\n",
       "\n",
       "  ────────────────────────────────────────────────────────────────────────────\n",
       "\n",
       "\u001b[36m  Array{T}(missing, dims)\u001b[39m\n",
       "\u001b[36m  Array{T,N}(missing, dims)\u001b[39m\n",
       "\n",
       "  Construct an \u001b[36mN\u001b[39m-dimensional \u001b[36mArray\u001b[39m containing elements of type \u001b[36mT\u001b[39m, initialized\n",
       "  with \u001b[36mmissing\u001b[39m entries. Element type \u001b[36mT\u001b[39m must be able to hold these values, i.e.\n",
       "  \u001b[36mMissing <: T\u001b[39m.\n",
       "\n",
       "\u001b[1m  Examples\u001b[22m\n",
       "\u001b[1m  ≡≡≡≡≡≡≡≡≡≡\u001b[22m\n",
       "\n",
       "\u001b[36m  julia> Array{Union{Missing, String}}(missing, 2)\u001b[39m\n",
       "\u001b[36m  2-element Vector{Union{Missing, String}}:\u001b[39m\n",
       "\u001b[36m   missing\u001b[39m\n",
       "\u001b[36m   missing\u001b[39m\n",
       "\u001b[36m  \u001b[39m\n",
       "\u001b[36m  julia> Array{Union{Missing, Int}}(missing, 2, 3)\u001b[39m\n",
       "\u001b[36m  2×3 Matrix{Union{Missing, Int64}}:\u001b[39m\n",
       "\u001b[36m   missing  missing  missing\u001b[39m\n",
       "\u001b[36m   missing  missing  missing\u001b[39m"
      ]
     },
     "execution_count": 47,
     "metadata": {},
     "output_type": "execute_result"
    }
   ],
   "source": [
    "?Array"
   ]
  },
  {
   "cell_type": "code",
   "execution_count": 48,
   "id": "f4739416",
   "metadata": {},
   "outputs": [
    {
     "data": {
      "text/plain": [
       "2×3 Matrix{Integer}:\n",
       " #undef  #undef  #undef\n",
       " #undef  #undef  #undef"
      ]
     },
     "execution_count": 48,
     "metadata": {},
     "output_type": "execute_result"
    }
   ],
   "source": [
    "abstypevariable = Array{Integer}(undef, 2,3) # A two-dimensional array with 2 rows and 3 columns"
   ]
  },
  {
   "cell_type": "code",
   "execution_count": 49,
   "id": "916185a6",
   "metadata": {},
   "outputs": [
    {
     "data": {
      "text/plain": [
       "Matrix{Integer} (alias for Array{Integer, 2})"
      ]
     },
     "execution_count": 49,
     "metadata": {},
     "output_type": "execute_result"
    }
   ],
   "source": [
    "typeof(abstypevariable)"
   ]
  },
  {
   "cell_type": "code",
   "execution_count": 50,
   "id": "6d8593d7",
   "metadata": {},
   "outputs": [
    {
     "ename": "LoadError",
     "evalue": "UndefRefError: access to undefined reference",
     "output_type": "error",
     "traceback": [
      "UndefRefError: access to undefined reference",
      "",
      "Stacktrace:",
      " [1] getindex(::Matrix{Integer}, ::Int64, ::Int64)",
      "   @ Base ./array.jl:862",
      " [2] top-level scope",
      "   @ In[50]:1",
      " [3] eval",
      "   @ ./boot.jl:373 [inlined]",
      " [4] include_string(mapexpr::typeof(REPL.softscope), mod::Module, code::String, filename::String)",
      "   @ Base ./loading.jl:1196"
     ]
    }
   ],
   "source": [
    "abstypevariable[2,1]    #NB --- note the brackets, that's how to access elements of an array"
   ]
  },
  {
   "cell_type": "code",
   "execution_count": 51,
   "id": "5ba2d538",
   "metadata": {},
   "outputs": [
    {
     "data": {
      "text/plain": [
       "1"
      ]
     },
     "execution_count": 51,
     "metadata": {},
     "output_type": "execute_result"
    }
   ],
   "source": [
    "abstypevariable[1,1] = 1    # Int64 is a subtype of Integer"
   ]
  },
  {
   "cell_type": "code",
   "execution_count": 52,
   "id": "04bbce2b",
   "metadata": {},
   "outputs": [
    {
     "data": {
      "text/plain": [
       "2×3 Matrix{Integer}:\n",
       "   1     #undef  #undef\n",
       " #undef  #undef  #undef"
      ]
     },
     "execution_count": 52,
     "metadata": {},
     "output_type": "execute_result"
    }
   ],
   "source": [
    "abstypevariable"
   ]
  },
  {
   "cell_type": "code",
   "execution_count": 53,
   "id": "881d2c46",
   "metadata": {},
   "outputs": [
    {
     "data": {
      "text/plain": [
       "5.0"
      ]
     },
     "execution_count": 53,
     "metadata": {},
     "output_type": "execute_result"
    }
   ],
   "source": [
    "abstypevariable[1,2] = 5.0  # given value is of type Float64"
   ]
  },
  {
   "cell_type": "code",
   "execution_count": 54,
   "id": "1a8b2d23",
   "metadata": {},
   "outputs": [
    {
     "data": {
      "text/plain": [
       "2×3 Matrix{Integer}:\n",
       "   1       5     #undef\n",
       " #undef  #undef  #undef"
      ]
     },
     "execution_count": 54,
     "metadata": {},
     "output_type": "execute_result"
    }
   ],
   "source": [
    "abstypevariable"
   ]
  },
  {
   "cell_type": "code",
   "execution_count": 55,
   "id": "f35888f8",
   "metadata": {},
   "outputs": [
    {
     "ename": "LoadError",
     "evalue": "MethodError: \u001b[0mCannot `convert` an object of type \u001b[92mString\u001b[39m\u001b[0m to an object of type \u001b[91mInteger\u001b[39m\n\u001b[0mClosest candidates are:\n\u001b[0m  convert(::Type{T}, \u001b[91m::T\u001b[39m) where T<:Number at ~/julia-1.7.2/share/julia/base/number.jl:6\n\u001b[0m  convert(::Type{T}, \u001b[91m::Number\u001b[39m) where T<:Number at ~/julia-1.7.2/share/julia/base/number.jl:7\n\u001b[0m  convert(::Type{T}, \u001b[91m::Base.TwicePrecision\u001b[39m) where T<:Number at ~/julia-1.7.2/share/julia/base/twiceprecision.jl:262\n\u001b[0m  ...",
     "output_type": "error",
     "traceback": [
      "MethodError: \u001b[0mCannot `convert` an object of type \u001b[92mString\u001b[39m\u001b[0m to an object of type \u001b[91mInteger\u001b[39m\n\u001b[0mClosest candidates are:\n\u001b[0m  convert(::Type{T}, \u001b[91m::T\u001b[39m) where T<:Number at ~/julia-1.7.2/share/julia/base/number.jl:6\n\u001b[0m  convert(::Type{T}, \u001b[91m::Number\u001b[39m) where T<:Number at ~/julia-1.7.2/share/julia/base/number.jl:7\n\u001b[0m  convert(::Type{T}, \u001b[91m::Base.TwicePrecision\u001b[39m) where T<:Number at ~/julia-1.7.2/share/julia/base/twiceprecision.jl:262\n\u001b[0m  ...",
      "",
      "Stacktrace:",
      " [1] setindex!(::Matrix{Integer}, ::String, ::Int64, ::Int64)",
      "   @ Base ./array.jl:905",
      " [2] top-level scope",
      "   @ In[55]:1",
      " [3] eval",
      "   @ ./boot.jl:373 [inlined]",
      " [4] include_string(mapexpr::typeof(REPL.softscope), mod::Module, code::String, filename::String)",
      "   @ Base ./loading.jl:1196"
     ]
    }
   ],
   "source": [
    "abstypevariable[2,2] = \"stringystringstr\"  # strings cannot be converted to any Integer type"
   ]
  },
  {
   "cell_type": "code",
   "execution_count": 56,
   "id": "a92db4c5",
   "metadata": {},
   "outputs": [
    {
     "data": {
      "text/plain": [
       "2×2 Matrix{Float64}:\n",
       " 1.0  3.0\n",
       " 3.0  4.0"
      ]
     },
     "execution_count": 56,
     "metadata": {},
     "output_type": "execute_result"
    }
   ],
   "source": [
    "some = Array{Float64}([[1,3] [3,4]])"
   ]
  },
  {
   "cell_type": "code",
   "execution_count": 57,
   "id": "ca6d83c8",
   "metadata": {},
   "outputs": [
    {
     "data": {
      "text/plain": [
       "\"Hello\""
      ]
     },
     "execution_count": 57,
     "metadata": {},
     "output_type": "execute_result"
    }
   ],
   "source": [
    "thing = \"Hello\""
   ]
  },
  {
   "cell_type": "code",
   "execution_count": 58,
   "id": "30dc172c",
   "metadata": {},
   "outputs": [
    {
     "data": {
      "text/plain": [
       "11×12 Matrix{Int64}:\n",
       "               4  140594329478928  …               19  140594329482640\n",
       " 140594329478608                5     140594329482320               22\n",
       "               3  140594329478992                  20  140594329482704\n",
       " 140594329478672                6     140594329482384               22\n",
       "               4  140594329479056                  21  140594329482768\n",
       " 140594329478736                6  …  140594329482448               23\n",
       "               3  140594329479120                  21  140594329482832\n",
       " 140594329478800                5     140594329482512               20\n",
       "               4  140594329479184                  21  140594329482896\n",
       " 140594329478864                6     140594329482576                4\n",
       "               4  140594329479248  …               22  140594329482960"
      ]
     },
     "execution_count": 58,
     "metadata": {},
     "output_type": "execute_result"
    }
   ],
   "source": [
    "x = Array{Int64}(undef,11, 12)"
   ]
  },
  {
   "cell_type": "code",
   "execution_count": 59,
   "id": "08c6a3d8",
   "metadata": {},
   "outputs": [
    {
     "data": {
      "text/plain": [
       "Matrix{Int64} (alias for Array{Int64, 2})"
      ]
     },
     "execution_count": 59,
     "metadata": {},
     "output_type": "execute_result"
    }
   ],
   "source": [
    "typeof(x)"
   ]
  },
  {
   "cell_type": "code",
   "execution_count": 60,
   "id": "9d820b06",
   "metadata": {},
   "outputs": [
    {
     "data": {
      "text/plain": [
       "\"Some\""
      ]
     },
     "execution_count": 60,
     "metadata": {},
     "output_type": "execute_result"
    }
   ],
   "source": [
    "thing = \"Some\"::String"
   ]
  },
  {
   "cell_type": "code",
   "execution_count": 61,
   "id": "42bf0a3d",
   "metadata": {},
   "outputs": [
    {
     "name": "stdout",
     "output_type": "stream",
     "text": [
      "Hello, World\n"
     ]
    }
   ],
   "source": [
    "greeting = \"Hello, World\"\n",
    "println(greeting)"
   ]
  },
  {
   "cell_type": "code",
   "execution_count": 62,
   "id": "a888cbb5",
   "metadata": {},
   "outputs": [
    {
     "data": {
      "text/plain": [
       "(1, 2, 3)"
      ]
     },
     "execution_count": 62,
     "metadata": {},
     "output_type": "execute_result"
    }
   ],
   "source": [
    "a, b, c = 1, 2, 3"
   ]
  },
  {
   "cell_type": "code",
   "execution_count": 63,
   "id": "1b2b8534",
   "metadata": {},
   "outputs": [
    {
     "name": "stdout",
     "output_type": "stream",
     "text": [
      "1\n",
      "2\n",
      "3\n"
     ]
    }
   ],
   "source": [
    "println(a)\n",
    "println(b)\n",
    "println(c)"
   ]
  },
  {
   "cell_type": "code",
   "execution_count": 64,
   "id": "ecd89183",
   "metadata": {},
   "outputs": [
    {
     "data": {
      "text/plain": [
       "Int64"
      ]
     },
     "execution_count": 64,
     "metadata": {},
     "output_type": "execute_result"
    }
   ],
   "source": [
    "typeof(a)"
   ]
  },
  {
   "cell_type": "code",
   "execution_count": 65,
   "id": "bbf20f3e",
   "metadata": {},
   "outputs": [
    {
     "name": "stdout",
     "output_type": "stream",
     "text": [
      "search: \u001b[0m\u001b[1mc\u001b[22m\u001b[0m\u001b[1mo\u001b[22m\u001b[0m\u001b[1ms\u001b[22m \u001b[0m\u001b[1mc\u001b[22m\u001b[0m\u001b[1mo\u001b[22m\u001b[0m\u001b[1ms\u001b[22mh \u001b[0m\u001b[1mc\u001b[22m\u001b[0m\u001b[1mo\u001b[22m\u001b[0m\u001b[1ms\u001b[22md \u001b[0m\u001b[1mc\u001b[22m\u001b[0m\u001b[1mo\u001b[22m\u001b[0m\u001b[1ms\u001b[22mc \u001b[0m\u001b[1mc\u001b[22m\u001b[0m\u001b[1mo\u001b[22m\u001b[0m\u001b[1ms\u001b[22mpi a\u001b[0m\u001b[1mc\u001b[22m\u001b[0m\u001b[1mo\u001b[22m\u001b[0m\u001b[1ms\u001b[22m a\u001b[0m\u001b[1mc\u001b[22m\u001b[0m\u001b[1mo\u001b[22m\u001b[0m\u001b[1ms\u001b[22mh a\u001b[0m\u001b[1mc\u001b[22m\u001b[0m\u001b[1mo\u001b[22m\u001b[0m\u001b[1ms\u001b[22md sin\u001b[0m\u001b[1mc\u001b[22m\u001b[0m\u001b[1mo\u001b[22m\u001b[0m\u001b[1ms\u001b[22m sin\u001b[0m\u001b[1mc\u001b[22m\u001b[0m\u001b[1mo\u001b[22m\u001b[0m\u001b[1ms\u001b[22md sin\u001b[0m\u001b[1mc\u001b[22m\u001b[0m\u001b[1mo\u001b[22m\u001b[0m\u001b[1ms\u001b[22mpi \u001b[0m\u001b[1mc\u001b[22m\u001b[0m\u001b[1mo\u001b[22mn\u001b[0m\u001b[1ms\u001b[22mt\n",
      "\n"
     ]
    },
    {
     "data": {
      "text/latex": [
       "\\begin{verbatim}\n",
       "cos(x)\n",
       "\\end{verbatim}\n",
       "Compute cosine of \\texttt{x}, where \\texttt{x} is in radians.\n",
       "\n",
       "See also [\\texttt{cosd}], [\\texttt{cospi}], [\\texttt{sincos}], [\\texttt{cis}].\n",
       "\n",
       "\\rule{\\textwidth}{1pt}\n",
       "\\begin{verbatim}\n",
       "cos(A::AbstractMatrix)\n",
       "\\end{verbatim}\n",
       "Compute the matrix cosine of a square matrix \\texttt{A}.\n",
       "\n",
       "If \\texttt{A} is symmetric or Hermitian, its eigendecomposition (\\href{@ref}{\\texttt{eigen}}) is used to compute the cosine. Otherwise, the cosine is determined by calling \\href{@ref}{\\texttt{exp}}.\n",
       "\n",
       "\\section{Examples}\n",
       "\\begin{verbatim}\n",
       "julia> cos(fill(1.0, (2,2)))\n",
       "2×2 Matrix{Float64}:\n",
       "  0.291927  -0.708073\n",
       " -0.708073   0.291927\n",
       "\\end{verbatim}\n"
      ],
      "text/markdown": [
       "```\n",
       "cos(x)\n",
       "```\n",
       "\n",
       "Compute cosine of `x`, where `x` is in radians.\n",
       "\n",
       "See also [`cosd`], [`cospi`], [`sincos`], [`cis`].\n",
       "\n",
       "---\n",
       "\n",
       "```\n",
       "cos(A::AbstractMatrix)\n",
       "```\n",
       "\n",
       "Compute the matrix cosine of a square matrix `A`.\n",
       "\n",
       "If `A` is symmetric or Hermitian, its eigendecomposition ([`eigen`](@ref)) is used to compute the cosine. Otherwise, the cosine is determined by calling [`exp`](@ref).\n",
       "\n",
       "# Examples\n",
       "\n",
       "```jldoctest\n",
       "julia> cos(fill(1.0, (2,2)))\n",
       "2×2 Matrix{Float64}:\n",
       "  0.291927  -0.708073\n",
       " -0.708073   0.291927\n",
       "```\n"
      ],
      "text/plain": [
       "\u001b[36m  cos(x)\u001b[39m\n",
       "\n",
       "  Compute cosine of \u001b[36mx\u001b[39m, where \u001b[36mx\u001b[39m is in radians.\n",
       "\n",
       "  See also [\u001b[36mcosd\u001b[39m], [\u001b[36mcospi\u001b[39m], [\u001b[36msincos\u001b[39m], [\u001b[36mcis\u001b[39m].\n",
       "\n",
       "  ────────────────────────────────────────────────────────────────────────────\n",
       "\n",
       "\u001b[36m  cos(A::AbstractMatrix)\u001b[39m\n",
       "\n",
       "  Compute the matrix cosine of a square matrix \u001b[36mA\u001b[39m.\n",
       "\n",
       "  If \u001b[36mA\u001b[39m is symmetric or Hermitian, its eigendecomposition (\u001b[36meigen\u001b[39m) is used to\n",
       "  compute the cosine. Otherwise, the cosine is determined by calling \u001b[36mexp\u001b[39m.\n",
       "\n",
       "\u001b[1m  Examples\u001b[22m\n",
       "\u001b[1m  ≡≡≡≡≡≡≡≡≡≡\u001b[22m\n",
       "\n",
       "\u001b[36m  julia> cos(fill(1.0, (2,2)))\u001b[39m\n",
       "\u001b[36m  2×2 Matrix{Float64}:\u001b[39m\n",
       "\u001b[36m    0.291927  -0.708073\u001b[39m\n",
       "\u001b[36m   -0.708073   0.291927\u001b[39m"
      ]
     },
     "execution_count": 65,
     "metadata": {},
     "output_type": "execute_result"
    }
   ],
   "source": [
    "?cos"
   ]
  },
  {
   "cell_type": "code",
   "execution_count": 69,
   "id": "861faf85",
   "metadata": {},
   "outputs": [
    {
     "name": "stdout",
     "output_type": "stream",
     "text": [
      "search: \u001b[0m\u001b[1mh\u001b[22m\u001b[0m\u001b[1me\u001b[22m\u001b[0m\u001b[1ml\u001b[22m\u001b[0m\u001b[1mp\u001b[22m sc\u001b[0m\u001b[1mh\u001b[22m\u001b[0m\u001b[1me\u001b[22mdu\u001b[0m\u001b[1ml\u001b[22me C\u001b[0m\u001b[1mh\u001b[22mann\u001b[0m\u001b[1me\u001b[22m\u001b[0m\u001b[1ml\u001b[22m \u001b[0m\u001b[1mh\u001b[22masfi\u001b[0m\u001b[1me\u001b[22m\u001b[0m\u001b[1ml\u001b[22md @t\u001b[0m\u001b[1mh\u001b[22mr\u001b[0m\u001b[1me\u001b[22madca\u001b[0m\u001b[1ml\u001b[22ml AbstractC\u001b[0m\u001b[1mh\u001b[22mann\u001b[0m\u001b[1me\u001b[22m\u001b[0m\u001b[1ml\u001b[22m\n",
      "\n"
     ]
    },
    {
     "data": {
      "text/latex": [
       "\\textbf{Welcome to Julia 1.7.2.} The full manual is available at\n",
       "\n",
       "\\begin{verbatim}\n",
       "https://docs.julialang.org\n",
       "\\end{verbatim}\n",
       "as well as many great tutorials and learning resources:\n",
       "\n",
       "\\begin{verbatim}\n",
       "https://julialang.org/learning/\n",
       "\\end{verbatim}\n",
       "For help on a specific function or macro, type \\texttt{?} followed by its name, e.g. \\texttt{?cos}, or \\texttt{?@time}, and press enter. Type \\texttt{;} to enter shell mode, \\texttt{]} to enter package mode.\n",
       "\n"
      ],
      "text/markdown": [
       "**Welcome to Julia 1.7.2.** The full manual is available at\n",
       "\n",
       "```\n",
       "https://docs.julialang.org\n",
       "```\n",
       "\n",
       "as well as many great tutorials and learning resources:\n",
       "\n",
       "```\n",
       "https://julialang.org/learning/\n",
       "```\n",
       "\n",
       "For help on a specific function or macro, type `?` followed by its name, e.g. `?cos`, or `?@time`, and press enter. Type `;` to enter shell mode, `]` to enter package mode.\n"
      ],
      "text/plain": [
       "  \u001b[1mWelcome to Julia 1.7.2.\u001b[22m The full manual is available at\n",
       "\n",
       "\u001b[36m  https://docs.julialang.org\u001b[39m\n",
       "\n",
       "  as well as many great tutorials and learning resources:\n",
       "\n",
       "\u001b[36m  https://julialang.org/learning/\u001b[39m\n",
       "\n",
       "  For help on a specific function or macro, type \u001b[36m?\u001b[39m followed by its name, e.g.\n",
       "  \u001b[36m?cos\u001b[39m, or \u001b[36m?@time\u001b[39m, and press enter. Type \u001b[36m;\u001b[39m to enter shell mode, \u001b[36m]\u001b[39m to enter\n",
       "  package mode."
      ]
     },
     "execution_count": 69,
     "metadata": {},
     "output_type": "execute_result"
    }
   ],
   "source": [
    "?help"
   ]
  },
  {
   "cell_type": "code",
   "execution_count": 72,
   "id": "f4f54213",
   "metadata": {},
   "outputs": [
    {
     "data": {
      "text/latex": [
       "\\begin{verbatim}\n",
       "exp(x)\n",
       "\\end{verbatim}\n",
       "Compute the natural base exponential of \\texttt{x}, in other words $ℯ^x$.\n",
       "\n",
       "See also \\href{@ref}{\\texttt{exp2}}, \\href{@ref}{\\texttt{exp10}} and \\href{@ref}{\\texttt{cis}}.\n",
       "\n",
       "\\section{Examples}\n",
       "\\begin{verbatim}\n",
       "julia> exp(1.0)\n",
       "2.718281828459045\n",
       "\n",
       "julia> exp(im * pi) == cis(pi)\n",
       "true\n",
       "\\end{verbatim}\n"
      ],
      "text/markdown": [
       "```\n",
       "exp(x)\n",
       "```\n",
       "\n",
       "Compute the natural base exponential of `x`, in other words $ℯ^x$.\n",
       "\n",
       "See also [`exp2`](@ref), [`exp10`](@ref) and [`cis`](@ref).\n",
       "\n",
       "# Examples\n",
       "\n",
       "```jldoctest\n",
       "julia> exp(1.0)\n",
       "2.718281828459045\n",
       "\n",
       "julia> exp(im * pi) == cis(pi)\n",
       "true\n",
       "```\n"
      ],
      "text/plain": [
       "\u001b[36m  exp(x)\u001b[39m\n",
       "\n",
       "  Compute the natural base exponential of \u001b[36mx\u001b[39m, in other words \u001b[35mℯ^x\u001b[39m.\n",
       "\n",
       "  See also \u001b[36mexp2\u001b[39m, \u001b[36mexp10\u001b[39m and \u001b[36mcis\u001b[39m.\n",
       "\n",
       "\u001b[1m  Examples\u001b[22m\n",
       "\u001b[1m  ≡≡≡≡≡≡≡≡≡≡\u001b[22m\n",
       "\n",
       "\u001b[36m  julia> exp(1.0)\u001b[39m\n",
       "\u001b[36m  2.718281828459045\u001b[39m\n",
       "\u001b[36m  \u001b[39m\n",
       "\u001b[36m  julia> exp(im * pi) == cis(pi)\u001b[39m\n",
       "\u001b[36m  true\u001b[39m"
      ]
     },
     "execution_count": 72,
     "metadata": {},
     "output_type": "execute_result"
    }
   ],
   "source": [
    "?exp(3)"
   ]
  },
  {
   "cell_type": "code",
   "execution_count": 76,
   "id": "a99afc93",
   "metadata": {},
   "outputs": [
    {
     "name": "stdout",
     "output_type": "stream",
     "text": [
      "search: \u001b[0m\u001b[1mb\u001b[22m\u001b[0m\u001b[1mi\u001b[22m\u001b[0m\u001b[1mn\u001b[22m\u001b[0m\u001b[1mo\u001b[22m\u001b[0m\u001b[1mm\u001b[22m\u001b[0m\u001b[1mi\u001b[22m\u001b[0m\u001b[1ma\u001b[22m\u001b[0m\u001b[1ml\u001b[22m\n",
      "\n"
     ]
    },
    {
     "data": {
      "text/latex": [
       "\\begin{verbatim}\n",
       "binomial(n::Integer, k::Integer)\n",
       "\\end{verbatim}\n",
       "The \\emph{binomial coefficient} $\\binom{n}{k}$, being the coefficient of the $k$th term in the polynomial expansion of $(1+x)^n$.\n",
       "\n",
       "If $n$ is non-negative, then it is the number of ways to choose \\texttt{k} out of \\texttt{n} items:\n",
       "\n",
       "$$\\binom{n}{k} = \\frac{n!}{k! (n-k)!}$$\n",
       "where $n!$ is the \\href{@ref}{\\texttt{factorial}} function.\n",
       "\n",
       "If $n$ is negative, then it is defined in terms of the identity\n",
       "\n",
       "$$\\binom{n}{k} = (-1)^k \\binom{k-n-1}{k}$$\n",
       "See also \\href{@ref}{\\texttt{factorial}}.\n",
       "\n",
       "\\section{Examples}\n",
       "\\begin{verbatim}\n",
       "julia> binomial(5, 3)\n",
       "10\n",
       "\n",
       "julia> factorial(5) ÷ (factorial(5-3) * factorial(3))\n",
       "10\n",
       "\n",
       "julia> binomial(-5, 3)\n",
       "-35\n",
       "\\end{verbatim}\n",
       "\\section{External links}\n",
       "\\begin{itemize}\n",
       "\\item \\href{https://en.wikipedia.org/wiki/Binomial_coefficient}{Binomial coefficient} on Wikipedia.\n",
       "\n",
       "\\end{itemize}\n"
      ],
      "text/markdown": [
       "```\n",
       "binomial(n::Integer, k::Integer)\n",
       "```\n",
       "\n",
       "The *binomial coefficient* $\\binom{n}{k}$, being the coefficient of the $k$th term in the polynomial expansion of $(1+x)^n$.\n",
       "\n",
       "If $n$ is non-negative, then it is the number of ways to choose `k` out of `n` items:\n",
       "\n",
       "$$\n",
       "\\binom{n}{k} = \\frac{n!}{k! (n-k)!}\n",
       "$$\n",
       "\n",
       "where $n!$ is the [`factorial`](@ref) function.\n",
       "\n",
       "If $n$ is negative, then it is defined in terms of the identity\n",
       "\n",
       "$$\n",
       "\\binom{n}{k} = (-1)^k \\binom{k-n-1}{k}\n",
       "$$\n",
       "\n",
       "See also [`factorial`](@ref).\n",
       "\n",
       "# Examples\n",
       "\n",
       "```jldoctest\n",
       "julia> binomial(5, 3)\n",
       "10\n",
       "\n",
       "julia> factorial(5) ÷ (factorial(5-3) * factorial(3))\n",
       "10\n",
       "\n",
       "julia> binomial(-5, 3)\n",
       "-35\n",
       "```\n",
       "\n",
       "# External links\n",
       "\n",
       "  * [Binomial coefficient](https://en.wikipedia.org/wiki/Binomial_coefficient) on Wikipedia.\n"
      ],
      "text/plain": [
       "\u001b[36m  binomial(n::Integer, k::Integer)\u001b[39m\n",
       "\n",
       "  The \u001b[4mbinomial coefficient\u001b[24m \u001b[35m\\binom{n}{k}\u001b[39m, being the coefficient of the \u001b[35mk\u001b[39mth term\n",
       "  in the polynomial expansion of \u001b[35m(1+x)^n\u001b[39m.\n",
       "\n",
       "  If \u001b[35mn\u001b[39m is non-negative, then it is the number of ways to choose \u001b[36mk\u001b[39m out of \u001b[36mn\u001b[39m\n",
       "  items:\n",
       "\n",
       "\u001b[35m  \\binom{n}{k} = \\frac{n!}{k! (n-k)!}\u001b[39m\n",
       "\n",
       "  where \u001b[35mn!\u001b[39m is the \u001b[36mfactorial\u001b[39m function.\n",
       "\n",
       "  If \u001b[35mn\u001b[39m is negative, then it is defined in terms of the identity\n",
       "\n",
       "\u001b[35m  \\binom{n}{k} = (-1)^k \\binom{k-n-1}{k}\u001b[39m\n",
       "\n",
       "  See also \u001b[36mfactorial\u001b[39m.\n",
       "\n",
       "\u001b[1m  Examples\u001b[22m\n",
       "\u001b[1m  ≡≡≡≡≡≡≡≡≡≡\u001b[22m\n",
       "\n",
       "\u001b[36m  julia> binomial(5, 3)\u001b[39m\n",
       "\u001b[36m  10\u001b[39m\n",
       "\u001b[36m  \u001b[39m\n",
       "\u001b[36m  julia> factorial(5) ÷ (factorial(5-3) * factorial(3))\u001b[39m\n",
       "\u001b[36m  10\u001b[39m\n",
       "\u001b[36m  \u001b[39m\n",
       "\u001b[36m  julia> binomial(-5, 3)\u001b[39m\n",
       "\u001b[36m  -35\u001b[39m\n",
       "\n",
       "\u001b[1m  External links\u001b[22m\n",
       "\u001b[1m  ≡≡≡≡≡≡≡≡≡≡≡≡≡≡≡≡\u001b[22m\n",
       "\n",
       "    •  Binomial coefficient\n",
       "       (https://en.wikipedia.org/wiki/Binomial_coefficient) on Wikipedia."
      ]
     },
     "execution_count": 76,
     "metadata": {},
     "output_type": "execute_result"
    }
   ],
   "source": [
    "?binomial"
   ]
  },
  {
   "cell_type": "markdown",
   "id": "3aa98683",
   "metadata": {},
   "source": [
    "The binomial coefficient $\\binom{n}{k}$, being the coefficient of the $k$th term in the polynomial expansion of $(1+x)^n$.\n",
    "\n",
    "If $n$ is non-negative, then it is the number of ways to choose k out of n items:\n",
    "\n",
    "$$ \\binom{n}{k} = \\frac{n!}{k! (n-k)!} $$\n",
    "\n",
    "where $n!$ is the factorial function.\n",
    "\n",
    "If $n$ is negative, then it is defined in terms of the identity\n",
    "\n",
    "$$ \\binom{n}{k} = (-1)^k \\binom{k-n-1}{k} $$"
   ]
  },
  {
   "cell_type": "code",
   "execution_count": 77,
   "id": "983b1745",
   "metadata": {},
   "outputs": [
    {
     "name": "stdout",
     "output_type": "stream",
     "text": [
      "search: \u001b[0m\u001b[1mm\u001b[22m\u001b[0m\u001b[1mu\u001b[22m\u001b[0m\u001b[1ml\u001b[22m\u001b[0m\u001b[1ma\u001b[22m\u001b[0m\u001b[1md\u001b[22m\u001b[0m\u001b[1md\u001b[22m\n",
      "\n"
     ]
    },
    {
     "data": {
      "text/latex": [
       "\\begin{verbatim}\n",
       "muladd(x, y, z)\n",
       "\\end{verbatim}\n",
       "Combined multiply-add: computes \\texttt{x*y+z}, but allowing the add and multiply to be merged with each other or with surrounding operations for performance. For example, this may be implemented as an \\href{@ref}{\\texttt{fma}} if the hardware supports it efficiently. The result can be different on different machines and can also be different on the same machine due to constant propagation or other optimizations. See \\href{@ref}{\\texttt{fma}}.\n",
       "\n",
       "\\section{Examples}\n",
       "\\begin{verbatim}\n",
       "julia> muladd(3, 2, 1)\n",
       "7\n",
       "\n",
       "julia> 3 * 2 + 1\n",
       "7\n",
       "\\end{verbatim}\n",
       "\\rule{\\textwidth}{1pt}\n",
       "\\begin{verbatim}\n",
       "muladd(A, y, z)\n",
       "\\end{verbatim}\n",
       "Combined multiply-add, \\texttt{A*y .+ z}, for matrix-matrix or matrix-vector multiplication. The result is always the same size as \\texttt{A*y}, but \\texttt{z} may be smaller, or a scalar.\n",
       "\n",
       "\\begin{quote}\n",
       "\\textbf{compat}\n",
       "\n",
       "Julia 1.6\n",
       "\n",
       "These methods require Julia 1.6 or later.\n",
       "\n",
       "\\end{quote}\n",
       "\\section{Examples}\n",
       "\\begin{verbatim}\n",
       "julia> A=[1.0 2.0; 3.0 4.0]; B=[1.0 1.0; 1.0 1.0]; z=[0, 100];\n",
       "\n",
       "julia> muladd(A, B, z)\n",
       "2×2 Matrix{Float64}:\n",
       "   3.0    3.0\n",
       " 107.0  107.0\n",
       "\\end{verbatim}\n"
      ],
      "text/markdown": [
       "```\n",
       "muladd(x, y, z)\n",
       "```\n",
       "\n",
       "Combined multiply-add: computes `x*y+z`, but allowing the add and multiply to be merged with each other or with surrounding operations for performance. For example, this may be implemented as an [`fma`](@ref) if the hardware supports it efficiently. The result can be different on different machines and can also be different on the same machine due to constant propagation or other optimizations. See [`fma`](@ref).\n",
       "\n",
       "# Examples\n",
       "\n",
       "```jldoctest\n",
       "julia> muladd(3, 2, 1)\n",
       "7\n",
       "\n",
       "julia> 3 * 2 + 1\n",
       "7\n",
       "```\n",
       "\n",
       "---\n",
       "\n",
       "```\n",
       "muladd(A, y, z)\n",
       "```\n",
       "\n",
       "Combined multiply-add, `A*y .+ z`, for matrix-matrix or matrix-vector multiplication. The result is always the same size as `A*y`, but `z` may be smaller, or a scalar.\n",
       "\n",
       "!!! compat \"Julia 1.6\"\n",
       "    These methods require Julia 1.6 or later.\n",
       "\n",
       "\n",
       "# Examples\n",
       "\n",
       "```jldoctest\n",
       "julia> A=[1.0 2.0; 3.0 4.0]; B=[1.0 1.0; 1.0 1.0]; z=[0, 100];\n",
       "\n",
       "julia> muladd(A, B, z)\n",
       "2×2 Matrix{Float64}:\n",
       "   3.0    3.0\n",
       " 107.0  107.0\n",
       "```\n"
      ],
      "text/plain": [
       "\u001b[36m  muladd(x, y, z)\u001b[39m\n",
       "\n",
       "  Combined multiply-add: computes \u001b[36mx*y+z\u001b[39m, but allowing the add and multiply to\n",
       "  be merged with each other or with surrounding operations for performance.\n",
       "  For example, this may be implemented as an \u001b[36mfma\u001b[39m if the hardware supports it\n",
       "  efficiently. The result can be different on different machines and can also\n",
       "  be different on the same machine due to constant propagation or other\n",
       "  optimizations. See \u001b[36mfma\u001b[39m.\n",
       "\n",
       "\u001b[1m  Examples\u001b[22m\n",
       "\u001b[1m  ≡≡≡≡≡≡≡≡≡≡\u001b[22m\n",
       "\n",
       "\u001b[36m  julia> muladd(3, 2, 1)\u001b[39m\n",
       "\u001b[36m  7\u001b[39m\n",
       "\u001b[36m  \u001b[39m\n",
       "\u001b[36m  julia> 3 * 2 + 1\u001b[39m\n",
       "\u001b[36m  7\u001b[39m\n",
       "\n",
       "  ────────────────────────────────────────────────────────────────────────────\n",
       "\n",
       "\u001b[36m  muladd(A, y, z)\u001b[39m\n",
       "\n",
       "  Combined multiply-add, \u001b[36mA*y .+ z\u001b[39m, for matrix-matrix or matrix-vector\n",
       "  multiplication. The result is always the same size as \u001b[36mA*y\u001b[39m, but \u001b[36mz\u001b[39m may be\n",
       "  smaller, or a scalar.\n",
       "\n",
       "\u001b[39m\u001b[1m  │ \u001b[22m\u001b[39m\u001b[1mJulia 1.6\u001b[22m\n",
       "\u001b[39m\u001b[1m  │\u001b[22m\n",
       "\u001b[39m\u001b[1m  │\u001b[22m  These methods require Julia 1.6 or later.\n",
       "\n",
       "\u001b[1m  Examples\u001b[22m\n",
       "\u001b[1m  ≡≡≡≡≡≡≡≡≡≡\u001b[22m\n",
       "\n",
       "\u001b[36m  julia> A=[1.0 2.0; 3.0 4.0]; B=[1.0 1.0; 1.0 1.0]; z=[0, 100];\u001b[39m\n",
       "\u001b[36m  \u001b[39m\n",
       "\u001b[36m  julia> muladd(A, B, z)\u001b[39m\n",
       "\u001b[36m  2×2 Matrix{Float64}:\u001b[39m\n",
       "\u001b[36m     3.0    3.0\u001b[39m\n",
       "\u001b[36m   107.0  107.0\u001b[39m"
      ]
     },
     "execution_count": 77,
     "metadata": {},
     "output_type": "execute_result"
    }
   ],
   "source": [
    "?muladd"
   ]
  },
  {
   "cell_type": "code",
   "execution_count": 78,
   "id": "7b3482b8",
   "metadata": {},
   "outputs": [
    {
     "data": {
      "text/plain": [
       "10"
      ]
     },
     "execution_count": 78,
     "metadata": {},
     "output_type": "execute_result"
    }
   ],
   "source": [
    "muladd(2,3,4)"
   ]
  },
  {
   "cell_type": "code",
   "execution_count": 79,
   "id": "d11cba88",
   "metadata": {},
   "outputs": [
    {
     "data": {
      "text/plain": [
       "10"
      ]
     },
     "execution_count": 79,
     "metadata": {},
     "output_type": "execute_result"
    }
   ],
   "source": [
    "2*3+4"
   ]
  },
  {
   "cell_type": "code",
   "execution_count": 80,
   "id": "f27a015c",
   "metadata": {},
   "outputs": [
    {
     "data": {
      "text/plain": [
       "0.5403023058681398"
      ]
     },
     "execution_count": 80,
     "metadata": {},
     "output_type": "execute_result"
    }
   ],
   "source": [
    "cos(1)"
   ]
  },
  {
   "cell_type": "code",
   "execution_count": 81,
   "id": "7d7ae4a1",
   "metadata": {},
   "outputs": [
    {
     "data": {
      "text/html": [
       "# 21 methods for generic function <b>muladd</b>:<ul><li> muladd(A::<b>Union{LinearAlgebra.Adjoint{var\"#s859\", <:StridedMatrix{T} where T}, LinearAlgebra.Transpose{var\"#s859\", <:StridedMatrix{T} where T}, StridedMatrix{var\"#s859\"}} where var\"#s859\"<:Number</b>, y::<b>AbstractVector{<:Number}</b>, z::<b>Union{Number, AbstractVector}</b>) in LinearAlgebra at <a href=\"file:///buildworker/worker/package_linux64/build/usr/share/julia/stdlib/v1.7/LinearAlgebra/src/matmul.jl\" target=\"_blank\">/home/hesed/julia-1.7.2/share/julia/stdlib/v1.7/LinearAlgebra/src/matmul.jl:238</a></li> <li> muladd(A::<b>Union{LinearAlgebra.Adjoint{var\"#s859\", <:StridedMatrix{T} where T}, LinearAlgebra.Transpose{var\"#s859\", <:StridedMatrix{T} where T}, StridedMatrix{var\"#s859\"}} where var\"#s859\"<:Number</b>, B::<b>Union{LinearAlgebra.Adjoint{var\"#s858\", <:StridedMatrix{T} where T}, LinearAlgebra.Transpose{var\"#s858\", <:StridedMatrix{T} where T}, StridedMatrix{var\"#s858\"}} where var\"#s858\"<:Number</b>, z::<b>Union{Number, AbstractVecOrMat}</b>) in LinearAlgebra at <a href=\"file:///buildworker/worker/package_linux64/build/usr/share/julia/stdlib/v1.7/LinearAlgebra/src/matmul.jl\" target=\"_blank\">/home/hesed/julia-1.7.2/share/julia/stdlib/v1.7/LinearAlgebra/src/matmul.jl:245</a></li> <li> muladd(x::<b>LinearAlgebra.Transpose{T, <:AbstractVector} where T</b>, A::<b>AbstractMatrix</b>, z::<b>Union{Number, AbstractVecOrMat}</b>) in LinearAlgebra at <a href=\"file:///buildworker/worker/package_linux64/build/usr/share/julia/stdlib/v1.7/LinearAlgebra/src/matmul.jl\" target=\"_blank\">/home/hesed/julia-1.7.2/share/julia/stdlib/v1.7/LinearAlgebra/src/matmul.jl:233</a></li> <li> muladd(x::<b>LinearAlgebra.Adjoint{T, <:AbstractVector} where T</b>, A::<b>AbstractMatrix</b>, z::<b>Union{Number, AbstractVecOrMat}</b>) in LinearAlgebra at <a href=\"file:///buildworker/worker/package_linux64/build/usr/share/julia/stdlib/v1.7/LinearAlgebra/src/matmul.jl\" target=\"_blank\">/home/hesed/julia-1.7.2/share/julia/stdlib/v1.7/LinearAlgebra/src/matmul.jl:231</a></li> <li> muladd(u::<b>AbstractVector</b>, v::<b>Union{LinearAlgebra.Adjoint{T, var\"#s859\"}, LinearAlgebra.Transpose{T, var\"#s859\"}} where {T, var\"#s859\"<:(AbstractVector)}</b>, z::<b>Union{Number, AbstractArray}</b>) in LinearAlgebra at <a href=\"file:///buildworker/worker/package_linux64/build/usr/share/julia/stdlib/v1.7/LinearAlgebra/src/matmul.jl\" target=\"_blank\">/home/hesed/julia-1.7.2/share/julia/stdlib/v1.7/LinearAlgebra/src/matmul.jl:218</a></li> <li> muladd(z::<b>Complex</b>, w::<b>Complex</b>, x::<b>Complex</b>) in Base at <a href=\"https://github.com/JuliaLang/julia/tree/bf534986350a991e4a1b29126de0342ffd76205e/base/complex.jl#L293\" target=\"_blank\">complex.jl:293</a></li> <li> muladd(z::<b>Complex</b>, x::<b>Real</b>, y::<b>Real</b>) in Base at <a href=\"https://github.com/JuliaLang/julia/tree/bf534986350a991e4a1b29126de0342ffd76205e/base/complex.jl#L337\" target=\"_blank\">complex.jl:337</a></li> <li> muladd(z::<b>Complex</b>, x::<b>Real</b>, w::<b>Complex</b>) in Base at <a href=\"https://github.com/JuliaLang/julia/tree/bf534986350a991e4a1b29126de0342ffd76205e/base/complex.jl#L338\" target=\"_blank\">complex.jl:338</a></li> <li> muladd(z::<b>Complex</b>, w::<b>Complex</b>, x::<b>Real</b>) in Base at <a href=\"https://github.com/JuliaLang/julia/tree/bf534986350a991e4a1b29126de0342ffd76205e/base/complex.jl#L341\" target=\"_blank\">complex.jl:341</a></li> <li> muladd(x::<b>Real</b>, z::<b>Complex</b>, y::<b>Number</b>) in Base at <a href=\"https://github.com/JuliaLang/julia/tree/bf534986350a991e4a1b29126de0342ffd76205e/base/complex.jl#L336\" target=\"_blank\">complex.jl:336</a></li> <li> muladd(x::<b>Real</b>, y::<b>Real</b>, z::<b>Complex</b>) in Base at <a href=\"https://github.com/JuliaLang/julia/tree/bf534986350a991e4a1b29126de0342ffd76205e/base/complex.jl#L340\" target=\"_blank\">complex.jl:340</a></li> <li> muladd(A::<b>LinearAlgebra.UniformScaling</b>, B::<b>LinearAlgebra.UniformScaling</b>, z::<b>LinearAlgebra.UniformScaling</b>) in LinearAlgebra at <a href=\"file:///buildworker/worker/package_linux64/build/usr/share/julia/stdlib/v1.7/LinearAlgebra/src/uniformscaling.jl\" target=\"_blank\">/home/hesed/julia-1.7.2/share/julia/stdlib/v1.7/LinearAlgebra/src/uniformscaling.jl:511</a></li> <li> muladd(A::<b>LinearAlgebra.Diagonal</b>, B::<b>LinearAlgebra.Diagonal</b>, z::<b>LinearAlgebra.Diagonal</b>) in LinearAlgebra at <a href=\"file:///buildworker/worker/package_linux64/build/usr/share/julia/stdlib/v1.7/LinearAlgebra/src/diagonal.jl\" target=\"_blank\">/home/hesed/julia-1.7.2/share/julia/stdlib/v1.7/LinearAlgebra/src/diagonal.jl:746</a></li> <li> muladd(A::<b>Union{LinearAlgebra.Diagonal, LinearAlgebra.UniformScaling}</b>, B::<b>Union{LinearAlgebra.Diagonal, LinearAlgebra.UniformScaling}</b>, z::<b>Union{LinearAlgebra.Diagonal, LinearAlgebra.UniformScaling}</b>) in LinearAlgebra at <a href=\"file:///buildworker/worker/package_linux64/build/usr/share/julia/stdlib/v1.7/LinearAlgebra/src/uniformscaling.jl\" target=\"_blank\">/home/hesed/julia-1.7.2/share/julia/stdlib/v1.7/LinearAlgebra/src/uniformscaling.jl:513</a></li> <li> muladd(A::<b>AbstractMatrix</b>, y::<b>AbstractVecOrMat</b>, z::<b>Union{Number, AbstractArray}</b>) in LinearAlgebra at <a href=\"file:///buildworker/worker/package_linux64/build/usr/share/julia/stdlib/v1.7/LinearAlgebra/src/matmul.jl\" target=\"_blank\">/home/hesed/julia-1.7.2/share/julia/stdlib/v1.7/LinearAlgebra/src/matmul.jl:204</a></li> <li> muladd(x::<b>Float16</b>, y::<b>Float16</b>, z::<b>Float16</b>) in Base at <a href=\"https://github.com/JuliaLang/julia/tree/bf534986350a991e4a1b29126de0342ffd76205e/base/float.jl#L410\" target=\"_blank\">float.jl:410</a></li> <li> muladd(x::<b>Float64</b>, y::<b>Float64</b>, z::<b>Float64</b>) in Base at <a href=\"https://github.com/JuliaLang/julia/tree/bf534986350a991e4a1b29126de0342ffd76205e/base/float.jl#L412\" target=\"_blank\">float.jl:412</a></li> <li> muladd(x::<b>Float32</b>, y::<b>Float32</b>, z::<b>Float32</b>) in Base at <a href=\"https://github.com/JuliaLang/julia/tree/bf534986350a991e4a1b29126de0342ffd76205e/base/float.jl#L411\" target=\"_blank\">float.jl:411</a></li> <li> muladd(x::<b>T</b>, y::<b>T</b>, z::<b>T</b>)<i> where T<:Number</i> in Base at <a href=\"https://github.com/JuliaLang/julia/tree/bf534986350a991e4a1b29126de0342ffd76205e/base/promotion.jl#L462\" target=\"_blank\">promotion.jl:462</a></li> <li> muladd(x::<b>Number</b>, y::<b>Number</b>, z::<b>Number</b>) in Base at <a href=\"https://github.com/JuliaLang/julia/tree/bf534986350a991e4a1b29126de0342ffd76205e/base/promotion.jl#L416\" target=\"_blank\">promotion.jl:416</a></li> <li> muladd(x, y, z) in Base.Math at <a href=\"https://github.com/JuliaLang/julia/tree/bf534986350a991e4a1b29126de0342ffd76205e/base/math.jl#L1160\" target=\"_blank\">math.jl:1160</a></li> </ul>"
      ],
      "text/plain": [
       "# 21 methods for generic function \"muladd\":\n",
       "[1] muladd(A::Union{LinearAlgebra.Adjoint{var\"#s859\", <:StridedMatrix{T} where T}, LinearAlgebra.Transpose{var\"#s859\", <:StridedMatrix{T} where T}, StridedMatrix{var\"#s859\"}} where var\"#s859\"<:Number, y::AbstractVector{<:Number}, z::Union{Number, AbstractVector}) in LinearAlgebra at /home/hesed/julia-1.7.2/share/julia/stdlib/v1.7/LinearAlgebra/src/matmul.jl:238\n",
       "[2] muladd(A::Union{LinearAlgebra.Adjoint{var\"#s859\", <:StridedMatrix{T} where T}, LinearAlgebra.Transpose{var\"#s859\", <:StridedMatrix{T} where T}, StridedMatrix{var\"#s859\"}} where var\"#s859\"<:Number, B::Union{LinearAlgebra.Adjoint{var\"#s858\", <:StridedMatrix{T} where T}, LinearAlgebra.Transpose{var\"#s858\", <:StridedMatrix{T} where T}, StridedMatrix{var\"#s858\"}} where var\"#s858\"<:Number, z::Union{Number, AbstractVecOrMat}) in LinearAlgebra at /home/hesed/julia-1.7.2/share/julia/stdlib/v1.7/LinearAlgebra/src/matmul.jl:245\n",
       "[3] muladd(x::LinearAlgebra.Transpose{T, <:AbstractVector} where T, A::AbstractMatrix, z::Union{Number, AbstractVecOrMat}) in LinearAlgebra at /home/hesed/julia-1.7.2/share/julia/stdlib/v1.7/LinearAlgebra/src/matmul.jl:233\n",
       "[4] muladd(x::LinearAlgebra.Adjoint{T, <:AbstractVector} where T, A::AbstractMatrix, z::Union{Number, AbstractVecOrMat}) in LinearAlgebra at /home/hesed/julia-1.7.2/share/julia/stdlib/v1.7/LinearAlgebra/src/matmul.jl:231\n",
       "[5] muladd(u::AbstractVector, v::Union{LinearAlgebra.Adjoint{T, var\"#s859\"}, LinearAlgebra.Transpose{T, var\"#s859\"}} where {T, var\"#s859\"<:(AbstractVector)}, z::Union{Number, AbstractArray}) in LinearAlgebra at /home/hesed/julia-1.7.2/share/julia/stdlib/v1.7/LinearAlgebra/src/matmul.jl:218\n",
       "[6] muladd(z::Complex, w::Complex, x::Complex) in Base at complex.jl:293\n",
       "[7] muladd(z::Complex, x::Real, y::Real) in Base at complex.jl:337\n",
       "[8] muladd(z::Complex, x::Real, w::Complex) in Base at complex.jl:338\n",
       "[9] muladd(z::Complex, w::Complex, x::Real) in Base at complex.jl:341\n",
       "[10] muladd(x::Real, z::Complex, y::Number) in Base at complex.jl:336\n",
       "[11] muladd(x::Real, y::Real, z::Complex) in Base at complex.jl:340\n",
       "[12] muladd(A::LinearAlgebra.UniformScaling, B::LinearAlgebra.UniformScaling, z::LinearAlgebra.UniformScaling) in LinearAlgebra at /home/hesed/julia-1.7.2/share/julia/stdlib/v1.7/LinearAlgebra/src/uniformscaling.jl:511\n",
       "[13] muladd(A::LinearAlgebra.Diagonal, B::LinearAlgebra.Diagonal, z::LinearAlgebra.Diagonal) in LinearAlgebra at /home/hesed/julia-1.7.2/share/julia/stdlib/v1.7/LinearAlgebra/src/diagonal.jl:746\n",
       "[14] muladd(A::Union{LinearAlgebra.Diagonal, LinearAlgebra.UniformScaling}, B::Union{LinearAlgebra.Diagonal, LinearAlgebra.UniformScaling}, z::Union{LinearAlgebra.Diagonal, LinearAlgebra.UniformScaling}) in LinearAlgebra at /home/hesed/julia-1.7.2/share/julia/stdlib/v1.7/LinearAlgebra/src/uniformscaling.jl:513\n",
       "[15] muladd(A::AbstractMatrix, y::AbstractVecOrMat, z::Union{Number, AbstractArray}) in LinearAlgebra at /home/hesed/julia-1.7.2/share/julia/stdlib/v1.7/LinearAlgebra/src/matmul.jl:204\n",
       "[16] muladd(x::Float16, y::Float16, z::Float16) in Base at float.jl:410\n",
       "[17] muladd(x::Float64, y::Float64, z::Float64) in Base at float.jl:412\n",
       "[18] muladd(x::Float32, y::Float32, z::Float32) in Base at float.jl:411\n",
       "[19] muladd(x::T, y::T, z::T) where T<:Number in Base at promotion.jl:462\n",
       "[20] muladd(x::Number, y::Number, z::Number) in Base at promotion.jl:416\n",
       "[21] muladd(x, y, z) in Base.Math at math.jl:1160"
      ]
     },
     "execution_count": 81,
     "metadata": {},
     "output_type": "execute_result"
    }
   ],
   "source": [
    "methods(muladd)"
   ]
  },
  {
   "cell_type": "markdown",
   "id": "212bf9e6",
   "metadata": {},
   "source": [
    "## Defining Functions"
   ]
  },
  {
   "cell_type": "code",
   "execution_count": 82,
   "id": "cf41428a",
   "metadata": {},
   "outputs": [
    {
     "data": {
      "text/plain": [
       "myfunc (generic function with 1 method)"
      ]
     },
     "execution_count": 82,
     "metadata": {},
     "output_type": "execute_result"
    }
   ],
   "source": [
    "myfunc(x) = 20 * x"
   ]
  },
  {
   "cell_type": "code",
   "execution_count": 98,
   "id": "f3ff58a6",
   "metadata": {},
   "outputs": [
    {
     "name": "stdout",
     "output_type": "stream",
     "text": [
      "180\n",
      "0.0005309581756591797\n"
     ]
    }
   ],
   "source": [
    "a = time()\n",
    "println(myfunc(9))\n",
    "b = time()\n",
    "println(b-a)"
   ]
  },
  {
   "cell_type": "code",
   "execution_count": 84,
   "id": "464afeaf",
   "metadata": {},
   "outputs": [
    {
     "name": "stdout",
     "output_type": "stream",
     "text": [
      "search: \u001b[0m\u001b[1mt\u001b[22m\u001b[0m\u001b[1mi\u001b[22m\u001b[0m\u001b[1mm\u001b[22m\u001b[0m\u001b[1me\u001b[22m \u001b[0m\u001b[1mT\u001b[22m\u001b[0m\u001b[1mi\u001b[22m\u001b[0m\u001b[1mm\u001b[22m\u001b[0m\u001b[1me\u001b[22mr \u001b[0m\u001b[1mt\u001b[22m\u001b[0m\u001b[1mi\u001b[22m\u001b[0m\u001b[1mm\u001b[22m\u001b[0m\u001b[1me\u001b[22m_ns \u001b[0m\u001b[1mt\u001b[22m\u001b[0m\u001b[1mi\u001b[22m\u001b[0m\u001b[1mm\u001b[22m\u001b[0m\u001b[1me\u001b[22mdwait m\u001b[0m\u001b[1mt\u001b[22m\u001b[0m\u001b[1mi\u001b[22m\u001b[0m\u001b[1mm\u001b[22m\u001b[0m\u001b[1me\u001b[22m c\u001b[0m\u001b[1mt\u001b[22m\u001b[0m\u001b[1mi\u001b[22m\u001b[0m\u001b[1mm\u001b[22m\u001b[0m\u001b[1me\u001b[22m @\u001b[0m\u001b[1mt\u001b[22m\u001b[0m\u001b[1mi\u001b[22m\u001b[0m\u001b[1mm\u001b[22m\u001b[0m\u001b[1me\u001b[22m @\u001b[0m\u001b[1mt\u001b[22m\u001b[0m\u001b[1mi\u001b[22m\u001b[0m\u001b[1mm\u001b[22m\u001b[0m\u001b[1me\u001b[22mv @\u001b[0m\u001b[1mt\u001b[22m\u001b[0m\u001b[1mi\u001b[22m\u001b[0m\u001b[1mm\u001b[22m\u001b[0m\u001b[1me\u001b[22md is\u001b[0m\u001b[1mt\u001b[22mextm\u001b[0m\u001b[1mi\u001b[22m\u001b[0m\u001b[1mm\u001b[22m\u001b[0m\u001b[1me\u001b[22m\n",
      "\n"
     ]
    },
    {
     "data": {
      "text/latex": [
       "\\begin{verbatim}\n",
       "time(t::TmStruct)\n",
       "\\end{verbatim}\n",
       "Converts a \\texttt{TmStruct} struct to a number of seconds since the epoch.\n",
       "\n",
       "\\rule{\\textwidth}{1pt}\n",
       "\\begin{verbatim}\n",
       "time()\n",
       "\\end{verbatim}\n",
       "Get the system time in seconds since the epoch, with fairly high (typically, microsecond) resolution.\n",
       "\n"
      ],
      "text/markdown": [
       "```\n",
       "time(t::TmStruct)\n",
       "```\n",
       "\n",
       "Converts a `TmStruct` struct to a number of seconds since the epoch.\n",
       "\n",
       "---\n",
       "\n",
       "```\n",
       "time()\n",
       "```\n",
       "\n",
       "Get the system time in seconds since the epoch, with fairly high (typically, microsecond) resolution.\n"
      ],
      "text/plain": [
       "\u001b[36m  time(t::TmStruct)\u001b[39m\n",
       "\n",
       "  Converts a \u001b[36mTmStruct\u001b[39m struct to a number of seconds since the epoch.\n",
       "\n",
       "  ────────────────────────────────────────────────────────────────────────────\n",
       "\n",
       "\u001b[36m  time()\u001b[39m\n",
       "\n",
       "  Get the system time in seconds since the epoch, with fairly high (typically,\n",
       "  microsecond) resolution."
      ]
     },
     "execution_count": 84,
     "metadata": {},
     "output_type": "execute_result"
    }
   ],
   "source": [
    "?time"
   ]
  },
  {
   "cell_type": "code",
   "execution_count": 96,
   "id": "195d3e8e",
   "metadata": {},
   "outputs": [
    {
     "name": "stdout",
     "output_type": "stream",
     "text": [
      "0.00022602081298828125\n"
     ]
    }
   ],
   "source": [
    "a = time()\n",
    "b = time()\n",
    "println(b-a)"
   ]
  },
  {
   "cell_type": "code",
   "execution_count": 100,
   "id": "8d2c8d43",
   "metadata": {},
   "outputs": [
    {
     "data": {
      "text/plain": [
       "addxtoy (generic function with 1 method)"
      ]
     },
     "execution_count": 100,
     "metadata": {},
     "output_type": "execute_result"
    }
   ],
   "source": [
    "addxtoy(x, y) = x + y"
   ]
  },
  {
   "cell_type": "code",
   "execution_count": 108,
   "id": "e1300a6a",
   "metadata": {},
   "outputs": [
    {
     "data": {
      "text/html": [
       "addxtoy(x, y) in Main at In[100]:1"
      ],
      "text/plain": [
       "addxtoy(x, y) in Main at In[100]:1"
      ]
     },
     "execution_count": 108,
     "metadata": {},
     "output_type": "execute_result"
    }
   ],
   "source": [
    "# a = time()\n",
    "@which addxtoy(33, 23.5)\n",
    "# b = time()\n",
    "# println(b-a)"
   ]
  },
  {
   "cell_type": "code",
   "execution_count": 107,
   "id": "3ecafa66",
   "metadata": {},
   "outputs": [
    {
     "data": {
      "text/html": [
       "+(x::<b>Number</b>, y::<b>Number</b>) in Base at <a href=\"https://github.com/JuliaLang/julia/tree/bf534986350a991e4a1b29126de0342ffd76205e/base/promotion.jl#L379\" target=\"_blank\">promotion.jl:379</a>"
      ],
      "text/plain": [
       "+(x::Number, y::Number) in Base at promotion.jl:379"
      ]
     },
     "execution_count": 107,
     "metadata": {},
     "output_type": "execute_result"
    }
   ],
   "source": [
    "# a = time()\n",
    "@which 33 + 23.5\n",
    "# b = time()\n",
    "# println(b-a)"
   ]
  },
  {
   "cell_type": "code",
   "execution_count": 141,
   "id": "e445b64a",
   "metadata": {},
   "outputs": [
    {
     "data": {
      "text/plain": [
       "factorialx (generic function with 2 methods)"
      ]
     },
     "execution_count": 141,
     "metadata": {},
     "output_type": "execute_result"
    }
   ],
   "source": [
    "function factorialx(x::Int64)\n",
    "    if x == 1 || x == 0\n",
    "        return 1\n",
    "    else\n",
    "        return x * factorialx(x-1)\n",
    "    end\n",
    "end"
   ]
  },
  {
   "cell_type": "code",
   "execution_count": 177,
   "id": "e3c7070c",
   "metadata": {},
   "outputs": [
    {
     "name": "stdout",
     "output_type": "stream",
     "text": [
      "0.00039196014404296875"
     ]
    }
   ],
   "source": [
    "a = time()\n",
    "factorialx(3)\n",
    "b = time()\n",
    "\n",
    "print(b-a)"
   ]
  },
  {
   "cell_type": "code",
   "execution_count": 201,
   "id": "cb6af5cc",
   "metadata": {},
   "outputs": [
    {
     "name": "stdout",
     "output_type": "stream",
     "text": [
      "0.00019693374633789062"
     ]
    }
   ],
   "source": [
    "a = time()\n",
    "factorial(3)\n",
    "b = time()\n",
    "\n",
    "print(b-a)"
   ]
  },
  {
   "cell_type": "code",
   "execution_count": 118,
   "id": "e643ee3b",
   "metadata": {},
   "outputs": [
    {
     "name": "stdout",
     "output_type": "stream",
     "text": [
      "search: \u001b[0m\u001b[1mi\u001b[22m\u001b[0m\u001b[1mf\u001b[22m \u001b[0m\u001b[1mi\u001b[22m\u001b[0m\u001b[1mf\u001b[22melse d\u001b[0m\u001b[1mi\u001b[22m\u001b[0m\u001b[1mf\u001b[22mf not\u001b[0m\u001b[1mi\u001b[22m\u001b[0m\u001b[1mf\u001b[22my mod\u001b[0m\u001b[1mi\u001b[22m\u001b[0m\u001b[1mf\u001b[22myfield! mod\u001b[0m\u001b[1mi\u001b[22m\u001b[0m\u001b[1mf\u001b[22myproperty! else\u001b[0m\u001b[1mi\u001b[22m\u001b[0m\u001b[1mf\u001b[22m symd\u001b[0m\u001b[1mi\u001b[22m\u001b[0m\u001b[1mf\u001b[22mf\n",
      "\n"
     ]
    },
    {
     "data": {
      "text/latex": [
       "\\begin{verbatim}\n",
       "if/elseif/else\n",
       "\\end{verbatim}\n",
       "\\texttt{if}/\\texttt{elseif}/\\texttt{else} performs conditional evaluation, which allows portions of code to be evaluated or not evaluated depending on the value of a boolean expression. Here is the anatomy of the \\texttt{if}/\\texttt{elseif}/\\texttt{else} conditional syntax:\n",
       "\n",
       "\\begin{verbatim}\n",
       "if x < y\n",
       "    println(\"x is less than y\")\n",
       "elseif x > y\n",
       "    println(\"x is greater than y\")\n",
       "else\n",
       "    println(\"x is equal to y\")\n",
       "end\n",
       "\\end{verbatim}\n",
       "If the condition expression \\texttt{x < y} is true, then the corresponding block is evaluated; otherwise the condition expression \\texttt{x > y} is evaluated, and if it is true, the corresponding block is evaluated; if neither expression is true, the \\texttt{else} block is evaluated. The \\texttt{elseif} and \\texttt{else} blocks are optional, and as many \\texttt{elseif} blocks as desired can be used.\n",
       "\n",
       "In contrast to some other languages conditions must be of type \\texttt{Bool}. It does not suffice for conditions to be convertible to \\texttt{Bool}.\n",
       "\n",
       "\\begin{verbatim}\n",
       "julia> if 1 end\n",
       "ERROR: TypeError: non-boolean (Int64) used in boolean context\n",
       "\\end{verbatim}\n"
      ],
      "text/markdown": [
       "```\n",
       "if/elseif/else\n",
       "```\n",
       "\n",
       "`if`/`elseif`/`else` performs conditional evaluation, which allows portions of code to be evaluated or not evaluated depending on the value of a boolean expression. Here is the anatomy of the `if`/`elseif`/`else` conditional syntax:\n",
       "\n",
       "```julia\n",
       "if x < y\n",
       "    println(\"x is less than y\")\n",
       "elseif x > y\n",
       "    println(\"x is greater than y\")\n",
       "else\n",
       "    println(\"x is equal to y\")\n",
       "end\n",
       "```\n",
       "\n",
       "If the condition expression `x < y` is true, then the corresponding block is evaluated; otherwise the condition expression `x > y` is evaluated, and if it is true, the corresponding block is evaluated; if neither expression is true, the `else` block is evaluated. The `elseif` and `else` blocks are optional, and as many `elseif` blocks as desired can be used.\n",
       "\n",
       "In contrast to some other languages conditions must be of type `Bool`. It does not suffice for conditions to be convertible to `Bool`.\n",
       "\n",
       "```jldoctest\n",
       "julia> if 1 end\n",
       "ERROR: TypeError: non-boolean (Int64) used in boolean context\n",
       "```\n"
      ],
      "text/plain": [
       "\u001b[36m  if/elseif/else\u001b[39m\n",
       "\n",
       "  \u001b[36mif\u001b[39m/\u001b[36melseif\u001b[39m/\u001b[36melse\u001b[39m performs conditional evaluation, which allows portions of\n",
       "  code to be evaluated or not evaluated depending on the value of a boolean\n",
       "  expression. Here is the anatomy of the \u001b[36mif\u001b[39m/\u001b[36melseif\u001b[39m/\u001b[36melse\u001b[39m conditional syntax:\n",
       "\n",
       "\u001b[36m  if x < y\u001b[39m\n",
       "\u001b[36m      println(\"x is less than y\")\u001b[39m\n",
       "\u001b[36m  elseif x > y\u001b[39m\n",
       "\u001b[36m      println(\"x is greater than y\")\u001b[39m\n",
       "\u001b[36m  else\u001b[39m\n",
       "\u001b[36m      println(\"x is equal to y\")\u001b[39m\n",
       "\u001b[36m  end\u001b[39m\n",
       "\n",
       "  If the condition expression \u001b[36mx < y\u001b[39m is true, then the corresponding block is\n",
       "  evaluated; otherwise the condition expression \u001b[36mx > y\u001b[39m is evaluated, and if it\n",
       "  is true, the corresponding block is evaluated; if neither expression is\n",
       "  true, the \u001b[36melse\u001b[39m block is evaluated. The \u001b[36melseif\u001b[39m and \u001b[36melse\u001b[39m blocks are optional,\n",
       "  and as many \u001b[36melseif\u001b[39m blocks as desired can be used.\n",
       "\n",
       "  In contrast to some other languages conditions must be of type \u001b[36mBool\u001b[39m. It does\n",
       "  not suffice for conditions to be convertible to \u001b[36mBool\u001b[39m.\n",
       "\n",
       "\u001b[36m  julia> if 1 end\u001b[39m\n",
       "\u001b[36m  ERROR: TypeError: non-boolean (Int64) used in boolean context\u001b[39m"
      ]
     },
     "execution_count": 118,
     "metadata": {},
     "output_type": "execute_result"
    }
   ],
   "source": [
    "?if"
   ]
  },
  {
   "cell_type": "code",
   "execution_count": 131,
   "id": "9b93007f",
   "metadata": {},
   "outputs": [
    {
     "data": {
      "text/plain": [
       "somew (generic function with 1 method)"
      ]
     },
     "execution_count": 131,
     "metadata": {},
     "output_type": "execute_result"
    }
   ],
   "source": [
    "function somew(x)\n",
    "    if x == 2\n",
    "        return 1\n",
    "    end\n",
    "end"
   ]
  },
  {
   "cell_type": "code",
   "execution_count": 134,
   "id": "b40a186f",
   "metadata": {},
   "outputs": [
    {
     "data": {
      "text/plain": [
       "1"
      ]
     },
     "execution_count": 134,
     "metadata": {},
     "output_type": "execute_result"
    }
   ],
   "source": [
    "somew(2)"
   ]
  },
  {
   "cell_type": "code",
   "execution_count": 140,
   "id": "bb2a3540",
   "metadata": {},
   "outputs": [
    {
     "data": {
      "text/plain": [
       "true"
      ]
     },
     "execution_count": 140,
     "metadata": {},
     "output_type": "execute_result"
    }
   ],
   "source": [
    "true || false"
   ]
  },
  {
   "cell_type": "code",
   "execution_count": 202,
   "id": "3bda44e4",
   "metadata": {},
   "outputs": [
    {
     "name": "stdout",
     "output_type": "stream",
     "text": [
      "search: \u001b[0m\u001b[1m/\u001b[22m \u001b[0m\u001b[1m/\u001b[22m/\n",
      "\n"
     ]
    },
    {
     "data": {
      "text/latex": [
       "\\begin{verbatim}\n",
       "/(x, y)\n",
       "\\end{verbatim}\n",
       "Right division operator: multiplication of \\texttt{x} by the inverse of \\texttt{y} on the right. Gives floating-point results for integer arguments.\n",
       "\n",
       "\\section{Examples}\n",
       "\\begin{verbatim}\n",
       "julia> 1/2\n",
       "0.5\n",
       "\n",
       "julia> 4/2\n",
       "2.0\n",
       "\n",
       "julia> 4.5/2\n",
       "2.25\n",
       "\\end{verbatim}\n"
      ],
      "text/markdown": [
       "```\n",
       "/(x, y)\n",
       "```\n",
       "\n",
       "Right division operator: multiplication of `x` by the inverse of `y` on the right. Gives floating-point results for integer arguments.\n",
       "\n",
       "# Examples\n",
       "\n",
       "```jldoctest\n",
       "julia> 1/2\n",
       "0.5\n",
       "\n",
       "julia> 4/2\n",
       "2.0\n",
       "\n",
       "julia> 4.5/2\n",
       "2.25\n",
       "```\n"
      ],
      "text/plain": [
       "\u001b[36m  /(x, y)\u001b[39m\n",
       "\n",
       "  Right division operator: multiplication of \u001b[36mx\u001b[39m by the inverse of \u001b[36my\u001b[39m on the\n",
       "  right. Gives floating-point results for integer arguments.\n",
       "\n",
       "\u001b[1m  Examples\u001b[22m\n",
       "\u001b[1m  ≡≡≡≡≡≡≡≡≡≡\u001b[22m\n",
       "\n",
       "\u001b[36m  julia> 1/2\u001b[39m\n",
       "\u001b[36m  0.5\u001b[39m\n",
       "\u001b[36m  \u001b[39m\n",
       "\u001b[36m  julia> 4/2\u001b[39m\n",
       "\u001b[36m  2.0\u001b[39m\n",
       "\u001b[36m  \u001b[39m\n",
       "\u001b[36m  julia> 4.5/2\u001b[39m\n",
       "\u001b[36m  2.25\u001b[39m"
      ]
     },
     "execution_count": 202,
     "metadata": {},
     "output_type": "execute_result"
    }
   ],
   "source": [
    "?/"
   ]
  },
  {
   "cell_type": "code",
   "execution_count": 203,
   "id": "42c853d8",
   "metadata": {},
   "outputs": [
    {
     "data": {
      "text/html": [
       "# 111 methods for generic function <b>/</b>:<ul><li> /(x::<b>Union{Int128, Int16, Int32, Int64, Int8, UInt128, UInt16, UInt32, UInt64, UInt8}</b>, y::<b>Union{Int128, Int16, Int32, Int64, Int8, UInt128, UInt16, UInt32, UInt64, UInt8}</b>) in Base at <a href=\"https://github.com/JuliaLang/julia/tree/bf534986350a991e4a1b29126de0342ffd76205e/base/int.jl#L93\" target=\"_blank\">int.jl:93</a></li> <li> /(x::<b>Union{Integer, Complex{<:Union{Integer, Rational}}}</b>, y::<b>Rational</b>) in Base at <a href=\"https://github.com/JuliaLang/julia/tree/bf534986350a991e4a1b29126de0342ffd76205e/base/rational.jl#L345\" target=\"_blank\">rational.jl:345</a></li> <li> /(x::<b>Union{Int16, Int32, Int64, Int8, UInt16, UInt32, UInt64, UInt8}</b>, y::<b>BigInt</b>) in Base.GMP at <a href=\"https://github.com/JuliaLang/julia/tree/bf534986350a991e4a1b29126de0342ffd76205e/base/gmp.jl#L545\" target=\"_blank\">gmp.jl:545</a></li> <li> /(c::<b>Union{UInt16, UInt32, UInt64, UInt8}</b>, x::<b>BigFloat</b>) in Base.MPFR at <a href=\"https://github.com/JuliaLang/julia/tree/bf534986350a991e4a1b29126de0342ffd76205e/base/mpfr.jl#L433\" target=\"_blank\">mpfr.jl:433</a></li> <li> /(c::<b>Union{Int16, Int32, Int64, Int8}</b>, x::<b>BigFloat</b>) in Base.MPFR at <a href=\"https://github.com/JuliaLang/julia/tree/bf534986350a991e4a1b29126de0342ffd76205e/base/mpfr.jl#L445\" target=\"_blank\">mpfr.jl:445</a></li> <li> /(c::<b>Union{Float16, Float32, Float64}</b>, x::<b>BigFloat</b>) in Base.MPFR at <a href=\"https://github.com/JuliaLang/julia/tree/bf534986350a991e4a1b29126de0342ffd76205e/base/mpfr.jl#L457\" target=\"_blank\">mpfr.jl:457</a></li> <li> /(A::<b>Union{LinearAlgebra.AbstractTriangular, StridedMatrix}</b>, D::<b>LinearAlgebra.Diagonal</b>) in LinearAlgebra at <a href=\"file:///buildworker/worker/package_linux64/build/usr/share/julia/stdlib/v1.7/LinearAlgebra/src/diagonal.jl\" target=\"_blank\">/home/hesed/julia-1.7.2/share/julia/stdlib/v1.7/LinearAlgebra/src/diagonal.jl:494</a></li> <li> /(X::<b>StridedArray{P}</b>, y::<b>P</b>)<i> where P<:Dates.Period</i> in Dates at <a href=\"file:///buildworker/worker/package_linux64/build/usr/share/julia/stdlib/v1.7/Dates/src/deprecated.jl\" target=\"_blank\">/home/hesed/julia-1.7.2/share/julia/stdlib/v1.7/Dates/src/deprecated.jl:44</a></li> <li> /(X::<b>StridedArray{P}</b>, y::<b>Real</b>)<i> where P<:Dates.Period</i> in Dates at <a href=\"file:///buildworker/worker/package_linux64/build/usr/share/julia/stdlib/v1.7/Dates/src/deprecated.jl\" target=\"_blank\">/home/hesed/julia-1.7.2/share/julia/stdlib/v1.7/Dates/src/deprecated.jl:44</a></li> <li> /(x::<b>Union{SparseArrays.SparseVector{Tv, Ti}, SubArray{Tv, 1, <:SparseArrays.AbstractSparseMatrixCSC{Tv, Ti}, Tuple{Base.Slice{Base.OneTo{Int64}}, Int64}, false}, SubArray{Tv, 1, <:SparseArrays.AbstractSparseVector{Tv, Ti}, Tuple{Base.Slice{Base.OneTo{Int64}}}, false}} where {Tv, Ti}</b>, a::<b>Number</b>) in SparseArrays at <a href=\"file:///buildworker/worker/package_linux64/build/usr/share/julia/stdlib/v1.7/SparseArrays/src/sparsevector.jl\" target=\"_blank\">/home/hesed/julia-1.7.2/share/julia/stdlib/v1.7/SparseArrays/src/sparsevector.jl:1476</a></li> <li> /(A::<b>LinearAlgebra.Bidiagonal</b>, B::<b>Number</b>) in LinearAlgebra at <a href=\"file:///buildworker/worker/package_linux64/build/usr/share/julia/stdlib/v1.7/LinearAlgebra/src/bidiag.jl\" target=\"_blank\">/home/hesed/julia-1.7.2/share/julia/stdlib/v1.7/LinearAlgebra/src/bidiag.jl:375</a></li> <li> /(A::<b>LinearAlgebra.UnitLowerTriangular</b>, x::<b>Number</b>) in LinearAlgebra at <a href=\"file:///buildworker/worker/package_linux64/build/usr/share/julia/stdlib/v1.7/LinearAlgebra/src/triangular.jl\" target=\"_blank\">/home/hesed/julia-1.7.2/share/julia/stdlib/v1.7/LinearAlgebra/src/triangular.jl:871</a></li> <li> /(A::<b>LinearAlgebra.UnitLowerTriangular</b>, B::<b>LinearAlgebra.LowerTriangular</b>) in LinearAlgebra at <a href=\"file:///buildworker/worker/package_linux64/build/usr/share/julia/stdlib/v1.7/LinearAlgebra/src/triangular.jl\" target=\"_blank\">/home/hesed/julia-1.7.2/share/julia/stdlib/v1.7/LinearAlgebra/src/triangular.jl:1579</a></li> <li> /(A::<b>LinearAlgebra.UnitLowerTriangular</b>, B::<b>LinearAlgebra.UnitLowerTriangular</b>) in LinearAlgebra at <a href=\"file:///buildworker/worker/package_linux64/build/usr/share/julia/stdlib/v1.7/LinearAlgebra/src/triangular.jl\" target=\"_blank\">/home/hesed/julia-1.7.2/share/julia/stdlib/v1.7/LinearAlgebra/src/triangular.jl:1593</a></li> <li> /(x::<b>Rational</b>, y::<b>Union{Integer, Complex{<:Union{Integer, Rational}}, Rational}</b>) in Base at <a href=\"https://github.com/JuliaLang/julia/tree/bf534986350a991e4a1b29126de0342ffd76205e/base/rational.jl#L344\" target=\"_blank\">rational.jl:344</a></li> <li> /(x::<b>Number</b>, B::<b>BitArray</b>) in Base at <a href=\"https://github.com/JuliaLang/julia/tree/bf534986350a991e4a1b29126de0342ffd76205e/base/bitarray.jl#L1201\" target=\"_blank\">bitarray.jl:1201</a></li> <li> /(::<b>Number</b>, ::<b>Missing</b>) in Base at <a href=\"https://github.com/JuliaLang/julia/tree/bf534986350a991e4a1b29126de0342ffd76205e/base/missing.jl#L124\" target=\"_blank\">missing.jl:124</a></li> <li> /(x::<b>Number</b>, v::<b>AbstractVector</b>) in LinearAlgebra at <a href=\"file:///buildworker/worker/package_linux64/build/usr/share/julia/stdlib/v1.7/LinearAlgebra/src/generic.jl\" target=\"_blank\">/home/hesed/julia-1.7.2/share/julia/stdlib/v1.7/LinearAlgebra/src/generic.jl:1154</a></li> <li> /(a::<b>R</b>, z::<b>S</b>)<i> where {R<:Real, S<:Complex}</i> in Base at <a href=\"https://github.com/JuliaLang/julia/tree/bf534986350a991e4a1b29126de0342ffd76205e/base/complex.jl#L345\" target=\"_blank\">complex.jl:345</a></li> <li> /(A::<b>LinearAlgebra.UpperTriangular</b>, x::<b>Number</b>) in LinearAlgebra at <a href=\"file:///buildworker/worker/package_linux64/build/usr/share/julia/stdlib/v1.7/LinearAlgebra/src/triangular.jl\" target=\"_blank\">/home/hesed/julia-1.7.2/share/julia/stdlib/v1.7/LinearAlgebra/src/triangular.jl:869</a></li> <li> /(A::<b>LinearAlgebra.UpperTriangular</b>, B::<b>LinearAlgebra.UpperTriangular</b>) in LinearAlgebra at <a href=\"file:///buildworker/worker/package_linux64/build/usr/share/julia/stdlib/v1.7/LinearAlgebra/src/triangular.jl\" target=\"_blank\">/home/hesed/julia-1.7.2/share/julia/stdlib/v1.7/LinearAlgebra/src/triangular.jl:1600</a></li> <li> /(A::<b>LinearAlgebra.UpperTriangular</b>, B::<b>LinearAlgebra.UnitUpperTriangular</b>) in LinearAlgebra at <a href=\"file:///buildworker/worker/package_linux64/build/usr/share/julia/stdlib/v1.7/LinearAlgebra/src/triangular.jl\" target=\"_blank\">/home/hesed/julia-1.7.2/share/julia/stdlib/v1.7/LinearAlgebra/src/triangular.jl:1614</a></li> <li> /(A::<b>LinearAlgebra.SymTridiagonal</b>, B::<b>Number</b>) in LinearAlgebra at <a href=\"file:///buildworker/worker/package_linux64/build/usr/share/julia/stdlib/v1.7/LinearAlgebra/src/tridiag.jl\" target=\"_blank\">/home/hesed/julia-1.7.2/share/julia/stdlib/v1.7/LinearAlgebra/src/tridiag.jl:213</a></li> <li> /(A::<b>LinearAlgebra.Symmetric</b>, x::<b>Number</b>) in LinearAlgebra at <a href=\"file:///buildworker/worker/package_linux64/build/usr/share/julia/stdlib/v1.7/LinearAlgebra/src/symmetric.jl\" target=\"_blank\">/home/hesed/julia-1.7.2/share/julia/stdlib/v1.7/LinearAlgebra/src/symmetric.jl:638</a></li> <li> /(B::<b>LinearAlgebra.Transpose{T, <:AbstractVector} where T</b>, F::<b>LinearAlgebra.Transpose{<:Any, <:LinearAlgebra.Factorization{<:Real}}</b>) in LinearAlgebra at <a href=\"file:///buildworker/worker/package_linux64/build/usr/share/julia/stdlib/v1.7/LinearAlgebra/src/factorization.jl\" target=\"_blank\">/home/hesed/julia-1.7.2/share/julia/stdlib/v1.7/LinearAlgebra/src/factorization.jl:141</a></li> <li> /(B::<b>LinearAlgebra.Transpose{T, <:AbstractVector} where T</b>, F::<b>LinearAlgebra.Transpose{<:Any, <:LinearAlgebra.Factorization}</b>) in LinearAlgebra at <a href=\"file:///buildworker/worker/package_linux64/build/usr/share/julia/stdlib/v1.7/LinearAlgebra/src/factorization.jl\" target=\"_blank\">/home/hesed/julia-1.7.2/share/julia/stdlib/v1.7/LinearAlgebra/src/factorization.jl:143</a></li> <li> /(u::<b>LinearAlgebra.Transpose{T, <:AbstractVector} where T</b>, A::<b>LinearAlgebra.Adjoint{<:Any, <:AbstractMatrix}</b>) in LinearAlgebra at <a href=\"file:///buildworker/worker/package_linux64/build/usr/share/julia/stdlib/v1.7/LinearAlgebra/src/adjtrans.jl\" target=\"_blank\">/home/hesed/julia-1.7.2/share/julia/stdlib/v1.7/LinearAlgebra/src/adjtrans.jl:323</a></li> <li> /(trA::<b>LinearAlgebra.Transpose{<:Any, <:AbstractVector}</b>, F::<b>LinearAlgebra.Adjoint{<:Any, <:LinearAlgebra.LU}</b>) in LinearAlgebra at <a href=\"file:///buildworker/worker/package_linux64/build/usr/share/julia/stdlib/v1.7/LinearAlgebra/src/lu.jl\" target=\"_blank\">/home/hesed/julia-1.7.2/share/julia/stdlib/v1.7/LinearAlgebra/src/lu.jl:443</a></li> <li> /(B::<b>LinearAlgebra.Transpose{T, <:AbstractVector} where T</b>, adjF::<b>LinearAlgebra.Adjoint{<:Any, <:LinearAlgebra.Factorization}</b>) in LinearAlgebra at <a href=\"file:///buildworker/worker/package_linux64/build/usr/share/julia/stdlib/v1.7/LinearAlgebra/src/factorization.jl\" target=\"_blank\">/home/hesed/julia-1.7.2/share/julia/stdlib/v1.7/LinearAlgebra/src/factorization.jl:118</a></li> <li> /(trA::<b>LinearAlgebra.Transpose{<:Any, <:AbstractMatrix}</b>, F::<b>LinearAlgebra.Adjoint{<:Any, <:LinearAlgebra.LU}</b>) in LinearAlgebra at <a href=\"file:///buildworker/worker/package_linux64/build/usr/share/julia/stdlib/v1.7/LinearAlgebra/src/lu.jl\" target=\"_blank\">/home/hesed/julia-1.7.2/share/julia/stdlib/v1.7/LinearAlgebra/src/lu.jl:447</a></li> <li> /(u::<b>LinearAlgebra.Transpose{T, <:AbstractVector} where T</b>, A::<b>LinearAlgebra.LowerTriangular{<:Any, <:LinearAlgebra.Transpose}</b>) in LinearAlgebra at <a href=\"file:///buildworker/worker/package_linux64/build/usr/share/julia/stdlib/v1.7/LinearAlgebra/src/triangular.jl\" target=\"_blank\">/home/hesed/julia-1.7.2/share/julia/stdlib/v1.7/LinearAlgebra/src/triangular.jl:2587</a></li> <li> /(u::<b>LinearAlgebra.Transpose{T, <:AbstractVector} where T</b>, A::<b>LinearAlgebra.LowerTriangular{<:Any, <:LinearAlgebra.Adjoint}</b>) in LinearAlgebra at <a href=\"file:///buildworker/worker/package_linux64/build/usr/share/julia/stdlib/v1.7/LinearAlgebra/src/triangular.jl\" target=\"_blank\">/home/hesed/julia-1.7.2/share/julia/stdlib/v1.7/LinearAlgebra/src/triangular.jl:2586</a></li> <li> /(u::<b>LinearAlgebra.Transpose{T, <:AbstractVector} where T</b>, A::<b>LinearAlgebra.UnitLowerTriangular{<:Any, <:LinearAlgebra.Transpose}</b>) in LinearAlgebra at <a href=\"file:///buildworker/worker/package_linux64/build/usr/share/julia/stdlib/v1.7/LinearAlgebra/src/triangular.jl\" target=\"_blank\">/home/hesed/julia-1.7.2/share/julia/stdlib/v1.7/LinearAlgebra/src/triangular.jl:2587</a></li> <li> /(u::<b>LinearAlgebra.Transpose{T, <:AbstractVector} where T</b>, A::<b>LinearAlgebra.UnitLowerTriangular{<:Any, <:LinearAlgebra.Adjoint}</b>) in LinearAlgebra at <a href=\"file:///buildworker/worker/package_linux64/build/usr/share/julia/stdlib/v1.7/LinearAlgebra/src/triangular.jl\" target=\"_blank\">/home/hesed/julia-1.7.2/share/julia/stdlib/v1.7/LinearAlgebra/src/triangular.jl:2586</a></li> <li> /(u::<b>LinearAlgebra.Transpose{T, <:AbstractVector} where T</b>, A::<b>LinearAlgebra.UnitUpperTriangular{<:Any, <:LinearAlgebra.Transpose}</b>) in LinearAlgebra at <a href=\"file:///buildworker/worker/package_linux64/build/usr/share/julia/stdlib/v1.7/LinearAlgebra/src/triangular.jl\" target=\"_blank\">/home/hesed/julia-1.7.2/share/julia/stdlib/v1.7/LinearAlgebra/src/triangular.jl:2587</a></li> <li> /(u::<b>LinearAlgebra.Transpose{T, <:AbstractVector} where T</b>, A::<b>LinearAlgebra.UnitUpperTriangular{<:Any, <:LinearAlgebra.Adjoint}</b>) in LinearAlgebra at <a href=\"file:///buildworker/worker/package_linux64/build/usr/share/julia/stdlib/v1.7/LinearAlgebra/src/triangular.jl\" target=\"_blank\">/home/hesed/julia-1.7.2/share/julia/stdlib/v1.7/LinearAlgebra/src/triangular.jl:2586</a></li> <li> /(u::<b>LinearAlgebra.Transpose{T, <:AbstractVector} where T</b>, A::<b>Union{LinearAlgebra.UnitLowerTriangular, LinearAlgebra.UnitUpperTriangular}</b>) in LinearAlgebra at <a href=\"file:///buildworker/worker/package_linux64/build/usr/share/julia/stdlib/v1.7/LinearAlgebra/src/triangular.jl\" target=\"_blank\">/home/hesed/julia-1.7.2/share/julia/stdlib/v1.7/LinearAlgebra/src/triangular.jl:2580</a></li> <li> /(u::<b>LinearAlgebra.Transpose{T, <:AbstractVector} where T</b>, A::<b>LinearAlgebra.UpperTriangular{<:Any, <:LinearAlgebra.Transpose}</b>) in LinearAlgebra at <a href=\"file:///buildworker/worker/package_linux64/build/usr/share/julia/stdlib/v1.7/LinearAlgebra/src/triangular.jl\" target=\"_blank\">/home/hesed/julia-1.7.2/share/julia/stdlib/v1.7/LinearAlgebra/src/triangular.jl:2587</a></li> <li> /(u::<b>LinearAlgebra.Transpose{T, <:AbstractVector} where T</b>, A::<b>LinearAlgebra.UpperTriangular{<:Any, <:LinearAlgebra.Adjoint}</b>) in LinearAlgebra at <a href=\"file:///buildworker/worker/package_linux64/build/usr/share/julia/stdlib/v1.7/LinearAlgebra/src/triangular.jl\" target=\"_blank\">/home/hesed/julia-1.7.2/share/julia/stdlib/v1.7/LinearAlgebra/src/triangular.jl:2586</a></li> <li> /(u::<b>LinearAlgebra.Transpose{T, <:AbstractVector} where T</b>, A::<b>Union{LinearAlgebra.LowerTriangular, LinearAlgebra.UpperTriangular}</b>) in LinearAlgebra at <a href=\"file:///buildworker/worker/package_linux64/build/usr/share/julia/stdlib/v1.7/LinearAlgebra/src/triangular.jl\" target=\"_blank\">/home/hesed/julia-1.7.2/share/julia/stdlib/v1.7/LinearAlgebra/src/triangular.jl:2579</a></li> <li> /(u::<b>LinearAlgebra.Transpose{T, <:AbstractVector} where T</b>, A::<b>AbstractMatrix</b>) in LinearAlgebra at <a href=\"file:///buildworker/worker/package_linux64/build/usr/share/julia/stdlib/v1.7/LinearAlgebra/src/adjtrans.jl\" target=\"_blank\">/home/hesed/julia-1.7.2/share/julia/stdlib/v1.7/LinearAlgebra/src/adjtrans.jl:321</a></li> <li> /(z::<b>Complex</b>, x::<b>Real</b>) in Base at <a href=\"https://github.com/JuliaLang/julia/tree/bf534986350a991e4a1b29126de0342ffd76205e/base/complex.jl#L346\" target=\"_blank\">complex.jl:346</a></li> <li> /(A::<b>LinearAlgebra.LowerTriangular</b>, x::<b>Number</b>) in LinearAlgebra at <a href=\"file:///buildworker/worker/package_linux64/build/usr/share/julia/stdlib/v1.7/LinearAlgebra/src/triangular.jl\" target=\"_blank\">/home/hesed/julia-1.7.2/share/julia/stdlib/v1.7/LinearAlgebra/src/triangular.jl:869</a></li> <li> /(A::<b>LinearAlgebra.LowerTriangular</b>, B::<b>LinearAlgebra.LowerTriangular</b>) in LinearAlgebra at <a href=\"file:///buildworker/worker/package_linux64/build/usr/share/julia/stdlib/v1.7/LinearAlgebra/src/triangular.jl\" target=\"_blank\">/home/hesed/julia-1.7.2/share/julia/stdlib/v1.7/LinearAlgebra/src/triangular.jl:1572</a></li> <li> /(A::<b>LinearAlgebra.LowerTriangular</b>, B::<b>LinearAlgebra.UnitLowerTriangular</b>) in LinearAlgebra at <a href=\"file:///buildworker/worker/package_linux64/build/usr/share/julia/stdlib/v1.7/LinearAlgebra/src/triangular.jl\" target=\"_blank\">/home/hesed/julia-1.7.2/share/julia/stdlib/v1.7/LinearAlgebra/src/triangular.jl:1586</a></li> <li> /(A::<b>LinearAlgebra.Hermitian</b>, x::<b>Real</b>) in LinearAlgebra at <a href=\"file:///buildworker/worker/package_linux64/build/usr/share/julia/stdlib/v1.7/LinearAlgebra/src/symmetric.jl\" target=\"_blank\">/home/hesed/julia-1.7.2/share/julia/stdlib/v1.7/LinearAlgebra/src/symmetric.jl:639</a></li> <li> /(H::<b>LinearAlgebra.UpperHessenberg</b>, x::<b>Number</b>) in LinearAlgebra at <a href=\"file:///buildworker/worker/package_linux64/build/usr/share/julia/stdlib/v1.7/LinearAlgebra/src/hessenberg.jl\" target=\"_blank\">/home/hesed/julia-1.7.2/share/julia/stdlib/v1.7/LinearAlgebra/src/hessenberg.jl:116</a></li> <li> /(H::<b>LinearAlgebra.UpperHessenberg</b>, x::<b>LinearAlgebra.UniformScaling</b>) in LinearAlgebra at <a href=\"file:///buildworker/worker/package_linux64/build/usr/share/julia/stdlib/v1.7/LinearAlgebra/src/hessenberg.jl\" target=\"_blank\">/home/hesed/julia-1.7.2/share/julia/stdlib/v1.7/LinearAlgebra/src/hessenberg.jl:116</a></li> <li> /(A::<b>AbstractMatrix</b>, J::<b>LinearAlgebra.UniformScaling</b>) in LinearAlgebra at <a href=\"file:///buildworker/worker/package_linux64/build/usr/share/julia/stdlib/v1.7/LinearAlgebra/src/uniformscaling.jl\" target=\"_blank\">/home/hesed/julia-1.7.2/share/julia/stdlib/v1.7/LinearAlgebra/src/uniformscaling.jl:270</a></li> <li> /(v::<b>AbstractVector</b>, J::<b>LinearAlgebra.UniformScaling</b>) in LinearAlgebra at <a href=\"file:///buildworker/worker/package_linux64/build/usr/share/julia/stdlib/v1.7/LinearAlgebra/src/uniformscaling.jl\" target=\"_blank\">/home/hesed/julia-1.7.2/share/julia/stdlib/v1.7/LinearAlgebra/src/uniformscaling.jl:271</a></li> <li> /(H::<b>LinearAlgebra.UpperHessenberg</b>, x::<b>LinearAlgebra.Diagonal</b>) in LinearAlgebra at <a href=\"file:///buildworker/worker/package_linux64/build/usr/share/julia/stdlib/v1.7/LinearAlgebra/src/hessenberg.jl\" target=\"_blank\">/home/hesed/julia-1.7.2/share/julia/stdlib/v1.7/LinearAlgebra/src/hessenberg.jl:116</a></li> <li> /(H::<b>LinearAlgebra.UpperHessenberg</b>, U::<b>LinearAlgebra.UpperTriangular</b>) in LinearAlgebra at <a href=\"file:///buildworker/worker/package_linux64/build/usr/share/julia/stdlib/v1.7/LinearAlgebra/src/hessenberg.jl\" target=\"_blank\">/home/hesed/julia-1.7.2/share/julia/stdlib/v1.7/LinearAlgebra/src/hessenberg.jl:136</a></li> <li> /(H::<b>LinearAlgebra.UpperHessenberg</b>, U::<b>LinearAlgebra.UnitUpperTriangular</b>) in LinearAlgebra at <a href=\"file:///buildworker/worker/package_linux64/build/usr/share/julia/stdlib/v1.7/LinearAlgebra/src/hessenberg.jl\" target=\"_blank\">/home/hesed/julia-1.7.2/share/julia/stdlib/v1.7/LinearAlgebra/src/hessenberg.jl:143</a></li> <li> /(H::<b>LinearAlgebra.UpperHessenberg</b>, B::<b>LinearAlgebra.Bidiagonal</b>) in LinearAlgebra at <a href=\"file:///buildworker/worker/package_linux64/build/usr/share/julia/stdlib/v1.7/LinearAlgebra/src/hessenberg.jl\" target=\"_blank\">/home/hesed/julia-1.7.2/share/julia/stdlib/v1.7/LinearAlgebra/src/hessenberg.jl:183</a></li> <li> /(x::<b>AbstractIrrational</b>, y::<b>AbstractIrrational</b>) in Base at <a href=\"https://github.com/JuliaLang/julia/tree/bf534986350a991e4a1b29126de0342ffd76205e/base/irrationals.jl#L158\" target=\"_blank\">irrationals.jl:158</a></li> <li> /(x::<b>Base.TwicePrecision</b>, v::<b>Number</b>) in Base at <a href=\"https://github.com/JuliaLang/julia/tree/bf534986350a991e4a1b29126de0342ffd76205e/base/twiceprecision.jl#L315\" target=\"_blank\">twiceprecision.jl:315</a></li> <li> /(x::<b>Base.TwicePrecision</b>, y::<b>Base.TwicePrecision</b>) in Base at <a href=\"https://github.com/JuliaLang/julia/tree/bf534986350a991e4a1b29126de0342ffd76205e/base/twiceprecision.jl#L319\" target=\"_blank\">twiceprecision.jl:319</a></li> <li> /(u::<b>LinearAlgebra.Adjoint{T, <:AbstractVector} where T</b>, A::<b>LinearAlgebra.Transpose{<:Any, <:AbstractMatrix}</b>) in LinearAlgebra at <a href=\"file:///buildworker/worker/package_linux64/build/usr/share/julia/stdlib/v1.7/LinearAlgebra/src/adjtrans.jl\" target=\"_blank\">/home/hesed/julia-1.7.2/share/julia/stdlib/v1.7/LinearAlgebra/src/adjtrans.jl:322</a></li> <li> /(u::<b>LinearAlgebra.Adjoint{T, <:AbstractVector} where T</b>, A::<b>Union{LinearAlgebra.LowerTriangular, LinearAlgebra.UpperTriangular}</b>) in LinearAlgebra at <a href=\"file:///buildworker/worker/package_linux64/build/usr/share/julia/stdlib/v1.7/LinearAlgebra/src/triangular.jl\" target=\"_blank\">/home/hesed/julia-1.7.2/share/julia/stdlib/v1.7/LinearAlgebra/src/triangular.jl:2576</a></li> <li> /(u::<b>LinearAlgebra.Adjoint{T, <:AbstractVector} where T</b>, A::<b>Union{LinearAlgebra.UnitLowerTriangular, LinearAlgebra.UnitUpperTriangular}</b>) in LinearAlgebra at <a href=\"file:///buildworker/worker/package_linux64/build/usr/share/julia/stdlib/v1.7/LinearAlgebra/src/triangular.jl\" target=\"_blank\">/home/hesed/julia-1.7.2/share/julia/stdlib/v1.7/LinearAlgebra/src/triangular.jl:2577</a></li> <li> /(B::<b>LinearAlgebra.Adjoint{T, <:AbstractVector} where T</b>, F::<b>LinearAlgebra.Transpose{<:Any, <:LinearAlgebra.Factorization{<:Real}}</b>) in LinearAlgebra at <a href=\"file:///buildworker/worker/package_linux64/build/usr/share/julia/stdlib/v1.7/LinearAlgebra/src/factorization.jl\" target=\"_blank\">/home/hesed/julia-1.7.2/share/julia/stdlib/v1.7/LinearAlgebra/src/factorization.jl:140</a></li> <li> /(B::<b>AbstractMatrix</b>, F::<b>LinearAlgebra.Transpose{<:Any, <:LinearAlgebra.Factorization{<:Real}}</b>) in LinearAlgebra at <a href=\"file:///buildworker/worker/package_linux64/build/usr/share/julia/stdlib/v1.7/LinearAlgebra/src/factorization.jl\" target=\"_blank\">/home/hesed/julia-1.7.2/share/julia/stdlib/v1.7/LinearAlgebra/src/factorization.jl:138</a></li> <li> /(B::<b>LinearAlgebra.Adjoint{T, <:AbstractVector} where T</b>, F::<b>LinearAlgebra.Transpose{<:Any, <:LinearAlgebra.Factorization}</b>) in LinearAlgebra at <a href=\"file:///buildworker/worker/package_linux64/build/usr/share/julia/stdlib/v1.7/LinearAlgebra/src/factorization.jl\" target=\"_blank\">/home/hesed/julia-1.7.2/share/julia/stdlib/v1.7/LinearAlgebra/src/factorization.jl:142</a></li> <li> /(B::<b>AbstractMatrix</b>, F::<b>LinearAlgebra.Transpose{<:Any, <:LinearAlgebra.Factorization}</b>) in LinearAlgebra at <a href=\"file:///buildworker/worker/package_linux64/build/usr/share/julia/stdlib/v1.7/LinearAlgebra/src/factorization.jl\" target=\"_blank\">/home/hesed/julia-1.7.2/share/julia/stdlib/v1.7/LinearAlgebra/src/factorization.jl:139</a></li> <li> /(adjA::<b>LinearAlgebra.Adjoint{<:Any, <:AbstractVector}</b>, F::<b>LinearAlgebra.Adjoint{<:Any, <:LinearAlgebra.LU}</b>) in LinearAlgebra at <a href=\"file:///buildworker/worker/package_linux64/build/usr/share/julia/stdlib/v1.7/LinearAlgebra/src/lu.jl\" target=\"_blank\">/home/hesed/julia-1.7.2/share/julia/stdlib/v1.7/LinearAlgebra/src/lu.jl:441</a></li> <li> /(adjB::<b>LinearAlgebra.Adjoint{T, <:AbstractVector} where T</b>, adjF::<b>LinearAlgebra.Adjoint{<:Any, <:LinearAlgebra.Factorization}</b>) in LinearAlgebra at <a href=\"file:///buildworker/worker/package_linux64/build/usr/share/julia/stdlib/v1.7/LinearAlgebra/src/factorization.jl\" target=\"_blank\">/home/hesed/julia-1.7.2/share/julia/stdlib/v1.7/LinearAlgebra/src/factorization.jl:117</a></li> <li> /(u::<b>LinearAlgebra.Adjoint{T, <:AbstractVector} where T</b>, A::<b>AbstractMatrix</b>) in LinearAlgebra at <a href=\"file:///buildworker/worker/package_linux64/build/usr/share/julia/stdlib/v1.7/LinearAlgebra/src/adjtrans.jl\" target=\"_blank\">/home/hesed/julia-1.7.2/share/julia/stdlib/v1.7/LinearAlgebra/src/adjtrans.jl:320</a></li> <li> /(adjA::<b>LinearAlgebra.Adjoint{<:Any, <:AbstractMatrix}</b>, F::<b>LinearAlgebra.Adjoint{<:Any, <:LinearAlgebra.LU}</b>) in LinearAlgebra at <a href=\"file:///buildworker/worker/package_linux64/build/usr/share/julia/stdlib/v1.7/LinearAlgebra/src/lu.jl\" target=\"_blank\">/home/hesed/julia-1.7.2/share/julia/stdlib/v1.7/LinearAlgebra/src/lu.jl:442</a></li> <li> /(A::<b>AbstractMatrix</b>, F::<b>LinearAlgebra.Adjoint{<:Any, <:LinearAlgebra.LU}</b>) in LinearAlgebra at <a href=\"file:///buildworker/worker/package_linux64/build/usr/share/julia/stdlib/v1.7/LinearAlgebra/src/lu.jl\" target=\"_blank\">/home/hesed/julia-1.7.2/share/julia/stdlib/v1.7/LinearAlgebra/src/lu.jl:436</a></li> <li> /(A::<b>LinearAlgebra.UnitUpperTriangular</b>, x::<b>Number</b>) in LinearAlgebra at <a href=\"file:///buildworker/worker/package_linux64/build/usr/share/julia/stdlib/v1.7/LinearAlgebra/src/triangular.jl\" target=\"_blank\">/home/hesed/julia-1.7.2/share/julia/stdlib/v1.7/LinearAlgebra/src/triangular.jl:871</a></li> <li> /(A::<b>LinearAlgebra.UnitUpperTriangular</b>, B::<b>LinearAlgebra.UpperTriangular</b>) in LinearAlgebra at <a href=\"file:///buildworker/worker/package_linux64/build/usr/share/julia/stdlib/v1.7/LinearAlgebra/src/triangular.jl\" target=\"_blank\">/home/hesed/julia-1.7.2/share/julia/stdlib/v1.7/LinearAlgebra/src/triangular.jl:1607</a></li> <li> /(A::<b>AbstractVector</b>, B::<b>Union{LinearAlgebra.LowerTriangular, LinearAlgebra.UpperTriangular}</b>) in LinearAlgebra at <a href=\"file:///buildworker/worker/package_linux64/build/usr/share/julia/stdlib/v1.7/LinearAlgebra/src/triangular.jl\" target=\"_blank\">/home/hesed/julia-1.7.2/share/julia/stdlib/v1.7/LinearAlgebra/src/triangular.jl:1672</a></li> <li> /(A::<b>AbstractMatrix</b>, B::<b>Union{LinearAlgebra.LowerTriangular, LinearAlgebra.UpperTriangular}</b>) in LinearAlgebra at <a href=\"file:///buildworker/worker/package_linux64/build/usr/share/julia/stdlib/v1.7/LinearAlgebra/src/triangular.jl\" target=\"_blank\">/home/hesed/julia-1.7.2/share/julia/stdlib/v1.7/LinearAlgebra/src/triangular.jl:1672</a></li> <li> /(A::<b>LinearAlgebra.UnitUpperTriangular</b>, B::<b>LinearAlgebra.UnitUpperTriangular</b>) in LinearAlgebra at <a href=\"file:///buildworker/worker/package_linux64/build/usr/share/julia/stdlib/v1.7/LinearAlgebra/src/triangular.jl\" target=\"_blank\">/home/hesed/julia-1.7.2/share/julia/stdlib/v1.7/LinearAlgebra/src/triangular.jl:1621</a></li> <li> /(A::<b>AbstractVector</b>, B::<b>Union{LinearAlgebra.UnitLowerTriangular, LinearAlgebra.UnitUpperTriangular}</b>) in LinearAlgebra at <a href=\"file:///buildworker/worker/package_linux64/build/usr/share/julia/stdlib/v1.7/LinearAlgebra/src/triangular.jl\" target=\"_blank\">/home/hesed/julia-1.7.2/share/julia/stdlib/v1.7/LinearAlgebra/src/triangular.jl:1664</a></li> <li> /(A::<b>AbstractMatrix</b>, B::<b>Union{LinearAlgebra.UnitLowerTriangular, LinearAlgebra.UnitUpperTriangular}</b>) in LinearAlgebra at <a href=\"file:///buildworker/worker/package_linux64/build/usr/share/julia/stdlib/v1.7/LinearAlgebra/src/triangular.jl\" target=\"_blank\">/home/hesed/julia-1.7.2/share/julia/stdlib/v1.7/LinearAlgebra/src/triangular.jl:1664</a></li> <li> /(A::<b>SparseArrays.AbstractSparseMatrixCSC</b>, D::<b>LinearAlgebra.Diagonal</b>) in SparseArrays at <a href=\"file:///buildworker/worker/package_linux64/build/usr/share/julia/stdlib/v1.7/SparseArrays/src/linalg.jl\" target=\"_blank\">/home/hesed/julia-1.7.2/share/julia/stdlib/v1.7/SparseArrays/src/linalg.jl:152</a></li> <li> /(D::<b>LinearAlgebra.Diagonal</b>, x::<b>Number</b>) in LinearAlgebra at <a href=\"file:///buildworker/worker/package_linux64/build/usr/share/julia/stdlib/v1.7/LinearAlgebra/src/diagonal.jl\" target=\"_blank\">/home/hesed/julia-1.7.2/share/julia/stdlib/v1.7/LinearAlgebra/src/diagonal.jl:192</a></li> <li> /(Da::<b>LinearAlgebra.Diagonal</b>, Db::<b>LinearAlgebra.Diagonal</b>) in LinearAlgebra at <a href=\"file:///buildworker/worker/package_linux64/build/usr/share/julia/stdlib/v1.7/LinearAlgebra/src/diagonal.jl\" target=\"_blank\">/home/hesed/julia-1.7.2/share/julia/stdlib/v1.7/LinearAlgebra/src/diagonal.jl:451</a></li> <li> /(J1::<b>LinearAlgebra.UniformScaling</b>, J2::<b>LinearAlgebra.UniformScaling</b>) in LinearAlgebra at <a href=\"file:///buildworker/worker/package_linux64/build/usr/share/julia/stdlib/v1.7/LinearAlgebra/src/uniformscaling.jl\" target=\"_blank\">/home/hesed/julia-1.7.2/share/julia/stdlib/v1.7/LinearAlgebra/src/uniformscaling.jl:267</a></li> <li> /(J::<b>LinearAlgebra.UniformScaling</b>, A::<b>AbstractMatrix</b>) in LinearAlgebra at <a href=\"file:///buildworker/worker/package_linux64/build/usr/share/julia/stdlib/v1.7/LinearAlgebra/src/uniformscaling.jl\" target=\"_blank\">/home/hesed/julia-1.7.2/share/julia/stdlib/v1.7/LinearAlgebra/src/uniformscaling.jl:268</a></li> <li> /(J::<b>LinearAlgebra.UniformScaling</b>, x::<b>Number</b>) in LinearAlgebra at <a href=\"file:///buildworker/worker/package_linux64/build/usr/share/julia/stdlib/v1.7/LinearAlgebra/src/uniformscaling.jl\" target=\"_blank\">/home/hesed/julia-1.7.2/share/julia/stdlib/v1.7/LinearAlgebra/src/uniformscaling.jl:273</a></li> <li> /(r::<b>AbstractRange{<:P}</b>, x::<b>P</b>)<i> where P<:Dates.Period</i> in Dates at <a href=\"file:///buildworker/worker/package_linux64/build/usr/share/julia/stdlib/v1.7/Dates/src/ranges.jl\" target=\"_blank\">/home/hesed/julia-1.7.2/share/julia/stdlib/v1.7/Dates/src/ranges.jl:67</a></li> <li> /(B::<b>Union{Array{Complex{T}, 1}, Array{Complex{T}, 2}}</b>, F::<b>LinearAlgebra.Factorization{T}</b>)<i> where T<:Union{Float32, Float64}</i> in LinearAlgebra at <a href=\"file:///buildworker/worker/package_linux64/build/usr/share/julia/stdlib/v1.7/LinearAlgebra/src/factorization.jl\" target=\"_blank\">/home/hesed/julia-1.7.2/share/julia/stdlib/v1.7/LinearAlgebra/src/factorization.jl:96</a></li> <li> /(B::<b>AbstractMatrix</b>, F::<b>Union{LinearAlgebra.Adjoint{<:Any, <:LinearAlgebra.Factorization}, LinearAlgebra.Factorization}</b>) in LinearAlgebra at <a href=\"file:///buildworker/worker/package_linux64/build/usr/share/julia/stdlib/v1.7/LinearAlgebra/src/factorization.jl\" target=\"_blank\">/home/hesed/julia-1.7.2/share/julia/stdlib/v1.7/LinearAlgebra/src/factorization.jl:110</a></li> <li> /(A::<b>LinearAlgebra.Tridiagonal</b>, B::<b>Number</b>) in LinearAlgebra at <a href=\"file:///buildworker/worker/package_linux64/build/usr/share/julia/stdlib/v1.7/LinearAlgebra/src/tridiag.jl\" target=\"_blank\">/home/hesed/julia-1.7.2/share/julia/stdlib/v1.7/LinearAlgebra/src/tridiag.jl:744</a></li> <li> /(A::<b>Union{BitMatrix, BitVector}</b>, B::<b>Union{BitMatrix, BitVector}</b>) in Base at <a href=\"https://github.com/JuliaLang/julia/tree/bf534986350a991e4a1b29126de0342ffd76205e/base/bitarray.jl#L1197\" target=\"_blank\">bitarray.jl:1197</a></li> <li> /(A::<b>AbstractVecOrMat</b>, B::<b>AbstractVecOrMat</b>) in LinearAlgebra at <a href=\"file:///buildworker/worker/package_linux64/build/usr/share/julia/stdlib/v1.7/LinearAlgebra/src/generic.jl\" target=\"_blank\">/home/hesed/julia-1.7.2/share/julia/stdlib/v1.7/LinearAlgebra/src/generic.jl:1148</a></li> <li> /(B::<b>BitArray</b>, x::<b>Number</b>) in Base at <a href=\"https://github.com/JuliaLang/julia/tree/bf534986350a991e4a1b29126de0342ffd76205e/base/bitarray.jl#L1200\" target=\"_blank\">bitarray.jl:1200</a></li> <li> /(r::<b>StepRangeLen{<:Real, <:Base.TwicePrecision}</b>, x::<b>Real</b>) in Base at <a href=\"https://github.com/JuliaLang/julia/tree/bf534986350a991e4a1b29126de0342ffd76205e/base/twiceprecision.jl#L524\" target=\"_blank\">twiceprecision.jl:524</a></li> <li> /(A::<b>AbstractArray</b>, B::<b>Number</b>) in Base at <a href=\"https://github.com/JuliaLang/julia/tree/bf534986350a991e4a1b29126de0342ffd76205e/base/arraymath.jl#L55\" target=\"_blank\">arraymath.jl:55</a></li> <li> /(x::<b>P</b>, y::<b>P</b>)<i> where P<:Dates.Period</i> in Dates at <a href=\"file:///buildworker/worker/package_linux64/build/usr/share/julia/stdlib/v1.7/Dates/src/periods.jl\" target=\"_blank\">/home/hesed/julia-1.7.2/share/julia/stdlib/v1.7/Dates/src/periods.jl:82</a></li> <li> /(x::<b>P</b>, y::<b>Real</b>)<i> where P<:Dates.Period</i> in Dates at <a href=\"file:///buildworker/worker/package_linux64/build/usr/share/julia/stdlib/v1.7/Dates/src/periods.jl\" target=\"_blank\">/home/hesed/julia-1.7.2/share/julia/stdlib/v1.7/Dates/src/periods.jl:83</a></li> <li> /(x::<b>BigFloat</b>, c::<b>Union{UInt16, UInt32, UInt64, UInt8}</b>) in Base.MPFR at <a href=\"https://github.com/JuliaLang/julia/tree/bf534986350a991e4a1b29126de0342ffd76205e/base/mpfr.jl#L428\" target=\"_blank\">mpfr.jl:428</a></li> <li> /(x::<b>BigFloat</b>, c::<b>Union{Int16, Int32, Int64, Int8}</b>) in Base.MPFR at <a href=\"https://github.com/JuliaLang/julia/tree/bf534986350a991e4a1b29126de0342ffd76205e/base/mpfr.jl#L440\" target=\"_blank\">mpfr.jl:440</a></li> <li> /(x::<b>BigFloat</b>, c::<b>Union{Float16, Float32, Float64}</b>) in Base.MPFR at <a href=\"https://github.com/JuliaLang/julia/tree/bf534986350a991e4a1b29126de0342ffd76205e/base/mpfr.jl#L452\" target=\"_blank\">mpfr.jl:452</a></li> <li> /(x::<b>BigFloat</b>, y::<b>BigFloat</b>) in Base.MPFR at <a href=\"https://github.com/JuliaLang/julia/tree/bf534986350a991e4a1b29126de0342ffd76205e/base/mpfr.jl#L421\" target=\"_blank\">mpfr.jl:421</a></li> <li> /(x::<b>BigFloat</b>, c::<b>BigInt</b>) in Base.MPFR at <a href=\"https://github.com/JuliaLang/julia/tree/bf534986350a991e4a1b29126de0342ffd76205e/base/mpfr.jl#L464\" target=\"_blank\">mpfr.jl:464</a></li> <li> /(x::<b>BigInt</b>, y::<b>Union{Int16, Int32, Int64, Int8, UInt16, UInt32, UInt64, UInt8}</b>) in Base.GMP at <a href=\"https://github.com/JuliaLang/julia/tree/bf534986350a991e4a1b29126de0342ffd76205e/base/gmp.jl#L544\" target=\"_blank\">gmp.jl:544</a></li> <li> /(x::<b>BigInt</b>, y::<b>BigInt</b>) in Base.GMP at <a href=\"https://github.com/JuliaLang/julia/tree/bf534986350a991e4a1b29126de0342ffd76205e/base/gmp.jl#L495\" target=\"_blank\">gmp.jl:495</a></li> <li> /(x::<b>T</b>, y::<b>T</b>)<i> where T<:Integer</i> in Base at <a href=\"https://github.com/JuliaLang/julia/tree/bf534986350a991e4a1b29126de0342ffd76205e/base/int.jl#L91\" target=\"_blank\">int.jl:91</a></li> <li> /(z::<b>ComplexF64</b>, w::<b>ComplexF64</b>) in Base at <a href=\"https://github.com/JuliaLang/julia/tree/bf534986350a991e4a1b29126de0342ffd76205e/base/complex.jl#L381\" target=\"_blank\">complex.jl:381</a></li> <li> /(z::<b>Complex{T}</b>, w::<b>Complex{T}</b>)<i> where T<:Union{Float16, Float32}</i> in Base at <a href=\"https://github.com/JuliaLang/julia/tree/bf534986350a991e4a1b29126de0342ffd76205e/base/complex.jl#L372\" target=\"_blank\">complex.jl:372</a></li> <li> /(a::<b>Complex{T}</b>, b::<b>Complex{T}</b>)<i> where T<:Real</i> in Base at <a href=\"https://github.com/JuliaLang/julia/tree/bf534986350a991e4a1b29126de0342ffd76205e/base/complex.jl#L348\" target=\"_blank\">complex.jl:348</a></li> <li> /(x::<b>Float16</b>, y::<b>Float16</b>) in Base at <a href=\"https://github.com/JuliaLang/julia/tree/bf534986350a991e4a1b29126de0342ffd76205e/base/float.jl#L406\" target=\"_blank\">float.jl:406</a></li> <li> /(::<b>Missing</b>, ::<b>Number</b>) in Base at <a href=\"https://github.com/JuliaLang/julia/tree/bf534986350a991e4a1b29126de0342ffd76205e/base/missing.jl#L123\" target=\"_blank\">missing.jl:123</a></li> <li> /(::<b>Missing</b>, ::<b>Missing</b>) in Base at <a href=\"https://github.com/JuliaLang/julia/tree/bf534986350a991e4a1b29126de0342ffd76205e/base/missing.jl#L122\" target=\"_blank\">missing.jl:122</a></li> <li> /(x::<b>Float64</b>, y::<b>Float64</b>) in Base at <a href=\"https://github.com/JuliaLang/julia/tree/bf534986350a991e4a1b29126de0342ffd76205e/base/float.jl#L408\" target=\"_blank\">float.jl:408</a></li> <li> /(x::<b>Float32</b>, y::<b>Float32</b>) in Base at <a href=\"https://github.com/JuliaLang/julia/tree/bf534986350a991e4a1b29126de0342ffd76205e/base/float.jl#L407\" target=\"_blank\">float.jl:407</a></li> <li> /(x::<b>T</b>, y::<b>T</b>)<i> where T<:Number</i> in Base at <a href=\"https://github.com/JuliaLang/julia/tree/bf534986350a991e4a1b29126de0342ffd76205e/base/promotion.jl#L457\" target=\"_blank\">promotion.jl:457</a></li> <li> /(x::<b>Number</b>, y::<b>Number</b>) in Base at <a href=\"https://github.com/JuliaLang/julia/tree/bf534986350a991e4a1b29126de0342ffd76205e/base/promotion.jl#L382\" target=\"_blank\">promotion.jl:382</a></li> </ul>"
      ],
      "text/plain": [
       "# 111 methods for generic function \"/\":\n",
       "[1] /(x::Union{Int128, Int16, Int32, Int64, Int8, UInt128, UInt16, UInt32, UInt64, UInt8}, y::Union{Int128, Int16, Int32, Int64, Int8, UInt128, UInt16, UInt32, UInt64, UInt8}) in Base at int.jl:93\n",
       "[2] /(x::Union{Integer, Complex{<:Union{Integer, Rational}}}, y::Rational) in Base at rational.jl:345\n",
       "[3] /(x::Union{Int16, Int32, Int64, Int8, UInt16, UInt32, UInt64, UInt8}, y::BigInt) in Base.GMP at gmp.jl:545\n",
       "[4] /(c::Union{UInt16, UInt32, UInt64, UInt8}, x::BigFloat) in Base.MPFR at mpfr.jl:433\n",
       "[5] /(c::Union{Int16, Int32, Int64, Int8}, x::BigFloat) in Base.MPFR at mpfr.jl:445\n",
       "[6] /(c::Union{Float16, Float32, Float64}, x::BigFloat) in Base.MPFR at mpfr.jl:457\n",
       "[7] /(A::Union{LinearAlgebra.AbstractTriangular, StridedMatrix}, D::LinearAlgebra.Diagonal) in LinearAlgebra at /home/hesed/julia-1.7.2/share/julia/stdlib/v1.7/LinearAlgebra/src/diagonal.jl:494\n",
       "[8] /(X::StridedArray{P}, y::P) where P<:Dates.Period in Dates at /home/hesed/julia-1.7.2/share/julia/stdlib/v1.7/Dates/src/deprecated.jl:44\n",
       "[9] /(X::StridedArray{P}, y::Real) where P<:Dates.Period in Dates at /home/hesed/julia-1.7.2/share/julia/stdlib/v1.7/Dates/src/deprecated.jl:44\n",
       "[10] /(x::Union{SparseArrays.SparseVector{Tv, Ti}, SubArray{Tv, 1, <:SparseArrays.AbstractSparseMatrixCSC{Tv, Ti}, Tuple{Base.Slice{Base.OneTo{Int64}}, Int64}, false}, SubArray{Tv, 1, <:SparseArrays.AbstractSparseVector{Tv, Ti}, Tuple{Base.Slice{Base.OneTo{Int64}}}, false}} where {Tv, Ti}, a::Number) in SparseArrays at /home/hesed/julia-1.7.2/share/julia/stdlib/v1.7/SparseArrays/src/sparsevector.jl:1476\n",
       "[11] /(A::LinearAlgebra.Bidiagonal, B::Number) in LinearAlgebra at /home/hesed/julia-1.7.2/share/julia/stdlib/v1.7/LinearAlgebra/src/bidiag.jl:375\n",
       "[12] /(A::LinearAlgebra.UnitLowerTriangular, x::Number) in LinearAlgebra at /home/hesed/julia-1.7.2/share/julia/stdlib/v1.7/LinearAlgebra/src/triangular.jl:871\n",
       "[13] /(A::LinearAlgebra.UnitLowerTriangular, B::LinearAlgebra.LowerTriangular) in LinearAlgebra at /home/hesed/julia-1.7.2/share/julia/stdlib/v1.7/LinearAlgebra/src/triangular.jl:1579\n",
       "[14] /(A::LinearAlgebra.UnitLowerTriangular, B::LinearAlgebra.UnitLowerTriangular) in LinearAlgebra at /home/hesed/julia-1.7.2/share/julia/stdlib/v1.7/LinearAlgebra/src/triangular.jl:1593\n",
       "[15] /(x::Rational, y::Union{Integer, Complex{<:Union{Integer, Rational}}, Rational}) in Base at rational.jl:344\n",
       "[16] /(x::Number, B::BitArray) in Base at bitarray.jl:1201\n",
       "[17] /(::Number, ::Missing) in Base at missing.jl:124\n",
       "[18] /(x::Number, v::AbstractVector) in LinearAlgebra at /home/hesed/julia-1.7.2/share/julia/stdlib/v1.7/LinearAlgebra/src/generic.jl:1154\n",
       "[19] /(a::R, z::S) where {R<:Real, S<:Complex} in Base at complex.jl:345\n",
       "[20] /(A::LinearAlgebra.UpperTriangular, x::Number) in LinearAlgebra at /home/hesed/julia-1.7.2/share/julia/stdlib/v1.7/LinearAlgebra/src/triangular.jl:869\n",
       "[21] /(A::LinearAlgebra.UpperTriangular, B::LinearAlgebra.UpperTriangular) in LinearAlgebra at /home/hesed/julia-1.7.2/share/julia/stdlib/v1.7/LinearAlgebra/src/triangular.jl:1600\n",
       "[22] /(A::LinearAlgebra.UpperTriangular, B::LinearAlgebra.UnitUpperTriangular) in LinearAlgebra at /home/hesed/julia-1.7.2/share/julia/stdlib/v1.7/LinearAlgebra/src/triangular.jl:1614\n",
       "[23] /(A::LinearAlgebra.SymTridiagonal, B::Number) in LinearAlgebra at /home/hesed/julia-1.7.2/share/julia/stdlib/v1.7/LinearAlgebra/src/tridiag.jl:213\n",
       "[24] /(A::LinearAlgebra.Symmetric, x::Number) in LinearAlgebra at /home/hesed/julia-1.7.2/share/julia/stdlib/v1.7/LinearAlgebra/src/symmetric.jl:638\n",
       "[25] /(B::LinearAlgebra.Transpose{T, <:AbstractVector} where T, F::LinearAlgebra.Transpose{<:Any, <:LinearAlgebra.Factorization{<:Real}}) in LinearAlgebra at /home/hesed/julia-1.7.2/share/julia/stdlib/v1.7/LinearAlgebra/src/factorization.jl:141\n",
       "[26] /(B::LinearAlgebra.Transpose{T, <:AbstractVector} where T, F::LinearAlgebra.Transpose{<:Any, <:LinearAlgebra.Factorization}) in LinearAlgebra at /home/hesed/julia-1.7.2/share/julia/stdlib/v1.7/LinearAlgebra/src/factorization.jl:143\n",
       "[27] /(u::LinearAlgebra.Transpose{T, <:AbstractVector} where T, A::LinearAlgebra.Adjoint{<:Any, <:AbstractMatrix}) in LinearAlgebra at /home/hesed/julia-1.7.2/share/julia/stdlib/v1.7/LinearAlgebra/src/adjtrans.jl:323\n",
       "[28] /(trA::LinearAlgebra.Transpose{<:Any, <:AbstractVector}, F::LinearAlgebra.Adjoint{<:Any, <:LinearAlgebra.LU}) in LinearAlgebra at /home/hesed/julia-1.7.2/share/julia/stdlib/v1.7/LinearAlgebra/src/lu.jl:443\n",
       "[29] /(B::LinearAlgebra.Transpose{T, <:AbstractVector} where T, adjF::LinearAlgebra.Adjoint{<:Any, <:LinearAlgebra.Factorization}) in LinearAlgebra at /home/hesed/julia-1.7.2/share/julia/stdlib/v1.7/LinearAlgebra/src/factorization.jl:118\n",
       "[30] /(trA::LinearAlgebra.Transpose{<:Any, <:AbstractMatrix}, F::LinearAlgebra.Adjoint{<:Any, <:LinearAlgebra.LU}) in LinearAlgebra at /home/hesed/julia-1.7.2/share/julia/stdlib/v1.7/LinearAlgebra/src/lu.jl:447\n",
       "[31] /(u::LinearAlgebra.Transpose{T, <:AbstractVector} where T, A::LinearAlgebra.LowerTriangular{<:Any, <:LinearAlgebra.Transpose}) in LinearAlgebra at /home/hesed/julia-1.7.2/share/julia/stdlib/v1.7/LinearAlgebra/src/triangular.jl:2587\n",
       "[32] /(u::LinearAlgebra.Transpose{T, <:AbstractVector} where T, A::LinearAlgebra.LowerTriangular{<:Any, <:LinearAlgebra.Adjoint}) in LinearAlgebra at /home/hesed/julia-1.7.2/share/julia/stdlib/v1.7/LinearAlgebra/src/triangular.jl:2586\n",
       "[33] /(u::LinearAlgebra.Transpose{T, <:AbstractVector} where T, A::LinearAlgebra.UnitLowerTriangular{<:Any, <:LinearAlgebra.Transpose}) in LinearAlgebra at /home/hesed/julia-1.7.2/share/julia/stdlib/v1.7/LinearAlgebra/src/triangular.jl:2587\n",
       "[34] /(u::LinearAlgebra.Transpose{T, <:AbstractVector} where T, A::LinearAlgebra.UnitLowerTriangular{<:Any, <:LinearAlgebra.Adjoint}) in LinearAlgebra at /home/hesed/julia-1.7.2/share/julia/stdlib/v1.7/LinearAlgebra/src/triangular.jl:2586\n",
       "[35] /(u::LinearAlgebra.Transpose{T, <:AbstractVector} where T, A::LinearAlgebra.UnitUpperTriangular{<:Any, <:LinearAlgebra.Transpose}) in LinearAlgebra at /home/hesed/julia-1.7.2/share/julia/stdlib/v1.7/LinearAlgebra/src/triangular.jl:2587\n",
       "[36] /(u::LinearAlgebra.Transpose{T, <:AbstractVector} where T, A::LinearAlgebra.UnitUpperTriangular{<:Any, <:LinearAlgebra.Adjoint}) in LinearAlgebra at /home/hesed/julia-1.7.2/share/julia/stdlib/v1.7/LinearAlgebra/src/triangular.jl:2586\n",
       "[37] /(u::LinearAlgebra.Transpose{T, <:AbstractVector} where T, A::Union{LinearAlgebra.UnitLowerTriangular, LinearAlgebra.UnitUpperTriangular}) in LinearAlgebra at /home/hesed/julia-1.7.2/share/julia/stdlib/v1.7/LinearAlgebra/src/triangular.jl:2580\n",
       "[38] /(u::LinearAlgebra.Transpose{T, <:AbstractVector} where T, A::LinearAlgebra.UpperTriangular{<:Any, <:LinearAlgebra.Transpose}) in LinearAlgebra at /home/hesed/julia-1.7.2/share/julia/stdlib/v1.7/LinearAlgebra/src/triangular.jl:2587\n",
       "[39] /(u::LinearAlgebra.Transpose{T, <:AbstractVector} where T, A::LinearAlgebra.UpperTriangular{<:Any, <:LinearAlgebra.Adjoint}) in LinearAlgebra at /home/hesed/julia-1.7.2/share/julia/stdlib/v1.7/LinearAlgebra/src/triangular.jl:2586\n",
       "[40] /(u::LinearAlgebra.Transpose{T, <:AbstractVector} where T, A::Union{LinearAlgebra.LowerTriangular, LinearAlgebra.UpperTriangular}) in LinearAlgebra at /home/hesed/julia-1.7.2/share/julia/stdlib/v1.7/LinearAlgebra/src/triangular.jl:2579\n",
       "[41] /(u::LinearAlgebra.Transpose{T, <:AbstractVector} where T, A::AbstractMatrix) in LinearAlgebra at /home/hesed/julia-1.7.2/share/julia/stdlib/v1.7/LinearAlgebra/src/adjtrans.jl:321\n",
       "[42] /(z::Complex, x::Real) in Base at complex.jl:346\n",
       "[43] /(A::LinearAlgebra.LowerTriangular, x::Number) in LinearAlgebra at /home/hesed/julia-1.7.2/share/julia/stdlib/v1.7/LinearAlgebra/src/triangular.jl:869\n",
       "[44] /(A::LinearAlgebra.LowerTriangular, B::LinearAlgebra.LowerTriangular) in LinearAlgebra at /home/hesed/julia-1.7.2/share/julia/stdlib/v1.7/LinearAlgebra/src/triangular.jl:1572\n",
       "[45] /(A::LinearAlgebra.LowerTriangular, B::LinearAlgebra.UnitLowerTriangular) in LinearAlgebra at /home/hesed/julia-1.7.2/share/julia/stdlib/v1.7/LinearAlgebra/src/triangular.jl:1586\n",
       "[46] /(A::LinearAlgebra.Hermitian, x::Real) in LinearAlgebra at /home/hesed/julia-1.7.2/share/julia/stdlib/v1.7/LinearAlgebra/src/symmetric.jl:639\n",
       "[47] /(H::LinearAlgebra.UpperHessenberg, x::Number) in LinearAlgebra at /home/hesed/julia-1.7.2/share/julia/stdlib/v1.7/LinearAlgebra/src/hessenberg.jl:116\n",
       "[48] /(H::LinearAlgebra.UpperHessenberg, x::LinearAlgebra.UniformScaling) in LinearAlgebra at /home/hesed/julia-1.7.2/share/julia/stdlib/v1.7/LinearAlgebra/src/hessenberg.jl:116\n",
       "[49] /(A::AbstractMatrix, J::LinearAlgebra.UniformScaling) in LinearAlgebra at /home/hesed/julia-1.7.2/share/julia/stdlib/v1.7/LinearAlgebra/src/uniformscaling.jl:270\n",
       "[50] /(v::AbstractVector, J::LinearAlgebra.UniformScaling) in LinearAlgebra at /home/hesed/julia-1.7.2/share/julia/stdlib/v1.7/LinearAlgebra/src/uniformscaling.jl:271\n",
       "[51] /(H::LinearAlgebra.UpperHessenberg, x::LinearAlgebra.Diagonal) in LinearAlgebra at /home/hesed/julia-1.7.2/share/julia/stdlib/v1.7/LinearAlgebra/src/hessenberg.jl:116\n",
       "[52] /(H::LinearAlgebra.UpperHessenberg, U::LinearAlgebra.UpperTriangular) in LinearAlgebra at /home/hesed/julia-1.7.2/share/julia/stdlib/v1.7/LinearAlgebra/src/hessenberg.jl:136\n",
       "[53] /(H::LinearAlgebra.UpperHessenberg, U::LinearAlgebra.UnitUpperTriangular) in LinearAlgebra at /home/hesed/julia-1.7.2/share/julia/stdlib/v1.7/LinearAlgebra/src/hessenberg.jl:143\n",
       "[54] /(H::LinearAlgebra.UpperHessenberg, B::LinearAlgebra.Bidiagonal) in LinearAlgebra at /home/hesed/julia-1.7.2/share/julia/stdlib/v1.7/LinearAlgebra/src/hessenberg.jl:183\n",
       "[55] /(x::AbstractIrrational, y::AbstractIrrational) in Base at irrationals.jl:158\n",
       "[56] /(x::Base.TwicePrecision, v::Number) in Base at twiceprecision.jl:315\n",
       "[57] /(x::Base.TwicePrecision, y::Base.TwicePrecision) in Base at twiceprecision.jl:319\n",
       "[58] /(u::LinearAlgebra.Adjoint{T, <:AbstractVector} where T, A::LinearAlgebra.Transpose{<:Any, <:AbstractMatrix}) in LinearAlgebra at /home/hesed/julia-1.7.2/share/julia/stdlib/v1.7/LinearAlgebra/src/adjtrans.jl:322\n",
       "[59] /(u::LinearAlgebra.Adjoint{T, <:AbstractVector} where T, A::Union{LinearAlgebra.LowerTriangular, LinearAlgebra.UpperTriangular}) in LinearAlgebra at /home/hesed/julia-1.7.2/share/julia/stdlib/v1.7/LinearAlgebra/src/triangular.jl:2576\n",
       "[60] /(u::LinearAlgebra.Adjoint{T, <:AbstractVector} where T, A::Union{LinearAlgebra.UnitLowerTriangular, LinearAlgebra.UnitUpperTriangular}) in LinearAlgebra at /home/hesed/julia-1.7.2/share/julia/stdlib/v1.7/LinearAlgebra/src/triangular.jl:2577\n",
       "[61] /(B::LinearAlgebra.Adjoint{T, <:AbstractVector} where T, F::LinearAlgebra.Transpose{<:Any, <:LinearAlgebra.Factorization{<:Real}}) in LinearAlgebra at /home/hesed/julia-1.7.2/share/julia/stdlib/v1.7/LinearAlgebra/src/factorization.jl:140\n",
       "[62] /(B::AbstractMatrix, F::LinearAlgebra.Transpose{<:Any, <:LinearAlgebra.Factorization{<:Real}}) in LinearAlgebra at /home/hesed/julia-1.7.2/share/julia/stdlib/v1.7/LinearAlgebra/src/factorization.jl:138\n",
       "[63] /(B::LinearAlgebra.Adjoint{T, <:AbstractVector} where T, F::LinearAlgebra.Transpose{<:Any, <:LinearAlgebra.Factorization}) in LinearAlgebra at /home/hesed/julia-1.7.2/share/julia/stdlib/v1.7/LinearAlgebra/src/factorization.jl:142\n",
       "[64] /(B::AbstractMatrix, F::LinearAlgebra.Transpose{<:Any, <:LinearAlgebra.Factorization}) in LinearAlgebra at /home/hesed/julia-1.7.2/share/julia/stdlib/v1.7/LinearAlgebra/src/factorization.jl:139\n",
       "[65] /(adjA::LinearAlgebra.Adjoint{<:Any, <:AbstractVector}, F::LinearAlgebra.Adjoint{<:Any, <:LinearAlgebra.LU}) in LinearAlgebra at /home/hesed/julia-1.7.2/share/julia/stdlib/v1.7/LinearAlgebra/src/lu.jl:441\n",
       "[66] /(adjB::LinearAlgebra.Adjoint{T, <:AbstractVector} where T, adjF::LinearAlgebra.Adjoint{<:Any, <:LinearAlgebra.Factorization}) in LinearAlgebra at /home/hesed/julia-1.7.2/share/julia/stdlib/v1.7/LinearAlgebra/src/factorization.jl:117\n",
       "[67] /(u::LinearAlgebra.Adjoint{T, <:AbstractVector} where T, A::AbstractMatrix) in LinearAlgebra at /home/hesed/julia-1.7.2/share/julia/stdlib/v1.7/LinearAlgebra/src/adjtrans.jl:320\n",
       "[68] /(adjA::LinearAlgebra.Adjoint{<:Any, <:AbstractMatrix}, F::LinearAlgebra.Adjoint{<:Any, <:LinearAlgebra.LU}) in LinearAlgebra at /home/hesed/julia-1.7.2/share/julia/stdlib/v1.7/LinearAlgebra/src/lu.jl:442\n",
       "[69] /(A::AbstractMatrix, F::LinearAlgebra.Adjoint{<:Any, <:LinearAlgebra.LU}) in LinearAlgebra at /home/hesed/julia-1.7.2/share/julia/stdlib/v1.7/LinearAlgebra/src/lu.jl:436\n",
       "[70] /(A::LinearAlgebra.UnitUpperTriangular, x::Number) in LinearAlgebra at /home/hesed/julia-1.7.2/share/julia/stdlib/v1.7/LinearAlgebra/src/triangular.jl:871\n",
       "[71] /(A::LinearAlgebra.UnitUpperTriangular, B::LinearAlgebra.UpperTriangular) in LinearAlgebra at /home/hesed/julia-1.7.2/share/julia/stdlib/v1.7/LinearAlgebra/src/triangular.jl:1607\n",
       "[72] /(A::AbstractVector, B::Union{LinearAlgebra.LowerTriangular, LinearAlgebra.UpperTriangular}) in LinearAlgebra at /home/hesed/julia-1.7.2/share/julia/stdlib/v1.7/LinearAlgebra/src/triangular.jl:1672\n",
       "[73] /(A::AbstractMatrix, B::Union{LinearAlgebra.LowerTriangular, LinearAlgebra.UpperTriangular}) in LinearAlgebra at /home/hesed/julia-1.7.2/share/julia/stdlib/v1.7/LinearAlgebra/src/triangular.jl:1672\n",
       "[74] /(A::LinearAlgebra.UnitUpperTriangular, B::LinearAlgebra.UnitUpperTriangular) in LinearAlgebra at /home/hesed/julia-1.7.2/share/julia/stdlib/v1.7/LinearAlgebra/src/triangular.jl:1621\n",
       "[75] /(A::AbstractVector, B::Union{LinearAlgebra.UnitLowerTriangular, LinearAlgebra.UnitUpperTriangular}) in LinearAlgebra at /home/hesed/julia-1.7.2/share/julia/stdlib/v1.7/LinearAlgebra/src/triangular.jl:1664\n",
       "[76] /(A::AbstractMatrix, B::Union{LinearAlgebra.UnitLowerTriangular, LinearAlgebra.UnitUpperTriangular}) in LinearAlgebra at /home/hesed/julia-1.7.2/share/julia/stdlib/v1.7/LinearAlgebra/src/triangular.jl:1664\n",
       "[77] /(A::SparseArrays.AbstractSparseMatrixCSC, D::LinearAlgebra.Diagonal) in SparseArrays at /home/hesed/julia-1.7.2/share/julia/stdlib/v1.7/SparseArrays/src/linalg.jl:152\n",
       "[78] /(D::LinearAlgebra.Diagonal, x::Number) in LinearAlgebra at /home/hesed/julia-1.7.2/share/julia/stdlib/v1.7/LinearAlgebra/src/diagonal.jl:192\n",
       "[79] /(Da::LinearAlgebra.Diagonal, Db::LinearAlgebra.Diagonal) in LinearAlgebra at /home/hesed/julia-1.7.2/share/julia/stdlib/v1.7/LinearAlgebra/src/diagonal.jl:451\n",
       "[80] /(J1::LinearAlgebra.UniformScaling, J2::LinearAlgebra.UniformScaling) in LinearAlgebra at /home/hesed/julia-1.7.2/share/julia/stdlib/v1.7/LinearAlgebra/src/uniformscaling.jl:267\n",
       "[81] /(J::LinearAlgebra.UniformScaling, A::AbstractMatrix) in LinearAlgebra at /home/hesed/julia-1.7.2/share/julia/stdlib/v1.7/LinearAlgebra/src/uniformscaling.jl:268\n",
       "[82] /(J::LinearAlgebra.UniformScaling, x::Number) in LinearAlgebra at /home/hesed/julia-1.7.2/share/julia/stdlib/v1.7/LinearAlgebra/src/uniformscaling.jl:273\n",
       "[83] /(r::AbstractRange{<:P}, x::P) where P<:Dates.Period in Dates at /home/hesed/julia-1.7.2/share/julia/stdlib/v1.7/Dates/src/ranges.jl:67\n",
       "[84] /(B::Union{Array{Complex{T}, 1}, Array{Complex{T}, 2}}, F::LinearAlgebra.Factorization{T}) where T<:Union{Float32, Float64} in LinearAlgebra at /home/hesed/julia-1.7.2/share/julia/stdlib/v1.7/LinearAlgebra/src/factorization.jl:96\n",
       "[85] /(B::AbstractMatrix, F::Union{LinearAlgebra.Adjoint{<:Any, <:LinearAlgebra.Factorization}, LinearAlgebra.Factorization}) in LinearAlgebra at /home/hesed/julia-1.7.2/share/julia/stdlib/v1.7/LinearAlgebra/src/factorization.jl:110\n",
       "[86] /(A::LinearAlgebra.Tridiagonal, B::Number) in LinearAlgebra at /home/hesed/julia-1.7.2/share/julia/stdlib/v1.7/LinearAlgebra/src/tridiag.jl:744\n",
       "[87] /(A::Union{BitMatrix, BitVector}, B::Union{BitMatrix, BitVector}) in Base at bitarray.jl:1197\n",
       "[88] /(A::AbstractVecOrMat, B::AbstractVecOrMat) in LinearAlgebra at /home/hesed/julia-1.7.2/share/julia/stdlib/v1.7/LinearAlgebra/src/generic.jl:1148\n",
       "[89] /(B::BitArray, x::Number) in Base at bitarray.jl:1200\n",
       "[90] /(r::StepRangeLen{<:Real, <:Base.TwicePrecision}, x::Real) in Base at twiceprecision.jl:524\n",
       "[91] /(A::AbstractArray, B::Number) in Base at arraymath.jl:55\n",
       "[92] /(x::P, y::P) where P<:Dates.Period in Dates at /home/hesed/julia-1.7.2/share/julia/stdlib/v1.7/Dates/src/periods.jl:82\n",
       "[93] /(x::P, y::Real) where P<:Dates.Period in Dates at /home/hesed/julia-1.7.2/share/julia/stdlib/v1.7/Dates/src/periods.jl:83\n",
       "[94] /(x::BigFloat, c::Union{UInt16, UInt32, UInt64, UInt8}) in Base.MPFR at mpfr.jl:428\n",
       "[95] /(x::BigFloat, c::Union{Int16, Int32, Int64, Int8}) in Base.MPFR at mpfr.jl:440\n",
       "[96] /(x::BigFloat, c::Union{Float16, Float32, Float64}) in Base.MPFR at mpfr.jl:452\n",
       "[97] /(x::BigFloat, y::BigFloat) in Base.MPFR at mpfr.jl:421\n",
       "[98] /(x::BigFloat, c::BigInt) in Base.MPFR at mpfr.jl:464\n",
       "[99] /(x::BigInt, y::Union{Int16, Int32, Int64, Int8, UInt16, UInt32, UInt64, UInt8}) in Base.GMP at gmp.jl:544\n",
       "[100] /(x::BigInt, y::BigInt) in Base.GMP at gmp.jl:495\n",
       "[101] /(x::T, y::T) where T<:Integer in Base at int.jl:91\n",
       "[102] /(z::ComplexF64, w::ComplexF64) in Base at complex.jl:381\n",
       "[103] /(z::Complex{T}, w::Complex{T}) where T<:Union{Float16, Float32} in Base at complex.jl:372\n",
       "[104] /(a::Complex{T}, b::Complex{T}) where T<:Real in Base at complex.jl:348\n",
       "[105] /(x::Float16, y::Float16) in Base at float.jl:406\n",
       "[106] /(::Missing, ::Number) in Base at missing.jl:123\n",
       "[107] /(::Missing, ::Missing) in Base at missing.jl:122\n",
       "[108] /(x::Float64, y::Float64) in Base at float.jl:408\n",
       "[109] /(x::Float32, y::Float32) in Base at float.jl:407\n",
       "[110] /(x::T, y::T) where T<:Number in Base at promotion.jl:457\n",
       "[111] /(x::Number, y::Number) in Base at promotion.jl:382"
      ]
     },
     "execution_count": 203,
     "metadata": {},
     "output_type": "execute_result"
    }
   ],
   "source": [
    "methods(/)"
   ]
  },
  {
   "cell_type": "code",
   "execution_count": 208,
   "id": "67562021",
   "metadata": {},
   "outputs": [
    {
     "data": {
      "text/plain": [
       "true"
      ]
     },
     "execution_count": 208,
     "metadata": {},
     "output_type": "execute_result"
    }
   ],
   "source": [
    "60 \\ 5040 == 5040 / 60"
   ]
  },
  {
   "cell_type": "code",
   "execution_count": 206,
   "id": "fbac4a1a",
   "metadata": {},
   "outputs": [
    {
     "data": {
      "text/html": [
       "# 135 methods for generic function <b>\\</b>:<ul><li> \\(A::<b>Union{LinearAlgebra.QR{T, S} where S<:AbstractMatrix{T}, LinearAlgebra.QRCompactWY{T, M} where M<:AbstractMatrix{T}, LinearAlgebra.QRPivoted{T, S} where S<:AbstractMatrix{T}}</b>, BIn::<b>Union{Array{Complex{T}, 1}, Array{Complex{T}, 2}}</b>)<i> where T<:Union{Float32, Float64}</i> in LinearAlgebra at <a href=\"file:///buildworker/worker/package_linux64/build/usr/share/julia/stdlib/v1.7/LinearAlgebra/src/qr.jl\" target=\"_blank\">/home/hesed/julia-1.7.2/share/julia/stdlib/v1.7/LinearAlgebra/src/qr.jl:1016</a></li> <li> \\(L::<b>Union{LinearAlgebra.Adjoint{T, <:LinearAlgebra.UpperTriangular{T, <:Union{SparseArrays.AbstractSparseMatrixCSC{T, Ti}, SubArray{T, 2, <:SparseArrays.AbstractSparseMatrixCSC{T, Ti}, Tuple{Base.Slice{Base.OneTo{Int64}}, I}} where I<:AbstractUnitRange} where Ti}}, LinearAlgebra.Adjoint{T, <:LinearAlgebra.UnitUpperTriangular{T, <:Union{SparseArrays.AbstractSparseMatrixCSC{T, Ti}, SubArray{T, 2, <:SparseArrays.AbstractSparseMatrixCSC{T, Ti}, Tuple{Base.Slice{Base.OneTo{Int64}}, I}} where I<:AbstractUnitRange} where Ti}}, LinearAlgebra.Adjoint{T, <:LinearAlgebra.LowerTriangular{T, <:Union{SparseArrays.AbstractSparseMatrixCSC{T, Ti}, SubArray{T, 2, <:SparseArrays.AbstractSparseMatrixCSC{T, Ti}, Tuple{Base.Slice{Base.OneTo{Int64}}, I}} where I<:AbstractUnitRange} where Ti}}, LinearAlgebra.Adjoint{T, <:LinearAlgebra.UnitLowerTriangular{T, <:Union{SparseArrays.AbstractSparseMatrixCSC{T, Ti}, SubArray{T, 2, <:SparseArrays.AbstractSparseMatrixCSC{T, Ti}, Tuple{Base.Slice{Base.OneTo{Int64}}, I}} where I<:AbstractUnitRange} where Ti}}, LinearAlgebra.LowerTriangular{T, <:Union{SparseArrays.AbstractSparseMatrixCSC{T, Ti}, SubArray{T, 2, <:SparseArrays.AbstractSparseMatrixCSC{T, Ti}, Tuple{Base.Slice{Base.OneTo{Int64}}, I}} where I<:AbstractUnitRange} where Ti}, LinearAlgebra.Transpose{T, <:LinearAlgebra.UpperTriangular{T, <:Union{SparseArrays.AbstractSparseMatrixCSC{T, Ti}, SubArray{T, 2, <:SparseArrays.AbstractSparseMatrixCSC{T, Ti}, Tuple{Base.Slice{Base.OneTo{Int64}}, I}} where I<:AbstractUnitRange} where Ti}}, LinearAlgebra.Transpose{T, <:LinearAlgebra.UnitUpperTriangular{T, <:Union{SparseArrays.AbstractSparseMatrixCSC{T, Ti}, SubArray{T, 2, <:SparseArrays.AbstractSparseMatrixCSC{T, Ti}, Tuple{Base.Slice{Base.OneTo{Int64}}, I}} where I<:AbstractUnitRange} where Ti}}, LinearAlgebra.Transpose{T, <:LinearAlgebra.LowerTriangular{T, <:Union{SparseArrays.AbstractSparseMatrixCSC{T, Ti}, SubArray{T, 2, <:SparseArrays.AbstractSparseMatrixCSC{T, Ti}, Tuple{Base.Slice{Base.OneTo{Int64}}, I}} where I<:AbstractUnitRange} where Ti}}, LinearAlgebra.Transpose{T, <:LinearAlgebra.UnitLowerTriangular{T, <:Union{SparseArrays.AbstractSparseMatrixCSC{T, Ti}, SubArray{T, 2, <:SparseArrays.AbstractSparseMatrixCSC{T, Ti}, Tuple{Base.Slice{Base.OneTo{Int64}}, I}} where I<:AbstractUnitRange} where Ti}}, LinearAlgebra.UnitLowerTriangular{T, <:Union{SparseArrays.AbstractSparseMatrixCSC{T, Ti}, SubArray{T, 2, <:SparseArrays.AbstractSparseMatrixCSC{T, Ti}, Tuple{Base.Slice{Base.OneTo{Int64}}, I}} where I<:AbstractUnitRange} where Ti}, LinearAlgebra.UnitUpperTriangular{T, <:Union{SparseArrays.AbstractSparseMatrixCSC{T, Ti}, SubArray{T, 2, <:SparseArrays.AbstractSparseMatrixCSC{T, Ti}, Tuple{Base.Slice{Base.OneTo{Int64}}, I}} where I<:AbstractUnitRange} where Ti}, LinearAlgebra.UpperTriangular{T, <:Union{SparseArrays.AbstractSparseMatrixCSC{T, Ti}, SubArray{T, 2, <:SparseArrays.AbstractSparseMatrixCSC{T, Ti}, Tuple{Base.Slice{Base.OneTo{Int64}}, I}} where I<:AbstractUnitRange} where Ti}} where T</b>, B::<b>SparseArrays.AbstractSparseMatrixCSC</b>) in SparseArrays at <a href=\"file:///buildworker/worker/package_linux64/build/usr/share/julia/stdlib/v1.7/SparseArrays/src/linalg.jl\" target=\"_blank\">/home/hesed/julia-1.7.2/share/julia/stdlib/v1.7/SparseArrays/src/linalg.jl:811</a></li> <li> \\(A::<b>Union{LinearAlgebra.Hermitian{ComplexF64, SparseArrays.SparseMatrixCSC{ComplexF64, Int64}}, LinearAlgebra.Hermitian{Float64, SparseArrays.SparseMatrixCSC{Float64, Int64}}, LinearAlgebra.Symmetric{Float64, SparseArrays.SparseMatrixCSC{Float64, Int64}}}</b>, B::<b>Union{LinearAlgebra.Adjoint{<:Any, <:StridedVecOrMat}, LinearAlgebra.Transpose{<:Any, <:StridedVecOrMat}, StridedVecOrMat}</b>) in SuiteSparse.CHOLMOD at <a href=\"file:///buildworker/worker/package_linux64/build/usr/share/julia/stdlib/v1.7/SuiteSparse/src/cholmod.jl\" target=\"_blank\">/home/hesed/julia-1.7.2/share/julia/stdlib/v1.7/SuiteSparse/src/cholmod.jl:1573</a></li> <li> \\(A::<b>Union{LinearAlgebra.Hermitian{var\"#s859\", var\"#s858\"}, LinearAlgebra.Symmetric{var\"#s859\", var\"#s858\"}} where {var\"#s859\", var\"#s858\"<:(StridedMatrix{T} where T)}</b>, B::<b>AbstractVector</b>) in LinearAlgebra at <a href=\"file:///buildworker/worker/package_linux64/build/usr/share/julia/stdlib/v1.7/LinearAlgebra/src/symmetric.jl\" target=\"_blank\">/home/hesed/julia-1.7.2/share/julia/stdlib/v1.7/LinearAlgebra/src/symmetric.jl:655</a></li> <li> \\(A::<b>Union{LinearAlgebra.Hermitian{var\"#s859\", var\"#s858\"}, LinearAlgebra.Symmetric{var\"#s859\", var\"#s858\"}} where {var\"#s859\", var\"#s858\"<:(StridedMatrix{T} where T)}</b>, B::<b>AbstractMatrix</b>) in LinearAlgebra at <a href=\"file:///buildworker/worker/package_linux64/build/usr/share/julia/stdlib/v1.7/LinearAlgebra/src/symmetric.jl\" target=\"_blank\">/home/hesed/julia-1.7.2/share/julia/stdlib/v1.7/LinearAlgebra/src/symmetric.jl:658</a></li> <li> \\(A::<b>AbstractMatrix</b>, J::<b>LinearAlgebra.UniformScaling</b>) in LinearAlgebra at <a href=\"file:///buildworker/worker/package_linux64/build/usr/share/julia/stdlib/v1.7/LinearAlgebra/src/uniformscaling.jl\" target=\"_blank\">/home/hesed/julia-1.7.2/share/julia/stdlib/v1.7/LinearAlgebra/src/uniformscaling.jl:277</a></li> <li> \\(A::<b>SparseArrays.AbstractSparseMatrixCSC</b>, B::<b>AbstractVecOrMat</b>) in SparseArrays at <a href=\"file:///buildworker/worker/package_linux64/build/usr/share/julia/stdlib/v1.7/SparseArrays/src/linalg.jl\" target=\"_blank\">/home/hesed/julia-1.7.2/share/julia/stdlib/v1.7/SparseArrays/src/linalg.jl:1538</a></li> <li> \\(B::<b>Number</b>, A::<b>LinearAlgebra.SymTridiagonal</b>) in LinearAlgebra at <a href=\"file:///buildworker/worker/package_linux64/build/usr/share/julia/stdlib/v1.7/LinearAlgebra/src/tridiag.jl\" target=\"_blank\">/home/hesed/julia-1.7.2/share/julia/stdlib/v1.7/LinearAlgebra/src/tridiag.jl:214</a></li> <li> \\(B::<b>Number</b>, A::<b>LinearAlgebra.Tridiagonal</b>) in LinearAlgebra at <a href=\"file:///buildworker/worker/package_linux64/build/usr/share/julia/stdlib/v1.7/LinearAlgebra/src/tridiag.jl\" target=\"_blank\">/home/hesed/julia-1.7.2/share/julia/stdlib/v1.7/LinearAlgebra/src/tridiag.jl:745</a></li> <li> \\(x::<b>Number</b>, A::<b>LinearAlgebra.UpperTriangular</b>) in LinearAlgebra at <a href=\"file:///buildworker/worker/package_linux64/build/usr/share/julia/stdlib/v1.7/LinearAlgebra/src/triangular.jl\" target=\"_blank\">/home/hesed/julia-1.7.2/share/julia/stdlib/v1.7/LinearAlgebra/src/triangular.jl:880</a></li> <li> \\(x::<b>Number</b>, A::<b>LinearAlgebra.UnitUpperTriangular</b>) in LinearAlgebra at <a href=\"file:///buildworker/worker/package_linux64/build/usr/share/julia/stdlib/v1.7/LinearAlgebra/src/triangular.jl\" target=\"_blank\">/home/hesed/julia-1.7.2/share/julia/stdlib/v1.7/LinearAlgebra/src/triangular.jl:882</a></li> <li> \\(x::<b>Number</b>, A::<b>LinearAlgebra.LowerTriangular</b>) in LinearAlgebra at <a href=\"file:///buildworker/worker/package_linux64/build/usr/share/julia/stdlib/v1.7/LinearAlgebra/src/triangular.jl\" target=\"_blank\">/home/hesed/julia-1.7.2/share/julia/stdlib/v1.7/LinearAlgebra/src/triangular.jl:880</a></li> <li> \\(x::<b>Number</b>, A::<b>LinearAlgebra.UnitLowerTriangular</b>) in LinearAlgebra at <a href=\"file:///buildworker/worker/package_linux64/build/usr/share/julia/stdlib/v1.7/LinearAlgebra/src/triangular.jl\" target=\"_blank\">/home/hesed/julia-1.7.2/share/julia/stdlib/v1.7/LinearAlgebra/src/triangular.jl:882</a></li> <li> \\(x::<b>Number</b>, D::<b>LinearAlgebra.Diagonal</b>) in LinearAlgebra at <a href=\"file:///buildworker/worker/package_linux64/build/usr/share/julia/stdlib/v1.7/LinearAlgebra/src/diagonal.jl\" target=\"_blank\">/home/hesed/julia-1.7.2/share/julia/stdlib/v1.7/LinearAlgebra/src/diagonal.jl:193</a></li> <li> \\(B::<b>Number</b>, A::<b>LinearAlgebra.Bidiagonal</b>) in LinearAlgebra at <a href=\"file:///buildworker/worker/package_linux64/build/usr/share/julia/stdlib/v1.7/LinearAlgebra/src/bidiag.jl\" target=\"_blank\">/home/hesed/julia-1.7.2/share/julia/stdlib/v1.7/LinearAlgebra/src/bidiag.jl:376</a></li> <li> \\(x::<b>Number</b>, J::<b>LinearAlgebra.UniformScaling</b>) in LinearAlgebra at <a href=\"file:///buildworker/worker/package_linux64/build/usr/share/julia/stdlib/v1.7/LinearAlgebra/src/uniformscaling.jl\" target=\"_blank\">/home/hesed/julia-1.7.2/share/julia/stdlib/v1.7/LinearAlgebra/src/uniformscaling.jl:281</a></li> <li> \\(x::<b>Number</b>, H::<b>LinearAlgebra.UpperHessenberg</b>) in LinearAlgebra at <a href=\"file:///buildworker/worker/package_linux64/build/usr/share/julia/stdlib/v1.7/LinearAlgebra/src/hessenberg.jl\" target=\"_blank\">/home/hesed/julia-1.7.2/share/julia/stdlib/v1.7/LinearAlgebra/src/hessenberg.jl:117</a></li> <li> \\(A::<b>Number</b>, B::<b>AbstractArray</b>) in Base at <a href=\"https://github.com/JuliaLang/julia/tree/bf534986350a991e4a1b29126de0342ffd76205e/base/arraymath.jl#L52\" target=\"_blank\">arraymath.jl:52</a></li> <li> \\(A::<b>LinearAlgebra.UnitLowerTriangular</b>, B::<b>LinearAlgebra.LowerTriangular</b>) in LinearAlgebra at <a href=\"file:///buildworker/worker/package_linux64/build/usr/share/julia/stdlib/v1.7/LinearAlgebra/src/triangular.jl\" target=\"_blank\">/home/hesed/julia-1.7.2/share/julia/stdlib/v1.7/LinearAlgebra/src/triangular.jl:1514</a></li> <li> \\(A::<b>LinearAlgebra.UnitLowerTriangular</b>, B::<b>LinearAlgebra.UnitLowerTriangular</b>) in LinearAlgebra at <a href=\"file:///buildworker/worker/package_linux64/build/usr/share/julia/stdlib/v1.7/LinearAlgebra/src/triangular.jl\" target=\"_blank\">/home/hesed/julia-1.7.2/share/julia/stdlib/v1.7/LinearAlgebra/src/triangular.jl:1530</a></li> <li> \\(xA::<b>LinearAlgebra.UnitLowerTriangular{<:TA, <:StridedMatrix{T} where T}</b>, b::<b>SparseArrays.SparseVector{Tb}</b>)<i> where {TA<:Number, Tb<:Number}</i> in SparseArrays at <a href=\"file:///buildworker/worker/package_linux64/build/usr/share/julia/stdlib/v1.7/SparseArrays/src/sparsevector.jl\" target=\"_blank\">/home/hesed/julia-1.7.2/share/julia/stdlib/v1.7/SparseArrays/src/sparsevector.jl:1866</a></li> <li> \\(xA::<b>LinearAlgebra.UnitLowerTriangular{<:TA, <:LinearAlgebra.Transpose{<:Any, <:StridedMatrix{T} where T}}</b>, b::<b>SparseArrays.SparseVector{Tb}</b>)<i> where {TA<:Number, Tb<:Number}</i> in SparseArrays at <a href=\"file:///buildworker/worker/package_linux64/build/usr/share/julia/stdlib/v1.7/SparseArrays/src/sparsevector.jl\" target=\"_blank\">/home/hesed/julia-1.7.2/share/julia/stdlib/v1.7/SparseArrays/src/sparsevector.jl:1866</a></li> <li> \\(xA::<b>LinearAlgebra.UnitLowerTriangular{<:TA, <:LinearAlgebra.Adjoint{<:Any, <:StridedMatrix{T} where T}}</b>, b::<b>SparseArrays.SparseVector{Tb}</b>)<i> where {TA<:Number, Tb<:Number}</i> in SparseArrays at <a href=\"file:///buildworker/worker/package_linux64/build/usr/share/julia/stdlib/v1.7/SparseArrays/src/sparsevector.jl\" target=\"_blank\">/home/hesed/julia-1.7.2/share/julia/stdlib/v1.7/SparseArrays/src/sparsevector.jl:1866</a></li> <li> \\(A::<b>LinearAlgebra.UnitLowerTriangular{<:TA, <:AbstractMatrix}</b>, b::<b>SparseArrays.SparseVector{Tb}</b>)<i> where {TA<:Number, Tb<:Number}</i> in SparseArrays at <a href=\"file:///buildworker/worker/package_linux64/build/usr/share/julia/stdlib/v1.7/SparseArrays/src/sparsevector.jl\" target=\"_blank\">/home/hesed/julia-1.7.2/share/julia/stdlib/v1.7/SparseArrays/src/sparsevector.jl:1846</a></li> <li> \\(A::<b>LinearAlgebra.UnitLowerTriangular</b>, b::<b>SparseArrays.SparseVector</b>) in SparseArrays at <a href=\"file:///buildworker/worker/package_linux64/build/usr/share/julia/stdlib/v1.7/SparseArrays/src/sparsevector.jl\" target=\"_blank\">/home/hesed/julia-1.7.2/share/julia/stdlib/v1.7/SparseArrays/src/sparsevector.jl:1853</a></li> <li> \\(F::<b>LinearAlgebra.Factorization</b>, J::<b>LinearAlgebra.UniformScaling</b>) in LinearAlgebra at <a href=\"file:///buildworker/worker/package_linux64/build/usr/share/julia/stdlib/v1.7/LinearAlgebra/src/uniformscaling.jl\" target=\"_blank\">/home/hesed/julia-1.7.2/share/julia/stdlib/v1.7/LinearAlgebra/src/uniformscaling.jl:279</a></li> <li> \\(L::<b>SuiteSparse.CHOLMOD.FactorComponent</b>, B::<b>Union{SparseArrays.SparseMatrixCSC{Tv, Ti}, SparseArrays.SparseVector{Tv, Ti}} where {Tv, Ti}</b>) in SuiteSparse.CHOLMOD at <a href=\"file:///buildworker/worker/package_linux64/build/usr/share/julia/stdlib/v1.7/SuiteSparse/src/cholmod.jl\" target=\"_blank\">/home/hesed/julia-1.7.2/share/julia/stdlib/v1.7/SuiteSparse/src/cholmod.jl:1527</a></li> <li> \\(L::<b>SuiteSparse.CHOLMOD.FactorComponent</b>, B::<b>LinearAlgebra.Transpose{<:Any, <:SparseArrays.SparseMatrixCSC}</b>) in SuiteSparse.CHOLMOD at <a href=\"file:///buildworker/worker/package_linux64/build/usr/share/julia/stdlib/v1.7/SuiteSparse/src/cholmod.jl\" target=\"_blank\">/home/hesed/julia-1.7.2/share/julia/stdlib/v1.7/SuiteSparse/src/cholmod.jl:1531</a></li> <li> \\(L::<b>SuiteSparse.CHOLMOD.FactorComponent</b>, B::<b>LinearAlgebra.Adjoint{<:Any, <:SparseArrays.SparseMatrixCSC}</b>) in SuiteSparse.CHOLMOD at <a href=\"file:///buildworker/worker/package_linux64/build/usr/share/julia/stdlib/v1.7/SuiteSparse/src/cholmod.jl\" target=\"_blank\">/home/hesed/julia-1.7.2/share/julia/stdlib/v1.7/SuiteSparse/src/cholmod.jl:1530</a></li> <li> \\(L::<b>SuiteSparse.CHOLMOD.FactorComponent{T, :DUP}</b>, B::<b>SuiteSparse.CHOLMOD.Dense</b>)<i> where T</i> in SuiteSparse.CHOLMOD at <a href=\"file:///buildworker/worker/package_linux64/build/usr/share/julia/stdlib/v1.7/SuiteSparse/src/cholmod.jl\" target=\"_blank\">/home/hesed/julia-1.7.2/share/julia/stdlib/v1.7/SuiteSparse/src/cholmod.jl:1512</a></li> <li> \\(L::<b>SuiteSparse.CHOLMOD.FactorComponent{T, :PtLD}</b>, B::<b>SuiteSparse.CHOLMOD.Dense</b>)<i> where T</i> in SuiteSparse.CHOLMOD at <a href=\"file:///buildworker/worker/package_linux64/build/usr/share/julia/stdlib/v1.7/SuiteSparse/src/cholmod.jl\" target=\"_blank\">/home/hesed/julia-1.7.2/share/julia/stdlib/v1.7/SuiteSparse/src/cholmod.jl:1508</a></li> <li> \\(L::<b>SuiteSparse.CHOLMOD.FactorComponent{T, :DU}</b>, B::<b>SuiteSparse.CHOLMOD.Dense</b>)<i> where T</i> in SuiteSparse.CHOLMOD at <a href=\"file:///buildworker/worker/package_linux64/build/usr/share/julia/stdlib/v1.7/SuiteSparse/src/cholmod.jl\" target=\"_blank\">/home/hesed/julia-1.7.2/share/julia/stdlib/v1.7/SuiteSparse/src/cholmod.jl:1505</a></li> <li> \\(L::<b>SuiteSparse.CHOLMOD.FactorComponent{T, :LD}</b>, B::<b>SuiteSparse.CHOLMOD.Dense</b>)<i> where T</i> in SuiteSparse.CHOLMOD at <a href=\"file:///buildworker/worker/package_linux64/build/usr/share/julia/stdlib/v1.7/SuiteSparse/src/cholmod.jl\" target=\"_blank\">/home/hesed/julia-1.7.2/share/julia/stdlib/v1.7/SuiteSparse/src/cholmod.jl:1502</a></li> <li> \\(L::<b>SuiteSparse.CHOLMOD.FactorComponent{T, :D}</b>, B::<b>SuiteSparse.CHOLMOD.Dense</b>)<i> where T</i> in SuiteSparse.CHOLMOD at <a href=\"file:///buildworker/worker/package_linux64/build/usr/share/julia/stdlib/v1.7/SuiteSparse/src/cholmod.jl\" target=\"_blank\">/home/hesed/julia-1.7.2/share/julia/stdlib/v1.7/SuiteSparse/src/cholmod.jl:1499</a></li> <li> \\(L::<b>SuiteSparse.CHOLMOD.FactorComponent{T, :UP}</b>, B::<b>SuiteSparse.CHOLMOD.Dense</b>)<i> where T</i> in SuiteSparse.CHOLMOD at <a href=\"file:///buildworker/worker/package_linux64/build/usr/share/julia/stdlib/v1.7/SuiteSparse/src/cholmod.jl\" target=\"_blank\">/home/hesed/julia-1.7.2/share/julia/stdlib/v1.7/SuiteSparse/src/cholmod.jl:1494</a></li> <li> \\(L::<b>SuiteSparse.CHOLMOD.FactorComponent{T, :PtL}</b>, B::<b>SuiteSparse.CHOLMOD.Dense</b>)<i> where T</i> in SuiteSparse.CHOLMOD at <a href=\"file:///buildworker/worker/package_linux64/build/usr/share/julia/stdlib/v1.7/SuiteSparse/src/cholmod.jl\" target=\"_blank\">/home/hesed/julia-1.7.2/share/julia/stdlib/v1.7/SuiteSparse/src/cholmod.jl:1490</a></li> <li> \\(L::<b>SuiteSparse.CHOLMOD.FactorComponent{T, :U}</b>, B::<b>SuiteSparse.CHOLMOD.Dense</b>)<i> where T</i> in SuiteSparse.CHOLMOD at <a href=\"file:///buildworker/worker/package_linux64/build/usr/share/julia/stdlib/v1.7/SuiteSparse/src/cholmod.jl\" target=\"_blank\">/home/hesed/julia-1.7.2/share/julia/stdlib/v1.7/SuiteSparse/src/cholmod.jl:1486</a></li> <li> \\(L::<b>SuiteSparse.CHOLMOD.FactorComponent{T, :L}</b>, B::<b>SuiteSparse.CHOLMOD.Dense</b>)<i> where T</i> in SuiteSparse.CHOLMOD at <a href=\"file:///buildworker/worker/package_linux64/build/usr/share/julia/stdlib/v1.7/SuiteSparse/src/cholmod.jl\" target=\"_blank\">/home/hesed/julia-1.7.2/share/julia/stdlib/v1.7/SuiteSparse/src/cholmod.jl:1483</a></li> <li> \\(L::<b>SuiteSparse.CHOLMOD.FactorComponent{T, :UP}</b>, B::<b>SuiteSparse.CHOLMOD.Sparse</b>)<i> where T</i> in SuiteSparse.CHOLMOD at <a href=\"file:///buildworker/worker/package_linux64/build/usr/share/julia/stdlib/v1.7/SuiteSparse/src/cholmod.jl\" target=\"_blank\">/home/hesed/julia-1.7.2/share/julia/stdlib/v1.7/SuiteSparse/src/cholmod.jl:1494</a></li> <li> \\(L::<b>SuiteSparse.CHOLMOD.FactorComponent{T, :PtL}</b>, B::<b>SuiteSparse.CHOLMOD.Sparse</b>)<i> where T</i> in SuiteSparse.CHOLMOD at <a href=\"file:///buildworker/worker/package_linux64/build/usr/share/julia/stdlib/v1.7/SuiteSparse/src/cholmod.jl\" target=\"_blank\">/home/hesed/julia-1.7.2/share/julia/stdlib/v1.7/SuiteSparse/src/cholmod.jl:1490</a></li> <li> \\(L::<b>SuiteSparse.CHOLMOD.FactorComponent{T, :U}</b>, B::<b>SuiteSparse.CHOLMOD.Sparse</b>)<i> where T</i> in SuiteSparse.CHOLMOD at <a href=\"file:///buildworker/worker/package_linux64/build/usr/share/julia/stdlib/v1.7/SuiteSparse/src/cholmod.jl\" target=\"_blank\">/home/hesed/julia-1.7.2/share/julia/stdlib/v1.7/SuiteSparse/src/cholmod.jl:1486</a></li> <li> \\(L::<b>SuiteSparse.CHOLMOD.FactorComponent{T, :L}</b>, B::<b>SuiteSparse.CHOLMOD.Sparse</b>)<i> where T</i> in SuiteSparse.CHOLMOD at <a href=\"file:///buildworker/worker/package_linux64/build/usr/share/julia/stdlib/v1.7/SuiteSparse/src/cholmod.jl\" target=\"_blank\">/home/hesed/julia-1.7.2/share/julia/stdlib/v1.7/SuiteSparse/src/cholmod.jl:1483</a></li> <li> \\(L::<b>SuiteSparse.CHOLMOD.FactorComponent{T, :D}</b>, B::<b>SuiteSparse.CHOLMOD.Sparse</b>)<i> where T</i> in SuiteSparse.CHOLMOD at <a href=\"file:///buildworker/worker/package_linux64/build/usr/share/julia/stdlib/v1.7/SuiteSparse/src/cholmod.jl\" target=\"_blank\">/home/hesed/julia-1.7.2/share/julia/stdlib/v1.7/SuiteSparse/src/cholmod.jl:1499</a></li> <li> \\(L::<b>SuiteSparse.CHOLMOD.FactorComponent{T, :LD}</b>, B::<b>SuiteSparse.CHOLMOD.Sparse</b>)<i> where T</i> in SuiteSparse.CHOLMOD at <a href=\"file:///buildworker/worker/package_linux64/build/usr/share/julia/stdlib/v1.7/SuiteSparse/src/cholmod.jl\" target=\"_blank\">/home/hesed/julia-1.7.2/share/julia/stdlib/v1.7/SuiteSparse/src/cholmod.jl:1502</a></li> <li> \\(L::<b>SuiteSparse.CHOLMOD.FactorComponent{T, :DU}</b>, B::<b>SuiteSparse.CHOLMOD.Sparse</b>)<i> where T</i> in SuiteSparse.CHOLMOD at <a href=\"file:///buildworker/worker/package_linux64/build/usr/share/julia/stdlib/v1.7/SuiteSparse/src/cholmod.jl\" target=\"_blank\">/home/hesed/julia-1.7.2/share/julia/stdlib/v1.7/SuiteSparse/src/cholmod.jl:1505</a></li> <li> \\(L::<b>SuiteSparse.CHOLMOD.FactorComponent{T, :PtLD}</b>, B::<b>SuiteSparse.CHOLMOD.Sparse</b>)<i> where T</i> in SuiteSparse.CHOLMOD at <a href=\"file:///buildworker/worker/package_linux64/build/usr/share/julia/stdlib/v1.7/SuiteSparse/src/cholmod.jl\" target=\"_blank\">/home/hesed/julia-1.7.2/share/julia/stdlib/v1.7/SuiteSparse/src/cholmod.jl:1508</a></li> <li> \\(L::<b>SuiteSparse.CHOLMOD.FactorComponent{T, :DUP}</b>, B::<b>SuiteSparse.CHOLMOD.Sparse</b>)<i> where T</i> in SuiteSparse.CHOLMOD at <a href=\"file:///buildworker/worker/package_linux64/build/usr/share/julia/stdlib/v1.7/SuiteSparse/src/cholmod.jl\" target=\"_blank\">/home/hesed/julia-1.7.2/share/julia/stdlib/v1.7/SuiteSparse/src/cholmod.jl:1512</a></li> <li> \\(L::<b>SuiteSparse.CHOLMOD.FactorComponent</b>, b::<b>Vector</b>) in SuiteSparse.CHOLMOD at <a href=\"file:///buildworker/worker/package_linux64/build/usr/share/julia/stdlib/v1.7/SuiteSparse/src/cholmod.jl\" target=\"_blank\">/home/hesed/julia-1.7.2/share/julia/stdlib/v1.7/SuiteSparse/src/cholmod.jl:1521</a></li> <li> \\(L::<b>SuiteSparse.CHOLMOD.FactorComponent</b>, B::<b>Matrix</b>) in SuiteSparse.CHOLMOD at <a href=\"file:///buildworker/worker/package_linux64/build/usr/share/julia/stdlib/v1.7/SuiteSparse/src/cholmod.jl\" target=\"_blank\">/home/hesed/julia-1.7.2/share/julia/stdlib/v1.7/SuiteSparse/src/cholmod.jl:1524</a></li> <li> \\(A::<b>LinearAlgebra.UpperTriangular</b>, B::<b>LinearAlgebra.UpperTriangular</b>) in LinearAlgebra at <a href=\"file:///buildworker/worker/package_linux64/build/usr/share/julia/stdlib/v1.7/LinearAlgebra/src/triangular.jl\" target=\"_blank\">/home/hesed/julia-1.7.2/share/julia/stdlib/v1.7/LinearAlgebra/src/triangular.jl:1538</a></li> <li> \\(A::<b>LinearAlgebra.UpperTriangular</b>, B::<b>LinearAlgebra.UnitUpperTriangular</b>) in LinearAlgebra at <a href=\"file:///buildworker/worker/package_linux64/build/usr/share/julia/stdlib/v1.7/LinearAlgebra/src/triangular.jl\" target=\"_blank\">/home/hesed/julia-1.7.2/share/julia/stdlib/v1.7/LinearAlgebra/src/triangular.jl:1554</a></li> <li> \\(U::<b>LinearAlgebra.UpperTriangular</b>, H::<b>LinearAlgebra.UpperHessenberg</b>) in LinearAlgebra at <a href=\"file:///buildworker/worker/package_linux64/build/usr/share/julia/stdlib/v1.7/LinearAlgebra/src/hessenberg.jl\" target=\"_blank\">/home/hesed/julia-1.7.2/share/julia/stdlib/v1.7/LinearAlgebra/src/hessenberg.jl:151</a></li> <li> \\(xA::<b>LinearAlgebra.UpperTriangular{<:TA, <:StridedMatrix{T} where T}</b>, b::<b>SparseArrays.SparseVector{Tb}</b>)<i> where {TA<:Number, Tb<:Number}</i> in SparseArrays at <a href=\"file:///buildworker/worker/package_linux64/build/usr/share/julia/stdlib/v1.7/SparseArrays/src/sparsevector.jl\" target=\"_blank\">/home/hesed/julia-1.7.2/share/julia/stdlib/v1.7/SparseArrays/src/sparsevector.jl:1866</a></li> <li> \\(xA::<b>LinearAlgebra.UpperTriangular{<:TA, <:LinearAlgebra.Transpose{<:Any, <:StridedMatrix{T} where T}}</b>, b::<b>SparseArrays.SparseVector{Tb}</b>)<i> where {TA<:Number, Tb<:Number}</i> in SparseArrays at <a href=\"file:///buildworker/worker/package_linux64/build/usr/share/julia/stdlib/v1.7/SparseArrays/src/sparsevector.jl\" target=\"_blank\">/home/hesed/julia-1.7.2/share/julia/stdlib/v1.7/SparseArrays/src/sparsevector.jl:1866</a></li> <li> \\(xA::<b>LinearAlgebra.UpperTriangular{<:TA, <:LinearAlgebra.Adjoint{<:Any, <:StridedMatrix{T} where T}}</b>, b::<b>SparseArrays.SparseVector{Tb}</b>)<i> where {TA<:Number, Tb<:Number}</i> in SparseArrays at <a href=\"file:///buildworker/worker/package_linux64/build/usr/share/julia/stdlib/v1.7/SparseArrays/src/sparsevector.jl\" target=\"_blank\">/home/hesed/julia-1.7.2/share/julia/stdlib/v1.7/SparseArrays/src/sparsevector.jl:1866</a></li> <li> \\(A::<b>LinearAlgebra.UpperTriangular{<:TA, <:AbstractMatrix}</b>, b::<b>SparseArrays.SparseVector{Tb}</b>)<i> where {TA<:Number, Tb<:Number}</i> in SparseArrays at <a href=\"file:///buildworker/worker/package_linux64/build/usr/share/julia/stdlib/v1.7/SparseArrays/src/sparsevector.jl\" target=\"_blank\">/home/hesed/julia-1.7.2/share/julia/stdlib/v1.7/SparseArrays/src/sparsevector.jl:1846</a></li> <li> \\(A::<b>LinearAlgebra.UpperTriangular</b>, b::<b>SparseArrays.SparseVector</b>) in SparseArrays at <a href=\"file:///buildworker/worker/package_linux64/build/usr/share/julia/stdlib/v1.7/SparseArrays/src/sparsevector.jl\" target=\"_blank\">/home/hesed/julia-1.7.2/share/julia/stdlib/v1.7/SparseArrays/src/sparsevector.jl:1853</a></li> <li> \\(T::<b>LinearAlgebra.SymTridiagonal</b>, B::<b>StridedVecOrMat</b>) in LinearAlgebra at <a href=\"file:///buildworker/worker/package_linux64/build/usr/share/julia/stdlib/v1.7/LinearAlgebra/src/tridiag.jl\" target=\"_blank\">/home/hesed/julia-1.7.2/share/julia/stdlib/v1.7/LinearAlgebra/src/tridiag.jl:278</a></li> <li> \\(A::<b>LinearAlgebra.Bidiagonal{var\"#s859\", V} where {var\"#s859\"<:Number, V<:AbstractVector{var\"#s859\"}}</b>, B::<b>AbstractVecOrMat{<:Number}</b>) in LinearAlgebra at <a href=\"file:///buildworker/worker/package_linux64/build/usr/share/julia/stdlib/v1.7/LinearAlgebra/src/bidiag.jl\" target=\"_blank\">/home/hesed/julia-1.7.2/share/julia/stdlib/v1.7/LinearAlgebra/src/bidiag.jl:824</a></li> <li> \\(A::<b>LinearAlgebra.Bidiagonal</b>, B::<b>AbstractVecOrMat</b>) in LinearAlgebra at <a href=\"file:///buildworker/worker/package_linux64/build/usr/share/julia/stdlib/v1.7/LinearAlgebra/src/bidiag.jl\" target=\"_blank\">/home/hesed/julia-1.7.2/share/julia/stdlib/v1.7/LinearAlgebra/src/bidiag.jl:829</a></li> <li> \\(A::<b>LinearAlgebra.Transpose{T, <:LinearAlgebra.LU{T, <:StridedMatrix{T} where T}}</b>, B::<b>LinearAlgebra.Transpose{T, <:StridedVecOrMat{T}}</b>)<i> where T<:Union{Float32, Float64, ComplexF32, ComplexF64}</i> in LinearAlgebra at <a href=\"file:///buildworker/worker/package_linux64/build/usr/share/julia/stdlib/v1.7/LinearAlgebra/src/lu.jl\" target=\"_blank\">/home/hesed/julia-1.7.2/share/julia/stdlib/v1.7/LinearAlgebra/src/lu.jl:433</a></li> <li> \\(A::<b>LinearAlgebra.Transpose{<:Any, <:LinearAlgebra.LU}</b>, B::<b>LinearAlgebra.Transpose{<:Any, <:StridedVecOrMat}</b>) in LinearAlgebra at <a href=\"file:///buildworker/worker/package_linux64/build/usr/share/julia/stdlib/v1.7/LinearAlgebra/src/lu.jl\" target=\"_blank\">/home/hesed/julia-1.7.2/share/julia/stdlib/v1.7/LinearAlgebra/src/lu.jl:430</a></li> <li> \\(A::<b>LinearAlgebra.Transpose{<:Real, <:LinearAlgebra.Hermitian{<:Real, <:SparseArrays.AbstractSparseMatrixCSC}}</b>, B::<b>Vector</b>) in SparseArrays at <a href=\"file:///buildworker/worker/package_linux64/build/usr/share/julia/stdlib/v1.7/SparseArrays/src/linalg.jl\" target=\"_blank\">/home/hesed/julia-1.7.2/share/julia/stdlib/v1.7/SparseArrays/src/linalg.jl:872</a></li> <li> \\(A::<b>LinearAlgebra.Transpose{<:Complex, <:LinearAlgebra.Hermitian{<:Complex, <:SparseArrays.AbstractSparseMatrixCSC}}</b>, B::<b>Vector</b>) in SparseArrays at <a href=\"file:///buildworker/worker/package_linux64/build/usr/share/julia/stdlib/v1.7/SparseArrays/src/linalg.jl\" target=\"_blank\">/home/hesed/julia-1.7.2/share/julia/stdlib/v1.7/SparseArrays/src/linalg.jl:873</a></li> <li> \\(transA::<b>LinearAlgebra.Transpose{<:Number, <:LinearAlgebra.Bidiagonal{var\"#s857\", V} where {var\"#s857\"<:Number, V<:AbstractVector{var\"#s857\"}}}</b>, B::<b>AbstractVecOrMat{<:Number}</b>) in LinearAlgebra at <a href=\"file:///buildworker/worker/package_linux64/build/usr/share/julia/stdlib/v1.7/LinearAlgebra/src/bidiag.jl\" target=\"_blank\">/home/hesed/julia-1.7.2/share/julia/stdlib/v1.7/LinearAlgebra/src/bidiag.jl:830</a></li> <li> \\(A::<b>LinearAlgebra.Transpose{<:Number, <:LinearAlgebra.Symmetric{<:Number, <:SparseArrays.AbstractSparseMatrixCSC}}</b>, B::<b>Vector</b>) in SparseArrays at <a href=\"file:///buildworker/worker/package_linux64/build/usr/share/julia/stdlib/v1.7/SparseArrays/src/linalg.jl\" target=\"_blank\">/home/hesed/julia-1.7.2/share/julia/stdlib/v1.7/SparseArrays/src/linalg.jl:874</a></li> <li> \\(F::<b>LinearAlgebra.Transpose{<:Any, <:LinearAlgebra.Factorization{<:Real}}</b>, B::<b>AbstractVecOrMat</b>) in LinearAlgebra at <a href=\"file:///buildworker/worker/package_linux64/build/usr/share/julia/stdlib/v1.7/LinearAlgebra/src/factorization.jl\" target=\"_blank\">/home/hesed/julia-1.7.2/share/julia/stdlib/v1.7/LinearAlgebra/src/factorization.jl:135</a></li> <li> \\(F::<b>LinearAlgebra.Transpose{<:Any, <:LinearAlgebra.Factorization}</b>, B::<b>AbstractVecOrMat</b>) in LinearAlgebra at <a href=\"file:///buildworker/worker/package_linux64/build/usr/share/julia/stdlib/v1.7/LinearAlgebra/src/factorization.jl\" target=\"_blank\">/home/hesed/julia-1.7.2/share/julia/stdlib/v1.7/LinearAlgebra/src/factorization.jl:136</a></li> <li> \\(transA::<b>LinearAlgebra.Transpose{<:Any, <:LinearAlgebra.Bidiagonal}</b>, B::<b>AbstractVecOrMat</b>) in LinearAlgebra at <a href=\"file:///buildworker/worker/package_linux64/build/usr/share/julia/stdlib/v1.7/LinearAlgebra/src/bidiag.jl\" target=\"_blank\">/home/hesed/julia-1.7.2/share/julia/stdlib/v1.7/LinearAlgebra/src/bidiag.jl:836</a></li> <li> \\(xformA::<b>LinearAlgebra.Transpose{<:Any, <:SparseArrays.AbstractSparseMatrixCSC}</b>, B::<b>AbstractVecOrMat</b>) in SparseArrays at <a href=\"file:///buildworker/worker/package_linux64/build/usr/share/julia/stdlib/v1.7/SparseArrays/src/linalg.jl\" target=\"_blank\">/home/hesed/julia-1.7.2/share/julia/stdlib/v1.7/SparseArrays/src/linalg.jl:1561</a></li> <li> \\(A::<b>LinearAlgebra.LowerTriangular</b>, B::<b>LinearAlgebra.LowerTriangular</b>) in LinearAlgebra at <a href=\"file:///buildworker/worker/package_linux64/build/usr/share/julia/stdlib/v1.7/LinearAlgebra/src/triangular.jl\" target=\"_blank\">/home/hesed/julia-1.7.2/share/julia/stdlib/v1.7/LinearAlgebra/src/triangular.jl:1506</a></li> <li> \\(A::<b>LinearAlgebra.LowerTriangular</b>, B::<b>LinearAlgebra.UnitLowerTriangular</b>) in LinearAlgebra at <a href=\"file:///buildworker/worker/package_linux64/build/usr/share/julia/stdlib/v1.7/LinearAlgebra/src/triangular.jl\" target=\"_blank\">/home/hesed/julia-1.7.2/share/julia/stdlib/v1.7/LinearAlgebra/src/triangular.jl:1522</a></li> <li> \\(xA::<b>LinearAlgebra.LowerTriangular{<:TA, <:StridedMatrix{T} where T}</b>, b::<b>SparseArrays.SparseVector{Tb}</b>)<i> where {TA<:Number, Tb<:Number}</i> in SparseArrays at <a href=\"file:///buildworker/worker/package_linux64/build/usr/share/julia/stdlib/v1.7/SparseArrays/src/sparsevector.jl\" target=\"_blank\">/home/hesed/julia-1.7.2/share/julia/stdlib/v1.7/SparseArrays/src/sparsevector.jl:1866</a></li> <li> \\(xA::<b>LinearAlgebra.LowerTriangular{<:TA, <:LinearAlgebra.Transpose{<:Any, <:StridedMatrix{T} where T}}</b>, b::<b>SparseArrays.SparseVector{Tb}</b>)<i> where {TA<:Number, Tb<:Number}</i> in SparseArrays at <a href=\"file:///buildworker/worker/package_linux64/build/usr/share/julia/stdlib/v1.7/SparseArrays/src/sparsevector.jl\" target=\"_blank\">/home/hesed/julia-1.7.2/share/julia/stdlib/v1.7/SparseArrays/src/sparsevector.jl:1866</a></li> <li> \\(xA::<b>LinearAlgebra.LowerTriangular{<:TA, <:LinearAlgebra.Adjoint{<:Any, <:StridedMatrix{T} where T}}</b>, b::<b>SparseArrays.SparseVector{Tb}</b>)<i> where {TA<:Number, Tb<:Number}</i> in SparseArrays at <a href=\"file:///buildworker/worker/package_linux64/build/usr/share/julia/stdlib/v1.7/SparseArrays/src/sparsevector.jl\" target=\"_blank\">/home/hesed/julia-1.7.2/share/julia/stdlib/v1.7/SparseArrays/src/sparsevector.jl:1866</a></li> <li> \\(A::<b>LinearAlgebra.LowerTriangular{<:TA, <:AbstractMatrix}</b>, b::<b>SparseArrays.SparseVector{Tb}</b>)<i> where {TA<:Number, Tb<:Number}</i> in SparseArrays at <a href=\"file:///buildworker/worker/package_linux64/build/usr/share/julia/stdlib/v1.7/SparseArrays/src/sparsevector.jl\" target=\"_blank\">/home/hesed/julia-1.7.2/share/julia/stdlib/v1.7/SparseArrays/src/sparsevector.jl:1846</a></li> <li> \\(A::<b>LinearAlgebra.LowerTriangular</b>, b::<b>SparseArrays.SparseVector</b>) in SparseArrays at <a href=\"file:///buildworker/worker/package_linux64/build/usr/share/julia/stdlib/v1.7/SparseArrays/src/sparsevector.jl\" target=\"_blank\">/home/hesed/julia-1.7.2/share/julia/stdlib/v1.7/SparseArrays/src/sparsevector.jl:1853</a></li> <li> \\(A::<b>Union{LinearAlgebra.LowerTriangular, LinearAlgebra.UpperTriangular}</b>, B::<b>AbstractVector</b>) in LinearAlgebra at <a href=\"file:///buildworker/worker/package_linux64/build/usr/share/julia/stdlib/v1.7/LinearAlgebra/src/triangular.jl\" target=\"_blank\">/home/hesed/julia-1.7.2/share/julia/stdlib/v1.7/LinearAlgebra/src/triangular.jl:1656</a></li> <li> \\(A::<b>Union{LinearAlgebra.LowerTriangular, LinearAlgebra.UpperTriangular}</b>, B::<b>AbstractMatrix</b>) in LinearAlgebra at <a href=\"file:///buildworker/worker/package_linux64/build/usr/share/julia/stdlib/v1.7/LinearAlgebra/src/triangular.jl\" target=\"_blank\">/home/hesed/julia-1.7.2/share/julia/stdlib/v1.7/LinearAlgebra/src/triangular.jl:1656</a></li> <li> \\(A::<b>LinearAlgebra.Adjoint{T, <:LinearAlgebra.LU{T, <:StridedMatrix{T} where T}}</b>, B::<b>LinearAlgebra.Adjoint{T, <:StridedVecOrMat{T}}</b>)<i> where T<:Union{ComplexF32, ComplexF64}</i> in LinearAlgebra at <a href=\"file:///buildworker/worker/package_linux64/build/usr/share/julia/stdlib/v1.7/LinearAlgebra/src/lu.jl\" target=\"_blank\">/home/hesed/julia-1.7.2/share/julia/stdlib/v1.7/LinearAlgebra/src/lu.jl:431</a></li> <li> \\(A::<b>LinearAlgebra.Adjoint{<:Any, <:LinearAlgebra.Tridiagonal}</b>, B::<b>LinearAlgebra.Adjoint{<:Any, <:StridedVecOrMat}</b>) in LinearAlgebra at <a href=\"file:///buildworker/worker/package_linux64/build/usr/share/julia/stdlib/v1.7/LinearAlgebra/src/tridiag.jl\" target=\"_blank\">/home/hesed/julia-1.7.2/share/julia/stdlib/v1.7/LinearAlgebra/src/tridiag.jl:617</a></li> <li> \\(u::<b>Union{LinearAlgebra.Adjoint{T, var\"#s859\"}, LinearAlgebra.Transpose{T, var\"#s859\"}} where {T, var\"#s859\"<:(AbstractVector)}</b>, v::<b>Union{LinearAlgebra.Adjoint{T, var\"#s859\"}, LinearAlgebra.Transpose{T, var\"#s859\"}} where {T, var\"#s859\"<:(AbstractVector)}</b>) in LinearAlgebra at <a href=\"file:///buildworker/worker/package_linux64/build/usr/share/julia/stdlib/v1.7/LinearAlgebra/src/adjtrans.jl\" target=\"_blank\">/home/hesed/julia-1.7.2/share/julia/stdlib/v1.7/LinearAlgebra/src/adjtrans.jl:316</a></li> <li> \\(A::<b>LinearAlgebra.Adjoint{<:Any, <:LinearAlgebra.LU}</b>, B::<b>LinearAlgebra.Adjoint{<:Any, <:StridedVecOrMat}</b>) in LinearAlgebra at <a href=\"file:///buildworker/worker/package_linux64/build/usr/share/julia/stdlib/v1.7/LinearAlgebra/src/lu.jl\" target=\"_blank\">/home/hesed/julia-1.7.2/share/julia/stdlib/v1.7/LinearAlgebra/src/lu.jl:429</a></li> <li> \\(adjA::<b>LinearAlgebra.Adjoint{<:Number, <:LinearAlgebra.Bidiagonal{var\"#s857\", V} where {var\"#s857\"<:Number, V<:AbstractVector{var\"#s857\"}}}</b>, B::<b>AbstractVecOrMat{<:Number}</b>) in LinearAlgebra at <a href=\"file:///buildworker/worker/package_linux64/build/usr/share/julia/stdlib/v1.7/LinearAlgebra/src/bidiag.jl\" target=\"_blank\">/home/hesed/julia-1.7.2/share/julia/stdlib/v1.7/LinearAlgebra/src/bidiag.jl:837</a></li> <li> \\(adjA::<b>LinearAlgebra.Adjoint{<:Any, <:LinearAlgebra.Bidiagonal}</b>, B::<b>AbstractVecOrMat</b>) in LinearAlgebra at <a href=\"file:///buildworker/worker/package_linux64/build/usr/share/julia/stdlib/v1.7/LinearAlgebra/src/bidiag.jl\" target=\"_blank\">/home/hesed/julia-1.7.2/share/julia/stdlib/v1.7/LinearAlgebra/src/bidiag.jl:843</a></li> <li> \\(xformA::<b>LinearAlgebra.Adjoint{<:Any, <:SparseArrays.AbstractSparseMatrixCSC}</b>, B::<b>AbstractVecOrMat</b>) in SparseArrays at <a href=\"file:///buildworker/worker/package_linux64/build/usr/share/julia/stdlib/v1.7/SparseArrays/src/linalg.jl\" target=\"_blank\">/home/hesed/julia-1.7.2/share/julia/stdlib/v1.7/SparseArrays/src/linalg.jl:1561</a></li> <li> \\(adjL::<b>LinearAlgebra.Adjoint{<:Any, <:SuiteSparse.CHOLMOD.FactorComponent}</b>, B::<b>Union{Union{SparseArrays.SparseMatrixCSC{Tv, Ti}, SparseArrays.SparseVector{Tv, Ti}} where {Tv, Ti}, VecOrMat}</b>) in SuiteSparse.CHOLMOD at <a href=\"file:///buildworker/worker/package_linux64/build/usr/share/julia/stdlib/v1.7/SuiteSparse/src/cholmod.jl\" target=\"_blank\">/home/hesed/julia-1.7.2/share/julia/stdlib/v1.7/SuiteSparse/src/cholmod.jl:1533</a></li> <li> \\(adjL::<b>LinearAlgebra.Adjoint{<:Any, <:SuiteSparse.CHOLMOD.Factor}</b>, B::<b>SuiteSparse.CHOLMOD.Dense</b>) in SuiteSparse.CHOLMOD at <a href=\"file:///buildworker/worker/package_linux64/build/usr/share/julia/stdlib/v1.7/SuiteSparse/src/cholmod.jl\" target=\"_blank\">/home/hesed/julia-1.7.2/share/julia/stdlib/v1.7/SuiteSparse/src/cholmod.jl:1555</a></li> <li> \\(adjL::<b>LinearAlgebra.Adjoint{<:Any, <:SuiteSparse.CHOLMOD.Factor}</b>, B::<b>SuiteSparse.CHOLMOD.Sparse</b>) in SuiteSparse.CHOLMOD at <a href=\"file:///buildworker/worker/package_linux64/build/usr/share/julia/stdlib/v1.7/SuiteSparse/src/cholmod.jl\" target=\"_blank\">/home/hesed/julia-1.7.2/share/julia/stdlib/v1.7/SuiteSparse/src/cholmod.jl:1556</a></li> <li> \\(adjL::<b>LinearAlgebra.Adjoint{<:Any, <:SuiteSparse.CHOLMOD.Factor}</b>, B::<b>Union{SparseArrays.SparseMatrixCSC{Tv, Ti}, SparseArrays.SparseVector{Tv, Ti}} where {Tv, Ti}</b>) in SuiteSparse.CHOLMOD at <a href=\"file:///buildworker/worker/package_linux64/build/usr/share/julia/stdlib/v1.7/SuiteSparse/src/cholmod.jl\" target=\"_blank\">/home/hesed/julia-1.7.2/share/julia/stdlib/v1.7/SuiteSparse/src/cholmod.jl:1557</a></li> <li> \\(adjL::<b>LinearAlgebra.Adjoint{<:Any, <:SuiteSparse.CHOLMOD.Factor}</b>, b::<b>StridedVector{T} where T</b>) in SuiteSparse.CHOLMOD at <a href=\"file:///buildworker/worker/package_linux64/build/usr/share/julia/stdlib/v1.7/SuiteSparse/src/cholmod.jl\" target=\"_blank\">/home/hesed/julia-1.7.2/share/julia/stdlib/v1.7/SuiteSparse/src/cholmod.jl:1559</a></li> <li> \\(adjL::<b>LinearAlgebra.Adjoint{<:Any, <:SuiteSparse.CHOLMOD.Factor}</b>, B::<b>StridedMatrix{T} where T</b>) in SuiteSparse.CHOLMOD at <a href=\"file:///buildworker/worker/package_linux64/build/usr/share/julia/stdlib/v1.7/SuiteSparse/src/cholmod.jl\" target=\"_blank\">/home/hesed/julia-1.7.2/share/julia/stdlib/v1.7/SuiteSparse/src/cholmod.jl:1563</a></li> <li> \\(A::<b>LinearAlgebra.UnitUpperTriangular</b>, B::<b>LinearAlgebra.UpperTriangular</b>) in LinearAlgebra at <a href=\"file:///buildworker/worker/package_linux64/build/usr/share/julia/stdlib/v1.7/LinearAlgebra/src/triangular.jl\" target=\"_blank\">/home/hesed/julia-1.7.2/share/julia/stdlib/v1.7/LinearAlgebra/src/triangular.jl:1546</a></li> <li> \\(A::<b>LinearAlgebra.UnitUpperTriangular</b>, B::<b>LinearAlgebra.UnitUpperTriangular</b>) in LinearAlgebra at <a href=\"file:///buildworker/worker/package_linux64/build/usr/share/julia/stdlib/v1.7/LinearAlgebra/src/triangular.jl\" target=\"_blank\">/home/hesed/julia-1.7.2/share/julia/stdlib/v1.7/LinearAlgebra/src/triangular.jl:1562</a></li> <li> \\(U::<b>LinearAlgebra.UnitUpperTriangular</b>, H::<b>LinearAlgebra.UpperHessenberg</b>) in LinearAlgebra at <a href=\"file:///buildworker/worker/package_linux64/build/usr/share/julia/stdlib/v1.7/LinearAlgebra/src/hessenberg.jl\" target=\"_blank\">/home/hesed/julia-1.7.2/share/julia/stdlib/v1.7/LinearAlgebra/src/hessenberg.jl:158</a></li> <li> \\(xA::<b>LinearAlgebra.UnitUpperTriangular{<:TA, <:StridedMatrix{T} where T}</b>, b::<b>SparseArrays.SparseVector{Tb}</b>)<i> where {TA<:Number, Tb<:Number}</i> in SparseArrays at <a href=\"file:///buildworker/worker/package_linux64/build/usr/share/julia/stdlib/v1.7/SparseArrays/src/sparsevector.jl\" target=\"_blank\">/home/hesed/julia-1.7.2/share/julia/stdlib/v1.7/SparseArrays/src/sparsevector.jl:1866</a></li> <li> \\(xA::<b>LinearAlgebra.UnitUpperTriangular{<:TA, <:LinearAlgebra.Transpose{<:Any, <:StridedMatrix{T} where T}}</b>, b::<b>SparseArrays.SparseVector{Tb}</b>)<i> where {TA<:Number, Tb<:Number}</i> in SparseArrays at <a href=\"file:///buildworker/worker/package_linux64/build/usr/share/julia/stdlib/v1.7/SparseArrays/src/sparsevector.jl\" target=\"_blank\">/home/hesed/julia-1.7.2/share/julia/stdlib/v1.7/SparseArrays/src/sparsevector.jl:1866</a></li> <li> \\(xA::<b>LinearAlgebra.UnitUpperTriangular{<:TA, <:LinearAlgebra.Adjoint{<:Any, <:StridedMatrix{T} where T}}</b>, b::<b>SparseArrays.SparseVector{Tb}</b>)<i> where {TA<:Number, Tb<:Number}</i> in SparseArrays at <a href=\"file:///buildworker/worker/package_linux64/build/usr/share/julia/stdlib/v1.7/SparseArrays/src/sparsevector.jl\" target=\"_blank\">/home/hesed/julia-1.7.2/share/julia/stdlib/v1.7/SparseArrays/src/sparsevector.jl:1866</a></li> <li> \\(A::<b>LinearAlgebra.UnitUpperTriangular{<:TA, <:AbstractMatrix}</b>, b::<b>SparseArrays.SparseVector{Tb}</b>)<i> where {TA<:Number, Tb<:Number}</i> in SparseArrays at <a href=\"file:///buildworker/worker/package_linux64/build/usr/share/julia/stdlib/v1.7/SparseArrays/src/sparsevector.jl\" target=\"_blank\">/home/hesed/julia-1.7.2/share/julia/stdlib/v1.7/SparseArrays/src/sparsevector.jl:1846</a></li> <li> \\(A::<b>LinearAlgebra.UnitUpperTriangular</b>, b::<b>SparseArrays.SparseVector</b>) in SparseArrays at <a href=\"file:///buildworker/worker/package_linux64/build/usr/share/julia/stdlib/v1.7/SparseArrays/src/sparsevector.jl\" target=\"_blank\">/home/hesed/julia-1.7.2/share/julia/stdlib/v1.7/SparseArrays/src/sparsevector.jl:1853</a></li> <li> \\(A::<b>Union{LinearAlgebra.UnitLowerTriangular, LinearAlgebra.UnitUpperTriangular}</b>, B::<b>AbstractVector</b>) in LinearAlgebra at <a href=\"file:///buildworker/worker/package_linux64/build/usr/share/julia/stdlib/v1.7/LinearAlgebra/src/triangular.jl\" target=\"_blank\">/home/hesed/julia-1.7.2/share/julia/stdlib/v1.7/LinearAlgebra/src/triangular.jl:1648</a></li> <li> \\(A::<b>Union{LinearAlgebra.UnitLowerTriangular, LinearAlgebra.UnitUpperTriangular}</b>, B::<b>AbstractMatrix</b>) in LinearAlgebra at <a href=\"file:///buildworker/worker/package_linux64/build/usr/share/julia/stdlib/v1.7/LinearAlgebra/src/triangular.jl\" target=\"_blank\">/home/hesed/julia-1.7.2/share/julia/stdlib/v1.7/LinearAlgebra/src/triangular.jl:1648</a></li> <li> \\(F::<b>LinearAlgebra.LQ{T, S} where S<:AbstractMatrix{T}</b>, B::<b>Union{Array{Complex{T}, 1}, Array{Complex{T}, 2}}</b>)<i> where T<:Union{Float32, Float64}</i> in LinearAlgebra at <a href=\"file:///buildworker/worker/package_linux64/build/usr/share/julia/stdlib/v1.7/LinearAlgebra/src/lq.jl\" target=\"_blank\">/home/hesed/julia-1.7.2/share/julia/stdlib/v1.7/LinearAlgebra/src/lq.jl:323</a></li> <li> \\(F::<b>Union{LinearAlgebra.BunchKaufman{T, S}, LinearAlgebra.Cholesky{T, S}, LinearAlgebra.LQ{T, S}, LinearAlgebra.LU{T, S}, LinearAlgebra.QR{T, S}, LinearAlgebra.QRCompactWY{T, S}, LinearAlgebra.QRPivoted{T, S}, LinearAlgebra.SVD{T, <:Real, S}} where S</b>, B::<b>Union{Array{Complex{T}, 1}, Array{Complex{T}, 2}}</b>)<i> where T<:Union{Float32, Float64}</i> in LinearAlgebra at <a href=\"file:///buildworker/worker/package_linux64/build/usr/share/julia/stdlib/v1.7/LinearAlgebra/src/LinearAlgebra.jl\" target=\"_blank\">/home/hesed/julia-1.7.2/share/julia/stdlib/v1.7/LinearAlgebra/src/LinearAlgebra.jl:455</a></li> <li> \\(F::<b>Union{LinearAlgebra.Adjoint{<:Any, <:Union{LinearAlgebra.BunchKaufman{T, S}, LinearAlgebra.Cholesky{T, S}, LinearAlgebra.LQ{T, S}, LinearAlgebra.LU{T, S}, LinearAlgebra.QR{T, S}, LinearAlgebra.QRCompactWY{T, S}, LinearAlgebra.QRPivoted{T, S}, LinearAlgebra.SVD{T, <:Real, S}} where {T, S}}, Union{LinearAlgebra.BunchKaufman{T, S}, LinearAlgebra.Cholesky{T, S}, LinearAlgebra.LQ{T, S}, LinearAlgebra.LU{T, S}, LinearAlgebra.QR{T, S}, LinearAlgebra.QRCompactWY{T, S}, LinearAlgebra.QRPivoted{T, S}, LinearAlgebra.SVD{T, <:Real, S}} where {T, S}}</b>, B::<b>AbstractVecOrMat</b>) in LinearAlgebra at <a href=\"file:///buildworker/worker/package_linux64/build/usr/share/julia/stdlib/v1.7/LinearAlgebra/src/LinearAlgebra.jl\" target=\"_blank\">/home/hesed/julia-1.7.2/share/julia/stdlib/v1.7/LinearAlgebra/src/LinearAlgebra.jl:426</a></li> <li> \\(F::<b>SuiteSparse.SPQR.QRSparse{T}</b>, B::<b>Union{Array{Complex{T}, 1}, Array{Complex{T}, 2}}</b>)<i> where T<:Union{Float32, Float64}</i> in SuiteSparse.SPQR at <a href=\"file:///buildworker/worker/package_linux64/build/usr/share/julia/stdlib/v1.7/SuiteSparse/src/spqr.jl\" target=\"_blank\">/home/hesed/julia-1.7.2/share/julia/stdlib/v1.7/SuiteSparse/src/spqr.jl:327</a></li> <li> \\(F::<b>SuiteSparse.SPQR.QRSparse{T}</b>, B::<b>StridedVecOrMat{T}</b>)<i> where T</i> in SuiteSparse.SPQR at <a href=\"file:///buildworker/worker/package_linux64/build/usr/share/julia/stdlib/v1.7/SuiteSparse/src/spqr.jl\" target=\"_blank\">/home/hesed/julia-1.7.2/share/julia/stdlib/v1.7/SuiteSparse/src/spqr.jl:385</a></li> <li> \\(F::<b>SuiteSparse.SPQR.QRSparse</b>, B::<b>StridedVecOrMat</b>) in SuiteSparse.SPQR at <a href=\"file:///buildworker/worker/package_linux64/build/usr/share/julia/stdlib/v1.7/SuiteSparse/src/spqr.jl\" target=\"_blank\">/home/hesed/julia-1.7.2/share/julia/stdlib/v1.7/SuiteSparse/src/spqr.jl:408</a></li> <li> \\(Da::<b>LinearAlgebra.Diagonal</b>, Db::<b>LinearAlgebra.Diagonal</b>) in LinearAlgebra at <a href=\"file:///buildworker/worker/package_linux64/build/usr/share/julia/stdlib/v1.7/LinearAlgebra/src/diagonal.jl\" target=\"_blank\">/home/hesed/julia-1.7.2/share/julia/stdlib/v1.7/LinearAlgebra/src/diagonal.jl:599</a></li> <li> \\(x::<b>LinearAlgebra.Diagonal</b>, H::<b>LinearAlgebra.UpperHessenberg</b>) in LinearAlgebra at <a href=\"file:///buildworker/worker/package_linux64/build/usr/share/julia/stdlib/v1.7/LinearAlgebra/src/hessenberg.jl\" target=\"_blank\">/home/hesed/julia-1.7.2/share/julia/stdlib/v1.7/LinearAlgebra/src/hessenberg.jl:117</a></li> <li> \\(D::<b>LinearAlgebra.Diagonal</b>, A::<b>AbstractMatrix</b>) in LinearAlgebra at <a href=\"file:///buildworker/worker/package_linux64/build/usr/share/julia/stdlib/v1.7/LinearAlgebra/src/diagonal.jl\" target=\"_blank\">/home/hesed/julia-1.7.2/share/julia/stdlib/v1.7/LinearAlgebra/src/diagonal.jl:595</a></li> <li> \\(D::<b>LinearAlgebra.Diagonal</b>, b::<b>AbstractVector</b>) in LinearAlgebra at <a href=\"file:///buildworker/worker/package_linux64/build/usr/share/julia/stdlib/v1.7/LinearAlgebra/src/diagonal.jl\" target=\"_blank\">/home/hesed/julia-1.7.2/share/julia/stdlib/v1.7/LinearAlgebra/src/diagonal.jl:598</a></li> <li> \\(J1::<b>LinearAlgebra.UniformScaling</b>, J2::<b>LinearAlgebra.UniformScaling</b>) in LinearAlgebra at <a href=\"file:///buildworker/worker/package_linux64/build/usr/share/julia/stdlib/v1.7/LinearAlgebra/src/uniformscaling.jl\" target=\"_blank\">/home/hesed/julia-1.7.2/share/julia/stdlib/v1.7/LinearAlgebra/src/uniformscaling.jl:275</a></li> <li> \\(x::<b>LinearAlgebra.UniformScaling</b>, H::<b>LinearAlgebra.UpperHessenberg</b>) in LinearAlgebra at <a href=\"file:///buildworker/worker/package_linux64/build/usr/share/julia/stdlib/v1.7/LinearAlgebra/src/hessenberg.jl\" target=\"_blank\">/home/hesed/julia-1.7.2/share/julia/stdlib/v1.7/LinearAlgebra/src/hessenberg.jl:117</a></li> <li> \\(J::<b>LinearAlgebra.UniformScaling</b>, A::<b>AbstractVecOrMat</b>) in LinearAlgebra at <a href=\"file:///buildworker/worker/package_linux64/build/usr/share/julia/stdlib/v1.7/LinearAlgebra/src/uniformscaling.jl\" target=\"_blank\">/home/hesed/julia-1.7.2/share/julia/stdlib/v1.7/LinearAlgebra/src/uniformscaling.jl:276</a></li> <li> \\(L::<b>SuiteSparse.CHOLMOD.Factor</b>, B::<b>SparseArrays.SparseMatrixCSC</b>) in SuiteSparse.CHOLMOD at <a href=\"file:///buildworker/worker/package_linux64/build/usr/share/julia/stdlib/v1.7/SuiteSparse/src/cholmod.jl\" target=\"_blank\">/home/hesed/julia-1.7.2/share/julia/stdlib/v1.7/SuiteSparse/src/cholmod.jl:1550</a></li> <li> \\(L::<b>SuiteSparse.CHOLMOD.Factor</b>, B::<b>LinearAlgebra.Adjoint{<:Any, <:SparseArrays.SparseMatrixCSC}</b>) in SuiteSparse.CHOLMOD at <a href=\"file:///buildworker/worker/package_linux64/build/usr/share/julia/stdlib/v1.7/SuiteSparse/src/cholmod.jl\" target=\"_blank\">/home/hesed/julia-1.7.2/share/julia/stdlib/v1.7/SuiteSparse/src/cholmod.jl:1551</a></li> <li> \\(L::<b>SuiteSparse.CHOLMOD.Factor{T}</b>, B::<b>LinearAlgebra.Adjoint{<:Any, <:Array{Complex{T}, 2}}</b>)<i> where T<:Float64</i> in SuiteSparse.CHOLMOD at <a href=\"file:///buildworker/worker/package_linux64/build/usr/share/julia/stdlib/v1.7/SuiteSparse/src/cholmod.jl\" target=\"_blank\">/home/hesed/julia-1.7.2/share/julia/stdlib/v1.7/SuiteSparse/src/cholmod.jl:1540</a></li> <li> \\(L::<b>SuiteSparse.CHOLMOD.Factor{T}</b>, B::<b>LinearAlgebra.Adjoint{<:Any, <:StridedMatrix{T} where T}</b>)<i> where T<:Union{Float64, ComplexF64}</i> in SuiteSparse.CHOLMOD at <a href=\"file:///buildworker/worker/package_linux64/build/usr/share/julia/stdlib/v1.7/SuiteSparse/src/cholmod.jl\" target=\"_blank\">/home/hesed/julia-1.7.2/share/julia/stdlib/v1.7/SuiteSparse/src/cholmod.jl:1545</a></li> <li> \\(L::<b>SuiteSparse.CHOLMOD.Factor</b>, B::<b>LinearAlgebra.Transpose{<:Any, <:SparseArrays.SparseMatrixCSC}</b>) in SuiteSparse.CHOLMOD at <a href=\"file:///buildworker/worker/package_linux64/build/usr/share/julia/stdlib/v1.7/SuiteSparse/src/cholmod.jl\" target=\"_blank\">/home/hesed/julia-1.7.2/share/julia/stdlib/v1.7/SuiteSparse/src/cholmod.jl:1552</a></li> <li> \\(L::<b>SuiteSparse.CHOLMOD.Factor{T}</b>, B::<b>LinearAlgebra.Transpose{<:Any, <:Array{Complex{T}, 2}}</b>)<i> where T<:Float64</i> in SuiteSparse.CHOLMOD at <a href=\"file:///buildworker/worker/package_linux64/build/usr/share/julia/stdlib/v1.7/SuiteSparse/src/cholmod.jl\" target=\"_blank\">/home/hesed/julia-1.7.2/share/julia/stdlib/v1.7/SuiteSparse/src/cholmod.jl:1541</a></li> <li> \\(L::<b>SuiteSparse.CHOLMOD.Factor{T}</b>, B::<b>LinearAlgebra.Transpose{<:Any, <:StridedMatrix{T} where T}</b>)<i> where T<:Union{Float64, ComplexF64}</i> in SuiteSparse.CHOLMOD at <a href=\"file:///buildworker/worker/package_linux64/build/usr/share/julia/stdlib/v1.7/SuiteSparse/src/cholmod.jl\" target=\"_blank\">/home/hesed/julia-1.7.2/share/julia/stdlib/v1.7/SuiteSparse/src/cholmod.jl:1546</a></li> <li> \\(L::<b>SuiteSparse.CHOLMOD.Factor</b>, B::<b>SuiteSparse.CHOLMOD.Sparse</b>) in SuiteSparse.CHOLMOD at <a href=\"file:///buildworker/worker/package_linux64/build/usr/share/julia/stdlib/v1.7/SuiteSparse/src/cholmod.jl\" target=\"_blank\">/home/hesed/julia-1.7.2/share/julia/stdlib/v1.7/SuiteSparse/src/cholmod.jl:1548</a></li> <li> \\(L::<b>SuiteSparse.CHOLMOD.Factor</b>, B::<b>SparseArrays.SparseVector</b>) in SuiteSparse.CHOLMOD at <a href=\"file:///buildworker/worker/package_linux64/build/usr/share/julia/stdlib/v1.7/SuiteSparse/src/cholmod.jl\" target=\"_blank\">/home/hesed/julia-1.7.2/share/julia/stdlib/v1.7/SuiteSparse/src/cholmod.jl:1553</a></li> <li> \\(L::<b>SuiteSparse.CHOLMOD.Factor{T}</b>, B::<b>Array{Complex{T}, 2}</b>)<i> where T<:Float64</i> in SuiteSparse.CHOLMOD at <a href=\"file:///buildworker/worker/package_linux64/build/usr/share/julia/stdlib/v1.7/SuiteSparse/src/cholmod.jl\" target=\"_blank\">/home/hesed/julia-1.7.2/share/julia/stdlib/v1.7/SuiteSparse/src/cholmod.jl:1539</a></li> <li> \\(L::<b>SuiteSparse.CHOLMOD.Factor{T}</b>, B::<b>Array{Complex{T}, 1}</b>)<i> where T<:Float64</i> in SuiteSparse.CHOLMOD at <a href=\"file:///buildworker/worker/package_linux64/build/usr/share/julia/stdlib/v1.7/SuiteSparse/src/cholmod.jl\" target=\"_blank\">/home/hesed/julia-1.7.2/share/julia/stdlib/v1.7/SuiteSparse/src/cholmod.jl:1538</a></li> <li> \\(F::<b>LinearAlgebra.Factorization{T}</b>, B::<b>Union{Array{Complex{T}, 1}, Array{Complex{T}, 2}}</b>)<i> where T<:Union{Float32, Float64}</i> in LinearAlgebra at <a href=\"file:///buildworker/worker/package_linux64/build/usr/share/julia/stdlib/v1.7/LinearAlgebra/src/factorization.jl\" target=\"_blank\">/home/hesed/julia-1.7.2/share/julia/stdlib/v1.7/LinearAlgebra/src/factorization.jl:90</a></li> <li> \\(L::<b>SuiteSparse.CHOLMOD.Factor{T}</b>, B::<b>SuiteSparse.CHOLMOD.Dense{T}</b>)<i> where T<:Union{Float64, ComplexF64}</i> in SuiteSparse.CHOLMOD at <a href=\"file:///buildworker/worker/package_linux64/build/usr/share/julia/stdlib/v1.7/SuiteSparse/src/cholmod.jl\" target=\"_blank\">/home/hesed/julia-1.7.2/share/julia/stdlib/v1.7/SuiteSparse/src/cholmod.jl:1535</a></li> <li> \\(L::<b>SuiteSparse.CHOLMOD.Factor{T}</b>, B::<b>StridedMatrix{T} where T</b>)<i> where T<:Union{Float64, ComplexF64}</i> in SuiteSparse.CHOLMOD at <a href=\"file:///buildworker/worker/package_linux64/build/usr/share/julia/stdlib/v1.7/SuiteSparse/src/cholmod.jl\" target=\"_blank\">/home/hesed/julia-1.7.2/share/julia/stdlib/v1.7/SuiteSparse/src/cholmod.jl:1544</a></li> <li> \\(L::<b>SuiteSparse.CHOLMOD.Factor{T}</b>, b::<b>StridedVector{T} where T</b>)<i> where T<:Union{Float64, ComplexF64}</i> in SuiteSparse.CHOLMOD at <a href=\"file:///buildworker/worker/package_linux64/build/usr/share/julia/stdlib/v1.7/SuiteSparse/src/cholmod.jl\" target=\"_blank\">/home/hesed/julia-1.7.2/share/julia/stdlib/v1.7/SuiteSparse/src/cholmod.jl:1543</a></li> <li> \\(F::<b>Union{LinearAlgebra.Adjoint{<:Any, <:LinearAlgebra.Factorization}, LinearAlgebra.Factorization}</b>, B::<b>AbstractVecOrMat</b>) in LinearAlgebra at <a href=\"file:///buildworker/worker/package_linux64/build/usr/share/julia/stdlib/v1.7/LinearAlgebra/src/factorization.jl\" target=\"_blank\">/home/hesed/julia-1.7.2/share/julia/stdlib/v1.7/LinearAlgebra/src/factorization.jl:102</a></li> <li> \\(A::<b>Union{BitMatrix, BitVector}</b>, B::<b>Union{BitMatrix, BitVector}</b>) in Base at <a href=\"https://github.com/JuliaLang/julia/tree/bf534986350a991e4a1b29126de0342ffd76205e/base/bitarray.jl#L1197\" target=\"_blank\">bitarray.jl:1197</a></li> <li> \\(A::<b>AbstractMatrix</b>, B::<b>AbstractVecOrMat</b>) in LinearAlgebra at <a href=\"file:///buildworker/worker/package_linux64/build/usr/share/julia/stdlib/v1.7/LinearAlgebra/src/generic.jl\" target=\"_blank\">/home/hesed/julia-1.7.2/share/julia/stdlib/v1.7/LinearAlgebra/src/generic.jl:1128</a></li> <li> \\(a::<b>AbstractVector</b>, b::<b>AbstractArray</b>) in LinearAlgebra at <a href=\"file:///buildworker/worker/package_linux64/build/usr/share/julia/stdlib/v1.7/LinearAlgebra/src/generic.jl\" target=\"_blank\">/home/hesed/julia-1.7.2/share/julia/stdlib/v1.7/LinearAlgebra/src/generic.jl:1147</a></li> <li> \\(x, y) in Base at <a href=\"https://github.com/JuliaLang/julia/tree/bf534986350a991e4a1b29126de0342ffd76205e/base/operators.jl#L693\" target=\"_blank\">operators.jl:693</a></li> </ul>"
      ],
      "text/plain": [
       "# 135 methods for generic function \"\\\":\n",
       "[1] \\(A::Union{LinearAlgebra.QR{T, S} where S<:AbstractMatrix{T}, LinearAlgebra.QRCompactWY{T, M} where M<:AbstractMatrix{T}, LinearAlgebra.QRPivoted{T, S} where S<:AbstractMatrix{T}}, BIn::Union{Array{Complex{T}, 1}, Array{Complex{T}, 2}}) where T<:Union{Float32, Float64} in LinearAlgebra at /home/hesed/julia-1.7.2/share/julia/stdlib/v1.7/LinearAlgebra/src/qr.jl:1016\n",
       "[2] \\(L::Union{LinearAlgebra.Adjoint{T, <:LinearAlgebra.UpperTriangular{T, <:Union{SparseArrays.AbstractSparseMatrixCSC{T, Ti}, SubArray{T, 2, <:SparseArrays.AbstractSparseMatrixCSC{T, Ti}, Tuple{Base.Slice{Base.OneTo{Int64}}, I}} where I<:AbstractUnitRange} where Ti}}, LinearAlgebra.Adjoint{T, <:LinearAlgebra.UnitUpperTriangular{T, <:Union{SparseArrays.AbstractSparseMatrixCSC{T, Ti}, SubArray{T, 2, <:SparseArrays.AbstractSparseMatrixCSC{T, Ti}, Tuple{Base.Slice{Base.OneTo{Int64}}, I}} where I<:AbstractUnitRange} where Ti}}, LinearAlgebra.Adjoint{T, <:LinearAlgebra.LowerTriangular{T, <:Union{SparseArrays.AbstractSparseMatrixCSC{T, Ti}, SubArray{T, 2, <:SparseArrays.AbstractSparseMatrixCSC{T, Ti}, Tuple{Base.Slice{Base.OneTo{Int64}}, I}} where I<:AbstractUnitRange} where Ti}}, LinearAlgebra.Adjoint{T, <:LinearAlgebra.UnitLowerTriangular{T, <:Union{SparseArrays.AbstractSparseMatrixCSC{T, Ti}, SubArray{T, 2, <:SparseArrays.AbstractSparseMatrixCSC{T, Ti}, Tuple{Base.Slice{Base.OneTo{Int64}}, I}} where I<:AbstractUnitRange} where Ti}}, LinearAlgebra.LowerTriangular{T, <:Union{SparseArrays.AbstractSparseMatrixCSC{T, Ti}, SubArray{T, 2, <:SparseArrays.AbstractSparseMatrixCSC{T, Ti}, Tuple{Base.Slice{Base.OneTo{Int64}}, I}} where I<:AbstractUnitRange} where Ti}, LinearAlgebra.Transpose{T, <:LinearAlgebra.UpperTriangular{T, <:Union{SparseArrays.AbstractSparseMatrixCSC{T, Ti}, SubArray{T, 2, <:SparseArrays.AbstractSparseMatrixCSC{T, Ti}, Tuple{Base.Slice{Base.OneTo{Int64}}, I}} where I<:AbstractUnitRange} where Ti}}, LinearAlgebra.Transpose{T, <:LinearAlgebra.UnitUpperTriangular{T, <:Union{SparseArrays.AbstractSparseMatrixCSC{T, Ti}, SubArray{T, 2, <:SparseArrays.AbstractSparseMatrixCSC{T, Ti}, Tuple{Base.Slice{Base.OneTo{Int64}}, I}} where I<:AbstractUnitRange} where Ti}}, LinearAlgebra.Transpose{T, <:LinearAlgebra.LowerTriangular{T, <:Union{SparseArrays.AbstractSparseMatrixCSC{T, Ti}, SubArray{T, 2, <:SparseArrays.AbstractSparseMatrixCSC{T, Ti}, Tuple{Base.Slice{Base.OneTo{Int64}}, I}} where I<:AbstractUnitRange} where Ti}}, LinearAlgebra.Transpose{T, <:LinearAlgebra.UnitLowerTriangular{T, <:Union{SparseArrays.AbstractSparseMatrixCSC{T, Ti}, SubArray{T, 2, <:SparseArrays.AbstractSparseMatrixCSC{T, Ti}, Tuple{Base.Slice{Base.OneTo{Int64}}, I}} where I<:AbstractUnitRange} where Ti}}, LinearAlgebra.UnitLowerTriangular{T, <:Union{SparseArrays.AbstractSparseMatrixCSC{T, Ti}, SubArray{T, 2, <:SparseArrays.AbstractSparseMatrixCSC{T, Ti}, Tuple{Base.Slice{Base.OneTo{Int64}}, I}} where I<:AbstractUnitRange} where Ti}, LinearAlgebra.UnitUpperTriangular{T, <:Union{SparseArrays.AbstractSparseMatrixCSC{T, Ti}, SubArray{T, 2, <:SparseArrays.AbstractSparseMatrixCSC{T, Ti}, Tuple{Base.Slice{Base.OneTo{Int64}}, I}} where I<:AbstractUnitRange} where Ti}, LinearAlgebra.UpperTriangular{T, <:Union{SparseArrays.AbstractSparseMatrixCSC{T, Ti}, SubArray{T, 2, <:SparseArrays.AbstractSparseMatrixCSC{T, Ti}, Tuple{Base.Slice{Base.OneTo{Int64}}, I}} where I<:AbstractUnitRange} where Ti}} where T, B::SparseArrays.AbstractSparseMatrixCSC) in SparseArrays at /home/hesed/julia-1.7.2/share/julia/stdlib/v1.7/SparseArrays/src/linalg.jl:811\n",
       "[3] \\(A::Union{LinearAlgebra.Hermitian{ComplexF64, SparseArrays.SparseMatrixCSC{ComplexF64, Int64}}, LinearAlgebra.Hermitian{Float64, SparseArrays.SparseMatrixCSC{Float64, Int64}}, LinearAlgebra.Symmetric{Float64, SparseArrays.SparseMatrixCSC{Float64, Int64}}}, B::Union{LinearAlgebra.Adjoint{<:Any, <:StridedVecOrMat}, LinearAlgebra.Transpose{<:Any, <:StridedVecOrMat}, StridedVecOrMat}) in SuiteSparse.CHOLMOD at /home/hesed/julia-1.7.2/share/julia/stdlib/v1.7/SuiteSparse/src/cholmod.jl:1573\n",
       "[4] \\(A::Union{LinearAlgebra.Hermitian{var\"#s859\", var\"#s858\"}, LinearAlgebra.Symmetric{var\"#s859\", var\"#s858\"}} where {var\"#s859\", var\"#s858\"<:(StridedMatrix{T} where T)}, B::AbstractVector) in LinearAlgebra at /home/hesed/julia-1.7.2/share/julia/stdlib/v1.7/LinearAlgebra/src/symmetric.jl:655\n",
       "[5] \\(A::Union{LinearAlgebra.Hermitian{var\"#s859\", var\"#s858\"}, LinearAlgebra.Symmetric{var\"#s859\", var\"#s858\"}} where {var\"#s859\", var\"#s858\"<:(StridedMatrix{T} where T)}, B::AbstractMatrix) in LinearAlgebra at /home/hesed/julia-1.7.2/share/julia/stdlib/v1.7/LinearAlgebra/src/symmetric.jl:658\n",
       "[6] \\(A::AbstractMatrix, J::LinearAlgebra.UniformScaling) in LinearAlgebra at /home/hesed/julia-1.7.2/share/julia/stdlib/v1.7/LinearAlgebra/src/uniformscaling.jl:277\n",
       "[7] \\(A::SparseArrays.AbstractSparseMatrixCSC, B::AbstractVecOrMat) in SparseArrays at /home/hesed/julia-1.7.2/share/julia/stdlib/v1.7/SparseArrays/src/linalg.jl:1538\n",
       "[8] \\(B::Number, A::LinearAlgebra.SymTridiagonal) in LinearAlgebra at /home/hesed/julia-1.7.2/share/julia/stdlib/v1.7/LinearAlgebra/src/tridiag.jl:214\n",
       "[9] \\(B::Number, A::LinearAlgebra.Tridiagonal) in LinearAlgebra at /home/hesed/julia-1.7.2/share/julia/stdlib/v1.7/LinearAlgebra/src/tridiag.jl:745\n",
       "[10] \\(x::Number, A::LinearAlgebra.UpperTriangular) in LinearAlgebra at /home/hesed/julia-1.7.2/share/julia/stdlib/v1.7/LinearAlgebra/src/triangular.jl:880\n",
       "[11] \\(x::Number, A::LinearAlgebra.UnitUpperTriangular) in LinearAlgebra at /home/hesed/julia-1.7.2/share/julia/stdlib/v1.7/LinearAlgebra/src/triangular.jl:882\n",
       "[12] \\(x::Number, A::LinearAlgebra.LowerTriangular) in LinearAlgebra at /home/hesed/julia-1.7.2/share/julia/stdlib/v1.7/LinearAlgebra/src/triangular.jl:880\n",
       "[13] \\(x::Number, A::LinearAlgebra.UnitLowerTriangular) in LinearAlgebra at /home/hesed/julia-1.7.2/share/julia/stdlib/v1.7/LinearAlgebra/src/triangular.jl:882\n",
       "[14] \\(x::Number, D::LinearAlgebra.Diagonal) in LinearAlgebra at /home/hesed/julia-1.7.2/share/julia/stdlib/v1.7/LinearAlgebra/src/diagonal.jl:193\n",
       "[15] \\(B::Number, A::LinearAlgebra.Bidiagonal) in LinearAlgebra at /home/hesed/julia-1.7.2/share/julia/stdlib/v1.7/LinearAlgebra/src/bidiag.jl:376\n",
       "[16] \\(x::Number, J::LinearAlgebra.UniformScaling) in LinearAlgebra at /home/hesed/julia-1.7.2/share/julia/stdlib/v1.7/LinearAlgebra/src/uniformscaling.jl:281\n",
       "[17] \\(x::Number, H::LinearAlgebra.UpperHessenberg) in LinearAlgebra at /home/hesed/julia-1.7.2/share/julia/stdlib/v1.7/LinearAlgebra/src/hessenberg.jl:117\n",
       "[18] \\(A::Number, B::AbstractArray) in Base at arraymath.jl:52\n",
       "[19] \\(A::LinearAlgebra.UnitLowerTriangular, B::LinearAlgebra.LowerTriangular) in LinearAlgebra at /home/hesed/julia-1.7.2/share/julia/stdlib/v1.7/LinearAlgebra/src/triangular.jl:1514\n",
       "[20] \\(A::LinearAlgebra.UnitLowerTriangular, B::LinearAlgebra.UnitLowerTriangular) in LinearAlgebra at /home/hesed/julia-1.7.2/share/julia/stdlib/v1.7/LinearAlgebra/src/triangular.jl:1530\n",
       "[21] \\(xA::LinearAlgebra.UnitLowerTriangular{<:TA, <:StridedMatrix{T} where T}, b::SparseArrays.SparseVector{Tb}) where {TA<:Number, Tb<:Number} in SparseArrays at /home/hesed/julia-1.7.2/share/julia/stdlib/v1.7/SparseArrays/src/sparsevector.jl:1866\n",
       "[22] \\(xA::LinearAlgebra.UnitLowerTriangular{<:TA, <:LinearAlgebra.Transpose{<:Any, <:StridedMatrix{T} where T}}, b::SparseArrays.SparseVector{Tb}) where {TA<:Number, Tb<:Number} in SparseArrays at /home/hesed/julia-1.7.2/share/julia/stdlib/v1.7/SparseArrays/src/sparsevector.jl:1866\n",
       "[23] \\(xA::LinearAlgebra.UnitLowerTriangular{<:TA, <:LinearAlgebra.Adjoint{<:Any, <:StridedMatrix{T} where T}}, b::SparseArrays.SparseVector{Tb}) where {TA<:Number, Tb<:Number} in SparseArrays at /home/hesed/julia-1.7.2/share/julia/stdlib/v1.7/SparseArrays/src/sparsevector.jl:1866\n",
       "[24] \\(A::LinearAlgebra.UnitLowerTriangular{<:TA, <:AbstractMatrix}, b::SparseArrays.SparseVector{Tb}) where {TA<:Number, Tb<:Number} in SparseArrays at /home/hesed/julia-1.7.2/share/julia/stdlib/v1.7/SparseArrays/src/sparsevector.jl:1846\n",
       "[25] \\(A::LinearAlgebra.UnitLowerTriangular, b::SparseArrays.SparseVector) in SparseArrays at /home/hesed/julia-1.7.2/share/julia/stdlib/v1.7/SparseArrays/src/sparsevector.jl:1853\n",
       "[26] \\(F::LinearAlgebra.Factorization, J::LinearAlgebra.UniformScaling) in LinearAlgebra at /home/hesed/julia-1.7.2/share/julia/stdlib/v1.7/LinearAlgebra/src/uniformscaling.jl:279\n",
       "[27] \\(L::SuiteSparse.CHOLMOD.FactorComponent, B::Union{SparseArrays.SparseMatrixCSC{Tv, Ti}, SparseArrays.SparseVector{Tv, Ti}} where {Tv, Ti}) in SuiteSparse.CHOLMOD at /home/hesed/julia-1.7.2/share/julia/stdlib/v1.7/SuiteSparse/src/cholmod.jl:1527\n",
       "[28] \\(L::SuiteSparse.CHOLMOD.FactorComponent, B::LinearAlgebra.Transpose{<:Any, <:SparseArrays.SparseMatrixCSC}) in SuiteSparse.CHOLMOD at /home/hesed/julia-1.7.2/share/julia/stdlib/v1.7/SuiteSparse/src/cholmod.jl:1531\n",
       "[29] \\(L::SuiteSparse.CHOLMOD.FactorComponent, B::LinearAlgebra.Adjoint{<:Any, <:SparseArrays.SparseMatrixCSC}) in SuiteSparse.CHOLMOD at /home/hesed/julia-1.7.2/share/julia/stdlib/v1.7/SuiteSparse/src/cholmod.jl:1530\n",
       "[30] \\(L::SuiteSparse.CHOLMOD.FactorComponent{T, :DUP}, B::SuiteSparse.CHOLMOD.Dense) where T in SuiteSparse.CHOLMOD at /home/hesed/julia-1.7.2/share/julia/stdlib/v1.7/SuiteSparse/src/cholmod.jl:1512\n",
       "[31] \\(L::SuiteSparse.CHOLMOD.FactorComponent{T, :PtLD}, B::SuiteSparse.CHOLMOD.Dense) where T in SuiteSparse.CHOLMOD at /home/hesed/julia-1.7.2/share/julia/stdlib/v1.7/SuiteSparse/src/cholmod.jl:1508\n",
       "[32] \\(L::SuiteSparse.CHOLMOD.FactorComponent{T, :DU}, B::SuiteSparse.CHOLMOD.Dense) where T in SuiteSparse.CHOLMOD at /home/hesed/julia-1.7.2/share/julia/stdlib/v1.7/SuiteSparse/src/cholmod.jl:1505\n",
       "[33] \\(L::SuiteSparse.CHOLMOD.FactorComponent{T, :LD}, B::SuiteSparse.CHOLMOD.Dense) where T in SuiteSparse.CHOLMOD at /home/hesed/julia-1.7.2/share/julia/stdlib/v1.7/SuiteSparse/src/cholmod.jl:1502\n",
       "[34] \\(L::SuiteSparse.CHOLMOD.FactorComponent{T, :D}, B::SuiteSparse.CHOLMOD.Dense) where T in SuiteSparse.CHOLMOD at /home/hesed/julia-1.7.2/share/julia/stdlib/v1.7/SuiteSparse/src/cholmod.jl:1499\n",
       "[35] \\(L::SuiteSparse.CHOLMOD.FactorComponent{T, :UP}, B::SuiteSparse.CHOLMOD.Dense) where T in SuiteSparse.CHOLMOD at /home/hesed/julia-1.7.2/share/julia/stdlib/v1.7/SuiteSparse/src/cholmod.jl:1494\n",
       "[36] \\(L::SuiteSparse.CHOLMOD.FactorComponent{T, :PtL}, B::SuiteSparse.CHOLMOD.Dense) where T in SuiteSparse.CHOLMOD at /home/hesed/julia-1.7.2/share/julia/stdlib/v1.7/SuiteSparse/src/cholmod.jl:1490\n",
       "[37] \\(L::SuiteSparse.CHOLMOD.FactorComponent{T, :U}, B::SuiteSparse.CHOLMOD.Dense) where T in SuiteSparse.CHOLMOD at /home/hesed/julia-1.7.2/share/julia/stdlib/v1.7/SuiteSparse/src/cholmod.jl:1486\n",
       "[38] \\(L::SuiteSparse.CHOLMOD.FactorComponent{T, :L}, B::SuiteSparse.CHOLMOD.Dense) where T in SuiteSparse.CHOLMOD at /home/hesed/julia-1.7.2/share/julia/stdlib/v1.7/SuiteSparse/src/cholmod.jl:1483\n",
       "[39] \\(L::SuiteSparse.CHOLMOD.FactorComponent{T, :UP}, B::SuiteSparse.CHOLMOD.Sparse) where T in SuiteSparse.CHOLMOD at /home/hesed/julia-1.7.2/share/julia/stdlib/v1.7/SuiteSparse/src/cholmod.jl:1494\n",
       "[40] \\(L::SuiteSparse.CHOLMOD.FactorComponent{T, :PtL}, B::SuiteSparse.CHOLMOD.Sparse) where T in SuiteSparse.CHOLMOD at /home/hesed/julia-1.7.2/share/julia/stdlib/v1.7/SuiteSparse/src/cholmod.jl:1490\n",
       "[41] \\(L::SuiteSparse.CHOLMOD.FactorComponent{T, :U}, B::SuiteSparse.CHOLMOD.Sparse) where T in SuiteSparse.CHOLMOD at /home/hesed/julia-1.7.2/share/julia/stdlib/v1.7/SuiteSparse/src/cholmod.jl:1486\n",
       "[42] \\(L::SuiteSparse.CHOLMOD.FactorComponent{T, :L}, B::SuiteSparse.CHOLMOD.Sparse) where T in SuiteSparse.CHOLMOD at /home/hesed/julia-1.7.2/share/julia/stdlib/v1.7/SuiteSparse/src/cholmod.jl:1483\n",
       "[43] \\(L::SuiteSparse.CHOLMOD.FactorComponent{T, :D}, B::SuiteSparse.CHOLMOD.Sparse) where T in SuiteSparse.CHOLMOD at /home/hesed/julia-1.7.2/share/julia/stdlib/v1.7/SuiteSparse/src/cholmod.jl:1499\n",
       "[44] \\(L::SuiteSparse.CHOLMOD.FactorComponent{T, :LD}, B::SuiteSparse.CHOLMOD.Sparse) where T in SuiteSparse.CHOLMOD at /home/hesed/julia-1.7.2/share/julia/stdlib/v1.7/SuiteSparse/src/cholmod.jl:1502\n",
       "[45] \\(L::SuiteSparse.CHOLMOD.FactorComponent{T, :DU}, B::SuiteSparse.CHOLMOD.Sparse) where T in SuiteSparse.CHOLMOD at /home/hesed/julia-1.7.2/share/julia/stdlib/v1.7/SuiteSparse/src/cholmod.jl:1505\n",
       "[46] \\(L::SuiteSparse.CHOLMOD.FactorComponent{T, :PtLD}, B::SuiteSparse.CHOLMOD.Sparse) where T in SuiteSparse.CHOLMOD at /home/hesed/julia-1.7.2/share/julia/stdlib/v1.7/SuiteSparse/src/cholmod.jl:1508\n",
       "[47] \\(L::SuiteSparse.CHOLMOD.FactorComponent{T, :DUP}, B::SuiteSparse.CHOLMOD.Sparse) where T in SuiteSparse.CHOLMOD at /home/hesed/julia-1.7.2/share/julia/stdlib/v1.7/SuiteSparse/src/cholmod.jl:1512\n",
       "[48] \\(L::SuiteSparse.CHOLMOD.FactorComponent, b::Vector) in SuiteSparse.CHOLMOD at /home/hesed/julia-1.7.2/share/julia/stdlib/v1.7/SuiteSparse/src/cholmod.jl:1521\n",
       "[49] \\(L::SuiteSparse.CHOLMOD.FactorComponent, B::Matrix) in SuiteSparse.CHOLMOD at /home/hesed/julia-1.7.2/share/julia/stdlib/v1.7/SuiteSparse/src/cholmod.jl:1524\n",
       "[50] \\(A::LinearAlgebra.UpperTriangular, B::LinearAlgebra.UpperTriangular) in LinearAlgebra at /home/hesed/julia-1.7.2/share/julia/stdlib/v1.7/LinearAlgebra/src/triangular.jl:1538\n",
       "[51] \\(A::LinearAlgebra.UpperTriangular, B::LinearAlgebra.UnitUpperTriangular) in LinearAlgebra at /home/hesed/julia-1.7.2/share/julia/stdlib/v1.7/LinearAlgebra/src/triangular.jl:1554\n",
       "[52] \\(U::LinearAlgebra.UpperTriangular, H::LinearAlgebra.UpperHessenberg) in LinearAlgebra at /home/hesed/julia-1.7.2/share/julia/stdlib/v1.7/LinearAlgebra/src/hessenberg.jl:151\n",
       "[53] \\(xA::LinearAlgebra.UpperTriangular{<:TA, <:StridedMatrix{T} where T}, b::SparseArrays.SparseVector{Tb}) where {TA<:Number, Tb<:Number} in SparseArrays at /home/hesed/julia-1.7.2/share/julia/stdlib/v1.7/SparseArrays/src/sparsevector.jl:1866\n",
       "[54] \\(xA::LinearAlgebra.UpperTriangular{<:TA, <:LinearAlgebra.Transpose{<:Any, <:StridedMatrix{T} where T}}, b::SparseArrays.SparseVector{Tb}) where {TA<:Number, Tb<:Number} in SparseArrays at /home/hesed/julia-1.7.2/share/julia/stdlib/v1.7/SparseArrays/src/sparsevector.jl:1866\n",
       "[55] \\(xA::LinearAlgebra.UpperTriangular{<:TA, <:LinearAlgebra.Adjoint{<:Any, <:StridedMatrix{T} where T}}, b::SparseArrays.SparseVector{Tb}) where {TA<:Number, Tb<:Number} in SparseArrays at /home/hesed/julia-1.7.2/share/julia/stdlib/v1.7/SparseArrays/src/sparsevector.jl:1866\n",
       "[56] \\(A::LinearAlgebra.UpperTriangular{<:TA, <:AbstractMatrix}, b::SparseArrays.SparseVector{Tb}) where {TA<:Number, Tb<:Number} in SparseArrays at /home/hesed/julia-1.7.2/share/julia/stdlib/v1.7/SparseArrays/src/sparsevector.jl:1846\n",
       "[57] \\(A::LinearAlgebra.UpperTriangular, b::SparseArrays.SparseVector) in SparseArrays at /home/hesed/julia-1.7.2/share/julia/stdlib/v1.7/SparseArrays/src/sparsevector.jl:1853\n",
       "[58] \\(T::LinearAlgebra.SymTridiagonal, B::StridedVecOrMat) in LinearAlgebra at /home/hesed/julia-1.7.2/share/julia/stdlib/v1.7/LinearAlgebra/src/tridiag.jl:278\n",
       "[59] \\(A::LinearAlgebra.Bidiagonal{var\"#s859\", V} where {var\"#s859\"<:Number, V<:AbstractVector{var\"#s859\"}}, B::AbstractVecOrMat{<:Number}) in LinearAlgebra at /home/hesed/julia-1.7.2/share/julia/stdlib/v1.7/LinearAlgebra/src/bidiag.jl:824\n",
       "[60] \\(A::LinearAlgebra.Bidiagonal, B::AbstractVecOrMat) in LinearAlgebra at /home/hesed/julia-1.7.2/share/julia/stdlib/v1.7/LinearAlgebra/src/bidiag.jl:829\n",
       "[61] \\(A::LinearAlgebra.Transpose{T, <:LinearAlgebra.LU{T, <:StridedMatrix{T} where T}}, B::LinearAlgebra.Transpose{T, <:StridedVecOrMat{T}}) where T<:Union{Float32, Float64, ComplexF32, ComplexF64} in LinearAlgebra at /home/hesed/julia-1.7.2/share/julia/stdlib/v1.7/LinearAlgebra/src/lu.jl:433\n",
       "[62] \\(A::LinearAlgebra.Transpose{<:Any, <:LinearAlgebra.LU}, B::LinearAlgebra.Transpose{<:Any, <:StridedVecOrMat}) in LinearAlgebra at /home/hesed/julia-1.7.2/share/julia/stdlib/v1.7/LinearAlgebra/src/lu.jl:430\n",
       "[63] \\(A::LinearAlgebra.Transpose{<:Real, <:LinearAlgebra.Hermitian{<:Real, <:SparseArrays.AbstractSparseMatrixCSC}}, B::Vector) in SparseArrays at /home/hesed/julia-1.7.2/share/julia/stdlib/v1.7/SparseArrays/src/linalg.jl:872\n",
       "[64] \\(A::LinearAlgebra.Transpose{<:Complex, <:LinearAlgebra.Hermitian{<:Complex, <:SparseArrays.AbstractSparseMatrixCSC}}, B::Vector) in SparseArrays at /home/hesed/julia-1.7.2/share/julia/stdlib/v1.7/SparseArrays/src/linalg.jl:873\n",
       "[65] \\(transA::LinearAlgebra.Transpose{<:Number, <:LinearAlgebra.Bidiagonal{var\"#s857\", V} where {var\"#s857\"<:Number, V<:AbstractVector{var\"#s857\"}}}, B::AbstractVecOrMat{<:Number}) in LinearAlgebra at /home/hesed/julia-1.7.2/share/julia/stdlib/v1.7/LinearAlgebra/src/bidiag.jl:830\n",
       "[66] \\(A::LinearAlgebra.Transpose{<:Number, <:LinearAlgebra.Symmetric{<:Number, <:SparseArrays.AbstractSparseMatrixCSC}}, B::Vector) in SparseArrays at /home/hesed/julia-1.7.2/share/julia/stdlib/v1.7/SparseArrays/src/linalg.jl:874\n",
       "[67] \\(F::LinearAlgebra.Transpose{<:Any, <:LinearAlgebra.Factorization{<:Real}}, B::AbstractVecOrMat) in LinearAlgebra at /home/hesed/julia-1.7.2/share/julia/stdlib/v1.7/LinearAlgebra/src/factorization.jl:135\n",
       "[68] \\(F::LinearAlgebra.Transpose{<:Any, <:LinearAlgebra.Factorization}, B::AbstractVecOrMat) in LinearAlgebra at /home/hesed/julia-1.7.2/share/julia/stdlib/v1.7/LinearAlgebra/src/factorization.jl:136\n",
       "[69] \\(transA::LinearAlgebra.Transpose{<:Any, <:LinearAlgebra.Bidiagonal}, B::AbstractVecOrMat) in LinearAlgebra at /home/hesed/julia-1.7.2/share/julia/stdlib/v1.7/LinearAlgebra/src/bidiag.jl:836\n",
       "[70] \\(xformA::LinearAlgebra.Transpose{<:Any, <:SparseArrays.AbstractSparseMatrixCSC}, B::AbstractVecOrMat) in SparseArrays at /home/hesed/julia-1.7.2/share/julia/stdlib/v1.7/SparseArrays/src/linalg.jl:1561\n",
       "[71] \\(A::LinearAlgebra.LowerTriangular, B::LinearAlgebra.LowerTriangular) in LinearAlgebra at /home/hesed/julia-1.7.2/share/julia/stdlib/v1.7/LinearAlgebra/src/triangular.jl:1506\n",
       "[72] \\(A::LinearAlgebra.LowerTriangular, B::LinearAlgebra.UnitLowerTriangular) in LinearAlgebra at /home/hesed/julia-1.7.2/share/julia/stdlib/v1.7/LinearAlgebra/src/triangular.jl:1522\n",
       "[73] \\(xA::LinearAlgebra.LowerTriangular{<:TA, <:StridedMatrix{T} where T}, b::SparseArrays.SparseVector{Tb}) where {TA<:Number, Tb<:Number} in SparseArrays at /home/hesed/julia-1.7.2/share/julia/stdlib/v1.7/SparseArrays/src/sparsevector.jl:1866\n",
       "[74] \\(xA::LinearAlgebra.LowerTriangular{<:TA, <:LinearAlgebra.Transpose{<:Any, <:StridedMatrix{T} where T}}, b::SparseArrays.SparseVector{Tb}) where {TA<:Number, Tb<:Number} in SparseArrays at /home/hesed/julia-1.7.2/share/julia/stdlib/v1.7/SparseArrays/src/sparsevector.jl:1866\n",
       "[75] \\(xA::LinearAlgebra.LowerTriangular{<:TA, <:LinearAlgebra.Adjoint{<:Any, <:StridedMatrix{T} where T}}, b::SparseArrays.SparseVector{Tb}) where {TA<:Number, Tb<:Number} in SparseArrays at /home/hesed/julia-1.7.2/share/julia/stdlib/v1.7/SparseArrays/src/sparsevector.jl:1866\n",
       "[76] \\(A::LinearAlgebra.LowerTriangular{<:TA, <:AbstractMatrix}, b::SparseArrays.SparseVector{Tb}) where {TA<:Number, Tb<:Number} in SparseArrays at /home/hesed/julia-1.7.2/share/julia/stdlib/v1.7/SparseArrays/src/sparsevector.jl:1846\n",
       "[77] \\(A::LinearAlgebra.LowerTriangular, b::SparseArrays.SparseVector) in SparseArrays at /home/hesed/julia-1.7.2/share/julia/stdlib/v1.7/SparseArrays/src/sparsevector.jl:1853\n",
       "[78] \\(A::Union{LinearAlgebra.LowerTriangular, LinearAlgebra.UpperTriangular}, B::AbstractVector) in LinearAlgebra at /home/hesed/julia-1.7.2/share/julia/stdlib/v1.7/LinearAlgebra/src/triangular.jl:1656\n",
       "[79] \\(A::Union{LinearAlgebra.LowerTriangular, LinearAlgebra.UpperTriangular}, B::AbstractMatrix) in LinearAlgebra at /home/hesed/julia-1.7.2/share/julia/stdlib/v1.7/LinearAlgebra/src/triangular.jl:1656\n",
       "[80] \\(A::LinearAlgebra.Adjoint{T, <:LinearAlgebra.LU{T, <:StridedMatrix{T} where T}}, B::LinearAlgebra.Adjoint{T, <:StridedVecOrMat{T}}) where T<:Union{ComplexF32, ComplexF64} in LinearAlgebra at /home/hesed/julia-1.7.2/share/julia/stdlib/v1.7/LinearAlgebra/src/lu.jl:431\n",
       "[81] \\(A::LinearAlgebra.Adjoint{<:Any, <:LinearAlgebra.Tridiagonal}, B::LinearAlgebra.Adjoint{<:Any, <:StridedVecOrMat}) in LinearAlgebra at /home/hesed/julia-1.7.2/share/julia/stdlib/v1.7/LinearAlgebra/src/tridiag.jl:617\n",
       "[82] \\(u::Union{LinearAlgebra.Adjoint{T, var\"#s859\"}, LinearAlgebra.Transpose{T, var\"#s859\"}} where {T, var\"#s859\"<:(AbstractVector)}, v::Union{LinearAlgebra.Adjoint{T, var\"#s859\"}, LinearAlgebra.Transpose{T, var\"#s859\"}} where {T, var\"#s859\"<:(AbstractVector)}) in LinearAlgebra at /home/hesed/julia-1.7.2/share/julia/stdlib/v1.7/LinearAlgebra/src/adjtrans.jl:316\n",
       "[83] \\(A::LinearAlgebra.Adjoint{<:Any, <:LinearAlgebra.LU}, B::LinearAlgebra.Adjoint{<:Any, <:StridedVecOrMat}) in LinearAlgebra at /home/hesed/julia-1.7.2/share/julia/stdlib/v1.7/LinearAlgebra/src/lu.jl:429\n",
       "[84] \\(adjA::LinearAlgebra.Adjoint{<:Number, <:LinearAlgebra.Bidiagonal{var\"#s857\", V} where {var\"#s857\"<:Number, V<:AbstractVector{var\"#s857\"}}}, B::AbstractVecOrMat{<:Number}) in LinearAlgebra at /home/hesed/julia-1.7.2/share/julia/stdlib/v1.7/LinearAlgebra/src/bidiag.jl:837\n",
       "[85] \\(adjA::LinearAlgebra.Adjoint{<:Any, <:LinearAlgebra.Bidiagonal}, B::AbstractVecOrMat) in LinearAlgebra at /home/hesed/julia-1.7.2/share/julia/stdlib/v1.7/LinearAlgebra/src/bidiag.jl:843\n",
       "[86] \\(xformA::LinearAlgebra.Adjoint{<:Any, <:SparseArrays.AbstractSparseMatrixCSC}, B::AbstractVecOrMat) in SparseArrays at /home/hesed/julia-1.7.2/share/julia/stdlib/v1.7/SparseArrays/src/linalg.jl:1561\n",
       "[87] \\(adjL::LinearAlgebra.Adjoint{<:Any, <:SuiteSparse.CHOLMOD.FactorComponent}, B::Union{Union{SparseArrays.SparseMatrixCSC{Tv, Ti}, SparseArrays.SparseVector{Tv, Ti}} where {Tv, Ti}, VecOrMat}) in SuiteSparse.CHOLMOD at /home/hesed/julia-1.7.2/share/julia/stdlib/v1.7/SuiteSparse/src/cholmod.jl:1533\n",
       "[88] \\(adjL::LinearAlgebra.Adjoint{<:Any, <:SuiteSparse.CHOLMOD.Factor}, B::SuiteSparse.CHOLMOD.Dense) in SuiteSparse.CHOLMOD at /home/hesed/julia-1.7.2/share/julia/stdlib/v1.7/SuiteSparse/src/cholmod.jl:1555\n",
       "[89] \\(adjL::LinearAlgebra.Adjoint{<:Any, <:SuiteSparse.CHOLMOD.Factor}, B::SuiteSparse.CHOLMOD.Sparse) in SuiteSparse.CHOLMOD at /home/hesed/julia-1.7.2/share/julia/stdlib/v1.7/SuiteSparse/src/cholmod.jl:1556\n",
       "[90] \\(adjL::LinearAlgebra.Adjoint{<:Any, <:SuiteSparse.CHOLMOD.Factor}, B::Union{SparseArrays.SparseMatrixCSC{Tv, Ti}, SparseArrays.SparseVector{Tv, Ti}} where {Tv, Ti}) in SuiteSparse.CHOLMOD at /home/hesed/julia-1.7.2/share/julia/stdlib/v1.7/SuiteSparse/src/cholmod.jl:1557\n",
       "[91] \\(adjL::LinearAlgebra.Adjoint{<:Any, <:SuiteSparse.CHOLMOD.Factor}, b::StridedVector{T} where T) in SuiteSparse.CHOLMOD at /home/hesed/julia-1.7.2/share/julia/stdlib/v1.7/SuiteSparse/src/cholmod.jl:1559\n",
       "[92] \\(adjL::LinearAlgebra.Adjoint{<:Any, <:SuiteSparse.CHOLMOD.Factor}, B::StridedMatrix{T} where T) in SuiteSparse.CHOLMOD at /home/hesed/julia-1.7.2/share/julia/stdlib/v1.7/SuiteSparse/src/cholmod.jl:1563\n",
       "[93] \\(A::LinearAlgebra.UnitUpperTriangular, B::LinearAlgebra.UpperTriangular) in LinearAlgebra at /home/hesed/julia-1.7.2/share/julia/stdlib/v1.7/LinearAlgebra/src/triangular.jl:1546\n",
       "[94] \\(A::LinearAlgebra.UnitUpperTriangular, B::LinearAlgebra.UnitUpperTriangular) in LinearAlgebra at /home/hesed/julia-1.7.2/share/julia/stdlib/v1.7/LinearAlgebra/src/triangular.jl:1562\n",
       "[95] \\(U::LinearAlgebra.UnitUpperTriangular, H::LinearAlgebra.UpperHessenberg) in LinearAlgebra at /home/hesed/julia-1.7.2/share/julia/stdlib/v1.7/LinearAlgebra/src/hessenberg.jl:158\n",
       "[96] \\(xA::LinearAlgebra.UnitUpperTriangular{<:TA, <:StridedMatrix{T} where T}, b::SparseArrays.SparseVector{Tb}) where {TA<:Number, Tb<:Number} in SparseArrays at /home/hesed/julia-1.7.2/share/julia/stdlib/v1.7/SparseArrays/src/sparsevector.jl:1866\n",
       "[97] \\(xA::LinearAlgebra.UnitUpperTriangular{<:TA, <:LinearAlgebra.Transpose{<:Any, <:StridedMatrix{T} where T}}, b::SparseArrays.SparseVector{Tb}) where {TA<:Number, Tb<:Number} in SparseArrays at /home/hesed/julia-1.7.2/share/julia/stdlib/v1.7/SparseArrays/src/sparsevector.jl:1866\n",
       "[98] \\(xA::LinearAlgebra.UnitUpperTriangular{<:TA, <:LinearAlgebra.Adjoint{<:Any, <:StridedMatrix{T} where T}}, b::SparseArrays.SparseVector{Tb}) where {TA<:Number, Tb<:Number} in SparseArrays at /home/hesed/julia-1.7.2/share/julia/stdlib/v1.7/SparseArrays/src/sparsevector.jl:1866\n",
       "[99] \\(A::LinearAlgebra.UnitUpperTriangular{<:TA, <:AbstractMatrix}, b::SparseArrays.SparseVector{Tb}) where {TA<:Number, Tb<:Number} in SparseArrays at /home/hesed/julia-1.7.2/share/julia/stdlib/v1.7/SparseArrays/src/sparsevector.jl:1846\n",
       "[100] \\(A::LinearAlgebra.UnitUpperTriangular, b::SparseArrays.SparseVector) in SparseArrays at /home/hesed/julia-1.7.2/share/julia/stdlib/v1.7/SparseArrays/src/sparsevector.jl:1853\n",
       "[101] \\(A::Union{LinearAlgebra.UnitLowerTriangular, LinearAlgebra.UnitUpperTriangular}, B::AbstractVector) in LinearAlgebra at /home/hesed/julia-1.7.2/share/julia/stdlib/v1.7/LinearAlgebra/src/triangular.jl:1648\n",
       "[102] \\(A::Union{LinearAlgebra.UnitLowerTriangular, LinearAlgebra.UnitUpperTriangular}, B::AbstractMatrix) in LinearAlgebra at /home/hesed/julia-1.7.2/share/julia/stdlib/v1.7/LinearAlgebra/src/triangular.jl:1648\n",
       "[103] \\(F::LinearAlgebra.LQ{T, S} where S<:AbstractMatrix{T}, B::Union{Array{Complex{T}, 1}, Array{Complex{T}, 2}}) where T<:Union{Float32, Float64} in LinearAlgebra at /home/hesed/julia-1.7.2/share/julia/stdlib/v1.7/LinearAlgebra/src/lq.jl:323\n",
       "[104] \\(F::Union{LinearAlgebra.BunchKaufman{T, S}, LinearAlgebra.Cholesky{T, S}, LinearAlgebra.LQ{T, S}, LinearAlgebra.LU{T, S}, LinearAlgebra.QR{T, S}, LinearAlgebra.QRCompactWY{T, S}, LinearAlgebra.QRPivoted{T, S}, LinearAlgebra.SVD{T, <:Real, S}} where S, B::Union{Array{Complex{T}, 1}, Array{Complex{T}, 2}}) where T<:Union{Float32, Float64} in LinearAlgebra at /home/hesed/julia-1.7.2/share/julia/stdlib/v1.7/LinearAlgebra/src/LinearAlgebra.jl:455\n",
       "[105] \\(F::Union{LinearAlgebra.Adjoint{<:Any, <:Union{LinearAlgebra.BunchKaufman{T, S}, LinearAlgebra.Cholesky{T, S}, LinearAlgebra.LQ{T, S}, LinearAlgebra.LU{T, S}, LinearAlgebra.QR{T, S}, LinearAlgebra.QRCompactWY{T, S}, LinearAlgebra.QRPivoted{T, S}, LinearAlgebra.SVD{T, <:Real, S}} where {T, S}}, Union{LinearAlgebra.BunchKaufman{T, S}, LinearAlgebra.Cholesky{T, S}, LinearAlgebra.LQ{T, S}, LinearAlgebra.LU{T, S}, LinearAlgebra.QR{T, S}, LinearAlgebra.QRCompactWY{T, S}, LinearAlgebra.QRPivoted{T, S}, LinearAlgebra.SVD{T, <:Real, S}} where {T, S}}, B::AbstractVecOrMat) in LinearAlgebra at /home/hesed/julia-1.7.2/share/julia/stdlib/v1.7/LinearAlgebra/src/LinearAlgebra.jl:426\n",
       "[106] \\(F::SuiteSparse.SPQR.QRSparse{T}, B::Union{Array{Complex{T}, 1}, Array{Complex{T}, 2}}) where T<:Union{Float32, Float64} in SuiteSparse.SPQR at /home/hesed/julia-1.7.2/share/julia/stdlib/v1.7/SuiteSparse/src/spqr.jl:327\n",
       "[107] \\(F::SuiteSparse.SPQR.QRSparse{T}, B::StridedVecOrMat{T}) where T in SuiteSparse.SPQR at /home/hesed/julia-1.7.2/share/julia/stdlib/v1.7/SuiteSparse/src/spqr.jl:385\n",
       "[108] \\(F::SuiteSparse.SPQR.QRSparse, B::StridedVecOrMat) in SuiteSparse.SPQR at /home/hesed/julia-1.7.2/share/julia/stdlib/v1.7/SuiteSparse/src/spqr.jl:408\n",
       "[109] \\(Da::LinearAlgebra.Diagonal, Db::LinearAlgebra.Diagonal) in LinearAlgebra at /home/hesed/julia-1.7.2/share/julia/stdlib/v1.7/LinearAlgebra/src/diagonal.jl:599\n",
       "[110] \\(x::LinearAlgebra.Diagonal, H::LinearAlgebra.UpperHessenberg) in LinearAlgebra at /home/hesed/julia-1.7.2/share/julia/stdlib/v1.7/LinearAlgebra/src/hessenberg.jl:117\n",
       "[111] \\(D::LinearAlgebra.Diagonal, A::AbstractMatrix) in LinearAlgebra at /home/hesed/julia-1.7.2/share/julia/stdlib/v1.7/LinearAlgebra/src/diagonal.jl:595\n",
       "[112] \\(D::LinearAlgebra.Diagonal, b::AbstractVector) in LinearAlgebra at /home/hesed/julia-1.7.2/share/julia/stdlib/v1.7/LinearAlgebra/src/diagonal.jl:598\n",
       "[113] \\(J1::LinearAlgebra.UniformScaling, J2::LinearAlgebra.UniformScaling) in LinearAlgebra at /home/hesed/julia-1.7.2/share/julia/stdlib/v1.7/LinearAlgebra/src/uniformscaling.jl:275\n",
       "[114] \\(x::LinearAlgebra.UniformScaling, H::LinearAlgebra.UpperHessenberg) in LinearAlgebra at /home/hesed/julia-1.7.2/share/julia/stdlib/v1.7/LinearAlgebra/src/hessenberg.jl:117\n",
       "[115] \\(J::LinearAlgebra.UniformScaling, A::AbstractVecOrMat) in LinearAlgebra at /home/hesed/julia-1.7.2/share/julia/stdlib/v1.7/LinearAlgebra/src/uniformscaling.jl:276\n",
       "[116] \\(L::SuiteSparse.CHOLMOD.Factor, B::SparseArrays.SparseMatrixCSC) in SuiteSparse.CHOLMOD at /home/hesed/julia-1.7.2/share/julia/stdlib/v1.7/SuiteSparse/src/cholmod.jl:1550\n",
       "[117] \\(L::SuiteSparse.CHOLMOD.Factor, B::LinearAlgebra.Adjoint{<:Any, <:SparseArrays.SparseMatrixCSC}) in SuiteSparse.CHOLMOD at /home/hesed/julia-1.7.2/share/julia/stdlib/v1.7/SuiteSparse/src/cholmod.jl:1551\n",
       "[118] \\(L::SuiteSparse.CHOLMOD.Factor{T}, B::LinearAlgebra.Adjoint{<:Any, <:Array{Complex{T}, 2}}) where T<:Float64 in SuiteSparse.CHOLMOD at /home/hesed/julia-1.7.2/share/julia/stdlib/v1.7/SuiteSparse/src/cholmod.jl:1540\n",
       "[119] \\(L::SuiteSparse.CHOLMOD.Factor{T}, B::LinearAlgebra.Adjoint{<:Any, <:StridedMatrix{T} where T}) where T<:Union{Float64, ComplexF64} in SuiteSparse.CHOLMOD at /home/hesed/julia-1.7.2/share/julia/stdlib/v1.7/SuiteSparse/src/cholmod.jl:1545\n",
       "[120] \\(L::SuiteSparse.CHOLMOD.Factor, B::LinearAlgebra.Transpose{<:Any, <:SparseArrays.SparseMatrixCSC}) in SuiteSparse.CHOLMOD at /home/hesed/julia-1.7.2/share/julia/stdlib/v1.7/SuiteSparse/src/cholmod.jl:1552\n",
       "[121] \\(L::SuiteSparse.CHOLMOD.Factor{T}, B::LinearAlgebra.Transpose{<:Any, <:Array{Complex{T}, 2}}) where T<:Float64 in SuiteSparse.CHOLMOD at /home/hesed/julia-1.7.2/share/julia/stdlib/v1.7/SuiteSparse/src/cholmod.jl:1541\n",
       "[122] \\(L::SuiteSparse.CHOLMOD.Factor{T}, B::LinearAlgebra.Transpose{<:Any, <:StridedMatrix{T} where T}) where T<:Union{Float64, ComplexF64} in SuiteSparse.CHOLMOD at /home/hesed/julia-1.7.2/share/julia/stdlib/v1.7/SuiteSparse/src/cholmod.jl:1546\n",
       "[123] \\(L::SuiteSparse.CHOLMOD.Factor, B::SuiteSparse.CHOLMOD.Sparse) in SuiteSparse.CHOLMOD at /home/hesed/julia-1.7.2/share/julia/stdlib/v1.7/SuiteSparse/src/cholmod.jl:1548\n",
       "[124] \\(L::SuiteSparse.CHOLMOD.Factor, B::SparseArrays.SparseVector) in SuiteSparse.CHOLMOD at /home/hesed/julia-1.7.2/share/julia/stdlib/v1.7/SuiteSparse/src/cholmod.jl:1553\n",
       "[125] \\(L::SuiteSparse.CHOLMOD.Factor{T}, B::Array{Complex{T}, 2}) where T<:Float64 in SuiteSparse.CHOLMOD at /home/hesed/julia-1.7.2/share/julia/stdlib/v1.7/SuiteSparse/src/cholmod.jl:1539\n",
       "[126] \\(L::SuiteSparse.CHOLMOD.Factor{T}, B::Array{Complex{T}, 1}) where T<:Float64 in SuiteSparse.CHOLMOD at /home/hesed/julia-1.7.2/share/julia/stdlib/v1.7/SuiteSparse/src/cholmod.jl:1538\n",
       "[127] \\(F::LinearAlgebra.Factorization{T}, B::Union{Array{Complex{T}, 1}, Array{Complex{T}, 2}}) where T<:Union{Float32, Float64} in LinearAlgebra at /home/hesed/julia-1.7.2/share/julia/stdlib/v1.7/LinearAlgebra/src/factorization.jl:90\n",
       "[128] \\(L::SuiteSparse.CHOLMOD.Factor{T}, B::SuiteSparse.CHOLMOD.Dense{T}) where T<:Union{Float64, ComplexF64} in SuiteSparse.CHOLMOD at /home/hesed/julia-1.7.2/share/julia/stdlib/v1.7/SuiteSparse/src/cholmod.jl:1535\n",
       "[129] \\(L::SuiteSparse.CHOLMOD.Factor{T}, B::StridedMatrix{T} where T) where T<:Union{Float64, ComplexF64} in SuiteSparse.CHOLMOD at /home/hesed/julia-1.7.2/share/julia/stdlib/v1.7/SuiteSparse/src/cholmod.jl:1544\n",
       "[130] \\(L::SuiteSparse.CHOLMOD.Factor{T}, b::StridedVector{T} where T) where T<:Union{Float64, ComplexF64} in SuiteSparse.CHOLMOD at /home/hesed/julia-1.7.2/share/julia/stdlib/v1.7/SuiteSparse/src/cholmod.jl:1543\n",
       "[131] \\(F::Union{LinearAlgebra.Adjoint{<:Any, <:LinearAlgebra.Factorization}, LinearAlgebra.Factorization}, B::AbstractVecOrMat) in LinearAlgebra at /home/hesed/julia-1.7.2/share/julia/stdlib/v1.7/LinearAlgebra/src/factorization.jl:102\n",
       "[132] \\(A::Union{BitMatrix, BitVector}, B::Union{BitMatrix, BitVector}) in Base at bitarray.jl:1197\n",
       "[133] \\(A::AbstractMatrix, B::AbstractVecOrMat) in LinearAlgebra at /home/hesed/julia-1.7.2/share/julia/stdlib/v1.7/LinearAlgebra/src/generic.jl:1128\n",
       "[134] \\(a::AbstractVector, b::AbstractArray) in LinearAlgebra at /home/hesed/julia-1.7.2/share/julia/stdlib/v1.7/LinearAlgebra/src/generic.jl:1147\n",
       "[135] \\(x, y) in Base at operators.jl:693"
      ]
     },
     "execution_count": 206,
     "metadata": {},
     "output_type": "execute_result"
    }
   ],
   "source": [
    "methods(\\)"
   ]
  },
  {
   "cell_type": "code",
   "execution_count": 207,
   "id": "f56be33a",
   "metadata": {},
   "outputs": [
    {
     "name": "stdout",
     "output_type": "stream",
     "text": [
      "search: \u001b[0m\u001b[1m\\\u001b[22m\n",
      "\n"
     ]
    },
    {
     "data": {
      "text/latex": [
       "\\begin{verbatim}\n",
       "\\(x, y)\n",
       "\\end{verbatim}\n",
       "Left division operator: multiplication of \\texttt{y} by the inverse of \\texttt{x} on the left. Gives floating-point results for integer arguments.\n",
       "\n",
       "\\section{Examples}\n",
       "\\begin{verbatim}\n",
       "julia> 3 \\ 6\n",
       "2.0\n",
       "\n",
       "julia> inv(3) * 6\n",
       "2.0\n",
       "\n",
       "julia> A = [4 3; 2 1]; x = [5, 6];\n",
       "\n",
       "julia> A \\ x\n",
       "2-element Vector{Float64}:\n",
       "  6.5\n",
       " -7.0\n",
       "\n",
       "julia> inv(A) * x\n",
       "2-element Vector{Float64}:\n",
       "  6.5\n",
       " -7.0\n",
       "\\end{verbatim}\n",
       "\\rule{\\textwidth}{1pt}\n",
       "\\begin{verbatim}\n",
       "\\(A, B)\n",
       "\\end{verbatim}\n",
       "Matrix division using a polyalgorithm. For input matrices \\texttt{A} and \\texttt{B}, the result \\texttt{X} is such that \\texttt{A*X == B} when \\texttt{A} is square. The solver that is used depends upon the structure of \\texttt{A}.  If \\texttt{A} is upper or lower triangular (or diagonal), no factorization of \\texttt{A} is required and the system is solved with either forward or backward substitution. For non-triangular square matrices, an LU factorization is used.\n",
       "\n",
       "For rectangular \\texttt{A} the result is the minimum-norm least squares solution computed by a pivoted QR factorization of \\texttt{A} and a rank estimate of \\texttt{A} based on the R factor.\n",
       "\n",
       "When \\texttt{A} is sparse, a similar polyalgorithm is used. For indefinite matrices, the \\texttt{LDLt} factorization does not use pivoting during the numerical factorization and therefore the procedure can fail even for invertible matrices.\n",
       "\n",
       "See also: \\href{@ref}{\\texttt{factorize}}, \\href{@ref}{\\texttt{pinv}}.\n",
       "\n",
       "\\section{Examples}\n",
       "\\begin{verbatim}\n",
       "julia> A = [1 0; 1 -2]; B = [32; -4];\n",
       "\n",
       "julia> X = A \\ B\n",
       "2-element Vector{Float64}:\n",
       " 32.0\n",
       " 18.0\n",
       "\n",
       "julia> A * X == B\n",
       "true\n",
       "\\end{verbatim}\n",
       "\\rule{\\textwidth}{1pt}\n",
       "\\begin{verbatim}\n",
       "(\\)(F::QRSparse, B::StridedVecOrMat)\n",
       "\\end{verbatim}\n",
       "Solve the least squares problem $\\min\\|Ax - b\\|^2$ or the linear system of equations $Ax=b$ when \\texttt{F} is the sparse QR factorization of $A$. A basic solution is returned when the problem is underdetermined.\n",
       "\n",
       "\\section{Examples}\n",
       "\\begin{verbatim}\n",
       "julia> A = sparse([1,2,4], [1,1,1], [1.0,1.0,1.0], 4, 2)\n",
       "4×2 SparseMatrixCSC{Float64, Int64} with 3 stored entries:\n",
       " 1.0   ⋅\n",
       " 1.0   ⋅\n",
       "  ⋅    ⋅\n",
       " 1.0   ⋅\n",
       "\n",
       "julia> qr(A)\\fill(1.0, 4)\n",
       "2-element Vector{Float64}:\n",
       " 1.0\n",
       " 0.0\n",
       "\\end{verbatim}\n"
      ],
      "text/markdown": [
       "```\n",
       "\\(x, y)\n",
       "```\n",
       "\n",
       "Left division operator: multiplication of `y` by the inverse of `x` on the left. Gives floating-point results for integer arguments.\n",
       "\n",
       "# Examples\n",
       "\n",
       "```jldoctest\n",
       "julia> 3 \\ 6\n",
       "2.0\n",
       "\n",
       "julia> inv(3) * 6\n",
       "2.0\n",
       "\n",
       "julia> A = [4 3; 2 1]; x = [5, 6];\n",
       "\n",
       "julia> A \\ x\n",
       "2-element Vector{Float64}:\n",
       "  6.5\n",
       " -7.0\n",
       "\n",
       "julia> inv(A) * x\n",
       "2-element Vector{Float64}:\n",
       "  6.5\n",
       " -7.0\n",
       "```\n",
       "\n",
       "---\n",
       "\n",
       "```\n",
       "\\(A, B)\n",
       "```\n",
       "\n",
       "Matrix division using a polyalgorithm. For input matrices `A` and `B`, the result `X` is such that `A*X == B` when `A` is square. The solver that is used depends upon the structure of `A`.  If `A` is upper or lower triangular (or diagonal), no factorization of `A` is required and the system is solved with either forward or backward substitution. For non-triangular square matrices, an LU factorization is used.\n",
       "\n",
       "For rectangular `A` the result is the minimum-norm least squares solution computed by a pivoted QR factorization of `A` and a rank estimate of `A` based on the R factor.\n",
       "\n",
       "When `A` is sparse, a similar polyalgorithm is used. For indefinite matrices, the `LDLt` factorization does not use pivoting during the numerical factorization and therefore the procedure can fail even for invertible matrices.\n",
       "\n",
       "See also: [`factorize`](@ref), [`pinv`](@ref).\n",
       "\n",
       "# Examples\n",
       "\n",
       "```jldoctest\n",
       "julia> A = [1 0; 1 -2]; B = [32; -4];\n",
       "\n",
       "julia> X = A \\ B\n",
       "2-element Vector{Float64}:\n",
       " 32.0\n",
       " 18.0\n",
       "\n",
       "julia> A * X == B\n",
       "true\n",
       "```\n",
       "\n",
       "---\n",
       "\n",
       "```\n",
       "(\\)(F::QRSparse, B::StridedVecOrMat)\n",
       "```\n",
       "\n",
       "Solve the least squares problem $\\min\\|Ax - b\\|^2$ or the linear system of equations $Ax=b$ when `F` is the sparse QR factorization of $A$. A basic solution is returned when the problem is underdetermined.\n",
       "\n",
       "# Examples\n",
       "\n",
       "```jldoctest\n",
       "julia> A = sparse([1,2,4], [1,1,1], [1.0,1.0,1.0], 4, 2)\n",
       "4×2 SparseMatrixCSC{Float64, Int64} with 3 stored entries:\n",
       " 1.0   ⋅\n",
       " 1.0   ⋅\n",
       "  ⋅    ⋅\n",
       " 1.0   ⋅\n",
       "\n",
       "julia> qr(A)\\fill(1.0, 4)\n",
       "2-element Vector{Float64}:\n",
       " 1.0\n",
       " 0.0\n",
       "```\n"
      ],
      "text/plain": [
       "\u001b[36m  \\(x, y)\u001b[39m\n",
       "\n",
       "  Left division operator: multiplication of \u001b[36my\u001b[39m by the inverse of \u001b[36mx\u001b[39m on the left.\n",
       "  Gives floating-point results for integer arguments.\n",
       "\n",
       "\u001b[1m  Examples\u001b[22m\n",
       "\u001b[1m  ≡≡≡≡≡≡≡≡≡≡\u001b[22m\n",
       "\n",
       "\u001b[36m  julia> 3 \\ 6\u001b[39m\n",
       "\u001b[36m  2.0\u001b[39m\n",
       "\u001b[36m  \u001b[39m\n",
       "\u001b[36m  julia> inv(3) * 6\u001b[39m\n",
       "\u001b[36m  2.0\u001b[39m\n",
       "\u001b[36m  \u001b[39m\n",
       "\u001b[36m  julia> A = [4 3; 2 1]; x = [5, 6];\u001b[39m\n",
       "\u001b[36m  \u001b[39m\n",
       "\u001b[36m  julia> A \\ x\u001b[39m\n",
       "\u001b[36m  2-element Vector{Float64}:\u001b[39m\n",
       "\u001b[36m    6.5\u001b[39m\n",
       "\u001b[36m   -7.0\u001b[39m\n",
       "\u001b[36m  \u001b[39m\n",
       "\u001b[36m  julia> inv(A) * x\u001b[39m\n",
       "\u001b[36m  2-element Vector{Float64}:\u001b[39m\n",
       "\u001b[36m    6.5\u001b[39m\n",
       "\u001b[36m   -7.0\u001b[39m\n",
       "\n",
       "  ────────────────────────────────────────────────────────────────────────────\n",
       "\n",
       "\u001b[36m  \\(A, B)\u001b[39m\n",
       "\n",
       "  Matrix division using a polyalgorithm. For input matrices \u001b[36mA\u001b[39m and \u001b[36mB\u001b[39m, the\n",
       "  result \u001b[36mX\u001b[39m is such that \u001b[36mA*X == B\u001b[39m when \u001b[36mA\u001b[39m is square. The solver that is used\n",
       "  depends upon the structure of \u001b[36mA\u001b[39m. If \u001b[36mA\u001b[39m is upper or lower triangular (or\n",
       "  diagonal), no factorization of \u001b[36mA\u001b[39m is required and the system is solved with\n",
       "  either forward or backward substitution. For non-triangular square matrices,\n",
       "  an LU factorization is used.\n",
       "\n",
       "  For rectangular \u001b[36mA\u001b[39m the result is the minimum-norm least squares solution\n",
       "  computed by a pivoted QR factorization of \u001b[36mA\u001b[39m and a rank estimate of \u001b[36mA\u001b[39m based\n",
       "  on the R factor.\n",
       "\n",
       "  When \u001b[36mA\u001b[39m is sparse, a similar polyalgorithm is used. For indefinite matrices,\n",
       "  the \u001b[36mLDLt\u001b[39m factorization does not use pivoting during the numerical\n",
       "  factorization and therefore the procedure can fail even for invertible\n",
       "  matrices.\n",
       "\n",
       "  See also: \u001b[36mfactorize\u001b[39m, \u001b[36mpinv\u001b[39m.\n",
       "\n",
       "\u001b[1m  Examples\u001b[22m\n",
       "\u001b[1m  ≡≡≡≡≡≡≡≡≡≡\u001b[22m\n",
       "\n",
       "\u001b[36m  julia> A = [1 0; 1 -2]; B = [32; -4];\u001b[39m\n",
       "\u001b[36m  \u001b[39m\n",
       "\u001b[36m  julia> X = A \\ B\u001b[39m\n",
       "\u001b[36m  2-element Vector{Float64}:\u001b[39m\n",
       "\u001b[36m   32.0\u001b[39m\n",
       "\u001b[36m   18.0\u001b[39m\n",
       "\u001b[36m  \u001b[39m\n",
       "\u001b[36m  julia> A * X == B\u001b[39m\n",
       "\u001b[36m  true\u001b[39m\n",
       "\n",
       "  ────────────────────────────────────────────────────────────────────────────\n",
       "\n",
       "\u001b[36m  (\\)(F::QRSparse, B::StridedVecOrMat)\u001b[39m\n",
       "\n",
       "  Solve the least squares problem \u001b[35m\\min\\|Ax - b\\|^2\u001b[39m or the linear system of\n",
       "  equations \u001b[35mAx=b\u001b[39m when \u001b[36mF\u001b[39m is the sparse QR factorization of \u001b[35mA\u001b[39m. A basic solution\n",
       "  is returned when the problem is underdetermined.\n",
       "\n",
       "\u001b[1m  Examples\u001b[22m\n",
       "\u001b[1m  ≡≡≡≡≡≡≡≡≡≡\u001b[22m\n",
       "\n",
       "\u001b[36m  julia> A = sparse([1,2,4], [1,1,1], [1.0,1.0,1.0], 4, 2)\u001b[39m\n",
       "\u001b[36m  4×2 SparseMatrixCSC{Float64, Int64} with 3 stored entries:\u001b[39m\n",
       "\u001b[36m   1.0   ⋅\u001b[39m\n",
       "\u001b[36m   1.0   ⋅\u001b[39m\n",
       "\u001b[36m    ⋅    ⋅\u001b[39m\n",
       "\u001b[36m   1.0   ⋅\u001b[39m\n",
       "\u001b[36m  \u001b[39m\n",
       "\u001b[36m  julia> qr(A)\\fill(1.0, 4)\u001b[39m\n",
       "\u001b[36m  2-element Vector{Float64}:\u001b[39m\n",
       "\u001b[36m   1.0\u001b[39m\n",
       "\u001b[36m   0.0\u001b[39m"
      ]
     },
     "execution_count": 207,
     "metadata": {},
     "output_type": "execute_result"
    }
   ],
   "source": [
    "?\\"
   ]
  },
  {
   "cell_type": "code",
   "execution_count": 209,
   "id": "371ec920",
   "metadata": {},
   "outputs": [
    {
     "data": {
      "text/plain": [
       "addone (generic function with 1 method)"
      ]
     },
     "execution_count": 209,
     "metadata": {},
     "output_type": "execute_result"
    }
   ],
   "source": [
    "addone(x::Int64) = x+1\n"
   ]
  },
  {
   "cell_type": "code",
   "execution_count": 214,
   "id": "5a4029ee",
   "metadata": {},
   "outputs": [
    {
     "ename": "LoadError",
     "evalue": "MethodError: no method matching addone(::Float64)\n\u001b[0mClosest candidates are:\n\u001b[0m  addone(\u001b[91m::Int64\u001b[39m) at In[209]:1",
     "output_type": "error",
     "traceback": [
      "MethodError: no method matching addone(::Float64)\n\u001b[0mClosest candidates are:\n\u001b[0m  addone(\u001b[91m::Int64\u001b[39m) at In[209]:1",
      "",
      "Stacktrace:",
      " [1] top-level scope",
      "   @ In[214]:1",
      " [2] eval",
      "   @ ./boot.jl:373 [inlined]",
      " [3] include_string(mapexpr::typeof(REPL.softscope), mod::Module, code::String, filename::String)",
      "   @ Base ./loading.jl:1196"
     ]
    }
   ],
   "source": [
    "addone(ceil(1.2)*10)"
   ]
  },
  {
   "cell_type": "code",
   "execution_count": 216,
   "id": "1f0dd3ec",
   "metadata": {},
   "outputs": [
    {
     "name": "stdout",
     "output_type": "stream",
     "text": [
      "2 1\n"
     ]
    }
   ],
   "source": [
    "a,b = 1,2\n",
    "a,b = b, a\n",
    "println(a, \" \", b)"
   ]
  },
  {
   "cell_type": "code",
   "execution_count": 217,
   "id": "39536f45",
   "metadata": {},
   "outputs": [
    {
     "name": "stdout",
     "output_type": "stream",
     "text": [
      "22\n"
     ]
    }
   ],
   "source": [
    "function test(input)\n",
    "  println(\"$input\"^2)\n",
    "end\n",
    "\n",
    "test(2)"
   ]
  },
  {
   "cell_type": "code",
   "execution_count": 219,
   "id": "da84b8be",
   "metadata": {},
   "outputs": [
    {
     "data": {
      "text/plain": [
       "\"HelloHelloHello\""
      ]
     },
     "execution_count": 219,
     "metadata": {},
     "output_type": "execute_result"
    }
   ],
   "source": [
    "\"Hello\"^3"
   ]
  },
  {
   "cell_type": "code",
   "execution_count": 221,
   "id": "72e5db68",
   "metadata": {},
   "outputs": [
    {
     "data": {
      "text/plain": [
       "add2 (generic function with 1 method)"
      ]
     },
     "execution_count": 221,
     "metadata": {},
     "output_type": "execute_result"
    }
   ],
   "source": [
    "add2(x, y) = return x + y"
   ]
  },
  {
   "cell_type": "code",
   "execution_count": 222,
   "id": "34842540",
   "metadata": {},
   "outputs": [
    {
     "data": {
      "text/plain": [
       "coordinates (generic function with 3 methods)"
      ]
     },
     "execution_count": 222,
     "metadata": {},
     "output_type": "execute_result"
    }
   ],
   "source": [
    "function coordinates(x, y=0, z=0)\n",
    "  println(\"($x, $y, $z)\")\n",
    "end"
   ]
  },
  {
   "cell_type": "code",
   "execution_count": 224,
   "id": "5cf6f6bf",
   "metadata": {},
   "outputs": [
    {
     "name": "stdout",
     "output_type": "stream",
     "text": [
      "(1, 0, 2)\n"
     ]
    }
   ],
   "source": [
    "coordinates(1,0,2)"
   ]
  },
  {
   "cell_type": "code",
   "execution_count": 241,
   "id": "191fbe33",
   "metadata": {},
   "outputs": [
    {
     "data": {
      "text/plain": [
       "-436"
      ]
     },
     "execution_count": 241,
     "metadata": {},
     "output_type": "execute_result"
    }
   ],
   "source": [
    "(2^3)^2-500"
   ]
  },
  {
   "cell_type": "code",
   "execution_count": 232,
   "id": "b8dd1b8c",
   "metadata": {},
   "outputs": [
    {
     "data": {
      "text/plain": [
       "12"
      ]
     },
     "execution_count": 232,
     "metadata": {},
     "output_type": "execute_result"
    }
   ],
   "source": [
    "2^2^1^5+2^3"
   ]
  },
  {
   "cell_type": "code",
   "execution_count": 242,
   "id": "c99e42c5",
   "metadata": {},
   "outputs": [
    {
     "name": "stdout",
     "output_type": "stream",
     "text": [
      "12\n"
     ]
    }
   ],
   "source": [
    "println(\"$(2*6)\")"
   ]
  },
  {
   "cell_type": "code",
   "execution_count": 243,
   "id": "26e00abe",
   "metadata": {},
   "outputs": [
    {
     "data": {
      "text/plain": [
       "String"
      ]
     },
     "execution_count": 243,
     "metadata": {},
     "output_type": "execute_result"
    }
   ],
   "source": [
    "typeof(\"$(2*6)\")"
   ]
  },
  {
   "cell_type": "code",
   "execution_count": 244,
   "id": "021e69af",
   "metadata": {},
   "outputs": [
    {
     "data": {
      "text/plain": [
       "-5"
      ]
     },
     "execution_count": 244,
     "metadata": {},
     "output_type": "execute_result"
    }
   ],
   "source": [
    "5 - 7 * 2 + 4"
   ]
  },
  {
   "cell_type": "code",
   "execution_count": 246,
   "id": "52b6cb60",
   "metadata": {},
   "outputs": [
    {
     "data": {
      "text/plain": [
       "0"
      ]
     },
     "execution_count": 246,
     "metadata": {},
     "output_type": "execute_result"
    }
   ],
   "source": [
    "(5-7)*2+4"
   ]
  },
  {
   "cell_type": "code",
   "execution_count": 247,
   "id": "e0d071e9",
   "metadata": {},
   "outputs": [
    {
     "data": {
      "text/plain": [
       "false"
      ]
     },
     "execution_count": 247,
     "metadata": {},
     "output_type": "execute_result"
    }
   ],
   "source": [
    "1 + 3 < 5 && 2^2 === 4.0"
   ]
  },
  {
   "cell_type": "code",
   "execution_count": 251,
   "id": "13dba690",
   "metadata": {},
   "outputs": [
    {
     "data": {
      "text/plain": [
       "true"
      ]
     },
     "execution_count": 251,
     "metadata": {},
     "output_type": "execute_result"
    }
   ],
   "source": [
    "true && ((false && false) || true)"
   ]
  },
  {
   "cell_type": "code",
   "execution_count": 252,
   "id": "5719db9f",
   "metadata": {},
   "outputs": [
    {
     "name": "stdout",
     "output_type": "stream",
     "text": [
      "search: \u001b[0m\u001b[1mA\u001b[22m\u001b[0m\u001b[1mr\u001b[22m\u001b[0m\u001b[1mr\u001b[22m\u001b[0m\u001b[1ma\u001b[22m\u001b[0m\u001b[1my\u001b[22m Sub\u001b[0m\u001b[1mA\u001b[22m\u001b[0m\u001b[1mr\u001b[22m\u001b[0m\u001b[1mr\u001b[22m\u001b[0m\u001b[1ma\u001b[22m\u001b[0m\u001b[1my\u001b[22m Bit\u001b[0m\u001b[1mA\u001b[22m\u001b[0m\u001b[1mr\u001b[22m\u001b[0m\u001b[1mr\u001b[22m\u001b[0m\u001b[1ma\u001b[22m\u001b[0m\u001b[1my\u001b[22m Dense\u001b[0m\u001b[1mA\u001b[22m\u001b[0m\u001b[1mr\u001b[22m\u001b[0m\u001b[1mr\u001b[22m\u001b[0m\u001b[1ma\u001b[22m\u001b[0m\u001b[1my\u001b[22m Strided\u001b[0m\u001b[1mA\u001b[22m\u001b[0m\u001b[1mr\u001b[22m\u001b[0m\u001b[1mr\u001b[22m\u001b[0m\u001b[1ma\u001b[22m\u001b[0m\u001b[1my\u001b[22m PermutedDims\u001b[0m\u001b[1mA\u001b[22m\u001b[0m\u001b[1mr\u001b[22m\u001b[0m\u001b[1mr\u001b[22m\u001b[0m\u001b[1ma\u001b[22m\u001b[0m\u001b[1my\u001b[22m\n",
      "\n"
     ]
    },
    {
     "data": {
      "text/latex": [
       "\\begin{verbatim}\n",
       "Array{T,N} <: AbstractArray{T,N}\n",
       "\\end{verbatim}\n",
       "\\texttt{N}-dimensional dense array with elements of type \\texttt{T}.\n",
       "\n",
       "\\rule{\\textwidth}{1pt}\n",
       "\\begin{verbatim}\n",
       "Array{T}(undef, dims)\n",
       "Array{T,N}(undef, dims)\n",
       "\\end{verbatim}\n",
       "Construct an uninitialized \\texttt{N}-dimensional \\href{@ref}{\\texttt{Array}} containing elements of type \\texttt{T}. \\texttt{N} can either be supplied explicitly, as in \\texttt{Array\\{T,N\\}(undef, dims)}, or be determined by the length or number of \\texttt{dims}. \\texttt{dims} may be a tuple or a series of integer arguments corresponding to the lengths in each dimension. If the rank \\texttt{N} is supplied explicitly, then it must match the length or number of \\texttt{dims}. Here \\href{@ref}{\\texttt{undef}} is the \\href{@ref}{\\texttt{UndefInitializer}}.\n",
       "\n",
       "\\section{Examples}\n",
       "\\begin{verbatim}\n",
       "julia> A = Array{Float64, 2}(undef, 2, 3) # N given explicitly\n",
       "2×3 Matrix{Float64}:\n",
       " 6.90198e-310  6.90198e-310  6.90198e-310\n",
       " 6.90198e-310  6.90198e-310  0.0\n",
       "\n",
       "julia> B = Array{Float64}(undef, 4) # N determined by the input\n",
       "4-element Vector{Float64}:\n",
       "   2.360075077e-314\n",
       " NaN\n",
       "   2.2671131793e-314\n",
       "   2.299821756e-314\n",
       "\n",
       "julia> similar(B, 2, 4, 1) # use typeof(B), and the given size\n",
       "2×4×1 Array{Float64, 3}:\n",
       "[:, :, 1] =\n",
       " 2.26703e-314  2.26708e-314  0.0           2.80997e-314\n",
       " 0.0           2.26703e-314  2.26708e-314  0.0\n",
       "\\end{verbatim}\n",
       "\\rule{\\textwidth}{1pt}\n",
       "\\begin{verbatim}\n",
       "Array{T}(nothing, dims)\n",
       "Array{T,N}(nothing, dims)\n",
       "\\end{verbatim}\n",
       "Construct an \\texttt{N}-dimensional \\href{@ref}{\\texttt{Array}} containing elements of type \\texttt{T}, initialized with \\href{@ref}{\\texttt{nothing}} entries. Element type \\texttt{T} must be able to hold these values, i.e. \\texttt{Nothing <: T}.\n",
       "\n",
       "\\section{Examples}\n",
       "\\begin{verbatim}\n",
       "julia> Array{Union{Nothing, String}}(nothing, 2)\n",
       "2-element Vector{Union{Nothing, String}}:\n",
       " nothing\n",
       " nothing\n",
       "\n",
       "julia> Array{Union{Nothing, Int}}(nothing, 2, 3)\n",
       "2×3 Matrix{Union{Nothing, Int64}}:\n",
       " nothing  nothing  nothing\n",
       " nothing  nothing  nothing\n",
       "\\end{verbatim}\n",
       "\\rule{\\textwidth}{1pt}\n",
       "\\begin{verbatim}\n",
       "Array{T}(missing, dims)\n",
       "Array{T,N}(missing, dims)\n",
       "\\end{verbatim}\n",
       "Construct an \\texttt{N}-dimensional \\href{@ref}{\\texttt{Array}} containing elements of type \\texttt{T}, initialized with \\href{@ref}{\\texttt{missing}} entries. Element type \\texttt{T} must be able to hold these values, i.e. \\texttt{Missing <: T}.\n",
       "\n",
       "\\section{Examples}\n",
       "\\begin{verbatim}\n",
       "julia> Array{Union{Missing, String}}(missing, 2)\n",
       "2-element Vector{Union{Missing, String}}:\n",
       " missing\n",
       " missing\n",
       "\n",
       "julia> Array{Union{Missing, Int}}(missing, 2, 3)\n",
       "2×3 Matrix{Union{Missing, Int64}}:\n",
       " missing  missing  missing\n",
       " missing  missing  missing\n",
       "\\end{verbatim}\n"
      ],
      "text/markdown": [
       "```\n",
       "Array{T,N} <: AbstractArray{T,N}\n",
       "```\n",
       "\n",
       "`N`-dimensional dense array with elements of type `T`.\n",
       "\n",
       "---\n",
       "\n",
       "```\n",
       "Array{T}(undef, dims)\n",
       "Array{T,N}(undef, dims)\n",
       "```\n",
       "\n",
       "Construct an uninitialized `N`-dimensional [`Array`](@ref) containing elements of type `T`. `N` can either be supplied explicitly, as in `Array{T,N}(undef, dims)`, or be determined by the length or number of `dims`. `dims` may be a tuple or a series of integer arguments corresponding to the lengths in each dimension. If the rank `N` is supplied explicitly, then it must match the length or number of `dims`. Here [`undef`](@ref) is the [`UndefInitializer`](@ref).\n",
       "\n",
       "# Examples\n",
       "\n",
       "```julia-repl\n",
       "julia> A = Array{Float64, 2}(undef, 2, 3) # N given explicitly\n",
       "2×3 Matrix{Float64}:\n",
       " 6.90198e-310  6.90198e-310  6.90198e-310\n",
       " 6.90198e-310  6.90198e-310  0.0\n",
       "\n",
       "julia> B = Array{Float64}(undef, 4) # N determined by the input\n",
       "4-element Vector{Float64}:\n",
       "   2.360075077e-314\n",
       " NaN\n",
       "   2.2671131793e-314\n",
       "   2.299821756e-314\n",
       "\n",
       "julia> similar(B, 2, 4, 1) # use typeof(B), and the given size\n",
       "2×4×1 Array{Float64, 3}:\n",
       "[:, :, 1] =\n",
       " 2.26703e-314  2.26708e-314  0.0           2.80997e-314\n",
       " 0.0           2.26703e-314  2.26708e-314  0.0\n",
       "```\n",
       "\n",
       "---\n",
       "\n",
       "```\n",
       "Array{T}(nothing, dims)\n",
       "Array{T,N}(nothing, dims)\n",
       "```\n",
       "\n",
       "Construct an `N`-dimensional [`Array`](@ref) containing elements of type `T`, initialized with [`nothing`](@ref) entries. Element type `T` must be able to hold these values, i.e. `Nothing <: T`.\n",
       "\n",
       "# Examples\n",
       "\n",
       "```jldoctest\n",
       "julia> Array{Union{Nothing, String}}(nothing, 2)\n",
       "2-element Vector{Union{Nothing, String}}:\n",
       " nothing\n",
       " nothing\n",
       "\n",
       "julia> Array{Union{Nothing, Int}}(nothing, 2, 3)\n",
       "2×3 Matrix{Union{Nothing, Int64}}:\n",
       " nothing  nothing  nothing\n",
       " nothing  nothing  nothing\n",
       "```\n",
       "\n",
       "---\n",
       "\n",
       "```\n",
       "Array{T}(missing, dims)\n",
       "Array{T,N}(missing, dims)\n",
       "```\n",
       "\n",
       "Construct an `N`-dimensional [`Array`](@ref) containing elements of type `T`, initialized with [`missing`](@ref) entries. Element type `T` must be able to hold these values, i.e. `Missing <: T`.\n",
       "\n",
       "# Examples\n",
       "\n",
       "```jldoctest\n",
       "julia> Array{Union{Missing, String}}(missing, 2)\n",
       "2-element Vector{Union{Missing, String}}:\n",
       " missing\n",
       " missing\n",
       "\n",
       "julia> Array{Union{Missing, Int}}(missing, 2, 3)\n",
       "2×3 Matrix{Union{Missing, Int64}}:\n",
       " missing  missing  missing\n",
       " missing  missing  missing\n",
       "```\n"
      ],
      "text/plain": [
       "\u001b[36m  Array{T,N} <: AbstractArray{T,N}\u001b[39m\n",
       "\n",
       "  \u001b[36mN\u001b[39m-dimensional dense array with elements of type \u001b[36mT\u001b[39m.\n",
       "\n",
       "  ────────────────────────────────────────────────────────────────────────────\n",
       "\n",
       "\u001b[36m  Array{T}(undef, dims)\u001b[39m\n",
       "\u001b[36m  Array{T,N}(undef, dims)\u001b[39m\n",
       "\n",
       "  Construct an uninitialized \u001b[36mN\u001b[39m-dimensional \u001b[36mArray\u001b[39m containing elements of type\n",
       "  \u001b[36mT\u001b[39m. \u001b[36mN\u001b[39m can either be supplied explicitly, as in \u001b[36mArray{T,N}(undef, dims)\u001b[39m, or be\n",
       "  determined by the length or number of \u001b[36mdims\u001b[39m. \u001b[36mdims\u001b[39m may be a tuple or a series\n",
       "  of integer arguments corresponding to the lengths in each dimension. If the\n",
       "  rank \u001b[36mN\u001b[39m is supplied explicitly, then it must match the length or number of\n",
       "  \u001b[36mdims\u001b[39m. Here \u001b[36mundef\u001b[39m is the \u001b[36mUndefInitializer\u001b[39m.\n",
       "\n",
       "\u001b[1m  Examples\u001b[22m\n",
       "\u001b[1m  ≡≡≡≡≡≡≡≡≡≡\u001b[22m\n",
       "\n",
       "\u001b[36m  julia> A = Array{Float64, 2}(undef, 2, 3) # N given explicitly\u001b[39m\n",
       "\u001b[36m  2×3 Matrix{Float64}:\u001b[39m\n",
       "\u001b[36m   6.90198e-310  6.90198e-310  6.90198e-310\u001b[39m\n",
       "\u001b[36m   6.90198e-310  6.90198e-310  0.0\u001b[39m\n",
       "\u001b[36m  \u001b[39m\n",
       "\u001b[36m  julia> B = Array{Float64}(undef, 4) # N determined by the input\u001b[39m\n",
       "\u001b[36m  4-element Vector{Float64}:\u001b[39m\n",
       "\u001b[36m     2.360075077e-314\u001b[39m\n",
       "\u001b[36m   NaN\u001b[39m\n",
       "\u001b[36m     2.2671131793e-314\u001b[39m\n",
       "\u001b[36m     2.299821756e-314\u001b[39m\n",
       "\u001b[36m  \u001b[39m\n",
       "\u001b[36m  julia> similar(B, 2, 4, 1) # use typeof(B), and the given size\u001b[39m\n",
       "\u001b[36m  2×4×1 Array{Float64, 3}:\u001b[39m\n",
       "\u001b[36m  [:, :, 1] =\u001b[39m\n",
       "\u001b[36m   2.26703e-314  2.26708e-314  0.0           2.80997e-314\u001b[39m\n",
       "\u001b[36m   0.0           2.26703e-314  2.26708e-314  0.0\u001b[39m\n",
       "\n",
       "  ────────────────────────────────────────────────────────────────────────────\n",
       "\n",
       "\u001b[36m  Array{T}(nothing, dims)\u001b[39m\n",
       "\u001b[36m  Array{T,N}(nothing, dims)\u001b[39m\n",
       "\n",
       "  Construct an \u001b[36mN\u001b[39m-dimensional \u001b[36mArray\u001b[39m containing elements of type \u001b[36mT\u001b[39m, initialized\n",
       "  with \u001b[36mnothing\u001b[39m entries. Element type \u001b[36mT\u001b[39m must be able to hold these values, i.e.\n",
       "  \u001b[36mNothing <: T\u001b[39m.\n",
       "\n",
       "\u001b[1m  Examples\u001b[22m\n",
       "\u001b[1m  ≡≡≡≡≡≡≡≡≡≡\u001b[22m\n",
       "\n",
       "\u001b[36m  julia> Array{Union{Nothing, String}}(nothing, 2)\u001b[39m\n",
       "\u001b[36m  2-element Vector{Union{Nothing, String}}:\u001b[39m\n",
       "\u001b[36m   nothing\u001b[39m\n",
       "\u001b[36m   nothing\u001b[39m\n",
       "\u001b[36m  \u001b[39m\n",
       "\u001b[36m  julia> Array{Union{Nothing, Int}}(nothing, 2, 3)\u001b[39m\n",
       "\u001b[36m  2×3 Matrix{Union{Nothing, Int64}}:\u001b[39m\n",
       "\u001b[36m   nothing  nothing  nothing\u001b[39m\n",
       "\u001b[36m   nothing  nothing  nothing\u001b[39m\n",
       "\n",
       "  ────────────────────────────────────────────────────────────────────────────\n",
       "\n",
       "\u001b[36m  Array{T}(missing, dims)\u001b[39m\n",
       "\u001b[36m  Array{T,N}(missing, dims)\u001b[39m\n",
       "\n",
       "  Construct an \u001b[36mN\u001b[39m-dimensional \u001b[36mArray\u001b[39m containing elements of type \u001b[36mT\u001b[39m, initialized\n",
       "  with \u001b[36mmissing\u001b[39m entries. Element type \u001b[36mT\u001b[39m must be able to hold these values, i.e.\n",
       "  \u001b[36mMissing <: T\u001b[39m.\n",
       "\n",
       "\u001b[1m  Examples\u001b[22m\n",
       "\u001b[1m  ≡≡≡≡≡≡≡≡≡≡\u001b[22m\n",
       "\n",
       "\u001b[36m  julia> Array{Union{Missing, String}}(missing, 2)\u001b[39m\n",
       "\u001b[36m  2-element Vector{Union{Missing, String}}:\u001b[39m\n",
       "\u001b[36m   missing\u001b[39m\n",
       "\u001b[36m   missing\u001b[39m\n",
       "\u001b[36m  \u001b[39m\n",
       "\u001b[36m  julia> Array{Union{Missing, Int}}(missing, 2, 3)\u001b[39m\n",
       "\u001b[36m  2×3 Matrix{Union{Missing, Int64}}:\u001b[39m\n",
       "\u001b[36m   missing  missing  missing\u001b[39m\n",
       "\u001b[36m   missing  missing  missing\u001b[39m"
      ]
     },
     "execution_count": 252,
     "metadata": {},
     "output_type": "execute_result"
    }
   ],
   "source": [
    "?Array"
   ]
  },
  {
   "cell_type": "code",
   "execution_count": 256,
   "id": "99e475f6",
   "metadata": {},
   "outputs": [
    {
     "data": {
      "text/plain": [
       "7×9 Matrix{Float64}:\n",
       " 1.0e-323   2.0e-322   2.77e-322  …  7.66e-322  8.2e-322   9.0e-322\n",
       " 4.0e-323   2.08e-322  3.36e-322     7.76e-322  8.3e-322   9.04e-322\n",
       " 8.4e-323   2.1e-322   3.46e-322     7.8e-322   8.45e-322  9.1e-322\n",
       " 9.0e-323   2.2e-322   3.5e-322      7.86e-322  8.7e-322   9.2e-322\n",
       " 1.0e-322   2.4e-322   3.6e-322      7.9e-322   8.8e-322   9.24e-322\n",
       " 1.24e-322  2.5e-322   3.7e-322   …  8.0e-322   8.84e-322  9.3e-322\n",
       " 1.33e-322  2.7e-322   3.8e-322      8.05e-322  8.94e-322  2.63563e92"
      ]
     },
     "execution_count": 256,
     "metadata": {},
     "output_type": "execute_result"
    }
   ],
   "source": [
    "matrix = Array{Float64, 2}(undef, 7, 9)"
   ]
  },
  {
   "cell_type": "code",
   "execution_count": 257,
   "id": "a3cf6a56",
   "metadata": {},
   "outputs": [
    {
     "data": {
      "text/plain": [
       "(7, 9)"
      ]
     },
     "execution_count": 257,
     "metadata": {},
     "output_type": "execute_result"
    }
   ],
   "source": [
    "size(matrix)"
   ]
  },
  {
   "cell_type": "code",
   "execution_count": 259,
   "id": "7efbb254",
   "metadata": {},
   "outputs": [
    {
     "name": "stdout",
     "output_type": "stream",
     "text": [
      "[1.0e-323 2.0e-322 2.77e-322 3.85e-322 5.0e-322 6.27e-322 7.66e-322 8.2e-322 9.0e-322; 4.0e-323 2.08e-322 3.36e-322 3.9e-322 5.5e-322 6.37e-322 7.76e-322 8.3e-322 9.04e-322; 8.4e-323 2.1e-322 3.46e-322 3.95e-322 5.6e-322 6.57e-322 7.8e-322 8.45e-322 9.1e-322; 9.0e-323 2.2e-322 3.5e-322 4.05e-322 5.83e-322 6.6e-322 7.86e-322 8.7e-322 9.2e-322; 1.0e-322 2.4e-322 3.6e-322 4.35e-322 5.93e-322 7.26e-322 7.9e-322 8.8e-322 9.24e-322; 1.24e-322 2.5e-322 3.7e-322 4.74e-322 6.0e-322 7.5e-322 8.0e-322 8.84e-322 9.3e-322; 1.33e-322 2.7e-322 3.8e-322 4.9e-322 6.1e-322 7.6e-322 8.05e-322 8.94e-322 2.635625366112606e92]"
     ]
    }
   ],
   "source": [
    "print(matrix)"
   ]
  },
  {
   "cell_type": "code",
   "execution_count": 264,
   "id": "1ad5c87d",
   "metadata": {},
   "outputs": [
    {
     "name": "stdout",
     "output_type": "stream",
     "text": [
      "[9.0e-322, 9.04e-322, 9.1e-322, 9.2e-322, 9.24e-322, 9.3e-322, 2.635625366112606e92]\n"
     ]
    }
   ],
   "source": [
    "println(matrix[:,9])"
   ]
  },
  {
   "cell_type": "code",
   "execution_count": 272,
   "id": "f93f0885",
   "metadata": {},
   "outputs": [
    {
     "name": "stdout",
     "output_type": "stream",
     "text": [
      "Hello"
     ]
    }
   ],
   "source": [
    "x = 0\n",
    "y = 0\n",
    "if x == 0 && x == y\n",
    "    print(\"Hello\")\n",
    "end"
   ]
  },
  {
   "cell_type": "code",
   "execution_count": 273,
   "id": "73b40522",
   "metadata": {},
   "outputs": [
    {
     "data": {
      "text/plain": [
       "(19, 3)"
      ]
     },
     "execution_count": 273,
     "metadata": {},
     "output_type": "execute_result"
    }
   ],
   "source": [
    "a, b = 2, 3           \n",
    "function f(x)  \n",
    "  b = 5 \n",
    "  a*x + b\n",
    "end\n",
    "f(7), b"
   ]
  },
  {
   "cell_type": "code",
   "execution_count": 274,
   "id": "42fd5d4c",
   "metadata": {},
   "outputs": [
    {
     "data": {
      "text/plain": [
       "f (generic function with 1 method)"
      ]
     },
     "execution_count": 274,
     "metadata": {},
     "output_type": "execute_result"
    }
   ],
   "source": [
    "function f(x)\n",
    "  return 2x\n",
    "  3x\n",
    "end"
   ]
  },
  {
   "cell_type": "code",
   "execution_count": 276,
   "id": "e989c0dd",
   "metadata": {},
   "outputs": [
    {
     "data": {
      "text/plain": [
       "10"
      ]
     },
     "execution_count": 276,
     "metadata": {},
     "output_type": "execute_result"
    }
   ],
   "source": [
    "f(5)"
   ]
  }
 ],
 "metadata": {
  "kernelspec": {
   "display_name": "Julia 1.7.2",
   "language": "julia",
   "name": "julia-1.7"
  },
  "language_info": {
   "file_extension": ".jl",
   "mimetype": "application/julia",
   "name": "julia",
   "version": "1.7.2"
  }
 },
 "nbformat": 4,
 "nbformat_minor": 5
}
