{
 "cells": [
  {
   "cell_type": "markdown",
   "id": "timely-south",
   "metadata": {},
   "source": [
    "# Problem Solving With Pseudo Code"
   ]
  },
  {
   "cell_type": "markdown",
   "id": "chicken-brand",
   "metadata": {},
   "source": [
    "Problem: Calculate the average score of 10 students in a test"
   ]
  },
  {
   "cell_type": "markdown",
   "id": "eligible-groove",
   "metadata": {},
   "source": [
    "* statement:  Calculate the average score of 10 students in a test\n",
    "* Requirement: Average score\n",
    "* Boundaries: 10 students\n",
    "* Output: Average\n",
    "* variable names\n",
    "* sequential\n",
    "\n",
    "\n",
    "## Pseudo code\n",
    "```psudocode\n",
    "input the scores for the 10 students\n",
    "set total to be the sum of the scores of the 10 students\n",
    "set average to be total divided by 10\n",
    "print average\n",
    "```"
   ]
  },
  {
   "cell_type": "markdown",
   "id": "alternative-latex",
   "metadata": {},
   "source": [
    "```\n",
    "set total to 0\n",
    "set counter to 1\n",
    "while counter is less than or equal to 10\n",
    "    input the score\n",
    "    Add the score to total\n",
    "    increase the counter by 1\n",
    "set the average to be the total divided by 10\n",
    "print the average\n",
    "```"
   ]
  },
  {
   "cell_type": "markdown",
   "id": "anticipated-caution",
   "metadata": {},
   "source": [
    "**Question:** "
   ]
  },
  {
   "cell_type": "code",
   "execution_count": null,
   "id": "ranking-jonathan",
   "metadata": {},
   "outputs": [],
   "source": []
  },
  {
   "cell_type": "code",
   "execution_count": null,
   "id": "experienced-range",
   "metadata": {},
   "outputs": [],
   "source": []
  }
 ],
 "metadata": {
  "kernelspec": {
   "display_name": "Python 3 (ipykernel)",
   "language": "python",
   "name": "python3"
  },
  "language_info": {
   "codemirror_mode": {
    "name": "ipython",
    "version": 3
   },
   "file_extension": ".py",
   "mimetype": "text/x-python",
   "name": "python",
   "nbconvert_exporter": "python",
   "pygments_lexer": "ipython3",
   "version": "3.11.5"
  }
 },
 "nbformat": 4,
 "nbformat_minor": 5
}
