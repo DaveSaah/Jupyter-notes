{
 "cells": [
  {
   "cell_type": "markdown",
   "metadata": {},
   "source": [
    "##### <u>Exercises</u><br/>\n",
    "- write a program the accepts input of 5 numbers and outputs the sum to screen\n",
    "- write a program to accept name, age and country of birth from user and output to screen in a format like this: \" My name is <u>name</u>. I am <u>age</u> years of age and I come from <u>country of birth</u> \" Where <u>name</u>, <u>age</u> and <u>country of birth</u> are variables."
   ]
  },
  {
   "cell_type": "markdown",
   "metadata": {},
   "source": [
    "### sample 1"
   ]
  },
  {
   "cell_type": "markdown",
   "metadata": {},
   "source": [
    "```python\n",
    "#as a result of stage of lessons: code would be\n",
    "\n",
    "a = float(input('Enter a number: '))\n",
    "b = float(input('Enter a number: '))\n",
    "c = float(input('Enter a number: '))\n",
    "d = float(input('Enter a number: '))\n",
    "e = float(input('Enter a number: '))\n",
    "\n",
    "print(a+b+c+d+e)\n",
    "```"
   ]
  },
  {
   "cell_type": "code",
   "execution_count": 3,
   "metadata": {},
   "outputs": [
    {
     "name": "stdout",
     "output_type": "stream",
     "text": [
      "Enter a number: 4\n",
      "Enter a number: 5\n",
      "Enter a number: 3\n",
      "Enter a number: 7\n",
      "Enter a number: 3\n",
      "22.0\n"
     ]
    }
   ],
   "source": [
    "#as a result of stage of lessons: code would be\n",
    "\n",
    "a = float(input('Enter a number: '))\n",
    "b = float(input('Enter a number: '))\n",
    "c = float(input('Enter a number: '))\n",
    "d = float(input('Enter a number: '))\n",
    "e = float(input('Enter a number: '))\n",
    "\n",
    "print(a+b+c+d+e)"
   ]
  },
  {
   "cell_type": "markdown",
   "metadata": {},
   "source": [
    "Always note that the default data type for inputs is a string."
   ]
  },
  {
   "cell_type": "markdown",
   "metadata": {},
   "source": [
    "### sample 2"
   ]
  },
  {
   "cell_type": "markdown",
   "metadata": {},
   "source": [
    "```python\n",
    "name = input('What is your name?: ')\n",
    "age = int(input('How old are you?: '))\n",
    "cob = input('Country of birth: ')\n",
    "\n",
    "print('\\nMy name is {0}. I am {1} years of age and I come from {2}.'.format(name, age, cob))\n",
    "```"
   ]
  },
  {
   "cell_type": "code",
   "execution_count": 1,
   "metadata": {},
   "outputs": [
    {
     "name": "stdout",
     "output_type": "stream",
     "text": [
      "What is your name?: David Saah\n",
      "How old are you?: 18\n",
      "Country of birth: Ghana\n",
      "\n",
      "My name is David Saah. I am 18 years of age and I come from Ghana.\n"
     ]
    }
   ],
   "source": [
    "name = input('What is your name?: ')\n",
    "age = int(input('How old are you?: '))\n",
    "cob = input('Country of birth: ')\n",
    "\n",
    "print('\\nMy name is {0}. I am {1} years of age and I come from {2}.'.format(name, age, cob))"
   ]
  }
 ],
 "metadata": {
  "kernelspec": {
   "display_name": "Python 3",
   "language": "python",
   "name": "python3"
  },
  "language_info": {
   "codemirror_mode": {
    "name": "ipython",
    "version": 3
   },
   "file_extension": ".py",
   "mimetype": "text/x-python",
   "name": "python",
   "nbconvert_exporter": "python",
   "pygments_lexer": "ipython3",
   "version": "3.8.3"
  }
 },
 "nbformat": 4,
 "nbformat_minor": 4
}
