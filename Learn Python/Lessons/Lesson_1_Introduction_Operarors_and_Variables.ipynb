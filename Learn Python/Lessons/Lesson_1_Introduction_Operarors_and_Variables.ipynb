{
 "cells": [
  {
   "cell_type": "markdown",
   "metadata": {},
   "source": [
    "**Python** is a high-level language that is used for web programming, scripting, scientific computing and artificial intelligence."
   ]
  },
  {
   "cell_type": "markdown",
   "metadata": {},
   "source": [
    "## First python code"
   ]
  },
  {
   "cell_type": "code",
   "execution_count": 1,
   "metadata": {},
   "outputs": [
    {
     "name": "stdout",
     "output_type": "stream",
     "text": [
      "Hello World!\n"
     ]
    }
   ],
   "source": [
    "print('Hello World!')"
   ]
  },
  {
   "cell_type": "markdown",
   "metadata": {},
   "source": [
    "*print* function outputs values to the screen."
   ]
  },
  {
   "cell_type": "markdown",
   "metadata": {},
   "source": [
    "### Variables<br/>\n",
    "A variable is a memory location that stires a value. E.g.x = 3.<br/>\n",
    "**x** is the variable and **3** is the value. x points the memory location of the stored value."
   ]
  },
  {
   "cell_type": "markdown",
   "metadata": {},
   "source": [
    "### Control structures and operators<br/>\n",
    "- Boolean values: True, False\n",
    "- Operators: equality(==), not equal(!=), less than(<), greater than(>), less than or equals(<=), greater than or equals(>=), addition(+), subtraction(-), multiplication(\\*), modulus(%), exponent(\\*\\*), division(/), floor division(//)\n",
    "- Assignment operators: =, +=, *\\=, /=, -=, %=, //="
   ]
  },
  {
   "cell_type": "markdown",
   "metadata": {},
   "source": [
    "### Operator precedence"
   ]
  },
  {
   "cell_type": "markdown",
   "metadata": {},
   "source": [
    "**BEDMAS**\n",
    "- B: Bracket\n",
    "- E: Exponent\n",
    "- D: Division, floor division, modulus\n",
    "- M: Multiplication\n",
    "- A: Addition\n",
    "- S: Subtraction"
   ]
  },
  {
   "cell_type": "markdown",
   "metadata": {},
   "source": [
    "### code samples on variables and operators"
   ]
  },
  {
   "cell_type": "code",
   "execution_count": 5,
   "metadata": {},
   "outputs": [
    {
     "name": "stdout",
     "output_type": "stream",
     "text": [
      "8\n",
      "15\n",
      "3\n",
      "1\n"
     ]
    }
   ],
   "source": [
    "a = 3\n",
    "b = 5\n",
    "\n",
    "#addition\n",
    "print(a+b)\n",
    "\n",
    "#multiplication\n",
    "print(a*b)\n",
    "\n",
    "#modulus\n",
    "print(a%b)\n",
    "\n",
    "#floor division\n",
    "print(b//a)"
   ]
  },
  {
   "cell_type": "code",
   "execution_count": 7,
   "metadata": {},
   "outputs": [
    {
     "name": "stdout",
     "output_type": "stream",
     "text": [
      "23\n",
      "24\n"
     ]
    }
   ],
   "source": [
    "#assignment operator\n",
    "c = 23\n",
    "print(c)\n",
    "\n",
    "c += 1      #similar to c = c + 1\n",
    "print(c)"
   ]
  },
  {
   "cell_type": "markdown",
   "metadata": {},
   "source": [
    "## Conclusion<br/>\n",
    "Play around with the variables and assignments and get use to the because you will use it alot.<br/>\n",
    "**End of Lesson 1**<br/>"
   ]
  },
  {
   "cell_type": "markdown",
   "metadata": {},
   "source": [
    "&copy; David Saah"
   ]
  }
 ],
 "metadata": {
  "kernelspec": {
   "display_name": "Python 3 (ipykernel)",
   "language": "python",
   "name": "python3"
  },
  "language_info": {
   "codemirror_mode": {
    "name": "ipython",
    "version": 3
   },
   "file_extension": ".py",
   "mimetype": "text/x-python",
   "name": "python",
   "nbconvert_exporter": "python",
   "pygments_lexer": "ipython3",
   "version": "3.10.7"
  }
 },
 "nbformat": 4,
 "nbformat_minor": 4
}
