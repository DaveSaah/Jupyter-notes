{
 "cells": [
  {
   "cell_type": "markdown",
   "metadata": {},
   "source": [
    "## ctd from variables<br/>\n",
    "### rules of variable naming\n",
    "- variable always start with a letter(a-z, A-Z) and is followed by letters, numbers or the underscore (\\_) symbol\n",
    "- never start a variable name with a number or a symbol\n",
    "- variable names should reflect the data it holds. E.g. age for the age of a person....  To improve readablitity of code.\n",
    "- resevered built-in python keywords cannot be used as variable names.\n",
    "\n",
    "*For full list of keywords in python, run the code below*"
   ]
  },
  {
   "cell_type": "code",
   "execution_count": 30,
   "metadata": {},
   "outputs": [
    {
     "name": "stdout",
     "output_type": "stream",
     "text": [
      "\n",
      "Here is a list of the Python keywords.  Enter any keyword to get more help.\n",
      "\n",
      "False               class               from                or\n",
      "None                continue            global              pass\n",
      "True                def                 if                  raise\n",
      "and                 del                 import              return\n",
      "as                  elif                in                  try\n",
      "assert              else                is                  while\n",
      "async               except              lambda              with\n",
      "await               finally             nonlocal            yield\n",
      "break               for                 not                 \n",
      "\n"
     ]
    }
   ],
   "source": [
    "#for keyword list\n",
    "help('keywords')"
   ]
  },
  {
   "cell_type": "markdown",
   "metadata": {},
   "source": [
    "## Expo: Input and Output<br/>\n",
    "<u>Taking input</u><br/>\n",
    "------syntax: input()<br/>\n",
    "<u>Output data</u><br/>\n",
    "------syntax: print()<br/><br/>\n",
    "Examples"
   ]
  },
  {
   "cell_type": "code",
   "execution_count": 1,
   "metadata": {},
   "outputs": [
    {
     "name": "stdout",
     "output_type": "stream",
     "text": [
      "Hello World!\n"
     ]
    }
   ],
   "source": [
    "print('Hello World!')"
   ]
  },
  {
   "cell_type": "code",
   "execution_count": 2,
   "metadata": {},
   "outputs": [
    {
     "name": "stdout",
     "output_type": "stream",
     "text": [
      "2\n",
      "8\n"
     ]
    }
   ],
   "source": [
    "#output\n",
    "print(2)\n",
    "print(3+5)"
   ]
  },
  {
   "cell_type": "code",
   "execution_count": 3,
   "metadata": {},
   "outputs": [
    {
     "name": "stdout",
     "output_type": "stream",
     "text": [
      "Hello\n"
     ]
    },
    {
     "data": {
      "text/plain": [
       "'Hello'"
      ]
     },
     "execution_count": 3,
     "metadata": {},
     "output_type": "execute_result"
    }
   ],
   "source": [
    "#input\n",
    "input()"
   ]
  },
  {
   "cell_type": "code",
   "execution_count": 4,
   "metadata": {},
   "outputs": [
    {
     "name": "stdout",
     "output_type": "stream",
     "text": [
      "Hello guys\n",
      "Hello guys\n"
     ]
    }
   ],
   "source": [
    "#input can be stored to variable\n",
    "a = input()\n",
    "print(a)"
   ]
  },
  {
   "cell_type": "markdown",
   "metadata": {},
   "source": [
    "<br/><br/>\n",
    "## Data Types<br/>\n",
    "Data types(Fundamental) in python include:\n",
    "- Integer (whole numbers; negative, positive, including 0)\n",
    "- Floating numbers (numbers with decimals)\n",
    "- Characters & Strings (sequence of alphanumeric characters)\n",
    "- Boolean (True, False)<br/><br/>\n",
    "To check the data type, you can use the built in <b>type()</b> function."
   ]
  },
  {
   "cell_type": "code",
   "execution_count": 19,
   "metadata": {},
   "outputs": [
    {
     "name": "stdout",
     "output_type": "stream",
     "text": [
      "<class 'int'>\n",
      "<class 'float'>\n",
      "<class 'str'>\n",
      "<class 'bool'>\n",
      "<class 'bool'>\n"
     ]
    }
   ],
   "source": [
    "#integer\n",
    "print(type(3))\n",
    "\n",
    "#float\n",
    "print(type(4.6))\n",
    "\n",
    "#string\n",
    "print(type('Hello World'))\n",
    "\n",
    "#boolean\n",
    "print(type(True))\n",
    "print(type(False))"
   ]
  },
  {
   "cell_type": "markdown",
   "metadata": {},
   "source": [
    "#### note:<br/>\n",
    "- all the data types has its own built in operations.\n",
    "- integers can be operated with floats and the result is always a float\n",
    "- strings cannot work with integers and floats in operations they can only be concatenated or use to produce multiples of strings."
   ]
  },
  {
   "cell_type": "markdown",
   "metadata": {},
   "source": [
    "## Operations integers and floats<br/>\n",
    "From the previous lessons you will see some basic operations and they all work with integers and floats"
   ]
  },
  {
   "cell_type": "markdown",
   "metadata": {},
   "source": [
    "## Operations on strings<br/>\n",
    "- making multiple repetitions\n",
    "- concatenations"
   ]
  },
  {
   "cell_type": "markdown",
   "metadata": {},
   "source": [
    "### Making multiple repetitions"
   ]
  },
  {
   "cell_type": "code",
   "execution_count": 20,
   "metadata": {},
   "outputs": [
    {
     "name": "stdout",
     "output_type": "stream",
     "text": [
      "Hello Hello Hello Hello Hello\n"
     ]
    }
   ],
   "source": [
    "print('Hello Hello Hello Hello Hello')"
   ]
  },
  {
   "cell_type": "markdown",
   "metadata": {},
   "source": [
    "The above example is nice but can be time consuming if a greater number of repetions are required as in the case of patterns."
   ]
  },
  {
   "cell_type": "code",
   "execution_count": 23,
   "metadata": {
    "scrolled": true
   },
   "outputs": [
    {
     "name": "stdout",
     "output_type": "stream",
     "text": [
      "Hello Hello Hello Hello Hello \n"
     ]
    }
   ],
   "source": [
    "#from the same example above\n",
    "#making multiple repetitions\n",
    "\n",
    "print('Hello '*5)"
   ]
  },
  {
   "cell_type": "markdown",
   "metadata": {},
   "source": [
    "As you can see the same result is obtained from both sample codes but the second is more convenient"
   ]
  },
  {
   "cell_type": "code",
   "execution_count": 25,
   "metadata": {},
   "outputs": [
    {
     "name": "stdout",
     "output_type": "stream",
     "text": [
      "Hi Hi Hi Hi Hi Hi Hi Hi Hi Hi Hi Hi Hi Hi Hi Hi Hi Hi Hi Hi Hi Hi Hi Hi Hi Hi Hi Hi Hi Hi Hi Hi Hi Hi Hi Hi Hi Hi Hi Hi Hi Hi Hi Hi Hi Hi Hi Hi Hi Hi \n",
      "====================================================================================================\n"
     ]
    }
   ],
   "source": [
    "#more examples on making repetitions\n",
    "print('Hi '*50)\n",
    "print('='*100)"
   ]
  },
  {
   "cell_type": "markdown",
   "metadata": {},
   "source": [
    "### Concatenations\n",
    "simply adds different strings together to form one string.\n",
    "The operator '+' is used."
   ]
  },
  {
   "cell_type": "code",
   "execution_count": 28,
   "metadata": {},
   "outputs": [
    {
     "name": "stdout",
     "output_type": "stream",
     "text": [
      "Gameli Mike\n",
      "Welcome, Gameli Mike\n"
     ]
    }
   ],
   "source": [
    "'''\n",
    "a code sample (using concatenation): write a code to accept\n",
    "name from user and output 'Welcome, name' to screen\n",
    "'''\n",
    "\n",
    "name = input()\n",
    "print('Welcome, ' + name)"
   ]
  },
  {
   "cell_type": "markdown",
   "metadata": {},
   "source": [
    "<br/><br/><br/><br/>\n",
    "##### <u>Exercises</u><br/>\n",
    "- write a program the accepts input of 5 numbers and outputs the sum to screen\n",
    "- write a program to accept name, age and country of birth from user and output to screen in a format like this: \" My name is <u>name</u>. I am <u>age</u> years of age and I come from <u>country of birth</u> \" Where <u>name</u>, <u>age</u> and <u>country of birth</u> are variables."
   ]
  },
  {
   "cell_type": "markdown",
   "metadata": {},
   "source": [
    "#### End of Lesson 2<br/>\n",
    "&copy; David Saah"
   ]
  }
 ],
 "metadata": {
  "kernelspec": {
   "display_name": "Python 3 (ipykernel)",
   "language": "python",
   "name": "python3"
  },
  "language_info": {
   "codemirror_mode": {
    "name": "ipython",
    "version": 3
   },
   "file_extension": ".py",
   "mimetype": "text/x-python",
   "name": "python",
   "nbconvert_exporter": "python",
   "pygments_lexer": "ipython3",
   "version": "3.11.5"
  },
  "vscode": {
   "interpreter": {
    "hash": "e7370f93d1d0cde622a1f8e1c04877d8463912d04d973331ad4851f04de6915a"
   }
  }
 },
 "nbformat": 4,
 "nbformat_minor": 4
}
