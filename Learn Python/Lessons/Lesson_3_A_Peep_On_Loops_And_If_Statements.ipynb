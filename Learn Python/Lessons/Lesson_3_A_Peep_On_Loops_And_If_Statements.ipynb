{
 "cells": [
  {
   "cell_type": "markdown",
   "metadata": {},
   "source": [
    "# Example 1\n",
    "create a program to accept *n* number of items<br>accept the items<br>and return the sum"
   ]
  },
  {
   "cell_type": "code",
   "execution_count": 2,
   "metadata": {},
   "outputs": [
    {
     "name": "stdout",
     "output_type": "stream",
     "text": [
      "Enter the number of items to add: 2\n",
      "Enter number: 4\n",
      "Enter number: 5\n",
      "The sum is 9\n"
     ]
    }
   ],
   "source": [
    "#create a variable for the number of items\n",
    "n = int(input('Enter the number of items to add: '))\n",
    "\n",
    "#variable to hold sum\n",
    "sum = 0\n",
    "\n",
    "#create a loop to accept numbers and calculate sum\n",
    "for x in range(n):\n",
    "    num = int(input('Enter number: '))\n",
    "    sum += num\n",
    "\n",
    "print('The sum is', sum)"
   ]
  },
  {
   "cell_type": "markdown",
   "metadata": {},
   "source": [
    "# Loops"
   ]
  },
  {
   "cell_type": "markdown",
   "metadata": {},
   "source": [
    "A loop is a control structure that iterates through a code. It is used when the same piece is code is needed to run for a number of times based on a condition.<br>They can also be called conditional statements<br><br>**Examples of loops include:**<br>\n",
    "<li>For loop</li>\n",
    "<li>While loop</li>\n",
    "and many more but python currently supports only the above two. The other types can be implemented using these two with if-statements"
   ]
  },
  {
   "cell_type": "markdown",
   "metadata": {},
   "source": [
    "## For loop"
   ]
  },
  {
   "cell_type": "code",
   "execution_count": null,
   "metadata": {},
   "outputs": [],
   "source": [
    "'''\n",
    "syntax: for variable in values:\n",
    "             statements;\n",
    "'''"
   ]
  },
  {
   "cell_type": "markdown",
   "metadata": {},
   "source": [
    "for loops mostly works with iterables (you can do more research on that)\n",
    "### code example"
   ]
  },
  {
   "cell_type": "code",
   "execution_count": 2,
   "metadata": {},
   "outputs": [
    {
     "name": "stdout",
     "output_type": "stream",
     "text": [
      "0\n",
      "1\n",
      "2\n",
      "3\n",
      "4\n",
      "5\n",
      "6\n",
      "7\n",
      "8\n",
      "9\n"
     ]
    }
   ],
   "source": [
    "for x in range(10):\n",
    "    print(x)"
   ]
  },
  {
   "cell_type": "markdown",
   "metadata": {},
   "source": [
    "range() function has syntax:\n",
    "```python\n",
    "# range(start, stop, step)\n",
    "# range(stop)\n",
    "# range(start, stop)\n",
    "```"
   ]
  },
  {
   "cell_type": "code",
   "execution_count": 1,
   "metadata": {},
   "outputs": [
    {
     "name": "stdout",
     "output_type": "stream",
     "text": [
      "2\n",
      "3\n",
      "4\n",
      "5\n",
      "6\n",
      "7\n",
      "8\n",
      "9\n"
     ]
    }
   ],
   "source": [
    "#range sample1\n",
    "\n",
    "for x in range(2, 10):\n",
    "    print(x)"
   ]
  },
  {
   "cell_type": "code",
   "execution_count": 2,
   "metadata": {},
   "outputs": [
    {
     "name": "stdout",
     "output_type": "stream",
     "text": [
      "1\n",
      "3\n",
      "5\n",
      "7\n",
      "9\n"
     ]
    }
   ],
   "source": [
    "#range sample2\n",
    "\n",
    "for x in range(1, 10, 2):\n",
    "    print(x)"
   ]
  },
  {
   "cell_type": "markdown",
   "metadata": {},
   "source": [
    "You can lookup other examples and practise it.\n",
    "Like i said programming got no rules only guidelines. You make your own rules"
   ]
  },
  {
   "cell_type": "markdown",
   "metadata": {},
   "source": [
    "## while loops "
   ]
  },
  {
   "cell_type": "markdown",
   "metadata": {},
   "source": [
    "while loops are used mainly based on a condition and will continue to run until the condition returns false.<br>This condition is normally known as the base case.<br>If there's no base case the loop will run forever and your program will crush due to low memory."
   ]
  },
  {
   "cell_type": "code",
   "execution_count": null,
   "metadata": {},
   "outputs": [],
   "source": [
    "'''\n",
    "syntax: while condition:\n",
    "            statements;\n",
    "'''"
   ]
  },
  {
   "cell_type": "markdown",
   "metadata": {},
   "source": [
    "### code example"
   ]
  },
  {
   "cell_type": "code",
   "execution_count": 3,
   "metadata": {},
   "outputs": [
    {
     "name": "stdout",
     "output_type": "stream",
     "text": [
      "0\n",
      "1\n",
      "2\n",
      "3\n",
      "4\n",
      "5\n",
      "6\n",
      "7\n",
      "8\n",
      "9\n"
     ]
    }
   ],
   "source": [
    "x = 0\n",
    "while x < 10:\n",
    "    print(x)\n",
    "    x += 1    #base case"
   ]
  },
  {
   "cell_type": "markdown",
   "metadata": {},
   "source": [
    "### If-Statements"
   ]
  },
  {
   "cell_type": "markdown",
   "metadata": {},
   "source": [
    "- If statements are used when a block of code is run based on a certain condition.\n",
    "- Multiple if statements is implemented using else if (which in python is \"elif\")\n",
    "- The else statement is executed when the condition in the if block is not satisfied.\n",
    "syntax:<br/>\n",
    "\n",
    "```python\n",
    "'''\n",
    "\n",
    "if (expression):\n",
    "    statements\n",
    "\n",
    "\n",
    "#if-else\n",
    "\n",
    "if (expression):\n",
    "    statements\n",
    "elif (expression):\n",
    "    statements\n",
    "\n",
    "\n",
    "#introducing else\n",
    "\n",
    "if (expression):\n",
    "    statements\n",
    "elif (expression):\n",
    "    statements\n",
    "else:\n",
    "    statements\n",
    "\n",
    "'''\n",
    "```"
   ]
  },
  {
   "cell_type": "markdown",
   "metadata": {},
   "source": [
    "### code example "
   ]
  },
  {
   "cell_type": "code",
   "execution_count": 8,
   "metadata": {},
   "outputs": [
    {
     "name": "stdout",
     "output_type": "stream",
     "text": [
      "You can vote\n"
     ]
    }
   ],
   "source": [
    "x = 18\n",
    "if x >= 18:\n",
    "    print('You can vote')"
   ]
  },
  {
   "cell_type": "code",
   "execution_count": 9,
   "metadata": {},
   "outputs": [
    {
     "name": "stdout",
     "output_type": "stream",
     "text": [
      "You cannot vote\n"
     ]
    }
   ],
   "source": [
    "x = 16\n",
    "if x >= 18:\n",
    "    print('You can vote')\n",
    "else:\n",
    "    print('You cannot vote')"
   ]
  },
  {
   "cell_type": "code",
   "execution_count": 10,
   "metadata": {},
   "outputs": [
    {
     "name": "stdout",
     "output_type": "stream",
     "text": [
      "Age is not valid\n"
     ]
    }
   ],
   "source": [
    "x = -67\n",
    "if x >= 18:\n",
    "    print('You can vote')\n",
    "elif x < 0:\n",
    "    print('Age is not valid')\n",
    "else:\n",
    "    print('You cannot vote')"
   ]
  },
  {
   "cell_type": "markdown",
   "metadata": {},
   "source": [
    "<br/><br/>End of Lesson 3<br>\n",
    "&copy; David Saah"
   ]
  }
 ],
 "metadata": {
  "kernelspec": {
   "display_name": "Python 3",
   "language": "python",
   "name": "python3"
  },
  "language_info": {
   "codemirror_mode": {
    "name": "ipython",
    "version": 3
   },
   "file_extension": ".py",
   "mimetype": "text/x-python",
   "name": "python",
   "nbconvert_exporter": "python",
   "pygments_lexer": "ipython3",
   "version": "3.8.10"
  }
 },
 "nbformat": 4,
 "nbformat_minor": 4
}
