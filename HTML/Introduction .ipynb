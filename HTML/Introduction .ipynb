{
 "cells": [
  {
   "cell_type": "markdown",
   "metadata": {},
   "source": [
    "## <font color='blue'>HyperText Mark-up Language, HTML</font>"
   ]
  },
  {
   "cell_type": "markdown",
   "metadata": {},
   "source": [
    "- HTML works by surrounding text and graphic content appearing on the page with special codes instructing the browser on how to arrange and display this content.\n",
    "- Markup codes, also called HTML tags or elements, are always enclosed inside \"<\" and \">\" symbols to set them apart from the text content to which they apply.\n",
    "- Normally an \"opening\" tag indicates the beginning form of formatting (e.g.```<h2>```) and a separate \"closing\" tag indicates the ending point of formatting (e.g.```</h2>```)"
   ]
  },
  {
   "cell_type": "markdown",
   "metadata": {},
   "source": [
    "### HTML tag types"
   ]
  },
  {
   "cell_type": "markdown",
   "metadata": {},
   "source": [
    "- <u>Document Layout Tags: </u>These tags are used to structure the HTML document. They organise the information content on a page so that text and graphical elements appear where you want them to appear. These are the tags you use to design the overall physical amd visual relationships between page elements.<br/><br/>\n",
    "- <u>Text Formatting Tags: </u>These tags are used to apply font faces, styles, sizes and colors to the text appearing on the page. They package and decorate the text content of the page.<br/><br/>\n",
    "- <u>List Formatting Tags: </u>Certain tags are used to organise text information into lists. List structures include bulleted lists, numbered lists and others.<br/><br/>\n",
    "- <u>Graphic Formatting Tags: </u>These tags are used to position, size and style drawings and pictures that appear on the page.<br/><br/>\n",
    "- <u>Linking Tags: </u>Webpages are hypertext documents; meaning there are linkages between them. These tags setup linkages between pages and different sections of a single page.<br/><br/>\n",
    "- <u>Table Tags: </u>They organize data in a tabular form, into rows and columns, for better presentation, readability and understanding. <br/><br/>\n",
    "- <u>Form Tags: </u>They are used to collect information from visitors in order to capture data for processing or to solicit visitors preferences about content displays <br/><br/>\n",
    "- <u>Multimedia Tags: </u>They present audio, video and images on a webpage."
   ]
  }
 ],
 "metadata": {
  "kernelspec": {
   "display_name": "Python 3",
   "language": "python",
   "name": "python3"
  },
  "language_info": {
   "codemirror_mode": {
    "name": "ipython",
    "version": 3
   },
   "file_extension": ".py",
   "mimetype": "text/x-python",
   "name": "python",
   "nbconvert_exporter": "python",
   "pygments_lexer": "ipython3",
   "version": "3.8.3"
  }
 },
 "nbformat": 4,
 "nbformat_minor": 4
}
