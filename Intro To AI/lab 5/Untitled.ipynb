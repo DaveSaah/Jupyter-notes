{
 "cells": [
  {
   "cell_type": "code",
   "execution_count": 2,
   "id": "4dbde467-7016-4f81-b83d-c427a15759a8",
   "metadata": {},
   "outputs": [],
   "source": [
    "nner import requests"
   ]
  },
  {
   "cell_type": "code",
   "execution_count": 3,
   "id": "ec86b712-baba-4f65-9527-42df371af051",
   "metadata": {},
   "outputs": [],
   "source": [
    "page = requests.get(\"https://dataquestio.github.io/web-scraping-pages/simple.html\")"
   ]
  },
  {
   "cell_type": "code",
   "execution_count": 4,
   "id": "1b40f509-4aac-45bf-a219-34de22285af1",
   "metadata": {},
   "outputs": [
    {
     "data": {
      "text/plain": [
       "200"
      ]
     },
     "execution_count": 4,
     "metadata": {},
     "output_type": "execute_result"
    }
   ],
   "source": [
    "page.status_code"
   ]
  },
  {
   "cell_type": "code",
   "execution_count": 5,
   "id": "2e7f1244-b3cb-44cc-9e3d-fa781def493e",
   "metadata": {},
   "outputs": [
    {
     "data": {
      "text/plain": [
       "b'<!DOCTYPE html>\\n<html>\\n    <head>\\n        <title>A simple example page</title>\\n    </head>\\n    <body>\\n        <p>Here is some simple content for this page.</p>\\n    </body>\\n</html>'"
      ]
     },
     "execution_count": 5,
     "metadata": {},
     "output_type": "execute_result"
    }
   ],
   "source": [
    "page.content"
   ]
  },
  {
   "cell_type": "code",
   "execution_count": 6,
   "id": "a2cef952-4ae6-480b-b4c6-173abb40d63f",
   "metadata": {},
   "outputs": [
    {
     "data": {
      "text/plain": [
       "{'Connection': 'keep-alive', 'Content-Length': '179', 'Server': 'GitHub.com', 'Content-Type': 'text/html; charset=utf-8', 'permissions-policy': 'interest-cohort=()', 'Last-Modified': 'Wed, 16 Dec 2020 23:32:41 GMT', 'Access-Control-Allow-Origin': '*', 'ETag': '\"5fda9919-b3\"', 'expires': 'Tue, 19 Sep 2023 13:44:42 GMT', 'Cache-Control': 'max-age=600', 'x-proxy-cache': 'MISS', 'X-GitHub-Request-Id': 'DA08:737B:5D1C69:5FA6BD:6509A372', 'Accept-Ranges': 'bytes', 'Date': 'Tue, 19 Sep 2023 15:48:45 GMT', 'Via': '1.1 varnish', 'Age': '294', 'X-Served-By': 'cache-mad22066-MAD', 'X-Cache': 'HIT', 'X-Cache-Hits': '1', 'X-Timer': 'S1695138526.631041,VS0,VE1', 'Vary': 'Accept-Encoding', 'X-Fastly-Request-ID': '30fff5eb3fe9256ff30d109c9e8c874f4837ac60'}"
      ]
     },
     "execution_count": 6,
     "metadata": {},
     "output_type": "execute_result"
    }
   ],
   "source": [
    "page.headers"
   ]
  },
  {
   "cell_type": "code",
   "execution_count": 7,
   "id": "09e59493-b35a-492a-b068-28f1e85b20cf",
   "metadata": {},
   "outputs": [
    {
     "data": {
      "text/plain": [
       "'https://dataquestio.github.io/web-scraping-pages/simple.html'"
      ]
     },
     "execution_count": 7,
     "metadata": {},
     "output_type": "execute_result"
    }
   ],
   "source": [
    "page.url"
   ]
  },
  {
   "cell_type": "code",
   "execution_count": 8,
   "id": "78ecab04-897d-4a4b-828e-bc981374f7b4",
   "metadata": {},
   "outputs": [],
   "source": [
    "from bs4 import BeautifulSoup as bs"
   ]
  },
  {
   "cell_type": "code",
   "execution_count": 9,
   "id": "8e19f808-f0a8-46fb-86fa-2ff6a20955f0",
   "metadata": {},
   "outputs": [],
   "source": [
    "content = bs(page.content, 'html.parser')"
   ]
  },
  {
   "cell_type": "code",
   "execution_count": 10,
   "id": "badd714e-9c61-4ad4-848d-9d792571709a",
   "metadata": {},
   "outputs": [
    {
     "data": {
      "text/plain": [
       "<!DOCTYPE html>\n",
       "\n",
       "<html>\n",
       "<head>\n",
       "<title>A simple example page</title>\n",
       "</head>\n",
       "<body>\n",
       "<p>Here is some simple content for this page.</p>\n",
       "</body>\n",
       "</html>"
      ]
     },
     "execution_count": 10,
     "metadata": {},
     "output_type": "execute_result"
    }
   ],
   "source": [
    "content"
   ]
  },
  {
   "cell_type": "code",
   "execution_count": 12,
   "id": "034dd9b2-839b-4d95-a456-4b5d2328fb71",
   "metadata": {},
   "outputs": [
    {
     "name": "stdout",
     "output_type": "stream",
     "text": [
      "<!DOCTYPE html>\n",
      "<html>\n",
      " <head>\n",
      "  <title>\n",
      "   A simple example page\n",
      "  </title>\n",
      " </head>\n",
      " <body>\n",
      "  <p>\n",
      "   Here is some simple content for this page.\n",
      "  </p>\n",
      " </body>\n",
      "</html>\n",
      "\n"
     ]
    }
   ],
   "source": [
    "print(content.prettify())"
   ]
  },
  {
   "cell_type": "code",
   "execution_count": 14,
   "id": "886561e7-998c-4215-8c0d-c35862242967",
   "metadata": {},
   "outputs": [
    {
     "data": {
      "text/plain": [
       "<title>A simple example page</title>"
      ]
     },
     "execution_count": 14,
     "metadata": {},
     "output_type": "execute_result"
    }
   ],
   "source": [
    "content.find('title')"
   ]
  },
  {
   "cell_type": "code",
   "execution_count": 15,
   "id": "4080fcea-c49d-4435-8023-0edbd8568144",
   "metadata": {},
   "outputs": [
    {
     "data": {
      "text/plain": [
       "<p>Here is some simple content for this page.</p>"
      ]
     },
     "execution_count": 15,
     "metadata": {},
     "output_type": "execute_result"
    }
   ],
   "source": [
    "content.find('p')"
   ]
  },
  {
   "cell_type": "code",
   "execution_count": 16,
   "id": "29bf437c-7112-46fc-b74d-438a0dba4f2e",
   "metadata": {},
   "outputs": [
    {
     "data": {
      "text/plain": [
       "'A simple example page'"
      ]
     },
     "execution_count": 16,
     "metadata": {},
     "output_type": "execute_result"
    }
   ],
   "source": [
    "content.find('title').get_text()"
   ]
  },
  {
   "cell_type": "code",
   "execution_count": 17,
   "id": "5bf21ed0-5ad7-4063-8f3f-6e46ed3d5616",
   "metadata": {},
   "outputs": [
    {
     "data": {
      "text/plain": [
       "'Here is some simple content for this page.'"
      ]
     },
     "execution_count": 17,
     "metadata": {},
     "output_type": "execute_result"
    }
   ],
   "source": [
    "content.find('p').get_text()"
   ]
  },
  {
   "cell_type": "code",
   "execution_count": 18,
   "id": "95e16652-6196-4775-94f7-b27286a4a2b6",
   "metadata": {},
   "outputs": [],
   "source": [
    "new_page = requests.get('https://dataquestio.github.io/web-scraping-pages/ids_and_classes')"
   ]
  },
  {
   "cell_type": "code",
   "execution_count": 19,
   "id": "1874b5d1-1e3c-4a77-b986-09a4618767a7",
   "metadata": {},
   "outputs": [
    {
     "data": {
      "text/plain": [
       "b'<html>\\n    <head>\\n        <title>A simple example page</title>\\n    </head>\\n    <body>\\n        <div>\\n            <p class=\"inner-text first-item\" id=\"first\">\\n                First paragraph.\\n            </p>\\n            <p class=\"inner-text\">\\n                Second paragraph.\\n            </p>\\n        </div>\\n        <p class=\"outer-text first-item\" id=\"second\">\\n            <b>\\n                First outer paragraph.\\n            </b>\\n        </p>\\n        <p class=\"outer-text\">\\n            <b>\\n                Second outer paragraph.\\n            </b>\\n        </p>\\n    </body>\\n</html>'"
      ]
     },
     "execution_count": 19,
     "metadata": {},
     "output_type": "execute_result"
    }
   ],
   "source": [
    "new_page.content"
   ]
  },
  {
   "cell_type": "code",
   "execution_count": 20,
   "id": "2f86e7a4-b891-4a36-80c0-414c62a7b63d",
   "metadata": {},
   "outputs": [],
   "source": [
    "new_content = bs(new_page.content, 'html.parser')"
   ]
  },
  {
   "cell_type": "code",
   "execution_count": 22,
   "id": "88bd44e2-6bac-4e52-9b95-0869bbcf57eb",
   "metadata": {},
   "outputs": [
    {
     "name": "stdout",
     "output_type": "stream",
     "text": [
      "<html>\n",
      " <head>\n",
      "  <title>\n",
      "   A simple example page\n",
      "  </title>\n",
      " </head>\n",
      " <body>\n",
      "  <div>\n",
      "   <p class=\"inner-text first-item\" id=\"first\">\n",
      "    First paragraph.\n",
      "   </p>\n",
      "   <p class=\"inner-text\">\n",
      "    Second paragraph.\n",
      "   </p>\n",
      "  </div>\n",
      "  <p class=\"outer-text first-item\" id=\"second\">\n",
      "   <b>\n",
      "    First outer paragraph.\n",
      "   </b>\n",
      "  </p>\n",
      "  <p class=\"outer-text\">\n",
      "   <b>\n",
      "    Second outer paragraph.\n",
      "   </b>\n",
      "  </p>\n",
      " </body>\n",
      "</html>\n",
      "\n"
     ]
    }
   ],
   "source": [
    "print(new_content.prettify())"
   ]
  },
  {
   "cell_type": "code",
   "execution_count": 25,
   "id": "1eab3d55-3b76-4cbe-b51b-a4c2de199ad6",
   "metadata": {},
   "outputs": [
    {
     "data": {
      "text/plain": [
       "'First paragraph.'"
      ]
     },
     "execution_count": 25,
     "metadata": {},
     "output_type": "execute_result"
    }
   ],
   "source": [
    "new_content.find('p').get_text().strip()"
   ]
  },
  {
   "cell_type": "code",
   "execution_count": 26,
   "id": "51dd00cb-7001-4bec-8406-b9a9979827ac",
   "metadata": {},
   "outputs": [
    {
     "data": {
      "text/plain": [
       "'First paragraph.'"
      ]
     },
     "execution_count": 26,
     "metadata": {},
     "output_type": "execute_result"
    }
   ],
   "source": [
    "new_content.find(id='first').get_text().strip()"
   ]
  },
  {
   "cell_type": "code",
   "execution_count": 35,
   "id": "0aa91199-6aae-4bb1-9acc-ae3b39915dba",
   "metadata": {
    "editable": true,
    "slideshow": {
     "slide_type": ""
    },
    "tags": []
   },
   "outputs": [],
   "source": [
    "L = [ i.get_text().strip() for i in new_content.find_all(class_='inner-text') ]"
   ]
  },
  {
   "cell_type": "code",
   "execution_count": 36,
   "id": "a26c556b-f3c2-43d3-a86b-8d4213391025",
   "metadata": {},
   "outputs": [
    {
     "data": {
      "text/plain": [
       "['First paragraph.', 'Second paragraph.']"
      ]
     },
     "execution_count": 36,
     "metadata": {},
     "output_type": "execute_result"
    }
   ],
   "source": [
    "L"
   ]
  },
  {
   "cell_type": "code",
   "execution_count": 37,
   "id": "77fa3e4c-7d32-495c-bf16-756c9871a9db",
   "metadata": {},
   "outputs": [],
   "source": [
    "A = [ i.get_text().strip() for i in new_content.find_all(class_='outer-text') ]"
   ]
  },
  {
   "cell_type": "code",
   "execution_count": 38,
   "id": "20ade9ea-d812-49d8-b9af-b5df4e4b8f63",
   "metadata": {},
   "outputs": [
    {
     "data": {
      "text/plain": [
       "['First outer paragraph.', 'Second outer paragraph.']"
      ]
     },
     "execution_count": 38,
     "metadata": {},
     "output_type": "execute_result"
    }
   ],
   "source": [
    "A"
   ]
  },
  {
   "cell_type": "code",
   "execution_count": 39,
   "id": "c3f43b20-91ba-443a-a830-9ec89e0787ad",
   "metadata": {
    "editable": true,
    "slideshow": {
     "slide_type": ""
    },
    "tags": []
   },
   "outputs": [],
   "source": [
    "import pandas as pd"
   ]
  },
  {
   "cell_type": "code",
   "execution_count": 47,
   "id": "255afbac-2f69-46f4-942a-74e200294d73",
   "metadata": {
    "editable": true,
    "slideshow": {
     "slide_type": ""
    },
    "tags": []
   },
   "outputs": [
    {
     "data": {
      "text/html": [
       "<div>\n",
       "<style scoped>\n",
       "    .dataframe tbody tr th:only-of-type {\n",
       "        vertical-align: middle;\n",
       "    }\n",
       "\n",
       "    .dataframe tbody tr th {\n",
       "        vertical-align: top;\n",
       "    }\n",
       "\n",
       "    .dataframe thead th {\n",
       "        text-align: right;\n",
       "    }\n",
       "</style>\n",
       "<table border=\"1\" class=\"dataframe\">\n",
       "  <thead>\n",
       "    <tr style=\"text-align: right;\">\n",
       "      <th></th>\n",
       "      <th>First</th>\n",
       "      <th>Second</th>\n",
       "    </tr>\n",
       "  </thead>\n",
       "  <tbody>\n",
       "    <tr>\n",
       "      <th>0</th>\n",
       "      <td>First paragraph.</td>\n",
       "      <td>Second paragraph.</td>\n",
       "    </tr>\n",
       "    <tr>\n",
       "      <th>1</th>\n",
       "      <td>First outer paragraph.</td>\n",
       "      <td>Second outer paragraph.</td>\n",
       "    </tr>\n",
       "  </tbody>\n",
       "</table>\n",
       "</div>"
      ],
      "text/plain": [
       "                    First                   Second\n",
       "0        First paragraph.        Second paragraph.\n",
       "1  First outer paragraph.  Second outer paragraph."
      ]
     },
     "execution_count": 47,
     "metadata": {},
     "output_type": "execute_result"
    }
   ],
   "source": [
    "pd.DataFrame([L, A], columns=['First', 'Second'])"
   ]
  },
  {
   "cell_type": "code",
   "execution_count": 48,
   "id": "89165e81-a5ed-42b2-8b9e-6bf36dfd5672",
   "metadata": {
    "editable": true,
    "slideshow": {
     "slide_type": ""
    },
    "tags": []
   },
   "outputs": [
    {
     "data": {
      "text/html": [
       "<div>\n",
       "<style scoped>\n",
       "    .dataframe tbody tr th:only-of-type {\n",
       "        vertical-align: middle;\n",
       "    }\n",
       "\n",
       "    .dataframe tbody tr th {\n",
       "        vertical-align: top;\n",
       "    }\n",
       "\n",
       "    .dataframe thead th {\n",
       "        text-align: right;\n",
       "    }\n",
       "</style>\n",
       "<table border=\"1\" class=\"dataframe\">\n",
       "  <thead>\n",
       "    <tr style=\"text-align: right;\">\n",
       "      <th></th>\n",
       "      <th>first</th>\n",
       "      <th>second</th>\n",
       "    </tr>\n",
       "  </thead>\n",
       "  <tbody>\n",
       "    <tr>\n",
       "      <th>0</th>\n",
       "      <td>First paragraph.</td>\n",
       "      <td>First outer paragraph.</td>\n",
       "    </tr>\n",
       "    <tr>\n",
       "      <th>1</th>\n",
       "      <td>Second paragraph.</td>\n",
       "      <td>Second outer paragraph.</td>\n",
       "    </tr>\n",
       "  </tbody>\n",
       "</table>\n",
       "</div>"
      ],
      "text/plain": [
       "               first                   second\n",
       "0   First paragraph.   First outer paragraph.\n",
       "1  Second paragraph.  Second outer paragraph."
      ]
     },
     "execution_count": 48,
     "metadata": {},
     "output_type": "execute_result"
    }
   ],
   "source": [
    "pd.DataFrame({'first':L, 'second':A})"
   ]
  },
  {
   "cell_type": "code",
   "execution_count": 51,
   "id": "f526a437-203b-4930-bf8d-15a4dcfda4a1",
   "metadata": {
    "editable": true,
    "slideshow": {
     "slide_type": ""
    },
    "tags": []
   },
   "outputs": [],
   "source": [
    "weather = requests.get('https://forecast.weather.gov/MapClick.php?textField1=31.46&textField2=-99.33')"
   ]
  },
  {
   "cell_type": "code",
   "execution_count": 52,
   "id": "2ca45d93-ef2b-42a7-b2e0-97107f7325ce",
   "metadata": {},
   "outputs": [
    {
     "data": {
      "text/plain": [
       "200"
      ]
     },
     "execution_count": 52,
     "metadata": {},
     "output_type": "execute_result"
    }
   ],
   "source": [
    "weather.status_code"
   ]
  },
  {
   "cell_type": "code",
   "execution_count": 53,
   "id": "64a2d874-2a7a-495f-a789-2d38baa13d1d",
   "metadata": {},
   "outputs": [],
   "source": [
    "weather_page = bs(weather.content, 'html.parser')"
   ]
  },
  {
   "cell_type": "code",
   "execution_count": 56,
   "id": "a90ab379-7a12-49c5-89b1-d7a4fba3b6f7",
   "metadata": {},
   "outputs": [],
   "source": [
    "seven_days = weather_page.find(id='seven-day-forecast-body')"
   ]
  },
  {
   "cell_type": "code",
   "execution_count": 57,
   "id": "5931b8e9-a376-4e15-b860-3d51287bdfa7",
   "metadata": {},
   "outputs": [
    {
     "data": {
      "text/plain": [
       "<div class=\"panel-body\" id=\"seven-day-forecast-body\">\n",
       "<div id=\"seven-day-forecast-container\"><ul class=\"list-unstyled\" id=\"seven-day-forecast-list\"><li class=\"forecast-tombstone\">\n",
       "<div class=\"tombstone-container\">\n",
       "<p class=\"period-name\">Today<br/><br/></p>\n",
       "<p><img alt=\"Today: Sunny, with a high near 95. South wind around 15 mph, with gusts as high as 25 mph. \" class=\"forecast-icon\" src=\"newimages/medium/skc.png\" title=\"Today: Sunny, with a high near 95. South wind around 15 mph, with gusts as high as 25 mph. \"/></p><p class=\"short-desc\">Sunny</p><p class=\"temp temp-high\">High: 95 °F</p></div></li><li class=\"forecast-tombstone\">\n",
       "<div class=\"tombstone-container\">\n",
       "<p class=\"period-name\">Tonight<br/><br/></p>\n",
       "<p><img alt=\"Tonight: A 20 percent chance of showers and thunderstorms before 9pm.  Mostly clear, with a low around 71. South wind around 15 mph, with gusts as high as 25 mph. \" class=\"forecast-icon\" src=\"DualImage.php?i=hi_ntsra&amp;j=nfew&amp;ip=20\" title=\"Tonight: A 20 percent chance of showers and thunderstorms before 9pm.  Mostly clear, with a low around 71. South wind around 15 mph, with gusts as high as 25 mph. \"/></p><p class=\"short-desc\">Slight Chance<br/>T-storms then<br/>Mostly Clear</p><p class=\"temp temp-low\">Low: 71 °F</p></div></li><li class=\"forecast-tombstone\">\n",
       "<div class=\"tombstone-container\">\n",
       "<p class=\"period-name\">Wednesday<br/><br/></p>\n",
       "<p><img alt=\"Wednesday: Sunny, with a high near 96. South southwest wind 10 to 15 mph. \" class=\"forecast-icon\" src=\"newimages/medium/few.png\" title=\"Wednesday: Sunny, with a high near 96. South southwest wind 10 to 15 mph. \"/></p><p class=\"short-desc\">Sunny</p><p class=\"temp temp-high\">High: 96 °F</p></div></li><li class=\"forecast-tombstone\">\n",
       "<div class=\"tombstone-container\">\n",
       "<p class=\"period-name\">Wednesday<br/>Night</p>\n",
       "<p><img alt=\"Wednesday Night: Mostly clear, with a low around 72. South wind 10 to 15 mph. \" class=\"forecast-icon\" src=\"newimages/medium/nfew.png\" title=\"Wednesday Night: Mostly clear, with a low around 72. South wind 10 to 15 mph. \"/></p><p class=\"short-desc\">Mostly Clear</p><p class=\"temp temp-low\">Low: 72 °F</p></div></li><li class=\"forecast-tombstone\">\n",
       "<div class=\"tombstone-container\">\n",
       "<p class=\"period-name\">Thursday<br/><br/></p>\n",
       "<p><img alt=\"Thursday: Mostly sunny, with a high near 94. South wind around 10 mph. \" class=\"forecast-icon\" src=\"newimages/medium/sct.png\" title=\"Thursday: Mostly sunny, with a high near 94. South wind around 10 mph. \"/></p><p class=\"short-desc\">Mostly Sunny</p><p class=\"temp temp-high\">High: 94 °F</p></div></li><li class=\"forecast-tombstone\">\n",
       "<div class=\"tombstone-container\">\n",
       "<p class=\"period-name\">Thursday<br/>Night</p>\n",
       "<p><img alt=\"Thursday Night: Partly cloudy, with a low around 71. Breezy, with a south southeast wind 15 to 20 mph. \" class=\"forecast-icon\" src=\"DualImage.php?i=nfew&amp;j=nwind_sct\" title=\"Thursday Night: Partly cloudy, with a low around 71. Breezy, with a south southeast wind 15 to 20 mph. \"/></p><p class=\"short-desc\">Mostly Clear<br/>then Partly<br/>Cloudy and<br/>Breezy</p><p class=\"temp temp-low\">Low: 71 °F</p></div></li><li class=\"forecast-tombstone\">\n",
       "<div class=\"tombstone-container\">\n",
       "<p class=\"period-name\">Friday<br/><br/></p>\n",
       "<p><img alt=\"Friday: A 20 percent chance of showers before 1pm.  Mostly sunny, with a high near 94. South wind around 15 mph. \" class=\"forecast-icon\" src=\"newimages/medium/hi_shwrs20.png\" title=\"Friday: A 20 percent chance of showers before 1pm.  Mostly sunny, with a high near 94. South wind around 15 mph. \"/></p><p class=\"short-desc\">Slight Chance<br/>Showers</p><p class=\"temp temp-high\">High: 94 °F</p></div></li><li class=\"forecast-tombstone\">\n",
       "<div class=\"tombstone-container\">\n",
       "<p class=\"period-name\">Friday<br/>Night</p>\n",
       "<p><img alt=\"Friday Night: Mostly clear, with a low around 73. South wind around 15 mph, with gusts as high as 25 mph. \" class=\"forecast-icon\" src=\"newimages/medium/nfew.png\" title=\"Friday Night: Mostly clear, with a low around 73. South wind around 15 mph, with gusts as high as 25 mph. \"/></p><p class=\"short-desc\">Mostly Clear</p><p class=\"temp temp-low\">Low: 73 °F</p></div></li><li class=\"forecast-tombstone\">\n",
       "<div class=\"tombstone-container\">\n",
       "<p class=\"period-name\">Saturday<br/><br/></p>\n",
       "<p><img alt=\"Saturday: Mostly sunny, with a high near 97. South southwest wind around 15 mph, with gusts as high as 25 mph. \" class=\"forecast-icon\" src=\"newimages/medium/sct.png\" title=\"Saturday: Mostly sunny, with a high near 97. South southwest wind around 15 mph, with gusts as high as 25 mph. \"/></p><p class=\"short-desc\">Mostly Sunny</p><p class=\"temp temp-high\">High: 97 °F</p></div></li></ul></div>\n",
       "<script type=\"text/javascript\">\n",
       "// equalize forecast heights\n",
       "$(function () {\n",
       "    var maxh = 0;\n",
       "    $(\".forecast-tombstone .short-desc\").each(function () {\n",
       "        var h = $(this).height();\n",
       "        if (h > maxh) { maxh = h; }\n",
       "    });\n",
       "    $(\".forecast-tombstone .short-desc\").height(maxh);\n",
       "});\n",
       "</script> </div>"
      ]
     },
     "execution_count": 57,
     "metadata": {},
     "output_type": "execute_result"
    }
   ],
   "source": [
    "seven_days"
   ]
  },
  {
   "cell_type": "code",
   "execution_count": 61,
   "id": "e67f610b-e252-423a-ab1f-238d668b91cf",
   "metadata": {},
   "outputs": [],
   "source": [
    "temp = [int(i.get_text().strip().split()[1]) for i in seven_days.find_all(class_='temp')]"
   ]
  },
  {
   "cell_type": "code",
   "execution_count": 62,
   "id": "c0c952bb-e964-44d8-91cc-c610cdf3f604",
   "metadata": {},
   "outputs": [
    {
     "data": {
      "text/plain": [
       "[95, 71, 96, 72, 94, 71, 94, 73, 97]"
      ]
     },
     "execution_count": 62,
     "metadata": {},
     "output_type": "execute_result"
    }
   ],
   "source": [
    "temp"
   ]
  },
  {
   "cell_type": "code",
   "execution_count": 63,
   "id": "83ab65d2-4a06-482c-a543-ff8a4c70cefb",
   "metadata": {},
   "outputs": [],
   "source": [
    "period = [i.get_text() for i in seven_days.find_all(class_='period-name')]"
   ]
  },
  {
   "cell_type": "code",
   "execution_count": 64,
   "id": "2727613b-a8f6-4c7c-92af-ec4fe3056c5e",
   "metadata": {},
   "outputs": [
    {
     "data": {
      "text/plain": [
       "['Today',\n",
       " 'Tonight',\n",
       " 'Wednesday',\n",
       " 'WednesdayNight',\n",
       " 'Thursday',\n",
       " 'ThursdayNight',\n",
       " 'Friday',\n",
       " 'FridayNight',\n",
       " 'Saturday']"
      ]
     },
     "execution_count": 64,
     "metadata": {},
     "output_type": "execute_result"
    }
   ],
   "source": [
    "period"
   ]
  },
  {
   "cell_type": "code",
   "execution_count": 65,
   "id": "7a6f2e9b-08db-4e06-ab0e-0013e4391179",
   "metadata": {},
   "outputs": [
    {
     "data": {
      "text/plain": [
       "True"
      ]
     },
     "execution_count": 65,
     "metadata": {},
     "output_type": "execute_result"
    }
   ],
   "source": [
    "len(temp) == len(period)"
   ]
  },
  {
   "cell_type": "code",
   "execution_count": 66,
   "id": "5d8476b2-219f-4e0b-85c0-383f1bf52f4c",
   "metadata": {},
   "outputs": [],
   "source": [
    "short_desc = [i.get_text() for i in seven_days.find_all(class_='short-desc')]"
   ]
  },
  {
   "cell_type": "code",
   "execution_count": 67,
   "id": "43cce753-2503-43a2-ba1b-ccf71976c5fc",
   "metadata": {},
   "outputs": [
    {
     "data": {
      "text/plain": [
       "['Sunny',\n",
       " 'Slight ChanceT-storms thenMostly Clear',\n",
       " 'Sunny',\n",
       " 'Mostly Clear',\n",
       " 'Mostly Sunny',\n",
       " 'Mostly Clearthen PartlyCloudy andBreezy',\n",
       " 'Slight ChanceShowers',\n",
       " 'Mostly Clear',\n",
       " 'Mostly Sunny']"
      ]
     },
     "execution_count": 67,
     "metadata": {},
     "output_type": "execute_result"
    }
   ],
   "source": [
    "short_desc"
   ]
  },
  {
   "cell_type": "code",
   "execution_count": 68,
   "id": "f2bafedf-a6fa-4320-9c46-45dd15bae29f",
   "metadata": {},
   "outputs": [
    {
     "name": "stdout",
     "output_type": "stream",
     "text": [
      "<div class=\"panel-body\" id=\"seven-day-forecast-body\">\n",
      " <div id=\"seven-day-forecast-container\">\n",
      "  <ul class=\"list-unstyled\" id=\"seven-day-forecast-list\">\n",
      "   <li class=\"forecast-tombstone\">\n",
      "    <div class=\"tombstone-container\">\n",
      "     <p class=\"period-name\">\n",
      "      Today\n",
      "      <br/>\n",
      "      <br/>\n",
      "     </p>\n",
      "     <p>\n",
      "      <img alt=\"Today: Sunny, with a high near 95. South wind around 15 mph, with gusts as high as 25 mph. \" class=\"forecast-icon\" src=\"newimages/medium/skc.png\" title=\"Today: Sunny, with a high near 95. South wind around 15 mph, with gusts as high as 25 mph. \"/>\n",
      "     </p>\n",
      "     <p class=\"short-desc\">\n",
      "      Sunny\n",
      "     </p>\n",
      "     <p class=\"temp temp-high\">\n",
      "      High: 95 °F\n",
      "     </p>\n",
      "    </div>\n",
      "   </li>\n",
      "   <li class=\"forecast-tombstone\">\n",
      "    <div class=\"tombstone-container\">\n",
      "     <p class=\"period-name\">\n",
      "      Tonight\n",
      "      <br/>\n",
      "      <br/>\n",
      "     </p>\n",
      "     <p>\n",
      "      <img alt=\"Tonight: A 20 percent chance of showers and thunderstorms before 9pm.  Mostly clear, with a low around 71. South wind around 15 mph, with gusts as high as 25 mph. \" class=\"forecast-icon\" src=\"DualImage.php?i=hi_ntsra&amp;j=nfew&amp;ip=20\" title=\"Tonight: A 20 percent chance of showers and thunderstorms before 9pm.  Mostly clear, with a low around 71. South wind around 15 mph, with gusts as high as 25 mph. \"/>\n",
      "     </p>\n",
      "     <p class=\"short-desc\">\n",
      "      Slight Chance\n",
      "      <br/>\n",
      "      T-storms then\n",
      "      <br/>\n",
      "      Mostly Clear\n",
      "     </p>\n",
      "     <p class=\"temp temp-low\">\n",
      "      Low: 71 °F\n",
      "     </p>\n",
      "    </div>\n",
      "   </li>\n",
      "   <li class=\"forecast-tombstone\">\n",
      "    <div class=\"tombstone-container\">\n",
      "     <p class=\"period-name\">\n",
      "      Wednesday\n",
      "      <br/>\n",
      "      <br/>\n",
      "     </p>\n",
      "     <p>\n",
      "      <img alt=\"Wednesday: Sunny, with a high near 96. South southwest wind 10 to 15 mph. \" class=\"forecast-icon\" src=\"newimages/medium/few.png\" title=\"Wednesday: Sunny, with a high near 96. South southwest wind 10 to 15 mph. \"/>\n",
      "     </p>\n",
      "     <p class=\"short-desc\">\n",
      "      Sunny\n",
      "     </p>\n",
      "     <p class=\"temp temp-high\">\n",
      "      High: 96 °F\n",
      "     </p>\n",
      "    </div>\n",
      "   </li>\n",
      "   <li class=\"forecast-tombstone\">\n",
      "    <div class=\"tombstone-container\">\n",
      "     <p class=\"period-name\">\n",
      "      Wednesday\n",
      "      <br/>\n",
      "      Night\n",
      "     </p>\n",
      "     <p>\n",
      "      <img alt=\"Wednesday Night: Mostly clear, with a low around 72. South wind 10 to 15 mph. \" class=\"forecast-icon\" src=\"newimages/medium/nfew.png\" title=\"Wednesday Night: Mostly clear, with a low around 72. South wind 10 to 15 mph. \"/>\n",
      "     </p>\n",
      "     <p class=\"short-desc\">\n",
      "      Mostly Clear\n",
      "     </p>\n",
      "     <p class=\"temp temp-low\">\n",
      "      Low: 72 °F\n",
      "     </p>\n",
      "    </div>\n",
      "   </li>\n",
      "   <li class=\"forecast-tombstone\">\n",
      "    <div class=\"tombstone-container\">\n",
      "     <p class=\"period-name\">\n",
      "      Thursday\n",
      "      <br/>\n",
      "      <br/>\n",
      "     </p>\n",
      "     <p>\n",
      "      <img alt=\"Thursday: Mostly sunny, with a high near 94. South wind around 10 mph. \" class=\"forecast-icon\" src=\"newimages/medium/sct.png\" title=\"Thursday: Mostly sunny, with a high near 94. South wind around 10 mph. \"/>\n",
      "     </p>\n",
      "     <p class=\"short-desc\">\n",
      "      Mostly Sunny\n",
      "     </p>\n",
      "     <p class=\"temp temp-high\">\n",
      "      High: 94 °F\n",
      "     </p>\n",
      "    </div>\n",
      "   </li>\n",
      "   <li class=\"forecast-tombstone\">\n",
      "    <div class=\"tombstone-container\">\n",
      "     <p class=\"period-name\">\n",
      "      Thursday\n",
      "      <br/>\n",
      "      Night\n",
      "     </p>\n",
      "     <p>\n",
      "      <img alt=\"Thursday Night: Partly cloudy, with a low around 71. Breezy, with a south southeast wind 15 to 20 mph. \" class=\"forecast-icon\" src=\"DualImage.php?i=nfew&amp;j=nwind_sct\" title=\"Thursday Night: Partly cloudy, with a low around 71. Breezy, with a south southeast wind 15 to 20 mph. \"/>\n",
      "     </p>\n",
      "     <p class=\"short-desc\">\n",
      "      Mostly Clear\n",
      "      <br/>\n",
      "      then Partly\n",
      "      <br/>\n",
      "      Cloudy and\n",
      "      <br/>\n",
      "      Breezy\n",
      "     </p>\n",
      "     <p class=\"temp temp-low\">\n",
      "      Low: 71 °F\n",
      "     </p>\n",
      "    </div>\n",
      "   </li>\n",
      "   <li class=\"forecast-tombstone\">\n",
      "    <div class=\"tombstone-container\">\n",
      "     <p class=\"period-name\">\n",
      "      Friday\n",
      "      <br/>\n",
      "      <br/>\n",
      "     </p>\n",
      "     <p>\n",
      "      <img alt=\"Friday: A 20 percent chance of showers before 1pm.  Mostly sunny, with a high near 94. South wind around 15 mph. \" class=\"forecast-icon\" src=\"newimages/medium/hi_shwrs20.png\" title=\"Friday: A 20 percent chance of showers before 1pm.  Mostly sunny, with a high near 94. South wind around 15 mph. \"/>\n",
      "     </p>\n",
      "     <p class=\"short-desc\">\n",
      "      Slight Chance\n",
      "      <br/>\n",
      "      Showers\n",
      "     </p>\n",
      "     <p class=\"temp temp-high\">\n",
      "      High: 94 °F\n",
      "     </p>\n",
      "    </div>\n",
      "   </li>\n",
      "   <li class=\"forecast-tombstone\">\n",
      "    <div class=\"tombstone-container\">\n",
      "     <p class=\"period-name\">\n",
      "      Friday\n",
      "      <br/>\n",
      "      Night\n",
      "     </p>\n",
      "     <p>\n",
      "      <img alt=\"Friday Night: Mostly clear, with a low around 73. South wind around 15 mph, with gusts as high as 25 mph. \" class=\"forecast-icon\" src=\"newimages/medium/nfew.png\" title=\"Friday Night: Mostly clear, with a low around 73. South wind around 15 mph, with gusts as high as 25 mph. \"/>\n",
      "     </p>\n",
      "     <p class=\"short-desc\">\n",
      "      Mostly Clear\n",
      "     </p>\n",
      "     <p class=\"temp temp-low\">\n",
      "      Low: 73 °F\n",
      "     </p>\n",
      "    </div>\n",
      "   </li>\n",
      "   <li class=\"forecast-tombstone\">\n",
      "    <div class=\"tombstone-container\">\n",
      "     <p class=\"period-name\">\n",
      "      Saturday\n",
      "      <br/>\n",
      "      <br/>\n",
      "     </p>\n",
      "     <p>\n",
      "      <img alt=\"Saturday: Mostly sunny, with a high near 97. South southwest wind around 15 mph, with gusts as high as 25 mph. \" class=\"forecast-icon\" src=\"newimages/medium/sct.png\" title=\"Saturday: Mostly sunny, with a high near 97. South southwest wind around 15 mph, with gusts as high as 25 mph. \"/>\n",
      "     </p>\n",
      "     <p class=\"short-desc\">\n",
      "      Mostly Sunny\n",
      "     </p>\n",
      "     <p class=\"temp temp-high\">\n",
      "      High: 97 °F\n",
      "     </p>\n",
      "    </div>\n",
      "   </li>\n",
      "  </ul>\n",
      " </div>\n",
      " <script type=\"text/javascript\">\n",
      "  // equalize forecast heights\n",
      "$(function () {\n",
      "    var maxh = 0;\n",
      "    $(\".forecast-tombstone .short-desc\").each(function () {\n",
      "        var h = $(this).height();\n",
      "        if (h > maxh) { maxh = h; }\n",
      "    });\n",
      "    $(\".forecast-tombstone .short-desc\").height(maxh);\n",
      "});\n",
      " </script>\n",
      "</div>\n",
      "\n"
     ]
    }
   ],
   "source": [
    "print(seven_days.prettify())"
   ]
  },
  {
   "cell_type": "code",
   "execution_count": null,
   "id": "7999fd76-f561-4d67-abe6-d09a350e52a9",
   "metadata": {},
   "outputs": [],
   "source": []
  }
 ],
 "metadata": {
  "kernelspec": {
   "display_name": "Python 3 (ipykernel)",
   "language": "python",
   "name": "python3"
  },
  "language_info": {
   "codemirror_mode": {
    "name": "ipython",
    "version": 3
   },
   "file_extension": ".py",
   "mimetype": "text/x-python",
   "name": "python",
   "nbconvert_exporter": "python",
   "pygments_lexer": "ipython3",
   "version": "3.11.5"
  }
 },
 "nbformat": 4,
 "nbformat_minor": 5
}
