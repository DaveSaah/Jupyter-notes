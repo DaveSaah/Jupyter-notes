{
 "cells": [
  {
   "cell_type": "code",
   "execution_count": 1,
   "id": "4dbde467-7016-4f81-b83d-c427a15759a8",
   "metadata": {},
   "outputs": [],
   "source": [
    " import requests"
   ]
  },
  {
   "cell_type": "code",
   "execution_count": 2,
   "id": "ec86b712-baba-4f65-9527-42df371af051",
   "metadata": {},
   "outputs": [],
   "source": [
    "page = requests.get(\"https://dataquestio.github.io/web-scraping-pages/simple.html\")"
   ]
  },
  {
   "cell_type": "code",
   "execution_count": 3,
   "id": "1b40f509-4aac-45bf-a219-34de22285af1",
   "metadata": {},
   "outputs": [
    {
     "data": {
      "text/plain": [
       "200"
      ]
     },
     "execution_count": 3,
     "metadata": {},
     "output_type": "execute_result"
    }
   ],
   "source": [
    "page.status_code"
   ]
  },
  {
   "cell_type": "code",
   "execution_count": 5,
   "id": "2e7f1244-b3cb-44cc-9e3d-fa781def493e",
   "metadata": {},
   "outputs": [
    {
     "data": {
      "text/plain": [
       "b'<!DOCTYPE html>\\n<html>\\n    <head>\\n        <title>A simple example page</title>\\n    </head>\\n    <body>\\n        <p>Here is some simple content for this page.</p>\\n    </body>\\n</html>'"
      ]
     },
     "execution_count": 5,
     "metadata": {},
     "output_type": "execute_result"
    }
   ],
   "source": [
    "page.content"
   ]
  },
  {
   "cell_type": "code",
   "execution_count": 6,
   "id": "a2cef952-4ae6-480b-b4c6-173abb40d63f",
   "metadata": {},
   "outputs": [
    {
     "data": {
      "text/plain": [
       "{'Connection': 'keep-alive', 'Content-Length': '179', 'Server': 'GitHub.com', 'Content-Type': 'text/html; charset=utf-8', 'permissions-policy': 'interest-cohort=()', 'Last-Modified': 'Wed, 16 Dec 2020 23:32:41 GMT', 'Access-Control-Allow-Origin': '*', 'ETag': '\"5fda9919-b3\"', 'expires': 'Tue, 19 Sep 2023 13:44:42 GMT', 'Cache-Control': 'max-age=600', 'x-proxy-cache': 'MISS', 'X-GitHub-Request-Id': 'DA08:737B:5D1C69:5FA6BD:6509A372', 'Accept-Ranges': 'bytes', 'Date': 'Tue, 19 Sep 2023 15:43:51 GMT', 'Via': '1.1 varnish', 'Age': '0', 'X-Served-By': 'cache-mad2200130-MAD', 'X-Cache': 'HIT', 'X-Cache-Hits': '1', 'X-Timer': 'S1695138231.270087,VS0,VE128', 'Vary': 'Accept-Encoding', 'X-Fastly-Request-ID': 'b9ee2c03f239830ba58d7a833d133381c433efc7'}"
      ]
     },
     "execution_count": 6,
     "metadata": {},
     "output_type": "execute_result"
    }
   ],
   "source": [
    "page.headers"
   ]
  },
  {
   "cell_type": "code",
   "execution_count": 8,
   "id": "09e59493-b35a-492a-b068-28f1e85b20cf",
   "metadata": {},
   "outputs": [
    {
     "data": {
      "text/plain": [
       "'https://dataquestio.github.io/web-scraping-pages/simple.html'"
      ]
     },
     "execution_count": 8,
     "metadata": {},
     "output_type": "execute_result"
    }
   ],
   "source": [
    "page.url"
   ]
  },
  {
   "cell_type": "code",
   "execution_count": 9,
   "id": "78ecab04-897d-4a4b-828e-bc981374f7b4",
   "metadata": {},
   "outputs": [],
   "source": [
    "from bs4 import BeautifulSoup as bs"
   ]
  },
  {
   "cell_type": "code",
   "execution_count": 11,
   "id": "8e19f808-f0a8-46fb-86fa-2ff6a20955f0",
   "metadata": {},
   "outputs": [],
   "source": [
    "content = bs(page.content, 'html.parser')"
   ]
  },
  {
   "cell_type": "code",
   "execution_count": 12,
   "id": "badd714e-9c61-4ad4-848d-9d792571709a",
   "metadata": {},
   "outputs": [
    {
     "data": {
      "text/plain": [
       "<!DOCTYPE html>\n",
       "\n",
       "<html>\n",
       "<head>\n",
       "<title>A simple example page</title>\n",
       "</head>\n",
       "<body>\n",
       "<p>Here is some simple content for this page.</p>\n",
       "</body>\n",
       "</html>"
      ]
     },
     "execution_count": 12,
     "metadata": {},
     "output_type": "execute_result"
    }
   ],
   "source": [
    "content"
   ]
  },
  {
   "cell_type": "code",
   "execution_count": null,
   "id": "034dd9b2-839b-4d95-a456-4b5d2328fb71",
   "metadata": {},
   "outputs": [],
   "source": []
  }
 ],
 "metadata": {
  "kernelspec": {
   "display_name": "Python 3 (ipykernel)",
   "language": "python",
   "name": "python3"
  },
  "language_info": {
   "codemirror_mode": {
    "name": "ipython",
    "version": 3
   },
   "file_extension": ".py",
   "mimetype": "text/x-python",
   "name": "python",
   "nbconvert_exporter": "python",
   "pygments_lexer": "ipython3",
   "version": "3.11.5"
  }
 },
 "nbformat": 4,
 "nbformat_minor": 5
}
