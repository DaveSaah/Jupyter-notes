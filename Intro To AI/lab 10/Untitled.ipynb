{
 "cells": [
  {
   "cell_type": "markdown",
   "id": "75750846-f081-4a01-937d-4f5da208744c",
   "metadata": {},
   "source": [
    "Import modules"
   ]
  },
  {
   "cell_type": "code",
   "execution_count": 21,
   "id": "cedd671b-037a-440d-a5e3-8ddc2c0fcd10",
   "metadata": {},
   "outputs": [],
   "source": [
    "from sklearn.feature_extraction.text import TfidfVectorizer\n",
    "from sklearn.cluster import KMeans\n",
    "from sklearn.metrics import adjusted_rand_score"
   ]
  },
  {
   "cell_type": "markdown",
   "id": "18892658-7b18-4149-b9c0-58f5a0ff44e9",
   "metadata": {},
   "source": [
    "Load documents"
   ]
  },
  {
   "cell_type": "code",
   "execution_count": 2,
   "id": "b77d49ac-57d1-450b-ac11-9264cd0bb712",
   "metadata": {},
   "outputs": [],
   "source": [
    "documents = [\n",
    "    \"This little kitty came to play when I was eating at a restaurant.\",\n",
    "    \"Merley has the best squooshy kitten belly.\",\n",
    "    \"Google Translate app is incredible.\",\n",
    "    \"If you open 100 tab in google you get a smiley face.\",\n",
    "    \"Best cat photo I've ever taken.\",\n",
    "    \"Climbing ninja cat.\",\n",
    "    \"Impressed with google map feedback.\",\n",
    "    \"Key promoter extension for Google Chrome.\"\n",
    "]"
   ]
  },
  {
   "cell_type": "code",
   "execution_count": 3,
   "id": "c3fc439e-af70-4021-8278-dfae0553df86",
   "metadata": {},
   "outputs": [],
   "source": [
    "vectorizer = TfidfVectorizer(stop_words='english')\n",
    "X = vectorizer.fit_transform(documents)"
   ]
  },
  {
   "cell_type": "code",
   "execution_count": 4,
   "id": "90d49e5c-35da-4bd2-bdd4-675887295bda",
   "metadata": {},
   "outputs": [],
   "source": [
    "terms = vectorizer.get_feature_names_out()"
   ]
  },
  {
   "cell_type": "code",
   "execution_count": 8,
   "id": "57a1e6c9-db46-4847-8518-316d45ea8fe5",
   "metadata": {},
   "outputs": [],
   "source": [
    "k = 2"
   ]
  },
  {
   "cell_type": "code",
   "execution_count": 9,
   "id": "3e30cf10-5448-40b7-801f-8aca07335b5a",
   "metadata": {},
   "outputs": [],
   "source": [
    "model = KMeans(n_clusters=k, init='k-means++', max_iter=100, n_init=1)"
   ]
  },
  {
   "cell_type": "code",
   "execution_count": 10,
   "id": "17711c1a-f8e0-43be-bf80-3fc83635e94e",
   "metadata": {},
   "outputs": [
    {
     "data": {
      "text/html": [
       "<style>#sk-container-id-1 {color: black;}#sk-container-id-1 pre{padding: 0;}#sk-container-id-1 div.sk-toggleable {background-color: white;}#sk-container-id-1 label.sk-toggleable__label {cursor: pointer;display: block;width: 100%;margin-bottom: 0;padding: 0.3em;box-sizing: border-box;text-align: center;}#sk-container-id-1 label.sk-toggleable__label-arrow:before {content: \"▸\";float: left;margin-right: 0.25em;color: #696969;}#sk-container-id-1 label.sk-toggleable__label-arrow:hover:before {color: black;}#sk-container-id-1 div.sk-estimator:hover label.sk-toggleable__label-arrow:before {color: black;}#sk-container-id-1 div.sk-toggleable__content {max-height: 0;max-width: 0;overflow: hidden;text-align: left;background-color: #f0f8ff;}#sk-container-id-1 div.sk-toggleable__content pre {margin: 0.2em;color: black;border-radius: 0.25em;background-color: #f0f8ff;}#sk-container-id-1 input.sk-toggleable__control:checked~div.sk-toggleable__content {max-height: 200px;max-width: 100%;overflow: auto;}#sk-container-id-1 input.sk-toggleable__control:checked~label.sk-toggleable__label-arrow:before {content: \"▾\";}#sk-container-id-1 div.sk-estimator input.sk-toggleable__control:checked~label.sk-toggleable__label {background-color: #d4ebff;}#sk-container-id-1 div.sk-label input.sk-toggleable__control:checked~label.sk-toggleable__label {background-color: #d4ebff;}#sk-container-id-1 input.sk-hidden--visually {border: 0;clip: rect(1px 1px 1px 1px);clip: rect(1px, 1px, 1px, 1px);height: 1px;margin: -1px;overflow: hidden;padding: 0;position: absolute;width: 1px;}#sk-container-id-1 div.sk-estimator {font-family: monospace;background-color: #f0f8ff;border: 1px dotted black;border-radius: 0.25em;box-sizing: border-box;margin-bottom: 0.5em;}#sk-container-id-1 div.sk-estimator:hover {background-color: #d4ebff;}#sk-container-id-1 div.sk-parallel-item::after {content: \"\";width: 100%;border-bottom: 1px solid gray;flex-grow: 1;}#sk-container-id-1 div.sk-label:hover label.sk-toggleable__label {background-color: #d4ebff;}#sk-container-id-1 div.sk-serial::before {content: \"\";position: absolute;border-left: 1px solid gray;box-sizing: border-box;top: 0;bottom: 0;left: 50%;z-index: 0;}#sk-container-id-1 div.sk-serial {display: flex;flex-direction: column;align-items: center;background-color: white;padding-right: 0.2em;padding-left: 0.2em;position: relative;}#sk-container-id-1 div.sk-item {position: relative;z-index: 1;}#sk-container-id-1 div.sk-parallel {display: flex;align-items: stretch;justify-content: center;background-color: white;position: relative;}#sk-container-id-1 div.sk-item::before, #sk-container-id-1 div.sk-parallel-item::before {content: \"\";position: absolute;border-left: 1px solid gray;box-sizing: border-box;top: 0;bottom: 0;left: 50%;z-index: -1;}#sk-container-id-1 div.sk-parallel-item {display: flex;flex-direction: column;z-index: 1;position: relative;background-color: white;}#sk-container-id-1 div.sk-parallel-item:first-child::after {align-self: flex-end;width: 50%;}#sk-container-id-1 div.sk-parallel-item:last-child::after {align-self: flex-start;width: 50%;}#sk-container-id-1 div.sk-parallel-item:only-child::after {width: 0;}#sk-container-id-1 div.sk-dashed-wrapped {border: 1px dashed gray;margin: 0 0.4em 0.5em 0.4em;box-sizing: border-box;padding-bottom: 0.4em;background-color: white;}#sk-container-id-1 div.sk-label label {font-family: monospace;font-weight: bold;display: inline-block;line-height: 1.2em;}#sk-container-id-1 div.sk-label-container {text-align: center;}#sk-container-id-1 div.sk-container {/* jupyter's `normalize.less` sets `[hidden] { display: none; }` but bootstrap.min.css set `[hidden] { display: none !important; }` so we also need the `!important` here to be able to override the default hidden behavior on the sphinx rendered scikit-learn.org. See: https://github.com/scikit-learn/scikit-learn/issues/21755 */display: inline-block !important;position: relative;}#sk-container-id-1 div.sk-text-repr-fallback {display: none;}</style><div id=\"sk-container-id-1\" class=\"sk-top-container\"><div class=\"sk-text-repr-fallback\"><pre>KMeans(max_iter=100, n_clusters=2, n_init=1)</pre><b>In a Jupyter environment, please rerun this cell to show the HTML representation or trust the notebook. <br />On GitHub, the HTML representation is unable to render, please try loading this page with nbviewer.org.</b></div><div class=\"sk-container\" hidden><div class=\"sk-item\"><div class=\"sk-estimator sk-toggleable\"><input class=\"sk-toggleable__control sk-hidden--visually\" id=\"sk-estimator-id-1\" type=\"checkbox\" checked><label for=\"sk-estimator-id-1\" class=\"sk-toggleable__label sk-toggleable__label-arrow\">KMeans</label><div class=\"sk-toggleable__content\"><pre>KMeans(max_iter=100, n_clusters=2, n_init=1)</pre></div></div></div></div></div>"
      ],
      "text/plain": [
       "KMeans(max_iter=100, n_clusters=2, n_init=1)"
      ]
     },
     "execution_count": 10,
     "metadata": {},
     "output_type": "execute_result"
    }
   ],
   "source": [
    "model.fit(X)"
   ]
  },
  {
   "cell_type": "code",
   "execution_count": 16,
   "id": "a6f5152f-27d4-4a92-b5be-f96d96b83e65",
   "metadata": {},
   "outputs": [],
   "source": [
    "order_centriods = model.cluster_centers_.argsort()[:, ::-1]"
   ]
  },
  {
   "cell_type": "code",
   "execution_count": 17,
   "id": "40121125-f81a-47bf-af93-ae217379bdb3",
   "metadata": {},
   "outputs": [
    {
     "data": {
      "text/plain": [
       "array([[ 5,  3,  7, 21, 32, 23, 30,  2, 20, 16, 28, 18, 17,  4, 26, 24,\n",
       "         8, 22,  9,  1, 29, 27,  6, 11, 10, 12, 13, 14, 15, 31, 19, 25,\n",
       "         0],\n",
       "       [12, 11, 19,  1, 13, 14, 31, 15,  9,  6, 25, 22, 10, 27, 29,  0,\n",
       "         7,  5,  8,  4,  3,  2, 32, 17, 18, 20, 21, 23, 24, 26, 28, 30,\n",
       "        16]])"
      ]
     },
     "execution_count": 17,
     "metadata": {},
     "output_type": "execute_result"
    }
   ],
   "source": [
    "order_centriods"
   ]
  },
  {
   "cell_type": "code",
   "execution_count": 37,
   "id": "da576f7b-f558-455e-925d-760f28514eb0",
   "metadata": {},
   "outputs": [
    {
     "name": "stdout",
     "output_type": "stream",
     "text": [
      "Cluster: 0\n",
      "\t cat\n",
      "\t best\n",
      "\t climbing\n",
      "\t ninja\n",
      "\t ve\n",
      "\t photo\n",
      "\t taken\n",
      "\t belly\n",
      "\t merley\n",
      "\t kitten\n",
      "\t squooshy\n",
      "\t little\n",
      "\t kitty\n",
      "\t came\n",
      "\t restaurant\n",
      "\t play\n",
      "\t eating\n",
      "\t open\n",
      "\t extension\n",
      "\t app\n",
      "\t tab\n",
      "\t smiley\n",
      "\t chrome\n",
      "\t feedback\n",
      "\t face\n",
      "\t google\n",
      "\t impressed\n",
      "\t incredible\n",
      "\t key\n",
      "\t translate\n",
      "\t map\n",
      "\t promoter\n",
      "\t 100\n",
      "\n",
      "Cluster: 1\n",
      "\t google\n",
      "\t feedback\n",
      "\t map\n",
      "\t app\n",
      "\t impressed\n",
      "\t incredible\n",
      "\t translate\n",
      "\t key\n",
      "\t extension\n",
      "\t chrome\n",
      "\t promoter\n",
      "\t open\n",
      "\t face\n",
      "\t smiley\n",
      "\t tab\n",
      "\t 100\n",
      "\t climbing\n",
      "\t cat\n",
      "\t eating\n",
      "\t came\n",
      "\t best\n",
      "\t belly\n",
      "\t ve\n",
      "\t kitty\n",
      "\t little\n",
      "\t merley\n",
      "\t ninja\n",
      "\t photo\n",
      "\t play\n",
      "\t restaurant\n",
      "\t squooshy\n",
      "\t taken\n",
      "\t kitten\n",
      "\n"
     ]
    }
   ],
   "source": [
    "for i in range(len(order_centriods)):\n",
    "    print(\"Cluster:\", i)\n",
    "    for j in order_centriods[i]:\n",
    "        print(\"\\t\", terms[j])\n",
    "    print()"
   ]
  },
  {
   "cell_type": "code",
   "execution_count": 34,
   "id": "55643fd3-d58e-4b69-887d-912d8d2aafbb",
   "metadata": {},
   "outputs": [],
   "source": [
    "y = 'google 100 kittens eating'"
   ]
  },
  {
   "cell_type": "code",
   "execution_count": 36,
   "id": "0b96af37-487a-47e8-bbc0-2d716b40c38b",
   "metadata": {},
   "outputs": [
    {
     "data": {
      "text/plain": [
       "array([1], dtype=int32)"
      ]
     },
     "execution_count": 36,
     "metadata": {},
     "output_type": "execute_result"
    }
   ],
   "source": [
    "model.predict((vectorizer.transform([y])))"
   ]
  },
  {
   "cell_type": "code",
   "execution_count": null,
   "id": "d43eae86-c38a-4128-934b-4511833361dd",
   "metadata": {},
   "outputs": [],
   "source": []
  }
 ],
 "metadata": {
  "kernelspec": {
   "display_name": "Python 3 (ipykernel)",
   "language": "python",
   "name": "python3"
  },
  "language_info": {
   "codemirror_mode": {
    "name": "ipython",
    "version": 3
   },
   "file_extension": ".py",
   "mimetype": "text/x-python",
   "name": "python",
   "nbconvert_exporter": "python",
   "pygments_lexer": "ipython3",
   "version": "3.11.6"
  }
 },
 "nbformat": 4,
 "nbformat_minor": 5
}
