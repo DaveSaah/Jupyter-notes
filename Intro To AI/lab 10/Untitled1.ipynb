{
 "cells": [
  {
   "cell_type": "code",
   "execution_count": 111,
   "id": "c57f4199-07ed-4072-b644-2d23ae05316f",
   "metadata": {},
   "outputs": [],
   "source": [
    "# import modules\n",
    "import pandas as pd\n",
    "from sklearn.feature_extraction.text import TfidfVectorizer\n",
    "from sklearn.cluster import KMeans"
   ]
  },
  {
   "cell_type": "code",
   "execution_count": 112,
   "id": "1ffc59d1-cb75-4fca-920b-47a4ea4fa656",
   "metadata": {},
   "outputs": [],
   "source": [
    "# load data\n",
    "df = pd.read_csv('./description.csv', encoding='latin1')"
   ]
  },
  {
   "cell_type": "code",
   "execution_count": 113,
   "id": "a7fc8a6d-ad96-456b-a1dc-744f7668df2c",
   "metadata": {},
   "outputs": [
    {
     "data": {
      "text/html": [
       "<div>\n",
       "<style scoped>\n",
       "    .dataframe tbody tr th:only-of-type {\n",
       "        vertical-align: middle;\n",
       "    }\n",
       "\n",
       "    .dataframe tbody tr th {\n",
       "        vertical-align: top;\n",
       "    }\n",
       "\n",
       "    .dataframe thead th {\n",
       "        text-align: right;\n",
       "    }\n",
       "</style>\n",
       "<table border=\"1\" class=\"dataframe\">\n",
       "  <thead>\n",
       "    <tr style=\"text-align: right;\">\n",
       "      <th></th>\n",
       "      <th>book_id</th>\n",
       "      <th>name</th>\n",
       "      <th>description</th>\n",
       "    </tr>\n",
       "  </thead>\n",
       "  <tbody>\n",
       "    <tr>\n",
       "      <th>0</th>\n",
       "      <td>4833.0</td>\n",
       "      <td>The Glass Castle</td>\n",
       "      <td>A tender, moving tale of unconditional love in...</td>\n",
       "    </tr>\n",
       "    <tr>\n",
       "      <th>1</th>\n",
       "      <td>590.0</td>\n",
       "      <td>Night (The Night Trilogy, #1)</td>\n",
       "      <td>Born into a Jewish ghetto in Hungary, as a chi...</td>\n",
       "    </tr>\n",
       "    <tr>\n",
       "      <th>2</th>\n",
       "      <td>4264.0</td>\n",
       "      <td>Angela's Ashes (Frank McCourt, #1)</td>\n",
       "      <td>Imbued on every page with Frank McCourt's asto...</td>\n",
       "    </tr>\n",
       "    <tr>\n",
       "      <th>3</th>\n",
       "      <td>3361.0</td>\n",
       "      <td>Eat, Pray, Love</td>\n",
       "      <td>A celebrated writer's irresistible, candid, an...</td>\n",
       "    </tr>\n",
       "    <tr>\n",
       "      <th>4</th>\n",
       "      <td>4535.0</td>\n",
       "      <td>Into Thin Air: A Personal Account of the Mount...</td>\n",
       "      <td>A bank of clouds was assembling on the not-so-...</td>\n",
       "    </tr>\n",
       "  </tbody>\n",
       "</table>\n",
       "</div>"
      ],
      "text/plain": [
       "   book_id                                               name  \\\n",
       "0   4833.0                                  The Glass Castle    \n",
       "1    590.0                     Night (The Night Trilogy, #1)    \n",
       "2   4264.0                Angela's Ashes (Frank McCourt, #1)    \n",
       "3   3361.0                                   Eat, Pray, Love    \n",
       "4   4535.0  Into Thin Air: A Personal Account of the Mount...   \n",
       "\n",
       "                                         description  \n",
       "0  A tender, moving tale of unconditional love in...  \n",
       "1  Born into a Jewish ghetto in Hungary, as a chi...  \n",
       "2  Imbued on every page with Frank McCourt's asto...  \n",
       "3  A celebrated writer's irresistible, candid, an...  \n",
       "4  A bank of clouds was assembling on the not-so-...  "
      ]
     },
     "execution_count": 113,
     "metadata": {},
     "output_type": "execute_result"
    }
   ],
   "source": [
    "df.head()"
   ]
  },
  {
   "cell_type": "code",
   "execution_count": 114,
   "id": "7264c526-7312-4460-b772-4bcd2aedfa14",
   "metadata": {},
   "outputs": [],
   "source": [
    "# get documents to be clustered\n",
    "documents = df['description']"
   ]
  },
  {
   "cell_type": "code",
   "execution_count": 115,
   "id": "f3e8cae6-4193-49c8-9455-6420c6fd6b48",
   "metadata": {},
   "outputs": [
    {
     "data": {
      "text/plain": [
       "0      A tender, moving tale of unconditional love in...\n",
       "1      Born into a Jewish ghetto in Hungary, as a chi...\n",
       "2      Imbued on every page with Frank McCourt's asto...\n",
       "3      A celebrated writer's irresistible, candid, an...\n",
       "4      A bank of clouds was assembling on the not-so-...\n",
       "                             ...                        \n",
       "138    From Galileo to todays amateur astronomers, s...\n",
       "139    Once you have had a wonderful dog, a life with...\n",
       "140    From the wild salmon caught in the Yukon river...\n",
       "141    This Edition of Donatelles text provides stud...\n",
       "142    Chef AJ has a unique ability to create healthy...\n",
       "Name: description, Length: 143, dtype: object"
      ]
     },
     "execution_count": 115,
     "metadata": {},
     "output_type": "execute_result"
    }
   ],
   "source": [
    "documents"
   ]
  },
  {
   "cell_type": "code",
   "execution_count": 116,
   "id": "3ce79ec4-fdd9-45eb-935b-50dfc6524d77",
   "metadata": {},
   "outputs": [],
   "source": [
    "# drop all missing values\n",
    "documents.dropna(how='all', inplace=True)"
   ]
  },
  {
   "cell_type": "code",
   "execution_count": 117,
   "id": "baf1df39-ec2b-4930-9a2f-2b5dce87ff3f",
   "metadata": {},
   "outputs": [],
   "source": [
    "test_data = documents.tail()"
   ]
  },
  {
   "cell_type": "code",
   "execution_count": 118,
   "id": "1ecd768d-baf2-4d16-8137-6065f05bdb60",
   "metadata": {},
   "outputs": [],
   "source": [
    "train_data = documents.drop(test_data.index)"
   ]
  },
  {
   "cell_type": "code",
   "execution_count": 119,
   "id": "d10d73eb-d490-453f-9f29-2562cd622a46",
   "metadata": {},
   "outputs": [],
   "source": [
    "vectorizer = TfidfVectorizer(stop_words='english')\n",
    "X = vectorizer.fit_transform(train_data)"
   ]
  },
  {
   "cell_type": "code",
   "execution_count": 120,
   "id": "f726cef6-d835-424b-93ef-8367691aea33",
   "metadata": {},
   "outputs": [],
   "source": [
    "terms = vectorizer.get_feature_names_out() # get terms"
   ]
  },
  {
   "cell_type": "code",
   "execution_count": 121,
   "id": "1f5337f7-6cf1-494a-8a68-618e910a1635",
   "metadata": {},
   "outputs": [
    {
     "data": {
      "text/plain": [
       "4063"
      ]
     },
     "execution_count": 121,
     "metadata": {},
     "output_type": "execute_result"
    }
   ],
   "source": [
    "len(terms)"
   ]
  },
  {
   "cell_type": "code",
   "execution_count": 122,
   "id": "4eb1ecc0-4d53-436d-8bcd-f7b5f6df271f",
   "metadata": {},
   "outputs": [],
   "source": [
    "k = 5"
   ]
  },
  {
   "cell_type": "code",
   "execution_count": 123,
   "id": "df84f281-f215-4125-8201-8e64e32b6367",
   "metadata": {},
   "outputs": [],
   "source": [
    "model = KMeans(n_clusters=k, init='k-means++', max_iter=100, n_init=1) # create cluster model"
   ]
  },
  {
   "cell_type": "code",
   "execution_count": 124,
   "id": "e7d20e58-f40d-490e-940d-667d3178fd2e",
   "metadata": {},
   "outputs": [
    {
     "data": {
      "text/html": [
       "<style>#sk-container-id-5 {color: black;}#sk-container-id-5 pre{padding: 0;}#sk-container-id-5 div.sk-toggleable {background-color: white;}#sk-container-id-5 label.sk-toggleable__label {cursor: pointer;display: block;width: 100%;margin-bottom: 0;padding: 0.3em;box-sizing: border-box;text-align: center;}#sk-container-id-5 label.sk-toggleable__label-arrow:before {content: \"▸\";float: left;margin-right: 0.25em;color: #696969;}#sk-container-id-5 label.sk-toggleable__label-arrow:hover:before {color: black;}#sk-container-id-5 div.sk-estimator:hover label.sk-toggleable__label-arrow:before {color: black;}#sk-container-id-5 div.sk-toggleable__content {max-height: 0;max-width: 0;overflow: hidden;text-align: left;background-color: #f0f8ff;}#sk-container-id-5 div.sk-toggleable__content pre {margin: 0.2em;color: black;border-radius: 0.25em;background-color: #f0f8ff;}#sk-container-id-5 input.sk-toggleable__control:checked~div.sk-toggleable__content {max-height: 200px;max-width: 100%;overflow: auto;}#sk-container-id-5 input.sk-toggleable__control:checked~label.sk-toggleable__label-arrow:before {content: \"▾\";}#sk-container-id-5 div.sk-estimator input.sk-toggleable__control:checked~label.sk-toggleable__label {background-color: #d4ebff;}#sk-container-id-5 div.sk-label input.sk-toggleable__control:checked~label.sk-toggleable__label {background-color: #d4ebff;}#sk-container-id-5 input.sk-hidden--visually {border: 0;clip: rect(1px 1px 1px 1px);clip: rect(1px, 1px, 1px, 1px);height: 1px;margin: -1px;overflow: hidden;padding: 0;position: absolute;width: 1px;}#sk-container-id-5 div.sk-estimator {font-family: monospace;background-color: #f0f8ff;border: 1px dotted black;border-radius: 0.25em;box-sizing: border-box;margin-bottom: 0.5em;}#sk-container-id-5 div.sk-estimator:hover {background-color: #d4ebff;}#sk-container-id-5 div.sk-parallel-item::after {content: \"\";width: 100%;border-bottom: 1px solid gray;flex-grow: 1;}#sk-container-id-5 div.sk-label:hover label.sk-toggleable__label {background-color: #d4ebff;}#sk-container-id-5 div.sk-serial::before {content: \"\";position: absolute;border-left: 1px solid gray;box-sizing: border-box;top: 0;bottom: 0;left: 50%;z-index: 0;}#sk-container-id-5 div.sk-serial {display: flex;flex-direction: column;align-items: center;background-color: white;padding-right: 0.2em;padding-left: 0.2em;position: relative;}#sk-container-id-5 div.sk-item {position: relative;z-index: 1;}#sk-container-id-5 div.sk-parallel {display: flex;align-items: stretch;justify-content: center;background-color: white;position: relative;}#sk-container-id-5 div.sk-item::before, #sk-container-id-5 div.sk-parallel-item::before {content: \"\";position: absolute;border-left: 1px solid gray;box-sizing: border-box;top: 0;bottom: 0;left: 50%;z-index: -1;}#sk-container-id-5 div.sk-parallel-item {display: flex;flex-direction: column;z-index: 1;position: relative;background-color: white;}#sk-container-id-5 div.sk-parallel-item:first-child::after {align-self: flex-end;width: 50%;}#sk-container-id-5 div.sk-parallel-item:last-child::after {align-self: flex-start;width: 50%;}#sk-container-id-5 div.sk-parallel-item:only-child::after {width: 0;}#sk-container-id-5 div.sk-dashed-wrapped {border: 1px dashed gray;margin: 0 0.4em 0.5em 0.4em;box-sizing: border-box;padding-bottom: 0.4em;background-color: white;}#sk-container-id-5 div.sk-label label {font-family: monospace;font-weight: bold;display: inline-block;line-height: 1.2em;}#sk-container-id-5 div.sk-label-container {text-align: center;}#sk-container-id-5 div.sk-container {/* jupyter's `normalize.less` sets `[hidden] { display: none; }` but bootstrap.min.css set `[hidden] { display: none !important; }` so we also need the `!important` here to be able to override the default hidden behavior on the sphinx rendered scikit-learn.org. See: https://github.com/scikit-learn/scikit-learn/issues/21755 */display: inline-block !important;position: relative;}#sk-container-id-5 div.sk-text-repr-fallback {display: none;}</style><div id=\"sk-container-id-5\" class=\"sk-top-container\"><div class=\"sk-text-repr-fallback\"><pre>KMeans(max_iter=100, n_clusters=5, n_init=1)</pre><b>In a Jupyter environment, please rerun this cell to show the HTML representation or trust the notebook. <br />On GitHub, the HTML representation is unable to render, please try loading this page with nbviewer.org.</b></div><div class=\"sk-container\" hidden><div class=\"sk-item\"><div class=\"sk-estimator sk-toggleable\"><input class=\"sk-toggleable__control sk-hidden--visually\" id=\"sk-estimator-id-5\" type=\"checkbox\" checked><label for=\"sk-estimator-id-5\" class=\"sk-toggleable__label sk-toggleable__label-arrow\">KMeans</label><div class=\"sk-toggleable__content\"><pre>KMeans(max_iter=100, n_clusters=5, n_init=1)</pre></div></div></div></div></div>"
      ],
      "text/plain": [
       "KMeans(max_iter=100, n_clusters=5, n_init=1)"
      ]
     },
     "execution_count": 124,
     "metadata": {},
     "output_type": "execute_result"
    }
   ],
   "source": [
    "model.fit(X)"
   ]
  },
  {
   "cell_type": "code",
   "execution_count": 125,
   "id": "9065bfc6-bb39-4e50-84d8-0924c8aea0f0",
   "metadata": {},
   "outputs": [],
   "source": [
    "order_centriods = model.cluster_centers_.argsort()[:, ::-1]"
   ]
  },
  {
   "cell_type": "code",
   "execution_count": 126,
   "id": "42bb8ba3-109f-486e-afec-5405f5cb49f5",
   "metadata": {},
   "outputs": [
    {
     "data": {
      "text/plain": [
       "array([[1672,  449, 2471, ..., 2468, 2466,    0],\n",
       "       [ 449, 2785, 1871, ..., 1988, 1987, 2031],\n",
       "       [1394, 2761, 2966, ..., 2512, 2511, 2031],\n",
       "       [2142, 1651,  596, ..., 2481, 2480,    0],\n",
       "       [ 634,  636, 3485, ..., 1947, 1946, 4062]])"
      ]
     },
     "execution_count": 126,
     "metadata": {},
     "output_type": "execute_result"
    }
   ],
   "source": [
    "order_centriods"
   ]
  },
  {
   "cell_type": "code",
   "execution_count": 127,
   "id": "bb0545eb-ee9d-4771-bee8-eac85bcf91aa",
   "metadata": {},
   "outputs": [
    {
     "name": "stdout",
     "output_type": "stream",
     "text": [
      "Cluster: 0\n",
      "\t guide\n",
      "\t book\n",
      "\t need\n",
      "\t issues\n",
      "\t tracks\n",
      "\n",
      "Cluster: 1\n",
      "\t book\n",
      "\t potato\n",
      "\t includes\n",
      "\t techniques\n",
      "\t dyslexia\n",
      "\n",
      "Cluster: 2\n",
      "\t family\n",
      "\t political\n",
      "\t readers\n",
      "\t extraordinary\n",
      "\t blake\n",
      "\n",
      "Cluster: 3\n",
      "\t life\n",
      "\t greatest\n",
      "\t century\n",
      "\t time\n",
      "\t story\n",
      "\n",
      "Cluster: 4\n",
      "\t child\n",
      "\t children\n",
      "\t story\n",
      "\t surgery\n",
      "\t years\n",
      "\n"
     ]
    }
   ],
   "source": [
    "for i in range(len(order_centriods)):\n",
    "    print(\"Cluster:\", i)\n",
    "    for j in order_centriods[i][:5]:\n",
    "        print(\"\\t\", terms[j])\n",
    "    print()"
   ]
  },
  {
   "cell_type": "code",
   "execution_count": 128,
   "id": "363a5a3f-82be-4aa0-be79-501ed8fa6672",
   "metadata": {},
   "outputs": [],
   "source": [
    "pred = model.predict((vectorizer.transform(test_data)))"
   ]
  },
  {
   "cell_type": "code",
   "execution_count": 129,
   "id": "6a5d3fe2-efe3-470f-8a3a-1ba5056cddbd",
   "metadata": {},
   "outputs": [
    {
     "data": {
      "text/plain": [
       "array([3, 3, 1, 0, 1], dtype=int32)"
      ]
     },
     "execution_count": 129,
     "metadata": {},
     "output_type": "execute_result"
    }
   ],
   "source": [
    "pred"
   ]
  },
  {
   "cell_type": "code",
   "execution_count": null,
   "id": "f9bc27a5-8850-4aaf-a4d4-54e33963c91f",
   "metadata": {},
   "outputs": [],
   "source": []
  }
 ],
 "metadata": {
  "kernelspec": {
   "display_name": "Python 3 (ipykernel)",
   "language": "python",
   "name": "python3"
  },
  "language_info": {
   "codemirror_mode": {
    "name": "ipython",
    "version": 3
   },
   "file_extension": ".py",
   "mimetype": "text/x-python",
   "name": "python",
   "nbconvert_exporter": "python",
   "pygments_lexer": "ipython3",
   "version": "3.11.6"
  }
 },
 "nbformat": 4,
 "nbformat_minor": 5
}
