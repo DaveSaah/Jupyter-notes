{
 "cells": [
  {
   "cell_type": "markdown",
   "id": "fe9dc922-aa13-4f25-b3d7-4bbb2d20c554",
   "metadata": {},
   "source": [
    "# Retrieving data from a database"
   ]
  },
  {
   "cell_type": "markdown",
   "id": "f553bfa2-4549-4c78-b923-25f0e58cb6e3",
   "metadata": {},
   "source": [
    "## Testing MongoDB"
   ]
  },
  {
   "cell_type": "code",
   "execution_count": 1,
   "id": "db85c3ff-1797-419d-9a8f-e5c7365a4d88",
   "metadata": {},
   "outputs": [],
   "source": [
    "import pymongo as pm"
   ]
  },
  {
   "cell_type": "code",
   "execution_count": 2,
   "id": "6022eef9-fe85-4966-a438-a91adf30bf40",
   "metadata": {},
   "outputs": [],
   "source": [
    "from pymongo import MongoClient"
   ]
  },
  {
   "cell_type": "code",
   "execution_count": 4,
   "id": "a95c5327-2846-4b1a-b33f-6a51aedba8e5",
   "metadata": {},
   "outputs": [],
   "source": [
    "client = MongoClient(\"localhost\", 27017)"
   ]
  },
  {
   "cell_type": "code",
   "execution_count": 7,
   "id": "680c248f-f43f-4515-9f3c-07cd7dbcb8f9",
   "metadata": {},
   "outputs": [],
   "source": [
    "db = client['hesed']"
   ]
  },
  {
   "cell_type": "code",
   "execution_count": 9,
   "id": "20012eb8-0bda-4675-85b5-506581d22e4a",
   "metadata": {},
   "outputs": [],
   "source": [
    "article = {\n",
    "    \"author\": \"David Saah\",\n",
    "    \"about\": \"Why Vim Is Better\",\n",
    "    \"tags\": [\"vim\", \"linux\", \"fedora\"],\n",
    "}"
   ]
  },
  {
   "cell_type": "code",
   "execution_count": 10,
   "id": "160ac8cf-212a-46d2-980a-798f8c967e59",
   "metadata": {},
   "outputs": [
    {
     "data": {
      "text/plain": [
       "{'author': 'David Saah',\n",
       " 'about': 'Why Vim Is Better',\n",
       " 'tags': ['vim', 'linux', 'fedora']}"
      ]
     },
     "execution_count": 10,
     "metadata": {},
     "output_type": "execute_result"
    }
   ],
   "source": [
    "article"
   ]
  },
  {
   "cell_type": "code",
   "execution_count": 11,
   "id": "5e1674e5-3380-4c3d-83a9-1898f82bb710",
   "metadata": {},
   "outputs": [],
   "source": [
    "articles = db.articles"
   ]
  },
  {
   "cell_type": "code",
   "execution_count": 12,
   "id": "079b26b4-b74d-45b6-80b7-b9741335aa89",
   "metadata": {},
   "outputs": [
    {
     "data": {
      "text/plain": [
       "Collection(Database(MongoClient(host=['localhost:27017'], document_class=dict, tz_aware=False, connect=True), 'hesed'), 'articles')"
      ]
     },
     "execution_count": 12,
     "metadata": {},
     "output_type": "execute_result"
    }
   ],
   "source": [
    "articles"
   ]
  },
  {
   "cell_type": "code",
   "execution_count": 13,
   "id": "580591af-a412-4e69-af8d-33d92e39e1ff",
   "metadata": {},
   "outputs": [],
   "source": [
    "result = articles.insert_one(article)"
   ]
  },
  {
   "cell_type": "code",
   "execution_count": 16,
   "id": "611e7c88-4241-4774-8207-574591d87040",
   "metadata": {},
   "outputs": [
    {
     "data": {
      "text/plain": [
       "ObjectId('65086e2dac1a1b06464b3bd2')"
      ]
     },
     "execution_count": 16,
     "metadata": {},
     "output_type": "execute_result"
    }
   ],
   "source": [
    "result.inserted_id"
   ]
  },
  {
   "cell_type": "code",
   "execution_count": 18,
   "id": "4d8f4de4-9af0-4a1e-b5d0-c94e142f18b2",
   "metadata": {},
   "outputs": [],
   "source": [
    "article1 = {\n",
    "    \"author\": \"David Saah\",\n",
    "    \"about\": \"Why Ubuntu is not because you are\",\n",
    "    \"tags\": [\"theory\", \"linux\", \"ubuntu\"],\n",
    "}\n",
    "\n",
    "article2 = {\n",
    "    \"author\": \"David Saah\",\n",
    "    \"about\": \"Why AI is still a child\",\n",
    "    \"tags\": [\"theory\", \"Generative\", \"AI\"],\n",
    "}"
   ]
  },
  {
   "cell_type": "code",
   "execution_count": 19,
   "id": "a06eca90-0715-40d9-80ee-0035852a791d",
   "metadata": {},
   "outputs": [],
   "source": [
    "new = articles.insert_many([article1, article2])"
   ]
  },
  {
   "cell_type": "code",
   "execution_count": 20,
   "id": "03c1dbcf-bd33-4eaf-8eba-36e8b03b1875",
   "metadata": {},
   "outputs": [
    {
     "data": {
      "text/plain": [
       "[ObjectId('65086f9dac1a1b06464b3bd3'), ObjectId('65086f9dac1a1b06464b3bd4')]"
      ]
     },
     "execution_count": 20,
     "metadata": {},
     "output_type": "execute_result"
    }
   ],
   "source": [
    "new.inserted_ids"
   ]
  },
  {
   "cell_type": "code",
   "execution_count": 27,
   "id": "314da779-21e6-4377-afc0-9aa8539641f2",
   "metadata": {},
   "outputs": [
    {
     "data": {
      "text/plain": [
       "'David Saah'"
      ]
     },
     "execution_count": 27,
     "metadata": {},
     "output_type": "execute_result"
    }
   ],
   "source": [
    "articles.find_one()[\"author\"]"
   ]
  },
  {
   "cell_type": "code",
   "execution_count": 28,
   "id": "844f4260-cccb-49c2-a20c-d93ad75d2f6c",
   "metadata": {},
   "outputs": [
    {
     "data": {
      "text/plain": [
       "{'_id': ObjectId('65086e2dac1a1b06464b3bd2'),\n",
       " 'author': 'David Saah',\n",
       " 'about': 'Why Vim Is Better',\n",
       " 'tags': ['vim', 'linux', 'fedora']}"
      ]
     },
     "execution_count": 28,
     "metadata": {},
     "output_type": "execute_result"
    }
   ],
   "source": [
    "articles.find_one()"
   ]
  },
  {
   "cell_type": "code",
   "execution_count": 29,
   "id": "abe5b84b-8454-401d-85a3-cd94650c21a2",
   "metadata": {},
   "outputs": [],
   "source": [
    "import pandas as pd"
   ]
  },
  {
   "cell_type": "code",
   "execution_count": 34,
   "id": "f9ff8264-fe71-4e25-a12f-f27653248608",
   "metadata": {},
   "outputs": [],
   "source": [
    "data = []"
   ]
  },
  {
   "cell_type": "code",
   "execution_count": 35,
   "id": "cdb48884-4949-437a-821b-55baabb79993",
   "metadata": {},
   "outputs": [],
   "source": [
    "for i in articles.find():\n",
    "    data.append(i)"
   ]
  },
  {
   "cell_type": "code",
   "execution_count": 36,
   "id": "dc89107f-3093-401f-b3f0-dd0e397b3db5",
   "metadata": {},
   "outputs": [
    {
     "data": {
      "text/plain": [
       "[{'_id': ObjectId('65086e2dac1a1b06464b3bd2'),\n",
       "  'author': 'David Saah',\n",
       "  'about': 'Why Vim Is Better',\n",
       "  'tags': ['vim', 'linux', 'fedora']},\n",
       " {'_id': ObjectId('65086f9dac1a1b06464b3bd3'),\n",
       "  'author': 'David Saah',\n",
       "  'about': 'Why Ubuntu is not because you are',\n",
       "  'tags': ['theory', 'linux', 'ubuntu']},\n",
       " {'_id': ObjectId('65086f9dac1a1b06464b3bd4'),\n",
       "  'author': 'David Saah',\n",
       "  'about': 'Why AI is still a child',\n",
       "  'tags': ['theory', 'Generative', 'AI']}]"
      ]
     },
     "execution_count": 36,
     "metadata": {},
     "output_type": "execute_result"
    }
   ],
   "source": [
    "data"
   ]
  },
  {
   "cell_type": "code",
   "execution_count": 39,
   "id": "b24cf95f-577f-46f2-8450-e4c835717c83",
   "metadata": {},
   "outputs": [],
   "source": [
    "df = pd.DataFrame(articles.find())"
   ]
  },
  {
   "cell_type": "code",
   "execution_count": 40,
   "id": "ad804d43-70f6-4a95-99bf-ef66c4033bcd",
   "metadata": {},
   "outputs": [
    {
     "data": {
      "text/html": [
       "<div>\n",
       "<style scoped>\n",
       "    .dataframe tbody tr th:only-of-type {\n",
       "        vertical-align: middle;\n",
       "    }\n",
       "\n",
       "    .dataframe tbody tr th {\n",
       "        vertical-align: top;\n",
       "    }\n",
       "\n",
       "    .dataframe thead th {\n",
       "        text-align: right;\n",
       "    }\n",
       "</style>\n",
       "<table border=\"1\" class=\"dataframe\">\n",
       "  <thead>\n",
       "    <tr style=\"text-align: right;\">\n",
       "      <th></th>\n",
       "      <th>_id</th>\n",
       "      <th>author</th>\n",
       "      <th>about</th>\n",
       "      <th>tags</th>\n",
       "    </tr>\n",
       "  </thead>\n",
       "  <tbody>\n",
       "    <tr>\n",
       "      <th>0</th>\n",
       "      <td>65086e2dac1a1b06464b3bd2</td>\n",
       "      <td>David Saah</td>\n",
       "      <td>Why Vim Is Better</td>\n",
       "      <td>[vim, linux, fedora]</td>\n",
       "    </tr>\n",
       "    <tr>\n",
       "      <th>1</th>\n",
       "      <td>65086f9dac1a1b06464b3bd3</td>\n",
       "      <td>David Saah</td>\n",
       "      <td>Why Ubuntu is not because you are</td>\n",
       "      <td>[theory, linux, ubuntu]</td>\n",
       "    </tr>\n",
       "    <tr>\n",
       "      <th>2</th>\n",
       "      <td>65086f9dac1a1b06464b3bd4</td>\n",
       "      <td>David Saah</td>\n",
       "      <td>Why AI is still a child</td>\n",
       "      <td>[theory, Generative, AI]</td>\n",
       "    </tr>\n",
       "  </tbody>\n",
       "</table>\n",
       "</div>"
      ],
      "text/plain": [
       "                        _id      author                              about  \\\n",
       "0  65086e2dac1a1b06464b3bd2  David Saah                  Why Vim Is Better   \n",
       "1  65086f9dac1a1b06464b3bd3  David Saah  Why Ubuntu is not because you are   \n",
       "2  65086f9dac1a1b06464b3bd4  David Saah            Why AI is still a child   \n",
       "\n",
       "                       tags  \n",
       "0      [vim, linux, fedora]  \n",
       "1   [theory, linux, ubuntu]  \n",
       "2  [theory, Generative, AI]  "
      ]
     },
     "execution_count": 40,
     "metadata": {},
     "output_type": "execute_result"
    }
   ],
   "source": [
    "df"
   ]
  },
  {
   "cell_type": "code",
   "execution_count": null,
   "id": "0d8d9647-426b-4a17-93c5-c9741e1d6d82",
   "metadata": {},
   "outputs": [],
   "source": []
  }
 ],
 "metadata": {
  "kernelspec": {
   "display_name": "Python 3 (ipykernel)",
   "language": "python",
   "name": "python3"
  },
  "language_info": {
   "codemirror_mode": {
    "name": "ipython",
    "version": 3
   },
   "file_extension": ".py",
   "mimetype": "text/x-python",
   "name": "python",
   "nbconvert_exporter": "python",
   "pygments_lexer": "ipython3",
   "version": "3.11.5"
  }
 },
 "nbformat": 4,
 "nbformat_minor": 5
}
