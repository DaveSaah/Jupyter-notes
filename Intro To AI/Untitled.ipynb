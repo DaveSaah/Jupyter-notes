{
 "cells": [
  {
   "cell_type": "code",
   "execution_count": null,
   "id": "fd9c6099-fc97-46d1-821c-9cbcd62cca83",
   "metadata": {},
   "outputs": [],
   "source": [
    "# create feature subsets which show better correlation with the overall rating\n",
    "\n",
    "# create a list of all the columns with a correlation greater than 0.5\n",
    "feature_cols = list(trainX.corrwith(trainY)[abs(trainX.corrwith(trainY)) > 0.5].index)\n",
    "\n",
    "print(feature_cols)\n",
    "print(len(feature_cols))"
   ]
  },
  {
   "cell_type": "code",
   "execution_count": null,
   "id": "86797301-ba9e-4975-be6a-154e64649223",
   "metadata": {},
   "outputs": [],
   "source": [
    "# set trainX and testX to the new feature subset\n",
    "trainX = trainX[feature_cols]\n",
    "testX = testX[feature_cols]"
   ]
  },
  {
   "cell_type": "code",
   "execution_count": null,
   "id": "c484c15e-699a-47b8-bfcc-8ab13dbcd3bc",
   "metadata": {},
   "outputs": [],
   "source": [
    "trainX.info()"
   ]
  },
  {
   "cell_type": "code",
   "execution_count": null,
   "id": "6e4a395b-f9bf-4c40-93de-52ec5fe621dd",
   "metadata": {},
   "outputs": [],
   "source": [
    "## Training Models"
   ]
  },
  {
   "cell_type": "code",
   "execution_count": null,
   "id": "b8892d02-c6f6-4c29-aceb-94d27abe67af",
   "metadata": {},
   "outputs": [],
   "source": [
    "Using Cross validation to train the Gradient Boosting Classifer \n"
   ]
  },
  {
   "cell_type": "code",
   "execution_count": null,
   "id": "c7eec3d2-b695-4e3f-bf54-5427e2df0e9f",
   "metadata": {},
   "outputs": [],
   "source": [
    "from sklearn.ensemble import GradientBoostingClassifier\n",
    "gdc= GradientBoostingClassifier(learning_rate=0.001,random_state=42,)\n",
    "\n",
    "cv=KFold(n_splits=3)\n",
    "PARAMETERS ={\n",
    "\"max_depth\":[2,5, 6, 12],\n",
    "# \"min_child_weight\":[1,5,15],\n",
    "\"learning_rate\":[0.3, 0.1, 0.03],\n",
    "\"n_estimators\":[100,500,1000]}\n",
    "gd=GradientBoostingClassifier()\n",
    "model_gs = GridSearchCV(gd,param_grid=PARAMETERS,cv=cv,scoring=\"accuracy\")\n",
    "model_gs.fit(Xtrain,Ytrain)"
   ]
  },
  {
   "cell_type": "code",
   "execution_count": null,
   "id": "2a716828-ab55-444b-bf00-3be3a57b4c8b",
   "metadata": {},
   "outputs": [],
   "source": [
    "# do cross validation training with either RandomForest, XGBoost, Gradient Boost Regressors that can predict a player rating.\n",
    "\n",
    "# RandomForestRegressor cross validation training\n",
    "\n",
    "\n",
    "cv = KFold(n_splits=3)\n",
    "PARAMETERS = {\n",
    "    \"max_depth\": [2, 5, 6, 12],\n",
    "    \"learning_rate\": [0.3, 0.1, 0.03],"
   ]
  },
  {
   "cell_type": "code",
   "execution_count": null,
   "id": "4914fb77-b46d-46e4-b32f-3b93f5371fe1",
   "metadata": {},
   "outputs": [],
   "source": []
  }
 ],
 "metadata": {
  "kernelspec": {
   "display_name": "Python 3 (ipykernel)",
   "language": "python",
   "name": "python3"
  },
  "language_info": {
   "codemirror_mode": {
    "name": "ipython",
    "version": 3
   },
   "file_extension": ".py",
   "mimetype": "text/x-python",
   "name": "python",
   "nbconvert_exporter": "python",
   "pygments_lexer": "ipython3",
   "version": "3.11.6"
  }
 },
 "nbformat": 4,
 "nbformat_minor": 5
}
