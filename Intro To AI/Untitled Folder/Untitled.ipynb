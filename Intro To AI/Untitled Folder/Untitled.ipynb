{
 "cells": [
  {
   "cell_type": "markdown",
   "id": "0cb0ab21",
   "metadata": {},
   "source": [
    "## Importing Dataset"
   ]
  },
  {
   "cell_type": "code",
   "execution_count": 23,
   "id": "06611228",
   "metadata": {},
   "outputs": [
    {
     "name": "stdout",
     "output_type": "stream",
     "text": [
      "Arrest_Data_from_2010_to_Present.csv  Untitled1.ipynb  Untitled.ipynb\n"
     ]
    }
   ],
   "source": [
    "!ls"
   ]
  },
  {
   "cell_type": "code",
   "execution_count": 24,
   "id": "315a7b5c-17e6-4805-aff1-bc70c4936c1e",
   "metadata": {},
   "outputs": [],
   "source": [
    "import pandas as pd\n",
    "\n",
    "data = pd.read_csv('./Arrest_Data_from_2010_to_Present.csv', nrows=1227516)"
   ]
  },
  {
   "cell_type": "markdown",
   "id": "ae8a6c2b",
   "metadata": {},
   "source": [
    "### Analysing and Cleaning the Data"
   ]
  },
  {
   "cell_type": "code",
   "execution_count": 25,
   "id": "5dd789e9-7cc1-4388-834b-6aa4ea2aa9ea",
   "metadata": {},
   "outputs": [
    {
     "data": {
      "text/html": [
       "<div>\n",
       "<style scoped>\n",
       "    .dataframe tbody tr th:only-of-type {\n",
       "        vertical-align: middle;\n",
       "    }\n",
       "\n",
       "    .dataframe tbody tr th {\n",
       "        vertical-align: top;\n",
       "    }\n",
       "\n",
       "    .dataframe thead th {\n",
       "        text-align: right;\n",
       "    }\n",
       "</style>\n",
       "<table border=\"1\" class=\"dataframe\">\n",
       "  <thead>\n",
       "    <tr style=\"text-align: right;\">\n",
       "      <th></th>\n",
       "      <th>Report ID</th>\n",
       "      <th>Arrest Date</th>\n",
       "      <th>Time</th>\n",
       "      <th>Area ID</th>\n",
       "      <th>Area Name</th>\n",
       "      <th>Reporting District</th>\n",
       "      <th>Age</th>\n",
       "      <th>Sex Code</th>\n",
       "      <th>Descent Code</th>\n",
       "      <th>Charge Group Code</th>\n",
       "      <th>Charge Group Description</th>\n",
       "      <th>Arrest Type Code</th>\n",
       "      <th>Charge</th>\n",
       "      <th>Charge Description</th>\n",
       "      <th>Address</th>\n",
       "      <th>Cross Street</th>\n",
       "      <th>Location</th>\n",
       "    </tr>\n",
       "  </thead>\n",
       "  <tbody>\n",
       "    <tr>\n",
       "      <th>0</th>\n",
       "      <td>4248313</td>\n",
       "      <td>02/24/2015</td>\n",
       "      <td>1310.0</td>\n",
       "      <td>20</td>\n",
       "      <td>Olympic</td>\n",
       "      <td>2022</td>\n",
       "      <td>37</td>\n",
       "      <td>M</td>\n",
       "      <td>H</td>\n",
       "      <td>5.0</td>\n",
       "      <td>Burglary</td>\n",
       "      <td>F</td>\n",
       "      <td>459PC</td>\n",
       "      <td>BURGLARY</td>\n",
       "      <td>5TH</td>\n",
       "      <td>WILTON</td>\n",
       "      <td>(34.0653, -118.314)</td>\n",
       "    </tr>\n",
       "    <tr>\n",
       "      <th>1</th>\n",
       "      <td>191811472</td>\n",
       "      <td>05/03/2019</td>\n",
       "      <td>1700.0</td>\n",
       "      <td>18</td>\n",
       "      <td>Southeast</td>\n",
       "      <td>1802</td>\n",
       "      <td>23</td>\n",
       "      <td>F</td>\n",
       "      <td>B</td>\n",
       "      <td>NaN</td>\n",
       "      <td>NaN</td>\n",
       "      <td>M</td>\n",
       "      <td>653.22 PC</td>\n",
       "      <td>NaN</td>\n",
       "      <td>91ST</td>\n",
       "      <td>FIGUEROA</td>\n",
       "      <td>(33.9543, -118.2827)</td>\n",
       "    </tr>\n",
       "    <tr>\n",
       "      <th>2</th>\n",
       "      <td>4254777</td>\n",
       "      <td>02/26/2015</td>\n",
       "      <td>2010.0</td>\n",
       "      <td>19</td>\n",
       "      <td>Mission</td>\n",
       "      <td>1985</td>\n",
       "      <td>22</td>\n",
       "      <td>M</td>\n",
       "      <td>H</td>\n",
       "      <td>6.0</td>\n",
       "      <td>Larceny</td>\n",
       "      <td>M</td>\n",
       "      <td>459.5PC</td>\n",
       "      <td>SHOPLIFTING</td>\n",
       "      <td>8300    VAN NUYS                     BL</td>\n",
       "      <td>NaN</td>\n",
       "      <td>(34.2216, -118.4488)</td>\n",
       "    </tr>\n",
       "    <tr>\n",
       "      <th>3</th>\n",
       "      <td>5614161</td>\n",
       "      <td>04/29/2019</td>\n",
       "      <td>1040.0</td>\n",
       "      <td>8</td>\n",
       "      <td>West LA</td>\n",
       "      <td>842</td>\n",
       "      <td>41</td>\n",
       "      <td>M</td>\n",
       "      <td>H</td>\n",
       "      <td>3.0</td>\n",
       "      <td>Robbery</td>\n",
       "      <td>F</td>\n",
       "      <td>211PC</td>\n",
       "      <td>ROBBERY</td>\n",
       "      <td>11600    WILSHIRE                     BL</td>\n",
       "      <td>NaN</td>\n",
       "      <td>(34.0508, -118.4592)</td>\n",
       "    </tr>\n",
       "    <tr>\n",
       "      <th>4</th>\n",
       "      <td>5615197</td>\n",
       "      <td>04/30/2019</td>\n",
       "      <td>615.0</td>\n",
       "      <td>6</td>\n",
       "      <td>Hollywood</td>\n",
       "      <td>663</td>\n",
       "      <td>27</td>\n",
       "      <td>M</td>\n",
       "      <td>O</td>\n",
       "      <td>5.0</td>\n",
       "      <td>Burglary</td>\n",
       "      <td>F</td>\n",
       "      <td>459PC</td>\n",
       "      <td>BURGLARY</td>\n",
       "      <td>LA BREA</td>\n",
       "      <td>LEXINGTON</td>\n",
       "      <td>(34.0907, -118.3384)</td>\n",
       "    </tr>\n",
       "  </tbody>\n",
       "</table>\n",
       "</div>"
      ],
      "text/plain": [
       "   Report ID Arrest Date    Time  Area ID  Area Name  Reporting District  Age  \\\n",
       "0    4248313  02/24/2015  1310.0       20    Olympic                2022   37   \n",
       "1  191811472  05/03/2019  1700.0       18  Southeast                1802   23   \n",
       "2    4254777  02/26/2015  2010.0       19    Mission                1985   22   \n",
       "3    5614161  04/29/2019  1040.0        8    West LA                 842   41   \n",
       "4    5615197  04/30/2019   615.0        6  Hollywood                 663   27   \n",
       "\n",
       "  Sex Code Descent Code  Charge Group Code Charge Group Description  \\\n",
       "0        M            H                5.0                 Burglary   \n",
       "1        F            B                NaN                      NaN   \n",
       "2        M            H                6.0                  Larceny   \n",
       "3        M            H                3.0                  Robbery   \n",
       "4        M            O                5.0                 Burglary   \n",
       "\n",
       "  Arrest Type Code     Charge Charge Description  \\\n",
       "0                F      459PC           BURGLARY   \n",
       "1                M  653.22 PC                NaN   \n",
       "2                M    459.5PC        SHOPLIFTING   \n",
       "3                F      211PC            ROBBERY   \n",
       "4                F      459PC           BURGLARY   \n",
       "\n",
       "                                    Address Cross Street              Location  \n",
       "0                                       5TH       WILTON   (34.0653, -118.314)  \n",
       "1                                      91ST     FIGUEROA  (33.9543, -118.2827)  \n",
       "2   8300    VAN NUYS                     BL          NaN  (34.2216, -118.4488)  \n",
       "3  11600    WILSHIRE                     BL          NaN  (34.0508, -118.4592)  \n",
       "4                                   LA BREA    LEXINGTON  (34.0907, -118.3384)  "
      ]
     },
     "execution_count": 25,
     "metadata": {},
     "output_type": "execute_result"
    }
   ],
   "source": [
    "data.head()"
   ]
  },
  {
   "cell_type": "code",
   "execution_count": 26,
   "id": "577cec91",
   "metadata": {},
   "outputs": [
    {
     "name": "stdout",
     "output_type": "stream",
     "text": [
      "<class 'pandas.core.frame.DataFrame'>\n",
      "RangeIndex: 1227516 entries, 0 to 1227515\n",
      "Data columns (total 17 columns):\n",
      " #   Column                    Non-Null Count    Dtype  \n",
      "---  ------                    --------------    -----  \n",
      " 0   Report ID                 1227516 non-null  int64  \n",
      " 1   Arrest Date               1227516 non-null  object \n",
      " 2   Time                      1227321 non-null  float64\n",
      " 3   Area ID                   1227516 non-null  int64  \n",
      " 4   Area Name                 1227516 non-null  object \n",
      " 5   Reporting District        1227516 non-null  int64  \n",
      " 6   Age                       1227516 non-null  int64  \n",
      " 7   Sex Code                  1227516 non-null  object \n",
      " 8   Descent Code              1227516 non-null  object \n",
      " 9   Charge Group Code         1139950 non-null  float64\n",
      " 10  Charge Group Description  1139514 non-null  object \n",
      " 11  Arrest Type Code          1227516 non-null  object \n",
      " 12  Charge                    1227516 non-null  object \n",
      " 13  Charge Description        1139987 non-null  object \n",
      " 14  Address                   1227516 non-null  object \n",
      " 15  Cross Street              707334 non-null   object \n",
      " 16  Location                  1227516 non-null  object \n",
      "dtypes: float64(2), int64(4), object(11)\n",
      "memory usage: 159.2+ MB\n"
     ]
    }
   ],
   "source": [
    "data.info()"
   ]
  },
  {
   "cell_type": "code",
   "execution_count": 27,
   "id": "30700523-fd37-4eaf-bd91-c65eaddc4a2b",
   "metadata": {},
   "outputs": [],
   "source": [
    "# remove rows that have all NAs\n",
    "data.dropna(how='all', inplace=True)"
   ]
  },
  {
   "cell_type": "code",
   "execution_count": 28,
   "id": "c3040734-519b-4aad-a3ba-bbc84afd549b",
   "metadata": {},
   "outputs": [
    {
     "name": "stdout",
     "output_type": "stream",
     "text": [
      "<class 'pandas.core.frame.DataFrame'>\n",
      "RangeIndex: 1227516 entries, 0 to 1227515\n",
      "Data columns (total 17 columns):\n",
      " #   Column                    Non-Null Count    Dtype  \n",
      "---  ------                    --------------    -----  \n",
      " 0   Report ID                 1227516 non-null  int64  \n",
      " 1   Arrest Date               1227516 non-null  object \n",
      " 2   Time                      1227321 non-null  float64\n",
      " 3   Area ID                   1227516 non-null  int64  \n",
      " 4   Area Name                 1227516 non-null  object \n",
      " 5   Reporting District        1227516 non-null  int64  \n",
      " 6   Age                       1227516 non-null  int64  \n",
      " 7   Sex Code                  1227516 non-null  object \n",
      " 8   Descent Code              1227516 non-null  object \n",
      " 9   Charge Group Code         1139950 non-null  float64\n",
      " 10  Charge Group Description  1139514 non-null  object \n",
      " 11  Arrest Type Code          1227516 non-null  object \n",
      " 12  Charge                    1227516 non-null  object \n",
      " 13  Charge Description        1139987 non-null  object \n",
      " 14  Address                   1227516 non-null  object \n",
      " 15  Cross Street              707334 non-null   object \n",
      " 16  Location                  1227516 non-null  object \n",
      "dtypes: float64(2), int64(4), object(11)\n",
      "memory usage: 159.2+ MB\n"
     ]
    }
   ],
   "source": [
    "data.info()"
   ]
  },
  {
   "cell_type": "markdown",
   "id": "4bedd18b",
   "metadata": {},
   "source": [
    "## Answering Questions"
   ]
  },
  {
   "cell_type": "markdown",
   "id": "54dea668",
   "metadata": {},
   "source": [
    "1. How many bookings of arrestees were made in 2018?"
   ]
  },
  {
   "cell_type": "code",
   "execution_count": 29,
   "id": "44ef2d2f",
   "metadata": {},
   "outputs": [
    {
     "name": "stdout",
     "output_type": "stream",
     "text": [
      "<class 'pandas.core.frame.DataFrame'>\n",
      "Index: 42380 entries, 165 to 1227515\n",
      "Data columns (total 17 columns):\n",
      " #   Column                    Non-Null Count  Dtype  \n",
      "---  ------                    --------------  -----  \n",
      " 0   Report ID                 42380 non-null  int64  \n",
      " 1   Arrest Date               42380 non-null  object \n",
      " 2   Time                      42373 non-null  float64\n",
      " 3   Area ID                   42380 non-null  int64  \n",
      " 4   Area Name                 42380 non-null  object \n",
      " 5   Reporting District        42380 non-null  int64  \n",
      " 6   Age                       42380 non-null  int64  \n",
      " 7   Sex Code                  42380 non-null  object \n",
      " 8   Descent Code              42380 non-null  object \n",
      " 9   Charge Group Code         30351 non-null  float64\n",
      " 10  Charge Group Description  30332 non-null  object \n",
      " 11  Arrest Type Code          42380 non-null  object \n",
      " 12  Charge                    42380 non-null  object \n",
      " 13  Charge Description        30351 non-null  object \n",
      " 14  Address                   42380 non-null  object \n",
      " 15  Cross Street              25835 non-null  object \n",
      " 16  Location                  42380 non-null  object \n",
      "dtypes: float64(2), int64(4), object(11)\n",
      "memory usage: 5.8+ MB\n"
     ]
    }
   ],
   "source": [
    "data_2018 = data.loc[data['Arrest Date'].str.contains('2018')]\n",
    "data_2018.info()"
   ]
  },
  {
   "cell_type": "code",
   "execution_count": 30,
   "id": "dab111cb",
   "metadata": {},
   "outputs": [
    {
     "data": {
      "text/plain": [
       "(42380, 17)"
      ]
     },
     "execution_count": 30,
     "metadata": {},
     "output_type": "execute_result"
    }
   ],
   "source": [
    "data_2018.shape"
   ]
  },
  {
   "cell_type": "code",
   "execution_count": 31,
   "id": "2e91d7c3",
   "metadata": {},
   "outputs": [
    {
     "name": "stdout",
     "output_type": "stream",
     "text": [
      "42380 bookings of arrestees were made in 2018\n"
     ]
    }
   ],
   "source": [
    "print(\"{} bookings of arrestees were made in 2018\".format(data_2018.shape[0]))"
   ]
  },
  {
   "cell_type": "code",
   "execution_count": null,
   "id": "ba55a688-6882-496b-ae94-b59bed86181e",
   "metadata": {},
   "outputs": [],
   "source": []
  },
  {
   "cell_type": "markdown",
   "id": "a2eab90f",
   "metadata": {},
   "source": [
    "2. How many bookings of arrestees were made in each area and which area has the most arrests in 2018?"
   ]
  },
  {
   "cell_type": "code",
   "execution_count": 32,
   "id": "a5ebc967-a7de-4352-be3c-c5ba0369131d",
   "metadata": {},
   "outputs": [
    {
     "data": {
      "text/plain": [
       "Area Name\n",
       "77th Street    1457\n",
       "dtype: int64"
      ]
     },
     "execution_count": 32,
     "metadata": {},
     "output_type": "execute_result"
    }
   ],
   "source": [
    "data_2018.groupby('Area Name').size().head(1)"
   ]
  },
  {
   "cell_type": "code",
   "execution_count": 33,
   "id": "3d5317f8",
   "metadata": {},
   "outputs": [
    {
     "name": "stdout",
     "output_type": "stream",
     "text": [
      "Central Area had the most arrest bookings in 2018\n"
     ]
    }
   ],
   "source": [
    "print(\"Central Area had the most arrest bookings in 2018\")"
   ]
  },
  {
   "cell_type": "code",
   "execution_count": 34,
   "id": "fcd5c555-3bb1-4039-8623-ec02ddc4649c",
   "metadata": {},
   "outputs": [
    {
     "data": {
      "text/plain": [
       "Index(['Report ID', 'Arrest Date', 'Time', 'Area ID', 'Area Name',\n",
       "       'Reporting District', 'Age', 'Sex Code', 'Descent Code',\n",
       "       'Charge Group Code', 'Charge Group Description', 'Arrest Type Code',\n",
       "       'Charge', 'Charge Description', 'Address', 'Cross Street', 'Location'],\n",
       "      dtype='object')"
      ]
     },
     "execution_count": 34,
     "metadata": {},
     "output_type": "execute_result"
    }
   ],
   "source": [
    "data.columns"
   ]
  },
  {
   "cell_type": "markdown",
   "id": "b23ae808",
   "metadata": {},
   "source": [
    "3. Find the average age of arrestees per each charge group."
   ]
  },
  {
   "cell_type": "code",
   "execution_count": 35,
   "id": "c9d7b41b",
   "metadata": {},
   "outputs": [
    {
     "data": {
      "text/plain": [
       "Charge Group Description\n",
       "Drunkeness                        41.956863\n",
       "Gambling                          41.912489\n",
       "Disorderly Conduct                40.849315\n",
       "Liquor Laws                       37.530658\n",
       "Sex (except rape/prst)            36.284655\n",
       "Against Family/Child              35.742242\n",
       "Fraud/Embezzlement                35.520080\n",
       "Narcotic Drug Laws                35.255864\n",
       "Driving Under Influence           34.390511\n",
       "Miscellaneous Other Violations    34.083950\n",
       "Federal Offenses                  33.971154\n",
       "Disturbing the Peace              33.680771\n",
       "Aggravated Assault                33.480600\n",
       "Rape                              33.203641\n",
       "Forgery/Counterfeit               33.043220\n",
       "Moving Traffic Violations         32.950922\n",
       "Other Assaults                    32.590187\n",
       "Larceny                           32.348620\n",
       "Receive Stolen Property           30.653504\n",
       "Prostitution/Allied               29.493825\n",
       "Homicide                          29.421997\n",
       "Vehicle Theft                     28.836739\n",
       "Burglary                          28.670600\n",
       "Weapon (carry/poss)               28.411530\n",
       "Robbery                           26.320423\n",
       "Pre-Delinquency                   15.479356\n",
       "Non-Criminal Detention             7.908450\n",
       "Name: Age, dtype: float64"
      ]
     },
     "execution_count": 35,
     "metadata": {},
     "output_type": "execute_result"
    }
   ],
   "source": [
    "data.groupby('Charge Group Description')['Age'].mean().sort_values(ascending=False)"
   ]
  },
  {
   "cell_type": "markdown",
   "id": "887ad380",
   "metadata": {},
   "source": [
    "a. Only consider data for 2018"
   ]
  },
  {
   "cell_type": "code",
   "execution_count": 36,
   "id": "ebaf5037",
   "metadata": {},
   "outputs": [
    {
     "data": {
      "text/plain": [
       "Charge Group Description\n",
       "Drunkeness                        44.219972\n",
       "Liquor Laws                       42.540955\n",
       "Disorderly Conduct                41.924290\n",
       "Gambling                          40.557047\n",
       "Disturbing the Peace              39.727273\n",
       "Against Family/Child              36.950355\n",
       "Sex (except rape/prst)            36.555838\n",
       "Miscellaneous Other Violations    36.252076\n",
       "Rape                              36.203704\n",
       "Narcotic Drug Laws                36.097954\n",
       "Fraud/Embezzlement                35.689076\n",
       "Forgery/Counterfeit               35.066667\n",
       "Federal Offenses                  34.600000\n",
       "Driving Under Influence           34.428291\n",
       "Aggravated Assault                33.907359\n",
       "Receive Stolen Property           33.687500\n",
       "Other Assaults                    33.451139\n",
       "Moving Traffic Violations         33.085622\n",
       "Larceny                           32.725796\n",
       "Prostitution/Allied               31.620470\n",
       "Homicide                          30.896552\n",
       "Burglary                          30.366755\n",
       "Vehicle Theft                     30.095624\n",
       "Weapon (carry/poss)               29.477178\n",
       "Robbery                           27.538739\n",
       "Pre-Delinquency                   15.407407\n",
       "Non-Criminal Detention             8.787234\n",
       "Name: Age, dtype: float64"
      ]
     },
     "execution_count": 36,
     "metadata": {},
     "output_type": "execute_result"
    }
   ],
   "source": [
    "data_2018.groupby('Charge Group Description')['Age'].mean().sort_values(ascending=False)"
   ]
  },
  {
   "cell_type": "markdown",
   "id": "7d492ffa",
   "metadata": {},
   "source": [
    "b. Do not consider \"Pre-Delinquency\" and \"Non-Criminal Detention\" as these charge groups are reserved for minors"
   ]
  },
  {
   "cell_type": "code",
   "execution_count": 37,
   "id": "a87c6f15",
   "metadata": {},
   "outputs": [
    {
     "data": {
      "text/plain": [
       "Charge Group Description\n",
       "Drunkeness                        41.956863\n",
       "Gambling                          41.912489\n",
       "Disorderly Conduct                40.849315\n",
       "Liquor Laws                       37.530658\n",
       "Sex (except rape/prst)            36.284655\n",
       "Against Family/Child              35.742242\n",
       "Fraud/Embezzlement                35.520080\n",
       "Narcotic Drug Laws                35.255864\n",
       "Driving Under Influence           34.390511\n",
       "Miscellaneous Other Violations    34.083950\n",
       "Federal Offenses                  33.971154\n",
       "Disturbing the Peace              33.680771\n",
       "Aggravated Assault                33.480600\n",
       "Rape                              33.203641\n",
       "Forgery/Counterfeit               33.043220\n",
       "Moving Traffic Violations         32.950922\n",
       "Other Assaults                    32.590187\n",
       "Larceny                           32.348620\n",
       "Receive Stolen Property           30.653504\n",
       "Prostitution/Allied               29.493825\n",
       "Homicide                          29.421997\n",
       "Vehicle Theft                     28.836739\n",
       "Burglary                          28.670600\n",
       "Weapon (carry/poss)               28.411530\n",
       "Robbery                           26.320423\n",
       "Name: Age, dtype: float64"
      ]
     },
     "execution_count": 37,
     "metadata": {},
     "output_type": "execute_result"
    }
   ],
   "source": [
    "non_minor_arrests = data.loc[~data['Charge Group Description'].isin(['Pre-Delinquency', 'Non-Criminal Detention'])]\n",
    "\n",
    "non_minor_arrests.groupby('Charge Group Description')['Age'].mean().sort_values(ascending=False)"
   ]
  },
  {
   "cell_type": "code",
   "execution_count": 38,
   "id": "77d22bc0-b158-41bd-96e0-4cbe919d8bd3",
   "metadata": {},
   "outputs": [
    {
     "data": {
      "text/plain": [
       "0                                Burglary\n",
       "1                                     NaN\n",
       "2                                 Larceny\n",
       "3                                 Robbery\n",
       "4                                Burglary\n",
       "                        ...              \n",
       "1227511                     Vehicle Theft\n",
       "1227512    Miscellaneous Other Violations\n",
       "1227513               Weapon (carry/poss)\n",
       "1227514               Weapon (carry/poss)\n",
       "1227515         Moving Traffic Violations\n",
       "Name: Charge Group Description, Length: 1208985, dtype: object"
      ]
     },
     "execution_count": 38,
     "metadata": {},
     "output_type": "execute_result"
    }
   ],
   "source": [
    "non_minor_arrests['Charge Group Description']"
   ]
  },
  {
   "cell_type": "code",
   "execution_count": 39,
   "id": "b7c86cf3-d198-40ef-82df-b04fd253f884",
   "metadata": {},
   "outputs": [
    {
     "data": {
      "text/html": [
       "<div>\n",
       "<style scoped>\n",
       "    .dataframe tbody tr th:only-of-type {\n",
       "        vertical-align: middle;\n",
       "    }\n",
       "\n",
       "    .dataframe tbody tr th {\n",
       "        vertical-align: top;\n",
       "    }\n",
       "\n",
       "    .dataframe thead th {\n",
       "        text-align: right;\n",
       "    }\n",
       "</style>\n",
       "<table border=\"1\" class=\"dataframe\">\n",
       "  <thead>\n",
       "    <tr style=\"text-align: right;\">\n",
       "      <th></th>\n",
       "      <th>Report ID</th>\n",
       "      <th>Arrest Date</th>\n",
       "      <th>Time</th>\n",
       "      <th>Area ID</th>\n",
       "      <th>Area Name</th>\n",
       "      <th>Reporting District</th>\n",
       "      <th>Age</th>\n",
       "      <th>Sex Code</th>\n",
       "      <th>Descent Code</th>\n",
       "      <th>Charge Group Code</th>\n",
       "      <th>Charge Group Description</th>\n",
       "      <th>Arrest Type Code</th>\n",
       "      <th>Charge</th>\n",
       "      <th>Charge Description</th>\n",
       "      <th>Address</th>\n",
       "      <th>Cross Street</th>\n",
       "      <th>Location</th>\n",
       "    </tr>\n",
       "  </thead>\n",
       "  <tbody>\n",
       "    <tr>\n",
       "      <th>165</th>\n",
       "      <td>5213460</td>\n",
       "      <td>01/24/2018</td>\n",
       "      <td>1930.0</td>\n",
       "      <td>6</td>\n",
       "      <td>Hollywood</td>\n",
       "      <td>668</td>\n",
       "      <td>29</td>\n",
       "      <td>M</td>\n",
       "      <td>H</td>\n",
       "      <td>10.0</td>\n",
       "      <td>Fraud/Embezzlement</td>\n",
       "      <td>F</td>\n",
       "      <td>530.5(A)PC</td>\n",
       "      <td>GET CREDIT/ETC OTHER'S ID</td>\n",
       "      <td>ST ANDREWS</td>\n",
       "      <td>FOUNTAIN</td>\n",
       "      <td>(34.0949, -118.3109)</td>\n",
       "    </tr>\n",
       "    <tr>\n",
       "      <th>166</th>\n",
       "      <td>5257944</td>\n",
       "      <td>03/15/2018</td>\n",
       "      <td>310.0</td>\n",
       "      <td>7</td>\n",
       "      <td>Wilshire</td>\n",
       "      <td>743</td>\n",
       "      <td>33</td>\n",
       "      <td>F</td>\n",
       "      <td>O</td>\n",
       "      <td>1.0</td>\n",
       "      <td>Homicide</td>\n",
       "      <td>F</td>\n",
       "      <td>191.5(B)PC</td>\n",
       "      <td>VEH MANSLAUGHTR/OPER VESSEL DUI &amp; DUR FEL</td>\n",
       "      <td>OLYMPIC</td>\n",
       "      <td>MASSELIN</td>\n",
       "      <td>(34.0574, -118.3547)</td>\n",
       "    </tr>\n",
       "    <tr>\n",
       "      <th>167</th>\n",
       "      <td>5328813</td>\n",
       "      <td>06/01/2018</td>\n",
       "      <td>1800.0</td>\n",
       "      <td>3</td>\n",
       "      <td>Southwest</td>\n",
       "      <td>356</td>\n",
       "      <td>44</td>\n",
       "      <td>F</td>\n",
       "      <td>B</td>\n",
       "      <td>16.0</td>\n",
       "      <td>Narcotic Drug Laws</td>\n",
       "      <td>F</td>\n",
       "      <td>11379(A)HS</td>\n",
       "      <td>TRANSPORT/SELL CONTROLLED SUBSTANCE</td>\n",
       "      <td>1600 W  36TH                         PL</td>\n",
       "      <td>NaN</td>\n",
       "      <td>(34.0219, -118.3061)</td>\n",
       "    </tr>\n",
       "    <tr>\n",
       "      <th>168</th>\n",
       "      <td>5336331</td>\n",
       "      <td>06/10/2018</td>\n",
       "      <td>200.0</td>\n",
       "      <td>13</td>\n",
       "      <td>Newton</td>\n",
       "      <td>1364</td>\n",
       "      <td>23</td>\n",
       "      <td>M</td>\n",
       "      <td>H</td>\n",
       "      <td>12.0</td>\n",
       "      <td>Weapon (carry/poss)</td>\n",
       "      <td>F</td>\n",
       "      <td>25400(A)2PC</td>\n",
       "      <td>CARRYING CONCEALED WEAPON UPON PERSON</td>\n",
       "      <td>1200 E  50TH                         ST</td>\n",
       "      <td>NaN</td>\n",
       "      <td>(33.998, -118.2543)</td>\n",
       "    </tr>\n",
       "    <tr>\n",
       "      <th>169</th>\n",
       "      <td>5360731</td>\n",
       "      <td>07/07/2018</td>\n",
       "      <td>2330.0</td>\n",
       "      <td>18</td>\n",
       "      <td>Southeast</td>\n",
       "      <td>1832</td>\n",
       "      <td>32</td>\n",
       "      <td>M</td>\n",
       "      <td>B</td>\n",
       "      <td>12.0</td>\n",
       "      <td>Weapon (carry/poss)</td>\n",
       "      <td>F</td>\n",
       "      <td>29800(A)1PC</td>\n",
       "      <td>POSS F/ARM BY CONVICTED FELON/ADDICT/ETC</td>\n",
       "      <td>10700 S  MAIN                         ST</td>\n",
       "      <td>NaN</td>\n",
       "      <td>(33.9392, -118.2739)</td>\n",
       "    </tr>\n",
       "  </tbody>\n",
       "</table>\n",
       "</div>"
      ],
      "text/plain": [
       "     Report ID Arrest Date    Time  Area ID  Area Name  Reporting District  \\\n",
       "165    5213460  01/24/2018  1930.0        6  Hollywood                 668   \n",
       "166    5257944  03/15/2018   310.0        7   Wilshire                 743   \n",
       "167    5328813  06/01/2018  1800.0        3  Southwest                 356   \n",
       "168    5336331  06/10/2018   200.0       13     Newton                1364   \n",
       "169    5360731  07/07/2018  2330.0       18  Southeast                1832   \n",
       "\n",
       "     Age Sex Code Descent Code  Charge Group Code Charge Group Description  \\\n",
       "165   29        M            H               10.0       Fraud/Embezzlement   \n",
       "166   33        F            O                1.0                 Homicide   \n",
       "167   44        F            B               16.0       Narcotic Drug Laws   \n",
       "168   23        M            H               12.0      Weapon (carry/poss)   \n",
       "169   32        M            B               12.0      Weapon (carry/poss)   \n",
       "\n",
       "    Arrest Type Code       Charge                         Charge Description  \\\n",
       "165                F   530.5(A)PC                  GET CREDIT/ETC OTHER'S ID   \n",
       "166                F   191.5(B)PC  VEH MANSLAUGHTR/OPER VESSEL DUI & DUR FEL   \n",
       "167                F   11379(A)HS        TRANSPORT/SELL CONTROLLED SUBSTANCE   \n",
       "168                F  25400(A)2PC      CARRYING CONCEALED WEAPON UPON PERSON   \n",
       "169                F  29800(A)1PC   POSS F/ARM BY CONVICTED FELON/ADDICT/ETC   \n",
       "\n",
       "                                      Address Cross Street  \\\n",
       "165                                ST ANDREWS     FOUNTAIN   \n",
       "166                                   OLYMPIC     MASSELIN   \n",
       "167   1600 W  36TH                         PL          NaN   \n",
       "168   1200 E  50TH                         ST          NaN   \n",
       "169  10700 S  MAIN                         ST          NaN   \n",
       "\n",
       "                 Location  \n",
       "165  (34.0949, -118.3109)  \n",
       "166  (34.0574, -118.3547)  \n",
       "167  (34.0219, -118.3061)  \n",
       "168   (33.998, -118.2543)  \n",
       "169  (33.9392, -118.2739)  "
      ]
     },
     "execution_count": 39,
     "metadata": {},
     "output_type": "execute_result"
    }
   ],
   "source": [
    "data_2018.head()"
   ]
  },
  {
   "cell_type": "code",
   "execution_count": 40,
   "id": "0e99e222-627a-4263-b089-eb025232a77f",
   "metadata": {},
   "outputs": [
    {
     "data": {
      "text/plain": [
       "Charge Group Description\n",
       "Against Family/Child              1356.815603\n",
       "Aggravated Assault                1278.700394\n",
       "Burglary                          1201.195251\n",
       "Disorderly Conduct                1207.030194\n",
       "Disturbing the Peace              1409.242424\n",
       "Driving Under Influence           1140.764244\n",
       "Drunkeness                        1530.434951\n",
       "Federal Offenses                  1545.000000\n",
       "Forgery/Counterfeit               1296.975000\n",
       "Fraud/Embezzlement                1404.613445\n",
       "Gambling                          1707.879195\n",
       "Homicide                          1095.275862\n",
       "Larceny                           1568.253576\n",
       "Liquor Laws                       1461.236316\n",
       "Miscellaneous Other Violations    1403.696778\n",
       "Moving Traffic Violations         1367.327948\n",
       "Narcotic Drug Laws                1381.889957\n",
       "Non-Criminal Detention            1329.042553\n",
       "Other Assaults                    1362.369581\n",
       "Pre-Delinquency                   1139.481481\n",
       "Prostitution/Allied               1431.339695\n",
       "Rape                              1315.592593\n",
       "Receive Stolen Property           1281.968750\n",
       "Robbery                           1392.513514\n",
       "Sex (except rape/prst)            1523.053299\n",
       "Vehicle Theft                     1298.267423\n",
       "Weapon (carry/poss)               1475.167358\n",
       "Name: Time, dtype: float64"
      ]
     },
     "execution_count": 40,
     "metadata": {},
     "output_type": "execute_result"
    }
   ],
   "source": [
    "data_2018.groupby('Charge Group Description')['Time'].mean()"
   ]
  },
  {
   "cell_type": "markdown",
   "id": "b2a23295",
   "metadata": {},
   "source": [
    "c. Exclude any arrests where the charge group description is not known"
   ]
  },
  {
   "cell_type": "code",
   "execution_count": 41,
   "id": "eb617b3a",
   "metadata": {},
   "outputs": [
    {
     "data": {
      "text/plain": [
       "Charge Group Description\n",
       "Drunkeness                   41.956863\n",
       "Gambling                     41.912489\n",
       "Disorderly Conduct           40.849315\n",
       "Liquor Laws                  37.530658\n",
       "Sex (except rape/prst)       36.284655\n",
       "Against Family/Child         35.742242\n",
       "Fraud/Embezzlement           35.520080\n",
       "Narcotic Drug Laws           35.255864\n",
       "Driving Under Influence      34.390511\n",
       "Federal Offenses             33.971154\n",
       "Disturbing the Peace         33.680771\n",
       "Aggravated Assault           33.480600\n",
       "Rape                         33.203641\n",
       "Forgery/Counterfeit          33.043220\n",
       "Moving Traffic Violations    32.950922\n",
       "Larceny                      32.348620\n",
       "Receive Stolen Property      30.653504\n",
       "Prostitution/Allied          29.493825\n",
       "Homicide                     29.421997\n",
       "Vehicle Theft                28.836739\n",
       "Burglary                     28.670600\n",
       "Weapon (carry/poss)          28.411530\n",
       "Robbery                      26.320423\n",
       "Pre-Delinquency              15.479356\n",
       "Non-Criminal Detention        7.908450\n",
       "Name: Age, dtype: float64"
      ]
     },
     "execution_count": 41,
     "metadata": {},
     "output_type": "execute_result"
    }
   ],
   "source": [
    "known_arrests = data.loc[~data['Charge Group Description'].isin(['Other Assaults', 'Miscellaneous Other Violations'])]\n",
    "\n",
    "known_arrests.groupby('Charge Group Description')['Age'].mean().sort_values(ascending=False)\n"
   ]
  },
  {
   "cell_type": "markdown",
   "id": "b31e2158",
   "metadata": {},
   "source": [
    "Question 3: Satisfying conditions for a, b and c"
   ]
  },
  {
   "cell_type": "code",
   "execution_count": 42,
   "id": "85fcb165",
   "metadata": {},
   "outputs": [
    {
     "data": {
      "text/plain": [
       "Charge Group Description\n",
       "Drunkeness                   44.219972\n",
       "Liquor Laws                  42.540955\n",
       "Disorderly Conduct           41.924290\n",
       "Gambling                     40.557047\n",
       "Disturbing the Peace         39.727273\n",
       "Against Family/Child         36.950355\n",
       "Sex (except rape/prst)       36.555838\n",
       "Rape                         36.203704\n",
       "Narcotic Drug Laws           36.097954\n",
       "Fraud/Embezzlement           35.689076\n",
       "Forgery/Counterfeit          35.066667\n",
       "Federal Offenses             34.600000\n",
       "Driving Under Influence      34.428291\n",
       "Aggravated Assault           33.907359\n",
       "Receive Stolen Property      33.687500\n",
       "Moving Traffic Violations    33.085622\n",
       "Larceny                      32.725796\n",
       "Prostitution/Allied          31.620470\n",
       "Homicide                     30.896552\n",
       "Burglary                     30.366755\n",
       "Vehicle Theft                30.095624\n",
       "Weapon (carry/poss)          29.477178\n",
       "Robbery                      27.538739\n",
       "Name: Age, dtype: float64"
      ]
     },
     "execution_count": 42,
     "metadata": {},
     "output_type": "execute_result"
    }
   ],
   "source": [
    "filter_arrests = data_2018.loc[~data_2018['Charge Group Description'].isin(['Pre-Delinquency', 'Non-Criminal Detention', 'Other Assaults','Miscellaneous Other Violations'])]\n",
    "\n",
    "filter_arrests.groupby('Charge Group Description')['Age'].mean().sort_values(ascending=False)"
   ]
  },
  {
   "cell_type": "markdown",
   "id": "0240b791",
   "metadata": {},
   "source": [
    "4. What is the 95% quantile of the age of the arrestee in 2018? Only consider the following charge groups for your analysis: 'Vehicle Theft', 'Robbery', 'Burglary', 'Receive Stolen Property'"
   ]
  },
  {
   "cell_type": "code",
   "execution_count": 43,
   "id": "2f1395c7",
   "metadata": {},
   "outputs": [
    {
     "data": {
      "text/plain": [
       "52.0"
      ]
     },
     "execution_count": 43,
     "metadata": {},
     "output_type": "execute_result"
    }
   ],
   "source": [
    "filter_arrests = data_2018.loc[data_2018['Charge Group Description'].isin(['Vehicle Theft', 'Robbery', 'Burglary', 'Receive Stolen Property'])]\n",
    "\n",
    "filter_arrests['Age'].quantile(0.95)"
   ]
  },
  {
   "cell_type": "markdown",
   "id": "fa8ca551",
   "metadata": {},
   "source": [
    "5. Crime arrest incidents have been dropping over the years. Using a linear regression for the data from 2010 and 2018 (inclusive), predict the number of crime arrests in 2019. Round to the nearest integer. Note, that the data set includes arrests for misdemeanor, felonies, etc."
   ]
  },
  {
   "cell_type": "code",
   "execution_count": 51,
   "id": "865e9fd8",
   "metadata": {},
   "outputs": [],
   "source": [
    "train_values = [\n",
    "    [\"2010\", data.loc[data['Arrest Date'].str.contains('2010')].shape[0]],\n",
    "    [\"2011\", data.loc[data['Arrest Date'].str.contains('2011')].shape[0]],\n",
    "    [\"2012\", data.loc[data['Arrest Date'].str.contains('2012')].shape[0]],\n",
    "    [\"2013\", data.loc[data['Arrest Date'].str.contains('2013')].shape[0]],\n",
    "    [\"2014\", data.loc[data['Arrest Date'].str.contains('2014')].shape[0]],\n",
    "    [\"2015\", data.loc[data['Arrest Date'].str.contains('2015')].shape[0]],\n",
    "    [\"2016\", data.loc[data['Arrest Date'].str.contains('2016')].shape[0]],\n",
    "    [\"2017\", data.loc[data['Arrest Date'].str.contains('2017')].shape[0]],\n",
    "    [\"2018\", data.loc[data['Arrest Date'].str.contains('2018')].shape[0]],\n",
    "]\n",
    "\n",
    "train_data = pd.DataFrame(train_values, columns=[\"Year\", \"Number of arrests\"])"
   ]
  },
  {
   "cell_type": "code",
   "execution_count": 52,
   "id": "c852113e",
   "metadata": {},
   "outputs": [
    {
     "data": {
      "text/html": [
       "<div>\n",
       "<style scoped>\n",
       "    .dataframe tbody tr th:only-of-type {\n",
       "        vertical-align: middle;\n",
       "    }\n",
       "\n",
       "    .dataframe tbody tr th {\n",
       "        vertical-align: top;\n",
       "    }\n",
       "\n",
       "    .dataframe thead th {\n",
       "        text-align: right;\n",
       "    }\n",
       "</style>\n",
       "<table border=\"1\" class=\"dataframe\">\n",
       "  <thead>\n",
       "    <tr style=\"text-align: right;\">\n",
       "      <th></th>\n",
       "      <th>Year</th>\n",
       "      <th>Number of arrests</th>\n",
       "    </tr>\n",
       "  </thead>\n",
       "  <tbody>\n",
       "    <tr>\n",
       "      <th>0</th>\n",
       "      <td>2010</td>\n",
       "      <td>162399</td>\n",
       "    </tr>\n",
       "    <tr>\n",
       "      <th>1</th>\n",
       "      <td>2011</td>\n",
       "      <td>157637</td>\n",
       "    </tr>\n",
       "    <tr>\n",
       "      <th>2</th>\n",
       "      <td>2012</td>\n",
       "      <td>163313</td>\n",
       "    </tr>\n",
       "    <tr>\n",
       "      <th>3</th>\n",
       "      <td>2013</td>\n",
       "      <td>152671</td>\n",
       "    </tr>\n",
       "    <tr>\n",
       "      <th>4</th>\n",
       "      <td>2014</td>\n",
       "      <td>139379</td>\n",
       "    </tr>\n",
       "    <tr>\n",
       "      <th>5</th>\n",
       "      <td>2015</td>\n",
       "      <td>126154</td>\n",
       "    </tr>\n",
       "    <tr>\n",
       "      <th>6</th>\n",
       "      <td>2016</td>\n",
       "      <td>118125</td>\n",
       "    </tr>\n",
       "    <tr>\n",
       "      <th>7</th>\n",
       "      <td>2017</td>\n",
       "      <td>107647</td>\n",
       "    </tr>\n",
       "    <tr>\n",
       "      <th>8</th>\n",
       "      <td>2018</td>\n",
       "      <td>42380</td>\n",
       "    </tr>\n",
       "  </tbody>\n",
       "</table>\n",
       "</div>"
      ],
      "text/plain": [
       "   Year  Number of arrests\n",
       "0  2010             162399\n",
       "1  2011             157637\n",
       "2  2012             163313\n",
       "3  2013             152671\n",
       "4  2014             139379\n",
       "5  2015             126154\n",
       "6  2016             118125\n",
       "7  2017             107647\n",
       "8  2018              42380"
      ]
     },
     "execution_count": 52,
     "metadata": {},
     "output_type": "execute_result"
    }
   ],
   "source": [
    "train_data"
   ]
  },
  {
   "cell_type": "code",
   "execution_count": 49,
   "id": "d9b3ee9f",
   "metadata": {},
   "outputs": [],
   "source": [
    "test_values = [[\"2019\", data.loc[data['Arrest Date'].str.contains('2019')].shape[0]]]\n",
    "test_data = pd.DataFrame(test_values, columns=[\"Year\", \"Number of arrests\"])"
   ]
  },
  {
   "cell_type": "code",
   "execution_count": 50,
   "id": "601321ae",
   "metadata": {},
   "outputs": [
    {
     "data": {
      "text/html": [
       "<div>\n",
       "<style scoped>\n",
       "    .dataframe tbody tr th:only-of-type {\n",
       "        vertical-align: middle;\n",
       "    }\n",
       "\n",
       "    .dataframe tbody tr th {\n",
       "        vertical-align: top;\n",
       "    }\n",
       "\n",
       "    .dataframe thead th {\n",
       "        text-align: right;\n",
       "    }\n",
       "</style>\n",
       "<table border=\"1\" class=\"dataframe\">\n",
       "  <thead>\n",
       "    <tr style=\"text-align: right;\">\n",
       "      <th></th>\n",
       "      <th>Year</th>\n",
       "      <th>Number of arrests</th>\n",
       "    </tr>\n",
       "  </thead>\n",
       "  <tbody>\n",
       "    <tr>\n",
       "      <th>0</th>\n",
       "      <td>2019</td>\n",
       "      <td>57811</td>\n",
       "    </tr>\n",
       "  </tbody>\n",
       "</table>\n",
       "</div>"
      ],
      "text/plain": [
       "   Year  Number of arrests\n",
       "0  2019              57811"
      ]
     },
     "execution_count": 50,
     "metadata": {},
     "output_type": "execute_result"
    }
   ],
   "source": [
    "test_data"
   ]
  },
  {
   "cell_type": "code",
   "execution_count": 53,
   "id": "f2e382fd",
   "metadata": {},
   "outputs": [],
   "source": [
    "from sklearn.linear_model import LinearRegression\n",
    "\n",
    "model = LinearRegression()\n",
    "\n",
    "x = train_data['Year'].values.reshape(-1, 1)\n",
    "y = train_data['Number of arrests'].values.reshape(-1, 1)"
   ]
  },
  {
   "cell_type": "code",
   "execution_count": 56,
   "id": "6bf43df7",
   "metadata": {},
   "outputs": [
    {
     "data": {
      "text/plain": [
       "array([['2010'],\n",
       "       ['2011'],\n",
       "       ['2012'],\n",
       "       ['2013'],\n",
       "       ['2014'],\n",
       "       ['2015'],\n",
       "       ['2016'],\n",
       "       ['2017'],\n",
       "       ['2018']], dtype=object)"
      ]
     },
     "execution_count": 56,
     "metadata": {},
     "output_type": "execute_result"
    }
   ],
   "source": [
    "x"
   ]
  },
  {
   "cell_type": "code",
   "execution_count": 57,
   "id": "0fe7558c",
   "metadata": {},
   "outputs": [
    {
     "data": {
      "text/plain": [
       "array([[162399],\n",
       "       [157637],\n",
       "       [163313],\n",
       "       [152671],\n",
       "       [139379],\n",
       "       [126154],\n",
       "       [118125],\n",
       "       [107647],\n",
       "       [ 42380]])"
      ]
     },
     "execution_count": 57,
     "metadata": {},
     "output_type": "execute_result"
    }
   ],
   "source": [
    "y"
   ]
  },
  {
   "cell_type": "code",
   "execution_count": 58,
   "id": "0b2e9b3a",
   "metadata": {},
   "outputs": [
    {
     "data": {
      "text/html": [
       "<style>#sk-container-id-1 {color: black;}#sk-container-id-1 pre{padding: 0;}#sk-container-id-1 div.sk-toggleable {background-color: white;}#sk-container-id-1 label.sk-toggleable__label {cursor: pointer;display: block;width: 100%;margin-bottom: 0;padding: 0.3em;box-sizing: border-box;text-align: center;}#sk-container-id-1 label.sk-toggleable__label-arrow:before {content: \"▸\";float: left;margin-right: 0.25em;color: #696969;}#sk-container-id-1 label.sk-toggleable__label-arrow:hover:before {color: black;}#sk-container-id-1 div.sk-estimator:hover label.sk-toggleable__label-arrow:before {color: black;}#sk-container-id-1 div.sk-toggleable__content {max-height: 0;max-width: 0;overflow: hidden;text-align: left;background-color: #f0f8ff;}#sk-container-id-1 div.sk-toggleable__content pre {margin: 0.2em;color: black;border-radius: 0.25em;background-color: #f0f8ff;}#sk-container-id-1 input.sk-toggleable__control:checked~div.sk-toggleable__content {max-height: 200px;max-width: 100%;overflow: auto;}#sk-container-id-1 input.sk-toggleable__control:checked~label.sk-toggleable__label-arrow:before {content: \"▾\";}#sk-container-id-1 div.sk-estimator input.sk-toggleable__control:checked~label.sk-toggleable__label {background-color: #d4ebff;}#sk-container-id-1 div.sk-label input.sk-toggleable__control:checked~label.sk-toggleable__label {background-color: #d4ebff;}#sk-container-id-1 input.sk-hidden--visually {border: 0;clip: rect(1px 1px 1px 1px);clip: rect(1px, 1px, 1px, 1px);height: 1px;margin: -1px;overflow: hidden;padding: 0;position: absolute;width: 1px;}#sk-container-id-1 div.sk-estimator {font-family: monospace;background-color: #f0f8ff;border: 1px dotted black;border-radius: 0.25em;box-sizing: border-box;margin-bottom: 0.5em;}#sk-container-id-1 div.sk-estimator:hover {background-color: #d4ebff;}#sk-container-id-1 div.sk-parallel-item::after {content: \"\";width: 100%;border-bottom: 1px solid gray;flex-grow: 1;}#sk-container-id-1 div.sk-label:hover label.sk-toggleable__label {background-color: #d4ebff;}#sk-container-id-1 div.sk-serial::before {content: \"\";position: absolute;border-left: 1px solid gray;box-sizing: border-box;top: 0;bottom: 0;left: 50%;z-index: 0;}#sk-container-id-1 div.sk-serial {display: flex;flex-direction: column;align-items: center;background-color: white;padding-right: 0.2em;padding-left: 0.2em;position: relative;}#sk-container-id-1 div.sk-item {position: relative;z-index: 1;}#sk-container-id-1 div.sk-parallel {display: flex;align-items: stretch;justify-content: center;background-color: white;position: relative;}#sk-container-id-1 div.sk-item::before, #sk-container-id-1 div.sk-parallel-item::before {content: \"\";position: absolute;border-left: 1px solid gray;box-sizing: border-box;top: 0;bottom: 0;left: 50%;z-index: -1;}#sk-container-id-1 div.sk-parallel-item {display: flex;flex-direction: column;z-index: 1;position: relative;background-color: white;}#sk-container-id-1 div.sk-parallel-item:first-child::after {align-self: flex-end;width: 50%;}#sk-container-id-1 div.sk-parallel-item:last-child::after {align-self: flex-start;width: 50%;}#sk-container-id-1 div.sk-parallel-item:only-child::after {width: 0;}#sk-container-id-1 div.sk-dashed-wrapped {border: 1px dashed gray;margin: 0 0.4em 0.5em 0.4em;box-sizing: border-box;padding-bottom: 0.4em;background-color: white;}#sk-container-id-1 div.sk-label label {font-family: monospace;font-weight: bold;display: inline-block;line-height: 1.2em;}#sk-container-id-1 div.sk-label-container {text-align: center;}#sk-container-id-1 div.sk-container {/* jupyter's `normalize.less` sets `[hidden] { display: none; }` but bootstrap.min.css set `[hidden] { display: none !important; }` so we also need the `!important` here to be able to override the default hidden behavior on the sphinx rendered scikit-learn.org. See: https://github.com/scikit-learn/scikit-learn/issues/21755 */display: inline-block !important;position: relative;}#sk-container-id-1 div.sk-text-repr-fallback {display: none;}</style><div id=\"sk-container-id-1\" class=\"sk-top-container\"><div class=\"sk-text-repr-fallback\"><pre>LinearRegression()</pre><b>In a Jupyter environment, please rerun this cell to show the HTML representation or trust the notebook. <br />On GitHub, the HTML representation is unable to render, please try loading this page with nbviewer.org.</b></div><div class=\"sk-container\" hidden><div class=\"sk-item\"><div class=\"sk-estimator sk-toggleable\"><input class=\"sk-toggleable__control sk-hidden--visually\" id=\"sk-estimator-id-1\" type=\"checkbox\" checked><label for=\"sk-estimator-id-1\" class=\"sk-toggleable__label sk-toggleable__label-arrow\">LinearRegression</label><div class=\"sk-toggleable__content\"><pre>LinearRegression()</pre></div></div></div></div></div>"
      ],
      "text/plain": [
       "LinearRegression()"
      ]
     },
     "execution_count": 58,
     "metadata": {},
     "output_type": "execute_result"
    }
   ],
   "source": [
    "model.fit(x, y)"
   ]
  },
  {
   "cell_type": "code",
   "execution_count": 60,
   "id": "82445bbd",
   "metadata": {},
   "outputs": [],
   "source": [
    "# test the model\n",
    "x_test = test_data['Year'].values.reshape(-1, 1)\n",
    "y_test = test_data['Number of arrests'].values.reshape(-1, 1)\n",
    "\n",
    "y_pred = model.predict(x_test)"
   ]
  },
  {
   "cell_type": "code",
   "execution_count": 70,
   "id": "9aca2e2b",
   "metadata": {},
   "outputs": [
    {
     "name": "stdout",
     "output_type": "stream",
     "text": [
      "Predicted number of arrests in 2019 using linear regression: 67722\n",
      "Actual number of arrests in 2019: 57811\n"
     ]
    }
   ],
   "source": [
    "print(\"Predicted number of arrests in 2019 using linear regression: {}\".format(round(y_pred[0][0])))\n",
    "print(\"Actual number of arrests in 2019: {}\".format(y_test[0][0]))"
   ]
  },
  {
   "cell_type": "code",
   "execution_count": 63,
   "id": "83c39e63",
   "metadata": {},
   "outputs": [
    {
     "data": {
      "text/plain": [
       "0    57811\n",
       "Name: Number of arrests, dtype: int64"
      ]
     },
     "execution_count": 63,
     "metadata": {},
     "output_type": "execute_result"
    }
   ],
   "source": [
    "test_data['Number of arrests']"
   ]
  },
  {
   "cell_type": "code",
   "execution_count": 64,
   "id": "acfde0c2",
   "metadata": {},
   "outputs": [
    {
     "name": "stderr",
     "output_type": "stream",
     "text": [
      "/home/hesed/.local/lib/python3.11/site-packages/sklearn/base.py:1151: DataConversionWarning: A column-vector y was passed when a 1d array was expected. Please change the shape of y to (n_samples,), for example using ravel().\n",
      "  return fit_method(estimator, *args, **kwargs)\n"
     ]
    },
    {
     "data": {
      "text/html": [
       "<style>#sk-container-id-2 {color: black;}#sk-container-id-2 pre{padding: 0;}#sk-container-id-2 div.sk-toggleable {background-color: white;}#sk-container-id-2 label.sk-toggleable__label {cursor: pointer;display: block;width: 100%;margin-bottom: 0;padding: 0.3em;box-sizing: border-box;text-align: center;}#sk-container-id-2 label.sk-toggleable__label-arrow:before {content: \"▸\";float: left;margin-right: 0.25em;color: #696969;}#sk-container-id-2 label.sk-toggleable__label-arrow:hover:before {color: black;}#sk-container-id-2 div.sk-estimator:hover label.sk-toggleable__label-arrow:before {color: black;}#sk-container-id-2 div.sk-toggleable__content {max-height: 0;max-width: 0;overflow: hidden;text-align: left;background-color: #f0f8ff;}#sk-container-id-2 div.sk-toggleable__content pre {margin: 0.2em;color: black;border-radius: 0.25em;background-color: #f0f8ff;}#sk-container-id-2 input.sk-toggleable__control:checked~div.sk-toggleable__content {max-height: 200px;max-width: 100%;overflow: auto;}#sk-container-id-2 input.sk-toggleable__control:checked~label.sk-toggleable__label-arrow:before {content: \"▾\";}#sk-container-id-2 div.sk-estimator input.sk-toggleable__control:checked~label.sk-toggleable__label {background-color: #d4ebff;}#sk-container-id-2 div.sk-label input.sk-toggleable__control:checked~label.sk-toggleable__label {background-color: #d4ebff;}#sk-container-id-2 input.sk-hidden--visually {border: 0;clip: rect(1px 1px 1px 1px);clip: rect(1px, 1px, 1px, 1px);height: 1px;margin: -1px;overflow: hidden;padding: 0;position: absolute;width: 1px;}#sk-container-id-2 div.sk-estimator {font-family: monospace;background-color: #f0f8ff;border: 1px dotted black;border-radius: 0.25em;box-sizing: border-box;margin-bottom: 0.5em;}#sk-container-id-2 div.sk-estimator:hover {background-color: #d4ebff;}#sk-container-id-2 div.sk-parallel-item::after {content: \"\";width: 100%;border-bottom: 1px solid gray;flex-grow: 1;}#sk-container-id-2 div.sk-label:hover label.sk-toggleable__label {background-color: #d4ebff;}#sk-container-id-2 div.sk-serial::before {content: \"\";position: absolute;border-left: 1px solid gray;box-sizing: border-box;top: 0;bottom: 0;left: 50%;z-index: 0;}#sk-container-id-2 div.sk-serial {display: flex;flex-direction: column;align-items: center;background-color: white;padding-right: 0.2em;padding-left: 0.2em;position: relative;}#sk-container-id-2 div.sk-item {position: relative;z-index: 1;}#sk-container-id-2 div.sk-parallel {display: flex;align-items: stretch;justify-content: center;background-color: white;position: relative;}#sk-container-id-2 div.sk-item::before, #sk-container-id-2 div.sk-parallel-item::before {content: \"\";position: absolute;border-left: 1px solid gray;box-sizing: border-box;top: 0;bottom: 0;left: 50%;z-index: -1;}#sk-container-id-2 div.sk-parallel-item {display: flex;flex-direction: column;z-index: 1;position: relative;background-color: white;}#sk-container-id-2 div.sk-parallel-item:first-child::after {align-self: flex-end;width: 50%;}#sk-container-id-2 div.sk-parallel-item:last-child::after {align-self: flex-start;width: 50%;}#sk-container-id-2 div.sk-parallel-item:only-child::after {width: 0;}#sk-container-id-2 div.sk-dashed-wrapped {border: 1px dashed gray;margin: 0 0.4em 0.5em 0.4em;box-sizing: border-box;padding-bottom: 0.4em;background-color: white;}#sk-container-id-2 div.sk-label label {font-family: monospace;font-weight: bold;display: inline-block;line-height: 1.2em;}#sk-container-id-2 div.sk-label-container {text-align: center;}#sk-container-id-2 div.sk-container {/* jupyter's `normalize.less` sets `[hidden] { display: none; }` but bootstrap.min.css set `[hidden] { display: none !important; }` so we also need the `!important` here to be able to override the default hidden behavior on the sphinx rendered scikit-learn.org. See: https://github.com/scikit-learn/scikit-learn/issues/21755 */display: inline-block !important;position: relative;}#sk-container-id-2 div.sk-text-repr-fallback {display: none;}</style><div id=\"sk-container-id-2\" class=\"sk-top-container\"><div class=\"sk-text-repr-fallback\"><pre>RandomForestRegressor(n_estimators=1000, random_state=42)</pre><b>In a Jupyter environment, please rerun this cell to show the HTML representation or trust the notebook. <br />On GitHub, the HTML representation is unable to render, please try loading this page with nbviewer.org.</b></div><div class=\"sk-container\" hidden><div class=\"sk-item\"><div class=\"sk-estimator sk-toggleable\"><input class=\"sk-toggleable__control sk-hidden--visually\" id=\"sk-estimator-id-2\" type=\"checkbox\" checked><label for=\"sk-estimator-id-2\" class=\"sk-toggleable__label sk-toggleable__label-arrow\">RandomForestRegressor</label><div class=\"sk-toggleable__content\"><pre>RandomForestRegressor(n_estimators=1000, random_state=42)</pre></div></div></div></div></div>"
      ],
      "text/plain": [
       "RandomForestRegressor(n_estimators=1000, random_state=42)"
      ]
     },
     "execution_count": 64,
     "metadata": {},
     "output_type": "execute_result"
    }
   ],
   "source": [
    "# use random forest regressor to train the model\n",
    "from sklearn.ensemble import RandomForestRegressor\n",
    "\n",
    "rf = RandomForestRegressor(n_estimators=1000, random_state=42)\n",
    "rf.fit(x, y)"
   ]
  },
  {
   "cell_type": "code",
   "execution_count": 65,
   "id": "12204b62",
   "metadata": {},
   "outputs": [],
   "source": [
    "rf_pred = rf.predict(x_test)"
   ]
  },
  {
   "cell_type": "code",
   "execution_count": 78,
   "id": "4806a773",
   "metadata": {},
   "outputs": [
    {
     "name": "stdout",
     "output_type": "stream",
     "text": [
      "Predicted number of arrests in 2019 using random forest regressor: 66078\n",
      "Actual number of arrests in 2019: 57811\n"
     ]
    }
   ],
   "source": [
    "print(\"Predicted number of arrests in 2019 using random forest regressor: {}\".format(round(rf_pred[0])))\n",
    "print(\"Actual number of arrests in 2019: {}\".format(y_test[0][0]))"
   ]
  }
 ],
 "metadata": {
  "kernelspec": {
   "display_name": "Python 3 (ipykernel)",
   "language": "python",
   "name": "python3"
  },
  "language_info": {
   "codemirror_mode": {
    "name": "ipython",
    "version": 3
   },
   "file_extension": ".py",
   "mimetype": "text/x-python",
   "name": "python",
   "nbconvert_exporter": "python",
   "pygments_lexer": "ipython3",
   "version": "3.11.5"
  }
 },
 "nbformat": 4,
 "nbformat_minor": 5
}
