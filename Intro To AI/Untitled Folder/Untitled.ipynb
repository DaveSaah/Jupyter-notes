{
 "cells": [
  {
   "cell_type": "markdown",
   "id": "0cb0ab21",
   "metadata": {},
   "source": [
    "## Importing Dataset"
   ]
  },
  {
   "cell_type": "code",
   "execution_count": 40,
   "id": "315a7b5c-17e6-4805-aff1-bc70c4936c1e",
   "metadata": {},
   "outputs": [],
   "source": [
    "import pandas as pd\n",
    "\n",
    "data = pd.read_csv('./Arrest_Data_from_2010_to_Present.csv', nrows=1227516)"
   ]
  },
  {
   "cell_type": "markdown",
   "id": "ae8a6c2b",
   "metadata": {},
   "source": [
    "### Analysing and Cleaning the Data"
   ]
  },
  {
   "cell_type": "code",
   "execution_count": 41,
   "id": "5dd789e9-7cc1-4388-834b-6aa4ea2aa9ea",
   "metadata": {},
   "outputs": [
    {
     "data": {
      "text/html": [
       "<div>\n",
       "<style scoped>\n",
       "    .dataframe tbody tr th:only-of-type {\n",
       "        vertical-align: middle;\n",
       "    }\n",
       "\n",
       "    .dataframe tbody tr th {\n",
       "        vertical-align: top;\n",
       "    }\n",
       "\n",
       "    .dataframe thead th {\n",
       "        text-align: right;\n",
       "    }\n",
       "</style>\n",
       "<table border=\"1\" class=\"dataframe\">\n",
       "  <thead>\n",
       "    <tr style=\"text-align: right;\">\n",
       "      <th></th>\n",
       "      <th>Report ID</th>\n",
       "      <th>Arrest Date</th>\n",
       "      <th>Time</th>\n",
       "      <th>Area ID</th>\n",
       "      <th>Area Name</th>\n",
       "      <th>Reporting District</th>\n",
       "      <th>Age</th>\n",
       "      <th>Sex Code</th>\n",
       "      <th>Descent Code</th>\n",
       "      <th>Charge Group Code</th>\n",
       "      <th>Charge Group Description</th>\n",
       "      <th>Arrest Type Code</th>\n",
       "      <th>Charge</th>\n",
       "      <th>Charge Description</th>\n",
       "      <th>Address</th>\n",
       "      <th>Cross Street</th>\n",
       "      <th>Location</th>\n",
       "    </tr>\n",
       "  </thead>\n",
       "  <tbody>\n",
       "    <tr>\n",
       "      <th>0</th>\n",
       "      <td>4248313</td>\n",
       "      <td>02/24/2015</td>\n",
       "      <td>1310.0</td>\n",
       "      <td>20</td>\n",
       "      <td>Olympic</td>\n",
       "      <td>2022</td>\n",
       "      <td>37</td>\n",
       "      <td>M</td>\n",
       "      <td>H</td>\n",
       "      <td>5.0</td>\n",
       "      <td>Burglary</td>\n",
       "      <td>F</td>\n",
       "      <td>459PC</td>\n",
       "      <td>BURGLARY</td>\n",
       "      <td>5TH</td>\n",
       "      <td>WILTON</td>\n",
       "      <td>(34.0653, -118.314)</td>\n",
       "    </tr>\n",
       "    <tr>\n",
       "      <th>1</th>\n",
       "      <td>191811472</td>\n",
       "      <td>05/03/2019</td>\n",
       "      <td>1700.0</td>\n",
       "      <td>18</td>\n",
       "      <td>Southeast</td>\n",
       "      <td>1802</td>\n",
       "      <td>23</td>\n",
       "      <td>F</td>\n",
       "      <td>B</td>\n",
       "      <td>NaN</td>\n",
       "      <td>NaN</td>\n",
       "      <td>M</td>\n",
       "      <td>653.22 PC</td>\n",
       "      <td>NaN</td>\n",
       "      <td>91ST</td>\n",
       "      <td>FIGUEROA</td>\n",
       "      <td>(33.9543, -118.2827)</td>\n",
       "    </tr>\n",
       "    <tr>\n",
       "      <th>2</th>\n",
       "      <td>4254777</td>\n",
       "      <td>02/26/2015</td>\n",
       "      <td>2010.0</td>\n",
       "      <td>19</td>\n",
       "      <td>Mission</td>\n",
       "      <td>1985</td>\n",
       "      <td>22</td>\n",
       "      <td>M</td>\n",
       "      <td>H</td>\n",
       "      <td>6.0</td>\n",
       "      <td>Larceny</td>\n",
       "      <td>M</td>\n",
       "      <td>459.5PC</td>\n",
       "      <td>SHOPLIFTING</td>\n",
       "      <td>8300    VAN NUYS                     BL</td>\n",
       "      <td>NaN</td>\n",
       "      <td>(34.2216, -118.4488)</td>\n",
       "    </tr>\n",
       "    <tr>\n",
       "      <th>3</th>\n",
       "      <td>5614161</td>\n",
       "      <td>04/29/2019</td>\n",
       "      <td>1040.0</td>\n",
       "      <td>8</td>\n",
       "      <td>West LA</td>\n",
       "      <td>842</td>\n",
       "      <td>41</td>\n",
       "      <td>M</td>\n",
       "      <td>H</td>\n",
       "      <td>3.0</td>\n",
       "      <td>Robbery</td>\n",
       "      <td>F</td>\n",
       "      <td>211PC</td>\n",
       "      <td>ROBBERY</td>\n",
       "      <td>11600    WILSHIRE                     BL</td>\n",
       "      <td>NaN</td>\n",
       "      <td>(34.0508, -118.4592)</td>\n",
       "    </tr>\n",
       "    <tr>\n",
       "      <th>4</th>\n",
       "      <td>5615197</td>\n",
       "      <td>04/30/2019</td>\n",
       "      <td>615.0</td>\n",
       "      <td>6</td>\n",
       "      <td>Hollywood</td>\n",
       "      <td>663</td>\n",
       "      <td>27</td>\n",
       "      <td>M</td>\n",
       "      <td>O</td>\n",
       "      <td>5.0</td>\n",
       "      <td>Burglary</td>\n",
       "      <td>F</td>\n",
       "      <td>459PC</td>\n",
       "      <td>BURGLARY</td>\n",
       "      <td>LA BREA</td>\n",
       "      <td>LEXINGTON</td>\n",
       "      <td>(34.0907, -118.3384)</td>\n",
       "    </tr>\n",
       "  </tbody>\n",
       "</table>\n",
       "</div>"
      ],
      "text/plain": [
       "   Report ID Arrest Date    Time  Area ID  Area Name  Reporting District  Age  \\\n",
       "0    4248313  02/24/2015  1310.0       20    Olympic                2022   37   \n",
       "1  191811472  05/03/2019  1700.0       18  Southeast                1802   23   \n",
       "2    4254777  02/26/2015  2010.0       19    Mission                1985   22   \n",
       "3    5614161  04/29/2019  1040.0        8    West LA                 842   41   \n",
       "4    5615197  04/30/2019   615.0        6  Hollywood                 663   27   \n",
       "\n",
       "  Sex Code Descent Code  Charge Group Code Charge Group Description  \\\n",
       "0        M            H                5.0                 Burglary   \n",
       "1        F            B                NaN                      NaN   \n",
       "2        M            H                6.0                  Larceny   \n",
       "3        M            H                3.0                  Robbery   \n",
       "4        M            O                5.0                 Burglary   \n",
       "\n",
       "  Arrest Type Code     Charge Charge Description  \\\n",
       "0                F      459PC           BURGLARY   \n",
       "1                M  653.22 PC                NaN   \n",
       "2                M    459.5PC        SHOPLIFTING   \n",
       "3                F      211PC            ROBBERY   \n",
       "4                F      459PC           BURGLARY   \n",
       "\n",
       "                                    Address Cross Street              Location  \n",
       "0                                       5TH       WILTON   (34.0653, -118.314)  \n",
       "1                                      91ST     FIGUEROA  (33.9543, -118.2827)  \n",
       "2   8300    VAN NUYS                     BL          NaN  (34.2216, -118.4488)  \n",
       "3  11600    WILSHIRE                     BL          NaN  (34.0508, -118.4592)  \n",
       "4                                   LA BREA    LEXINGTON  (34.0907, -118.3384)  "
      ]
     },
     "execution_count": 41,
     "metadata": {},
     "output_type": "execute_result"
    }
   ],
   "source": [
    "data.head()"
   ]
  },
  {
   "cell_type": "code",
   "execution_count": 42,
   "id": "577cec91",
   "metadata": {},
   "outputs": [
    {
     "name": "stdout",
     "output_type": "stream",
     "text": [
      "<class 'pandas.core.frame.DataFrame'>\n",
      "RangeIndex: 1227516 entries, 0 to 1227515\n",
      "Data columns (total 17 columns):\n",
      " #   Column                    Non-Null Count    Dtype  \n",
      "---  ------                    --------------    -----  \n",
      " 0   Report ID                 1227516 non-null  int64  \n",
      " 1   Arrest Date               1227516 non-null  object \n",
      " 2   Time                      1227321 non-null  float64\n",
      " 3   Area ID                   1227516 non-null  int64  \n",
      " 4   Area Name                 1227516 non-null  object \n",
      " 5   Reporting District        1227516 non-null  int64  \n",
      " 6   Age                       1227516 non-null  int64  \n",
      " 7   Sex Code                  1227516 non-null  object \n",
      " 8   Descent Code              1227516 non-null  object \n",
      " 9   Charge Group Code         1139950 non-null  float64\n",
      " 10  Charge Group Description  1139514 non-null  object \n",
      " 11  Arrest Type Code          1227516 non-null  object \n",
      " 12  Charge                    1227516 non-null  object \n",
      " 13  Charge Description        1139987 non-null  object \n",
      " 14  Address                   1227516 non-null  object \n",
      " 15  Cross Street              707334 non-null   object \n",
      " 16  Location                  1227516 non-null  object \n",
      "dtypes: float64(2), int64(4), object(11)\n",
      "memory usage: 159.2+ MB\n"
     ]
    }
   ],
   "source": [
    "data.info()"
   ]
  },
  {
   "cell_type": "code",
   "execution_count": 25,
   "id": "30700523-fd37-4eaf-bd91-c65eaddc4a2b",
   "metadata": {},
   "outputs": [],
   "source": [
    "# remove rows that have all NAs\n",
    "data.dropna(how='all', inplace=True)"
   ]
  },
  {
   "cell_type": "code",
   "execution_count": 26,
   "id": "c3040734-519b-4aad-a3ba-bbc84afd549b",
   "metadata": {},
   "outputs": [
    {
     "name": "stdout",
     "output_type": "stream",
     "text": [
      "<class 'pandas.core.frame.DataFrame'>\n",
      "RangeIndex: 1227516 entries, 0 to 1227515\n",
      "Data columns (total 17 columns):\n",
      " #   Column                    Non-Null Count    Dtype  \n",
      "---  ------                    --------------    -----  \n",
      " 0   Report ID                 1227516 non-null  int64  \n",
      " 1   Arrest Date               1227516 non-null  object \n",
      " 2   Time                      1227321 non-null  float64\n",
      " 3   Area ID                   1227516 non-null  int64  \n",
      " 4   Area Name                 1227516 non-null  object \n",
      " 5   Reporting District        1227516 non-null  int64  \n",
      " 6   Age                       1227516 non-null  int64  \n",
      " 7   Sex Code                  1227516 non-null  object \n",
      " 8   Descent Code              1227516 non-null  object \n",
      " 9   Charge Group Code         1139950 non-null  float64\n",
      " 10  Charge Group Description  1139514 non-null  object \n",
      " 11  Arrest Type Code          1227516 non-null  object \n",
      " 12  Charge                    1227516 non-null  object \n",
      " 13  Charge Description        1139987 non-null  object \n",
      " 14  Address                   1227516 non-null  object \n",
      " 15  Cross Street              707334 non-null   object \n",
      " 16  Location                  1227516 non-null  object \n",
      "dtypes: float64(2), int64(4), object(11)\n",
      "memory usage: 159.2+ MB\n"
     ]
    }
   ],
   "source": [
    "data.info()"
   ]
  },
  {
   "cell_type": "markdown",
   "id": "4bedd18b",
   "metadata": {},
   "source": [
    "## Answering Questions"
   ]
  },
  {
   "cell_type": "markdown",
   "id": "54dea668",
   "metadata": {},
   "source": [
    "1. How many bookings of arrestees were made in 2018?"
   ]
  },
  {
   "cell_type": "code",
   "execution_count": 45,
   "id": "44ef2d2f",
   "metadata": {},
   "outputs": [
    {
     "name": "stdout",
     "output_type": "stream",
     "text": [
      "<class 'pandas.core.frame.DataFrame'>\n",
      "Index: 42380 entries, 165 to 1227515\n",
      "Data columns (total 17 columns):\n",
      " #   Column                    Non-Null Count  Dtype  \n",
      "---  ------                    --------------  -----  \n",
      " 0   Report ID                 42380 non-null  int64  \n",
      " 1   Arrest Date               42380 non-null  object \n",
      " 2   Time                      42373 non-null  float64\n",
      " 3   Area ID                   42380 non-null  int64  \n",
      " 4   Area Name                 42380 non-null  object \n",
      " 5   Reporting District        42380 non-null  int64  \n",
      " 6   Age                       42380 non-null  int64  \n",
      " 7   Sex Code                  42380 non-null  object \n",
      " 8   Descent Code              42380 non-null  object \n",
      " 9   Charge Group Code         30351 non-null  float64\n",
      " 10  Charge Group Description  30332 non-null  object \n",
      " 11  Arrest Type Code          42380 non-null  object \n",
      " 12  Charge                    42380 non-null  object \n",
      " 13  Charge Description        30351 non-null  object \n",
      " 14  Address                   42380 non-null  object \n",
      " 15  Cross Street              25835 non-null  object \n",
      " 16  Location                  42380 non-null  object \n",
      "dtypes: float64(2), int64(4), object(11)\n",
      "memory usage: 5.8+ MB\n"
     ]
    }
   ],
   "source": [
    "data_2018 = data.loc[data['Arrest Date'].str.contains('2018')]\n",
    "data_2018.info()"
   ]
  },
  {
   "cell_type": "code",
   "execution_count": 46,
   "id": "dab111cb",
   "metadata": {},
   "outputs": [
    {
     "data": {
      "text/plain": [
       "(42380, 17)"
      ]
     },
     "execution_count": 46,
     "metadata": {},
     "output_type": "execute_result"
    }
   ],
   "source": [
    "data_2018.shape"
   ]
  },
  {
   "cell_type": "code",
   "execution_count": 44,
   "id": "2e91d7c3",
   "metadata": {},
   "outputs": [
    {
     "name": "stdout",
     "output_type": "stream",
     "text": [
      "42380 bookings of arrestees were made in 2018\n"
     ]
    }
   ],
   "source": [
    "print(\"{} bookings of arrestees were made in 2018\".format(data_2018.shape[0]))"
   ]
  },
  {
   "cell_type": "markdown",
   "id": "a2eab90f",
   "metadata": {},
   "source": [
    "2. How many bookings of arrestees were made in each area and which area has the most arrests in 2018?"
   ]
  },
  {
   "cell_type": "code",
   "execution_count": 47,
   "id": "629fcef9",
   "metadata": {},
   "outputs": [
    {
     "data": {
      "text/plain": [
       "Area Name\n",
       "Central        5621\n",
       "Hollywood      5378\n",
       "Rampart        4243\n",
       "Pacific        3545\n",
       "Van Nuys       2331\n",
       "N Hollywood    2052\n",
       "Southwest      1768\n",
       "Mission        1701\n",
       "Newton         1638\n",
       "Harbor         1628\n",
       "Northeast      1579\n",
       "77th Street    1457\n",
       "West LA        1415\n",
       "Olympic        1350\n",
       "Devonshire     1336\n",
       "Topanga        1208\n",
       "Hollenbeck      995\n",
       "West Valley     955\n",
       "Foothill        801\n",
       "Southeast       764\n",
       "Wilshire        615\n",
       "dtype: int64"
      ]
     },
     "execution_count": 47,
     "metadata": {},
     "output_type": "execute_result"
    }
   ],
   "source": [
    "data_2018.groupby('Area Name').size().sort_values(ascending=False)"
   ]
  },
  {
   "cell_type": "code",
   "execution_count": 48,
   "id": "3d5317f8",
   "metadata": {},
   "outputs": [
    {
     "name": "stdout",
     "output_type": "stream",
     "text": [
      "Central Area had the most arrest bookings in 2018\n"
     ]
    }
   ],
   "source": [
    "print(\"Central Area had the most arrest bookings in 2018\")"
   ]
  },
  {
   "cell_type": "markdown",
   "id": "b23ae808",
   "metadata": {},
   "source": [
    "3. Find the average age of arrestees per each charge group."
   ]
  },
  {
   "cell_type": "code",
   "execution_count": 53,
   "id": "c9d7b41b",
   "metadata": {},
   "outputs": [
    {
     "data": {
      "text/plain": [
       "Charge Group Description\n",
       "Drunkeness                        41.956863\n",
       "Gambling                          41.912489\n",
       "Disorderly Conduct                40.849315\n",
       "Liquor Laws                       37.530658\n",
       "Sex (except rape/prst)            36.284655\n",
       "Against Family/Child              35.742242\n",
       "Fraud/Embezzlement                35.520080\n",
       "Narcotic Drug Laws                35.255864\n",
       "Driving Under Influence           34.390511\n",
       "Miscellaneous Other Violations    34.083950\n",
       "Federal Offenses                  33.971154\n",
       "Disturbing the Peace              33.680771\n",
       "Aggravated Assault                33.480600\n",
       "Rape                              33.203641\n",
       "Forgery/Counterfeit               33.043220\n",
       "Moving Traffic Violations         32.950922\n",
       "Other Assaults                    32.590187\n",
       "Larceny                           32.348620\n",
       "Receive Stolen Property           30.653504\n",
       "Prostitution/Allied               29.493825\n",
       "Homicide                          29.421997\n",
       "Vehicle Theft                     28.836739\n",
       "Burglary                          28.670600\n",
       "Weapon (carry/poss)               28.411530\n",
       "Robbery                           26.320423\n",
       "Pre-Delinquency                   15.479356\n",
       "Non-Criminal Detention             7.908450\n",
       "Name: Age, dtype: float64"
      ]
     },
     "execution_count": 53,
     "metadata": {},
     "output_type": "execute_result"
    }
   ],
   "source": [
    "data.groupby('Charge Group Description')['Age'].mean().sort_values(ascending=False)"
   ]
  },
  {
   "cell_type": "markdown",
   "id": "887ad380",
   "metadata": {},
   "source": [
    "a. Only consider data for 2018"
   ]
  },
  {
   "cell_type": "code",
   "execution_count": 54,
   "id": "ebaf5037",
   "metadata": {},
   "outputs": [
    {
     "data": {
      "text/plain": [
       "Charge Group Description\n",
       "Drunkeness                        44.219972\n",
       "Liquor Laws                       42.540955\n",
       "Disorderly Conduct                41.924290\n",
       "Gambling                          40.557047\n",
       "Disturbing the Peace              39.727273\n",
       "Against Family/Child              36.950355\n",
       "Sex (except rape/prst)            36.555838\n",
       "Miscellaneous Other Violations    36.252076\n",
       "Rape                              36.203704\n",
       "Narcotic Drug Laws                36.097954\n",
       "Fraud/Embezzlement                35.689076\n",
       "Forgery/Counterfeit               35.066667\n",
       "Federal Offenses                  34.600000\n",
       "Driving Under Influence           34.428291\n",
       "Aggravated Assault                33.907359\n",
       "Receive Stolen Property           33.687500\n",
       "Other Assaults                    33.451139\n",
       "Moving Traffic Violations         33.085622\n",
       "Larceny                           32.725796\n",
       "Prostitution/Allied               31.620470\n",
       "Homicide                          30.896552\n",
       "Burglary                          30.366755\n",
       "Vehicle Theft                     30.095624\n",
       "Weapon (carry/poss)               29.477178\n",
       "Robbery                           27.538739\n",
       "Pre-Delinquency                   15.407407\n",
       "Non-Criminal Detention             8.787234\n",
       "Name: Age, dtype: float64"
      ]
     },
     "execution_count": 54,
     "metadata": {},
     "output_type": "execute_result"
    }
   ],
   "source": [
    "data_2018.groupby('Charge Group Description')['Age'].mean().sort_values(ascending=False)"
   ]
  },
  {
   "cell_type": "markdown",
   "id": "7d492ffa",
   "metadata": {},
   "source": [
    "b. Do not consider \"Pre-Delinquency\" and \"Non-Criminal Detention\" as these charge groups are reserved for minors"
   ]
  },
  {
   "cell_type": "code",
   "execution_count": 78,
   "id": "a87c6f15",
   "metadata": {},
   "outputs": [
    {
     "data": {
      "text/plain": [
       "Charge Group Description\n",
       "Drunkeness                        41.956863\n",
       "Gambling                          41.912489\n",
       "Disorderly Conduct                40.849315\n",
       "Liquor Laws                       37.530658\n",
       "Sex (except rape/prst)            36.284655\n",
       "Against Family/Child              35.742242\n",
       "Fraud/Embezzlement                35.520080\n",
       "Narcotic Drug Laws                35.255864\n",
       "Driving Under Influence           34.390511\n",
       "Miscellaneous Other Violations    34.083950\n",
       "Federal Offenses                  33.971154\n",
       "Disturbing the Peace              33.680771\n",
       "Aggravated Assault                33.480600\n",
       "Rape                              33.203641\n",
       "Forgery/Counterfeit               33.043220\n",
       "Moving Traffic Violations         32.950922\n",
       "Other Assaults                    32.590187\n",
       "Larceny                           32.348620\n",
       "Receive Stolen Property           30.653504\n",
       "Prostitution/Allied               29.493825\n",
       "Homicide                          29.421997\n",
       "Vehicle Theft                     28.836739\n",
       "Burglary                          28.670600\n",
       "Weapon (carry/poss)               28.411530\n",
       "Robbery                           26.320423\n",
       "Name: Age, dtype: float64"
      ]
     },
     "execution_count": 78,
     "metadata": {},
     "output_type": "execute_result"
    }
   ],
   "source": [
    "non_minor_arrests = data.loc[~data['Charge Group Description'].isin(['Pre-Delinquency', 'Non-Criminal Detention'])]\n",
    "\n",
    "non_minor_arrests.groupby('Charge Group Description')['Age'].mean().sort_values(ascending=False)"
   ]
  },
  {
   "cell_type": "markdown",
   "id": "b2a23295",
   "metadata": {},
   "source": [
    "c. Exclude any arrests where the charge group description is not known"
   ]
  },
  {
   "cell_type": "code",
   "execution_count": 97,
   "id": "eb617b3a",
   "metadata": {},
   "outputs": [
    {
     "data": {
      "text/plain": [
       "Charge Group Description\n",
       "Drunkeness                   41.956863\n",
       "Gambling                     41.912489\n",
       "Disorderly Conduct           40.849315\n",
       "Liquor Laws                  37.530658\n",
       "Sex (except rape/prst)       36.284655\n",
       "Against Family/Child         35.742242\n",
       "Fraud/Embezzlement           35.520080\n",
       "Narcotic Drug Laws           35.255864\n",
       "Driving Under Influence      34.390511\n",
       "Federal Offenses             33.971154\n",
       "Disturbing the Peace         33.680771\n",
       "Aggravated Assault           33.480600\n",
       "Rape                         33.203641\n",
       "Forgery/Counterfeit          33.043220\n",
       "Moving Traffic Violations    32.950922\n",
       "Larceny                      32.348620\n",
       "Receive Stolen Property      30.653504\n",
       "Prostitution/Allied          29.493825\n",
       "Homicide                     29.421997\n",
       "Vehicle Theft                28.836739\n",
       "Burglary                     28.670600\n",
       "Weapon (carry/poss)          28.411530\n",
       "Robbery                      26.320423\n",
       "Pre-Delinquency              15.479356\n",
       "Non-Criminal Detention        7.908450\n",
       "Name: Age, dtype: float64"
      ]
     },
     "execution_count": 97,
     "metadata": {},
     "output_type": "execute_result"
    }
   ],
   "source": [
    "known_arrests = data.loc[~data['Charge Group Description'].isin(['Other Assaults', 'Miscellaneous Other Violations'])]\n",
    "\n",
    "known_arrests.groupby('Charge Group Description')['Age'].mean().sort_values(ascending=False)\n"
   ]
  },
  {
   "cell_type": "markdown",
   "id": "b31e2158",
   "metadata": {},
   "source": [
    "Question 3: Satisfying conditions for a, b and c"
   ]
  },
  {
   "cell_type": "code",
   "execution_count": 98,
   "id": "85fcb165",
   "metadata": {},
   "outputs": [
    {
     "data": {
      "text/plain": [
       "Charge Group Description\n",
       "Drunkeness                   44.219972\n",
       "Liquor Laws                  42.540955\n",
       "Disorderly Conduct           41.924290\n",
       "Gambling                     40.557047\n",
       "Disturbing the Peace         39.727273\n",
       "Against Family/Child         36.950355\n",
       "Sex (except rape/prst)       36.555838\n",
       "Rape                         36.203704\n",
       "Narcotic Drug Laws           36.097954\n",
       "Fraud/Embezzlement           35.689076\n",
       "Forgery/Counterfeit          35.066667\n",
       "Federal Offenses             34.600000\n",
       "Driving Under Influence      34.428291\n",
       "Aggravated Assault           33.907359\n",
       "Receive Stolen Property      33.687500\n",
       "Moving Traffic Violations    33.085622\n",
       "Larceny                      32.725796\n",
       "Prostitution/Allied          31.620470\n",
       "Homicide                     30.896552\n",
       "Burglary                     30.366755\n",
       "Vehicle Theft                30.095624\n",
       "Weapon (carry/poss)          29.477178\n",
       "Robbery                      27.538739\n",
       "Name: Age, dtype: float64"
      ]
     },
     "execution_count": 98,
     "metadata": {},
     "output_type": "execute_result"
    }
   ],
   "source": [
    "filter_arrests = data_2018.loc[~data_2018['Charge Group Description'].isin(['Pre-Delinquency', 'Non-Criminal Detention', 'Other Assaults','Miscellaneous Other Violations'])]\n",
    "\n",
    "filter_arrests.groupby('Charge Group Description')['Age'].mean().sort_values(ascending=False)"
   ]
  },
  {
   "cell_type": "markdown",
   "id": "0240b791",
   "metadata": {},
   "source": [
    "4. What is the 95% quantile of the age of the arrestee in 2018? Only consider the following charge groups for your analysis: 'Vehicle Theft', 'Robbery', 'Burglary', 'Receive Stolen Property'"
   ]
  },
  {
   "cell_type": "code",
   "execution_count": 84,
   "id": "2f1395c7",
   "metadata": {},
   "outputs": [
    {
     "data": {
      "text/plain": [
       "52.0"
      ]
     },
     "execution_count": 84,
     "metadata": {},
     "output_type": "execute_result"
    }
   ],
   "source": [
    "filter_arrests = data_2018.loc[data_2018['Charge Group Description'].isin(['Vehicle Theft', 'Robbery', 'Burglary', 'Receive Stolen Property'])]\n",
    "\n",
    "filter_arrests['Age'].quantile(0.95)"
   ]
  },
  {
   "cell_type": "markdown",
   "id": "fa8ca551",
   "metadata": {},
   "source": [
    "5. Crime arrest incidents have been dropping over the years. Using a linear regression for the data from 2010 and 2018 (inclusive), predict the number of crime arrests in 2019. Round to the nearest integer. Note, that the data set includes arrests for misdemeanor, felonies, etc."
   ]
  },
  {
   "cell_type": "code",
   "execution_count": 104,
   "id": "1ac608a9",
   "metadata": {},
   "outputs": [],
   "source": [
    "data_2010 = data.loc[data['Arrest Date'].str.contains('2010')]\n",
    "data_2011 = data.loc[data['Arrest Date'].str.contains('2011')]\n",
    "data_2012 = data.loc[data['Arrest Date'].str.contains('2012')]\n",
    "data_2013 = data.loc[data['Arrest Date'].str.contains('2013')]\n",
    "data_2014 = data.loc[data['Arrest Date'].str.contains('2014')]\n",
    "data_2015 = data.loc[data['Arrest Date'].str.contains('2015')]\n",
    "data_2016 = data.loc[data['Arrest Date'].str.contains('2016')]\n",
    "data_2017 = data.loc[data['Arrest Date'].str.contains('2017')]\n",
    "data_2018 = data.loc[data['Arrest Date'].str.contains('2018')]\n",
    "data_2019 = data.loc[data['Arrest Date'].str.contains('2019')]"
   ]
  },
  {
   "cell_type": "code",
   "execution_count": 107,
   "id": "905dca29",
   "metadata": {},
   "outputs": [
    {
     "data": {
      "text/plain": [
       "162399"
      ]
     },
     "execution_count": 107,
     "metadata": {},
     "output_type": "execute_result"
    }
   ],
   "source": [
    "data_2010.shape[0]"
   ]
  },
  {
   "cell_type": "code",
   "execution_count": null,
   "id": "f1683e6a",
   "metadata": {},
   "outputs": [],
   "source": []
  }
 ],
 "metadata": {
  "kernelspec": {
   "display_name": "Python 3 (ipykernel)",
   "language": "python",
   "name": "python3"
  },
  "language_info": {
   "codemirror_mode": {
    "name": "ipython",
    "version": 3
   },
   "file_extension": ".py",
   "mimetype": "text/x-python",
   "name": "python",
   "nbconvert_exporter": "python",
   "pygments_lexer": "ipython3",
   "version": "3.11.5"
  }
 },
 "nbformat": 4,
 "nbformat_minor": 5
}
