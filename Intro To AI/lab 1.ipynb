{
 "cells": [
  {
   "cell_type": "markdown",
   "id": "00ac9c13-4fe4-469a-a36b-4d2a9c78bb11",
   "metadata": {
    "editable": true,
    "slideshow": {
     "slide_type": ""
    },
    "tags": []
   },
   "source": [
    "## Work with Pandas and Numpy"
   ]
  },
  {
   "cell_type": "code",
   "execution_count": 3,
   "id": "8434a25a-7f6c-4028-a444-8aef891547f3",
   "metadata": {},
   "outputs": [],
   "source": [
    "import numpy as np"
   ]
  },
  {
   "cell_type": "code",
   "execution_count": 24,
   "id": "a3b34a0f-1f30-4297-97a4-e07fe4f4d7db",
   "metadata": {},
   "outputs": [],
   "source": [
    "zeroD = np.array(4)"
   ]
  },
  {
   "cell_type": "code",
   "execution_count": 25,
   "id": "7af02ccb-6440-454d-80ca-bf1ecb8c8939",
   "metadata": {},
   "outputs": [
    {
     "data": {
      "text/plain": [
       "0"
      ]
     },
     "execution_count": 25,
     "metadata": {},
     "output_type": "execute_result"
    }
   ],
   "source": [
    "zeroD.ndim"
   ]
  },
  {
   "cell_type": "code",
   "execution_count": 26,
   "id": "4150af54-85f5-414a-9d8d-791b16f540a0",
   "metadata": {},
   "outputs": [
    {
     "data": {
      "text/plain": [
       "array(4)"
      ]
     },
     "execution_count": 26,
     "metadata": {},
     "output_type": "execute_result"
    }
   ],
   "source": [
    "zeroD"
   ]
  },
  {
   "cell_type": "markdown",
   "id": "00257adb-5067-4907-a962-4859e897e1b6",
   "metadata": {},
   "source": [
    "A scalar is a zero-dimensional array."
   ]
  },
  {
   "cell_type": "code",
   "execution_count": 27,
   "id": "bce96a60-1bb6-4367-8d39-b715fd530ba5",
   "metadata": {},
   "outputs": [],
   "source": [
    "oneD = np.array([1,2,3,4,5])"
   ]
  },
  {
   "cell_type": "code",
   "execution_count": 28,
   "id": "2b5bf723-e626-45d2-af83-467e1bf3a1b0",
   "metadata": {},
   "outputs": [
    {
     "data": {
      "text/plain": [
       "array([1, 2, 3, 4, 5])"
      ]
     },
     "execution_count": 28,
     "metadata": {},
     "output_type": "execute_result"
    }
   ],
   "source": [
    "oneD"
   ]
  },
  {
   "cell_type": "code",
   "execution_count": 29,
   "id": "adc63549-23a6-4b00-89c0-4073984d1140",
   "metadata": {},
   "outputs": [
    {
     "data": {
      "text/plain": [
       "1"
      ]
     },
     "execution_count": 29,
     "metadata": {},
     "output_type": "execute_result"
    }
   ],
   "source": [
    "oneD.ndim"
   ]
  },
  {
   "cell_type": "code",
   "execution_count": 30,
   "id": "89678cff-0321-48a4-8803-160ddc776227",
   "metadata": {},
   "outputs": [
    {
     "data": {
      "text/plain": [
       "(3, 5)"
      ]
     },
     "execution_count": 30,
     "metadata": {},
     "output_type": "execute_result"
    }
   ],
   "source": [
    "oneD[2], oneD[-1]"
   ]
  },
  {
   "cell_type": "markdown",
   "id": "a614c87d-8368-4989-ab27-78e8e4e15349",
   "metadata": {},
   "source": [
    "### Slicing values"
   ]
  },
  {
   "cell_type": "code",
   "execution_count": 31,
   "id": "61f59f3a-0d4d-493d-878a-6d5f53469a34",
   "metadata": {},
   "outputs": [
    {
     "data": {
      "text/plain": [
       "array([3, 4, 5])"
      ]
     },
     "execution_count": 31,
     "metadata": {},
     "output_type": "execute_result"
    }
   ],
   "source": [
    "oneD[-3:]"
   ]
  },
  {
   "cell_type": "code",
   "execution_count": 32,
   "id": "569930c0-a715-4bfa-bd11-5a92d3e87725",
   "metadata": {},
   "outputs": [
    {
     "data": {
      "text/plain": [
       "array([1, 3, 5])"
      ]
     },
     "execution_count": 32,
     "metadata": {},
     "output_type": "execute_result"
    }
   ],
   "source": [
    "oneD[0::2]"
   ]
  },
  {
   "cell_type": "code",
   "execution_count": 34,
   "id": "dc27cee6-c4ae-4081-afd1-dee9046962dd",
   "metadata": {},
   "outputs": [
    {
     "data": {
      "text/plain": [
       "array([1, 3])"
      ]
     },
     "execution_count": 34,
     "metadata": {},
     "output_type": "execute_result"
    }
   ],
   "source": [
    "oneD[0:3:2]"
   ]
  },
  {
   "cell_type": "code",
   "execution_count": 36,
   "id": "d7ac75b3-4b9e-415d-bbd7-1311b35c4ab0",
   "metadata": {},
   "outputs": [
    {
     "data": {
      "text/plain": [
       "[0, 1, 2, 3, 4]"
      ]
     },
     "execution_count": 36,
     "metadata": {},
     "output_type": "execute_result"
    }
   ],
   "source": [
    "list(range(5))"
   ]
  },
  {
   "cell_type": "code",
   "execution_count": 40,
   "id": "06d004d3-943f-4e3f-ad3f-f7e4e14f546b",
   "metadata": {},
   "outputs": [],
   "source": [
    "twoD = np.array([\n",
    "    [1, 2, 3, 4, 5],\n",
    "    [6, 7, 8, 9, 10],\n",
    "    [11, 12, 13, 14, 15]\n",
    "])"
   ]
  },
  {
   "cell_type": "code",
   "execution_count": 42,
   "id": "000bfe32-a522-4560-80c1-8a65b7a84fee",
   "metadata": {},
   "outputs": [
    {
     "data": {
      "text/plain": [
       "2"
      ]
     },
     "execution_count": 42,
     "metadata": {},
     "output_type": "execute_result"
    }
   ],
   "source": [
    "twoD.ndim"
   ]
  },
  {
   "cell_type": "markdown",
   "id": "1014b38c-62d1-49cc-b521-0e116a98030f",
   "metadata": {},
   "source": [
    "Arrays in the form of $m \\times n$ are two dimensional."
   ]
  },
  {
   "cell_type": "code",
   "execution_count": 53,
   "id": "fc44d722-65d1-483e-8e83-e5ca2dc1e9d9",
   "metadata": {},
   "outputs": [
    {
     "data": {
      "text/plain": [
       "array([[ 1,  3],\n",
       "       [ 6,  8],\n",
       "       [11, 13]])"
      ]
     },
     "execution_count": 53,
     "metadata": {},
     "output_type": "execute_result"
    }
   ],
   "source": [
    "twoD[:,0:3:2]"
   ]
  },
  {
   "cell_type": "markdown",
   "id": "4b9c5e90-3aff-400b-965e-a866a590d341",
   "metadata": {},
   "source": [
    "array[row, column]"
   ]
  },
  {
   "cell_type": "code",
   "execution_count": 70,
   "id": "45039f9a-913e-45b8-ac6b-4111c9c477f9",
   "metadata": {},
   "outputs": [
    {
     "data": {
      "text/plain": [
       "array([[ 7,  9],\n",
       "       [12, 14]])"
      ]
     },
     "execution_count": 70,
     "metadata": {},
     "output_type": "execute_result"
    }
   ],
   "source": [
    "twoD[1:,1:4:2]"
   ]
  },
  {
   "cell_type": "code",
   "execution_count": 71,
   "id": "735d6b1c-d412-481a-a26c-bb863f0f8e6e",
   "metadata": {},
   "outputs": [
    {
     "data": {
      "text/plain": [
       "120"
      ]
     },
     "execution_count": 71,
     "metadata": {},
     "output_type": "execute_result"
    }
   ],
   "source": [
    "np.sum(twoD)"
   ]
  },
  {
   "cell_type": "code",
   "execution_count": 72,
   "id": "5dadd575-3a75-4f61-a881-97650f6692ef",
   "metadata": {
    "editable": true,
    "slideshow": {
     "slide_type": ""
    },
    "tags": []
   },
   "outputs": [
    {
     "data": {
      "text/plain": [
       "array([18, 21, 24, 27, 30])"
      ]
     },
     "execution_count": 72,
     "metadata": {},
     "output_type": "execute_result"
    }
   ],
   "source": [
    "np.sum(twoD, axis=0)"
   ]
  },
  {
   "cell_type": "code",
   "execution_count": null,
   "id": "1e6e5474-af99-489b-86bd-21aada6b1d8f",
   "metadata": {
    "editable": true,
    "slideshow": {
     "slide_type": ""
    },
    "tags": []
   },
   "outputs": [],
   "source": []
  }
 ],
 "metadata": {
  "kernelspec": {
   "display_name": "Python 3 (ipykernel)",
   "language": "python",
   "name": "python3"
  },
  "language_info": {
   "codemirror_mode": {
    "name": "ipython",
    "version": 3
   },
   "file_extension": ".py",
   "mimetype": "text/x-python",
   "name": "python",
   "nbconvert_exporter": "python",
   "pygments_lexer": "ipython3",
   "version": "3.11.4"
  }
 },
 "nbformat": 4,
 "nbformat_minor": 5
}
