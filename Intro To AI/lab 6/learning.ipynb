{
 "cells": [
  {
   "cell_type": "code",
   "execution_count": 2,
   "id": "63037848-312d-4758-93c4-8d11726592e2",
   "metadata": {},
   "outputs": [],
   "source": [
    "import numpy as np"
   ]
  },
  {
   "cell_type": "code",
   "execution_count": 3,
   "id": "1019a8cc-d9ac-4107-b95e-fba6a115c812",
   "metadata": {},
   "outputs": [],
   "source": [
    "y = np.array(['warm', 'hot', 'cold', 'luke warm', 'hot', 'cold', 'warm'])"
   ]
  },
  {
   "cell_type": "code",
   "execution_count": 6,
   "id": "5239aa07-ae75-4f61-95aa-97e406ac030f",
   "metadata": {},
   "outputs": [
    {
     "data": {
      "text/plain": [
       "array(['warm', 'hot', 'cold', 'luke warm', 'hot', 'cold', 'warm'],\n",
       "      dtype='<U9')"
      ]
     },
     "execution_count": 6,
     "metadata": {},
     "output_type": "execute_result"
    }
   ],
   "source": [
    "y"
   ]
  },
  {
   "cell_type": "markdown",
   "id": "16c441fc-d06d-43d2-ad75-bcaa8c8e2930",
   "metadata": {},
   "source": [
    "Label encoder is used to encode non-numeric values."
   ]
  },
  {
   "cell_type": "code",
   "execution_count": 7,
   "id": "f1cd7490-2cf3-4634-b05d-eb9522befd7f",
   "metadata": {},
   "outputs": [],
   "source": [
    "from sklearn.preprocessing import LabelEncoder\n",
    "\n",
    "label_encoder = LabelEncoder()"
   ]
  },
  {
   "cell_type": "code",
   "execution_count": 14,
   "id": "7c307304-bef2-42ac-a180-b856bfdd681b",
   "metadata": {},
   "outputs": [
    {
     "data": {
      "text/plain": [
       "array([3, 1, 0, 2, 1, 0, 3])"
      ]
     },
     "execution_count": 14,
     "metadata": {},
     "output_type": "execute_result"
    }
   ],
   "source": [
    "label_encoder.transform(y)"
   ]
  },
  {
   "cell_type": "code",
   "execution_count": null,
   "id": "4c2d97b3-c72c-46c7-b0c7-1c1eb935ba7e",
   "metadata": {},
   "outputs": [],
   "source": []
  },
  {
   "cell_type": "code",
   "execution_count": 12,
   "id": "34240aba-882d-48a4-bde3-4f25b1d243ba",
   "metadata": {},
   "outputs": [
    {
     "data": {
      "text/plain": [
       "array([3, 1, 0, 2, 1, 0, 3])"
      ]
     },
     "execution_count": 12,
     "metadata": {},
     "output_type": "execute_result"
    }
   ],
   "source": [
    "encoded_data"
   ]
  },
  {
   "cell_type": "code",
   "execution_count": 10,
   "id": "9cd34ddd-a613-4062-80f6-b56294285f5e",
   "metadata": {},
   "outputs": [
    {
     "data": {
      "text/plain": [
       "array(['warm', 'hot', 'cold', 'luke warm', 'hot', 'cold', 'warm'],\n",
       "      dtype='<U9')"
      ]
     },
     "execution_count": 10,
     "metadata": {},
     "output_type": "execute_result"
    }
   ],
   "source": [
    "y"
   ]
  },
  {
   "cell_type": "code",
   "execution_count": null,
   "id": "20f86bfe-d240-4061-8f7b-aa01a921de77",
   "metadata": {},
   "outputs": [],
   "source": []
  }
 ],
 "metadata": {
  "kernelspec": {
   "display_name": "Python 3 (ipykernel)",
   "language": "python",
   "name": "python3"
  },
  "language_info": {
   "codemirror_mode": {
    "name": "ipython",
    "version": 3
   },
   "file_extension": ".py",
   "mimetype": "text/x-python",
   "name": "python",
   "nbconvert_exporter": "python",
   "pygments_lexer": "ipython3",
   "version": "3.11.5"
  }
 },
 "nbformat": 4,
 "nbformat_minor": 5
}
