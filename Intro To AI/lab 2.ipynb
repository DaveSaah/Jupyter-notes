{
 "cells": [
  {
   "cell_type": "code",
   "execution_count": 100,
   "id": "613bf0ac-1baf-4885-8000-3778ae68caaa",
   "metadata": {},
   "outputs": [],
   "source": [
    "import numpy as np"
   ]
  },
  {
   "cell_type": "code",
   "execution_count": 101,
   "id": "ef383ce4-4a3b-49d0-80de-d0dc9bfd6f39",
   "metadata": {},
   "outputs": [],
   "source": [
    "a = np.array([1, 2,3,4,5])"
   ]
  },
  {
   "cell_type": "code",
   "execution_count": 102,
   "id": "ea31040a-cc9b-426d-a5ab-ea425d358335",
   "metadata": {},
   "outputs": [
    {
     "data": {
      "text/plain": [
       "array([1, 2, 3, 4, 5])"
      ]
     },
     "execution_count": 102,
     "metadata": {},
     "output_type": "execute_result"
    }
   ],
   "source": [
    "a"
   ]
  },
  {
   "cell_type": "code",
   "execution_count": 103,
   "id": "74a7c321-73f2-46f1-b489-91c9ebbb92da",
   "metadata": {},
   "outputs": [
    {
     "data": {
      "text/plain": [
       "1"
      ]
     },
     "execution_count": 103,
     "metadata": {},
     "output_type": "execute_result"
    }
   ],
   "source": [
    "a.ndim"
   ]
  },
  {
   "cell_type": "markdown",
   "id": "520c1cb0-53f7-480c-8ee3-e638d2832933",
   "metadata": {},
   "source": [
    "A series is a one dimensional array. A column in a dataset can be considered as a series."
   ]
  },
  {
   "cell_type": "code",
   "execution_count": 104,
   "id": "efd19d81-5635-4f37-a5bd-6e5d46f6e45b",
   "metadata": {},
   "outputs": [],
   "source": [
    "names = [\"Felihle\", \"Sandra\", \"Faith\", \"Delali\", \"Justice\", \"Delphine\"]"
   ]
  },
  {
   "cell_type": "code",
   "execution_count": 105,
   "id": "c9dfe50c-3545-4587-b6ef-fa26cfa3c428",
   "metadata": {},
   "outputs": [],
   "source": [
    "import pandas as pd"
   ]
  },
  {
   "cell_type": "code",
   "execution_count": 106,
   "id": "47f6b70b-849e-4ddb-94dd-e96c5bf6ac39",
   "metadata": {},
   "outputs": [],
   "source": [
    "series = pd.Series(names)"
   ]
  },
  {
   "cell_type": "code",
   "execution_count": 107,
   "id": "31ac7886-6b8e-43cf-8614-edec7990a6f5",
   "metadata": {},
   "outputs": [
    {
     "data": {
      "text/plain": [
       "0     Felihle\n",
       "1      Sandra\n",
       "2       Faith\n",
       "3      Delali\n",
       "4     Justice\n",
       "5    Delphine\n",
       "dtype: object"
      ]
     },
     "execution_count": 107,
     "metadata": {},
     "output_type": "execute_result"
    }
   ],
   "source": [
    "series"
   ]
  },
  {
   "cell_type": "code",
   "execution_count": 108,
   "id": "bfe8509a-504d-41b2-8805-f366f378d725",
   "metadata": {},
   "outputs": [
    {
     "data": {
      "text/plain": [
       "'Justice'"
      ]
     },
     "execution_count": 108,
     "metadata": {},
     "output_type": "execute_result"
    }
   ],
   "source": [
    "series[4]"
   ]
  },
  {
   "cell_type": "code",
   "execution_count": 109,
   "id": "5de7cc0c-d548-403e-b7da-89e07babe336",
   "metadata": {},
   "outputs": [],
   "source": [
    "labels = [\"a\", \"b\", \"c\", \"d\", \"e\", \"f\"]"
   ]
  },
  {
   "cell_type": "code",
   "execution_count": 110,
   "id": "99b5e01a-76da-4b27-bae0-a4fa327417ee",
   "metadata": {},
   "outputs": [],
   "source": [
    "s = pd.Series(names, index=labels)"
   ]
  },
  {
   "cell_type": "code",
   "execution_count": 111,
   "id": "bc257abd-6c3e-431a-8b65-3d997110530c",
   "metadata": {},
   "outputs": [
    {
     "data": {
      "text/plain": [
       "a     Felihle\n",
       "b      Sandra\n",
       "c       Faith\n",
       "d      Delali\n",
       "e     Justice\n",
       "f    Delphine\n",
       "dtype: object"
      ]
     },
     "execution_count": 111,
     "metadata": {},
     "output_type": "execute_result"
    }
   ],
   "source": [
    "s"
   ]
  },
  {
   "cell_type": "code",
   "execution_count": 112,
   "id": "a33f07ae-f417-4496-a0d3-d0bcfd0d2f3f",
   "metadata": {},
   "outputs": [
    {
     "data": {
      "text/plain": [
       "'Justice'"
      ]
     },
     "execution_count": 112,
     "metadata": {},
     "output_type": "execute_result"
    }
   ],
   "source": [
    "s['e']"
   ]
  },
  {
   "cell_type": "markdown",
   "id": "df0c6831-a751-46d7-8b99-6cd2cb75118e",
   "metadata": {},
   "source": [
    "You can only use loc when dealing with index labels. It does not hold for integer positions."
   ]
  },
  {
   "cell_type": "code",
   "execution_count": 113,
   "id": "91ea8765-a71a-4f4a-984f-95547b5e51a8",
   "metadata": {},
   "outputs": [
    {
     "data": {
      "text/plain": [
       "'Sandra'"
      ]
     },
     "execution_count": 113,
     "metadata": {},
     "output_type": "execute_result"
    }
   ],
   "source": [
    "s.loc['b']"
   ]
  },
  {
   "cell_type": "code",
   "execution_count": 114,
   "id": "c5ad1a16-d5ce-4438-a570-11f1748726a3",
   "metadata": {},
   "outputs": [
    {
     "data": {
      "text/plain": [
       "b     Sandra\n",
       "c      Faith\n",
       "d     Delali\n",
       "e    Justice\n",
       "dtype: object"
      ]
     },
     "execution_count": 114,
     "metadata": {},
     "output_type": "execute_result"
    }
   ],
   "source": [
    "s.loc['b':'e']"
   ]
  },
  {
   "cell_type": "code",
   "execution_count": 115,
   "id": "b124813c-d68a-4bac-bd0e-b3a84f66a41a",
   "metadata": {},
   "outputs": [
    {
     "data": {
      "text/plain": [
       "b     Sandra\n",
       "c      Faith\n",
       "d     Delali\n",
       "e    Justice\n",
       "dtype: object"
      ]
     },
     "execution_count": 115,
     "metadata": {},
     "output_type": "execute_result"
    }
   ],
   "source": [
    "s['b':'e']"
   ]
  },
  {
   "cell_type": "code",
   "execution_count": 116,
   "id": "42435d4e-7cf5-4b2c-a07e-9234810487c1",
   "metadata": {},
   "outputs": [
    {
     "data": {
      "text/plain": [
       "a    Felihle\n",
       "c      Faith\n",
       "dtype: object"
      ]
     },
     "execution_count": 116,
     "metadata": {},
     "output_type": "execute_result"
    }
   ],
   "source": [
    "s.loc['a':'c':2]"
   ]
  },
  {
   "cell_type": "code",
   "execution_count": 117,
   "id": "6958b731-2d0c-470c-974d-91e795b7c4ed",
   "metadata": {},
   "outputs": [
    {
     "data": {
      "text/plain": [
       "a    Felihle\n",
       "c      Faith\n",
       "dtype: object"
      ]
     },
     "execution_count": 117,
     "metadata": {},
     "output_type": "execute_result"
    }
   ],
   "source": [
    "s['a':'c':2]"
   ]
  },
  {
   "cell_type": "markdown",
   "id": "8736a416-eef5-46f3-a378-b17b9d50935a",
   "metadata": {},
   "source": [
    "`.loc` is a method used to extract content from data using labels."
   ]
  },
  {
   "cell_type": "code",
   "execution_count": 118,
   "id": "07b289f8-4831-4fee-89d4-6bd3654a24f6",
   "metadata": {},
   "outputs": [
    {
     "data": {
      "text/plain": [
       "'Sandra'"
      ]
     },
     "execution_count": 118,
     "metadata": {},
     "output_type": "execute_result"
    }
   ],
   "source": [
    "s.iloc[1]"
   ]
  },
  {
   "cell_type": "markdown",
   "id": "243dbb75-862f-4cdf-99d3-43fffa9a6766",
   "metadata": {},
   "source": [
    "`.iloc` is similar to `.loc`, but uses integer positions."
   ]
  },
  {
   "cell_type": "markdown",
   "id": "05df5d86-308d-430d-b238-dea6fd2b1e69",
   "metadata": {},
   "source": [
    "- In `.loc`, the upper bound is included.\n",
    "- In `.iloc`, the upper bound is not included."
   ]
  },
  {
   "cell_type": "code",
   "execution_count": 119,
   "id": "f61e3d96-7604-4eef-a907-38ada483eee8",
   "metadata": {},
   "outputs": [
    {
     "data": {
      "text/plain": [
       "a    Felihle\n",
       "b     Sandra\n",
       "dtype: object"
      ]
     },
     "execution_count": 119,
     "metadata": {},
     "output_type": "execute_result"
    }
   ],
   "source": [
    "s.iloc[0:2]"
   ]
  },
  {
   "cell_type": "markdown",
   "id": "60bc6f55-2c3f-4655-8f3f-a1f443660b94",
   "metadata": {},
   "source": [
    "# Assignment\n",
    "\n",
    "Slide 21"
   ]
  },
  {
   "cell_type": "markdown",
   "id": "5610e301-84a8-402c-a229-2a55ec471a25",
   "metadata": {},
   "source": [
    "## Creating Dataframes"
   ]
  },
  {
   "cell_type": "code",
   "execution_count": 120,
   "id": "e3c792a5-5097-4f97-bcee-663b35a0901f",
   "metadata": {},
   "outputs": [
    {
     "data": {
      "text/html": [
       "<div>\n",
       "<style scoped>\n",
       "    .dataframe tbody tr th:only-of-type {\n",
       "        vertical-align: middle;\n",
       "    }\n",
       "\n",
       "    .dataframe tbody tr th {\n",
       "        vertical-align: top;\n",
       "    }\n",
       "\n",
       "    .dataframe thead th {\n",
       "        text-align: right;\n",
       "    }\n",
       "</style>\n",
       "<table border=\"1\" class=\"dataframe\">\n",
       "  <thead>\n",
       "    <tr style=\"text-align: right;\">\n",
       "      <th></th>\n",
       "      <th>0</th>\n",
       "    </tr>\n",
       "  </thead>\n",
       "  <tbody>\n",
       "    <tr>\n",
       "      <th>a</th>\n",
       "      <td>Felihle</td>\n",
       "    </tr>\n",
       "    <tr>\n",
       "      <th>b</th>\n",
       "      <td>Sandra</td>\n",
       "    </tr>\n",
       "    <tr>\n",
       "      <th>c</th>\n",
       "      <td>Faith</td>\n",
       "    </tr>\n",
       "    <tr>\n",
       "      <th>d</th>\n",
       "      <td>Delali</td>\n",
       "    </tr>\n",
       "    <tr>\n",
       "      <th>e</th>\n",
       "      <td>Justice</td>\n",
       "    </tr>\n",
       "    <tr>\n",
       "      <th>f</th>\n",
       "      <td>Delphine</td>\n",
       "    </tr>\n",
       "  </tbody>\n",
       "</table>\n",
       "</div>"
      ],
      "text/plain": [
       "          0\n",
       "a   Felihle\n",
       "b    Sandra\n",
       "c     Faith\n",
       "d    Delali\n",
       "e   Justice\n",
       "f  Delphine"
      ]
     },
     "execution_count": 120,
     "metadata": {},
     "output_type": "execute_result"
    }
   ],
   "source": [
    "pd.DataFrame(s)"
   ]
  },
  {
   "cell_type": "code",
   "execution_count": 121,
   "id": "e8a13d1a-f1c1-4c6c-9e2a-59246b95061a",
   "metadata": {},
   "outputs": [
    {
     "data": {
      "text/html": [
       "<div>\n",
       "<style scoped>\n",
       "    .dataframe tbody tr th:only-of-type {\n",
       "        vertical-align: middle;\n",
       "    }\n",
       "\n",
       "    .dataframe tbody tr th {\n",
       "        vertical-align: top;\n",
       "    }\n",
       "\n",
       "    .dataframe thead th {\n",
       "        text-align: right;\n",
       "    }\n",
       "</style>\n",
       "<table border=\"1\" class=\"dataframe\">\n",
       "  <thead>\n",
       "    <tr style=\"text-align: right;\">\n",
       "      <th></th>\n",
       "      <th>0</th>\n",
       "    </tr>\n",
       "  </thead>\n",
       "  <tbody>\n",
       "    <tr>\n",
       "      <th>0</th>\n",
       "      <td>Felihle</td>\n",
       "    </tr>\n",
       "    <tr>\n",
       "      <th>1</th>\n",
       "      <td>Sandra</td>\n",
       "    </tr>\n",
       "    <tr>\n",
       "      <th>2</th>\n",
       "      <td>Faith</td>\n",
       "    </tr>\n",
       "    <tr>\n",
       "      <th>3</th>\n",
       "      <td>Delali</td>\n",
       "    </tr>\n",
       "    <tr>\n",
       "      <th>4</th>\n",
       "      <td>Justice</td>\n",
       "    </tr>\n",
       "    <tr>\n",
       "      <th>5</th>\n",
       "      <td>Delphine</td>\n",
       "    </tr>\n",
       "  </tbody>\n",
       "</table>\n",
       "</div>"
      ],
      "text/plain": [
       "          0\n",
       "0   Felihle\n",
       "1    Sandra\n",
       "2     Faith\n",
       "3    Delali\n",
       "4   Justice\n",
       "5  Delphine"
      ]
     },
     "execution_count": 121,
     "metadata": {},
     "output_type": "execute_result"
    }
   ],
   "source": [
    "pd.DataFrame(series)"
   ]
  },
  {
   "cell_type": "code",
   "execution_count": 122,
   "id": "72edaff9-26a0-4626-bdfb-6ae9e8e6250a",
   "metadata": {},
   "outputs": [],
   "source": [
    "id = [10001, 20003, 48900, 12367]"
   ]
  },
  {
   "cell_type": "code",
   "execution_count": 123,
   "id": "c1e81739-d2e0-4fc7-a05b-0a5b6672127d",
   "metadata": {},
   "outputs": [],
   "source": [
    "names = ['Felihle', 'Sandra', 'Faith', 'Delali']"
   ]
  },
  {
   "cell_type": "code",
   "execution_count": 124,
   "id": "32fdc7f7-d225-48f8-bcbc-20b526525111",
   "metadata": {},
   "outputs": [
    {
     "data": {
      "text/plain": [
       "True"
      ]
     },
     "execution_count": 124,
     "metadata": {},
     "output_type": "execute_result"
    }
   ],
   "source": [
    "len(id) == len(names)"
   ]
  },
  {
   "cell_type": "code",
   "execution_count": 125,
   "id": "ec97d592-98ef-4045-9b39-0a2837eb6ce7",
   "metadata": {},
   "outputs": [],
   "source": [
    "df = pd.DataFrame({'ID_Numbers': id})"
   ]
  },
  {
   "cell_type": "code",
   "execution_count": 126,
   "id": "aeef7553-755b-470a-b5e7-f52bffa0dd4c",
   "metadata": {},
   "outputs": [
    {
     "data": {
      "text/html": [
       "<div>\n",
       "<style scoped>\n",
       "    .dataframe tbody tr th:only-of-type {\n",
       "        vertical-align: middle;\n",
       "    }\n",
       "\n",
       "    .dataframe tbody tr th {\n",
       "        vertical-align: top;\n",
       "    }\n",
       "\n",
       "    .dataframe thead th {\n",
       "        text-align: right;\n",
       "    }\n",
       "</style>\n",
       "<table border=\"1\" class=\"dataframe\">\n",
       "  <thead>\n",
       "    <tr style=\"text-align: right;\">\n",
       "      <th></th>\n",
       "      <th>ID_Numbers</th>\n",
       "    </tr>\n",
       "  </thead>\n",
       "  <tbody>\n",
       "    <tr>\n",
       "      <th>0</th>\n",
       "      <td>10001</td>\n",
       "    </tr>\n",
       "    <tr>\n",
       "      <th>1</th>\n",
       "      <td>20003</td>\n",
       "    </tr>\n",
       "    <tr>\n",
       "      <th>2</th>\n",
       "      <td>48900</td>\n",
       "    </tr>\n",
       "    <tr>\n",
       "      <th>3</th>\n",
       "      <td>12367</td>\n",
       "    </tr>\n",
       "  </tbody>\n",
       "</table>\n",
       "</div>"
      ],
      "text/plain": [
       "   ID_Numbers\n",
       "0       10001\n",
       "1       20003\n",
       "2       48900\n",
       "3       12367"
      ]
     },
     "execution_count": 126,
     "metadata": {},
     "output_type": "execute_result"
    }
   ],
   "source": [
    "df"
   ]
  },
  {
   "cell_type": "code",
   "execution_count": 127,
   "id": "13554cd9-cdc8-460c-be5b-1a92c7927d76",
   "metadata": {},
   "outputs": [],
   "source": [
    "df = pd.DataFrame({'Names': names})"
   ]
  },
  {
   "cell_type": "code",
   "execution_count": 128,
   "id": "ddf279a6-6f98-4736-ae5e-cfef1a82c3fe",
   "metadata": {},
   "outputs": [
    {
     "data": {
      "text/html": [
       "<div>\n",
       "<style scoped>\n",
       "    .dataframe tbody tr th:only-of-type {\n",
       "        vertical-align: middle;\n",
       "    }\n",
       "\n",
       "    .dataframe tbody tr th {\n",
       "        vertical-align: top;\n",
       "    }\n",
       "\n",
       "    .dataframe thead th {\n",
       "        text-align: right;\n",
       "    }\n",
       "</style>\n",
       "<table border=\"1\" class=\"dataframe\">\n",
       "  <thead>\n",
       "    <tr style=\"text-align: right;\">\n",
       "      <th></th>\n",
       "      <th>Names</th>\n",
       "    </tr>\n",
       "  </thead>\n",
       "  <tbody>\n",
       "    <tr>\n",
       "      <th>0</th>\n",
       "      <td>Felihle</td>\n",
       "    </tr>\n",
       "    <tr>\n",
       "      <th>1</th>\n",
       "      <td>Sandra</td>\n",
       "    </tr>\n",
       "    <tr>\n",
       "      <th>2</th>\n",
       "      <td>Faith</td>\n",
       "    </tr>\n",
       "    <tr>\n",
       "      <th>3</th>\n",
       "      <td>Delali</td>\n",
       "    </tr>\n",
       "  </tbody>\n",
       "</table>\n",
       "</div>"
      ],
      "text/plain": [
       "     Names\n",
       "0  Felihle\n",
       "1   Sandra\n",
       "2    Faith\n",
       "3   Delali"
      ]
     },
     "execution_count": 128,
     "metadata": {},
     "output_type": "execute_result"
    }
   ],
   "source": [
    "df"
   ]
  },
  {
   "cell_type": "code",
   "execution_count": 129,
   "id": "f681f9b7-79af-4227-9b28-3880dee8115d",
   "metadata": {},
   "outputs": [],
   "source": [
    "df = pd.DataFrame({'ID_Numbers': id, 'Names': names})"
   ]
  },
  {
   "cell_type": "code",
   "execution_count": 130,
   "id": "f0a21b07-2887-4048-abeb-7295db8c414f",
   "metadata": {},
   "outputs": [
    {
     "data": {
      "text/html": [
       "<div>\n",
       "<style scoped>\n",
       "    .dataframe tbody tr th:only-of-type {\n",
       "        vertical-align: middle;\n",
       "    }\n",
       "\n",
       "    .dataframe tbody tr th {\n",
       "        vertical-align: top;\n",
       "    }\n",
       "\n",
       "    .dataframe thead th {\n",
       "        text-align: right;\n",
       "    }\n",
       "</style>\n",
       "<table border=\"1\" class=\"dataframe\">\n",
       "  <thead>\n",
       "    <tr style=\"text-align: right;\">\n",
       "      <th></th>\n",
       "      <th>ID_Numbers</th>\n",
       "      <th>Names</th>\n",
       "    </tr>\n",
       "  </thead>\n",
       "  <tbody>\n",
       "    <tr>\n",
       "      <th>0</th>\n",
       "      <td>10001</td>\n",
       "      <td>Felihle</td>\n",
       "    </tr>\n",
       "    <tr>\n",
       "      <th>1</th>\n",
       "      <td>20003</td>\n",
       "      <td>Sandra</td>\n",
       "    </tr>\n",
       "    <tr>\n",
       "      <th>2</th>\n",
       "      <td>48900</td>\n",
       "      <td>Faith</td>\n",
       "    </tr>\n",
       "    <tr>\n",
       "      <th>3</th>\n",
       "      <td>12367</td>\n",
       "      <td>Delali</td>\n",
       "    </tr>\n",
       "  </tbody>\n",
       "</table>\n",
       "</div>"
      ],
      "text/plain": [
       "   ID_Numbers    Names\n",
       "0       10001  Felihle\n",
       "1       20003   Sandra\n",
       "2       48900    Faith\n",
       "3       12367   Delali"
      ]
     },
     "execution_count": 130,
     "metadata": {},
     "output_type": "execute_result"
    }
   ],
   "source": [
    "df"
   ]
  },
  {
   "cell_type": "code",
   "execution_count": 131,
   "id": "1fcb9667-1263-4aea-b88e-d0768515f480",
   "metadata": {},
   "outputs": [
    {
     "data": {
      "text/plain": [
       "(4, 2)"
      ]
     },
     "execution_count": 131,
     "metadata": {},
     "output_type": "execute_result"
    }
   ],
   "source": [
    "df.shape"
   ]
  },
  {
   "cell_type": "code",
   "execution_count": 132,
   "id": "3f061ce5-62fa-4a4c-ae4c-ab56bfe86f08",
   "metadata": {},
   "outputs": [],
   "source": [
    "data = [\n",
    "    [101, 'Felihle'],\n",
    "    [202, 'Sandra'],\n",
    "    [203, 'Faith'],\n",
    "    [401, 'Delali'],\n",
    "]"
   ]
  },
  {
   "cell_type": "code",
   "execution_count": 133,
   "id": "2025e3ca-948e-4b0f-9be8-9ce16f4f15ab",
   "metadata": {},
   "outputs": [
    {
     "data": {
      "text/plain": [
       "[[101, 'Felihle'], [202, 'Sandra'], [203, 'Faith'], [401, 'Delali']]"
      ]
     },
     "execution_count": 133,
     "metadata": {},
     "output_type": "execute_result"
    }
   ],
   "source": [
    "data"
   ]
  },
  {
   "cell_type": "code",
   "execution_count": 134,
   "id": "7a8a2e0c-9d7d-4dc9-91fd-c3085c347944",
   "metadata": {},
   "outputs": [],
   "source": [
    "df = pd.DataFrame(data, columns=[\"ID_Number\", \"Names\"])"
   ]
  },
  {
   "cell_type": "code",
   "execution_count": 135,
   "id": "c2e34a69-fdfd-4557-a2cd-ec85bed69bfe",
   "metadata": {},
   "outputs": [
    {
     "data": {
      "text/html": [
       "<div>\n",
       "<style scoped>\n",
       "    .dataframe tbody tr th:only-of-type {\n",
       "        vertical-align: middle;\n",
       "    }\n",
       "\n",
       "    .dataframe tbody tr th {\n",
       "        vertical-align: top;\n",
       "    }\n",
       "\n",
       "    .dataframe thead th {\n",
       "        text-align: right;\n",
       "    }\n",
       "</style>\n",
       "<table border=\"1\" class=\"dataframe\">\n",
       "  <thead>\n",
       "    <tr style=\"text-align: right;\">\n",
       "      <th></th>\n",
       "      <th>ID_Number</th>\n",
       "      <th>Names</th>\n",
       "    </tr>\n",
       "  </thead>\n",
       "  <tbody>\n",
       "    <tr>\n",
       "      <th>0</th>\n",
       "      <td>101</td>\n",
       "      <td>Felihle</td>\n",
       "    </tr>\n",
       "    <tr>\n",
       "      <th>1</th>\n",
       "      <td>202</td>\n",
       "      <td>Sandra</td>\n",
       "    </tr>\n",
       "    <tr>\n",
       "      <th>2</th>\n",
       "      <td>203</td>\n",
       "      <td>Faith</td>\n",
       "    </tr>\n",
       "    <tr>\n",
       "      <th>3</th>\n",
       "      <td>401</td>\n",
       "      <td>Delali</td>\n",
       "    </tr>\n",
       "  </tbody>\n",
       "</table>\n",
       "</div>"
      ],
      "text/plain": [
       "   ID_Number    Names\n",
       "0        101  Felihle\n",
       "1        202   Sandra\n",
       "2        203    Faith\n",
       "3        401   Delali"
      ]
     },
     "execution_count": 135,
     "metadata": {},
     "output_type": "execute_result"
    }
   ],
   "source": [
    "df"
   ]
  },
  {
   "cell_type": "code",
   "execution_count": 136,
   "id": "c0317401-efe2-4f0e-a2c1-ff7633c3ff61",
   "metadata": {},
   "outputs": [
    {
     "data": {
      "text/plain": [
       "(4, 2)"
      ]
     },
     "execution_count": 136,
     "metadata": {},
     "output_type": "execute_result"
    }
   ],
   "source": [
    "# Check rows and columns\n",
    "\n",
    "df.shape"
   ]
  },
  {
   "cell_type": "markdown",
   "id": "aab55741-482d-4551-a355-0b685f88941c",
   "metadata": {},
   "source": [
    "## How to extract data from a dataframe"
   ]
  },
  {
   "cell_type": "code",
   "execution_count": 137,
   "id": "1ba7e39a-55a0-4cd9-87ea-505cebc18c2c",
   "metadata": {},
   "outputs": [
    {
     "data": {
      "text/html": [
       "<div>\n",
       "<style scoped>\n",
       "    .dataframe tbody tr th:only-of-type {\n",
       "        vertical-align: middle;\n",
       "    }\n",
       "\n",
       "    .dataframe tbody tr th {\n",
       "        vertical-align: top;\n",
       "    }\n",
       "\n",
       "    .dataframe thead th {\n",
       "        text-align: right;\n",
       "    }\n",
       "</style>\n",
       "<table border=\"1\" class=\"dataframe\">\n",
       "  <thead>\n",
       "    <tr style=\"text-align: right;\">\n",
       "      <th></th>\n",
       "      <th>ID_Number</th>\n",
       "      <th>Names</th>\n",
       "    </tr>\n",
       "  </thead>\n",
       "  <tbody>\n",
       "    <tr>\n",
       "      <th>0</th>\n",
       "      <td>101</td>\n",
       "      <td>Felihle</td>\n",
       "    </tr>\n",
       "    <tr>\n",
       "      <th>1</th>\n",
       "      <td>202</td>\n",
       "      <td>Sandra</td>\n",
       "    </tr>\n",
       "  </tbody>\n",
       "</table>\n",
       "</div>"
      ],
      "text/plain": [
       "   ID_Number    Names\n",
       "0        101  Felihle\n",
       "1        202   Sandra"
      ]
     },
     "execution_count": 137,
     "metadata": {},
     "output_type": "execute_result"
    }
   ],
   "source": [
    "df.iloc[0:2]"
   ]
  },
  {
   "cell_type": "code",
   "execution_count": 138,
   "id": "8e438acd-91ee-452a-92fd-020489004d17",
   "metadata": {},
   "outputs": [
    {
     "data": {
      "text/plain": [
       "0    Felihle\n",
       "1     Sandra\n",
       "Name: Names, dtype: object"
      ]
     },
     "execution_count": 138,
     "metadata": {},
     "output_type": "execute_result"
    }
   ],
   "source": [
    "df.iloc[0:2,1]"
   ]
  },
  {
   "cell_type": "code",
   "execution_count": 139,
   "id": "1a2e37a3-7282-4db9-ae5e-0baec6a7047b",
   "metadata": {},
   "outputs": [
    {
     "data": {
      "text/plain": [
       "0    101\n",
       "1    202\n",
       "Name: ID_Number, dtype: int64"
      ]
     },
     "execution_count": 139,
     "metadata": {},
     "output_type": "execute_result"
    }
   ],
   "source": [
    "df.iloc[0:2,0]"
   ]
  },
  {
   "cell_type": "code",
   "execution_count": 140,
   "id": "86a7e993-be1a-484c-bbf8-c7b30e9c6b44",
   "metadata": {},
   "outputs": [
    {
     "data": {
      "text/plain": [
       "0    Felihle\n",
       "1     Sandra\n",
       "Name: Names, dtype: object"
      ]
     },
     "execution_count": 140,
     "metadata": {},
     "output_type": "execute_result"
    }
   ],
   "source": [
    "df.loc[0:1, 'Names']"
   ]
  },
  {
   "cell_type": "code",
   "execution_count": 141,
   "id": "c1455b79-d368-4d68-9f41-02cb9e06a40d",
   "metadata": {},
   "outputs": [
    {
     "data": {
      "text/html": [
       "<div>\n",
       "<style scoped>\n",
       "    .dataframe tbody tr th:only-of-type {\n",
       "        vertical-align: middle;\n",
       "    }\n",
       "\n",
       "    .dataframe tbody tr th {\n",
       "        vertical-align: top;\n",
       "    }\n",
       "\n",
       "    .dataframe thead th {\n",
       "        text-align: right;\n",
       "    }\n",
       "</style>\n",
       "<table border=\"1\" class=\"dataframe\">\n",
       "  <thead>\n",
       "    <tr style=\"text-align: right;\">\n",
       "      <th></th>\n",
       "      <th>ID_Number</th>\n",
       "      <th>Names</th>\n",
       "    </tr>\n",
       "  </thead>\n",
       "  <tbody>\n",
       "    <tr>\n",
       "      <th>0</th>\n",
       "      <td>101</td>\n",
       "      <td>Felihle</td>\n",
       "    </tr>\n",
       "    <tr>\n",
       "      <th>2</th>\n",
       "      <td>203</td>\n",
       "      <td>Faith</td>\n",
       "    </tr>\n",
       "  </tbody>\n",
       "</table>\n",
       "</div>"
      ],
      "text/plain": [
       "   ID_Number    Names\n",
       "0        101  Felihle\n",
       "2        203    Faith"
      ]
     },
     "execution_count": 141,
     "metadata": {},
     "output_type": "execute_result"
    }
   ],
   "source": [
    "df.iloc[0:3:2]"
   ]
  },
  {
   "cell_type": "code",
   "execution_count": 142,
   "id": "4982c311-fc58-4b06-ae6b-c08eab28d2c2",
   "metadata": {},
   "outputs": [
    {
     "data": {
      "text/plain": [
       "0    Felihle\n",
       "2      Faith\n",
       "Name: Names, dtype: object"
      ]
     },
     "execution_count": 142,
     "metadata": {},
     "output_type": "execute_result"
    }
   ],
   "source": [
    "df.iloc[0:3:2, 1]"
   ]
  },
  {
   "cell_type": "code",
   "execution_count": 143,
   "id": "0866cfc1-da50-4a6c-bae3-7e7ba20bb67c",
   "metadata": {},
   "outputs": [
    {
     "data": {
      "text/html": [
       "<div>\n",
       "<style scoped>\n",
       "    .dataframe tbody tr th:only-of-type {\n",
       "        vertical-align: middle;\n",
       "    }\n",
       "\n",
       "    .dataframe tbody tr th {\n",
       "        vertical-align: top;\n",
       "    }\n",
       "\n",
       "    .dataframe thead th {\n",
       "        text-align: right;\n",
       "    }\n",
       "</style>\n",
       "<table border=\"1\" class=\"dataframe\">\n",
       "  <thead>\n",
       "    <tr style=\"text-align: right;\">\n",
       "      <th></th>\n",
       "      <th>ID_Number</th>\n",
       "      <th>Names</th>\n",
       "    </tr>\n",
       "  </thead>\n",
       "  <tbody>\n",
       "    <tr>\n",
       "      <th>0</th>\n",
       "      <td>101</td>\n",
       "      <td>Felihle</td>\n",
       "    </tr>\n",
       "    <tr>\n",
       "      <th>2</th>\n",
       "      <td>203</td>\n",
       "      <td>Faith</td>\n",
       "    </tr>\n",
       "  </tbody>\n",
       "</table>\n",
       "</div>"
      ],
      "text/plain": [
       "   ID_Number    Names\n",
       "0        101  Felihle\n",
       "2        203    Faith"
      ]
     },
     "execution_count": 143,
     "metadata": {},
     "output_type": "execute_result"
    }
   ],
   "source": [
    "df.loc[0:2:2]"
   ]
  },
  {
   "cell_type": "code",
   "execution_count": 144,
   "id": "f2333c5d-63de-4035-b397-265616dff5cd",
   "metadata": {},
   "outputs": [
    {
     "data": {
      "text/plain": [
       "0    Felihle\n",
       "2      Faith\n",
       "Name: Names, dtype: object"
      ]
     },
     "execution_count": 144,
     "metadata": {},
     "output_type": "execute_result"
    }
   ],
   "source": [
    "df.loc[0:2:2, 'Names']"
   ]
  },
  {
   "cell_type": "markdown",
   "id": "0df59805-d1e3-4b44-9ca0-f58c88838fe5",
   "metadata": {},
   "source": [
    "Creating "
   ]
  },
  {
   "cell_type": "code",
   "execution_count": 145,
   "id": "5d2550af-ac6c-4b00-86a4-803f829523d9",
   "metadata": {},
   "outputs": [],
   "source": [
    "df['Age'] = [12, 5, 7, 8]"
   ]
  },
  {
   "cell_type": "code",
   "execution_count": 146,
   "id": "d5b9a1e6-3840-4169-83ae-b80b3bdf5b81",
   "metadata": {},
   "outputs": [
    {
     "data": {
      "text/html": [
       "<div>\n",
       "<style scoped>\n",
       "    .dataframe tbody tr th:only-of-type {\n",
       "        vertical-align: middle;\n",
       "    }\n",
       "\n",
       "    .dataframe tbody tr th {\n",
       "        vertical-align: top;\n",
       "    }\n",
       "\n",
       "    .dataframe thead th {\n",
       "        text-align: right;\n",
       "    }\n",
       "</style>\n",
       "<table border=\"1\" class=\"dataframe\">\n",
       "  <thead>\n",
       "    <tr style=\"text-align: right;\">\n",
       "      <th></th>\n",
       "      <th>ID_Number</th>\n",
       "      <th>Names</th>\n",
       "      <th>Age</th>\n",
       "    </tr>\n",
       "  </thead>\n",
       "  <tbody>\n",
       "    <tr>\n",
       "      <th>0</th>\n",
       "      <td>101</td>\n",
       "      <td>Felihle</td>\n",
       "      <td>12</td>\n",
       "    </tr>\n",
       "    <tr>\n",
       "      <th>1</th>\n",
       "      <td>202</td>\n",
       "      <td>Sandra</td>\n",
       "      <td>5</td>\n",
       "    </tr>\n",
       "    <tr>\n",
       "      <th>2</th>\n",
       "      <td>203</td>\n",
       "      <td>Faith</td>\n",
       "      <td>7</td>\n",
       "    </tr>\n",
       "    <tr>\n",
       "      <th>3</th>\n",
       "      <td>401</td>\n",
       "      <td>Delali</td>\n",
       "      <td>8</td>\n",
       "    </tr>\n",
       "  </tbody>\n",
       "</table>\n",
       "</div>"
      ],
      "text/plain": [
       "   ID_Number    Names  Age\n",
       "0        101  Felihle   12\n",
       "1        202   Sandra    5\n",
       "2        203    Faith    7\n",
       "3        401   Delali    8"
      ]
     },
     "execution_count": 146,
     "metadata": {},
     "output_type": "execute_result"
    }
   ],
   "source": [
    "df"
   ]
  },
  {
   "cell_type": "code",
   "execution_count": 147,
   "id": "4b053c57-33fe-441d-a0ab-005b5d616e35",
   "metadata": {},
   "outputs": [],
   "source": [
    "df['Grades'] = [4.5, 3.2, 4.0, 3.3]"
   ]
  },
  {
   "cell_type": "code",
   "execution_count": 148,
   "id": "7a4decdf-b5f5-4fc1-a58c-e80c9cfe1546",
   "metadata": {},
   "outputs": [
    {
     "data": {
      "text/html": [
       "<div>\n",
       "<style scoped>\n",
       "    .dataframe tbody tr th:only-of-type {\n",
       "        vertical-align: middle;\n",
       "    }\n",
       "\n",
       "    .dataframe tbody tr th {\n",
       "        vertical-align: top;\n",
       "    }\n",
       "\n",
       "    .dataframe thead th {\n",
       "        text-align: right;\n",
       "    }\n",
       "</style>\n",
       "<table border=\"1\" class=\"dataframe\">\n",
       "  <thead>\n",
       "    <tr style=\"text-align: right;\">\n",
       "      <th></th>\n",
       "      <th>ID_Number</th>\n",
       "      <th>Names</th>\n",
       "      <th>Age</th>\n",
       "      <th>Grades</th>\n",
       "    </tr>\n",
       "  </thead>\n",
       "  <tbody>\n",
       "    <tr>\n",
       "      <th>0</th>\n",
       "      <td>101</td>\n",
       "      <td>Felihle</td>\n",
       "      <td>12</td>\n",
       "      <td>4.5</td>\n",
       "    </tr>\n",
       "    <tr>\n",
       "      <th>1</th>\n",
       "      <td>202</td>\n",
       "      <td>Sandra</td>\n",
       "      <td>5</td>\n",
       "      <td>3.2</td>\n",
       "    </tr>\n",
       "    <tr>\n",
       "      <th>2</th>\n",
       "      <td>203</td>\n",
       "      <td>Faith</td>\n",
       "      <td>7</td>\n",
       "      <td>4.0</td>\n",
       "    </tr>\n",
       "    <tr>\n",
       "      <th>3</th>\n",
       "      <td>401</td>\n",
       "      <td>Delali</td>\n",
       "      <td>8</td>\n",
       "      <td>3.3</td>\n",
       "    </tr>\n",
       "  </tbody>\n",
       "</table>\n",
       "</div>"
      ],
      "text/plain": [
       "   ID_Number    Names  Age  Grades\n",
       "0        101  Felihle   12     4.5\n",
       "1        202   Sandra    5     3.2\n",
       "2        203    Faith    7     4.0\n",
       "3        401   Delali    8     3.3"
      ]
     },
     "execution_count": 148,
     "metadata": {},
     "output_type": "execute_result"
    }
   ],
   "source": [
    "df"
   ]
  },
  {
   "cell_type": "markdown",
   "id": "c9a16597-fb37-4b22-9fe8-4f769bc499a3",
   "metadata": {},
   "source": [
    "Assignment: slide 31"
   ]
  },
  {
   "cell_type": "code",
   "execution_count": null,
   "id": "84803885-b9d9-40f5-ad3e-40bae318fab4",
   "metadata": {},
   "outputs": [],
   "source": []
  }
 ],
 "metadata": {
  "kernelspec": {
   "display_name": "Python 3 (ipykernel)",
   "language": "python",
   "name": "python3"
  },
  "language_info": {
   "codemirror_mode": {
    "name": "ipython",
    "version": 3
   },
   "file_extension": ".py",
   "mimetype": "text/x-python",
   "name": "python",
   "nbconvert_exporter": "python",
   "pygments_lexer": "ipython3",
   "version": "3.11.5"
  }
 },
 "nbformat": 4,
 "nbformat_minor": 5
}
