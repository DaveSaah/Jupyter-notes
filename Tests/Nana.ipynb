{
 "cells": [
  {
   "cell_type": "markdown",
   "id": "9e371656",
   "metadata": {},
   "source": [
    "## Input & Output\n"
   ]
  },
  {
   "cell_type": "code",
   "execution_count": 2,
   "id": "eefae1d5",
   "metadata": {
    "scrolled": true
   },
   "outputs": [
    {
     "name": "stdout",
     "output_type": "stream",
     "text": [
      "Hello, my name is Nana\n"
     ]
    }
   ],
   "source": [
    "print(\"Hello, my name is Nana\")"
   ]
  },
  {
   "cell_type": "markdown",
   "id": "e9f3632b",
   "metadata": {},
   "source": [
    "Write a program to check if a citizen is eligible to vote"
   ]
  },
  {
   "cell_type": "markdown",
   "id": "a66cf30b",
   "metadata": {},
   "source": [
    "* Age\n",
    "* Age => 18"
   ]
  },
  {
   "cell_type": "markdown",
   "id": "d10b495c",
   "metadata": {},
   "source": [
    "Three types of presenting algorithms. Remember algorithm is a sequence of step we need to follow to solve a problem. \n",
    "\n",
    "1. Pseudo code\n",
    "2. Flowchart\n",
    "3. Actual code"
   ]
  },
  {
   "cell_type": "markdown",
   "id": "9dd99e5e",
   "metadata": {},
   "source": [
    "To add two numbers, display their sum"
   ]
  },
  {
   "cell_type": "markdown",
   "id": "e8364f7d",
   "metadata": {},
   "source": [
    "1. Choose the numbers\n",
    "2. Add them\n",
    "3. Show the answer"
   ]
  },
  {
   "cell_type": "markdown",
   "id": "b2a29414",
   "metadata": {},
   "source": [
    "## Variables\n"
   ]
  },
  {
   "cell_type": "markdown",
   "id": "7ab44342",
   "metadata": {},
   "source": [
    "A variable is a memory location used to hold data. "
   ]
  },
  {
   "cell_type": "code",
   "execution_count": null,
   "id": "9637e33f",
   "metadata": {},
   "outputs": [],
   "source": [
    "1\n",
    "2\n",
    "1+2\n",
    "(1+2) x 3\n",
    "print((1+2) x 3)"
   ]
  },
  {
   "cell_type": "code",
   "execution_count": 1,
   "id": "1c206e83",
   "metadata": {},
   "outputs": [
    {
     "name": "stdout",
     "output_type": "stream",
     "text": [
      "9\n"
     ]
    }
   ],
   "source": [
    "num1 = 1\n",
    "num2 = 2\n",
    "sum_ = num1 + num2\n",
    "answer = sum_ * 3\n",
    "print(answer)"
   ]
  },
  {
   "cell_type": "markdown",
   "id": "1e5b1196",
   "metadata": {},
   "source": [
    "1. Variables must not start with numbers or symbols but it can start with alphabets(capital or lowercase) or underscore(\\_)\n",
    "2. Variable names must not be a keyword in the language being used. In our case is python. \n",
    "3. Variable names cannot be function names in the language being used. "
   ]
  },
  {
   "cell_type": "code",
   "execution_count": 2,
   "id": "223766bb",
   "metadata": {},
   "outputs": [
    {
     "name": "stdout",
     "output_type": "stream",
     "text": [
      "\n",
      "Here is a list of the Python keywords.  Enter any keyword to get more help.\n",
      "\n",
      "False               class               from                or\n",
      "None                continue            global              pass\n",
      "True                def                 if                  raise\n",
      "and                 del                 import              return\n",
      "as                  elif                in                  try\n",
      "assert              else                is                  while\n",
      "async               except              lambda              with\n",
      "await               finally             nonlocal            yield\n",
      "break               for                 not                 \n",
      "\n"
     ]
    }
   ],
   "source": [
    "help('keywords')"
   ]
  },
  {
   "cell_type": "code",
   "execution_count": 3,
   "id": "4e419d91",
   "metadata": {},
   "outputs": [
    {
     "name": "stdout",
     "output_type": "stream",
     "text": [
      "Nana\n",
      "Yaw\n",
      "David\n"
     ]
    }
   ],
   "source": [
    "name = \"Nana\"\n",
    "Name = \"Yaw\"\n",
    "NAme = \"David\"\n",
    "print(name)\n",
    "print(Name)\n",
    "print(NAme)"
   ]
  },
  {
   "cell_type": "markdown",
   "id": "182bdfd5",
   "metadata": {},
   "source": [
    "## Pseudo Code\n",
    "Pseudo code is a way of representing an algorithm using English-like structure. "
   ]
  },
  {
   "cell_type": "markdown",
   "id": "339cc115",
   "metadata": {},
   "source": [
    "## Some Keywords When Writing Psedo Code\n",
    "* Input\n",
    "* Diplay/Show/Print\n",
    "* add, subtract, multiply, divide"
   ]
  },
  {
   "cell_type": "code",
   "execution_count": null,
   "id": "c424386e",
   "metadata": {},
   "outputs": [],
   "source": []
  },
  {
   "cell_type": "markdown",
   "id": "920c4c50",
   "metadata": {},
   "source": [
    "### Write an algorithm to check if someone is eligible to vote"
   ]
  },
  {
   "cell_type": "markdown",
   "id": "cc318045",
   "metadata": {},
   "source": [
    "1. Input age\n",
    "2. If age is below 18\n",
    "3. Display \"The person cannot vote\"\n",
    "4. If age is 18 and above\n",
    "5. Display \"The person can vote\""
   ]
  },
  {
   "cell_type": "markdown",
   "id": "8a6cebe4",
   "metadata": {},
   "source": [
    "### Assignment 1\n",
    "\n",
    "Write an algorithm to calculate simple interest and display the result."
   ]
  },
  {
   "cell_type": "code",
   "execution_count": null,
   "id": "4225eaa0",
   "metadata": {},
   "outputs": [],
   "source": []
  },
  {
   "cell_type": "code",
   "execution_count": null,
   "id": "4fcc3c16",
   "metadata": {},
   "outputs": [],
   "source": []
  },
  {
   "cell_type": "code",
   "execution_count": null,
   "id": "0208fd2f",
   "metadata": {},
   "outputs": [],
   "source": []
  },
  {
   "cell_type": "code",
   "execution_count": null,
   "id": "19ad4164",
   "metadata": {},
   "outputs": [],
   "source": []
  },
  {
   "cell_type": "code",
   "execution_count": null,
   "id": "903b190d",
   "metadata": {},
   "outputs": [],
   "source": []
  },
  {
   "cell_type": "code",
   "execution_count": null,
   "id": "2c226de1",
   "metadata": {},
   "outputs": [],
   "source": []
  },
  {
   "cell_type": "code",
   "execution_count": null,
   "id": "7037364e",
   "metadata": {},
   "outputs": [],
   "source": []
  },
  {
   "cell_type": "code",
   "execution_count": null,
   "id": "bd62ae61",
   "metadata": {},
   "outputs": [],
   "source": []
  },
  {
   "cell_type": "markdown",
   "id": "fb90ab7f",
   "metadata": {},
   "source": []
  }
 ],
 "metadata": {
  "kernelspec": {
   "display_name": "Python 3 (ipykernel)",
   "language": "python",
   "name": "python3"
  },
  "language_info": {
   "codemirror_mode": {
    "name": "ipython",
    "version": 3
   },
   "file_extension": ".py",
   "mimetype": "text/x-python",
   "name": "python",
   "nbconvert_exporter": "python",
   "pygments_lexer": "ipython3",
   "version": "3.8.12"
  }
 },
 "nbformat": 4,
 "nbformat_minor": 5
}
