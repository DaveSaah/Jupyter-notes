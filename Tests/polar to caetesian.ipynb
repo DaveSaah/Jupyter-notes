{
 "cells": [
  {
   "cell_type": "code",
   "execution_count": 34,
   "id": "fb2d1608",
   "metadata": {},
   "outputs": [],
   "source": [
    "from math import sin, cos, pi, sqrt, atan2\n",
    "\n",
    "\n",
    "def pol2car():\n",
    "    print('Enter polar coordinates: (radius, angle)')\n",
    "\n",
    "    radius, angle = (input('radius: '), input('angle: '))\n",
    "\n",
    "    angle_num, angle_dem = angle.split('/')\n",
    "\n",
    "    radius = float(radius)\n",
    "    angle_num, angle_dem = float(angle_num), float(angle_dem)\n",
    "\n",
    "    x = radius * cos((angle_num * pi)/angle_dem)\n",
    "    y = radius * sin((angle_num * pi)/angle_dem)\n",
    "\n",
    "    x, y = round(x,2), round(y,2)\n",
    "\n",
    "    print(f'The cartesian coordinates are: ({x}, {y})')"
   ]
  },
  {
   "cell_type": "code",
   "execution_count": 44,
   "id": "a4cf89d3",
   "metadata": {
    "scrolled": true
   },
   "outputs": [],
   "source": [
    "def car2pol():\n",
    "    print('Enter cartesian coordinates (x, y)')\n",
    "    x, y = (input('x: '), input('y: '))\n",
    "\n",
    "    x, y = float(x), float(y)\n",
    "\n",
    "    radius = sqrt(x**2 + y**2)\n",
    "    angle = atan2(x,y)\n",
    "\n",
    "    radius, angle = round(radius, 2), round(angle, 2)\n",
    "\n",
    "    print(f'The polar coodinates are: ({radius}, {angle})')"
   ]
  },
  {
   "cell_type": "code",
   "execution_count": 45,
   "id": "9f3e1eb0",
   "metadata": {},
   "outputs": [
    {
     "name": "stdout",
     "output_type": "stream",
     "text": [
      "Enter cartesian coordinates (x, y)\n",
      "x: -1\n",
      "y: -1\n",
      "The polar coodinates are: (1.41, -2.36)\n"
     ]
    }
   ],
   "source": [
    "car2pol()"
   ]
  },
  {
   "cell_type": "code",
   "execution_count": 50,
   "id": "9a234e44",
   "metadata": {},
   "outputs": [
    {
     "name": "stdout",
     "output_type": "stream",
     "text": [
      "0.0\n",
      "0.7853981633974483\n",
      "1.5707963267948966\n",
      "2.356194490192345\n",
      "3.141592653589793\n",
      "3.9269908169872414\n",
      "4.71238898038469\n",
      "5.497787143782138\n",
      "6.283185307179586\n",
      "7.0685834705770345\n"
     ]
    }
   ],
   "source": [
    "for x in range(10):\n",
    "    print((x*pi)/4)"
   ]
  }
 ],
 "metadata": {
  "kernelspec": {
   "display_name": "Python 3 (ipykernel)",
   "language": "python",
   "name": "python3"
  },
  "language_info": {
   "codemirror_mode": {
    "name": "ipython",
    "version": 3
   },
   "file_extension": ".py",
   "mimetype": "text/x-python",
   "name": "python",
   "nbconvert_exporter": "python",
   "pygments_lexer": "ipython3",
   "version": "3.8.12"
  }
 },
 "nbformat": 4,
 "nbformat_minor": 5
}
