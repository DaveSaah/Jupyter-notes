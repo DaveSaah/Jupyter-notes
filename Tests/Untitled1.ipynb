{
 "cells": [
  {
   "cell_type": "code",
   "execution_count": 1,
   "id": "afc640cd",
   "metadata": {},
   "outputs": [
    {
     "ename": "SyntaxError",
     "evalue": "incomplete input (3143232176.py, line 1)",
     "output_type": "error",
     "traceback": [
      "\u001b[0;36m  Input \u001b[0;32mIn [1]\u001b[0;36m\u001b[0m\n\u001b[0;31m    print(23\u001b[0m\n\u001b[0m            ^\u001b[0m\n\u001b[0;31mSyntaxError\u001b[0m\u001b[0;31m:\u001b[0m incomplete input\n"
     ]
    }
   ],
   "source": [
    "print(23"
   ]
  },
  {
   "cell_type": "code",
   "execution_count": 3,
   "id": "faeda286",
   "metadata": {},
   "outputs": [
    {
     "ename": "NameError",
     "evalue": "name 'print23' is not defined",
     "output_type": "error",
     "traceback": [
      "\u001b[0;31m---------------------------------------------------------------------------\u001b[0m",
      "\u001b[0;31mNameError\u001b[0m                                 Traceback (most recent call last)",
      "Input \u001b[0;32mIn [3]\u001b[0m, in \u001b[0;36m<cell line: 1>\u001b[0;34m()\u001b[0m\n\u001b[0;32m----> 1\u001b[0m \u001b[43mprint23\u001b[49m\n",
      "\u001b[0;31mNameError\u001b[0m: name 'print23' is not defined"
     ]
    }
   ],
   "source": [
    "print23"
   ]
  },
  {
   "cell_type": "code",
   "execution_count": 4,
   "id": "f710048a",
   "metadata": {},
   "outputs": [
    {
     "ename": "SyntaxError",
     "evalue": "unterminated string literal (detected at line 1) (2846080217.py, line 1)",
     "output_type": "error",
     "traceback": [
      "\u001b[0;36m  Input \u001b[0;32mIn [4]\u001b[0;36m\u001b[0m\n\u001b[0;31m    print('wee)\u001b[0m\n\u001b[0m          ^\u001b[0m\n\u001b[0;31mSyntaxError\u001b[0m\u001b[0;31m:\u001b[0m unterminated string literal (detected at line 1)\n"
     ]
    }
   ],
   "source": [
    "print('wee)"
   ]
  },
  {
   "cell_type": "code",
   "execution_count": 7,
   "id": "1eca8f15",
   "metadata": {},
   "outputs": [
    {
     "name": "stdout",
     "output_type": "stream",
     "text": [
      "2562 seconds\n"
     ]
    }
   ],
   "source": [
    "minutes = 42\n",
    "seconds = 42\n",
    "total_seconds = (42*60) + 42\n",
    "print(total_seconds, \"seconds\")"
   ]
  },
  {
   "cell_type": "code",
   "execution_count": 8,
   "id": "23005214",
   "metadata": {},
   "outputs": [
    {
     "name": "stdout",
     "output_type": "stream",
     "text": [
      "6.211180124223602 miles\n"
     ]
    }
   ],
   "source": [
    "kilo = 10\n",
    "miles = kilo/1.61\n",
    "print(miles, \"miles\")"
   ]
  },
  {
   "cell_type": "code",
   "execution_count": 9,
   "id": "73cdc815",
   "metadata": {},
   "outputs": [
    {
     "name": "stdout",
     "output_type": "stream",
     "text": [
      "412.482 seconds per mile\n",
      "6.874700000000002 minutes per mile\n",
      "8.727653570337614 miles per hour\n"
     ]
    }
   ],
   "source": [
    "distance_kilometer = 10\n",
    "distance_miles = distance_kilometer/1.61\n",
    "time_seconds = (42*60) + 42\n",
    "time_minutes = 42 + (42/60)\n",
    "time_hour = time_minutes/60\n",
    "seconds_average_pace = time_seconds/distance_miles\n",
    "minutes_average_pace = time_minutes/distance_miles\n",
    "average_speed = distance_miles/time_hour\n",
    "\n",
    "print(seconds_average_pace, \"seconds per mile\")\n",
    "print(minutes_average_pace, \"minutes per mile\")\n",
    "print(average_speed, \"miles per hour\")"
   ]
  },
  {
   "cell_type": "code",
   "execution_count": 10,
   "id": "0f0f6949",
   "metadata": {},
   "outputs": [
    {
     "ename": "SyntaxError",
     "evalue": "cannot assign to literal here. Maybe you meant '==' instead of '='? (3090476294.py, line 1)",
     "output_type": "error",
     "traceback": [
      "\u001b[0;36m  Input \u001b[0;32mIn [10]\u001b[0;36m\u001b[0m\n\u001b[0;31m    42 = n\u001b[0m\n\u001b[0m    ^\u001b[0m\n\u001b[0;31mSyntaxError\u001b[0m\u001b[0;31m:\u001b[0m cannot assign to literal here. Maybe you meant '==' instead of '='?\n"
     ]
    }
   ],
   "source": [
    "42 = n"
   ]
  },
  {
   "cell_type": "code",
   "execution_count": 13,
   "id": "e4848c3e",
   "metadata": {},
   "outputs": [
    {
     "ename": "SyntaxError",
     "evalue": "invalid syntax (759916053.py, line 1)",
     "output_type": "error",
     "traceback": [
      "\u001b[0;36m  Input \u001b[0;32mIn [13]\u001b[0;36m\u001b[0m\n\u001b[0;31m    print(\"hel\").\u001b[0m\n\u001b[0m                 ^\u001b[0m\n\u001b[0;31mSyntaxError\u001b[0m\u001b[0;31m:\u001b[0m invalid syntax\n"
     ]
    }
   ],
   "source": [
    "print(\"hel\")."
   ]
  },
  {
   "cell_type": "code",
   "execution_count": 12,
   "id": "5528d9f8",
   "metadata": {},
   "outputs": [],
   "source": [
    "x = y = 1"
   ]
  },
  {
   "cell_type": "code",
   "execution_count": 17,
   "id": "226c826b",
   "metadata": {},
   "outputs": [
    {
     "ename": "NameError",
     "evalue": "name 'xy' is not defined",
     "output_type": "error",
     "traceback": [
      "\u001b[0;31m---------------------------------------------------------------------------\u001b[0m",
      "\u001b[0;31mNameError\u001b[0m                                 Traceback (most recent call last)",
      "Input \u001b[0;32mIn [17]\u001b[0m, in \u001b[0;36m<cell line: 1>\u001b[0;34m()\u001b[0m\n\u001b[0;32m----> 1\u001b[0m \u001b[43mxy\u001b[49m\n",
      "\u001b[0;31mNameError\u001b[0m: name 'xy' is not defined"
     ]
    }
   ],
   "source": [
    "xy"
   ]
  },
  {
   "cell_type": "code",
   "execution_count": 18,
   "id": "cf4b7442",
   "metadata": {},
   "outputs": [
    {
     "data": {
      "text/plain": [
       "523.5987755982989"
      ]
     },
     "execution_count": 18,
     "metadata": {},
     "output_type": "execute_result"
    }
   ],
   "source": [
    "import math\n",
    "(4/3) * math.pi * (5**3)"
   ]
  },
  {
   "cell_type": "code",
   "execution_count": 20,
   "id": "d7fc7bd6",
   "metadata": {},
   "outputs": [
    {
     "name": "stdout",
     "output_type": "stream",
     "text": [
      "945.4499999999999\n"
     ]
    }
   ],
   "source": [
    "dis = 0.4 * 24.95\n",
    "cost1 = 3 + (59 * 0.75)\n",
    "new = 60 * (24.95-dis)\n",
    "total = new + cost1\n",
    "print(total)/[.]"
   ]
  },
  {
   "cell_type": "code",
   "execution_count": null,
   "id": "c143636b",
   "metadata": {},
   "outputs": [],
   "source": []
  },
  {
   "cell_type": "code",
   "execution_count": null,
   "id": "a315b2ce",
   "metadata": {},
   "outputs": [],
   "source": []
  }
 ],
 "metadata": {
  "kernelspec": {
   "display_name": "Python 3 (ipykernel)",
   "language": "python",
   "name": "python3"
  },
  "language_info": {
   "codemirror_mode": {
    "name": "ipython",
    "version": 3
   },
   "file_extension": ".py",
   "mimetype": "text/x-python",
   "name": "python",
   "nbconvert_exporter": "python",
   "pygments_lexer": "ipython3",
   "version": "3.10.6"
  }
 },
 "nbformat": 4,
 "nbformat_minor": 5
}
