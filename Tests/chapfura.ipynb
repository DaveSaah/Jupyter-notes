{
 "cells": [
  {
   "cell_type": "raw",
   "id": "d498351a-d965-4d7d-a4e3-ec833c8ea496",
   "metadata": {},
   "source": [
    "+-------------------------+\n",
    "¦ 34 ¦ 21 ¦ 32 ¦ 41 ¦ 25 ¦\n",
    "+----+----+----+----+-----¦\n",
    "¦ 14 ¦ 42 ¦ 43 ¦ 14 ¦ 31 ¦\n",
    "+----+----+----+----+-----¦\n",
    "¦ 54 ¦ 45 ¦ 52 ¦ 42 ¦ 23 ¦\n",
    "+----+----+----+----+-----¦\n",
    "¦ 33 ¦ 15 ¦ 51 ¦ 31 ¦ 35 ¦\n",
    "+----+----+----+----+-----¦\n",
    "¦ 21 ¦ 52 ¦ 33 ¦ 13 ¦ 23 ¦\n",
    "+-------------------------+"
   ]
  },
  {
   "cell_type": "markdown",
   "id": "1505b3b1-393b-4ff1-b23b-93bfcd3bdbb6",
   "metadata": {},
   "source": [
    "## Task 3\n",
    "- Do you like treasure hunts? \n",
    "- In this problem, you are to write a program to explore the above array for a treasure. \n",
    "- The values in the array are clues. Each cell contains an integer between 11 and 55; for each value, the ten's digit represents the row number, and the unit's digit represents the column number of the cell containing the next clue. \n",
    "- Starting in the upper left corner (at 1,1), use the clues to guide your search of the array. \n",
    "- (The first three clues are 11, 34, 42). \n",
    "- The treasure is a cell whose value is the same as its coordinates. Your program must first read in the treasure map data into a 5 by 5 array. Your program should output the cells it visits during its search and a message indicating where you found the treasure."
   ]
  },
  {
   "cell_type": "code",
   "execution_count": 5,
   "id": "38a620ee",
   "metadata": {},
   "outputs": [],
   "source": [
    "grid = [\n",
    "    [34, 21, 32, 41, 25],\n",
    "    [14, 42, 43, 14, 31],\n",
    "    [54, 45, 52, 42, 23],\n",
    "    [33, 15, 51, 31, 35],\n",
    "    [21, 52, 33, 13, 23],\n",
    "]"
   ]
  },
  {
   "cell_type": "code",
   "execution_count": 10,
   "id": "9d3d6d04",
   "metadata": {},
   "outputs": [
    {
     "data": {
      "text/plain": [
       "34"
      ]
     },
     "execution_count": 10,
     "metadata": {},
     "output_type": "execute_result"
    }
   ],
   "source": [
    "grid[0][0] # 11"
   ]
  },
  {
   "cell_type": "code",
   "execution_count": 23,
   "id": "d2d8c052",
   "metadata": {},
   "outputs": [
    {
     "name": "stdout",
     "output_type": "stream",
     "text": [
      "52\n"
     ]
    }
   ],
   "source": [
    "treasure = 0\n",
    "clue = 11\n",
    "\n",
    "while treasure == 0:\n",
    "    x_cor = clue // 10\n",
    "    y_cor = clue % 10\n",
    "    value = grid[x_cor - 1][y_cor - 1]\n",
    "\n",
    "    if value == clue:\n",
    "        treasure = value\n",
    "        print(treasure)\n",
    "    else:\n",
    "        clue = value"
   ]
  },
  {
   "cell_type": "code",
   "execution_count": null,
   "id": "ec45dbed",
   "metadata": {},
   "outputs": [],
   "source": []
  },
  {
   "cell_type": "code",
   "execution_count": null,
   "id": "07714e73",
   "metadata": {},
   "outputs": [],
   "source": []
  },
  {
   "cell_type": "code",
   "execution_count": null,
   "id": "f9177bc0",
   "metadata": {},
   "outputs": [],
   "source": []
  },
  {
   "cell_type": "code",
   "execution_count": 1,
   "id": "31673c37-3f0a-49f1-add0-e06ad6d2913a",
   "metadata": {},
   "outputs": [],
   "source": [
    "grid = [\n",
    "    [34, 21, 32, 41, 25],\n",
    "    [14, 42, 43, 14, 31],\n",
    "    [54, 45, 52, 42, 23],\n",
    "    [33, 15, 51, 31, 35],\n",
    "    [21, 52, 33, 13, 23],\n",
    "]"
   ]
  },
  {
   "cell_type": "code",
   "execution_count": 3,
   "id": "f1444067-139d-4c62-af4e-f4768fbc3d45",
   "metadata": {},
   "outputs": [],
   "source": [
    "treasure = 0\n",
    "# count = 0\n",
    "clue = 11\n",
    "while treasure == 0:\n",
    "    column = clue % 10\n",
    "    row = (clue - column) // 10\n",
    "    value = grid[row-1][column-1]\n",
    "    # print(value)\n",
    "    # clue = value\n",
    "    # count += 1\n",
    "    # if count == 3:\n",
    "    #     break\n",
    "    if value == clue:\n",
    "        treasure = value\n",
    "        # break\n",
    "    else:\n",
    "        clue = value\n",
    "        # print(clue)\n",
    "        # continue\n",
    "    #print(f\"column: {column}; row: {row}; value: {value}\")"
   ]
  },
  {
   "cell_type": "code",
   "execution_count": 4,
   "id": "64aed850",
   "metadata": {},
   "outputs": [
    {
     "data": {
      "text/plain": [
       "52"
      ]
     },
     "execution_count": 4,
     "metadata": {},
     "output_type": "execute_result"
    }
   ],
   "source": [
    "treasure"
   ]
  },
  {
   "cell_type": "markdown",
   "id": "b4f73023",
   "metadata": {},
   "source": [
    "## Task 4\n",
    "\n",
    "- Write a program to search for the \"saddle points\" in a 5 by 5 array of integers. \n",
    "- A saddle point is a cell whose value is greater than or equal to any in its row, and less than or equal to any in its column. \n",
    "- There may be more than one saddle point in the array. Print out the coordinates of any saddle points your program finds. Print out \"No saddle points\" if there are none. \n",
    "- The results from the mayor's race have been reported by each precinct as follows:\n",
    "\n",
    "### Questions\n",
    "1. Read the raw vote totals from a data file that contains one row for each precinct.\n",
    "2. Display the table with appropriate headings for the rows and columns.\n",
    "3. Compute and display the total number of votes received by each candidate and the per cent of the total votes cast.\n",
    "4. If any one candidate received over 50% of the votes, the program should print a message declaring that candidate the winner.\n",
    "5. If no candidate received 50% of the votes, the program should print a message declaring a run-off between the two candidates receiving the highest number of votes; the two candidates should be identified by their letter names.\n",
    "6. For testing, run the program with the above data and also with another data file where Candidate C receives only 108 votes in precinct 4."
   ]
  },
  {
   "cell_type": "code",
   "execution_count": 75,
   "id": "5241b82b",
   "metadata": {},
   "outputs": [
    {
     "name": "stdout",
     "output_type": "stream",
     "text": [
      "[['1', '192', '48', '206', '37'], ['2', '147', '90', '312', '21'], ['3', '186', '12', '121', '38'], ['4', '114', '21', '408', '39'], ['5', '267', '13', '382', '29']]\n"
     ]
    }
   ],
   "source": [
    "votes = []\n",
    "with open(\"chapfura.txt\") as file:\n",
    "    for item in file.readlines():\n",
    "        item = item.strip()\n",
    "        item_ = item.split(' ')\n",
    "        votes.append(item_)\n",
    "\n",
    "print(votes)"
   ]
  },
  {
   "cell_type": "code",
   "execution_count": 4,
   "id": "a7436c9e",
   "metadata": {},
   "outputs": [
    {
     "name": "stdout",
     "output_type": "stream",
     "text": [
      "                  Candidate      Candidate      Candidate   \n",
      "   Precinct           A              B              C       \n",
      "       1             192            48             206      \n",
      "       2             147            90             312      \n",
      "       3             186            12             121      \n",
      "       4             114            21             408      \n",
      "       5             267            13             382      \n"
     ]
    }
   ],
   "source": [
    "print(\"{0:^15}{1:^15}{2:^15}{3:^15}\".format(\"\", \"Candidate\", \"Candidate\", \"Candidate\", \"Candidate\"))\n",
    "print(\"{0:^15}{1:^15}{2:^15}{3:^15}\".format(\"Precinct\", \"A\", \"B\", \"C\", \"D\"))\n",
    "\n",
    "for vote in votes:\n",
    "    print(\"{0:^15}{1:^15}{2:^15}{3:^15}\".format(vote[0], vote[1], vote[2], vote[3], vote[4]))\n"
   ]
  },
  {
   "cell_type": "code",
   "execution_count": 5,
   "id": "f6482c32",
   "metadata": {},
   "outputs": [
    {
     "name": "stdout",
     "output_type": "stream",
     "text": [
      "906\n"
     ]
    }
   ],
   "source": [
    "totalA = 0\n",
    "\n",
    "for some in votes:\n",
    "    totalA += int(some[1])\n",
    "\n",
    "print(totalA)"
   ]
  },
  {
   "cell_type": "code",
   "execution_count": 6,
   "id": "3c6647ad",
   "metadata": {},
   "outputs": [],
   "source": [
    "num1 = 34\n",
    "num2 = 67\n",
    "num3 = 89\n",
    "num4 = 12"
   ]
  },
  {
   "cell_type": "code",
   "execution_count": 48,
   "id": "1e414214",
   "metadata": {},
   "outputs": [
    {
     "data": {
      "text/plain": [
       "['num2', 'num3']"
      ]
     },
     "execution_count": 48,
     "metadata": {},
     "output_type": "execute_result"
    }
   ],
   "source": [
    "num1 = 34\n",
    "num2 = 67\n",
    "num3 = 89\n",
    "num4 = 12\n",
    "\n",
    "scores = {\n",
    "    \"num1\": num1,\n",
    "    \"num2\": num2, \n",
    "    \"num3\": num3, \n",
    "    \"num4\": num4,\n",
    "}\n",
    "\n",
    "twomax = sorted(scores.values())[-2:]\n",
    "\n",
    "[name for name, score in scores.items() if score in twomax]"
   ]
  },
  {
   "cell_type": "code",
   "execution_count": 49,
   "id": "45451fbc",
   "metadata": {},
   "outputs": [
    {
     "data": {
      "text/plain": [
       "dict_items([('num1', 34), ('num2', 67), ('num3', 89), ('num4', 12)])"
      ]
     },
     "execution_count": 49,
     "metadata": {},
     "output_type": "execute_result"
    }
   ],
   "source": [
    "scores.items()"
   ]
  },
  {
   "cell_type": "code",
   "execution_count": 50,
   "id": "bf4fdd08",
   "metadata": {},
   "outputs": [
    {
     "data": {
      "text/plain": [
       "['num2', 'num3']"
      ]
     },
     "execution_count": 50,
     "metadata": {},
     "output_type": "execute_result"
    }
   ],
   "source": [
    "[name for name, score in scores.items() if score in twomax]"
   ]
  },
  {
   "cell_type": "code",
   "execution_count": 87,
   "id": "172b0867",
   "metadata": {},
   "outputs": [],
   "source": [
    "\n"
   ]
  },
  {
   "cell_type": "code",
   "execution_count": 76,
   "id": "53509ca4",
   "metadata": {},
   "outputs": [],
   "source": [
    "for x in range(len(votes)):\n",
    "    for y in x:\n",
    "        votes[x][y] = y\n"
   ]
  },
  {
   "cell_type": "code",
   "execution_count": 88,
   "id": "c17fe4ac",
   "metadata": {},
   "outputs": [],
   "source": [
    "nums = [\n",
    "    [1, 192, 48, 206, 37],\n",
    "    [2, 147, 90, 312, 21],\n",
    "    [3, 186, 12, 121, 38],\n",
    "    [4, 114, 21, 408, 39],\n",
    "    [5, 267, 13, 382, 29],\n",
    "    ]"
   ]
  },
  {
   "cell_type": "code",
   "execution_count": 89,
   "id": "d0954e39",
   "metadata": {},
   "outputs": [],
   "source": [
    "column1 = []\n",
    "column2 = []\n",
    "column3 = []\n",
    "column4 = []\n",
    "column5 = []\n",
    "\n",
    "for num in nums:\n",
    "    column1.append(num[0])\n",
    "    column2.append(num[1])\n",
    "    column3.append(num[2])\n",
    "    column4.append(num[3])\n",
    "    column5.append(num[4])"
   ]
  },
  {
   "cell_type": "code",
   "execution_count": 90,
   "id": "906d021c",
   "metadata": {},
   "outputs": [
    {
     "data": {
      "text/plain": [
       "[[1, 192, 48, 206, 37],\n",
       " [2, 147, 90, 312, 21],\n",
       " [3, 186, 12, 121, 38],\n",
       " [4, 114, 21, 408, 39],\n",
       " [5, 267, 13, 382, 29]]"
      ]
     },
     "execution_count": 90,
     "metadata": {},
     "output_type": "execute_result"
    }
   ],
   "source": [
    "nums"
   ]
  },
  {
   "cell_type": "code",
   "execution_count": 101,
   "id": "7cf51890",
   "metadata": {},
   "outputs": [
    {
     "name": "stdout",
     "output_type": "stream",
     "text": [
      "206\n",
      "312\n",
      "186\n",
      "382\n"
     ]
    }
   ],
   "source": [
    "## Create 5x5 integer array\n",
    "nums = [\n",
    "    [1, 192, 48, 206, 37],\n",
    "    [2, 147, 90, 312, 21],\n",
    "    [3, 186, 12, 121, 38],\n",
    "    [4, 114, 21, 408, 39],\n",
    "    [5, 267, 13, 382, 29],\n",
    "    ]\n",
    "\n",
    "## Create lists for each column\n",
    "## Purpose: to allow easy comparison of maximum row value with column values\n",
    "column1 = []\n",
    "column2 = []\n",
    "column3 = []\n",
    "column4 = []\n",
    "column5 = []\n",
    "\n",
    "for num in nums:\n",
    "    column1.append(num[0])\n",
    "    column2.append(num[1])\n",
    "    column3.append(num[2])\n",
    "    column4.append(num[3])\n",
    "    column5.append(num[4])\n",
    "\n",
    "## Find max number in row\n",
    "## Compare against the values in the column to check if its a saddle number\n",
    "for num_ in nums:\n",
    "    saddle_ = max(num_)\n",
    "    saddle_index = num_.index(saddle_)\n",
    "    # print(num_)\n",
    "    # print(saddle_index, saddle_)\n",
    "    if saddle_index == 0:\n",
    "        if True in [(saddle_ < x) for x in column1]:\n",
    "            print(saddle_)\n",
    "    elif saddle_index == 1:\n",
    "        if True in [(saddle_ < x) for x in column2]:\n",
    "            print(saddle_)\n",
    "    elif saddle_index == 2:\n",
    "        if True in [(saddle_ < x) for x in column3]:\n",
    "            print(saddle_)\n",
    "    elif saddle_index == 3:\n",
    "        if True in [(saddle_ < x) for x in column4]:\n",
    "            print(saddle_)\n",
    "    elif saddle_index == 4:\n",
    "        if True in [(saddle_ < x) for x in column5]:\n",
    "            print(saddle_)\n",
    "    else:\n",
    "        print(\"No saddle\")    "
   ]
  },
  {
   "cell_type": "code",
   "execution_count": 97,
   "id": "28baf5d3",
   "metadata": {},
   "outputs": [
    {
     "name": "stdout",
     "output_type": "stream",
     "text": [
      "2\n"
     ]
    }
   ],
   "source": [
    "# [2 <= x for x in [1,2,3,4]]\n",
    "if True in [2 <= x for x in [1,2,3,4]]:\n",
    "    print(2)"
   ]
  }
 ],
 "metadata": {
  "kernelspec": {
   "display_name": "Python 3.11.0 64-bit",
   "language": "python",
   "name": "python3"
  },
  "language_info": {
   "codemirror_mode": {
    "name": "ipython",
    "version": 3
   },
   "file_extension": ".py",
   "mimetype": "text/x-python",
   "name": "python",
   "nbconvert_exporter": "python",
   "pygments_lexer": "ipython3",
   "version": "3.11.0"
  },
  "vscode": {
   "interpreter": {
    "hash": "af810c6721ae61030b73d9de2967bfb7a3088a28e7f243bda7b2d2ca2c498323"
   }
  }
 },
 "nbformat": 4,
 "nbformat_minor": 5
}
