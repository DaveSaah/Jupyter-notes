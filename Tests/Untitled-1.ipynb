{
 "cells": [
  {
   "cell_type": "code",
   "execution_count": 1,
   "metadata": {},
   "outputs": [],
   "source": [
    "grades = [\n",
    "    [17, 9, 2, 14, 0, 0, 25],\n",
    "    [30, 6, 0, 12, 0, 9, 2, 13],\n",
    "    [26, 4, 6, 9, 1, 0, 0, 0],\n",
    "    [25, 7, 22, 16, 5, 6, 3, 14],\n",
    "    [33, 16, 15, 16, 20, 10, 3, 4],\n",
    "    [30, 1, 4, 16, 0, 0, 0, 10],\n",
    "    [41, 11, 4, 16, 10, 0, 0, 16],\n",
    "    [30, 9, 20, 16, 2, 9, 0, 0],\n",
    "    [34, 11, 22, 16, 15, 9, 16, 25],\n",
    "    [38, 14, 21, 16, 5, 10, 4, 17],\n",
    "    [22, 10, 16, 16, 6, 10, 2, 20],\n",
    "    [37, 13, 16, 12, 9, 10, 0, 18],\n",
    "    [32, 0, 23, 13, 6, 9, 0, 12],\n",
    "    [28, 6, 23, 16, 12, 9, 0, 20],\n",
    "    [39, 12, 15, 14, 10, 10, 0, 6],\n",
    "    [31, 8, 16, 9, 7, 6, 3, 5],\n",
    "    [15, 0, 23, 16, 0, 0, 15], \n",
    "    [43, 16, 35, 16, 18, 9, 7, 21], \n",
    "    [33, 10, 20, 5, 5, 10, 0, 9], \n",
    "    [39, 15, 17, 16, 9, 10, 6, 5], \n",
    "    [43, 10, 13, 9, 14, 10, 0, 4], \n",
    "    [25, 4, 17, 16, 0, 9, 0, 5], \n",
    "    [37, 7, 16, 16, 6, 9, 3, 0], \n",
    "    [32, 8, 19, 6, 5, 9, 0, 14], \n",
    "    [23, 6, 4, 12, 4, 7, 3, 6], \n",
    "    [32, 14, 1, 16, 0, 9, 0, 22]\n",
    "    ]"
   ]
  },
  {
   "cell_type": "code",
   "execution_count": 2,
   "metadata": {},
   "outputs": [],
   "source": [
    "# get average for odd numbered quizzes"
   ]
  },
  {
   "cell_type": "code",
   "execution_count": 24,
   "metadata": {},
   "outputs": [
    {
     "name": "stdout",
     "output_type": "stream",
     "text": [
      "The average scores for the odd quizzes are: 31.35 , 15.0 , 6.5 , 3.54\n"
     ]
    }
   ],
   "source": [
    "total_q1 = []\n",
    "total_q3 = []\n",
    "total_q5 = []\n",
    "total_q7 = []\n",
    "\n",
    "for x in grades:\n",
    "    total_q1.append(x[0])\n",
    "    total_q3.append(x[2])\n",
    "    total_q5.append(x[4])\n",
    "    total_q7.append(x[6])\n",
    "\n",
    "average_q1 = round(sum(total_q1) / len(total_q1), 2)\n",
    "average_q3 = round(sum(total_q3) / len(total_q3), 2)\n",
    "average_q5 = round(sum(total_q5) / len(total_q5), 2)\n",
    "average_q7 = round(sum(total_q7) / len(total_q7), 2)\n",
    "\n",
    "print(\"The average scores for the odd quizzes are:\", average_q1, \",\", average_q3, \",\", average_q5, \",\", average_q7)"
   ]
  }
 ],
 "metadata": {
  "kernelspec": {
   "display_name": "Python 3.11.0 64-bit",
   "language": "python",
   "name": "python3"
  },
  "language_info": {
   "codemirror_mode": {
    "name": "ipython",
    "version": 3
   },
   "file_extension": ".py",
   "mimetype": "text/x-python",
   "name": "python",
   "nbconvert_exporter": "python",
   "pygments_lexer": "ipython3",
   "version": "3.11.0"
  },
  "orig_nbformat": 4,
  "vscode": {
   "interpreter": {
    "hash": "af810c6721ae61030b73d9de2967bfb7a3088a28e7f243bda7b2d2ca2c498323"
   }
  }
 },
 "nbformat": 4,
 "nbformat_minor": 2
}
