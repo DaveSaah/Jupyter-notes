{
 "cells": [
  {
   "cell_type": "code",
   "execution_count": 1,
   "metadata": {},
   "outputs": [
    {
     "name": "stdout",
     "output_type": "stream",
     "text": [
      "Hello World\n"
     ]
    }
   ],
   "source": [
    "print('Hello World')"
   ]
  },
  {
   "cell_type": "code",
   "execution_count": 1,
   "metadata": {},
   "outputs": [
    {
     "name": "stdout",
     "output_type": "stream",
     "text": [
      "The Zen of Python, by Tim Peters\n",
      "\n",
      "Beautiful is better than ugly.\n",
      "Explicit is better than implicit.\n",
      "Simple is better than complex.\n",
      "Complex is better than complicated.\n",
      "Flat is better than nested.\n",
      "Sparse is better than dense.\n",
      "Readability counts.\n",
      "Special cases aren't special enough to break the rules.\n",
      "Although practicality beats purity.\n",
      "Errors should never pass silently.\n",
      "Unless explicitly silenced.\n",
      "In the face of ambiguity, refuse the temptation to guess.\n",
      "There should be one-- and preferably only one --obvious way to do it.\n",
      "Although that way may not be obvious at first unless you're Dutch.\n",
      "Now is better than never.\n",
      "Although never is often better than *right* now.\n",
      "If the implementation is hard to explain, it's a bad idea.\n",
      "If the implementation is easy to explain, it may be a good idea.\n",
      "Namespaces are one honking great idea -- let's do more of those!\n"
     ]
    }
   ],
   "source": [
    "import this"
   ]
  },
  {
   "cell_type": "code",
   "execution_count": 2,
   "metadata": {},
   "outputs": [
    {
     "name": "stdout",
     "output_type": "stream",
     "text": [
      "Enter a number:  67\n",
      "The answer is  36471110918188685288249859096605464427167635314049524593701628500267962436943872000000000000000\n",
      "0.0092\n"
     ]
    }
   ],
   "source": [
    "import time\n",
    "\n",
    "a = int(input(\"Enter a number:  \"))\n",
    "\n",
    "if a < 0:\n",
    "    raise ValueError(\"There is no value for negative numbers\")\n",
    "\n",
    "s = 1\n",
    "\n",
    "for x in range (1, a+1):\n",
    "    if a == 1 | a == 0:\n",
    "        print(\"The answer is \", 1)\n",
    "    s =  x * s\n",
    "\n",
    "\n",
    "toc = time.perf_counter()\n",
    "\n",
    "\n",
    "print (\"The answer is \", s)\n",
    "tic = time.perf_counter()\n",
    "\n",
    "print(f'{tic-toc:0.4f}')"
   ]
  },
  {
   "cell_type": "code",
   "execution_count": null,
   "metadata": {},
   "outputs": [],
   "source": [
    "import time\n",
    "\n",
    "def fact(x):\n",
    "    if x == 1:\n",
    "        return x\n",
    "    else:\n",
    "        return x * fact(x-1)\n",
    "\n",
    "toc = time.perf_counter()\n",
    "print(fact(3000))\n",
    "tic = time.perf_counter()\n",
    "\n",
    "print(f'{tic-toc:0.4f}')"
   ]
  },
  {
   "cell_type": "code",
   "execution_count": null,
   "metadata": {},
   "outputs": [],
   "source": [
    "a = (3,2,4,5,6,7)\n",
    "b = iter(a)\n",
    "for i in b:\n",
    "    print(i)"
   ]
  },
  {
   "cell_type": "code",
   "execution_count": 3,
   "metadata": {},
   "outputs": [],
   "source": [
    "from itertools import *"
   ]
  },
  {
   "cell_type": "code",
   "execution_count": 4,
   "metadata": {},
   "outputs": [],
   "source": [
    "from operator import *"
   ]
  },
  {
   "cell_type": "code",
   "execution_count": 1,
   "metadata": {},
   "outputs": [
    {
     "name": "stdout",
     "output_type": "stream",
     "text": [
      "0\n",
      "1\n",
      "2\n",
      "3\n",
      "4\n",
      "5\n",
      "6\n",
      "7\n",
      "8\n",
      "9\n",
      "10\n",
      "11\n",
      "12\n",
      "13\n",
      "14\n",
      "15\n",
      "16\n",
      "17\n",
      "18\n",
      "19\n",
      "20\n",
      "21\n",
      "22\n",
      "23\n",
      "24\n",
      "25\n",
      "26\n",
      "27\n",
      "28\n",
      "29\n",
      "30\n",
      "31\n",
      "32\n",
      "33\n",
      "34\n",
      "35\n",
      "36\n",
      "37\n",
      "38\n",
      "39\n",
      "40\n",
      "41\n",
      "42\n",
      "43\n",
      "44\n",
      "45\n",
      "46\n",
      "47\n",
      "48\n",
      "49\n"
     ]
    }
   ],
   "source": [
    "for x in range(50):\n",
    "    print(x)"
   ]
  },
  {
   "cell_type": "code",
   "execution_count": 7,
   "metadata": {},
   "outputs": [
    {
     "name": "stdout",
     "output_type": "stream",
     "text": [
      "Sat\n",
      "pat\n"
     ]
    }
   ],
   "source": [
    "import re\n",
    "sr = 'Sat hat mat pat'\n",
    "pair = re.findall(\"[^h-m]at\", sr)\n",
    "for x in pair:\n",
    "    print(x)"
   ]
  },
  {
   "cell_type": "code",
   "execution_count": 8,
   "metadata": {},
   "outputs": [
    {
     "name": "stdout",
     "output_type": "stream",
     "text": [
      "15\n"
     ]
    }
   ],
   "source": [
    "from functools import reduce\n",
    "c = reduce(lambda x,y: (x+y), (1,2,3,4,5))\n",
    "print(c)"
   ]
  },
  {
   "cell_type": "code",
   "execution_count": 9,
   "metadata": {},
   "outputs": [
    {
     "name": "stdout",
     "output_type": "stream",
     "text": [
      "[4, 3, 5, 9, 8]\n"
     ]
    }
   ],
   "source": [
    "x = list(filter(lambda x: (x>2), (2,4,3,5,9,8)))\n",
    "print(x)"
   ]
  },
  {
   "cell_type": "code",
   "execution_count": 1,
   "metadata": {},
   "outputs": [
    {
     "name": "stdout",
     "output_type": "stream",
     "text": [
      "Populating the interactive namespace from numpy and matplotlib\n"
     ]
    },
    {
     "data": {
      "image/png": "[encoded data removed]",
      "text/plain": [
       "<Figure size 306x252.783 with 1 Axes>"
      ]
     },
     "metadata": {},
     "output_type": "display_data"
    }
   ],
   "source": [
    "%matplotlib inline\n",
    "import numpy as np\n",
    "import matplotlib.pyplot as plt\n",
    "import matplotlib.patches as mpatches\n",
    "from matplotlib.collections import PatchCollection\n",
    "%pylab inline\n",
    "\n",
    "\n",
    "fig = plt.figure(figsize=(4.25, 4.25 * 95/115))\n",
    "ax = fig.add_axes([0,0,1,1], frameon=False, aspect=1,\n",
    "                  xlim=(0-5,100+10), ylim=(-10,80+5), xticks=[], yticks=[])\n",
    "\n",
    "\n",
    "box = mpatches.FancyBboxPatch(\n",
    "    (0,0), 100, 83,  mpatches.BoxStyle(\"Round\", pad=0, rounding_size=2),\n",
    "    linewidth=1., facecolor=\"0.9\", edgecolor=\"black\")\n",
    "ax.add_artist(box)\n",
    "\n",
    "box = mpatches.FancyBboxPatch(\n",
    "    (0,0), 100, 75, mpatches.BoxStyle(\"Round\", pad=0, rounding_size=0),\n",
    "    linewidth=1., facecolor=\"white\", edgecolor=\"black\")\n",
    "ax.add_artist(box)\n",
    "\n",
    "\n",
    "box = mpatches.Rectangle(\n",
    "    (5,5), 45, 30, zorder=10,\n",
    "    linewidth=1.0, facecolor=\"white\", edgecolor=\"black\")\n",
    "ax.add_artist(box)\n",
    "\n",
    "box = mpatches.Rectangle(\n",
    "    (5,40), 45, 30, zorder=10,\n",
    "    linewidth=1.0, facecolor=\"white\", edgecolor=\"black\")\n",
    "ax.add_artist(box)\n",
    "\n",
    "box = mpatches.Rectangle(\n",
    "    (55,5), 40, 65, zorder=10,\n",
    "    linewidth=1.0, facecolor=\"white\", edgecolor=\"black\")\n",
    "ax.add_artist(box)\n",
    "\n",
    "# Window button\n",
    "X, Y = [5,10,15], [79,79,79]\n",
    "plt.scatter(X, Y, s=75,  zorder=10,\n",
    "            edgecolor=\"black\", facecolor=\"white\", linewidth=1)\n",
    "\n",
    "\n",
    "# Window size extension\n",
    "X, Y = [0, 0], [0, -8]\n",
    "plt.plot(X, Y, color=\"black\", linestyle=\":\", linewidth=1, clip_on=False)\n",
    "\n",
    "X, Y = [100, 100], [0, -8]\n",
    "plt.plot(X, Y, color=\"black\", linestyle=\":\", linewidth=1, clip_on=False)\n",
    "\n",
    "X, Y = [100, 108], [0, 0]\n",
    "plt.plot(X, Y, color=\"black\", linestyle=\":\", linewidth=1, clip_on=False)\n",
    "\n",
    "X, Y = [100, 108], [75, 75]\n",
    "plt.plot(X, Y, color=\"black\", linestyle=\":\", linewidth=1, clip_on=False)\n",
    "\n",
    "\n",
    "def ext_arrow(p0,p1,p2,p3):\n",
    "    p0, p1 = np.asarray(p0), np.asarray(p1)\n",
    "    p2, p3 = np.asarray(p2), np.asarray(p3)\n",
    "    ax.arrow(*p0, *(p1-p0), zorder=20, linewidth=0,\n",
    "             length_includes_head=True, width=.4, \n",
    "             head_width=2, head_length=2, color=\"black\")\n",
    "    ax.arrow(*p3, *(p2-p3), zorder=20, linewidth=0,\n",
    "             length_includes_head=True, width=.4,\n",
    "             head_width=2, head_length=2, color=\"black\")\n",
    "    plt.plot([p1[0],p2[0]], [p1[1],p2[1]], linewidth=.9, color=\"black\")\n",
    "\n",
    "def int_arrow(p0,p1):\n",
    "    p0, p1 = np.asarray(p0), np.asarray(p1)\n",
    "    ax.arrow(*((p0+p1)/2), *((p1-p0)/2), zorder=20, linewidth=0,\n",
    "             length_includes_head=True, width=.4, \n",
    "             head_width=2, head_length=2, color=\"black\")\n",
    "    ax.arrow(*((p0+p1)/2), *(-(p1-p0)/2), zorder=20, linewidth=0,\n",
    "             length_includes_head=True, width=.4, \n",
    "             head_width=2, head_length=2, color=\"black\")\n",
    "\n",
    "    \n",
    "\n",
    "x = 0\n",
    "y = 10\n",
    "ext_arrow( (x-4,y), (x,y), (x+5,y), (x+9,y) )\n",
    "ax.text(x+9.5, y, \"left\", ha=\"left\", va=\"center\", size=\"x-small\", zorder=20)\n",
    "\n",
    "x += 50\n",
    "ext_arrow( (x-4,y), (x,y), (x+5,y), (x+9,y) )\n",
    "ax.text(x-4.5, y, \"wspace\", ha=\"right\", va=\"center\", size=\"x-small\", zorder=20)\n",
    "\n",
    "x += 45\n",
    "ext_arrow( (x-4,y), (x,y), (x+5,y), (x+9,y) )\n",
    "ax.text(x-4.5, y, \"right\", ha=\"right\", va=\"center\", size=\"x-small\", zorder=20)\n",
    "\n",
    "y = 0\n",
    "x = 25\n",
    "ext_arrow( (x,y-4), (x,y), (x,y+5), (x,y+9) )\n",
    "ax.text(x, y+9.5, \"bottom\", ha=\"center\", va=\"bottom\", size=\"x-small\", zorder=20)\n",
    "\n",
    "y += 35\n",
    "ext_arrow( (x,y-4), (x,y), (x,y+5), (x,y+9) )\n",
    "ax.text(x, y-4.5, \"hspace\", ha=\"center\", va=\"top\", size=\"x-small\", zorder=20)\n",
    "\n",
    "y += 35\n",
    "ext_arrow( (x,y-4), (x,y), (x,y+5), (x,y+9) )\n",
    "ax.text(x, y-4.5, \"top\", ha=\"center\", va=\"top\", size=\"x-small\", zorder=20)\n",
    "\n",
    "int_arrow((0,-5), (100,-5))\n",
    "ax.text(50, -5, \"figure width\", backgroundcolor=\"white\", zorder=30,\n",
    "        ha=\"center\", va=\"center\", size=\"x-small\")\n",
    "\n",
    "int_arrow((105,0), (105,75))\n",
    "ax.text(105, 75/2, \"figure height\", backgroundcolor=\"white\", zorder=30,\n",
    "        rotation = \"vertical\", ha=\"center\", va=\"center\", size=\"x-small\")\n",
    "\n",
    "int_arrow((55,62.5), (95,62.5))\n",
    "ax.text(75, 62.5, \"axes width\", backgroundcolor=\"white\", zorder=30,\n",
    "        ha=\"center\", va=\"center\", size=\"x-small\")\n",
    "\n",
    "int_arrow((62.5,5), (62.5,70))\n",
    "ax.text(62.5, 35, \"axes height\", backgroundcolor=\"white\", zorder=30,\n",
    "        rotation = \"vertical\", ha=\"center\", va=\"center\", size=\"x-small\")\n",
    "\n",
    "\n",
    "plt.show()"
   ]
  },
  {
   "cell_type": "code",
   "execution_count": 4,
   "metadata": {},
   "outputs": [
    {
     "name": "stdout",
     "output_type": "stream",
     "text": [
      "Populating the interactive namespace from numpy and matplotlib\n"
     ]
    },
    {
     "data": {
      "image/png": "[encoded data removed]",
      "text/plain": [
       "<Figure size 576x576 with 1 Axes>"
      ]
     },
     "metadata": {
      "needs_background": "light"
     },
     "output_type": "display_data"
    }
   ],
   "source": [
    "%matplotlib inline\n",
    "import numpy as np\n",
    "import matplotlib.pyplot as plt\n",
    "from matplotlib.ticker import AutoMinorLocator, MultipleLocator, FuncFormatter\n",
    "%pylab inline\n",
    "\n",
    "np.random.seed(123)\n",
    "\n",
    "X = np.linspace(0.5, 3.5, 100)\n",
    "Y1 = 3+np.cos(X)\n",
    "Y2 = 1+np.cos(1+X/0.75)/2\n",
    "Y3 = np.random.uniform(Y1, Y2, len(X))\n",
    "\n",
    "fig = plt.figure(figsize=(8, 8))\n",
    "ax = fig.add_subplot(1, 1, 1, aspect=1)\n",
    "\n",
    "\n",
    "def minor_tick(x, pos):\n",
    "    if not x % 1.0:\n",
    "        return \"\"\n",
    "    return \"%.2f\" % x\n",
    "\n",
    "ax.xaxis.set_major_locator(MultipleLocator(1.000))\n",
    "ax.xaxis.set_minor_locator(AutoMinorLocator(4))\n",
    "ax.yaxis.set_major_locator(MultipleLocator(1.000))\n",
    "ax.yaxis.set_minor_locator(AutoMinorLocator(4))\n",
    "ax.xaxis.set_minor_formatter(FuncFormatter(minor_tick))\n",
    "\n",
    "ax.set_xlim(0, 4)\n",
    "ax.set_ylim(0, 4)\n",
    "\n",
    "ax.tick_params(which='major', width=1.0)\n",
    "ax.tick_params(which='major', length=10)\n",
    "ax.tick_params(which='minor', width=1.0, labelsize=10)\n",
    "ax.tick_params(which='minor', length=5, labelsize=10, labelcolor='0.25')\n",
    "\n",
    "ax.grid(linestyle=\"--\", linewidth=0.5, color='.25', zorder=-10)\n",
    "\n",
    "ax.plot(X, Y1, c=(0.25, 0.25, 1.00), lw=2, label=\"Blue signal\", zorder=10)\n",
    "ax.plot(X, Y2, c=(1.00, 0.25, 0.25), lw=2, label=\"Red signal\")\n",
    "ax.plot(X, Y3, linewidth=0,\n",
    "        marker='o', markerfacecolor='w', markeredgecolor='k')\n",
    "\n",
    "ax.set_title(\"Anatomy of a figure\", fontsize=20, verticalalignment='bottom')\n",
    "ax.set_xlabel(\"X axis label\")\n",
    "ax.set_ylabel(\"Y axis label\")\n",
    "\n",
    "ax.legend()\n",
    "\n",
    "\n",
    "def circle(x, y, radius=0.15):\n",
    "    from matplotlib.patches import Circle\n",
    "    from matplotlib.patheffects import withStroke\n",
    "    \n",
    "    circle = Circle((x, y), radius, clip_on=False, zorder=10, linewidth=1,\n",
    "                    edgecolor='black', facecolor=(0, 0, 0, .0125),\n",
    "                    path_effects=[withStroke(linewidth=5, foreground='w')])\n",
    "    ax.add_artist(circle)\n",
    "\n",
    "\n",
    "def text(x, y, text):\n",
    "    ax.text(x, y, text, backgroundcolor=\"white\",\n",
    "            # fontname=\"Yanone Kaffeesatz\", fontsize=\"large\",\n",
    "            ha='center', va='top', weight=\"regular\", color='#000099')\n",
    "\n",
    "\n",
    "# Minor tick\n",
    "circle(0.50, -0.10)\n",
    "text(0.50, -0.32, \"Minor tick label\")\n",
    "\n",
    "# Major tick\n",
    "circle(-0.03, 4.00)\n",
    "text(0.03, 3.80, \"Major tick\")\n",
    "\n",
    "# Minor tick\n",
    "circle(0.00, 3.50)\n",
    "text(0.00, 3.30, \"Minor tick\")\n",
    "\n",
    "# Major tick label\n",
    "circle(-0.15, 3.00)\n",
    "text(-0.15, 2.80, \"Major tick label\")\n",
    "\n",
    "# X Label\n",
    "circle(1.80, -0.27)\n",
    "text(1.80, -0.45, \"X axis label\")\n",
    "\n",
    "# Y Label\n",
    "circle(-0.27, 1.80)\n",
    "text(-0.27, 1.6, \"Y axis label\")\n",
    "\n",
    "# Title\n",
    "circle(1.60, 4.13)\n",
    "text(1.60, 3.93, \"Title\")\n",
    "\n",
    "# Blue plot\n",
    "circle(1.75, 2.80)\n",
    "text(1.75, 2.60, \"Line\\n(line plot)\")\n",
    "\n",
    "# Red plot\n",
    "circle(1.20, 0.60)\n",
    "text(1.20, 0.40, \"Line\\n(line plot)\")\n",
    "\n",
    "# Scatter plot\n",
    "circle(3.20, 1.75)\n",
    "text(3.20, 1.55, \"Markers\\n(scatter plot)\")\n",
    "\n",
    "# Grid\n",
    "circle(3.00, 3.00)\n",
    "text(3.00, 2.80, \"Grid\")\n",
    "\n",
    "# Legend\n",
    "circle(3.70, 3.80)\n",
    "text(3.70, 3.60, \"Legend\")\n",
    "\n",
    "# Axes\n",
    "circle(0.5, 0.5)\n",
    "text(0.5, 0.3, \"Axes\")\n",
    "\n",
    "# Figure\n",
    "circle(-0.3, 0.65)\n",
    "text(-0.3, 0.45, \"Figure\")\n",
    "\n",
    "color = '#000099'\n",
    "ax.annotate('Spines', xy=(4.0, 0.35), xytext=(3.3, 0.5), color=color,\n",
    "            weight='regular', # fontsize=\"large\", fontname=\"Yanone Kaffeesatz\",\n",
    "            arrowprops=dict(arrowstyle='->',\n",
    "                            connectionstyle=\"arc3\",\n",
    "                            color=color))\n",
    "\n",
    "ax.annotate('', xy=(3.15, 0.0), xytext=(3.45, 0.45), color=color,\n",
    "            weight='regular', # fontsize=\"large\", fontname=\"Yanone Kaffeesatz\",\n",
    "            arrowprops=dict(arrowstyle='->',\n",
    "                            connectionstyle=\"arc3\",\n",
    "                            color=color))\n",
    "\n",
    "plt.show()"
   ]
  },
  {
   "cell_type": "code",
   "execution_count": 14,
   "metadata": {},
   "outputs": [
    {
     "name": "stdout",
     "output_type": "stream",
     "text": [
      "0\n",
      "1\n",
      "2\n",
      "3\n",
      "4\n",
      "5\n",
      "6\n",
      "7\n",
      "8\n",
      "9\n"
     ]
    }
   ],
   "source": [
    "for x in range(10):\n",
    "    print(x)"
   ]
  },
  {
   "cell_type": "code",
   "execution_count": 36,
   "metadata": {},
   "outputs": [
    {
     "data": {
      "text/plain": [
       "'TGACT'"
      ]
     },
     "execution_count": 36,
     "metadata": {},
     "output_type": "execute_result"
    }
   ],
   "source": [
    "dna = 'ACTGA'\n",
    "\n",
    "def DNA_strand(dna):\n",
    "    complement = \"\"\n",
    "    ef = []\n",
    "    \n",
    "    for x in dna:\n",
    "        ef.append(x)\n",
    "    \n",
    "    for a in range(len(ef)):\n",
    "        if ef[a] == \"A\":\n",
    "            ef[a] = \"T\"\n",
    "        elif ef[a] == \"T\":\n",
    "            ef[a] = \"A\"\n",
    "        elif ef[a] == \"G\":\n",
    "            ef[a] = \"C\"\n",
    "        elif ef[a] == \"C\":\n",
    "            ef[a] = \"G\"\n",
    "    \n",
    "    for y in ef:\n",
    "        complement += y\n",
    "        \n",
    "    return complement\n",
    "\n",
    "    \n",
    "DNA_strand(dna)"
   ]
  },
  {
   "cell_type": "code",
   "execution_count": 22,
   "metadata": {},
   "outputs": [
    {
     "name": "stdout",
     "output_type": "stream",
     "text": [
      "['A', 'A', 'A', 'A', 'A']\n"
     ]
    }
   ],
   "source": [
    "a = 'AAAAA'\n",
    "\n",
    "ef = []\n",
    "for x in a:\n",
    "    ef.append(x)\n",
    "print(ef)"
   ]
  },
  {
   "cell_type": "code",
   "execution_count": 38,
   "metadata": {},
   "outputs": [
    {
     "data": {
      "text/plain": [
       "'TGACT'"
      ]
     },
     "execution_count": 38,
     "metadata": {},
     "output_type": "execute_result"
    }
   ],
   "source": [
    "dna = 'ACTGA'\n",
    "\n",
    "def DNA_strand(dna):\n",
    "    return dna.translate(str.maketrans(\"ATCG\",\"TAGC\"))\n",
    "\n",
    "DNA_strand(dna)"
   ]
  },
  {
   "cell_type": "code",
   "execution_count": 1,
   "metadata": {},
   "outputs": [
    {
     "name": "stdout",
     "output_type": "stream",
     "text": [
      "3.141592653589793\n"
     ]
    }
   ],
   "source": [
    "import math\n",
    "print(math.pi)"
   ]
  },
  {
   "cell_type": "markdown",
   "metadata": {},
   "source": [
    "## Algorithms\n",
    "-------------------\n",
    "An algorithm is a sequence of steps followed to solve a problem.<br/>\n",
    "Algorithms can be grouped under three classes:<br/>\n",
    "\n",
    "1. **Divide & Conquer:** Divides the problem into sub-parts and solves each one separately. \n",
    "\n",
    "2. **Dynamic Programming:** Divides the problem into sub-parts, remembers the results of the sub-parts and applies it to similar ones. \n",
    "\n",
    "3. **Greedy Algorithms:** Involves taking the easiest step while solving a problem without worrying about the complexity of the future steps. <br/>\n",
    "--------------\n",
    "This repository features sorting algorithms: Merge Sort, Selection Sort, Bubble Sort and Insertion Sort."
   ]
  },
  {
   "cell_type": "code",
   "execution_count": 1,
   "metadata": {},
   "outputs": [
    {
     "name": "stdout",
     "output_type": "stream",
     "text": [
      "Hello World\n",
      "My app works\n"
     ]
    }
   ],
   "source": [
    "print('Hello World\\nMy app works')"
   ]
  },
  {
   "cell_type": "code",
   "execution_count": 3,
   "metadata": {},
   "outputs": [
    {
     "name": "stdout",
     "output_type": "stream",
     "text": [
      "Enter the length of the sequence: 6\n",
      "1\n",
      "1\n",
      "2\n",
      "3\n",
      "5\n",
      "8\n"
     ]
    }
   ],
   "source": [
    "\"\"\"Returns the first n Fibonacci numbers\"\"\"\n",
    "\n",
    "__author__ = 'David Saah <dasorange.hope@gmail.com>'\n",
    "__copyright__ = 'Copyright (c) 2020'\n",
    "\n",
    "x = 1\n",
    "y = 0\n",
    "n = int(input (\"Enter the length of the sequence: \"))\n",
    "for i in range(n):\n",
    "    y = x + y\n",
    "    print(y)\n",
    "    x = y - x"
   ]
  }
 ],
 "metadata": {
  "kernelspec": {
   "display_name": "Python 3 (ipykernel)",
   "language": "python",
   "name": "python3"
  },
  "language_info": {
   "codemirror_mode": {
    "name": "ipython",
    "version": 3
   },
   "file_extension": ".py",
   "mimetype": "text/x-python",
   "name": "python",
   "nbconvert_exporter": "python",
   "pygments_lexer": "ipython3",
   "version": "3.8.12"
  }
 },
 "nbformat": 4,
 "nbformat_minor": 4
}
