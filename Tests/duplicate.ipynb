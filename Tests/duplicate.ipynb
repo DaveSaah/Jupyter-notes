{
 "cells": [
  {
   "cell_type": "code",
   "execution_count": 11,
   "id": "9a0fb7a2",
   "metadata": {},
   "outputs": [],
   "source": [
    "points = [(1, 3), (7, 7), (1, 3), (7, 8), (7, 7), (7, 8), (4, 2), (7, 8), (7, 8), (4, 2), (4, 2)]"
   ]
  },
  {
   "cell_type": "code",
   "execution_count": 3,
   "id": "42de41cc",
   "metadata": {},
   "outputs": [
    {
     "data": {
      "text/plain": [
       "True"
      ]
     },
     "execution_count": 3,
     "metadata": {},
     "output_type": "execute_result"
    }
   ],
   "source": [
    "points[0] == points[2]"
   ]
  },
  {
   "cell_type": "code",
   "execution_count": 12,
   "id": "03d39e49",
   "metadata": {},
   "outputs": [],
   "source": [
    "new_points = []\n",
    "new_points.append(points[0])"
   ]
  },
  {
   "cell_type": "code",
   "execution_count": 13,
   "id": "544c656b",
   "metadata": {},
   "outputs": [],
   "source": [
    "for x in range(1, len(points)):\n",
    "    if points[x] in new_points:\n",
    "        pass\n",
    "    else:\n",
    "        new_points.append(points[x])"
   ]
  },
  {
   "cell_type": "code",
   "execution_count": 14,
   "id": "2ef4c3cc",
   "metadata": {},
   "outputs": [
    {
     "name": "stdout",
     "output_type": "stream",
     "text": [
      "[(1, 3), (7, 7), (1, 3), (7, 8), (7, 7), (7, 8), (4, 2), (7, 8), (7, 8), (4, 2), (4, 2)]\n",
      "[(1, 3), (7, 7), (7, 8), (4, 2)]\n"
     ]
    }
   ],
   "source": [
    "print(points)\n",
    "print(new_points)"
   ]
  }
 ],
 "metadata": {
  "kernelspec": {
   "display_name": "Python 3 (ipykernel)",
   "language": "python",
   "name": "python3"
  },
  "language_info": {
   "codemirror_mode": {
    "name": "ipython",
    "version": 3
   },
   "file_extension": ".py",
   "mimetype": "text/x-python",
   "name": "python",
   "nbconvert_exporter": "python",
   "pygments_lexer": "ipython3",
   "version": "3.8.12"
  }
 },
 "nbformat": 4,
 "nbformat_minor": 5
}
