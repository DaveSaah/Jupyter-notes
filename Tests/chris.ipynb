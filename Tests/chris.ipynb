{
 "cells": [
  {
   "cell_type": "code",
   "execution_count": null,
   "id": "d0111b25",
   "metadata": {},
   "outputs": [],
   "source": [
    "a = input(\"Enter a non-negative integer >\")"
   ]
  },
  {
   "cell_type": "code",
   "execution_count": 3,
   "id": "66ff67db",
   "metadata": {},
   "outputs": [
    {
     "name": "stdout",
     "output_type": "stream",
     "text": [
      "some is not a non-integer\n"
     ]
    }
   ],
   "source": [
    "if a.isnumeric():\n",
    "    if a > 0:\n",
    "        print(a, \"* 2 is\", a*2)\n",
    "    elif a < 0:\n",
    "        print(a, \"is not a non-ninteger\")\n",
    "else:\n",
    "    print(a, \"is not a non-integer\")"
   ]
  },
  {
   "cell_type": "code",
   "execution_count": 1,
   "id": "e273151c",
   "metadata": {},
   "outputs": [],
   "source": [
    "import handcalcs.render"
   ]
  },
  {
   "cell_type": "code",
   "execution_count": 3,
   "id": "5f6b16f1",
   "metadata": {},
   "outputs": [
    {
     "data": {
      "text/latex": [
       "\\[\n",
       "\\begin{aligned}\n",
       "a &= 3 \\; \n",
       "\\\\[10pt]\n",
       "c &= 2 \\; \n",
       "\\end{aligned}\n",
       "\\]"
      ],
      "text/plain": [
       "<IPython.core.display.Latex object>"
      ]
     },
     "metadata": {},
     "output_type": "display_data"
    }
   ],
   "source": [
    "%%render\n",
    "\n",
    "a = 3\n",
    "c = 2\n"
   ]
  },
  {
   "cell_type": "code",
   "execution_count": 5,
   "id": "b84591c1",
   "metadata": {},
   "outputs": [],
   "source": [
    "from math import sqrt\n"
   ]
  },
  {
   "cell_type": "code",
   "execution_count": 6,
   "id": "82b441be",
   "metadata": {},
   "outputs": [
    {
     "data": {
      "text/plain": [
       "27"
      ]
     },
     "execution_count": 6,
     "metadata": {},
     "output_type": "execute_result"
    }
   ],
   "source": [
    "3**3"
   ]
  },
  {
   "cell_type": "code",
   "execution_count": 8,
   "id": "faa2f524",
   "metadata": {},
   "outputs": [
    {
     "data": {
      "text/latex": [
       "\\[\n",
       "\\begin{aligned}\n",
       "x &= 27 \\;\n",
       "\\end{aligned}\n",
       "\\]"
      ],
      "text/plain": [
       "<IPython.core.display.Latex object>"
      ]
     },
     "metadata": {},
     "output_type": "display_data"
    }
   ],
   "source": [
    "%%render params\n",
    "x = 3 ** 3"
   ]
  }
 ],
 "metadata": {
  "kernelspec": {
   "display_name": "Python 3 (ipykernel)",
   "language": "python",
   "name": "python3"
  },
  "language_info": {
   "codemirror_mode": {
    "name": "ipython",
    "version": 3
   },
   "file_extension": ".py",
   "mimetype": "text/x-python",
   "name": "python",
   "nbconvert_exporter": "python",
   "pygments_lexer": "ipython3",
   "version": "3.8.10"
  }
 },
 "nbformat": 4,
 "nbformat_minor": 5
}
