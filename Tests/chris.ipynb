{
 "cells": [
  {
   "cell_type": "code",
   "execution_count": null,
   "id": "d0111b25",
   "metadata": {},
   "outputs": [],
   "source": [
    "a = input(\"Enter a non-negative integer >\")"
   ]
  },
  {
   "cell_type": "code",
   "execution_count": 3,
   "id": "66ff67db",
   "metadata": {},
   "outputs": [
    {
     "name": "stdout",
     "output_type": "stream",
     "text": [
      "some is not a non-integer\n"
     ]
    }
   ],
   "source": [
    "if a.isnumeric():\n",
    "    if a > 0:\n",
    "        print(a, \"* 2 is\", a*2)\n",
    "    elif a < 0:\n",
    "        print(a, \"is not a non-ninteger\")\n",
    "else:\n",
    "    print(a, \"is not a non-integer\")"
   ]
  },
  {
   "cell_type": "code",
   "execution_count": null,
   "id": "e273151c",
   "metadata": {},
   "outputs": [],
   "source": []
  }
 ],
 "metadata": {
  "kernelspec": {
   "display_name": "Python 3 (ipykernel)",
   "language": "python",
   "name": "python3"
  },
  "language_info": {
   "codemirror_mode": {
    "name": "ipython",
    "version": 3
   },
   "file_extension": ".py",
   "mimetype": "text/x-python",
   "name": "python",
   "nbconvert_exporter": "python",
   "pygments_lexer": "ipython3",
   "version": "3.8.12"
  }
 },
 "nbformat": 4,
 "nbformat_minor": 5
}
