{
 "cells": [
  {
   "cell_type": "code",
   "execution_count": null,
   "id": "e987c390-fa19-4bfc-a6be-e8b35c3a37c4",
   "metadata": {},
   "outputs": [],
   "source": [
    "from sympy import *"
   ]
  },
  {
   "cell_type": "code",
   "execution_count": null,
   "id": "925197d1-0c63-4e97-9c80-ece87fabc7be",
   "metadata": {},
   "outputs": [],
   "source": [
    "A = Matrix([\n",
    "   [-0.35, 0.3, 0.3, 0.2, 0],\n",
    "   [0.1, -0.9, 0.15, 0.1, 0],\n",
    "   [0.25, 0.35, -0.85, 0.3, 0],\n",
    "   [0, 0.25, 0.4, -0.6, 0]\n",
    "   ])"
   ]
  }
 ],
 "metadata": {
  "kernelspec": {
   "display_name": "Python 3 (ipykernel)",
   "language": "python",
   "name": "python3"
  },
  "language_info": {
   "name": ""
  }
 },
 "nbformat": 4,
 "nbformat_minor": 5
}
