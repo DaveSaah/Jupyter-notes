{
 "cells": [
  {
   "cell_type": "code",
   "execution_count": 2,
   "metadata": {},
   "outputs": [],
   "source": [
    "import sqlite3"
   ]
  },
  {
   "cell_type": "code",
   "execution_count": 6,
   "metadata": {},
   "outputs": [
    {
     "data": {
      "text/plain": [
       "['Binary',\n",
       " 'Connection',\n",
       " 'Cursor',\n",
       " 'DataError',\n",
       " 'DatabaseError',\n",
       " 'Date',\n",
       " 'DateFromTicks',\n",
       " 'Error',\n",
       " 'IntegrityError',\n",
       " 'InterfaceError',\n",
       " 'InternalError',\n",
       " 'NotSupportedError',\n",
       " 'OperationalError',\n",
       " 'OptimizedUnicode',\n",
       " 'PARSE_COLNAMES',\n",
       " 'PARSE_DECLTYPES',\n",
       " 'PrepareProtocol',\n",
       " 'ProgrammingError',\n",
       " 'Row',\n",
       " 'SQLITE_ALTER_TABLE',\n",
       " 'SQLITE_ANALYZE',\n",
       " 'SQLITE_ATTACH',\n",
       " 'SQLITE_CREATE_INDEX',\n",
       " 'SQLITE_CREATE_TABLE',\n",
       " 'SQLITE_CREATE_TEMP_INDEX',\n",
       " 'SQLITE_CREATE_TEMP_TABLE',\n",
       " 'SQLITE_CREATE_TEMP_TRIGGER',\n",
       " 'SQLITE_CREATE_TEMP_VIEW',\n",
       " 'SQLITE_CREATE_TRIGGER',\n",
       " 'SQLITE_CREATE_VIEW',\n",
       " 'SQLITE_CREATE_VTABLE',\n",
       " 'SQLITE_DELETE',\n",
       " 'SQLITE_DENY',\n",
       " 'SQLITE_DETACH',\n",
       " 'SQLITE_DONE',\n",
       " 'SQLITE_DROP_INDEX',\n",
       " 'SQLITE_DROP_TABLE',\n",
       " 'SQLITE_DROP_TEMP_INDEX',\n",
       " 'SQLITE_DROP_TEMP_TABLE',\n",
       " 'SQLITE_DROP_TEMP_TRIGGER',\n",
       " 'SQLITE_DROP_TEMP_VIEW',\n",
       " 'SQLITE_DROP_TRIGGER',\n",
       " 'SQLITE_DROP_VIEW',\n",
       " 'SQLITE_DROP_VTABLE',\n",
       " 'SQLITE_FUNCTION',\n",
       " 'SQLITE_IGNORE',\n",
       " 'SQLITE_INSERT',\n",
       " 'SQLITE_OK',\n",
       " 'SQLITE_PRAGMA',\n",
       " 'SQLITE_READ',\n",
       " 'SQLITE_RECURSIVE',\n",
       " 'SQLITE_REINDEX',\n",
       " 'SQLITE_SAVEPOINT',\n",
       " 'SQLITE_SELECT',\n",
       " 'SQLITE_TRANSACTION',\n",
       " 'SQLITE_UPDATE',\n",
       " 'Time',\n",
       " 'TimeFromTicks',\n",
       " 'Timestamp',\n",
       " 'TimestampFromTicks',\n",
       " 'Warning',\n",
       " '__builtins__',\n",
       " '__cached__',\n",
       " '__doc__',\n",
       " '__file__',\n",
       " '__loader__',\n",
       " '__name__',\n",
       " '__package__',\n",
       " '__path__',\n",
       " '__spec__',\n",
       " 'adapt',\n",
       " 'adapters',\n",
       " 'apilevel',\n",
       " 'collections',\n",
       " 'complete_statement',\n",
       " 'connect',\n",
       " 'converters',\n",
       " 'datetime',\n",
       " 'dbapi2',\n",
       " 'enable_callback_tracebacks',\n",
       " 'enable_shared_cache',\n",
       " 'paramstyle',\n",
       " 'register_adapter',\n",
       " 'register_converter',\n",
       " 'sqlite_version',\n",
       " 'sqlite_version_info',\n",
       " 'threadsafety',\n",
       " 'time',\n",
       " 'version',\n",
       " 'version_info']"
      ]
     },
     "execution_count": 6,
     "metadata": {},
     "output_type": "execute_result"
    }
   ],
   "source": [
    "dir(sqlite3)"
   ]
  },
  {
   "cell_type": "code",
   "execution_count": null,
   "metadata": {},
   "outputs": [],
   "source": []
  }
 ],
 "metadata": {
  "kernelspec": {
   "display_name": "Python 3",
   "language": "python",
   "name": "python3"
  },
  "language_info": {
   "codemirror_mode": {
    "name": "ipython",
    "version": 3
   },
   "file_extension": ".py",
   "mimetype": "text/x-python",
   "name": "python",
   "nbconvert_exporter": "python",
   "pygments_lexer": "ipython3",
   "version": "3.8.3"
  }
 },
 "nbformat": 4,
 "nbformat_minor": 4
}
